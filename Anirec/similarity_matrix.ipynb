{
 "cells": [
  {
   "cell_type": "markdown",
   "metadata": {},
   "source": [
    "importing required libraries"
   ]
  },
  {
   "cell_type": "code",
   "execution_count": 1,
   "metadata": {},
   "outputs": [],
   "source": [
    "import re\n",
    "import ast\n",
    "import nltk\n",
    "import pickle\n",
    "import numpy as np\n",
    "import pandas as pd\n",
    "from nltk.corpus import stopwords\n",
    "from nltk.tokenize import word_tokenize\n",
    "from gensim.models import KeyedVectors\n",
    "from sklearn.metrics.pairwise import cosine_similarity"
   ]
  },
  {
   "cell_type": "markdown",
   "metadata": {},
   "source": [
    "pipelining the data for better efficiency of model"
   ]
  },
  {
   "cell_type": "code",
   "execution_count": 2,
   "metadata": {},
   "outputs": [],
   "source": [
    "anidf = pd.read_csv(r\"C:\\Users\\HP\\Desktop\\Anirec\\Anirec\\data\\preprocessed_ani_data.csv\")"
   ]
  },
  {
   "cell_type": "code",
   "execution_count": 3,
   "metadata": {},
   "outputs": [],
   "source": [
    "pd.set_option('display.max_columns', None)\n",
    "display.max_characters = None"
   ]
  },
  {
   "cell_type": "code",
   "execution_count": 4,
   "metadata": {},
   "outputs": [
    {
     "data": {
      "text/html": [
       "<div>\n",
       "<style scoped>\n",
       "    .dataframe tbody tr th:only-of-type {\n",
       "        vertical-align: middle;\n",
       "    }\n",
       "\n",
       "    .dataframe tbody tr th {\n",
       "        vertical-align: top;\n",
       "    }\n",
       "\n",
       "    .dataframe thead th {\n",
       "        text-align: right;\n",
       "    }\n",
       "</style>\n",
       "<table border=\"1\" class=\"dataframe\">\n",
       "  <thead>\n",
       "    <tr style=\"text-align: right;\">\n",
       "      <th></th>\n",
       "      <th>unique_id</th>\n",
       "      <th>name_english</th>\n",
       "      <th>name</th>\n",
       "      <th>score</th>\n",
       "      <th>ranked</th>\n",
       "      <th>popularity</th>\n",
       "      <th>members</th>\n",
       "      <th>synopsis</th>\n",
       "      <th>synonyms</th>\n",
       "      <th>type_of</th>\n",
       "      <th>total_episodes</th>\n",
       "      <th>premiered</th>\n",
       "      <th>studios</th>\n",
       "      <th>genres</th>\n",
       "      <th>demographic</th>\n",
       "      <th>duration_per_ep</th>\n",
       "      <th>rating</th>\n",
       "      <th>scored_by</th>\n",
       "      <th>favorites</th>\n",
       "      <th>aired</th>\n",
       "      <th>source</th>\n",
       "      <th>watching</th>\n",
       "      <th>completed</th>\n",
       "      <th>on_hold</th>\n",
       "      <th>dropped</th>\n",
       "      <th>plan_to_watch</th>\n",
       "      <th>total</th>\n",
       "      <th>scored_10_by</th>\n",
       "      <th>scored_9_by</th>\n",
       "      <th>scored_8_by</th>\n",
       "      <th>scored_7_by</th>\n",
       "      <th>scored_6_by</th>\n",
       "      <th>scored_5_by</th>\n",
       "      <th>scored_4_by</th>\n",
       "      <th>scored_3_by</th>\n",
       "      <th>scored_2_by</th>\n",
       "      <th>scored_1_by</th>\n",
       "    </tr>\n",
       "  </thead>\n",
       "  <tbody>\n",
       "    <tr>\n",
       "      <th>0</th>\n",
       "      <td>0</td>\n",
       "      <td>Tomorrow's Joe 2</td>\n",
       "      <td>Ashita no Joe 2</td>\n",
       "      <td>8.73</td>\n",
       "      <td>50</td>\n",
       "      <td>3041</td>\n",
       "      <td>51773</td>\n",
       "      <td>Yabuki Joe is left downhearted and hopeless af...</td>\n",
       "      <td>Rocky Joe 2</td>\n",
       "      <td>TV</td>\n",
       "      <td>47.0</td>\n",
       "      <td>Fall 1980</td>\n",
       "      <td>Tokyo Movie Shinsha</td>\n",
       "      <td>['Historical', 'Sports', 'Josei', 'Drama', 'Ad...</td>\n",
       "      <td>Shounen</td>\n",
       "      <td>24 min. per ep.</td>\n",
       "      <td>PG-13 - Teens 13 or older</td>\n",
       "      <td>20201.0</td>\n",
       "      <td>2653</td>\n",
       "      <td>Oct 13, 1980 to Aug 31, 1981</td>\n",
       "      <td>Manga</td>\n",
       "      <td>2723</td>\n",
       "      <td>23933</td>\n",
       "      <td>1105</td>\n",
       "      <td>1,205</td>\n",
       "      <td>22807</td>\n",
       "      <td>51773</td>\n",
       "      <td>7721.0</td>\n",
       "      <td>4711.0</td>\n",
       "      <td>3690.0</td>\n",
       "      <td>1797.0</td>\n",
       "      <td>653.0</td>\n",
       "      <td>297.0</td>\n",
       "      <td>120.0</td>\n",
       "      <td>137.0</td>\n",
       "      <td>182.0</td>\n",
       "      <td>893.0</td>\n",
       "    </tr>\n",
       "    <tr>\n",
       "      <th>1</th>\n",
       "      <td>1</td>\n",
       "      <td>Mushi-shi: Next Passage Part 2</td>\n",
       "      <td>Mushishi Zoku Shou 2nd Season</td>\n",
       "      <td>8.73</td>\n",
       "      <td>49</td>\n",
       "      <td>907</td>\n",
       "      <td>265728</td>\n",
       "      <td>Ghostly, primordial beings known as Mushi cont...</td>\n",
       "      <td>Mushishi Zoku Shou 2nd Season</td>\n",
       "      <td>TV</td>\n",
       "      <td>10.0</td>\n",
       "      <td>Fall 2014</td>\n",
       "      <td>Artland</td>\n",
       "      <td>['Supernatural', 'Slice of Life', 'Action', 'A...</td>\n",
       "      <td>Seinen</td>\n",
       "      <td>23 min. per ep.</td>\n",
       "      <td>PG-13 - Teens 13 or older</td>\n",
       "      <td>106197.0</td>\n",
       "      <td>1475</td>\n",
       "      <td>Oct 19, 2014 to Dec 21, 2014</td>\n",
       "      <td>Manga</td>\n",
       "      <td>14438</td>\n",
       "      <td>133486</td>\n",
       "      <td>6536</td>\n",
       "      <td>3,332</td>\n",
       "      <td>107936</td>\n",
       "      <td>265728</td>\n",
       "      <td>30834.0</td>\n",
       "      <td>34334.0</td>\n",
       "      <td>26218.0</td>\n",
       "      <td>9892.0</td>\n",
       "      <td>2672.0</td>\n",
       "      <td>974.0</td>\n",
       "      <td>283.0</td>\n",
       "      <td>134.0</td>\n",
       "      <td>183.0</td>\n",
       "      <td>673.0</td>\n",
       "    </tr>\n",
       "    <tr>\n",
       "      <th>2</th>\n",
       "      <td>2</td>\n",
       "      <td>Kingdom: Season 4</td>\n",
       "      <td>Kingdom 4th Season</td>\n",
       "      <td>8.74</td>\n",
       "      <td>48</td>\n",
       "      <td>2731</td>\n",
       "      <td>63418</td>\n",
       "      <td>Following the conclusion of the large-scale co...</td>\n",
       "      <td>キングダム 第4シリーズ</td>\n",
       "      <td>TV</td>\n",
       "      <td>26.0</td>\n",
       "      <td>Spring 2022</td>\n",
       "      <td>Pierrot</td>\n",
       "      <td>['Historical', 'Sports', 'Action', 'Drama', 'S...</td>\n",
       "      <td>Seinen</td>\n",
       "      <td>24 min. per ep.</td>\n",
       "      <td>R - 17+ (violence &amp; profanity)</td>\n",
       "      <td>26633.0</td>\n",
       "      <td>1043</td>\n",
       "      <td>Apr 10, 2022 to Oct 2, 2022</td>\n",
       "      <td>Manga</td>\n",
       "      <td>8497</td>\n",
       "      <td>29630</td>\n",
       "      <td>1084</td>\n",
       "      <td>688</td>\n",
       "      <td>23519</td>\n",
       "      <td>63418</td>\n",
       "      <td>7524.0</td>\n",
       "      <td>9439.0</td>\n",
       "      <td>6590.0</td>\n",
       "      <td>1916.0</td>\n",
       "      <td>461.0</td>\n",
       "      <td>163.0</td>\n",
       "      <td>68.0</td>\n",
       "      <td>52.0</td>\n",
       "      <td>139.0</td>\n",
       "      <td>281.0</td>\n",
       "    </tr>\n",
       "    <tr>\n",
       "      <th>3</th>\n",
       "      <td>3</td>\n",
       "      <td>Vinland Saga</td>\n",
       "      <td>Vinland Saga</td>\n",
       "      <td>8.75</td>\n",
       "      <td>47</td>\n",
       "      <td>77</td>\n",
       "      <td>1502303</td>\n",
       "      <td>Young Thorfinn grew up listening to the storie...</td>\n",
       "      <td>ヴィンランド・サガ</td>\n",
       "      <td>TV</td>\n",
       "      <td>24.0</td>\n",
       "      <td>Summer 2019</td>\n",
       "      <td>Wit Studio</td>\n",
       "      <td>['Fantasy', 'Historical', 'Adventure', 'Action...</td>\n",
       "      <td>Seinen</td>\n",
       "      <td>24 min. per ep.</td>\n",
       "      <td>R - 17+ (violence &amp; profanity)</td>\n",
       "      <td>863875.0</td>\n",
       "      <td>47017</td>\n",
       "      <td>Jul 8, 2019 to Dec 30, 2019</td>\n",
       "      <td>Manga</td>\n",
       "      <td>137792</td>\n",
       "      <td>1002257</td>\n",
       "      <td>39747</td>\n",
       "      <td>22,421</td>\n",
       "      <td>300086</td>\n",
       "      <td>1502303</td>\n",
       "      <td>228893.0</td>\n",
       "      <td>326376.0</td>\n",
       "      <td>209929.0</td>\n",
       "      <td>67519.0</td>\n",
       "      <td>17475.0</td>\n",
       "      <td>6602.0</td>\n",
       "      <td>2908.0</td>\n",
       "      <td>1321.0</td>\n",
       "      <td>1030.0</td>\n",
       "      <td>1822.0</td>\n",
       "    </tr>\n",
       "    <tr>\n",
       "      <th>4</th>\n",
       "      <td>4</td>\n",
       "      <td>Cowboy Bebop</td>\n",
       "      <td>Cowboy Bebop</td>\n",
       "      <td>8.75</td>\n",
       "      <td>46</td>\n",
       "      <td>43</td>\n",
       "      <td>1857971</td>\n",
       "      <td>Crime is timeless. By the year 2071, humanity ...</td>\n",
       "      <td>カウボーイビバップ</td>\n",
       "      <td>TV</td>\n",
       "      <td>26.0</td>\n",
       "      <td>Spring 1998</td>\n",
       "      <td>Sunrise</td>\n",
       "      <td>['Seinen', 'Action', 'Award Winning', 'Science...</td>\n",
       "      <td>NaN</td>\n",
       "      <td>24 min. per ep.</td>\n",
       "      <td>R - 17+ (violence &amp; profanity)</td>\n",
       "      <td>960699.0</td>\n",
       "      <td>82113</td>\n",
       "      <td>Apr 3, 1998 to Apr 24, 1999</td>\n",
       "      <td>Original</td>\n",
       "      <td>172491</td>\n",
       "      <td>1073071</td>\n",
       "      <td>106423</td>\n",
       "      <td>42,996</td>\n",
       "      <td>462990</td>\n",
       "      <td>1857971</td>\n",
       "      <td>332862.0</td>\n",
       "      <td>271436.0</td>\n",
       "      <td>203324.0</td>\n",
       "      <td>96823.0</td>\n",
       "      <td>32270.0</td>\n",
       "      <td>13593.0</td>\n",
       "      <td>4994.0</td>\n",
       "      <td>1997.0</td>\n",
       "      <td>1120.0</td>\n",
       "      <td>2280.0</td>\n",
       "    </tr>\n",
       "  </tbody>\n",
       "</table>\n",
       "</div>"
      ],
      "text/plain": [
       "   unique_id                    name_english                           name  \\\n",
       "0          0                Tomorrow's Joe 2                Ashita no Joe 2   \n",
       "1          1  Mushi-shi: Next Passage Part 2  Mushishi Zoku Shou 2nd Season   \n",
       "2          2               Kingdom: Season 4             Kingdom 4th Season   \n",
       "3          3                    Vinland Saga                   Vinland Saga   \n",
       "4          4                    Cowboy Bebop                   Cowboy Bebop   \n",
       "\n",
       "   score  ranked  popularity  members  \\\n",
       "0   8.73      50        3041    51773   \n",
       "1   8.73      49         907   265728   \n",
       "2   8.74      48        2731    63418   \n",
       "3   8.75      47          77  1502303   \n",
       "4   8.75      46          43  1857971   \n",
       "\n",
       "                                            synopsis  \\\n",
       "0  Yabuki Joe is left downhearted and hopeless af...   \n",
       "1  Ghostly, primordial beings known as Mushi cont...   \n",
       "2  Following the conclusion of the large-scale co...   \n",
       "3  Young Thorfinn grew up listening to the storie...   \n",
       "4  Crime is timeless. By the year 2071, humanity ...   \n",
       "\n",
       "                        synonyms type_of  total_episodes    premiered  \\\n",
       "0                    Rocky Joe 2      TV            47.0    Fall 1980   \n",
       "1  Mushishi Zoku Shou 2nd Season      TV            10.0    Fall 2014   \n",
       "2                   キングダム 第4シリーズ      TV            26.0  Spring 2022   \n",
       "3                      ヴィンランド・サガ      TV            24.0  Summer 2019   \n",
       "4                      カウボーイビバップ      TV            26.0  Spring 1998   \n",
       "\n",
       "               studios                                             genres  \\\n",
       "0  Tokyo Movie Shinsha  ['Historical', 'Sports', 'Josei', 'Drama', 'Ad...   \n",
       "1              Artland  ['Supernatural', 'Slice of Life', 'Action', 'A...   \n",
       "2              Pierrot  ['Historical', 'Sports', 'Action', 'Drama', 'S...   \n",
       "3           Wit Studio  ['Fantasy', 'Historical', 'Adventure', 'Action...   \n",
       "4              Sunrise  ['Seinen', 'Action', 'Award Winning', 'Science...   \n",
       "\n",
       "  demographic  duration_per_ep                          rating  scored_by  \\\n",
       "0     Shounen  24 min. per ep.       PG-13 - Teens 13 or older    20201.0   \n",
       "1      Seinen  23 min. per ep.       PG-13 - Teens 13 or older   106197.0   \n",
       "2      Seinen  24 min. per ep.  R - 17+ (violence & profanity)    26633.0   \n",
       "3      Seinen  24 min. per ep.  R - 17+ (violence & profanity)   863875.0   \n",
       "4         NaN  24 min. per ep.  R - 17+ (violence & profanity)   960699.0   \n",
       "\n",
       "   favorites                         aired    source  watching  completed  \\\n",
       "0       2653  Oct 13, 1980 to Aug 31, 1981     Manga      2723      23933   \n",
       "1       1475  Oct 19, 2014 to Dec 21, 2014     Manga     14438     133486   \n",
       "2       1043   Apr 10, 2022 to Oct 2, 2022     Manga      8497      29630   \n",
       "3      47017   Jul 8, 2019 to Dec 30, 2019     Manga    137792    1002257   \n",
       "4      82113   Apr 3, 1998 to Apr 24, 1999  Original    172491    1073071   \n",
       "\n",
       "   on_hold dropped  plan_to_watch    total  scored_10_by  scored_9_by  \\\n",
       "0     1105   1,205          22807    51773        7721.0       4711.0   \n",
       "1     6536   3,332         107936   265728       30834.0      34334.0   \n",
       "2     1084     688          23519    63418        7524.0       9439.0   \n",
       "3    39747  22,421         300086  1502303      228893.0     326376.0   \n",
       "4   106423  42,996         462990  1857971      332862.0     271436.0   \n",
       "\n",
       "   scored_8_by  scored_7_by  scored_6_by  scored_5_by  scored_4_by  \\\n",
       "0       3690.0       1797.0        653.0        297.0        120.0   \n",
       "1      26218.0       9892.0       2672.0        974.0        283.0   \n",
       "2       6590.0       1916.0        461.0        163.0         68.0   \n",
       "3     209929.0      67519.0      17475.0       6602.0       2908.0   \n",
       "4     203324.0      96823.0      32270.0      13593.0       4994.0   \n",
       "\n",
       "   scored_3_by  scored_2_by  scored_1_by  \n",
       "0        137.0        182.0        893.0  \n",
       "1        134.0        183.0        673.0  \n",
       "2         52.0        139.0        281.0  \n",
       "3       1321.0       1030.0       1822.0  \n",
       "4       1997.0       1120.0       2280.0  "
      ]
     },
     "execution_count": 4,
     "metadata": {},
     "output_type": "execute_result"
    }
   ],
   "source": [
    "anidf.head()"
   ]
  },
  {
   "cell_type": "code",
   "execution_count": 5,
   "metadata": {},
   "outputs": [],
   "source": [
    "anidf['demographic'] = anidf['demographic'].apply(lambda x: [x])"
   ]
  },
  {
   "cell_type": "code",
   "execution_count": 6,
   "metadata": {},
   "outputs": [
    {
     "name": "stdout",
     "output_type": "stream",
     "text": [
      "<class 'pandas.core.series.Series'>\n",
      "RangeIndex: 14740 entries, 0 to 14739\n",
      "Series name: demographic\n",
      "Non-Null Count  Dtype \n",
      "--------------  ----- \n",
      "14740 non-null  object\n",
      "dtypes: object(1)\n",
      "memory usage: 115.3+ KB\n"
     ]
    }
   ],
   "source": [
    "anidf['demographic'].info()"
   ]
  },
  {
   "cell_type": "code",
   "execution_count": 7,
   "metadata": {},
   "outputs": [
    {
     "data": {
      "text/plain": [
       "str"
      ]
     },
     "execution_count": 7,
     "metadata": {},
     "output_type": "execute_result"
    }
   ],
   "source": [
    "type(anidf['genres'][1])"
   ]
  },
  {
   "cell_type": "code",
   "execution_count": 8,
   "metadata": {},
   "outputs": [
    {
     "data": {
      "text/plain": [
       "\"['Supernatural', 'Slice of Life', 'Action', 'Adventure', 'Mystery']\""
      ]
     },
     "execution_count": 8,
     "metadata": {},
     "output_type": "execute_result"
    }
   ],
   "source": [
    "anidf['genres'][1]"
   ]
  },
  {
   "cell_type": "code",
   "execution_count": 9,
   "metadata": {},
   "outputs": [],
   "source": [
    "def convert_to_listg(x):\n",
    "    try:\n",
    "        return ', '.join(ast.literal_eval(x))\n",
    "    except (ValueError, SyntaxError, TypeError):\n",
    "        return np.nan\n",
    "\n",
    "anidf['genres'] = anidf['genres'].apply(convert_to_listg)"
   ]
  },
  {
   "cell_type": "code",
   "execution_count": 10,
   "metadata": {},
   "outputs": [
    {
     "data": {
      "text/plain": [
       "'Supernatural, Slice of Life, Action, Adventure, Mystery'"
      ]
     },
     "execution_count": 10,
     "metadata": {},
     "output_type": "execute_result"
    }
   ],
   "source": [
    "anidf['genres'][1]"
   ]
  },
  {
   "cell_type": "code",
   "execution_count": 11,
   "metadata": {},
   "outputs": [],
   "source": [
    "def convert_to_list_d(x):\n",
    "    if isinstance(x, list):\n",
    "        return ', '.join(map(str, x))\n",
    "    else:\n",
    "        return ' '\n",
    "    \n",
    "anidf['demographic'] = anidf['demographic'].apply(convert_to_list_d)\n"
   ]
  },
  {
   "cell_type": "code",
   "execution_count": 12,
   "metadata": {},
   "outputs": [
    {
     "data": {
      "text/plain": [
       "0    Shounen\n",
       "1     Seinen\n",
       "2     Seinen\n",
       "3     Seinen\n",
       "4        nan\n",
       "Name: demographic, dtype: object"
      ]
     },
     "execution_count": 12,
     "metadata": {},
     "output_type": "execute_result"
    }
   ],
   "source": [
    "anidf['demographic'].head()"
   ]
  },
  {
   "cell_type": "code",
   "execution_count": 13,
   "metadata": {},
   "outputs": [],
   "source": [
    "anidf['genres'] = anidf['genres'].fillna('')\n",
    "anidf['demographic'] = anidf['demographic'].fillna('')"
   ]
  },
  {
   "cell_type": "code",
   "execution_count": 14,
   "metadata": {},
   "outputs": [],
   "source": [
    "anidf['combined_text'] = anidf['synopsis'] + anidf['genres'] + anidf['demographic'] + '.'"
   ]
  },
  {
   "cell_type": "code",
   "execution_count": 15,
   "metadata": {},
   "outputs": [
    {
     "data": {
      "text/plain": [
       "str"
      ]
     },
     "execution_count": 15,
     "metadata": {},
     "output_type": "execute_result"
    }
   ],
   "source": [
    "type(anidf['combined_text'][1])"
   ]
  },
  {
   "cell_type": "code",
   "execution_count": 16,
   "metadata": {},
   "outputs": [],
   "source": [
    "model = KeyedVectors.load_word2vec_format(r\"C:\\Users\\HP\\Desktop\\Anirec\\Anirec\\data\\word2vec_model.bin\", binary=True)"
   ]
  },
  {
   "cell_type": "code",
   "execution_count": 17,
   "metadata": {},
   "outputs": [],
   "source": [
    "def preprocess_text(text):\n",
    "    # Convert text to lowercase\n",
    "    text = text.lower()\n",
    "    \n",
    "    # Remove numbers\n",
    "    text = re.sub('\\d+', '', text)\n",
    "    \n",
    "    # Remove punctuation\n",
    "    text = re.sub('[^\\w\\s]', '', text)\n",
    "    \n",
    "    # Tokenize the text into words\n",
    "    words = word_tokenize(text)\n",
    "    \n",
    "    # Remove stopwords\n",
    "    words = [word for word in words if word not in stopwords.words('english')]\n",
    "    \n",
    "    return words\n",
    "\n",
    "def text_to_vector(input_text, model):\n",
    "\n",
    "    words_list = preprocess_text(input_text)\n",
    "    vectors = [model[word] for word in words_list if word in model.key_to_index]\n",
    "    \n",
    "    if vectors:\n",
    "        avg_vector = np.mean(vectors, axis=0)\n",
    "    else:\n",
    "        avg_vector = np.zeros(model.vector_size)\n",
    "    \n",
    "    return avg_vector"
   ]
  },
  {
   "cell_type": "code",
   "execution_count": 18,
   "metadata": {},
   "outputs": [],
   "source": [
    "anidf['aniVector'] = anidf['combined_text'].apply(lambda x: text_to_vector(x, model))"
   ]
  },
  {
   "cell_type": "code",
   "execution_count": 19,
   "metadata": {},
   "outputs": [],
   "source": [
    "vectors = np.array(anidf['aniVector'].tolist())"
   ]
  },
  {
   "cell_type": "code",
   "execution_count": 20,
   "metadata": {},
   "outputs": [],
   "source": [
    "similarity_matrix = cosine_similarity(vectors, vectors)"
   ]
  },
  {
   "cell_type": "code",
   "execution_count": 21,
   "metadata": {},
   "outputs": [
    {
     "data": {
      "text/plain": [
       "array([[0.99999994, 0.8652617 , 0.8453286 , ..., 0.5755793 , 0.8746348 ,\n",
       "        0.8827986 ],\n",
       "       [0.8652617 , 0.9999999 , 0.85003555, ..., 0.6029074 , 0.87277126,\n",
       "        0.9086808 ],\n",
       "       [0.8453286 , 0.85003555, 0.9999998 , ..., 0.49591064, 0.73872405,\n",
       "        0.8420339 ],\n",
       "       ...,\n",
       "       [0.5755793 , 0.6029074 , 0.49591064, ..., 1.        , 0.63156366,\n",
       "        0.6284406 ],\n",
       "       [0.8746348 , 0.87277126, 0.73872405, ..., 0.63156366, 0.99999994,\n",
       "        0.8783954 ],\n",
       "       [0.8827986 , 0.9086808 , 0.8420339 , ..., 0.6284406 , 0.8783954 ,\n",
       "        1.0000001 ]], dtype=float32)"
      ]
     },
     "execution_count": 21,
     "metadata": {},
     "output_type": "execute_result"
    }
   ],
   "source": [
    "similarity_matrix"
   ]
  },
  {
   "cell_type": "markdown",
   "metadata": {},
   "source": [
    "**The main recommendation function**"
   ]
  },
  {
   "cell_type": "code",
   "execution_count": 22,
   "metadata": {},
   "outputs": [],
   "source": [
    "def recommend(anime, top=3):\n",
    "    if anime not in anidf['name_english'].values:\n",
    "        return f\"Anime '{anime}' not found in the dataset.\"\n",
    "    \n",
    "    anime_index = anidf[anidf['name_english'] == anime].index[0]\n",
    "    distances = similarity_matrix[anime_index]\n",
    "    \n",
    "    anime_list = [(i, dist) for i, dist in enumerate(distances) if anidf.iloc[i].name_english != anime]\n",
    "    anime_list = sorted(anime_list, key=lambda x: x[1], reverse=True)[:top+10]\n",
    "    \n",
    "    recommended_animes = [anidf.iloc[i[0]].name_english for i in anime_list]\n",
    "    recommended_animes = list(set(recommended_animes))\n",
    "    \n",
    "    pattern = r'\\b' + re.escape(anime) + r'\\b'\n",
    "    recommended_animes = [title for title in recommended_animes if not re.search(pattern, title, re.IGNORECASE)]\n",
    "    \n",
    "    return recommended_animes[:top] if len(recommended_animes) >= top else recommended_anime"
   ]
  },
  {
   "cell_type": "code",
   "execution_count": 23,
   "metadata": {},
   "outputs": [
    {
     "data": {
      "text/plain": [
       "['Goblin Slayer',\n",
       " 'Arad Senki: Slap Up Party',\n",
       " 'Magi: The Labyrinth of Magic',\n",
       " 'Huan Bian Jingling: Dangao Tianxin',\n",
       " 'Magi: Sinbad no Bouken',\n",
       " \"Chillin' in Another World with Level 2 Super Cheat Powers\",\n",
       " 'The Great Adventures of Robin Hood',\n",
       " 'Slayers',\n",
       " 'Maho Girls Precure!',\n",
       " 'Dorohedoro']"
      ]
     },
     "execution_count": 23,
     "metadata": {},
     "output_type": "execute_result"
    }
   ],
   "source": [
    "recommend('Fairy Tail', top = 10)"
   ]
  },
  {
   "cell_type": "code",
   "execution_count": 24,
   "metadata": {},
   "outputs": [],
   "source": [
    "with open(r'C:\\Users\\HP\\Desktop\\Anirec\\Anirec\\data\\similarity_matrix.pkl', 'wb') as f:\n",
    "    pickle.dump(similarity_matrix, f)"
   ]
  },
  {
   "cell_type": "code",
   "execution_count": null,
   "metadata": {},
   "outputs": [],
   "source": []
  }
 ],
 "metadata": {
  "kernelspec": {
   "display_name": "Python 3 (ipykernel)",
   "language": "python",
   "name": "python3"
  },
  "language_info": {
   "codemirror_mode": {
    "name": "ipython",
    "version": 3
   },
   "file_extension": ".py",
   "mimetype": "text/x-python",
   "name": "python",
   "nbconvert_exporter": "python",
   "pygments_lexer": "ipython3",
   "version": "3.11.5"
  }
 },
 "nbformat": 4,
 "nbformat_minor": 2
}
