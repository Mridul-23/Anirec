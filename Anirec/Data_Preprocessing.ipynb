{
  "cells": [
    {
      "cell_type": "code",
      "execution_count": 243,
      "id": "09e5cb46",
      "metadata": {
        "id": "09e5cb46"
      },
      "outputs": [],
      "source": [
        "import numpy as np\n",
        "import pandas as pd"
      ]
    },
    {
      "cell_type": "code",
      "source": [
        "from google.colab import drive\n",
        "drive.mount('/content/drive')"
      ],
      "metadata": {
        "colab": {
          "base_uri": "https://localhost:8080/"
        },
        "id": "SS3qpEtV8JGK",
        "outputId": "5a3f33f7-90f1-4fe9-851c-4efb9cb71855"
      },
      "id": "SS3qpEtV8JGK",
      "execution_count": 244,
      "outputs": [
        {
          "output_type": "stream",
          "name": "stdout",
          "text": [
            "Drive already mounted at /content/drive; to attempt to forcibly remount, call drive.mount(\"/content/drive\", force_remount=True).\n"
          ]
        }
      ]
    },
    {
      "cell_type": "code",
      "execution_count": 245,
      "id": "3ae5093e",
      "metadata": {
        "id": "3ae5093e"
      },
      "outputs": [],
      "source": [
        "anidf = pd.read_json(r\"/content/drive/MyDrive/Colab Notebooks/Anirec/ani_data.json\")"
      ]
    },
    {
      "cell_type": "markdown",
      "id": "94bdc1b1",
      "metadata": {
        "id": "94bdc1b1"
      },
      "source": [
        "# Basic Inspection"
      ]
    },
    {
      "cell_type": "code",
      "execution_count": 246,
      "id": "318c86f2",
      "metadata": {
        "colab": {
          "base_uri": "https://localhost:8080/",
          "height": 0
        },
        "id": "318c86f2",
        "outputId": "e3fe7573-a265-4ca3-a4ba-d20ab0439e85"
      },
      "outputs": [
        {
          "output_type": "execute_result",
          "data": {
            "text/plain": [
              "       name_english             name score  ranked  popularity  members  \\\n",
              "0  Tomorrow's Joe 2  Ashita no Joe 2  8.73      50        3041    51773   \n",
              "\n",
              "                                            synopsis     synonyms type_of  \\\n",
              "0  Yabuki Joe is left downhearted and hopeless af...  Rocky Joe 2      TV   \n",
              "\n",
              "  total_episodes  ... scored_10_by scored_9_by scored_8_by scored_7_by  \\\n",
              "0             47  ...       7721.0      4711.0      3690.0      1797.0   \n",
              "\n",
              "  scored_6_by scored_5_by  scored_4_by  scored_3_by scored_2_by scored_1_by  \n",
              "0       653.0       297.0        120.0        137.0       182.0       893.0  \n",
              "\n",
              "[1 rows x 36 columns]"
            ],
            "text/html": [
              "\n",
              "  <div id=\"df-129f3b3d-e9ef-489f-b48a-5dbb87cd027a\" class=\"colab-df-container\">\n",
              "    <div>\n",
              "<style scoped>\n",
              "    .dataframe tbody tr th:only-of-type {\n",
              "        vertical-align: middle;\n",
              "    }\n",
              "\n",
              "    .dataframe tbody tr th {\n",
              "        vertical-align: top;\n",
              "    }\n",
              "\n",
              "    .dataframe thead th {\n",
              "        text-align: right;\n",
              "    }\n",
              "</style>\n",
              "<table border=\"1\" class=\"dataframe\">\n",
              "  <thead>\n",
              "    <tr style=\"text-align: right;\">\n",
              "      <th></th>\n",
              "      <th>name_english</th>\n",
              "      <th>name</th>\n",
              "      <th>score</th>\n",
              "      <th>ranked</th>\n",
              "      <th>popularity</th>\n",
              "      <th>members</th>\n",
              "      <th>synopsis</th>\n",
              "      <th>synonyms</th>\n",
              "      <th>type_of</th>\n",
              "      <th>total_episodes</th>\n",
              "      <th>...</th>\n",
              "      <th>scored_10_by</th>\n",
              "      <th>scored_9_by</th>\n",
              "      <th>scored_8_by</th>\n",
              "      <th>scored_7_by</th>\n",
              "      <th>scored_6_by</th>\n",
              "      <th>scored_5_by</th>\n",
              "      <th>scored_4_by</th>\n",
              "      <th>scored_3_by</th>\n",
              "      <th>scored_2_by</th>\n",
              "      <th>scored_1_by</th>\n",
              "    </tr>\n",
              "  </thead>\n",
              "  <tbody>\n",
              "    <tr>\n",
              "      <th>0</th>\n",
              "      <td>Tomorrow's Joe 2</td>\n",
              "      <td>Ashita no Joe 2</td>\n",
              "      <td>8.73</td>\n",
              "      <td>50</td>\n",
              "      <td>3041</td>\n",
              "      <td>51773</td>\n",
              "      <td>Yabuki Joe is left downhearted and hopeless af...</td>\n",
              "      <td>Rocky Joe 2</td>\n",
              "      <td>TV</td>\n",
              "      <td>47</td>\n",
              "      <td>...</td>\n",
              "      <td>7721.0</td>\n",
              "      <td>4711.0</td>\n",
              "      <td>3690.0</td>\n",
              "      <td>1797.0</td>\n",
              "      <td>653.0</td>\n",
              "      <td>297.0</td>\n",
              "      <td>120.0</td>\n",
              "      <td>137.0</td>\n",
              "      <td>182.0</td>\n",
              "      <td>893.0</td>\n",
              "    </tr>\n",
              "  </tbody>\n",
              "</table>\n",
              "<p>1 rows × 36 columns</p>\n",
              "</div>\n",
              "    <div class=\"colab-df-buttons\">\n",
              "\n",
              "  <div class=\"colab-df-container\">\n",
              "    <button class=\"colab-df-convert\" onclick=\"convertToInteractive('df-129f3b3d-e9ef-489f-b48a-5dbb87cd027a')\"\n",
              "            title=\"Convert this dataframe to an interactive table.\"\n",
              "            style=\"display:none;\">\n",
              "\n",
              "  <svg xmlns=\"http://www.w3.org/2000/svg\" height=\"24px\" viewBox=\"0 -960 960 960\">\n",
              "    <path d=\"M120-120v-720h720v720H120Zm60-500h600v-160H180v160Zm220 220h160v-160H400v160Zm0 220h160v-160H400v160ZM180-400h160v-160H180v160Zm440 0h160v-160H620v160ZM180-180h160v-160H180v160Zm440 0h160v-160H620v160Z\"/>\n",
              "  </svg>\n",
              "    </button>\n",
              "\n",
              "  <style>\n",
              "    .colab-df-container {\n",
              "      display:flex;\n",
              "      gap: 12px;\n",
              "    }\n",
              "\n",
              "    .colab-df-convert {\n",
              "      background-color: #E8F0FE;\n",
              "      border: none;\n",
              "      border-radius: 50%;\n",
              "      cursor: pointer;\n",
              "      display: none;\n",
              "      fill: #1967D2;\n",
              "      height: 32px;\n",
              "      padding: 0 0 0 0;\n",
              "      width: 32px;\n",
              "    }\n",
              "\n",
              "    .colab-df-convert:hover {\n",
              "      background-color: #E2EBFA;\n",
              "      box-shadow: 0px 1px 2px rgba(60, 64, 67, 0.3), 0px 1px 3px 1px rgba(60, 64, 67, 0.15);\n",
              "      fill: #174EA6;\n",
              "    }\n",
              "\n",
              "    .colab-df-buttons div {\n",
              "      margin-bottom: 4px;\n",
              "    }\n",
              "\n",
              "    [theme=dark] .colab-df-convert {\n",
              "      background-color: #3B4455;\n",
              "      fill: #D2E3FC;\n",
              "    }\n",
              "\n",
              "    [theme=dark] .colab-df-convert:hover {\n",
              "      background-color: #434B5C;\n",
              "      box-shadow: 0px 1px 3px 1px rgba(0, 0, 0, 0.15);\n",
              "      filter: drop-shadow(0px 1px 2px rgba(0, 0, 0, 0.3));\n",
              "      fill: #FFFFFF;\n",
              "    }\n",
              "  </style>\n",
              "\n",
              "    <script>\n",
              "      const buttonEl =\n",
              "        document.querySelector('#df-129f3b3d-e9ef-489f-b48a-5dbb87cd027a button.colab-df-convert');\n",
              "      buttonEl.style.display =\n",
              "        google.colab.kernel.accessAllowed ? 'block' : 'none';\n",
              "\n",
              "      async function convertToInteractive(key) {\n",
              "        const element = document.querySelector('#df-129f3b3d-e9ef-489f-b48a-5dbb87cd027a');\n",
              "        const dataTable =\n",
              "          await google.colab.kernel.invokeFunction('convertToInteractive',\n",
              "                                                    [key], {});\n",
              "        if (!dataTable) return;\n",
              "\n",
              "        const docLinkHtml = 'Like what you see? Visit the ' +\n",
              "          '<a target=\"_blank\" href=https://colab.research.google.com/notebooks/data_table.ipynb>data table notebook</a>'\n",
              "          + ' to learn more about interactive tables.';\n",
              "        element.innerHTML = '';\n",
              "        dataTable['output_type'] = 'display_data';\n",
              "        await google.colab.output.renderOutput(dataTable, element);\n",
              "        const docLink = document.createElement('div');\n",
              "        docLink.innerHTML = docLinkHtml;\n",
              "        element.appendChild(docLink);\n",
              "      }\n",
              "    </script>\n",
              "  </div>\n",
              "\n",
              "\n",
              "    </div>\n",
              "  </div>\n"
            ],
            "application/vnd.google.colaboratory.intrinsic+json": {
              "type": "dataframe",
              "variable_name": "anidf"
            }
          },
          "metadata": {},
          "execution_count": 246
        }
      ],
      "source": [
        "anidf.head(1)"
      ]
    },
    {
      "cell_type": "code",
      "execution_count": 247,
      "id": "58be362f",
      "metadata": {
        "colab": {
          "base_uri": "https://localhost:8080/"
        },
        "id": "58be362f",
        "outputId": "8346af97-d7f7-4030-8123-d489017e8f54"
      },
      "outputs": [
        {
          "output_type": "execute_result",
          "data": {
            "text/plain": [
              "(20923, 36)"
            ]
          },
          "metadata": {},
          "execution_count": 247
        }
      ],
      "source": [
        "anidf.shape"
      ]
    },
    {
      "cell_type": "code",
      "execution_count": 248,
      "id": "d3c527e5",
      "metadata": {
        "colab": {
          "base_uri": "https://localhost:8080/"
        },
        "id": "d3c527e5",
        "outputId": "ecd1d29d-60e7-45d1-b2d7-a1d391f4e750"
      },
      "outputs": [
        {
          "output_type": "stream",
          "name": "stdout",
          "text": [
            "<class 'pandas.core.frame.DataFrame'>\n",
            "RangeIndex: 20923 entries, 0 to 20922\n",
            "Data columns (total 36 columns):\n",
            " #   Column           Non-Null Count  Dtype  \n",
            "---  ------           --------------  -----  \n",
            " 0   name_english     9670 non-null   object \n",
            " 1   name             20923 non-null  object \n",
            " 2   score            20923 non-null  object \n",
            " 3   ranked           20923 non-null  int64  \n",
            " 4   popularity       20923 non-null  int64  \n",
            " 5   members          20923 non-null  int64  \n",
            " 6   synopsis         20923 non-null  object \n",
            " 7   synonyms         20923 non-null  object \n",
            " 8   type_of          20922 non-null  object \n",
            " 9   total_episodes   20923 non-null  object \n",
            " 10  premiered        5833 non-null   object \n",
            " 11  studios          20923 non-null  object \n",
            " 12  genres           20923 non-null  object \n",
            " 13  demographic      8901 non-null   object \n",
            " 14  duration_per_ep  20923 non-null  object \n",
            " 15  rating           20923 non-null  object \n",
            " 16  scored_by        13607 non-null  float64\n",
            " 17  favorites        20923 non-null  int64  \n",
            " 18  aired            20923 non-null  object \n",
            " 19  source           20923 non-null  object \n",
            " 20  watching         20921 non-null  object \n",
            " 21  completed        20921 non-null  object \n",
            " 22  on_hold          20921 non-null  object \n",
            " 23  dropped          20921 non-null  object \n",
            " 24  plan_to_watch    20921 non-null  object \n",
            " 25  total            20921 non-null  object \n",
            " 26  scored_10_by     20918 non-null  float64\n",
            " 27  scored_9_by      20915 non-null  float64\n",
            " 28  scored_8_by      20910 non-null  float64\n",
            " 29  scored_7_by      20882 non-null  float64\n",
            " 30  scored_6_by      19631 non-null  float64\n",
            " 31  scored_5_by      18437 non-null  float64\n",
            " 32  scored_4_by      17657 non-null  float64\n",
            " 33  scored_3_by      16901 non-null  float64\n",
            " 34  scored_2_by      15903 non-null  float64\n",
            " 35  scored_1_by      14318 non-null  float64\n",
            "dtypes: float64(11), int64(4), object(21)\n",
            "memory usage: 5.7+ MB\n"
          ]
        }
      ],
      "source": [
        "anidf.info()"
      ]
    },
    {
      "cell_type": "markdown",
      "id": "f360c1b4",
      "metadata": {
        "id": "f360c1b4"
      },
      "source": [
        "# Processing Fields"
      ]
    },
    {
      "cell_type": "markdown",
      "id": "24f0812d",
      "metadata": {
        "id": "24f0812d"
      },
      "source": [
        "## Name English"
      ]
    },
    {
      "cell_type": "code",
      "execution_count": 249,
      "id": "1857ef73",
      "metadata": {
        "colab": {
          "base_uri": "https://localhost:8080/"
        },
        "id": "1857ef73",
        "outputId": "53dc3385-443f-4ba9-da70-f7b918323c66"
      },
      "outputs": [
        {
          "output_type": "execute_result",
          "data": {
            "text/plain": [
              "11253"
            ]
          },
          "metadata": {},
          "execution_count": 249
        }
      ],
      "source": [
        "anidf['name_english'].isnull().sum()"
      ]
    },
    {
      "cell_type": "code",
      "execution_count": 250,
      "id": "9fcb5896",
      "metadata": {
        "id": "9fcb5896"
      },
      "outputs": [],
      "source": [
        "anidf['name_english'] = anidf['name_english'].fillna(anidf['name'])"
      ]
    },
    {
      "cell_type": "code",
      "execution_count": 251,
      "id": "fb22df79",
      "metadata": {
        "colab": {
          "base_uri": "https://localhost:8080/"
        },
        "id": "fb22df79",
        "outputId": "9d355db9-5f77-4552-fe76-5cdde9fd664b"
      },
      "outputs": [
        {
          "output_type": "execute_result",
          "data": {
            "text/plain": [
              "0"
            ]
          },
          "metadata": {},
          "execution_count": 251
        }
      ],
      "source": [
        "anidf['name_english'].isna().sum()"
      ]
    },
    {
      "cell_type": "markdown",
      "id": "05eceac2",
      "metadata": {
        "id": "05eceac2"
      },
      "source": [
        "##  Names"
      ]
    },
    {
      "cell_type": "code",
      "execution_count": 252,
      "id": "8d24445a",
      "metadata": {
        "colab": {
          "base_uri": "https://localhost:8080/"
        },
        "id": "8d24445a",
        "outputId": "5cfefc66-ab83-447f-c488-8fc97e5efcbf"
      },
      "outputs": [
        {
          "output_type": "execute_result",
          "data": {
            "text/plain": [
              "0"
            ]
          },
          "metadata": {},
          "execution_count": 252
        }
      ],
      "source": [
        "anidf['name'].isnull().sum()"
      ]
    },
    {
      "cell_type": "code",
      "execution_count": 253,
      "id": "068bcf5d",
      "metadata": {
        "colab": {
          "base_uri": "https://localhost:8080/",
          "height": 0
        },
        "id": "068bcf5d",
        "outputId": "b93af78a-0407-45a0-d832-07c15fbb1d08"
      },
      "outputs": [
        {
          "output_type": "execute_result",
          "data": {
            "text/plain": [
              "0                      Ashita no Joe 2\n",
              "1        Mushishi Zoku Shou 2nd Season\n",
              "2                   Kingdom 4th Season\n",
              "3                         Vinland Saga\n",
              "4                         Cowboy Bebop\n",
              "                     ...              \n",
              "20918         Jueshi Tu: Qihuan Zhi Lu\n",
              "20919    Jueshi Tu II: Yongheng Zhi Qu\n",
              "20920        Juedui Lingyu: Ji Zhan Ji\n",
              "20921        Juedui Lingyu Fanwai Pian\n",
              "20922              Juedui Lingyu A. F.\n",
              "Name: name, Length: 20923, dtype: object"
            ],
            "text/html": [
              "<div>\n",
              "<style scoped>\n",
              "    .dataframe tbody tr th:only-of-type {\n",
              "        vertical-align: middle;\n",
              "    }\n",
              "\n",
              "    .dataframe tbody tr th {\n",
              "        vertical-align: top;\n",
              "    }\n",
              "\n",
              "    .dataframe thead th {\n",
              "        text-align: right;\n",
              "    }\n",
              "</style>\n",
              "<table border=\"1\" class=\"dataframe\">\n",
              "  <thead>\n",
              "    <tr style=\"text-align: right;\">\n",
              "      <th></th>\n",
              "      <th>name</th>\n",
              "    </tr>\n",
              "  </thead>\n",
              "  <tbody>\n",
              "    <tr>\n",
              "      <th>0</th>\n",
              "      <td>Ashita no Joe 2</td>\n",
              "    </tr>\n",
              "    <tr>\n",
              "      <th>1</th>\n",
              "      <td>Mushishi Zoku Shou 2nd Season</td>\n",
              "    </tr>\n",
              "    <tr>\n",
              "      <th>2</th>\n",
              "      <td>Kingdom 4th Season</td>\n",
              "    </tr>\n",
              "    <tr>\n",
              "      <th>3</th>\n",
              "      <td>Vinland Saga</td>\n",
              "    </tr>\n",
              "    <tr>\n",
              "      <th>4</th>\n",
              "      <td>Cowboy Bebop</td>\n",
              "    </tr>\n",
              "    <tr>\n",
              "      <th>...</th>\n",
              "      <td>...</td>\n",
              "    </tr>\n",
              "    <tr>\n",
              "      <th>20918</th>\n",
              "      <td>Jueshi Tu: Qihuan Zhi Lu</td>\n",
              "    </tr>\n",
              "    <tr>\n",
              "      <th>20919</th>\n",
              "      <td>Jueshi Tu II: Yongheng Zhi Qu</td>\n",
              "    </tr>\n",
              "    <tr>\n",
              "      <th>20920</th>\n",
              "      <td>Juedui Lingyu: Ji Zhan Ji</td>\n",
              "    </tr>\n",
              "    <tr>\n",
              "      <th>20921</th>\n",
              "      <td>Juedui Lingyu Fanwai Pian</td>\n",
              "    </tr>\n",
              "    <tr>\n",
              "      <th>20922</th>\n",
              "      <td>Juedui Lingyu A. F.</td>\n",
              "    </tr>\n",
              "  </tbody>\n",
              "</table>\n",
              "<p>20923 rows × 1 columns</p>\n",
              "</div><br><label><b>dtype:</b> object</label>"
            ]
          },
          "metadata": {},
          "execution_count": 253
        }
      ],
      "source": [
        "anidf['name']"
      ]
    },
    {
      "cell_type": "markdown",
      "id": "6b5bba3a",
      "metadata": {
        "id": "6b5bba3a"
      },
      "source": [
        "## Score"
      ]
    },
    {
      "cell_type": "code",
      "execution_count": 254,
      "id": "04e0ea85",
      "metadata": {
        "colab": {
          "base_uri": "https://localhost:8080/",
          "height": 0
        },
        "id": "04e0ea85",
        "outputId": "f4af18b5-8dbd-438a-eb18-9ed91ddf0940"
      },
      "outputs": [
        {
          "output_type": "execute_result",
          "data": {
            "text/plain": [
              "0        8.73\n",
              "1        8.73\n",
              "2        8.74\n",
              "3        8.75\n",
              "4        8.75\n",
              "         ... \n",
              "20918     N/A\n",
              "20919     N/A\n",
              "20920     N/A\n",
              "20921     N/A\n",
              "20922     N/A\n",
              "Name: score, Length: 20923, dtype: object"
            ],
            "text/html": [
              "<div>\n",
              "<style scoped>\n",
              "    .dataframe tbody tr th:only-of-type {\n",
              "        vertical-align: middle;\n",
              "    }\n",
              "\n",
              "    .dataframe tbody tr th {\n",
              "        vertical-align: top;\n",
              "    }\n",
              "\n",
              "    .dataframe thead th {\n",
              "        text-align: right;\n",
              "    }\n",
              "</style>\n",
              "<table border=\"1\" class=\"dataframe\">\n",
              "  <thead>\n",
              "    <tr style=\"text-align: right;\">\n",
              "      <th></th>\n",
              "      <th>score</th>\n",
              "    </tr>\n",
              "  </thead>\n",
              "  <tbody>\n",
              "    <tr>\n",
              "      <th>0</th>\n",
              "      <td>8.73</td>\n",
              "    </tr>\n",
              "    <tr>\n",
              "      <th>1</th>\n",
              "      <td>8.73</td>\n",
              "    </tr>\n",
              "    <tr>\n",
              "      <th>2</th>\n",
              "      <td>8.74</td>\n",
              "    </tr>\n",
              "    <tr>\n",
              "      <th>3</th>\n",
              "      <td>8.75</td>\n",
              "    </tr>\n",
              "    <tr>\n",
              "      <th>4</th>\n",
              "      <td>8.75</td>\n",
              "    </tr>\n",
              "    <tr>\n",
              "      <th>...</th>\n",
              "      <td>...</td>\n",
              "    </tr>\n",
              "    <tr>\n",
              "      <th>20918</th>\n",
              "      <td>N/A</td>\n",
              "    </tr>\n",
              "    <tr>\n",
              "      <th>20919</th>\n",
              "      <td>N/A</td>\n",
              "    </tr>\n",
              "    <tr>\n",
              "      <th>20920</th>\n",
              "      <td>N/A</td>\n",
              "    </tr>\n",
              "    <tr>\n",
              "      <th>20921</th>\n",
              "      <td>N/A</td>\n",
              "    </tr>\n",
              "    <tr>\n",
              "      <th>20922</th>\n",
              "      <td>N/A</td>\n",
              "    </tr>\n",
              "  </tbody>\n",
              "</table>\n",
              "<p>20923 rows × 1 columns</p>\n",
              "</div><br><label><b>dtype:</b> object</label>"
            ]
          },
          "metadata": {},
          "execution_count": 254
        }
      ],
      "source": [
        "anidf['score']"
      ]
    },
    {
      "cell_type": "code",
      "execution_count": 255,
      "id": "4943e3f5",
      "metadata": {
        "colab": {
          "base_uri": "https://localhost:8080/"
        },
        "id": "4943e3f5",
        "outputId": "a5c63e67-6b6f-4a89-911c-7a62f1fc80cc"
      },
      "outputs": [
        {
          "output_type": "execute_result",
          "data": {
            "text/plain": [
              "0"
            ]
          },
          "metadata": {},
          "execution_count": 255
        }
      ],
      "source": [
        "anidf['score'].isna().sum()"
      ]
    },
    {
      "cell_type": "code",
      "execution_count": 256,
      "id": "561de0ad",
      "metadata": {
        "colab": {
          "base_uri": "https://localhost:8080/",
          "height": 0
        },
        "id": "561de0ad",
        "outputId": "9fbffc3d-80da-42ed-f307-bf62c5ec4fd4"
      },
      "outputs": [
        {
          "output_type": "execute_result",
          "data": {
            "text/plain": [
              "score\n",
              "N/A     7316\n",
              "7.33     108\n",
              "7.32      97\n",
              "7.35      97\n",
              "7.34      91\n",
              "        ... \n",
              "4.05       1\n",
              "9.39       1\n",
              "3.96       1\n",
              "3.92       1\n",
              "3.48       1\n",
              "Name: count, Length: 557, dtype: int64"
            ],
            "text/html": [
              "<div>\n",
              "<style scoped>\n",
              "    .dataframe tbody tr th:only-of-type {\n",
              "        vertical-align: middle;\n",
              "    }\n",
              "\n",
              "    .dataframe tbody tr th {\n",
              "        vertical-align: top;\n",
              "    }\n",
              "\n",
              "    .dataframe thead th {\n",
              "        text-align: right;\n",
              "    }\n",
              "</style>\n",
              "<table border=\"1\" class=\"dataframe\">\n",
              "  <thead>\n",
              "    <tr style=\"text-align: right;\">\n",
              "      <th></th>\n",
              "      <th>count</th>\n",
              "    </tr>\n",
              "    <tr>\n",
              "      <th>score</th>\n",
              "      <th></th>\n",
              "    </tr>\n",
              "  </thead>\n",
              "  <tbody>\n",
              "    <tr>\n",
              "      <th>N/A</th>\n",
              "      <td>7316</td>\n",
              "    </tr>\n",
              "    <tr>\n",
              "      <th>7.33</th>\n",
              "      <td>108</td>\n",
              "    </tr>\n",
              "    <tr>\n",
              "      <th>7.32</th>\n",
              "      <td>97</td>\n",
              "    </tr>\n",
              "    <tr>\n",
              "      <th>7.35</th>\n",
              "      <td>97</td>\n",
              "    </tr>\n",
              "    <tr>\n",
              "      <th>7.34</th>\n",
              "      <td>91</td>\n",
              "    </tr>\n",
              "    <tr>\n",
              "      <th>...</th>\n",
              "      <td>...</td>\n",
              "    </tr>\n",
              "    <tr>\n",
              "      <th>4.05</th>\n",
              "      <td>1</td>\n",
              "    </tr>\n",
              "    <tr>\n",
              "      <th>9.39</th>\n",
              "      <td>1</td>\n",
              "    </tr>\n",
              "    <tr>\n",
              "      <th>3.96</th>\n",
              "      <td>1</td>\n",
              "    </tr>\n",
              "    <tr>\n",
              "      <th>3.92</th>\n",
              "      <td>1</td>\n",
              "    </tr>\n",
              "    <tr>\n",
              "      <th>3.48</th>\n",
              "      <td>1</td>\n",
              "    </tr>\n",
              "  </tbody>\n",
              "</table>\n",
              "<p>557 rows × 1 columns</p>\n",
              "</div><br><label><b>dtype:</b> int64</label>"
            ]
          },
          "metadata": {},
          "execution_count": 256
        }
      ],
      "source": [
        "anidf['score'].value_counts()"
      ]
    },
    {
      "cell_type": "markdown",
      "id": "2b8e4675",
      "metadata": {
        "id": "2b8e4675"
      },
      "source": [
        "## Ranked"
      ]
    },
    {
      "cell_type": "code",
      "execution_count": 257,
      "id": "6d651060",
      "metadata": {
        "colab": {
          "base_uri": "https://localhost:8080/"
        },
        "id": "6d651060",
        "outputId": "4c456e3d-bca2-46bc-aaad-73cf2e26b151"
      },
      "outputs": [
        {
          "output_type": "execute_result",
          "data": {
            "text/plain": [
              "0"
            ]
          },
          "metadata": {},
          "execution_count": 257
        }
      ],
      "source": [
        "anidf['ranked'].isnull().sum()"
      ]
    },
    {
      "cell_type": "code",
      "execution_count": 258,
      "id": "a4157a7c",
      "metadata": {
        "colab": {
          "base_uri": "https://localhost:8080/"
        },
        "id": "a4157a7c",
        "outputId": "66a9b965-937a-4d4f-d15e-9fde71e598f0"
      },
      "outputs": [
        {
          "output_type": "execute_result",
          "data": {
            "text/plain": [
              "array([   50,    49,    48, ..., 20604, 20603, 20602])"
            ]
          },
          "metadata": {},
          "execution_count": 258
        }
      ],
      "source": [
        "anidf['ranked'].unique()"
      ]
    },
    {
      "cell_type": "markdown",
      "id": "cfe366c0",
      "metadata": {
        "id": "cfe366c0"
      },
      "source": [
        "## Popularity"
      ]
    },
    {
      "cell_type": "code",
      "execution_count": 259,
      "id": "82634d9d",
      "metadata": {
        "colab": {
          "base_uri": "https://localhost:8080/"
        },
        "id": "82634d9d",
        "outputId": "0826e6d9-417b-4322-f9eb-7eed401ad393"
      },
      "outputs": [
        {
          "output_type": "execute_result",
          "data": {
            "text/plain": [
              "0"
            ]
          },
          "metadata": {},
          "execution_count": 259
        }
      ],
      "source": [
        "anidf['popularity'].isnull().sum()"
      ]
    },
    {
      "cell_type": "code",
      "execution_count": 260,
      "id": "7ad455fc",
      "metadata": {
        "colab": {
          "base_uri": "https://localhost:8080/",
          "height": 0
        },
        "id": "7ad455fc",
        "outputId": "56ec7503-c4c5-46e6-b0e7-efd2b0e13b3e"
      },
      "outputs": [
        {
          "output_type": "execute_result",
          "data": {
            "text/plain": [
              "popularity\n",
              "16156    4\n",
              "6953     4\n",
              "2933     4\n",
              "17366    4\n",
              "13771    4\n",
              "        ..\n",
              "13222    1\n",
              "2557     1\n",
              "10806    1\n",
              "8902     1\n",
              "23438    1\n",
              "Name: count, Length: 17574, dtype: int64"
            ],
            "text/html": [
              "<div>\n",
              "<style scoped>\n",
              "    .dataframe tbody tr th:only-of-type {\n",
              "        vertical-align: middle;\n",
              "    }\n",
              "\n",
              "    .dataframe tbody tr th {\n",
              "        vertical-align: top;\n",
              "    }\n",
              "\n",
              "    .dataframe thead th {\n",
              "        text-align: right;\n",
              "    }\n",
              "</style>\n",
              "<table border=\"1\" class=\"dataframe\">\n",
              "  <thead>\n",
              "    <tr style=\"text-align: right;\">\n",
              "      <th></th>\n",
              "      <th>count</th>\n",
              "    </tr>\n",
              "    <tr>\n",
              "      <th>popularity</th>\n",
              "      <th></th>\n",
              "    </tr>\n",
              "  </thead>\n",
              "  <tbody>\n",
              "    <tr>\n",
              "      <th>16156</th>\n",
              "      <td>4</td>\n",
              "    </tr>\n",
              "    <tr>\n",
              "      <th>6953</th>\n",
              "      <td>4</td>\n",
              "    </tr>\n",
              "    <tr>\n",
              "      <th>2933</th>\n",
              "      <td>4</td>\n",
              "    </tr>\n",
              "    <tr>\n",
              "      <th>17366</th>\n",
              "      <td>4</td>\n",
              "    </tr>\n",
              "    <tr>\n",
              "      <th>13771</th>\n",
              "      <td>4</td>\n",
              "    </tr>\n",
              "    <tr>\n",
              "      <th>...</th>\n",
              "      <td>...</td>\n",
              "    </tr>\n",
              "    <tr>\n",
              "      <th>13222</th>\n",
              "      <td>1</td>\n",
              "    </tr>\n",
              "    <tr>\n",
              "      <th>2557</th>\n",
              "      <td>1</td>\n",
              "    </tr>\n",
              "    <tr>\n",
              "      <th>10806</th>\n",
              "      <td>1</td>\n",
              "    </tr>\n",
              "    <tr>\n",
              "      <th>8902</th>\n",
              "      <td>1</td>\n",
              "    </tr>\n",
              "    <tr>\n",
              "      <th>23438</th>\n",
              "      <td>1</td>\n",
              "    </tr>\n",
              "  </tbody>\n",
              "</table>\n",
              "<p>17574 rows × 1 columns</p>\n",
              "</div><br><label><b>dtype:</b> int64</label>"
            ]
          },
          "metadata": {},
          "execution_count": 260
        }
      ],
      "source": [
        "anidf['popularity'].value_counts()"
      ]
    },
    {
      "cell_type": "markdown",
      "id": "a0eb3144",
      "metadata": {
        "id": "a0eb3144"
      },
      "source": [
        "## Members"
      ]
    },
    {
      "cell_type": "code",
      "execution_count": 261,
      "id": "eb1cd759",
      "metadata": {
        "colab": {
          "base_uri": "https://localhost:8080/"
        },
        "id": "eb1cd759",
        "outputId": "c424d433-ee3e-464e-c98e-1427de19dd98"
      },
      "outputs": [
        {
          "output_type": "execute_result",
          "data": {
            "text/plain": [
              "0"
            ]
          },
          "metadata": {},
          "execution_count": 261
        }
      ],
      "source": [
        "anidf['members'].isnull().sum()"
      ]
    },
    {
      "cell_type": "code",
      "execution_count": 262,
      "id": "554b6234",
      "metadata": {
        "colab": {
          "base_uri": "https://localhost:8080/",
          "height": 0
        },
        "id": "554b6234",
        "outputId": "fab5f756-9e8f-4d11-b810-7777cbd6d8a3"
      },
      "outputs": [
        {
          "output_type": "execute_result",
          "data": {
            "text/plain": [
              "members\n",
              "60        133\n",
              "61        123\n",
              "59        119\n",
              "62        117\n",
              "57        115\n",
              "         ... \n",
              "83131       1\n",
              "263827      1\n",
              "19573       1\n",
              "87013       1\n",
              "1258        1\n",
              "Name: count, Length: 10369, dtype: int64"
            ],
            "text/html": [
              "<div>\n",
              "<style scoped>\n",
              "    .dataframe tbody tr th:only-of-type {\n",
              "        vertical-align: middle;\n",
              "    }\n",
              "\n",
              "    .dataframe tbody tr th {\n",
              "        vertical-align: top;\n",
              "    }\n",
              "\n",
              "    .dataframe thead th {\n",
              "        text-align: right;\n",
              "    }\n",
              "</style>\n",
              "<table border=\"1\" class=\"dataframe\">\n",
              "  <thead>\n",
              "    <tr style=\"text-align: right;\">\n",
              "      <th></th>\n",
              "      <th>count</th>\n",
              "    </tr>\n",
              "    <tr>\n",
              "      <th>members</th>\n",
              "      <th></th>\n",
              "    </tr>\n",
              "  </thead>\n",
              "  <tbody>\n",
              "    <tr>\n",
              "      <th>60</th>\n",
              "      <td>133</td>\n",
              "    </tr>\n",
              "    <tr>\n",
              "      <th>61</th>\n",
              "      <td>123</td>\n",
              "    </tr>\n",
              "    <tr>\n",
              "      <th>59</th>\n",
              "      <td>119</td>\n",
              "    </tr>\n",
              "    <tr>\n",
              "      <th>62</th>\n",
              "      <td>117</td>\n",
              "    </tr>\n",
              "    <tr>\n",
              "      <th>57</th>\n",
              "      <td>115</td>\n",
              "    </tr>\n",
              "    <tr>\n",
              "      <th>...</th>\n",
              "      <td>...</td>\n",
              "    </tr>\n",
              "    <tr>\n",
              "      <th>83131</th>\n",
              "      <td>1</td>\n",
              "    </tr>\n",
              "    <tr>\n",
              "      <th>263827</th>\n",
              "      <td>1</td>\n",
              "    </tr>\n",
              "    <tr>\n",
              "      <th>19573</th>\n",
              "      <td>1</td>\n",
              "    </tr>\n",
              "    <tr>\n",
              "      <th>87013</th>\n",
              "      <td>1</td>\n",
              "    </tr>\n",
              "    <tr>\n",
              "      <th>1258</th>\n",
              "      <td>1</td>\n",
              "    </tr>\n",
              "  </tbody>\n",
              "</table>\n",
              "<p>10369 rows × 1 columns</p>\n",
              "</div><br><label><b>dtype:</b> int64</label>"
            ]
          },
          "metadata": {},
          "execution_count": 262
        }
      ],
      "source": [
        "anidf['members'].value_counts()"
      ]
    },
    {
      "cell_type": "markdown",
      "id": "8842af77",
      "metadata": {
        "id": "8842af77"
      },
      "source": [
        "## Synopsis"
      ]
    },
    {
      "cell_type": "code",
      "execution_count": 263,
      "id": "53dd96a9",
      "metadata": {
        "colab": {
          "base_uri": "https://localhost:8080/"
        },
        "id": "53dd96a9",
        "outputId": "b0e29b7e-c091-495f-c88d-718e5d2da438"
      },
      "outputs": [
        {
          "output_type": "execute_result",
          "data": {
            "text/plain": [
              "0"
            ]
          },
          "metadata": {},
          "execution_count": 263
        }
      ],
      "source": [
        "anidf['synopsis'].isnull().sum()"
      ]
    },
    {
      "cell_type": "code",
      "execution_count": 264,
      "id": "76c5a86a",
      "metadata": {
        "colab": {
          "base_uri": "https://localhost:8080/",
          "height": 0
        },
        "id": "76c5a86a",
        "outputId": "c5e41734-34ba-4434-ee17-a7ffd9a14190"
      },
      "outputs": [
        {
          "output_type": "execute_result",
          "data": {
            "text/plain": [
              "synopsis\n",
              "No synopsis information has been added to this title. Help improve our database by adding a synopsis .                                                                                                                                                                                                                                                                                                                                                                                                                                                                                                                                                                                                                                                                                                                                                                                                                                                                                                                                                                                                                                                                                                                                                                                                                           4353\n",
              "Second season of .                                                                                                                                                                                                                                                                                                                                                                                                                                                                                                                                                                                                                                                                                                                                                                                                                                                                                                                                                                                                                                                                                                                                                                                                                                                                                                                124\n",
              "The second season of .                                                                                                                                                                                                                                                                                                                                                                                                                                                                                                                                                                                                                                                                                                                                                                                                                                                                                                                                                                                                                                                                                                                                                                                                                                                                                                             57\n",
              "Third season of .                                                                                                                                                                                                                                                                                                                                                                                                                                                                                                                                                                                                                                                                                                                                                                                                                                                                                                                                                                                                                                                                                                                                                                                                                                                                                                                  53\n",
              "The third season of .                                                                                                                                                                                                                                                                                                                                                                                                                                                                                                                                                                                                                                                                                                                                                                                                                                                                                                                                                                                                                                                                                                                                                                                                                                                                                                              29\n",
              "                                                                                                                                                                                                                                                                                                                                                                                                                                                                                                                                                                                                                                                                                                                                                                                                                                                                                                                                                                                                                                                                                                                                                                                                                                                                                                                                 ... \n",
              "Hatsunejima abounds in mysteries—one of which is the town's unwithering cherry trees that are said to grant the most genuine wishes. There are also rumors of people possessing supernatural powers, like Junichi Asakura, who can see other people's dreams and create sweets out of nothing. Alongside his sister Nemu, he enjoys living in peace with his friends at Kazami Academy but chooses to shroud his identity in secrecy. His tranquil school life comes to a halt when he finds out that his childhood friend Sakura Yoshino has returned from America after six years. She is there for one purpose: to fulfill the promises she made long ago with Junichi. Little does anyone know, however, that Sakura's appearance is bound to change everyone's lives—for better or worse. [Written by MAL Rewrite]                                                                                                                                                                                                                                                                                                                                                                                                                                                                                                             1\n",
              "Fifteen years ago, a hyperspace gate appeared in the middle of the Pacific Ocean, connecting Earth to a strange world filled with fairies and monsters. The city of San-Teresa became a home for over two million of these otherworldly visitors. Unfortunately, the population boom also brought its fair share of problems—drugs, prostitution, and trafficking. To combat the rampant crime lurking in the city's shadows, a new department was established in the San-Teresa Metropolitan Police. Former JSDF soldier Kei Matoba is one of the best cops that the department has to offer, despite his inclination to occasionally bend the rules. After a fairy trafficking case goes wrong, Kei loses Rick Fury, his friend and partner of four years, setting him on a quest for vengeance. To help him with the case, the department pairs him with Tilarna Exedilika, a noble of the Farbani Kingdom. As one of the Knights of Mirvor, her duty is to rescue the noble fairy that Kei encountered during his last case. Despite his distaste for non-humans, he accepts the arrangement at the request of his superiors. Now, the unlikely duo must come together and overcome their differences in order to return the missing fairy to her country and avenge the death of Kei's partner. [Written by MAL Rewrite]       1\n",
              "Although cheerful and delicate, Sakura Sakurakouji is a skilled martial artist with a sense of fairness that never falters—no matter the situation. Upon witnessing people burning in blue flames while on a bus ride home, she calls the police to bring their murderer to justice only to find that no evidence remains. However, all her doubts about what she saw vanish when the next day, the new transfer student Rei Oogami joins her class; he is the very boy she watched commit murder in cold blood. Rei is kind, sweet, and quickly becomes popular, contradicting Sakura's accusations. Soon enough, she learns his true nature: a Code Breaker, or one who does not exist. To Sakura's shock, Rei—armed with mysterious powers—seeks to exact justice according to the principle of an eye for an eye. Determined to bring Rei to the right path, Sakura keeps close to him in the hopes of redeeming him from his ways before others are hurt. [Written by MAL Rewrite]                                                                                                                                                                                                                                                                                                                                             1\n",
              "Hasegawa Kodaka has transferred schools, and he's having a hard time making friends. It doesn't help that his blond hair tends to make people think he's a delinquent. One day, he runs into his bad-tempered solitary classmate Yozora while she's talking animatedly to her imaginary friend Tomo. Realizing that neither of them have any actual friends, they decide that the best way to alter this situation is to form a club and start recruiting. That is how Rinjinbu, The Neighbours' Club, was formed, a club specifically designed for people who don't have very many friends. As other lonely classmates slowly join their little club, they'll try to learn how to build friendships through cooking together, playing games, and other group activities. But will this group of relationship-challenged misfits really be able to get along? (Source: MU)                                                                                                                                                                                                                                                                                                                                                                                                                                                          1\n",
              "Prologue of .                                                                                                                                                                                                                                                                                                                                                                                                                                                                                                                                                                                                                                                                                                                                                                                                                                                                                                                                                                                                                                                                                                                                                                                                                                                                                                                       1\n",
              "Name: count, Length: 15434, dtype: int64"
            ],
            "text/html": [
              "<div>\n",
              "<style scoped>\n",
              "    .dataframe tbody tr th:only-of-type {\n",
              "        vertical-align: middle;\n",
              "    }\n",
              "\n",
              "    .dataframe tbody tr th {\n",
              "        vertical-align: top;\n",
              "    }\n",
              "\n",
              "    .dataframe thead th {\n",
              "        text-align: right;\n",
              "    }\n",
              "</style>\n",
              "<table border=\"1\" class=\"dataframe\">\n",
              "  <thead>\n",
              "    <tr style=\"text-align: right;\">\n",
              "      <th></th>\n",
              "      <th>count</th>\n",
              "    </tr>\n",
              "    <tr>\n",
              "      <th>synopsis</th>\n",
              "      <th></th>\n",
              "    </tr>\n",
              "  </thead>\n",
              "  <tbody>\n",
              "    <tr>\n",
              "      <th>No synopsis information has been added to this title. Help improve our database by adding a synopsis .</th>\n",
              "      <td>4353</td>\n",
              "    </tr>\n",
              "    <tr>\n",
              "      <th>Second season of .</th>\n",
              "      <td>124</td>\n",
              "    </tr>\n",
              "    <tr>\n",
              "      <th>The second season of .</th>\n",
              "      <td>57</td>\n",
              "    </tr>\n",
              "    <tr>\n",
              "      <th>Third season of .</th>\n",
              "      <td>53</td>\n",
              "    </tr>\n",
              "    <tr>\n",
              "      <th>The third season of .</th>\n",
              "      <td>29</td>\n",
              "    </tr>\n",
              "    <tr>\n",
              "      <th>...</th>\n",
              "      <td>...</td>\n",
              "    </tr>\n",
              "    <tr>\n",
              "      <th>Hatsunejima abounds in mysteries—one of which is the town's unwithering cherry trees that are said to grant the most genuine wishes. There are also rumors of people possessing supernatural powers, like Junichi Asakura, who can see other people's dreams and create sweets out of nothing. Alongside his sister Nemu, he enjoys living in peace with his friends at Kazami Academy but chooses to shroud his identity in secrecy. His tranquil school life comes to a halt when he finds out that his childhood friend Sakura Yoshino has returned from America after six years. She is there for one purpose: to fulfill the promises she made long ago with Junichi. Little does anyone know, however, that Sakura's appearance is bound to change everyone's lives—for better or worse. [Written by MAL Rewrite]</th>\n",
              "      <td>1</td>\n",
              "    </tr>\n",
              "    <tr>\n",
              "      <th>Fifteen years ago, a hyperspace gate appeared in the middle of the Pacific Ocean, connecting Earth to a strange world filled with fairies and monsters. The city of San-Teresa became a home for over two million of these otherworldly visitors. Unfortunately, the population boom also brought its fair share of problems—drugs, prostitution, and trafficking. To combat the rampant crime lurking in the city's shadows, a new department was established in the San-Teresa Metropolitan Police. Former JSDF soldier Kei Matoba is one of the best cops that the department has to offer, despite his inclination to occasionally bend the rules. After a fairy trafficking case goes wrong, Kei loses Rick Fury, his friend and partner of four years, setting him on a quest for vengeance. To help him with the case, the department pairs him with Tilarna Exedilika, a noble of the Farbani Kingdom. As one of the Knights of Mirvor, her duty is to rescue the noble fairy that Kei encountered during his last case. Despite his distaste for non-humans, he accepts the arrangement at the request of his superiors. Now, the unlikely duo must come together and overcome their differences in order to return the missing fairy to her country and avenge the death of Kei's partner. [Written by MAL Rewrite]</th>\n",
              "      <td>1</td>\n",
              "    </tr>\n",
              "    <tr>\n",
              "      <th>Although cheerful and delicate, Sakura Sakurakouji is a skilled martial artist with a sense of fairness that never falters—no matter the situation. Upon witnessing people burning in blue flames while on a bus ride home, she calls the police to bring their murderer to justice only to find that no evidence remains. However, all her doubts about what she saw vanish when the next day, the new transfer student Rei Oogami joins her class; he is the very boy she watched commit murder in cold blood. Rei is kind, sweet, and quickly becomes popular, contradicting Sakura's accusations. Soon enough, she learns his true nature: a Code Breaker, or one who does not exist. To Sakura's shock, Rei—armed with mysterious powers—seeks to exact justice according to the principle of an eye for an eye. Determined to bring Rei to the right path, Sakura keeps close to him in the hopes of redeeming him from his ways before others are hurt. [Written by MAL Rewrite]</th>\n",
              "      <td>1</td>\n",
              "    </tr>\n",
              "    <tr>\n",
              "      <th>Hasegawa Kodaka has transferred schools, and he's having a hard time making friends. It doesn't help that his blond hair tends to make people think he's a delinquent. One day, he runs into his bad-tempered solitary classmate Yozora while she's talking animatedly to her imaginary friend Tomo. Realizing that neither of them have any actual friends, they decide that the best way to alter this situation is to form a club and start recruiting. That is how Rinjinbu, The Neighbours' Club, was formed, a club specifically designed for people who don't have very many friends. As other lonely classmates slowly join their little club, they'll try to learn how to build friendships through cooking together, playing games, and other group activities. But will this group of relationship-challenged misfits really be able to get along? (Source: MU)</th>\n",
              "      <td>1</td>\n",
              "    </tr>\n",
              "    <tr>\n",
              "      <th>Prologue of .</th>\n",
              "      <td>1</td>\n",
              "    </tr>\n",
              "  </tbody>\n",
              "</table>\n",
              "<p>15434 rows × 1 columns</p>\n",
              "</div><br><label><b>dtype:</b> int64</label>"
            ]
          },
          "metadata": {},
          "execution_count": 264
        }
      ],
      "source": [
        "anidf['synopsis'].value_counts()"
      ]
    },
    {
      "cell_type": "code",
      "execution_count": 265,
      "id": "70feb8cb",
      "metadata": {
        "id": "70feb8cb"
      },
      "outputs": [],
      "source": [
        "anidf['synopsis'] = anidf['synopsis'].apply(lambda x: x if x!='No synopsis information has been added to this title. Help improve our database by adding a synopsis .' else np.nan)"
      ]
    },
    {
      "cell_type": "code",
      "execution_count": 266,
      "id": "f2c4f128",
      "metadata": {
        "colab": {
          "base_uri": "https://localhost:8080/",
          "height": 0
        },
        "id": "f2c4f128",
        "outputId": "9098b99c-d534-4e3f-cdd3-9465e1094e16"
      },
      "outputs": [
        {
          "output_type": "execute_result",
          "data": {
            "text/plain": [
              "synopsis\n",
              "Second season of .                                                                                                                                                                                                                                                                                                                                                                                                                                                                                                                                                                                                                                                                                                                                                                                                                                                                                                                                                                                                                                                                                                                                                                                                                                                                                                               124\n",
              "The second season of .                                                                                                                                                                                                                                                                                                                                                                                                                                                                                                                                                                                                                                                                                                                                                                                                                                                                                                                                                                                                                                                                                                                                                                                                                                                                                                            57\n",
              "Third season of .                                                                                                                                                                                                                                                                                                                                                                                                                                                                                                                                                                                                                                                                                                                                                                                                                                                                                                                                                                                                                                                                                                                                                                                                                                                                                                                 53\n",
              "Fourth season of .                                                                                                                                                                                                                                                                                                                                                                                                                                                                                                                                                                                                                                                                                                                                                                                                                                                                                                                                                                                                                                                                                                                                                                                                                                                                                                                29\n",
              "The third season of .                                                                                                                                                                                                                                                                                                                                                                                                                                                                                                                                                                                                                                                                                                                                                                                                                                                                                                                                                                                                                                                                                                                                                                                                                                                                                                             29\n",
              "                                                                                                                                                                                                                                                                                                                                                                                                                                                                                                                                                                                                                                                                                                                                                                                                                                                                                                                                                                                                                                                                                                                                                                                                                                                                                                                                ... \n",
              "Hatsunejima abounds in mysteries—one of which is the town's unwithering cherry trees that are said to grant the most genuine wishes. There are also rumors of people possessing supernatural powers, like Junichi Asakura, who can see other people's dreams and create sweets out of nothing. Alongside his sister Nemu, he enjoys living in peace with his friends at Kazami Academy but chooses to shroud his identity in secrecy. His tranquil school life comes to a halt when he finds out that his childhood friend Sakura Yoshino has returned from America after six years. She is there for one purpose: to fulfill the promises she made long ago with Junichi. Little does anyone know, however, that Sakura's appearance is bound to change everyone's lives—for better or worse. [Written by MAL Rewrite]                                                                                                                                                                                                                                                                                                                                                                                                                                                                                                            1\n",
              "Fifteen years ago, a hyperspace gate appeared in the middle of the Pacific Ocean, connecting Earth to a strange world filled with fairies and monsters. The city of San-Teresa became a home for over two million of these otherworldly visitors. Unfortunately, the population boom also brought its fair share of problems—drugs, prostitution, and trafficking. To combat the rampant crime lurking in the city's shadows, a new department was established in the San-Teresa Metropolitan Police. Former JSDF soldier Kei Matoba is one of the best cops that the department has to offer, despite his inclination to occasionally bend the rules. After a fairy trafficking case goes wrong, Kei loses Rick Fury, his friend and partner of four years, setting him on a quest for vengeance. To help him with the case, the department pairs him with Tilarna Exedilika, a noble of the Farbani Kingdom. As one of the Knights of Mirvor, her duty is to rescue the noble fairy that Kei encountered during his last case. Despite his distaste for non-humans, he accepts the arrangement at the request of his superiors. Now, the unlikely duo must come together and overcome their differences in order to return the missing fairy to her country and avenge the death of Kei's partner. [Written by MAL Rewrite]      1\n",
              "Although cheerful and delicate, Sakura Sakurakouji is a skilled martial artist with a sense of fairness that never falters—no matter the situation. Upon witnessing people burning in blue flames while on a bus ride home, she calls the police to bring their murderer to justice only to find that no evidence remains. However, all her doubts about what she saw vanish when the next day, the new transfer student Rei Oogami joins her class; he is the very boy she watched commit murder in cold blood. Rei is kind, sweet, and quickly becomes popular, contradicting Sakura's accusations. Soon enough, she learns his true nature: a Code Breaker, or one who does not exist. To Sakura's shock, Rei—armed with mysterious powers—seeks to exact justice according to the principle of an eye for an eye. Determined to bring Rei to the right path, Sakura keeps close to him in the hopes of redeeming him from his ways before others are hurt. [Written by MAL Rewrite]                                                                                                                                                                                                                                                                                                                                            1\n",
              "Hasegawa Kodaka has transferred schools, and he's having a hard time making friends. It doesn't help that his blond hair tends to make people think he's a delinquent. One day, he runs into his bad-tempered solitary classmate Yozora while she's talking animatedly to her imaginary friend Tomo. Realizing that neither of them have any actual friends, they decide that the best way to alter this situation is to form a club and start recruiting. That is how Rinjinbu, The Neighbours' Club, was formed, a club specifically designed for people who don't have very many friends. As other lonely classmates slowly join their little club, they'll try to learn how to build friendships through cooking together, playing games, and other group activities. But will this group of relationship-challenged misfits really be able to get along? (Source: MU)                                                                                                                                                                                                                                                                                                                                                                                                                                                         1\n",
              "Prologue of .                                                                                                                                                                                                                                                                                                                                                                                                                                                                                                                                                                                                                                                                                                                                                                                                                                                                                                                                                                                                                                                                                                                                                                                                                                                                                                                      1\n",
              "Name: count, Length: 15433, dtype: int64"
            ],
            "text/html": [
              "<div>\n",
              "<style scoped>\n",
              "    .dataframe tbody tr th:only-of-type {\n",
              "        vertical-align: middle;\n",
              "    }\n",
              "\n",
              "    .dataframe tbody tr th {\n",
              "        vertical-align: top;\n",
              "    }\n",
              "\n",
              "    .dataframe thead th {\n",
              "        text-align: right;\n",
              "    }\n",
              "</style>\n",
              "<table border=\"1\" class=\"dataframe\">\n",
              "  <thead>\n",
              "    <tr style=\"text-align: right;\">\n",
              "      <th></th>\n",
              "      <th>count</th>\n",
              "    </tr>\n",
              "    <tr>\n",
              "      <th>synopsis</th>\n",
              "      <th></th>\n",
              "    </tr>\n",
              "  </thead>\n",
              "  <tbody>\n",
              "    <tr>\n",
              "      <th>Second season of .</th>\n",
              "      <td>124</td>\n",
              "    </tr>\n",
              "    <tr>\n",
              "      <th>The second season of .</th>\n",
              "      <td>57</td>\n",
              "    </tr>\n",
              "    <tr>\n",
              "      <th>Third season of .</th>\n",
              "      <td>53</td>\n",
              "    </tr>\n",
              "    <tr>\n",
              "      <th>Fourth season of .</th>\n",
              "      <td>29</td>\n",
              "    </tr>\n",
              "    <tr>\n",
              "      <th>The third season of .</th>\n",
              "      <td>29</td>\n",
              "    </tr>\n",
              "    <tr>\n",
              "      <th>...</th>\n",
              "      <td>...</td>\n",
              "    </tr>\n",
              "    <tr>\n",
              "      <th>Hatsunejima abounds in mysteries—one of which is the town's unwithering cherry trees that are said to grant the most genuine wishes. There are also rumors of people possessing supernatural powers, like Junichi Asakura, who can see other people's dreams and create sweets out of nothing. Alongside his sister Nemu, he enjoys living in peace with his friends at Kazami Academy but chooses to shroud his identity in secrecy. His tranquil school life comes to a halt when he finds out that his childhood friend Sakura Yoshino has returned from America after six years. She is there for one purpose: to fulfill the promises she made long ago with Junichi. Little does anyone know, however, that Sakura's appearance is bound to change everyone's lives—for better or worse. [Written by MAL Rewrite]</th>\n",
              "      <td>1</td>\n",
              "    </tr>\n",
              "    <tr>\n",
              "      <th>Fifteen years ago, a hyperspace gate appeared in the middle of the Pacific Ocean, connecting Earth to a strange world filled with fairies and monsters. The city of San-Teresa became a home for over two million of these otherworldly visitors. Unfortunately, the population boom also brought its fair share of problems—drugs, prostitution, and trafficking. To combat the rampant crime lurking in the city's shadows, a new department was established in the San-Teresa Metropolitan Police. Former JSDF soldier Kei Matoba is one of the best cops that the department has to offer, despite his inclination to occasionally bend the rules. After a fairy trafficking case goes wrong, Kei loses Rick Fury, his friend and partner of four years, setting him on a quest for vengeance. To help him with the case, the department pairs him with Tilarna Exedilika, a noble of the Farbani Kingdom. As one of the Knights of Mirvor, her duty is to rescue the noble fairy that Kei encountered during his last case. Despite his distaste for non-humans, he accepts the arrangement at the request of his superiors. Now, the unlikely duo must come together and overcome their differences in order to return the missing fairy to her country and avenge the death of Kei's partner. [Written by MAL Rewrite]</th>\n",
              "      <td>1</td>\n",
              "    </tr>\n",
              "    <tr>\n",
              "      <th>Although cheerful and delicate, Sakura Sakurakouji is a skilled martial artist with a sense of fairness that never falters—no matter the situation. Upon witnessing people burning in blue flames while on a bus ride home, she calls the police to bring their murderer to justice only to find that no evidence remains. However, all her doubts about what she saw vanish when the next day, the new transfer student Rei Oogami joins her class; he is the very boy she watched commit murder in cold blood. Rei is kind, sweet, and quickly becomes popular, contradicting Sakura's accusations. Soon enough, she learns his true nature: a Code Breaker, or one who does not exist. To Sakura's shock, Rei—armed with mysterious powers—seeks to exact justice according to the principle of an eye for an eye. Determined to bring Rei to the right path, Sakura keeps close to him in the hopes of redeeming him from his ways before others are hurt. [Written by MAL Rewrite]</th>\n",
              "      <td>1</td>\n",
              "    </tr>\n",
              "    <tr>\n",
              "      <th>Hasegawa Kodaka has transferred schools, and he's having a hard time making friends. It doesn't help that his blond hair tends to make people think he's a delinquent. One day, he runs into his bad-tempered solitary classmate Yozora while she's talking animatedly to her imaginary friend Tomo. Realizing that neither of them have any actual friends, they decide that the best way to alter this situation is to form a club and start recruiting. That is how Rinjinbu, The Neighbours' Club, was formed, a club specifically designed for people who don't have very many friends. As other lonely classmates slowly join their little club, they'll try to learn how to build friendships through cooking together, playing games, and other group activities. But will this group of relationship-challenged misfits really be able to get along? (Source: MU)</th>\n",
              "      <td>1</td>\n",
              "    </tr>\n",
              "    <tr>\n",
              "      <th>Prologue of .</th>\n",
              "      <td>1</td>\n",
              "    </tr>\n",
              "  </tbody>\n",
              "</table>\n",
              "<p>15433 rows × 1 columns</p>\n",
              "</div><br><label><b>dtype:</b> int64</label>"
            ]
          },
          "metadata": {},
          "execution_count": 266
        }
      ],
      "source": [
        "anidf['synopsis'].value_counts()"
      ]
    },
    {
      "cell_type": "code",
      "execution_count": 267,
      "id": "8ad0dc4e",
      "metadata": {
        "id": "8ad0dc4e"
      },
      "outputs": [],
      "source": [
        "import re\n",
        "pattern = re.compile(r'\\.([^\\.]*)$')\n",
        "def cleaner(s):\n",
        "    s = str(s)\n",
        "    return re.sub(pattern, r'. ', s)"
      ]
    },
    {
      "cell_type": "code",
      "execution_count": 268,
      "id": "9e3f0e86",
      "metadata": {
        "id": "9e3f0e86"
      },
      "outputs": [],
      "source": [
        "anidf['synopsis'] = anidf['synopsis'].apply(cleaner)"
      ]
    },
    {
      "cell_type": "code",
      "execution_count": 269,
      "id": "86450349",
      "metadata": {
        "colab": {
          "base_uri": "https://localhost:8080/",
          "height": 0
        },
        "id": "86450349",
        "outputId": "7dd88c28-b90c-45fc-9327-5f26db13ae09"
      },
      "outputs": [
        {
          "output_type": "execute_result",
          "data": {
            "text/plain": [
              "0        Yabuki Joe is left downhearted and hopeless af...\n",
              "1        Ghostly, primordial beings known as Mushi cont...\n",
              "2        Following the conclusion of the large-scale co...\n",
              "3        Young Thorfinn grew up listening to the storie...\n",
              "4        Crime is timeless. By the year 2071, humanity ...\n",
              "                               ...                        \n",
              "20918                                                  nan\n",
              "20919                                                  nan\n",
              "20920                                                  nan\n",
              "20921                                                  nan\n",
              "20922                                                  nan\n",
              "Name: synopsis, Length: 20923, dtype: object"
            ],
            "text/html": [
              "<div>\n",
              "<style scoped>\n",
              "    .dataframe tbody tr th:only-of-type {\n",
              "        vertical-align: middle;\n",
              "    }\n",
              "\n",
              "    .dataframe tbody tr th {\n",
              "        vertical-align: top;\n",
              "    }\n",
              "\n",
              "    .dataframe thead th {\n",
              "        text-align: right;\n",
              "    }\n",
              "</style>\n",
              "<table border=\"1\" class=\"dataframe\">\n",
              "  <thead>\n",
              "    <tr style=\"text-align: right;\">\n",
              "      <th></th>\n",
              "      <th>synopsis</th>\n",
              "    </tr>\n",
              "  </thead>\n",
              "  <tbody>\n",
              "    <tr>\n",
              "      <th>0</th>\n",
              "      <td>Yabuki Joe is left downhearted and hopeless af...</td>\n",
              "    </tr>\n",
              "    <tr>\n",
              "      <th>1</th>\n",
              "      <td>Ghostly, primordial beings known as Mushi cont...</td>\n",
              "    </tr>\n",
              "    <tr>\n",
              "      <th>2</th>\n",
              "      <td>Following the conclusion of the large-scale co...</td>\n",
              "    </tr>\n",
              "    <tr>\n",
              "      <th>3</th>\n",
              "      <td>Young Thorfinn grew up listening to the storie...</td>\n",
              "    </tr>\n",
              "    <tr>\n",
              "      <th>4</th>\n",
              "      <td>Crime is timeless. By the year 2071, humanity ...</td>\n",
              "    </tr>\n",
              "    <tr>\n",
              "      <th>...</th>\n",
              "      <td>...</td>\n",
              "    </tr>\n",
              "    <tr>\n",
              "      <th>20918</th>\n",
              "      <td>nan</td>\n",
              "    </tr>\n",
              "    <tr>\n",
              "      <th>20919</th>\n",
              "      <td>nan</td>\n",
              "    </tr>\n",
              "    <tr>\n",
              "      <th>20920</th>\n",
              "      <td>nan</td>\n",
              "    </tr>\n",
              "    <tr>\n",
              "      <th>20921</th>\n",
              "      <td>nan</td>\n",
              "    </tr>\n",
              "    <tr>\n",
              "      <th>20922</th>\n",
              "      <td>nan</td>\n",
              "    </tr>\n",
              "  </tbody>\n",
              "</table>\n",
              "<p>20923 rows × 1 columns</p>\n",
              "</div><br><label><b>dtype:</b> object</label>"
            ]
          },
          "metadata": {},
          "execution_count": 269
        }
      ],
      "source": [
        "anidf['synopsis']"
      ]
    },
    {
      "cell_type": "code",
      "execution_count": 270,
      "id": "b8d8a36b",
      "metadata": {
        "colab": {
          "base_uri": "https://localhost:8080/",
          "height": 0
        },
        "id": "b8d8a36b",
        "outputId": "b64cd50c-49a4-4bb5-a542-d1f53992a9c5"
      },
      "outputs": [
        {
          "output_type": "execute_result",
          "data": {
            "text/plain": [
              "                                            name_english  \\\n",
              "65                         Sasaki and Miyano: Graduation   \n",
              "634    BanG Dream! Movie: Episode of Roselia - II: So...   \n",
              "905                          Seitokai Yakuindomo Movie 2   \n",
              "1072                               BanG Dream! Film Live   \n",
              "1107                           The Girl Downstairs Extra   \n",
              "...                                                  ...   \n",
              "20918                           Jueshi Tu: Qihuan Zhi Lu   \n",
              "20919                      Jueshi Tu II: Yongheng Zhi Qu   \n",
              "20920                          Juedui Lingyu: Ji Zhan Ji   \n",
              "20921                          Juedui Lingyu Fanwai Pian   \n",
              "20922                                Juedui Lingyu A. F.   \n",
              "\n",
              "                                                    name score  ranked  \\\n",
              "65                 Sasaki to Miyano Movie: Sotsugyou-hen  8.32     237   \n",
              "634    BanG Dream! Movie: Episode of Roselia - II: So...  8.05     559   \n",
              "905                          Seitokai Yakuindomo Movie 2  7.77    1046   \n",
              "1072                               BanG Dream! Film Live  7.72    1179   \n",
              "1107                           Aishang Ta de Liyou Extra  7.75    1094   \n",
              "...                                                  ...   ...     ...   \n",
              "20918                           Jueshi Tu: Qihuan Zhi Lu   N/A   20606   \n",
              "20919                      Jueshi Tu II: Yongheng Zhi Qu   N/A   20605   \n",
              "20920                          Juedui Lingyu: Ji Zhan Ji   N/A   20604   \n",
              "20921                          Juedui Lingyu Fanwai Pian   N/A   20603   \n",
              "20922                                Juedui Lingyu A. F.   N/A   20602   \n",
              "\n",
              "       popularity  members synopsis  \\\n",
              "65           3455    41105      nan   \n",
              "634          6671     8884      nan   \n",
              "905          3902    32447      nan   \n",
              "1072         5778    12625      nan   \n",
              "1107        10323     2648      nan   \n",
              "...           ...      ...      ...   \n",
              "20918       25809       58      nan   \n",
              "20919       26017       56      nan   \n",
              "20920       23841       80      nan   \n",
              "20921       24903       65      nan   \n",
              "20922       23438       86      nan   \n",
              "\n",
              "                                        synonyms type_of total_episodes  ...  \\\n",
              "65                                      Sasamiya   Movie              1  ...   \n",
              "634    Gekijouban Bang Dream! Episode of Roselia   Movie              1  ...   \n",
              "905             Gekijouban Seitokai Yakuindomo 2   Movie              1  ...   \n",
              "1072                       BanG Dream! FILM LIVE   Movie              1  ...   \n",
              "1107                            이두나!, Lee Du-Na!     ONA              1  ...   \n",
              "...                                          ...     ...            ...  ...   \n",
              "20918                    Sir Rabbit Fantasy Trip      TV             52  ...   \n",
              "20919                                 爵士兔Ⅱ 之永恒之曲      TV             52  ...   \n",
              "20920                                    绝对领域极战纪     ONA             10  ...   \n",
              "20921                      Juedui Lingyu Special     ONA              1  ...   \n",
              "20922                                   绝对领域A.F.     ONA             10  ...   \n",
              "\n",
              "      scored_10_by scored_9_by scored_8_by scored_7_by scored_6_by  \\\n",
              "65          2577.0      2474.0      3217.0      1846.0       487.0   \n",
              "634          749.0       692.0      1066.0       691.0       228.0   \n",
              "905         1045.0      1390.0      3353.0      2607.0       722.0   \n",
              "1072         876.0       701.0      1361.0      1259.0       505.0   \n",
              "1107         166.0       117.0       268.0       215.0        69.0   \n",
              "...            ...         ...         ...         ...         ...   \n",
              "20918          7.0         1.0         1.0         3.0         1.0   \n",
              "20919          7.0         1.0         3.0         1.0         NaN   \n",
              "20920          6.0         2.0         3.0         2.0         1.0   \n",
              "20921          6.0         2.0         6.0         4.0         3.0   \n",
              "20922          6.0         1.0         1.0         3.0         2.0   \n",
              "\n",
              "      scored_5_by  scored_4_by  scored_3_by scored_2_by scored_1_by  \n",
              "65          152.0         41.0         22.0        10.0        53.0  \n",
              "634          86.0         35.0         25.0         6.0        17.0  \n",
              "905         258.0         56.0         21.0        12.0        25.0  \n",
              "1072        242.0         63.0         26.0        17.0        35.0  \n",
              "1107         32.0          2.0          4.0         6.0         NaN  \n",
              "...           ...          ...          ...         ...         ...  \n",
              "20918         NaN          NaN          NaN         NaN         NaN  \n",
              "20919         NaN          NaN          NaN         NaN         NaN  \n",
              "20920         3.0          NaN          NaN         NaN         NaN  \n",
              "20921         1.0          3.0          NaN         NaN         NaN  \n",
              "20922         1.0          3.0          NaN         NaN         NaN  \n",
              "\n",
              "[4353 rows x 36 columns]"
            ],
            "text/html": [
              "\n",
              "  <div id=\"df-3d7d54e7-c999-4960-8f45-232e2aac883d\" class=\"colab-df-container\">\n",
              "    <div>\n",
              "<style scoped>\n",
              "    .dataframe tbody tr th:only-of-type {\n",
              "        vertical-align: middle;\n",
              "    }\n",
              "\n",
              "    .dataframe tbody tr th {\n",
              "        vertical-align: top;\n",
              "    }\n",
              "\n",
              "    .dataframe thead th {\n",
              "        text-align: right;\n",
              "    }\n",
              "</style>\n",
              "<table border=\"1\" class=\"dataframe\">\n",
              "  <thead>\n",
              "    <tr style=\"text-align: right;\">\n",
              "      <th></th>\n",
              "      <th>name_english</th>\n",
              "      <th>name</th>\n",
              "      <th>score</th>\n",
              "      <th>ranked</th>\n",
              "      <th>popularity</th>\n",
              "      <th>members</th>\n",
              "      <th>synopsis</th>\n",
              "      <th>synonyms</th>\n",
              "      <th>type_of</th>\n",
              "      <th>total_episodes</th>\n",
              "      <th>...</th>\n",
              "      <th>scored_10_by</th>\n",
              "      <th>scored_9_by</th>\n",
              "      <th>scored_8_by</th>\n",
              "      <th>scored_7_by</th>\n",
              "      <th>scored_6_by</th>\n",
              "      <th>scored_5_by</th>\n",
              "      <th>scored_4_by</th>\n",
              "      <th>scored_3_by</th>\n",
              "      <th>scored_2_by</th>\n",
              "      <th>scored_1_by</th>\n",
              "    </tr>\n",
              "  </thead>\n",
              "  <tbody>\n",
              "    <tr>\n",
              "      <th>65</th>\n",
              "      <td>Sasaki and Miyano: Graduation</td>\n",
              "      <td>Sasaki to Miyano Movie: Sotsugyou-hen</td>\n",
              "      <td>8.32</td>\n",
              "      <td>237</td>\n",
              "      <td>3455</td>\n",
              "      <td>41105</td>\n",
              "      <td>nan</td>\n",
              "      <td>Sasamiya</td>\n",
              "      <td>Movie</td>\n",
              "      <td>1</td>\n",
              "      <td>...</td>\n",
              "      <td>2577.0</td>\n",
              "      <td>2474.0</td>\n",
              "      <td>3217.0</td>\n",
              "      <td>1846.0</td>\n",
              "      <td>487.0</td>\n",
              "      <td>152.0</td>\n",
              "      <td>41.0</td>\n",
              "      <td>22.0</td>\n",
              "      <td>10.0</td>\n",
              "      <td>53.0</td>\n",
              "    </tr>\n",
              "    <tr>\n",
              "      <th>634</th>\n",
              "      <td>BanG Dream! Movie: Episode of Roselia - II: So...</td>\n",
              "      <td>BanG Dream! Movie: Episode of Roselia - II: So...</td>\n",
              "      <td>8.05</td>\n",
              "      <td>559</td>\n",
              "      <td>6671</td>\n",
              "      <td>8884</td>\n",
              "      <td>nan</td>\n",
              "      <td>Gekijouban Bang Dream! Episode of Roselia</td>\n",
              "      <td>Movie</td>\n",
              "      <td>1</td>\n",
              "      <td>...</td>\n",
              "      <td>749.0</td>\n",
              "      <td>692.0</td>\n",
              "      <td>1066.0</td>\n",
              "      <td>691.0</td>\n",
              "      <td>228.0</td>\n",
              "      <td>86.0</td>\n",
              "      <td>35.0</td>\n",
              "      <td>25.0</td>\n",
              "      <td>6.0</td>\n",
              "      <td>17.0</td>\n",
              "    </tr>\n",
              "    <tr>\n",
              "      <th>905</th>\n",
              "      <td>Seitokai Yakuindomo Movie 2</td>\n",
              "      <td>Seitokai Yakuindomo Movie 2</td>\n",
              "      <td>7.77</td>\n",
              "      <td>1046</td>\n",
              "      <td>3902</td>\n",
              "      <td>32447</td>\n",
              "      <td>nan</td>\n",
              "      <td>Gekijouban Seitokai Yakuindomo 2</td>\n",
              "      <td>Movie</td>\n",
              "      <td>1</td>\n",
              "      <td>...</td>\n",
              "      <td>1045.0</td>\n",
              "      <td>1390.0</td>\n",
              "      <td>3353.0</td>\n",
              "      <td>2607.0</td>\n",
              "      <td>722.0</td>\n",
              "      <td>258.0</td>\n",
              "      <td>56.0</td>\n",
              "      <td>21.0</td>\n",
              "      <td>12.0</td>\n",
              "      <td>25.0</td>\n",
              "    </tr>\n",
              "    <tr>\n",
              "      <th>1072</th>\n",
              "      <td>BanG Dream! Film Live</td>\n",
              "      <td>BanG Dream! Film Live</td>\n",
              "      <td>7.72</td>\n",
              "      <td>1179</td>\n",
              "      <td>5778</td>\n",
              "      <td>12625</td>\n",
              "      <td>nan</td>\n",
              "      <td>BanG Dream! FILM LIVE</td>\n",
              "      <td>Movie</td>\n",
              "      <td>1</td>\n",
              "      <td>...</td>\n",
              "      <td>876.0</td>\n",
              "      <td>701.0</td>\n",
              "      <td>1361.0</td>\n",
              "      <td>1259.0</td>\n",
              "      <td>505.0</td>\n",
              "      <td>242.0</td>\n",
              "      <td>63.0</td>\n",
              "      <td>26.0</td>\n",
              "      <td>17.0</td>\n",
              "      <td>35.0</td>\n",
              "    </tr>\n",
              "    <tr>\n",
              "      <th>1107</th>\n",
              "      <td>The Girl Downstairs Extra</td>\n",
              "      <td>Aishang Ta de Liyou Extra</td>\n",
              "      <td>7.75</td>\n",
              "      <td>1094</td>\n",
              "      <td>10323</td>\n",
              "      <td>2648</td>\n",
              "      <td>nan</td>\n",
              "      <td>이두나!, Lee Du-Na!</td>\n",
              "      <td>ONA</td>\n",
              "      <td>1</td>\n",
              "      <td>...</td>\n",
              "      <td>166.0</td>\n",
              "      <td>117.0</td>\n",
              "      <td>268.0</td>\n",
              "      <td>215.0</td>\n",
              "      <td>69.0</td>\n",
              "      <td>32.0</td>\n",
              "      <td>2.0</td>\n",
              "      <td>4.0</td>\n",
              "      <td>6.0</td>\n",
              "      <td>NaN</td>\n",
              "    </tr>\n",
              "    <tr>\n",
              "      <th>...</th>\n",
              "      <td>...</td>\n",
              "      <td>...</td>\n",
              "      <td>...</td>\n",
              "      <td>...</td>\n",
              "      <td>...</td>\n",
              "      <td>...</td>\n",
              "      <td>...</td>\n",
              "      <td>...</td>\n",
              "      <td>...</td>\n",
              "      <td>...</td>\n",
              "      <td>...</td>\n",
              "      <td>...</td>\n",
              "      <td>...</td>\n",
              "      <td>...</td>\n",
              "      <td>...</td>\n",
              "      <td>...</td>\n",
              "      <td>...</td>\n",
              "      <td>...</td>\n",
              "      <td>...</td>\n",
              "      <td>...</td>\n",
              "      <td>...</td>\n",
              "    </tr>\n",
              "    <tr>\n",
              "      <th>20918</th>\n",
              "      <td>Jueshi Tu: Qihuan Zhi Lu</td>\n",
              "      <td>Jueshi Tu: Qihuan Zhi Lu</td>\n",
              "      <td>N/A</td>\n",
              "      <td>20606</td>\n",
              "      <td>25809</td>\n",
              "      <td>58</td>\n",
              "      <td>nan</td>\n",
              "      <td>Sir Rabbit Fantasy Trip</td>\n",
              "      <td>TV</td>\n",
              "      <td>52</td>\n",
              "      <td>...</td>\n",
              "      <td>7.0</td>\n",
              "      <td>1.0</td>\n",
              "      <td>1.0</td>\n",
              "      <td>3.0</td>\n",
              "      <td>1.0</td>\n",
              "      <td>NaN</td>\n",
              "      <td>NaN</td>\n",
              "      <td>NaN</td>\n",
              "      <td>NaN</td>\n",
              "      <td>NaN</td>\n",
              "    </tr>\n",
              "    <tr>\n",
              "      <th>20919</th>\n",
              "      <td>Jueshi Tu II: Yongheng Zhi Qu</td>\n",
              "      <td>Jueshi Tu II: Yongheng Zhi Qu</td>\n",
              "      <td>N/A</td>\n",
              "      <td>20605</td>\n",
              "      <td>26017</td>\n",
              "      <td>56</td>\n",
              "      <td>nan</td>\n",
              "      <td>爵士兔Ⅱ 之永恒之曲</td>\n",
              "      <td>TV</td>\n",
              "      <td>52</td>\n",
              "      <td>...</td>\n",
              "      <td>7.0</td>\n",
              "      <td>1.0</td>\n",
              "      <td>3.0</td>\n",
              "      <td>1.0</td>\n",
              "      <td>NaN</td>\n",
              "      <td>NaN</td>\n",
              "      <td>NaN</td>\n",
              "      <td>NaN</td>\n",
              "      <td>NaN</td>\n",
              "      <td>NaN</td>\n",
              "    </tr>\n",
              "    <tr>\n",
              "      <th>20920</th>\n",
              "      <td>Juedui Lingyu: Ji Zhan Ji</td>\n",
              "      <td>Juedui Lingyu: Ji Zhan Ji</td>\n",
              "      <td>N/A</td>\n",
              "      <td>20604</td>\n",
              "      <td>23841</td>\n",
              "      <td>80</td>\n",
              "      <td>nan</td>\n",
              "      <td>绝对领域极战纪</td>\n",
              "      <td>ONA</td>\n",
              "      <td>10</td>\n",
              "      <td>...</td>\n",
              "      <td>6.0</td>\n",
              "      <td>2.0</td>\n",
              "      <td>3.0</td>\n",
              "      <td>2.0</td>\n",
              "      <td>1.0</td>\n",
              "      <td>3.0</td>\n",
              "      <td>NaN</td>\n",
              "      <td>NaN</td>\n",
              "      <td>NaN</td>\n",
              "      <td>NaN</td>\n",
              "    </tr>\n",
              "    <tr>\n",
              "      <th>20921</th>\n",
              "      <td>Juedui Lingyu Fanwai Pian</td>\n",
              "      <td>Juedui Lingyu Fanwai Pian</td>\n",
              "      <td>N/A</td>\n",
              "      <td>20603</td>\n",
              "      <td>24903</td>\n",
              "      <td>65</td>\n",
              "      <td>nan</td>\n",
              "      <td>Juedui Lingyu Special</td>\n",
              "      <td>ONA</td>\n",
              "      <td>1</td>\n",
              "      <td>...</td>\n",
              "      <td>6.0</td>\n",
              "      <td>2.0</td>\n",
              "      <td>6.0</td>\n",
              "      <td>4.0</td>\n",
              "      <td>3.0</td>\n",
              "      <td>1.0</td>\n",
              "      <td>3.0</td>\n",
              "      <td>NaN</td>\n",
              "      <td>NaN</td>\n",
              "      <td>NaN</td>\n",
              "    </tr>\n",
              "    <tr>\n",
              "      <th>20922</th>\n",
              "      <td>Juedui Lingyu A. F.</td>\n",
              "      <td>Juedui Lingyu A. F.</td>\n",
              "      <td>N/A</td>\n",
              "      <td>20602</td>\n",
              "      <td>23438</td>\n",
              "      <td>86</td>\n",
              "      <td>nan</td>\n",
              "      <td>绝对领域A.F.</td>\n",
              "      <td>ONA</td>\n",
              "      <td>10</td>\n",
              "      <td>...</td>\n",
              "      <td>6.0</td>\n",
              "      <td>1.0</td>\n",
              "      <td>1.0</td>\n",
              "      <td>3.0</td>\n",
              "      <td>2.0</td>\n",
              "      <td>1.0</td>\n",
              "      <td>3.0</td>\n",
              "      <td>NaN</td>\n",
              "      <td>NaN</td>\n",
              "      <td>NaN</td>\n",
              "    </tr>\n",
              "  </tbody>\n",
              "</table>\n",
              "<p>4353 rows × 36 columns</p>\n",
              "</div>\n",
              "    <div class=\"colab-df-buttons\">\n",
              "\n",
              "  <div class=\"colab-df-container\">\n",
              "    <button class=\"colab-df-convert\" onclick=\"convertToInteractive('df-3d7d54e7-c999-4960-8f45-232e2aac883d')\"\n",
              "            title=\"Convert this dataframe to an interactive table.\"\n",
              "            style=\"display:none;\">\n",
              "\n",
              "  <svg xmlns=\"http://www.w3.org/2000/svg\" height=\"24px\" viewBox=\"0 -960 960 960\">\n",
              "    <path d=\"M120-120v-720h720v720H120Zm60-500h600v-160H180v160Zm220 220h160v-160H400v160Zm0 220h160v-160H400v160ZM180-400h160v-160H180v160Zm440 0h160v-160H620v160ZM180-180h160v-160H180v160Zm440 0h160v-160H620v160Z\"/>\n",
              "  </svg>\n",
              "    </button>\n",
              "\n",
              "  <style>\n",
              "    .colab-df-container {\n",
              "      display:flex;\n",
              "      gap: 12px;\n",
              "    }\n",
              "\n",
              "    .colab-df-convert {\n",
              "      background-color: #E8F0FE;\n",
              "      border: none;\n",
              "      border-radius: 50%;\n",
              "      cursor: pointer;\n",
              "      display: none;\n",
              "      fill: #1967D2;\n",
              "      height: 32px;\n",
              "      padding: 0 0 0 0;\n",
              "      width: 32px;\n",
              "    }\n",
              "\n",
              "    .colab-df-convert:hover {\n",
              "      background-color: #E2EBFA;\n",
              "      box-shadow: 0px 1px 2px rgba(60, 64, 67, 0.3), 0px 1px 3px 1px rgba(60, 64, 67, 0.15);\n",
              "      fill: #174EA6;\n",
              "    }\n",
              "\n",
              "    .colab-df-buttons div {\n",
              "      margin-bottom: 4px;\n",
              "    }\n",
              "\n",
              "    [theme=dark] .colab-df-convert {\n",
              "      background-color: #3B4455;\n",
              "      fill: #D2E3FC;\n",
              "    }\n",
              "\n",
              "    [theme=dark] .colab-df-convert:hover {\n",
              "      background-color: #434B5C;\n",
              "      box-shadow: 0px 1px 3px 1px rgba(0, 0, 0, 0.15);\n",
              "      filter: drop-shadow(0px 1px 2px rgba(0, 0, 0, 0.3));\n",
              "      fill: #FFFFFF;\n",
              "    }\n",
              "  </style>\n",
              "\n",
              "    <script>\n",
              "      const buttonEl =\n",
              "        document.querySelector('#df-3d7d54e7-c999-4960-8f45-232e2aac883d button.colab-df-convert');\n",
              "      buttonEl.style.display =\n",
              "        google.colab.kernel.accessAllowed ? 'block' : 'none';\n",
              "\n",
              "      async function convertToInteractive(key) {\n",
              "        const element = document.querySelector('#df-3d7d54e7-c999-4960-8f45-232e2aac883d');\n",
              "        const dataTable =\n",
              "          await google.colab.kernel.invokeFunction('convertToInteractive',\n",
              "                                                    [key], {});\n",
              "        if (!dataTable) return;\n",
              "\n",
              "        const docLinkHtml = 'Like what you see? Visit the ' +\n",
              "          '<a target=\"_blank\" href=https://colab.research.google.com/notebooks/data_table.ipynb>data table notebook</a>'\n",
              "          + ' to learn more about interactive tables.';\n",
              "        element.innerHTML = '';\n",
              "        dataTable['output_type'] = 'display_data';\n",
              "        await google.colab.output.renderOutput(dataTable, element);\n",
              "        const docLink = document.createElement('div');\n",
              "        docLink.innerHTML = docLinkHtml;\n",
              "        element.appendChild(docLink);\n",
              "      }\n",
              "    </script>\n",
              "  </div>\n",
              "\n",
              "\n",
              "<div id=\"df-c5ebb38b-6364-45c7-b4a5-44eaccccb5b9\">\n",
              "  <button class=\"colab-df-quickchart\" onclick=\"quickchart('df-c5ebb38b-6364-45c7-b4a5-44eaccccb5b9')\"\n",
              "            title=\"Suggest charts\"\n",
              "            style=\"display:none;\">\n",
              "\n",
              "<svg xmlns=\"http://www.w3.org/2000/svg\" height=\"24px\"viewBox=\"0 0 24 24\"\n",
              "     width=\"24px\">\n",
              "    <g>\n",
              "        <path d=\"M19 3H5c-1.1 0-2 .9-2 2v14c0 1.1.9 2 2 2h14c1.1 0 2-.9 2-2V5c0-1.1-.9-2-2-2zM9 17H7v-7h2v7zm4 0h-2V7h2v10zm4 0h-2v-4h2v4z\"/>\n",
              "    </g>\n",
              "</svg>\n",
              "  </button>\n",
              "\n",
              "<style>\n",
              "  .colab-df-quickchart {\n",
              "      --bg-color: #E8F0FE;\n",
              "      --fill-color: #1967D2;\n",
              "      --hover-bg-color: #E2EBFA;\n",
              "      --hover-fill-color: #174EA6;\n",
              "      --disabled-fill-color: #AAA;\n",
              "      --disabled-bg-color: #DDD;\n",
              "  }\n",
              "\n",
              "  [theme=dark] .colab-df-quickchart {\n",
              "      --bg-color: #3B4455;\n",
              "      --fill-color: #D2E3FC;\n",
              "      --hover-bg-color: #434B5C;\n",
              "      --hover-fill-color: #FFFFFF;\n",
              "      --disabled-bg-color: #3B4455;\n",
              "      --disabled-fill-color: #666;\n",
              "  }\n",
              "\n",
              "  .colab-df-quickchart {\n",
              "    background-color: var(--bg-color);\n",
              "    border: none;\n",
              "    border-radius: 50%;\n",
              "    cursor: pointer;\n",
              "    display: none;\n",
              "    fill: var(--fill-color);\n",
              "    height: 32px;\n",
              "    padding: 0;\n",
              "    width: 32px;\n",
              "  }\n",
              "\n",
              "  .colab-df-quickchart:hover {\n",
              "    background-color: var(--hover-bg-color);\n",
              "    box-shadow: 0 1px 2px rgba(60, 64, 67, 0.3), 0 1px 3px 1px rgba(60, 64, 67, 0.15);\n",
              "    fill: var(--button-hover-fill-color);\n",
              "  }\n",
              "\n",
              "  .colab-df-quickchart-complete:disabled,\n",
              "  .colab-df-quickchart-complete:disabled:hover {\n",
              "    background-color: var(--disabled-bg-color);\n",
              "    fill: var(--disabled-fill-color);\n",
              "    box-shadow: none;\n",
              "  }\n",
              "\n",
              "  .colab-df-spinner {\n",
              "    border: 2px solid var(--fill-color);\n",
              "    border-color: transparent;\n",
              "    border-bottom-color: var(--fill-color);\n",
              "    animation:\n",
              "      spin 1s steps(1) infinite;\n",
              "  }\n",
              "\n",
              "  @keyframes spin {\n",
              "    0% {\n",
              "      border-color: transparent;\n",
              "      border-bottom-color: var(--fill-color);\n",
              "      border-left-color: var(--fill-color);\n",
              "    }\n",
              "    20% {\n",
              "      border-color: transparent;\n",
              "      border-left-color: var(--fill-color);\n",
              "      border-top-color: var(--fill-color);\n",
              "    }\n",
              "    30% {\n",
              "      border-color: transparent;\n",
              "      border-left-color: var(--fill-color);\n",
              "      border-top-color: var(--fill-color);\n",
              "      border-right-color: var(--fill-color);\n",
              "    }\n",
              "    40% {\n",
              "      border-color: transparent;\n",
              "      border-right-color: var(--fill-color);\n",
              "      border-top-color: var(--fill-color);\n",
              "    }\n",
              "    60% {\n",
              "      border-color: transparent;\n",
              "      border-right-color: var(--fill-color);\n",
              "    }\n",
              "    80% {\n",
              "      border-color: transparent;\n",
              "      border-right-color: var(--fill-color);\n",
              "      border-bottom-color: var(--fill-color);\n",
              "    }\n",
              "    90% {\n",
              "      border-color: transparent;\n",
              "      border-bottom-color: var(--fill-color);\n",
              "    }\n",
              "  }\n",
              "</style>\n",
              "\n",
              "  <script>\n",
              "    async function quickchart(key) {\n",
              "      const quickchartButtonEl =\n",
              "        document.querySelector('#' + key + ' button');\n",
              "      quickchartButtonEl.disabled = true;  // To prevent multiple clicks.\n",
              "      quickchartButtonEl.classList.add('colab-df-spinner');\n",
              "      try {\n",
              "        const charts = await google.colab.kernel.invokeFunction(\n",
              "            'suggestCharts', [key], {});\n",
              "      } catch (error) {\n",
              "        console.error('Error during call to suggestCharts:', error);\n",
              "      }\n",
              "      quickchartButtonEl.classList.remove('colab-df-spinner');\n",
              "      quickchartButtonEl.classList.add('colab-df-quickchart-complete');\n",
              "    }\n",
              "    (() => {\n",
              "      let quickchartButtonEl =\n",
              "        document.querySelector('#df-c5ebb38b-6364-45c7-b4a5-44eaccccb5b9 button');\n",
              "      quickchartButtonEl.style.display =\n",
              "        google.colab.kernel.accessAllowed ? 'block' : 'none';\n",
              "    })();\n",
              "  </script>\n",
              "</div>\n",
              "\n",
              "    </div>\n",
              "  </div>\n"
            ],
            "application/vnd.google.colaboratory.intrinsic+json": {
              "type": "dataframe"
            }
          },
          "metadata": {},
          "execution_count": 270
        }
      ],
      "source": [
        "anidf[anidf['synopsis'].isin(['nan']) == True]"
      ]
    },
    {
      "cell_type": "code",
      "execution_count": 271,
      "id": "70b561a5",
      "metadata": {
        "colab": {
          "base_uri": "https://localhost:8080/",
          "height": 0
        },
        "id": "70b561a5",
        "outputId": "8d308468-a8f8-4c53-cc60-235fa2127080"
      },
      "outputs": [
        {
          "output_type": "execute_result",
          "data": {
            "text/plain": [
              "synopsis\n",
              "nan    4353\n",
              "Name: count, dtype: int64"
            ],
            "text/html": [
              "<div>\n",
              "<style scoped>\n",
              "    .dataframe tbody tr th:only-of-type {\n",
              "        vertical-align: middle;\n",
              "    }\n",
              "\n",
              "    .dataframe tbody tr th {\n",
              "        vertical-align: top;\n",
              "    }\n",
              "\n",
              "    .dataframe thead th {\n",
              "        text-align: right;\n",
              "    }\n",
              "</style>\n",
              "<table border=\"1\" class=\"dataframe\">\n",
              "  <thead>\n",
              "    <tr style=\"text-align: right;\">\n",
              "      <th></th>\n",
              "      <th>count</th>\n",
              "    </tr>\n",
              "    <tr>\n",
              "      <th>synopsis</th>\n",
              "      <th></th>\n",
              "    </tr>\n",
              "  </thead>\n",
              "  <tbody>\n",
              "    <tr>\n",
              "      <th>nan</th>\n",
              "      <td>4353</td>\n",
              "    </tr>\n",
              "  </tbody>\n",
              "</table>\n",
              "</div><br><label><b>dtype:</b> int64</label>"
            ]
          },
          "metadata": {},
          "execution_count": 271
        }
      ],
      "source": [
        "sdf = anidf[anidf['synopsis'].isin(['nan'])]\n",
        "sdf['synopsis'].value_counts()"
      ]
    },
    {
      "cell_type": "markdown",
      "id": "a1c33170",
      "metadata": {
        "id": "a1c33170"
      },
      "source": [
        "\n",
        "## Synonyms"
      ]
    },
    {
      "cell_type": "code",
      "execution_count": 272,
      "id": "296e6618",
      "metadata": {
        "colab": {
          "base_uri": "https://localhost:8080/",
          "height": 0
        },
        "id": "296e6618",
        "outputId": "3d7adce7-b56e-441a-ed9e-6a202c07062e"
      },
      "outputs": [
        {
          "output_type": "execute_result",
          "data": {
            "text/plain": [
              "0                      Rocky Joe 2\n",
              "1    Mushishi Zoku Shou 2nd Season\n",
              "2                     キングダム 第4シリーズ\n",
              "3                        ヴィンランド・サガ\n",
              "4                        カウボーイビバップ\n",
              "Name: synonyms, dtype: object"
            ],
            "text/html": [
              "<div>\n",
              "<style scoped>\n",
              "    .dataframe tbody tr th:only-of-type {\n",
              "        vertical-align: middle;\n",
              "    }\n",
              "\n",
              "    .dataframe tbody tr th {\n",
              "        vertical-align: top;\n",
              "    }\n",
              "\n",
              "    .dataframe thead th {\n",
              "        text-align: right;\n",
              "    }\n",
              "</style>\n",
              "<table border=\"1\" class=\"dataframe\">\n",
              "  <thead>\n",
              "    <tr style=\"text-align: right;\">\n",
              "      <th></th>\n",
              "      <th>synonyms</th>\n",
              "    </tr>\n",
              "  </thead>\n",
              "  <tbody>\n",
              "    <tr>\n",
              "      <th>0</th>\n",
              "      <td>Rocky Joe 2</td>\n",
              "    </tr>\n",
              "    <tr>\n",
              "      <th>1</th>\n",
              "      <td>Mushishi Zoku Shou 2nd Season</td>\n",
              "    </tr>\n",
              "    <tr>\n",
              "      <th>2</th>\n",
              "      <td>キングダム 第4シリーズ</td>\n",
              "    </tr>\n",
              "    <tr>\n",
              "      <th>3</th>\n",
              "      <td>ヴィンランド・サガ</td>\n",
              "    </tr>\n",
              "    <tr>\n",
              "      <th>4</th>\n",
              "      <td>カウボーイビバップ</td>\n",
              "    </tr>\n",
              "  </tbody>\n",
              "</table>\n",
              "</div><br><label><b>dtype:</b> object</label>"
            ]
          },
          "metadata": {},
          "execution_count": 272
        }
      ],
      "source": [
        "anidf['synonyms'].head()"
      ]
    },
    {
      "cell_type": "code",
      "execution_count": 273,
      "id": "9ee91d2e",
      "metadata": {
        "colab": {
          "base_uri": "https://localhost:8080/"
        },
        "id": "9ee91d2e",
        "outputId": "84507fe7-515c-4b3a-cad3-7271bfb1cb44"
      },
      "outputs": [
        {
          "output_type": "execute_result",
          "data": {
            "text/plain": [
              "0"
            ]
          },
          "metadata": {},
          "execution_count": 273
        }
      ],
      "source": [
        "anidf['synonyms'].isnull().sum()"
      ]
    },
    {
      "cell_type": "code",
      "execution_count": 274,
      "id": "500966a7",
      "metadata": {
        "colab": {
          "base_uri": "https://localhost:8080/",
          "height": 0
        },
        "id": "500966a7",
        "outputId": "3ef11815-b40b-40a6-f5e8-3aaf60266d18"
      },
      "outputs": [
        {
          "output_type": "execute_result",
          "data": {
            "text/plain": [
              "'Rocky Joe 2Mushishi Zoku Shou 2nd Seasonキングダム 第4シリーズヴィンランド・サガカウボーイビバップNekomonogatari: Shiro, Kabukimonogatari, Otorimonogatari, Onimonogatari, Koimonogatari鬼滅の刃 遊郭編Shingeki no Kyojin Season 4, Attack on Titan Season 4The First Step, Hajime no Ippo: The FightingSen and Chihiro\\'s Spiriting Awayキングダム 第5シリーズKoyomi Vampかぐや様は告らせたい -ファーストキッスは終わらない-Haikyuu!! Third Season, Haikyuu!! Karasuno High VS Shiratorizawa AcademyTHE FIRST SLAM DUNKMob Psycho 100 2nd Season, Mob Psycho Hyaku, Mob Psycho One Hundredぼっち・ざ・ろっく！銀魂. 銀ノ魂篇ヴィンランド・サガ SEASON2キングダム 第3シリーズ君の名は。Jujutsu Kaisen: Kaigyoku Gyokusetsu, Jujutsu Kaisen: Shibuya Jihen, Sorcery Fight, JJKGekijouban Violet EvergardenEnd Story 2nd SeasonモンスターGintama.: Silver Soul Arc 2Gintama: The Final Chapter - Be Forever Yorozuya, Gintama Movie 2Shingeki no Kyojin: The Final Season Part 3, Shingeki no Kyojin Season 4, Attack on Titan Season 4Code Geass: Hangyaku no Lelouch 2nd Season, Code Geass: Hangyaku no Lelouch Second SeasonBokuyabaSangatsu no Lion Second SeasonThe Pharmacist\\'s Monologue, Drugstore SoliloquyThe Shape of VoiceCLANNAD〜AFTER STORY〜 クラナド アフターストーリーGin Tama, Silver Soul, Yorinuki Gintama-sanGintama (2017)Fruits Basket 3rd Season, Fruits Basket (2019) 3rd Season, FurubaKaguya-sama wa Kokurasetai: Tensai-tachi no Renai Zunousen 3rd Season, Kaguya-sama: Love is War Season 3rd SeasonGintama\\' (2012), Gintama\\' Overdrive, KintamaLoGH, LotGH, Gin\\'eiden, GinEiDen, Heldensagen Vom KosmosinselBleach: Thousand-Year Blood War ArcGintama (2011)HxH (2011)銀魂 THE FINAL進撃の巨人 Season3 Part.2Gintama\\' (2015)STEINS;GATEHagane no Renkinjutsushi: Fullmetal Alchemist, Fullmetal Alchemist (2009), FMA, FMABFrieren at the FuneralShowa and Genroku Era Lover\\'s Suicide Through Rakugo文豪ストレイドッグスThe Legend of the Galactic Heroes: The New Thesis 3rd Season, LotGH, Legend of the Galactic Heroes: Die Neue These - ClashRocky Joe, Champion JoeOokami to Koushinryou 2nd Season, Spice and Wolf 2nd SeasonWelcome to the NHKNatsume Yujincho, Natsume Yujin-choKemono no Soujya Erin, Kemono no Sou-ja ErinKingdom Hisho Hen, Kingdom: Dai 2 SeriesSword Story吞噬星空 第三季Suzume\\'s Door-Locking宇宙戦艦ヤマト2199ギヴンFate/stay night (2015), Fate - Stay NightSasamiyaNatsume Yuujinchou Go: Hitoyo Sakazuki, Natsume Yuujinchou Go: Yuugi no Utage, Natsume Yuujinchou Go: One Night Sake Cup, Natsume Yuujinchou Go: Party of Fun & GamesMajor 6th SeasonSekai Meisaku Gekijou, Romeo\\'s Blue Skies, Romio no Aoi SoraRe: Life in a different world from zero 2nd Season, ReZero 2nd Season, Re:Zero - Starting Life in Another World 2PsychopathONE OUTS Nobody wins, but I!Natsume Yuujinchou OVA, Natsume Yujincho OVA, Natsume\\'s Book of Friends OVA, Natsume on One Snowy Day名探偵コナン 黒鉄の魚影 (サブマリン)Parasite, Parasitic Beasts, ParasyteBerusaiyu no BaraTGCF Special, Tian Guan Ci Fu SpecialTensura 2アイドリッシュセブンGhostory, MonstoryIDバクマン。2ndシーズンDr. Stone 3rd Season Part 2機動戦士ガンダムTHE ORIGINViolet Evergarden Extra Episode, Violet Evergarden Episode 14, Violet Evergarden Special, The day you understand \"I love you\" will surely comeUsagi DropTGCF, Tian Guan Ci FuYahari Ore no Seishun Love Comedy wa Machigatteiru. 3rd Season, My Teen Romantic Comedy SNAFU 3, Oregairu 3, My youth romantic comedy is wrong as I expected 3NGE, Evangelion (1995)HELLSING OVAGintama: Jump Anime Tour 2008 SpecialTo You, the ImmortalNausicaa of the Valley of the Wind, Kaze no Tani no Nausicaa, Warriors of the WindNa Honjaman Level Up, 나 혼자만 레벨업, I Level Up AloneEiga K-On!, Keion MovieRamayana: Rama Ouji Densetsu, The Warrior PrinceHaikyuu!! (2020), Haikyuu!! Fourth Season, Haikyuu!! 4th Seasonバッカーノ！クロスゲームBLUE GIANTBarakamonNon Non Biyori 3rd Season, Non Non Biyori Third SeasonJobless Reincarnation: I Will Seriously Try If I Go To Another WorldGrandmaster of Demonic Cultivation 2, The Founder of Diabolism 2, Mo Dao Zu Shi 2nd Season, The Founder of Diabolism: The RebornMahou Shoujo Madoka Magika Movie 2, Magical Girl Madoka Magica Movie 2Mahou Shoujo Madoka Magika, Magical Girl Madoka MagicaMade in Abyss Movie 2: Wandering TwilightKimetsu no Yaiba Movie: Mugen Ressha-hen (TV)Kaze ga Tsuyoku Fuite Iru, KazetsuyoKara no Kyoukai: The Garden of Sinners Movie 7, Borderline of Emptiness: Murder Speculation (Part 2), The Garden of Sinners: ...not nothing heartShadow Garden 2nd SeasonCowboy Bebop: Knockin\\' on Heaven\\'s DoorChihayafull 2Sangatsu no Lionジョゼと虎と魚たちCountry of JewelsGintama° OVALet\\'s Decorate the Promised Flowers in the Morning of Farewells, SayoAsa神様はじめました～過去編～夏目友人帳 陸 特別編Modao Zushi, Grandmaster of Demonic Cultivation, The Founder of Diabolism, Mo Dao Zu Shi: Qianchen Pian, 魔道祖师 前尘篇, Madou SoshiMajor 5th SeasonVivy -Fluorite Eye\\'s Song- (ヴィヴィ -フローライトアイズソング-)Violet Evergarden Side Story: Eternity and the Auto Memory DollHxHKyouko to Katsuya no Monogatari, The Story of Kyoko and KatsuyaSaiki Kusuo no Psi Nan, Saiki Kusuo no SainanSkilled Teaser Takagi-san 3rd Season, Karakai Jouzu no Takagi-san Third SeasonKaguya Wants to be Confessed To: The Geniuses\\' War of Love and BrainsSaiki Kusuo no Psi Nan 2Saenai Heroine no Sodatekata Movie, Saekano: How to Raise a Boring Girlfriend MovieGekijouban Natsume Yuujinchou, Natsume Yujin-cho the Movie: Ephemeral Bondモノノ怪Ghost in the Shell SAC, Ghost in the Shell: Stand Alone ComplexKono Oto Tomare! 2nd Season, Stop This Sound! 2nd SeasonShingeki no Kyojin: Birth of LeviEiga Yuru CampMushishi Zoku Shou Special, Mushi-shi Zoku Shou: Odoro no Michi, Mushishi Zoku Shou Episode 11 and 12, Mushishi Next Passage: Path of ThornsKonoSuba Movie, Eiga Kono Subarashii Sekai ni Shukufuku wo!ぐらんぶるShinsengumi Douran Hen, Kabuki Chou Shitennou Hen, Kabuki-chou Devas Hen, Gintama: The Best of Gintama on Theater 2DJoJo\\'s Bizarre Adventure Part 3, JoJo\\'s Bizarre Adventure: Stardust Crusaders - Egypt ArcHigh Kyuu!!, HQ!!ゴールデンカムイ続・終物語Tensura 3Steins Gate MovieGekijouban Jujutsu Kaisen 0, JJK 0The Wolf Children Ame and YukiNatsume Yuujinchou Three, Natsume Yuujinchou 3, Natsume Yujincho 3Natsume Yuujinchou Season 5, Natsume\\'s Book of Friends FiveKoyomi Vamp, Kizumonogatari Part 2ジョジョの奇妙な冒険 ストーンオーシャンJoJo\\'s Bizarre Adventure Part 5: Golden Wind, JoJo no Kimyou na Bouken Part 5: Ougon no Kaze, Le Bizzarre Avventure Di GioGio Parte 5: Vento AureoBerserk: The Chronicles of Wind Blades, Sword-Wind Chronicle BerserkTengen Toppa Gurren Lagann Movie 2Evangelion: 4.0, Rebuild of Evangelion, Shin Evangelion Gekijouban: ||, Rebuild of Evangelion: FinalMushishi Tokubetsu-hen: Suzu no Shizuku, Mushishi: The Next Chapter - Drops of Bells青春ブタ野郎はゆめみる少女の夢を見ないGekijouban Kimetsu no Yaiba: Mugen Ressha-hen, Kimetsu no Yaiba: Infinity Train, Demon Slayer Movie: Infinity TrainFighting Spirit: Rising, Hajime no Ippo 3サイバーパンク エッジランナーズThe Vanishment of Haruhi Suzumiya, Suzumiya Haruhi no Syoshitsu, Haruhi MovieGekijouban Made in Abyss: Fukaki Tamashii no Reimei, Made in Abyss: Dawn of the Deep SoulSorcery Fight, JJK進撃の巨人 Season3PPTANatsume Yuujinchou Season 6, Natsume\\'s Book of Friends SixDNHaikyuu!! Second SeasonTengen Toppa Gurren-Lagann, Making Break-Through Gurren Lagann, Heavenly Breakthrough Gurren Lagann, TTGL, Gurren LagganKaguya Wants to be Confessed To: The Geniuses\\' War of Love and Brains 2nd Season, Kaguya-sama wa Kokurasetai: Tensai-tachi no Renai Zunousen 2nd Season, Kaguya-sama: Love is War 2nd SeasonKimiusoNatsume Yuujinchou Four, Natsume Yuujinchou 4, Natsume Yujincho 4メイドインアビス 烈日の黄金郷メイドインアビス蟲師Mononoke Himeハウルの動く城Fate/stay night Movie: Heaven\\'s Feel 3Hajime no Ippo New Series, Hajime no Ippo Season II, Hajime no Ippo 2オッドタクシー無職転生 ～異世界行ったら本気だす～ 第2クールヴァイオレット・エヴァーガーデンTian Guan Cifu 2nd Season, Tian Guan Ci FuMy Star時光代理人, Jikou Dairinin, Shi Guang Dai Li RenMushi-shi Zoku Shou, Mushishi: The Next ChapterGTO, GTO - The AnimationBleach: Thousand-Year Blood War Arc Part 2コードギアス 反逆のルルーシュRurouni Kenshin: Tsuiokuhen, Rurouni Kenshin: Reminiscence86―エイティシックス―Mob Psycho 100 3rd Season, Mob Psycho Hyaku, Mob Psycho One HundredEnd StoryEverydayYu Yu Hakusho, Ghost Fighter, Poltergeist Report, YuYu HakushoOPChihayafull 3銀魂 THE SEMI-FINALBANANA FISHRainbow: Criminal Seven of Compound Two Cell SixGrandmaster of Demonic Cultivation 3, The Founder of Diabolism 3, Mo Dao Zu Shi 3rd Season, Mo Dao Zu Shi Final ArcBlade of Demon Destructionからかい上手の高木さんMahou Shoujo Madoka Magika Movie 3, Magical Girl Madoka Magica Movie 3Aria Season 3Ansatsu Kyoushitsu Season 2, Ansatsu Kyoushitsu Final SeasonFate/stay night Movie: Heaven\\'s Feel 2Mob Psycho Hyaku, Mob Psycho One HundredYuru Camp 3rd SeasonUchuu Kyodaiサマータイムレンダ約束のネバーランドJoJo no Kimyou na Bouken Part 4: Diamond wa Kudakenai, Diamond is not CrashLink Click 2nd Season, 時光代理人 -LINK CLICK- IIOne Punch-Man, One-Punch Man, OPMSAMURAI CHAMPLOOKing Ranking進撃の巨人 Season2Shouwa Genroku Rakugo Shinjuu 2nd Season, Showa and Genroku Era Lover\\'s Suicide Through Rakugo 2nd SeasonチェンソーマンTombstone for Fireflies銀魂。ポロリ編Gintama: Benizakura Arc - A New Retelling, Gintama Movie: Crimson Sakura Chapter New Edition, Gintama: Shin-yaku Benizakura-henプルートウGhost In The Shell S.A.C. 2nd GIGKara no Kyoukai: The Garden of Sinners Movie 5, Borderline of Emptiness: Paradox Spiral, The Garden of Sinners: Paradox ParadigmYuru Camp 2nd Season, YurukyanUchuu yori mo Tooi Basho, A Story That Leads to the Antarctica, YorimoiSteins,Gate ZeroBakuman Season 3Mushi-shi Tokubetsu-hen: Hihamu Kage, Mushishi Special: HihamukageパーフェクトブルーNatsume Yuujinchou Two, Natsume Yuujinchou 2, Natsume Yujincho 2SPY×FAMILY劇場版 少女☆歌劇 レヴュースタァライトAoT, SnKFruits Basket (2019) 2nd Season, Furuba, Fruits Basket (Kouhen)Haikyu!! TO THE TOP 2nd-cour, Haikyu!! TO THE TOP Part 2Fate/Zero Second SeasonNANA [ナナ]KimiSui, Let Me Eat Your PancreasスラムダンクShinseiki Evangelion Gekijouban: The End of Evangelion, EoEYojo-Han Shinwa Taikei, Yojou-Han Shinwa Taikei, Yojohan Shinwa TaikeiDaiya no Ace: Act IIDoraemon: Nobita and the New Steel Troops - Angel WingsCard Captors Sakura The Movie 2, Card Captor Sakura: Enchanted Cards文豪ストレイドッグス 第3期IDOLiSH7 3rd Season, Idolish Seven 3rd SeasonHaikyu!! Final MovieHigh Kyuu!! Movie 4: Haikyuu!! Movie 4: Battle of Concepts, Haikyuu!!: Karasuno Koukou VS Shiratorizawa Gakuen Koukou Recap, Haikyuu!! Recap 4Ookami to KoushinryouIf You Listen Carefully, Ghibli Movie 10Major 3rd Season, Major 3, m3Witch\\'s Express DeliveryMahou Shoujo Madoka Magika Movie 1, Magical Girl Madoka Magica Movie 1To All the Corners of the WorldKamisama Hajimemashita 2nd Season, Kami-sama Hajimemashita 2nd Season, Kamisama Kiss 2nd SeasonWu Shan Wu Xing 2nd Season吞噬星空 第四季トライガン天国大魔境Gekijouban Youjo Senki男子高校生の日常青春ブタ野郎はランドセルガールの夢を見ないAoButaRe: Life in a different world from zero, ReZeroNodame Cantabile Third Season, Nodame Cantabile Season 3Jobless Reincarnation: I Will Seriously Try If I Go To Another World, Mushoku Tensei: Isekai Ittara Honki Dasu 2nd Season Part 2G-Tekketsu 2nd Season劇場版 のんのんびより ばけーしょん名探偵コナン エピソードONE 小さくなった名探偵Mumins, Delightful Moomin Family, Fun Family Moomin, The Moomins, Tales From Moominvalleyはじめの一歩 間柴vs木村 死刑執行Golden Kamuy Second SeasonDanMachi 4th Season Part 2, Is It Wrong That I Want to Meet You in a Dungeon 4th Season Part 2Child of a BeastHunter x Hunter: G I Final, Hunter x Hunter OVA 3Gyakkyou Burai Kaiji S2, The Suffering Pariah Kaiji: Backslide ArcDororo to HyakkimaruChiyoko Millennial Actress劇場版 黒執事 Book of the Atlantic鬼滅の刃 刀鍛冶の里編My Neighbour TotoroSteins Gate: Episode 23 (β), Open the Missing LinkSPY×FAMILY CODE: WhiteワールドトリガーTenkuu no Shiro Rapyutaストレンヂア -無皇刃譚-Space☆Dandy Second SeasonThe First Step - Champion RoadThe Legend of the Galactic Heroes: The New Thesis - Stellar War Part 3, Ginga Eiyuu Densetsu: Die Neue These 2nd SeasonΠΛΑΝΗΤΕΣのだめカンタービレGive Blessings to This Wonderful World! 2Kobayashi-san Chi no Maid Dragon 2nd Season, Miss Kobayashi\\'s Dragon Maid 2nd SeasonSpice and WolfNaruto Hurricane ChroniclesGhost in the ShellYurukyanViolet Evergarden: Pour MémoireTsubasa Reservoir Chronicle OVA, Tsubasa Reservoir Chronicle: Tokyo RevelationsWhite BoxShin Sekai YoriHibike! Euphonium Third SeasonTobaku Mokushiroku Kaiji, The Suffering Pariah Kaiji銀の匙フェイト/ゼロブルーロックThe Light of a Firefly ForestGirls und Panzer das Finale Part 4Gintama: Shinyaku Benizakura-hen OVA, Gintama: Benizakura Arc - A New Retelling Special, Gintama Movie: Crimson Sakura Chapter New Edition, Gintama: Shin-yaku Benizakura-henドクターストーン同級生Red lineJobless Reincarnation: I Will Seriously Try If I Go To Another World, Mushoku Tensei: Isekai Ittara Honki Dasu 2nd Seasonメジャー ワールドシリーズ編Kino\\'s Travels: The Beautiful WorldMoriarty\\'s Patriotism Part 2, Moriarty the Patriot 2ゆびさきと恋々東京ゴッドファーザーズ天気の子Steins Gate Special, Steins Gate Episode 25, Steins Gate OVA頭文字 D Final StageBECKバンドリ！It\\'s MyGO!!!!!Eighty SixSamurai X, Wandering Kenshin: Romantic Tales from the Meiji EraKuroko no Basuke 3rd Season, The Basketball Which Kuroko PlaysShadow GardenSakamichi no Aporon, Apollo on the SlopeDetective Conan Movie 06: The Phantom of Baker StreetKiller Seven 3, Scissor Seven 3, 伍六七第三季Legend of the Galactic Heroes: Die Neue These, Ginga Eiyuu Densetsu: Die Neue These Fourth Season, Ginga Eiyuu Densetsu: Die Neue These 4th SeasonEvangelion Shin Gekijouban: Ha, Rebuild of Evangelion: 2.0 You Can (Not) Advance, Evangelion 2.22Daiya no Ace: Second Season, Ace of the Diamond: 2nd SeasonMy Hero Academia 6The Town Where Only I am Missing, BokuMachiAnoHana, We Still Don\\'t Know the Name of the Flower We Saw That Day.Hunter x Hunter OVA, Hunter x Hunter: Yorkshin City Kanketsu-henHibike! Euphonium Second SeasonNGNL Zero, NGNL the MovieGinga Eiyuu Densetsu Gaiden: Senoku no Hoshi, Senoku no Hikari, Legend of the Galactic Heroes Gaiden: A Hundred Billion Stars, A Hundred Billion Lights, LoGH GaidenThe King of the CavernHands off the Motion Pictures Club!映画大好きポンポさんBuddy DaddiesIDOLiSH7 2, Idolish Seven 2Given OVA, Given OADブラッククローバーKiller Seven 2, Scissor Seven, Wu Liuqi`s Strongest Hair StylistWorking!!! Episode 14TenSuraShokugeki no Soma, Food Wars: Shokugeki no SomaプリンセスチュチュParty People KoumeiNon Non Biyori Nonstop Episode 13, Non Non Biyori Nonstop OVAImpostoryMajor OVAMobile Suit Gundam: The Origin (TV)カイバノラガミ ARAGOTO夏目友人帳 石起こしと怪しき来訪者Rupan SanseiBeyond the Boundary Movie, Kyokai no Kanata MovieDr. Stone 3rd Seasonデス・パレードHigh Kyuu!! Movie 3, Haikyuu!! Movie 3: Genius and Sense, Haikyuu!! Second Season Recap, Haikyuu!! Recap 3Ginga Eiyuu Densetsu: Die Neue These 2nd Season劇場版「Fate/stay night [Heaven\\'s Feel] Ⅰ.presage flower」Dr. Stone 2nd Season, Dr. Stone Second SeasonAKIRA（アキラ）Ohran Koko Host Club, Ouran Koukou Hosutobu, Ouran Koukou Host Bu, OHSHCMade in Abyss Movie 1: Journey\\'s Dawn神様はじめました「神様、幸せになる」Toaru Kagaku no Railgun 3, Toaru Kagaku no Choudenjihou 3, A Certain Scientific Railgun 3Gekijouban Tengen Toppa Gurren Lagann: Guren-hen, Tengen Toppa Gurren Lagann the MovieMoriarty\\'s Patriotism頭文字〈イニシャル〉D SECOND STAGEInitial D 4th StageHigurashi no Naku Koro ni 2, Higurashi no Naku Koro ni 2nd Series, Higurashi no Nakukoro ni 2nd Season, The Moment the Cicadas Cry 2『ガールズ＆パンツァー 最終章』第3話DBZ, Dragonball Zドラゴンボール超（スーパー） ブロリーCCS, Cardcaptors, Card Captor SakuraBlack Lagoon 2nd Season, Black Lagoon Second SeasonAria 2Detective Conan Movie 20: Pitch Black NightmareDetective ConanLycoRecoKeion 2, K-On!! 2nd SeasonNon Non Biyori 2nd Season, Non Non Biyori Second SeasonMajor 4th Season, Major 4, m4LB!: Refrain夜は短し歩けよ乙女Stand By Me Doraemon 2Hunter X Hunter OVA 2Horogura, HoloGraGirls & Panzer GekijoubanFate/stay night (2014), Fate - Stay NightDr.STONE 龍水デジモンアドベンチャー LAST EVOLUTION 絆ChihayafullボールルームへようこそBakuman Season 1Honey and Clover 2, Honey & Clover IIあそびあそばせアオアシ戦姫絶唱シンフォギアXVOne Piece SpecialNOMAD メガロボクス2メジャー  (第2シリーズ)Kotaro Lives By Himself四畳半タイムマシンブルースxxxHOLiC Rou: AdayumeOregairu 2, My Teen Romantic Comedy SNAFU 2, Yahari Ore no Seishun Love Comedy wa Machigatteiru. Second Season, Yahari Ore no Seishun Love Comedy wa Machigatteiru. 2nd SeasonVanitas no Shuki 2nd Season, Memoir of Vanitas 2nd Season, Vanitas no Carte 2nd SeasonSono Kisekae Ningyou wa Koi wo Suru, KiseKoiInu Yasha: Kanketsu-henホリミヤ -piece-Hori-san and Miyamura-kunBerserk Movie, Berserk Saga, Berserk: Golden Age Arc III - DescentSaiki Kusuo no Psi Nan 3ReLIFE 完結編Pretty Cure All Stars Movie FIkkoku HouseGekijouban Hibike! Euphonium: Mizore to Nozomi no Monogatari, Hibike! Euphonium: The Story of Mizore and Nozomi, Hibike! Euphonium Movie: Mizore to Nozomi no Monogatari劇場版『ONE PIECE STAMPEDE』（スタンピード）名探偵コナン漆黒の追跡者(チェイサー)メジャー （第1シリーズ）Magi: The Labyrinth of Magic 2, Magi Season 2Kuroko no Basuke 2nd Season, The Basketball Which Kuroko PlaysKaguyahime no Monogatari, Princess Kaguya StoryxxxHOLiC: Tsugi, xxxHOLiC TV 2, xxxHOLiC New Series, xxxHOLiC Second Season, xxxHOLiC 2nd SeriesスケットダンスThe End Girl TripShoujo Kakumei UtenaFuruba, Fruits Basket (Zenpen)Fate/strange Fake -Whispers of Dawn-Gintama: Jump Festa 2014 Special, Gintama OAD, Gintama OVANGNL名探偵コナン 銀翼の奇術師[マジシャン]Kyou Kara Ore Ha!!, From Today I\\'ll, From Today on I am, From Today, It\\'s My Turn!!黒執事 Book of MurderThe Magician\\'s Bride, MahoyomeKuroshitsuji Circus Hen, Kuroshitsuji Shin Series, Black Butler 3, Kuroshitsuji IIIKuroko no Basuke, KuroBas, The Basketball Which Kuroko PlaysHigh Kyuu!! Movie 2, Haikyuu!! Recap 2Legend of the Galactic Heroes Gaiden: Spiral Labyrinth, LoGH Gaiden: Spiral LabyrinthAngel Beats!（エンジェルビーツ!）Yowamushi Pedal 2nd Season, Yowapeda 2nd SeasonTiger X DragonSPY×FAMILY Season 2Sakurasou no Pet na KanojoOne Piece Movie 10名探偵コナン\\u3000異次元の狙撃手（スナイパー）攻殻機動隊 Stand Alone Complex - The Laughing ManChild\\'s ToyHyou-ka, Hyouka: You can\\'t escape, Hyou-ka: You can\\'t escape, HyokaAscendance of a Bookworm 3rd SeasonHikaru\\'s Go『ガールズ＆パンツァー 最終章』第2話Gintama Harumatsuri 2010Battle Through the Heavens: Three Year Agreementシティーハンター2銀魂〜何事も最初が肝心なので多少背伸びするくらいが丁度良い〜LoGH: Overture to a New War, Ginga Eiyu Densetsu Aratanaru Tatakai no Jokyoku, Legend of the Galactic Heroes MOVIE (1993)To Your Eternity 2nd Season, To You, the Immortal 2nd Season沧元图动画, Azure Legacy, Cang Yuantu, Chang Yuan Tu, Cang Yuan Tu僕のヒーローアカデミア暗殺教室Brave King GaoGaiGar Final, King of Braves GaoGaiGar Final, Yuusha Ou GaoGaiGar Final, Yuusha-Oh GaoGaiGar FinalUchoten Kazoku 2スキップ・ビート！Shokugeki no Souma 2nd Season, Shokugeki no Soma 2, Food Wars: Shokugeki no Soma 2, Shokugeki no Soma: The Second Plateオーバーロード IVGekijouban Kuroko no Basuke: Last Game, The Basketball Which Kuroko PlaysKimisomuKidou Senshi Gundam 00 2nd Season, Mobile Suit Gundam 00 2nd Season, Gundam 00 S2Astra Lost in Spaceシリアルエクスペリメンツレイン聖闘士星矢 THE LOST CANVAS 冥王神話 2ひだまりスケッチ 沙英ヒロ 卒業編Hajime no Ippo Episode 76, The First Step Special, Hajime no Ippo: The Fighting Special, Hajime no Ippo SpecialBaccano! OVATerror in Tokyo, Terror of ResonanceUmamusume: Pretty Derby Season 2Tsukimonogatari: Yotsugi Doll, Monogatari Final SeasonTsubasa Reservoir Chronicle OVA, Tsubasa Reservoir Chronicle: Spring ThunderTsurune 2nd SeasonToki wo Kakeru Shojo, TokiKake, Toki o Kakeru Shojo, The Girl Who Cut Time, The Little Girl Who Conquered TimeStand By Me DoraemonShangri-La Frontier: Crappy Game Hunter Challenges God-Tier Game, ShanfroKuroko no Basket Episode 75.5GitS SAC SSS, GitS: SAC 3, gits sac3, gitssac3, sac3, sss, Ghost in the Shell S.A.C. Solid State SocietyGive Blessings to This Wonderful World!Mobile Suit Gundam UC神様はじめましたDai San Bu Kuujou Joutarou: Mirai e no Isan, JoJo\\'s Bizarre Adventure Part 3頭文字 D Fifth StageAscendance of a Bookworm 2nd SeasonGintama: Jump Festa 2015 SpecialDhurarara!!, Dyurarara!!, Dulalala!!, Dullalala!!, DRRR!!Battle Through The Heavens 5th SeasonDMCEiga Chuunibyou demo Koi ga Shitai! Take On MeYona: The girl standing in the blush of dawn, Akatsuki no Yona: Sono Se ni wa, Akatsuki no Yona: Zeno-henParadition, HeavenhellHagane no Renkinjutsushi, FMA, Full Metal AlchemistDaiya no Ace, Ace of the Diamond, Dia no AClassroom of the Elite 2nd Season, You-jitsu 2nd Season, You-zitsu 2nd SeasonThe Disastrous Life of Saiki K. Restart Arc, Saiki Kusuo no Ψ-nan: Saishidou-hen, Saiki Kusuo no Sainan: Saishidou-henThe Boy in FutureKuragehime名探偵コナン 天空の難破船Gundam Double OKaze TachinuQuanzhi Gaoshou (2018), Quan Zhi Gao Shou, Full-Time Expert, Master of Skills, Quanzhi Gaoshou: Tebie PianOne Piece Special, Episode of Nami: Tears of a Navigator and the Bonds of FriendsOne Piece Movie 12Detective Conan Movie 05: Countdown to Heaven魔法少女リリカルなのは The MOVIE 2nd A\\'sKateikyoushi Hitman Reborn!, Home Tutor Hitman Reborn!Douluo Dalu Second Season, Soul Land 2nd SeasonTamayura Kanketsu-hen Movie 4スキップとローファーGuardian of the Sacred SpiritNodame Cantabile Paris Chapter, Nodame Cantabile Pari-henLupin III: Part V, Lupin Sansei Part V, Lupin Sansei: Adventure in FranceJoJo\\'s Bizarre Adventure Part 6: Stone OceanInterstellar 5555Hina FestivalGridman×DynazenonEiga GivenAzumanga DaiouARIA The BENEDIZIONE本好きの下剋上 ～司書になるためには手段を選んでいられません～HachiKuro, Honey & CloverThe Unrivaled Tang Sect, Combat Continent II, Soul Land 2: Peerless Tang Sect, 斗罗大陆2绝世唐门CLANNAD五等分の花嫁∽Yuki Yuna Is A Hero: Washio Sumi Chapter 3 - Promiseウルフズ・レイン吞噬星空 壮志凌云Shokugeki no Soma 3rd Season, Shokugeki no Soma 3NARUTOGhost in the Shell: SAC 2nd GIG MovieKimi ni Todoke: From Me to You 2nd Season, Reaching You 2nd Season機動戦士ガンダム 0080 ポケットの中の戦争Kami nomi zo Shiru Sekai III, Kami nomi zo Shiru Sekai 3, Kaminomi III, Kaminomi 3, The World God Only Knows III, The World God Only Knows 3機動警察パトレイバー2 the MovieKara no Kyoukai: the Garden of sinners/recalled out summer, the Garden of sinners -recalled out summer-Class President is a Maid!Hugtto Precure, Hug! Pretty CureHyougemonoThe Boy Fascinating the Fighting God 2Moumoku no Renkinjutsushi, The Blind Alchemist, Shinpuru na Hitobito, Simple People, The Tale of Teacher, Tales of the Master, Yet Another Man\\'s Battlefield, FMAEve\\'s TimeEvangelion Shin Gekijouban: Jo, Rebuild of Evangelion: 1.0 You Are (Not) Alone, Evangelion: 1.01 You Are (Not) Alone, Evangelion: 1.11 You Are (Not) Aloneef: A Tale of Memories Second Season, ef: A Tale of Memories 2nd SeasonARIA The OVA ~ARIETTA~ (アリア ジ オーブイエー ~アリエッタ~)Zombieland Saga Second SeasonWelcome to the Classroom of the Elite, You-jitsu 3rd Season, You-zitsu 3rd SeasonOregairu, My youth romantic comedy is wrong as I expected.タッチThe House of Small Cubes東京マグニチュード8.0Toaru Kagaku no Railgun 2, Toaru Kagaku no Choudenjihou 2, A Certain Scientific Railgun 2シャドーハウス 2nd Seasonロマンティック・キラーPUI PUI モルカーOmae Umasou da na, You Are Umasou名探偵コナン 沈黙の15分Magi Season 1Reaching YouKidou Senshi Gundam: Dai 08 MS Shotai響け！ユーフォニアムDungeon FoodD. Gray-man, D. Grey-manBaby Steps Second SeasonHigh Kyuu!! Movie 1, Haikyuu!! RecapGinga: Nagareboshi Gin, Silverfang, The small hero. Birth of GinFull Metal Panic Fumoffu, Fullmetal Panic? FumoffuBlack Lagoon 3サマーウォーズスレイヤーズNEXTSK Eight, Skate神印王座 第二季Saiunmono, Saimono, Saiunkoku Monogatari Dai 2 SeriesThe Legend of LuoxiaoheiKonoSuba: God\\'s Blessing on This Wonderful World! Second Season OVA, Kono Subarashii Sekai ni Shukufuku wo! 2 OVAKara no Kyoukai: The Garden of Sinners Movie 3, Borderline of Emptiness: Remaining Sense of Pain, The Garden of Sinners: ever cry, never life12 Kingdoms, Juuni KokkiDetective Conan Movie 10: Requiem of the DetectivesDetective Conan Movie 04: Captured in Her EyesLove★Com, Love ComKLK, Dressed to KillFooly Cooly, Furi KuriCyber Coil, Coil - A Circle of Children, Denno CoilBLACK LAGOONBlack Clover: Mahoutei no KenBanG Dream!（バンドリ！）第3期Oregairu 2 OVA, Yahari Ore no Seishun Love Comedy wa Machigatteiru. Zoku: Kitto, Onnanoko wa Osatou to Spice to Suteki na Nanika de DekiteiruYona: The girl standing in the blush of dawnCike Wuliuqi 4th Season, Ci Ke Wu Liu Qi 4th Season, Assassin Seven 4th Season, Killer Seven 4th SeasonxxxHOLiC OVATonikaku Kawaii OVA, Tonikawa, Tonikaku Kawaii Episode 13Skilled Teaser Takagi-san 2nd Season, Karakai Jouzu no Takagi-san Second SeasonGOSICK -ゴシック-Hanada Shonen-ShiゴールデンボーイFate/stay night (2014) Episode 00ガラスの仮面 (2005)Durarara!!x2 KetsuドロヘドロDTBGekijouban Bang Dream! Episode of RoseliaGotoubun no Hanayome 2nd Season, The Five Wedded Brides 2nd Season, 5-toubun no Hanayome 2nd Season, The Quintessential Quintuplets 2nd SeasonThe Moon is Beautiful, As the Moon, So BeautifulHistory\\'s Strongest Disciple KenichiSaint Seiya Hades, Saint Seiya: The Hades Sanctuary ChapterPsalms of Planets Eureka SevenG-TekketsuKami-sama Hajimemashita OVAKomi-san wa, Communication Shougai desu. 2Welcome to Demon School! Iruma-kun 2nd SeasonDetective Conan Movie 03: The Last Wizard of the CenturyPERSONA3 THE MOVIE —#4 Winter of Rebirth—名探偵コナン ハロウィンの花嫁パプリカ思い出のマーニーTekkon Kinkreet (2006), Black & White, Tekkon Kinkurito, Tekkon Kin CreatシティーハンターYuru Yuri 3rd Season, Yuru Yuri Third Season, Yuru Yuri-san High!: YuruYuri S3Freshly Baked!! Ja-pan!Tamako Market MovieTrigun the Movie一念永恒 传承篇Mahjong Legend Akagi: The Genius Who Descended Into the Darkness, The Legend of Mahjong: AkagiオーバーロードⅢNekomonogatari Black: Tsubasa FamilyGekijouban Love Live!, Love Live! School Idol Project MovieKokoro Connect Episodes 14, 15, 16, and 17, Kokoroco: Michi RandomYou and Me. Second Season, Kimi to Boku. 2nd SeasonMonogatari Series: Second Season +αGochuumon wa Usagi desu ka? 3, GochiUsa 3幻想万華鏡 ~The Memories Of Phantasm~Full Metal Panic! TSR文豪ストレイドッグス DEAD APPLEBanG Dream! FILM LIVE 2nd StageHidamari Sketch x Hanikamu, Hidamari Sketch Dai Yon Ki, Hidamari Sketch Fourth Series, Hidamari Sketch 4th SeasonPonyo on the Cliff by the SeaFate/kaleid liner Prisma☆Illya Movie: Oath Under SnowClannad OVAGekijouban Bang Dream! Poppin\\' Dream!YowapedaGekijouban Horikku - Manatsu no Yoru no Yume, X-zobanHOLIC: Manatsu no Yo no Yume, xxxHolic - The Movie - A Midsummer\\'s Night DreamIt\\'s Difficult to Love an OtakuVampire Hunter D (2001), Vampire Hunter D Movieうさぎドロップ東京リベンジャーズPhantom 〜Requiem for the Phantom〜おそ松さんワンピース\\u3000フィルム\\u3000ストロングワールド\\u3000エピソードゼロStop This Sound!Kaleido Star: New WingsNurarihyon no Mago 2, The Grandson of Nurarihyon 2, Grandchild of Nurarihyon 2のんのんびより輪るピングドラムClash of the Bionoids, Gekijouban Choujikuu Yousai Macross: Ai, Oboete Imasu ka, Macross in Clash Of The Bionoids, Super Dimensional Fortress Macross The Movie: Do You Remember Love?, Choujikuu Yousai Macross: Ai Oboete ImasukaMacross Frontier the Movie 2, Gekijouban Macross F: Sayonara no Tsubasa, Macross Frontier: The Wings of Goodbye, Macross Frontier: The Wings of Farewellラブライブ！スーパースター!!The maid dragon of Kobayashi-sanLes Enquetes de Kindaichi, Young Kindaichi\\'s Casebook, Kindaichi Case Files機動戦士ガンダム 水星の魔女機動戦士ガンダム サンダーボルト DECEMBER SKY機動戦士ガンダム サンダーボルトHikaru no Go: Journey to the North Star CupFull Moon o SagashiteFate/Grand Order -絶対魔獣戦線バビロニア-BLEACH - ブリーチ -Wotaku ni Koi wa Muzukashii: Youth, It\\'s Difficult to Love an Otaku OVA, Wotakoi: Love is Hard for Otaku OVA宝島テニスの王子様 Original Video Animation 全国大会編 FinalShokugeki no Soma 4th Season, Food Wars! The Third Plate 2nd cour, Shokugeki no Souma: San no Sara (2018)Sakasama no PatemaノラガミThe Scarlet Pigこばと。Kanon Remake, Kanon 2006『ガールズ＆パンツァー 最終章』第1話My Hero Academia the Movie 2: Heroes:RisingPretty Soldier Sailor Moon: Sailor StarsAria the Origination Special, Aria the Origination: In That Secret Little Place..., Aria the Origination Episode 5.5Idolish Seven, IDOLiSH7: YouTube OriginalsSeikimatsu Kyuseishu Densetsu: Hokuto no Ken, HNKHigh Score Girl OVAHigh Score Girl 2Heartcatch Pretty Cure!The Military Chronicles of a Little GirlWorking!! 3rd Season, Working!! Third SeasonWIND BREAKER盾の勇者の成り上がりOofuri, Big Windup! 2, Swing Big! 2, Ookiku Furikabutte 2, Ookiku Furikabutte The Summer Tournament ChapterNagi no Asukara, NagiasuMahou Shoujo Lyrical Nanoha A\\'s, Nanoha Season 2Major: Yuujou no Ikkyuu, Gekijouban Major, Major: Yuujou no Winning Shot, Major: Yujo no Winning Shot, Major: Yuujou no Winning Shot, Major: The Ball of FriendshipRurouni Kenshin: Seisouhen, Rurouni Kenshin OVA 2Re LIFESleeping in Devil\\'s CastleQuan Zhi Gao Shou Movie, Full-Time Expert Movie, Master of Skills Movie, The King\\'s Avatar MovieGitS 2.0, Ghost in the Shell 2.0Charcoal Feather FederationEve\\'s Time, Eve no Jikan 1st Season Complete Edition, Gekijouban Eve no JikanDurarara!!x2 TenDragonball, DBCode Geass: Lelouch of the Rebellion - Emperor新しい上司はど天然Akagami no Shirayukihime 2nd SeasonYuri!!! on ICE SpecialよふかしのうたSAO Progressive Movie, Aria in the Starless Night, Hoshinaki Yoru no AriaYorukura×××HOLiC（ホリック）スクールランブル 二学期聖闘士星矢 THE LOST CANVAS 冥王神話贄姫と獣の王Hidden Things, Kakushigoto: My Dad\\'s Secret AmbitionDurarara!! 2nd Season, DRRR!! 2nd Season, Durararax2 1st ArcBattle Through the Heavens 4th SeasonBunsuto Wan!YagaKimi, Eventually, I Will Become YouUshio and Toraアンデッドガール・マーダーファルスProject CommonスクールランブルSakigake!! Cromartie KoukouNatsutonマクロスF（フロンティア）Choujikuu Yousai Macross, Cho Jiku Yosai Macross, Super Dimension Fortress Macross, SDF Macross, Robotech (U.S.)Les Miserables: Shoujo CosetteKarigurashi no Arrietti, The Borrower Arriettyヨルムンガンド PERFECT ORDERDrifters: Battle in a Brand-new World Warベルセルク 黄金時代篇\\u3000MEMORIAL EDITIONARIA The AVVENIREIe Naki Ko Rémi, Ie Naki Ko Remy, Sekai Meisaku Gekijou, Homeless Child Remi, Remi, Nobody\\'s GirlHidamari Sketch x Hoshi Mittsu, Hidamari Sketch 3rd Season花咲くいろは学園ベビーシッターズFinal Fantasy 7: Advent Children Completeエルゴプラクシー伝説巨神イデオン 発動篇Date A Live: Encore, Date A Live II Episode 11, Date A Live 2 Episode 11Pretty Soldier Sailor Moon SZetsuen no Tempest: The Civilization Blaster柚木さんちの四兄弟。ユーリ!!! on ICEVanitas no Shuki, Memoir of Vanitas, Vanitas no CarteSKET Dance OVA劇場版「進撃の巨人」後編～自由の翼～Polar Bear Café, Shirokuma CaféOre Monogatari!!, My Story!!MIGNON 민용Lupin III: Part IV, Lupin III: L\\'avventura italiana, Lupin Sansei (2015), Lupin III (2015)機動戦士ガンダムSEED FREEDOMPROMARE（プロメア）PlamemoオーバーロードOjamajo Doremi Naisho名探偵コナン～10年後の異邦人[ストレンジャー]～Mashle 2nd Seasonログ・ホライズンKuchu Buranko, Trapeze, Flying TrapezeキングダムKidou Senshi Z Gundam, Mobile Suit Z Gundam頭文字〈イニシャル〉D THIRD STAGERai: Galactic Civil War Chronicle, Thunder Jet, Ginga Sengoku Gun Yuuden RaiEyeshield21Code Geass: Lelouch of the ResurrectionCike Wuliuqi, Ci Ke Wu Liu Qi, Assassin Seven, Killer Sevenキャロル&チューズデイLoGH: My Conquest Is the Sea of Stars, Legend of the Galactic Heroes MOVIE (1988)Combat Continent, Soul LandEiga Crayon Shin-chan: Arashi wo Yobu Mouretsu! Otona Teikoku Gyakushuu, Crayon Shin-chan: The Storm Called: The Adult Empire Strikes Backクールドジ男子Carnival PhantasmBerserk Movie, Berserk SagaZan Sayonara Zetsubo Sensei, Sayonara Zetsubou Sensei 3, ZSZSウマ娘 プリティーダービー Road to the TopGenerally Cute, Fly Me to the MoonTerra e... (2007), Terra he..., Chikyuu he, Towards the Terra...Quan Zhi Gao Shou, Full-Time Expert, Expert of All ClassesEiga no Osomatsu-san, Osomatsu-san the MovieShin Gekijouban Initial D: Legend 3 - Mugen無責任艦長タイラー魔法少女リリカルなのは The MOVIE 1stMachikado Mazoku 2nd Season, The Demon Girl Next Door 2nd SeasonKomi-san wa, Communication Shougai desu.機動戦士ガンダム 水星の魔女 PROLOGUEKami nomi zo Shiru Sekai 2, Kaminomi II, The World God Only Knows 2History\\'s Strongest Disciple Kenichi OVA, Shijou Saikyou no Deshi Kenichi: Yami no ShuugekiThe Tale of Saiun Country, Story of the Land of Many-Colored Clouds, Kokumono, Saimono, ColourCloud PalaceQuan Zhi Gao Shou 2nd Season, Full-Time Expert 2nd Season, Master of Skills 2nd SeasonOofuri, Ohkiku Furikabutte, Swing Big!One Piece Movie 13Detective Conan Movie 02: The Fourteenth Target, Meitantei Conan Movie 02: Jyuuyonbanme no Targetメガロボクス魔法使いの嫁 SEASON2 第2クールKoto no Ha no Niwa, The Garden of KotonohaG-WitchJoJo no Kimyou na Bouken (2012), Battle Tendency, Phantom Blood, Sentou Chouryuu, JoJo\\'s Bizarre Adventure The AnimationHell Girl 2, Hell Girl Futakomori, Hell Girl Second Cage, Hell Girl: The Two Prisoners, Jigoku Shoujo: FutagomoriHoozuki no Reitetsu 2nd Season: First Cour, Cool-headed HoozukiWhen the Cicadas Cry, The Moment the Cicadas CryFree! Eternal Summer Special, Free! Iwatobi Swim Club 2 Special, Free! 2nd Season Specialef - a tale of memories.Wakate Animator Ikusei Project, 2012 Young Animator Training Project, Anime Mirai 2012Code Geass: Lelouch of the Rebellion - Awakening吞噬星空Prince of Tennis OVA 2, Prince of Tennis OVA SemifinalPoT OVA, Tennis no Ouji-sama: Zenkoku Taikai hen, Prince of Tennis: The National Tournament映画スター☆トゥインクルプリキュア 星のうたに想いをこめてスペース☆ダンディAttack on Titan Season 2 Movie: The Roar of AwakeningDarker than Black: Ryuusei no Gemini Specials, Darker than BLACK 2 OVA, DTB, Darker than Black: Ryuusei no Gemini Episode 12Shingeki no Kyojin: Ilse no Techou, Attack on Titan: Ilse\\'s Journal, 進撃の巨人 「イルゼの手帳」Sayonara Zetsubo Sensei 2, Sayonara Zetsubo Sensei 2nd Season, Sayonara Zetsubou Sensei Dai Ni Ki, So Long Mr. Despair 2nd, ZSZSLupin the Third: Jigen Daisuke no Bohyou, Lupin the Third: Daisuke Jigen\\'s Gravestone, Lupin the 3rd: Jigen\\'s Grave MarkerMy Blissful Marriage, WatakonLAST EXILE（ラストエグザイル）衛宮さんちの今日のごはんDigimon: Our War Game!, Digimon: Children\\'s War Game!クレヨンしんちゃんSekai Meisaku Gekijou, Red haired Anne, Anne the RedheadYuki Yuna Is A Hero: Washio Sumi Chapter 2 - SpiritTokyo Kushu, Toukyou Kushu, Toukyou GhoulNaruto Movie 10: Naruto the Movie: The Last,Naruto: Shippuuden Movie 7 - The LastTaishou Maiden FairytaleSonny Boy (サニーボーイ)Wolf Rain万圣街3トモちゃんは女の子！シャドーハウスNodame Cantabile Third Season Special, Nodame Cantabile Season 3 Special, Nodame Cantabile Finale Episode 00, Mine to Kiyora no Saikai名探偵コナン 迷宮の十字路(クロスロード)MariMite OVA, La Vierge Marie Vous Regarde, The Virgin Mary is Watching You魔法陣グルグルMagi: Adventure of Sinbad OVALucky Star OVAWakate Animator Ikusei Project, 2012 Young Animator Training Project, Anime Mirai 2012, LWAKuroko no Basket Special, Kuroko no Basket Episode 22.5Kochikame, This is the Police Station in Front of Kameari Park in Katsushika Ward, Kochira Katsushikaku Kameari Kouenmae Hashutsujo (1996)Miss Kobayashi\\'s Dragon Maid S SpecialヨルムンガンドIsekai Uncle, Ojisan in Another WorldInu Yasha: Tenka Hadou no Ken, InuYasha: The Sword of the World Conquest, The Sword That Rules Over the Empires犬王ひろがるスカイ！プリキュアGinga Tetsudo 999, GE999フランダースの犬 (1997)シティーハンター3Breaker Blade 5, Break Blade 5: Border of DeathブルーピリオドBaby StepsAggretsuko 3rd SeasonHidamari Sketch x ☆☆☆ Tokubetsu-hen, Hidamari Sketch x Hoshi Mittsu『響け！ユーフォニアム』アンサンブルコンテスト編Sayonara Zetsubou Sensei OAD, Goodbye Mr. Despair OVA, GSZSEnen no Shouboutai 2nd Season, Fire Force 2nd Season英國戀物語エマ ～メルダース編～Literary Stray Dogs, BSDAka-chan to BokuLoving Yamada at Lv999Wushan Wuxing, Fog Hill of the Five Elements, Five Elements in the Misty Mountainアンデッドアンラックスレイヤーズ TRYShin Gekijouban Initial D: Legend 2 - TousouDetective Conan Movie 08: Promo Special, Detective Conan Movie 08: Magician of the Silver Sky Special, Detective Conan Movie 08 Pre-Release SpecialWelcome to Demon School! Iruma-kun 3rd Season月が導く異世界道中 第二幕Tamayura Kanketsu-hen Movie 2Attack on Titan: ChronicleGekijouban Seitokai Yakuindomo 2Princess Connect! Re:Dive 2nd Season, Priconne 2nd SeasonミギとダリKaito Kid, Majikku Kaito, Kaitou Kid, Magic Kaitou, Detective Conan Special: Secret Birth of Kaito Kid, Kaitou Kid Tanjou no HimitsuLupin the Third: The Woman Called Fujiko Mine, Lupin III, Lupin III~Mine Fujiko to Iu Onna~Rupan Sansei: Part II, Shin Lupin III, Lupin III: Greatest CapersFirst Gundam, Mobile Suit Gundam: 0079, MSGKara no Kyoukai: The Garden of Sinners Movie 2, Borderline of Emptiness: Murder Speculation, The Garden of Sinners: A Study in Murder, The Garden of Sinners: …and nothing heart.Cool-headed Hoozukiひだまりスケッチ×SPHaikyuu!! Jump Festa 2015 Special, Haikyuu!! OVA, Haikyuu!! vs. Failing GradeGen of HiroshimaGochuumon wa Usagi desu ka? 2, GochiUsa 2Gekijouban Free! The Final Stroke Kouhen名探偵コナン 江戸川コナン失踪事件～史上最悪の二日間～Date A Live 4, Date A Live Fourth Season, DAL 4Breaker Blade 3, Break Blade 3: Scars from an Assassin\\'s BladeJinrouKoukaku Kidoutai 2: Innocence劇場版アイドリッシュセブン LIVE 4bit BEYOND THE PERiOD平家物語ご注文はうさぎですか??～Dear My Sister～The Legend of the Galactic Heroes: The New Thesis - Encounter, LotGHジャイアントロボ THE ANIMATION 地球が静止する日Dragon Ball Z: Resist Despair!! The Surviving Fighters - Gohan and TrunksDigimon Adventure 01Coquelicot-zaka kara, Kokuriko-saka kara, Kokuriko-zaka kara, Coquelicot Saka kara, Kokurikozaka karaコードギアス 反逆のルルーシュ R2 Special Edition Zero RequiemClannad: After Story OVA, Clannad ~After Story~: Another World, Kyou ChapterBEASTARS 2期ARIA The CREPUSCOLO仙逆Mobile Suit Gundam Turn A劇場版「進撃の巨人」前編～紅蓮の弓矢～Shin Kidou Senki Gundam W: Endless Waltz Tokubetsu-henSaiyuki GaidenMindgameMeitantei Conan: Senritsu no Gakufu [Full Score]Macross Frontier the Movie, Gekijouban Macross F: Itsuwari no UtahimeBloodline Battlefront & BeyondJungle wa Itsumo Haré nochi Guu Deluxe, Jungle wa Itsumo Hale Nochi Guu Deluxe, Hare+Guu DeluxeBattle Flag of the Stars IISaint☆Onii-san (Movie), Saint Onii-san (Movie)PSYCHO-PASS サイコパス 3 FIRST INSPECTORShin Gekijouban Initial D: Legend 1 - Kakusei名探偵コナン\\u3000水平線上の陰謀Lupin Sansei: The FirstリトルウィッチアカデミアKokosakeJungle wa Itsumo Hale Nochi Guu, Hare+Guu神印王座Seto no Hanayome Jin, Seto no Hanayome GiGekijouban Seitokai YakuindomoOwarimonogatari Episode 0.5, Owari ni Mukau Monogatari, Owarimonogatari Episode 4.5, Araragi Koyomi no Monogatariお隣の天使様にいつの間にか駄目人間にされていた件Kuroko\\'s Basketball Movie 3: Winter Cup Highlights - Crossing the DoorHyakkano機動戦士ガンダム 閃光のハサウェイKara no Kyoukai: The Garden of Sinners Movie 4, Borderline of Emptiness: The Hollow Shrine, The Garden of Sinners: garan-no-douIga no Kabamaru, Ninja BoyHaikyuu!! Puppet Animation, Haikyuu!! Stop-motion Animation, Haikyuu!!: Ningyou AnimeガングレイヴGekkan Shoujo Nozaki-kunBreaker Blade 4, Break Blade 4: Area of DisasterBEASTARSAoki Hagane no Arpeggio: Ars Nova Cadenza, Arpeggio of Blue Steel: Ars Nova Movie 2, Gekijouban Aoki Hagane no ArpeggioYuru Yuri S2Working!! 2Cool-headed Hoozuki OVA, Hozuki no Reitetsu OVAHanasaku Iroha: Home Sweet Homeダークギャザリングダンス・ダンス・ダンスールAnoHana Movie, We Still Don\\'t Know the Name of the Flower We Saw That Day. MovieGaoGaiGar, GaoGaiGar TV, Yuusha Ou GaoGaiGar, Brave King GaoGaiGar, Yuusha-Oh GaoGaiGar万圣街2Astro Fighter Sunred 2Tasogare Otome x Amnesia田中くんはいつもけだるげソマリと森の神様進撃の巨人 LOST GIRLS一念永恒Uchoten KazokuTamayura Kanketsu-hen Movie 3Suzumiya Haruhi no YuuutsuSekai-ichi Hatsukoi 2, Sekai\\'ichi Hatsukoi 2planetarian～星の人～One Piece Movie 15Useless Witch Doremi Kaboom!Mushoku Tensei: Jobless Reincarnation Special, Mushoku Tensei: Isekai Ittara Honki Dasu SpecialMichiko e Hatchin, Michiko to HacchinKonoSuba OVA, A Blessing to this Wonderful Choker!ID:INVADED イド:インヴェイデッドHidamari Sketch 2nd SeasonGekijouban Hibike! Euphonium: Todoketai MelodyHaikyuu!! Jump Festa 2020 Special, Haikyuu!! OVA, Haikyuu!!: Land vs Sky, Haikyuu!!: The Volleyball Way, Haikyuu!!: Ball no MichiLe Labyrinthe de la Grisaiaドラえもんカペタ91DaysYumeiro Patissiere, YumePati, Dream-Colored Pastry Chef, Yumeiro Pâtissière1031 Wan Sheng Jie, Bansei Gai, 万圣街TRIGUN STAMPEDEソウルイーターFuture Hero Next Generation Outlaw Star, Starward Warrior Knight Outlaw Starマギ シンドバッドの冒険Kaleido Star: Layla Hamilton StoryK-On! OVA, Keion OVA, K-On! Episode 14, Keion OVAEiga Sekaiichi Hatsukoi, Sekai-ichi Hatsukoi MovieSeitokai Yakuindomo 2 OVA, Seitokai Yakuindomo* OAD, Seitokai Yakuindomo 2 OAD, SYD* OVA, SYD 2 OVASayonara Zetsubo Sensei, Goodbye Teacher Despair, SZSOnii-sama e, To My Brother...One Piece Special 15th AnniversaryNoragami Aragoto OADRupan Sansei vs. Meitantei Conan: The Movie, Rupan Sansei vs Meitantei Conan (Movie)Keion 2 Special, K-On!! 2nd Season Special, K-On!! Episode 27Durarara!! Episode 12.5, Durarara!! Episode 25, Dhurarara!!, Dyurarara!!, Dulalala!!, Dullalala!!, DRRR!! OVAべるぜバブGotoubun no Hanayome, The Five Wedded Brides, The Quintessential QuintupletsBucket List of The Dead, Zombie 100: 100 Things I Want to do Before I Become a ZombieYuru Yuri OVA, YuruYuri Nachuyachumi!, Yuru Yuri Summer Vacation!うる星やつら2 ビューティフル・ドリーマーL\\'étranger du plage, L\\'étranger de la plage, The Stranger by the Beach東京リベンジャーズ 天竺編Tiger and Bunny, TaibaniTeniPuri, PoTWelcome to the Classroom of the Elite, You-jitsuTop wo Nerae!, Aim for the Top!Sekaiichi Hatsukoi Episode 0, Sekai-ichi Hatsukoi: Onodera Ritsu no Baai, Sekaiichi Hatsukoi Episode 12.5, Sekaiichi Hatsukoi: Yoshino Chiaki no Baai, Sekai\\'ichi HatsukoiParaKissOokami to Koushinryou 2 OVA Episode 0, Spice and Wolf 2 OVA Episode 0, Spice and Wolf II OVA Episode 0, Spice and Wolf II: The Wolf and the Amber Melancholyワンピース エピソードオブ東の海[イーストブルー] ~ルフィと4人の仲間の大冒険~Non Non Biyori Repeat OVA劇場版 名探偵コナン 紺青の拳（フィスト）Detective Conan Movie 22: Zero\\'s ExecutionerDetective Conan Movie 01: The Timed SkyscraperMagic Kaito 2014Lupin the Third: Goemon Ishikawa\\'s Spray of BloodKeion, K-ON! Season 1Inu YashaRémi the Nobody\\'s Boy, Remi and his AdventuresHoozuki no Reitetsu 2nd Season: Second CourFree! Movie, High☆Speed!: Free! Starting Days地縛少年花子くんGo! プリンセスプリキュアGakuen Babysitters Episode 13Tokubetsuban Free! Take Your MarksNoragami OADマクロスプラスKuroko no Basket NG-shuuKobayashi-san Chi no Maid Dragon Episode 14JoshimudaイナズマイレブンHaikyuu!!: Jump Festa 2014 Special, Haikyuu!! OVA, Haikyuu!! The Arrival of Haiba LevDeath Note Director\\'s Cut: The Complete Ending Edition Special, Death Note Special, Genshisuru Kami, Visions of a God, L o Tsugu Mono, L\\'s SuccessorsFire Brigade of FlamesDaicon, Daikon, Daicon films, Daicon III, Daicon IVBerserk Movie, Berserk Saga, Berserk: Golden Age Arc I - Egg of the Supreme Ruler, The Golden Age Arc I: The High King\\'s EggBreaker Blade 2, Break Blade 2: The Split PathArakawa Under the Bridge*2, Arakawa Under the Bridge x2, Arakawa Under the Bridge 2nd seasonJoJo\\'s Bizarre Adventure: Phantom BloodAkagami no Shirayuki-hime OVA, Akagami no Shirayukihime OVAJintaiGirls und Panzer OVA, Girls & Panzer: This is the true battle of Anzio!Hidamari Sketch x 365 EXGate: Jieitai Kanochi nite, Kaku Tatakaeri 2nd Season, Gate: Thus the JSDF Fought There! Fire Dragon Arc, Gate: Jieitai Kanochi nite, Kaku Tatakaeri - Enryuu-henFinal Fantasy 7: Advent ChildrenBanG Dream! FILM LIVESailor Moon R Movie: Dangerous Flowersアイの歌声を聴かせてWaSuYu夢のクレヨン王国Yamato Nadeshiko Shichi Henge, Perfect Girl Evolution, The Seven Metamorphoses of Yamato NadeshikoKayoko\\'s Diary, Ushiro no Shomen Daare, Ushiro no Shomen Dareうえきの法則トニカクカワイイ ~制服~Friends GameTegami Bachi 2, Letter Bee 2Knights of Sidonia: War of the Ninth Planet, Sidonia no Kishi: Dai-kyuu Wakusei SenekiCorpse DemonRozen Maiden: OuverturePsycho-Pass SS Case 3: Onshuu no Kanata ni, Psycho-Pass SS Case 3: Vengeance\\'s HorizonThe Cat\\'s RepaymentMagnetic Rose, Stink Bomb, Cannon FodderMahoako, Looking up to Magical Girls, I Admire Magical Girls, and...两不疑 第二季Beyond the HorizonGundam Wing Endless Waltz OVARanma 1/2 OVAPocket Monsters: The Origin, Pokémon: The OriginPanSto, PSGMONSTERS 一百三情飛龍侍極Detective Conan Movie 19: The Hellfire SunflowersKyou Kara Maou! Dai San Series, Kyou Kara Maoh! Third Series, Kyou Kara Maoh! Season 3, Maruma Third SeriesGitS Another Dimension, GitS 3D, Kokaku Kidotai S.A.C. Solid State Society 3DThe Curtain Rises, Opera Girl!DEVILMAN crybabyColourfulCity Hunter 4Charlotte（シャーロット）Shin Getter Robo: The Last Day, Change!! Getter Robo: The Final Days of the World, Shin Getter Robo: Sekai Saigo no Hi이두나!, Lee Du-Na!Urusei Yatsura Season 2Gaogao-chan to Aoi Sora떳다 그녀!!Tonikaku Kawaii: High School DaysEsteban, Child of the SunCorpse Demon SpecialsシャーマンキングSeitokai Yakuindomo (2011), Seitokai Yakuindomo (2012), Seitokai Yakuindomo OAD, SYD OVA, SYD OADSaiyuki Reload: BurialKnights of the Zodiac, Zodiac KnightsPocket Monsters XY&Z, Pokémon XY&ZMariMite 4, La Vierge Marie Vous Regarde, The Virgin Mary is Watching Over YouThe Ancient Magus Bride 2, Mahoutsukai no Yome 2, Mahoyome魔法科高校の劣等生 第3シーズンLWA 2, Little Witch Academia 2黒子のバスケ LAST GAME NG集Kuroko\\'s Basketball Movie 2: Winter Cup Highlights - Beyond the TearsZaregoto Series, The Headless Cycle, The Beheading Cycle: The Blue Savant and the Nonsense BearerKidou Senshi Gundam III: Meguriai Uchuu Hen, Mobile Suit Gundam Movie 3世界一初恋～バレンタイン編～青春ブタ野郎はおでかけシスターの夢を見ないSarai-ya Goyou聖闘士星矢 冥王ハーデス冥界編Saenai Heroine no Sodatekata FlatRanma 1/2, Ranma ½ Nettou HenオーバーロードⅡワンピース オマツリ男爵と秘密の島名探偵コナン ～KID in TRAP ISLAND～名探偵コナン 緋色の弾丸Lupin Sansei vs Meitantei Conanラブライブ! School idol project 2期組長娘と世話係ハイスコアガールGekijouban Hibike! Euphonium: Chikai no Finale, Sound! Euphonium: Oath\\'s FinaleFate/Grand Order -終局特異点 冠位時間神殿ソロモン-Fate/Grand Carnival: Dai-1 Tokuien Eirei Genkai Taisai Olympiaカードキャプターさくら クリアカード編 プロローグ さくらとふたつのくまBishoujo Senshi Sailor Moon Crystal: Death Busters-hen, Pretty Guardian Sailor Moon Crystal: Death BustersAkagami no ShirayukihimeZan Sayonara Zetsubou Sensei OVA, Zan Sayonara Zetsubou Sensei No Man\\'s Land, ZSZSBTechnolyze憂国のモリアーティYuru Yuri Nachuyachumi! Plus, Yuru Yuri Summer Vacation!+ISM, Isekai no Seikishi MonogatariHataraku Maou-sama!Free! 3rd Season Movie, Free! Dive to the Future MovieDragon Quest: Dai\\'s Great AdventureBattle Through the Heavens 3rd SeasonMy roommate is sometimes on my knees, sometimes on my head, HizaueRen Zha Fanpai Zijiu Xitong, The Scum Villain\\'s Self-Saving System, Scumbag VillainPretty Soldier Sailor Moon RBanG Dream! Garupa Pico: Oomori, BanG Dream! Girls Band Party!☆PICO: Oomoriバンドリ！ ガールズバンドパーティ！ 5th Anniversary Animation -CiRCLE THANKS PARTY！-Please Take My Brother Away 2, Kuai Ba Wo Ge Dai Zou 2Aggretsuko 2nd SeasonLibrary War the Movie, Gekijouban Toshokan Sensou, Library War: The Wings of RevolutionDetective Academy QThe Slayers, Slayers TVBang Brave Bang BravernMartial UniverseLamu, Lum, Those Obnoxious AliensAstro Fighter SunredShokugeki no Soma 4th SeasonUninhabited Planet Survive, Survivants, Survive! - Uninhabited Planet, Uninhabited Planet SURVIVE, Uninhabited Planet Survival魔道祖師Qマスターキートン魔入りました！入間くんLucky StarKuroko\\'s Basketball Movie 1: Winter Cup Highlights - Shadow and LightKokorocoKino no Tabi: the Beautiful World - Life Goes On, Kino\\'s Journey MovieKidou Senshi Gundam SEEDInu Yasha Special, Black Tessaiga, Black Tetsusaiga, Kuroi Tetsusaiga, It\\'s a Rumic World: InuYashaEiga Hugtto! Precure x Futari wa PrecureガンダムビルドファイターズゴールデンタイムGhosts at School, School Ghost StoriesGekijouban Free! The Final Stroke ZenpenDanMachi 4th Season, Is It Wrong That I Want to Meet You in a Dungeon 4th SeasonDragonball Kai, DBK, DB Kai, DBZ Kaiクレイモア僕の心のヤバイやつ ツイヤバBlack Jack OVA, Black Jack FinalGekijouban Bishoujo Senshi Sailor Moon Eternal 2, Pretty Guardians Sailor Moon Eternal The Movie 2Pretty Soldier Sailor MoonBanG Dream! Garupa Pico, BanG Dream! Girls Band Party!☆PICOHigashi no EdenLe Eden de la GrisaiaGochuumon wa Usagi desu ka? OVA, GochiUsa OVAゴーストハントGendai Shikaku Bunka Kenkyuukai 2Dragonball Kai, DBK, DB Kai, DBZ Kai,Mousou Dairinin名探偵コナン 絶海の探偵黒子のバスケ3期 NG集Macross Frontier: Close Encounter - Deculture EditionKino\\'s Journey: The Beautiful World - The Land of Sickness: For You, Land of Illness, Land of DiseaseKidou Senshi Gundam: Gyakushuu no Char彼女と彼女の猫 -Everything Flows-Kaminomi: Tenri-henInu Yasha: Kagami no Naka no MugenjouIchigo Marshmallow OVAIchigo Mashimaro OVA 2, Ichigo Marshmallow EncoreChii\\'s Sweet Home, ChiizuBinbou Gami ga!, Binboukami ga!, Binbogami ga!, Binbou Kami ga!, The God Of Poverty is!Baka to Test to Shoukanjuu 2, The Idiot, the Tests, and the Summoned Creatures 2, Baka and Test - Summon the Beasts, Baka to Test to Shokanju 2, BakaTest 23D Girlfriend 2nd Seasonツルネ ―風舞高校弓道部―Regarding the Display of an Outrageous Skill Which Has Incredible Powers, TonsukiSukaSuka, What are you doing at the end? Are you busy? Can you save me?東京リベンジャーズ 聖夜決戦編Girls\\'☆Opera Revue StarlightスペースコブラShin Mazinger Shogeki! Z-hen, True Mazinger, Z MazingerNew Mobile Report Gundam WingSeitokai Yakuindomo 2, SYD*Sekai Meisaku Gekijou, Princess Sara, Little Princess Sarah, Shoukoujo Saraプリンセス・プリンシパルGekijouban Overlord 2Onimai, Onii-chan is Done For劇場版 ソードアート・オンライン -プログレッシブ- 冥き夕闇のスケルツォ劇場版『名探偵コナン から紅の恋歌』Love Live! Nijigasaki High School Idol Club 2nd SeasonNaruto Movie 9Kill la Kill Tokubetsu-hen, Sayonara wo Mou Ichido, Kill la Kill Digest: Naked Memories, KILL la KILL Digest –Naked Memories by Aikuro Mikisugi–ケンガンアシュラ Part 2Hidden Things MovieGate: Thus the JSDF Fought There!ドラえもん (2005)異世界食堂 2Da!Da!Da!, UFO BabyBreaker Blade 6, Break Blade 6: Enclave of Lamentations映画 バクテン!!ARIA The ANIMATIONBlue LiteratureLee Du-Na!, 이두나!, Shita no Kai ni wa Mio ga Iru, 下の階には澪がいる明日ちゃんのセーラー服The Transient SonHakuoki Movie 2, Hakuouki Shinsengumi Kitan Movie 2Tiny Little Life in the Woods花咲ける青少年Furubaディー・グレイマン ハローBishoujo Senshi Sailor Moon S: The Movie, Bishoujo Senshi Sailor Moon S: Kaguya Hime no Koibito, Sailor Moon S: Snowprincess KaguyaPlease Take My Brother Away 3, Kuai Ba Wo Ge Dai Zou 3アイカツ！ 10th STORY ～未来へのSTARWAY～アイカツスターズ！Yahari Ore no Seishun Love Comedy wa Machigatteiru. Kan OVA, My Teen Romantic Comedy SNAFU 3 OVA, Oregairu 3 OVA, My youth romantic comedy is wrong as I expected 3 OVAYuruYuri,, Yuru Yuri TenSekai Meisaku Gekijou, Daddy-Long-LegsSkilled Teaser Takagi-sanJunjyou Romantica OAD, Junjou Egoist, Junjou Terrorist, Junjou MistakePsychopath MovieポケモンコンシェルジュOne Punch Man OVA, One Punch-Man OVA, One-Punch Man OVAワンパンマンOjamajo Doremi Shinsaku Eizouぬらりひょんの孫New Game! Second Season劇場版\\u3000名探偵コナン\\u300011人目のストライカー魔法科高校の劣等生 追憶編マクロスプラス\\u3000ＭＯＶＩＥ\\u3000ＥＤＩＴＩＯＮKyousogiga (TV)Sergeant FrogJunjou Romantica Second Season, Junjyou Romantica IIIdolish Seven, Ainana月刊少女野崎くん ミニOVADAKAICHI -I\\'m being harassed by the sexiest man of the year- Movie, Dakaretai Otoko Ichii ni Odosarete Imasu. MovieChu-2 Byo demo Koi ga Shitai!, Regardless of My Adolescent Delusions of Grandeur, I Want a Date!Chii\\'s Sweet Home 2, Chi\\'s Sweet Home: A New HomeBanG Dream! ガルパ☆ピコ ふぃーばー！Morning Glory and Kase-san結城友奈は勇者である -勇者の章-うらみちお兄さんHarlock TV, Albator 78Tiger and Bunny Movie 2, Taibani Movie 2Soko Kihei VotomsUchuu Senkan Yamato 2199: Hoshi-Meguru Hakobune, Space Battleship Yamato 2199: Odyssey of the Celestial ArkMoon-led Journey Across Another Worldアイドルマスター シンデレラガールズ U149Tetsuwan Birdy Decode 2nd SeasonSchool Rumble OVA, School Rumble: First Extra Termプリンセス・プリンシパル Crown Handler 第2章ワンピース\\u3000エピソード オブ サボ\\u3000～３兄弟の絆\\u3000奇跡の再会と受け継がれる意志～Umamusume: Pretty Derby Season 3Dig Delight Direct Drive DJCard Captor Sakura, Cardcaptors: The MovieBreaker Blade, Break Blade 1: The Time of AwakeningBishoujo Senshi Sailor Moon Super S, Pretty Guardian Sailor Moon SuperSAKB0048 2nd Season, AKB0048 Second SeasonXingchen Bian: An Xing Jie Pianシュガーアップル・フェアリーテイルSidonia no KishiSexy Commando Side Story: Amazing! MasaruSekai-ichi Hatsukoi, Sekai\\'ichi Hatsukoi, World\\'s Greatest First LoveBattle Flag of the Stars III星界の紋章Ranma ½ Super OVA, Ranma 1/2 Super劇場版 PSYCHO-PASS サイコパス PROVIDENCEプリンセス・プリンシパル Crown Handler 第3章The Virgin Mary is Watching You: Spring, MariMite: Haru, La Vierge Marie Vous RegardeNanoha Season 3Rupan Sansei, Lupin the Third, Lupin III Part I, Lupin the Third Part I, Lupin III Part 1, Lupin the Third Part 1ラブライブ！サンシャイン!!The School Idol Movie Over the RainbowProfessor Layton and the Eternal Songstress, Professor Layton: The First MovieBeyond the Horizon: DaybreakKimagure Orange Road: Ano Hi ni Kaeritai, Kimagure Orange Road MovieK (Movie), K-Project Movie, K-Project Sequel鹿楓堂よついろ日和ポヨポヨ観察日記Non Non Biyori OVAねじ巻き精霊戦記 天鏡のアルデラミン七つの大罪Mob Psycho 100 II: The First Spirits and Such Company Trip ~A Journey that Mends the Heart and Heals the Soul~Minamike, The Minami FamilyDetective Conan Movie 10: Promo Special, Meitantei Conan: Tantei-tachi no Requiem Recap Special, The Private Eyes\\' Requiem SpecialStreet Corner DemonMobile Suit Gundam UC RE:0096いぬやしきHeartcatch Precure! Hana no To de Fashion Show... desuka!?Honey & Clover SpecialsNeighborhood Story, GokiMonoCampus Alice, Alice AcademyDrifters OVADigimon: Digital Monsters 03デート・ア・バレット ナイトメア・オア・クイーンBonen no Xamdou, Bonen no Zamudo, Bounen no Zamudo, Bounen no ZamnedThe Kawai Complex Guide to Manors and Hostel Behavior: First Time, Bokura wa Minna Kawaisou SpecialAoharaidoアグレッシブ烈子Yowamushi Pedal 3rd Season, Yowapeda 3rd Seasonヤマノススメ Next SummitWorking!!TenSura, That Time I Got Reincarnated as a Slime MovieTamayura Kanketsu-hen Movie 1スター☆トゥインクルプリキュアSlam Dunk Movie 4, Roar Basketman\\'s Soul: Hanamichi and Rukawa\\'s Burning Summer, Slam Dunk: Hoero Basketman Tamashii!! Hanamichi to Rukawa no Nekki NatsuFishing BallRevolutionary Girl Utena: Adolescence ApocalypseGekijouban Pocket Monsters: Mewtwo Strikes Back, Pokémon Movie 1, Pokémon: The Origin of Mewtwo, Pokémon: The First Movie Kanzenban, Pokémon: The First Movie Complete VersionパンドラハーツNyanko-sensei & the First Errand, Natsume Yuujinchou LaLa Special, Natsume Yujincho LaLa Special, Natsume\\'s Book of Friends LaLa SpecialMinami-ke 4th SeasonKuroko no Basket NG Collection, Kuroko no Basket SpecialsKimi to Boku.Kaminomi頭文字〈イニシャル〉D BATTLE STAGE 2Grimgal of Ashes and Fantasies, Hai to Gensou no GrimgalThe Commanding Officer\\'s Rather Quiet Day, Full Metal Panic! The Second Raid Special, Full Metal Panic! The Second Raid OVA劇場版 Free!-Timeless Medley- 約束Fairy Tail Season 2Evangelion Shin Gekijouban: Kyuu, Rebuild of Evangelion: 3.0, Evangelion: 3.0 Q Quickening, Evangelion 3.33Code Geass: Lelouch of the Rebellion - Rebellion劇場版 美少女戦士セーラームーンCosmosアルスラーン戦記In the Night of the Storm, On A Stormy Night, Stormy NightGotoubun no Hanayome, The Five Wedded BridesHaifuri MovieHayate the Combat Butler Season 2The Boy Fascinating the Fighting GodGiovanni no ShimaDurarara!!x2 Shou OVA, Durarara!!x2 Shou Special, Durarara!!x2 Shou Episode 4.5DekinekoPetite Maruko-chan, Little Miss MarukoCardcaptor Sakura: Clear Card-henBungou Stray Dogs OVA, Bungou Stray Dogs 2nd Season Episode 13, Bungou Stray Dogs Episode 25僕らはみんな河合荘暗殺教室\\u3000課外授業編ACCA: 13th Territory Inspection Department, ACCA: 13th Ward Observation Department, ACCA Jusanku Kansatsuka30歳まで童貞だと魔法使いになれるらしいToaru Kagaku no ChoudenjihouTenkuu no EscaflowneWhite Box MovieThe Inland Sea BrideBattle Flag of the Stars, Crest of the StarsリラックマとカオルさんMitsudomoe Dai Ni Ki, Mitsudomoe 2-kiKuro Shitsuji, KuroshitsuziKindaichi Shounen no Jikenbo R 2, Kindaichi Case Files Returns, Kindaichi Case Files R 2, The File of Young Kindaichi Returns 2nd SeasonQian Qiu冥王ハーデス十二宮編\\u3000よみがえりし黄金聖闘士たちの神話Rurouni Kenshin DVD-BOX Zenshu KenshindenFushigi Yugi, Curious PlayNobita\\'s New Adventure into the Magic Planet, Doraemon: Nobita\\'s New Great Adventure into the Underworld - The Seven Magic UsersMajo Minarai wo Sagashite, Magical DoReMi Movie, Useless Witchgirl Doremi MoviePrivate Evil-Eye Nougami Neuro, Demon Detective Nougami NeuroLove Live! School Idol Project: Sunshine!!かぐや様は告らせたい？ ～天才たちの恋愛頭脳戦～ OVA地獄先生ぬ～べ～頭文字〈イニシャル〉D BATTLE STAGEGekijouban Hibike! Euphonium: Kitauji Koukou Suisougaku-bu e YoukosoGarei: Zero大王饶命 第二季Fairy Tail Season 3, Fairy Tail (2018)My Hero Academia the Movie 3Black Jack 2004バーテンダー 神のグラスArknights: Fuyukomori KaerimichiAo no Exorcist Gekijouban, Ao no Futsumashi Movie, Blue Exorcist MovieYumeiro Patissiere SP Professional, YumePati Pro, Yume-iro Pâtissière 2, Dream-Colored Pastry Chef, Yumeiro Pâtissière SP ProfessionalYowamushi Pedal 4th Season, Yowapeda 4th Season完美世界Uchuu Kyoudai: Nanba Zeroたまゆら ～もあぐれっしぶ～Sword Art Online: Alicization 2nd Season, Sword Art Online III 2nd Season, SAO Alicization 2nd Season, Sword Art Online 3 2nd Season, SAO 3 2nd Season, SAO III 2nd SeasonStrike Witches Gekijouban死神坊ちゃんと黒メイドOregairu OVA, My youth romantic comedy is wrong as I expected. OVA, Yahari Ore no Seishun Love Comedy wa Machigatteiru.: Kochira Toshite mo Karera Kanojora no Yukusue ni Sachiookaran Koto wo Negawazaru wo Enai.ワンダーエッグ・プライオリティトニカクカワイイ転スラ日記 転生したらスライムだった件Tennis no Ouji-sama OVA Another Story: Kako to Mirai no MessageStill world is Beautiful通灵妃Saiseisan Soushuuhen Shoujo☆Kageki Revue StarlightNew Prince of Tennis OVA vs. Genius10, Shin Tennis no Ouji-sama OVA, New Prince of Tennis OVA vs Genius10SAND LAND: THE SERIES名探偵コナン コナンvsキッド SHARK & JEWELKuroko no Basket: 41.5Q, Kuroko no Basket Special, Kuroko\\'s Basketball: Can we do that one more timeきんぎょ注意報！Mobile Fighter G-GundamBarrier MasterBloodline BattlefrontKare Kano, KarekanoHourou Musuko Episode 10, Hourou Musuko Episode 11, The Transient Son Specials星合の空Hirano and KagiuraBoys Over Flowers, HYDHakuouki Hekketsuroku OVAMore than a Couple, Less than Lovers., Fuukoi劇場版 Free!-Timeless Medley- 絆凡人修仙传ドラゴンボールZ 復活のフュージョン!!悟空とベジータDaiya no Ace OVA, Ace of the Diamond OVACooking Master BoyPlease Take My Brother Away 4, Kuai Ba Wo Ge Dai Zou 4アクダマドライブIma, Soko ni Iru BokuアイドルランドプリパラHime-chan\\'s RibbonHellsing I OVA: Digest for FleaksHakuoki Movie 1, Hakuouki Shinsengumi Kitan Movie 1, Hakuoki: Wild Dance of KyotoFMP, Fullmetal Panic!Free! 3rd Season劇場版Fate/Grand Order -神聖円卓領域キャメロット- Paladin; AgateramDoraemon: Nobita and the Platoon of Iron MenDigimon Adventure MovieBokurano: OursBIRDIE WING -Golf Girls’ Story- Season 2BanG Dream!（バンドリ！）第2期明日のナージャEncouragement of Climb Third Season, Yama no Susume 3White Album2, WA2To Aru Hikuushi e no Tsuioku, Recollection of a Certain Airship PilotYoung Master the Grim Reaper and the Black MaidShingeki no Kyojin: Chimi Chara Gekijou \"Tondeke! Shinsei Levi Han\", Attack on Titan Season 3 SpecialsRe:Zero kara Hajimeru Isekai Seikatsu OVA 2Kangoku GakuenPERSONA3 THE MOVIE —#3 Falling Down—劇場版マクロスΔ 絶対LIVE!!!!!!キノの旅 -the Beautiful World- the Animated SeriesHow Do You Live?Symphogear AxisSasaki to Miyano OVA, Sasaki and Miyano: A Little Story Before I Realized Love.るろうに剣心 -明治剣客浪漫譚-P3Mおそ松さん 第2期The Grandson of Nurarihyon, Grandchild of NurarihyonThe Three-Eyed OneDetective Conan Movie 09: Promo Special, Detective Conan Movie 09: Strategy Above the Depths SpecialLearning with Manga! FGOAnne of Green Gables Prequel, Akage no Anne Prequelきみと、波にのれたらWind Ninja Chronicles, Juubei NinpuchoJunjou Romantica Third SeasonJungle wa Itsumo Haré nochi Guu Final, Jungle wa Itsumo Hale Nochi Guu Final, Haré+Guu Final, Hare+Guu FinalHell Girl 3, Jigoku Shoujo 3Jigoku ShojoFox Spirit Matchmaker 3rd Season, Little Foxspirit Matchmaker Season 3, Enmusubi no Youko-chan八犬伝 -東方八犬異聞- 2舟を編む英國戀物語エマDigimon tri. 3Chrono Crusade: Mary MagdaleneBlood PlusAkiba Maid SensouSpace Battleship Yamato, Space Cruiser YamatoSekai Meisaku GekijouAim for the Top! 2, DieBusterThe Idolmaster転生したらスライムだった件 コリウスの夢天地無用！魎皇鬼テガミバチSoukyuu no Fafner: Dead Aggressor - Exodus 2nd Season, Fafner in the Azure: Dead Aggressor - Exodus 2nd SeasonAll Saints Street 4The One Being Sung宇宙戦艦ヤマト2202 愛の戦士たちThe Idolmaster Movie: Beyond the Brilliant Future, The iDOLM@STER Movie: To the Other Side of the Light!Tenchi Muyou! Ryououki (1994)神撃のバハムート GENESISサーバント×サービスRozen Maiden 2ROD OVA, Read or Die OVAPUPARIAThe Perfect World of Kai, Forest of PianoOwari no Seraph 2nd Season, Seraph of the End 2nd SeasonGekijouban Overlordorange（オレンジ）Master Keaton: Blood and Bulletsマッシュル-MASHLE-Kyo Kara Maoh!, Maruma, God? Save Our King, King from now on!Calendar StoryRohan Kishibe Does Not MoveKengan Ashura 2nd SeasonK Seven Stories メモリー・オブ・レッド ~BURN~The Society for the Study of Modern Visual Culture OVAGakkou Gurashi!ガヴリールドロップアウトOVAFree! - Iwatobi Swim Club 2, Free! 2nd SeasonFanren Xiu Xian Chuan: Di San JiダイヤのA[エース]～Second Season OAD～Bleach: The Hell ChapterBanG Dream! MorfonicationIchigo MarshmallowIdaten Deities in the Peaceful GenerationThe Society for the Study of Modern Visual CultureFree! FrFr - Short Movie, Free! SpecialsフリップフラッパーズGetBackers: Dakkan\\'yaTaiho Shichauzo (1996), YUAThe Young Spirit Master, Teenager Onmyoji, Shonen OnmyoujiNew Prince of Tennisプリンセス・プリンシパル Crown Handlerパタパタ飛行船の冒険Shura no Toki - Age of Chaos, Shura no TokiMore! Useless Witch DoremiKindaichi Shounen no Jikenbo R, Kindaichi Case Files Returns, Kindaichi Case Files RMobile Suit Gundam 00 Special Edition I: Celestial Being, Mobile Suit Gundam 00 Special Edition II: End of World, Mobile Suit Gundam 00 Special Edition III: Return of WorldThe Garden of Sinners: Gate of Seventh Heavenかくりよの宿飯Shakugan no Shana 2SYDSakamoto desu ga?Rurouni Kenshin: Ishinshishi e no Requiem, Kenshin - Samurai X, Rurouni Kenshin Movie, Rurouni Kenshin - Requiem for the Restoration Royalists, Rurouni Kenshin: Meiji Kenkaku Romantan - Ishinshishi e no RequiemRe:CREATORS 〈レクリエイターズ〉ペンギン・ハイウェイOjamajo Doremi #, Useless Witch Doremi SharpNodame Cantabile Finale: Episode 12The Daughter of Twenty Faces, Chiko, Heiress of the Phantom ThiefNezha Zhi Motong Jiangshi, Nezha: The Devil\\'s BirthMoyasimon, Tales of Agricultureみなみけ おかえりMahou Sensei Negima! OVA Mahou SekaiKabaneri of the Iron Fortress Recap 1: Gathering Light金色のガッシュベル!!Kiratto Pri☆chan 2nd Season劇場版きんいろモザイク Thank you!!けものフレンズSin-ui Tap, 신의 탑The Solitary Castle in the MirrorK-Project Sequel, K 2nd SeasonJujutsu Kaisen Season 2 + Movie RecapInu Yasha: Guren no Houraijimaハングリーハート Wild Strikerはたらく細胞GuguKokuGinga Tetsudo 999, Galaxy Express 999 (Movie), Galaxy Express 999 MovieGekijouban Fairy Tail: Dragon CryDurarara!!x2 Ketsu OVA, Durarara!!x2 Ketsu Special, Durarara!!x2 Ketsu Episode 19.5Chuunibyou demo Koi ga Shitai! 2, Chu-2 Byo demo Koi ga Shitai! RenBishoujo Senshi Sailor Moon SuperS: The Movie, Bishoujo Senshi Sailor Moon Super S - Sailor 9 Senshi Shuuketsu! Black-Dream-Hole no Kiseki, Sailor Moon Super S: Journey to the Land of DreamsBaki (2020)Angel Beats!: Stairway to Heaven, Angel Beats!: Hell\\'s KitchenXingchen Bian 4th Season, Legend of Immortals 4th Season, Stellar Transformation 4th SeasonMartial Universe 2nd SeasonWataten! An Angel Flew Down to MeSekai Meisaku Gekijou, Ai no Wakakusa Monogatari II, Little MenThe One Being Sung Specials, Utawarerumono Q&A, Utawarerumono Questions Answered, Utawarerumono: Naze Nani Utawarerumono, Utawarerumono Omake徒然チルドレンForeign Girl将国のアルタイルLaid-Back Camp, Yurukyan, Yuru Camp△: Heya Camp Episode 0Gekijouban Yowamushi PedalYama no Susume 2nd Season, Encouragement of Climb 2nd Seasonテイルズ オブ ヴェスペリアGekijouban Sword Art Online終末のワルキューレII 後編Battlefield Valkyria: Gallian ChroniclesGekijouban Sengoku Basara: The Last Party最弱テイマーはゴミ拾いの旅を始めました。Smile at the RunwayPocket Monsters, Pokemon 2019, Pokémonplanetarian～ちいさなほしのゆめ～Ore wo Suki nano wa Omae dake ka yo Kanketsu-hen, Ore wo Suki nano wa Omae dake ka yo Episode 13, Oresuki OVANumber Six, Number 6, No. SixNisekoiNEW GAME!魔女の旅々The Ancient Magus\\' Bride OVA, Mahoutsukai no Yome OVA, Mahoutsuaki no Yome OAD, MahoyomeRupan Sansei Episode: 0 \\'First Contact\\'Log Horizon Second Season, Log Horizon Dai 2 SeriesKubo-san wa Boku wo Yurusanai, Kubo-san Doesn\\'t Leave Me Be (a Mob)Kabaneri of the Iron Fortress Recap 2: Burning LifeKino no Tabi: Tower Country/Free Lance, Kino\\'s Travels, Kino no Tabi Episode 00Patlabor 2Kidou Keisatsu Patlabor Gekijouban, Patlabor 1: The Movie, Patlabor: The Mobile Police, Mobile Police Patlabor: The Movie怪盗セイント・テール異世界のんびり農家Inu Yasha: Toki wo Koeru Omoi, InuYasha: Love That Transcends TimeShin Kyuuseishu Densetsu Hokuto no Ken Raou-den Gekitou no Shou東のエデン 総集編 Air CommunicationHigashi no Eden: Gekijouban II Paradise LostRoom Camp: Sauna, Rice, and a Three-Wheeled MotorcycleFree! Dive to the Future SpecialHakuouki 2, Hakuoki 2, Hakuouki Shinsengumi Kitan HekketsurokuDBZ: A Final Solitary Battle! The Z Warrior Son Goku\\'s Father Challenges Furiza, Dragon Ball Z Special 1: Tatta Hitori no Saishuu Kessen - Freezer ni Idonda Z Senshi Son Gokuu no ChichiDragon Ball Super Movie 2: SuperheroBattle Through the Heavens 2nd Season Specials: Song of DesertであいもんGekijouban Bishoujo Senshi Sailor Moon Eternal, Pretty Guardians Sailor Moon Eternal The MovieBaka to Test to Shoukanjuu OVA, Baka to Test to Shokanju OVA, The Idiot, the Tests, and the Summoned Creatures OVA, Baka and Test: Summon the Beasts OVA荒川アンダー ザ ブリッジ赤ずきんチャチャAh! My Goddess: Tatakau TsubasaInitial D: Project D to the Next Stage - Speculations on Project DHNK IIHakumei and Mikochi: Screws, Beds, Fireplaces, and Gambling極主夫道Full Metal Panic! IVFukigen na Mononokean 2nd SeasonFAIRY TAIL（フェアリーテイル）Dragon Quest: Dai\\'s Great Adventure, Dragon Quest: Adventure of DaiBattle Through the Heavens SpecialsBattle Through the Heavens 2nd Season映画 ドラえもん のび太の恐竜2006Date A Live Fragment: Date A BulletCOLORsCode Geass: Lelouch of the Rebellion Special Edition Black Rebellion治癒魔法の間違った使い方キャンディ・キャンディFive Centimeters Per Second, Byousoku 5 Centimeter - a chain of short stories about their distance, 5 Centimetres Per Second, 5 cm per secondAo Haru Ride: Unwritten, Ao Haru Ride: PAGE.13, Ao Haru Ride Episode 13, Ao Haru Ride Prologue, Ao Haru Ride OVA, Aoharaido OVAAjin 2nd Season,Air Gear OVAYRYR, Yuruyuriよんでますよ、アザゼルさん。Atlas UFO Robot, UFO Robot Goldrake, UFO Robo Grandizer, UFO Robot GoldorakTsubasa Chronicles - Second Season, Tsubasa: RESERVoir CHRoNiCLEトワノクオン 第６章 永久の久遠Tada Doesn\\'t Fall in Love, TadaKoiSword Art Online III, SAO Alicization, Sword Art Online 3, SAO 3昭和元禄落語心中 与太郎放浪篇Shiguang Dailiren Episode 5.5Saint Seiya: The Hades Elysion ChapterRe: Life in a different world from zero, ReZero, Re:Zero kara Hajimeru Isekai Seikatsu OVAラディアン 第2シリーズプリティーリズム・レインボーライブPokemon: Aim to Be a Pokemon MasterSekai Meisaku Gekijou, The Story of Perrineワンピース エピソードオブルフィ 〜ハンドアイランドの冒険〜Noein: Toward Another You逆天邪神3D, Nitian Xie Shen (2023), Nitian Xie ShenNaruto: Shippuuden - Jump Festa 2013 Special, Naruto: Shippuuden - Jump Super Anime Tour 2013 SpecialSeven Deadly Sins Season 2The Melody of Two People that He PlaysMFゴーストMeitantei Conan Episode 490.1, Case Closed: Black HistoryMagical Taruruto-kun两不疑Kara no Kyoukai: The Garden of Sinners Movie 1, Borderline of Emptiness: Overlooking View, The Garden of Sinners: Thanatos先輩がうざい後輩の話RomeoxJulietRanma ½ Special: Yomigaeru Kiokuラグナクリムゾン音楽Momo e no TegamiShin Megami Tensei: Persona 3, P3Mオーバーテイク！Nobunaga Concierto, Nobunaga KyousoukyokuNetojuu no Susume, Recommendation of the Wonderful Virtual LifeMitsudomoe SpecialましろのおとMagical Girl Lyrical Nanoha: DetonationKuroko no Basket OVA, Kuroko no Basket OAD, Kuroko\\'s Basketball: A Monkey Can\\'t Win!Kokyu no KarasuKatekyou Hitman Reborn! SpecialKimagure Orange Road TV, Capricious Orange RoadI hate being in pain, so I think I\\'ll make a full defense build., I Hate Getting Hurt, So I Put All My Skill Points Into DefenseHigh School Funny-face ClubInu x Boku SS Special, Youko x Boku SS SpecialHidamari Sketch Tokubetsu-henPocket Monsters: Hakumei no TsubasaHaikyuu!!: Karasuno Koukou VS Shiratorizawa Gakuen Koukou OVA, Haikyuu!! OVAジャイアントキリングDrifters: Battle in a Brand-new World War, Drifters Second Season, Drifters 2nd SeasonDragon Ball Kai Episode 98, Dragon Ball Z Kai Episode 98Doraemon: Nobita no Himitsu Dougu HakubutsukanAjin-chan wa KataritaiBJ21甘々と稲妻Sumo of the Rising Sun, Sumo Wrestler Hinomaru, Hinomaru ZumouHigashi no Eden: Gekijouban I The King of EdenThe Way of the House Husband 2, The Way of the Househusband 2, Gokushufudou 2ガールズバンドクライGensou Maden Saiyuki劇場版 牙狼〈GARO〉‐DIVINE FLAME‐ファンタジックチルドレンDanMachi, Is It Wrong That I Want to Meet You in a Dungeon第一序列Darker than Black Episode 26, DTB, Darker than Black: Kuro no Keiyakusha SpecialPrincess CometMy Hero Academia the Movie: The Two HeroesBasilisk: Koga Nimpo Cho, Basilisk: The Kouga Ninja ScrollsGekijouban Aikatsu! Idol Katsudou!, Aikatsu! Idol Katsudou! MovieAFRO SAMURAI\\u3000劇場版Ah! My Goddess: Sorezore no TsubasaGekijouban Aa! Megamisama, Aa! Megami-sama!: The MovieYuki Yuna Is A Hero: Washio Sumi Chapter 1 - FriendsYondemasu yo, Azazel-san. 2nd SeasonYamada-kun to Nananin no Majo, Yamada-kun and the 7 Witches, YamajoMy Happy MarriageSiúil, a Rún OVA, Totsukuni no Shoujo OADTo LOVEる -とらぶる- ダークネス2ndGekijouban Sora no Otoshimono: Tokeijikake no Angeloid, Sora no Otoshimono: The Movie, Lost Property of the Sky Movie, Misplaced by HeavenSo-Ra-No-Wo-To, Soranowoto, Sora no Woto, Sora no OtoSlam Dunk Movie 3, Slam Dunk OVA 3, Slam Dunk Shouhoku Kaidai no Kiki! Moeru Sakuragi Hanamichi, Slam Dunk: Shouhoku\\'s Greatest Danger! Sakuragi HanamichiHello!! Kiniro Mosaic SpecialGeunyeoga Gongjagjeolo Gaya Haessdeon Sajeong, 그녀가 공작저로 가야 했던 사정Saki Achiga-hen: Episode of Side-A Episodes 13, 14, 15, and 16Read or Die TV, Read or Die, ROD, Read or Die: the TV, Read or Dream, R.O.D. TVPretty Cure All Stars DX3: Reach the Future! The Rainbow Flower that Connects the World, Eiga Precure All Stars DX3: Mirai ni Todoke! Sekai wo Tsunagu Nijiiro no HanaポプテピピックOverDriveOne Punch-Man 2, One-Punch Man 2, OPM 2ワンピース デッドエンドの冒険Mushoku Tensei Ⅱ: Isekai Ittara Honki Dasu Episode 0Three Way StruggleOsamu Tezuka\\'s Metropolis, Robotic AngelMagical Fairy Persia, Magical Fairy PerushaThe Villainess Wants to Enjoy a Carefree Married Life in a Former Enemy Country in Her Seventh Loop!, The Villainess of 7th Time Loop Enjoys Free-Spirited Bride Life in the Former Hostile CountryKuroshitsuji SpecialSkilled Teaser Takagi-san OVA, Karakai Jouzu no Takagi-san: Water SliderThe Clueless Transfer Student Is Assertive.一週間フレンズ。色づく世界の明日からHello! Lady Lin, Gwendoline season 2はたらく細胞BLACKゴルゴ13Garupan, Girls und PanzerForza Sugar, Genki The Boy Champ, Go For It! Genkiふしぎの海のナディア富豪刑事 Balance:UNLIMITEDFinal Fantasy 7: Advent Children Special EditionDurarara!!x2 Ten OVA, Durarara!!x2 Ten Special映画 ドラえもん のび太の新恐竜BIRDIE WING -Golf Girls\\' Story-Asobi Asobase OVAAikatsu! Idol Katsudou! Idol ga Tsudou!, Aidoru ga Tsudou!, Aikatsu! 2, Idol ga Tsudou! 2Yawara! A Fashionable Judo GirlThe iDOLM@STER Series Concept Movie 2021Tsubasa: RESERVoir CHRoNiCLEトワノクオン 第４章 紅蓮の焦心Toaru Majutsu no Index 2, Toaru Majutsu no Kinsho Mokuroku 2To LOVE-Ru Trouble Darkness 2nd OVASo-Ra-No-Wo-To Specials, Soranowoto Specials, Sora no Woto Specials, Sora no Oto SpecialsWo Shixiong Shizai Tai Wenjian LeUN-GO episode:0 Inga-ron宇宙パトロールルル子My Neighbor SekiTo LOVE-Ru Trouble Darkness OVA, To-Love-Ru Darkness OVA, ToLoveRu Darkness OVABig O Roger, Big OI became the sword by transmigrating, TenKenLegendary Gambler TetsuyaシャインポストRe:ZERO: Starting Life in Another World - Frozen Bonds - Manner MoviePuri Para, Pri Para, PuriPara, Prism Paradiseレディ ジュエルペットKappa no Coo to Natsuyasumiハロー・ワールドGintama x Monster StrikeRound Vernian Vifam, Galactic Drifter Vifam, Space Castaways VifamふらいんぐうぃっちDawang RaomingD-Frag!, D-Fragmentsシティーハンタースペシャル グッド・バイ・マイ・スイート・ハートCike Wuliuqi Fanwai, Ci Ke Wu Liu Qi: Fan Wai, Assassin Seven: Extra StoryFade to Black: Call Out Your Nameアルスラーン戦記  風塵乱舞Sugar Princess, Anmitsu-himeAa! Megami-sama! Episodes 12.5, 25 and 26, Oh! My Goddess SpecialsGo! Ina Junior High Ping-Pong Clubハイブリッド チャイルドFox Spirit Matchmaker Season 2, Little Fox Spirit Matchmaker Di Er Ji, Enmusubi no Youko-chan黄金庭院：冬日里的新年愿望Children who Chase Lost Voices from Deep Below, Journey to AgarthaCool-headed Hoozuki 2nd Season OVA, Hozuki no Reitetsu 2nd Season OVAヒロイック・エイジHayate no Gotoku!ゴールデンカムイ OADGekijyouban Hagane no Renkinjutsushi - Shanbara wo Yuku Mono, Fullmetal Alchemist the Movie: Conqueror of Shamballa, FMA MovieA Record of a Mortal\\'s Journey to Immortality, Fanren Xiu Xian Chuan: Fanren Feng Qi Tian NanCloudy Laugh Gaiden, Laughing Under the Clouds GaidenDenYuDen, DenYuuDen, Densetsu no Yusha no Densetsu, LOLHキャシャーン SINSバクテン!!The Idiot, the Tests, and the Summoned Creatures, Baka to Test to Shokanju, BakaTestManual of Hundred Demons Season 3, Bai Yao Pu Jing Shi PiaゾンビランドサガYu-Gi-Oh!: The Dark Side of Dimensions, YugiohYondemasu yo, Azazel-san. (2011)Martial God Asura映画 若おかみは小学生！Utawarerumono 3Toriko (2011), Toriko (TV), Toriko x One Piece Collabo SpecialTiger and Bunny 2 Part 2, Taibani 2Slam Dunk Movie 2Shuumatsu no Walküre 2nd Season, Record of Ragnarok 2nd Season, Shuumatsu no Valkyrie, Valkyrie of the EndAquatope of White SandShion no OhShakugan no Shana Third, Shakugan no Shana 3Re:ゼロから始める異世界生活 Memory Snow マナームービーWakate Animator Ikusei Project, 2010 Young Animator Training Project, Anime Mirai 2010, Ojii-san no Lamp, Grandfather\\'s Lamp, Project AOban Star RacersNieR:Automata Ver1.1aP4AMahou Kishi Rayearth IISasukeあんさんぶるスターズ！！追憶セレクション 『エレメント』Elfen Song, Elfic Song, Elf Song映画 ドラえもん のび太の南極カチコチ大冒険Da Hai, Big Fish & Chinese Flowering CrabappleCho Denji Machine Voltes V, Super Electromagnetic Machine Voltes V, Super Electron Machine Voltes V, Ultra Electromagnetic Machine Voltes V, Vultus V, Voltes 5My Hero Academia Movie 2: Heroes Rising Epilogue Plus, Boku no Hero Academia the Movie 2 Picture DramaHyoujin: Blades of the Guardians, ヒョウ人, Blades of the GuardiansアナザーAngel LegendAkame ga Kiru!あっちこっちHitoribocchi no ○○ Seikatsu, Hitori Bocchi\\'s ○○ Lifestyle響け！ユーフォニアム 番外編 かけだすモナカGekijouban Haikara-san ga Tooru Zenpen, Smart-san, Mademoiselle Anne, There Goes the Modern Girl, Here Comes a DandyCyber Formula: Shinseiki-GPX, Shinseiki GPX Cyber FormulaProof of UsDoraemon the Future 2008, Doraemon the Movie 2008, Doraemon: Nobita to Midori no KyojindenCloudy LaughDemi-chan wa Kataritai Episode 13BURN THE WITCH #0.8To All of You That I LovedBe-Bop-High School, Be-Bop High SchoolPlease Take My Brother Away, Kuai Ba Wo Ge Dai Zouエア・ギアジパングRequiem StreetLaid-back Camp Season 2湾岸ミッドナイトSpace Battleship Yamato 2, Star Blazers 2, Space Cruiser Yamato 2, Uchu Senkan Yamato 2トワノクオン 第５章 双絶の来復Time Trouble Tondekeman!Tenten Kakumei, MagiRevoTanoshii Moomin Ikka Bouken Nikki, Delightful Moomin Family: Adventure DiaryThe Person Who Knows How Blue the Sky IsBomber Bikers of Shonan, Shounan Bakusouzoku 2 - 1/5 Lonely Night, 10 Ounce Bonds, Hurricane Rider, GT380 History, Tenacity Mud Special, Legendary Red Star, From SamanthaShingeki no Kyojin Season 4 Specials, Attack on Titan Season 4 Specials, Attack on Titan: The Final Season SpecialsShinchou Yuusha: Kono Yuusha ga Ore Tsueee Kuse ni Shinchou SugiruSekai\\'ichi Hatsukoi 2: Propose HenさらざんまいSaenai Kanojo no Sodate-kata名探偵コナンMAGIC FILE 4 ～大阪お好み焼きオデッセイ～LB!レディレディ！！Ghost in the Shell: Arise - Border:2 Ghost WhispersKore wa Zombie Desu ka? 2, Koreha Zombie Desu ka? Jigokuhen, Kore ha Zombie Desu ka? Jigokuhen, Kore wa Zombie Desu ka? Jigokuhen, Kore wa Zombie Desuka? of the Deadこの素晴らしい世界に爆焔を！Koi wa Amaagari no You ni, Love is Like after the Rain, KoiAmeKaicho wa Maid-sama! Special, Kaicho wa Maidsama! Special, Kaichou wa Meido Sama Special, Class President is a Maid! SpecialJunjyou Romantica, Junjou Romantica: Pure RomanceRanma ½: Okumu! Shunmin Kou, Ranma ½: Nightmare! Incense of Spring Sleep, It\\'s a Rumic World: Ranma ½Seraph of the Endワンピース ～ハートオブ ゴールド～Aoi Bungaku Movie, No Longer Human Movie Recapナンバカ 2期Nanatsu no Taizai: Ban no Bangai-hen, The Seven Deadly Sins: Ban\\'s Side Story, The Seven Deadly Sins: Bandit Ban OVA 1Minami-ke OVA, Minami-ke OAD名探偵コナン: コナンとキッドとクリスタルマザーMaho Girls PreCure! the Movie: The Miraculous Transformation! Cure Mofurun!Horizon on the Middle of Nowhere II, Kyoukai Senjou no Horizon 2このはな綺譚Kidou Senkan Nadeshiko, Mobile Battleship NadesicoKankore Movie, Gekijouban Kantai CollectionDon\\'t Toy with Me, Miss Nagatoro 2nd Season, Ijiranaide, Nagatoro-san 2nd SeasonHeppoko Jikken Animation Excel♥SagaHellsing [ヘルシング]Kiniro Mosaic 2nd Season, KINMOZA! 2nd Season, Kinmosa 2nd Season, Golden Mosaic 2nd SeasonBaki the Grappler II, Grappler Baki Second Season, Baki The Grappler - The Ultimate Tournament, Grappler Baki Maximum TournamentGochiUsaPrisma Illya 3rei!!The Radio Wave-Like Girlfriendデッドマウント・デスプレイChuunibyou demo Koi ga Shitai! Episode 13, Chu-2 Byo demo Koi ga Shitai! Episode 13Charlotte Special, Strong PeopleBoboboobo Boobobo, Bo-Bobo, Boboboubo BouboboArea 88 OVAAo no FutsumashiAh! My Goddess: Sorezore no Tsubasa SpecialsYugioh, Yu-Gi-Oh!, Yu-Gi-Oh!: Duel Monsters, Yugioh: Duel Monsters, Yu-Gi-Oh! Duel MonstersXian Wang de Richang Shenghuo 4th Season, The Daily Life of the Immortal King 4th SeasonArcadia of My Youth, Harlock Movie 2, My Youth in Arcadia, Albator 84TenSura OVA, That Time I Got Reincarnated as a Slime OVA, Tensei shitara Slime Datta Ken Gaiden, That Time I Got Reincarnated as a Slime ExtraDusk Maiden of Amnesia: Exorcism Maiden, Tasogare Otome x Amnesia SpecialSword Art Online: Alicization 3rd Season, Sword Art Online III 3rd Season, SAO Alicization 3rd Season, Sword Art Online 3 3rd Season, SAO 3 3rd Season, SAO III 3rd Season, Sword Art Online: Alicization - War of Underworld - The Last SeasonNew Prince of Tennis Specials妖神记 第6季Space Battleship Yamato 2205: A New Journey - Prior Chapter: Take Off, Uchuu Senkan Yamato 2205: Aratanaru Tabidachi - Zenshou - Take Off, Uchuu Senkan Yamato 2205: Aratanaru Tabidachi - Koushou - Stashaトロピカル～ジュ！プリキュアFly! IsamiChocola et Vanilla - Sugar Sugar Rune, Sugar² RuneS.A., Special A ClassSengoku Basara Two, Sengoku Basara 2Ryuusobaもも子、かえるの歌がきこえるよ。Detective Conan Movie 12 Side-Story OVA: Kudou Shinichi - The Case of the Mysterious Wall and the Black LabI, the Demon Lord, Took a Slave Elf as My Wife, but How Do I Love Her?, Madomeマクロス ゼロラブライブ! 虹ヶ咲学園スクールアイドル同好会Lord El-Melloi II\\'s Case Files: Rail Zeppelin Grace Note - Special EpisodeひだまりスケッチDanMachi Movie, Is It Wrong That I Want to Meet You in a Dungeon Movie継つぐももLibrary War, Toshokan Kakumei, Library Revolution, Library Rebellion, Library CrisisToradora! Special, Toradora!: The True Meaning of BentoToradora! Portable, Toradora! OVATo LOVE-Ru Trouble Darkness 2ndTiger and Bunny 2, Taibani 2Prince of Tennis: Atobe\\'s Giftテガミバチ 光と青の幻想夜話Taishou Era Baseball Daughters, Taishou Era Baseball GirlsSSSS.DYNAZENON神撃のバハムート VIRGIN SOULYong Sheng 2nd SeasonUrusei Yatsura Movie 5: The Final ChapterTonari no Seki-kun: The Master of Killing Time SpecialsToaru Kagaku no Railgun OVA, Toaru Kagaku no Choudenjihou OVA, A Certain Scientific Railgun OVATamayura: More Aggressive OVA, Tamayura: More Aggressive Episode 8.5Tales of Symphonia 2, Tales of Symphonia The Animation: Tethe\\'alla ChapterスーパーカブSora no Otoshimono: f, Lost Property of the Sky 2, Misplaced by Heaven 2, Heaven\\'s Lost Property 2Shimuun, Simoonシドニアの騎士 あいつむぐほしSamurai SevenSaihate no Paladin 2nd SeasonPSYCHO-PASS サイコパス 3ＯＮＥ ＰＩＥＣＥ（ワンピース） エピソードオブチョッパー＋冬に咲く、奇跡の桜Omohide Poro Poro, Omoide Poro-poro, Memories Like Falling Rain Drops, Memories Like Falling Teardrops, Memories of Teardrops, Memories of Yesterday望まぬ不死の冒険者Mama is a 4th Grader, Mama wa Shougaku YonenseiKin-iro no Corda: Primo Passo - A Summer Encore, The Golden Chord, La Corda D\\'Oro: Primo Passo Episode 26ケンガンアシュラKami-chu!: Kami-sama wa ChuugakuseiK: Seven Stories - Lost Small World - To the Other Side of the CageHetalia World Series Extra Episodes, Hetalia=Fantasiaヘタリア Ｗorld SeriesRe:Construction the Elfrieden Kingdom Tales of Realistic Brave, A Realist Hero\\'s Kingdom Restoration ChronicleMurasaki Shikibu Genji Monogatari, Story from Genji AgedamaガヴリールドロップアウトShinseiki-GPX Cyber Formula ZeroDragon Ball Chou, DB Super, DBSBattle Through The Heavens: OriginDigimon tri. 2DAYS東院学園戦！Chuunibyou demo Koi ga Shitai! Ren: Saisei no... Jaou Shingan Mokushiroku, Love, Chunibyo & Other Delusions: Heart Throb - The Rikka Warsエンジェルビーツ! アナザーエピローグAishiteru ze Baby, Love You Baby, Babe, My Love, I Love You, BabyRakugo GirlsShin Kyuuseishu Densetsu Hokuto no Ken Raou-den Junai no Shouヘタリア The Beautiful WorldMysterious Magic Fun Fun PharmacyFresh Pretty Cure!Eiga Crayon Shin-chan: Chou Jikuu! Arashi wo Yobu Ora no Hanayome, Crayon Shin-chan: Super-Dimmension! The Storm Called My Brideコードギアス 亡国のアキト 第２章「引き裂かれし翼竜」ちおちゃんの通学路Captain Tsubasa (2001), Road to World Cup 2002, Road to Dreamグレッシブ烈子Yuu Gi Ou: Duel Monsters 5DS, Yugioh 5 D\\'s夜桜四重奏 ツキニナク夜桜四重奏 ～ハナノウタ～幼女戦記 砂漠のパスタ大作戦Yao Shen Ji: Ying Yao Pian, Tales of Demons and Gods 3rd SeasonStar Field Forty Thousand Years, Xing Yu Si Wan Nian, Xiu Zhen Si Wan Nian, XingyusiwannianVinland Saga Season 2 Episode 6.5Spaceship Sagittarius, The Space Sagittariusとっても！ラッキーマンThe Idolmaster Special, The iDOLM@STER ep 26, The Idolmaster ep 26Fang of the Sun Dagram, Fang of the Sun DougramSuzumiya Haruhi-chan no YuutsuSuisei no GalgantiaSoreMachiBurning-Eyed Shana戦姫絶唱シンフォギアGXorange －未来－大奥Mini Dragon EX, Mini Dragon SP魔法少女リリカルなのは ReflectionKyuuShi蜘蛛ですが、なにか？Kishukugakkou no JulietKara no Kyoukai: The Garden of Sinners Movie 6, Borderline of Emptiness: Oblivion Recording, The Garden of Sinners: Fairy TaleRon Kamonohashi: Deranged Detective12 Senshi Bakuretsu Eto RangerShigofumi: Stories of Last Letter戦姫絶唱シンフォギアGSayonara Zetsubou Sensei BD Box OVA, SZS Blu-ray Box Special咲-Saki-Petite Pri Yuushi, Puchi Puri YuushiPani Poni Dash! SpecialOushitsu Kyoushi HaineHamefura, I Reincarnated into an Otome Game as a Villainess With Only Destruction Flags…, Destruction Flag OtomeGaiken Shijou Shugi, 外見至上主義, Oemo Jisang JuuiNaruto Movie 8, Gekijouban Naruto: Blood PrisonGekijouban Mahouka Koukou no Rettousei魔法のプリンセス\\u3000ミンキーモモ（夢を抱きしめて）Mahou Kishi RayearthSpirit Pact: Yomi no Chigiri, Spirit Pact: Bond of the UnderworldKara no Kyoukai: the Garden of sinners/recalled out summer - extra chorus, the Garden of sinners -recalled out summer- extra chorusKaleido Star: New Wings - The Amazing Princess Without a Smileいつだって僕らの恋は10センチだった。HantsukiSekai Meisaku Gekijou, 3000 Leagues in Search of Mother, Marco, From the Appenines to the Andesグラップラー刃牙Shinseki-GPX Cyber Formula SinExogenesis: Symphony Part 3 (Redemption)Hagane no Renkinjutsushi: Hagaren 4-koma Gekijou, Hiromu Arakawa 4-koma Theater, FMA: 4-koma TheaterFairy Tail: Youkoso Fairy Hills!, Yousei Gakuen: Yankee-kun to Yankee-chanDanMachi 3rd Season, Is It Wrong That I Want to Meet You in a Dungeon 3rd SeasonDIY!!Eiga Crayon Shin-chan: Arashi wo Yobu Appare! Sengoku Dai Kassen, Crayon Shin-chan: The Storm Called: The Battle of the Warring States劇場版シティーハンター <新宿PRIVATE EYES>Carnival Phantasm OVAAmaburiAcchi Kocchi Special, Acchi Kocchi Episode 13The Unlimited Hyobu Kyosuke弱虫ペダル SPARE BIKETekkaman Blade, Star Knight Tekkaman BladeLegend of Tang 2nd SeasonTennis no Ouji-sama OVA Another Story II: Ano Toki no BokuraTaiho ShichauzoShokugeki no Souma: San no Sara OVA, Shokugeki no Souma: San no Sara - Erina no Shin Seikatsu, Food Wars! The Third Plate OVA, Shokugeki no Souma 3rd Season OVAShokugeki no Souma: Ni no Sara - Jump Festa 2016 Special, Shokugeki no Soma: Ni no Sara OVA, Food Wars! The Second Plate OVA, Shokugeki no Souma 2nd Season OVATonari no Kaibutsukun, The Monster Next Door, My Neighbor Monster-kunTomoyo Video Diary 1, Memorial Video 1, Cardcaptor Sakura Specials, Cardcaptor Sakura Video DiaryShinseiki Evangelion Gekijouban: Shi to Shinsei, Neon Genesis Evangelion - Death and RebirthThe Invader Comes From the Bottom of the Sea!, Shinryaku! Ika Musume 2Shinryaku! Ika Musume OAD, The Invader Comes From the Bottom of the Sea! OVA, Shinryaku! Ika Musume OVA, Squid Girl OVAShen Lan Qi Yu Wushuang Zhu 2nd SeasonSaint☆Onii-san, Saint Onii-sanPsycho-Pass SS Case 2: First GuardianPocket Monsters GenerationsWing of Royal Space Troop Honneamise, Star QuestHow to keep a mummyメジャーセカンドIt\\'s the Only NEET Thing to Do, Kami-sama no Memo-chou, Kami-sama no Memo-chou, God\\'s Notebook, Notebook of GodPhantom Thief Jeanne, Divine Wind Thief JeanneJoJo\\'s Bizarre Adventure OVA 1Jewelpet Twinkle Star, Jewelpet 2, Jewelpet TinkleFalse God My Dropkick 2nd Season, Dropkick on My Devil!! 2nd SeasonGekijouban Isekai Quartet: Another World異世界居酒屋～古都アイテーリアの居酒屋のぶ～INITIAL D BATTLE STAGE 3Ascendance of a Bookworm: Side Story One, Ascendance of a Bookworm: Side Story TwoShin Kyuuseishu Densetsu Hokuto no Ken Zero Kenshirou-denHigh School DxD Dai 2-ki, High School DxD 2nd Season, High School DxD Second Season, Highschool DxD 2ガンダムビルドダイバーズRe:RISELe Fruit de la GrisaiaFushigi-boshi no Futago-hime, Fushigi Boshi no Futago Hime, Twin Princesses of the Wonder Planet, Twin Princesses of the Mysterious Star, Twin Princess of the Mysterious PlanetFate/stay night [Unlimited Blade Works] 新作映像「sunny day」Be A Man! Samurai School咲-Saki-全国編Higurashi no Naku Koro ni 3rd Season, Higurashi no Naku Koro ni Dai San KiGUILTY CROWNごくせんGANGSTA. ギャングスタギャラリーフェイクDoraemon: New Nobita\\'s Great Demon - Peko and the Exploration Party of FiveD4DJ All MixEiga Crayon Shin-chan: Gachinko! Gyakushuu no Robo To-chanYoseatsume Blues, Cowboy Bebop Session XX, Cowboy Bebop Episode 27 Session XX, Cowboy Bebop Session XX: Mish-Mash Bluesブレイブ・ストーリーあの夏で待ってるGekijouban Aikatsu Stars!Ikoku Meiro no Croisee The Animation, La croisée dans un labyrinthe étranger SpecialIe Naki Ko Rémi Specials, Ienaki Ko Remy Specials, Homeless Child Remi, Remi, Nobody\\'s GirlIDOLY PRIDEHuyao Xiao Hongniang: Yue Hong II, Little Foxspirit Matchmaker Season 4, Enmusubi no Youko-chanHigh School DxD BorN OVA, High School DxD BorN Episode 13, High School DxD Born OVA: The Pheoenix Doesn\\'t ReviveHigh School DxD Third Season, High School DxD 3rd Season, Highschool DxD BorNGrimm\\'s Fairy Tales, Grimm Masterpiece TheaterGokudo-kun Manyuki, Jester the AdventurerゴブリンスレイヤーThe Society for the Study of Modern Visual Culture, Genshiken Second Generation不機嫌なモノノケ庵风灵玉秀 第二章エデンズ ゼロシティーハンタースペシャル ザ・シークレット・サービスキャプテン翼劇場版 BLEACH The DiamondDust Rebellion もう一つの氷輪丸便利屋斎藤さん、異世界に行く白蛇：缘起3年Z組銀八先生Yuusha Ou GaoGaiGar Final Grand Glorious Gathering, Yuusha-Oh GaoGaiGar Final Grand Glorious Gathering勇者警察ジェイデッカーYKK, Yokohama Shopping Log, Yokohama Shopping Trip東京レイヴンズGekijouban Toaru Majutsu no Kinsho MokurokuTo LOVE-Ru Trouble Darkness, To-Love-Ru Darkness, ToLoveRu DarknessTian Bao Fu Yao LuTetsuwan Birdy (2008), Birdy the Mighty TV天使な小生意気Gekijouban Tennis no Ouji-sama: Eikokushiki Teikyuu Shiro Kessen!, Prince of Tennis: Eikokushiki Teikyuu Shiro Kessen!Tenchi Universe TV, Tenchi Muyo!Steins;Gate 聡明叡智のコグニティブ・コンピューティングShugo Chara Ninenme, Shugo Chara! Second YearShounan Junai Gumi, Shounan Jun\\'ai-gumi!, Shonan Junai-gumi!, Pure Love Gang of Shounanサラリーマン金太郎A Corpse is Buried Under Sakurako\\'s Feet.Ranma 1/2: Nihao My ConcubineSeijo no Maryoku wa Bannou desu 2nd Season, The power of the saint is all around Season 2映画プリキュアミラクルリープ みんなとの不思議な1日Pokemon XY: Saikyou Mega Shinka, Pokemon XY Special Episode: The Strongest Mega Evolution - Act I, Pokemon XY Special Episode: The Strongest Mega Evolution - Act II, Pokemon Monsters XY Tokubetsu-henぱにぽにだっしゅ！Nodame Cantabile OADNaruto Movie 7, Gekijouban Naruto Shippuuden: The Lost Tower無限のリヴァイアス無限の住人-IMMORTAL-Mardock Scramble: Asshukuレジェンズ 甦る竜王伝説HoneyWorks 10th Anniversary \"Lip×Lip Film×Live\"Kin\\'iro no Chord, Kiniro no Chord, Kin-iro no Corda: Primo Passo, The Golden ChordK-Project 7 StoriesA Chivalry of the Failed Knight, Rakudai Kishi no Eiyuutan, A Tale of Worst Oneプリティーリズム オーロラドリームPokémon Evolutionsピアノの森 第2シリーズGirl Demon ZakuroOshiBudouLittle Shark\\'s Outings, Outgoing Baby Shark, Little Shark\\'s Day Out問題児たちが異世界から来るそうですよ?Meitantei Conan: Konpeki no Hitsugi [Jolly Roger]ママレード・ボーイBeyond the Clouds, The Promised PlaceGhost in the Shell (2015)Ghost in the Shell: Arise - Border:4 Ghost Stands AloneGhost in the Shell: Arise - Border:1 Ghost PainKore wa Zombie Desu ka? of the Dead Episode 11, Is This a Zombie? Of the Dead: Yes, This Suits Me Just Fine, Is this A Zombie? of the Dead OVAK-Project, K -eine weitere Geschichte-純情ロマンチカGekijouban Inazuma Eleven GO: Kyuukyoku no Kizuna Gryphon, Inuzuma Eleven Go Movie, Inazuma Eleven Go: Kyuukyoku no Kizuna GriffonHokago Teibo Nisshi, Afterschool Embankment JournalHakuouki 3, Hakuoki 3, Hakuouki Shinsengumi Kitan Reimeiroku這いよれ！ニャル子さんFDoraemon: Nobita\\'s Fantastical Three MusketeersDigimon tri. 1グッバイ、ドン・グリーズ！Utakoi.Darker than BLACK 2nd Season, Darker than BLACK Second Season, DTB2My Hero Academia: World Heroes\\' Mission白蛇Ⅱ: 青蛇劫起劇場版 BLEACH MEMORIES OF NOBODY蒼き伝説\\u3000シュート！Assassination Classroom, Ansatsu Kyoushitsu Episode 0: Deai no Jikan, Ansatsu Kyoushitsu: Jump Festa 2014 Special亜人\\u3000第１部「衝動」Zero no Tsukaima Final Series, Zero\\'s Familiar Final Series, Zero no Tsukaima S4Yowapeda Re:ROADNight World, Night CountryドラゴンボールZ 神と神Danganronpa 3: The End of Hope\\'s Peak Academy - Hope VolumeCrayon Shin-chan: Nazo Meki! Hana no Tenkasu GakuenちょびっツBokurema诛仙Zero\\'s Familiar 2nd Series, Zero no Tsukaima S2, The Familiar of Zero: The Rider of the Twin MoonsYuu Yuu Hakusho, YuYu Hakusho, Yuu☆Yuu☆Hakusho SpecialsYamada-kun to Nananin no Majo OVA, Yamada-kun and the Seven Witches OVA, Yamada-kun and the 7 Witches OVAたまこまーけっとTaiho Shichauzo The Movie蒼穹のファフナー Dead Aggressor THE BEYONDスケッチブック ～full color\\'s～Guardian Character!Yuki Yuna is a Hero: The Great Full Blossom ChapterMonster List Season 2Xing Chen Bian, Legend of ImmortalsWWW.WORKING!!Those Obnoxious Aliens,The Return of Lum, Lum, the Invader Girlトワノクオン 第３章 夢幻の連座Gunbuster vs. Diebuster, Top wo Nerae! Gekijouban, Diebuster Movie (2006), DieBuster Movie, Gunbuster Movie, Top wo Nerae!, Gunbuster 2 Movie, Top wo Nerae! 2 MovieTonikaku Kawaii: Flashbacks, Tonikaku Kawaii Episode 12.5, Tonikaku Kawaii RecapTenchi Muyo Movie 1: Tenchi in Love, Tenchi Muyo! in Love田中くんはいつもけだるげ特典Tamayura: Hitotose OVA, Tamayura (TV) OVA, Tamayura (TV) Episode 5.5Tales of Symphonia The Animation: United World EpisodeSuki-tte Ii na yo., SukinayoThe Invader Comes From the Bottom of the Sea!Shinreigari: Ghost HoundSenyu. 2Sayonara Zetsubou Sensei - Preface -Zetsubou Girls Collection-ローゼンメイデンYuki Hodokishi FutaaiPokémon: Liko to Roy no Tabidachi, Pocket Monsters: Liko to Roy no Tabidachi, Pokémon: Terapagos no Kagayaki, Pocket Monsters: Terapagos no Kagayaki, Pokemon Horizons: Liko and Roy\\'s Departure, Pokemon Horizons: Terapagos\\' Gleam新劇場版 頭文字[イニシャル]D BATTLE DIGESTNew Game! OVA: My First Time on a Company Vacation..., New Game Episode 13Sekai Meisaku Gekijou, Tico and Nanami三ツ星カラーズDetective Conan Movie 13 Side-Story OVAMy PrincessMahou Shoujo Lyrical Nanohaラブライブ! School idol projectレベルECiel in Wonderland, Welcome to the Phantomhive FamilyKoiseka傷物語 -こよみヴァンプ-Muscleman, MusculmanTo the Only Me Who Loved YouJashin-chan Dropkick 3rd Season, Dropkick On My Devil!! 3rd SeasonNaughty Kiss, Teasing Kiss, Mischievous Kiss, Itazurana Kiss, It Started With A KissAZAjinYowamushi Pedal 5th Season, Yowapeda 5th SeasonSong of Lu who Informs the DawnYama no Susume OVAXian Wang de Richang Shenghuo Er, 仙王的日常生活 贰X the TV Series, X/1999, Ekksu, X (2001)ホイッスル！Albator 84, Arcadia of My Youth: Infinite Course SSX, Harlock 84, My Youth in Arcadia: Endless Road SSXヴァンドレッド the second stage劇場版ツルネ －はじまりの一射－Tonari no Seki-kun OAD天才王子の赤字国家再生術Taiho Shichauzo: Second Season, Taiho Shichau zo 2nd Season, You\\'re Under Arrest: Second Season超GALS! 寿蘭Shark\\'dPocket Monsters, Indigo League, Adventures on the Orange Islands, The Johto Journeys, Johto League Champions, Master QuestOsomatsu-san Episode 3.5, Mr. Osomatsu Specialみなみけ おまたせCase Closed: The Scarlet AlibiMedaka Box 2マルドゥック・スクランブル 第3部 排気魔法科高校の劣等生LUPIN ZEROKINGSGLAIVE FINAL FANTASY XV金の国水の国Chou Gekijouban Keroro Gunso 3: Keroro Tai Keroro - Tenkuu Daikessen de Arimasu!, Keroro Gunso the Super Movie 3: Keroro vs. Keroro Great Sky Duel de arimasu!Sayonara Zetsubo Sensei Jo: Zoku Zetsubo Shojo Senshu, Zoku Sayonara Zetsubou Sensei - Preface -Zetsubou Girls Collection-Psycho-Pass Second Season, Psychopath 2nd SeasonPocket Monsters XY, Pokémon XYJumaruワンパンマン SEASON 2 OVA 2ナースエンジェルりりかＳＯＳNichijou Episode 0, Nichijou OVA, EverydayMirai Nikki, Mirai Nikki (2011)見える子ちゃん名探偵コナン ～ロンドンからの㊙指令 (ロンドンからのマル秘指令)Magister Negi Magi: Ala Alba, Magical Teacher Negima! ~The White Wing~Majimoji Rurumo OVA, Majimoji Rurumo OAD, Magimoji Rurumo OVA, Magimoji Rurumo OADKyou Kara Maou! OVA, Kyou Kara Maoh! R, Maruma OVA異世界食堂Initial D: Extra Stage 2: Tabidachi no GreenHorimiya汉化日记 第三季Hakuoki OVA, Hakuouki Shinsengumi Kitan OVAGantz Movieアルプスの少女ハイジSousou no Frieren: Marumaru no MahouFafner in the Azure: Dead Aggressor - ExodusSlayers 5th Season, Slayers fifth SeriesHurricane! Iron LeaguerShingeki no Kyojin Episode 13.5Gundam Wing: Odd & Even Numbers, Gundam Wing: Operation Meteor, New Mobile Report Gundam Wing: Operation Meteor, Shin Kidou Senki Gundam Wing: Operation MeteorShin Getter Robo (2004)Haiki OujoサクラクエストセイバーマリオネットJラーゼフォンMr. Osomatsu 3Noblesse Episode 0Knight Lamune & 40, NG Kishi Ramune & 40Mob Psycho 100: Reigen - The Miracle Psychic that Nobody Knowsミラクル☆ガールズFamous Detective Holmesロード・エルメロイⅡ世の事件簿 -魔眼蒐集列車 Grace note-Monster Incidentsじょしらく異世界かるてっとGekijouban Inazuma Eleven: Saikyou Gundan Ogre Shuurai, Inazuma Eleven the MovieHonoo no Toukyuuji Dojji Danpei, Fighting Dodgeball Boy Dodge DanpeiShin Kyuuseishu Densetsu Hokuto no Ken Toki-den銀河鉄道の夜ふたつのスピカFull Metal Panic! The Second Raid Pre-festival: Night of the Light NovelドッとKONIちゃん映画 ドラえもん 新・のび太の日本誕生Doraemon (1973)Eiga Crayon Shin-chan: Ankoku Tamatama Daitsuiseki, Crayon Shin-chan: Pursuit of the Balls of DarknessCity Hunter: A Magnum of Love\\'s Destination, City Hunter: Magnum of Love and Destiny, City Hunter: Magnum of Love and Fateキャプテン翼シーズン2 ジュニアユース編Bishoujo Senshi Sailor Moon Super S SpecialLotte x Bump of Chicken, ShinsekaiAyakashi - Samurai Horror TalesAmagami SS Dai Ni Ki, Amagami SS Second Season, Amagami SS 2nd SeasonHan Hua Ri Ji 2nd SeasonHaruHakkenden: Touhou Hakken IbunGunslinger GirlsGekijouban Fate/Stay Night: Unlimited Blade Works, Fate/stay night Movie, Fate/stay night UBWクロスアンジュ 天使と竜の輪舞〈ロンド〉サイダーのように言葉が湧き上がるGekijouban Naruto (2015)美少女戦士セーラームーン メモリアルAoki Hagane no Arpeggio: Ars Nova DC, Arpeggio of Blue Steel: Ars Nova Movie 1, Gekijouban Aoki Hagane no ArpeggioSuite Pretty Cure♪Fafner in the Azure: Dead Aggressor - Right of LeftSenryuu GirlSaiyuki Reload Gunlock, SRGSaiyuki Reloaded, Saiyuki 2, Saiyuki RSaenai Heroine no Sodatekata ♭ Special, Flat Episode 0Ebichu Minds the House, Anime Ai no Awa Awa Hour, Anime Lovers\\' Awa Awa Hour, Anime Lovers\\' Bubble Bubble Hour, Modern Love\\'s SillinessUseless Witchgirl DoremiOda Nobuna no Yabouみなみけ 夏やすみ未確認で進行形Witchy PreCure!Incantevole Creamy, Creamy Mami, the Magic AngelKore wa Zombie desu ka? Episode 13, Koreha Zombie desuka? OVA, Kore ha Zombie desu ka? OVA, Kore wa Zombie Desu ka? of the Dead Episode 0, Ee, Kore ga Saishuukai sesuka?, Hai, Encore Arigatou GozaimasuキズナイーバーKiratto Pri☆chan 3rd Seasonきまぐれオレンジ☆ロードGSD: Episode 51, Gundam SEED Destiny 2Kekkai Sensen OVACrow, Raven, Karas: The Prophecy, Karas: The RevelationKami-chu!: Kami-sama wa Chuugakusei, The Goddess is a Middle School StudentYouko x Boku SSFox Spirit Matchmaker 5th Season, Little Foxspirit Matchmaker Season 5, Enmusubi no Youko-chanGekijouban Hiyoko no Basket: Last Game 0401, Kuroko\\'s Basketball April Fools\\' DayCells at Work!!博多豚骨ラーメンズガンスミス キャッツGamba\\'s Adventure, Ganba no Bouken, The Adventures of GanbaShinseki-GPX Cyber Formula SagaShinseiki-GPX Cyber Formula 11, Shinseiki GPX Cyber Formula Double OneFREEDOMSekai Meisaku Gekijou, A Dog of FlandersA Record of a Mortal\\'s Journey to Immortality Remastered Edition, Fanren Xiu Xian Chuan: Fanren Feng Qi Tian Nan Chongzhi BanGekijouban Fairy Tail: Houou no Miko, Priestess of the Phoenix, Fairy Tail: The Phoenix PriestessDoraemon: Nobita\\'s Wannyan Space-Time LegendDakaretai Otoko Ichii ni Odosarete Imasu., Dakaretai Otoko No.1 ni Odosareteimasu.こみっくがーるず小さなペンギンロロの冒険My Hero Academia 5Zoids Classic, Zoids: Chaotic Century, Zoids: Guardian ForcesTouhou Unofficial Doujin Anime: A Summer Day\\'s DreamSunabozuFafner in the Azure: Dead Aggressor - Heaven and EarthWhite Saint and Black PastorYuki Yuna wa Yusha de Aru, Yuuki Yuuna is a Hero, YuYuYu夜桜四重奏 ～ホシノウミ～Hitori no Shita: The Outcast 2nd Season, hitorinoshita - The OutcastMartial Master, Wu Shen Zhu ZaiUniversal Love Grocery, Wan Neng Lian Ai Za Huo Dian小鳥遊六花・改 ～劇場版 中二病でも恋がしたい！～Brand New AnimalGekijouban Trinity Seven 2, Trinity Seven Movie 2: Tenkuu Toshokan to Shinku no MaouLibrary War, Toshokan Sensou: Situation Love Handicap, Library Revolution SpecialTiger Mask IIタイガーマスクTetsujin 28-go (2004)Strike Witches 3Slayers Special OVASekai Meisaku Gekijou, Little Prince CedieYuyu-shikiAoki Hagane no Arpeggio: Ars NovaBlue Exorcist: Kyoto Impure King Arc劇場版 暗殺教室 365日の時間AKB0048: First Stage異世界かるてっと2ハイスクールD×D BorN  石踏一榮完全監修！妄想爆揺解除オリジナルビデオ映画ヒーリングっど♥プリキュア\\u3000ゆめのまちでキュン！っとGoGo！大変身！！Cells at Work! 2nd Season, Hataraku Saibou 2nd SeasonYowamushi Pedal OVAYao Shen ji 5th Season, Tales of Demons and Gods 5th SeasonI\\'m in Love with the Villainess, WataOshiUta no Prince-sama Movie Maji Love Kingdom, UtaPri MovieToaru Majutsu no Kinsho MokurokuThe Idolmaster Cinderella Girls Second SeasonTengen Toppa Gurren Lagann Episode 6, Tengen Toppa Gurren Lagann Special, TTGL SpecialSuisei no Gargantia OVA, Gargantia on the Verdurous Planet OVA, Suisei no Galgantia OVAselector spread WIXOSSThe world\\'s best assassin, To reincarnate in a different world aristocrat, Ansatsu KizokuRikeKoiHamatora The Animation 2nd Season, Reply HamatoraRanma 1/2: Movie 3, Ranma 1/2: Decisive Batte! Team Ranma vs. The Legendary Phoenix, Ranma ½: One Flew Over the Kuno\\'s NestQuanzhi Fashi 3rd Season, Quan Zhi Fa Shi 3, Full-Time Magister 3Oushitsu Kyoushi Haine MovieおねがいマイメロディNodame and Chiaki Summer Tales, Nodame Cantabile SpecialNisekoi 2nd SeasonNami yo Kiite KureMinidoraDetective Conan Magic File 6: Fantasista FlowerWitch and the BeastG-DoanThe Beast ClawKaichou wa Maid-sama LaLa Special, Kaicho wa Maidsama LaLa Special, Kaichou wa Meido Sama LaLa Special, Class President is a Maid! LaLa SpecialかぎなどアイドルタイムプリパラHyouka Episode 11.5, Hyouka OVA, Hyou-ka OVA, Hyouka: You can\\'t escape OVA, Hyou-ka: You can\\'t escape OVA, Hyoka OVAFox Spirit Matchmaker: Southern Kingdom, Little Foxspirit Matchmaker Season 6, Enmusubi no Youko-chanHikaru no Go Special, Match of Justice! The Ancient Flower Blooms!!, Jump Festa 2002Modern Dog Tales Bow Wowはんだくんはだしのゲン\\u3000２Glass MaskGaro ProjectドラゴンボールZ 龍拳爆発!!悟空がやらねば誰がやるDoraemon: Nobita and the Strange Wind Rider, Doraemon and the Wind People, Doraemon: Nobita and the Wind Wizard, Doraemon Movie 2003Doraemon: Nobita and the Legend of the Sun KingFlash KickerAll Might: Rising - The Animation, Boku no Hero Academia Picture Drama, My Hero Academia: All Might RisingHakuoki,Hakuouki: Shinsengumi KitanGosenzosama Banbanzai!Danganronpa 3: The End of Hope\\'s Peak Academy - Despair VolumeデカダンスCity Hunter - Live on Stage, City Hunter: Death of the Vicious Criminal Saeba Ryo, City Hunter - Death of Evil Ryo SaebaAlfred Jodocus Kwak, Little Duck\\'s Big Love Story, The Adventures of Alfred J. Quack, Alfred J. Quack, Ahiru no Quack, Ahiru no KwakkuBokutachi wa Benkyou ga Dekinai! OVA, We Never Learn! OVAAtashinchiAmanchu! OVA, Amanchu Episode 13アフロサムライ弱虫ペダル Re:RIDEよみがえる空 -Rescue Wings-ワールドダイスターうる星やつらStellvia of the UniverseTiger and Bunny Movie 1, Taibani Movie 1Tennis no Ouji-sama, Prince of Tennis: Jump Festa 2002 - A Day of the Survival Mountainテイルズ オブ ゼスティリア ～導師の夜明け～Sora no Otoshimono OVA, Sora no Otoshimono Special, Lost Property of the Sky OVA, Misplaced by Heaven OVANew Kimagure Orange Road: And Then, The Beginning of That Summer, New Kimagure Orange Road: Summer\\'s BeginningCrazy for DeathSeto no Hanayome OVA OmakesScryed龍の歯医者リーマンズクラブPrison School OVA, Kangoku Gakuen OVAKawamo wo Suberu Kaze, A Wind Skimming the River\\'s Surface, Dokoka Dewanai Koko, Yuuge, Jinsei Best 10Nisekoi OVANARUTO×UT名探偵コナン 消えたダイヤを追え! コナン・平次vsキッド!The Misfit of Demon King Academy: History\\'s Strongest Demon King Reincarnates and Goes to School with His DescendantsMajocco Shimai no Yoyo to NeneMagical Angel Sweet Mint罗小黑战记Love Stage!! OVAIn/Spectre 2nd Season, Kyokou Suiri 2nd SeasonAfter War Gundam X, Mobile New Century Gundam XMobile Suit Gundam Mini SEED, Gundam SEED Character TheaterNingyou Zoushi Ayatsuri Sakon, Puppet Master Sakon, Tales of Puppetmaster SakonGekijouban Shakugan no Shana仙王的日常生活 第三季Martial Universe, Martial Movement Upheaval, Earth-Shattering Martial ArtsNambaka, Numbaka, The NumbersHalf a Hero, Miracle Giants Dome-kunMinamike: OkawariMeng Qi Shi Shen 2nd Season, Adorable Food Goddess, Cinderella ChefMagic King, Madouou Grandzort, Mado Ou GranzortLeafie, A Hen into the WildRupan Sansei: Walusa P38 - In Gedenken an die Walther P38, Lupin III: In Memory of the Walther P38Lupin III: Part 6 Episode 0 - The TimesRupan Sansei, Lupin III: Die! NostradamusCrimsonMobile Suit Gundam Movie 2Kateikyoushi Hitman Reborn!: Mr. Rebokku no Ciao Ciao Interview, Home Tutor Hitman Reborn!神澜奇域无双珠生徒会の一存 Lv.2サクラダリセットSurvival Game Club!Recca no HonooThe Power of One, Gekijouban Pocket Monsters: Revelation Lugia, Pokémon Movie 2Pandora Hearts Specials, PandoraHearts SpecialsOwari no Seraph Omake, Owari no Seraph: Owaranai SeraphOtomege Sekai wa Mob ni Kibishii Sekai desu, Mobseka, MobusekaOofuri, Ookiku Furikabutte: Natsu no Taikai Hen OVA, Ookiku Furikabutte: Natsu no Taikai Hen Episode 12.5, Ookiku Furikabutte 2 Special, Big Windup! 2 Special, Swing Big! 2 SpecialNogizaka Haruka no Himitsu 3, Haruka Nogizaka\\'s Secret 3Net-juu no Susume Episode 11, Recommendation of Real Life, Moriko\\'s Log-in to Fruits de Mer, Riajuu no Susume, Moriko no Fruits de Mer ni Log-in ShimashitaNakinekoもののがたり 第二章萌妻食神之欢喜追婚マジンカイザーMai-Otome Zero, My-Otome ZeroRecord of Lodoss War OVAGhost in the Shell: Arise - Border:3 Ghost TearsKoreha Zombie Desuka?, Kore ha Zombie Desu ka?, Kore wa Zombie Desuka?Kaze no Shojo Emily, Emily of the New MoonMysterious Joker 4ジャーニー 太古アラビア半島での奇跡と戦いの物語Jibaku-kun: Twelve World Story, Bucky: Searching for world 0, Buckyへやキャン△Gatchaman Crowds Special, Gatchaman Crowds Episode 13, Gatchaman Crowds Episode 12 Director\\'s CutManabi Straight!Eiga Crayon Shin-chan: Arashi wo Yobu Jungle, Crayon Shin-chan: The Storm Called The Jungleコードギアス 亡国のアキト 第１章「翼竜は舞い降りた」シティーハンター ベイシティウォーズBokuBen, We Can\\'t Study, Bokutachi wa Benkyou ga Dekinai 2nd SeasonRomance of the Three Kingdomsアフロサムライ ResurrectionYao Shen Ji: Hei Yu Pian, Tales of Demons and Gods 4th SeasonTrinity Seven (2015)Harlock Space PirateYuyushiki Special苍兰诀 下部Bubblegum Crisis 2032, Bubblegum Crisis 2033The Day Naruto Became Hokageブラックキャット美少女戦士セーラームーンSuperS 外伝 亜美ちゃんの初恋Aria the Natural Special, That Miracle In Which We May Meet Again..., Aria the Natural Promo, Aria the Natural Episode 0Maidens of the Savage SeasonAh! My Goddess! (TV)Ikoku Meiro no Croisée The Animation Special, Ikoku Meiro no Croisee The Animation Special, Ikoku Meiro no Croisée Episode 4.5Highschool DxDヒーラー・ガールThe Concierge at Arctic Department StoreGenki Bakuhatsu Ganbarugar, Eldran series #2銀河機攻隊 マジェスティックプリンスフリー！Fairy Tail: Houou no Miko PrologueCarnival Phantasm (2013), Carnival Phantasm Special Seasonブラック･ジャック 劇場版Beelzebub: Hashire! Beel-bo Keiji!!, Beelzebub: Kaiketsu!! Beel-bo Meitantei Suiri, Beelzebub: Sakigake!! Beel to Shinsengumiバーテンダーアニマル横町Please Take My Brother Away 5, Kuai Ba Wo Ge Dai Zou 5,  快把我哥带走 5Alison and Lilia, Arison to Riria, Allison and LilliaAh! My Goddess (2011), Oh! My Goddess (2011), Aa! Megami-sama!: Itsumo Futari de, Aa! Megami-sama! OADBook Girl, Literature Girl연애하루전2YAT Anshin! Luxury Space Tours 2YAT Anshin! Luxury Space Tours, Yamamoto Anshin TravelLord Xue Ying 2nd Season, Snow Eagle Lord 2nd SeasonXian Wang de Ri Chang Sheng HuoUN-GO アン ゴTouhou Unofficial Doujin Anime: A Summer Day\\'s Dream Episode 2.5Prince of Tennis: The Two Samurai - The First Gameたまゆら～hitotose～映画 スマイルプリキュア! 絵本の中はみんなチグハグ!Shokugeki no Souma: Jump Festa 2015 Special, Food Wars! Shokugeki no Soma OVAShakugan no Shana OVA 2戦国BASARASaki Achiga-hen: Episode of Side-Aサカサマのパテマ Beginning of the Dayローゼンメイデン (2013)Pretty Cure All Stars New Stage Eien no Tomodachi, Eiga Precure All Stars New Stage 3: Eien no Tomodachi, Pretty Cure All Stars New Stage 3: Friends ForeverPop Team Epic (2019)Papakiki OVA, Listen to Me, Girls, I\\'m Your Father! OVA, Listen to Me, Girls. I Am Your Father! OVAOwari no Seraph Omake Anime, Owari no Seraph: Owaranai SeraphMy Little Sister Can\\'t Be This Cute Specialsおねがいマイメロディ くるくるシャッフル！One Piece Special: Romance Dawn StoryNaruto Shippuuden: Gekijouban Naruto Shippuuden: Hi no Ishi o Tsugu Mono, Naruto Shippuuden Movie 3, Naruto Movie 6, Naruto Shippuuden 3: Inheritors of Will of FireEiga Yes! Pretty Cure 5: Kagami no Kuni no Miracle Daibouken!, Yes! Pretty Cure 5 Movie: Great Miraculous Adventure of the Mirror Country!Milmo de Pon!, Mirmo!, Wagamama Fairy Milmo De Pon!, Selfish fairy: Mirumo de Pon!, Selfish Fairy Mirumo de Pon!, Wagamama Fairy Mirumo de Pon! Golden, Wagamama Fairy Mirumo de Pon! Wonderful, Wagamama Fairy Mirumo de Pon! CharmingKnights of Ramune & 40 Fire, \\tVS Knight Ramune & 40 FireMoon, Laika, and the Bloodsucking Princessトワノクオン 第２章 混沌の乱舞The Third: The Girl with the Blue Eye天地無用！魎皇鬼 SPECIAL お祭り前日の夜！ストライクウィッチーズ Operation Victory ArrowスチームボーイSlayers Movie 3Zoids New Century/Zero, Zoids: New Century ZeroZero no Tsukaima: Princess no Rondo, Rondo of the Princesses, Zero\\'s Familiar 3rd Series, Zero no Tsukaima S3Xiaolu He Xiaolan, Xiao Lv He Xiao Lan, Xiaolv He Xiaolan, Green and Blue, Lil\\' Green and Lil\\' BlueVivy: Fluorite Eye\\'s Song Recapウマ娘 プリティーダービーアイドルマスターシンデレラガールズ U149Slam Dunk Movie 1Shokugeki no Soma 5th SeasonShigofumi ~Stories of Last Letter~ Special, Shigofumi OVA, Shigofumi Episode 13Gekijouban Pocket Monsters Advanced Generation: Myuu to Hadou no Yuusha Lucario, Pokemon Movie 8Meddlesome Kitsune Senko-sanねこぢる草名探偵コナン 16人の容疑者!?名探偵コナン MAGIC FILE 2011 ～新潟～東京 おみやげ狂騒曲（カプリチオ）～Japan Animator Expo, The Dragon Dentist, Hill Climb Girl, Me!Me!Me!, Carnage, Nishi-Ogikubo, Until You Come to Me, Tomorrow From ThereGoddess Café Terraceマルドゥック・スクランブル 燃焼μ\\'s Final Love Live Special AnimeLittle Busters!: Sekai no Saitou ha Ore ga Mamoru!氷属性男子とクールな同僚女子Sekai Meisaku Gekijou, Robinson Family Lost at Sea: Flone of the Marvelous Island, Swiss Family Robinson (TV)Sensual PhraseLittle Foxspirit Matchmaker Season 7, Enmusubi no Youko-chanHimouto! Umaru-chan 2nd Season, My Two-Faced Little Sister RIt\\'s Time for \"Interrogation\", Princess!, Hime-sama \"Goumon\" no Jikan desuハナヤマタ風都探偵DRIFTERS OVAドラゴンボールZ 燃えつきろ!!熱戦・烈戦・超激戦Date A Live OVA, Date A Live Episode 13Gekijouban Date A LiveDalisi Rizhi 2, The Journal of Dali Temple 2D-Frag! OVA, D-Frag!: Water!!Eiga Crayon Shin-chan: Henderland no Daibouken, Crayon Shin-chan: Adventure in HenderlandCity Hunter: Hyakuman Doru no Inbou, City Hunter: $1,000,000 Conspiracy, City Hunter: Plot of $1,000,000シンデレラ物語Maruko-chanCardcaptor Sakura: Leave it to Kero-chan, Cardcaptor Sakura: Kero\\'s CornerほのぼのログMission of Yozakura familyわんだふるぷりきゅあ!映画 ギヴン 柊mixFushigi-boshi no Futago-hime Gyu!, Fushigi Boshi no Futago Hime Gyu!ドラえもん おばあちゃんの思い出鬼平Star of the GiantsKowarekake no Orgol, Half-Broken Music BoxGekijouban Kidou Senshi Gundam 00: A Wakening of the Trailblazer, Gundam Double O MovieK: Seven Stories - Side:Blue - Like SiriusGrimm Masterpiece Theater II, New Grimm Masterpiece Theatre, Grimm\\'s Fairy Tales IIロボティクス・ノーツリストランテパラディーゾScience Fell in Love, So I Tried to Prove It 2nd Season, Rikekoi, Rikei ga Koi ni Ochita no de Shoumei shitemita. r=1-sinθQuanzhi Fashi 4th Season, Quan Zhi Fa Shi 4, Full-Time Magister 4Pokétoon, Zuruggu to Mimikkyu - Chase the Beans, Hero ni Naritai Yanchamu, Yume no Tsubomi, Mattete ne! Koiking, Gengar ni Nacchatta!?, Pokapoka Magumaggu HousePiano Forest, The Perfect World of Kai俺を好きなのはお前だけかよOne Piece TV Special 3, One Piece Special: Protect! The Last Great Performance, Mamore! Saigo no Oobutai劇場版ワンピース エピソードオブアラバスタ 砂漠の王女と海賊たちTranZor Z, Mazinga ZRupan Sansei: Part III, Lupin Sansei: Part IIILove Live! Nijigasaki High School Idol Club: Next SkyRenai Labラブひなクリスマススペシャル ～サイレント・イヴ～Kimi ni Todoke 2nd Season: Minitodo Gekijou, Kimi ni Todoke: From Me to You 2nd Season Specials, Reaching You 2nd Season Specials頭文字〈イニシャル〉D EXTRA STAGEKenji\\'s Spring韋駄天翔(ジャンプ)銀盤カレイドスコープGensoumaden Saiyuki: Requiem - For the One Not Chosen, Gensoumaden Saiyuuki: RequiemGalaxy Angel AAFanren Xiu Xian Chuan Special, A Record of a Mortal\\'s Journey to Immortality Special映画ドラえもん のび太と空の理想郷映画 ドラえもん のび太の月面探査記Doraemon: Nobita in Dorabian NightsだれかのまなざしDanna ga Nani wo Itteiru ka Wakaranai Ken 2nd Season, I Can\\'t Understand What My Husband Is Saying Second SeasonCyborg 009 (TV 2)バキManual of Hundred Demons 2nd SeasonAppleseed 2, Appleseed 2007終末トレインどこへいく？Roleplay Densetsu HepoiKirakira☆Precure À La Modeホッタラケの島\\u3000～遥と魔法の鏡～Haifuriサイボーグ009 THE CYBORG SOLDIERChibikko Kaijuu Yadamon私に天使が舞い降りた！true tearsトワノクオン 第1章 泡沫の花弁Himitsu: Top Secret - The RevelationTARI TARI田中くんは今日もけだるげKoukou Hoshi Kageki 2nd Season, High School Star Musical 2nd Season, StarmuFafner in the Azure: Dead Aggressor - The BeyondAbsolutely Lovely Children, ZKCゼーガペインXie Wang Zhui Qi Zhi Yishi Qingcheng, Xie Wang Zhui Qi 2nd Season, The Demonic King Who Chases His Wife 2nd SeasonHora, Mimi ga Mieteru yo! 2, Look, I Can See Your Ears! 2Uchu Show e Youkosoトリニティ・ブラッドDeep Imagination, Dan Petory Kyoushu no Yuutsu, Professor Dan Petry\\'s Blues, End of the World, Kigeki, Comedy, Higan, Beyond, Garakuta no Machi, Junk Townストライクウィッチーズ 2SoltyRei师兄啊师兄 第二季Shen Diao Xia Lu寫眞館Seitokai no Ichizon Lv.2 OVAスクールランブル三学期Saezuru Tori wa Habatakanai OVA, Twittering Birds Never Fly OVAノワールNitaboh: Tsugaru Shamisen Shiso GaibunNekketsu Saikyou Gosaurer, Hot-Blooded Strongest Go-Saurer, Matchless Passion Gozaurer, Eldran series #3Naruto Shippuden Movie, Naruto Movie 4, Gekijouban Naruto Shippuudenムシブギョー 蟲奉行Mirai Nikki OVA,Mengqi Shishen, Adorable Food Goddess名探偵コナン 灰原哀物語～黒鉄（くろがね）のミステリートレイン～Mei to Konekobasu, Mei and the Kitten Busママレード・ボーイ (1995)MariMite, La Vierge Marie Vous Regarde, The Virgin Mary is Watching Youまほらば ~Heartful days~LUPIN THE IIIRD 峰不二子の嘘休日のわるものさんクラウ ファントムメモリーAlternate World PharmacyMy Very Own HeroHisone & Masotan, Hisone and Maso-tan, HisoMasoGood Job-buガイコツ書店員本田さんLast Order Final Fantasy VIIFate/Grand Order: Fujimaru Ritsuka Doesn\\'t Get Itドラゴンリーグデトロイト・メタル・シティ 魔王生誕盤BoRe, BuRe, Arms AlchemyBosco Daibouken美少女戦士セーラームーン セーラースターズ ヒーロークラブBeelzebub Jump Super Anime Tour Special, Beelzebub: Jump Festa 2010 SpecialBakemonogatari Episode 5.5, Bakemonogatari Special, Ghostory Recap, Ghostory SpecialAir in Summer Special, Air Summer SpecialAharen Is IndecipherableAh! My Goddess (OVA)秘封活動記録 The Sealed Esoteric Historyヘタリア The Beautiful World 僕がヒロインに囲まれ過ぎて世（ｒｙ平成狸合戦ぽんぽこHayate the Combat Butler!! Episode 0, Hayate no Gotoku!! OVAGirls und Panzer der Film: Arisu War!, Girls und Panzer: Fushou Akiyama Yukari no Sensha KouzaPretty Cure Splash StarFUSE: Memoirs of the Hunter GirlState Alchemists vs Seven Homunculi, Enkai-hen, Chibi Party, Kodomo-hen, Kids, FMA映画 ドラえもん のび太の宝島DOGS, Dogs: Bullets and Carnage, Dogs: Stray Dogs Howling in the DarkChi\\'s Sweet Home OVA, Chii\\'s Sweet Home, Chi\\'s Sweet Home: Chi to Kocchi, Deau.バンブーブレードAura: Maryuinkoga Saigo no Tatakai, Aura: Maryuin Kouga Saigo no TatakaiArtiswitch（アーティスウィッチ）雨を告げる漂流団地Touken Ranbu: Hanamaru Second SeasonWu Geng Ji 2nd Season, Wu Geng Ji: Tian Qi, Wu Geng Ji II, Feng Shen Ji, The Legend and the Hero, Chronicles of the God\\'s OrderTsubasa Chronicle the Movie: The Princess of the Country of Birdcages, Tsubasa Chronicle: Princess of the Country of the Birdcages東京喰種 トーキョーグール【JACK】Beyond, Detective Story, Matriculated, Program, The Second Renaissance, Final Flight of the Osiris, World Record, Kid\\'s StoryTales of Zestiria The X Second SeasonスピードグラファーSpace Pirate Captain Herlock: The Endless Odyssey双星の陰陽師Slayers Movie 2Slayers Movie 4Slayers Excellent OVAShinrei Tantei Yakumo神澜奇域无双珠 天魔篇Seitokai no Ichizon: Hekiyou Gakuen Seitokai Gijiroku, It\\'s Student Council\\'s JudgmentThe power of the saint is all around.Rurouni Kenshin Episode 95: End of Wanderings, Rurouni Kenshin: Meiji Kenkaku Romantan Special, Rurou no Saihate - Hi to Ruri no Kizuna wa Shiosai no Naka niRe:ZERO ~Starting Break Time From Zero~ 2nd Season, Re:Zero kara Hajimeru Kyuukei Jikan 2楽園追放 -Expelled from Paradise-Pretty Cure All Stars DX, Eiga Precure All Stars DX: Minna Tomodachi - Kiseki no Zenin Daishuugou!Gekijouban Pocket Monsters Diamond and Pearl: Dialga vs. Palkia vs. Darkrai, Pokemon Diamond & Pearl: Dialga vs. Palkia vs. DarkraiPeacemaker Kurogane, PMKRanking of Kings: Treasure Chest of CourageSenyu.Highschool DxD SpecialsHigh School DxD Episodes 13 and 14, Highschool DxD OVAHigh School DxD New OVA, High School DxD New Episode 13Han Hua Ri Ji, Man\\'s Diaryef - a tale of memories. ~Recollections~Doraemon: Nobita and the Miracle Island - Animal Adventureコードギアス 亡国のアキト 第３章「輝くもの天より堕つ」Bokutachi wa Benkyou ga Dekinai OVA, We Never Learn OVABokuBen, We Can\\'t StudyBoku no Hero Academia Recap, Boku no Hero Academia 13.5Baka to Test to Shoukanjuu: Private Footage (Produced by Muttsuri Company), Mikoukai Eizou (Seisaku: Muttsuri Shoukai), The Idiot, the Tests, and the Summoned Creatures Specialsあひるの空Act! Addict! Actors! Season Autumn & WinterYu Yu Hakusho: Eizou Hakusho II: Yuusuke, Kurama, Hiei, Kuwabara, Image Hakusho IIYes! プリキュア5 GoGo!Watatenスカイ・クロラThe iDOLM@STER Cinderella Girls Special, The iDOLM@STER Cinderella Girls Episode 26Tenchi Muyo! Ryo-Ohki 3rd Seasonテイルズ オブ ジ アビスストロベリー・パニックBoy MaidMini Ika Musume Bangaihen, The Invader Comes From the Bottom of the Sea!Sekirei 2Sei Juushi BismarkRokka no YushaRecぽてまよBoku Pataliro!, Boku, Patariro, I Pataliro!, PatarilloAoi TamagoOchamegami Monogatari: Korokoro Poron, Ochamegami Monogatari Kolokolo Polon, The Story of Little Goddess Roly-Poly Pollon, Little PollenNijiiro DaysNatsu no Arashi! 2, Natsu no Arashi! Akinai-chuuMotto To-Love-Ru, More Trouble, More ToLoveRuムーンライトマイル 2ndシーズン -Touch down-Moeru! Onii-sanLEGEND OF BASARAキョロちゃんKuroko no Basket Special, Kuroko\\'s Basketball: Let\\'s Chat OVA甲鉄城のカバネリKokaku no RegiosKimi-kiss pure rougeKidou Senshi Gundam SEED Special Edition, Mobile Suit Gundam SEED: Movie, Kokuu no Senjou, The Empty Battlefield, Harukanaru Akatsuki, The Far-Away Dawn, Meidou no Sora, The Rumbling UniversePatlabor The Mobile Police: The Original Series, Kido Keisatsu Patlabor: Early Days, Mobile Police PatlaborChou Gekijouban Keroro Gunso 4, Chou Gekijouban Keroro Gunso: Gekishin Dragon Warriors de Arimasu!Wind-borne Moon-lit Ran, The Samurai GirlKanojo to Kanojo no NekoかんなぎShin AtashinchiさんかれあセイバーマリオネットJ to XQuanzhi Fashi 5th Season, Full-Time Magister 5PPTP, Poptepipic劇場版ポケットモンスター ココPocket Monsters: Diamond & Pearl, Diamond and Pearl, DP: Battle Dimension, DP: Galactic Battles, DP: Sinnoh League VictorsOnegai Sensei OVA謎の彼女X 謎の夏祭りNaruto Movie 5, Naruto Shippuuden Movie 2, Naruto Shippuuden: Bonds六三四の剣Mirai of the FutureMai Oto-Hime, Mai-OtoHiME, Dancing MaidenMahouka Koukou no Rettousei 2nd Season, The Irregular at Magic High School Season 2マクロスΔ（デルタ）Lupin III: The Fuma Conspiracy, Rupan Sansei: Fuma Ichizoku no Imboo, Lupin III: The Plot of the Fuma ClanSpirit Cage: Incarnation 2nd Season, Ling Long: Incarnation 2nd Season炼气十万年Kuma Kuma Kuma Bear 2nd Season, The Bears Bear a Bare Kuma 2nd SeasonFangThe Sunday Without God, Kami-Nai, Kami-sama no Inai NichiyoubiKami nomi zo Shiru Sekai: Yonin to Idol, Kaminomi OVA, Kami Nomi zo Shiru Sekai OVA, The World God Only Knows: Four People and an IdolGekijouban Hunter x HunterGekijouban Hunter x Hunter: Hiiro no Genei, HxH Movieヒカルの碁 お正月スペシャルI Shaved. Then I Brought a High School Girl Home., HigehiroHetalia: The World Twinkle - Surprise Halloween!To Become a Real Heroine!ヘルクGS（ゴーストスイーパー）美神ガッチャマン クラウズFate - Stay NightA Sloven Elf Who Have Been from the Edo Period, Shut-In ElfEDENS ZERODoraemon: 2112 - The Birth of DoraemonDoraemon: The New Record of Nobita - Spaceblazer, Doraemon The Hero 2009Digimon tri. 4Denpa Onna to Seishun Otoko Episode 13, Electromagnetic Wave Woman and Adolescent Man SpecialDanna ga Nani wo Itteiru ka Wakaranai Kenキャプテン翼Ｊバディ・コンプレックス 完結編 ―あの空に還る未来で―BTOOOM!Boku wa Tomodachi ga Sukunai 2nd SeasonAoyama Goushou Tanpen-shuuAo no Exorcist Special, Ao no Futsumashi: Kuro no IedeアマガミSSAIRAggretsuko 4th SeasonDemon Gods, Tales of Demons and Godsライドバック名探偵コナン 阿笠からの挑戦状! 阿笠vsコナン&少年探偵団Marchen Awakens Romance, Märchen Awakens Romance, MAR-Heaven, MÄR Heaven魔探偵ロキ RAGNAROKStar Magician Magical Emi, Magic Star Magical EmiRupan Sansei, Lupin III: Memories of the Flame - Tokyo Crisisラブライブ！スクールアイドルフェスティバルALL STARSDragon Nest Movie 2: Throne of Elves機動戦士ガンダム サンダーボルト BANDIT FLOWER靠你啦！战神系统Kakumeiki Valvrave Second Season, Valvrave the Liberator Second Season邪神ちゃんドロップキック’千歳編IGPX -Immortal Grand Prix-ヘヴィーオブジェクトHana & Alice: The Murder Caseハマトラ THE ANIMATIONKyoshin Gorg, Kyojin GorgRe:Construction the Elfrieden Kingdom Tales of Realistic Brave, A Realist Hero\\'s Kingdom Restoration Chronicle, GenkokuWinter Ballad, Winter Love StoryBeng Huai: Xing Qiong Tiedao - Fei Guang, Honkai: Star Rail - A FlashBokuraga Ita, We were thereブラッドラッドあしたのジョー２Appare Ranman!亜人 第3部「衝戟」Aikatsu! Aiming for the Magical Aikatsu Cardアイカツフレンズ！Book Girl: Memoire, Literature Girl: MemoireDemon Gods 2nd Season, Tales of Demons and Gods 2nd SeasonXing Chen Bian 3rd Season, Xingchen Bian 3rd Season, Legend of Immortals 3rd Season, Stellar Transformation 3rd SeasonWake Up, Girls! Zoku Movie, Wake Up, Girls! 2, WUG! Zoku-hen, WUG! 2Uzaki-chan wa Asobitai! 2nd Season, Uzaki-chan wa Asobitai! ω, Uzaki-chan Wants to Hang Out! 2nd Season, Uzaki-chan Wants to Hang Out! ωTsurune: Kazemai Koukou Kyuudou-bu Special, Tsurune: Kazemai Koukou Kyuudou-bu Episode 14To-LOVE-Ru OVA, Trouble OVA, To Love You OVATetsuwan Birdy Decode OVA, Birdy the Mighty Decode OVASUPER LOVERS（スーパーラヴァーズ）スローループSlayers 4th Season, Slayers 4th Series, Slayers (TV 2008)First DragonYes! プリキュア5New Seal God: Nezha Reborn, New Seal God: Rebirth of NezhaUtawarerumono: The False MaskTsukigakirei Special, The Moon is Beautiful Special, As the Moon, So Beautiful SpecialMashumaro Taimusu, The Raspberry TimesFafner in the Azure: Dead AggressorSlayers Perfect, Gekijouban Slayers, Slayers Movie 1Shinpi no Sekai Eru Hazaado,Shikabane Hime Second SeasonValkyria Chronicles: Unrecorded Chronicles OVASeleproSabagebu: Soshite Dareka Inakunatta, Sabagebu! OVA Special MissionPhi Brain: Kami no Puzzle Dai 2 Series, Phi Φ Brain: Kami no Puzzle Second Season, Phi Brain: Kami no Puzzle 2nd SeasonP4A: The Factor of HopeHamefura X, I Reincarnated into an Otome Game as a Villainess With Only Destruction Flags…, Destruction Flag OtomeLove, Be Loved, Leave, Be Left, FurifuraHello Spank!, Ohayo! SpankOroshitate Musical Nerima Daikon Brothers, Dress-up Musical Nerima Daikon BrothersA Summer Snow Rendezvous七つの大罪  黙示録の四騎士More! Useless Witch Doremi - Secret of the Frog Stone, Mo~tto! Ojamajo Doremi Kaeru Seki no Himitsu, Mo~tto! Ojamajo Doremi movieAqua Age, Blue Green Yearsメアリと魔女の花The Virgin Mary is Watching You: Spring, MariMite: Haru, La Vierge Marie Vous Regarde, Maria-sama ni wa Naisho, Don\\'t tell the Virgin MaryMaria-sama ni wa Naisho, Don\\'t tell the Virgin MaryMahoutsukai no Yome Special Digest, The Magician\\'s Bride Episode 12.5, Mahoutsukai no Yome Episode 12.5Magical Princess Princess Minky Momo, Fairy Princess Momo, Magical Princess Gigi, Gigi and the Fountain of YouthDino Adventure Jurassic Tripper, Kyoryu Bokenki Jura TripperThe Diary of a Crazed FamilyKowarekake no Orgol (Movie), Half-Broken Music Box (Movie)This Boy Picked Up A MermanGash Bell Movie 1, Zatch Bell Movie 1機動天使エンジェリックレイヤーChou Gekijouban Keroro Gunso 2: Shinkai no Princess de Arimasu!, Sergeant Keroro Movie 2: The Deep Sea Princess Let it be so!Mysterious Joker Second SeasonイナズマイレブンGO クロノ・ストーンIt\\'d be Good if Only Little Sister Was HerePlease don\\'t bully me, Nagatoroヘタリア Axis PowersHatsukoi Gentei.はなまる幼稚園Here Comes Ms. Modern, Mademoiselle Anne, Haikara-san Passes, Comes Miss High-Collar, Haikara-san ga ToruGun vs Swordゴブリンスレイヤー -GOBLIN\\'S CROWN-GEAR Senshi Dendoh, Guard Earth and Advanced Reconnaissance Fighter Dendo, GEAR Senshi DendouFullmetal Alchemist: Milos no Seinaru Hoshi, Fullmetal Alchemist Movie 2, Hagane no Renkinjutsushi Movie 2, FMA Movie 2Dororo and HyakkimaruDoraemon: Nobita\\'s South Sea AdventureDoraemon: Nobita to Ginga Choutokkyuu, Doraemon: Nobita\\'s Galactic ExpressDigimon Adventure 02: Return of Diablomon, Digimon Adventure 02: Diablomon Strikes BackRegardless of My Adolescent Delusions of Grandeur, I Want a Date! Lite, Chu-2 Byo demo Koi ga Shitai! Lite, Love, Chunibyo & Other Delusions LiteBrigadoon Marin and Melan, MariMeraBoku dake ga Inai Machi Episode 6.5, Boku dake ga Inai Machi Episode 11.5ブレンド・SAnother 00, Another: The Other -Inga-, Another OAD, Another OVAエンジェル・ハートAir Gear Episode 21.5Legend of Deification今際の国のアリスひよ恋ブレイク ブレイドOokiku Furikabutte - The Basics of Basics, Oofuri, Ohkiku Furikabutte, Swing Big!MGXNanatsu no Taizai: Imashime no Fukkatsu 00未来警察ウラシマンScarlet Road, White Road, Indigo Road, Lemon Road, Ore no Michi名探偵コナン 標的は小五郎!!少年探偵団マル秘調査名探偵コナン: コナンvsキッドvsヤイバ 宝刀争奪大決戦!!Maoyu Maou YushaThe Bears Bear a Bare KumaKoukaku Kidoutai: Arise (TV)Gundam 0083Just Because!JoJo no Kimyou na Bouken: Ougon no Kaze - Inizio del vento aureo, JoJo\\'s Bizarre Adventure: Golden Wind - Determinazione, JoJo no Kimyou na Bouken Episode 13.5, JoJo no Kimyou na Bouken Episode 21.5, JoJo no Kimyou na Bouken Episode 28.5Dog Gods!犬と猫どっちも飼ってると毎日たのしいヒャッコ干物妹！うまるちゃん OVAＨ２[エイチ・ツー]GJ-bu Guruguru, GJ-bu Special, GJ Club Special, Good Job-bu Special, GJ-bu 2, GJ-bu OVAGalaxy Angel 4th, Galaxy Angel XFigure 17 - Tsubasa and HikaruEl Cazador, The Witch HunterDoraemon: Nobita\\'s Winged HeroesDigimon Adventure Zero Two, Digimon: Digital Monsters 02Damekko Dobutsu, Useless AnimalsThe Grand Lord, Da Zhuzai, Grand Master 3D, The Great Ruler3DEiga Crayon Shin-chan: Arashi wo Yobu Eikou no Yakiniku Road, Crayon Shin-chan: The Storm Called: Yakiniku Road of HonorGekijouban ClannadBoku no Hero Academia Jump Festa 2016 Specialベルゼブブ嬢のお気に召すまま。Ace wo Nerae! OVA 1, Aim for the Ace! 2Abenobashi Magic Shopping District, Abenobashi Mahoh Shotengai, Magical Shopping Street Abenobashi, Magical Shopping Arcade AbenobashiHaifuri OVAHigh School DxD Season 4I\\'m Addicted to You.漁港の肉子ちゃんGolden Kamuy OAD: Showdown in Barato, Golden Kamuy OVA: Barato no Youjinbou, 茨戸の用心棒The Way of the House Husband, Yakuza goes HousemanGirls und Panzer das Finale OVA, Girls & Panzer: Taiyaki War!, Girls & Panzer: 1-pun Chotto de Wakaru!!, Fushou Akiyama Yukari no Sensha Kouza: Eikou no France Sensha-hen, The Humble Akiyama Yukari\\'s Tank Course: Glorious French Tanks ChapterSpooky KitaroGatchaman Crowds 2nd Season, Gatchaman Crowds Second SeasonGanba Fly High, Persistor! Shun, Fly High, Shun the Gymnast, Gambalist! Shun風人物語Fushigi Yugi OVA 2, Fushigi Yuugi OVA 2Hagane no Renkinjutsushi: Tabi no Hajimari, FMA: ReflectionsErementar GeradeDanMachi 2nd Season, Is It Wrong That I Want to Meet You in a Dungeon 2nd SeasonHow Many Kilograms are the Dumbbells You Lift?キューティクル探偵因幡バブルアスラクライン 2あまんちゅ！Alice and Therese\\'s Illusion Factory, The Illusion Factory of Alice and ThereseAggretsuko: We Wish You a Metal ChristmasZero no Tsukaima: Princess no Rondo OVA, Zero no Tsukaima: Princesses no Rondo Special,Zero no Tsukaima: Seductive Beach,Zero no Tsukaima: Episode 6.5WHRGekijouban Trinity Seven, Trinity Seven Movie: Yuukyuu Toshokan to Rekinjutsu ShoujoGenerał Daimos, Fighting General Daimos, Fighting King Daimos, Daimos, Starbirds, Battle Commander DaimosTearmoon Empire StoryTaiso SamuraiEverything Becomes F: The Perfect InsiderSteins,Gate Zero, Steins,Gate 0 SpecialLost Property of the Sky, Misplaced by Heaven劇場版「シドニアの騎士」Ranma 1/2 Movie 1POPEE the ぱフォーマーplanetarian ~雪圏球[スノーグローブ]~Phi Brain: Kami no Puzzle Dai 3, Phi Brain: Kami no Puzzle Third Season, Phi Brain: Kami no Puzzle 3rd Season, Phi Brain: Puzzle of God - Nemesis! Raetsel-henPet Shop of Horrors (ペットショップ・オブ・ホラーズ)Noblesse: The Beginning of Destruction夏のあらし！Muteki Choujin Zambot 3, Zambot 3, Zanbot 3, Invincible Superman Zambot 3Born to CookMi Yu Xing Zhe迷宮ブラックカンパニー政宗くんのリベンジRMy Otome ZweiSomeday\\'s Dreamers: Summer Skies魔法のステージ・ファンシーララDai Pinch! Sei Freya-go Special JikenRupan Sansei, Lupin III: Blood Seal - Eternal MermaidLMDA, Layton Mystery Detective Agency: Kat\\'s Mystery-Solving FilesThe Maid Dragon of Kobayashi-san Specials, Kobayashi-san Chi no Maid Dragon SpecialsKidou Senshi Gundam I Gekijouban, Mobile Suit Gundam Movie 1Kakegurui: Compulsive Gambler, Gambling SchoolThe Legend of Zorro, The Amazing ZorroThriller RestaurantHistory\\'s Strongest Disciple Kenichi SpecialsGekijouban Servamp: Alice in the GardenSayonara Ginga Tetsudo 999: Andromeda ShuuchakuekiPocket Monsters: Harukanaru Aoi SoraPapakiki, Listen to Me, Girls, I\\'m Your Father!Owari no Seraph 12.5, Owari no Seraph: Nagoya Kessen-hen 00王ドロボウ JING in Seventh HeavenOjamajo Doremi # Movie, Useless Witch Doremi Sharp, Bothersome Witch Doremi Sharp, Ojamjo Doremi #: Pop and the Queen\\'s Cursed RoseNabari no Oh, King of NabariもののがたりMnemosyne: Daughters of MnemosyneG-Reco Movie 4, Gekijouban Gundam G no Reconguista 4Shi Yi Chang An: Ming Yue Ji Shi You 2nd Season, Shi Yi Chang An: Mingyue Jishi You 2nd Seasonselector infected WIXOSSSaiunkoku Monogatari Soushuuhen, Saiunkoku Picture Scroll, Saiunkoku Emaki聖闘士星矢 天界編 序奏 ~overture~聖闘士星矢 真紅の少年伝説Mata Mata Saber Marionette JOi! Ryoma, Oi, Ryuoma, Oi, Ryoma, Hey! Ryoma, O~i! Ryouma, O~i! RyomaMoyashimon Returns: Tales of Agriculture, Moyasimon ReturnsMojackoMai Mai Shinko and the Millennium-Old MagicM7ラブ ひな AgainKiratto Pri-chanKara no Kyoukai: Epilogue, The Garden of Sinners Epilogue, The Garden of Sinners: the Garden of SinnersShimoseka最遊記RELOAD BLASTPygmalion, PigumarioPriPara Movie: Minna no Akogare♪ Let\\'s Go☆Prix Paris, Puri Para, Pri Para, PuriPara, Prism Paradiseプリンセスナイン 如月女子高野球部おそ松さん おうまでこばなしOokami Shoujo to Kuro Ouji OVA, Ookami Shoujo to Kuroouji OVA, Wolf Girl and Black Prince OVAValkyrie no Shokutaku II, 戦乙女の食卓IIニードレスDrift off to Blue Orchid Island, Casted Away - Airan IslandMIX MEISEI STORYMy Days With Midoriマーメイドメロディーぴちぴちピッチピュア名探偵コナン コナンvsキッド 漆黒の狙撃者(スナイパー)まよチキ!Sasuke TVManga MitokomonMainichi Kaa-san, Every Day MomLupin III: Part IV - Specials, Lupin Sansei (2015) Specials, Venice of the Dead, Nonstop Rendezvous罗小黑战记 众生之门Mokoto no Sentaku Koikaken, Love Hina: Motoko\\'s Choice, Love or the Sword - Don\\'t CrySpirit Cage: IncarnationGuyver: The Bio-boosted ArmorKuroko\\'s Basketball: Would You Like To Chat OVAKinmosa, Golden Mosaic, Kin-iro MosaicKidou Senshi Gundam Thunderbolt 2nd SeasonKudakareta Sekai, The Broken World, Sorezore no Ken, Respective Swords, Sadame no Goka, The Hell Fire of Destiny, Jiyuu no Daishou, The Cost of FreedomChou Gekijouban Keroro Gunsou, Keroro Gunsou the MovieJuushin Riger, Jushin Lyger, Beast God LigerJoJo\\'s Bizarre Adventure (2000)インフェルノコップHokuto no Ken (1986)Hitsugi Hime no ChaikaHengentaimayakou Karuramau! Sendaikokeshienka, Karura MauHataraku Saibou Special, Hataraku Saibou: Cold SyndromeWakate Animator Ikusei Project, 2014 Young Animator Training Project, Anime Mirai 2014繰繰れ！コックリさんGrisaia no Meikyuu Tokuten Eizou, Grisaia no Meikyuu Specialグランクレスト戦記Goblin Slayer 2nd SeasonGirls und PanzerGinga Legend WeedFairies\\' Penalty Game, Natsu vs. Mavis, Fairies\\' ChristmasEf: A Fairy Tale of the Twoドラゴンボール 超 スーパー ブロリー 超天空塔Dr. Slump & Arale-chan, Dr. Slump 1Battle Through the HeavensDoraemon: Nobita & Robot Kingdom, Doraemon: Nobita\\'s Robot KingdomダーウィンズゲームBibliotheca Mystica de Dantalian, Dantalian\\'s BookshelfDanganronpa 3: The End of Hope\\'s Peak Academy - Future VolumeThe Bush Baby僕のヒーローアカデミア トレーニング・オブ・ザ・デッドBlack Jack Special: The 4 Miracles of Life, Black Jack: The 4 Miracles of LifeSindbad the Sailor, The Arabian Nights: Adventures of SinbadAkulas亜人\\u3000第２部「衝突」Gekijouban AirZero\\'s Familiarヤング ブラック・ジャック永生Xing Chen Bian 2nd Season, Xingchen Bian Season 2nd Season, Legend of Immortals 2nd Season, Stellar Transformation 2nd SeasonThe Legend and the Hero, Feng Shen Ji, Chronicles of the God\\'s OrderTibetan Dog StoryReincarnated as an Aristocrat with an Appraisal SkillTenchi Souzou Design-bu Special, Tenchisozo Design Bu Special, [Ten-De-Bu] What a strange animal! Special, Tendebu SpecialSuzumiya Haruhi no Yuutsu (2009), Endless Eight, The Sigh of Haruhi Suzumiyaスパイラル -推理の絆-Game King, Yugioh, King of Games, Yu-Gi-Oh! First Series, Yu-Gi-Oh! Serie Zero, Yugi-Oh, Yuugiou, Yu-Gi-Oh Season 0Eiga Yes! Pretty Cure 5 GoGo!: Okashi no Kuni no Happy Birthday, Eiga Yes! Pretty Cure 5 GoGo!: Happy Birthday in the Sweets KingdomBeng Huai: Xing Qiong Tiedao - Xuanhuang, Honkai: Star Rail - Ichor of Two DragonsULTRAMAN FINALTsunliseAstro Boy, AstroboyTengen Toppa Gurren Lagann Gekijouban Zenyasai Special: Viral\\'s Sweet DreamIronfist ChinmiTales of Zestiria the X Episode 00Tales of Zestiria the XSuki-tte Ii na yo. OVA, Sukinayo OVAStrike the Blood OVAShen Diao Xia Lu II: Xiang Yang Feng YunThe Form that Love Takes, Ai no Katachi, The Form that Sadness Takes, Kanashimi no Katachi, The Form that Friendship Takes, Yujo no Katach, Documents of the Shaman Fightロボット・カーニバルJuuousei, Jyu Oh Sei천년여우 여우비Cencoroll 2Bento, Ben-TouアルテAmagami SS: Imouto, Amagami SS Special, Amagami SS Tachibana Miya Arc, Amagami SS Tachibana Miya Chapter, Amagami SS Episode 26Amagami SS Dai Ni Ki Specials, Amagami SS Second Season Specials, Amagami SS 2nd Season Specials07 Ghost, Seven Ghost, 7 Ghosts, The Seven GhostsXueying Lingzhu, Lord Xue Ying, Snow Eagle LordWagaya no OinarisamaDen\\'ei Shoujo Video Girl AITokyo Majin Gakuen Kenpucho: Tou Kenbu Hen, Tokyo Majin Gakuen Kenpucho: Tou 2nd ActThe Idolmaster Shiny FestaThe Cockpit: Kamikaze Stories, Seisouken Kiryuu, Slipstream, Onsoku Raigekitai, Sonic Boom Squadron, Tetsu no Ryuukihei, Knight of the Iron DragonPrince of Tennis: Peapuri, Prince of Tennis Picture Drama, Prince of Tennis: PairpuriTenchi Muyo! Ryo-Ohki 3rd Season Plus 1, Tenchi Muyo! Ryo Ohki: Final ConfrontationsTatakau Shisho, Tatakau Shisho to Koisuru Bakudan, Fighting Librarians映画中二病でも恋がしたい!LiteTaiho Shichauzo: Full Throttle, Taiho Shichau zo (2007)タクティクスSuisei no Gargantia Episode 14, Suisei no Gargantia Episode 15STAR DRIVER: Shining TakutoYu Yu Hakusho: Eizou Hakusho: Ankoku Bujutsukai no Shou - Joukan & Gekan, Yu Yu Hakusho: Image Hakusho: Dark Tournament Chapter - First & Second VolumesYu-Gi-Oh! GX, Yugioh GX, Yu-Gi-Oh! Genex, Yugioh Genex, Yu-Gi-Oh!: Duel Monsters GX, Yugioh: Duel Monsters GX, Yu-Gi-Oh!: Duel Monsters Genex, Yugioh: Duel Monsters Genex, Game King of Duel Monsters GXHora, Mimi ga Mieteru yo!, Hey, Your Ears Are Showing!Uraboku東京喰種 トーキョーグール【PINTO】Tenchi Muyo Movie 3: Tenchi Forever!, Tenchi Muyo in Love 2 - Distant MemoriesTantei Opera Milky Holmes 2スーパー・クルックスArmored Trooper Votoms: Red Shoulder Document - Yabo no Roots, Armored Trooper Votoms: The Red Shoulder Document - Roots of AmbitionAttack! Titan Junior HighBattle Fairy Yukikaze, Yukikaze Operation, Fairy Air Force劇場版 selector destructed WIXOSSSankarea Special, Sankarea Episode 13Sankarea Episodes 00 & 14Saiyuki Gaiden: Tokubetsu-hen - Kouga no Shou, Saiyuki Gaiden: Fragment ChapterレッドバロンMawaru Penguindrum MovieRE-MAIN（リメイン）ワンピース 大海原にひらけ! でっかいでっカイ父の夢!One Piece Film: Gold Episode 0Ohedo Rocket, Ooedo RocketNogizaka Haruka no HimitsuMondaiji-tachi ga Isekai kara Kuru Sou desu yo? OVAGhost in the Shell: Stand Alone Complex - Tachikoma na Hibi SpecialsKindaichi Shounen no Jikenbo: Kyuuketsuki Densetsu Satsujin Jiken, Kindaichi Case Files: The Case of the Vampire Legend Murder, Operaza Kan Saigo no Satsujin, The Third Opera House MurdersKami-chama Karin, Little Goddess KarinCompulsive Gambler TwinMysterious Joker Third SeasonThe Sea Monster\\'s Children宝石商リチャード氏の謎鑑定ひぐらしのなく頃に拡〜アウトブレイク〜When They Cry, Higurashi: When They Cry - New, Higurashi no Naku Koro ni (2020), When the Cicadas Cry, The Moment the Cicadas CryHetalia: The World Twinkle Extra Episodesヘタリア The World TwinkleHakushaku to Yosei, Count and FairyガンダムビルドファイターズトライGirls und Panzer das Finale OVA, Girls & Panzer: Daikon War!, Fushou Akiyama Yukari no Sensha Kouza: Unique na Suiriku Ryouyou Sensha-hen, The Humble Akiyama Yukari\\'s Tank Course: Unique Amphibious Tank恶魔法则Digimon tri. 6デッド\\u3000リーブスダーリン・イン・ザ・フランキスDangan Ronpa: The Animationバスカッシュ！The Racing Brothers, Lets and Go WGP, Bakusou Kyoudai Let\\'s & Go WGPAnymal Tantei Kiruminzoo, Animal Tantei Kiruminzoo, Animal Detectives Kiruminzoo, Anyamaru Tantei Kiruminzoo, Anyamaru Tantei KiruminzuuOjiisan to Obaasan ga Wakagaetta Hanashi, A Story About a Grandpa and Grandma Who Returned Back to Their YouthBOFURI: I Don\\'t Want to Get Hurt, so I\\'ll Max Out My Defense 2nd Season, I hate being in pain, so I think I\\'ll make a full defense build 2, I Hate Getting Hurt, So I Put All My Skill Points Into Defense 2ハンターxハンターHaiyore! Nyaruko-san 2, Haiyoru! Nyaruko-san 2, Nyarko-san: Another Crawling Chaos WGroove Adventure Rave銀河へキックオフ!!Oegwauisa Elise, 외과의사 엘리제, Surgeon Elise, Doctor Elise: Queen with a ScalpelPrisma Illya 2wei!, Prisma☆Illya 2nd Seasonドラゴンボール エピソード オブ バーダックDr. Stone: Stone Wars Episode Zero, Dr. Stone Recap, Dr. Stone Special FeatureダーティペアDashing Kappeiコードギアス 亡国のアキト 第４章「憎しみの記憶から」Choujigen Game Neptune: The Animation Episode 13Cats Eye428: Fuusa Sareta Shibuya de Tokubetsu-hen, 428: Fuusasareta Shibuya de Special Chapter, 428 the animationAmagi Brilliant Park Episode 14, Amagi Brilliant Park Tokubetsu-henアイカツフレンズ！～かがやきのジュエル～Accelerated WorldHoneyWorks: I\\'ve Liked You Since Long Ago, I\\'ve liked you for a long time.: Confession Committee, I\\'ve had feelings for you since a long time ago.: Executive Confession CommitteeウィッチブレイドWanjie Xianzong, Wonderland, The Wonderland of Ten ThousandsThe God of All RealmsUta no☆Prince-sama♪: Maji Love 2000% Episode 14, Uta no Prince-sama: Maji Love 1000% 2 Special, UtaPri 2 SpecialMemoru in the Pointed Hat, Tongari Boushi no Memoru, Wee WendyTo Aru Majutsu no Index Gaiden, Toaru Kagaku no Ippou TsuukouTegami Bachi Specials, Letter Bee SpecialsS.A.O, SAOSuper Robot Taisen Original Generation: The Inspector, SRWOGSoten KoroArmored Trooper Votoms: Pailsen Files進撃の巨人 IN THE DOME -兵士たちの星空-Shen Diao Xia Lu III: Shi liu nian zhi yueDragon Nest: Rise of the Black Dragon亜人Ace o NeraeHinotori, Bird of Fireヘタリア Axis Powers ファンディスクGreat Sky Demon Dragon Gaiking, Gaiking: Legend of Daikuu-Maryuuドルアーガの塔 ～the Sword of URUK～Doraemon: Nobita\\'s Great Mermaid Naval BattleDimension WDate A Live 2D.C.II S.S.: Da Capo II 2nd SeasonChuunibyou demo Koi ga Shitai! 2 Lite, Chu-2 Byo demo Koi ga Shitai! Ren Lite, Love, Chunibyo & Other Delusions: Heart Throb LiteBleach: Jump Festa 2004, ブリーチ Memories in the Rain妖しのセレスAoharu x Machinegun Special, Aoharu x Machine Gun Special, Aoharu x Machine Gun: Battlefield of BeastsAnsatsu Kyoushitsu Jump Super Anime Tour Special, Assassination Classroom, Ansatsu Kyoushitsu: Jump Festa 2013 Specialゾイド ジェネシスYuu Yuu Hakusho Movie 2, YuYu Hakusho, Yu Yu Hakusho: Fight for the Netherworld妖怪アパートの幽雅な日常Wake Up, Girls!: Seven IdolsWake Up, Girls! Zoku Movie, Wake Up, Girls! 2, WUG! Zoku-hen, WUG! 2, Wake Up, Girls! Shadow of YouthUtawareru Mono OVA, The One Being Sung OVAUta no Prince-sama Maji Love 1000% 2, UtaPri 2Yuukyuu Holder, Eternal HolderTsurikichi Sampei, Fishing Otaku SanpeiHeaven Wars Shuratoただいま、おかえり旅するぬいぐるみ ~Traveling Daru~ストリートファイターII MOVIESkyThe Queen of a Thousand Years, 1000-Year Queen, Shin Taketori Monogatari: Sennen JoouShakugan no Shana-tan Begins, Shakugan no Shana-tan & Yoshida: Fumina Konoe Strikes Back!, Shakugan no Shana-tan RevengeSengoku Basara Two Episode 13, Sengoku Basara Two Special, Sengoku Basara 2Rurouni Kenshin: Episode 56b - Summer Special, Rurouni Kenshin SpecialRewrite: Moon-hen / Terra-hen人偶学园Quan Zhi Fa ShiPUI PUI モルカー DRIVING SCHOOLPuchimas!!: Petit Petit IdolmasterGekijouban Pocket Monster: Minna no Monogatari, Pokémon the Movie: Everyone\\'s StoryOwari no Seraph: Jump Festa 2015 Special, Owari no Seraph: Vampire Shahar, Owari no Seraph OVAアウトブレイク・カンパニーKing of Bandit JingONE PIECE エピソードオブ空島劇場版ワンピース エピソードオブアラバスタ無能なナナMirai Nikki OVAMikan\\'s Picture Diary, Mikan\\'s Illustrated Diaryマーメイドメロディー ぴちぴちピッチ名探偵コナン: コナンと平次と消えた少年Love Hina Spring Specialリトル・ニモシュヴァリエ Le Chevalier D\\'EonJoaninhaIkenaikyo昆虫物語みなしごハッチA Town Where You Live OVAKidou Senshi Gundam SEED DESTINYGundam 00 Recapキディ・グレイドShikabane Hime AkaSekirei: Pure Engagement Episode 0, Sekirei 2 Special, Kanwanidai (Sekirei Shindan/Sekirei Yoka)Theater Edition Rockman EXE: Program of Light and Dark, Rockman EXE MOVIE, Rockman EXE ~ Hikari to Yami no Program ~七侯笔录Pretty Cure All Stars New Stage Mirai no Tomodachi, Eiga Precure All Stars New Stage Mirai no Tomodachi, Precure All Stars New Stage Future FriendsPretty Cure All Stars DX2: Light of Hope - Protect the Rainbow Jewel!, Eiga Precure All Stars DX2: Kibou no Hikari - Rainbow Jewel wo Mamore!+tic Nee-san, +tic Elder Sister, Plustic Neesan, Plastic Nee-san, Purasu Chikku Neesan, Plastic Elder SisterOne Piece Special: The Detective Memoirs of Chief Straw Hat LuffyOne Piece The Movie: Karakurijou no Mecha Kyohei, One Piece: Karakuri Shiro no Mecha Kyohei, Karakuri Castle\\'s Mecha Giant Soldier無責任艦長タイラー OVA名探偵コナン 女子高生探偵\\u3000鈴木園子の事件簿Mahou Sensei Negima! OVA Mahou Sekai Extra: Magical Girl Yue, Mahou Sensei Negima!: Mou Hitotsu no Sekai Episode 5Lv1魔王とワンルーム勇者Lupin III: Part VI, Lupin Sansei Part VI龙族Soul Contract, Spirit Contract, Spirit PactKyou no Go no Ni (TV), Today in Class 5-2 (2008), Kyo no GononiKyo no Gononi, Kyou no Go no NiTanaka no Narration de Kurikaeru Zenhan Digest, Tanaka no Naration de Kurikaeru Kuroshituji Digest, Kuroshitsuji Episode 13.5, Kuro Shitsuji Recap Episode, Black Butler Recap, Kuroshitsuji Special黒子のバスケ お喋りしようかKinnikuman: Kinnikusei Oui Soudatsuhen, Kinnikuman: Scramble For The ThroneKakegurui 2nd Season, Kakegurui: Compulsive Gambler 2nd Season, Gambling School 2nd Season,K Seven Stories Circle Vision ~Nameless Song~Jormungand: Perfect Order - First Stage Soshuhen, Jormungand: Perfect Order - First Stage Soushuuhen记忆管理局Jintai SpecialsInari, Konkon, ABCs of LoveHoshiteleThe Shut-In Vampire Princess\\' WorriesGOD EATERGalaxy Angel 2Fate/kaleid liner Prisma☆Illya Movie: Licht Namae no Nai ShoujoFate/ApocryphaLegendary Brave da Garn, Brave Fighter of Legend da-GarnDenki Machi no Honya-san, Denkigai no Honya-sanDate A Live 3, Date A Live 3rd Season, DAL 3サイバーシックスCYBER CITY OEDO 808 (サイバーシティ オーエド ハチマルハチ)Chibi Maruko-chan: My Favorite Song涼風The Comic Artist and Assistants SpecialsMagical Soldier LouieKotoura-sanKaze no Seikon, Stigma of the Windかげじつ！せかんど城下町のダンデライオンClose Combat MageEnmusubi no Youko-chan, Huyao Xiao Hongniang: Xia ShaHitsugi no Chaika 2nd Season, Hitsugi no Chaika Second SeasonHiiro no Kakera: Dai Ni Shou, Hiiro no Kakera 2nd Season, Scarlet Fragment 2Fire Rain, Rain of FireG-Reco Movie 5, Gekijouban Gundam G no Reconguista 5グイン・サーガグレートマジンガーSilver FoxSkeleton Knight going out to the parallel universePrisma Illya 2wei! HerzDoraemon: Nobita at the Birth of JapanDigimon Season FourDigimon tri. 5デビルマン 誕生編DAYSEiga Crayon Shin-chan: Arashi o Yobu! Yuhi no Kasukabe Boys, Crayon Shin-chan: The Storm Called: The Kasukabe Boys of the Evening SunDai-Guard, Daiguardキャプテンフューチャー[C] The Money of Soul and Possibility ControlBoogiepop Never Laughs, Boogiepop Doesn\\'t Laugh僕のヒーローアカデミア 生き残れ！決死のサバイバル訓練Blood-C Movie, Gekijouban Blood-Cバクマン。 スペシャル「デラマン。」B: The BeginningZutto Neko ShoshinshaYawara! Atlanta SpecialVandread Stage One, Vandread First StageウルトラマニアックTo LOVE-Ru (2017), To Loveru: Trouble - Multiplication, From the Front, from BehindThe Idolmaster Cinderella GirlsMighty AtomTenchisozo Design Bu, [Ten-De-Bu] What a strange animal!, TendebuSlayers Movie 5Shin Shirayuki-hime Densetsu PretearI\\'ve Always Liked You Picture Drama Special, HoneyWorks: Kinyoubi no Ohayou赘婿Yowamushi Pedal Summary연애하루전Heart-Thumping Tonightテルマエ・ロマエ ノヴァエTHE IDOLM@STER Prologue SideM Episode of JupiterTensei shitara Slime Datta Ken 2nd Season Recap, Tensei shitara Slime Datta Ken Episode 36.5たまゆらSpy Room 2真･女神転生Ｄチルドレン ライト＆ダーク神八剣伝New Captain Tsubasa生命の科学ミクロパトロール百日紅～Miss HOKUSAI～Pretty Cure All Stars New Stage Kokoro no Tomodachi, Eiga Precure All Stars New Stage 2: Kokoro no Tomodachi, Pretty Cure All Stars New Stage 2: Friends of the Heartぷれぷれぷれあです × かげじつ！Phi Φ Brain: Kami no PuzzlePapakiki Special, Listen to Me, Girls, I\\'m Your Father! Special, Listen to Me, Girls. I Am Your Father!: Warm Fuzziesワンピース ルフィ落下!秘境・海のヘソの大冒険Obey Me!Nogizaka Haruka no Himitsu 2, Haruka Nogizaka\\'s Secret Purity炎の中忍試験! ナルトvs木ノ葉丸!!ナルトSD ロック・リーの青春フルパワー忍伝Muteki Kojin Daitarn 3, Invincible Steel Man Daitarn 3Gyagu Manga Biyori, Masuda Kousuke\\'s Theater: A Perfect Day for Gag-MangaLOVE STAGE!!Spirit Cage: Incarnation Middle Chapter, Ling Long Episode 6.5李林克的小馆儿 \\xa0第二季Kyuuketsuki Miyu TV, Vampire Princess Miyu (1997)Kuru NekoWhale Calves Sing on the Sand, Tales of the Wales CalvesKonobiKimi ni Todoke 2nd Season Episode 00, Unrequited Love, Kimi ni Todoke RecapThe Eternity You Wish For, KimiNozoTragedy of BelladonnaFalse God My Dropkick Episode 12Irregular Hunter X, MegaMan Maverick Hunter X: The Day of SigmaHIGH CARD映画ハピネスチャージプリキュア！人形の国のバレリーナハコヅメ～交番女子の逆襲～Phoenix Wright: Ace Attorney Season 2Musashi the Great RVGenius Party 2, Gala, Moondrive, Wanwa the Puppy, Tojin Kit, Dimension BombDoraemon: Nobita no Kekkon ZenyaDoraemon the Movie 2021: Nobita\\'s Space War, Doraemon the Movie 2021: Nobita no Uchuu Shou SensouDoraemon: Nobita\\'s Great Adventure in the World of MagicDN Angel, DNAngelサイボーグクロちゃん映画クレヨンしんちゃん バカうまっ! B級グルメサバイバル!!Middle Manager TonegawaチェブラーシカBaka to Test to Shoukanjuu Ni! Specials, The Idiot, the Tests, and the Summoned Creatures Specials, Baka and Test: Summon the Beasts SpecialsFrom Common Job Class to the Strongest in the World 2nd Seasonエリアの騎士傲世九重天Ano Natsu de Matteru Special, Waiting in the Summer Special仙武传 第二季NARUTO Shippu Konoha Gakuen Den Special, Konoha HighマイリトルゴートMouretsu Uchuu Kaizoku, Miniskirt Pirates, Moretsu Uchuu KaizokuGyagu Manga Biyori 2Maison Ikkoku: Kanketsuhen, Maison Ikkoku: Final Chapter魔法少女まどか★マギカ コンセプトムービーまほろまてぃっくLevius -レビウス-Kuroshitsuji 2, Black Butler 2Ghost in the Shell: Stand Alone Complex 2nd GIG - Tachikoma SpecialsGorgeous Tango: The Mars Daybreak, Kenran Butoh Sai: The Mars Daybreakジュエルペット ハッピネスHigurashi no Naku Koro ni - Cat Killing ChapterHayate no Gotoku! (2011)Cackling Kitarou, Spooky KitarouGA: ADCFate/Grand Order: Zettai Majuu Sensen Babylonia Episode 0Fabiniku, Isekai Bishoujo Juniku OjisanFAIRYTAIL×RAVEあんさんぶるスターズ!! -Road to Show!!-Doraemon: Nobita\\'s Animal PlanetDEADMAN WONDERLANDBibliotheca Mystica de Dantalian: Ibarahime, Dantalian\\'s Bookshelf: Ibarahime映画クレヨンしんちゃん 爆睡! ユメミーワールド大突撃Eiga Crayon Shin-chan: Dengeki! Buta no Hizume Daisakusen, Crayon Shin-chan: Blitzkrieg! Pig\\'s Hoof\\'s Secret MissionChikyu Boei KazokuCencorollCardfight!! Vanguard Third Season, Cardfight!! Vanguard 3rd SeasonAku no HanaUra☆Higu, Ura HiguHenNekoGundam Build Fighters: GM\\'s CounterattackGenshiken Nidaime OAD, The Society for the Study of Modern Visual Culture OVA映画 ドラえもん のび太と雲の王国Doraemon: Nobita no Kyoryuuデート・ア・ライブ超次元ゲイム ネプテューヌ THE ANIMATIONChibiribe, Chibi Ribe苍兰诀I Don\\'t Have Many Friendsブラック・ジャック ふたりの黒い医者Battlespirits: Brave, Battle Spirits Season 3百炼成神 第二季Arifureta: From Commonplace to World\\'s Strongest Season OVA, Phantom Adventure and Miraculous Encounter, Arifureta Shokugyou de Sekai Saikyou 2nd Season OVAAoharu x Machine GunThe Blue OrchestraACCA: 13-Territory Inspection Dept. Regards, ACCA: 13th Territory Inspection Department, ACCA: 13th Ward Observation Department - Regards, ACCA Jusanku Kansatsuka RegardsFour People and Their Respective Lies, Yonin wa Sorezore Uso wo TsukuLord Xue Ying 2nd Season, Snow Eagle Lord 2nd Season, Snow Eagle Lord\\'s Adventures,  Xueying Lingzhu Zhi Qiyu Pian新神榜：杨戬Supreme God EmperorUshio & ToraUnico Movie 1Uma Musume: Pretty Derby SpecialsLove Song of a Certain PilotTerra Formars: Bugs2 2599, TERRAFORMARS OVATenchi Muyou, Tenchi Muyo! GXPティアーズ・トゥ・ティアラ劇場版 探偵オペラ ミルキィホームズ〜逆襲のミルキィホームズ〜takt op.Destiny天体のメソッド もうひとつの願いSHOW BY ROCK!! STARS!!Shakugan no Shana OVA, Shakugan no Shana Tokubetsu Hen Koi to Onsen no Kougai Gakushuu!, Shakugan no Shana SP: Love and Outdoor Hot Spring Tutorial!戦闘員、派遣します！Blue Gale Xabungle, Combat Mecha XabungleSengoku Basara OVA, Sengoku Basara Episode 13, Sengoku Basara SpecialThe Reincarnation of the Strongest Onmyouji in Another WorldSaiki Kusuo no Psi NanRust-Eater BiscoPsycho-Pass SS Case 1: Tsumi to Batsuプラネット・ウィズNouCome OVAOne Piece Special: Glorious Island女武神的餐桌 新春SP信長の忍び~伊勢・金ヶ崎篇~Mumin, Moominミュークルドリーミー みっくす！Made in Abyss: Retsujitsu no Ougonkyou - Papa to IsshoLove Hina Episode 28境界のRINNEInside Tsubaki Kunoichi\\'s Heart剣勇伝説ＹＡＩＢＡケムリクサBloodline Battlefront & Beyond OVA, Kekkai Sensen: Back 2 Back OVABodyguard of the Wind, Kaze no Youjimboからくりサーカス怪病医ラムネK: Seven Stories - Side:Green - The Overwritten WorldSeikai no Senki Movie, Battle Flag of the Stars Special Edition, Seikai no Senki TokubetsuhenRurouni Kenshin: Meiji Kenkaku Romantan - Special TechniquesPumpSciGekijouban Pocket Monsters: Mizu no Miyako Mamorigami Latias to Latios, Pokemon Movie 5The Ideal Man Boy\\'s Gang LeaderOokami-san to Shichinin no Nakamatachi, Okamisan and Seven CompanionsNils HolgerssonBurning Wind Ocean Earth Samurai Lord, Bushilord, Bushiroad, Neppu Kairiku Bushi RoadMoryo no Hako, Box of Goblinsもういっぽん！Kidou Senshi Gundam SEED C.E. 73: StargazerClever Sarutobi, Chubby NinjaArrivederci Space Cruiser Yamato: Soldiers Of Love, Farewell Space Battleship Yamato: Warriors of LoveRyuugajou Nanana no MaizoukinRurouni Kenshin: Shin Kyoto HenRokujouma no Shinryakusha!?リルリルフェアリル～妖精のドア～Re: Cutey Honeyらんま１／２\\u3000熱闘歌合戦Ranma 1/2 Special Video: Battle ga Ippai 29-nin no Korinai YatsuraPuchimas!: Petit IdolmasterGekijouban PriPara: Minna de Kagayake! Kirarin Star Live!, Puri Para, Pri Para, PuriPara, Prism ParadisePocket Monsters: Advanced Generation, Advanced Challenge, Advanced Battle, Battle FrontierGeeks\\' Videoワンピース呪われた聖剣Naruto: Daikatsugeki! Yukihime Ninpocho Dattebayo!, Naruto: It\\'s the Snow Princess\\' Ninja Art Book!ミュークルドリーミーRupan Sansei: Dead or AliveRupan Sansei, Lupin III: $1 Money WarsRecord of Lodoss War TVLHJC, Rekka Gyoushuuクズの本懐Ghost in the Shell: Stand Alone Complex - Tachikoma SpecialsKonjiki no Gashbell!! Mecabarukan no raishuu, Konjiki no Gash Bell!!: Attack of the Mechavulcan, Gash Bell Movie 2Child\\'s Toy OVA, Kodocha OVAKakumeiki ValvraveSaint Seiya: Soshuhen, Saint Seiya: The Hades Chapter Sanctuary Episode 0, Special ProjectionRokuAkaPokemon Movie 20Best of Ookiku Furikabutte: Natsu no Score-book, Ookiku Furikabutte Recap OVA, Oofuri, Swing Big!Onmyou Tai SenkiPlease! Psammea-don, Sablotinワンピース ジャンゴのダンスカーニバルOne Piece Recap OVANyankoiGekijouban Nanatsu no Taizai Hikari ni Norowareshi Mono-tachi, The Seven Deadly Sins the Movie: Cursed by Lightムーンライトマイル 1stシーズン -Lift off-Mikakunin de Shinkoukei OVA, Engaged to the Unidentified OVA真夜中のオカルト公務員」TV未放送エピソード「ひとりぼっちの吸血鬼」Don\\'t tell the Virgin Mary, Maria-sama ni wa Naisho, Don\\'t tell the Virgin MaryMahoromatic 2龙族 / 龍族 -The Blazing Dawn-Kyousougiga (2012), Kyousogiga (2012)Black Corpse, Black RelicKurokami, Kurogami, Kuro Kami, Dark GodEureka Seven Movie, Psalms of Planets Eureka Seven: Pocket Full of Rainbows甲虫王者ムシキング ～森の民の伝説～Insect Story: Honey Bee Hutch, HutchiIt\\'s Too Sick to Call this LoveArmor Hunter Mellowlink, Leechers Army Merowlink, MellowlinkIxion Saga: Dimensional TransferHabitat Ground Jewdo, Heat Guy Jay, HeatGuy-JGekijouban Haruka Naru Toki no Naka de: Maihitoyo, Gekijo Ban Harukanaru Toki no Nakade -Mai Hitoyo-, GekijouBan Harukanaru Toki no Naka de: MaiHitoyo, Beyond the Stream of Time: A Dance in the MoonlightGekijouban Ginga Kikoutai Majestic PrinceShanghai Dragon, Deathtic 4, Doorbell, Limit Cycle, Happy Machine, Baby Blue牙狼〈GARO〉-VANISHING LINE-We Are Pretty CureFushigi Yugi OVA 1FLAG（フラッグ）Elfen Lied Special, Elfen Lied OVADruaga no Tou: The Aegis of Urukドラゴンボール 最強への道『DOUBLE DECKER! ダグ＆キリル』EXTRADoraemon: Nobita to Buriki no Meikyun, Doraemon: Nobita\\'s Tin-Plate LabyrinthCrayon Shin-chan Movie 28: Crash! Rakuga Kingdom and Almost Four HeroesChuunibyou demo Koi ga Shitai! 2 Specials, Chu-2 Byo demo Koi ga Shitai! Ren SpecialsBURN THE WITCHBokura wa Minna Kawaisou: Shiro-san to Ore, The Kawai Complex Guide to Manors and Hostel Behavior: Shino-san and IBleach: Sennen Kessen-hen - Ketsubetsu-tan Episode 21.5Manual of Hundred Demons悪役令嬢レベル99 ～私は裏ボスですが魔王ではありません～Yumeiro Patissiere: Mune Kyun Tropical Island!, Yumeiro Pâtissière: Heart-Racing Tropical Island!, Yumeiro Pâtissière: Mune Kyun Tropical Island!Yugioh, Yu-Gi-Oh! The Movie: Ultra Fusion! Bonds Over Time and Space, Yu-Gi-Oh! 10th Anniversary Special, 10th Anniversary Gekijouban, Yu-Gi-Oh! The Movie: Super Fusion! Bonds That Transcend Time, Yu-Gi-Oh! Bonds Beyond Timeヴァンパイア・イン・ザ・ガーデンRumic Theater, Rumiko Takahashi Theater, Rumic World TVスーパーダンガンロンパ2.5 狛枝凪斗と世界の破壊者Koukou Hoshi Kageki OVA, High School Star Musical OVA, StarmuSSSS.GRIDMANShounen Maid Special, Boy Maid OVA, Shounen Maid Episode 8.5, Boy Maid Special: Women Should Be Brave, & Men Should Be Winsome?神曲奏界ポリフォニカcrimsonSAbsolutely Lovely Children, Zettai Karen Children OAD, ZKC OVAYKK: Quiet Country Cafe, Yokohama Shopping Journal: Quiet Country CafeXie Wang Zhui Qi 3rd Season, The Demonic King Who Chases His Wife 3rd SeasonWan Jie Xian Zong Di San Ji, Wanjie Xianzong 3rd SeasonUta no☆Prince-sama♪ Maji Love Fourth Season, UtaPri 4とんかつDJアゲ太郎Zenryoku Shounen, Matta AimashouThe Idolmaster Side MTales of Symphonia The Animation: Sylvarant ChapterSukimega深海SaiKano, Saishuuheiki Kanojo: The Last Love Song on This Little PlanetRockman EXE Axessリルリルフェアリル ~魔法の鏡~『RabbiTube』クリエイターにチャレンジ！プリマドールおとなりに銀河My Mental Multiple-Choice Power Is Completely Ruining My School Romantic Comedy, NouCome, NouKomeOffside (2001)Junketsu no Maria: Sorcière de gré, pucelle de forceYookasu Come Here, Junkers Come HomeほしのこえTen no Haou: Hokuto no Ken Raou GaidenMy Two-Faced Little SisterHatenkou Yugi, DazzleHakuouki: Reimeiroku Tokuten DiscHaiyore! Nyaruko-san OVA, Haiyore! Nyaruko-san: Easy Way to Kill EnemiesGuilty Crown Tokubetsuhen: Reassortment, Guilty Crown Special: Reassortmentゲゲゲの鬼太郎Dorohedoro OVADigimon Adventure 02: Digimon Hurricane Jouriku!! / Kouhen Chouzetsu Shinka!! Ougon no DigimentalCollector YuiTiny Snow Fairy Sugar, Chiccha na Yukitsukai SugarBug-tte Honey, Honey The Bug, Honeybee in Toycomland, Bugtte HoneyBishounen SeriesBanG Dream! SpecialBlue Exorcist: Kyoto Impure King Arc OVAアリスと蔵六Bluer Than IndigoAdashimaYusha Tokkyu Might Gaine, The Brave Express Might GaineTsuide ni Tonchinkan, Regarding TonchinkanGekijouban Toriko: Bishokushin no Special MenuTonari no Kaibutsu-kun OVA, The Monster Next Door OVA, My Little Monster OVA東京ミュウミュウTenchi Muyou! Midsummer\\'s Eve, Tenchi Muyo! Manatsu no Eveスター・ウォーズ：ビジョンズ装甲騎兵ボトムズ\\u3000ザ・ラストレッドショルダーTwins Spirit Investigators, Tsuin Seishin Tantei遮天夢戦士ウイングマンA Day Before Us (Season 0)ワッチャプリマジ！バーチャファイターThe Fantastic Adventure of Unico 2, Unico Movie 2, Unico: To the Magic IslandHouhokekyo Tonari no Yamada-kun, Hoohokekyo Tonari no Yamada-kunTennis no Ouji-sama OVA Another Story II: Ano Toki no Bokura OVA BonusShakugan no Shana-tan Gekijoubanロビンフッドの大冒険PreCure All Stars - Singing with Everyone♪ Miraculous Magic!, Precure All-Stars the Movie - Everybody Sing! Miraculous Magic!, Pretty Cureポコニャン！マイセルフ; ユアセルフMonMusu OVAMadan no Ou to Senki, The King of the Magic Bullet and VanadisLord El-Melloi II\\'s Case Files: Rail Zeppelin Grace Note - Episode 0龙蛇演义Kin\\'iro no Corda: Secondo Passo, Kin\\'iro no Chord: Secondo Passo, The Golden String: Second StepKenkou Zenra-kei Suiei-bu Umishou, Kenkoo Zenra-kei Suiei-bu Umishou, Umisho High School Naked Swimming Club, UmishoChibi Vampire KarinThe Most Heretical Last Boss Queen Who Will Become the Source of Tragedy Will Devote Herself for the Sake of the People, LastameHakuouki Hekketsuroku Episode 0, Hakuouki Recap, Hakuoki SummarySpirit Wind EleganceドラゴンボールZ 銀河ギリギリ!!ぶっちぎりの凄い奴Mahoujin Guruguru II, Mahoujin Guru Guru: Doki Doki LegendOriginal Dirty Pair, Dirty Pair (1987)Bell of Chirinブラッドラッド 我輩は猫ではないResident Evil: DamnationBastard!! Ankoku no Hakaishin Season 2 (ONA), Bastard!! Heavy Metal, Dark Fantasy: Hell\\'s Requiem ArcB\\'tX Neo: B\\'t X Neo, BTX NeoAnoHana Picture Drama, We Still Don\\'t Know the Name of the Flower We Saw That Day.: Letter to MenmaAnime Sanjushi: Aramis no Daiboken, Three Musketeers, Animated Three Musketeers, Anime San JushiAmanchu! 2Devil BoyAiyou\\'s Secret RoomBluer Than Indigo: FateAct! Addict! Actors! Season Spring & SummerLove Live! School Idol Project 2nd Season RecapJakusha Character Tomozaki-kun, The Low Tier Character \"Tomozaki-kun\"はいぱーぽりすひなまつりA Tree in a Sunny PlaceSalad Bowl of Eccentrics, HensaraHellsing: The Dawn - A supplementary of HELLSING, Hellsing OVA Specials, Hellsing Ultimate Specials, DriftersProject ItohGunslinger Girl 2nd Season, Gunslinger Girl SecondGirls und Panzer, Girls & Panzer: Dai 63-kai Senshadou Zenkoku Koukousei Taikai SoushuuhenPretty Cure Max Heart: Friends of the Snow-Laden Sky, Pretty Cure Movie 2, Eiga Futari wa Precure: Max Heart 2 - Yukizora no TomodachiElectromagnetic Wave Woman and Adolescent ManDa Capo If, D.C. ifクレヨンしんちゃん オラの引越し物語～サボテン大襲撃～コードギアス 亡国のアキト 最終章 「愛シキモノタチへ」バディ・コンプレックスPretty Soldier Sailor Moon (2014), Sailor Moon Remake, Bishoujo Senshi Sailor Moon (2014), Sailor Moon Crystalアンゴルモア 元寇合戦記.hack//Quantum真武巅峰 第二季Yugioh, Yu-Gi-Oh!, Yu-Gi-Oh!: Duel Monsters, Yugioh: Duel Monsters Battle City Special, Yu-Gi-Oh! Duel Monsters Battle City HenWan Jie Xian Zong Di Er Ji, Wanjie Xianzong 2nd Seasonうらら迷路帖Tate no Yuusha no Nariagari 3rd Season, The Rising of the Shield Hero 3rd SeasonBrave Hero of the Sun, Firebird, Burning Brave Hero Firebird, Sun Brave Fyvard, The Brave Fighter of Sun Fighbird, Sun GuardRage of Bahamut: Genesis - Short Story肆式青春, Si Shi Qing ChunSeikai no Monshou Movie, Crest of the Stars Special EditionUchi no Musume no Tame naraba, Ore wa Moshikashitara Maou mo Taoseru kamo Shirenai., UchiMusumeLostorage conflated WIXOSSHundred Stories, 100 Stories, Natsuhiko Kyougoku\\'s Worldly Horror StoriesThe Berserker Rises to Greatness.Gwihwanja-ui Mabeop-eun Teukbyeol-haeya Hamnida, 귀환자의 마법은 특별해야 합니다機動戦士Zガンダム -星を継ぐ者-Karneval (2013)Firebird: Space Chapter, Phoenix: UniverseHanyou no Yashahime: Sengoku Otogizoushi 2nd SeasonGanmu, Tsutsu Yume: Gunnm, Battle Angel, Hyper Future Vision: GunnmGosick Recap, Haru Kitaru Gosick Special: Utsukushiki Kaibutsu wa Kondon no Saki wo Miruグッド・ナイト・ワールドフォーチュン·クエストLDual! Parare Runrun Monogatari, Dual Parallel! Trouble AdventuresTower of Druaga: The Aegis of Uruk Alternate First Episode, Tower of Druaga: The Aegis of Uruk SpecialDoraemon: Boku no Umareta HiDiGi Charat NyoEiga Crayon Shin-chan: Buriburi Oukoku no Hihou, Crayon Shin-chan: The Secret Treasure of Buri Buri Kingdom超魔神英雄伝ワタルBubblegum Crisis 2040Bokutama, PSMEBlack Cat Episode 14.5, Black Cat: The Distant Cat, Black Cat: Tooza karu nekoブラック・ブレット\\u3000BLACK BULLET\\u3000［黒の銃弾］Astroboy, Astro Boy (2003)あしたのジョー (1980)Arknights: Prelude to DawnアクエリオンEVOLアナザー・ワールドイ・リ・ア ゼイラム The Animation真救世主伝説 北斗の拳 ユリア伝Hayate the Combat Butler OVA, Hayate no Gotoku! (2014)Hana no Ko Runrun, Lili, Lulu, Lun Lun the Flower Child, LunlunGu Gu Ganmoデンゼルを中心としたオリジナルアニメDoraemon: Nobita\\'s Version of SaiyukiDoraemon: Nobita no Uchuu Shou Sensou, Doraemon: Nobita\\'s Little Star WarsDoraemon: Nobita\\'s Great DemonDigimon Crosswars, Digimon Xros Wars: The Evil Death Generals and the Seven Kingdoms, Digimon Xros Wars: Aku no Death General to Shichinin no OukokuデルトラクエストChibi Maruko Chan Movie (1990)BRS OVAブラック・ブラッド・ブラザーズ冰火魔厨 第二季幕末機関説 いろはにほへとAoihana, Blue FlowerThe Animated Secret Garden, Secret Flower Garden, The Secret Garden, Himitsu no HanazonoAccel World OVA, Accel World: Reverberation, Accel World: Ginyoku no Kakusei, Accel World: Kasoku no ChoutenA-Channel OVAYuuna of Yuragi Manor, Yuuna and the Haunted Hot SpringsYoake Mae yori Ruri Iro na: Crescent Love, YoakenaUchuu Taitei Goddo Shiguma, God Sigma Empire of Space, Space Combination God SigmaHang in There, Tsuyoshi, Get a Grip, Tsuyoshiとなりの吸血鬼さんMunto Movie, Munto Finale, Last War of Heavenloids and Akutoloids, Sora wo Miageru Shoujo no Hitomi ni Utsuru Sekai MovieCobra Gekijouban, Cobra Space AdventureSHOW BY ROCK!!ましゅまいれっしゅ!!真・女神転生 デビチルTrue Getter Robo vs. Neo Getter Robo시맨틱 에러 스페셜Farewell, My Dear Cramer Movie: First Touch, Sayonara FootballSAND LANDRD 潜脳調査室ワンルーム、日当たり普通、天使つき。One Piece: Soccer King of DreamsOne Piece: The MovieNinja Girl & Samurai Master 3rdMuvLuv Alternative Total Eclipse, MLA TENoodle Fighter MikiＭＩＮＫＹ\\u3000ＭＯＭＯ\\u3000ｉｎ\\u3000夢にかける橋メダロットMazinkaiser: OVA 8Mangaka-san to Assistant-san to, ManAshiLing Long: Tebie Pian, Spirit Cage: Incarnation SpecialSpirit Sword Sovereign 4th SeasonBio-Booster Armor Guyver, The Guyver, Гайвер, Guyver: The Bio-boosted ArmorCat Ninden TeyandeeKoi wo Shita no wa, Speed of YouthKochikame Movie 1Kindaichi Case Files Returns: The File of Inspector AkechiかいけつゾロリKage-Jitsu!Shaonian Ge Xing 2nd Season Part 2, Great Journey of Teenagers 2nd Season Part 2Ms. Corporate Slave Wants to be Healed by a Loli Spirit, ShachisaretaiThe Great Cleric: A Salaryman\\'s Path to Surviving Another World三者三葉Rec Special, Rec Episode 7.5, Rec: The Unforgivenrain townOnegai SenseiOne Piece: Nejimakijima no Bouken, One Piece: Nejimaki Shima no Bouken信長の忍びNinja Boy Rantaro, Rakudaii Nintama RantarouThe Seven Deadly Sins: Prisoners of the SkyMouretsu Pirates Movie, Mouretsu Pirates: Akuu no Shinen, Gekijouban Mouretsu PiratesThe Incredible Race HorseラブひなKotetsu Jeeg, Steel Jeeg, ZiegKimiaruArmored Genesis Mospeada, Robotech: The New Generation機動戦士ガンダム 第08MS小隊 三次元との戦いKami-sama KazokuJungle King Taa-chan, Jungle no Ohja Ta-chanUsavich 3Tropical Rouge! Precure Snow Princess and The Miracle Ring!となりの妖怪さんTokyo Magnitude 8.0 SpecialTales of Symphonia The Animation: Tethe\\'alla Chapter - Mata Aeta ne: Shougeki no Judgement!Super Lovers Second Seasonスターシップ・オペレーターズSHOW BY ROCK!! ＃Shakugan no Shana Specials, Shakugan no Shana-tan Returns, Itadaki no Hecate-tan, Banjou no Carmel-sanSpirit ChroniclesSasamekikoto, Sasame KikotoSaishuuheiki Kanojo OVA, Saikano OVAQuanzhi Fashi 6th SeasonPERSONA5 the Animation -THE DAY BREAKERS-A Penguin\\'s MemoriesOshiete! Galko-chan OVAOne Piece RecapObey Me! Special Anime: Devildom Family Trip!Mahou Sensei Negima! OVA HaruNanatsu no Taizai: Imashime no Fukkatsu OVA 2, The Seven Deadly Sins: Heroes Fun Time -Extra Stories Compilation OVA 2マイホームヒーローManie Manie The Labyrinth Tales, Labyrinth Labyrinthos, Hashiru Otoko, The Order to Stop Construction, Construction Cancellation Order, Running Man, Meikyu MonogatariMagical Witch SallyLing Long: Zhong Zhang, Spirit Cage: Incarnation Final ChapterKuroshitsuji: Sono Shitsuji, Kyousou -Akai Valentine-鬼太郎誕生 ゲゲゲの謎Kido Senshi Z Gundam III - Hoshi no Kodo wa AiKiddy Grade: Reimei-hen, Kiddy Grade Movie 3Chou Gekijou-ban Keroro Gunsou: Tanjou! Kyuukyoku Keroro, Kiseki no Jikuu-jima, de arimasu!!Kanon (2002)New Maple Town StoriesShadow Skill (1998), Shadow Skill TVRomances of Sealed Gods, Soul Hunter: Battle of the ImmortalsSanzoku no Musume Ronia, Ronja RövardotterSaint Seiya: Ougon Tamashiiロケットガールライディング・ビーンポポロクロイス物語Pocket Monsters: Myuutsu! I Exist HereFairy Musketeer Akazukin TV, Otogi-Juushi AkazukinもっけLog Horizon 3rd Season, Log Horizon Third Seasonラストエグザイル-銀翼のファム-空想科学世界ガリバーボーイナイツ&マジックきらりん☆レボリューションThe Cases of Young Kindaichi, The Case Files of Young Kindaichi Movie, Kindaichi Shounen no Jikenbo: Operazakan - Aratanaru SatsujinKanokari海賊王女放課後のブレスGakuen Mokushiroku: Highschool of the Dead, HOTD, HSOTDHIDARI (Pilot Film)5-tou ni Naritai.銀河鉄道物語Pretty Cure Max Heart, We Are Pretty Cure: Max HeartDanmachi Sword OratoriaDoraemon: Nobita no Uchuu Eiyuuki, Doraemon: Nobita\\'s Space Heroesダーティペア the Movieデリシャスパーティ♡プリキュアCobra The Animation: Rokunin no Yuushiメイクアップ！ セーラー戦士ベイブレードバースト 神〈ゴッド〉アイカツオンパレード!.hack//G.U. TrilogyYes, No, or Maybe Half?Toaru Majutsu no Index: Endymion no Kiseki OmakeGat Obeu Hai Seukul, 갓 오브 하이스쿨, GOHS鉄腕バーディーStreet Fighter 2 V新テニスの王子様 氷帝 vs 立海 Game of FutureEldran series #1Armor Legend Samurai Troopers, Samurai Warriors, Ronin Warriors雾山五行Vampire Kishi 2, Vampire Knight 2, Vampire Kishi GuiltyUtaPri Movie 2, Uta no Prince-sama Maji Love Starish Tours Movie宇宙伝説ユリシーズ31Tennis no Ouji-sama OVA Another Story: Messages From Past and Future, Oshitari on a Certain Day, Aru Hi no OshitariSumikko Gurashi The Movie - The Pop-up Book and the Secret ChildGenesis of Aquarion, Holy Genesis AquarionMunto TV灼熱の卓球娘Saenai Heroine no Sodatekata Special: Episode 0, Saekano: How to Raise a Boring Girlfriend: PrologueRyusei no Rockman, Rockman of the Shooting Star, Rockman of the MeteorポケットモンスターXY&ZPokémon: Spell Of The Unown, Gekijouban Pocket Monsters: Lord of the UNKNOWN Tower ENTEI, Pokémon Movie 3Obey Me! 2nd Seasonノー・ガンズ・ライフMahou Sensei Negima! OVA NatsuNasu 2, Nasu: Migratory Bird\\'s SuitcaseM★F★K★ZMashin Eiyuden Wataru, Spirit Hero Wataru, Keith Courage, Adrien le sauveur du mondeTales of MagicSorcerer Stabber Orphen, Sorcerous Stabber Orphen魔法使いTai!Mahoromatic Summer 2003 TV Special, Mahoromatic: Natsu no TV SpecialThe Laid-back Life in Another World of the Ex-Hero Candidate Who Turned out to be a Cheat from Level 2, Chillin Different World Life of the Ex-Brave Candidate was Cheat from Lv2忍者戦士飛影Kanokano眷思量False God My DropkickHaou Daikei Ryuu KnightギャラクシーエンジェルLocodol OVAEf: The First TaleDoraemon: Nobita\\'s Genesis Diaryデビルマン 妖鳥シレーヌ編I Love You! BuBu ChaChaShoujo Changumu no Yume, Janggeum\\'s Dream, Changumu no Yume - Dae Jang Geum, 장금이의 꿈コードギアス 亡国のアキト 第2章 引き裂かれし翼竜 ピクチャードラマBing Huo Mo ChuAzumanga Daiou: The Very Short MovieMila Superstar, Attack Number OneThe Diary of Tortov Roddleオールアウト!!赤ずきんチャチャ (1995)Yuri Bear Storm, Love Bullet: Yurikuma ArashiUrusei Yatsura: Za Shougaibutsu Suiei Taikai, Urusei Yatsura: The Obstacle Course Swim Meet, It\\'s a Rumic World: Urusei YatsuraWhen They Cry 3, When the Seagulls Cry, When They Cry: SeagullsつぐももEverything Above the Skies, Everything Under the Skies The Past ChapterHoneyWorks: Kokuhaku Jikkou IinkaiGenesis of Aquarion OVA, Sousei no Aquarion: Uragiri no Tsubasa, Sousei no Aquarion: Taiyou no TsubasaThat is a Voice Actor!Machine Robo Rescue, Sortie!Requiem Street 3rd Season薬師寺涼子の怪奇事件簿Wu Geng Ji 3rd Season, The Legend and the Hero, Feng Shen Ji, Chronicles of the God\\'s OrderI and Myself: The Two Lottes, The Parent TrapUsavich 2うる星やつら オンリーユートリニティセブン東京魔人學園剣風帖\\u3000龖（トウ）Toaru Kagaku no Railgun MMR III, Toaru Kagaku no Railgun MMR IV Specials, Motto Marutto Railgun, A Certain Scientific Railgun S Specials天使になるもんっ！Taiho Shichauzo Special, Taiho Shichau zo TV SpecialsChuu no ManimaniSB69シャングリ・ラHoly Warrior Dunbine, DunbineSeikai no Danshou: Birth, Passage of the Stars: Birth, Seikai no Danshou: Tanjyou, Lost Chapter of the Stars: BirthRockman EXE StreamOsake wa Fuufu ni Natte kara Special, Love is Like a Cocktail Episode 14Orient Part 2Ochame-na Futago, Mischevious Twins: Story of Clare Academy, The Twins at St. Clare\\'s, Hanni & Nanniニセコイ: OADN.T.Z.ZももくりMikakunin de Shinkoukei Special, Engaged to the Unidentified SpecialMahou Shoujo-tai Alice, Mahou Shoujotai, Magic-Girl Squad: Alice, Magical Girl Squad ArusuRupan Sansei: Alcatraz ConnectionKaze no Naka no Shoujo Kinpatsu no Jenii, Fiocchi di cotone per Jeanie, Jeanie With The Light Brown Hair, Girl in the Wind: Jeanie with the Light Brown Hair, JeannieKannagi - Crazy Shrine Maidens Special, Kannagi - Episode 14, Kannagi Specialジャングル大帝\\u3000劇場版Chie the Brat, Jarinko Chie (Movie)弱キャラ友崎くん 2nd STAGEInoBato, Inou-Battle in the Usually Daze., Inou Battle Within Everyday Life放課後少年花子くんHimechan! Otogitic Idol Lil\\'PriGinmaku Hetalia: Axis Powers - Paint it, White (Shiroku Nure!)ハッピーバースデー 命かがやく瞬間Hakuoki ~Demon of the Fleeting Blossom~Haiyore! Nyaruko-san W OVAぐでたまGin-iro no Kami no Agito, Silver-Haired AgitoDanMachi OVA, Is It Wrong to Try to Pick Up Girls in a Dungeon? OVA, Dungeon ni Deai wo Motomeru no wa Machigatteiru Darou ka: Dungeon ni Onsen wo Motomeru no wa Machigatteiru Darou kaDr. Dokkiriダーティペア ラブリーエンジェルより愛をこめてDigimon Tamers: The Runaway Digimon Express, Digimon Tamers: Reckless Driving - Digimon Super-ExpressArmitage III Poly-Matrix, Armitage III the Movie: Poly-Matrix, Armitage III: Poly MatrixAo no Exorcist Specials, Ao no Exorcist: Ura Eku, Ao no Futsumashi, Blue Exorcist Specials, Ao no Exorcist OmakeCupid\\'s Chocolates 2nd Season, Aishen Qiaokeli Jinxingshi 2nd SeasonSeven Seeds 2nd Season.hack//Beyond the WorldThe CureArknights: Holy Knight LightHige PiyoSandy Bell, Sandy Jonquille, Hello SandybellGakuen Utopia Manabi Straight! Episode 6.5, Gakuen Utopia Manabi Straight! OVAGA: Geijutsuka Art Design Class OVA, GA: ADC OVAEscaflowne: The MovieドラゴンボールZ とびっきりの最強対最強Animal Crossing, Animal ForestDigital Monster X-evolution, Digimon X, Digital Monster X-Evolution: 13 Royal KnightsIdeon, Legendary Giant-God Ideon, Great God Legend IdeonMini 4WDCode Geass: Hangyaku no Lelouch R2 Specials百炼成神Appleseed (2004)ゼロから始める魔法の書勇午 ～交渉人～W3, Wonder Three, Amazing Three, Wondering ThreeVersailles no Bara Special, Versailles no Bara episode 41, Versailles no Bara to Onna-tachi, The Rose and Women of VersaillesUchuu Senkan Yamato 3, Space Cruiser Yamato 3, Space Battleship Yamato 3, Star Blazers 3Rupan Sansei: Moeyo Zantetsuken, Lupin III: Burn, Zantetsuken!Koikaze, Love WindA Town Where You Live, Uchi ga Kita Machi, The Town Where I CameJUNK HEADJourney to Bloomジュエルペット マジカルチェンジMy Two-Faced Little Sister S, Himouto Umaruchan S, Himouto! Umaru-chan SHayate no Gotoku! (2013)Gera Gera Booth Monogatari, Geragera Bus Monogatari, Chuckling Bus Story of Boes, Funny Farm Madness, Ollie Ollie Oxen, Story of the Geragera BusGantz *uncut*, Gantz - Second Stage, Gantz 2nd stage学園戦記ムリョウFMPFate/kaleid liner プリズマ☆イリヤEiga Crayon Shin-chan: Action Kamen vs. Haigure Maou, Crayon Shin-chan: Action Kamen vs. Haigure DevilCode Geass: Lelouch of the Rebellion Episode 8.5 and Episode 17.5, Code Geass: Hangyaku no Lelouch SpecialsChihayafull 2 OVAChiccha na Yukitsukai Sugar Special, Chiccha na Yukitsukai Sugar Tokubetsu Henカードファイト!! ヴァンガードBLUE GENDERSatou: ZeroJungle Book: Boy Mowgliジョーカー・ゲームJahy-sama Won\\'t Be Discouraged!アイドル伝説えり子Strawberry Marshmallow Prologue, Ichigo Mashimaro - S1, Ichigo Marshmallow Episode 0Hayate no Gotoku (2012), Hayate the Combat Butler! Can\\'t Take My Eyes Off YouThe Eden of Grisaia Specials, Le Eden de la Grisaia Specials劇場短編マクロスfrontier~時の迷宮~ふしぎ遊戯スペシャル 心宿しっかりしなさい！エルフを狩るモノたち IIドラゴンボールZ 復活の「F」Dosanko Gyaru Is Mega CuteDoraemon: Come Back DoraemonドッグシグナルDanbooru Senki WI Don\\'t Have Many Friends: Add-on Disc, Boku wa Tomodachi ga Sukunai: Add-on DiscBlame!: The Ancient Terminal City, Blame!: Tanmatsu Ikou ToshiHideyoshi Hideyoshi Magic SpecialB\\'tX, B\\'t X, btxA Direction of the Day After Tomorrow, Towards the Day After Tomorrowアイカツ！ミュージックアワード\\u3000みんなで賞をもらっちゃいまSHOW！They Were 11, Juuichinin Iru!Way of Choices 4th Season, Fighter of the Destiny 4th SeasonLord Xue Ying, Snow Eagle LordWakate Animator Ikusei Project, 2011 Young Animator Training Project, Anime Mirai 2011万界独尊WUG!UniteUp!ウマ娘 プリティーダービー 1st Anniversary Special AnimationUFO Princess Valkyrie - December\\'s Nocturne, UFO Princess Walküre 2ときめきメモリアル Only LoveＴｈｅかぼちゃワインTesagure! Bukatsu-mono EncoreTales of Symphonia The Animation: United World Episode SpecialsEiga Suite Pretty Cure♪: Torimodose! Kokoro ga Tsunagu Kiseki no Merodi♪, Suite Precure The Movie: Take it back! The Miraculous Melody that Connects HeartsSutoBuraEven so, Ayumu draws closer to the endgame, Even So, Ayumu Approaches, SoreayuSF Saiyuki Starzinger, Science Fiction Saiyuki Starzinger, Science Fiction Journey to the West StarzingerSenhime Zesshou SymphogearWagtailSpirit Blade Mountain: Feast of the Stardust, Congqian Youzuo LingjianshanGekijouban Pocket Monsters Diamond and Pearl: To the Conquering of Space-Time, Pokemon Diamond & Pearl: Arceus Choukoku no Jikuu e오세암大雪海のカイナ ほしのけんじゃValkyrie no Shokutaku, 戦乙女の食卓Kamui the Ninja: Stories Other Than the Legend, Kamui the NinjaMM! Group, Emu Emu!Mamoru-kun was Blessed by a Goddess!マドラックスRupan Sansei, Lupin III: Lupin vs The Human Cloneロスト・ユニバースKyoukai Senjou no HorizonKyou no Go no Ni OVA 2, Kyou no Go no Ni (2008) OVA, Today in Class 5-2 (2008) OVA, Today\\'s 5-2 - OAD - Treasure Chest, Kyo no GononiKoro Teacher Quest 2016Kodomo no Jikan: Anata ga Watashi ni Kureta Mono, Kuro-chan to Shiro-chan, Kodomo no Natsu Jikan, Nymphet, Kojika, Kodomo no Jikan Second Term Special, Kodomo no Jikan OADKodomo no Jikan: Second Term, Kodomo no Jikan OVA 3Kiddy Grade: Hanran-hen, Kiddy Grade Movie 2解雇された暗黒兵士（30代）のスローなセカンドライフKaibutsu Ohjo, Monster Princess, Princess Resurrection (OVA)Sekirei OVA, Sekirei SpecialSekai Seifuku: Bouryaku no ZvezdaZaidanhoujin Occult Designer Gakuin, Seikimatsu Occult AcademyOld Man ZRockman EXE BeastRGPriconneEiga Precure Dream Stars!オーバーマン キングゲイナーOokami to Koushinryou 2 Specials, Spice and Wolf 2 SpecialsNinkuNatsuiro Kiseki明治東亰恋伽Mazinkaizer SKL, Mazinkaiser SkullThe caterer at the Maiko ManorMahoromatic: Tadaima◇OkaeriMachine Girl wa Kizutsukanai, Kikou Shoujo wa KizutsukanaiSpirit Sword Sovereign 3rd Season鬼公子\\u3000炎魔機甲戦記ドラグナーEiga Crayon Shin-chan: Unkokusai no Yabou, Crayon Shin-chan: Unkokusai\\'s AmbitionA Dog of Flanders: My Friend Patrascheエルフを狩るモノたちEmma: A Victorian Romance - IntermissionDanbooru Senki, Cardboard War ChroniclesブルーシードAo no 6-go, Ao no Rokugou, Ao no RokugoYamishibai: Japanese Ghost StoriesWo Shi Jiang Xiao BaiViVid Strike!吸血鬼〈バンパイア〉ハンターDTo Be Hero 2Sky Girls TV, Sky Girls (2007)Shakugan no Shana-tan: Final DestructionGensomaden Saiyuki OVA, Gensomaden Saiyuki Premium, Saiyuki PremiumレンタルマギカRahXephon: Harmonic ConvergenceONI 神々山のオナリOnegai Twins OVAMetal Fight Beyblade: Explosion, Metal Fight Beyblade 2, Beyblade: Metal Fusion 2Maria+Holic, MariaHolicMarco ~Haha wo Tazunete Sanzen Ri~, Marco the Movie - 3000 Leagues in Search of Mother, From the Apennines to the Andes: The Movie, Marco Movie: Haha eo Tazunete Sanzenri牧場の少女カトリカーニヴァルKami-sama DollsKamigami no Asobi: Ludere deorum, KamiasoKaibutsu-kun 2戦国妖狐 世直し姉弟編西洋骨董洋菓子店 ~アンティーク~Ranma 1/2: Best MemoriesNichijou Specials, Everyday SpecialsNekopara OVA ExtraJoujuu Senjin!! Mushibugyou OVAMIX MEISEI STORY 2ND SEASON 〜二度目の夏、空の向こうへ〜めだかボックスMakai Ouji: Devils and RealistMaji-Kyun! RenaissanceRupan Sansei: Nusumareta Rupan, Lupin III: Stolen Lupin - Copycat Summer Butterfliesいぬかみっ! THE MOVIE 特命霊的捜査官・仮名史郎っ!Hiatari Ryoukou火の鳥・ヤマト編Firebird: Karma ChapterFate/Zero Remix I, Fate/Zero Remix IIDragon Quest: Legend of the Hero Abel, Dragon Quest - Abel Yuusha DensetsuDoraemon: Nobita Gets Lost in SpaceDoraemon: Nobita\\'s Monstrous Underwater Castle, Doraemon: Nobita\\'s Undersea FortressDanbooru Senki WarsCardcaptor Sakura: Clear Card Arc Recap, Cardcaptor Sakura: Clear Card Arc 12.5Binan Koukou Chikyuu Bouei-bu LOVE! 2nd Season, Cute High Earth Defense Club LOVE! 2nd SeasonBanG Dream!（バンドリ！）Azur Lane 4-koma: Slow Ahead!ARIA The ORIGINATION (アリア ジ・オリジネーション ピクチャードラマ)Megane-chan to 7-nin no Majo, Megane-chan to Nananin no Majo仙武帝尊, King of Martial Arts, Xianwu Dizun, Xianwu EmperorUta no☆Prince-sama♪ Maji Love 3, UtaPri 3Tottoko Hamtaro Dechu, Tottoko HamutaroMermaid Forest TV, Ningyo no Mori TV, Rumic Theater: Mermaid ForestTaiho Shichauzo Special, Taiho Shichau zo Special, You\\'re Under Arrest Episode 52SYNDUALITY Noir 第2クールSAO Alternative Gun Gale Online奏光のストレインSoltyRei Special, Solty Rei Episodee 9.5, Solty Rei OVA, Solty Rei: Opportunities Missed, Love SharedスロウスタートYuuyame結城友奈は勇者である 総集編「ひだまり」Descent into Darkness, The Darker DescendantWan Jie Xian Zong Di Si Ji, Wanjie Xianzong 4th SeasonUta no Prince-sama Maji Love 1000%, UtaPriUFO Ultramaiden Valkyrie 3, UFO Princess Walküre 3, UFO Princess Valkyrie Season 3 - Bride of the Stellar Season, UFO Princess Valkyrie: Bride of Star Spirit Seasonつるピカハゲ丸くんTokyo Ghoul Root A, Tokyo Ghoul 2nd Season, Tokyo Ghoul Second SeasonUltimate Fight第12話 スーパー仙狐さんタイムストップ！！ひばりくん！Sora o Kakeru Shoujo, Sora Kake GirlSHUFFLE! (シャッフル!)灼熱カバディSecond Season - Shogakusei wa Saiko daze!Qin\\'s Moon 4, Qin Shi Ming Yue 4: The Great WallPROMARE（プロメア）リオ編フォトンOgon Yusha Gorudoran, Golden Brave GoldranOtome wa Onee-sama ni Koi Shiteru, The Maiden is Falling in Love With the Elder Sister, The Maiden is Falling in Love With MeOshiete! Gyaruko-chanOokami Shoujo to Kuroouji, Wolf Girl & Black PrinceSeven-Colored Drops, Nanatsu-iro Drops: First Love That Encompasses You, Nanatsuiro★DropsMetal Fight Beyblade 3Mekaku City Actors, Kagerou Project本庁の刑事恋物語～結婚前夜～名探偵コナン\\u3000えくすかりばあの奇跡Gyagu Manga Biyori 3Mashiro-iro Symphony: Love Is Pure White, Mashiroiro Symphony: The Color of Lovers, Pure White SymphonyMaple Town StoriesYokai Watch Movie, Eiga Youkai Watch, Youkai Watch the Movie: The Secret of Birth, Nyan!ストライク・ザ・ブラッドⅡ新・エースをねらえ!Flower declaration of your heart 2, Lag-Rin 2PuriPuri, PriPriPoulette no Isu, Pollet no Isu, Poretto no IsuHattori the Ninja, Hattori, the Little Ninja, Ninja HattoriマーダープリンセスLupin III: An Angel\\'s Tactics - Fragments of a Dream Are the Scent of MurderLegend of Zenki, Demon Prince ZenkiI Want to Deliver Your VoiceKill Me Baby OVAKachou Ouji: Hard Rock Save the SpaceSenyuu. Episode 1.1, Senyu. SpecialsSakura Wars: The Radiant Gorgeous Blooming Cherry Blossoms, Sakura Wars OVA 2Magipoka, Renkin Sankyu Magical? Pokan, Renkin 3-kyuu Magical? PokanSong of Raiyantsuuri, Song of Liang Chu Liポケモン３Ｄアドベンチャー\\u3000ミュウを探せ！ワンピース めざせ！海賊野球王The GourmetO-Hoshisama no Rail, Ohoshi-sama no RailNiji-iro Hotaru: Eien no Natsuyasumi, Rainbow-colored Firefly: Never Ending Summer Vacation, Niji-Iro Hotaru ~Eien no Natsu Yasumi~, Rainbow-Colored Fireflies: The Eternal Summer Vacationネオアンジェリーク Abyss -Second Age-Nana Episode 11.5, Episode 21.5, and Episode 36.5, Nana Specials豆しばマギアレコード 魔法少女まどか☆マギカ外伝 2nd SEASON -覚醒前夜-Lupin III: Sweet Lost Night - Magic Lamp\\'s Nightmare PremonitionBio-Booster Armor Guyver, The Guyver, Kyoushoku Soukou Guyver, The Guyver Act II, Guyver: The Bio-boosted Armor IIKuru Neko 2nd Season刻刻KoichocoKinnikuman Nisei: Ultimate Muscle 2機動戦士ガンダムSEED 星のはざまでThe man picked up by the gods, Kamihiro, Kamitachi ni Hirowareta OtokoKaibutsu Ohjo, Monster PrincessHIGH CARD season 2Halo Anime, Halo AnimationNyarko-san: Another Crawling Chaos, Haiyoru! Nyaruko-sanGatchaman Crowds 2nd Season: Episode 0, Gatchaman Crowds Second Season: Episode 0, Gatchaman Crowds Insight: #0 InboundGANTZForward:Hamatora, Hamatora MovieFe-Renzai: Kamisama no Nichijou, Shenme Gui, 神么鬼, 非人哉Dr. Slump 2, Doctor SlumpダンスインザヴァンパイアバンドPucchimiku D4DJ Petit Mixコンクリート・レボルティオ～超人幻想～THE LAST SONGチェインクロニクル〜ヘクセイタスの閃（ひかり）〜 第２章Bleach: Jump Festa 2005アミテージ・ザ・サードRequiem Street, Rakshasa Street 2 Part 1원더풀 데이즈Toraburu, Love TroubleTight Rope, Tightrope蒼穹のファフナーDead Aggressor EXODUSZombie-Loan OVA勇者指令ダグオンYuuna of Yuragi ManorWitchcraft WorksWatashi ga Motenai no wa Dou Kangaete mo Omaera ga Warui!, It\\'s Not My Fault That I\\'m Not Popular!, WataMoteUzaki-chan Wants to Play!TERRA FORMARS [テラフォーマーズ]Musashi the Great, Grander MusashiStrike the Blood Third神墓The Two Sides of Voice Actor RadioProject Arms 2, ARMS2陰陽師茄子 アンダルシアの夏名探偵コナン 特別編 「謹賀新年 毛利小五郎」Mashin Eiyuden Wataru 2, Rainbow Fantasia 2, Keith Courage 2The Richest Man In Gameキラキラハッピー★ひらけ! ここたまKindaichi Shounen no Jikenbo (2012), Kindaichi Case Files: Black Magic Murder CaseI\\'d like to Borrow a Girlfriend, Kanokari仮面のメイドガイJewelpet Twinkle: A Rainbow of Smiles Doki Doki!, Jewelpet Twinkle Special, Jewelpet Tinkle SpecialInazuma Eleven: Reloaded - Reformation of Soccerイナズマイレブン GoHitsugi no Chaika OVAH2O ~FOOTPRINTS IN THE SAND~Academy Battle City AsteriskGakkou no Kaidan Special, Gakkou no Kaidan Ep 20, Ghost Stories Special, Ghost Stories Ep 20, Gakkou no Kaidan: Kubi Nashi Rider!! Shi no NoroiDog Days 2Croquette!, Corokke!チェインクロニクル〜ヘクセイタスの閃（ひかり）〜 第３章チェインクロニクル〜ヘクセイタスの閃（ひかり）〜 第１章Brave Witches Episode 13AshuraAru Nihon no Egaki ShounenThe Heroic Legend of Arslan,Arslan Senki (TV) OVAArea 88 (2004)Fox Spirit Matchmaker 9th Season, Little Foxspirit Matchmaker Season 9, Enmusubi no Youko-chanヒーリングっど♥プリキュアWorking ManHaruToki, Haruka 8, Haruka naru Toki no Naka de TV, Harukanaru Toki no Nakade - Hachiyosho -, In a Distant TimeG-Reco Movie 3, Gekijouban Gundam G no Reconguista 3Girls und Panzer: Akiyama Yukari\\'s Tank Course, Girls und Panzer: Akiyama Yukari\\'s Tank Corner激闘! クラッシュギアTURBOGekijouban Pocket Monsters Advanced Generation: The Visitor of the Space Fissure! Deoxys, Pokemon Movie 7My Little Sister Can\\'t Be This CuteムカムカパラダイスMonMusuMaria+Holic 2, Maria Holic 2, MariaHolic 2Maison Ikkoku: Four Seasons Through the Passing Seasons, Maison Ikkoku: Through the Passing of the SeasonsMahoromatic: Motto Utsukushii Mono - Year End, Year End Special - 12.5, Mahoromatic: Motto Utsukushii Mono - Saimatsu SpecialLove Live!: Kokuritsu Otonokizaka Gakuin AnnaiWorld of LeadaleAirborne Dragons駒田蒸留所へようこそKinnikuman Nisei: Ultimate Muscle金田一少年の事件簿 殺戮のディープブルーKidou Senshi Z Gundam Ⅱ: KoibitotachiCleanliness Boy! Aoyama-kunハイスクールD×D HERO体育館裏のホーリーShenme Gui 1st Season Part 3, Non-human 1st Season Part 3EnstarsEpic of Divinity LightDigimon Tamers: The Adventurers\\' BattleBattle Spirits Season 2青いブリンクUnhappy Go Lucky!AirmasterSekai Meisaku Gekijou, Story of Pollyanna, Girl of Love, Ai Shoujo Pollyanna MonogatariA-Channel Specials.hack//SIGNWay of Choices 5th Season, Fighter of the Destiny 5th SeasonThe Gargoyle of the Yoshinagas私がモテてどうすんだUMISEASpace Battleship Yamato: Rebirth Chapter, Space Battleship Yamato Resurrection, Space Battleship Yamato: RevivalOsamu Tezuka\\'s Buddha Movie 1: The Red Desert! It\\'s BeautifulストライクウィッチーズKoukou Hoshi Kageki 3rd Season, High School Star Musical 3rd Season, StarmuSKET Dance: Demystifying Special元龙 第二季Watashi ga Motenai no wa Dou Kangaetemo Omaera ga Warui! Episode 13, Watamote OVA, Watamote Episode 13The Case Study of Vanitas Recap, Vanitas no Karte Special Tokuban, Vanitas no Karte Recap, Vanitas no Carte RecapトライブクルクルToriko: Jump Festa 2009 SpecialTu Bian Ying Xiong Baba, 凸变英雄 BABATHE iDOLM@STER MILLION LIVE!You\\'re Under Arrest Full Throttle Episode 0スーパーナチュラル・ザ・アニメーションStrike the Blood FourthTenrouShin Koihime Musou 2nd SeasonNana 7 of 7, Nana Seven of SevenSymphogear AXZ SpecialsAngel of Massacre, Angel of SlaughterOverlord Specialsお酒は夫婦になってからI am TsushimaGekijouban Naruto Soyokazeden: Naruto to Mashin to Mitsu no Onegai Dattebayo!!, Naruto: Gentle Breeze Chronicles the Film: Naruto, the Genie, and the Three Wishes Dattebayo!!七つの大罪 聖戦の予兆Mirai Shounen Conan (1979), The Boy in Future (1979)Gyagu Manga Biyori +MahouIkuマクロス7アンコールKyuuketsu Hime Miyu, Kyuuketsuki MiyuクドわふたーKiddy Grade: Kakusei-hen, Kiddy Grade Movie 1Mysterious JokerLittle Monster, Little KaibutsuChie the BratHappinessCharge Precure!Gunslinger Girl OVA, Gunslinger Girl: Il Teatrino Episodes 14 and 15, Phantasma, Light of Venice, Darkness of the Heart, Venezia no Hikari, Kokoro no YamiGo! SaitamaThat Summer覆面系ノイズPrisma Illya 2wei! OVA, Fate/kaleid liner Prisma☆Illya 2wei! OVADoraemon: Nobita and the Dragon Riderデジモンセイバーズクラスルーム☆クライシスBlack Jack: Lost EpisodesBinchotan別冊オリンピア・キュクロスBeyblade Revolution, Beyblade GRevolutionBakuso Kyodai Let\\'s & Go, The Racing Brothersバクマン。Back Street Girls: Washira Idol Hajimemashita., GokudolsKikaider, Artificial Humanoid Kikaider, Jinzo Ningen Kikaider, Android Kikaider, Humanoid Kikaiderイナズマイレブン 超次元ドリームマッチThe Day I Cropped a Star, The Day I Harvested a Star, The Day I Harvested a PlanetGokujo Seitokaiグレイプニルfriends -フレンズ- もののけ島のナキEVANGELION:3.0(−46h)Cyborg 009 (1968)Chobits Special, Chobits: Chibits - Sumomo & Kotoko Todokeru【ブルアカ】「beautiful day dreamer」バイオハザード ヴェンデッタBaja\\'s StudioBlue Meteor SPT Layzner, Layzner, SPT Layzner, Aoki Ryusei SPT Layzner, Layzner Super Powered TracerAce o Nerae: Theatrical Version, Aim for the Ace! Movie, Aim for the Best!, Jump High Hiromi!Yuki no Jo-OhSupreme God Emperor Season 2There\\'s a Pit in My Senior Martial Brother\\'s Brain 2, Our Big Brother\\'s Mind Has A Problem 2, Wo Jia Da Shixiong Naozi You Keng 2nd SeasonWord of HonorSlime 300The Beast Tamer Who Got Kicked Out From His Party Meets a Cat Girl From the Superior RaceYu-Gi-Oh! 5D\\'s: Evolving Duel! Stardust vs. Red Daemon\\'sKay-chan no Enikki武映三千道 第二季ワールド・デストラクション ～世界撲滅の六人～うる星やつら リメンバー・マイ・ラヴアンダーニンジャ月詠 −MOON PHASE−Thermæ Romæ探偵オペラ ミルキィホームズ サマー・スペシャル探偵オペラ ミルキィホームズSSSS.Gridman Recap少女☆歌劇 レヴュー・スタァライト未放送エピソードShinpi no Sekai El-Hazard, El-Hazard: The Magnificent World (TV)新・北斗の拳Shikabane Hime: Kuro SpecialRyusei no Rockman Tribe, Shooting Star Rockman Tribe, Mega Man Shooting Star TribeRou-Kyuu-Bu! OVA, Rou-Kyu-Bu! OVA, Ro-Kyu-Bu ~ Fast Break! OVALedeu Syujeu, LedeusyujeuEiga Precure Super Stars!Pocket Monsters: Diamond & Pearl Tokubetsu-hen, Pocket Monsters: Diamond & Pearl Specials, Pokemon: Battle Dimension, Pokémon Diamond & Pearl: Battle Dimension, Pokémon Diamond, Pearl & Platinum, Pokémon: Diamond and Pearl PlatinumPIKMIN Short Movies (ピクミン\\u3000ショートムービー)Petit Seca, Puchi Seka, Project Sekai Mini Anime, Petit SekaiピーチガールOverlord OVAおねがい マイメロディ すっきり♪Neko Para OVAマシュランボーCome Together! to the Seton Academyモノクローム･ファクターモンキー ターン V舞-乙HiMEMagister Negi MagiEncore Animation 0209Ver.Kinnikuman Nisei, Kinnikuman Second Generations, Ultimate Muscle: The Kinnikuman LegacyKimi-kiss pure rouge, KimiKiss Pure Rouge SpecialShikimori\\'s Not Just a Cutie, Miss Shikimori is not just cute, That Girl Is Not Just CuteHoshi no Kirby, Kirby of the StarsGatekeepersShenme Gui 1st Season Part 2, Non-human 1st Season Part 2あんさんぶるスターズ！！追憶セレクション「クロスロード」Devils Line OVAEiga Crayon Shin-chan: Arashi wo Yobu Ougon no Spy Daisakusenバディ・コンプレックス 特別編集版「―誰も知らない明日へ―」Adventure King BeetBomberman JetterzBatman Animeアルプスの少女ハイジ (1979)Ace O Nerae! OVA 2, Aim for the Ace: Final StageGekijouban Inazuma Eleven Go vs Danball Senki WAscendance of a Bookworm Recap, Ascendance of a Bookworm Episode 26.5薄明の翼 EXPANSION ~星の祭~Hi! I\\'m Akko, Hi, This Is AkkoDoraemon: Nobita\\'s Space StoryDevil May Cry: The Animated Series, DmCWebdiverDanganronpa 3 Picture Drama, Danganronpa 3 Future Zap/Mirai Bashi~tsuD.C.S.G., Da Capo 2nd Season, Da Capo Second Graduation, Da Capo Second Story, dc2Chobits Episode 27: Hibiya and Kotoko Tell the Story, Chobits SpecialResident Evil: Degenerationバカとテストと召喚獣 ～祭～ 選択肢以降のみArifureta Shokugyou de Sekai Saikyou 2nd Season SpecialProject Alpha, Appleseed αWakate Animator Ikusei Project, 2015 Young Animator Training Project, Anime Mirai 2015A-Channel: The AnimationHitori no Shita: The Outcast 4th SeasonUchuu no Kishi Tekkaman Blade - S1 Twin BloodSpace Pirate Captain Harlock: The Mystery of Arcadia, Harlock Movie 1うちタマ?!~うちのタマ知りませんか?~スーキャットKoukou Hoshi Kageki, High School Star Musical, Starmu, Starmyu OVA (2018)Banished from the Hero\\'s Party, I Decided to Live a Quiet Life in the Countryside, I Was Kicked out of the Hero\\'s Party Because I Wasn\\'t a True Companion so I Decided to Have a Slow Life at the Frontier新みなしごハッチ瀬戸の花嫁センチメンタルジャーニーRoukinRELEASE THE SPYCEPitatenOrefuroNegima RemakeNana the Super GirlPuss-in-Boots, Puss in the Boots, The Wonderful World of Puss \\'n BootsMUNTO 時の壁を越えて逃亡者・毛利小五郎Mahou Shoujo Pretty Sammy (TV), Tenchi Muyo: Magical Project Pretty Sammyルパンは今も燃えているか？Rupan Sansei: Rupan Ansatsu Shirei, Lupin III: Orders To Assassinate LupinEureka Seven Recapこの男子、魔法がお仕事です。Kasumin 1st SeriesKaibutsu Oujo Special, Kaibutsu Oujo: Sleeping Princess, Princess Resurrection SpecialG-Force, Scientific Ninja Team Gatchaman, Kagaku Ninjatai Gatchaman, Battle of the PlanetsBou Bou, The New Adventures of Kimba the White Lion, Jungle Emperor (1989)Symphogear GX Specials桜Trick流星機ガクセイバーPorufi no Nagai Tabi, The Long Journey of Porfyi, Porfy\\'s Long Journeyおれは鉄兵マスク男子は恋したくないのにDanMachi III OVACome Home Doraemon映画 ドキドキ! プリキュア マナ結婚!!? 未来につなぐ希望のドレス大空魔竜ガイキングBROTHERHOOD FINAL FANTASY XVBeauty and the Beast, La Belle et la BêteBPSアニメーション制作進行くろみちゃん藍より青し～縁～ Miyuki91 Days Episode 13, 91 Days SpecialEighty Six Special Edition, Coquelicots Blooming Across the Battlefieldイリヤの空、UFOの夏Mister Ikkyu, The Cunning MonkHellsing DVD Special, Hellsing Teaser, Hellsing Episode 00Run Melos! (1992)グラビテーションGalaxy Angel Z: Kasure of Gunpowder & Tobacco Smoke, Galaxy Angel 2 Special, Galaxy Angel Z: Shouen to Shien no Kasure特別版 Free!-Take Your Marks- キャラクター舞台挨拶Fantastic Children Extended Ending, Fantastic Children Alternate Ending「映画 中二病でも恋がしたい！ -Take On Me-」ミニドラマ『公開直前の・・・回顧劇場』Kami Jigen Game Neptune V, Hyperdimension Neptunia VictorySuper Inventor KanipanちみもBLADE RUNNER BLACK OUT 2022Aldnoah.Zero 2nd SeasonShin 3x3 Eyes, Sazan Eyes: Seima DensetsuZOE: Dolores, I, Z.O.E Dolores, IZero no Tsukaima: Princesses no Rondo DVD Specials, Trysting Theater of Love, Trysting Ai no GekijouSaiyuukiMy Company\\'s Small Senpai, Story of a Small Senior in My CompanyA Certain Magical Index-tan SpecialsOsamu Tezuka\\'s Buddha Movie 2: Endless Trip她不当女主很多年「アリシゼーションWoU」1stクール総集編Sola OVAShinmai Maou no Testament OVA, The Testament of Sister New Devil OVA新妹魔王の契約者 DEPARTURESSERVAMP-サーヴァンプ- オリジナルビデオアニメーション「Sleepy Life of SERVAMP」世界名作童話 白鳥の湖Rockman EXE, MegaMan: NT WarriorPocket Monsters Sun & Moon, Pokémon Sun & MoonDam Keeper no Nakama-tachiお伽草子Ore no Kanojo to Osananajimi ga Shuraba SugiruMy Little Sister Can\\'t Be This Cute 2, Ore no Imouto ga Konna ni Kawaii Wake ga Nai 2Ojamajo Doremi: VHS Exclusive, Ojamajo Doremi Traffic Safety, Ojamajo Doremi Bicycle Sagety Classroom, Ojamajo Doremi Let\\'s!! Cooking, Ojamajo Doremi no Koutsuu Anzen, Ojamajo Doremi no Jidensha Anzen KyoushitsuOda Nobuna no Yabou Soshuhen波打際のむろみさんムヒョとロージーの魔法律相談事務所 2期Macross 7: The MovieThe Magician\\'s Academy, MA Project我才不是恶毒女配Lupin III: The Secret of Twilight Gemini, Rupan Sansei: Twilight Gemini no Himitsu, Lupin III Special Part 8, Lupin III: The Legend of Twilight GeminiRupan Sansei - The Last JobLupin III: The Pursuit of Harimao\\'s Treasure, Rupan Sansei: Harimao no Zaiho wo oe!!, Lupin III Special Part 7LOST SONGSpirit Sword Sovereign 2nd SeasonKyousougiga, Kyousogiga殺し愛Shao Nian Ge Xing 2nd Season Part 1, Shaonian Ge Xing 2nd Season, Great Journey of Teenagers 2nd SeasonARMSプリキュアオールスターズDX the DANCE LIVE♥ ～ミラクルダンスステージへようこそ～Persona 5 the Animation: Proof of Justice, Persona 5 the Animation: A Magical Valentine\\'s Dayおれは直角One Piece 3D: Strawhat Chase, One Piece Movie 11NightWalker: Eternal DarknessNaruto Movie Volume 3, Naruto: Gekijouban Naruto: Dai Koufun! Mikazuki-jima no Animal Panic Datte ba yo!Nanbaka SpecialDetective Conan: Zero no Tea Time, Meitantei Conan: Zero no Nichijou, Zero\\'s Daily LifeMaou Gakuin no Futekigousha: Shijou Saikyou no Maou no Shiso, Tensei shite Shison-tachi no Gakkou e Kayou 2nd Season, The Misfit of Demon King Academy 2nd SeasonLupin Sansei: Prison of the Past虚構推理競女!!!!!!!!Little Foxspirit Matchmaker Season 8, Enmusubi no Youko-chanFloral Magician Mary Bell, Hana no Mahou Tsukai Maribell, Floral Elf Mary Bell, Flower Witch MarybellGuil Cro 4-koma Gekijou, Guilty Crown 4-koma Gekijou: Girutei Kura-un, Guilty Crown SpecialsGudaguda Fairies 2, Rambling Fairies 2Hometown Rebuilding: Folktales from JapanフラクタルEndoro~!Delicious Party♡Pretty Cure MovieDeadman Wonderland OVADaimahou Touge映画クレヨンしんちゃん\\u3000襲来!! 宇宙人シリリCode Geass: Hangyaku no Lelouch SpecialsCampione!: Matsurowanu Kamigami to Kamigoroshi no Maouバトルアスリーテス大運動会アニメーション制作進行くろみちゃん 216bitセンセーション ANOTHER LAYER左手上篮The era of the world正经少主的幸福生活Way of Choices 2nd Season, Fighter of the Destiny 2nd SeasonSuper Radical Gag FamilyタイガーマスクWSumeba Miyako no Cosmos-sou Suttoko Taisen Dokkoida, Sumeba Miyako no Cosmos-sou Suttoko Taisen DokkoiderStrike the Blood Special OVAGekijouban Haikara-san ga Tooru Kouhen, Smart-san, Mademoiselle Anne, There Goes the Modern Girl, Here Comes Miss Modern, Here Comes a DandyPretty Cure All Stars GoGo Dream Live!Pokemon Housoukyoku, Shuukan Pokemon Housoukyoku, Pokemon Hoso, Pocket Monsters HousoukyokuMr. Osomatsuおしえて魔法のペンデュラム～リルリルフェアリル～にじよん あにめーしょん2NieA_7Naruto THE Movie vol.2, Naruto Movie 2, Gekijouban Narutoミヨリの森The Traveller of Many Dreams, Mimu, Miimu Iro Iro Yume no Tabi, Discoveries UnlimitedMy-HiME, My PrincessSpirit Sword SovereignLi Lin Ke De Xiao Guan ErKotetsu Shin Jeeg, Steel Jeeg (2007), Kotetsushin JeegHigh School Exciting Story: ToughKoisuru ShouwakuseiWorking with Voice!Eiga Kirakira Precure A La Mode: Paris to! Omoide no Mille-Feuille!Keroro Gunsou TV 2, Keroro Gunsou (2014)Light of the River, River\\'s Light十兵衛ちゃん2 ～シベリア柳生の逆襲～鹿の王 ユナと約束の旅Shao Nian Ge Xing少年白马醉春风SHAMAN KINGSAMURAI DEEPER KYORosario + Vampire Season 2, Rosario and Vampire Capu2Flower declaration of your heart, Lag-RinGekijouban Pocket Monsters Diamond and Pearl: Giratina and the Sky\\'s Bouquet: Shaymin, Pokemon Diamond & Pearl: Giratina to Sora no Hanataba SheimiThe Foolish Angel Dances with Demons, KanatenOccultic9, Occultic Nine노블레스2x2=Shinobuden, 2x2 Shinobuden, 2 X 2 = The Legend of Shinobu, Ninin ga Shinobuden: The Nonsense Kunoichi Fiction, Nin x Nin = ShinobudenTokusou Sensha-tai Dominion, Tokusou Senshatai Dominionねらわれた学園Mudadumo Naki Kaikaku, Mudatsumo, Reform without Wasted Drawsメタルファイト ベイブレードGekijouban Mazinger Z: InfinityLupin III: The Hemingway Paper Mystery, Rupan Sansei: Hemmingway Paper no Nazo, Lupin III: Mystery of the Hemingway PapersLove Live! Sunshine!! TV Anime 2 Ki Housou Chokuzen Tokuban: Watashitachi, Kagayakitai!!, Love Live! Sunshine!! Pre-Season 2 Special: We Want to Shine!!Kyoukai no Kanata: Mini Theater, Kyoukai no Kanata Specials, Kyokai no Kanata Specials, Beyond the Boundary SpecialsKimi ga Nozomu Eien OVA, Kimi ga Nozomu Eien: Haruka Route, The Eternity You Wish For OVAClockwork Fighters: Hiwou\\'s Wari, Hiwou\\'s Windup Dolls Military CommentariesKaminomi: Flag 0Sherlock of Kabukicho, Kabukicho Sherlockジュエルペットきら☆デコッ!邪神ちゃんドロップキック【世紀末編】Rumic World, Sunday CM Theater, Shonen Sunday Special Opening, It\\'s a Rumic World: 50th Anniversary Weekly★Shounen Sundayイナズマイレブン オリオンの刻印Chibi☆Devil! Chibi Devi!Cat Shit One: The Animated Series, Apocalypse MeowCardfight!! Vanguard: overDress Season 3, Cardfight!! Vanguard: Over DressShort PeaceAsura KurainArite Hime, The Adventure of Princess Arete, Arete-himeYu-Gi-Oh! The Movie, YuGiOh, Yuu Gi Ou, Yuugiou, Yu-Gi-Oh! (1999)Gekijouban Youjo Senki Manner Eizouわかば＊ガールNew Tetsujin 28-go, Tetsujin 28-go (1980), Tetsujin 28-go TV 2, New Gigantor, New Iron Man No.28, Tetsujin 28: Follower of the SunSonic OVAShinigami no Ballad.: Momo the Girl God of Death, Shinigami\\'s BalladZhen Hun Jie 2, Requiem Street 2Yumekui MerryYugioh, Yu-Gi-Oh! Zexal 2nd, Yuu Gi Ou! Zexal Second, Yuu Gi Ou! Zexal II, Yu-Gi-Oh! Zexal SecondThe Hero\\'s Return, Yingxiong? Wo Zao Jiu Bu Dang Le, 英雄？我早就不当了Wakaba*Girl Special, Wakaba*Girl Episode 14Vexille: 2077 Nippon Sakoku, Vexille: 2077 Japan National IsolationVanitas no Karte Episode 12.5, Vanitas no Karte Recap, Memoir of Vanitas Recap, Vanitas no Shuki RecapTsukiani.Strike the Blood Fifth, Strike the Blood V神魂合体ゴーダンナー!! SECOND SEASONSymphogear XV SpecialsFuture Hero Next Generation Outlaw Star PilotShagaihi ReLIFE Kenkyuusho Support-ka, ReLIFE Kanketsu-hen Special Smartphone Anime, Confidential Relife Institute Support DepartmentPunchlinePuriSutoGekijouban Pocket Monsters: Serebii Toki wo Koeta Deai, Celebi: A Timeless Encounter, Pokémon Movie 4, Celebi: Voice of the ForestPersona 5 the Animation (2018), Persona 5 the Animation: Stars and Ours, Persona 5 the Animation: Dark Sun...Witch Girl Meg, Witch Girl Megu, Majokko Meg-chan, Little Meg the Witch GirlMahoromatic Episode 10.5, Mahoromatic Recap, Mahoromatic Special, Mahoromatic: Nenmatsu Specialマジック・ツリーハウス鉄のラインバレルKoi Suru Tenshi Angelique, Angelique (2007), Beloved Angel Angelique: Radiant Tomorrow, Koi Suru Tenshi Angelique: Kagayaki no Asuキテレツ大百科KING OF PRISM -PRIDE the HERO-KEY THE METAL IDOLCuckoo\\'s FianceeJintian Wo Kaishi Zuo Mingxing, Start to be a star today, Super StarHeatGuy J: Captive - Angel, Habitat Ground Jewdo Special, Heat Guy Jay Special, HeatGuy-J SpecialLord of Lords Adeu\\'s Legend OVA, Haou Daikei Ryuu Knight: Adeu Legend墓場鬼太郎Folktales, Fairy Talesグリザイア：ファントムトリガー THE ANIMATION スターゲイザーグリザイア：ファントムトリガー THE ANIMATIONLe Fruit de la Grisaia Specials, The Fruit of Grisaia Specials幻日のヨハネ -SUNSHINE in the MIRROR-Ibara no OhDoraemon: Nobita no Nejimaki Toshi Boukenki, Doraemon: Nobita\\'s Adventure in Clockwork CityDominion Tank PoliceDog Days 3He Is an Ultimate TeacherD.C.II ～ダ・カーポII～クラッシャージョウCrayon Shin-chan: Burst Serving! Kung Fu Boys - Ramen RebellionEiga Crayon Shin-chan: Chou Arashi wo Yobu Kinpoko no Yuusha, Crayon Shin-chan: The Storm Called: The Hero of KinpokoCho Denji Robo Combattler V, Choudenji Robo Combattler V, Chou Denji Robo Com Battler V, Super Electromagnetic Robo Combattler V, Ultra Electromagnetic Robot Combattler VPoor Sisters StoryA Channel +Smile Extra OVA, Alexandrite In The Pot.hack//Roots真武巅峰Absolute Boy, Zettai ShonenYomigaeru Sora: Rescue Wings Special, Yomigaeru Sora: Rescue Wings OVA, Yomigaeru Sora: Rescue Wings Episode 13 - A Last JobYama no Susume 2nd Season Episode 6.5 and Episode 25, Encouragement of Climb 2nd Season, Yama no Susume 2nd Season Specials王者荣耀：荣耀之章Vinland Saga Season 2 Episode 18.5Vampire KishiI Was Reincarnated as the 7th Prince, so I Will Perfect My Magic as I PleaseスイッチスプリガンソウルイーターレイトショーWay of Choices 3rd Season, Fighter of the Destiny 3rd SeasonイエスタデイをうたってウサビッチFinal Yamato, Uchu Senkan Yamato Kanketsu HenUchi no Maid ga Uzasugiru! OVAうちのメイドがウザすぎる！Heaven and Earth, Tenjo TengeSword Art Online: Alicization Recap, Sword Art Online: Alicization - War of Underworld Episode 0Koukou Hoshi Kageki, High School Star Musical, StarmuOld-Lady Spoon, Spoon Oba-sanSoko Kihei Votoms: Koei FutatabiCelestial Method: A Girl\\'s Day OffSmile Pretty Cure!New Tenchi MuyoSenhime Zesshou Symphogear Gs-CRY-ed Alteration I: Tao, Scryed Alteration I: TaoPopolocrois Monogatari - Hajimari no BoukenNaka no Hito Genome [Jikkyouchuu]Princess of the BibliophileMoshi Koukou Yakyuu no Joshi Manager ga Drucker no Management wo Yondara, What If a Female Manager of a High School Baseball Team Read Drucker\\'s, Drucker in the Dug-OutまっさらGhost in the Shell: Stand Alone Complex - Solid State Society - Uchikoma na Hibi, Koukaku Kidoutai Stand Alone Complex: Solid State Society - Uchikoma na Hibi, GitS SAC SSS - Uchikoma na Hibi, GitS: SAC 3 - Uchikoma na Hibiコミックスカバー裏コメントThe Peerless Proud Twins, Twin Heroes, Handsome Siblingsジュエルペット サンシャインIWGPIblard TimeInventor Boy Kanipan, Gadget Boy KanipanGREAT PRETENDER razbliutoジェネレイターガウルTimeless Medley - Kizuna: Photo Session独步万古Serohiki no Goshu, Gorsch the CellistBomberman Bedaman Bakugaiden, Bomberman Bidaman Bakugaiden, Bomber Man & Marbleman\\'s Explosive Side StoryBLOOD THE LAST VAMPIRE (ブラッド ザ ラスト ヴァンパイア)The Little Mermaidあまつきアガサ・クリスティーの名探偵ポワロとマープルItsuka Tenma no Kuro Usagi OVA, Itsuka Tenma no Kuro Usagi Episode 13, Itsuka Tenma no Kuro-Usagi OVA, A Dark Rabbit has Seven Lives OVA, Itsuten, Itsu-tenRain in the SunshineAkko\\'s Secret, The Magic MirrorHigh School Mystery: School of Seven Mysteries, High School Mystery: School of Seven Wondersギルティクラウン ロストクリスマス an episode of port townGlass no Kamen OVAGirls und Panzer: Akiyama Yukari\\'s Tank Course, Girls und Panzer: Akiyama Yukari\\'s Tank Corner, Girls und Panzer: This is the true battle of Anzio! Italy Sensha-henGensou Maden Saiyuuki: Kibou no Zaika, Gensoumaden Saiyuuki OVALocodol Special, Futsuu no Joshikousei ga [Locodol] Yattemita. Special, Futsuu no Joshikousei ga [Locodol] Yattemita. Episode 13Futsuu no Joshikousei ga [Local Idol] Yattemita., Futsuu no Joshikousei ga [Rokodoru] Yattemita.Fate/kaleid liner プリズマ☆イリヤ ツヴァイ ヘルツ！ショートアニメ劇場版Fate/Grand Order -神聖円卓領域キャメロット- Wandering; Agateram82お正月だよ！ドラえもん・怪物くん・忍者ハットリくんEiga Crayon Shin-chan: Mononoke Ninja Chinfuuden映画クレヨンしんちゃん 新婚旅行ハリケーン ~失われたひろし~Chuubyou Gekihatsu Boy Episode 12, Outburst Dreamer Boys Episode 12, Chuubyou Gekihatsu Boy Special武装少女マキャヴェリズムBLASSREITER -genetic-アズールレーン Queen\\'s Ordersアニマエール！Oh! My Goddess: Being Small is Convenient, Ah! My Goddess!: Chichaitte Koto wa Benri da ne夢が覚めるまでXi Xing Ji 2nd Season, Journey to the West, Westbound, Westbound DisciplineWo Shi Jiang Xiaobai: Shijie Shang de Ling Yige WoTen Thousand Worlds 2nd SeasonCharlotte of the Young Grass, Charlotte the Young ShootVandread Intense Fighting Volume, Vandread TurbulenceUta Kata Special OVA, Uta∽Kata, Shotou no Futanatsu, Twin Summers of the First WinterUtapri Special TV, Uta no Prince-sama Maji Love Starish: Tabi no Hajimari, Uta no Prince-sama Maji Love ST☆RISH Tours: The Journey BeginToaru Majutsu no Index-tan II Specials, A Certain Magical Index-tan IITesagure! Bukatsu-mono Spin-off Purupurun Sharumu to Asobouすもももももも ～地上最強のヨメ～Armored Trooper Votoms: The Defrost, Armored Trooper Votoms: The Heretic Saint, The Brilliant Heretic, Armored Trooper Votoms: Shining Heresy, Armored Trooper Votoms - Kakueki taru ItanSERVAMP（サーヴァンプ）SamumencoセイントオクトーバーラディアンQín Shí Míng Yuè 3, The Legend of Swordsman 3, Qin\\'s Moon 3, Qin Shi Ming Yue 3: Hundred Schools of ThoughtMusaigen no Phantom World画江湖之风语咒, Hua Jianghu Zhi Feng Yu Zhou, A Portrait of Jianghu: The Wind GuardiansDual! Parallel Trouble Adventures Special, Dual Parallel! Trouble Adventures - Final Frontier, Dual! Parallel Lunlun Monogatari SpecialDream-Fes! REiga Crayon Shin-chan: Otakebe! Kasukabe Yasei Oukoku, Crayon Shin-chan: Roar! Kasukabe Animal KingdomCLAMP学園探偵団劇場版シティーハンター 天使の涙 (エンジェルダスト)Ponoc Tanpen Gekijou, Ponoc Short Films TheatreB型H系Anime Hachijuunichikan Sekai Isshuu, Around the World in Eighty DaysIS〈インフィニット・ストラトス〉2\\u3000ワールド・パージ編Hyakujuu Ou Golion, Hundred-Beast King Go Lion, Lion Force Voltron, Voltran, Voltron (U.S.)秘密のはなの庭ヘタリア World★StarsGokukoku no BrynhildrBryger, J9, Cosmo Runner, Galaxy Whirlwind BraigerGenji Monogatari Sennenki Genji, The Tale of GenjiFutakoi 2Fate/Grand Order: Zettai Majuu Sensen Babylonia SoushuuhenドラゴンハーフDog Days大図書館の羊飼いちいかわカードファイト!! ヴァンガード DivineZ残次品·放逐星空Anhe Zhuan, Legend Of Assassin, Tales of The Killers Organization Called Dark River, Shao Nian Ge Xing Wai Chuan: An He Chuan, Shaonian Gexing Wai Chuan: Anhe Chuan, An He Chuan, 少年歌行外传, 暗河传3D GirlfriendBungaku Shoujo OVA, Book Girl OVA, Literature Girl OVAZOE: IdoloEiga Youkai Watch: Shadow Side - Oni Ou no FukkatsuXiaolu He Xiaolan, Green and Blue, 小绿和小蓝 魔王篇, Xiao Lu He Xiao Lan: Mo Wang PianThe Star of CottonlandSmiling SalesmanUFO Princess Walküre 4, UFO Princess Walküre: Toki to Yume to Ginga no Utage, UFO Princess Warukyure: Toki to Yume to Ginga no UtageToaru Kagaku no Railgun MMR, Motto Marutto Railgun Specials, A Certain Scientific Railgun SpecialsToHeart2 OVATenpouibun Ayakashiayashi, Strange Story of Tempou Era: Ayakashiayashiテニスの王子様Sukitte Ii na yo. Specials, Suki-tte Ii na yo. Specials, Sukinayo Specialsステラのまほうそれいけ!アンパンマン 夢猫の国のニャニイShowa Monogatari TV, TV Manga Shouwa MonogatariShi Yi Chang An: Ming Yue Ji Shi YouYang Yao The Spirit Catcher戦国BASARA Judge EndSasaki to P-chanGekijouban Soushuuhen Overlord Manner Movie, Overlord Theater MannersOne Piece: Chinjou Shima no Chopper OukokuWhy the hell are you here, Teacher!?, Nande Koko ni Sensei ga!? SpecialMitchiriNeko, Micchiri NekoDetective Conan: Hannin no Hanzawa-san, Detective Conan: Hanzawa the CriminalGhost in the Shell: Stand Alone Complex 2045 2nd Season, Koukaku Kidoutai: SAC_2045 2nd SeasonKodomo no Jikan: Rin\\'s Classroom Diary (Special Compilation), Kodomo no Jikan: Rin no Gakkyuu Nisshi (Tokubetsu-hen), OVA 2キミとボクThe Song of the Wind and the Trees, Kaze To Ki No Uta: Sei Ni Naru Ka Na, KazeKi重戦機エルガイム十方武圣Shakugan no Shana-tan G, Shakugan no Shana-tan Dos, Shakugan no Shana-tan Tri, Shakugan no Shana-tan FrontierSakura Taisen TVSaint Seiya: Movie 2Paladin of the End, Ultimate PaladinRenkin San-kyuu Magical? Pokaan OVA, Magipoka, Renkin Sankyu Magical? Pokan, Renkin 3-kyuu Magical? PokanReikenzan: Hoshikuzu-tachi no Utage 2nd SeasonRayearth OVA, Magic Knight Rayearth OVARanma 1/2: Tendou-ke no Oyobidenai Yatsura!, Ranma 1/2 Nabiki Special怎么办! 我穿越成了最弱小野怪, Zenmeban! Wo Chuanyue Cheng Le Zui Ruoxiao Ye Guai, What Do I Do?! I Have Transmigrated Into the Weakest Little MonsterプロジェクトＡ子プリンセス・プリンシパル Crown Handler BUSY EASY MONEYGekijouban Pocket Monsters Diamond and Pearl: Phantom Ruler Zoroark, Pokemon Diamond & Pearl: Genei no Hasha ZoroarkParadox Live THE ANIMATIONパン種とタマゴ姫Hamefura OVA, I Reincarnated into an Otome Game as a Villainess With Only Destruction Flags…, Destruction Flag OtomeNekomonogatari Black: Tsubasa Family Recap, Bakemonogatari Digest MovieGekijouban Naruto: Dai Katsugeki! Yuki Hime Ninpouchou Datte ba yo! - S1 Konoha Annual Sports Festival, Konoha no Sato no Daiun DoukaiChoujikuu Yousai Macross - Flash Back 2012, Super Dimensional Fortress Macross Flash Back 2012ラブライブ! School idol project OVAKyou no Go no Ni Special, Kyou no Go no Ni Tokuten, Kyou no Go no Ni Special Class: Water Splash, Kyou no Go no Ni Extra lesson: Water Splash, Today in Class 5-2 SpecialBlack TombKowarekake no Orgol Extra, Half-Broken Music Box Extra episode恋旅～True Tours Nanto～Baby, Please Kill Me.Katteni KaizouKasumin 2nd SeriesKaraoke Fighter Mike-tarou, Karaoke Senshi Mike Jirou, Karaoke Fighter Jiro MikeKami-sama no Inai Nichiyoubi Special, Kamisama no Inai Nichiyoubi Special, The Sunday Without God Episode 13, Kami-Nai Episode 13IS: Infinite Stratos 2 Long Vacation Edition - The Memories of One Summer아이언 키드Inari, Konkon, Koi Iroha. Episode 11Prince of After School, Prince of Afterschool, The Prince of Tennis Tribute, Houkago no Ouji-samaほとり～たださいわいを希うHells Angels, Hell\\'s AngelsGiri-giri Warukunai WatameDie KickersギャラクシーエンジェルSFortune Arterial: Akai Yakusoku OVATasuke, the Samurai Cop, Edokko Boi Gatten Tasuke, Edokko Boy: Gatten TaroDanMachi Recap, Dungeon ni Deai wo Motomeru no wa Machigatteiru Darou ka II Episode 0Fate/stay night Recap, Fate/stay night OVABoku no Hero Academia HLA, Heroes League Baseball, Boku no Hero Academia: Warae! Jigoku no You ni美男高校地球防衛部LOVE!Akkun and His GirlfriendZOMBIE-LOAN ゾンビローン一人之下 THE OUTCASTWeiss Kreuz OVA, Weiss Kreuz: Verbrechen und Strafe, White Cross언빌리버블 스페이스 러브刀剣乱舞-花丸-Touch: Crossroad - Kaze no YukueToaru Majutsu no Index 3, Toaru Majutsu no Kinsho Mokuroku 3Omakebachi, Tegami Bachi Reverse Specials, Ura TegamibachiSoreike! Anpanman, Go! Anpanman, Anpanman TVリラックマと遊園地Pretty Rhythm: Aurora Dream SpecialsMighty Cat Masked Niyanderにじよんあにめーしょん無限の住人マスターモスキートン\\'99Lalabel the Magic Girl, LalabelleKurokami Special, Kurokami OVAKoi Suru Tenshi Angelique, Angelique: When the Heart Awakens, Angelique (2006)こばと。 はじめてのこばと。Kimi no Iru MachiKeroro Gunso Episode 0カワイスギクライシスKankoreJyuushin Enbu, Jushin EnbuShin Angyou Onshi, Shin Amen Osa, Shin Angyou Onsi, Phantom Master: Dark Hero from the Ruined Empire閃光のナイトレイドりゅうおうのおしごと！クィーン・エメラルダスPocket Monsters Crystal: Raikou - Legend of Thunderオーバーロード\\u3000ぷれぷれぷれあです2Protective Charm Himari, OmaHimaNaka no Hito Genome [Jikkyouchuu] OVA, The Ones Within OVAMokke - ToorikazeSlave of the Magic Capital\\'s Elite Troops, MabotaiまじもじるるもMaison Ikkoku: Deserted Island, Maison Ikkoku Bangai-hen: Ikkokujima Nanpa Shimatsu Ki, Maison Ikkoku: Ikkoku-tou Nanpa Shimatsu kiMacross 7 DynamiteKoichoco, Love, Elections & Chocolate Special, Koi to Senkyo to Chocolate Episode 13Kiddy Grade 2Kekkai Sensen 10.5Jitsuwata, The Truth Is I Am..., I am...Napping Princess: The Story of the Unknown Me, Ancien and the Magic Tablet破壊魔定光Ginga Tansa Nisenhyakunen: Border Planet, 24 Hour TV SpecialsDRAGONBALL オッス!帰ってきた孫悟空と仲間たち!ドラゴンボールZ 極限バトル!!三大超サイヤ人Digimon Frontier: Kodai Digimon Fukkatsu!!, Digimon Frontier: Revival of the Ancient DigimonデビルズラインDS2A, Shin Megami Tensei: Devil Survivor 2Dagashikashi 2Dalisi Rizhi, The Journal of Dali TempleCOBRA THE ANIMATION タイム・ドライブCobra the Space Pirate, Space Adventure Cobra OVA, Cobra The Animation: The PsychogunExtraterrestrial Boys and GirlsCaptain Tsubasa MOVIE (1986 Summer), Captain Tsubasa Movie 4, Captain Tsubasa Movie 03: The great world competition! The Junior World CupCaptain Tsubasa: Europa Daikessen, Captain Tsubasa: Soccer Boys Europe Finals, Captain Tsubasa: Europe Dai Kessen, Captain Tsubasa Movie (1985 Summer), Captain Tsubasa Movie 1ベイブレードエックスAzur Lane: Bisoku Zenshin Special, Azur Lane: Bisoku Zenshin Episode 13, Azur Lane: Bisoku Zenshin Supplementary EpisodeKiss Me, Licia, Ai Shite Knight, Love Me Night, Love in Rock\\'n Roll, Lucile, Aishite NightZi Chuan, Zichuan幽☆遊☆白書: オープニング エンディング大百科Hitori no Shita: The Outcast 3rd Season, Yi Ren Zhi Xia 3rd Season, Under One Person 3rd SeasonヤマノススメYakunara Mug Cup mo 2nd Season, Let\\'s Make a Mug Too: Second KilnI Am A Great God 2nd SeasonToaru Kagaku no Railgun MMR V,Toaru Kagaku no Railgun MMR VI,ザ・ファブル劇場版 ソードアート・オンライン -オーディナル・スケール- おふらいんゼットマン有兽焉Xing Wu Shen Jue, Star Martial God TechniqueThe Rose of Versailles: I\\'ll Love You As Long As I Live, Versailles no Bara: Seimei Aru Kagiri Aishite, Rose of Versailles MovieToHeart 2: Another Days, To Heart 2: Another Days, ToHeart2adSumomomo Momomo: The World\\'s Strongest Bride蒼穹のファフナー Dead Aggressor BEHIND THE LINESHIROBAKO 劇中劇アニメーションPokemon 4D: Pikachu no Kaiyou AdventureOverlord Movie Specials, Overlord: Ple Ple Pleiades Theatrical VersionMoo no Hakugeiモンタナ・ジョーンズThe Abandoned House by the CapeThe Kotobuki Squadron in the WildernessChi\\'s Sweet Home (2016)かなめも格闘美神 武龍[ウーロン] REBIRTH地獄先生ぬ～べ～\\u3000午前0時ぬ～べ～死す！！Jewel PetThe Otherworldly Demon King and the Summoner Girls\\' Slave Magicいちご１００％\\u3000オリジナルDVDアニメーションHibike! Euphonium SpecialsThe Badminton play of Ayano Hanesaki!I\\'ll Be Number 1!Kamen no Maid Guy OVAHypmic 2nd Season, Hypnosis Mic: Division Rap Battle - Rhyme Anima 2nd Season, Hypmic +, Hypnosis Mic: Division Rap Battle - Rhyme Anima PlusG-Reco Movie 2, Gekijouban Gundam G no Reconguista 2, Gundam: G no Reconguista Movie 2 - Bellri AdvancesG-Reco Movie 1, Gekijouban Gundam G no Reconguista 1, Gundam: G no Reconguista Movie 1 - Go! Core Fighter銀魂オンシアター2D バラガキ篇Precure Movie, Eiga Futari wa Pretty Cure: Max HeartFushigi Yuugi OVA 3Fumetsu no Anata e Recap, To You, the Immortal Recap, To Your Eternity RecapFantascope Tylostomaドラゴンクエスト\\u3000ユア・ストーリーThe Family Circumstances of the Mismatched WitchesChroNoiR Episode.0Buzzer Beater (2007), Buzzer Beater Part 2第502統合戦闘航空団 ブレイブウィッチーズMe and Roboco, Roboco and I劇場版BEM 〜BECOME HUMAN〜Bakuso Kyodai Let\\'s & Go!! MAX, Bakusou Kyoudai Lets & Go Max, Bakusou Kyoudai Let\\'s & Go!! MAXアタッカーＹＯＵ！Armitage: Dual-Matrix, Amiteeji the Third Gekijouban, Armitage III: Dual MatrixCupid\\'s Chocolates, Aishen Qiaokeli JinxingshiI\\'m standing on 1,000,000 lives. Season 2Yāoguài MíngdānUFO Ultramaiden Valkyrie OVA Special: Bridal Training, UFO Princess Walkyure, UFO Princess Walküre, Bride Training Boot CampRibon Festa 2014, Ribbon Festa 2014, Tsubasa and Hotaru特『刀剣乱舞-花丸-』～雪月華～とある科学の超電磁砲S 大事なことはぜんぶ銭湯に教わった太陽の黙示録 A Spirit of the SunSYNDUALITY Noir新妹魔王の契約者 BURSTYu-sibu, Yusibu, Yuushibu小魔头暴露啦 2Don\\'t Play by Rules, I Determine My Own DestinyWanjie Xianzong 5th SeasonTobidasu PriPara: Minna de Mezase! Idol☆Grand Prix, Puri Para, Pri Para, PuriPara, Prism ParadiseTennis no Ouji-sama: S1, Prince of Tennis: New Year\\'s SpecialTaimadou Gakuen Sanjuugo Shiken ShoutaiSword Art Online: Alicization Episode 18.5, Sword Art Online: Alicization Recapストラトス・フォー アドヴァンス 完結編ストレイト・ジャケットSilent Moebius, Silent MobiusTsukihime - Lunar Legend, Lunar Legend Moon Princess, Moon Princess, True Lunar Chronicle Tsukihime, Lunar LegendsSakamoto desu ga? OVA, Haven\\'t You Heard? I\\'m Sakamoto Episode 13, Haven\\'t You Heard? I was Sakamoto, Sakamoto Desu ga? SpecialRecorder and Backpack Re, Recorder and Satchel Re, Recorder and Randsell Re, Recorder and Ransel Re, Recorder to Randsell Re, Recorder to Ransel RePocket Monsters: Pikachu no Natsuyasumi, Pikachu Short 1オーバーロード\\u3000ぷれぷれぷれあです3Ookami Shoujo to Kuroouji Soushuuhen, Wolf Girl & Black Prince Recap, Wolf Girl and Black Prince RecapOnegai☆Twinsおジャ魔女どれみ ほのぼの劇場Nitian Xieshen, Against the Gods Dynamic Comics Season 1, 逆天邪神 动态漫画 第1季, 逆天邪神轻动画, Against the Gods Dynamic ComicLupin Sansei (2019)Rupan Sansei: Bye Bye Liberty - Kiki Ippatsu!, Lupin III: Bye Bye Liberty CrisisL.O.R.D: Legend of Ravaging Dynasties 2 - Coldblood Feast, Jue Ji 2: Lengxue Kuang YanKissxsis金装のヴェルメイユ ～崖っぷち魔術師は最強の厄災と魔法世界を突き進む～Kingdom Hearts Unchained Key Backcover, Kingdom Hearts Unchained X BackcoverKidou Senshi Victory GundamOne Week Friends Recap, Isshuukan Friends. RecapOne Week Friends Specialsイナズマイレブン アウターコードIdolish Seven Recap, IDOLiSH7 Tokubetsu Bangumi: Kimi to Furikaeranai to!Ichigo 100%: Jump Festa 2004 Specialいちご100%HypmicFox Spirit Matchmaker 10th Season, Little Foxspirit Matchmaker Season 10, Enmusubi no Youko-chan火鳳燎原Hoshizora e Kakaru Hashi OVA, A Bridge to the Starry Skies OVAMirage of Blaze OVAヒーローマンGrappler Baki: The Ultimate Fighter, Baki the Grappler: The Ultimate FighterBangai-hen, Event Shutchou-hen, Girls und Panzer Heartful Tank Disk: Fushou Akiyama Yukari no Sensha Kouzaガーリッシュ ナンバーGudaguda Fairies, Rambling FairiesPrisma Illya 2wei!: First Bra - Illya-hen, Prisma☆Illya 2nd Season: First Bra - Illya-hen, Fate/kaleid liner Prisma☆Illya 2wei!: First Bra - Illya-henEngage KissOne Step Toward FreedomDOUBLE DECKER! ダグ＆キリルDiGi CharatKimetsu Academy: Kimetsu no Utage Special Edition, Kimetsu Gakuen Monogatari: Demon\\'s Banquet Special ArcTransformers Legend of MicronTimpuiChihayafuru 3 Episode 15.5, Chihayafuru 3: RecapCaptain Tsubasa - Holland Youth, Captain Tsubasa Holland youth team, Captain Tsubasa: European Challenge, Captain Tsubasa Movie 05: Saikyu no Tenki! Hollanda Youth忘却バッテリーBRS (TV)美男高校地球防衛部LOVE! LOVE! LOVE!アトム ザ・ビギニングLegend of the Angel of Love - Wedding PeachACCA: 13-Territory Inspection Dept., ACCA: 13th Territory Inspection Department, ACCA: 13th Ward Observation Department, ACCA Jusanku KansatsukaIS: Infinite Stratos Encore - Koi ni Kogareru SextetI\\'\\'s OVA, Aizu Pure, I\"s PureGedo Senki, Tales of Ged, Ged\\'s War ChroniclesGalaxy Angel: Fallen Angel Dark Space Chazuke, Galaxy Angel: Five Sukiyaki Lunch BoxesHagane no Renkinjutsushi: Milos no Seinaru Hoshi PV, FMA Movie 2 PVドラゴンボール 摩訶不思議大冒険Frog With Guts!, Dokonjo Gaeru, The Gutsy FrogEiga Crayon Shin-chan: Arashi wo Yobu Utau Ketsu dake Bakudan!, Crayon Shin-chan: The Storm Called: The Singing Buttocks Bombコードギアス 反逆のルルーシュ キセキの誕生日[バースデー]Zuo Ri Qing KongI Have Refined Qi For 3000 Years!, Lianqi Lianle 3000 Nian狂気山脈 ネイキッド・ピークWakate Animator Ikusei Project, 2014 Young Animator Training Project, Anime Mirai 2014, Kuro no Sumika: ChronusKoukou Butouden Crows 2Jigoku Sensei NubeI\\'m Doing My Best to Make Myself at Home in Another World, Mofunadeイノセント・ヴィーナスIjigen no Sekai El HazardひなこのーとゴールFH (フィールド・ハンター)Getta Robo, Space RobotShenme Gui 1st Season Part 4, Non-human 1st Season Part 4Ask Dr. RinDearS: A Ball Of Gold, DearS Specialディア・ボーイズEiga Crayon Shin-chan: Densetsu wo Yobu Odore! Amigo!, Crayon Shin-chan: The Legend Called: Dance! Amigo!クレヨンしんちゃん外伝 家族連れ狼Earth Maiden Arjuna, Earth Girl ArjunaGekijouban Cardfight!! Vanguard: Neon MessiahS-Rank MusumeBattle Spirits (2019)Cat Girl Nuku Nuku, Catgirl Nuku Nuku OVA, Bannou Bunka Nekomusume, Super Cat Girl Nuku Nuku, Nuku NukuBakuretsu TenshiHoshi no Ojisama Petit Prince, The Little Prince, Le Petit Prince, The Prince of the Stars: Le Petit Prince光と水のダフネHidan no AriaFirebird 2772: Cosmos Zone of Love, Phoenix 2772, Space Firebird 2772, Phoenix 2772 - Space Firebird, Hinotori MOVIE, Hinotori 2772 Ai no Cosmo Zone, Space FirebirdGolgo 13: The ProfessionalフリージングTimeless Medley - Yakusoku: Photo SessionEto TamashiiTHE IDOLM@STER CINDERELLA GIRLS 10th Anniversary Celebration Animation ETERNITY MEMORIESEro Manga Sensei: Imouto to Akazu no Ma OVADragonaut: The Resonance OVA, Dragonaut: The Resonance SpecialドラゴンボールZ 激突!!100億パワーの戦士たちぷにえの里帰りCUE!Eiga Crayon Shin-chan: Arashi wo Yobu! Ora to Uchuu no PrincessEiga Crayon Shin-chan: Bakuhatsu! Onsen Wakuwaku Daikessen, Crayon Shin-chan: Explosion! The Hot Spring\\'s Feel Good Final Battle/Kureshin Paradise! Made in SaitamaLe Portrait de Petite CossetteChisana Kyoujin Mikuroman, The Small Giant Microman, Microman MagnePowersChibichiara: Nagai Go Sekai, Chibi WorldCardfight!! Vanguard: Asia Circuit ChapterBusou Shoujo Machiavellianism Episode 13BEATLESS Final StageSousaku no, Ima!!: BajaAi to Yuki no Piggu Garu Tonde Burin, Boorin, Super Boink, Tonde Buurin - Pig Girl of Love and Courage30th GUNDAM PERFECT MISSIONNanabun no Nijyuuni, Nanabun no NijuuniYu Yu Hakusho Movie 1, Yuu Yuu Hakusho (1993), YuYu Hakusho: The Golden SealYozakura Shijuusou, Quartet of Cherry Blossoms in the NightEverlasting Immortal FirmamentUFO Princess WalkyureTitania, TaitaniaSword User Shrine Maiden, The Shrine Maiden SwordwieldersThe Doraemons: Kaitou Dorapin Nazo no Chousenjou!Tari Tari Special, Tari Tari: Being Cloudy, Shining, Singing Again Someday「ソードアート・オンライン -フルダイブ-」オープニング映像Super Robot Wars OG: Divine Wars, SRWOGストラトス・フォー神曲奏界ポリフォニカShin Koihime Musou: Otome Ryouran Sangokushi Engi神武天尊Dolls\\' Frontline 2, Shao Nu Qian Xian 2, Dollfro: Iyashi-hen 2, Dollfro: Kyouran-hen 2Saint Seiya: The Battle with Eris, Saint Seiya: Movie 1, Saint Seiya: The Legend of the Golden Apples-CRY-ed Alteration II: Quan, Scryed Alteration II: QuanPupipoo!PriPara Movie: Minna Atsumare! Prism☆Tours, Puri Para, Pri Para, PuriPara, Prism Paradiseノーゲーム・ノーライフ ゼロ マナー映像ネオアンジェリーク Abyss長靴をはいた猫 80日間世界一周モンスターファームSekai Meisaku Gekijou, Famous Dog Lassie, Great Dog Lassie, Lassie Come-HomeMayonaka no Occult Koumuin OVAMacross 7 Special, Macross 7 P*L*U*SラムネLightspeed ElectroGod Albegas, Voltron II, Voltron of the Middle Universe, Light-Speed Electro-God Albegusここはグリーン・ウッドApo Mekhanes Theos Gigantic Formula, Mechanical Divine War Gigantic Formula, War Gods Battle: Gigantic Formula神様になった日The man picked up by the gods 2nd Season, Kamihiro 2nd Season, Kamitachi ni Hirowareta Otoko 2nd SeasonOsomatsu-san Movie Prologue, Osomatsu-san Movie: Zensetsu GekijouONE PIECE 3D 激走! トラップコースターNobunaga no Shinobi Episode 0無彩限のファントム・ワールド 水玉の奇跡Mirai Robo Daltanius, DaltaniousMarie to Gali, Marie and GaliPuella Magi Madoka Magica Side Story: Magia RecordMacross Delta MovieLupin III: Record of Observations of the East - Another PageKyoryu Senso Aizenborg, Dinosaur War Aizenborg, Dinosaur War Izenborg, Attack of the Super-Monsters, Dinosaur Wars EisenborgKure-nai OAD, Kurenai OVAHappy Cooking GraffitiKono Danshi, Sekka ni Nayandemasu.Kemono no Soja Erin Soushuuhen, The Beast Player Erin - CompilationKannaduki no Miko, Priestesses of the Godless Monthダーティペア\\u3000謀略の００５便すのはら荘の管理人さんSK8 the Infinity Episode 9.5, SK8 the Infinity RecapTransformable Shinkansen Robot ShinkalionSeton\\'s Animal TalesGekko Kamen, Moon Mask Rider, The Man Who Loves Justice Moonlight MaskSaint Seiya: Saishuu Seisen no Senshi TachiRou-Kyuu-Bu!, Rou-Kyu-Bu!, Ro-Kyu-Bu: Fast BreakQuanzhi Fashi 2nd Season, Quan Zhi Fa Shi 2, Full-Time Magister 2Pocket Monsters XY: Sora no Hahen, Pokémon XY: Fragments of the HeavensHamefura Movie, I Reincarnated into an Otome Game as a Villainess With Only Destruction Flags…, Destruction Flag OtomeNGNL SpecialsネットゴーストPIPOPABattle at Hidden Falls. I am the Hero!, Naruto OVA 2, Naruto: Jump Festa 2004Mankatsuみつあみの神様メカウデマスターモスキートンSorcerous Stabber Orphen RevengeGekijouban Negima, Negima the MovieKami nomi zo Shiru Sekai: Kanon OVA, Magical Star Kanon 100%雲のように風のようにCrow Demon Kabuto, Raven Goblin KabutoValkyria Chronicles Specials, Senjou No Valkyria: Gallian Chronicles SpecialsSeiken Tsukai no Kinshuu Eishou, WarubureRobotika*RobotikusuFlower declaration of your heart: Kamogawa Days, Lag-Rin: Kamogawa DaysPikachu Short 25おこしやす、ちとせちゃんNijiyon Animation Episodes 13-15Natsuiro Kiseki OVA名探偵コナン 灼熱の銀河鉄道Jolie the Great Dog, Belle et SebastienMegazone 23 Part II, Megazone 23 Part III, Robotech: The Untold Story (U.S.)Marulk\\'s Everyday, Marulk\\'s Daily Lifeまじめにふまじめ\\u3000かいけつゾロリMagical Girl Lyrical Nanoha ViVidマギアレコード\\u3000魔法少女まどか☆マギカ外伝 Final SEASON -浅き夢の暁-Rupan Sansei, Lupin III: Da Capo of Love - Fujiko\\'s Unlucky Days, Lupin III: Fujiko\\'s Unlucky DaysこげぱんKochikame帰宅部活動記録Kamisama Minarai: Himitsu no KokotamaLog Horizon Recap, Log Horizon Episode 6.5, Log Horizon Special響け！ユーフォニアム2Hetalia World★Stars Episodes 13-15White Sugar Garden, Black Salt CageGirls und Panzer: Saishuushou Part 1 - Fushou Akiyama Yukari no Sensha KouzaGirls & Panzer: Die Madchen und Panzer Wochenschau, Girls und PanzerHere Comes Hanako, Scary Stories Of Your School: Here Comes Hanako, Phantom Of The Toiletガイコツ書店員本田さん OVADigimon Adventure 02 Movieシティーハンター 新作アニメ「りょうのプロポーズ」Kami Jigen Game Neptune V Hi☆Light, Hyperdimension Neptunia Victory Hi☆LightBakutou Sengen Daigander, Bakutoh Sengen Daigunder爆転シュート\\u3000ベイブレードAΠHENTO ΣOMASekai Meisaku Gekijou, Alps Stories: My Annette真阳武神Yusibu OVA, Yu-sibu OVA, Yuushibu OVA, I Couldn\\'t Become a Hero, So I Reluctantly Decided to Get a Job. OVA, Yuusha ni Narenakatta Ore wa Shibushibu Shuushoku wo Ketsui Shimashita.: Yuusha ni Narenakatta Ore no Imouto ga Joukyou Shite Kimashita.劇場版『遊☆戯☆王』公開直前SP 永遠の好敵手(ライバル)\\u3000遊戯と海馬！Yoroshiku Mecha-Docワーキング!!ヴィナス戦記Vassalord. (ヴァッサロード)Vandread Integral, Vandread The Movement Stageうる星やつら いつだって・マイ・ダーリンうまゆるとつぜん！猫の国\\u3000バニパルウィット龍の子太郎高野交差点ストラトス・フォー アドヴァンス天体のメソッド戍天伏魔录Way of Choices, Fighter of the DestinyHitori no Shita: The Outcast 5th Season, 一人之下5 决战！碧游村, 一人之下5, 一人之下 第五季, Yi Ren Zhi Xia 5X - Yochou, X OVA: Episode 0, X - An OmenWitchcraft Works, Witch Craft Works OVAWanwan SanjuushiToaru Beach no Tokuten Eizo, Toaru Kagaku no Railgun: Episode 13\\' - Being a Photo Shoot Model Under the Hot Sun Isn\\'t Easy, Is It?That Time I got Reincarnated as a Slime Episode 24.9, Tensei shitara Slime Datta Ken Recap, Tensura Recapテイルズ オブ ファンタジア THE ANIMATIONShuumatsu no Valkyrie, Valkyrie of the End, Valkyrie ApocalypseShokei Shoujo no Ikiru Michi神秘の世界 エルハザード 第2期Banished from the Hero\\'s Party, I Decided to Live a Quiet Life in the Countryside, I Was Kicked out of the Hero\\'s Party Because I Wasn\\'t a True Companion so I Decided to Have a Slow Life at the Frontier 2シャドウバースF セブンシャドウズ編Kinoko wa Karada ni Iindayo, Koukyuu Wanyuu no Shishokukai, Dekiru Onna wa Mibunryou, Three Leaves, Three Colors SpecialsRockman EXE Beast PlusRanma 1/2: DoCo Music VideoGekijouban Pocket Monsters Advanced Generation: The Pokemon Ranger and Prince of the Sea: Manaphy, Pokemon 2006, Pokemon Advanced Generation: Pokemon Ranger to Umi no Ouji ManaphySekai Meisaku Gekijou, Peter Pan no Boken, Adventures of Peter PanOtome wa Boku ni Koishiteru 2, Otoboku 2, Otome wa Onee-sama ni Koishiteru, The Maiden is Falling in Love With the Elder SisterOchiFuruNaruto\\'s 10th AnniversaryNaruto Narutimate Hero 3 OVABarakamon SpecialsThe Pickle of HappinessLupin III: Elusiveness of the Fog, Rupan Sansei: Kiri no ElusiveからめるハニーEiga Youkai Watch 2Beautiful JoeThermæ Romæ Specials天体観測Tensei shitara Slime Datta Ken RecapTenchi Muyo! Mihoshi Special, Tenchi Muyo! Bangaihen: Galaxy Police Mihoshi\\'s Space Adventure, Tenchi Muyou! Bangaihen: Uchuu Keiji Mihoshi Ginga DaiboukenWakate Animator Ikusei Project, 2010 Young Animator Training Project, Anime Mirai 2010, Wardrobe Dwellers, Project AIzetta, Die Letzte Hexe新妹魔王の契約者 DEPARTURES 万理亜の秘蔵映像Shinmai Maou no Testament Burst OVA, The Testament of Sister New Devil: Burst OVASeaton Animal Chronicles: Bearcub Jackie, Bouba, Monarch, The Big Bear of Tallac, Kiddy Bear Jacky, Seton Animal Chronicles: Jacky the Bear CubSabu & Ichi\\'s Arrest Noteリボンの騎士レーカン！ポケットモンスター オメガルビー・アルファサファイア』 メガスペシャルアニメーションおそ松くんOne Piece: Long Ring Long Land Arc - A One Night Abridged Special, One Piece: Long Ring Long Land-hen - Ichiya Kagiri no Tokubetsu Henshuu-banAgriculture and ForestryNijiiro Days OVANezha Chuan QiMUNTO [ムント]政宗くんのリベンジMaoyuu Maou Yuusha Recap, Maoyuu Maou Yuusha Episode 9.5, Maoyu Maou YushaMy Stepsister is My Ex-Girlfriend, TsurekanoLupin III: Princess of the Breeze - Hidden City in the Sky鋼鉄天使くるみ機動戦士ガンダム 第08MS小隊 ミラーズ・リポートKimizeroKasimasi: Girl Meets Girl, Kashimashi: Girl Meets Girl OVAIchidai the Karate Fool, The Fanatical Karate GenerationKami Kuzu IdolPeerless Martial Spirit, A Paragon of Wu hun, Jueshi Wuhun, Jue Shi Wu ShenAi Mai Mi! Strawberry EggAlpenrose of Fire Judy and Randy, Flower of the Mountain, Flaming Alpen Rose: Jeudi & Lundi, Hono no Alpenrose Jeudi & Lundi, Hono no Alpenrose Judy & Landy, Blazing Alpenrose: Judy & RandyAnime no Tane 2021Hidan no Aria SpecialGurazeni 2nd Season, Gurazeni (2018)Gundam Build Fighters Try OVAゲーマーズ！藤子·F·不二雄 SF[すこしふしぎ]短編シアターファイアボール チャーミング惡果ドージンワークTo SoraCode:Realize - Sousei no Himegimi: Chapter 13, Code:Realize ~Guardian of Rebirth~ OVAChuunibyou demo Koi ga Shitai! Specials, Chu-2 Byo demo Koi ga Shitai! Specials, Regardless of My Adolescent Delusions of Grandeur, I Want a Date! SpecialsChokotto SisterChirorin Village StoryCardfight!! Vanguard: Over DressCandy Boy EX1, Candy Boy EX01, Forecast of the FutureBubuki Buranki 2nd Season, Bubuki Buranki: Star of the GiantsAonagi College Sports Festival Aviation Club, Blue Thermal: Aonagi Daigaku Taiiku-kai Koukuu-buブルーシード おまけBlood-C: Tokubetsu Henshuu VersionBASTARD!! -暗黒の破壊神-Bakuretsu Tenshi OVA, Burst Angel: Tenchi Sairin, Burst Angel: The Angel\\'s Second Coming, Burst Angel OVABaka to Test to Shoukanjuu: Matsuri Special, Baka to Test to Shoukanjuu OVA Special, The Idiot, the Tests, and the Summoned Creatures OVA Special, Baka and Test: Summon the Beasts OVA SpecialLa Storia Della Arcana Famiglia悪魔くんSennen Joou, Queen Millennia MovieLovely Muco!, Itoshi no MuucoInazuma Eleven Go: Tokubetsu-hen, Inazuma Eleven Go Special - Ideyo! Keshin Daizukan, Inazuma Eleven Go: Izude yo! Keshin Daizukan!!, Inazuma Eleven Go: Sakuretsu! Hissatsuwaza Daizukan!!, Inazuma Eleven Go RecapsHyakka Ryouran: Samurai GirlsHuyao Xiao Hongniang Web MovieひとひらHappy Lesson: The FinalHappy Lesson: AdvanceHanaukyo Maid Team: La VeriteHanasakeru Seishonen Specialsガンダムビルドファイターズ バトローグVirtual Trilogy part 2Garo: Honoo no Kokuin Special, Garo: Honoo no Kokuin Episode 25Future Card Buddyfight X: All-Star FightふぉうちゅんドッグすドラゴンボールZ 危険なふたり!超戦士はねむれないドラゴンボール 神龍の伝説Dea5, Battle in 5 seconds after meeting.Shin Jigen! Crayon Shin-chan the Movie: Chounouryoku Daikessen - Tobe Tobe TemakizushiJuubyou Gekikatsu Boy, Young Disease Outburst Boyちびゴジラの逆襲Captain Tsubasa: Ayaushi! Zen Nippon Jr., Captain Tsubasa Movie 2, Captain Tsubasa MOVIE (1985 Winter), Captain Tsubasa Movie 02 - Attention! The Japanese Junior SelectionCandy Boy Episode 0CBブラック・ラグーン オマケばなにゃ蒼き流星SPTレイズナー有药邪王追妻Da Shen XianWhite Album Second Season, White Album the Latter HalfNoukinLord of the Universe 2nd SeasonVideo Senshi LaserionVampire Knight Special, Vampire Kishi Special, Portrait of Passionate LoveTenpou Ibun Ayakashi Ayashi: InfernoTengen Toppa Gurren Lagann Episode 5.5, Tengen Toppa Gurren Lagann OVA, TTGL DS OVA, Tengen Toppa Gurren Lagann My Gurren is Sparkling!!Sachi Tookaraji Gojitsudan Specials, Here Comes Jurai Part 2, Tenchi Muyou! Ryouohki 2nd Season Picture Drama新巨人の星JX3: Chivalrous Hero Shen JianxinHamatora The Animation Recap, Hamatora The Animation: Saishuukai Chokuzen! Mao ga Okuru Soushuuhen Special - File-SP Jouhouya no Tokushuガンパレード・マーチ -新たなる行軍歌-Fate/Grand Order -First Order-エスパー魔美ドラゴンボール 魔神城のねむり姫カードファイト!! ヴァンガード レギオンメイト編Candy Candy\\'s Summer Holidays暴食のベルセルクBio Sekai Meisaku Gekijou: Fushigi no Mura no LeonAsobi ni Ikuyo! OVA, Let\\'s Go Play! OVA, Asobi ni Ikuyo: Bombshells from the Sky OVA, Cat Planet Cuties OVAFrom Common Job Class to the Strongest in the WorldAo no Exorcist Gekijou Special, Ao no Futsumashi Movie Special, Blue Exorcist Movie SpecialAikatsu on Parade!: Dream StoryAhogaru: Clueless Girl, Dummy GirlYama no Susume Episode 13, Encouragement of Climb SpecialUtawarerumono: Imperial Princess Tusukuru\\'s Splendid Days宇宙戦艦ヤマト2199 追憶の航海うちの師匠はしっぽがないTeekyu 3, Te-kyu 3探偵オペラ ミルキィホームズ サイコの挨拶Sora no Otoshimono Final: Eien no Watashi no Torikago, Sora no Otoshimono 3シャイ新妹魔王の契約者〈テスタメント〉新テニスの王子様 U-17 WORLD CUPShadowverse F正解するカドZui Qiang Wujiang Chuan · Sanguo YanyiRPG不動産Recorder and Randsell, Recorder and Backpack, Recorder and Satchel, Recorder to RanselQín Shí Míng Yuè 5, The Legend of Swordsman 5, Qin\\'s Moon 5,パンダ・コパンダFantomas, Ogon Bat, Phantaman, Fantamannumber24 ナンバー・トゥーフォーGekijouban Anime Nintama Rantarou Ninjutsu Gakuen Zenin Shutsudou! no DanRumic World 5NIGHT HEAD GENESIS (ナイト ヘッド ジェネシス)Neko ParaThe Vanishing of Nagato Yuki-chanNagagutsu o Haita Neko no Boken, Adventures of Puss-in-Boots, Fantasy Adventure: Adventures of Puss \\'n BootsみにゆりまぶらほLove Live! μ\\'s →NEXT LoveLive! 2014: Endless Parade - Interlude Drama, Love Live! μ\\'s →NEXT LoveLive! 2014: Endless Parade - Intermission DramaKochikame Movie 2キボウノチカラ～オトナプリキュア\\'23～Kamikatsu, What God Does in a World Without GodsOsamu Tezuka\\'s Marine Express, 24 Hour TV SpecialsJungle Emperor Remake, Kimba the White Lion新ドン・チャック物語Yowai 5000-nen no Soushoku Dragon, Iwarenaki Jaryuu Nintei, A Gentle Dragon of 5000 Years Old, It Was Recognized as an Evil Dragon Without Any Cause., 食草老龙被冠以恶龙之名シュヴァルツェスマーケンさんかく窓の外側は夜Rosario and VampireプリティーオールフレンズセレクションGekijouban Pocket Monsters Advanced Generation: Nana-Yo no Negai Boshi Jiraachi, Pokemon Advanced Generation: Nanayo no Negaiboshi JirachiOz no Mahoutsukai, The Wizard of OzMoyashimon: Microbe Theatre Deluxe, Moyasimon, Tales of Agricultureモンスターファーム～伝説[レジェンド]への道～Momotaro Densetsu, Legend of Momotarou, Peach Boy Legend, The Legend of Peach Boy, Momoden真夜中のオカルト公務員LLHolmes at Kyoto Teramachi SanjoTetsu Komyunikeishon, Iron Communication, kc, kurocomm攻殻機動隊 S.A.C. 2nd GIG Individual Eleven タチコマな日々Konodan, Kono Danshi, Uchujin to Tatakaemasu., This Boy Can Fight With Aliens.キカイダー０１\\u3000THE ANIMATION活撃／刀剣乱舞怪人開発部の黒井津さんIkkitosen Season 2Hyakko OVAAfterschool Pleiades, Hokago no PleiadesLegend of Light, The Story of Hikariグランブルーファンタジー The Animation Season2Go! Princess Precure: Go! Go!! Grand 3-Part Movie!!!, Pumpkin Oukoku no Takaramono, The Pumpkin Kingdom\\'s Treasure, Precure to Refi no Wonder Night!, Precure and Refi\\'s Wonder Night!, Cure Flora to Itazura Kagami, Cure Flora and the Vain MirrorGatekeepers 21Pretty Cure Splash Star Tic-Tac Crisis Hanging by a Thin Thread!Formula-1 - Engines On The Track, Motori in PistaDoki Doki! Precure, Doki Doki! Pretty Cureデジモンゴーストゲームコードギアス 亡国のアキト 第3章 輝くもの天より堕つBrave10, Brave Tenバビロンアルゴナビス from BanG Dream!アンネの日記Alien NineAkame ga Kill! Digest Recap, Akame ga Kill! Episode 8.5Ai Yori Aoshi: Dream Story,Brave ExkaiserXi Xing Ji 4th Season, Journey to the West, Westbound, Westbound Discipline无限世界Witchcraft Works SpecialsWellber no Monogatari, Sisters of Wellber Second Season, Sisters of Wellber Dai ni Maku, Sisters of Wellber TV2Wanjie Shenzhu, Lord of the UniverseUta-Kata, Uta~Kata,One~Song, Poem~Piece, Poem FragmentToHeart2 adnextMagic of StellaUshinawareta Mirai wo Motomete Special, Ushinawareta Mirai wo Motomete Episode 13, In Search of the Lost Future Specialムヒョとロージーの魔法律相談事務所淫らな青ちゃんは勉強ができないThe Pine\\'s BranchesNetherworld Battle Chronicle: DisgaeaMachine Girl wa Kizutsukanai Special, Machine-Doll wa Kizutsukanai Special恋姫†無双機動戦士ガンダム MS IGLOO -黙示録0079-家庭教師ヒットマンREBORN!×エルドライブ【ēlDLIVE】』SPコラボミニアニメ[24H]Kaleido Star: It\\'s Good! Goood!!Jigoku Sensei Nube (1996)How Not to Summon a Demon Lord 2nd Season, Isekai Maou to Shoukan Shoujo no Dorei Majutsu 2nd Season, The Otherworldly Demon King and the Summoner Girls\\' Slave Magic 2nd Season, Isekai Maou to Shoukan Shoujo no Dorei Majutsu Omega一騎当千: Great GuardiansHyakka Ryouran: Samurai Girls 2nd Season, Hyakka Ryouran: Samurai Girls Dai 2-kiBubblegum Crisis: Hurricane Live! (1988 version)Houkago Saikoro KurabuHighlander: Vengeanceひびけ! 和だいこHand Maid May Special, Hand Maid May: Never Give UpThe Galaxy Railways 2, Ginga Tetsudou Monogatari II, The Galaxy Railways: Eternal DivergenceGinga Tetsudo 999: Eien no Tabibito EmeraldasMatchless Emperorフューチャーカード バディファイトふるさとJAPANFresh Pretty Cure! Movie: The Kingdom of Toys has Lots of Secrets!?Freezing Season 2Eyeshield 21: Jump Super Anime Tour 2005 SpecialFallen Mystic Master, Duoxuanshi, Fallen Taoist Master, The Fallen Spirit Master, 堕玄师动画, 堕玄师之觉醒D.C.～ダ・カーポ～COP CRAFT [コップクラフト]Code BreakerBoku wa Tomodachi ga Sukunai Episode 0, Boku wa Tomodachi ga Sukunai OVA, Haganai OVA, I Don\\'t Have Many Friends OVA, Boku ha Tomodachi ga Sukunai OVAAzumanga Web Diaoh, Azumanga Daioh - Web Daioh, Azumanga Diaoh - Web DiaohGekijouban Aquarion: Ippatsu Gyakuten HenAoki Densetsu Shoot! (1994), Blue Legend Shoot! (1994)Sazan Eyes, 3x3 Eyes: Immortals3-gatsu no Lion Episode 11.5, March Comes in Like a Lion Episode 11.5Yugioh, Yuu Gi Ou! Arc-V, Yu-Gi-Oh! Arc Five, Yu-Gi-Oh! Arc-VSaga of Tanya the Evil Shorts, Youjo Senki SpecialsJourney to the West: The Reincarnation Demon King, Monkey King RebornヴィジュアルプリズンTokyo Ravens SpecialsToHeart 2: Another Days Plus, To Heart 2: Another Days Plus, ToHeart2adplusてっぺんっ!!!!!!!!!!!!!!!TayutamaPhantom Bullet, SAO II, Sword Art Online 2, SAO 2SSB, Super Seishun Brothers装神少女まとい装甲騎兵ボトムズ 幻影篇それいけ! アンパンマン ミージャと魔法のランプUshinawareta Mirai o Motomete, À la recherche du futur perdu, Waremeteうる星やつら ラム・ザ・フォーエバーTottoko Hamutarou Hai!, Tottoko Hamutarou: Norisuta Haai!てんぷるPandi-Panda, Tao Tao Ehonkan, Taotao Picturebook Mansion探偵オペラミルキィホームズ アルセーヌ 華麗なる欲望Sousei no Aquarion Love, Genesis of Aquarion EVOLTenchi in Tokyo SpecialsSHELTERDolls\\' Frontline, Shao Nu Qian Xian, Dollfro: Iyashi-hen, Dollfro: Kyouran-henSekai Seifuku: Bouryaku no Zvezda Episode 13, Sekai Seifuku: Bouryaku no Zvezda SpecialTwelve Months, The Forest is AliveStar PitcherSsaikig HieoloOre no Imouto ga Konnani Kawaii Wake ga Nai Animated Commentary, My Little Sister Can\\'t Be This Cute Specials Animated CommentaryOkusama ga Seitokaichou! OVARainbow Days: After School Special, Nijiiro Days RecapNeedless Specials, Needless: The Secret of Saint Lily AcademyMonster Strike the Movie: Lucifer Dawn of DespairMonster Strike The Movie: Beginningsミニ戦国BASARA弐\\u3000月夜の片倉くんプレリュードめぞん一刻 プレリュード めぐる春の桜のように...Longriders!Koi to Senkyo to Chocolate Picture Drama, Koi to Senkyo to Chocolate SpecialKidou Senshi Gundam Double Zeta, Mobile Suit Gundam Double ZetaNadesico Movie歌舞伎町シャーロックJubei-chan - Secret of the Lovely Eyepatch九辰风云录Ikkitousen XX, Ikki Tousen Extreme ExecutorIchiban Ushiro no Dai MaoGon, the Stone Age BoyHagure Yuusha no EsteticaGrimm Fairy Tale: The Golden Bird, Grimm\\'s Fairy Tales: The Golden BirdAdventures of Goku, Goku\\'s Great AdventuresOnce Upon a Time... Space, Once Upon a Time Was the Space学園ハンサムDragon Ball Z Gaiden: Saiya-jin Zetsumetsu Keikaku, Dragon Ball Z: Plan to Destroy the SaiyajinCutey Honey FlashDancougar - Super Beast Machine Godカードファイト!! ヴァンガード (2018)Canvas2 ～虹色のスケッチ～Candy Boy Extra Episode, Candy Boy Episode 8, Candy Boy EX02, Theory of Happiness SharingぼのぼのBlack Jack: The Child Who Came from the SkyBeyblade 2002あずきちゃんAtchi Kotchi, Here and ThereSong of Baseball EnthusiastsNurarihyon no Mago 2, The Grandson of Nurarihyon 2, Grandchild of Nurarihyon 2, Nurarihyon no Mago: Sennen Makyou SpecialsBuBu ChaChaNet Game no Yome wa Onna no Ko ja Nai to Omotta?, NetoYomeFuture Boy Conan: The Giant Robot\\'s Resurrectionめ組の大吾 救国のオレンジYU-NO: A girl who chants love at the bound of this world SpecialNymphet, A Child\\'s Time, KojikaShinigami Hospital MurderKanon Wind FlowerThe Success Of Empyrean Xuan Emperor, The Nine Heaven of the Mistic Emperor緋色の欠片 突撃! 隣のイケメンズHentai Ouji to Warawanai Neko. SpecialsIn a Distant Time 3: Crimson Moon, Haruka Naru Toki no Naka de 3: Kurenai no TsukiHAND MAID メイGrenadier: The Smiling Senshiフューチャーカード バディファイト100Battle Fighters Garou Densetsu 2ドラゴンドライブDragon Ball Z: The Decisive Battle for the Entire EarthDoraemon Crayon Shin-chan Haru da! Eiga da! 3-Jikan Anime Matsuri 2クレヨンしんちゃん外伝 エイリアン vs. しんのすけKimetsu Gakuen: Valentine-henカードファイト!! ヴァンガードG ストライドゲート編Blue Drop: Tenshitachi no GikyokuBastard!! Destroyer of Darkness, Ankoku no Hakai KamiNuku Nuku, Bannou Bunka NekomusumeB-Project 2nd SeasonAshita no Yoichi!Slap Up Party Arad Senki, Dungeon & Fighter - The Animation, Dungeon & Fighter - Arad SenkiAni*Cre15, Ani Kuri 15, Ani-Kuri 15, Anikuri 15, Neko no ShuukaiThe Low Tier Character \"Tomozaki-kun\" OVA, Bottom-Tier Character Tomozaki OVA, Jaku-Chara Tomozaki-kun OVAInazuma Eleven: Balance of Aresヒューマンバグ大学Scarlet Fragment, Hiiro no Kakera: Tamayori Hime KitanHAUNTED じゃんくしょん半妖の夜叉姫 -戦国御伽草子-Full Moon wo Sagashite: Cute Cute Big Adventure, Searching for the Full Moon: Cute Cute Adventure, Full Moon wo Sagashite: Cute Cute AdventureFate/kaleid liner Prisma☆Illya Movie: Oath Under Snow SpecialDungeon ni Deai wo Motomeru no wa Machigatteiru Darou ka IV: Play BackDragon Ball: Goku no Koutsuuanzen, Dragon Ball: Goku\\'s Traffic Safety, Dragon Ball: Goku no Shouboutai, Dragon Ball: Goku\\'s Fire BrigadeDorami & Doraemons: Robot Gakkou NanafushigiクッキングパパCode Breaker OVA, Code:Breaker: code:extra 1,2,3 & Plus 1, Code:Breaker: code:100 & extra HANAMI & Plus 2, Code:Breaker: code:4koma Special TheaterThe Super Dimension Century Orguss 02C³ Special, C3 Special, C Cube Special, C^3, C³ Episode 13Arslan Senki (TV) SpecialsCyber Team in Akihabara: The Movie, Akihabara Cyber Team 2011, Akihabara Denno Gumi 2011 Nen no NatsuyasumiAnne of Green Gables: Road to Green GablesBrainless Witch 2nd SeasonSchwestern in Liebe!, WatayuriWan Wan Celepoo Sore Yuke! Tetsunoshinつくもがみ貸しますTSUKIPRO THE ANIMATIONトリコ３Ｄ 開幕グルメアドベンチャー！！Tesagure! Bukatsu-monoSky-High Survival, Sky ViolationTales of Symphonia The Animation: Sylvarant-hen Special, Tales of Symphonia The Animation: Sylvarant Chapter - Professor Kratos\\' Private LessonTales of Symphonia The Animation: Sylvarant-hen Special 2, Tales of Symphonia The Animation: Sylvarant Chapter - The Return of Professor Kratos\\' Private LessonテイルエンダーズSuper Robot Taisen Original Generation: Divine Wars Special, SRWOG, Episode 26 DVD Special, Sorezore no MichiKoukou Hoshi Kageki 2nd Season Special, High School Star Musical 2nd Season Special, Starmuスパイダーライダーズ ～よみがえる太陽～装甲騎兵ボトムズ\\u3000ビッグバトルSoreike! Anpanman: Roll to Lola Ukigumo Shiro no Himitsuそれいけ！アンパンマン だだんだんとふたごの星Legend of SiriusShirayukihime, Legend of Princess Snow White, Shirayuki-hime no Densetsu新造人間キャシャーンShinmai Maou no Keiyakushaセラフィムコールプリティーリズム ディアマイフューチャーPenguin GirlOnegai Teacher Specials, Onegai Teacher: Marie Love Theaterワンピース 倒せ！海賊ギャンザックTreat of ReincarnationMermaid Forest OVA, Rumic World 4Namiuchigiwa no Muromi-san OVANagato Yuki-chan no Shoushitsu OVA, The Vanishing of Nagato Yuki-chan OVAMushishi Digest, Mushishi 20.5L\\'École des champions水のコトバMini Vanguardミニ戦国BASARA\\u3000長曾我部君と毛利君Makai Senki Disgaea: Makai e no Shoutaijou, Makai Senki Disgaea Trailer魔法遣いに大切なことMahou Shoujo-tai: Alice Adventure, Arusu Adventure, Tweeny Witches: The AdventureKono Naka ni Hitori, Imouto ga Iru! OVA, Kono Naka ni Hitori, Imouto ga Iru! Episode 13, NakaImo, One of Them is My Younger Sister! OVA, Who is Imouto? OVA, NAKAIMO - My Little Sister Is Among Them! OVAこの醜くも美しい世界Kanojo ga Flag wo Oraretara OVALeo the Lion, New Jungle Emperor, Go Ahead Leo!, Jungle Emperor, Onward Leo!Demon God of the War Torn Land Goshogun, GoshogunSasami: Mahou Shojo Club Season 2恋愛フロップスPyu to Fuku! JaguarピチューとピカチュウPapuwa 2Ribbon x Oha Suta Specials, Ribon x Oha Suta SpecialsGalaxy ForceChronicles of an Aristocrat Reborn in Another World: The Apostle of the Gods Who Know No Self-RestraintTeekyuu 4th Season, Tekyuu 4, Te-kyu 4戦え! 超ロボット生命体トランスフォーマーV[ビクトリー]探検ドリランド蒼天の拳シェンムーYouth Anime Complete Collection正解するカ ド ニノヴォREVENGER (リベンジャー)Re:Zero kara Hajimeru Break Time 2Jjajang Sonyeo Ppukkaプリンセス・プリンシパル Crown Handler 第2話 「Revealing Reviews」Pocket Monsters: Best Wishes! 2 - Episode NPaaman (1983), Paman (1983), Super Boy Perman (1983), Paa man (1983), P-man (1983), Paaman TV 2 (1983)PEACE MAKER 鐵 前編～想道〈オモウミチ〉～Ore wo Suki nano wa Omae dake ka yo Recap, Ore wo Suki nano wa Omae dake ka yo Episode 9.5Story in Which I Was Kidnapped by a Young Lady\\'s School to be a \"Sample of the Common People\", Ore ga Ojou-sama Gakkou ni \"Shomin Sample\" Toshite Rachirareta Ken日本沈没2020 劇場編集版\\u3000シズマヌキボウモンスターストライク The Animationミカグラ学園組曲名門！第三野球部Meiji Tokyo Renka: Gengetsu no Sayokyoku, MeikoiMARGINAL#4 KISSから創造るBig BangJapanese Folklore Tales 2Rage of Bahamut: Manaria Friends, Shingeki no Bahamut: Manaria Friends魔法科高校の優等生Lupin Sansei: Russia Yori Ai o Komete, Lupin III: From Russia With LoveRupan Sansei: Lupin Ikka Seizoroi, Lupin Family Lineup, Lupin III Master FileLostorage incited WIXOSSGhost in the Shell: Stand Alone Complex - The Laughing Man - Tachikoma na HibiThe Last Battlefield Between You and I, or Perhaps the Beginning of the World\\'s Holy War, KimisenKakegurui: Compulsive Gambler Picture DramaSeirei Tsukai no Kenbu, Bladedance of Elementalersサンリオ男子Sakura Wars: The Gorgeous Blooming Cherry Blossoms, Sakura Taisen OVA, Sakura Wars OVAQin\\'s Moon: Nine Songs of the Moving Heavens, The Legend of Qin: Nine Songs of the SkySerendipity Monogatari: Pyuatou no NakamatachiPrincess Lover!Story of Princess Thumbelina, Thumbelina, Thumb Princess Story, Oyayubihime Monogatariオーバーロード\\u3000ぷれぷれぷれあです4大雪海のカイナNishi no Yoki MajoMach Go Go GoLu\\'s Time 2nd SeasonGhost in the Shell: Nyuumon Arise, Ghost in the Shell Arise IntroductionケロケロちゃいむRed ShadowNoble FarmerHoshizora e Kakaru HashiRuin Explorers: Quest for the Ultimate PowerFirst Human Gatorus, First Human Gattles, First Human Giatrus, Giatrus, The Dawn of MankindHaikyuu!! Quest Drama DVD, Haikyu Quest Picture DramaGirls und Panzer Recaps, Girls und Panzer Episode 5.5, Girls und Panzer Episode 10.5, Girls und Panzer: Introductions!Gift: Eternal Rainbow Special, Gift Eternal Rainbow: Another Gift! - Crisis at the Konosaka Inn!!Genshiken Second Season Specials, The Society for the Study of Modern Visual Culture SpecialsInspector Fabre, Fabre Sensei wa MeitanteiDigimon Cross WarsDiGi Charat Ohanami SpecialCode Geass: Lelouch of the Resurrection: Fragment of the Deep Sea, Code Geass: Lelouch of the Resurrection: Talking in a HammamChou Kuseninarisou映画ちびまる子ちゃん イタリアから来た少年Adventure King Beet ExcellionBLACKFOXBattle Spirits 2015, Battle Spirits Season 8Baka and Test Mini Special, Baka to Tesuto to Shoukanjuu, Baka to Test to Shoukanjyuu, Idiots, Tests, and Summoned BeastsArifureta Shokugyou de Sekai Saikyou Episode 0アンドロイド・アナ\\u3000MAICO ２０１０Andes Shonen Pepero no BokenWedding Peach DeluxeYuu Gi Ou!, Yugioh約束の七夜祭り血与心Xing Hai Qi ShiBrainless Witchヴァイパーズ・クリードULTRAMAN宇宙戦艦ヤマトSpace Symphony Maetel, Uchuu Koukyoushi Maetel: Ginga Tetsudo 999 GaidenTokyo Babylon 2Yattaman, YattaamanSword Art Online II Episode 14.5, Sword Art Online II Recap, SAO 2 RecapWarring States Of A MilleniaYo-kai Watch: ShadowsideYoujo Senki Episode 6.5, Youjo Senki RecapXing Wu Shen Jue, Star Martial God Technique Second SeasonWeiss Kreuz, White Cross宇宙戦艦ヤマト 新たなる旅立ちTona-gura!東京ミュウミュウ にゅ～♡Tekyuu 2, Te-kyu 2ストライクウィッチーズ 劇場版 501部隊発進しますっ!Shengshi ZhuangniangAllied Air Force Magical Idols Luminous Witches, Idol Witches, Ongakutai WitchesレッドラインRe:ステージ! ドリームデイズ♪Di Gi Charat Panyo Panyo, DiGi Charat Panyo PanyoMedabots Damashii, Medabots Spirits, Medabots IICARDFIGHT!! ヴァンガードG NEXT7 Days War, Our Seven-Day Warバイオハザード：デスアイランドBeyblade Burst Super KingBurst Angel: Tenchi Sairin, Burst Angel The Angel\\'s Second Coming, Burst Angel OVA SpecialSpell Wars: Sorcerer Hunters Revengeアニメ店長x東方ProjectAmagi Brilliant Park Specials, Amaburi Specials, Waku Waku Mini-Theater, Exciting Mini Theaterあいうら86 Part 2 Special Edition: Shishite Kai Aru Mono Nareba, 86 Episode 18.5, 86 Eighty-Six Episode 18.5 – If There\\'s Something Worth Dying For, 86 Part 2 Special Edition: Semete Ningen Taran to, 86 Episode 21.5, 86 Eighty-Six Episode 21.54주 애인Super Seminary Sixth SeasonThere\\'s a Pit in My Senior Martial Brother\\'s Brain 3, Our Big Brother\\'s Mind Has A Problem 3, Wo Jia Da Shixiong Naozi You Keng 3rd SeasonThere\\'s a Pit in My Senior Martial Brother\\'s Brain, Our Big Brother\\'s Mind Has A ProblemTomorrow\\'s LeavesTOKYO TRIBE 2Tokimeki Memorial 17.5: The Excitement of Heroism, Tokimeki Memorial 25.5, Tokimeki no Yuuki, Tokimeki no SentakuTerra e... (2007), Chikyuu he, Towards the Terra... Pilot, Towards the Terra... EpilogueTeekyuu 5th Season, Tekyu 5, Te-kyu 5スーパードール リカちゃんStarColleStarship Girl Yamamoto Yohko (TV)Shugo Chara!!! Dokki Doki, Shugo Chara! Third, Shugo Chara! Pucchi PuchiEverlasting Immortal Firmament 2nd Season, Ancient Celestial Firmament 2nd Season, Ancient Divine Pinnacle 2nd Season, Wangu Xian Qiong 2nd Season, 万古仙穹 第二季Myth of the AncientsViVid Strike! OVATsukiuta. The Animation Second Season, Tsukiani. 2Tsuki ga Kirei Recap, Tsuki ga Kirei Episode 6.5, Tsuki ga Kirei SpecialTouch: Ace Without A Number On His Back探偵オペラミルキィホームズファンファンパーリーナイト♪～ケンとジャネットの贈り物～Lovely Detective Labyrinth, Great Detective Labyrinthストラトス・フォー OVAスターシップ・トゥルーパーズ インベイジョンそれいけ! アンパンマン いのちの星のドーリィSoreike! Anpanman: Black Nose to Mahou no UtaSHUFFLE! (シャッフル!) PrologueShin Chuuka Ichiban! Second Seasonシャーマニックプリンセスシートン動物記\\u3000りすのバナSasami-san at Ganbaranai, Sasami-san@UnmotivatedSamurai X: Review SpecialPokémon Mystery Dungeon: Explorers of the SkyPocket Monsters: Arceus Who is Called a God, Pocket Monsters: The Hallowed God, ArceusNobunagan忍者ハットリくん （2012年版）The Scales of Nil Admirari ~The Mysterious Story of Teito~Night Wizard The Animation7O3X, Nanamaru Sanbatsuみゆき名探偵コナン VS. 怪盗キッドMayoi Neko Neko Neko Gekijou, Mayoi Neko Neko Neko Gekijo, Stray Cats Cats Cats TheaterLove Me, Seriously!!ティグルくんとヴァナディーちゅラピスリライツ鋼鉄天使くるみ 25-28話Mobile Suit Gundam 0083: The Last Blitz of ZeonKaze o Mita ShonenJuubee Ninpuuchou: Ryuuhougyoku Hen, Jubei Ninpucho - Ryuhougyokuhen, Jubei Ninpucho: Ryuhogyoku-Hen, Wind Ninja Chronicles [Dragon Stone Chapter], Ninja Scroll - The Seriesジャングル大帝Kafka Inaka Isha, Ein LandarztFox Spirit Matchmaker 11th Season, Little Foxspirit Matchmaker Season 11, Enmusubi no Youko-chanHataraku Petit Quiz, Macrophage no Oheya, Killer T Saibou no Kunren, Shireikan no Yuuutsu, Hataraku Oshigoto, Cells at Work! SpecialsThe Devil is a Part-Timer! 3rd Season, Hataraku Maou-sama 3The Devil is a Part-Timer! 2nd Season, The Devil is a Part-Timer!!, Hataraku Maou-sama 2はぴねす! 渡良瀬準の華麗なる一日Tawawa on Monday 2 SpecialFate/kaleid liner Prisma☆Illya OVAドリフェス！Don-Don Domel to Ron, Dondon Domel to Don, DommelDome x Kano, DomekanoCode:Realize ～創世の姫君～超智能足球2 世界大赛篇Captain Tsubasa: Ashita ni Mukatte Hashire!, Captain Tsubasa Movie (1986 Spring), Captain Tsubasa Movie 3, Captain Tsubasa: Run Toward Tomorrowぶっちぎり?!Animation Kapibara-sanアルプスの少女ハイジ ハイジとクララ編.HACK//G.U. RETURNERJoker Game Specials, Adventure of Black Cat YoruJet MarsMo Hitotsu Omake no Daimaou, Another Extra DaimaouグランベルムFORTUNE ARTERIAL 赤い約束Prisma Illya 3rei!! Specialsエクスドライバーイートマン `98Dao Mu Bi Ji: Qin Ling Shen ShuDansai Bunri no Crime EdgeEiga Crayon Shin-chan: Densetsu wo Yobu Buriburi 3-punpokkiri Daishingeki, Crayon Shin-chan: The Legend Called Buri Buri 3 Minutes Chargeクレヨンしんちゃん外伝 おもちゃウォーズVicky the Little Viking, Viking, Wickieチア男子!!カードファイト!! ヴァンガードG\\u3000ギアースクライシス編Buddy Daddies Recap僕のヒーローアカデミア 雄英ヒーローズ・バトルバクマン。『ラッコ11号』Patlabor the Movie 3, Mobile Police Patlabor: WXIIIワイルドアームズ トワイライトヴェノムSpace Family Carlvinson魔法のアイドル パステルユーミぼくの地球を守って～亜梨子から、輪くんへ～BAYONETTA BLOODYFATEばなにゃ ふしぎななかまたち22/7, Nanabun no Nijuuni異修羅Hyakka Ryouran OVAひなろじ～from Luck & Logic～ハーロック・サーガ ニーベルングの指環Boy\\'s Love Scramble Specials, Gakuen Heaven: Ham Ham HeavenガドガードDNA Squared, Dokokade Nakushita Aitsuno Aitsu, DNA2, DNA^2コンドームバトラー ゴローCOCOLORS（コカラス）Build Divide: #000000 2nd Season, Build Divide: Code Black 2nd Season, Build Divide: #FFFFFFClub-To-Death Angel Dokuro-chan 2BokuhakaBeyblade - The Movie, Beyblade the Movie: Fierce BattleOn a Stormy Night: Secret Friends, One Stormy NightAokanaAmaenaideyo!! 2, Amaenaideyo!! KatsuYusha Reideen, Brave Raideen, Reideen the BraveYamato to Eternity, Yamato yo Eien ni若おかみは小学生！ヴィヴィ -フローライトアイズソング-: PILOT MOVIE裏世界ピクニック映画トロピカル～ジュ！プリキュア プチ とびこめ！コラボ♡ダンスパーティ！Hamtaro the Movie, Hamutarou特務戦隊シャインズマンTerra Formars 2nd Season, Terraformars 2Super PhoenixGod and Spirit Combination Godannar!!Saiyuuki Reload: Even a Worm ArcRe:Zero kara Hajimeru Kyuukei JikanGekijouban Pretty Rhythm, Pretty Rhythm The Movie, Pretty Rhythm MovieMewtwo: Kakusei he no Prologueプランダラぷれぷれぷれあです ～クレマンティーヌ逃亡編～ナースウィッチ小麦ちゃんマジカルてZノブナガ・ザ・フールNew Dream Hunter Rem: Dream Knightsモンスター EXTRAマイアミ☆ガンズMeitantei Conan Episode 1076.5Gankyou na Kanojo, Glasses Girlfriendsまもって守護月天！Everyday seems Sunday, Everyday is Sunday, Every Day is SundayThe Dancing GirlMai-HiME Bluray Special, Mai-HiME: The Black Dance/The Last SupperThe Ancient Magus\\' Bride, The Magician\\'s Bride, Magic Bride, Maho YomeMagical Girl Meルパン三世GREENvsREDKuromajyo-san ga Toru!!K.O. BeastsKimi ni Magic★Kyun!, Magic Kyun! RenaissanceKidou Senshi Gundam AGE: Memory of EdenKiddy Grade 2 PilotNight Song of Splendor, Starlight Nocturne, Gasei YakyokuShin Koihime†Musou: Otome Tairan OVAShin Koihime†Musou OVAShaonian Ge Xing 2nd Season Special, Great Journey of Teenagers 2nd Season SpecialDoki Doki School HoursGoshogun: The Time EtrangerSeiken no KatanakajiリライトR-15 OVAPaaman, Paman, SuperkidPa-dak Pa-dakOOS押忍!!空手部Oretsuba, We Don\\'t Have Wings, Ore-tachi ni Tsubasa wa Naiおねがい☆ティーチャー ReminiscenceディスクOkusama ga Seitokaichou! OVA Specials, My Wife is the Student Council President OVA: Wife TheaterTransforming Boy Starzan-Sにゃんぱいあ The AnimationNurse Witch KomugiMezzo Danger Service Agency, Mezzo Forte TV, Mezzo TV Danger Service Agency迷い猫オーバーラン!キティズパラダイスKinkyu Hasshin Saver KidsKimagure Orange☆Road RecapKidou Senshi Gundam Unicorn: Episode EX - Hyakunen no KodokuSteam Detective, Kaiketsu Shoki TanteidanイナズマイレブンＧＯ ギャラクシーアイドル天使ようこそようこDaphne in the Brilliant Blue Specialsヘボット!Hatsukoi Limited. Specials, Hatsukoi Limited.: Girl Limited, Hatsukoi Limited.: Shoujo Limited, First Love Limited: Limited GirlはるかなレシーブHanaukyo Maids, Maid in HanaukyoGoshusho-sama Ninomiya-kun, Gosyushosama Ninomiyakun, My Condolences, Ninomiya-kun, My Heartfelt Sympathy, Ninomiya-kunゴジラ S.P ＜シンギュラポイント＞Garasu no Hana to Kowasu Sekai, D.backup, Vitreous Flower Destroy the WorldThe Galaxy Railways: Planet of Forgotten TimeFLAG Director\\'s Edition 一千万のクフラの記録Fate/Zero Specials, Please! Einzbern Consultation RoomEureka Seven Astral OceanDa Capo: D.C. I & II P.S.P. OVAConRevoChosoku Spinner, Super Sonic Spinners, Super Speed SpinnerTouch 2: The Farewell GiftDagger of Kamui, Blade of Kamui, Revenge of the Ninja Warriorカクレンボ伊藤潤二『マニアック』ISIchigo 100%光の女神High School of the Dead OVA, Gakuen Mokushiroku: Highschool of the Dead, HOTD, HSOTD, Drifters of the DeadGS美神 極楽大作戦!!GRANBLUE FANTASY The AnimationGods Eater Burst Prologue, Promotion Videoギルガメッシュ24 Hour TV Specialsファイアボールパチスロ エウレカセブンAO Final Episode : One More Time －ロード・ドント・スロー・ミー・ダウンーDragon Crisis!ドカベンDimension W Specialコヨーテ ラグタイムショーカードファイト!! ヴァンガード 新右衛門編Baribari Densetsu (1987), Bari-Den (1987), Motorcycle Legend (1987), Legend of Rolling Wheels (1987)Baki OVABakéGyamon, Gekifu BakegyamonBaka to Test to Shoukanjuu: Christmas SpecialAmaenaide yo!! Specialアクセル・ワールド INFINITE∞BURST（インフィニット・バースト）Sanjuu-sai no Hoken TaiikuSan Choume no Tama Uchi no Tama Shirimasenka?, Tama & Friends, Teo and Friends, Sanchome no Tama: Uchi no Tama Shirimasenka?21-emon, 21emon.hack//SIGN Episode 28Star Blazers: Space Battleship Yamato 2202, Uchuu Senkan Yamato 2202: Ai no Senshi-tachi Summary, Uchuu Senkan Yamato 2202: Ai no Senshi-tachi SoushuuhenPunishing: PaniniThe Hero Is Dead!Yokai WatchUrusei Yatsura Special: It\\'s Spring! Take Off!Toriko: Jump Super Anime Tour 2010 Special, Toriko: Jump Festa 2010 SpecialTojitomoToHeartT. P Bon, TP Time Patrol Bonスタードライバー THE MOVIE夢見る男子は現実主義者Eiga Youkai Watch: Forever FriendsSing \"Yesterday\" for MeMaxbotXi Xing Ji, Journey to the West, Westbound, Westbound DisciplineWakako SakeTokimeki Fushigi Diary: Ultra ManiacTransformers Chojin Master Force, Transformers MasterforceTouch 3: After You Passed ByIron Man 28, Tetsujin 28-goテニスの王子様 BEST GAMES!!Telepathy Shojo Ran, The Telepathy Girl Ran高橋留美子劇場 人魚の森Sukisyo, I like what I like, so there!SSSS.Dynazenon Recapそれいけ! アンパンマン シャボン玉のプルンWeekly! Story Land, Shuukan! Story LandShin Cutey Honey, New Cutey Honey, New Cutey Honey Dark Group, Shin Cutey Honey Yami no Gundan-HenValiantly Forge Ahead!! Men\\'s Cram School (1988)Captain Kuppa Desert PirateRecorder and Backpack Do, Recorder and Satchel Do, Recorder and Randsell Do, Recorder and Ransel Do, Recorder to Randsell Do, Recorder to Ransel DoPukapuka Dudu, Wakate Animator Ikusei Project, 2011 Young Animator Training Project, Anime Mirai 2011, Dudu the Floater, Dudu the FloatieportePokémon the Movie XY&ZGekijouban Pocket Monsters Best Wishes: Victini to Kuroki Eiyuu Zekrom, Pokemon Best Wishes!: Victini to Kuroki Eiyuu Zekrom, Victini and the Black Hero: ZekromHey! Tonbo, Oi! Tonboおんたま!One Piece Recap, One Piece SpecialNekogami Yaoyorozu OVA, Cat God OVAPapuwa (1992), Papuwa of the South Seas, Southern Country Boy Papuwa-kunMiss Morita is Taciturn (TV) 2Kujira no Kora wa Sajou ni Utau SpecialsANEMONE／交響詩篇エウレカセブン ハイエボリューションHutch the HoneybeeKasimasi: Girl Meets GirlJian Yu Chuanqi 2Jian Yu Chuanqi一番くじ 夏目友人帳 ニャンコ先生と花しらべThe Magic Mirror, Akko\\'s Secret火の鳥 エデンの宙Hai Step Jun, Yes Step Jun, Haai Step KunGou-Q-Chouji IkkimanMeine Liebe Wieder月曜日のたわわ2ガサラキFate/PrototypeDragon Ball Z: Return My Gohan!!Gekijouban Di Gi Charat: Hoshi no Tabi, DiGi Charat Movie: A Trip To The Planet, DiGi Charat Hoshi no TabiDiGi Charat Natsuyasumi SpecialダンドーDakara boku wa H ga Dekinai. Episode 13, Dakara Boku wa, H ga Dekinai. OVACoo of the Far Seas, Coo: Come From a Distant Ocean CooTHE IDOLM@STER Cinderella Girls Theater 2nd Season, The Idolmaster Cinderella Girls Gekijou 2nd SeasonSuper Robo GalattGravion ZweiChocchan\\'s Storyキャプテン∀ Gundam II: Gekkou ChouNegima!: Magister Negi Magi Introductin FilmGigi and the Fountain of YouthGhost in the Shell: Stand Alone Complex 2045Polar Bear in Loveきこちゃんすまいる爵跡Joshi Kousei: Girl\\'s HighBubblegum Crisis: Hurricane Live!Violin in the Starry SkyHoero BunBun, Bark! Bun Bun, Tchaou et Grodo旗揚! けものみちガンダムvsハローキティGIRLSブラボー second seasonガールズ＆パンツァー ハートフル タンク ディスクGinga Tetsudo 999: Diamond Ring no Kanata eGinga Shippu Sasuraiger, Wonder SixGinga Reppu Baxinger, Cosmo RangerGetta Robo G, Starvengersフミコの告白The King of the PigsデビルマンレディーOyuki Yama no Yuusha Haou, Daisetsuzan no Yuusha KibaouDagashikashiBakumatsu no SupashiiboAldnoah.Zero Soushuuhen, Aldnoah.Zero Recap, Aldnoah.Zero Episode 12.58月のシンフォニー ―渋谷 2002～2003Hell Girl 4, Jigoku Shoujo 4The Funny Judo Champion, The Young Countryman LeaderIkkitousen Dragon Destiny OVANobody\\'s Boy: Remi, Nobody\\'s Boy: RémiHyakka Ryouran ~Otome Ureshi Hazukashi Shoshi no Chigiri~, Hyakka Ryouran: Samurai Girls OVAPainting Rivers and Lakes 5, Hua Jiang Hu: Bu Liang Ren 5th SeasonHappy Lessonグレゴリーホラーショー - The Second GuestGranblue Fantasy The Animation Episode 14, Granblue Fantasy The Animation: Jack O\\'LanternGirls und Panzer: Fushou Akiyama Yukari no Sensha Kouza - Extra, Akiyama Yukari\\'s Tank Course ExtraGirls und Panzer der Film Cinematic Concert: Unlucky Yukari Akiyama\\'s Tank Courseファイト一発！充電ちゃん！！Fate/Grand Order: Fujimaru Ritsuka wa Wakaranai Episode 0, Fate/Grand Order: Fujimaru Ritsuka Doesn\\'t Get ItEyeshield 21 Jump Fest 2004代紋(エンブレム) TAKE2EDENsBOwYシナモン the MoviePrince HerculeThe Dark Red Eleven, The Red-Blooded ElevenYishi Zhi ZunXing Hai Qishi Part 2Wonder Beat Scrumble, Micronauts, Wonderbeat ScrumbleUmimonogatari Anata ga Itekuretakoto, Sea StoryOnii-sama, Yurayura Kirakira Donburako Korette, Naan Da?, Up and Down, in the Sun, Floating Away? What Is It?Suddenly, Egyptian Gods 2nd SeasonTenshi no Three Piece!Prince of Tennis OVA Fan Disc: Message in a Bottleてーきゅう 8期てーきゅう 7期ストライクウィッチーズ 501部隊発進しますっ！The Determined Shohoku Basketball Team新米錬金術師の店舗経営Shingeki no Kyojin: Chimi Kyara Gekijou - Tondeke! Kunren Heidan, Attack on Titan Picture Drama神医九小姐Seirei Tsukai no Blade Dance Mini OVASangokushi [2] Choukou Moyu!Put it All in the Ring 1: Japan vs USA Battle Story, Ring ni Kakero S2恋愛暴君オリエントNankai Kio Neoranga, Strange World of the South Seas - NeorangaMetal Fight Beyblade Movie, Gekijouban Metal Fight Beyblade vs Taiyou: Shakunetsu no Shinryakusha Sol BlazeMazinger Z vs. Ankoku Daishogun, Mazinger Z tai General Dark, Mazinger-Z vs General of Darknessまもって！ロリポップ魔女っ娘つくねちゃんRupan Sansei: Napoleon no Jisho wo Ubae, Lupin III: Steal Napoleon\\'s Dictionary, Lupin III: Napoleon\\'s DictionaryKoihime†Musou OVA機動戦士ガンダムＦ91かたすみの鱗カブキブ！Sacred Seven Recap Special, Sacred 7: Night Edition, Sacred Seven: Night Edition, Knight Edition青莲剑仙传プリンセス・プリンシパル Crown Handler 第3話「Cost for Custom Cars」Gekijouban Pocket Monsters Best Wishes: Victini to Shiroki Eiyuu Reshiram, Pokemon Best Wishes!: Victini to Shiroki Eiyuu Reshiram, Victini and the White Hero: ReshiramPocket Monsters: Best Wishes Season 2 Special, Dent and Takeshi! Gyarados\\'s Outrage!!P4GAOtome wa Onee-sama ni Koi Shiteru, The Maiden Is Falling In Love With The Elder Sister, Otoboku, Otome wa Boku ni Koi Shiteru: Ookina Shounen Shoujo no Sekai Meisaku no Mori - TsunderellaにゃんこデイズNew Dream Hunter Rem: Massacre in the Phantasmic LabyrinthCat GodTriZenon, Invincible Champion Tri-Zenon, Muteki Ou Tri-Zenon, Mutekioh Tri-ZenonMonster Strike Summer SpecialMAZE☆爆熱時空マジンボーンMahoutsukai Sally, Sally the WitchKyoryu Wakusei, Dino-Planet, Virtual Trilogy part 1MadogatariKoi Suru Tenshi Angelique, Koi Suru Tenshi Angelique: Kagayaki no Ashita OVAKinnikuman II: Muscle-Man Competition! Great War, Kinnikuman Second Generations: Muscle-Man Competition! Great War, Massuru Ninjin Soudatsu! Choujin Dai Sensou, Muscle Ginseng Competition! The Great Choujin War, Ultimate Muscle, Kinnikuman NiseiPhilosopher\\'s Grandson, Magi\\'s GrandsonKasumin 3rd Seriesエスアザーワイズドラゴノーツ-ザ・レソナンス-AppmonDiGi Charat Christmas SpecialDaishizen no Majyu Bagi, Daishizen no Majuu Bagi, Taishizen no Makemono Bagiコードギアス\\u3000亡国のアキト 第4章: 憎しみの記憶から映画 中二病でも恋がしたい! -Take On Me-週替わりショートムービー「こたつ DE フォトセッション」Bleach Jump Festa Anime Tour 2008, Bleach Colorful!: Gotei Juusan Yatai Daisakusen!Battle Spirits Season 6ASTRO BOY 鉄腕アトム〜月面基地・消えたロボットの謎〜Akuma no RiddleAkihabara Cyber Team, Cyber Team in Akihabara, kihabara Dennou GumiRed Photon Zillion劇場版アイカツ！ 大スター宮いちごまつり前夜祭!!School of Love: Heart\\'s Story, The Tale of CuoreAge 12., Juuni-sai.Hack OVAZinba MonstersYugioh, Yu-Gi-Oh!, Yu-Gi-Oh!: Duel Monsters, Yugioh: Duel Monsters, Yu-Gi-Oh!: Pyramid of LightYs II, Ancient Books of Ys IIXiyouji zhi Dasheng Guilai, CUG: King of Heroes我开动物园那些年Utawarerumono: The False Faces Specials, Utawarerumono: The False Mask Specialsタッチ Miss Lonely Yesterday あれから, 君は...Tottoko Hamutarou: Hamu Hamu Hamuuja! Maboroshi no Princess東京アンダーグラウンドタイドライン・ブルーSAO 2 Specials, SAO II SpecialsSuper Robot Taisen Original Generation - The Animation, Super Robot Wars OG: The Animation, SRWOGスターオーシャンEXスカイガールズModern Magic for Dummies, Properly Learned Modern MagicXi Xing Ji 3rd Season, Journey to the West, Westbound, Westbound DisciplineWellber Story: Sisters of WellberWakakusa Monogatari Yori Wakakusa no Yon Shimai, Young Grass Story: Four Sisters of Young Grass鉄拳 BLOOD VENGEANCEソウナンですか?The SkullmanSasami: Maho Shojo ClubRecorder and Backpack Mi, Recorder and Satchel Mi, Recorder and Randsell Mi, Recorder and Ransel Mi, Recorder to Randsell Mi, Recorder to Ransel MiRay Project, Ray: The AnimationRanma 1/2: 1994 Music CalendarプッカProject BLUE 地球SOSパワーストーンPokemon Diamond & Pearl Get Together! Pokémon Planet Centerニンジャスレイヤー フロムアニメイシヨンNanaka Juu-nanabun no RokuThe Bells of NagasakiMM! Hidden Cam, MM! SS!, MM! Group, Emu Emu!TALES OF CRESTORIA-咎我ヲ背負いて彼は発つ-Ikki Tousen in Kyotoアイ★チュウ HALFWAY THROUGH THE IDOL百花繚乱 サムライブライド谎颜Grancrest Senki Episode 11.5, Grancrest Senki Recapギフト～ eternal rainbow月曜日のたわわ 特典フューチャーカード バディファイトXエクスドライバー the MovieDirty Pair Flash 2 OVADirty Pair Flash OVAChu-zumo, Chuu-ZumouSuper Dimensional Cavalry Southern Cross, Super Dimension Cavalry Southern Cross, Southern CrossLiming Zhi Jian, Changye Kaituozhe, Changye Kaita ZheC3, C Cube, C^3Carole & Tuesday Recap, Carole & Tuesday Episode 12.5Cardfight!! Vanguard: overDressBurn Up! X, Burn Up! Excess, Burn-Up Excessベイブレードバーストベターマンベルセルクべあべあべあくまー！Baribari Densetsu, Bari-Den, Motorcycle Legend, Legend of Rolling WheelsAsobi ni Ikuyo!, Let\\'s Go Play!, Asobi ni Ikuyo: Bombshells from the SkyArslan Senki Episode 13.5Happy☆Lesson Episode 11.5 Nice and Warm! All Alone with Kanna, Happy Lesson: Hoka Hoka Kanna to Futari KiriHanaukyou Maids, Maid in Hanaukyo, Hanoukyo Maid Tai, Hanaukyo Maid TeamHakugei: Legend of the Moby Dick, Legend of the White WhaleGrimgar of Fantasy and Ash Special, Grimgal of Ashes and Illusion Special, Grimgal of Ashes and Fantasies Special, Hai to Gensou no Grimgal Special, Grimgar of Fantasy and Ash Episode 2.5, Grimgal of Ashes and Illusion Episode 2.5グリーンレジェンド乱Girls und Panzer Movie: Understanding Girls und Panzer in 3 Minutes!!, Girls und Panzer der Film Intro, San-pun Chotto de Wakaru!! Girls und PanzerElementhunters, Element HunterDragon Ball Z: Plan to Eradicate Super Saiyans OVA RemakeドラゴンボールZ この世で一番強いヤツDarwin\\'s Game Episode 4.5, Darwin\\'s Game Recapこみっくパーティー不死不灭Beyblade Burst Super ZB-PROJECT～鼓動＊アンビシャス～Asobotto Senki Goku, Anbot Senki Gokyuu, Association Robot Gokuアルプスの少女ハイジ アルムの山編Little Girl PresidentWooser no Sono Higurashi Second Season, Wooser no Sono Higurashi 2, Project Wooser 2With All Our HeartsUsavich 4UFO Warrior Dai Apolon 2, Shadow World 2Suddenly, Egyptian GodsHamtaro, Hamutarou, Tottoko HamutaroThe Great Tongari Island Treasure Hunting Adventure, Treasure Hunting: Tongari Shima no DaiboukenTHE 八犬伝SAO Special, S.A.O Special映画 すみっコぐらし 青い月夜のまほうのコソニック X四格勇者Shiguang Dailiren Xiao Juchang, 时光代理人小剧场, Link Click Mini TheaterFriagne and Marianne\\'s Why, What, Shana! Ask Anything Question Box咲-Saki-阿知賀編 episode of side-A ショートオリジナルアニメ「玄の誕生日」My Recently Hired Maid is SuspiciousSacred 7Rokumon Tengai Monkore KnightRoad to You: The Road That Goes on to You, Road to You: Promise of the Starry Hill, Road to You: The Snow That Dances in Memories, Road to You: Kimi e to Tsuzuku Michi, Road to You: Hoshifuru Oka no Yakusoku, Road to You: Kioku ni Mau Konayuki乱歩奇譚 Game of LaplacePrincess Tutu SpecialsOda Shinamon NobunagaNanatsu no Taizai: Fundo no ShinpanNanatsumaShooting Star Lens, Ribon Festa 2012, Ribbon Festa 2012Shin Muumin, New MoominModel Suit Gunpla Builders Beginning G今日のあすかショーGlassy OceanEureka Seven Episode 51Deep Blue Fleet, Kompeki no KantaiKokoro LibraryA linchpinProtect from the Shadows!Shiawase Apartment\\'s Okojo-san, Happy OkojoSaikyou Robo Daioja, Robot King Daioja, Ultimate Robo DaihojaThe Fakeローリング☆ガールズPokémon the Movie XY 2015, Pokémon the Movie XY: The Archdjinni of Rings - Hoopa, Pokémon Movie 18ノケモノたちの夜Mouryou no Hako - Hako no Yuurei no Koto, The Case Files of Atsuko Chuzenji: \\'The Case of the Spirits in the Boxes\\', Chuzenji Atsuko no Jikenbo \\'Hako no Yuurei no Koto\\'MARS REDNatsu Da! Mizugi Da! Gasshuku Da!, It\\'s Summer! It\\'s Swimsuits! It\\'s Training Camp!, Takeru Nyotaika!? Minami no Shima de Supoon, Maken-ki! Two: Takeru Nyotaika!? Minami no Shima de SupoonKurokami: Tokubetsu Hen Intermission, Kurokami: Intermission Special, Kurokami Recap, Black God SpecialGhost in the Shell: Stand Alone Complex - Solid State Society 3D - Tachikoma na Hibi, Kokaku Kidotai S.A.C. Solid State Society 3D - Tachikoma na HibiYunoZatch Bell!: Run Gash! Umagon has been stolen from us!Kiss x Sis (2010), KissxsisBlazing Transfer StudentHappy Lesson OVA薄桜鬼～御伽草子～グレゴリーホラーショーGokukoku no Brynhildr Special, Gokukoku no Brynhildr Episode 11.5Garasu no Usagi劇場版 ゲゲゲの鬼太郎 日本爆裂!!Five Star MonogatariFINAL FANTASY XV EPISODE ARDYN - PROLOGUEWake Up, Girls! Shin ShoAmaenaide yo!! Katsu!!: Don\\'t be Fooled!!, Amaenaide yo!! Katsu!! Special애프터눈 클래스Seven SeedsBandar Book: 1 Milion Year Earth Jorney, Bandar Book: Hyakumannen Chikyuu no Tabi, 24 Hour TV Specials小魔头暴露啦！Wagaya no Oinari-sama. Specials上野さんは不器用Scientific Boys Club, China-san: Specials, Shrinking of Miss China, Planet of Miss China, Sake Cup of Miss China, Drinking of Miss ChinaTransformable Shinkansen Robot Shinkalion MovieZui Hou De Zhao Huan ShiHitori no Shita: The Outcast - Fanwai Pian, Yi Ren Zhi Xia: Tianshi Xia Shan, The Outcast OVA, The Outcast: Extra Story, The Outcast: Taoist Master Goes Down The MountainJourney to the West, Westbound, Westbound DisciplineX 1999, X (1996)Wangu Jian ShenVampire Hunter: The Animated Series宇宙の騎士テッカマンブレードThundersub, Anti-Space Ship, Uchu Kubo Blue NoahHamutarou no OtanjobiTide-Line Blue Special, Tide-Line Blue Episode 13, Tide-Line Blue: BrotherTenshi no Shippo 2, Tail of Angels Chu!, Angel Tales 2Tensei shitara Slime Datta Ken 2nd Season Part 2 Recap, Tensei shitara Slime Datta Ken Episode 48.5Sword Art Online Alternative: Gun Gale Online Recap, Sword Art Online Alternative: Gun Gale Online Episode 5.5Spider Riders: The Heroes of OracleSoukou Kihei Votoms: Pailsen Files - Gekijouban, Armored Trooper Votoms: Pailsen Files the MovieSora Tobu Yuurei Sen, The Flying Ghost Ship, Sora Tobu Yureisen新巨人の星IISHAMAN KING FLOWERSSengoku Musou Special: Sanada\\'s Chapter, Samurai Warriors Special: Sanada\\'s ChapterSayonara Zetsubou Sensei BD Box Special OmakePut It All in The Ring 1 Episode: Shadow Road, Ring ni Kakero 1: Shadow, Ring ni Kakero 1: Shadow-henPriPara & Kiratto Pri☆chan Movie: Sparkling Memorial LiveSubete no Nazo wo Tokiakase! Pocket Monster XY & Z Kanzen Master Special!!Leave it to Piyoko!, DiGi Charat - Leave It To Piyoko pyo!, Piyoko Can Help You pyo!, Di Gi Charat - Leave It To Piyoko pyoPeace Maker Kurogane: Original Short Story - Gion Festival, Peacemaker Kurogane Special, PMK SpecialOmishi Magical Theater Risky SafetyMy Wife is the Student Council President 2nd Season, Oku-sama ga Seito Kaichou! 2nd Season, Okusama ga Seitokaichou! PlusOji-san to MarshmallowNG Knight Lamune & 40 DXNaruto: Find the Crimson Four Leaf Clover!, Naruto: Jump Festa 2003ななか６／１７MushiutaAdventures of Maya the HoneybeeMinami Kamakura High School Girls Cycling Club: Here We Come, Taiwan!猫猫のひとりごとMamaPoyoM3: Sono Kuroki Tetsu, M3 The Dark Metal, Mortal Metal MemoriesStar of the SeineWillie Boy, Willy Boy, Shounen Isamu, The Rough and Ready Cowboy, Isamu the Wilderness Boy.KoharubiyoriLittle Lulu and Her Little FriendsAkko-chan\\'s Secret 3, Secrets of Akko-chan (1998)フューチャーカード バディファイトDDDえんとつ町のプペルDragon Ball GT: 100 Years After - TV SpecialThe Country of \"Ichi\", the Stray DogDigimon Savers Special: Agumon! Gaomon! Lalamon! Explosion! The Last Battle Off-screenDigimon Savers the Movie: Ultimate Power! Activate Burst Mode!!ディアーズD.C.S.G. Omake, Da Capo 2nd Season OmakeCross Fight BedamanThe iDOLM@STER Cinderella Girls Gekijou, The Idolmaster Cinderella Girls Gekijou, Cingekiチェインクロニクル～ヘクセイタスの閃〈ひかり〉～爆丸バトルブローラーズ  New VestroiaアストロノオトAru Machikado no Monogatari, Story of a Street Corner, Tale of a Street CornerArea 88 GekijoubanAnime de Wakaru Shinryou NaikaAIの遺電子Businessman in Africa (TV), African Office Worker (TV).hack//Udeden, .hack//Legend of the Twilight Bracelet, .hack//DUSKゼノンザード THE ANIMATIONDiGi Charat: Winter GardenTsuyokiss Cool x SweetTianmei De Yaohen天荒战神Tezuka Osamu\\'s Tales from the Old TestamentTekyuu, Te-kyuTaiyi Jian Xian ChuanS.A.O: Extra Edition, SAO: Extra Edition救われるラミリスMatoi the Sacred Slayer Episode 13Soreike! Anpanman Soratobu Ehon to Garasu no Kutsu, Soreike! Anpanman: The Flying Picture Book and the Glass ShoesChuu no Manimani SpecialsShan shui qing, Feeling from Mountain and Water, Feelings of Mountains and Waters戦国乙女～桃色パラドックス～World Children\\'s Classics: The Prince of the Swansラーメン大好き小泉さんQín Shí Míng Yuè 2, The Legend of Swordsman 2, Qin\\'s Moon 2, Qin Shi Ming Yue 2: Night Ends - DaybreakPretty Cure Miracle Universe, Eiga Precure Miracle UniversePocket Monsters: Pikachu TankentaiPokémon Mystery Dungeon: Time Expedition & Darkness ExpeditionPataliro! Stardust ProgramArbre de Palmem鬼武者おねがい♪マイメロディ きららっ★Norn 9 Norun+Nonet, Norn 9 Norun+Nonettoねこ・ねこ・幻想曲Sherlock Hound Movie 02, Meitantei Holmes Movie 02魔王様、リトライ！ルパン三世 VS キャッツ・アイLadies vs. Butlers!, Redi x Batoきょうかいのかなた アイドル裁判！～迷いながらも君を裁く民～Kochikame Special 21: Omoide no Daijirou-gou, Kochikame: Hashire! Ryoutsu-shiki Chinchin Denshaキリングバイツ機動戦士ガンダム\\u3000ＭＳ ＩＧＬＯＯ ２\\u3000重力戦線Kemono Friends Episode 12.1, Kemono Friends: Bus-like, Kemono Friends: Basuteki格闘美神 武龍K-On!! Specials, Uraon!!, Keion Specials 2Shadow Skill OVA, Shadow Skill 2Sensei no Ojikan: Dokidoki School Hours Episodes 14-20Sangokushi [3] Harukanaru TaichiCoral Reef Legend: Elfie of the Blue SeaSMガールズ セイバーマリオネットRRDG오스카의 오아시스Oku-sama ga Seito Kaichou!Little Norakuro七つの大罪 怨嗟のエジンバラ 後編Occult Investigator\\'s Strange RecordSherlock Hound Movie 01, Meitantei Holmes Movie 01Masamune-kun no Revenge OVASpiritual Domain Second Season, Spiritual Field 2Kuragehime Heroes☆, Kuragehime SpecialsNorthward: Diamond Dust Dropsかぐや姫ジョジョの奇妙な冒険 ファントム ブラッドChobin the Star Child祝! (ハピ☆ラキ)ビックリマンゴルゴ１３\\u3000ＱＵＥＥＮ\\u3000ＢＥＥWinter PresentGuild of DepravityStory of War: Futatsu no Kurumi, Two Walnuts, Sensou Douwa 6Hajikechau! Dokidoki Trouble FreezingFrag Time, Flagtime, Flag TimeFate/kaleid liner Prisma☆Illya: Prisma☆Phantasm OVAGarou Densetsu: The Motion PictureEikyuu ShounenKing Arthur, King Arthur and the Knights of the Round Table, Prinz Arthus英雄王、武を極めるため転生す ～そして、世界最強の見習い騎士♀～Dragon Quest Dai no DaibokenChouju Kishin Dancouga: God Bless Dancougaキャンディ・キャンディ 春の呼び声Breaker Blade Picture DramaThere\\'s Good Weather TomorrowOne Day A Letter Arrives from the Dog Kingdomアニメ交響詩 ジャングル大帝それいけ! アンパンマン とばせ! 希望のハンカチ12 Taisen, 12 WarsIkkitousen XX Yume RokkeiIe Naki Ko Rémi Specials (2001), Sekai Meisaku Gekijou Kanketsu Ban: Ie Naki Ko Remi, World Masterpiece Theater Complete Edition: Homeless Child Remy, Nobody\\'s Girl Remi, Remi the Homeless GirlChou Hidamatsuri in Nippon Budokan, August 26: Super Hidamari FestivalIn a Distant Time 3: Neverending Destiny, Haruka Naru Toki no Naka de 3: Owarinaki UnmeiHarisu no Senpou, Harisu no TsumujikazeViolinist of Hameln (1997), Hamelin no Violin Hiki (1997)薄暮Phoenix Wright Ace Attorney: Spirit of Justice PrologueGundam Build Divers Series: BattlogueGranblue Fantasy The Animation Season 2: Djeeta-hen, Granblue Fantasy The Animation Season 2 SpecialsGODZILLA 決戦機動増殖都市銀河鉄道９９９ エターナルファンタジージオブリーダーズ２ 魍魎遊撃隊Dance in the Vampire Bund Recap, Dance in the Vampire Bund Episode 7.5THE IDOLM@STER Cinderella Girls Theater 3rd Season, The Idolmaster Cinderella Girls Gekijou 3rd SeasonCARDFIGHT!! ヴァンガードG Z武装神姫 Moon Angel僕のヒーローアカデミア MemoriesブラッドシーChikashitsu kara no Fushigi na Tabi, The Wonderland百炼飞升录Eiga Atashinchiアップル・シードアイカツプラネット！アクションヒロイン チアフルーツAICO91 Days Recap, 91 Days Episode 7.5, Day 7.5 Mijikai Rousoku, Day 7.5 Short Candle22/7 Special, Nanabun no Nijyuuni Episode 13幽幻怪社Ronin Warriors OAVWeiss Kreuz Gluehen, Weiss Kreuz Gluhen, White Cross GlowingI Can Hear the SeaUchuu Senkan Tiramisù Zwei, Space Battleship Tiramisu Zweiトランスフォーマー・カーロボットTOKKÔ[特公]時季（とき）は巡る～TOKYO STATION～KOF, Quanhuang MingyunTenchi Muyo! Ryo-Ohki 4th Seasonてーきゅう 9期テクノロイド OVERMINDシャッフル！メモリーズAka, Scarlet, VermilionI\\'m Quitting Heroing: Don\\'t Lose Sight of Why We Took This Research TripYakumoWooser no Sono Higurashi Third Season, Wooser no Sono Higurashi 3, Project Wooser 3東京ESPてーきゅう 6期신비아파트 : 고스트볼의 비밀Shi Fang Shen Wang, 十方神王Sangokushi [1] Eiyuutachi no YoakeRudolph and IppaiattenaロビハチPuchimas!!: Petit Petit iDOLM@STER OVA, Puchimas!!: Petit Petit Idolmaster OVAEiga Precure All Stars: Haru no Carnival, Precure All Stars Movie: Spring CarnivalPoukinぺとぺとさんぱすてるらいふパラサイトドールズパパと踊ろうおにぱん！Masou Gakuen Hybrid x Heart SpecialsMWZ境界戦機Engage Planet Kiss DumKidou Senshi Gundam MS IGLOO: Ichinen Sensou HiwaCaterpillar of RagsThe Unknown Girlfriend, Kemeko DXIkki Tousen: Extravaganza EpochCool CoupleA Portrait of Jianghu: Spirit Master, Painted Jianghu 2Higurashi no Naku Koro ni OVA 2, When They Cry GlitterRyuujin Onsen Batsu Game no Maki, Ryuujin Onsen Punishment Game Chapter, Haruka Naru Toki no Naka de 3: Kurenai no Tsuki Special, Harukanaru Toki no Naka de 3: Onsen Chibi Special劇場版ごん ‒ GON, THE LITTLE FOX-Extreme Hearts（エクストリームハーツ）Kyokugen Batoru!! San Dai Sūpā Saiya-jin\\u3000Supesharu, Kyokugen Batoru! ! San Dai Chō Saiyahito Supesharu, Extreme Battle!! The Three Great Super Saiyans – Special, Dragon Ball Z: Movie Overview SpecialDragon Ball Z: Super Saiya People Gokuドラミちゃん ミニドラSOS!!!Doraemon\\'s Time Capsule for 2001Densetsu no Yuusha no Densetsu Recap, Densetsu no Yuusha no Densetsu Episode 15.5, Legend of the Lengendary Heroes Episode 15.5Dakara boku-ha H ga Dekinai., Dakara Boku wa, Ecchi ga Dekinai.Busou Shinki OVAバブルガムクラッシュClub-To-Death Angel Dokuro-chanBlue Dragon: Tenkuu no Nana Ryuu, Blue Dragon: The Seven Dragons of HeavenBleach: Jump Festa 2004Battle Spirits Season 5Astarotte no Omocha! OVA, Lotte no Omocha! OVA, Lotte no Omocha! EXArpeggio of the Blue Steel: Ars Nova - KirikumasAmagami SS+ Plus Picture Drama - Valentine For You, Amagami SS+ Plus Picture Drama - Give Me Chocolate!Kawaguchi Kaiji\\'s 9 Love StoriesAachi & SsipakTracing the Gray SummerIkkitousen: Great Guardians OVAPainting Rivers and Lakes 4, Hua Jiang Hu: Bu Liang Ren 4th SeasonPocket Monsters: Best Wishes Season 2 Special 2, Iris vs. Clair! The Road to Become a Dragon Master!!Dorami & Doraemons: Space Land Kiki Ippatsu!Da Hu Fa, Da Hufa, Da Hufa Zhi Hei HuangshengChrno Crusade: Az no Hoshuu Jugyouカードファイト!! ヴァンガードG文豪とアルケミスト 〜審判ノ歯車〜BLEACH 祝！ルキア奪還！輝け！死神十番勝負！見たい死神ドーンと見せますスペシャルArcBlue Sky Girl Squadron, The Blue Sky Girls Squad, Aozora ShoujotaiAkame ga Kill! Theater爱在西元前 第二季I\\'m standing on 1,000,000 lives.InuHasa, Dog and Scissors妹さえいればいい。幻界王YuruaniHorogura Specials, HoloGra SpecialsHagure Yuusha no Estetica SpecialsガンフロンティアGarakan, Garasu no Kantai, Glass FleetGalactic Drifter Vifam 13, Round Vernian Vifam 13Do Your Best, Douki-chan, Senpai is Mine腐男子高校生活Fate/Extra: Last Encore - Irusterias Ptolemaic TheoryDi Gi Charat サマースペシャル2000The Monkey King, Sun Ukun: Uproar in Heaven, Sun Wukong: Havoc in HeavenCosmowarrior ZeroCho Jiku Seiki Orguss, Super Dimensional Century OrgussJarinko Chie: Chie-chan Funsenki, Chie-chan Funsenki Jarinko ChieChaos Child: Silent Sky, Chaos Child Episode 13, Chaos Child Episode 14BUZZER BEATER.hack//Another Story, .hack//SIGN Episode 27ゾン100総集編～グンマーに着くまでに復習したい100のこと～YamiBou, Traveller of Darkness, Hat and Book Traveler, Traveller Yami, Hat and BookSpace Brothers, Planetarium Uchuu KyoudaiMon PeToaru Kagaku no Accelerator SpecialToHeart2KOF XVTate no Yuusha no Nariagari 2nd Seasonたまごっち!Tales of the Heroes: Twin Brave SpecialsStella Jogakuin Koutouka C3-bu, Stella Jogakuin Koutou-ka C3-bu, Stella Women\\'s Academy, High School Division Class C3それいけ！アンパンマン よみがえれ バナナ島Sonic Night of the Werehog, Sonikku & Chippu Kyofu no Yakata, Sonic & Chip House of Terror戦国無双龍ヶ嬢七々々の埋蔵金 SDキャラショートムービーぷにぷに☆ぽえみぃPuchimas! Wakku Waku!!, Puchimas!: Petit Idolmaster Dai 0 Wa, PUCHIM@S Episode 0Puchimas!: Petit Idolmaster Special, PUCHIM@S Specialピングー in ザ・シティPEACE MAKER 鐵～友命～Paul no Miracle Dai Sakusen, Paul\\'s Miracle War, Paul\\'s Miraculous Adventures, Paul\\'s Miracle Strategy PlanPa-Pa-Pa ザ★ムービー パーマン タコDEポン! アシHAポン!大家さんは思春期！Ｏｈ！ファミリーSummer BeginsNarue\\'s worldAlmost Daily __! Sort of Live Video, Monster Musume WEB Shorts宮河家の空腹ミス・モノクローム -The Animation- 3魔法少女サイトラブオールプレーLee Tantei Jimusho, リー探偵事務所レモン エンジェル プロジェクトKoro\\'s big walkThat\\'s My MasterGorgeous Butterfly: Young NobunagaPanzer World Galient, Kikoukai Garian武者ケロ\\u3000お披露目！戦国ラン星大バトル！！Jungle Emperor Leo Movie, Jungle Taitei Gekijouban, Jungle Emperor Leo: The Movie, Jungle Taitei (1966)咲日和 AnimationJump Festa 2016 Theater MannersSaijaku Muhai no BahamutRing ni Kakero 1: World Tournament ChapterReideen (2007), RaideenQueen\\'s Blade OVA, Utsukushiki Toshi-tachi, Utsukushiki Toushi-tachi, Queen\\'s Blade: Beautiful FightersQueen\\'s Blade 2, Queen\\'s Blade: Gyokuza wo Tsugumono, Queen\\'s Blade: The Successor of the Throne, Queen\\'s Blade and the Evil EyePokemon XY: The Minidjinni of the Word \"Appear!\" - FuupaBlack Clover Specials, Clover Clips: SupersizedAngel\\'s Tail, Fairy Tale Angel Tail, Angel TailsOne Piece New Year Special: Special Report - Secret of the Straw Hat Pirates!, One Piece RecapNils no Fushigi na Tabi, Nirusu no Fushigi na Tabi, The Wonderful Adventures of Nils: The Film, Wonderful Adventures of Nils (Movie)マブラヴ オルタネイティヴ無敵ロボトライダーG7Miss Morita is TaciturnThe doctor for monster girls.水グモもんもんThe Temptation of a Cat Demonラブライブ！μ\\'s Go→Go! LoveLive! 2015 ~Dream Sensation!~Lostorage conflated WIXOSS -missing link-Spiritual Domain Fourth Season, Spiritual Field 4Girl meets Bear SpecialsKuiba 3: Mars Rising, God of War Rising, Ares RiseGhost in the Shell: Stand Alone Complex 2045, Ghost in the Shell: SAC_2045The YearlingRoar of the Machine God Demonbane, Kishin Houkou Demonbane (2006)Kanokon R, Kanokon OVAカビゴンとカラカラその花びらにくちづけを 玲緒麻衣だいありぃPokémon XY: Cocoon of Destruction and Diancie, Pocket Monsters XY: Hakai no Mayu to Diancie, Pokémon XY: Hakai no Mayu to DiancieNankokoSpiritual Domain Third Season, Spiritual Field 3, Spirit Realm 3, Ling Yu: Di San JiクラユカバEUREKA／交響詩篇エウレカセブン ハイエボリューション紅殻のパンドラNakaImo, One of Them is My Younger Sister!, Who is Imouto?Kodai Oja Kyoryu King: Yokuryu Densetsu, Dinosaur King D-KidsWakate Animator Ikusei Project, 2010 Young Animator Training Project, Anime Mirai 2010, Project AKimagure Orange Road PilotArslan Senki ONAMasked Rider Den-O: Imagin Anime 2Princess Resurrection: Kerberotte Specials, Princess Resurrection (OVA) SpecialsGatchaman Fighter, Science Ninja Team Gatchaman Fighter, Science Ninja Team Gatchaman F, Kagaku Ninjatai Gatchaman Fighter九州缥缈录実は俺、最強でした?Inner Destructive Fist Polymar, Hurricane Polimar, Hurricane Polymer炎の蜃気楼 [ミラージュ]Hero Mask Part 2Hentai Seiri Seminar, Hen Zemi, Abnormal Physiology SeminarFrom the Apennines to the Andes: The Movie, MarcoShirogane no Guardian, The Silver Guardian,  Gin no Guardian 2nd SeasonFAKEF-Zero: The Legend of FalconZenbu Misemasu Toshi Wasure Doragon Boru Zetto!ドラえもん がんばれ！ジャイアン！！Dirty Pair Flash 3 OVADi Gi Charat Other SpecialsDebirumanDa Capo 3クラシカロイド 第2シリーズTHE IDOLM@STER CINDERELLA GIRLS Theater: Tuesday Cinderella Theater 2nd Season, Idolmaster Cinderella Girls Theater: Tuesday Cinderella Theater 2nd Season, Cingeki (Web) 2nd SeasonBite Me! ChameleonCardfight!! Vanguard Extra StoryBROTHERS CONFLICT OVABremen Four, Brehmen 4: Angels in Hell, Bremen 4: Angels in Hell, 24 Hour TV SpecialsAnime San Juushi: Aramis no Dai Boken, Three MusketeersAkuma no Riddle Special, Riddle Story of Devil Special, Akuma no Riddle Episode 13中国奇谭Yu Yu Hakusho Picture Drama, YuYu Hakusho夜ノヤッターマンYattaman New Series, Yattaman Remake, Yattaaman 2, Yatterman (2008)Fairy Planting ManualTriage X Episode 11, Triage X OAD, Triage X OVA桃華月憚殿といっしょとびだせ！ならせ！ PUI PUI モルカーTenchi Muyo! Ryo-Ohki 5th Season, Tenchi Muyou! Ryououki Dai Go-kiテイルズ オブ ジ アビス スペシャルファンディスクSofuteni, Soft TennisShippu Iron Leaguer OVA, Hurricane! Iron Leaguer OVAYu Yu Hakusho: Mu Mu Hakusho, Yu Yu Hakusho: Eizou Hakusho III, Yuu Yuu Hakusho: Eizou Hakusho IIIYozakura Quartet: Hana no Uta SpecialsYamishibai: Japanese Ghost Stories Second Season, Theater of Darkness 2nd SeasonトラブルチョコレートTravaRescuemanアイドルマスター シャイニーカラーズGenius BakabonストリートファイターZERO THE ANIMATIONSpirit of Wonder: Scientific Boys ClubSky Blue Utilityスナックバス江Love Jeans, Love Kayumi, Love KeitaiShin Koihime Musou: Otome Ryouran Sangokushi Engi - Live RevolutionZaidanhoujin Occult Designer Gakuin Specials, Seikimatsu Occult Academy SpecialsHela superdziewczynaSacks&Guns!!, Sakugan Labyrinth Marker, Project ANIMA, 削岩ラビリンスマーカーりぜるまいんPhantom 〜Requiem for the Phantom〜 ピクチャー・ドラマファンタシースターオンライン2 エピソード・オラクルペルソナ 〜トリニティ・ソウル〜Persona 4 The Golden Animation: Another EndOne Piece Special, One Piece RecapNIGHT HEAD 2041你在星光深处Tsubomi\\'s SecretsMetal Fightersメルクストーリア -無気力少年と瓶の中の少女-女神寮の寮母くん。Massugu ni Ikou. (2004), Go forward, Let\\'s Go Straight Ahead!, Let\\'s Walk StraightKyousougiga (TV) Recaps, Kyousou Giga (TV) SpecialsKUROMI’S PRETTY JOURNEYKurogane no Linebarrels OVAKobo, the Li\\'l RascalKinnikuman: New York Close Call!Kidou Senshi Gundam NarrativeI Was Reborn as a Vending Machine, Wandering in the Dungeon, I Reincarnated Into a Vending Machine, OrejihankiItsuTen伊藤潤二「コレクション」犬神さんと猫山さんIGPX: Immortal Grand PrixID-0Phoenix Wright: Ace AttorneyGundam Build Fighters: SD Kishi Fighters, Gundam Build Fighters: 6 Years LaterGalaxy Express 999: Glass no Clair, Ginga Tetsudo 999: Glass no Clair風夏φなる・あぷろーちアサルトリリィ Bouquet想いのかけらNomad: Megalo Box 2 - Hachidori to Tabibitoモルダイバーミス・モノクローム -The Animation- 2名探偵コナン～星影の魔術師～Megaton MusashiKochikame Special 23: Seton Tankentai! Sumidagawa no Chikai - Omoide no Shiroi Kujira wo Sagase!Kinnikuman 2nd Generation, Kinnikuman Nisei: Second GenerationsKinnikuman (1984), Kinnikuman: Stolen Championship Belt, Kinnikuman: Ubawareta Championship Belt機動戦士ガンダムAGE血液型くん！Would you love a pervert as long as she\\'s cute?Kanokon R Specials, Kanokon OVA SpecialsK (Movie) Manner Movie, K-Project Movie Manner Movie, K-Project Sequel Manner MovieJoshi Kousei: Girl\\'s High SpecialsJe t\\'aimeHang On! Climbing GirlsHigh School! Funny-face Club MovieWeird VolunteersHentai Seiri Seminar, Hen Semi, Abnormal Physiology Seminar, Hen Zemi OVAはれときどきぶたGyoten Ningen Batsealer, Gyoten Ningen Batseelor, Gyouten Ningen Batseelor, Gyoten Ningen Batoshiiraaゲゲゲの鬼太郎 最強妖怪軍団！日本陸!!Dragon Quest: Dai no Daiboken Tachiagare! Aban no Shito, Stand up!! Disciples of AvanDD北斗の拳The Great RulerComic Party: Revolution, Comic Party Revolution TV, Comic Party Revolution (2005)Canaan SpecialBusGamerBreak Blade Special, Broken Blade Virgins WarLotte no Omocha!Amon: The Apocalypse of DevilmanJoou-heika no Petit AngieSega Hard Girls, Hi-sCool! Seha GirlsMobile Suit Gundam EvolveGen\\'ei wo Kakeru Taiyou, Il Sole Penetra le Illusioni, The Sun Penetrates the Illusions学校の怪談Winter Sonata Episode 0, Fuyu no Sonata Episode 0, Winter Love Story Episode 0Fushigi no Umi no Nadia SpecialsFLCL 3, Fooly Cooly Alternative, Furi Kuri Alternative风起洛阳之神机少年エスタブライフ グレイトエスケープSilverman-Gym Devilish Training Course, Dumbbell Nan Kilo Moteru? SpecialsDragonball GT, DBGTDokokade Nakushita Aitsuno Aitsu (1995)だんちがいダメプリ ANIME CARAVANCluster Edge (OVA), Cluster Edge: Secret Episodeばくおん!!AKIBA\\'S TRIP THE ANIMATION２１エモン 宇宙いけ！裸足のプリンセスTales of Windaria, Windaria: Legend of Fabulous Battle, Douwa Meita Senshi WindariaW.A.Lord of the Universe 3rd SeasonUmimonogatari Anata ga Itekuretakoto OVA, Umi Monogatari: Anata ga Ite Kureta Koto OVA, Believing Hearts, Umi Monogatari Episode 13UFO Robo Grandizer vs. Great MazingerTistou of the Green Fingers, Tistou of the Green ThumbsMariWaka探偵オペラ ミルキィホームズ AlternativeTreasure Island MemorialHols: Prince of the Sun, The Little Norse Prince, Little Norse Prince ValiantStarship Troopers: Kasei no UragirimonoSohryuuden: Legend of the Four Kings, SohryudenSoukyuu no Fafner: Arcadian Memory I - Tsuioku no Rakuen, Soukyuu no Fafner: Arcadian Memory II - Taiwa no SekaiTime and SpaceSenran Kagura Estival Versus: Festival Eve Full of Swimsuitsせいぜいがんばれ！魔法少女くるみPrincess Principal RecapPocket Monsters: Senritsu no Mirage PokemonPocket Monsters: Pikachu no Dokidoki KakurenboPokemon: Pichu Bros. Wild Adventure, Pocket Monsters: Boku-tachi Pichu Brothers - Party wa Oosawagi! no MakiPocket Monsters Advanced Generation - S3 Pokémon Mystery Dungeon: Team Go-Getters Out of the Gate!Mr. Osomatsu: The Hipipo Tribe and the Glistening Fruit鬼神伝想い雲Nyoron Churuya-san, Nyoron! Churuya-San, Nyoroon Churuya-sanAnimal Girls Hot Water ReportMiss Morita is Taciturn (TV)魔法の天使クリィミーマミ\\u3000ロング・グッドバイMagical Angel Creamy Mami OVA, Magical Angel Creamy Mami: Forever Once MoreLove Get Chu - Miracle Seiyuu Hakusho, Rabugetsu Chuレディレディ!! (1988)Ghost in the Shell: Arise - Another MissionKomaneko: the Stop-motion Movie, Komadori Eiga: Komaneko恋と嘘Kochira Katsushikaku Kameari Kouenmae Hashutsujo Special 27, Kochira Katsushika-ku Kamearikouen-mae Hashutsujo, Kochikame, This is the Police Station in Front of Kameari Park in Katsushika WardGoldfish Warning! The MovieKidou Keisatsu Patlabor Reboot, Mobile Police Patlabor RebootThe New Adventures of Honeybee MayaShadow Skill 1, Shadow Skill: Epilogue世界の終わりに柴犬とSakura Wars: School of Paris, Sakura Wars: Ecole de Paris, Sakura Wars OVA 3Cojicoji, Koji-koji, Sakura Momoko Theatre: Kojikoji뿌까(2018년)プリティーリズム・オールスターセレクションぽんのみちPocket Monsters: Pikapika Hoshizora CampPocket Monsters: Pikachu no Fuyuyasumi, Let\\'s Play on Christmas!, Christmas Night, Let\\'s Play in the Snow!, Kanga GamesSupreme Sword GodAce CensorateThe Legendary Monster EmperorToshi Gordian, Champion of Gordian, Gardian, Champion Gordian, Fighter GordianHamtaro, HamutarouAstro Fighter Sunred: DVD Short Corners, Tentai Senshi Sunred SpecialsLet\\'s go! Anpanman: Shine! Kurun and the Star of Life, Sore Ike! Anpanman Movie 30Showa MonogatariShigofumi ~Stories of Last Letter~ Picture Drama囀る動物はやるしかない！Rozen Maiden: Detective Kun-Kun, Rozen Maiden: S1 Detective Kunkun - Duell Walzerクオリディア・コードPokémon XY Special - Road to KalosOne Piece: Banpresto\\'s \"Cry Heart\" Short, Fuyujima ni Furu Sakura, Children\\'s Dream, Ace no SaigoMouse Story: The Adventures of George and Gerald七つの大罪 神々の逆鱗むぎゅっと！ブラッククローバーMonster RecapsMob Psycho 100 SpecialsMiracle☆Train: Ooedo-sen e YoukosoMagic-kyun! First Live 星ノ森サマーフェスタ2017 アンコールアニメーションムービーLoveless: Ohayou Loveless-kunLast Exile: Ginyoku no Fam Episode 9.5 and Episode 15.5, Last Exile: Ginyoku no Fam RecapsKoi to Uso OVA, Love and Lies OVAKinnikuman: Justice Superman vs. Soldier SupermanScience Ninja Team Gatchaman II, Kagaku Ninjatai Gatchaman IIAnime Sekai no Douwa Series, Merhen Okoku, Meruhen Ookoku, Animated Children\\'s Stories of the World, Sekai Meisaku Douwa Series: Wow! Marchen Oukoku상실의 집RGZRo-Kyu-Bu! SS 6.5, Ro-Kyu-Bu! SS Episode 6.5, Ro-Kyu-Bu! SS SpecialレポーターブルースQin\\'s Moon Special: Birdsong in Hollow ValleyGekijouban Pocket Monsters Best Wishes 2: Kyurem vs. Seikenshi, Pocket Monsters Best Wishes! 2 the Movie: Kyurem vs. Seikenshi, Pokemon Best Wishes!: Kyurem vs. the Sacred Swordsman Keldeo, Pokemon Best Wishes! Season 2: Kyurem vs. Seikenshiファントム THE ANIMATIONOre no Imouto ga Konnani Kawaii Wake ga Nai. Short Anime Specials, OreImo Season 2 Short Anime SpecialsObake no Q-taro (1985), Shin Obake no Q-taro (1985)Myriad Colors Phantom World: Limitless Phantom World, Musaigen no Phantom World Picture Drama SpecialsMirai Nikki: Ura Mirai Nikki, Mirai Nikki Specials, Mirai Nikki (2011) SpecialsRupan Sansei: Babylon no Ougon DensetsuWhat If the Ultimately Evolved Full Dive RPG was a Crappier Game than RealityKyoshiro to Towa no Sora Specials, Kyoshiro and the Eternal Sky Specials, Shattered Angels SpecialsThe Lord of Rogue DevilKING OF PRISM -Shiny Seven Stars-Armored Police Metal JackThe Clockwork Onesからくり剣豪伝ムサシロード神在月のこどもMasked Rider Den-O: Imagin AnimeJunk Head 1Idol Master Xenoglossia, Idolmaster Xenoglossiaひまわりっ！！Grenadier: The Beautiful Warrior Specials, Grenadier: The Smiling Senshi SpecialsGokinjyo Monogatari (1996)Ginga Tetsudo 999: Kimi wa Haha no You ni Aiseru ka!!, Ginga Tetsudou 999: Kimi wa Haha no You ni Aiseruka!!ジオブリーダーズ\\u3000File-X\\u3000ちびねこ奪還Original Genius Bakabon, Original Bakabon the Genius Fool, The Genius BakabonGangsta. Episode 9.5Neo Getter Robo vs. Shin Getter Robo Specials, Shin Getter Robo Tai Neo Getter Robo Specials, True Getter Robo vs. Neo Getter Robo Specials, Dynamic Super Robots Grand BattleDanMachi II OVADororon Enma-kun Me-ra Mera, Dororon Enma-kun MerameraDonguri House, Home of Acornsクロスファイト ビーダマン eSコッペリオンブレイブビーツAnime x ParasportYuuki Yuuna is a Hero Club Member, Washio Sumi wa Yuusha de AruPromiseI Picked Up An Attribute, Attribute CollectionUpotte!! OVAToaru Majutsu no Index-tan III Specials, A Certain Magical Index-tan IIIThe iDOLM@STER SideM Special, The Idolmaster Side M SpecialThe Idolmaster Cinderella Girls Episode 7.5Tekyuu 3 Specials, Te-kyu 3 SpecialsTekyuu 2 Specials, Te-kyu 2 SpecialsStreet Fighter Zero 2Soreike! Anpanman: Nosshi the Dinosaur\\'s Big Adventureそれが声優！  特別編「プチ打ち上げ」Shukufuku no Campanella Episode 13, La Campanella Della Benedizione OVA, The Blessing of La Campanella OVASHOW BY ROCK!! しょ～と!!Girls\\' Weekend ClassShining Tears Ex, Shining Tears Cross WindZillions of Enemy X IgnitionSamurai Troopers OVA 2Looking for a HomeUltra B: Dictator B.B. from the Black Hole∀ Gundam I: Earth LightTime Fighters in the Land of FantasyThe Doraemons: Dokidoki Wildcat EngineYou\\'re Under Arrest in America, Taiho Shichauzo in America, Taiho Shichau zo: No Mercy!!高校星歌劇[スタミュ] 第3期 特別編 アンコールShonen Hollywood 2Hakugin no Ishi: Argevollen, Silver Will ArgevollenMagic IdolBattle Spirits Season 7PazuDora CrossプロジェクトA子2 大徳寺財閥の陰謀Patalliro Saiyuki!おそ松さん ショートフィルムシリーズEto Tamashii Specialsそれいけ!アンパンマン 勇気の花がひらくときスケットダンス SDキャラフラッシュアニメYume da Maya Kidan, Yumedamaya: The Strange Tale of the Dreamball Dealer, The Strange Story of a Dream Sphere Dealer, The Strange Tale of a Dream Sphere Dealer妖怪ウォッチ!Yakitori: Soldiers of MisfortuneVatican Kiseki Chousakan Specialうぽって!!T7Sトゥハート ~remember my memories~Tantei Opera Milky Holmes TDSpy x Family Movie: Code: White Eizou Manner Kouza, Spy x Family Movie: Code: White Movie Etiquette Courseそれいけ! アンパンマン てのひらを太陽にSore Ike! Anpanman: Kirakiraboshi no Namidaそれいけ!アンパンマン ゴミラの星スローステップスケートリーディング☆スターズSigururiParallel World SamuraiThe Three-Body ProblemRockman OVARAGNARÖK THE ANIMATIONOzanari DungeonShomin Sample Specials音響生命体ノイズマンOneechan ga Kita Special, Onee-chan ga Kita Episode 13, My Sister Came Special日本沈没2020Nanatsu no Taizai: Audio Drama - Confession of Sin Dennou Grimoir!, Sin: Nanatsu no Taizai - Tsumi no Kokuhaku Dennou Grimoire!虫籠のカガステル百千さん家のあやかし王子もえたんMIDNIGHT EYE\\u3000ゴクウ名探偵コナン 謎のすい星怪獣を追え!Gosenzosama Banbanzai! the MovieChappy, Chappy the Magic UserMagical Taluluto 2 Magic Battle of the Friendship, Magical Taruruto-kun Burn! Magic War of Friendship今日、恋をはじめますこねこのチー ポンポンらー大旅行The Tuna Cop, Kochikame: Maguro no Notta KeikanZenki: Anki KitanBeast Rotation Battle Monsuno, Monsuno: Combat Chaos.Hallelujah BoyHangyakusei Million Arthur Special, Operation Han-Gyaku-Sei Million Arthur SpecialGTO OmnibusGalactic Drifter Vifam: Memory of Ms. Kate, Round Vernian Vifam: Memory of Ms. KateGekiganger 3: Nekketsu Daikessen, Nadesico OVAGal and Dinosaur, My Roomie Is a Dino, Gyaru to Kyouryuu震えちゃう❤フリージング ヴァイブレーションOVAエクセプションDigimon Adventure (2020), Digimon Adventure RebootDiwang Gonglue伝心\\u3000まもって守護月天！デスマーチからはじまる異世界狂想曲Kamen Rider Den-O 26.5, Den-O vs Shin-O, Shin-Chan vs Den-O, Kamen Rider Den-O vs Crayon Shin-Chin, Crayon Shin-chan Midsummer Night: I Have Arrived! The Storm is Called Den-O vs. Shin-O 60 Minute Special!!, Crayon Shin-chan and Kamen Rider: Den-O vs. Shiクレヨンしんちゃん外伝\\u3000お・お・お・のしんのすけComputer Revolution: The Birth of the Most Powerful and Fastest Brainsコードギアス 反逆のルルーシュ ナナリーinワンダーランドコードギアス 亡国のアキト 第5章 映像特典 「劇場予告」クロックワーク・プラネットTetsujin 28-go FX, Super Electric Robot Iron Man #28 FXちえりとチェリーBrothers Conflict Special, BroCon Special, BroCon Episode 12.5, Brothers Conflict Episode 12.5ぼくの地球を守って \\t～金色の時 流されて～Battle Athletes OVA爆丸バトルブローラーズAstro Boy: Mighty Atom - Visitor of 100,000 Light Years, IGZA, Astro Boy vs IGZAArtiswitch Picture DramaアカシックリコードジャンピングLifeJiku Tantei Genshi-kun, Flint HammerheadIS〈インフィニット・ストラトス〉2Hyakka Ryouran OVA SpecialsHuckleberry Finn StoryHitori Kurashi no Shougakusei, Grade Schooler Living AloneHajimete no Gyaru, Hajimete no Gal OVA, Hajimete no Gal Episode 11ガンダムビルドダイバーズ プロローグGalaxy Express 999 for PlanetariumBoy\\'s Love ScrambleFushigiboshi no☆Futagohime Gyu! Special: Gururi☆Fushigiboshi Meguri, The Twin Princesses of the Mysterious Star Gyu!: A Tour of the Mysterious Star『デジモンサヴァイブ』プロローグムービーPPGZDakara Boku wa, H ga Dekinai Episode 7.5, Dakara Boku wa, H ga Dekinai SpecialTHE IDOLM@STER Cinderella Girls Theater 4th Season, The Idolmaster Cinderella Girls Gekijou 4th SeasonChou Soku Henkei Gyrozetter, Hyper Speed Transforming GyrozetterBalatack, Baratak, Superman Task Force Baratack, Chojin Sentai Baratack, Superhuman Combat Team Baratack, Choujin Sentai Barattack地球が動いた日Cheat Pharmacist\\'s Slow Life: Making a Drugstore in Another WorldBlack Jack: Internet-han美男高校地球防衛部HAPPY KISS!ビッグXベイベーばあちゃんFree Kick Toward TomorrowArrow Emblem: Hawk of the Grand PrixBuck, Call of the Wild: Howl, Buck,Kouya no Yobigoe: Hoero BuckRedbreast Suzunosukeワールドウィッチーズ発進しますっ！Hoshi of Girls\\' Garden, Hoshi of the Garden of Girls, The Star of Girls\\' GardenドッグデイズCorpse Party: Tortured Souls - Bougyakusareta Tamashii no Jukyouチェブラーシカ あれれ？べあべあべあくまーぱーんち！！大運動会編アラタカンガタリ～革神語～雨宮さんオルタード・カーボン: リスリーブドAishen Qiaokeli-ing Recap009 RE:CYBORGZhen Dao Ge: Qian li bu Liu Xing, 枕刀歌: 千里不留行Yugioh, Yuu Gi Ou! Zexal, Yu-Gi-Oh! Zeal, Yu-Gi-Oh! ZexalUmeboshi-denkaThe Doraemons: The Great Operation of Springing Insects天才王子の赤字国家再生術 ショートドラマスケッチブック ～full color\\'s～ピクチャードラマ新幹線変形ロボ シンカリオンZ THE ANIMATION新・ど根性ガエルSharedol PilotSalad Juyushi TomatomanSakura Wars: The New Paris, Sakura Wars OVA 4ライザのアトリエ ~常闇の女王と秘密の隠れ家~Rokudou no Akujo-tachiPsycho Armor Govarian, Psycho Armor Gobarianプリズム・アークWorld of PokemonPocket Monsters: Best Wishes!, Black & White, BW: Rival DestiniesPingu in the City 2nd SeasonP5A, Persona 5 the AnimeOre, Twin tails ni Narimasu.As Long as There\\'s Love, It Doesn\\'t Matter If He Is My Brother, Right?鬼平~その男, 長谷川平蔵~One Room 3rd SeasonPrinz Arthus, King Arthur: Prince on White HorseMISSION-E猫之茗Madouou Grandzort OVA, Madou Ou Granzort: SnMT, Madouou Grandzort: Saigo no Magical TaisenLovely Muco!紅三四郎Kinnikuman: Dai Abareru! Seigi Choujin, Kinnikuman: Great Riot! Justice Superman, Kinnikuman: Daiabare! Segi Choujin機動戦士ガンダム 水星の魔女総集編喧嘩番長 乙女 -GIRL BEATS BOYS-New Cooking Master BoyAge of Gunslingers 3, Qiang Shen Ji 3rd SeasonPocket Monsters: Odoru Pokemon Himitsu KichiPikachu Short 23, Pocket Monsters: Meloetta\\'s Sparkling Recital, Pokemon: Meloetta\\'s Glittery RecitalPocket Monsters: Best Wishes! 2, Black & White 2Pocket Monsters Planetarium: The Message from the Aurora, Pokemon (2019): PlanetariumペットNurarihyon no Mago: Gekitou Dai Futtosaru Taikai! Nuragumi W Cup!!, Nurarihyon no Mago: Jump Festa 2010 SpecialNiNoKuniCat Soup TheaterHourglass of Summer Colours, Natsuiro no SunadokeiMisutenaide DaisyMiru Tights Special劇場版 明治東亰恋伽 〜花鏡の幻想曲〜Mashiro-iro Symphony: The Color of Lovers Special, Mashiro-iro Symphony: Love Is Pure White Picture Drama, Mashiro-iro Symphony: The Color of Lovers Picture Drama, Pure White Symphony Picture Drama微睡みのヴェヴァラルパン三世 イタリアン・ゲームKuiba, Kuiba: The UrgentYoung Kiitarou and His Youkai Picture DiaryKampfer: Fur die Liebe, Kämpfer episode 13, Kämpfer episode 14Kaijuu Girls Black九天玄帝诀 第三季In Another World With My Smartphone 2nd Season, In a Different World with a Smartphone.インコカラーズ The animationJBHLDestination of the Heart, Where the Heart Belongs, HaruToki Special, Haruka naru Toki no Naka de: Omoi no Arika (Chi), Haruka naru Toki no Naka de: Kokoro no Yukue (Ten), Harukanaru Toki no Naka de: Kokoro no Yukueグレンダイザー・ゲッターロボＧ・グレートマジンガー 決戦！大海獣GOD EATER 3みさきクロニクル 〜ダイバージェンス・イヴ〜シトラスThe iDOLM@STER Cinderella Girls Gekijou: Kayou Cinderella Theater, The Idolmaster Cinderella Girls Gekijou: Kayou Cinderella Theater, THE IDOLM@STER CINDERELLA GIRLS Theater: Tuesday Cinderella Theater, Cingeki (Web)Triangle SessionBomberman Bedaman Bakuretsu Gaiden V, Bomber Man & Bidaman Bakugaiden V, B Bidaman Bakugaiden V, B-Daman Bakugaiden VictoryBinzume Yousei: Bottle FairyGanso Bakuretsu HuntersBakukyu Renpatsu!! Super Bedaman, Bakukyuu Renpatsu!! Super B-Daman, Blast Ball Rapid Fire!! Super B-Daman白鸟谷あやかしトライアングルAYAKA ‐あやか‐Amaenaideyo!!Zhen Dao Ge: Chen Shi XingDemon Beast City, Supernatural Beast City, Yoju ToshiModern Magic for Dummies, Properly Learned Modern Magic, Manageable Modern Magic, Modern Magic Made Simple武映三千道Wo de Tian Jie Nuyou, Wo de Tian Jie Nu youビビッドレッド・オペレーションSea of Triton宇宙戦士 バルディオス刀剣乱舞-花丸- ～幕間回想録～Tokyo Kushu:re, Toukyou Kuushu:reUltraman Jonias, Ultraman Joeザ・ワールド・オブ・ゴールデン・エッグスTekken: BloodlineTamako Market: Dera\\'s BAR, Tamako Market: Oh Choco Choi-chanDare ga Tame no Alchemistすーぱーふらっと・ものぐらむKinnikuman: Showdown! The Seven Justice Supermen vs. The Space SamuraisTawawa on MondayGegege no Kitaro: Obake NighterDigimon Cross Wars, Digimon Xros Wars: Toki wo Kakeru Shounen Huntertachi, Digimon Xros Wars: The Hunting Boys Running Through Time, Digimon Xros Wars: The Young Hunters Who Leapt Through TimeCutey HoneyChouja Reideen, Choja Raideen, Reideen the SuperiorTransformers: Beast Wars NeoAI Football GGOBlack Clover: JSAF2018 Special Anime - All Mahou Kishi KanshasaiAnemoneKouryaku Wanted!: Isekai Sukuimasu!?, 攻略うぉんてっど！～異世界救います!?～バチカン奇跡調査官Toradora! SOS! Hooray for FoodiesThe Doraemons: Okashi na Okashi na Okashinana?Last Miracle 20th Century, Tezuka Osamu\\'s Strangest Case in the 20th CenturyHeaven Wars Shurato OVA, Tenku Senki Shurato: Sosei he no AntoTactical Rawrスーパーヅガンスケバン刑事Go! Anpanman: Nanda and Runda of the Toy StarDream UsersAncient Books of YsYosei Florence, Fairy FlorenceThe Nighthawk\\'s StarわたしのトーチカUmayon New Short AnimeTSUKIPRO THE ANIMATION 2Memoru in the Pointed Hat: Marielle\\'s Jewelbox, Tongari Boushi no Memoru: Marielle no Housekibako, Wee WendyDolbuk, DolbuckThe Missing 8Terra he... (Movie)たくのみ。Sensou Douwa 2, A Mother Who Became a KiteSP, sispri神级龙卫閃乱カグラLittle Nellサクラ大戦 活動写真Put it all in the RingR-15Project A-Ko: Kanketsuron, Project A-Ko: Love and RobotsPocket Monsters: Pikachu no Fuyuyasumi (2000), Let\\'s Play on the Ice!, Winter Games, Stantler\\'s Little Helpersファントム イン ザ トワイライトBewitched Agnes, Bewitched BridePrince Nezha\\'s Triumph Against Dragon King, Nazha Naohai, Nezha no Ooabareみるタイツ未来少年コナンII\\u3000タイガアドベンチャールガーコード 1951Age of League, Lu\\'s TimeTroublesome Old Man, Komatta Jii-sanキラキラきらり☆かいけつゾロリだ・だ・だ・だいぼうけん!九天玄帝诀 第四季Jinrui wa Suitai Shimashita Recap, Jintai Recap, Humanity Has Declined Recap, Humanity Has Declined: Human\\'s Fairy Memo, Humanity Has Declined: The Human\\'s Fairy NotesDogtato-kunInfini-T Force (インフィニティ フォース)Calabash Brothers, Bottle Gourd Brothers, Hulu Brothers, Seven Brothers, Hyoutan Douji働くお兄さん！の2！Happy Cloverハムスター倶楽部Go Wapper 5 Go Dam, Gowappa 5 GodamMeine Liebe, My LoveGinga Tetsudo 999: Kimi wa Senshi no You ni Ikirareru ka?Gifuu Doudou!! Naoe Kanetsugu Maeda Keiji Sakegatari, Kanetsugu & KeijiがんばれゴエモンGanbare Douki-chan Episode 13, Ganbare Douki-chan SpecialGalilei Donna: the story of three sisters in the search of a mystery学校のｺﾜｲうわさ 新・花子さんがきた!!Alice\\'s Adventures In WonderlandShenme Gui 1st Season Part 5, Non-human 1st Season Part 5Dragon\\'s House-Hunting, DoraIeDr.SLUMP “ほよよ!”宇宙大冒険Danchigai SpecialCryingフリーマンクラシカロイドCentaur\\'s WorriesCannon BustersBurn Up! Warriorばくおん！！OADBAD BOYSあかねさす少女Red Threadアブソリュート・デュオA Hot Springs Trip with Nekoyama-sanHitomi no Naka no Shounen: 15 Shounen HyouryuukiGODZILLA -怪獣惑星-Let\\'s Go QuintupletsGinga Kikoutai Majestic Prince Episode 25, Ginga Kikoutai Majestic Prince SpecialGenshi Shonen RyuKagaku Ninja-Tai Gatchaman 1994ガッ活!双恋Fate/Apocrypha Recap, Fate/Apocrypha Episode 12.5, Fate/Apocrypha Episode 19.5エスカ&ロジーのアトリエ ～黄昏の空の錬金術士～英雄伝説 空の軌跡 THE ANIMATIONDREAM HUNTER 麗夢Dragon Ball Z: Atsumare! Goku\\'s World, Dragon Ball Z OVADoraemon: What Am I for MomotarouDog Days 3 Specialトランスフォーマー ザ☆ヘッドマスターズMinky Momo: Tabidachi no Eki, The Station of Your Memories, Station of Embarkation, Minky Momo OVA3Mahou Tsukai Reimeiki魔法のスターマジカルエミ 雲光るChrome Shelled Regios: Legend of Regios, Koukaku no Regios: Legend of RegiosKyoshiro to Towa no Sora, Kyoshiro and the Eternal SkyThe Instructor of Aerial Combat Wizard Candidates OVAKodai Oja Kyoryu King D-Kids Adventure, Ancient Ruler Dinosaur KingDairugger XV, Armored Fleet/Armada Dairugger XV, Vehicle Force Voltron, Dairugger 15, Voltron of The Near Universe映画 かみさまみならい ヒミツのここたま 奇跡をおこせ♪テップルとドキドキここたま界映画 かいけつゾロリ まもるぜ! きょうりゅうのたまご镜·双城銀河鉄道999 赤い星ベテルギウス ～いのちの輝き～Galaxy Fraulein Yuna OVA 2: Shinen no FairyThe Tale of Genji, Murasaki Shikibu\\'s Tale of GenjiGAMERA -Rebirth-ガルフォースSchool of Monsters! Wolf Girl Won\\'t Give UpFREEDOM previsitedエデンDrifters: The Black King ShowClassroom☆Crisis Special, Classroom Crisis Episode 5.5Build Divide: #000000ブルー・ドラゴンBeast Wars II Chou Seimeitai Transformers, Super Robot Life Form Transformers: Beast Wars Secondバルドフォース\\u3000エグゼ\\u3000レソリューション爆走兄弟レッツ&ゴー!! WGP 暴走ミニ四駆大追跡!Baby Princess 2D Paradise LoveB-Legend! Battle Bedaman: Fire Spirits, Bedaman: Fire SpiritsLittle Asari, Super Gal AsariRain BoyHello Hedgehog: Domain of MurderIn a Distant Time OVA 2, Haruka Naru Toki no Naka de 2: Shiroki Ryuu no MikoGa-Ra-Ku-Ta: Mr. Stain on Junk Alley, Garakuta-dori no SuteinRumic World 1エクスドライバー Nina&Rei Danger ZoneComic Party OVACODE-EThe Daichis: Earth Defence Family Special, Chikyu Boei Kazoku, Chikyu Boei Kazoku alternative ep 11, Chikyu Boei Kazoku ep 11.5キャプテン・アースボーイズ・ビーBlue Seed 2: Operation Mitama, Blue Seed OVA悪魔島のプリンス 三つ目がとおる劇場版アイカツプラネット！Love Live! Superstar!! RecapYuru Yuri SpecialLaughing Salesman Specials, Smiling Salesman SpecialsワンサくんBird\\'s PoemCalendar Man, Calendarman高宮なすのです！〜てーきゅうスピンオフ〜The other world doesn\\'t stand a chance against the power of instant deathPhantasy Star Online 2 ComicPOPEE the ぱフォーマー カウントダウンスペシャルOre-tachi ni Tsubasa wa Nai OVA, Oretachi ni Tsubasa wa Nai OVAOre no Imouto ga Konnani Kawaii Wake ga Nai. Gal Game AnimationONE PIECE THE PLANETARIUMわんおふ -one off-蓝漠的花L/R -Licensed by Royal-Konjiki no Gash Bell!!: 00F - The Man With the Golden Tits, Zatch Bell!: 00F - The Man With the Golden TitsKochikame Special 25: Washi to Ore!? - Bokura wa Asakusa Shounen Tanteidan!Kekkaishi Recap, Kekkaishi: Yoshimori\\'s FeelingsTo the Abandoned Sacred BeastsかのこんThousand Autumns Mini TheaterSeikoku no RyuukishiWandering Sun, Nathalie Sasurai no Taiyo六花の勇者\\u3000ピクチャードラマPuripuri Chii-chan!!, Puri PuriPa-Pa-Pa the ★ Movie: PaamanOne Piece PlanetariumMiss Morita is Taciturn (TV) SpecialsMashin Eiyuuden Wataru: The Never-Ending Tale of TimeMahou no Princess Minky Momo: Yume wo Dakishimete Episode 53.5, 58.5, 46.5Mako the MermaidメーテルレジェンドSpiritual Domain Fifth Season, Spiritual Field 5ＬＩＮＥ ＯＦＦＬＩＮＥ サラリーマンKuiba 2: Battle of Yuan Yang WorldKochikame Special 24: Ryou-san no Sushi Kui Nee! - Choujou Maguro Taiketsu!!Kori no KoeKinnikuman: Hour-of-Triumph! Justice Superman, Hour of Triumph! Seigi ChojinKiniro no Chord Blue♪Sky, La Corda D\\'Oro Blue♪Sky, Kin-iro no Corda 3, Kin\\'iro no Chord 3KICK-HEARTKara no Kyoukai Specials, Kara no Kyoukai: The Garden of Sinners Specials仮面ライダーゼロワン ショートアニメ EVERYONE’S DAILY LIFELupin the Thief: Enigma of the 813影鰐-KAGEWANI-承Jigoku Shoujo Episode 14.5, Hell Girl Recap极道龙神平成イヌ物語バウHappy 7薄桜鬼 真改 風ノ章 - 限定版Gravity RushGolden Kamuy Short Anime: Golden Douga GekijouAkane-iro ni Somaru Saka OVA, Akaneiro ni Somaru Saka OVA, Akasaka OVALadies vs. Butlers!, Redei x BatoKochikame Special 20: Ryou-san to Chuuken Lucky Monogatari - Kameari Dai Houimou wo Kawase!!家族のはなし影鰐-KAGEWANI-K-On! Specials, Uraon!, Keion SpecialsFriagne and Marianne\\'s Why What Shana! Ask Anything Question BoxSakura Wars: Sumire Kanzaki Retirement Show - Su Mi Re, Sakura Wars: SumirePrincess Princess OmakeピカチュウのわんぱくアイランドPanty & Stocking with Garterbelt Special, Panty and Stocking with Garterbelt In Sanitary Boxおじゃる丸Obake no Q-Taro (1965), Q-Taro the Ghost名探偵コナン インターネット謎のメール事件名探偵コナン  シークレット安室コールGo forward, Let\\'s Go Straight Ahead!, Let\\'s Walk StraightTenchi Muyo: Magical Girl Pretty SamySpiritual Domain, Spiritual Field, Spirit Realm, The World of Fantasy国松さまのお通りだいKinnikuman: Justice Superman vs. Ancient Superman機動戦士ガンダム 光る命 Chronicle U.C.Ketsuekigata-kun! Second SeasonHeavy Metal L-Gaim OVA, Heavy Metal L-Gaim III: Full Metal SoldierIS〈インフィニット・ストラトス〉2 インフィニット・ウエディングインタールードDes dizaines de NordsIkki-Tosen: Legendary Fighter, Battle VixensひめゆりHello Kitty and Friends: Cinderella走り続けてよかったって。Cinderella Nine Special, Hachigatsu no Cinderella Nine Episode 13グラゼニI Like How You Hate Me but Can\\'t Get Rid of Me, Jiu Xihuan Ni Kanbuguan Wo You Gan Bu Diao Wo De YangziCrush Gear Turbo The MovieGanbare! Kickers ep 24, Ganbare! Kickers ep 26, Ganbare! Kickers ep 25, Die Kickersフューチャーカード 神バディファイトTo Shoot Without Shooting, Archer without a Bow, Bu She Zhi SheBattle Fighters Garou DensetsuEto Tamashii 2, Etotama: Eto Tamashii - Nyan Kyaku BanraiAlchemy Master, Grandmaster Of AlchemyCyborg 009: The Cyborg Soldier Finale, Cyborg 009: The Cyborg Soldier ep 51Utakoi. Special, Chouyaku Hyakuninisshu: Uta Koi. SpecialChoujin Locke: Majo no Millennium, Space WarriorsChironuppu no KitsuneBlue Seed Ver. 1.5 [Premium]Black Magic M66, Black Magic Mario 66バトルスピリッツ 赫盟のガレットAkasaka, The Hill Dyed Rose Madder, Akane-Iro ni Somaru SakaABC-Anime: The World\\'s Children\\'s Stories - Aesop\\'s Fables Anime SeriesIchi Pound no Fukuinゾイド・フューザーズZettai Karen Children Recap, ZKC, Zettai Karen Children Episode 39.5, Zettai Karen Children Special妖怪ウォッチ♪Xing Hai Qishi Episode 15喜羊羊与灰太狼Vampire Danshiryou, A Vampire Lives in the DormitoryFighting Devil Divinity Oni, The Legend of the Fierce Fighting God OniThe Tale of Osamu Tezuka: I\\'m Son GokuTetsujin 28-go: Hakuchuu no Zangetsu, Tetsujin 28: The Lingering Moon of Midday, Tetsujin #28: The Daytime Moon, Tetsujin28: Morning Moon of Mid-daySpace Adventure Cobra Pilot装甲騎兵ボトムズ Case;IRVINELesbian Citizen Naoko-san, Yurian Naoko-sanMahouka Koukou no Rettousei: Yoku Wakaru Mahouka! Episode 7, The irregular at magic high school: Get to Know Magic Studies!, Mahouka for Dummies八十亀ちゃんかんさつにっき 3さつめ我靠充值当武帝Wo De Nitian ShenqiWei Qi Shao Nian, Go PlayerBoy\\'s Detective Team殿といっしょ 眼帯の野望A Certain Middle-Aged Man\\'s VRMMO Activity LogTHE八犬伝 新章テンカイナイト手品先輩TanmoshiSpy RoomChina-san no Yutsu ~ The Spirit of Wonder, Spirit of Wonder: Miss China\\'s Ring, Spirit of Wonder: Miss China\\'s Melancholyそれいけ! アンパンマン ルビーの願いChief Soul Manipulator, Chief Soul MasterWhite Fang StoryKnights of the Zodiac: Saint Seiya 3rd SeasonRecently, My Little Sister is Unusual OVA, ImoCho, ImoCyoRoku Shin Gattai God Mars, Hexademonic Symbiote Godmars, Six God Union Godmarz, Six Gods Unit, Six God Combination Godmars人间最得意RAIL WARS! [レールウォーズ]Age of GunslingersPhantasy Star Online 2 Comic: OkawariPocket Monsters: Pikachu no Fuyuyasumi (2001), Delibird\\'s Present, Delibird\\'s Dilemma, White Story, Snorlax Snowman, We are the Pichu Brothers - Balloon Disturbance, Trouble in Big TownGolden Warrior Gold LightanNurse Witch Komugi-chan Episode 2.5, Return to Subject Special - Premonition of a Returning Festival! Heave Ho!ぬるぺたKokoro wo Chikara ni, Owaranai Chikyuu, Shinzo, Shizo Recap, Mushrambo (OVA), Mushrambo Recapsもっと! まじめにふまじめ かいけつゾロリMonster Strike Winter Specialモンスターストライクあした世界が終わるとしてもTales of ExorcismControl Bear [WONDER GARDEN] Short Animation FilmHamtaro OVA 2, Tottoko Hamutarou: Hamuchanzu no Takara Sagashi Daisaku Hamuha! Sutekina Umi Nonatsuyasumiそれいけ! アンパンマン すくえ! ココリンと奇跡の星それいけ! アンパンマン りんごぼうやとみんなの願いSinchou Yuusha: Kono Yuusha ga Ore Tsueee Kuse ni Shinchou Sugiru Episode 9.5Yatogame-chan Kansatsu Nikki 2nd Season, Yatogame-chan Kansatsu Nikki Second Season, Yatogame-chan Kansatsu Nikki 2-satsumeUtawarerumono: The Story So Far, Utawarerumono SpecialsUchuu Senkan Tiramisù Zwei Specials, Space Battleship Tiramisu Zwei SpecialsTekkaman Blade 2, Space Knight Tekkaman Blade 2, Space Knight Tekkaman Blade OVA, Uchu no Kishi Tekkaman Blade OVAそれいけ! アンパンマン 怪傑ナガネギマンとドレミ姫私立荒磯高等学校生徒会執行部Sexy Commando Gaiden: Sugoi yo!! Masaru-san - Learn it in 2 Days, Sexy Commando Side Story: Amazing! MasaruプロジェクトA子3 シンデレララプソディPokémon Ranger: Tracks of Light, Pokémon Ranger: Locus of Light, Pokémon Ranger: Path of LightPokemon Advanced Generation Planetarium: Challenge from the SkyオチビサンNozomi x Kimio, Nozomi to Kimio, Nozomi and Kimio, NozoKimiEiga Nintama RantarouMori no Densetsu PART-1, Legend of the Forest PART-1Monster Strike 3, MonSt Anime: The Fading Cosmos, Monsuto AnimeKaiketsu Zorori (Movie)Machine Robo: Revenge of Chronosラブライブ！紅白スペシャルアニメAtashi Dake wo Miteラストピリオド -終わりなき螺旋の物語-Summer With KuroThis Healer\\'s a Handful動戦士ガンダムUC: ONE OF SEVENTY TWOKampfer, KaempferGaworareIkoku Meiro no Croisée The Animation Picture Drama, Ikoku Meiro no Croisee The Animation Picture Drama冰剣の魔術師が世界を統べるHikaru no Go: Digest火狩りの王Heavy Object Episode 9.5, Heavy Object RecapTobacco Ippon no Story: Heart CocktailHacker Doll The Animation踏切時間エスカクロンEatmanMock and SweetLittle Battlers eXperience Wars SpecialDefenders of The VortexSuper Human High Schoolers Are in Another World, But Seem to be Living in Comfort!不灭神王Black Jack: Tezuka World MovieNuku Nuku Special, Nuku Nuku hourou!? Akemashite Suteraremashita, Nuku Nuku Abandoned? Happy New Year, I\\'ve Been Thrown Out, Nuku Nuku Special, Koisuru Nuku Nuku! Valentine wa dare n tame n, Nuku Nuku Falls in Love! Who\\'s the Valentine for?Bakuso Kyodai Let\\'s & Go Special, The Racing Brothers Specialあした元気にな～れ!～半分のさつまいも～Ode to Judo, Juudou SankaJoJo\\'s Bizarre Adventure: The Real 4-DI\\'\\'s OVA Bonus, I\\'\\'s Pure Bonusハイスピード・ジェシー働くお兄さん!Earl and Fairy DVD ExtraGIRLSブラボー first seasonフレームアームズ・ガールWind and Cloud DuelFASTENING DAYSEikyuu Shounen Next StageCerebrumデトネイター・オーガンTHE IDOLM@STER CINDERELLA GIRLS Theater: Tuesday Cinderella Theater 3rd Season, Idolmaster Cinderella Girls Theater: Tuesday Cinderella Theater 3rd Season, Cingeki (Web) 3nd SeasonImmortals of the Godless, Chun Qiu Feng ShenGravionちばペダル ~弱虫ペダルと学ぶ自転車交通安全~Boken Gabotenjima, Bouken Gaboten Shima薔薇王の葬列Attack No.1 Movie 1Gekijouban 3D Atashin\\'chi Jounetsu no Chou Chounouryoku Haha Dai BousouAtama-yamaAssault Lily Mini AnimeSmash凹凸世界アニメガタリズYurumeitsu 3D+, Yurumate3Dei, Yurumates3Dei PlusA Chinese Ghost Story: The Tsui Hark Animation, Little PrettyUmi no Triton (Movie)宇宙戦艦ティラミストムとジェリーストレンジ・ドーンArmored Trooper Votoms: Vol.1 Stories of the \\'A.T. VOTOMS\\', Soko Kihei Votoms: Vol.1 Stories of the \\'A.T. VOTOMS\\'Soreike! Anpanman: The Secret of Building Block Castle, Sore Ike! Anpanman: Tsumikijou no Himitsu, Anpanman Movie 04Shingeki no Kyojin: Attack on Skytree, Attack on TitanRage of Bahamut: Genesis Recap, Shingeki no Bahamut: Genesis Recap, Shingeki no Bahamut: Genesis Episode 6.5尸兄Seikon no Qwaser OVA, The Qwaser Of Stigmata, Seikon no QuasarサンクチュアリHenbe, Parasol Henbeeお父さんは愛の人Nurarihyon no Mago Episode 12.5 and Episode 24.5, Nurarihyon no Mago SpecialsNG Knight Ramune & 40 EXミス・モノクローム -The Animation-まんがはじめて面白塾The Legend of Luoxiaohei SpecialsLove Live! Theater Manner Commercial MovieThe Klutzy Witch: Fuuka and the Dark Witch, Failure Witch, Rakumajoエロマンガ先生Dr. Slump and Arale-chan: The Great Round-the-World RaceどーもくんDirty Pair no Daishoubu: Nolandia no Nazo, WWWA Dirty Pair no Ooshoubu: Nolandia no NazoHello Kitty, Love! Hello Kitty打火机与公主裙D.C.III～ダ・カーポIII～CYBORG009 CALL OF JUSTICE 3Cooking Idol小さな便り、大きな便り。赤焰锦衣卫CJ7 Loves the Earth, Changjiang Qi HaoブレーカーズArgento Soma OVA, Argento Soma Episode 24.5, Argento Soma SpecialCatch up in 10 minutes! Anime \"Attack on Titan\" Season 1-2 DigestZeno: Unlimited Love夢で逢えたらYamishibai: Japanese Ghost Stories Third Season, Theater of Darkness 3rd Season, Japanese Ghost Stories 3五行战神Wo Shi Jiang Xiao Bai Di Er Ji, I\\'m Joybo: Words From My Heart, 我是江小白：有话对你说わたしだけのお子さまランチVenus vs. VirusUtawarerumono OVA Specials, The One Being Sung Picture DramaUma Yon宇宙戦士バルディオスSpace Battleship TiramisuSekai Meisaku Gekijou Kanketsu Ban: Trapp Ikka Monogatari, World Masterpiece Theater Complete Edition: The Trapp Family StoryRolling Star, Dashing Warrior MutekingTokyo Twenty Fourth WardToHeart2 TV Special, To Heart 2 Episode 11.5, ToHeart2 Tokubetsu-hen甜心格格The Song of Tentomushi, Tentou Mushi no Uta太陽の船\\u3000ソルビアンカ死役所Thanatos Rising, Medusa\\'s Revenge, Palutena\\'s Revolting DinnerRecorder to Randoseru Mi☆ Episode 13Anime Tamago 2020Wakate Animator Ikusei Project, 2014 Young Animator Training Project, Anime Mirai 2014, Oukii Ichinensei to Chiisana NinenseiおんぼろフィルムOira Uchu no TankofuReversal Dimension: The Rise of AINami Hexin 3rd Season, Nami Hexin: HuanghunPilot CandidateGhost in the Shell: Stand Alone Complex - Tachikoma Fan Disc SpecialsEiga Kaiketsu Zorori: Uchuu no Yuusha-tachi, Zorori Movie 4Wakate Animator Ikusei Project, 2016 Young Animator Training Project, Anime Tamago劇場版 戦国BASARA ４コマ劇場 -Another Last Party-RWBY 氷雪帝国Ji Jia Dashi, 机甲大师Qing Chi Hong Xiao Dou Ba!, Please Eat Little Red Bean!, Little Red Bean\\'s Working Life, 红小豆的工作日常Qin\\'s Moon: Nine Songs of the Moving Heavens 2, The Legend of Qin: Nine Songs of the Sky 2Age of Gunslingers 2, Qiang Shen Ji 2nd SeasonGekijouban Pocket Monsters Best Wishes 2: Shinsoku no Genosect, ExtremeSpeed Genesect: Mewtwo AwakensPokemon RecapPlanetarium Chibi Maruko-chan, Wish Upon a StarOtogi Story Tenshi no Shippo Episodes 5.5 and 13, Angel Tail Special Episodes, Angel Tales Specialsおジャ魔女どれみ お笑い劇場南鎌倉高校女子自転車部Mikan Enikki Episode 31, Mikan Enikki: Mikan no Koutsuu Anzen明治撃剣－1874－ルパン三世 Pilot Filmリリとカエルと(弟)离离枯荣Gekijouban Last Exile: Ginyoku no Fam - Over the Wishesキラ☆キラ 5th Anniversary Live Anime KICK START GENERATIONSaban\\'s Adventures of PinocchioMirage Queen Aime CirqueIseleveIsekai Cheat Magician Episode 13Painting Rivers and LakesHime-sama Goyojin, Hime-sama Goyoujin, Princess, Be Careful!変好き▽Karura Dance, Hengentai Mayakou Karura Mau! Nara Onryou Emaki, Hengentaimayakou Karuramau! Naraon\\'ryouemakiHarukanaru Toki no Naka de: Character Endings, In a Distant Time: Character Endingsはぴねす！Jinzou Ningen Kikaida vs. InazumanギブリーズLeda the War of the DreamsFull Metal Panic! IV Intermission, Full Metal Panic! Invisible Victory RecapFairy Gone 2nd SeasonBritish Family, Eat Japan New Year SpecialAngels Tail Venomous Tails, Fairy Tales Venomous Tails, Otogi Story Tenshi no Shippo OmakeDICE, DNA Integrated Cybernetic Enterprises, DINOBREAKERCard Ou Mix MasterMy Girlfriend is a Faithful Virgin Bitch, Boku no Kanojo ga Majimesugiru Shojo Bitch na Ken, My Girlfriend is Shobitch OVABemubemu Hunter KotengumaruBattle Spirits: Shonen Toppa Bashin, Battle Spirits Season 1劇場版アルゴナビス 流星のオブリガートGonyeoseog Masnagessda 2: Hamkkelaseo Haengboghae, You Are Umasou 2, Tasty 2: Happy Together, 고녀석 맛나겠다2: 함께라서 행복해Catch up in 15 minutes! Anime \"Attack on Titan\" DigestPurple River: Hidden Interactive DramaゆるめいつYume de Aetara (1999), Yume de Aetara OAVYokai Watch Jam: Yokai Academy YIjou Seibutsu Kenbunroku, The Record of Unusual Creatures, Fantastic Creatures\\' Travelogue, Abnormal Creature Memoirsやさしいマーチ-The Tender March-Pokemon XY: New Year\\'s Eve Special, Pocket Monsters XY New Year\\'s Eve 2014 Super Mega Special!!Futari HFate/Grand Order -MOONLIGHT/LOSTROOM-どうぶつ宝島Upchuck Bazooka, DiGi Charat Special: A Rocket from the Mouth, Di Gi Charat Special: A Rocket from the MouthDeca-Dence Episode 5.5, Deca-Dence RecapCowboy Bebop Special, Ein\\'s Summer HolidayTHE IDOLM@STER CINDERELLA GIRLS Theater 2nd Season Specialsキャシャーンキャプテン翼の交通安全Beyond CreationBabil JuniorThe Story of the Blue-Eyed Girl, Sensou Douwa 7Anpanman to Hajimeyou! Iro, Kazu, Katachi - Wakaru ka na Iro, KatachiAMNESIAAmanchu! Specials, Upyo Upyo! Dive Tsukkome! Umi no Sekai!Ajimu: Beach StoryAiry MeActive Raid: Special Public Security Fifth Division Third Mobile Assault Eighth Unit 2ndKing of Warrior: Jufeng Zhan HunRyofuko-chanYamishibai: Japanese Ghost Stories Fifth Season, Theater of Darkness 5th Season, Japanese Ghost Stories 5Little Door Gods, Door GuardiansエックスメントリアージX2001 Ya Monogatari, Tooo, To - A Space Fantasy, T.O. 2001 Nights, Elliptical Orbit, Symbiotic PlanetTensei Kenjya no Isekai LifeTe-kyu 4 specialsTayutama SpecialsToushou!! RamenmanSore Ike! Anpanman: Yuureisen o yattsukero!!, Soreike! Anpanman: Let\\'s Defeat the Haunted Ship!それいけ! アンパンマン リリカル☆マジカルまほうの学校絶滅危愚少女 Amazing Twinsゼノサーガ THE ANIMATIONThe Wicked Prince\\'s Hunt of the Big SnakeTelevi Yarou Nanana, TV Yarou Nana-naThe SoulTaker～魂狩～Last Dungeon Boonies KidスーパーストリートファイターIVSister Princess Repure昭和アホ草紙あかぬけ一番！The girls who aim for the wildlands OVA, Shoujo-tachi wa Kouya wo Mezasu OVANew Spirit Hero Wataru, True Spirit Hero WataruExtra Special New Year\\'s Question? 7 x 7 = 49 Nanas?, Nana 7 of 7: Oshougatsu da yo! 7 x 7 = 49-nin no Nana?シャコタン★ブギ聖痕のクェイサーRobot Girls Z+陸上防衛隊まおちゃんPikachu, What Kind of Key is This?, Pikachu, Kore Nanno Kagi?Pokemon Diamond & Pearl Get Together! Pokemon Star FestivalPERSONA5 the Animation TVアニメ総集編Fairy Musketeers Little Red Riding HoodOrigami Fightersにゃんぼー!Apparently, Disillusioned Adventurers Will Save the WorldMOS Burger Tsukimi Focaccia, MOS Burger × Midnight Grand Orchestra魔法少女特殊戦あすか魔法のスター マジカルエミ フィナーレ! フィナーレ!KING OF PRISM -Shiny Seven Stars- II カケルxジョージxミナトKendeshiWild Knights Gulkeeva, Jusenshi Gulkeevaジュラしっく！ジャックと豆の木Itou Junji: Collection Specials, Itou Junji Episodes 13 and 14一期一会 恋バナ友バナハローキティのスタンプヴィレッジ黑门ハルチカ ～ハルタとチカは青春する～Hana yori Dango (1997), Hana Yori Dango: The Movie, Boys Over Flowers MovieHow to Steal 55 Kisses 2nd Season, Bringing Back Home Mr. Perfect 2nd Season, Taking Everybody\\'s Husband Home 2nd SeasonShinseiki-GPX Cyber Formula EARYLDAYS RENEWAL非人学院Fate/Grand Order氷室の天地～7人の最強の偉人編～Dragon Quest: Dai no Daibouken Buchiya Gare!! Shinsei 6 DaishougunCYBORG009 CALL OF JUSTICE 2THE IDOLM@STER Cinderella Girls Theater: Extra StageThe iDOLM@STER Cinderella Girls Gekijou Specials, The Idolmaster Cinderella Girls Gekijou Specials超音戦士ボーグマンCARDFIGHT!! Vanguard 続・高校生編バトルスピリッツミラージュbal-gwang-ha-neun hyeon-dae-sa, Shining Modern History爆丸バトルブローラーズ Gundalian Invadersバック・アロウAttack No.1 Movie 2Aria the Avvenire Picture Drama異世界ワンターンキル姉さん ～姉同伴の異世界生活はじめました～Ikki Tousen: Western Wolvesホロライブ・サマー2022華ヤカ哉, 我ガ一族 キネトグラフViolinist of HamelnGokujo!! Mecha Mote IinchoGalaxy Express 999: The Starlit Sky is a Time Machine, Galaxy Express 999: The Starlit Sky is a Time Machine - Solar System/Extinction of the DinosaursOdekake Kozame x GAMERA -Rebirth-ガルフォース2 ディストラクションGakkatsu! Dai 2 SeriesFuma no Kojiro: Fuma Hanran hen, Kojiro of the Fuma: Fuma Rebellion ChapterShinseiki GPX Cyber Formula GraffitiFLCL 2, Fooly Cooly Progressive, Furi Kuri ProgressiveマジカノGetter Robo GouWakate Animator Ikusei Project, 2017 Young Animator Training Project, Anime TamagoGegege no Kitaro: Gekitotsu!! Ijigen Yokai no DaihanranGegege no Kitarou: The Great Sea Beast, Gegege no Kitarou Dai Kaijuu, Gegege no Kitaro: Daikaiju, GeGeGe no Kitaro movie #7: The Giant Sea MonsterFinal FantasyRun Hany沈黙の艦隊Chaos ChildPlusters, Journey of Adventure: PLUSTERWORLDCat Girl Nuku Nuku Dash!, Bannou Bunka Nekomusume Dash!, Cat Girl Nuku Nuku DASH!, All Purpose Cultural Cat Girl Nuku Nuku DASH!, Nuku Nuku DashBaiye LinglongBedaman, Battle B\\'DamanアヤカシThe Diary of Tortov Roddle SpecialsWarrior of Love RainbowmanゾイドワイルドZettai Boei Leviatan银河之心Hitori no Shita: The Outcast Recap, Raten Taishou Hen: Housou Chokuzen Special, Hitori No Shita: Raten Taishou Arc Pre-Broadcast SpecialEverlasting Immortal Firmament 3rd Season, Wan Gu Xian Qiong 3rd Season, 万古仙穹 第三季Usavish Episode 02.5: Time For Work. Another Point of ViewトワイライトQRibon x Oha Suta Specials, Tsubasa and Hotaru (2015)とっとこハム太郎のとっとこ大切!! 交通ルール太極千字文Laura The Prairie GirlSoreyuke! Uchuu Senkan Yamamoto Yooko IIそれいけ! アンパンマン みなみの海をすくえ!Soreike! Anpanman: Baikinman\\'s CounterattackThe girls who aim for the wildlands, Girls beyond the youth KOYA, ShokomezaJikken-hin Kazoku: Creatures Family Days, Jikkenhin Kazokuセブンナイツ レボリューション -英雄の継承者-Senran Kagura 2nd SeasonSenkou no Night Raid: Prophecy, Senkou no Night Raid SpecialSeikai no Senki II: Tokubetsu-hen, Seikai no Senki II Recap, Banner of the Stars II Recap, Battle Flag of the Stars II RecapHello Kitty\\'s Animation TheaterSekai Meisaku Gekijou Kanketsu Ban: Romeo no Aoi Sora, World Masterpiece Theater Complete Edition: Romeo and the Black BrothersロボタンRobot Girls Z Episodes 3.5, 6.5, 9.5レッドガーデン デッドガールズQueen\\'s Blade OVA, Queen\\'s Blade: Rebellion OVAプリンセス・プリンシパル ピクチャードラマJRA x Poputepipikku, JRA x Pop Team EpicGuzura, Gozula, Hey, I\\'m Guzura!Mizuiro OVA 2ミニパトMashle RecapMaken-Ki! Battling VenusMagical Witchland, Mahou Yuugi: Tobidasu!! Hanamaru Daibouken魔法少女プリティサミー(1996)Madou Kiden Pandalian, Legend of the Magical Beans Pandalian, Pandarian, PandaMoniumRupan Sansei Secret Files, Lupin Sansei Pilot Film, Lupin III - Pilot Film, Lupin III: Secret File旭日の艦隊The Instructor of Aerial Combat Wizard CandidatesくまみこThe Magnificent Kotobuki Side Story: The Harukaze Squadron of the Great Sky, The Kotobuki Squadron in the Wilderness Side Story: The Harukaze Squadron of the Great Sky, The Harukaze Squadron of the Great SkyKoi☆Cent, KoisentoKaze no Namae wa Amunejia, The Name of the Wind is AmnesiaScientific Adventure Team Tansar 5獣兵衛忍風帖BURST新メイプルタウン物語 パームタウン編 こんにちは! 新しい町戦争のつくりかたSeikimatsu Darling, End of Century - Darling千从狩ポケットモンスター サン＆ムーン\\u3000プラネタリウムPokemon Best Wishes!: Celestial Globe of Light and Shadowピノキオより ピコリーノの冒険Pica-don, Picadon, Pikadon, Pika-donPianoManA Brief Lesson on Izanagi and IzanamiMy Little Sister Can\\'t Be This Cute 2 Specials, Ore no Imouto ga Konna ni Kawaii Wake ga Nai 2 SpecialsMy Sister Came, Onee-chanBewitching NozomiLittl\\' Bits, Lutinette et Lutinou, Belfy and Lillibit, Belfi and Lillibit, Berufi To Rirubitto, Belfy and Lillabit, Belfy & Lillibitモンスターストライク THE MOVIE ソラノカナタ宮本武蔵 ―双剣に馳せる夢―Microsupermanマリンスノーの伝説マッド★ブル34Ruy, the Little Cidライアー・ライアーKoutetsu Sangokushi Episode 26特別編「真実は並列世界の果てに～新たなる旅立ちへ～」A Polar Bear in Love, Hyouheki Don, Koi Suru Shirokuma, Ai no OmosaKochikame Special 19: Ryoutsu vs. Nakimushi Idol!? Nihon 1-shuu Dai Sugoroku Game!!Kino no Tabi: The Beautiful World - The Animated Series Picture Drama機動戦士ガンダムSEED MSV ASTRAYKatteni Kaizou SpecialsKanColle: Someday in that Sea, KanColle 2nd Season, Fleet Girls CollectionUnit Pandoraジャンケンマン一番近くて遠い星HimawariHelen Keller逆転世界ノ電池少女Moonlight Mask, The Familiar Moonlight Mask-kun, Little Moonlight Riderガルフォース3 スターダスト・ウォーValkyrie Romanze, Walkure Romance, WalromaKOFKanojo, Okarishimasu CallSD Riders, SD Kamen Rider, Masked Rider SD, Masked Rider Super-DeformedA Portrait of Jianghu: Reincarnated Disciple, The Gate of Fate, The Degenerate Drawing - Double LifeHoshineko, Star Cat Fullhouse.ひみつのアイプリヒーローマスク叛逆性ミリオンアーサー 第2シーズンGusukobudori no Denki, Biography of Gusuko BudoriGoblin Slayer Recap, Goblin Slayer Episode 10.5Getsumen Usagi Heiki Miina, Lunar Bunny Weapon Mina, Getsumen to Heiki MiinaGegege no Kitarou: Jigokuhen, Gegege no Kitarou: Jigoku Hen学園ハンサム The AnimationFuma no Kojiro: Seiken Sensou hen, Kojiro of the Fuma: Sacred Sword War ChapterFate/EXTRA Last EncoreBritish Family, Eat JapanＤＴエイトロンDance with Devils -Fortuna-A Good Librarian Like a Good Shepherd Picture Drama, Daitoshokan no Hitsujikai ZenyasaiYoru wa Neko to Issho x Gamera: RebirthSaibotto Robocchi, Cybot Robotchiぶっとび!!CPU武装神姫Azur LaneAppleseed (2011)エンシェンと魔法のタブレット～もうひとつのひるね姫～Sekai Meisaku Gekijou Kanketsu Ban: Ai no Wakakusa Monogatari, Tales of Little Women1001 Nightsゆゆ式\\u3000にゃにゃ式Yurumeitsu 3DYokai Ningen Bem, Demon-man BemよつのはGargoyle of Yoshinaga House Specials, The Gargoyle of the Yoshinagas: Fushigi no Kuni no Kazumi, Kazumi in WonderlandLion Book Series 4Uraneko, When They Cry 3 SpecialsUltraman Kids\\' Proverb Stories月がのぼるまでにRibon x Oha Suta SpecialsとむとじぇりーHanako of the Toilet, Toire no Hanako-sanアイドルマスター シンデレラガールズ U149 総集編Tenchi Muyou! Ryououki 3rd Season Radio Specialすすめ, カロリーナ.Soreike! Anpanman: Tears of the Mermaid PrincessSo-jjoong-han Nam-eui Ggoomシンドバッド絶対無敵ライジンオー (1992)Bouton d\\'Or, Prinzessin Erdbeer, Button NoseYatogame-chan Kansatsu Nikki 4th Season我在仙界挣积分Wake Up, Girls! 出逢いの記録 ～A Brief Recording～True Tears SpecialsSOL BIANCA (ソル·ビアンカ)Shana and Yuuji\\'s Why What Shana! Ask Anything Question BoxMy Bride Is a Mermaid Picture Drama, Picture Drama Gokudou no Onna Kejime聖痕のクェイサー IIセイント・ビースト～光陰叙事詩天使譚～Pocket Monsters: Pikachu Koori no DaiboukenComplete Overview! Pocket Monsters XY Special!!Pocket Monsters: Best Wishes Season 2 - Decolora Adventure Da!PSO2 The AnimationOtome Yokai Zakuro Picture Drama, Girl Demon Zakuro Picture DramaWolfed AwayOku-sama wa Joshi Kousei, Oku-sama wa JoshikoseiHuman Scramble魔法のスターマジカルエミ 蝉時雨Macross FB7: Ginga Rukon, Ozma Meets Fire Bomber Macross FB7恐竜少女ガウ子シーズン2Ghost in the Shell: Ghost Chaser時間の支配者Hikaru no Go: Special Character DVD - MemoriesBaeku, Pure Heart Baekgu, White Dog with White Heart, My Dog Bakgu, White Heart BaekguジーンシャフトLensman: Power of the LensCanal Aqua Panorama × Original Story of Evangelion: Hakata映画！たまごっち うちゅーいちハッピーな物語！？Ebiten: Kouritsu Ebi Sugawa Koukou Tenmonbu OADコードギアス 反逆のルルーシュ キセキのアニバーサリーCLUSTER EDGE（クラスターエッジ）シンデレラボーイ超スーパーカー ガッタイガーChaoS,HEAdHeat the Pig Liver: The Story of a Man Turned Into a Pig, ButaLiverBats & Terry, Bats and TerryAstro GangaArslan Senki (TV): Fuujin Ranbu SpecialsACTORS -Songs Connection-.hack//Quantum SpecialsJX3: Chivalrous Hero Shen Jianxin 2nd SeasonISLANDイナズマデリバリー 同業者アタック編Ikoku Meiro no Croisée The Animation: Yune & Alice, Ikoku Meiro no Croisee The Animation: Yune & AliceIkkyu-san, Highschool Baseball NinjaハンドレッドPainting Rivers and Lakes 3, Hua Jiang Hu: Bu Liang Ren 3rd SeasonHoney Honey no Suteki na Boken, Honey Honey, PollenガンダムビルドダイバーズGiant Robo 40th AnniversarySuki na Mono wa Suki Dakara Shou ga Nai!! Episode 13,I like what I like, so there!: Let\\'s Go to a Hot Spring!あんさんぶるスターズ！ピクチャードラマえいがでとーじょー！ たまごっち ドキドキ！うちゅーのまいごっち！？Dr. Slump & Arale-chan HoYoYo! The Treasure of Nanaba Castle, Dr. Slump: Arale-chan Hoyoyo! Nanabajou no HihouThe Little Judge from Hellサイボーグ009VSデビルマンCatman 3rd Season, Catman series III (Fuji Version)僕はロボットごしの君に恋をするBLADE RUNNER – BLACK LOTUSBeyblade Burst Dynamite Battleアベンジャーズ コンフィデンシャル: ブラックウィドウとパニッシャーAttack No.1 Movie 3アンクレットと蒼い海TamagotchiAngelique OVA 4Hans Christian Andersen Stories, Anderson StoriesImmemorial Love For YouI\\'m Standing on a Million Lives RecapINGRESS THE ANIMATIONIkkyu-san and the Mischievous Princess, The Cunning Monk and the Mischievous Princess, Mister Ikkyu and the Mischievous Princess, Ikkyu the Little Monk and the Mischievous PrincessハートカクテルアゲインHajimete no GyaruHaiyore! Nyaruko-san, Haiyoru! Nyarl-aniGegege no Kitarou: Youkai Taisen Arasou,ファイアーエムブレム ヒーローズ - Book Ⅲ Movie：Cohort of the DeadWhen I Woke Up I Became a Bagel Girl, He Woke Up as a Bagel GirlDr. Slump & Arale-chan Hello! Strange Islandドンチャック物語Da Wang Bu Gao XingCode Geass: Lelouch of the Rebellion R2 Picture Drama Turn 12.06, Code Geass: Lelouch of the Rebellion R2 Picture Drama 10THE IDOLM@STER CINDERELLA GIRLS Theater: Tuesday Cinderella Theater 4th Season, Idolmaster Cinderella Girls Theater: Tuesday Cinderella Theater 4th Season, Cingeki (Web) 4th Season忘却の旋律Metal Angel MarieB-Project 3rd SeasonGekijou Remix Han Appleseed XIII 2, Appleseed XIII Gekijou Remix-ban 2: Yogen, Appleseed XIII: Tartaros & OuranosLove Live! Sunshine!! Recap, Love Live! Sunshine!! 2nd Season RecapAge 12 Second Season, Juuni-sai. 2nd SeasonZero Zero Nine One Special, 009-1 Special, 009-1: Extra Mission - R&B, 009-1: Episode 9.5.hack//Versus OVA, .hack//Versus SpecialZoo: Hidamari no UtaMahouka for DummiesKay\\'s Daily Doodles: The Metal Crab and the Spiral Conch, Kay\\'s Daily Doodles: Hard at Work, Xiaoke de Huatu Xie Hua: Pan Xie Yu LuoSekai Meisaku Gekijou Kanketsu Ban: Watashi no Ashinaga Ojisan, World Masterpiece Theater Complete Edition: Watashi no Ashinaga Oji-sanSmiling Salesman New, Laughing Salesman NewVERSEⁿ - Episodeⁿ | 空想Usavich 5Uchu Kaizoku Mito no Daiboken, Stellar Buster Mito, Space Pirate Mito\\'s Great AdventureTomoko Adventure, L\\'Oiseau BonheurToji no Miko: Taidou-hen Digest, Toji no Miko: Short Version Digest, Toji no Miko Episode 12.5Idolmaster Side M: Wakeatte Mini!ソードアート・オンライン\\u3000フェイタル・バレット -The Third Episode-それいけ! アンパンマン ハピーの大冒険The Young Imperial Guards 2nd SeasonセイレンBB SenshiSaint Seiya ΩRahXephon Interlude: Her and Herself - Thatness and Thereness, RahXephon OVAプラオレ！～PRIDE OF ORANGE～Pocket Monsters: Pikachu no Kirakira DaisousakuPersona 2: Innocent Sin, Persona 2: Eternal PunishmentPenguin Musume♥Heart Episode 11.5, Penguin Girl Special, Temple Fair Begins!おしんオレ様キングダムおじゃまんが山田くんRoman Gekijou: Nobara no Julie, Famous Roman Music Theater: Julie of the Grass, Kirin Famous Songs Theater: Julie the Wild Rose人魚ねこねこ日本史 第3期Oruorane the Cat PlayerSekai Meisaku Gekijou Kanketsu Ban: Nanatsu no Umi no Tico, World Masterpiece Theater Complete Edition: Tico & FriendsMonsuto AnimeMcDull Movie 2, McDull: The Prince of the Pineapple Bun with Butter, Mak Dau BoloYao WongZiMagical Girl Tickle, Majokko Chikkuru, Magic TikkleMagne Robo Gakeen, Gakeen Magnetic Robot, Robotman Gakeen, Magnetic Robot Ga Keen, Magnos RobotMachine Robo: The Running Battlehackers恐竜少女ガウ子黒いきこりと白いきこりKoutetsu Tenshi Kurumi 2 shikiKochikame Special 22: Ryoutsu no Asakusa Renewal Daisakusen!! - Aa, Omoide no HanayashikiAlien Defender Geo-Armor - Kishin Corps, Machine-God Corps, Panzer Robot血液型くん！3The Greatest Maou is Reborned to Get FriendsOne Hundred Thousand Bad Jokes MovieShangri-La Frontier: Kusoge Hunter, Kamige ni Idoman to su RecapSenran KaguraSakura Wars: New York, Sakura Taisen: New York NY, Sakura Wars OVA 5Flower declaration of your heart Episode 00, Lag-Rin Episode 00七界第一仙Pocket Monsters: Pikachu\\'s Really Mysterious AdventureEiga no Osomatsu-san: Gekijou Koukai Kinen - Original Tanpen Gekijou, Mr. Osomatsu the Movie: Gekijou Koukai Kinen - Original Tanpen GekijouSpecial training in the Secret Dungeon映画 ODD TAXI イン・ザ・ウッズThe Good-for-nothing Onmyouji Family 2Mai-Otome Picture DramaMagical Girl Magical Destroyers, MagiDesマクロスΔ「でるた小劇場」Choujikuu Yousai Macross II - Lovers Again, Macross II The Movie, Super Dimension Fortress Macross II: Lovers, Again鋼鉄三国志Kochikame: Mezase! Kameari Superstar!! Ryoutsu-shiki Idol e no Michi!希灵纪元ピーチボーイリバーサイドねこねこ日本史Muv-Luv Alternative: Total Eclipse Soushuuhen, Muv-Luv Alternative: Total Eclipse Episode 19.5墓王之王 悬棺寺墓王之王 寒铁斗メガネの魔法My Beautiful Girl MariJapanese Folklore TalesLove Live! Nijigasaki Gakuen School Idol Doukoukai 1-ki DigestLoups-Garous, Loups=Garous Kihi Subeki Ookamiクダン琴浦さん 春香の部屋木の葉化石の夏子猫の配達員うーにゃん小森さんは断れない！A Girl in a Lower GradeGood-For-Nothing Blues 1993Princess Connect! Re:DrivePo-Po-Tan, Popo-tanPoppin Q, file(N):project PQPocket Monsters: Pikachu Tanken KurabuPokémon Masters Animated TrailerPaRappa the RapperTea-dog, Tea DogsAn Encore and Continuance宮西達也劇場 おまえうまそうだなDemon Hunter Youko, Mamono Hunter YohkoDash Machine Hayabusaライブオン CARDLIVER 翔Kitakubu Katsudou Kiroku: Chibi Theater, Kitakubu Katsudou Kiroku Specials十年分の私へHomerun KantaイナズマデリバリーGusukobudori no Denki, Biography of Gusuko Budori, The Life of Guskou BudoriGon, the Little FoxGokujo!! Mecha Mote Iincho Second CollectionGhost TaleGalaxy Ange-lune, Galaxy Angel II, Galaxy Angerune, Galaxy Ange-RuneFortune Quest OVAMaking of FireballHikarian 2: Lightning Attack Express, Lightning Super Express HikarianZhang Jian Fengyun달려라 고양이Break of DawnArcana Famiglia: La Storia Della Arcana FamigliaCatch up in 20 minutes! Anime \"Attack on Titan\" DigestYugioh, Yu-Gi-Oh! Zexal II Episode 8.5, Episode 81.5, Yu-Gi-Oh! Zexal 2nd Recap, Yuu Gi Ou!Yu-Gi-Oh! Zexal Second Episode 58.5, Episode 131.5, Yu-Gi-Oh! Zexal Second Special, Yu-Gi-Oh! Zexal 2nd Recap八十亀ちゃんかんさつにっきTWIN SIGNAL~ファミリーゲーム~Trickster Episode 00タイガーマスク ふく面リーグ戦天使禁猟区Syupeo SikeulisStreet Fighter IV, Street Fighter IV: Arata naru KizunaSpace Fantasia 2001 Yoru Monogatari, Space Fantasia Nisenichi Ya Monogatari, 2001 Ya Monogatari, Nisenichi Ya Monogatari, 2001 Nightsサッカーフィーバー少女☆寸劇(コント) オールスタァライトWild 7: Biker KnightsThe Emperor of Myriad Realms, Myriad Realm Supremeウルトラ BUchi no 3Shimai, Uchi no San ShimaiTime Kyoshitsu: Tondera House no Daiboken, Time Classroom, Adventures of Tondera [Flying] House短編ユニコ 黒い雲と白い羽ストラトス・フォー LOG BOOKそれいけ!アンパンマン 妖精リンリンのひみつ宇宙をかける少女 ピクチャードラマLa Campanella Della BenedizioneThe Strongest Male Protagonist of All TimeWakate Animator Ikusei Project, 2011 Young Animator Training Project, Anime Mirai 2011, Minding My Own BusinessNew Bikkuriman輪廻のラグランジェ season 2 ピクチャードラマPetit GargantiaPocket Monsters: Pikachu no Obake CarnivalPocket Monsters: Pikachu no Natsu MatsuriOniichan no Koto nanka Zenzen Suki Janain Dakara ne!! Special, Little Sister\\'s Diary of Brother\\'s Perverted Habitsモンスターハンターストーリーズ RIDE ONメガトン級ムサシMass Effect Animation, Mass Effect: Ushinawareta ParagonMagical Taruruuto-kun GekijoubanMadouou Grandzort OVA 2, Madouou Grandzort: Bouken HenGhost in the Shell Arise Episode: [.jp]Convenience Store BoyfriendsKoala Boy KockyJun: Shotaro no Fantasy World, A City That Changes, A City That Can Change, Ishinomaki feat. Jun革命の若き空Kagaku Kyujotai Techno Voyager, TechnoBoyger Scientific Rescue Team Techno Voyager, Scientific Rescue Team TechnoVoyager, Thunder Birds镜·双城 风起篇フラ・フラダンスPainting Rivers and Lakes 2, Hua Jiang Hu: Bu Liang Ren 2nd Seasonひだまりスケッチ x ☆☆☆Heibai Wushang Di Er Ji, Black and White Warriors 2nd Season, Black and White Warriors Season 2Adeus Legend OVA II, Lord of Lords Ryu Knight OVA 2Pandaneko Gymnastic, Hanamaru Kindergarten: Panda Cat GymnasticsHachinan tte, Sore wa Nai deshou!Galactic Drifter Vifam: 12 Fade Away, Round Vernian Vifam: 12 Fade AwayLoGH Gaiden: Golden Wings, Legend of the Galactic Heroes MOVIE (1992)Precure Splash Star 3D Short Movie, Pretty Cure Splash Star Magic Doki 3D Theater MovieGekijouban Infini-T Force, Infini-T Force: Farewell Gatchaman My FriendSekai Meisaku Gekijou Kanketsu Ban: Akage no Anne, World Masterpiece Theater Complete Edition: Anne of Green GablesAdachigaharaProject A-Ko: VsJuuni-sai.King of Warrior 2ゼロテスター元龙 第三季Cosmo Warrior Zero Specials, Young Harlock o Oe! Cosmowarrior Zero GaidenHamtaro OVA 4, Tottoko Hamutarou: Hamuchanzu no Mezase! Hamuhamu Kin MedalWorld Masterpiece Theater Complete Edition: The Adventures of Tom Sawyer, Sekai Meisaku Gekijou Kanketsu Ban: Tom Sawyer no Bouken, World Masterpiece TheaterBlood of the Reprimanded DogてなもんやボイジャーズIczer-One, Fight! Iczer-OneTakarajima GekijoubanTreasure HuntRocky Chuck the Mountain Rat, Rocky Chuck the Woodchuck, Peter Conttontail in The Green Forest, Peter Cottontail and FriendsChronicles of Everlasting Wind and Sword Rain, Song of Taoists and FairiesTekkaman, the Space KnightCharge! Pappara Team, The X-treme Teamザ☆ドラえもんズ ゴール！ゴール！ゴール！！Fun Willow TownFist of the Blue Skyそれいけ!アンパンマン つきことしらたま〜ときめきダンシング〜サイレントメビウス／THE MOTION PICTURESilent Mobius: The Motion Picture 2Beyond the Ocean 2Sagami Robot Sangyou TokkuRe Re Re no Tensai Bakabon, Rerere\\'s Genius BakabonQín Shí Míng Yuè, The Legend of Swordsman, Qin\\'s Moon, Qin Shi Ming Yue乙女ゲームの破滅フラグしかない悪役令嬢に転生してしまった… ボイスドラマOhayo! Spank (Movie)MY LIFEGreat King of the Grave: Secrets of the QilinMegumi no Daigo, Me-gumi no DaigoGlasses ClubCandidate for Goddess OVACat\\'s Tea Specials, Cat\\'s Tea SP, Mao Zhi Ming BangaiMao Yu Taohua Yuan, Mao Yu TaohuayuanMantou Diaryまかせてイルか！Macross Frontier: Choujikuu Gekijouレベル1だけどユニークスキルで最強ですLarva: HouseクラメルカガリThe Sad and Fat CatJungle wa Itsumo Haré nochi Guu: Eizou Tokuten - Maboroshi no Pilot Film, Jungle wa Itsumo Hare nochi Guu PilotIsuca OVA, Isuka OVA, Isuca ep 11Haiyore! Nyaruko-san, Haiyoru! Nyarl-ani: Remember My Love(craft-sensei)ゴッドマジンガーTemple the Balloon Girl, Fusen Shojo Temple-chanFudanshi Koukou Seikatsu Episode 13デュエル・マスターズ クロスKarimeroArata naru Sekai: Mirai-hen, Arata-naru Sekai, Aratanaru Sekai, The World of Arata, Arata-naru Sekai: World\\'s/Start/Load/EndGekijou Remix Han Appleseed XIII 1, Appleseed XIII Gekijou Remix-ban 1: YuigonWolf Daddyアパッチ野球軍Wedding Peach Specials, Wedding Peach Omake, Wedding Peach Episode 10,526A.D. Police時空冒険記\\u3000ゼントリックスイケメン戦国◆時をかけるが恋ははじまらないThe Adventures of Huckleberry FinnはめつのおうこくGroyzer-Xグレゴリーホラーショー - The Last TrainGen\\'ei wo Kakeru Taiyou Episode 14, The Sun Penetrates the Illusions Episode 14Gyagu Manga Biyori: Jump Festa 2002 SpecialFuma no Kojiro: Yasha hen, Kojiro of the Fuma: Yasha ChapterEureka Seven AO: Jungfrau no Hanabanatachi, Eureka Seven AO: The Flowers of Jungfrau, Eureka Seven AO OVAChocolate no Mahou, Shokora no Mahouブブキ・ブランキ『Boogiepop and Others』 Promotional TrailerBlassreiter NavigatorResident Evil: Infinite DarknessBarbapappaAsobi ni Iku yo! Owari, Let\\'s Go Play! Special, Let\\'s Go Play! Owari, Cat Planet Cuties Special, Cat Planet Cuties Owariありふれた職業で世界最強 ピクチャードラマAir Episode 13, Air Soushuuhen, Air MemoriesMaxbot: After WarWarau Salesman Tokubetsu Bangumi, Warau Salesman SpecialsUNDER THE DOG EPISODE 0TRICKSTER -江戸川乱歩「少年探偵団」より-Toi Sekaiトビウオのぼうや は びょうきですToHeart2 Dungeon TravelersTetsuko\\'s Travels, Tetsuko\\'s Trip潜水艦スーパー99Shin Obake no Q-taro, Obake no Q-taro (1971)石膏ボーイズRomance of the Three Kingdoms 2, Sangokushi II: Tenkakeru Hideotachiクイーンズブレイド リベリオンDiancie, Princess of the Ore CountryPokémon Mystery Dungeon: Magnagate and the Infinite Labyrinthぷれぷれぷれあです特別編ぷちクールドジ男子のひとコマThe Strongest Sage of Disqualified Crest, Shikkakumon no SaikyokenjaGod of Deception, Liar GodRomance of the Three Kingdoms, Sangokushi I, Sangokushi (special)Saiyuki, Journey to the West, The Magic Land of AlakazamKnights of the Zodiac: Saint SeiyaPia Carrot 2 DX忍者ハットリくん (2012)ミッドナイトホラースクールメタリックルージュMcDull Movie 1, Mak Dau Goo Siマケン姫っ！通 Ｐ～私事Shame of Teacher Machiko, Maicchingu Machiko Sensei, Maitchingu Machiko SenseiMahou Shoujo Site DigestMaeterlinck\\'s Blue Bird, Tyltyl and Mytyl\\'s Adventurous JourneyMacross 25th Anniversary Special Eizou: All That VF Macross F Versionリトル・チャロLinetown, raintaunJellyfish Restaurant, Jellyfish DinerKujian, Kujibiki♥Unbalance (2006), Kujibiki♥Unbalance (TV)Ghost in the Shell: Arise - Logicoma BeatKompeki no Kantai Special Episode: Development of the Sorai, Konpeki no Kantai Tokubetsu Hen: Sourai Kaihatsu MonogatariKITE LIBERATOR (カイト リベレイター)Kita e: Diamond Dust Drops OVAKING OF PRISM -Shiny Seven Stars- I プロローグxユキノジョウ×タイガKidou Senshi SD Gundam血液型くん！4Karakuri Circus Recap, Karakuri Circus Episode 14.5Kami wa Yuugi ni Ueteiru., The Ultimate Game-Battles of a Boy and the Gods, Kami wa Game ni Ueteiru.: Kamigami ni Idomu Shounen no Kyuukyoku Zunousenジュノー九天玄帝诀 第二季剑仙在此GODZILLA 星を喰う者銀河の魚~URSA minor BLUE~Gekijouban Gudaguda Fairies tte Iu Eiga wa Dou kana...?The Adventure of Gamba and the Otter福来町、トンネル路地の男Eight Man After, Eitoman After, 8man AfterDomo-kun TVDian Qi Shao Nu, Electrical Girl, Electric Girl「宇宙」予告編アニメ映像コードギアス 双貌のオズ ピクチャードマラA Well-Ordered Restaurant, The Restaurant of Many OrdersCaptain Tsubasa no Shoubou SakusenBrain PoweredJump Special Anime Festa 2020Christopher Columbus: The Commemorative Series, Boukensha: The Man Was from SpainBeyblade Burst GT爆丸バトルブローラーズ Mechtanium SurgeAkai Kiba, Red Fang Blue SonnetDragon Quest: Dai no Daibouken (2020) Recap, Dragon Quest: Dai\\'s Great Adventure Recap, Dragon Quest: Adventure of Dai RecapYurumates ha?, Yurumeitsu ha?, Yurumeitsu wa?Yugioh, Yuu Gi Ou! Zexal Special, Yu-Gi-Oh! Zexal Special, Yu☆Gi☆Oh! Zexal: Uchimura Kouhei Senshu mo Deru yo SpecialCall of the Night Mini AnimeYawara! Go Get \\'Em, Wimpy Kids!!仙武苍穹Yarn Yoshi Shorts, Poochy & Yoshi’s Woolly World ShortsPlanetary Robo Dangard A, Planet Robot Dangard AceトリガーちゃんHamtaro OVA 3, Tottoko Hamutarou: Hamuchanzu to Niji no Kuni no OujisamaThe Sound of Tiger & BunnyTenkuu Senki Shurato Episode 39 and Episode 32.5物語を君へ探偵チームＫＺ（カッズ）事件ノートToETakoyaki Mantoman, Takoyaki MantmanA Kiss For The Petals: Risa x Miya Theaterシンドバッド 空とぶ姫と秘密の島The Evolution Fruit: Conquering Life UnknowinglyOnmyouji: Heian Monogatari万古剑神Ushio & Tora: Comically Deformed TheaterDesert Rose, Desert Rose: Yuki no MokushirokuKuroyuki Hime to Motemote Baikinman新・同棲時代 HAWAIIAN BREEZEシャングリラ・フロンティア ミニアニメRyusei Sentai Musumet, Shooting Starlets Musumet, Meteor Team MusumetFlower declaration of your heart Specials, Lag-Rin SpecialsOverlord Picture Dramaお兄ちゃんだけど愛さえあれば関係ないよねっNingyo-hime Marina no Bouken, Mermaid Princess: Marina\\'s AdventureNanocore: Season 2Elves of the ForestMiss Monochrome: Supporterミス・モノクローム-The Animation- MANAGERSD Hamatora, Minimum-Hamatoraまんがはじめて物語Lee\\'s Detective Agency: A Day in Lungmen PilotLarva in New York恐竜探検隊ボーンフリーくるみ割り人形KING OF PRISM by PrettyRhythmKING OF PRISM ALL STARS -プリズムショー☆ベストテン-I\\'ll / Crazy KOUZU Basketball Club, Generation basketPolon the Star Child炎のらびりんすGin no HakamoriAM DriverPuyo Puyo: Madou MonogatariドラゴンズヘブンDr. Slump and Arale-chan: N-cha! Love Comes From Penguin VillageDr. Slump: Arale-chan - Ncha! Penguin Mura wa Hare Nochi Hareドッグデイズ\\'\\' グラビアトークDennou Coil Soufukushuu, Dennou Coil Episode 22.5, Dennou Coil Comprehensive RecapBokutachi no Remake Episode 6.5ブレイドBEATLESS婆ちゃの金魚AOTU World 2アキカン! カン一発!?温泉パニックあきちあそび PlaygroundAh Harima-nada, Aah HarimanadaZero Zero Nine OneMirage of Blaze Recap: Journey of Darkness, Honoo no Mirage Soushuuhen: Muyou no MichiBlazing Alpenrose, Dramatic Memory Honoo no AlpenroseHidan no Aria Double ACrazy Heroes防御全开SUPER HXEROS OVACYBORG009 CALL OF JUSTICE 第1章Dancouga: Ushinawareta Mono Tachi e no ChinkonkaChaos,Child Episode 0My Girlfriend is a Faithful Virgin Bitch, Boku no Kanojo ga Majimesugiru Shojo Bitch na KenBobobo-bo Bo-bobo Episode 32.5Wakate Animator Ikusei Project, 2012 Young Animator Training Project, Anime Mirai 2012, Aruvu Rezuru, Aruvu Rezuru: Kikai Jikake no Yousei-tachi, Aruvu Rezuru: Mechanized Fairies, Arve Rezzle: Mechanized Fairies, Arve Rezzle: Kikaijikake no YoseitachiMission Outer Space Srungle, Aku Dai-Sakusen Srunglea piece of PHANTASMAGORIA (ア・ピース・オブ ファンタスマゴリア)New Attacker You!, Mila & ShiroEiga Youkai Watch 3, Youkai Watch: the Movie: The Flying Whale and the Grand Adventure of the Double Worlds, Meow!薄墨桜 -GARO-年をとった鰐Pokémon: Journey of Shared DreamsTabi Machi Late Show: Awaiting My JourneySubmarine 707 RevolutionSekai Meisaku Douwa Manga Series, World Masterpiece Fairy Tale Seriesセイント・ビースト～幾千の昼と夜 編～秦侠Pocket Monsters: Pikachu to Pokemon Ongakutai, Pikachu and the Pokemon Musicians, Pocket Monsters XY Movie 2 Short鬼切丸One Piece Episode 1004.5, One Piece Episode 1015.5, One Piece Episode 1073.5, One Piece Episode 1078.5, One Piece Special Episodes: Barto\\'s Secret RoomHolly the GhostNekomachiMuumuMIDNIGHT EYE\\u3000ゴクウIIMelty Lancer: The AnimationLupin III CG PilotKidou Senshi Gundam Senki: Avant TitleKicking Demon, Sawamura, Kickboxing DemonFoto Kano, Photograph GirlfriendHaou Taikei Ryu Knight: Adeu Legend Final - Onsen Dungeon no KettouGO! GO! ACKMAN, ゴーゴーアックマンGalaxy Fraulein Yuna OVA 1, Galaxy Fraulein Yuna: Siren\\'s Sadness, Ginga Ojou-sama Densetsu Yuna, Sorrowful SalineGakkyuuou Yamazaki, Gakkyu-oh Yamazaki, King of Classroom, Yamazaファイナルファンタジー：アンリミテッドFASTENING DAYS 2Dr. Slump and Arale-chan: N-cha!! Trembling Heart of the Summerどろろんぱっ！ドラえもんアニバーサリー25シンデレラガールズ劇場 第3期ブルバスタービックリマン2000My Parents are Otakus, Otaku\\'s OffspringAshita no Joe: Aoyama & Rikiishi Pilot Episodesアニメ 親子劇場Accel World Specials, Accelerated World Specials<Infinite Dendrogram>-インフィニット・デンドログラム-Blazing Teens 3: Sequel, Huoli Shaonian Wang 3: Di 2 Ji放課後ミッドナイターズ808 Chou hyouri no Kewaishi, 108 Ward Inside and Out: Make-Up ArtistGreen Green SpecialsGalaxy Express 999 (ONA)でたらめな世界のメロドラマ劇場版 DEEMO サクラノオト -あなたの奏でた音が, 今も響く-Drill for PrincessＢ・Ｂ BURNING BLOODI\\'m My Little Sister\\'s Secret, I\\'m in Love With My Little SisterAzuki-chan: White Valentine ♥ Koi no Chance ga Yatte Kita!!Anne Frank Monogatari: Anne no Nikki to Douwa YoriAnimentary: The Decision颜王 -怪画廊-Yamishibai: Japanese Ghost Stories Sixth Season, Theater of Darkness 6th Season, Yamishibai: Japanese Ghost Stories 6Kemono Friends x JRA Collaboration, Horse Friendsとっとこハム太郎のとっとこ大事だ!!\\u3000防災訓練Toppo JijoThe Idolmaster Live For You!天地無用！GXP パラダイス始動編台風のノルダGenesis Survivor GaiarthStrange Plus Second Season, Strange+ 2nd Season, Sin Strange Plus, Sin Strange+新 カリメロしましまとらのしまじろうOne Hundred Thousand Bad Jokes Season 1, Shi Wan Ge Leng Xiaohua Di Yii JiSenkou no Night Raid Picture DramaSengoku Night Blood Episode 7.5 SpecialRecently, My Little Sister is Unusual, ImoCho, ImoCyoレア・ガルフォースPsychic Academy Aura Banshouプリンセスラバー!忍者ハットリくん ニンニン忍法絵日記の巻なつきクライシスDetective Conan: Bouhan Guide, Case Closed: Anti-Crime Guide魔乳秘剣帖LET\\'S\\u3000ぬぷぬぷっKyukyoku Chojin R, Kyuukyoku Choujin A~ru, Kyukyoku Choujin R, R The Ultimate EsperKuruneko Specials魁拔之殊途交響詩篇エウレカセブン ハイエボリューション 1Love and Producerきつね憑きKikuchan to Okami, Kiku and the Wolf, Sensou Douwa 8風の大陸Sanpei the KappaUndersea Boy MarineJungle Taitei (2000)Shijian Qiutu 2nd SeasonRhapsody of Flowers and Flamesせいぜいがんばれ！魔法少女くるみ 第2期Magic Sword Master of Holy Sword SchoolSaint Seiya (2014), Saint Seiya (Movie)Ren Shen Guo, Ginseng Fruit, Sun Ukun: Fruits of Genshen,The Monkey King and the Fruit of ImmortalityUtae Meloetta: Rinka no Mi o Sagase!Medaka\\'s SchoolMajutsushi Orphen Hagure Tabi 2nd Season, Sorcerous Stabber Orphen 2nd Season, Sorcerous Stabber Orphen: Kimluck ArcMagical Taruruto-kun - Good-Good Hot Grilled Octopus, Magical Taruruuto-kun: Suki Suki Hot Tako Yaki強殖装甲ガイバーKuruneko Season 2 Specials功夫料理娘Kidou Senshi SD Gundam no Gyakushuu: Arashi o Yobu Gakuensai, Mobile Suit SD Gundam\\'s Counterattack: The Storm-Calling School Festival, The Tale of the SD Warring States: The Chapter of the Violent Final Sky Castle, Kidou Senshi SD Gundam no Gyakushuu: SDMasked Rider Den-O: Imagin Anime 3Dangerous Girl, Miss Critical Moment, Ippatsu Kikimusume「ひだまりスケッチ×365」総集編火の鳥 ~羽衣編~Giniro no Olynsis: Tokito, Gin\\'iro no Olynssis: Tokito, Giniro no Olynssis: TokitoThe Celestial RailroadGaro: Crimson Moon OVA, Garo: Crimson Moon Special, Garo: Crimson Moon ep 24, Garo: Guren no Tsuki ep 24,  Garo: Crimson Moon ep 25, Garo: Guren no Tsuki ep 25学園BASARAExile Generationエスパー魔美スペシャル マイエンジェル魔美ちゃんWilds of Eldraine Official Anime Trailer - Magic: The Gatheringダンス・ウィズ・デビルスChuu Bra!!, Chubra!!, Chuubra!!ちとせげっちゅ!!BLUE GENDER THE WARRIORB: The Beginning 2nd SeasonAlice Tanteikyoku, Alice\\'s Detective AgencyBattle Spirits: Haou, Battlespirits Heroes, Battle Spirits Season 4Neko Raamen猫がくれたまぁるいしあわせSeven Cities Story: Arctic FrontMushroom Family村正Monster Strike Golden Week Special, MSonic! 00, Mon-Soni: D\\'Artagnan no Idol Sengen 00Mini Vanguard SpecialLovely Muco! Season 2, Lovely Movie: Itoshi no Muco Series 2クロカンJosephine the Whale, Adios, Josefinaこの青空に約束を― ～ようこそつぐみ寮へ～小林が可愛すぎてツライっ!!Kinnikuman: Counterattack! Hidden Space SupermanAyu Mayu Theater, Ayu Mayu GekijouYoung Kiitarou and His Youkai Picture Diary, Kiitaro\\'s yokai picture diary, Kiitarou Shounen no Youkai Enikki ep 13機動戦士ガンダムさんValvrave the Liberator Special Edition - Edited, Valvrave the Liberator Specials, Valvrave the Liberator Recapsちびちび演義 真・恋姫ふらっしゅ～張飛、孫尚香、袁術、三国志するのこと～OsuPocket Monsters: Pikachu\\'s Summer Bridge StoryPlayballパンドラとアクビNuwa Chengchang Riji, Nuwa\\'s DiaryNorn9: Norn+Nonet Special, Norn9: Norn+Nonet Episode 9.5, Norn9: Norn+Nonet RecapMei Chu Xi de Yin Yang Shi Yi Jia, The Good-for-nothing Onmyouji Family魔神英雄伝ワタル 七魂の龍神丸Cat\\'s Tea Episode 5.5Maken-ki!: Doki Doki! Maken-ki! Himitsu no KunrenMonster City Shinjukuリトル・ニモ パイロットKING OF PRISM -Shiny Seven Stars- III レオxユウxアレクKabuki-bu!: Oogiri Chiyokoreito Kassen銃皇無尽のファフニール绝命响应Hoero! Bun Bun Special, Bark! Bun Bun Special, Yap! Bun Bun, Piesek BUM BUMヒロシマに一番電車が走ったハローキティ りんごの森とパラレルタウンハロウィン・パジャマThe Genie FamilyGetter Robo Āḥ, Getter Robo Ah, Getter Robo ArkGa-Ra-Ku-Ta: Mr. Stain on Junk Alley: Epilogue, Garakuta-dori no Sutein: EpilogueGanbare! Kickers Recap, Kickers OVAFASTENING DAYS 4ファンタジスタドールえびてん 公立海老栖川高校天悶部ドラゴンコレクション클로저스 : SIDE BLACKLAMBSCatman, Catman 2nd SeasonOha-Suta, Ribon x Oha Suta Specials, Ribbon x Oha Suta Specialsブラック・ジャック Dr. ピノコの森の冒険Pattenrai!! Minami no Shima no Mizu MonogatariBalala the Fairies Season 3, Balala, Little Magic Fairy: The Dream MelodyThe Bakuon!! ClubhouseAzusa Helps!, Azusa, Otetsudaishimasu!Devil Boy, Akuma-kun (1989)\"Inazuma Eleven Ares\\' Balance\" special omnibus in 15 minutes(OO)Yuu Gi Ou!ウィザード・バリスターズ～弁魔士セシルWanpaku Omukashi Kumu Kumu, Naughty Prehistoric Kum Kum海に落ちた月の話楳図かずおの呪いアイドルマスター シンデレラガールズ Spin-off!Tekyuu 5 Specials, Teekyu 5 SpecialsTALES OF LUMINARIA The Fateful CrossroadA Wonderful Present, Sutekina OkurimonoChief Soul Manipulator 2nd Season, Chief Soul Master 2nd Season雪渡りYamishibai: Japanese Ghost Stories Tenth Season, Yamishibai: Japanese Ghost Stories 10Project WooserワイルドアダプターUtsunomiko OAV, Utsu no Miko 2UFO Warrior Dai Apolon, Shadow World鶴が舞う夜に月の珊瑚トゥハート おまけ鉄腕アトム 宇宙の勇者Gargantia on the Verdurous Planet Recap, Suisei no Gargantia: Li\\'l Recapantia, Petit Recap, Suisei no Gargantia RecapThe Haunted House: The Secret of the Ghost Ball 2シンドバッド 魔法のランプと動く島Short Peace Opening Animationライフル・イズ・ビューティフルOnegai My Melody: Friend & LoveOishinbo: Utimate vs. Supremacy, Oishinbo Ultimate vs. SupremeのらくろNontan to Issho七つの大罪 怨嗟のエジンバラななみちゃん 第2シリーズMister Ajikko Episode 68.5, Born to Cook Specialみのりスクランブル!Maou-jou de Oyasumi Mini Anime, Sleepy Princess in the Demon Castle Mini AnimeAlways! Reinforced Urayasu Family, Always! Super Radical Gag FamilyMahou Shoujo Neko Taruto, MNNTGundam SouseiKappa no Kai-kata, How to Raise a Water ImpLes Miserables, Story of Jean Valjean弱酸性ミリオンアーサーIn a Distant Time OVA, Haruka Naru Toki no Naka de: Ajisai YumegatariLament of the Lamb, Song Of Ram, Song of Sheep, Song of the Sheep, Sheep\\'s Song炎炎ノ消防隊 ミニアニメChoujuu Kishin Dancougar OVAHikarian: Great Railroad ProtectorCho Kosoku GalvionBurn-Up Scramble, Burn Up! Scrambleベイビィ☆LOVE蒼い記憶 満蒙開拓と少年たち阿莉塔的试炼Akahori Gedou Hour Love Game, Zettai Seigi Love Pheromone, Soreyuke! Gedou Otometai, Absolute Justice Love PheromoneTenchi Muyo! Love2.43 清陰高校男子バレー部Wind -a breath of heart-W 〜ウィッシュ〜UniteUp! Recap, UniteUp! Episode 8.5UFO Ultramaiden Valkyrie Recap, UFO Princess Walkyure, UFO Princess Walküre時空[とき]の旅人 Time StrangerCrossing of Timeタヌキとキツネ探検ドリランド-1000年の真宝（まほう）-Sword Art Online Specials, S.A.O Specials, SAO SpecialsSanshiro the JudoistIt\\'s a Wonderful World, This Wonderful World, Subarashiki Konosekai, Subaseka, TWEWYStitch! 2スペース☆ダンディ ピクチャードラマArmored Trooper Votoms: Vol.2 Highlights of the \\'A.T. Votoms\\', Soko Kihei Votoms: Vol.2 Highlights of the \\'A.T. Votoms\\'Wind -a breath of heart- OVA万域封神Ultraman Kids: Haha o Tazunete 3000 Man KonenUchu no SenshiMobile Emergency PoliceTiger and Bunny Pilot, Taibani PilotI\\'m Not an AngelGalactic Piratesたまゆら ～もあぐれっしぶ～ ピクチャードラマ『来年の夏、汐入で会おうね、なので』Tales of Homeroom시타를 위하여ちびちび演義 真・恋姫ふらっしゅ～報われない組、報われんとするのこと～Science Fiction New Century Lensman, Lensman Movie戦刻ナイトブラッドPocket Monsters: Slowking no Ichinichinumber24 Episode 10.5, number24 SoushuuhenHattori and the War of the Little Ninja Villages, Hattori: The Little Ninja: the Chapter of the Great Clash in his Native CountryMousou Kagaku Series Wandaba Style, Scientific Wild Fancy Series Wandabastyle, Wacky Science Fiction Series Wandaba StyleMihousou Episode: Yume, Mini Toji episode 11Manyuu Hikenchou: Binyuu Tanren Hou - Chichi TogiMahou CananKidou Senshi Gundam Unicorn Perfectibility風を抜け!Science Ninja Team Gatchaman (movie)HimikodenRun! White Wolf, Flight of the White Wolf, Hashire Shiroi Okamiはれときどきぶた (1988)GokujyoFASTENING DAYS 3Koshi-den, Koushi Den, The Life of ConfuciusDr. Slump and Arale-chan: Hoyoyo! Dream Metropolitan Mecha PoliceDengeki Bunko 2007 Movie Festival - Special Opening Animationでーじミーツガール団地ともおPretty Soldier Sailor Moon S: Responding Moon Call!白月儿アッセンブル・インサートNeo Heroic Fantasia ArionDaniel Arsham × Pokémon, Toki no HamonJim BotanEiga Jewelpet Sweets Dance Princessアイアンマン：ライズ・オブ・テクノヴォアHYPERSONIC music clubHibike! Euphonium Movie: Todoketai Melody Theater MannersHello Kitty and Friends: Alice in WonderlandBlack and White Warriors白文鳥のしろHaiyoru! Nyaruani: Remember My Love(craft-sensei) Episode 12, Haiyore! Nyaruko-san, Haiyoru! Nyarl-ani: Remember My Love(craft-sensei) Episode 120087: Green Divers, Green Diversガンダムブレイカー バトローグガルフォース地球章Twin Hawks, A Full ThrottlePokemon: Eevee and Colorful Friendsデュエル・マスターズ\\u3000チャージDorami-chan: Arara Shounen SanzokudanDevilman: Crybaby RecapGekijouban Chocolate Underground, Chocolate Underground the Movie19 Days, One DayOnmyouji: Heian Monogatari 3rd Seasonクロッシイ・アバンLittle Women (1980)うちゅう人田中太郎True Tears Special: The Story of Raigomaru and Jibeta, True Tears: Picture BookTono to Issho TVトーイGraduation: GraduationSirotanAladdin and the Magic Lamp咲-Saki- ピクチャードラマRyouma! The Prince of Tennis Shinsei Gekijouban Tennis no Ouji-samaGekijouban Pocket Monsters: Mewtwo no Gyakushuu EvolutionObotchama-kunNora Mimiスターフォックス ゼロ ザ・バトル・ビギンズ兵主奇魂Precious Lotus LampBakukyuu Hit! Crash B-DamanAnimation Kikou Marco Polo, Animated Travels: Marco Polo\\'s Adventures.Empty Can!２１エモン\\u3000宇宙へいらっしゃい！집Itsuka Tenma no Kuro-Usagi Picture Drama, Itsuten Picture Drama, Itsu-ten Picture DramaIn a Different World with a Smartphone.Ippon Bochou Mantarou, Mantaro, Ipponbouchou Mantarou, Ippon Bocho Mantaro, Ippon Houchou Mantarouインコカラーズ The animation２イジらないで、長瀞さん 2nd Attack ミニアニメ秘密結社 鷹の爪 ～ゴールデン・スペル～Haruka Naru Toki no Naka de: Hachiyou Shou Recap, Haruka: Beyond the Stream of Time Recapハナビちゃんは遅れがち八月のシンデレラナインGegege no Kitarou: Yokai Express! The Phantom Train, GeGeGe no Kitaro movie #9: Yokai Express! The Phantom TrainGegege no Kitaro Movie 3: Youkai Gundanあんさんぶるスターズ！  振り返りスペシャルデュエル・マスターズ クロスショックDr. Slump: Arale\\'s Amazing-man電信柱エレミの恋クリスタル ブレイズChao You ShijieBronze: Cathexis Koji NanjoBoken Shonen ShadarBotchan, Bot-chan, The Young Master,Baoh, Baoh CallerBakumatsu Gijin-den RomanArifureta: From Commonplace to World\\'s Strongest RecapThe 500 Million Yen Button18 IfChinese Mystery Man禅 グローグーとマックロクロスケRanger Wars, The Chronicles of the Rangerよいこ我是哪吒Rumic World 3Wanjie Chunqiu, Wan Jie ChunqiuThe Messenger from the SeaHani Hani: Operation Sanctuary, The Moon is East, The Sun is West: Operation Sanctuary東北東, 十七の空Free Whale Peek, Peek the Baby Whale, The Boy and the White Whale Calf, Fly Peek!Astro Boy Tetsuwan Atom: Ivan\\'s Planet, Tetsuwan Atom: Ivan\\'s Planet, Astro Boy Tetsuwan Atom Tokubetsu Hen: Ivan no Wakusei - Robot to Ningen no YuujouTenshi no Shippo Chu!: Omnibus Tenshi no Utagoe, The Angel\\'s Singing Voice, Tenshi no Shippo Chu Special, Angel Tales Chu Special, Angel Tales Chu! Special, Tenshi no Shippo 2 Special, Tail of Angels Chu! SpecialTekyuu 7 Specials, Teekyu 7 Specials, Teekyuu 7 OVAたまごっち！～みらくるフレンズ～Taishou Baseball Girls, Kon-ya no Watashi wa Romantic StrikeSUPER SHIRO (スーパーシロ)Stand My Heroes OVAShining Hearts: Bread of Happiness神明之胄Why? What? Shana!サザエさんQueen\\'s Blade, Sentou Kyoukain AlainQueen\\'s Blade 2 Specials, Queen\\'s Blade: The Successor of the Throne Specials, Queen\\'s Blade: Gyokuza wo Tsugumono Specials, Queen\\'s Blade and the Evil Eye Specialsクイーンズブレイド グリムワールSuper Milk Chan Special, Milk\\'s Story of No Mercy! Infidelity is a Culture!Nonoko未来から来た少年 スーパージェッターメモリーMOFF3.5Memories Off 2nd (メモリーズオフ 2nd)MAGICA QUARTET x NISIOISINMacross 25th Anniversary Special Eizou: All That VF Macross Zero VersionLittleforestmello, Littleforestmelo, Mello, Melo, Mellow, Sanrio, My MelodyLicensed by Royalty Special, Licensed by Royalty ep 4, Licensed by Royal ep 4, Licensed by Royalty ep 3.5Kyoukaisenjou no Horizon SpecialsKiss Dum R Episode 26Kenzen Robo Daimidaler OVA, Kenzen Mini OVADaimidaler the Sound Robot, MidaraKagi Hime Monogatari: Eikyuu Alice Rinbukyoku, Kagihime Monogatari: Eikyuu Alice Rondo, Key Princess Story: Eternal Alice RondoサイファイハリーSakura MailQin Shi Ming Yue 3D Dianying Longteng Wanli, Qin\\'s Moon: Soaring DragonぷッつんメイクLOVEPlayball 2nd猫神やおよろず猫ピッチャーNandaka Veronica, Kind of VelonicaDetective Conan: Approaching the Mystery of the Ancient Dinosaurs!Maken-Ki! Dai 2-ki, Maken-Ki! 2, Maken-Ki! Second Season, Maken-Ki! 2nd SeasonMajutsushi Orphen Hagure Tabi 3rd Season, Sorcerous Stabber Orphen 3rd Seasonらぶドル～Lovely Idol～Lime Iro Senkitan Nankoku Yume Roman, Raimuiro Senkitan: The South Island Dream Romantic Adventure (OAV), Southern Romance StoryKujira ToriMisha the Bearcubきらり輝くカゲロウデイズ-in a day\\'s-Always the Sun in My Soul, Remember the Sun in the HeartHey! Bunbuu, Bumpty Boo群青のファンファーレGreen Green TV, Guri Guriガーリー・エアフォース現代畸聞録\\u3000怪異物語Pokexel: Square-shaped Pokemon From a Non-round Island?!, Marujanai Shima no Shikaku na Pokémon!?The Vision of Escaflowne Recaps, Escaflowne BD-BOX Tokubetsu Henshuu-ban, Escaflowne Episode 2 & 3 Digest时间囚徒Sengoku Musou SpecialsHoopa\\'s Appearance! Operations, Pocket Monsters XY Movie 18 TV Special: Fuupa no Odemashi Daisakusen, Pocket Monsters XY: Fuupa no Odemashi Daisakusen!!Plastic Little: The Adventures of Captain Titaおそ松くん イヤミはひとり風の中Ken the Wolf BoyNinku The MovieNINETEEN 19みにとじ名探偵コナン vs WoooRobot boy DotakonLeina Stol in Wolf Sword Legend, Leina Kenrou Densetsu鲤氏侦探事务所 两小时假期恋する小惑星 「KiraKira増刊号」Mobile Suit Gundam: More Information on the Universal Century結婚指輪物語Hell Hall-Spirit World CommunicationIzumo: Flash of a Brave Sword, Izumo: Takeki Ken no Hirameki, Izumo2, Izumo TTnSSega Hard Girls OVA, SeHa Girls Episode 14, Dai-54-Kai Hanpa Jano! Zenryoku de Guu! Yūshō Suru no wa Only You! Subete no Gakkou Gyouji o Kako ni Suru! SeHaGaga Gakuen TaiikusaiHiatari Ryoko! Yume no Naka ni Kimi ga Ita (Movie)ぐるぐるタウン\\u3000はなまるくん国民老公带回家Magmel of the Sea BlueGalaxy Express 999: Jikuu wo Koeta Energy no TabiファイナルファンタジーKakyuusei: Elf VersionHani 2nd SeasonBlocker Gundan 4 Machine Blaster, Astrorobot, Blocker Army IV Machine Blaster, Blocker Corps IV: Machine BlasterMaidens of Morning Mist, Priestesses of the Morning MistAr Tonelico: The Girl Who Sings at the End of the Worldあの日, 僕らは戦場で ~少年兵の告白~Sanjuu-sai no Hoken Taiiku Specials.hack//DUSK Special, .hack//Tasogare no Udewa Densetsu SpecialYuushibu Extras, Yu-sibu Extras, Yuushibu Specials, Shinki Seisaku Anime (Honpen-chuu de Nagareru Gekichuu TVCM no Kanzenhan)Yankee HamstersWat Bo, Legend of Watt Poe忘れたフリをしてWUG Zoo!Urashimasakatasen no Nichijou Episode 13, Days of Urashimasakatasen Special, Days of Urashimasakatasen Episode 13トランスフォーマー スーパーリンクTokimemo OVA展覧会の絵Space Dandy Picture DramaTo be Near YouYoung Ashibe: Go! Go! Goma-chanCrayon Shin-chan: Shin-MenI Annoyed Millions of Cultivatorsうみものがたり マリンのこれなぁに？Pocket Monsters Indigo League Recap, Pocket Monsters OVA Summaryトトイているず おぶ ざ れいず劇場Guardian Fairy Michel, Michel: The Little Guardian, Shouhu Jinglingそれいけ!アンパンマン ばいきんまんと3ばいパンチ【时光代理人x王老吉】 关键时刻还得看陆光啊！世界名作童話스캔2고Phantom of the Kill: Zero\\'s Rebellion親子は続くよ俺の空 刑事篇鬼斬娘 再戦The Ballad Drama of Okon, The Magic Ballad, The Magic Fox, OkonjoururiOishinbo: Nichibei Kome SensoナインMini Vanguard 2nd Season, Saturday Vanguard 1030峰岸さんは大津くんに食べさせたいA Miko\\'s Job!名探偵コナン ピラミッドからの挑戦状!Masou Gakuen Hybrid x HeartMashiroiro Symphony: Airi ga Anata no Kanojo ni!?Marie to Gali ver.2.0, Marie and Gali 2.0Bell on a Deer, The Deer\\'s Bellリトルポーラベア しろくまくん, どこへ?Raidbackers空想の空飛ぶ機械達Armed Dragon Fantasy VillgustKitsutsuki Tantei-Dokoroきらめき☆プロジェクト機動新撰組 萌えよ剣 TVKidou Senshi SD Gundam Mk-IIDemetan Croaker, The Boy Frog, The Brave Frog, The Brave Frog\\'s Greatest Adventure県立地球防衛軍ジャングル黒べえJinki:Extend Episode 13, Jinki:Extend OVAインスタントヒストリーHello Kitty and Friends: Heidi母のサポーターGO-GO たまごっち！Ganbare Goemon: Chikyu Kyushutsu DaisakusenGakkou no Kaidan: New Year\\'s SpecialFushigi na Merumo, Marvelous MelmoHometown Visiting: Folktales from JapanSekai Meisaku Gekijou Kanketsu Ban: Flanders no Inu, Flanders no Inu RecapThe Fishing Pond in My Room, Doraemon (1979) PilotChicken Takkun, Chicken Tak-kun, Chikkun Tak-kun, Chik-kun Tak-kunちびケロ ケロボールの秘密!?BORUTOジャンプフェスタ 2016Our Rainy ProtocolAnju to Zushiou Maru, Anju and Zushiomaru, The Littlest Warrior, The Orphan BrotherA Sea Turtle and a Boy, Sensou Douwa 1TwinbeeTottoko Hamutaro: Anime Dechu!Fate/Grand Order Farewell to 2016 - Guda Guda Order, Fate/Grand Order Toshiwasure Guda Guda Order 2016Aim for the Top! Science Lesson, Gunbuster! Science Course, Top wo Nerae! KagakukouzaDon Draculaテラフォーマーズ アース編スタ☆スカSoul Linkそれいけ!アンパンマン アンパンマンのジンジンジングルベルそふてにっOne Thousand and One Arabian Nights, 1001 NightsGood-bye, CramerRobot Girls Z 00ぷちます! -PETIT IDOLM@STER-The Story of Perrine Movie, Gekijouban Perrine MonogatariPanda Zeto, Robonimal Panda-Z: The Robonimationおそ松くん スイカの星からこんにちわザンス！One Room 2nd Seasonノラゲキ！The Ninja BoyGirls in Summer Dresses, Natsufuku no Shoujo-tachi: Hiroshima, Shouwa 20-nen 8-gatsu 6-kaYume Jigen Hunter FandoraTales of Agriculture CGI Anime魔法亞媽Maze☆Bakunetsu Jikuu Special, Maze Megaburst Space SpecialMalice DollMaguma Taishi魔法騎士（マジックナイト）レイアース  パイロットフィルムティグルくんとヴァナディーちゅ 第0話Karl Marx The AnimationKaitou Tenshi Twin Angel (TV)ユンカース・カム・ヒア パイロットフィルムジンキ・エクステンドSun Ukun: The Monkey King Conquers the DemonSleeping Beauty, Šípková Růženka aneb Spící krasavice姫ギャル♥パラダイスHijikata Toshizo: Shiru no Kiseki, Hijikata Toshizo Shiro no Kiseki, Hijikata Toshizo: The White Trail, Toshizo Hijikata: Cornerstone of UnderstandingThe White Snake Enchantress, The Great White Snake, Legend of the White Serpent, Legend of the White SnakeDangaioh, Dangaio, Dangaioh: Hyper Combat Unit, Haja Taisei DangaioMahoujin Guruguru Petit Anime TheaterGu-Gu Ganmo (1985)Garasu no Kantai Special, Fleet of Glass Specials, Glass no Kantai 16.5, Garasu no Kantai 16.5, DVD Extra Episode - Episode 20.5기기괴괴-성형수Kikou Soseiki Mospeada: Love, Live, Aliveチョコレート・アンダーグラウンドBonkoi, Bonjour: Koiaji PatisserieBokurano Recap, Bokurano Episode 15.5, Bokurano SpecialAnnyeong Jaduya.hack//GIFT擾乱 THE PRINCESS OF SNOW AND BLOODLovely Muco! OVAHimitsu no Akko-chan (1989), Secret Little Akko平成天才バカボンGOD EATER RESONANT OPS銀河鉄道９９９ 虹の道標The One And Only Step Up Love StoryBrinky and Printy, Blinky the Wonderful KoalaフイチンさんDa Wang Bu Gao Xing 2nd SeasonCode Geass: Hangyaku no Lelouch Picture Drama Stage 0.97, Code Geass: Lelouch of the Rebillion Picture Drama 10Choegang Tabpeulleiteu, Ultimate Top Plate, Top Plates誓いBen-To Specials, Bento Specials, Ben-Tou Specials, Bento Picture Drama, Ben-Tou Picture Dramaエルドライブ 【ēlDLIVE】Agents in OtherworldアリスＳＯＳKing of Warrior 3ゆびさきと恋々 ミニアニメRescue Angel, Yomigaeru SoraSensou Douwa 5, Burning, Candy TreeSekai Meisaku Gekijou Kanketsu Ban: Wakakusa Monogatari: Nan to Jo-sensei, World Masterpiece Theater Complete Edition: Little Women II - Jo\\'s BoysDays of UrashimasakatasenFireworks, Should We See It from the Side or the Bottom?とらいあんぐるハート -Sweet Songs Forever-The Pumpkin Wine: Nita\\'s Love StoryUtsu no Miko, Heavens Compilation: Space PrinceTeizoku Rei Daydream, Vulgar Ghost DaydreamSlide (2015)シンカリオン チェンジ ザ ワールドShikabane Hime: Chibi Special, Shikabane Hime: Kuro OmakeLink Click x Huadi七星のスバルサムライスピリッツ2 アスラ斬魔伝The Strongest Tank\\'s Labyrinth Raids: A Tank with a Rare 9999 Resistance Skill Got Kicked from the Hero\\'s PartyMeiou Project Zeorymer, Uranus Project, MoPZオサムとムサシにじいろ☆プリズムガールマイブリッジの糸Pink SistersMazinger Z vs. Devilman, Mazinger Z versus DevilmanマーズMaho Yome Extra EpisodesMahou Shoujo Lyrical Nanoha ViVid Recap, Magical Girl Lyrical Nanoha ViVid Recap, Mahou Shoujo Lyrical Nanoha ViVid 12.5, Magical Girl Lyrical Nanoha ViVid 12.5蓝猫淘气3000问Invented Divinationこまねこ のクリスマス\\u3000―迷子になったプレゼント―劇場版 空の境界 未来福音 劇場用マナーCMNamuamida Butsu! Rendai Utena超獣伝説ゲシュタルトChoujin Locke: Lordleon, Space WarriorsAdventures With Iczer 3BEMTransformers: Beast Wars II: The Movie (special), Beast Wars Second: LioConvoy in Imminent Danger!, Movie Edition Beast Wars Special, Beast Wars: Super Lifeform Transformers Special, Beast Wars II: Lio Convoy\\'s Close Call!Animal One悪右衛門Sekai Meisaku Gekijou Kanketsu Ban: Ai Shoujo Pollyanna Monogatari, Ai Shoujo Pollyanna Monogatari RecapsSeason 2019: A New Journey | League of LegendsCurse of the Undead Yomaようこそロードス島へ！野球狂の詩 北の狼南の虎Turning Mecard Wing, 터닝메카드 WingToHeart Remember my memories: Heart FightersTiger & Bunny: Special Edition - Side Bunny, Tiger & Bunny: Special Edition - Side Tiger『天才王子の赤字国家再生術』ショートドラマたまごっち! ゆめキラドリームストリートファイター IVSoukou Kihei Votoms: Woodo-hen, Soukou Kihei Votoms: Kummen-hen, Soukou Kihei Votoms: Sansa-hen, Soukou Kihei Votoms: Quaint-henそれいけ!アンパンマン アンパンマンとおかしな仲間忍の一時聖伝落下生Paaman: Copy World no Nazo, Perman: Copy World no Nazo, Perman All Hyakka, Bird Sei e no MichiThe Romcom Where The Childhood Friend Won\\'t Lose!, OsamakeNine 3: Finalンダホ結婚おめでとう！！Nagagutsu Sanjyuushi, The Three Musketeers in BootsManga Doshite Monogatari, Animated Stories to Understand ThingsAnimated Aesop\\'s Fables, Manga Aesop\\'s Fables, Manga Aesop Monogatari (1983)マドンナまちカドまぞく みに巨人の星Kitten\\'s StudioKoisuru Asteroid Recap, Asteroid in Love Recap, Koisuru Asteroid: Furikaeri - Kirakira Tokubetsu-gou!Kidou Senshi Gundam G40Special Crime Investigation Unit - Special 7 OVA, Special Crime Investigation Unit - Special 7 Episode 0.5Kanojo, Okarishimasu 2nd Season SpecialsTamagon the Counselor, Eggzavier the EggasaurusSeikaisuru Kado Recap, Seikaisuru Kado Episode 6.5, Seikaisuru Kado SpecialSeikaisuru Kado Episode 12.5Sacred Seven Recap Special Picture Drama, Sacred 7: Night Edition Picture Drama, Sacred Seven: Night Edition Picture Drama, Sacred Seven: Knight Edition Picture Drama令和のデ・ジ・キャラットRainbow Battle Team Robin, Rainbow Squadron Robin, Robin in the Rainbow TroopsQueen\\'s Blade Rebellion: Genkai Toppa de Miechau no!?, Queen\\'s Blade Rebellion: What Will It Look Like When It Smashes Through Restrictions!?Ozumaおそ松くん あっぱれ！チビ太の鬼たいじザンスOniichan no Koto nanka Zenzen Suki Janain Dakara ne!!, Onisuki, Because I Don\\'t Like My Big Brother at All!!のたり松太郎ニンジャバットマンShooting Star Lens Specials, Ribon x Oha Suta Specials桃色のクレヨンDetective Pikachu: Splendid Morning RoutineManga Nippon Mukashibanashi (1982), Japanese Folklore Tales Movie, Manga Nippon Mukashibanashi MovieMajutsushi Orphen Hagure Tabi Episode 14, Sorcerous Stabber Orphen Episode 14, Majutsushi Orphen Hagure Tabi Special, Sorcerous Stabber Orphen SpecialMahou Shoujo Nante Mouiidesukara.Magic School Lunar: Secret of the Blue DragonLunn Flies into the WindLicca: the Mystery Tale of Mysterious Yuniaくじびきアンバランス警視庁 特務部 特殊凶悪犯対策室 第七課 -トクナナ-画江湖之杯莫停First Trip AloneSekai Meisaku Gekijou Kanketsu Ban: Haha wo Tazunete Sanzenri, Sekai Meisaku Gekijou Kanketsu Ban: Haha o Tazunete Sanzenri, World Masterpiece Theater Complete Edition: Marco - From the Apennines to the AndesGunslinger Stratos The Animation Episode 12.5Gatapin, Pesuke Gatapishi Monogatari腐女子の品格Eight Man, Eitoman, 8man, Tobor the Eighth Manドラえもん のび太と未来ノートDIVE!!Closure\\'s Secret FilesBurn UpMy Son Gokuブレイブルー オルターメモリーTenchu Girls CM, Black Bullet SpecialResident Evil 4: IncubateAttack No.1 Movie 4アルスの巨獣Baby Dinosaur Dooly3-gatsu no Lion Specials, Ugoku! Nyaa Shougi: Nikaidou-sensei no Mocchiri Shougi KyoushitsuゆとりちゃんYurumates (2012), Yurumates 3D Plus OVA, Yurumates 3D: Ushinawareta GenjitsuゆめりあGekijouban Yatterman: Shin Yattermecha Dai Shuugou! Omocha no Kuni de Dai Ketsudan da Koron, Yatterman (Movie 2009)Watanuki\\'s House Second SeasonWake Up, Girls! Please Let Us Promote Miyagi!TV Yarou Nanaana Season 2, Televi Yarou Nanana, TV Yarou Nana-naTRIBE NINE（トライブナイン）タトゥーン・マスターMr. Super BearSore Ike! Anpanman: Minna Atsumare! Anpanman World - Komusubiman to Omatsuri RobotSoreike! Anpanman: Anpanman to Christmas no Hoshi, Go! Anpanman: Anpanman and the Star of Christmasそにアニ -SUPER SONICO THE ANIMATION-コンセントYurumates 3D Plus OVA, Yurumates (2012)Super Seminary Fifth Season, Transcend the Gods: The Black Troop, Chao Shen Xue Yuan: Xiong Bing Lian, 超神学院之雄兵连忘星のヴァリシアMobile Suit Gundam Wing: Frozen Teardrop Picture Drama - Aratanaru Tatakai, Mobile Suit Gundam Wing: Frozen Teardrop Picture Drama - A New BattleKinpatsu no Jenny, Blonde Jeanie, Jeanie with the Light Brown Hair火宅快盗天使ツインエンジェルKaiketsu Zorori: Mahou Tsukai no Deshi, Kaiketsu Zorori Movie (1993)Hello Kitty and Friends: Snow WhiteWandering Clouds, Drifting Cloudsガンスリンガー ストラトス -THE ANIMATION-GREY デジタル・ターゲットグッドモーニング・コールドラマティカル マーダー OVA「Data_xx_Transitory」DMMdMr. dMatsu, Osomatsu-san 2nd Season Side StoriesDD北斗之拳Cyborg 009: The Cyborg Soldier Recap, Cyborg 009: The Cyborg Soldier ep 47.5ちょぼらうにょぽみ劇場第三幕『あいまいみー～Surgical Friends～』Chimpui: Eri-sama Katsudou Daishashin, Timpui: Eri-sama Katsudou DaishashinLittle Ghosts, There, Here, and Where, Acchi, Kocchi, Socchi小さな恋のものがたり チッチとサリー初恋の四季キャップ革命 ボトルマンDXBerserk Dai 1-ki Digest Eizouアサティール 未来の昔ばなしSekai Meisaku Gekijou Kanketsu Ban: Alps Monogatari Watashi no Annette, Alps Monogatari: Watashi no Annette Recaps11eyes -Tsumi to Batsu to Aganai no Shoujo-Sky of Connection, Yosuga no Sora: In Solitude, Where We Are Least Alone.Yankee Gale Squad寻剑My Journey To Another WorldボトムズファインダーUrban Square: Chasing AmberUltra Nyan: Extraordinary Cat who Descended from the Starry Sky, Ultra Meow터닝메카드Do You Like Your Mom? Her Normal Attack is Two Attacks at Full Power OVA, Okaasan online OVA, Tsuujou Kougeki ga Zentai Kougeki de Ni-kai Kougeki no Okaasan wa Suki Desu ka? episode 13とっとこハム太郎 はむはむぱらだいちゅ! かず・かたち・ちえTetsuwan Atom: The Glorious Earth, Astro Boy: Kagayakeru Chikyuu, Astro Boy: The Glorious EarthSpace Cruiser Yoko Yamamoto, Yamamoto YookoShonen Hollywood正义红师Onmyouji: Heian Monogatari Season 2, Onmyouji: Heian Monogatari 2nd SeasonThe Carp Jumps Over the Dragon Gate, Liyu Tiao LongmenNanchatte VAMPIYAN, Vampire KidsUkkari Penelope, Pénélope tête en l\\'air, Carelessly Penelope, Absent-minded Penelope, Head in the Air PenelopeJack of All Trades타이밍Astro Boy: The Secret of Atom\\'s BirthSuper Deformed Double FeatureFleeting Dreamテイルズ オブ クレストリア オフショットムービーYuna & StitchSoreike! Anpanman: Niji no Piramido, Soreike! Anpanman: The Pyramid of the Rainbow双月之城The New Submarine Battleship스피드왕 번개プリキュアからみんなへの応援ムービーSnow HareOH! スーパーミルクチャンHospitalization Erection Story: Get Well Soon!You Are A GeniusMetal Fight Beyblade Zero G OAD, Metal Fight Beyblade Zero G OVA망치Majutsushi Orphen Hagure Tabi 4th Season, Sorcerous Stabber Orphen 4th SeasonOld Master Q: Water Tiger, Lao Fuzi Shui Hu Chuan鋼鉄天使くるみ零孤独のグルメThe Town You Live InPanzer World Galient OVA, Kikou Kai Garian OVA景山民夫のダブルファンタジーG-angel Recruiting AnimationUN-GO: Inga\\'s DiaryIkkyuu-san: It\\'s Spring! Mischievous Princess星に願いを COLD BODY + WARM HEARTグリックの冒険Class Room✿For Heroes, Hero ClassroomCyborg 009 Kaishuu SensouCutey Honey F: The Movie, Cutey Honey Flash, Cutey Honey F (1997)Seirei Gensouki Mini Anime, Celia-sensei\\'s Exciting Magical Classroom, Instructor Celia\\'s Exciting Magical ClassroomCaptain Gekijoubanぼく、オタリーマン。My Air Raid Shelter, My Bomb Shelter, Sensou Douwa 4Bai Gui Youeryuan Di 2 Jiアクエリアンエイジ Sign for EvolutionAngelique: From the Sanctuary with Love, Angelique OVA2Roughneck Sumo Wrestler!! MatsutarouBincho-Tan OVA, Binchou-tan Jishu Seisaku Movie: Aozora ni Wasure Monoじゃんたま PONG☆Heibai Wushang Di San Ji, The Unparalleled Black & White 3Hakuouki: Otogisoushi Episode 11.5Guilty Gear X: By Your Sideゴールデン道画劇場Ginga e Kickoff!! Special幻影闘士バストフレモンFireball Gebaude BaudeFlying Witch Puchiドラゴンエイジ -ブラッドメイジの聖戦-ダブル・ハードDorami-chan: Hello, Dynosis Kids!!Document Fang of the Sun Dagram, Document Fang of the Sun DougramCyborg 009 (Movie)Dreaming Topo Gigio, Yumemiru Toppo Jijo夢王国と眠れる100人の王子様 Short StoriesゆきYosei Hime Ren, Fairy Princess RenYatterman Episode 12.5 and 25.5WONDEREverlasting Immortal Firmament 4th Season, Ancient Celestial Firmament 4th Season, Ancient Divine Pinnacle 4th Season, Wangu Xian Qiong 4th Season, 万古仙穹 第四季Uchuu Senkan Yamato 2199: Hoshi-Meguru Hakobune Picture Drama, Space Battleship Yamato 2199: Odyssey of the Celestial Ark Picture Drama継つぐももミニアニメTime Bokan OVASuper Doll Liccachan: Rika-chan\\'s Desperate Situation! The Doll Knights\\' MiracleShinran-sama: His Wish and Light, Nenbutsu Monogatari: Shinran-sama - Negai, Soshite HikariThumbelina沙羅曼蛇Graduation: Sailor VictoryRhythmens (리드멘스)プラチナエンドおじさんとマシュマロ 13個目 日下さんと夢マシュマロNihon-ichi no Otoko no Tamashii, Most Spirited Man in Japan森の伝説 第二楽章メタルファイト ベイブレード ZEROG名探偵コナン 熱中症の謎を解け！Masou Kishin Psybuster, Psybusterまめねこ魔女っこ姉妹のヨヨとネネ「初恋」Kyokugen Dasshutsu ADV: Zennin Shibou Death, Kyokugen Dasshutsu ADV: Zennin Shibou Desu Promotion Anime, Extreme Escape Adventure: Good People Die Prologue, Zero Escape: Virtue\\'s Last Reward Special OVAKocho-sensei to Kujira, Man and Whale, Man & Whaleキングスレイド 意志を継ぐものたち快盗天使ツインエンジェル キュンキュン☆ときめきパラダイス!! OVA怪物くん デーモンの剣Shao Nian Jin Yi WeiDemon God of the War Torn Land Goshogun, Goshogun, Macron 1サザエさん\\u3000ドーンと一家でハワイ旅行Fuyu no Chikai, Natsu no Matsuri: Takeo no Ookusu, Yakusoku no Utsuwa: Arita no Hatsuko, Takeoshi no Dai-KusunokiQMAQueen\\'s Blade OVA Specials, Queen\\'s Blade: Rebellion OVA SpecialsThe DemonNiji no Senki IrisuNine 2: Sweetheart DeclarationDays of van Meowogh, Meowogh the Cat: Mes Misérables, NiaghoMinna Atsumare! Falcom Gakuen Second SeasonMaze Bakunetsu Jikuu MovieAlien X from A Zoneマギアレコード 魔法少女まどか☆マギカ外伝 1st SEASON 総集編Luck and LogicRace-Tin: Flash & Dash 3Linebarrels of Iron Picture DramaKoihime FlashKIRARASHOW BY ROCK!! Gonna be a music millionaire!Kokoro yaXue Mo Ren池袋PRアニメGekijouban Heart no Kuni no Alice: Wonderful Wonder World, Alice in the Country of HeartsゴリラーマンGirlfriend (Onpu)Game Centre Arashi冬の日플라워링하트Fire Emblem Heroes: Part 2 - Mini Chara Theater, Fire Emblem Heroes: Book II - Chibi Playhouse, Fire Emblem Heroes - Holiday - Chibi PlayhouseFate/Zero CaféDr.スランプアラレちゃんスペシャル ペンギン村英雄伝説I Really Want to Join the Zodiac, EtonekoDoujouji Temple, Dojojiダイバージェンス・イヴダークサイド・ブルースBORUTO -NARUTO NEXT GENERATIONS-Eureka Seven AO Original Short AnimeAppleland Monogatari, Applefield MonogatariSister\\'s Log: Moyako\\'s Never-ending Monologue赤い肖像\\u3000～シャア、そしてフロンタルへ～阿波連さんははかれない ミニ11eyes Episode 13, 11eyes OVA, 11eyes -Tsumi to Batsu to Aganai no Shoujo- Episode 13結城友奈は勇者である ちゅるっと！Yamishibai: Japanese Ghost Stories Seventh Season, Theater of Darkness 7th Season, Japanese Ghost Stories 7Weiss SurviveKnights of RamuneTokimeki Tonight Specials, Heart-Thumping Tonight Recaps, Heart-Thumping Tonight SpecialsTokimeki Memorial 4 Original Animation -Hajimari no Finder-Tobira o Akete, Open the DoorA Time Slip of 10000 Years: Prime Rose, 24 Hour TV SpecialsTama and Friendsテイルズ オブ ザ レイズ エバーラスティング デスティニーStitch! 3Soreike! Anpanman: Fly! Fly! Chibigon!ゼロテスター 地球を守れ!Constructor Rabbit勇者指令ダグオン 水晶の瞳の少年You0 DECOYume Minoeようじょしぇんき万国志Uchuu Majin Daikengo, Uchuu Mazin Daikengo, Daikengo, The Guardian of Spaceターニングガールズ5thライブツアーマナー映像Homeroom Affairs, Human Relationsストレイシープ ポーのちっちゃな大冒険스피어즈蒼天の拳 REGENESIS 第2期Tenguri, Boy of the PlainsWhite OceanSengoku Kidan Youtouden, Yotoden OVAリボンの騎士 (1999)Entrance of the DoctorPrism Ark: Pri ArkThe Panda\\'s Great Adventureナイン オリジナル版ななみちゃん 第三期Maze☆Bakunetsu Jikuu OVAAesop\\'s Fables Movie, Manga: Aesop\\'s TaleMagia Record: Puella Magi Madoka Magica Side Story Season 2 - The Eve of Awakening RecapM3～ソノ黒キ鋼～Huang Li Shi, Chinese Almanac Master, Secret Archives of Unscientific Materialism, 不科学唯物主义秘密档案, 黄历师Koutsuu Anzen da yo Doraemon Part IIKosukesama Rikimarusama: Konpeito no Ryu, Kosuke and Rikimaru: Dragon of Konpei Island木ノ花ノ咲クヤ森Kemeko Deluxe! SpecialBistro Recipe, Bistro Recipe - Fighting Chef Zen, Legend of Grapple Cooking Bistro RecipeKaifeng Strange Tales: This Lord Bao is Not That GreatHoi Hoi-san, Ichigeki Satchu Hoi Hoi San, One-Shot Bug Killer!! Interceptor Doll HoiHoi-san, Interceptor Doll HoiHoi-sanFloral Magician Mary Bell: The Phoenix Keyハクション大魔王2020ファイトリーグ ギア・ガジェット・ジェネレーターズThe Cost of Smilesドクタースランプ ロボット対決! 宿敵ドクターマシリト登場 / キーンで優勝!? ペンギン・グランプリDr.スランプ アラレちゃん ほよよ!!助けたサメに連れられて...伝説巨神イデオン 接触篇幕末Rock 湯煙推理劇[ミステリー]! 温泉怪事件ぜよ!!幕末RockAlade : Suming Zhi Men, Arad: Shukumei no Mon, Arad: The Gate of DestinyIronman火力少年王之传奇再现Eagle Talon NEOThe Frogman ShowHello Kitty\\'s Animation Theater 1aHana KappaG.R.M.: The Record Of Garm WarFukuyama Treater: Summer Show, Fukuyama Theater: Summer SecretHorizon Warriors vs. Dash Warriors, Dash! Yonkurou SpecialCMFU Academy: King of BilliardsScrolls of Cartoons of Birds, Animals, and People, Choujuu-Jinbutsu-Giga Emaki, Scrolls of Frolicking Animals and HumansBLOOD-C The Last Dark SpecialBlade and SoulBeng Huai Xingheバカボン・おそ松のカレーをたずねて三千里朝まで授業chu!アニメ店長Digimon Savers 3D: A Close Call for the Digital WorldXuese CangqiongQueen\\'s BladeUsavich 0Revelation Online Animated SeriesAnime Sanjushi Pilot Episode, After the man in the iron mask! from the Tale of D\\'Artagnan大切な家族を包む、その手。Sugar Bunnies 2书灵记少女ノスフェラトゥシャイニング・ハーツ 〜幸せのパン〜Saishuu Shiken Kujira OVA, Final Examination Kujira ProgressivePIANOおそ松さん 春の全国大センバツ上映祭 銭湯クイズ2おらぁグズラだど音楽少女Noragami: NoranekoMoeru! Onii-san (OVA), Moeru! Onii-san (1989), The Burning Wild Man (OVA)MahoYome Episode 0, The Ancient Magus\\' Bride, The Magician\\'s Bride, Magic Bride, #0 Aisatsu, #0 Greeting, Maho YomeLove Position, Legend of the HalleyLarva 5th Season라바Youkoso! Kirara Fantasia: New Game!-hen, Youkoso! Kirara Fantasia: Kiniro Mosaic-hen, Youkoso! Kirara Fantasia: Yuyushiki-hen, Youkoso! Kirara Fantasia: Stella no Mahou-hen, Youkoso! Kirara Fantasia: Gakkougurashi!-henArtificial Insect KABUTO BORG Victory by Victory幻镜诺德琳Hello Kitty and Friends: The Magic Apple叛逆性ミリオンアーサーHajimaru no Bokensha-tachi Crystania no Densetsu, Legend of Crystania MovieGreat Mazinger vs. Getter RoboGeGeGe no Kitaro movie #2: The Geomancer\\'s Eyeがんばれゴエモン 次元城の悪夢Gekijouban Dr. Slump: Dr. Mashirito Abale-chanでたとこプリンセスTHE IDOLM@STER CINDERELLA GIRLS Theater: Climax Season SpecialsButchgiriブッチギレ!Balala the Fairies: Flying Over Fort Crescent, Balala, Little Magic Fairy: Over the Rainbow, Balala the Fairies Season 4Deluxe ArielAkuma-kun: Youkoso Akuma Land he!!, Akuma-kun: Yokoso Akuma Land e!!, Devil Boy: Welcome to Devil Land!!6♥Princess, 6 PrincessInferno Cop Sequel左のオクロック!!はたらく魔王さま！！How to Steal 55 Kisses 3rd Season, Bringing Back Home Mr. Perfect 3rd Season, Taking Everybody\\'s Husband Home 3rd SeasonHow to Steal 55 Kisses,  Bringing Back Home Mr. Perfect, Taking Everybody\\'s Husband HomeGin-iro no Kami no Agito Pilot, Silver-Haired Agito Pilot, Gin-iro no Kami no Agito Eizou Tokuten - Shoki Pilot FilmFuture War 198X年Fei Ren Zai x Pizza Hut[엘소드] 아인의 기억 애니메이션アーシアンドラえもん英語敎室Planet Busters, World of the Talismanあなたのフランスは どんなところ？Juuippiki no NekoChinese Kids英雄别闹Yakumo TatsuSupreme Galaxy 2nd SeasonウルヴァリンWeiss Survive RWAVE!!～サーフィンやっぺ!!～Mito no Daiboken: Futari no Jou-sama, Mito\\'s Great Adventure: The Two Queens, Stellar Buster Mito 2, Uchuu Kaizoku Mito no Daibouken 2, Aoi & Mutsuki: A Pair of Queens, Aoi and MutsukiKaitou Tenshi Twin Angelとっとこハム太郎 「あ」から「ん」まで ひらがなあそびThe iDOLM@STER SideM: Wake Atte Mini! OVATHE FIVE KILLERSFar East of Eden, Tengai Makyo JiraiyaTALES OF パペットすすめ！ゴジランドスペースバグSore Ike! Anpanman: Kaiketsu Naganegiman to Yakisoba PanmanShuumatsu no Valkyrie, Valkyrie of the EndSalmon-chanシーキャットRokushin Gattai GodMars Gekijouban, Six God Combination God Mars MovieRing ni Kakero Pilot FilmPuchitto Gargantia Episode 14おとぎマンガカレンダーNinja Hattori-kun + Perman: Chounouryoku Wars, Ninja Hattori-kun Plus Perman: ESP Wars, Ninja Hattori-kun + Paman ESP Wars, Ninja Hattori-kun Plus Paaman: Chounouryoku Wars宮子Minimum-Hamatora, Mini Hama Gekijouban Specials, Mini Hama Episodes 9 and 10めもりいMahou no Tenshi Creamy Mami Picture DramaThe Demon Girl Next Door 2 Mini AnimeLovedol Episode 13, Lovely Idol Special, Love dol: Lovely Idol, Lovedol: Onsen desuka?Xuan-Yuan Sword: Lights of the BleakLiving with CareSaru! Get You: On Airサンタ・カンパニー ～クリスマスの秘密～revisions リヴィジョンズ秦时明月特别篇《帝子降兮》Superbook: Bible Storiesナースウィッチ小麦ちゃんR魍魎戦記 MADARA[摩陀羅]Mou Hitotsu no Mirai o.みにヴぁん ら～じMärchen Mädchen Episodes 11 and 12Machikado no Meruhen, Radio City Fantasy: Machikado no Märchen乙姫CONNECTION電脳戦隊ヴギィ\\'ズ★エンジェル FOREVER AND EVERCIRCLET PRINCESS（サークレット・プリンセス）Chu Feng: SOE, Chu Feng: Son of EdenChoujin Locke: Shin Sekai SentaiCatman Series 1, Catman Series I, Catman Season OneBonobono Movieブラックジャック Karte NG集Aru Hibi no CLAMP Gakuen Tantei, One Day With The CLAMP Detectivesある日の午後My Name is Red-Haired AnneAnime Shout of the WildernessAnata ga Koko ni Itehoshii星に願いを Fantastic CatHipira: The Little VampireHappy World!Monster Strike the Animation: Halleujah, Monsuto Anime: Hallelujah, Hareruyaガンスリンガー ストラトスGreat Mazinger tai Getter Robo G: Kuuchuu Dai-Gekitotsu, Great Mazinger vs. Getter Robo G: Kuuchuu Dai-Gekitotsu, Great Mazinger Vs. Getter Robo G: The Great Space EncounterGiant Robo: Gin-Rei Special, GinRei: The Animation플라워링 하트 2ファイアーエムブレム ヒーローズ - Book V Ending MovieDay of Wrath, Dies Irae ONADarosu, Battle for Moon Station Dallos劇場版 Collar×Malice -deep cover-Chou Kadou Girl 1/6キャットブルー：ダイナマイトBakuhatsu Goro, Goro the TerribleMikasa Dai-senpai to Manabu: Anime \"Azur Lane\"Angelique OVA 3亜人戦士Master of Star OriginRainbow Sea Season 1Shi Xiong Season 2, I am Bai Xiaofeiホワッツマイケル?バーチャファイター Costomize Clipとっとこハム太郎ひらがなたんけんタマラ 2010 ア パンク キャット イン スペースStreet Fighter II: Return to the Fujiwara Capitalそれいけ! アンパンマン はしれ! わくわく アンパンマングランプリLet\\'s Go! Anpanman: Anpanman and His Fun FriendsLate Night! Genius BakabonNew Legend of the Heroes of the Warring Nations - The Ten Sanada Brave Soldiers Sanada 10 TVManagement of Novice Alchemist Mini Anime戦国☆パラダイス-極-（きわみ）Rio: Rainbow Gate! OVANinja Hattori-kun Plus Paaman: Ninja Kaijuu Jippou Tai Miracle Tamago, Ninja Hattori-kun Plus Parman: Ninja Kaijuu Jippou Tai Miracle Tamago, Ninja Hattori-kun + Perman: Ninja Kaijuu Jippou Tai Miracle Tamago, Ninja Hattori-kun + Perman: Ninja Kaijuu VS MMr.ペンペンIIMonster Strike 2 Episode 0, Monsuto Anime: Katsubou no Hate no RisoukyouMemories Off #5, Memories Off #5 The Broken Off FilmNO MORE映画泥棒×名探偵コナン 業火の向日葵Lesson XXKyou Kara Maou:! Daizensyuu Sono 1 - Maou Tanjou-henRotten Teachers EquationKiki and Lala\\'s Blue BirdK×Drop!!風のように怪獣娘～ウルトラ怪獣擬人化計画～ 第2期ユンカース・カム・ヒア ～メモリーズ・オブ・ユー～Seikon no Quasar II Picture DramaSakura Capsule聖闘士星矢 黄金聖闘士 DATA FILEなるたる ～骸なる星・珠たる子～MØUSEみツわのAcrobunch, Demon Regions Legend Acrobunch, Askadis, AcrobanchMushiking 2Kiss Dum OVA, Kiss Dum Special, Kiss Dum InterludeDemonbane OVAKabba Totto, Tic Tac ToonsMahjong Soul Pon☆ Episode 0Hello Kitty and Friends: Mom Loves Me After AllHello Kitty and Friends: Santa\\'s Missing Hat春を彩るふしぎ駄菓子屋 銭天堂フリテンくんElmer no Boken: My Father\\'s DragonクラッシュギアNitro小さな庭園Captain Future Kareinaru Taiyoukei Race, Captain Future: The Great Race in the Solar SystemThe Caligula EffectThanks for the Courage, Bomberman, Thanks For The Courage, Bomberman: I Will Hear바다의 전설 장보고エンゼルコップアンジュ・ヴィエルジュWooser no Sono Higurashi Special, Wooser no Sono Higurashi Episode 13唯我独神Wangpai Yu shi Episode 0, Wangpai Yushi Episode 0Wakate Animator Ikusei Project, 2018 Young Animator Training Project, Anime TamagoTime Boken 2000: Kiramekiman, Kaitou Kiramekiman, Thief Glittering ManSonic Soldier Borgman: The Final Battle, Chouon Senshi Borgman: Last BattleSin: Nanatsu no Taizai - Records of Confessions, Sin: Nanatsu no Taizai Zangeroku新幹線変形ロボ シンカリオン夢かける高原 清里の父 ポール・ラッシュバーナード嬢曰く。世紀末リーダー外伝たけし！オレカバトル農民関連のスキルばっか上げてたら何故か強くなった。Ninku: Knife no BohyouPassionate Human Face Dog: Life Is MovieMr.ペンペンモンハン日記 ぎりぎりアイルー村GEveryone Assemble! Falcom Academyみにくいあひるの子Meng Taxue Mi Cheng, Dream Tower: The Puzzle of Snow City, Dream Tower: Snow Mystery CityRaimuiro Senkitan, Lime-Colored History of War, Lime-iro Senkitan: Meiji Nippon, Otome Sakimorisu.Lily CatThe Capricious RobotKashou no Tsuki, Hiyoi no Tsuki, Moon of The Fiery NightKamigaminoki解雇された暗黒兵士(30代)のスローなセカンドライフ ミニキャラアニメしばいたろかOne Hundred Thousand Bad Jokes Di Er Jiレガリア The Three Sacred StarsPop Team Epic Specials, Poputepipikku Eizou TokutenWing of Royal Space Troop Honneamise Pilot, Royal Space Force: The Wings of Honneamise - The Short Filmオンエアできない!NekoYon, Neko Nanka Yonde mo Konai8bitGATARiNanoha Picture Drama 02: Nurse Girl Medical Shamal - Prelude, Nanoha Picture Drama 03: Magical Family Wolken - PreludeMahosenMacross Δ Movie: Gekijou no Walküre Picture Drama, Macross Δ Movie: Gekijou no Walküre Shougekijou, Macross Δ Movie: Gekijou no Walküre - Pajama no Megami-tachiLupin vs. Holmes, Lupin Against HolmesAerial Battleship Atlantis, Atlantis the Aerial WarshipMobile Suit Gundam 00 Specials, Mobile Suit Gundam 00 Flash-like Short CB Characters怪獣娘[かいじゅうがーるず] ~ウルトラ怪獣擬人化計画~怪物くん 怪物ランドへの招待iiiあいすくりんハッスルパンチハローキティ りんごの森のファンタジーハローキティの幸せのチューリップガンスリンガー ストラトス -THE ANIMATION- 帰還／風の行方Green GreenGenso Jodan EliciaGal-gaku. IIDr. Slump: Arale-chan \\'92 New Year SpecialKasei Ryodan Danasaito 999.9, Fire Force DNA Sights 999.9, Danasite 999.9, Kasei Ryodan Dnasights Four-Nineダイナ荘びよりCorpse Party OVAAi Mai Mii 2nd Season, Ai Mai Mii Second Season, Ai Mai Mii: Mousou CatastropheSensou Douwa 3, The Story of a Whale That is Too Big to Fall in Love With a Small Submarine长安幻街Kentou Ankokuden Cestv, Cestus: The Legend of Boxing in the Dark Agesブラック★★ロックシューター DAWN FALLAzur Lane Valentine Special MissionTama and Friends movie, Tama and Friends: Please! Search for Momo-chan!!ゾイドワイルド ZEROゼロ デュエル・マスターズ映画 妖怪ウォッチ 妖怪学園Ｙ 猫はHEROになれるかCore SenseTorajima no Mime, Mii the Tabby, Miime the TabbyHello Kitty 愛漫遊Teekyuu 8 OVA, Teekyu 8 OVAStrange PlusThe Book of a Dead Person, A Book of a Dead PersonSOS! Tokyo Metro Explorers: The NextWeak InsectYakushiji Ryouko no Kaiki Jikenbo Recap熊出没之雪岭熊风Warau Salesman PrologueNanchatte Vampiyan PilotTrue Love Story Summer Days, and yet...ザ・サムライテイルズ オブ クレストリア『スロウスタート』Web予告ムービーBeyond the OceanNew Legend of the Heroes of the Warring Nations - The Ten Sanada Brave Soldiers Sanada 10, Sanada10, Shinshaku Sanada JuuyuushiSengoku Kidan Youtouden Gekijouban, Legend of the Enchanted Swords, Yotoden Movieセイント・ビースト～聖獣降臨編～Riki-Ou: Toukatsu Jigoku, Story of Ricky: The Wall of HellQueen\\'s Blade Specialsぷち！東京ミュウミュウ にゅ～♡Ribon Festa 2015, Ribbon Festa 2015纳米核心ナジカ電撃作戦Mori Shuguang, 2013, 二零一三緑子METROID short animation名探偵コナン 町探検！ 動物マークをゲットせよ！Dante the Satan魔法使いサリーまほうつかいじじぃLOVE♥LOVE?Spiritual Domain Sixth Season, Spiritual Field 6, Ling Yu: Zhuiyi PianKemono Soukikou Dancouga Nova, Juusoukikou Dancougar NovaIsukaヒロシマへの旅Eagle Talon MAXHatsukoi Monster OVAGon (2015)Flying Witch Puchi Special, Flying Witch Petit - BD & DVD Vol. 1 Launch Specialえとたま～猫客万来～  ショートアニメ「えとたま プリティ劇場」ドントクライKemocha, Chatting with CreaturesI\\'ve Had Enough of Being a Magical GirlLegend of Crystania: The Chaos Ring, Legend of Crystania OVA, Crystania no Densetsuキキとララのママってすてき!Jugo Shonen Hyoryuki, Fifteen Boys Adrift, Two Years\\' Vacation人力戦艦！？汐風澤風Wanted, Love is Protein, Watashi no Coffee Samurai: Jihanki Teki na Kareshi, My Coffee Samurai: A Vending Machine Boyfriend, A Coffee Vending Machine and Its SwordGlacier Warrior Gaislugger, Guyslagger, GuysluggerFist of The North Star: Legend of Heroes (CGI)ハローキティ りんごの森のミステリーHello Kitty\\'s Animation Theater 13aHello Kitty in ThumbelinaHello Kitty\\'s Animation Theater 3aHana wa Saku: Tohoku ni Saku, Hana ha Saku: Touhoku ni SakuGun-dou Musashi Special, Gun-do Musashi, Gundou Musashi, MUSASHI -GUN-, Musashi-GUNDOH, Musashi: The Way of the GunGetsumen to Heiki Mina DVD Episodes, Getsumen to Heiki Miina EX, Getsumen to Heiki Mina OVAガルフォース THE REVOLUTIONGakko no Yurei, School Ghostsふつうってなんだろう？Big Fish & BegoniaSaga-ken Kamimine-chou Short Movie Anime, Kamimine Town, Saga Prefecture Short Movie Animeチェインクロニクル ~ショートアニメ~The Adventurers Gamba and his Seven Friendsバーバパパ\\u3000世界をまわる魅力アサシンズプライドアヒルくんの小さな冒険Yagami\\'s Family Affairs, Yagami-kun\\'s Family AffairsWA2 Picture DramaGeinin Anime KantokuTsuritama Picture Dramaそれいけ! アンパンマン おむすびまんSamurai Kid書家Zuo Ri Qing Kong Pilot宇宙少年ソランStraight into the UniverseTV Yarou Nanaana Season 3, Televi Yarou Nanana, TV Yarou Nana-na트랙시티The Adventures of Space Oz, The Galaxy Adventures of OzSeikon no Quasar Picture DramaSeihou Tenshi Angel Rinks, Stellar Angel Angel LinksSaru! Get You: On Air, Ape EscapeサムライガンPatalliro Saiyuuki! Episode 27パチスロ貴族 銀Nihon-ichi no Otoko no Tamashii 2, Most Spirited Man in Japan 2メイクラブMobile Suit Gundam 0083: Stardust Memory Cima Specialけろけろけろっぴの大冒険 ふしぎな豆の木Kanojo, Okarishimasu Puchi, Rent-a-Girlfriend Chibi, Kanojo, Okarishimasu Mini AnimeHow Not to Summon a Demon Lord Ω: Mini AnimeThe Adventures of Huckleberry Finn Movie, Huckleberry no Bouken (1991)ハローキティのみんなの森をまもれ!Hello Kitty\\'s Animation Theater 10bハンドメイドマイG-RecoグリムノーツGoulart Kishidan: Evoked the Beginning WhiteFuture Card Buddyfight Episode 23.5, Future Card Buddyfight: Zenin Shuugou! 11-ri no Buddyfighter!!Elite Jack!! Ciao Ciao OVA, Elite Jack!! OVADoreiku: Boku to Nijuusannin no Dorei, Dorei-ku: Boku to 23-nin no Dorei, 23 Slaves and Mecrazy for itCMFU学院：绅士击击剑Cinderella Girls Gekijou: 5th Anniversary Short, The iDOLM@STER Cinderella Girls Cinderella Girls Gekijou: 5 Shuunen Kinen Short Anime, Cinderella Girls Gekijou: Go Shuunen Kinen Short Anime超音戦士ボーグマン\\u3000MADNIGHT☆GIGS!BiohunterWakate Animator Ikusei Project, 2010 Young Animator Training Project, Anime Mirai 2010, Super Veggie Torracman, Project ABalala the Fairies: Flying Over Fort Crescent Di Er Ji, Balala, Little Magic Fairy: Over the Rainbow 2nd Season, Balala the Fairies Season 5Combustible Campus Guardress, Bursting Campus Guardless百鬼幼儿园Dixia Cheng Yu Yongshi: Nizhuan Zhi Lun, Arad: Reversal of Fate, Arad: Nizhuan Zhi Lun, 地下城与勇士·逆转之轮アニメ版 東海道・四谷怪談Atang Qiyu, Atang Qi Yu, Tea Pets邪神ちゃんドロップキックX まめアニメIdol Master Xenoglossia Specials, Idolmaster Xenoglossia SpecialsI Wanna Be Your FriendMorinaga Caramel 100th Anniversary ShortHito Toki Kiryuu Ashikagaヒーローバンクgdgd妖精s 第2期 #0(ゼロ)Pervyi Otryad, Первый ОтрядD-1 デバステイターBobby\\'s Girl, Bobby\\'s In DeepＡＩＫａJuuippiki no Neko to AhoudoriThe Day I DepartDifferent World Medicine Shop, The Pharmacy of the Other WorldShunmao Monogatari Taotao, The Story of Panda Taotao, Story of Panda Tao TaoSupreme Galaxy, Supreme Lord of GalaxyChinese Chess Master, Xiangqi King, Xiangqi Masterうさるさんタウンワーカーズタカネの自転車シュガーバニーズ水脑袋Mr. Osomatsu Valentine\\'s Day ShortsVallove, Ikusa x Koiウルトラマン超闘士激伝 彗星戦神ツイフォン登場つる姫じゃ～っ！トマトコンフィ涼海ひよりの『LIP×LIP』取材リポート！The Super Milk Show, Vintage Milk-ChanSugar Bunnies 3, SugarbunniesLet\\'s Go! Anpanman: Sushi-roll Maki-chan and Gold KamameshidonSoriton no AkumaShin Shonan Bakusozoku Arakure Knight, Arakure KnightZEPHYR [ゼファー]夢王国と眠れる100人の王子様Kemono Friends: Youkoso Japari ParkMan LanVicky the VictimTouken Ranbu: Hanamaru - Makuai Kaisouroku - Kanshou no YodoTomica Bond Combination Earth Granner, Tomika Kizuna GattaiTime Bokan 24 2nd SeasonRumic World 2, Supergal, The Choujo天使な小生意気DVDスペシャルCapital Story太鼓の達人Suzy DongwuyuanI Love You, Suzuki-kun!!, I Like You, Suzuki-kun!!Shonen Ashibe, Young AshibeShining Hearts: Shiawase no Pan \"Kokoro ga Todoita\",Shen Mue, Shenmuuサンタ・テル・ミーPupaＮｉｎｊａ者Neko Rahmen 2, Neko Rahmen: Ore no Shouyuaji, Neko Rahmen: Ore no Shouyu Ajiみじかもん 第0話目玉焼きの黄身 いつつぶす？力拔山河兮子唐The Platelets Go to the Movie TheaterKami-sama Dolls Specials仮面ライダーフォーゼ×クレオンしんちゃんJack And The Beanstalk, Jack to Mame no Ki (1989)The Mischievous Witch and the City That Never SleepsFrom I\\'\\'s, I\\'\\'s OVA, Aizu, From I\"sKirby of the Stars Special Episode: Take it Down! The Crustacean Monster Lobzilla,Kirby of the Stars: Beat the Crustaceous Demon Beast Lobzilla!, Kirby Right Back at Ya HD Episode 101 Kirby 3D (3DS Special)Holy Knight (ホーリーナイト)Glass Mask desu ga to ZElsword: El LadyアーリーレインズDorami-chan: A Blue Straw Hatちょこっとアニメ けものフレンズ３최강 합체 믹스마스터カリーノ・コニA.D. Police, AD Police, Advanced PoliceZero-sen HayatoThe Nine Colored Deer, A Deer of Nine ColorsHello Kitty and Friends: The Sleeping Princess, Hello Kitty\\'s Animation Theater 5aKitty no Fushigi na MizuumiHe~sei Policemen!!, Heesei Policeman!!, Hesei Policemen!!GF Kari, Girlfriend Beta, Girlfriend Kakko Kari二人の王子さまデュエル・マスターズ ゼロDokyuu Hentai HxEros Recap, Dokyuu Hentai HxEros Episode 7.5, SUPER HXEROS RecapHokuto no Ken: Ichigo AjiDa Shijie, Dashijie, Hao Ji Le, Haojile, 好极了カラフルCode Geass: Lelouch of the Rebellion - Masked Confession CompetitionMr. Osomatsu White Day ShortsBroConSekai Meisaku Gekijou Kanketsu Ban: Araiguma Rascal, World Masterpiece Theater Complete Edition: Raccoon RascalあかねちゃんLullaby for Wednesday\\'s CinderellaSamurai Troopers OVA 3Wind: A Breath of Heart (2004), windtvUchu Kaizoku Mito no Daiboken Pilot, Stellar Buster Mito Pilot, Space Pirate Mito\\'s Great Adventure Pilot, Space Pirate Mito PilotManxmouseGo for it, Ippatsuman!, Time Machine Series Ippatsuman the Antiheroティアムーン帝国物語～断頭台から始まる、姫の転生逆転ストーリー～ ミニアニメSword Art Online Fatal Bullet -The Third Episode- ＜パイロット版＞Sasuke, the Young Sarutobi, Magic BoyYoung Ashibe: Go! Go! Goma-chan 2しゃばけSAMURAI GIRL\\u3000リアルバウトハイスクールSei Luminous JogakuinSoukou Kyuujo Butai RESTOL, Restol, The Special Rescue Squad, RESTOL SRSポロクロイス物語 パイロットフィルムパーマン バードマンがやって来た!!It\\'s the New Year! Pocket Monsters Special!ななみちゃん간 전문의 새로구미Kyofu ShinbunJokoshima Waza Jadou SugiruUnder Luosheng TangPocket Monsters Anime Super Ultimate Pokémon Gold and Silver Guidebook Super SelectHello Kitty and Friends: Exciting Birthday, Keroppi and Friends: Exciting BirthdayPhantasy Star Online 2: Episode Oracle Episode 12.5, Phantasy Star Online 2: Episode Oracle RecapOBSOLETEAndou of the Forest, Ando of the WoodsMonster Hunters, MonHun Nikki Pokapoka Airu-mura, MonHun Diary Felyne Village in Danger: Felynes in a PinchめぐみPetit☆ドリームスターズ! レッツ・ラ・クッキン? ショータイム!こぎみゅんChibikko Rémi to Meiken Kapi, Little Rémi and Capi, Little Remi and Famous Dog KapiAt the Bus StopAdventure of KorobokkuruBalala the Fairies Season 1, Balala, Little Magic Fairy: Rainbow Heart StoneBad Badtz-Maru no Otoko Dokyou no Omoi YariSeize Your Heart From That DayAIKa R-16:VIRGIN MISSION２１世紀まんがはじめて物語嫌な顔されながらおパンツ見せてもらいたい 2異能のアイシス ESP & HIGH SCHOOL DETECTIVEThe Symphony of LoveThe RedSecret Princess HimegotoハーバーテイルKitaro Tanjo HenGaro 2nd Seasonフレームアームズ・ガール ～きゃっきゃうふふなワンダーランド～MozaikaGekijouban Duel Masters: Honoo no Kizuna XX, Duel Masters: Honou no Kizuna Double X, Duel Masters: Blazing Bonds XXDREAMLANDDreamドラゴンクエスト列伝 ロトの紋章사이퍼즈Chokotan!, Choco-tan!, Ribon Festa 2013, Ribbon Festa 2013Cheer Boys Recap, Cheer Danshi!! Episode 5.5Otona ni Naru tte Nandarou?セロひきのゴーシュBLAME (ブラム!)Bernard Bear, My Friend BernardHello Kitty: Let\\'s Play, Hello Kitty & FriendsArata Kangatari Specials, Arata: The Legend Picture Drama, Arata: The Legend SpecialsBusinessman in AfricaAd Lib Anime Laboratory, Ad Lib Anime KenkyuushoAsteroid Mask, Planetary Mask望古神话之天选者Ultra Nyan 2: Happy Daisakusen, Ultra Meow 2Ddoli and Zeta Gundam, Ddoli wa Zeta Robotタイムボカンシリーズ\\u3000イタダキマン好きな子がめがねを忘れた ショートアニメ搜玄录之宸灵纪スカイヤーズ5The Battling Days of the \"Shitamachi\" Virgins新宝島Shiguang Dailiren Tebie Pian, Link Click SpecialsSenyoku no Sigrdrifa Recap, Senyoku no Sigrdrifa Episode 8.5, Warlords of Sigrdrifa RecapRegalia: The Three Sacred Stars DigestOverwatch 2: Kiriko Short Animation \"Protector\"ピカイア！Wakate Animator Ikusei Project, 2014 Young Animator Training Project, Anime Mirai 2014, Paro no Mirai Shimaぬいぬい日昇三兄弟The Straw Millionaire贄姫と獣の王 ミニアニメThe Door Into Summer, Opening to Summer, Natsu he no Tobira, Door to SummerHoney & Honey DropsMaster of Epic ~The Animation Age~魔王様、“プチ”リトライ！リトルポーラベア しろくまくん, ふねにのるLicca-chan: FMR, Licca-chan and Her Amazing Magic RingPandora in the Crimson Shell Specials, Koukaku no Pandora Specials機動戦士SDガンダムまつりKantoku Fuyukitodokiselector infected WIXOSS 『緑子さんとピルルクたん』サクラ革命 ～華咲く乙女たち～God Mars: The Legend of 17 Years, Six God Combination God Mars: Seventeen Year Old LegendRokumon Tengai Monkore Knight Movie: Densetsu no Firedragon, Densetsu no Fire Dragon, Monkore Naito Densentsu no Fire DragonProject Scard: Scar on the PraeterNinajala Episode 0モンキーマジックメタルスキンパニックMADOX-01名探偵コナン 縄文体験やってみよう!You are Beyond, KimiKanaKidou Senshi SD Gundam Mk-IVIchirinsha火狩りの王 第2シーズンはいすくーる仁義Hello Kitty and Friends: The Prince in His Dream Castleガンダム Gのレコンギスタ FROM THE PAST TO THE FUTUREがぁーでぃあんHeartsゴクジョッ。そうだ温泉に行こう！！腐男子召喚〜異世界で神獣にハメられました〜 4thFairy蘭丸~あなたの心お助けします~Mami the ESPer: Dancing Dolls in a Starry SkyWestward Juvenile Journey, Dahua: Shaonian Youガーデン・インディゴの車窓からシーバス１-２-３CHILDRENCandy.zipHappy Science Movie 5Bonobono the MovieBalala the Fairies Season 2White BirdBackkom Filler Animation, Tightly, Backkom Library, Bernard, Backkom Song!!, Backkom Separate Garbage Animation, Super Backkom, Backkom Feature Trailer, Backkom\\'s Friendsアタゴオルは猫の森Red Photon Zillion Recaps, Emi Penguin\\'s Diary, J.J. vs. Ricks: Predestined Confrontation, Champ & Apple: Fantastic MemoriesZoo Without an ElephantEncyclopedia of Pitiful CreaturesYamishibai: Japanese Ghost Stories Ninth Season, Yamishibai: Japanese Ghost Stories 9Ore dake Haireru Kakushi Dungeon Mini AnimeCho Denei-ban SD Gundam Sangokuden Brave Battle Warriors, SD Gundam Sangoku Den Brave Battle Warriors, BB SenshiHataraku Maou-sama!! Mini Anime, The Devil is a Part-Timer! Season 2 Mini Anime綾音ちゃんハイキック!アヴェンジャーあした・きらりんAne Log Flash OVA, Sister\\'s Log: Moyako\\'s Never-ending Monologue OVAAIKa: ZERO高宮なすのです！〜てーきゅうスピンオフ〜\\u3000ＴＶ未放送オリジナルエピソードアニメ蜀山奇仙录书灵记 第二季神州魑魅変Scripta volantピカイア!!Otome Nadeshiko Love DiaryGonna be the Twin-Tail!! Recapおカマ白書Tekken x Customs: Mamoru Hikitsugu Watashitachi no Kurashiまじかるすいーとプリズム・ナナことわざガンダムさんKobu-tori, His Snatched Off Lump, The Stolen Lump (1929)New Hurricane Polymar, Shin Hurricane PolymerOld Master Q and San-T, Old Master Cute Part 3, Shan T Lao FuziSekai Dowa Anime Zenshuポケットモンスター スカーレット・バイオレットパラダイスFemale Soldiers Efe and Jeila: Crest of Gude, Jun and Sarah, Onna Senshi Efe & Jira: Guude no Monshouネコと和解せななつなぐ!Mugen no Ryvius: Light - Fan Disc, Mugen no Ryvius Picture Dramas, Mugen no Ryvius Light Avant-TitleMorimori Shima no Mougu to Peroruマジカパーティきょーふ！ゾンビ猫Hello Kitty and Friends: The Frog\\'s Secret House, Keroppi and Friends: The Frog\\'s Secret HouseHello Kitty\\'s Animation Theater 10a, Aladdin & His Wonderful LampけんけつTentai Senshi Sunred: Kawasaki Frontale, Kawasaki Frontale x Astro Fighter Sunred快刀乱麻 THE ANIMATIONThe Incredible Gyoukai Video Junk Boy火力少年王3Hello Kitty and Friends: The Dream ThiefMekanda RoboFutari Kurashi, Futari Gurashiどーにゃつ宮沢賢治作品集 どんぐりと山猫ドールズフロントラインキャットマンバーバパパ (1977)爆TECH！爆丸あの地An Ling and Stitch\"Heroes\" DismissedZettai Bouei Leviathan Campfire ShortWorld Fool News (2014)Watanuki\\'s HouseVitamin X OVA失われた朝食Ultraman M78 Theater Love and Peace, M78 Love and PeaceTurning Mecard Wing Season 2, 터닝메카드 Wing 시즌2SEN!Sindbad: The Flying Princess and the Secret Island Pilot Video, Sinbad: Soratobu Hime to Himitsu no Shima Pilot Eizou新 鬼武者 DAWN OF DREAMS THE STORYYuyake Dandan妖怪伝 猫目小僧Youkai Ningen Bemu, Yokai Ningen Bem, Humanoid Monster Bem (TV 2)Utsunomiko: Earth Chapter, Utsu no MikoURVANUmimonogatari Anata ga Itekuretakoto, Sea Story, Kanon to Iku AmamikoshimaTime Bokan Series: ZendamanGenesis of Aquarion Special, Holy Genesis Aquarion Special, Sousei no Aquarion Specialシンカリオン ハローキティTVアニメ｢ちび☆ローリング☆ガールズ｣コロコロ劇場Hyperdoll: Mew & Mica the Easy Fighter, Rakusho! Hyper Doll, Hyper DollsPororo the Little PenguinPocket Monsters: Right Before Summer Vacation 1-Hour Special!ピアシェ～私のイタリアン～A Penguin\\'s TroublesOdd Taxi: Flauntingly, Odd Taxi: Koremiyogashi niNani Iro no Nani無邪気の楽園Moshidora Futatabi Soushuuhenミラクル☆トレイン〜中央線へようこそ〜Race-Tin: Flash & Dash 2Old Master Cute, Lao Fuzi Fan Dou Zhentan虚構推理 ミニアニメ Season2Hello Kitty to Mimmy no Happy BirthdayKen Ouchou (2017)Smiling Restaurant, Nikoyaka ShokudouWatashi no Santa, Always My SantaAdvance forward, and you will find your true colorsIdol Defense Force Hummingbird, Idol Boueitai HummingbirdHello Kitty\\'s Animation Theater 11aHaitai Nana FaゴンGanbare! Kakurease Project, Do Your Best! Hidden Sweat Project, Kao Biore私の推しは悪役令嬢。レイとクレアに一問一答 〜異世界で聞いてみた〜くじらの湯ここにいるKK7, Koikoi7, Koi Koi 7, Koikoi Seven, Koi Koi Seven, DVD Omake, DVD Extra 2KINGSGLAIVE FFXV ファン感謝特別ムービーLong Distance Call, Business Commando YamazakiMobile Suit Gundam Unicorn Full Story Digest: Banage\\'s Journeyけものフレンズ2シキザクラLala MajiPorong Porong Pororo, Pororo\\'s AdventurePia Carrot: The MovieアウトランダーズHot Springs Fairy Hakone-Chanおはようハクション大魔王Popsicle of Sorrow, Mourning Ice PopMomo\\'s Harem Plan Secret FileMarginal Prince: Gekkeijyu no Oujitachi Episode 14魔術士オーフェンはぐれ旅Long Riders! Episode 4.5Licca the Movie: Licca-chan to Yamaneko Hoshi no TabiPeacock KingKirin Tomorrow\\'s CalendarKiki & Lala in The Princess of the Cygnus ConstellationKeifukusanかたのあとFragments晶翠仙尊Horsagaハローキティの小公女ガンダムビルドメタバースDuel Masters 2.0超獣機神ダンクーガ 白熱の終章Bosco Adventure PilotBLUE REFLECTION RAY/澪爆走サーキット·ロマン TWINARK15歳, 今日から同棲はじめます.Yamishibai: Japanese Ghost Stories Eighth Season, Yamishibai: Japanese Ghost Stories 8Boonie Bears IIIWAVE!!〜サーフィンやっぺ!!〜The King of Ten Thousand Domains, The King of All Realms, Lord of All Realms, Wan Yu Zhi Wang, The King of Ten Thousand Domain, King Of All RealmsぶらどらぶVisions of Frank: Short Films by Japan\\'s Most Audacious AnimatorsUmi-Yami桃花源记Shukufuku no Campanella: Isshoni Bath TimeShin Seikimatsu Yatsuto no Sogu, End of the New Century: Encounters with that Kind, New End of Century Encounter with that Guy, Encounter with the Guyよい子のれきしアニメ おおきなカブ(株)Yamishibai: Japanese Ghost Stories Twelfth Season, Yamishibai: Japanese Ghost Stories 12Ragnarök Mobile, Ragnarök Online DreamUchu Ace, Uchuu Eesu, Uchu EsuUrban Legend Story HikikoAstro Boy: Volume of the Blue Knight天地無用! 魎皇鬼 謹製びでお絵本 平安無用!Taiman Blues: Ladies Chapter - MayumiShachibato The AnimationSEX～Prologue～ROBBER\\'S COMPANYRio - Rainbow GateRhythmens: Blue HourMr. Osomatsu Short Film Series 2nd SeasonNagoya Railway Special MovieMUTEKING THE Dancing HEROMiracle Girl Limit-chan, CybernellaMangirl! Special, Mangirl! Episode 14魔法のプリンセスミンキーモモvs魔法の天使クリィーミーマミRupan Sansei: Ikiteita Majutsushi, Lupin III: Return of the Magician, Lupin III: ~ The Living Magician ~ Return of PycalIron Vendetta, Koutetsu no Vandetta拡張少女系トライナリーSen-shoujo Iczelion, Iczer Gal Iczelionほかほか家族Together with Hello Kitty, Parenting Animation With Hello Kitty, Shitsuke Anime Hello Kitty to IsshoヘヴィGreek & Roman Mythology: Olympus GuardianガッデムGhost Messenger GeugjangpanG-on らいだーすFire Emblem Heroes - Book VI Ending MovieReborn to Master the Blade Mini Anime, Eiyuuou, Bu wo Kiwameru Tame Tenseisu: Soshite, Sekai Saikyou no Minarai Kishi♀ Mini Anime (2022)Hinabachi: BEE, Young Bee超合金ハローキティThe Bunbuku Teapot, Bunbuku Chagama (1928)バンブー・ベアーズActive Raid: Special Public Security Fifth Division Third Mobile Assault Eighth Unit石田とあさくら悲劇の元凶となる最強外道ラスボス女王は民の為に尽くします。ミニHello Kitty\\'s Animation Theater 2bHaitai Nana Fa 2ぐんまちゃんRimuru the Parhelion: Sunshine in the SlimeMagical Somera-chan【FEH】アスク王国 定点カメラ（エイルの1日）ファイアーエムブレム ヒーローズ - Book IV Ending MovieEternal FamilyDr. Slump: Penguin Village SOS, Dr. Slump: Game by Heart, Episode 24.5, Heart de Shoubu! - Nandemo OK Orcha-kun - Penguin Mura SOS!!キュアミラクルとモフルンの魔法レッスンCop Craft Episode 9.5, Cop Craft Recap, Tokubetsu-hen: Utsukushiki Onna Kishi! Toraware no Yousei wo Oe!Cleopatra DCABC Weather News x TECARATタイムボカン24Thermae Romae: Ancient Roman Goes to Spaceザ・フライング・ルナクリッパーTenPuru x KanokariSoul Link Tokubetsu Kaisou-hen: Cellaria / Nanami, Soul Link Episode 10.5SHOW BY ROCK!! Gonna be a music millionaire!, Plasmagica Afternoon新米錬金術師の店舗経営 ミニアニメ 温泉Spirit Warrior: Peacock KingNew Battle Vixens, Dragon Girls, Ikki TousenSengoku Wildlife CaricaturesロボットガールズＺ「復活の地下帝国！？ロボットガールズＺ ｖｓ なぞの三大主役ロボ！」りばあすクイーンズブレイドUNLIMITED파워배틀 와치카The Heisei Era of Pocket Monsters: From Tuesday to Thursday to Sunday, Pocket Monsters - The Heisei Era (New Year Special), Pokemon Sun & Moon: New Year SpecialArk of Awakening, Waking ArkメロディMarginal Prince: Gekkeijyu no Oujitachi, Marginal Prince: Gekkeiju no Ohji Tachiマイの魔法と家庭の日Mahou Shoujo Lyrical Nanoha A\\'s: Picture Drama - Iryou Shoujo Medical Shamal Second Cour, Nanoha Picture Drama 03, Medical Shamal Second Cour魔法の天使 クリィミーマミ パーフェクトメモリーまえせつ!Love Live! Sunshine!! The School Idol Movie: Over the Rainbow - Manner MoviesLarva 4th Season組長娘と世話係 ピクチャードラマKoi Suru Tenshi Angelique, Angelique Chibi OmakeキキとララのパパとママにあいたいConfidence, ConvictionKakkou no Iinazuke Mini AnimeKagami no Gen\\'on, Mirror\\'s Fundamental ToneJyoshi Kauseiホシガリ姫の冒険Harukana Receive next episode previewsH.P. Lovecraft no Dunwich Horror Sonota no MonogatariGO!GO!アトムエンドレスヴィーデDr.スランプアラレちゃん あやや!?ペンギン村でテレビジャックDongguo Xiaojie: KarmaDekobou\\'s New Picture Book: Failure of a Great PlanCUE! ショートアニメChou Jikuu Robo Meguru, Hyperdimension Robo MeguruAi Mai Mi, I My MeBerserk 2nd Season Episode 9.5, Berserk 2nd Season Recap爆TECH!爆丸ガチBabel II OVA, Babel II OAVAloha! Youkai Watch: Rakuen Hawaii de Geragerapo~!!, Hawaii Tourism Boardアリス・ギア・アイギス ExpansionI\\'m the Villainess, So I\\'m Taming the Final Boss MiniKami no Tou Recap女子高生信長ちゃん!!アイドルプロジェクトFlying BabiesHokkyoku no Mushka Mishka, Mushka and Mishka, The Polar Cubs an Adventure of the North Pole, Mooshka and Meeshka of the North Pole, Die PolarbärenHello Kitty and Friends: The Day the Big Clock StoppedHello Kitty\\'s Animation Theater 7aGPOぐーぐりぃ ぐーぐりぃゴキブリたちの黄昏Galaxy Express 999: The Boy\\'s Departure and PartingGuda MenGekijouban Duel Masters Lunatic God Saga, Black Moon God Emperor, Emperor of the Black Moon, The Evil Moon EmperorsCynical Hysterie Hour: Through the Nightコメット・ルシファーLemon Cocktail LOVE 30S, Lemon Cocktail: Love 30 S, Chu-high Lemon LOVE 30S출동! 슈퍼윙스Ultra-Transforming Magic Robot GinguiserBusou Renkin Specials, Busou Renkin: BusoRen Days, Busou Renkin Mini Gekijou, Buso Renkin: Mahiro\\'s Busou Renkin Courseべあべあべあくまーぱーんち！Battle Spirits Season 9あさりちゃん 愛のメルヘン少女La Grenadière吉宗The Truth of Grimm Brothers\\' Fairy Tale, Otona no Douwa, Otona no Dowa, Otono no Douwa, Otono no Dowa, Adult Fairytales, Adult Fairy TalesうさぎのモフィTransformers Super Link Special, Transformers Energon Special, A must see! The Greatest Dream Match, DistributionThe Lamp Man天神T.P. Sakura ~Time Paladin Sakura~ Jikuuju BoueisenNew Sakura Wars the AnimationSecret of Moldiver! Confidential Encyclopedia!Three Monks竜世紀Good-For-Nothing Blues 1992, Rokudenashi Blues \\'92PazuDora파워배틀 와치카 시즌 2Pokemon Recap, Pocket Monsters, Fall Special!Persona 4\\'s Mr. Experiment ShortsPeeping Life: Tezuka Pro Tatsunoko Pro Wonderland ONA, Peeping Life: Tezuka Pro, Tatsunoko Pro Wonderland ONAMAKE MY DAYDemon Warrior Luna VargaMahou Shoujo Lyrical Nanoha: Picture Drama - Mahou Shoujo Lyrical IF, Nanoha Picture Drama 01立体悲剧リカちゃんの日曜日虚構推理 ミニアニメPeeping Life -World History-KisKis! My Boyfriends are Mint Candies, KisKis! Wo De Nan You Shi Bo He TangCreator\\'s World Project 4Kanojo, Okarishimasu Puchi 3, Rent-a-Girlfriend Chibi 3, Okarishimasu Mini Anime 3Kaichu!Non-Human Creature\\'s WifeNo Longer HumanHighschool Aurabuster: Birth of the LightHello Kitty no Mahou no Mori no Ohime-sama, Hello Kitty and Friends: The Sleeping PrincessOver The EdgeGrablu!グレゴリーホラーショー - The Bloody KarteGlass no Chikyuu o Sukue Unico Tokubetsu Henジェノサイバーゲゲゲの鬼太郎 鬼太郎の幽霊電車ふたりはミルキィホームズFairy gone フェアリーゴーンデュエル・マスターズ!Dou Hun Wei Zhi Xuan Yue Qi Yuan, The Dream of the Soulだいたい3分でわかる.hackヒストリーBig YamatoWe\\'re Manga Artist: Tokiwa Villa Story, We Are Manga Artists: The Tokiwa Apartments Storyアニメ落語館Crown Knights異世界システムひみつのアッコちゃん 海だ! おばけだ!! 夏祭りHello Kitty\\'s Animation Theater 8aガンパレード・オーケストラEunsil-iDr. Slump: Arale-chan Traffic Education Film, Dr. Slump & Arale-chan: Let\\'s Learn Traffic Safety, Dr.スランプ アラレちゃん 交通ルールをまもろうよドン 極道水滸伝출동! 슈퍼윙스2Car & Tue, Carole & Tuesday Mini SeriesAnime-gatariZ/X Code ReunionKindergarten Warriors: Hanamaru Girls横浜名物：男片山組！Yamishibai: Japanese Ghost Stories Eleventh Season, Yamishibai: Japanese Ghost Stories 11ウィザードリィCursed Dress, Uchida Shungiku no Noroi no Onepiece刀剣乱舞 廻 -虚伝 燃ゆる本能寺-Za Gakuen Choujotai, School Super Girl TeamThe closet球詠支配者の黄昏「シャドウバースＦ」特別編ろぼっとアトムAllied Air Force Magical Idols Luminous Witches Episode 6.5Magical TravelersOld Master Cute, Qicai Lao FuziMy Melody\\'s Little Red Riding HoodMunou na Nana Mini Anime: Yaminabe PartyThe Cowboy\\'s Flute, The Cowherd\\'s Flute, The Buffalo Boy and his Fluteミスター・ボンドMegumi no Daigo Kyuukoku no Orange Episode 12.5 and Episode 17.5まんがーる!奇鋼仙女ロウランHello Kitty and Friends: The Christmas Eve Gift, Keroppi and Friends: The Christmas Eve GiftHappy Carbonara StoryShadow Skill: Kuruda-ryu Kousatsu-hou no Himitsu, Shadow Skill: Secret of the Kurudan Style, Shadow Skill 3Holy Warrior Dunbine Recaps, Dunbine Recaps, Aura Battler Dunbine Recaps, Aura Battler Dunbine MemorialSchool DaysCalico Cat Holmes and the Lord of the Haunted CastleまゆみFlash and DashShigoto Shoukai, Arubaito, Job Introduction, Part-time Jobこわれかけのオルゴール マナームービー古事記 日向篇機動戦士ガンダムUC A Phantom WorldIdiot Boyfriend: My Boyfriend is an IdiotHontou ni Atta Gakkou KaidanHeroesHello Kitty\\'s Animation Theater 6a花の翳Gunbare! The Game Paradise 2, The Game Paradise 2 MovieGuardian Hearts OVA seres 2Giant Robo Prologue-hen, GR: Giant Robot Pilot고스트 메신저エクスパー ゼノンDCTM, ToromeraToushinki G\\'s Frame, 闘神機ジーズフレームコズミックブレイクBlack Jack: Futari no Kuroi Isha - A Reminder, Black Jack: A ReminderBattle Girl ProjectALL THAT GUNDAMYokai Ningen Bem Part II, Demon-man Bem Part II異常生物見聞録Yamishibai: Japanese Ghost Stories Fourth Season, Theater of Darkness 4th Season, Japanese Ghost Stories 4約束ホワッツマイケル? 2刻の大地 ～花の王国の魔女～SoulTaker OmakeたれぱんだTactical Rawr,The Mercurius\\' Holiday, Tactical Roar Special食べちゃったっていいのにな!咲う アルスノトリア すんっ！True Tears Episodes 1-10 DigestKyouei Tankou-sho, Kyoei Forging Works, Kyouei Forging Worksイソップ・ワールド47 Todoufuken 2012 Natsu, 47 Todoufuken 2012 Summer, 47 Todoufuken Spring Special, 47 Todoufuken Summer Special23時の佐賀飯アニメいきものさんHuan You Lie Ren, Fantasy Hunter, Fantasy x Hunter, Phantom Hunter走れ！がんばれ!! タブチくん!! あゝツッパリ人生Elf SeventeenドラゴンボールZ 超戦士撃破!!勝のはオレだドクタースランプ ほよよ！アラレの秘密大公開だよ！！Dororo (Pilot Film)Dies Irae Tokubetsu Soushuuhen: Marie\\'s Memory \"Michi ni Tsuuzu Kiseki\", Day of Wrath, Dies Irae RecapCinnamoroll\\'s Parade, Cinnamoroll 10th Anniversary, Cinnamon\\'s ParadeMini Oyaji, Little Old Manちちぶでぶちちバックステージ・アイドル・ストーリーATOMIC WORLDARP Backstage Pass Episode 11Alexander Senki GekijoubanHello Kitty and Friends: The Adventures of Sinbad0-sen Hayato: Kishuu, Zero-sen Hayato Pilot, Zero-sen Hayato: Kishuu, 0-sen Hayato Episode 0, Zero-sen Hayato Episode 0Zannen Jokanbu Black General-san指を盗んだ女よなよなペンギンTake the X TrainURAHARAOoleebyeol ilhowa eollugsoTokyo 24-ku Episode 9.5, Tokyo 24-ku Recap, Tokyo 24th Ward RecapGregory Horror Show SpecialsByururu to Mahou no Straw Theater, Byururu to Fushigi no MoriSeikima 2 Humane Society: Jinrui Ai ni Michita ShakaiOniku Daisuki! Zeushi-kun Second Season, Oniku Daisuki! Zeushi-kun (2-ki)I Give My All, I\\'ll Do it With Anyone, I\\'m All YoursMarie and Gali Episode Zero, Marie and Gali Episode 0, Marie to Gali Episode Zero, Marie to Gali Episode 0MAPS (1994)境界戦機 極鋼ノ装鬼金太郎カミエラビ GOD.app解雇された暗黒兵士(30代)のスローなセカンドライフ ミニキャラアニメ第0話【时光代理人x兰芝】 程小时破防危机七ヶ浜でみつけたSDガンダムワールド ヒーローズされど罪人は竜と踊るOne Room 2nd Season Episode 0, One Room 2nd Season: Hanasaka Yui no Prologueオフサイド纳米核心 - NG镜头 - 纳米的日Nana\\'s Revolution, Rainbow Revolution, Ribbon x Oha Suta Specials, Nana-iro Kakumei, Ribon x Oha Suta SpecialsMemories Off (メモリーズオフ)Mahou Shoujo Sonico Magika, \\tMahou Shoujo Madoka★Magica April Fools\\'Midnight Anime: Lemon Angel (II)Tsundere Akuyaku Reijou Liselotte to Jikkyou no Endou-kun to Kaisetsu no Kobayashi-san Mini Anime, Tsunlize MiniKimi no Matsu Mirai e, Kimi no Matsu Basho eKidou Senshi SD Gundam SD Sengokuden下級生２ ～瞳の中の少女たち～K Seven Stories ザ・アイドルK剣王朝Hello Kitty\\'s Animation Theater 9aGulliver\\'s Space Travels: Beyond the Moon, Gulliver BoyガイストクラッシャーLixiang JinquエコエコアザラクDownload: Song in Loving Homage to Amida Buddhaデビルマン メモリアルこすぷれCOMPLEXBoku no Imouto wa \"Oosaka Okan\": Our Big Brother\\'s Tokyo Rules, Boku no Imouto wa \"Osaka Okan\" SpecialBlade and Soul Specials安達としまむら ミニアニメ11月うまれの男の子のために。Zegapain AdaptationNice DemonYAMATO2520 [ヤマトニーゴーニーゼロ]Pleasant Goat and Big Big Wolf Movie 7: Amazing Pleasant GoatPleasant Goat and Big Big Wolf Movie 1: The Super Snail Adventureわたしの名はオオタフクコ～小さな幸せを、地球の幸せに。～WasimoUltraviolet:Code044The Epic Of ZektBach: Daiisshou: Shamshir no Mai, The Epic Of ZektBach: Chapter 1: Shamshir Dance探偵はもう、死んでいる。Sugar Soldier, Sugar * Soldier, Ribbon x Oha Suta Specials, Ribon x Oha Suta Specialsスタンドマイヒーローズ PIECE OF TRUTH装甲娘戦機Mainichi 2-bun: Issho ni #GodAsk! - \"Tsuno-Tsuno Taisou\" (FEH)豆富小僧東京ふたごアスレチックスティッチ! パーフェクト・メモリーYuma the Sacred Slayer (Plus Her Merry Friends), Soushin Shoujo Matoi SpecialYoung Ashibe: Go! Go! Goma-chan 4School Days LxH, School Days: Valentine DaysプリズムシーズンLegend of the Last Labyrinth, Princess Rouge: Legend of the Last Labyrinth뽀롱뽀롱 뽀로로 6オシリスの天秤にゃ～めん 天界第一女子高校文化祭 特別映像Mon-Soni! D\\'Artagnan no Idol Sengen未来へのかけ橋～Bridge for future～Miritari!ディスク・ウォーズ：アベンジャーズMahjong God, MashenWorld Fool News (TV) 2nd Season, World Fool News (TV) Season 2Angelique: White Wing Memoirs, Angelique OVA 1아기공룡 둘리Akubi-chanYamakoshi-mura no Mari to Sanbiki no Koinu, Yamakoshi Mura no Mari to San-biki no KoinuStar Blazers Pilot Film, Space Cruiser Yamato Pilot Film, Space Battleship Yamato Pilot FilmTransformers: Choujin Master Force Recaps, Fight! Super Ginrai!!, Begin the Bomber Project! The Creation of God Ginrai, The Secret of Godbomber!, Great Turn-Around! Autobot Warriors!Tetsuwan Atom: Chikyuu Saigo no Nichi, Tetsuwan Atom: Doomsday, Astro Boy: DoomsdayTetsujin 28-gou: The Birthただいま！ちびゴジラ シーズン２タブー・タトゥーソードガイ The AnimationRed Coloured Elegy, Red Colored Elegyぷぎゅる뽀롱뽀롱 뽀로로 2Solo Leveling Recap, Ore dake Level Up na Ken Recap, Solo Leveling Episode 7.5, Ore dake Level Up na Ken Episode 7.5, 나 혼자만 레벨업Monoshiri University: Tomorrow\\'s Calendarマイティ・オーボッツKotatsuneko, Kotatsu CatThe Great Adventures of Kikansha Yaemon D51Heavy Metal L-Gaim II: Farewell My Lovely + Pentagona Dolls, Heavy Metal L-Gaim OVAシャドウバースSaihate no Paladin Recap, Saihate no Paladin Episode 7.5ロボットガールズNEOSekai Meisaku Gekijou Kanketsu Ban: Peter Pan no Bouken, World Masterpiece Theater Complete Edition: Peter Pan & Wendyオシャレ魔女 ラブ and ベリー しあわせのまほうOniku Daisuki! Zeushi-kun (3-ki): Suteki na HamburgerモフモフィクションJigglypuff\\'s Mini Concert with DittoまほうのルミティアMidnight Anime: Lemon Angel小鉄の大冒険Kaitei 3-man Mile, 30,000 Miles Under the Sea, Thirty Thousand Miles Under the SeaJeremii no Ki, Jeremy\\'s Treesヒロインたるもの！〜嫌われヒロインと内緒のお仕事〜 ミニアニメFudanshi Summoning: I Got Laid by a Divine Beast on an Alternate World, Fudanshi Shoukan Mini Animeドラゴンズドグマド級編隊エグゼロスでででんChikara to Onna no Yononaka, Within the World of Power and Women, The World of Power and Womenバッドばつ丸のオレのポチは世界一Aquarian Age: Saga 2Rain, the Little Girl, and My LetterアマナツAlexander\\'s Campaign, Alexander Record of WarLittle Women in Love, Anime Ai no Awa Awa Hour, Anime Lovers\\' Awa Awa Hour, Anime Lovers\\' Bubble Bubble Hour, Modern Love\\'s SillinessGrandpa DangerZettai Yareru Gresia Shinwa, Zettai Yareru Girisha Shinwa, Greek MythologyYukan Club, Yuukan Kurabu, The Leisure ClubYuu Gi Ou: Go Rush!!Pleasant Goat and Big Big Wolf Movie 6: Meet The PegasusWACHA WACHA THE MOVIEうさかめアイドルマスター シンデレラガールズ スターライトステージ 新春！ハッピーニューイヤーキャンペーンTekyuu 6 Specials, Teekyu 6 Specials, Teekyuu 6 OVAソードガイ The Animation Part IIA Country Between the WorldShi Ling Yanwuスライムたちの井戸端会議ぜんぶわかってる雪解けをきいてYASUKE －ヤスケ－The Star of Cottonland Pilot Film, Fantasy of a Kitten Pilot Film, Wata no Kuni Hoshi Pilot FilmDoggie MarchOpen the DoorSweet Valeriansストラトス・4.1 ~DUTCH ROLL~SekaTsuyoRadio Wave诡水疑云プラトニックチェーン 暗殺実行中Peeping Life: Tezuka Pro Tatsunoko Pro Wonderland, Peeping Life: Tezuka Pro, Tatsunoko Pro WonderlandペコラOz no MahoutsukaiOVALxOVEROpus.COLORs (オーパスカラーズ)Okoshiyasu, Chitose-chan Recap, Okoshiyasu, Chitose-chan Episode 18.5, Okoshiyasu, Chitose-chan Episode 12.5, Okoshiyasu, Chitose-chan: Hajimemashite, Chitose-chanMikonote Episode 0Sorry I Love You: Between of One YearA Christmas Carol, The Number One Miser of the Cityラティナの日記Koumechan ga Iku!!, Anime Ai no Awa Awa Hour, Anime Lovers\\' Awa Awa Hour, Anime Lovers\\' Bubble Bubble Hour, Modern Love\\'s SillinessKitten\\'s Scribbling, Kitty\\'s GraffitiKoikoi7, Koikoi 7絆Armored Troopers J-Phoenix PF Lips TeamHello Kitty and Friends: Let\\'s Be Friends, Keroppi and Friends: Let\\'s Be FriendsHello Kitty and Friends: Keroppi in Robin Hood, Keroppi and Friends: Robin Hoodケンタウロスの伝説Kanojo, Okarishimasu Puchi 2, Rent-a-Girlfriend Chibi 2, Kanojo, Okarishimasu Mini Anime 2神田川JET GIRLSOPT Recruiting AnimationCondition Green, Inferious Interplanetary War Chronicle Condition GreenHello Kitty and Friends: The Wonderful Sistersハローキティのロンドンにおりた宇宙人Rinshi!! Ekoda Chang, Rinshi!! Ekoda-chan, Yuruaniファンタジスタ ステラデュエル・マスターズ ビクトリーVBuild Divide: Code White Episode 17.5Blue Reflection Ray Episode 12.5その気にさせてよ myマイ舞Everything.mp3, Space Shower TV Station IDRifle Is Beautiful Episode 7.5, Rifle Is Beautiful Recap, Nationals Are Right Before UsRefrain Blue (リフレインブルー)Maitetsu 2nd SeasonHAL Tokyo, HAL Osaka, HAL Nagoya,PONY METAL U-GAIM PROMOTION FILM鬼がくれ山のソバの花NINJA & SOLDIERMonster High: Scary Cool GirlsNari Hero www (TV), Narihero www (TV)Fitness Boxing, Fit BoxingHello Kitty and Friends: The Adventures of the Coward Prince, Keroppi and Friends: The Adventures of the Coward PrinceKatarina\\'s Brain ConferenceKidou Senshi SD Gundam Gaiden, SD Gundam Sidestoryスクールガールストライカーズ Animation Channelペネトレイト・ブルー -Vapor Trail Another Age 2824-大井の帝王おばけずかんNoobow: Mini TheaterNinjala Animated SeriesKung Fu MulanWooper, Let\\'s Tidy Up! with DittoMarin and Yamato: Mysterious SundayLime-iro Ryuukitan X Cross: Koi, Oshiete Kudasai., Lime Iro Ryuukitan X CROSS - Koi, Limeiro Ryuukitan X, Raimuiro Ryuukitan XOld Master Cute, Lao Fuzi Zhi Xiao Shui Hu ChuanqiExpunged Chronicle of MirokuKoi Suru Tenshi Angelique, Angelique Chibi Omake 2瘤取りTentai Senshi Sunred: Kawasaki Frontale 2, Kawasaki Frontale x Astro Fighter Sunred 2Kamigami no Ki: Christmas SpecialDugaeui samIyaPanAmuri in Star OceanKono Sekai no Tanoshimikata: Secret Story Film Mini Animeヒトの来た遠く長い道Hello Kitty\\'s Animation Theater 4b, Hangyodon: Hadaka no Ousama花子Phantom & Lee\\'s Detective AgencyジブリがいっぱいSPECIAL ショート ショートG-九Cyclops Shoujo Saipu, Cyclops Girl CypuChii-Sui MaruビッグオーダーThe Kodama\\'s Lazy LifeGemini PropheciesA Crocodile Who Lived For 100 DaysZombie-ttal澱みの騒ぎ熊出没之环球大冒险スウィート・ヴァレリアンW\\'z SpecialULYSSES 31Transformers - Scramble City: Hatsudou-hen, Scramble City: MobilizationTono to Issho Anime DVD 1.5THE PEAKYoung Ashibe: Go! Go! Goma-chan 3サンタ・カンパニーSamurai Gun Episode 8.5MiniminiRang Women Shao Ba, Let Us BurnPeeping Life（ピーピング・ライフ）‐The Perfect Extension‐ピーチボーイリバーサイド ミニアニメWho is Nanjyamo\\'s Partner!? (Donna Monja TV)Musha Kishi Commando SD Gundam Kinkyuu Shutsugeki, Dawn of PapalHans Christian Andersen\\'s Little Match GirlDemon Beast Phalanx, Magical Beast Front, Beast Wars魔法少女大戦Hello Kitty\\'s Animation Theater 7b꼬마버스 타요 1Katarina\\'s Brain Conference X夏恋戦機イマノワタシニデキルコト…ハローキティの 郵便屋さんありがとうハローキティの幸せの青いホタルHello Kitty and Friends: The Circus Comes to TownKachua Kara no Tayori, A Letter From Katue, Atsumatta 13-nin, 13 Meet AgainGekko no Piasu, The Cursed Earring, The Earring of Moonlight腐男子召喚〜異世界で神獣にハメられました〜 5thファイアボール ユーモラスDuel Masters VersusGekijouban Duel Masters: Yami no Shiro no Maryuuou [Curse of the Deathphoenix], Duel Masters Movie 1 - Rule the DuelPop Team Epic, Bob Team Epic, Poputepipikku, Bobunemimimmi CollectionBenard Bear, Bernard Bear, Backkom 3アニマエール！応援動画Kimi ga Nozomu Eien Gaiden, The Eternity You Desire GaidenイロドリミドリDragon Pilot: Hisone and Masotan Digestハローキティのはじめてのクリスマスケーキハローキティのアルプスの少女ハイジII クララとの出会いデュエル・マスターズ ビクトリーDr. Slump Arale-chan Penguin Village Fire BrigadeDigimon Ghost Game Episode 24.5, Digimon Ghost Game: Takenaka Naoto ga Kataru Kaiki no SekaiAge of the Great DinosaursチルリThe WindowThe Hard: Bounty HunterBoku no Imouto wa \"Oosaka Okan\"Junai Cosmetic Comic: Bihada Ichizoku, Pure Love Cosmetic Comic: Bihada FamilyAnime-Gataris: The Passing Year, The Coming Year, Animegataris OmakeKiss me on the Apple of my Eye, Kiss wa me ni shiteDigimon - Grand Prix - CG Toei Animation Festival直球表題 ロボットアニメ-STRAIGHT TITLE-暴食のベルセルク ミニBaraou no Souretsu Special, Baraou no Souretsu Episode 12.5バッドばつ丸のオレは優等生Hello Kitty\\'s Animation Theater 5bBernard Mission ImpossibleRed Photon Zillion: Burning Nightアイ・シティ絶望の怪物ズドラーストヴィチェ!雪国の王子さまYuki Terai: Secrets, Yuki Terai: Secret Films, Yuki Terai: Secret Liveアド街ック天国 ベスト10420 Renpai Girl, Yon-hyaku-nijuu Renpai Girl熊出沒Labyrinth of the Cloud World: Zeguy, Zeguy: Cloudworld Labyrinthとなりの801ちゃんRTHE GIFTすばらしい仕事Shuten Doji, Star DemonShinsengumiぜんまいざむらいTwilight Gekijou, Baku Yumemakura\\'s Twilight TheatreYs IV: The Dawn of Ys Promotional VideoHobberdy Dick, Yosei Dikku吉野の姫制Dark Night\\'\\'s Period-Drama, Dark Night\\'s Dramaウエルベールの物語 Sisters of Wellber\\u3000哀しみの戦士ガラハドの挽歌うぇいくあっぷがーるZOO！ 宮城PRでGO！Toukiden:The Age of Demons, Toukidenトップをねらえ！ GunBusterSoukou Kyoshin Z-Knight舌先から恋新星輝デュエル・マスターズ フラッシュShin Strange Plus Special, Sin Strange Plus Special, Sin Strange+ Special, Strange Plus Second Season SpecialShibainuko-san石影妖漫画譚SDガンダムワールド 三国創傑伝SCARLET NEXUSLa / Radio Noise * Planetプリンセスラバー! マジカル騎士マリアちゃん特別予告Pokemon x ASMRましろウィッチ政宗ダテニクルMan with a Mission The Animation Episode 0Mahou Shoujo Lyrical Nanoha A\\'s: Picture Drama - Midchilda Gakuen e Youkoso!, Nanoha Picture Drama 05, Welcome to Midchilda AcademyLemon Angel (YJ Ban), Lemon Angel [YJ Ban], YJ Ban Lemon Angel, Lemon Angel Young Jump EditionKou kouHeart Library: Communication ClipsMatasaburo the Wind BoyInzai Aruaruアイドル事変Pokémon stop motion animationヒーローベータGRIMあんさんぶるガールズ！！デュエル・マスターズ ビクトリーV3DIABOLIK LOVERS OADコンドームバトラー ゴロー Reviveボ～イ フレンドぶるりふ・れいっ！Bloody Bunny: Don\\'t Be My Enemy美術教育Bernard-jou Iwaku. Episode 13, Bernard-jou Iwaku. SpecialBabel 2-seiChitose Get You!! OVA (2013)Dark Side Cat, Darkness Catあひるの子Eagle Talon 2, The Frogman ShowTransforming Girls, Henkei GirlsHello Kitty\\'s Animation Theater 13b黑貓警長God Eater Reso Nantoka Gekijou: Episode 00源氏The Ant and the Grasshopper腐男子召喚〜異世界で神獣にハメられました〜 3rdエリートバナナ バナ夫A Duck\\'s LifeCode Geass: Hangyaku no Lelouch R2 Omake Flash - Kaette Kita Baba Gekijou超音戦士ボーグマン LOVERS RAINCalmバッテリーRenai Bakumatsu Kareshi Gaiden, Bakumatsu Second Season, Bakumatsu 2nd SeasonRenai Bakumatsu Kareshi爆丸エボリューションズアクエリオンロゴスAni Summer, Animelo Summer Live, Kemono Friends x Anisama 2017, Kemono Friends Animelo Summer Live IntroductionAnimation! Tomoyoshi Joko & Hiroco Ichinose Film Works 2009, Mr. Cloud and Mr. Rain, Buildings, Lizard Planet, Kanagawa Dog, annihilation, The last breakfast, Ushi Nichi, ha-P, COSMIC! (pilot film), YOKOHA-MAMAN, morning (pilot film), Buil-BunAhjangdatkeomMobile Suit Gundam: Zeonic Front Special Movie, Kidou Senshi Gundam: Zeonic Front - Indignation of Zeon.Yuusha, Yamemasu Mini Anime, I\\'m Quitting Heroing Mini AnimeSpaceship Sagittarius Pilot, The Space Sagittarius PilotTransformers Z東京コスモスティッチと砂の惑星ソウタイセカイWhite Elephant白い砂のアクアトープ みにMagical Girl Lalabel: the Sea Calls for a Summer Vacation, Mahou Shoujo Lalabel (1980)まじかるハットBeaten by Black Rain, Struck by Black RainKandagawa Jet Girls OVAジャスティーンIzumo (1991)Isenido星と翼のパラドクスKingdom of Light in the HimalayasHello Kitty\\'s The Bamboo Princess花のずんだ丸はなはだしねこガル学. ~聖ガールズスクエア学院~Go For It, Tabuchi: Violent Pennant ContestGall Force: Shin Seiki HenFushigina ElevatorThe King of Heroes reincarnates to polish his skill to the limit and becomes the strongest knight in training in the world♀The Telegraph Pole Motherシニカル・ヒステリー・アワー うたかたのうたCanvas: Motif Of SepiaCandy Cariesアンデルセン物語Little Dino Dooly Movie (Movie)91 DazeIT\\'S MY LIFE生きているってすばらしい!I Think You\\'re a Little ConfusedGudetama SpecialDoronjo ZIP!風雲維新ダイ☆ショーグンディメンション ダブリュー Wの扉 ONLINE ~ロゼのお悩み相談室Voogie\\'s Angel OVA, Susume! Super Angels!, Dash! Super Angels!地図のない冒険Rose Flower and Joe, Bara no Hana & Joe爆丸アーマードアライアンスAoi Sekai no Chushin deFisherboyForest Frenzy of Boonie BearsSpring into Action of Boonie BearsweavingI Am a CatツナガルAbandoned Cat Little ToraStitch! Best Friends Forever Special, Stitch!: Zutto Saikou no Tomodachi Episode 30, Ace\\'s BackStitch! Special, Challenge from Piko, Stitch! Episode 26Shijin no Shogai, The Life of a PoetSaikyou Onmyouji no Isekai Tenseiki Mini, 最強陰陽師の異世界転生記みにMugen Shinshi BKH, Mugen Shinshi DDGGood Night Rowlet with DittoWander! UnderworldDon\\'t Lose, Makendo!, Makeru na! MakendoKizuna no Allele 2nd Seasonキズナキキとララの星のダンスシューズSora no Kagerou 2MAFFRaven Tengu Kabuto: The Golden-Eyed BeastKamiusagi Rope: Surround Headphone-henSeoulyeokSenjuushi OVASekaTsuyo Specials琉球タイムライン -未来少女と古の王-Princess Knight Pilot FilmRErideD－刻越えのデリダ－Pokemon Fun VideoPelikan Road Club Culture, Pelican Road: Club CarouchaOgaki-shi, Ogaki Shi, Ougaki-shi, Ougaki ShiNew Year\\'s Card BondsTheNightGame ネコのさくせんNakedyouthMy Melody\\'s Little Red Riding Hood, Hello Kitty\\'s Animation Theater 3bMomon\\'s Sandwitch Episode 0Momon\\'s Sandwitchまつばらくんましろのおと ミニマーベル フューチャー・アベンジャーズThe Desolate Era, Age of Desolation, Records of Barbarian Ji of the Primeval EraMagic User\\'s Club! vs. Shamanic PrincessKoiken!: Watashitachi Anime ni Nacchatta!Kiki & Lala in: \"I Want To Be A Princess!\"Kidou Senshi Gundam-san: Because I\\'m a Boy, Mobile Suit Gundam-san: Bouya Dakara saKasajizouSenior Classジュエルペット あたっくちゃんす!?Jeh-bool-chal-shee e-ya-gee, je bul chal ssi i ya giHyakuren no Haou to Seiyaku no Ikusa Otome星空キセキハローキティのパパなんて大きらいハローキティのハッピー!仮装大会Hacker Doll, HackadollStrategies of Sea Observationグランマルシェの迷宮FEEDDUEL MASTERS キングHipira-kun Episode 13Hikari: A Story Connected with Kariya東アジア文化都市2019豊島Guystars: Fractions of the EarthMiyuki-chan In MirrorlandStation Memories!, Station Memo!, Eki MemoDogeza de Tanondemita Episode 13, I Tried Asking In Dogeza Episode 13Butlers~千年百年物語~Basket Army밥묵자Umi no Triton Pilot3-nen D-gumi Glass no Kamen Gekijouban, 3-nen D-gumi Glass no Kamen MovieUmi Hiko Yama Hiko, The Sea Boy and the Mountain BoyUmi no Mizu Hanaze KaraiUltraman: The Adventure Beginsうちの会社の小さい先輩の話ミニアニメShenqi Huanqitan, Shen Qi, Shenqiさわって！ぐでたま 〜3どめのしょうじき〜リンカイ!Pororo-wa Nolaehaeyo뽀롱뽀롱 뽀로로 5Peace Through Bread!Ninja Gaiden, Ninja Ryukenden, Tale of Ninja Ryuuken, Ninja Ryu: The Dragon Sword StoryThe King of Burning Desert Gandalla, Supreme Ruler of the Hot Sands Gandahara, Netsusa no Hano Gandahara [Gandalla]「MY HOME」マイホームNari Hero www, Narihero wwwSTOP! Kaizokuban: Keroro Gunsou x No More Eiga DorobouHello Kitty and Friends: The Adventures of Gulliver, Keroppi and Friends: The Adventures of Gulliver川越ボーイズ・シング怪物学抄World System, World GreatnessThe Instructive Trip Around the WorldSeason\\'s Greetings from dwarfSuperior Defender Gundam Forceセントエルモ・光の来訪者Peeping Life 5.0chParis no Isabel, Isabelle of Paris, Isabell de Paris「俺、つしま」×「名もなきねずみ」コラボ動画おかしな転生 ミニアニメお嬢と番犬くんMr.Deniroo IN HENTEKO MUSHIモンスターストライク The Animation 第0話「モンストの危機」Kumo to Chuurippuキクマナ機動新撰組\\u3000萌えよ剣Hello Kitty and Friends: Let\\'s Play Baseball, Keroppi and Friends: Let\\'s Play Baseball鴨が好き怪獣酒場カンパーイ!HunterひもてはうすHello Kitty\\'s Animation Theater 4aHana no Ko Lunlun Movie, Hana no Ko Runrun, Hello Cherry Garden: Lun Lun the Flower ChildH’or CafeGoulart Kishidan: Evoked the Beginning Black강아지똥腐男子召喚〜異世界で神獣にハメられました〜 2ndETERNITYAkuma no Hanayome: Ran no Kumikyoku, Bride of Deimos: The Orchid Suiteくりぃむレモン ニュージェネレーションBorgman II, Borgman 2058ノーナビデオ日記チャンネル5.5Boku no Imouto wa \"Osaka Okan\" Episode 1.5축생일あやかしトライアングル 総集編Where He Can Relaxアクビガール100%パスカル先生 (TV)妖世紀水滸伝UG Ultimate Girls, Ultra Girl, UG*Ultimate Girls逃走中 グレートミッション東京ガンボEiyuu Densetsu: Sen no KisekiSuzy\\'s Zoo: Daisuki! Witzy SpecialスーパーショートコミックスSouten no Ken 2, Fist of the Blue Sky: RegenesisSoul Worker: Your Destiny AwaitsAt That Time, She.雪の女王Yami Shibai SpecialWonder Gravity Opening MovieSiam Neko: First MissionそれだけがネックソラとウミのアイダSlime-tachi no Itobata Kaigi: YokokuShoko Nakagawa Prism Tour 2010 (中川翔子 Prism Tour 2010)新ど根性ガエル ど根性・夢枕Sagashi monoSaa Ikoo! Tamagotchi, Let\\'s Go! TamagotchiRight Places その時, ぼくの居るべき場所Pororo Hangug-e Wass-eoyo, Ppololoui Hangugdaemoheomプラトニック・チェーンPeeping Life（ピーピングライフ）TV シーズン1 ??One Room 2nd Season ExtraHadaka no OokamiMr.shape水のたねMarvel Future Avengers Second SeasonBeatless Recap, Beatless Episode 5.5, Beatless Episode 9.5, Beatless Episode 14.5, Beatless Episode 16.5Starlight Scramble Ren\\'ai KouhoseiスケッチShin Karate Jigokuhen, Shin Karate Jigoku Hen精霊使いPatisserie no Monster, Patisserie MonsterPunkzkissIs it a Crime if You\\'re Threatened by Your Student?俺が好きなのは妹だけど妹じゃない俺が好きなのは妹だけど妹じゃない新規短編アニメーションオニズシNidoto Mezamenu Komori Uta, Lullaby to the Big Sleep, Lullaby Not Awake Two Times無能なナナ やみなべぱーてぃーMankatsu SpecialMETROPOLISLast Exile: Saturday MorningKoroshiya Ichi The Animation: Episode 0キンバリー魔法学校のゆかいな日常Hello Kitty and Friends: The Big Adventure, Keroppi and Friends: The Big Adventure, Kerokeroppi: The Big Adventure Mystery of the BellybuttonLet\\'s Learn With Katarinaかいぶつが、うまれた日。Aim for the Top! Gunbuster Science Lesson Returns, Gunbuster New Science Lessons, Science Course Return聖闘士星矢 セインティア翔뽀롱뽀롱 뽀로로 3Hello Kitty\\'s Animation Theater 12bPlanetes Audio DramaPink: Water Bandit Rain Bandit, Akira Toriyama the WorldOTMGirlsのよきよきチャンネルおかしなさばくのスナとマヌにゅるにゅる!!KAKUSENくんNull & Peta Special, Null Peta Special虹に向ってなぜなに!?アスタリスクマネーウォーズ 狙われたウォーターフロント計画Marie & Gali Episode 9.5Weeping Dragon流星幻剑Land꼬마버스 타요 2機動戦士SDガンダム Mk-VHeavy Metal L-Gaim I: Pentagona Window + Lady GavletMy Dread is School!, School is Dreadful! Kanako Inuki Shout CollectionHipira-kun Episode 11, Hipira-kun Episode 12Go!Go!家電男子ゴ～！ゴ～！ご～しちご～Platinumhugen Ordian, Silver Armor Knight Audian, Attack Armor Audian, Ginsokiko OrdianガデュリンFire Emblem: Monshou no Nazo, Fire Emblem: Mystery of the EmblemCongming de Ikkyuu Zhi Fan Dou Gongzhu, Soumei-teki Ikkyuu, Princess Yulan, Naughty Princess and Ikkyuu-san, Naughty Princess and Ikkyu-sanちるらん にぶんの壱3 Iron MusketeersCake Sushi: Halloween-hen, Cake Sushi: Christmas-henaroundTatakae! Space Attendant Aoi, Anime Tamago 2019Low Fuel Cost Girl Heidiたまぽんずsuch a good place to dieThe Seven, Zhan Guo FanSnipe Clam Grapple, The Fight Between the Snipe and the ClamThe Snow ChildPleasant Goat and Big Big Wolf Movie 5: The Mythical Ark - Adventures in Love & HappinessTwo Car: Racing SidecarStudio Khara vs. CyberConnect2 Compete! Animation Showdown!Brother of the UniverseNew Story of AURA BATTLER Dunbine, Aura Battler Dunbine OVARyuki Denshou로보카 폴리Risu no PanashiPS3 no Tsukai Kata feat. Peeping LifeOut of My Mindお向かいさんなぜなにデンドログラムThe Giant Gods and the Ice Flower Castleことわざハウス꼬마버스 타요 4KentoshiKakko-Kawaii Sengen! 2, KakoKawa2, Kakko Kawaii Sengen! 2nd SeasonThe Sparrow in the Empty Pumpkin惑星のさみだれガン×ソードさんNanatsu no Taizai Mini Animeゲバゲバ笑タイム!藤子不二雄Aの夢魔子ディズニー ツムツムクレヨンしんちゃん×パンパカパンツ\\u3000イオンシネママナームービーコラボコスモス\\u3000ピンクショックThe Super Dimension Century Orguss Memorial, Choujikuu Seiki Orguss Memorial File, Momu no Yume, Choujikuu AthenaSaving Soldier Cashman, Savings Warrior Cashman小さなジャンボCalifornia Crisis: Tsuigeki no Juka, California Crisis: Tsuigeki no Juuka [Hibana]Hello Kitty\\'s Animation Theater 1bAnime Tenchou GekijoubanHello Kitty and Friends: Find the Secret Treasure47都道府犬R古の女神と宝石の射手Imokawa Mukuzo: Somersault, The Somersault of Mukuzo ImokawaHimote House Episode 10.5, Himote House OVAEagle Talon, The Frogman ShowWhite Bread Mimi愛をこめてDon Chisciotte, Don Quijote y los Cuentos De La ManchaWIXOSS DIVA(A)LIVE（ウィクロス ディーヴァアライブ）Wagahai wa Inu de Aru: Don Matsugoro no Seikatsu, Wagahai wa Inu de Aru: Don Matsugoro no Monogatari, Wagahai wa Inu de Aru: Don Matsugorou no Monogatari, I Am A Dog: The Story of Don Matsugoro, I Am A Dog: The Story of Don MatsugorouつままれるコマDropShin Kabukichou Story Hana no Asuka-gumi!Shaman King (2021) Mini Anime仙人部落琉球タイムライン2 -てだこのまち探訪-Ｒ２０ 銀河空港Private eye dol [プライベート・アイ・ドル]おとなの防具屋さんOhayou Ninjatai Gatchaman, Ohayou Nijna Force Gatchaman, Ninja-tai Gatchaman ZIP!내일은 평범해질거야TDK 名探偵コナンと解決 ビデオヘッドクリーナーVHS/S-VHS用Maps: Legendary Space Wanderers, MAPS (1987)Magical Witchland, 3D Magical Play京都アニメーション公式Twitter いつも ありがとうさばくの宝の城Psycho Diver Masei RakuryuPororo Geukjangpan Super Sseolmae DaemoheomHello Kitty\\'s Animation Theater 2a, Pochakko\\'s Jack and the BeanstalkPonyutaun, Ponyu TownFlying Daddy俺たちゃ妖怪人間GNarudomaNanmu Ichibyou Sokusai, Namu IchibyousokusaiPrincess Jellyfish: Nun ExpeditionDemonbane: Ouroboros RondoSpace Shower TV Station IDKaito Reina, Phantom Thief ReinyaHatena☆Illusion Recap, Hatena☆Illusion Tokubetsu-henEternal Filena, Eien no Filerna, FilenaChoboraunyopomi Gekijou Dai Ni Maku Ai Mai Mii: Mousou Catastrophe Special「エイジ」K-Swiss All White Projectトラちゃんと花嫁SPACYSlime Adventures - Yay, the Sea!, Slime Adventures - Yeah! The Sea!Channel 5.5Dream Car, The Dream Car, Yume no JidoshaWORMYWIND動絵狐狸達引The Great Battle of the Flying Saucers, The Great War of the Flying SaucersTuzki: LOVE ASSASSINManami & Nami SpriteRebirth Episode 19.5, Rebirth Specialリーンの翼Pipopapo Patrol-kun, Pipo Papo Patrol-kunおがみ松吾郎Peter of Placid Forestムーム はじまりの物語LoV3 Special Anime Movie新橋劇場 新橋の一番長い一日Frankensteins Monster, Horror Legend - Bizarre! Frankenstein, Kyofu Densetsu Kaiki! FrankensteinThe Running Heroes, Parkour Heroキリンものしり館Delicious Mask, Splendid Mask, Kekko KamenJuuza Engi: Engetsu Sangokuden OVA上京物語GOD EATER レゾなんとか劇場Round Vernian Vifam: Chicago Super Police 13デュエル・マスターズ (2017)Dragon Quest X: The Miracles of the Adventurersシニカル・ヒステリー・アワー トリップ・コースターCurly（カーリー）地下城の魔物Gauche the CellistBucchigiri?! Recap, Bucchigiri?! Episode 6.5Tristia of the Deep Blue Sea一寸法師Now, The Pair\\'s PathsHoshi no Kirby, Kirby of the Stars, Hoshi no KaabiiHong GildongヒストリカルHandsome na KanojoHakyuu Houshin Engi SpecialG-On Riders OVA, Andro White Paper, G-On Riders Episode 14地球物語 テレパス2500Red Dragon WarBreakageあの山に登ろうよアレクサンドロスの決断Agent Aika Special, Agent Aika Episode 4.5, Agent Aika Moving OutHello Kitty and Friends: Aladdin and His Magic LampDangard Ace Movie: The Great Space WarApple Colored Water, Dragonfly\\'s Dream, Ash Time, The Hunter\\'s Forest, Deep Breath, Yuubinyasan, Utakata No Hibi, Street of MillimeterTama-Sichi, Tama Schichi!Tachibanakan To Lie AngleSword Gai 3DCG Promotional Movieすーぱーふらっと・ファーストラブSuper Mario Brothers: Peach-hime Kyuushutsu Dai Sakusen忘れられた人形Ramenman (Movie), Fight!! Ramenman: Light the Darkness!!Eagle Talon, Himitsukessha Taka no Tsume, The Frogman Show, Taka no Tsumedan ga \"Sengoku Taiga\" de Tenka Touitsu Mezashite Mita!Seishun Fufu Monogatari Koiko no Mainichi, Koiko\\'s Daily Lifeレリック・アーマー レガシアムWakate Animator Ikusei Project, 2017 Young Animator Training Project, Anime Tamago, Red Ash: MagicicadaPlatonic Chain SpecialOtome wa Boku ni Koishiteru: 3-tsu no Kiraboshi, Otoboku 3One Room (ワンルーム)おはなしの花ニュ～東京音頭魔法使い黎明期 ミニアニメKaidoumaru, Kaidomaruravex in Tezuka WorldChina National Day Special Edition, Qin Shi Ming Yue Zhi: Episode 15.5プロメディカスポールプリンセス‼［プラネットワルキューレ］ピコ太郎のララバイラーラバイぱんくんちおわんこモモキュンソードMotoro the Moleルパン8世Mobile Suit SD Gundam Mk-IV SpecialZiriziri Moyou no Ryuuryuu Tenten, Zarizari mo you no Ruru Tenten, People in a Strange Patternホタルかがやくハローキティのきえたサンタさんのおくりもの花のあすか組! 2 ロンリーキャッツ・バトルロイヤルゲーム天国 The Game Paradise!『学戦都市アスタリスク』シリーズ完結記念ミニドラマ電脳戦隊ヴギィ\\'ズ★エンジェルIf You Were Me: Anima Vision (2005)ビックリメンClamployeeKirin悪魔のメムメムちゃんA-Girl [エー・ガール]40周年だよ!! コロコロオールスター小学校From Aesop\\'s Tales: The Bull and the Frog / The Greedy Dogザブングルグラフィティ宇宙キャンパー/チッチHani Hani: Operation Sanctuary OVA, The Moon is East, The Sun is West: Operation Sanctuary OVAソード オブ ファンタジアぜんまいじかけのトリュフ犹太女孩在上海요리공주 루피Pleasant Goat and Big Big Wolf Movie 4: Mission Incredible - Adventures on the Dragon\\'s TrailPleasant Goat and Big Big Wolf Movie 2: The Tiger Prowessホワッツ\\u3000マイケル？Dangard Ace tai Konchuu Robot Gundan, Planetary Robot Danguard Ace vs. the Army of Insect RobotsウルトラマングラフィティI\\'m Home, Chibi GodzillaMizu wa Karma 2, Water Ring Karma 2少年とさくらＳＦ西遊記 スタージンガーSeisen Cerberus: Ryuukoku no FatalitePokémon Fun VideoTHE PLANET ZERO俺たちゃ妖怪人間Marriage of a Mouse, Mouse\\'s Weddingななし怪談Monster ni Natta Domerika, Creator\\'s World Project 1桃太郎秘宝之国Code Zero Daily ReportMAN WITH A MISSION THE ANIMATIONDemon Hunter Makaryuudo, Makaryudo, Demon HunterSpecial Crime Investigation Unit - Special 7 Episode Extra, Nanatsuki Seiji no Kakenukeru Katsudou Houkokusho軽井沢シンドローム彼女、お借りします デートムービー弱酸性ミリオンアーサー: フォーエバー拡散性MAイド：インディードGaro: Guren no Tsuki Omake, Garo: Crimson Moon SpecialsHang On! Marine KidGakuen Handsome 12.5I Tried Asking In DogezaDies Irae Picture Drama, Dies Irae Radio DramaLelouch\\'s Britannia History Course, Sayoko\\'s Diary, Sayoko no Nikkichou, Code Geass Secret Note, Code Geass Best Phrase Award超光速グランドールSpectre, Hosai Sengoku Shi Spectre/Requiem, Hosai Sengoku Shi Spectre, Hosai Sengoku Shi Requiem, Racing Civil War Chronicle Spectre/Requiem, Racing Civil War Chronicle Spectre, Racing Civil War Chronicle Requiem, Bousou Sengokushi: Spectre TanjouビーストサーガShin MajindenAni Tore! XXHello Kitty\\'s Animation Theater 11bKuro no Shishi, Jigen Sengoku Shi Kuro no Shishi Jinnai Hen彼岸島XGO! SAMURAIゲゲゲの鬼太郎 妖怪JAPANラリー3DJoe vs. JoeエンドライドDimensional Loop, Mix Juice: Jigen Loop - SOS Rescue VersionDeep Insanity THE LOST CHILDべあべあべあくまー! クマダム編爆丸ジオガンライジングBakugan: Small Brawl StoriesAzure Striker GunvoltDo You Like Your Mom? Her Normal Attack is Two Attacks at Full Power, Okaa-san OnlineBikini Warriors Episodes 14, 15, 16, 17, 18 and 19バジリスク ～桜花忍法帖～Introduction for Japan Media Arts Festival 20192020 Nyeon Ujuui Wondeo Kidi, 2020-nen Wonder Kiddy, 2020-nen Uchuu no Wonder Kiddy, 2020 Space Wonder KiddyTales of Yajikita CollegeHello Kitty\\'s Animation Theater 6bマクロスfufonfiaLegend of Lemnear 極黒の翼 バルキサスこどもの形而上学機動戦士ガンダムZZ: GUNDAM FRAG.Hello Kitty and Friends: Find the Pink Mushroom, Keroppi and Friends: Find the Pink MushroomHello Kitty and Friends: Our Treasure, Keroppi and Friends: Our Treasure彼女, お借りします ぷちMeifon\\'s Special Information Corner, Kaisetsu Corner, Seihou Tenshi Angel SpecialSchool Days ～マジカルハート☆こころちゃん～サムライダー 謎の転校生さばくの国の王女さまQ Transformers 2nd SeasonPokemon stop motion animationPES: Peace Eco Smileにゃ〜めん年賀状２０２１（無限正月）Kino Tsukuru Kitto: Tsukurikata, Kino Tokyo no Ki to Yama no wo Hanashi機動戦士ガンダムさん ヒヨコ day\\'s ―彗星ヒヨコとふしぎなおふだA Girl in a Lower Grade, Kakyuusei (1999) Episode 14in the sea and near a girl.Eagle Talon The Movie 3ShironaPink Noise映像研ミニアニメDC Super Heroes vs 鷹の爪団バベルの本バトンARP Backstage Pass战龙四驱予言者育成学園 Fortune Tellers Academy私たち、らくろじ部! 2Through the Windowsザ★ファイヤーGメンAngel: The Place Where We Wereシルバニアファミリー真・進化の実劇場Underbar Summer熊出没之夺宝熊兵Pleasant Goat and Big Big Wolf Movie 3: Moon Castle - The Space AdventureUsagichan, It\\'s my rabbit and it\\'s Cue!宇宙ネコ マードックの冒険Du ZiqunSURPRISE 4 U.砂の灯劇場版「SHIROBAKO」C96限定 劇場前売り券告知映像Deep - Sea Legend Meremanoidシャーミィとかげぼうや魚のいうことを聞くFeel the moment, now or never!Project Piplup, Project Pochama, Piplup Sweetsオイさんと40の物語Madame Butterfly, Fantasy of Madame Butterfly, Madama ButterflyRinging in the ears緑の猫龍刀奇緣キキとララのはばたけ!ペガサスいつも心にホッHuman OrchestraHappy Kappy Episode 19.5, Happy Kappy Special, Happy Kappi RecapHand Shakers Episode 13GETUP! GETLIVE! #げらげらFunny Pets Plusドラゴンスレイヤー英雄伝説 王子の旅立ちDoudouコルボッコロGigant Shooter TsukasaBamboo Blade Specials青空アンダーガールズ！Takegami: Guardian of Darkness, Ankoku Shinden Takegami, Ankokushin Denshou Bushinアリス・ギア・アイギス ～ドキッ！アクトレスだらけのマーメイドグランプリ♥～犬と少年平成のシンデレラ 紀子さま物語GAIKAN CHIBAフジログフィールドにそよぐ風あしながおじさんDark Side Cat Versus, Darkness Cat VersusHello Kitty\\'s Animation Theater 9b, The Duck\\'s DrakestailBaby Dinosaur Dooly (1988)WWF 100% Renewable EnergyOsaka Tough Guys 2, Osaka Tough Guys TwoYuurei-senapril12, Minna de OtsukaiDark Night\\'\\'s Period-Drama OVA, Dark Night\\'s Drama OVA聖刻 －BEYOND－Violence Jack: Evil Town, Violence Jack Jigoku Gai, Violence Jack 2, Violence Jack: Jigoku Gai Hen, Violence Jack: Jigoku Gai Arcヴァリアブル・ジオUraroji DiamondToscaサイボーグ009 The ReopeningThe Red FalconARIEL (エリアル) VISUALJantama Pong☆ Web Gentei Tokubetsu Hanashi, Mahjong Soul Pon☆ Web SpecialはがねオーケストラGAZA changing the worldCircuit Angel: Resolving Starting Gridキャップ革命ボトルマンバケツの中の かかZIGGY それゆけ!R&R BANDSoft AtomバーチャルさんはみているTHE MARGINAL SERVICEミッキーとオリバーのエージェント養成講座天体譜スポGOMI ワールドカップエキシビジョンマッチ編Shinjuku Shin-chan: Traffic Safety for Good KidsOtona no Bouguya-san 2nd Season, Armor Shop for Ladies & Gentlemen 2nd SeasonNinja Bugeicho, Ninja bugei-cho, Ninja Bugeichou, Band of Ninja那由他菜々子解体診書MOTHER 最後の少女イヴApocalypsis, Mutabloop, oktometempsychosisKatana Maidens: Mini Toji, Mini Toji Episode 0MAZEEagle Talon, The Frogman Show, Taka no TsumeMakyo Gaiden Le Deus, Demon Frontier Legend Le Deus, Demon Legend Le Deus, Radius, Makyou Gaiden LeDeusLIFE NO COLOR黒い猫こぐまのコロちゃんKansatsu! Pokemon Book: Oddish, Kansatsu! Pokemon Book: One PachiKami-Usagi Rope紙芝居 いたづら狸の卷Shadowverse Tokubetsu-henおにくだいすき! ゼウシくんニンジャラなんじゃもんじゃおばけ七つの美徳Mikan Seijin, Alien from the Planet Tangerine, OrangemanルパンしゃんしぇいLet You, Get You, Saru Get You, Ape Escape: Let Me Get YouAkira Toriyama the WorldKanagatari. Kanabakari.時空転抄ナスカEagle Talon The Movie 1: The Chancellor Only Lives TwiceHIGH SCORE [ハイスコア]Gamba: Gamba and CompanionsFune wo Amu next episode previewsフルーティー侍大草原と白馬爆丸バトルプラネットAn Tu! An Tu!Ali Baba to Yonju-hiki no Touzoku, Alibaba and the Forty Thieves, Alibaba\\'s Revenge, Ali Baba to Yonjuppiki no TouzokuAIKa ZEROJuuichiji Hachibuうごいてハミだせ！まちカドまぞくTWD EXPRESS ローリングテイクオフ討鬼伝 極ウィズ海の唄Comet Freyline: Prologue, Comet Fraulein: Prologue, Suisei no Fraulein: PrologueShinjuku Shin-chan Patrol: Be Careful of Bad AdultsスクールデイズNear Death!! Ekoda-chanプリンセス ミネルバポケモンで学び、遊ぶプランゼットFart Gorouムーンレイカーズ꼬마버스 타요의 에이스 구출작전The Frogman Show, Eagle TalonHayo no Ken, Hayou no Tsurugi: Shikkoku no Mashou花ともぐらゲキドルGAVORAデュエル・マスターズVSRFPrehistoric Warriors, Dinozaurs: The SeriesDiabolik Lovers 2nd Season, Diabolik Lovers Second Season, Diabolik Lovers: More BloodChain Chronican Black ShortsColorful Pastrale: From Bermuda Triangle, Bermuda△: Colorful PastraleBe-Bop Highschool Kaizokuban, Be-Bop High School Kaizokuban, Be-Bop Pirated, Be-Bop Pirate EditionBackkom Travel Mug, Backkom Mug TravelANISAVAHashiru Shiki-hen, Digest-hen, Ohai Alii: Kagayaku Hi no Tame ni, Iwaki Meisei UniversityHulaing Babies Aratame: Staying Babies Episode 4.5, Hulaing Babies Aratame: Staying Babies SpecialThinking and Drawing: Nihon no Shinseiki Art Animation, Thinking and Drawing: Japanese Art Animation of the New Millennium害怕被碰觸的女孩GUNDAM Mission to the Riseごきチャ!!Go! Go! 575 Episode 5, Go! Go! 575 Specialデュエル・マスターズ! !ディバゲデスティニーチャイルドコードギアス 反逆のルルーシュ キセキの誕生日[バースデー] おまけFLASH地下鉄に乗るっChibi Gojiraバウンティドッグ~月面のイブ~碧の舞台に思いを寄せてA brightening lifeIsekai Cheat Majutsushi劇場版IDOL舞SHOWChikotan: Boku no Oyome-sanBreak Todoroki Kiba, Break Go! Ga!Shikong Shitu, Space Time PrisonerBe-Boy Kidnapping IdolBaku Tech! Bakugan Gachi ep 40ベイビーフィリックスアンティーク ハートあいたたぼっちあいまい! 萌えCanちぇんじ!Loosening and TighteningVIRUS -VIRUS BUSTER SERGE-討鬼伝2誕生!!KKT21Wonder \"Samma\" Landサクラノチカイ～まろに☆え～る 東の飛鳥下野市をえーる！～「RUNNINGMAN」ランニングマン>プライドThe Marvelous Adventures of NoelEnjoy Record of Lodoss War: Is it Delicious?, MeshiloChain Chronicle CMsKASHIKOKIMONO (かしこきもの)Why She Loves KanjiシカとカンタSmile Down the Runway Mini AnimePeeping Life -The Perfect Explosion-親子クラブAbout Girls, Ribbon x Oha Suta Specials, Ribon x Oha Suta SpecialsOne Room Episode 13ミニ四ソルジャーRin!拡散性ミリオンアーサーKakko-Kawaii Sengen!, KakoKawa印ストールGrandeek Gaiden, Grandeek Sidestory, Grandeek: The Alternativeガラスの仮面ですが THE MOVIE 女スパイの恋! 紫のバラは危険な香り!?合体ロボット アトランジャーFrying Pan Jii-san, Fry Pan Jiisan, Fry Pan Jii-sanFIRESTORM\\u3000ファイアーストームドクター秩父山Bernard Bear冒険してもいい頃Baka MiserablesAshita no Eleventachi, Tomorrow\\'s Eleven青い海と少年Mami, Emi, Pelsia: Adesugata Mahou no Sannin Musume, Charming Figures of the Magical Girl Trio, Adesugata Mahou no Mami Persia EmiエクスメイデンWaiterViolence Jack 3, Violence Jack: Hell\\'s Wind, Violence Jack: Hell\\'s Wind Hen, Violence Jack: Hell\\'s Wind ArcSpace Ghost!A Story in Summertime, Tanglang Bu ChanStrange Plus Episode 13, Strange+ Episode 13SHOW BY ROCK!!×JOYSOUNDShin Seiki Den Mars, Mars, New Century Legend Mars, Mars the TerminatorYuugen Kaisha Special, Phantom Quest Corp.: Incident File 00 - Mysterious Yet Gorgeous PrologueThe Kindly Lion, The Gentle Lionトゥインクルハート 銀河系までとどかないDiebuster Science Course, Top wo Nerae 2! Diebuster! Science LessonTOKYOファンタジアTeo: Another Earth, Fin Fin on Teo, the Magic Planet, Teo: The Magic Planet PilotNight of TaneyamagaharaWater Lily Person消滅都市Shinken Zemi Koukou KouzaUndersea Fleet Submarine 707Fシークエンス聖剣伝説 Legend of Mana -The Teardrop Crystal-漁プラス50000年OTMGirls no Yokiyoki Channel Specialsオバケのどくろうぬ～ぼ～ きえたメダルネオ・ファウストNeeko wa Tsurai yoNamakura Katana, Hanawa Hekonai Meitou no Maki, The Fine Sword, An Obtuse SwordマジンガーZIP!迷家-マヨイガ-Magical Fairy Persia: Hodge Podge Dream WorldLance and Masks, LN\\'MFearsome Bio Human: The Last Teacher, Kyofun no Bio-Ningen, Kyofu no Bio Ningen Saishu Kyoshi交響性ミリオンアーサー꼬마버스 타요 3Matsumoto FragmentTOHO Cinemas Ueno弱酸性ミリオンアーサー 配信決定記念CMSmash Hit!LaduréeGOD EATER レゾなんとか劇場 #EXGaro the Animation Specials, Garo OmakeFussa City PR Anime, Tokyo SAKE Brewery, Walking through the town with a film director, Eiga Kantoku to Burari! Machi Arukiどっちにする？Controller of Controller超人ロック～ミラーリング～The Starland Trio, Space Three Musketeers, Byeolnara Samchongsa, Space of 3 Musketeersナコルル ~あのひとからのおくりもの~Shinka no Mi 2nd SeasonプレイヤーズPocket Monsters Head-to-Head BattlePuchi Eva, Eva-School, EAS, EOS, Neon Genesis Evangelion @ Schoolペペペペン議員Moekan Company OVALoups=Garous Picture Drama, Loups=Garous Pilotランドロック恐怖新聞 (2014)Go, Go! Momon-chan황금철인変形作品第２番Great Dangaioh, Dangaioh G, Haja-Kyosei G Dangaioh, G Dangaioh劇場版 Fate/kaleid liner プリズマ☆イリヤミニアニメUmi no Hi Kodomo SpecialデッドヒートCynical Hysterie Hour: Ch Ch Ch ChangeAfter School Series: Tinker Bell, Tinkerbell After SchoolGraffiti SketchbookCutey Honey Universeちからばしアモン・サーガAlice or Alice: Compilation, Alice or Alice Soushuu-henエビシー修業日記ゆめくりYawaraka Tank, Soft Tank, Squishy Tank, Tender Tankやんやんマチコワールド フールニュースMTV UltrahitsWatashitachi Rakuroji-bu!Eagle Talon, Himitsukessha Taka no Tsume, The Frogman Show스페이스 간담브이神羅万象～天地神明の章～驢馬Ramen ChainyanPatty and Jimmy no Kimikoso Superstar, Hello Kitty and Friends: You\\'re a Superstar!オズマフィア 13おとなの防具屋さん(裏面)Sleepless Oedo, Edo Never SleepsMugen no Ryvius Picture Drama迷走王 ボーダーかえるのピクルス -きもちのいろ-SHIDENさよなら私のクラマー ミニアニメポテッコベイビーズ(2011)Hello Kitty\\'s Animation Theater 8bMochi Mochi no Ki女郎 [めろう]Aihime MegohimeNot in the Textbook!Time Stranger Kyoko: Leave it to Chocola, Time Stranger Kyoko: Chocola ni Omakase!フライングベイビーズ☆プチ走れメロスHappy KappiGundou Musashi, MUSASHI -GUN-, Musashi-GUNDOH, Musashi: The Way of the Gunグッドモーニング・アルテアAnimal Olympic GamesDaburu Jei, YuruaniKEIKAKU, Chicken\\'s Insurance, Tsukiyo no Ban ni, TOJIN KIT, In the Evening of a Moonlit Night, Table and Fishman, The Saloon in the Airダロス SpecialChain Chronicle Gakuenバトルブレイクあぐかる PLAY WITH IBARAKI編The Mountain Where Old Women Are Abandoned, UbasuteTHE DAWN OF APEShiritsu Tantei Toki Shozo no Trouble Note - Hard & Loose, Hard & Loose, Hard and LooseI\\'m Reiko ShiratoriVAZZROCK THE ANIMATIONOrder Designer Episode 10.5RS計画 -Rebirth Storage-뽀롱뽀롱 뽀로로 4オズマフィアモンスターファーム5\\u3000サーカスキャラバン オリジナルアニメーション 「結成!!オルコロサーカス」Million Doll Otaku Language Lesson: Special雲の上はいつも、晴れKumo no Mori MarcusMr. Hitmanキングダム・オブ・カオス 〜ボーン・トゥー・キル〜Kimi ga Nozomu Eien Tokuten Eizou, Kimi ga Nozomu Eien: Gundam Parody機動戦士ガンダム Twilight AXIS 赤き残影ケンダマスター拳怪盗ジゴマ 音楽篇I\\'m hereBackkom, BernardSmash Hit! SpecialsハイスクールAGENT, (ハイスクールAGENT II  Uボートを追え!)初恋モンスターフットサルボーイズ!!!!!ふしぎな太鼓Francesca: Girls Be Ambitiousクレオパトラカプリコンぶるたぶちゃんアラビアンナイト\\u3000シンドバッドの冒険Shukuten no Chorale悪偶 ‐天才人形‐Scary Lessons: Hide-And-Seek Ogre, Zekkyou Gakkyuu: Kakurenbo Oni, Screaming Lessons: Hide-And-Seek Ogre, Ribon x Oha Suta SpecialAru Apartment no Isshitsu, A Room in a Certain ApartmentLegend of a RabbitGekijouban Tokimeki Restaurant ☆☆☆ MIRACLE6TemplexThe Robots are The... TechnopoliceTamala 2010 OVA, Tamala 2010 - A Punk Cat In Space (2007), Tamala on Parade, Tamala\\'s Wild partyDeparture: Ami, the Final Chapter, Departure: Ami, Final Chapter, Departure: Ami, Last Chapter, Departure: Ami\\'s Final Chapter, Departure: Ami\\'s Last Chapter, Cream Lemon: Ami\\'s Journey, Ami\\'s JourneySuzaki NishiWhite Cat Project, Rune StoryUneasiness and triangleウルトラマンキッズ M7.8星のゆかいな仲間Tug-TugTaro-san no Kisha, Tarosan no Kisha, Taro\\'s TrainTravel, The TripStrawsaurus NEOSarumasamunePianoMan TrailerTV Asahi Josei Announcer Collab Kikakuon the tableSeduced in the Sleepless City: Hirose Ryouichi - Memorial DateFairy Tale Girls豆しば学園キュッパのおんがくかいBody Search, Re/memberHopscotchCorporate Strategy Research Institute, Keiei Senryaku Kenkyuujo, Medical Management Consultantはてな☆イリュージョンCOSMO POLICE ジャスティクリオネの灯りBIOHAZARD 4D-EXECUTERApartment!Ani Tore! EXアムリタの饗宴AfterHoursセロラちゃん15 Children Space Adventure, Fifteen Children Space AdventureThe Conceited General, The Proud GeneralアイドルメモリーズグローランサーIV ~Wayfarer of the time~Glass Mask desu gaGHOSTふぁんたじあDuel Masters Versus Revolution, Duel Masters VS RevolutionDual-frequency Precipitation Radar Special MovieThe Restaurant of Many Orders, A Well-Ordered Restaurantチャンネル5.5 Season4Our Road of no ReturnArcha Lyra, Aru Kararu no IsanIchigatsu ni wa ChristmasThe Curlydog Story創世記The Sprites of ShiroishiSenjou no Valkyria Fake Movie PromoSam and Chip\\'s Great Messy RaceRAIN―MEMORY OF CLOUD. 1ONEDのらくろ二等兵Moegaku*5, Moe Gaku 5MATTER魔法少女? なりあ☆がーるず生でアニメをつくるさまMADE IN JAPANかっぱ川太郎Kakko Kawaii Sengen! 2 SpecialsKaite Daisenso: Ai no Nisen Miles, Undersea Encounter, The Great Navy Battle: 20,000 Miles of Loveキュートランスフォーマー 帰ってきたコンボイの謎Lord of Vermilion 4, Lord of Vermilion Fourくもの糸Kampfer Special, Kaempfer河童の腕Kamiusagi Rope: Tomokomi-hen, Kamiusagi Rope: Wifi...?-hen, Kamiusagi Rope: Smaho de!?-hen色を喰うアクマガンドレスグラスリップ月刊モー想科学Diabolik Lovers Soushuuhen Episode 6.5, Diabolik Lovers Special超神姫ダンガイザー3ビッグ・ウォーズ 神撃つ朱き荒野にアーヤと魔女ありさ☆Good Luckアレイの鏡 ~ Way to the Virgin Spaceエンジェルズフェザー Angel\\'s FeatherHello Kitty and Friends: The Great Swimming RaceYuki\\'s Sun PilotYouseiouWhere\\'s Mama, Little Tadpoles Looking for Mama, Tadpoles Looking For Their MamaWish Me Mell: Miracle Circus, Wish Me Mell: Maimai no Humming ConcertUrawa no Usagi-chan Episode 13, Urawa no Usagi-chan Special슈퍼빼꼼SUGIO~森林で恋をして~Otona no Douwa, Otona no Dowa, Otono no Douwa, Otono no Dowa, Adult Fairytales, Adult Fairy TalesTRANSFORMERS ROBOT MASTERS (トランスフォーマー ロボットマスターズ)THUNDERスパロウズホテルI-FanTsuboSamurai Showdown, Samurai Showdown: The Motion Picture100-Second Cinema Robo to Shoujo (Kari), 100 Byou Cinema: Robo to Shoujo (Kari), BomaheadThe Sign of Otaku, An Adventure in the Otaku GalaxyButt Detective: Auto Rickshaw Chase in Port TownYUMIKO KIRITA in VenusMarriage ～結婚～ロード オブ ヴァーミリオン\\u3000紅蓮の王Don\\'t Say Kusoge!, Kusoge-tte Iuna! AnimationクレムリンかってにシロクマIdol Ace Teaser, Idol AHoshi no Samidare RecapEagle Talon The Movie 2, Himitsukessha Taka no Tsume The Movie 2: Watashi wo Aishita Kuro Oolong-ChaえにょぐChao You Bing: Zhi Yongzhe Chuanshuo, Chao YoubingChannel 5.5 Prologue: New Program Starts!ブライト: サムライソウルBirthdayBig OrderAPR Backstage Pass Episode 6.5, ARP Backstage Pass Short Stories安部譲二かっとび青春記 渋谷ホンキィトンク100%パスカル先生豚平と猿吉Igeos-eun Beulluga AnidaSWIMMING食パンミミーPlanet Boy Popi, Yuusei Shonen Papi, Yusei Shonen Papii양성평등 2浦和の調ちゃんSamurai Gold, Tooyama Sakura Uchuu Chou: Yatsu no Na wa GoldMale Graduation, Graduation M, Graduation M: Our Carnival, Sotsugyou M: Ore-tachi no Carnivalサンゴの海と王子Saiyuki, Journey to the West: Songoku\\'s StoryRobot-chan Cubix, Robots for Everyone, Lobojjang KyubigseuManual of Ninja Martial Arts Pilot Film, Band of Ninja Pilot FilmAlice the WildMilitary! Special, Miritari!, Military! Episode 13, Military! OVAGreat Detective Hangyodon: Lucius the Phantom Thief Appears豆しば THE DVD グリーンピーしばの屈辱まことちゃんKY系JCクウキちゃんKJ File Second Season気ままにアイドルKomori, Koumoriインフェルノコップ ファクトファイルWakate Animator Ikusei Project, 2015 Young Animator Training Project, Anime Mirai 2015, Happy★ComeComeアキバちゃん女生徒Mode Gakuen 2018, Suki na Koto dake wa, Shindemo Hanasu na★Hana-oriDay of WrathCircuit no Ookami II: Modena no Tsurugi千雪のファッションチェック小さな五つのお話Zuobi Yishuぼくらの裁判員物語Bikini Warriors Episode 13ベビしばあれはだれ?47都道府犬11eyes 映像特典厄災仔寵 [やくさいこちょう]First Marvelous Dream In Wonder-Boy\\'s Space Trip, Space Journey - The First Dream of Wonder-kunワガママハイスペックUFOにつかまった子供たちTobacco and Ashes, Cigarettes and Ashes, Tabako to HaiSyupeo Taegwon VSOS TV Warupurgis Night FeverSpring / Summer / Fall / WinterUHA Mikakutou x Inoue Ryou Collab KikakuPeeping Life（ピーピング・ライフ） -The Perfect Evolution-オズOpetteお庭の外Lupin Shanshei SpecialLISTENERS リスナーズKandagawa Jet Girls Soushuuhen, Kandagawa Jet Girls Episode 4.5カチカチ山Powerdolls: Detachment of Limited Line Services, Women Of Mass Destructionポンコツクエスト×ガッチャマン 特別編PAC-MAN and the Ghostly AdventuresBe Quiet Please!, OshizukaniOh! Kuyuujuuroku-kku, Oh! ClockNoratotoMegami TengokuKakinoki MokkyiCreator\\'s World Project 3Ice Gekijouban, ICE: The Last Generation Movie, Project Ice Movie覇穹 封神演義Dou ni ka Naru HibiDevil Idol!こぴはんC団地愛と死Ai Tenchi Muyou! Furukaeri麻雀バトルスクランブル 混乱的戦斗麻雀 (スーパーリアル麻雀／麻雀バトルスクランブル)ゴキブリ姫Tera, Galaxy Legend TeraUchu Kyodai: Apo\\'s DreamTHE THIRD EYEOjii-chan ga Kaizoku Datta KoroMr. Nobunaga\\'s Young Brideモフ☆モフMaple Story Special, MapleStory Episode 26KuronyagoKoi wa Ichinichi ni Shite NarazuKani Manji EngiRINGING CITY銃娘 [ガンガール]パルサー(PULSAR)Peeping Life Gekijou Original Han, Peeping Life Gekijou Original Ban, Peeping Life: Gekijou Original Han王様になった狐Eizou Big Creator: Ryuji Akiyama no Douga Shin JidaiDemon Cutter, Demon Slayer捏造トラップ―NTR―Apprentice Diva結核豫防Kamiusagi Rope Pierce-henかまくらJungre de Ikou!, Let\\'s Go Jungle!, Let\\'s Go to the Jungle!ひょうたん劇場版 放課後のプレアデス   マナームービーHome-Pato the Movie花平バズーカギョ風雅の技法Futago no Mahoutsukai Lico and Gli, Futago no Mahoutsukai Lico & GliEien no Aseria: The Spirit of Eternity SwordDEVOUR DINNERCHANNELER볼로기 이야기The Misfortune of a Certain Zombie Girl, Calamity of a Zombie Girl紅いハヤテXanadu, Dragon Slayer LegendWakusei Dai Kaiju Negadon瓜子姫とあまのじゃくHappy Science Movie 9, Laws of the Universe: The Age of ElohimSaiyuki: Tessen Koushu no Maki, Princess Iron FanスーパードラゴンボールヒーローズMost Dangerous GeistUnderbar Summer SpecialsZOUNDSMagistrate of Darkness: Judge, Yami no Shihosha Judge, Ankoku no Judge, Judgment Day PackUlysses: Jeanne d\\'Arc to Renkin no KishiThe Sea\\'s Aurora, Umi no AuroraテディPeeping Life（ピーピング・ライフ）-The Perfect Emotion-お洒落小僧は花マルッヌルちゃんとぼく卖猪マッハガールモビルスーツ学園「Ｇ-レコ甲子園」The Little Red Hen, Sleeping Buu-chanChristmas advent 1209ほこり犬のはなしhis LipstickHAPPY FORESTGalerians: Rion (2003)Over Her CurtainMagical Somera-chan Special, Fushigi na Somera-chan SpecialThe Mysterious Medicineefficus この想いを君に...Del Power XAGE OF OBSCURE 茫漠時代The Frogman Show, IODATA x Himitsukessha Taka no Tsume百年後の或る日Paradise Without Stars, Stardust ParadiseハマネコGensei Shugoshin Peehyoro IkkaふりだしDay of Wrath, Dies Irae 00, Dies Irae Episode 0ディア ホライゾンくりぃむレモン レモンエンジェルCosmic Fantasy: Ginga Me Hyou no WanaChoro Q DougramビジネスフィッシュBLAME! (2007)AWOL: Absent Without LeaveあららAlice or Alice: Siscon Niisan to Futago no ImoutoAgriculture Angel Baraki Prologue, Agukaru Dai 0-wa夢見童子たんさくえすと！Tachigui - The Amazing Lives of the Fast Food GriftersTrue Goddess Reborn: Tokyo Revelationペーパーマン逢魔が時おしり前マンOira no Yakyuネクスト戦記エーアガイツMomotaros\\'s Summer Vacation, Momo NatsuMODERN No.2Mamerry Christmas-hen, 5-Shuunen Party-hen, Sakamichi Korokoro-hen, Kansatsu-hen, Mameshiba Extra EditionLegend of Lemnear PilotLaLaLa, BROTHERSVENUS PROJECT（ヴィーナス プロジェクト）－CLIMAX－東映ロボットガールズ雪の夜の夢よしまほManga Geki Yoshichirou no KeireiYahabeeYanaka Nezu SengagiうぇいくあっぷがーるZOO！ 台湾でGO！トウキョウ・バイス天紅事記テク助物語SPINSpace Travelers The MovieSOS TV Warupurgis Night Fever Episode 0SINGLESShimanchu MiRiKa Special聖獣機サイガードHeart-coloured Killer Ticketサンタ・カンパニー ～真夏のメリークリスマス～サラダランドうずらおしりかじり虫\\u3000第２シリーズThe Magic Pen蜘蛛の糸Little Monkey on a Swing絆のアリルFriday Evening, Abe Reiji: The Extraordinary Daily Life of an Ordinary SalarymanギルスティンFast WeekEXPLORER WOMAN RAY (エクスプローラーウーマン・レイ)コルネリスOriginal Card ToujouSuper Hyperspace Bulwark Cheese NapolitanBattle Skipper School, Lightning Attacker Exstars Battle SkipperBackkom: China Diapers, BernardアリチャンThe Ant and the Pigeon (1959)アーケードゲーマーふぶきあなたが振り返るときFushigi no Umi no Nadia Gekijou you Original Han, Nadia: The Secret of Blue Water - The Secret of FuzzyPrepare to be DeletedStrada with Blu-rayアニマギアAngelic White Magical Girls, Absolute Whiteness: Magical GirlWake up!! TAMALAW Wish SpecialThe Impression of First GUNDAMThe King Of Iron Fist Tournament The Movie, Tekken MovieTATAMPスイートスポットSand PlayPost Pet MomobinNotation of Rotating Earthサクラより愛をのせてCavity ExpressMakeru na!! Aku no Gundan!マジでオタクなイングリッシュ! りぼんちゃん ~英語で戦う魔法少女~ the TVKangaroo no TanjobiFancy Lala OVA, Harbour Light Story: Fashion Lala yori背徳ピストルズの緊急会議?Dengeki Oshoki Musume Gotaman R, Dengeki Oshioki Musume Gootaman R: Ai to Kanashimi no Final Battle!!, Butt Attack Punisher Girl Gautaman R: The Final Battle Between Love & Tragedy!Blame! Extra Log: Collapsed Databelieve in itAmi\\'s impersonation 150 barrageThe Abashiri FamilyYoukosobokudesu, Fancy Shirts, Antenna Chon-Mage, The Tea Time, Strange GeniusWorku: From Behind, Stranger In ParadigmつるのおんがえしNakaseru Sora ni Aitai: Toyama, Miwaku no Muttsu no Monogatari, Longing for a Tear Bringing Sky: Lovers in Tateyama, Longing for a Tear Bringing Cuisine: Grandpa in Goayama, Longing for a Tear Bringing Sea: A Friendship on the Beach, Longing for a TearVirtually Real - Virtual Starsスペースネコシアター少年ジャックと魔法使い小学生の誘拐防止\\u3000ユミちゃんあぶないよEagle Talon, Himitsukessha Taka no Tsume, The Frogman Show, YazukaピロッポNihon-ichi Momotarou, Momotaro, Japan\\'s No.1ねむれ思い子 空のしとねにミニキャラマクロスHellhound Liner 0011 Transform!Maju Sensen The Apocalypse, Demon Beast Battle Front The Apocalypse, Demon Beast Phalanx TVマクロスXXLINEこぶとりキップリングJr.Go, Go! Momon-chan SpecialsHuanxiang SanguozhiふくすけドアマイガーDHealth With Little Red Riding Hood2.43: Seiin High School Boys Volleyball Team Mini Anime180秒で君の耳を幸せにできるか?Satie\\'s \"Parade\"犬になったら好きな人に拾われた。OVAへんたつBuddhist Animation: Other Bodhisattva Buddha Tact Chapterアフロ犬YANS! GANS!10 Tokyo Warriors (2001)点テレビスター・ウォーズ／フォースの覚醒のらくろ一等兵Netrunmon The Movie, NetRunnerNakano Harada Marriage ConcertoMutant Turtles: Superman Legend, Teenage Mutant Ninja Turtles: Legend of the Supermutants, TMNTNinja Resurrection: The Revenge of Jubei, Makai Tensho兄弟こぐま로보트킹お月さまと王女Nipple!!Passionate Detective AgencyMini Moni ja TV幕喫茶店騒動かなかなかぞくボイスドラマ「リカ イン ワンダーランド」フライングベイビーズ改め ステイングベイビーズSince 1946. Japan? Gunnersギター蛾鑑Demon of Steel: Battle of the Great Demon Beasts, Steel DevilCode Geass: Lelouch of the Rebellion DVD Magazine: Extra Flash - Baba TheaterAngelウルフガイTIMINGThe Baby Birds of Norman McLarenてんとう虫のおとむらい死灵编码：世界操纵者正社員サイボーグ003サイキック フォースDelinquent in DragNippon Mukashibanashi: Sarukani, Monkey and Crab, The Monkey and the Crab: A Japanese TaleNam-ui BL Manhwa, NBM, Someone Else\\'s BL Comic Animationミルクハウス・ドリーミング 愛の四季マジでオタクなイングリッシュ! りぼんちゃん ~英語で戦う魔法少女~キリン 氷結® あたらしくいこう アニメーションムービーKanzen Shouri Daiteioh, Eldran series #4かなかなかぞく「ストップ風しん」ICE: The Last Generation, Project IceThe Honest Woodcutter, The Golden AxeハンドシェイカーThe Legend of Super Normal City Kashiwa ZThe Legend of Super normal Pref. CHIBABenkei vs UshiwakaMarina the Manga Artist Goes to Camelotあふれこ! ARTime and Space Adventures Nuumamonjaaいたずらぐまのグル～ミ～ホークのお悩み相談室 SpecialGararin and GororinCONNECTED…チャンネル5.5 Season3 プロローグ「そしてのだめカンタービレへ」Bansou Kousaten, Banso Intersection, Kizuna Sou Kousaten, Broken Relationship Intersection, Band-Aid IntersectionあさってDanceAne Log Flash OVA Specials, Sister\\'s Log: Moyako\\'s Never-ending Monologue SpecialsYOH Shomei Museum LINEBury and Bye-ByePrincess of the Moon PalaceToshindenTokyo Jushoden, Ten Warriors of Tokyo, 10 Tokyo WarriorsTaiko: Drum Master, Taiko no Tatsujin: Juugo Shuunenkinen Short Animationシュート! Goal to the Futureスカーレッドライダーゼクスお前はまだグンマを知らないムクの木の話Meitou \"Isekai no Yu\" Kaitakuki: Arafoo 40 Onsen Mania no Tensei Saki wa, Nonbiri Onsen Tengoku deshita, Isekai Onsen ParadiseLOTUSKUBBE GACHAPIN MUKKUMovingSento Yosei Shojo Tasukete! Mave-chan, Battle Fairy Girl Help! Mave-chan, Fighting Fairy Girl Rescue Me Mave-chan狭狂しい家Scandal anime「ポンコツクエスト」×「デジモンストーリー サイバースルゥース ハッカーズメモリー」PakushiNoratoto, Nora, Princess, and Stray CatMr. Shape: High Touch Gymnasticsライトニングトラップ レイナ＆ライカChain Chronicle Girlsキミだけにモテたいんだ。The Story of the Concierge Mukuzo Imokawa, Imokawa Mukozo the Doorman擬人化でまなぼ!出来損ないと呼ばれた元英雄は、実家から追放されたので好き勝手に生きることにしたUsed Video Shop\\'s Female Shop Clerk XCho no SainanATAMAWindows Tablet SongTough Guys!Mameshiba Mofu☆Mofu Collaboration AnimationおかしなホテルOver the Rainbow: Story of Girl DianaNew Hal and BonsZombie Kurei Anime, Zombie Clay Animation: Life of the Deadキリン・ザ・ヌープGoichi-jiisanG-Best －G-tasteベストセレクション－The Legend of Super Normal City KashiwaAmakage music clipAGAINSTwena wristFishy ManagerTENSAI BANPAKU -GENIUS EXPO-Super Mario World: Mario & Yoshi\\'s Adventure LandYELLOW FISHXiao Ye YouWannabesViolence Jack: Harem Bomber, Violence Jack: Slum King, Violence Jack: Harem Bomber Hen, Violence Jack: Harem Bomber ArcSupataromuShounen Keniya, Jungle BoyThree Musketeers: Time Machine 001, Samchongsa: Taimmeosin 001Riki-Ou 2: Horobi no KoNeon The Animation愛しのベティ 魔物語ヘアピンダブルChimney Sweep PeroSingle Appartment DokudamisouDiaLoverバディ スピリッツアスナル金山Heidi: Girl of the Alps Pilot2.43ミニアニメ inside storyOrpheus of the Stars, MetamorphosesCrocotires Traction AAA663114「2.43\\u3000清陰高校男子バレー部」ミニアニメ\\u3000バレーボール講座編Welcome, Aliensヨーデルの女With You ~みつめていたい~The Hare and The Tortoise, The Tortoise and the Hare, Kyouiku Otogi Manga Usagi to Kame月夜＆オパールトラちゃんのカンカン虫The Tales of Rien Village #1: Nature is calling!旅は道連れ世は情食べる人たちファントム勇者伝説Maple Story猿蟹合戰Pikotaro Lullaby Lu-llabyおしりかじり虫\\u3000第４シリーズおどるモワイくんNeo Satomi Hakkenden: Satomi-chanchi no 8 Danshi熱血宇宙人miniGAROキティちゃんを探せ！富山市スタンプラリーかげかがみ一発必中!! デバンダーホーム・マイホーム春子の冒険五匹の子猿たち超・少年探偵団NEOチャンダ号Anitore! EX Specials, Anime de Training! EX Specials, Ani Tore! EX SpecialsHappy Science Movie 8Tatami-chan the Guest Room SpiritEagle Talon, Himitsukessha Taka no Tsume, The Frogman Show, Yoshida no Time Slip FumaikouWild 7 Swirling CanalThere Goes Tomoe!, Go, Tomoe!, Tomoe Will Go!, Tomoe\\'s Run!タプリカード×怪獣酒場 カンパーイ\\u3000〜カネゴンの主張〜ポロンギターPakushi no Uta, Pacusi SongOdin: Photon Space Sailer Starlight奈良鹿物語Magical ChocolateこわぼんCell Phone GirlKARA THE ANIMATIONHwanggeumnyeonpilgwa Gaegujangi Oegyesonyeonがんばれ！メメ子ちゃんGaia Getter Aa-kun, GG A-kunフィンたん永遠の８３１ドキドキ学園\\u3000決戦！！妖奇大魔城チャンネル5.5 Season4 プロローグ「ベルばら」カリキュラマシーンAware! Meisaku-kun: Ito-Yokado no Randoseru, Aware! Meisaku-kun: Itou-Youkadou no Randsell, Aware! Meisaku-kun: Ito-Yokado no Randsell48x61 (Rintaro x Katsuhiro Otomo)100%J0kerハヤシフサイThe Last ArkIse-Shima Mie JapanAnison Japan, Anison Nihonおす松田家カレーバトルことわざ辞典 へたな鉄砲も数うちゃあたる！きグルみっく☆V3Manga Ookami wa Ookami daon a forest, in the airおい等のスキーNaikaku Kenryoku Hanzai Kyosei Torishimarikan Zaizen JotaroKi*Me*RaキッズキャッスルInvaders From CyberspaceCHAINSAW BUNNY病毒の伝播バトルアスリーテス 大運動会ReSTART!Master of Martial Hearts Picture Dramaザ・リフレクションスーパーリアル麻雀 ミキ・カスミ・ショーコのはじめまして (スーパーリアル麻雀／かすみ・ミキ・ショー子のはじめまして)Wonder Egg Priority Tokubetsu-hen., Wonder Egg Priority episode 13, Wonder Egg Priority SpecialW Tails Cat: A Strange PresenceSki Jumping Pairs, Ski Jumping Large-hill Pairs时光诡域おまけNougyou Musume!: Episode 0, Agriculture Girls!GeleeSatsujin水尻自子のよりぬき自子さん目玉おやじのエイプリルフールThe Fox And The CircusFlagliaFairy Gone Recaps, Fairy Gone Specials, Fairy Gone Commentary Video超次元革命アニメ Dimensionハイスクール知力丸ブレイブファイヤーS0・9愛はKAT-TUN辺土ガーデンHantsu x Torasshu, Hunts x TrashGraphillion: 数え上げおねえさんを救ヘコヒョン7Evil or Live 9.5Doubutsu Tonari-gumi, Dobutsu Tonari-gumiDigital Devil Monogatari Megami Tenseiチェーンソー・メイドBe Rockin\\'アニマうらめしでんわSpring has come!シシドジャーニーPole Princess!! Episode 0ピーピング・ライフぱすてるメモリーズおしりかじり虫\\u3000第３シリーズMomotaro\\'s Divine Sea Warriors, Momotarou: Divine Soldiers of the SeaKomachi and DangorouMold Rabbit, Hikouki-hen, Game Center-hen, Kaichuu-hen参乗合体 トランスフォーマーGo!POPS語りべ少女ほのかいなかねずみとまちねずみHentatsu (TV) Episode 12.5, Hentatsu (TV) Special, Oni to Neko to o-Cha to ka.Flanders no Inu, Chou Zenmai Robo Patrushスターリーテイルズ ～星座は時をこえて～Haru no Gensou, Cherry Blossom: Spring Fantasy魚の國リング\\u3000オブ\\u3000ガンダムレスキューYoYoMaitetsuオーガニック新潟の枝豆王しばNameless Flipbook暗闇三太きたかぜとたいようギャラガ HYPER-PSYCHIC-GEO GARAGAひゃっかずかんHanasaki Ku-han no Romantan, Hanasaki Kurodino Romantan電信 電鈴 電話Butt Attack Punisher Girl Gotamanカラーサイクリングあぐかる2.43ミニアニメ 福井弁講座Street FighterGhenma Wars, Great War with GenmaMysterious Counting, \"The Art of 10^64 -Understanding Vastness-\" Time with class! Let\\'s count!アリスインデッドリースクール【ゾンミちゃん】 - ミートパイ オブ ザ デッド -ゾゾゾ ゾンビーくんTOKYO ART MONTHターザン雀のお宿聖闘士星矢: Knights of the ZodiacEvil Dragon War Chronicles, Maryu Senki, Maryuu Hensei, Maryuu Shinken, Pink NoiseMahoutsukai nara Miso wo Kue!, Eat miso if you are sorcerer!, If You\\'re a Wizard, Eat Miso!Litchi☆Hikari Club, Raichi Hikari Club「怪盗レーニャ」パイロット版聖少女艦隊バージンフリートThe Colour of Sal Tree BlossomsRobo to Shoujo (Kari): Announcement TheaterNansensu Monogatari Daiichi-hen: Sarugashima, Nonsense Story, Vol.1:Monkey IslandThe Fly Band!Shin Saru Kani Gassen (1939)ZAP CAT美しい星天狗退治Kousoku Shakai to Ningen, Man and a High Speed Society猿蟹合戦（予告）Sanko to Tako: Hyakuman-ryo Chinsodoプリズム☆ま～じカル PRISM Generations!ポン助の春Lightning Doodle Project \"PiKA PiKA\"Private 2nd Class Norakuro: The Training, Norakuro Nitouhei Part 2, Private Norakuro in TrainingSD Encyclopedia, SD HyakkaMaree Oki KaisenA Story of TobaccoいぬまるだしっAfter School in the Teacher\\'s LoungeMysterious World Atagoul StoryEuro BoysBalloonGirl X超機動街区 KASHIWA-NO-HAChainsaw Maid Gaiden Episode 0アラーニェの虫籠Anime de Training! XX Specials, Anitore! XX: Jigoku no Training指のすきまちゃんThe Lie Eater透明人間Judgment! XX Angel Rabbie, Divine Punishment: Angel Rabbie OVA, XX Angel Rabbie OVA葬儀屋と犬One: To a Shining SeasonEnclosed WorldOu-sama GameOshiruko ~The Summertime Mischief~Oatari Sora no En-takuMikuni no Tame niKujakuoh: Sengoku Tensei, Spirit Warrior: Sengoku TenseiThe Midnight Parasitesかつら姫Joint布団Picture (Shadow)Chinkoro Heihei Tamatebako, Chinkoro Heibei TametabakoDefeat the Evil One!! Salaryman ManAraignée souriante, The Smiling SpiderUSABANDSora no Momotaro, Momotaro of the Sky, Ariel Momotaro, Momotaro in the Skyトーキョー・ループThe Ending ChronicleOrigami of landscapeMILPOM★犬鳴村 x 鷹の爪団Gulliver FuntokiFurudera no Obake-sodoHappy Science Movie 4Drawing!!InuhiroIdolls!: Idol SurvivalGolden Wings 123博多明太！ぴりからこちゃんAWAKEあおおに ～じ・あにめぇしょん～1/100 TRAIN StationYanesen marching songワカメビルディングスペランカー先生Shigeo is Handsome写真記 \\'87漫画レビュー 春Will PowerKangoku JikkenPeeping Life 『新婚ちゃん関西にいらっしゃい』お淋し谷の別れ唄モルモランド結婚式の鳥ムービーDokyusei 2 Special, Classmates 2 Special: Graduation, GraduateぶんぶくちゃがまSpace Shower TV Station ID, BIGHITS!Ahiru Riku Sentai, The Quack Infantry Troop112 Sabsections Of SkylineEiga \"Kinako\" x MameshibaTRUTHやせるやぎHappy Science Movie 7スリーピースクーパーズピンキーモンキーの生まれた日Mameshiba x Kyary Pamyu Pamyu, Mameshi-Pamyupayu居酒屋の一夜Highway JennyOni to Neko to o-Cha to ka.ホークのお悩み相談室Do Your Best, Chibi GodzillaRyounin Samurai Homare KawakiボーニンゲンweekendBEAN BANDITOrb Panic Adventure Returns!An empty story that does not serve any purposeMTV Japan Station ID 1, MTV Japan Station ID 2METAMORPHOSEThe Whale (1952)Old Man Hanasaka, The Grandfather Who Makes The Flowers, Hanasaka JiisanGOLDFISH FETISHGenma Taisen, Genma Wars: Eve of Mythology, Ghenma Wars, Great War of the Demon of Illusions: The Chapter of the Previous Night of the MythFujinkoron-sempaiBruce Lee in Animation: Chinese Gods, Pang Shen Feng, Fengshen Yanyi, The Creation of the Gods, The Investiture of the GodsIMAGINATION of MARATHON RUNNERS池田屋騒動BAR 嫌われ野菜Space Shower TV Station ID, CANVAS 1.6.1 AnimatopeMeat or Die Pilot, Meat or Die Prototype, The Last PredetorすしFinal Examination Kujiraおいらの非常時Private 2nd Class Norakuro: The Drill, Norakuro Nitouhei Part 1, Private Norakuro in Boot Camp個人都市Black Dragon King and Asylum BalusterTerada Mokei: Genki\\'s New Year at Tokyo StationDobutsu-mura no DaisodoコーヒータダイクKiro no HitoEagle Talon, The Frogman Show, Himitsukesshaミイラの夢Thor: Ragnarokくんち禁男女子鴉10 Little Indians花のずんだ丸 じゃんくAum Shinrikyou no AnimeIssun-boushi Chibisuke Monogatari, Issunboshi: Chibi Jo Monogatariいなばの国の兎さんファニーペッツFeathers Gazing into the Darkness, Feathers Staring into the Darkness, Thinking and Drawing: Nihon no Shinseiki Art Animation, Thinking and Drawing: Japanese Art Animation of the New Millennium裡児のママとお母さんtumbled cat鷹の爪×HELLO KITTYがまさかのコラボ！新・天地創造マッツとヤンマとモブリさん ―七つの秘宝と空飛ぶお城―Time to ThinkSheep in the IslandEiga Ensetsu \"Seiji no Rinrika\" Gotou Shinpei 1926Puri Gorota: The movie, Puri Gorota: Uchuu no Yuujou Daibouken猫も、オンダケなならき~Seven Lucky Gods~みみず物語マッツとヤンマとモブリさん2 ―水軍お宝と謎解きの島々―Oni Koiuta, Oni Renka, Oni Koikaかわわわわわだit’s MAREY o’clock now!Hong Lang続 夏目友人帳 3Ｄニャンコ先生劇場トリック・オア・アリスTenka Hyakken: Welcome to Meiji Hall!掬いあげてくれないかウルトラソニコHappy Science Movie 2, The Laws of the Sun: The Road to El CantareSarukani Gassen, The Monkey and the CrabRECORDERNorakuro Gochoナガハマラジャミルキィパッション 道玄坂 愛の城Mabo no Kinoshita TokichiroThe Woodpecker Planじょうぶなタイヤ!Choujin Gakuen Gowkaiser, Superhuman Academy Gowcaizer, Voltage Fighter Gowcaizer: The Movie个乃ち七允ムく七 (Abstract) feat. Alkama磯部磯兵衛 with 中田ヤスタカで候変360° Fin-tan Sauna ExperienceDobutsu-mura no Sports Day, Taiiku Day別府市 × Peeping LifeMD Geist 2, Most Dangerous Geist 2, Most Dangerous Geist 2: Death Force, Most Dangerous Geist II, Most Dangerous Geist II: Death Force, Soukihei MD Geist 2出荷夫婦Wandering Elephantおしりかじり虫Nyankosu RecapTwo Pikes (1968), Two Fishes (1968), Deux poissons grillés, Two Grilled FishShiobara TasukeRainy Day, Rainy Daysかなかなかぞく「秘密結社 鷹の爪コラボムービー」さぬき映画祭オープニング映像お猿の大漁Infinite Spaceミニモニ。やるのだぴょんMarimo\\'s blossom: The Legend of the Strongest Elementary School Fighter Student, Ribon Festa 2012, Ribbon Festa 2012筋肉番付 金剛くんの大冒険!Kana Kana Kazoku New Year\\'s Greetingいじめ 〜いけにえの教室〜CakesMy Life After I Became a Dummy Head Mic One Morning, Aru Asa Dummy Head Mike ni Natteita Ore-kun no JinseiアークIXWALLRabbit, Lost Memories: The Art & Music of Silent Hil鳥tokyoSOSSanbiki no Koguma-sanMomotarou\\'s Sea EaglesLEGEND OF DUOくちゃおカロとピヨブプト-おうち泳げや泳げOjou-sama Sousamou, Ojousama Sousamoマスター・オブ・トルクexperimentコーヒーブレイクAme-iro Cocoa 5th Season, Ameiro Cocoa, Rainy Cocoa, Ame-iro Cocoa 5Hal and Bonsフレームアーム A violent struggleFANTASYDOUGRAM vs ROUND-FACERCLOCK超機動伝説ダイナギガ1/100 RICE PlantingYuméPromised TownThe One I Love Is a Little Sister, but She\\'s Not My Little Sister機動戦士ガンダム Twilight AXIS紙芝居 金太郎の卷Kaede NewtownSolar Adventure, Robot King Sun Shark, Roboteuwang Sseon SharkMaster of Torque 3rd SeasonカルマThe Flower and the Butterfly博物誌幻影都市ファーストＫｉｓｓ☆物語The Fearless Hyena, Xiao Quan Guai Zhaoアジール・セッションEagle Talon NEO Announcement MovieMuramatsuri Omatsuri, Jidou Shouka Eiga: MuramatsuriMODERNFarce anthropo-cyniqueCreator\\'s World Project 2超時空ロマネスク\\u3000サミー\\u3000ＭＩＳＳＩＮＧ・９９The Dance of the ChagamasBOY\\'s LOVE Nitro+CHiRALAshiaraiyashiki no Junin-tachi, Ashiaraiyashiki no Juunin TachiAfter SchoolHappy Science Movie 1Carol: A Day In A Girl\\'s Lifeビューティフル・ネーム\\'84 태권VMakera PilotBirth: Debut千銃士クリプリ＊クリプラSheepWolfThe Apple and the Girlむきだしの光子Makyu SenjoZombie Clay Animation: I\\'m Stuck!!はなれ砦のヨナディアホライゾン（被）Sore tte♡Dakara ne!, AGC38, That\\'s The Way I Love It!やきもち狂想曲うんこさん ツイてる人にしか見えない妖精Butt PlayMt. Kachikachiセカイが滅びる前にキミに会いたいThe Battle of the Monkey and the Crab緑野原迷宮 〜Sparkling Phantom〜minamo熊に喰われぬ男かけがえのBag, Sack, Art of Silent HillStorm Rider: Wild Winds, Raging Clouds超変身コス∞プレイヤージャパンダBavi Stock II: The Revenge of Eyesman - Ai no Kodou no Kanata ni, Bavi Stock I: Hateshi Naki HyoutekiIbaraki Toyopet, Saitama Toyopet, Okayama Toyopet, Eagle Talon, Himitsukessha Taka no Tsume, The Frogman Show00:08夜間学校の裏先生YADOKARI将棋アワーぷりんせすARMY - ウェディング★COMBAT -Happy Science Movie 3MTV Top 20Nazotokine 2鬼斬少女「マスターオブトルク」エピローグKitsune no Homerun OuKinoko, Art of Silent HillゲキドライヴBaghdadjou no Touzoku, Baghdad-jou no Touzoku, Bagudajou no TouzokuTeana: 10000 Years Later淡水水棲STARTPotekko BabiesPLAYGROUNDStoneThe Harmonic Gleam VibrationRecapture Ourin Gakuen, Footsteps of SpringHanasaka Jii-sanはなのはなしShinteriya-jyo no Hanamuko, Shinteriya-jou no HanamukoBLENDビートショット!!Ameiro Cocoa Series: Amecon!!, Rainy Cocoa Ame-con!!, Ame-iro Cocoa 4Ame-iro Cocoa 3Two Pikes, Two FishesMaster of Torque 2nd SeasonKoryu no Mimi, Ear of the Yellow Dragon, Ear of the Golden DragonPaper Films驚き盤ミリオンドールKJ FILE (KJファイル)Invisible Boy Detective AkiraTOTO GREEN CHALLENGEFairground in the Stars, Amusement Park in the StarsHiGH&LOW g-swordハコダテミュージカルSPACE SHOWER TV Canvas 2.0.0DEVA ZANクール・クール・バイAmeiro Cocoa: Rainy Color e Youkoso!, Ame-iro Cocoa 2時間Isshoni Training 026: Bathtime with Hinako & Hiyoko, Stretch Time, Isshoni Training Ofuro: Bathtime with Hinako & Hiyoko元禄恋模様 三吉とおさよMario OVAManga no Rekkoku RikugunNorakuro Shoi: Nichiyobi no Kaijiken見世物見物USAWALTZ進め！ガチムチ３兄弟ハンドソープHakuchu MeikyuTerada Mokei: Genki\\'s Christmas at Tokyo StationPinky Monkey Series, Pinky\\'s Exciting Journey Stroll協力防空戦怖すぎます。The National AnthemGhost Story, Thinking and Drawing: Nihon no Shinseiki Art Animation, Thinking and Drawing: Japanese Art Animation of the New Millennium写真記『ルドルフとイッパイアッテナ』×ゴジラ×TOHOシネマズムービングロゴ映像NyankosuMakura no Danshi Special, Pillow Boys Special覚悟のススメShort Animation of Shintaro Kagoスシニンジャ一撃殺虫!! ホイホイさんLEGACYはだきゃのおとのさまFuku-chan\\'s SubmarineダブルサークルBattle Angel Alita 3D SpecialFight!! Spirit of the SwordSuper Transformation CosprayersBrutes, Mighty Orbots PilotBattle Spirits: Dragon Tiger Fist, Battle Spirits: Ryoko no Kenあいおい会い追いREINBOURoad to PresentナゾトキネMy Steady Is a WitchFANTASTIC CELLDappiesCollapse ZenグリードSliding Door 2Four Seasons: Fuuka and Nanami -Master of Torque- Spin-off Episodeコロンボスおさかなはあみの中Lemon Home Animation TheaterStamp Fantasia, Stamp Fantasy, Fantasia of StampsKiekaketa Monogataritachi no Tame niSuperfluidDragonfly大正メビウスライン ちっちゃいさんホクロ兄弟 フルスロットル!!!!ドリルA day of ChamekoAlice in Dream Land潜水艦カシオペア世界の闇図鑑SUSHI POLICE（スシポリス）ありす ALICE in Cyberland軌跡ヌードバッター鉄雄夏の視線‐1942なにができるかなStar Wars: The Last Jedi, SW Cast Zenin BB-8 Mitai na Form ni Nattara Kawaii!, Star Wars: The Force Awakens, Star Wars: Force no Kakusei人工の楽園アノン戦隊レンジャー5aliceMittsu no Kumo, 3tsu no Kumo, Trilogy about CloudsGakuen Toshi Valanoir, School City Valanoir江口寿史のNANTOKA NARUDESHO!Kotobuki Goro ShowCommercial War劇場版「超変身コス∞プレイヤー VS暗黒宇宙将軍」零花～raycaOmochabako Series Dai San Wa: Ehon Senkyuuhyakusanjuuroku-nen, Toy Box Series Episode 3: Picture Book 1936Mayo Elle Otoko no KoVIE DURANTVampire SensoFairy Land Folktales, Forest Fairy Five: Fairy TaleUmi no Momotaro, Momotarou\\'s Underwater Adventure, Momotaro under the SeaKeisatsu Sensha Tai TANK S.W.A.T. 01, Keisatsu Sensha Tai TANK SWAT 01田名網敬一の肖像そういう眼鏡Dobutsu Sumo TaikaiBlue Flames, Aoi Honoo로보트 태권 Vカナブンの行進むさしの！LOST UTOPIACnM, Cherry no Mama蟻人間物語Arcade Gamer Fubuki Special Story, Arcade Gamer Fubuki Extra３ねんＤぐみガラスの仮面Osamu Tezuka\\'s Self-PortraitHinomaru Taro: Musha Shugyou no Maki, Hinomaru Taro: Musha Shugyo no MakiHinomaru Hatanosuke: Bakemono-Yashiki no Maki, Hinomaru Hatanosuke: Bakemono Yashiki no MakiYouTube Space Tokyo, studiobinzob x J-toys Channel, Studio Binzo x J-toys ChannelKetsuekigata-kun! Special, Ketsuekigata-kun! Episode 13浦島太郎凍京ぐらし！Dairiki Tarou no Mucha Shuugyou, Dairiki Taro no Mucha ShugyouMasters of the Future, Mazinga 7, Super MazingaDeniroo\\'s Circus映画『R100』×「豆しば」オリジナルマナKihachiro Kawamoto\\'s Self-PortraitS＝13Orb Panic Adventure!Night Lamp, Night Lightsテスラノート『DCスーパーヒーローズ vs 鷹の爪団』プロモーション映像ハン・ソロ／スター・ウォーズ・ストーリーBishoujo Yuugi Unit Crane Gale: Crane Game Girls 2Ameiro CocoaR=DPORT OF WORMYニューヨーク・トリップなカなおりLiltGokiburi Taisou, Cockroach Calisthenics, Into Animation 7, Zettai 15-byou Anime!幼視景（もう一つの虹色都市）鶴下絵和歌巻sin in the rain修羅之介斬魔劍 死鎌紋の男Zonbi Ehon, Zombies DiaryThe Promised Neverland Recap, Yakusoku no Neverland Recap, Yakusoku no Neverland 2nd Season Episode 5.5, Yakusoku no Neverland 2nd Season SpecialTWO TEA TWORaiders of Galaxy, Mazinger 3Isshoni Training: Training with HinakoBrave Frontier x Taka no Tsume, Eagle Talon, Himitsukessha Taka no Tsume77 Group\\'s Secret, Secret of 77 DanThree Tales, Mittsu no Hanashi, 3-tsu no Hanashi Atarashii Douga, Atarashii Douga: Mittsu no HanashiRoom Mate: One Room Side MMAG・ネット ジングルKama Sutra Kyuukyoku no Sex Adventure, Kyukioku no Sex Adventure Kamasutra, Kama Sutra: The Ultimate Sex AdventureShachou-hen, Boshi-henていえぬシアターin神戸 オープニングShojoji no Tanuki-bayashi鼻の日Computer Nuclear Warship Bombing OperationMaiden Camellia, Mr. Arashi\\'s Amazing Freak Show悪魔の回路図雲雀の宿替アニマルダンス１＋２＝パラダイスNAVIA DRATPこれがＵＦＯだ！ 空飛ぶ円盤こがねの花Romantic White Day Together with Wingcle Bear, AK Romantic White Dayスター・ダストYumeutsutsuビーナストライナイツThe Guy Next Door, L\\'homme prochaine porteHell KindergartenTetsu no Shojo Jun, Tetsu no Otome JunFELIXノ迷探偵Deep Sea TentacleカナリアShouyakyokuROLLPinky:st漫画Mabo no DaikyosoポートレートNamakura Gatana: Kunoichi Chapter劇場版 巨蟲列島禁断の黙示録 クリスタルトライアングルIn Search of New Axis, In Search of Muscular Axis, In Search of Performing AxisCONCEPTION（コンセプション）Zettai Shogekiやくそく殺人狂時代くまのけいむしょPon Kotsuland Saga, Ponkotsu Quest x Vinland Saga SpecialメカノHELL TARGET [ヘルターゲット]「FLY」フライDYNAMIC CHORDSousei Seiki DevadasyＪＫめし！Charge Man Ken!, Cha-Ken!SAMUROID ZEROOsaru no Sankichi: Totsugeki Tai, Osaru no Sankichi: TotsugekitaiLingerie Soldier Papillon RoseKAWAII COOK SANHey Pitan!Land Scape蠕虫舞手わからないブタUnder the Dog Short AnimationTRIP TREK [トリップトレック]Cigarettes are LameTIME ON THE PLANET日の丸旗之助～稲妻組討伐の巻～ありがとうごめんなさい男と女と犬Mikansen, Mikanbunラブ米 -WE LOVE RICE-ANNA Voleuse技の旅人usa Weather ShowJuunigatsu no Utaメモリーズ 幼年期の情景ザ・チョコレートパニック・ピクチャーショーEiken: From Eiken With LoveBoken Dankichi: Hyoryu no Makiナイス･トゥー･シー･ユーLove of Kemeko快楽の園ノーラ係Idol Fight Suchie-Pai, Idol Janshi Suchi-Pai, Suchi Paiああ／良いPeeping Life ユーチューバ―くんOhisama to Kaeru, O hi sama to KaeruBegon Bell Care春のしくみSix AngelsBarabara FilmA WOMAN IN A FASHION BUILDINGPantsu no Ana, Holey Pants: Desire on a Strollなんとかして アルガードZAWAZAWAスペクトラルフォース クロニクル ディバージェンスOfficial Residence, The Inspection Station機兵戦記レガシーズThe Three Fearless FrogsMameshiba花Bishoujo Yuugi Unit Crane Gale: Crane Game Girls声優刑事巨蟲列島Kerorin PathTadanori Yokoo: 3 Animation Films, 1964-65, Yokoo Film Anthology \\'64-\\'65, KISS KISS KISS, Kachi Kachi Yama, Tokuten Eizou Anthology NO. 1Usagui, Thinking and Drawing: Nihon no Shinseiki Art Animation, Thinking and Drawing: Japanese Art Animation of the New MillenniumTa-chan no Kaitei RyokoLove Sky Tree 21, Ai Sukai Tsurii 21Kaitei no Bokun覚めろプレイ･ジャズDark Memories/Shadows of DreamIsshoni Training: Sleeping with Hinako, Isshoni Sleeping: Sleeping with Hinakoダイレクト・アニメーションAnomaliesモーション・ルミネUSALULLABYUrda: Third ReichShinsatsu Shitsu, Thinking and Drawing: Nihon no Shinseiki Art Animation, Thinking and Drawing: Japanese Art Animation of the New MillenniumPillow Boysマック･ザ･ムービー2005 Space Odysseyヘッド・スプーンハルヲGureto Rabitto, Gureeto RabittoBlue Butterfly FishA Log Day of TimbreコチンPa! 第二期牛頭しろのカンガ\"ルー\"のうたBUGGY MAP -Exhibition Ver.-あめやたぬき鼠の留守番CIPHER THE VIDEOブルーリメインIssun-boshi no ShusseRHYTHM(リズム)Genshiken 2 Special, Ramen Tenshi Pretty Menma Picture Drama, Ramen Angel Pretty Menma, The Two Ramen Angels - Delivery EditionPapillon Rose: New SeasonWHEELS超普通都市カシワ伝説RベールガA sea doesn\\'t tell muchKaikaPetti MangaおにゃんこポンGirl Detective ClubOsaru no Sankichi: Bokusen春の唄Phoenix-bot Phoenix King, Ronin Mecha 2: Defenders of SpaceキリコARMORED CORE -FORT TOWER SONG-【ゾンミちゃん】ハロウィン☆スペシャルムービー！Can\\'t Stop DreamingUrashima TaroTimbre A-ZIkamaturi, MetempsychosisKobe and Ai, Kobe and Iカタリベ\\u3000人工知能がつぶやく呪いの予言ぴすとっ☆Mole\\'s AdventureスクリュTekkon Kinkurito Pilot, Treasure Townファッションのはじまりさむらいお猿の艦隊YouTube Space TokyoニヤゴダンスAdventures in Beauty WonderlandC.L.A.Y.4 EyesDEAD GIRL Trailer（デッド・ガール トレーラー）Red-Colored Bridgeよ！大統領トラップくんSpace Black Knight, Johnny Destiny Space NinjaScrap Diary 2: Walking ManスペクトラルフォースGeneration of Chaos III: Time of the Seal, Generation of Chaos III: Seal of TimeNO LITTERINGG String, Tragedy on the G LineAosuGood-bye Marilynクレイジー・クレイ・レスリングケンネル所沢Study of the Virgin in School Uniform Stripped Bare by Her BachelorsCRAYON ANGELねんどのたたかい優しい金曜日Tomb of Dracula, Emperor of Darkness - Vampire DraculaポップDog Soldier: Shadows of the PastMTV Ident: Horny忍者コレクションDREAMSCircle, ○Petting a DogジビエートRules of the Night, The Rules of DreamsMicro Teukgongdae Daiyateuron 5, Space Transformer, Micro Commando Diatron 5, Space Transformers, Ronin Mecha 3: Space Transformer아마게돈レクイエム錆色のアーマ-黎明-MILPOM★ (みるぽん)The Embryo Develops into a FetusThe RoomHanoka Episode 7.5, Hanoka Special魔法少女? なりあ☆がーるずYuki Doke, Thinking and Drawing: Nihon no Shinseiki Art Animation, Thinking and Drawing: Japanese Art Animation of the New Millenniumatelier petros上空劇場 ～洗濯島の洗濯鳥～無責任ギャラクシー☆タイラー夏のゲロは冬の肴Chimidoro no YoruHyougen「とうきょう」- TokyousatalkNinjutsu Hinotama Kozo: Edo no MakiMasaka no KintarouembahDekobo no Jidosha Ryoko, Dekobou\\'s Automobile Journey青鬼 THE ANIMATIONこのマヨネーズはゆるすぎる子供の廻転の事おかあさんにないしょTwo Lovely Maid, Dotchi mo Meido, Two Lovely MaidsCountdownTales of Byston WellコチンPa！傷追い人荒くれ純一の涙landmarkゴンドラCarigraffiti彩人四季という名の意思畑A Small ExperimentMy Face笛ハッスル!! とき玉くんOnara Gorou Episode 0MAID OF THE DEADAkai Kutsu! Onnanoko!, Into Animation 5ファッションRoots Search: Life Devourer Xザ・バスルームThe Dark Myth愛Archetypes ForcesQuestion MarkSHUNGAプッシーキャットChainsaw Bunny SpecialチキンパパCosmic Wave, Comixかっぽやさしい笛、鳥、石ジュリエットえーんChimidoro Date, Bloody Romance馬鹿馬鹿馬鹿な世界Breath of Window: Correspondence by Animationグラマラスヒーローズドラゴンフィストラグナストライクエンジェルズダン吉島のオリムピック大会Geomeunbyeolgwa Hwanggeumbakjwi샤이닝스타: 새로운 루나퀸의 탄생!Young AshibeSekai Meisaku Gekijou Kanketsu Ban: Shoukoushi Cedie, World Masterpiece Theater Complete Edition: Little Lord Fauntleroy, Little Prince Cedie消火ロボゼウレス\\u3000ファイアドラゴンを倒せ！少女のいと魔法のいとGirls Fight, Shoujo Fight: Nora Inu-tachi no Odekake手机里的浣熊小镇 第二季手机里的浣熊小镇守护联萌ROY6之森林里的迷你你守护联萌ROY6之抱抱森林的冒险手工街笑劇 新選組しょうがっこう だいぼうけん とべ！ しょうたの かみひこうきしょうがっこう だいぼうけん ～カリカリおうじの ひみつ～翔ちゃん空をとぶ正ちゃんの冒険Transformers Short Series蔬果小镇Shinkenzemi Shogakkou, Natsuyasumi Jyunbi Daitokushu DVD, Natsuyasumi no Daibouken: Konnichiwa Arigatou Sayonara Tsu no Kotoba de Minna TomodachiThe Quiet Don, The Quietened Don识字石头娃Downtown Alien PapiPipiPupiTongue-Cut SparrowPrince ShisukonAnessa, FWB市制刷新【白猫プロジェクト】ミニアニメ ゼロキス、がんばる？シロとたけし白い本Liyon Private AcademyShiritori KingdomShirayuki-hime Licca-chanThe Unknown \"Tale of Momowarou\"しらんぷりThe Girl with the White Flagしっぱい・いっぱい・もいっかいShiogaritouge, Shiogari TougeShiohi Girls White ClamsShiodome News Zero, YuruaniLate Night! Genius Bakabon, Unagi-Inu at Night, Yoru no Unagi-Inu深夜動物園親鸞聖人と王舎城の悲劇Shinobanai! Crypto Ninja Sakuya Season 2忍ばない! クリプトニンジャ咲耶新米True Fist LegendShinkansen Henkei Robo Shinkalion: Soushuuhen - Danran!! Hayasugi-ke to ShinkalionKagaku Manga Survival新型Jii (5代目) LT-AM-3501Shine Time!しんちゃんのさんりんしゃ新ちゃんがないた！新・やらないかShin Skyer 5 Specials新スカイヤーズ5New Pro Golfer SaruNew Golden Bat, Golden Bat 2000天空断罪スケルターヘブンUtsu-musume Sayuri破滅のマルスコクハク秋のパズルABUNAI SISTERS -KOKO & MIKA-LOVE BITESLoveHuman ZooShitcomEX-ARMエクスアームSuperkid, Super KidMADONNAトゥインクル NORA(ノーラ) ロック・ミー!餅兵衛Good-bye Elvis and USALady SportsScrap Diary 3The Generation of Chaos: Prologue OVA, Generation of Chaos Prologue捜獣戦士サイキック・ウォーズしげるBORN BY MYSELFスクラップ・ダイアリーねんどのたたかい２ダークキャットパンツァードラグーンPupa (ピューパ)肛門的重苦 Ketsujiru JukeVAMPIRE HOLMESジェネレーション オブ カオス ネクスト～誓いのペンダント～天使のどろっぷHANOKA～葉ノ香～001Mori no Yousei: Kinoko no MusumePINKY（ピンキー）WITHIN THE BLOODY WOODSTen Nights of Dreams, 10 Nights Dreamsワンダーモモ水木天天故事会Silk Road Shounen Yuuto Omnibus, Silk Road Shounen Yuuto Recap, Silk Road Boy Yuto Soushuuhen, Silk Road Shounen Yuto Omnibus, Silk Road Shounen Yuto Recap, Silk Road Shounen Yuto: Toki wo Kakeru Shounen Yuto no Hyouryuu NikkiSilk Road Boy Yuto四季童年시한폭탄시간여행자 루크思凡四隻小野鴨Yi Tiao Si Yao Dai, A Silk Belt思无邪Sisomi丝路公主丝路传奇特使张骞丝路传奇大海图Crossing Chishui He for Four TimesSidian Ban, Four and a Half O\\'clock数学龙数学荒岛历险记3数学荒岛历险记2数学荒岛历险记属相记之天玉传奇しゅわわん!終末のワルキューレカウントダウンミニアニメRecord of Ragnarok Mini Anime (Cartoon Network Nite)Yuruani, Weekly Shimakou Special, Shuukan Shimakou Daikaijuu Shima Kosaku no Maki SpecialYuruani, Weekly Shimakou, Shuukan Shimakou Daikaijuu Shima Kosaku no Maki集合の考えシャッターチャンス叔叔不行鳥2叔叔不行鳥修羅がゆく说岳英雄传Speak Fruit说果雷雷Harunohi, Harunori, Harunori & IShu Ke He Beita舒克贝塔·五角飞碟舒克贝塔就活狂想曲书架上的奇妙世界水中的女孩水木中国童话之夜Shuimu Youjiao Xuetang Xilie Zhi Bai Jia Xing水木幼教学堂系列之生活小百科水木幼教学堂系列之三字经水木幼教学堂系列之千字文水木幼教学堂系列之教你做手工Shuimu Xuetang 2 Shuxue Pian, Shuimu Xuetang 2 Yuwen Pian水木学堂水木娃娃探索宇宙之谜水木娃娃十万个为什么水木开心学园水木剧场中华上下五千年水木剧场 一千零一夜水木剧场西游记水木剧场365夜故事水木儿童成长剧场水木动画学堂水木宝宝看世界水木安徒生童话故事Shui Hu, The Soccer Heroes, Revenge of The Handicapped水浒英雄列传水果勇士水果宝贝之水果总动员水果宝贝Shui De Ben Ling Da, Who is the Most Capable One水豚汤馆Shuishen WaShuimo Donghua Pianduan, Segements of Chinese Ink-painting Animation水漫金山水鹿Whose husband is the furthest away誰唱得最好蔬果王国历险记蔬果宝典蔬菜王国蔬菜精灵大冒险蔬菜不寂寞蔬菜宝宝要回家Shuang Bao Tai (1957)摔香炉帅狗黑皮刷兵男的搞笑劇場鼠老三进城记2鼠老三进城记守卫蚂蚁村兽王争锋之原石之力兽王争锋神匠之怒Battle ClawShouta\\'s SushiWinning PitcherYoung Tokugawa IeyasuShonen Santa no Daiboken, The Great Adventures of Young Santa, The Adventures of Young Santa Claus少年忍者風のフジ丸 謎のアラビヤ人形少年むくはとじゅう物語少年宮本武蔵 わんぱく二刀流A Boy Called HYoung Ashibe: Goma-chan\\'s Traffic Safety, Shounen Ashibe: Goma-chan no Koutsuu Anzen, Shounen Ashibe: Goma-chan no Dai PinchShonen Ashibe 2, Young Ashibe 2その先の旅路搜神记The Melancholy of the Legged TankSOS！超危职场人Doubutsu Kaigi, Animal Conferenceそれしか ないわけ ないでしょうそれいけ! ズッコケ三人組それいけ! サブイボマスクそれいけ! アンパンマン 勇気のほのおとクリスマスそれいけ!アンパンマン やきそばパンマンとブラックサボテンマンGo! Anpanman: Sing and Play! Anpanman and Mori\\'s Treasureそれいけ！アンパンマン たのしくてあそび ママになったコキンちゃん!?それいけ！ アンパンマン ～SLマンと星をうつそう～Go! Anpanman: Sing! Dance! Everybody\\'s Christmasそれいけ!アンパンマン リズムでうたおう! アンパンマン夏まつりそれいけ!アンパンマン リズムでてあそび アンパンマンとふしぎなパラソルそれいけ! アンパンマン おうたとてあそび たのしいねそれいけ! アンパンマン おたんじょうびシリーズみんなでてあそび アンパンマンといたずらオバケそれいけ!アンパンマン コキンちゃんとなみだのクリスマスそれいけ!アンパンマン コキンちゃんとあおいなみだLet\\'s go! Anpanman: Sparkle! Princess Vanilla of the Land of Ice Creamそれいけ! アンパンマン 消えたジャムおじさんそれいけ! アンパンマン けいとのしろのクリスマスそれいけ！アンパンマン～星空をかえせ～それいけ！アンパンマン～星の色と空の色～それいけ!アンパンマン ホラーマンとホラ・ホラコHiya Hiya Hiyariko to Babu Babu BaikinmanSore Ike! Anpanman: Fuwa Fuwa Fuwari to Kumo no Kuni, Anpanman Movie 32Go! Anpanman: Franken-Robo-kun\\'s Surprised Christmasそれいけ！アンパンマン ドロリンとバケ～るカーニバルそれいけ！アンパンマン ドキンちゃんのドキドキカレンダーSoreike! Anpanman: Christmas da! Minna Atsumare, Sore Ike! Anpanman: Uta to Ohanashi - Suteki na Christmas, それいけ！アンパンマン うたとおはなしすてきなクリスマスそれいけ！アンパンマン\\u3000～ちびおおかみと月のふしぎ～それいけ！アンパンマン ブルブルの宝探し大冒険！Anpanman: We are HeroesBaikinman Tai Baikinman!?Anpanman Movie 19それいけ! アンパンマン アンパンマンとおやくそくそれいけ!アンパンマン アンパンマンとハッピーおたんじょう日それいけ！アンパンマン ～12星座をすくいだせ～それいけ!アンパンマンのひらがなあそび はじめてのあいうえおえいがそれいけ! アンパンマン ロボリィとぽかぽかプレゼント空とぶうさぎの誘拐防止 ぼく いやだよ!そらとぶねこざかなSora No Arawashi: Sensen Manga, Aerial Ace空色花色Boys 007 Underground EmpireBoys 007 Galaxies Togetherその時君は？ －良太とピカリの地震防災学－嵩山奇缘宋代足球小将松松小镇Son Goku, Sun Wukong, Sonogong손오공과 별들의 전쟁孫悟空シルクロードをとぶ！！孫悟空の交通ルール修行中孫悟空の火の用心Something Great サムシング グレート 地図にない町染井家の火の用心 防火のてびき 家庭編Sol-lo-tal-chul-gwi, Sollotalchulgwi초합금 로보트 쏠라 원투쓰리Sophie Ruby, SopilubiSock PuppetSock Monkey wa Kimi ga Suki, Sock Monkey likes youそばかすプッチーそばの花さいた日Dokan-kun소나기スナッフフィルムSNSポリスSnowy Land스네일 맨SMAPコンサート アニメSLIPPY DANDYスカイヤーズ5 EXシッタカマン！SiroMovieSiNKXin Ba Gou He Ha Mi Tu신비아파트 특별판: 조선퇴마실록Sinbi Apartment Christmas Special신비아파트: 하리의 특별한 하루Sinbi Apartment: Ghost Ball Zero Second Season신비아파트 고스트볼 ZERO신비아파트 고스트볼Z신비아파트 고스트볼 더블X신비아파트: 금빛 도깨비와 비밀의 동굴신비아파트 스페셜 다시 만난 철궁이와 철원 월정리의 전설신비아파트 스페셜: 철원의 숲속 퇴마사, 철궁이신비아파트: 부기의 발명품을 찾아라!신비아파트 특별판: 빛의 뱀파이어와 어둠의 아이신비아파트 극장판 하늘도깨비 대 요르문간드신비아파트 극장판 차원도깨비와 7개의 세계Sinbi Apartment Pilot辛巴达与美人鱼公主The Adventures of Sinbad 2013The Adventures of Sinbad 2Sim-gyeong隋唐英雄传Takehito Koyasu The AnimationSinoseuton, Syno Stoneシンデュアリティ科学講座シナぷしゅ THE MOVIE ぷしゅほっぺにゅうワールドSylvanian Families: Mini Story - Ivy, Sylvanian Families: Mini Episodes - IvySylvanian Families: Mini Episodes - Peony, Sylvanian Families: Mini Story 4th SeasonSylvanian Families: Mini Episodes - Clover, Sylvanian Families: Mini Story 3rd SeasonSylvanian Families: Mini Episodesシルバニアファミリー フレアのハッピーダイアリー 特別編「バースデイプレゼント」Sylvanian Families: Freya\\'s Happy Diaryシルバニアファミリー フレアのゴー・フォー・ドリーム！劇場版 シルバニアファミリー フレアからのおくりものシルバニアファミリー ミニ劇場～思いがけないお客様～SWEET TOUCH OF LOVESuzu Santarouすてき！さくらママFight Tension☆SchoolSusie-chan & MarvySushi Police Gekijou Koukai-banSushi SealNusheng Sushe Richang 3, Girls\\' Dormitory Life 3, Su She Bu Ri Chang, Nu Sheng Su She Ri Chang 3rd Season, 女生宿舍日常 第3季Surfside High School, Surf Side HighschoolSyupeoteulonSuper Moon극장판 슈퍼윙스: 맥시멈 스피드Ronin Mecha 4: Wonder of FrontierSyupeotogtogSuper Three Musketeersスーパー マリオの交通安全Syupeohaemseubaendeu, 勁爆倉鼠樂隊숲 속 친구 스토니즈锁龙谷すのこタン。プロモーションアニメ孫行者傳孙悟空与唐老鸭SUMMER TIMEスミ子 (2014)スミ子すみっこのこすみっコぐらし そらいろのまいにちSumikko Gurashi: The Patched-Up Toy Factory in the Woods苏琳娜奇遇记すこやかな歪みスッキリ!!×映画ひみつのアッコちゃんSukekiyo × The Zemeckises Collaboration CMスイソウThe Fourth of the Narcissus MonthSuijun-gentenスーサイド・スクワッド×鷹の爪岁城璃心-鬼蜮咒原Sugar Bunnies ep 27Sugar Bunnies Fleur ep 27, Sugar Bunnies Fleur Recap, Sugar Bunnies Fleur Tokubetsu-henSugar Bunnies Chocolate! ep 27, Sugar Bunnies Chocolate! Recap, Sugar Bunnies Chocolate! Tokubetsu-hen菅井君と家族石 THE MOVIE菅井君と家族石Wonderful World Travel, Computopia: A Tale of the Year 2000 A.D.Subarashii Sekai Ryoko: Alaska no Tabi: Oaigo Hyogaki, Wonderful World Travel: Alaskan Journey: Fifth Ice Age宿身小人ストレイシープの大冒険ストレイシープ ポーStory of Krishna스톤에이지: 전설의 펫을 찾아서Huoxian Zhan Jing, 火线战警STEAMOStar Ocean: Anamnesis - Twin Eclipse, Star Ocean: Anamnesis - The Leash Code星卡梦少女1花语笔记STAND BY ME ドラえもん쓰레기의 섬スパイペンギン ｢ホワイトクリスマス｣スパイペンギンSpy Destructionスプリンパン 前へすすもう!スプーンひめのスイングキッチン스푸키즈스푸키즈 극장판 : 비밀과외스푸키즈 시즌4스푸키즈 시즌3스푸키즈 시즌2スポGOMI まちの絆づくり編スポチャン対決~妖怪大決戦~辣糖甜心, La Tang TianxinスパイシーボーイZスパイシーボーイミニスパイシーボーイスペアイSpace Dreamers 宇宙兄弟 南波六太がやってきた！스페이스 동의보감 2스페이스 동의보감Floating World창조적 진화, Changjojeog JinhwaSoya Monogatari草太の誓い－差別に負けない力－Yowai 5000-nen no Soushoku Dragon, Iwarenaki Jaryuu Nintei Chokotto, 齢5000年の草食ドラゴン、いわれなき邪竜認定 ちょこっと総務部総務課\\u3000山口六平太\\u3000裁判員プロジェクトはじめますSoukou Kihei Votoms: Case,Irvine Picture DramaHero AhooThe Frogman Show, Eagle Talon, Himitsukessha Taka no Tsume, Town Work x Taka no Tsume淘气包马小跳극장판 타오르지마 버스터 - 블랙어썰트의 귀환타오르지마 버스터桃蛙源記Naughty Golden Snub-nosed Monkey淘动画片Tanukichi\\'s Storyたぬきさん大当り「タヌキとキツネ」コミックス第5巻発売記念アニメーションRaccoon Dog and Fox Specials探偵少年カゲマン坦坦小动员探索地球村The Seasons, Eaten Up Planet, Insane IceFun Arithmetic楽しい学校生活たのしいえかきうたたのしい文明史 鉄ものがたり歎異抄をひらくTang Poetry Story糖果太空遨游记之星球重塑糖果太空遨游记之能量之星糖逗娃娃If Winter comes, can Spring be far behind?七夕ものがたり探长奇奇探探猫奇妙世界 第二季探探猫之奇妙世界探探猫之奇幻马戏团2探探猫之奇幻马戏团Tamagotchi! Tamatomo Dai Shu-GOたまごっち！スペシャルDVD マクドナルドハッピーセットTamagotchi Eigaたまごっちホントのはなしたまごにいちゃん玉川兄弟Tama & Friends: Search for It! The Magic Puni-Puni StoneタルピーたこるTVたこる・ザ・ムービーLottery x Rope, Kamiusagi Rope 5 ONA, Kamisusagi Rope Takarakuji Collaboration鷹の爪団、富山鷹の爪団の 行け！ＯＤＡマン鷹の爪 吉田くんの×（バッテン）ファイル～夏休みミステリー・アドベンチャー～Taka no Tsume x Megane Super Prologue, Taka no Tsume x Megane Super Prologue, Megane Super x Taka no Tsume - Eyecare Samurai vs Mononoke DX Fighter Saishuu Kessen! - Fukkatsu no ATaka no Tsume x Johnson, Tatakae! JokinTaka no Tsume GO: Yoshida, Himitsukessha Yamerutteyo.Eagle Talon Movie 8TAIYO KIKAKU’s 49th Anniversary MovieSon of the Sun太阳使者太陽留住我Tai Yang De Xiao Ke Ren, The Little Guests Invited by the Sun太阳宝贝之成语新说Taiman Blues: Shimizu Naoto Chapter太空学院Space Panda 2Space Panda Hero Returns, Space Panda 3太空熊猫英雄诞生Space Panda太空嘻哈族太空特警Space Adventures, Star Field War Record Astro Plan, Xingyuan ZhanjiTaiko no Tatsujin Anime Ba Ji Yon!Taiji Xiaozi太极蝌蚪成长记之拜师习武篇太湖少年Rainbow Across the Pacific Ocean太古星神诀太公奇书たいふう14号Taichi Panda, Taiji Xiongmaoタイバン!Tai Yi Xian Mo Lu Zhi Ling Fei Ji 4th SeasonTai Yi Xian Mo Lu Zhi Ling Fei Ji 3rd SeasonTai Yi Xian Mo Lu Zhi Ling Fei Ji 2nd Season太乙仙魔录之灵飞纪Tai Lv太姥娘娘与白茶仙子泰极熊太昊伏羲Tangoo & UllashongTaegwon-wang GangtaepungTaekwon Boy Maruchi Arachi, Maruchi and Arachi耐え子の日常Taeko\\'s Everyday LifeTaekwon Boy White EagleTaeilたちゅまる劇場旅立ちの日にTabi Hani足袋の季節たべたのだあれMinna no Taai no Ryuuguusei Dai Tanken, Minna no Taai no Ryuuguusei Daitanken, Taabou no Ryugu Hoshi Dai Tankenたあ坊のガンバル宣言Tii SenseiT-レックス天才？Dr.ハマックス甜心格格 第2季甜甜圈宝贝之赛车小镇甜甜圈宝贝之蜜蜂花园甜甜圈宝贝之功夫学院甜甜圈宝贝之飞行乐园天天好习惯Tiantian Hao Haizi天书奇谭Tianqi Ri天狼战记Sky Kids天降大任Tiancai Zaji Yanyuan, The Talented Acrobatディス イズ マイ ハウスザ☆ドラえもんズ ミステリーX\\'マス大作戦スッキリ!!・クロラThe Snack World Short Movie 2スナックワールド (TV)The Snack World Eiga, The Snack World Movie古惑香蕉頭Mad Max: Fury Road Parody FilmTHE・MOBThe Midnight Animals淮南子传奇Huainan Zi ChuanqiThe かぼちゃワイン おれとあいつの新婚旅行!?THE IDOLM@STER SideM Wakeatte Mini!The House of GreedAzur Lane The Happy Dormフルムーン伝説 インドラ잊혀진 황녀는 평화롭게 살고 싶어75回広告電通賞のザ・ボタンArari Syo, Surviving in Korea, Arirang, Homey Korean더 앵글러THE3名様 アニメはアニメでありっしょ!That\\'s Hanakappa Musical - Bread or Rices, which one is it!?手塚治虫の宇宙 W3（ワンダースリー）〜銀河連盟の使者〜手塚治虫物語Osamu Tezuka Tribute鉄腕アトムと探ろう! 土星をまわる神秘の星タイタン鉄腕アトムの交通安全Beyond the Train Tracks鉄人28号ガオ!Kanahiru The Iron BoyTesagure! Bukatsumono Spin-off Purupurun Sharumu to Asobou Picture Drama Specials테라리움 어드벤처Ginnagashi: Strange Tales of Terajima Districtてっぺん転生前の竜馬と田淵Tensai Eri-chan Kingyo o Tabeta天才バカヴォン ～蘇るフランダースの犬～アッホーヤッホースキーなのだ!てんまのとらやんThe Transfer Student is a Certified Public Accountant!天気になあれTenka wo Mezashita 3-ri no BushouTenka Touitsu Koi no Ran: Shutsujin! Sanka Yoninshuu天に焼かれる ～絵による証言～텔레몬스터手品師テイコウペンギン特工兔之新的冒险特工兔之神秘的网站Jungle Agent手紙Toys WarTec & Her Pets特别车队ティーチ티티 체리 스페셜티티체리缇可之冬季篇特功明星tayutaumKkoma Bus Tayo Ace Guchuljakjeon 2: Tayo-ui Jangnangam EodeubencheoTayo Dino Kingdom, Tayo-ui Gonglyong Eodeubencheo戯れ子ばこタツノコプロ×Peeping Life戦え! オスパーTatakae! Chou Robot Seimeitai Transformers Victory RecapsTata Tu Ran Xiang Dao Second Season獭獭突然想到Ta Ta He Jia Jiaたっちゃん・ももちゃんのふしぎなたいけん多数欠 -Judgement Assizes-たすけあいの歴史 ─生命保険のはじまり─Taro Wanted to Become Water, Taro Wanted to be Waterたろうのともだちたろうのおでかけ太郎の番兵 潜航艇の巻淘气星猫第二季淘气星猫淘气毛毛王淘气化学婷婷知识城堡历险记トンボになったヤッちゃんとなりのトコロLittle Tamageta, the Neighborトントンあったと にいがたの昔ばなしTao Mi Donghuaトモヤ!Hoshi ni Negai woとも子ちゃんとわたしともだちみーつけたHirake! Ponkikki: Tomodachi de Iyou neともだち8にんトミカハイパーシリーズ NEXT STAGEMobile Emergency Police Movieトミカヒーローズ ジョブレイバー 特装合体ロボOpening Ceremony,Hellmarathon Women,Brancer,Baka Modern Tetrathlon,Homeathlon,Watakkyu,Doping Freestyle,Locker Room,Independence Men,Ironball Throwing Men,Samurai Call,Humanism Men,Giant Sumo,The Race for Love,Animal Lifting,1000 Characters SMSingtokyo未完成東京大空襲 あおよかえってこいTokyo 7th Sisters: Bokura wa Aozora ni Naru: Manner MoviesJ. Walter Thompson Japan LLCTOKYOGekidou no Powered Armor, Powered Armor vs. Micro Burtharker, Endless Summer, Hoshizora no Illusion徳川家光と江戸幕府とこちゃんちょっきんTokyo Heidiときめきに死んだ恋人よNipponia-Nippon into the Future from this EarthShuiro no Youma, Shuri Iro no Youma, Scarlet DemonToki Doki都会のブッチー토닥 토닥 꼬모Ttobos V, Tobot GDとびだす おじゃる丸3D マロは王さまとびだすな！ パンダちゃん3D Picture Bookとびだしちゃダメ！とびだしはあぶないぞ！\\u3000むしむし村の交通安全とびだせ!!バディくんJump Out! Machine Hiryu, Jump, Dragon Car, Take Flight! Machine Hiryu, Tobidase! Machine HiryuKyuushoku Center no Akka Shita Ningen Kankei, Koushuudenwa Robo no MukashibanashiDejisuta TeensJump Out! Batchiriとべないホタル翔べ! ペガサス 心のゴールにシュート烟草雲띠띠뽀 띠띠뽀 3띠띠뽀 띠띠뽀 2Titipo and Friends, Titipo & Friends, Titipo-wa Chingudeul Titipo Titipo踢踢和奇奇之魔力课堂Taiya Kanタイムスリップ島耕作タイムスリップ1923\\u3000守のミラクル地震体験タイムレンジャー セザールボーイの冒険 ローマ帝国編タイムマシンタイガーマスク パイロットフィルム铁血杨家将铁甲威虫之骑刃王Sea of the Ticonderoga, Ticonderonga no Iru Umi缇可之暑期的地球危机缇可夏季篇缇可讲故事缇可冬季篇缇可春季篇Tick and Tack, Tic and Tac, Tic & Tac, Chikkun Takku, Chikkun Takkun跳跃战士 番外篇Tiaoyue Zhanshi 2nd Season跳跃战士调味公寓之小生活大道理调味公寓田园小精灵天眼智战天眼有奇招天眼小神童天眼归来天外福星之赤剑传奇天天笑Happy EverydayTian Tian Jia Yuan天天成长记 第四季天天成长记 第三季天天成长记 第二季天天成长记天上掉下个猪八戒甜蜜特攻队天池水怪天才联盟Genius InventorTianzhen Yu Gongfu waRevelation 2nd Season天有凡童天眼神兔天眼神牛天眼神虎The Tale From The OrientTian Xin Ge Ge Environment Protection SeriesTian Xin Ge Ge Chinese New Year Special甜心格格 第五季甜心格格 第四季Tian Xin Ge Ge Di San Bu, Ori Princess 3rd seasonTong Ge Wawa Zhi Dou Hei Feng GuaiMoonlit Night and GlassesTsukiuta. The Animation 2 OmakeCommuter Great War月とあざらし月の娘Doutoku Meisaku SeriesTsuji Tsuji Sensha対の羽つぶやき隊つぶやき隊×大人の胃トゥルーノースTRIP!-TRAP!トレジャーガウストTransform劇場版 トレインヒーロートレインヒーロー 本日もスピン・アウト！ インドネシア編トレインヒーロー 本日もスピン・アウト！トレインヒーローとうさんまいごタッチ とびだしはアウトだよ偷星九月天之侦探学院偷星九月天之童年故事He Is Always The Hot Topic, He Owns The Headlines, The Headlines Are All About Himとっても たのしい クリスマス みんなで ちからを あわせようととのえ！サクマくん by &saunaToruru\\'s Adventure鳥の街Toli Go! Go!トラとミケ特攻服(とっぷく) 狂走曲ToryansePeak Games殿さまの茶わん童子传奇之招财岛总动员童子传奇之吉祥中国童子传奇之大闹招财岛童子传奇童声童气看世界Hong Mao Lan Tu: Tonghua Wangguo Lixian Ji童话梦工厂童话动物园铜鼓奇缘铜鼓传奇とんがり頭のごん太~2つの名前を生きた福島被災犬の物語~トントン・ユウユウの交通安全トントン・ユウユウの火の用心豚鼠学堂之成语故事うどんとホタルUda Uda Yatteru Hima wa Ne!우당탕탕 재동이네우당탕탕 아이쿠宇宙人ピピYamato III: Destruction of the Solar System, Yamato III Compilation Movie, Space Battleship Yamato III Summary EditionYamato 2 Complete Edition, Yamato 2 TV Special, Yamato 2 Compilation Movie宇宙船地球号ＳＯＳ\\u3000～鉄腕アトムと考えるみんなの未来～Space Patrol Hopper: Space Boy Jun, Uchuu Patrol Hopper Uchuukko JunUchuu no Kishi Tekkaman Blade II Special, Uchuu no Kishi Tekkaman Blade II Recap宇宙なんちゃら こてつくん\\u3000プラネタリウム宇宙なんちゃらこてつくん宇宙防衛隊たあ坊の時の止まった星宇宙防衛隊たあ坊のしんきろう星を救え!宇宙エースうちのウッチョパスEiga Uchi no 3 ShimaiUtchare GoshogawaraU.F.OMake a U-turn While You Are Young!ツーちゃんといっしょに見ようTwo RoomsAlways Two of UsNishi Manrui, Two Out, Bases LoadedTwin Bee Paradise Special Drama: Fantasian Everyday, Tale of the Tulip SeasideThe Firefox of Bunnington BurrowsGonfu Tu Xilie 2: Tuzi Nali Pao兔子茉莉兔子贝贝Tuzi Bang 3rd Season兔子帮 第二季兔子帮兔兔之真假公主兔兔之神奇蘑菇Bunny Crisis图腾领域 第2季图腾领域Nalong: Fly to the SkyTurquoise Blue HoneymoonTurning Mecards W: Secret of Vandyne터닝메카드 W 반다인의 비밀Turning Mecard W: Resurrection of the Black Mirror터닝메카드 R拖拉机司机托雷的玩具城豚鼠之十万个为什么豚鼠镇乐趣三字经豚鼠镇快乐生活之谚语乐园豚鼠镇户外安全及自救自护系列豚鼠学堂之吉木百科常识豚鼠小镇之乐游大世界豚鼠万答豚鼠家庭校园安全系列豚鼠部落吞噬永恆豚宝与波杜 第四季豚宝与波杜 第三季豚宝与波杜 第二季豚宝与波杜土楼探险之牛牛和妞妞土豆侠土豆来了土豆多励之一梦一路튜브 엔젤团子们的使命兔小贝之神奇的大自然兔小贝之动物奇缘兔小贝寓言故事兔小贝幼儿古诗（启蒙版）Tu Xiao Bei Xiaoxue Gushi (Er Nianji), Tu Xiao Bei Xiaoxue Gushi (Yi Nianji)兔小贝数学启蒙（第1阶段）兔小贝数学课堂兔小贝十万个为什么兔小贝儿童故事兔小贝公益广告兔小贝成语学堂兔小贝成语故事兔小贝安全教育动画Tu Xia: Qing Li Chuanshuo兔侠传奇学武篇土红色的骆驼Fashit兔博士与小金豆土拨鼠的生活兔宝宝与狐星星兔宝宝和三件神奇宝贝General Ttoli: 3rd Tunnel, General Ttoli: Third TunnelWandering Kkachiつづきを考える物語Tsuyu no Hito Shizuku: Ueda Shouji no Shashin Sekai wo Samayouツヨシしっかりしなさい ツヨシのタイムマシーンでしっかりしなさいTsushimamaru: Goodbye, OkinawaNesting Cranes, Cranes in their NestsFishing Fool Diary, Diary of a Fishing FoolAnimal Leadつむりん\\u3000ころころやまのだいぼうけんTsumurin: A Story About Going to Give a Gift to Master Funkoro筑紫の磐井RattenjaegerThe Emperor of Myriad Realms 2nd Season, Myriad Realm Supreme 2nd SeasonWandun Shuiya Ji Zhan\\'ge, The Battle Song of  the 10000-ton Water  Hydraulic Forging Press瓦洛兰小镇WallsZombieWelcome to Convenience Store!わくわくおぼえるDVDWaku Waku Koma-chanわくわくはくぶつかんアドベンチャー若者・現代・公害Wai Xing Ren Xiao Nao Nao外滩520外星兔棒棒Wai Xing Ren A Guo Season 4Wai Xing Ren A Guo Season 3Wai Xing Ren A Guo Second SeasonWai Xing Ren A Guo外星大草原歪说四大名著之歪说红楼歪毛和噪声와글와글 꼬꼬맘我が家の交通安全 父との約束Wa Wa Wa Wappi-chan Dai 2 Series, Wa-Wa-Wa Wappi-chan Dai 2 Series, Wa-Wa-Wa Wappi-chan 2nd SeasonWa-Wa-Wa Wappi-chan蛙蛙魔法学校W ProfessorsVOYANTビジター비디오 레인저 007Sekai no Otogibanashiビデオ絵本 日本昔ばなしVicky & Johnny, Vicky wa Johnny, Bikiwa JoniThe Rose of Versailles: Portrait of a Burning RoseVampiyan Kids Episodes 22, 23, 24, 25 and 26, Nanchatte VAMPIYAN, Vampire KidsVampiyan Kids ExtraVALIS the ANIMATIONうずらちゃんのかくれんぼうわの空からかえってくるうわばきクックのテキトー占い!うわばきクックUtsurundesu.美しいメッセージ美しい地球をよごさないで歌うサッカーパンダ ミファンダうたってあそぼ!ゆかいなえかきうた ワクワク編うたってあそぼ!ゆかいなえかきうた はじめて編ウソップ物語うしわかまるうしろのせきのオチアイくん心霊恐怖レポート うしろの百太郎うさまるウサハナ 夢見るバレリーナうさぎと亀の交通安全うさぎのマシューUrikupen\\'s Rescue Patrol, Uriqpen Kyudota, Uriqpen Kyuujotai, Urikupen Kyuujo Tai, Uriqpen: Animal Rescue League, Jungle TalesuranofウラコンIII オープニングアニメーションウラコンII オープニングアニメーションユーピーオーUP喵植物科普第2季 (阿普喵植物科普)UP喵植物科普 (阿普喵植物科普)雲梯うんたろう たびものがたりunpiShit Naive Schoolunion unionUni Mini PetユニコーンのキュピMusculoskeletal Screening Manual Corresponding GymnasticsEondeodog, The Underdogundercurrentアンダー・ザ・サン움직임의 사전うみうし姉妹劇場～七夕編～うみのむかしばなし海のコウモリ海の事件事故は118番Umi da! Funade da! Niko Niko Bun梅四エッキスウメ星デンカ 宇宙の果てからパンパロパン!アンブレラ ファイター！ウルトラマンキッズの消防隊ウルトラマンカンパニー우리는 명탐정Uli Sai Jjang IyaUlichingu KkachiUkkari Penelope OVA, Carelessly Penelope OVA, Absent-minded Penelope OVA, Head in the Air Penelope, Pénélope\\'s Christmas Party, Pénélope no Christmas PartySpree Violin, Merry ViolinSpaceBoy CacheSpace Captain CyclopeanSpace Soldier Hong GildongKyoto Animation × Murasaki Shikibu Yukari no Machi Uji PR DougaMoving Picture Book: Miyoko\\'s StoryうごくえほんＵＦＯ国の交通安全わすれるもんか！Women de Jiayuan我们的冬奥Women ai Nongcun, We Love the Countryside我靠充值当武帝 第二季我叫鸡小贱我叫MT之山口山战记Wo Jiao MT: Gui Lai, My Name is MT: The Return我叫MT第六季我叫MT第五季我叫MT第四季我叫MT第三季我叫MT第二季My name is MT我叫碧云桃我家业主会作妖My Big Brother Has a Hole in His Head SpecialMe and the Magnet and A Dead Friend我的小小美猴王My Three Body Chapter Beihai BiographyMy Friend Dezico, Wo De Pengyou Zhu Dike我的朋友小海豚我的冒险世界 第二季我的冒险世界我的邻居全是猫My Wife\\'s a Cat我的好朋友左左我的爸爸是国王我错了我从诸天万界归来ウィッチ ヴィレッジ ストーリーWhite Fireworks温州那些事Went to the StrayKids Concert!Weng Zhong Zhuo Bie, Capturing the Turtle in a Jar卫浴也疯狂Wei Qi Shao Nian 2未来媳妇本地郎尾巴梦幻曲之百科150问Tail Fantasy威威猴之青春防线魏晋小剧场维将Shikijou Sagashi ni Iku-pa!, Let\\'s Go Looking For a Wedding Venue!-paWe are…Hanhwa Eaglesわざぐぅ!VSでんぢゃらすじーさん邪 抱腹絶倒!アニメクイズ私たちの未来Civil Engineering and Our Lives, Watashi-tachi no Kurashi to Doboku Series私の沼わしもスペシャル 地球のミライを救え! わしもvsワシジャWasimo 9Wasimo 8Wasimo 7Wasimo 6Wasimo 5Wasimo 4Wasimo Third SeasonWashimo Second Season, Wasimo Second SeasonNotre Chambreわれしょ!～我ら!小動物愛護委員会～われらサラリーマン党笑う月School of Show Laughterワオっち！ショートアニメワオくんのはねわんわんわんコインわんわん火事だわん万寿岩历险记顽皮福多顽皮的小星猫顽皮的科学完美之城：最勇敢的小孩完美之城：妈妈完美世界双食记わんころべえPlaythings Family万花筒里的世界Wanhua MirrorWangzhe? Bie Nao! ExtraWangzhe? Bie Nao! 2nd Season Extra王者？别闹！第二季王者? 别闹!万古狂帝王牌二哈Empress Chung旺仔全知道Wangzhe Wai Chuan王兄李兄没完没了的故事 番外王兄李兄没完没了的故事魍神之夜王七到此一游望儿山网Wakate Animator Ikusei Project万万千千为什么玩偶奇兵ディア・スクワッド, 無敵鹿戰隊喜羊羊与灰太狼之漫镜头喜羊羊與灰太狼之媽媽樂瘋狂喜羊羊與灰太狼之懶羊羊當大廚喜羊羊与灰太狼之筐出未来Pleasant Goat and Big Big Wolf: The Legends of the Sports Heroes, Xiyangyang Yu Huitailang Zhi Yundong Yingxiong Chuan喜羊羊與灰太狼之跨時空救兵喜羊羊與灰太狼之開心日記喜羊羊與灰太狼之開心方程式Pleasant Goat and Big Big Wolf: Ultimate Battle The Next Generation (Mighty Little Defenders 4)喜羊羊與灰太狼之競技大聯盟喜羊羊與灰太狼之給快樂加油喜羊羊與灰太狼之發明大作戰喜羊羊與灰太狼之奇思妙想喜羊羊Xi Xing Ji 5th Season, Journey to the West, Westbound, Westbound Discipline, 西行纪 第五季西行纪之狂王西行纪之暗影魔城嘻笑一家亲QiQi KeKe: Xi Mu Ba Long Jiazu西行总动员之楼兰传奇Xigua Pao, Watermelon Cannons细哥细妹之开心乐园Xi Bai Po: Wang Er XiaoXibai Po, XibaipoゼビウスX Maiden SpecialsFive Philosophies五子炮之渊子崖保卫战武装精灵屋檐下Why Is the Crow Black-Coated, Wu Ya Wei Shen Mo Shi Hei DeWu Xian Shao Nu 48: Infinite, INFINITE SNH48武侠列传無瑕巫婆、鳄鱼和小姑娘乌龙院之活宝传奇 第二季The Wolo Family: Save The ElfWulin Waizhuan Donghua Ban武林不二周刊Wuliao Shi She Specials无聊诗社 第二季 番外篇无聊诗社 第二季无聊诗社悟空奇遇记无敌优优无敌小鹿之安全成长无敌小鹿故事篇无敌小鹿 第3季无敌小鹿 第2季Deer Run武当虹少年2Rainbow TeenageArc of War, Martial Mecha SagaNo League No Legends五水奇缘明珠传武双姝乌士儿和平平God of War Kuan Kuong无人岛大冒险乌龙小子之勇闯乐活岛乌龙小子无料快活烏蘭其其格Monkey King vs. Er Lang Shen吴健雄误闯隐形岛无不想Wrestler Corps Commander Holy Warrior Robin Jr., Wrestler Gundan Ginga-hen, Holy Warrior Robin Jr., Gundan Seisenshi Robin JrワールドヒーローズワーキングボーシーズウーとワーLittle Bebil in Wonderland원더볼즈2WondeoboljeuWonder Three Pilot我们小孩有力量おんなWolfgang the Sonic ShowWo Zhi DaoWo Zhen de Mei Yong Mie?我与拉拉我要回家我要打鬼子Music Up! I\\'m Back!, Music Up: Reborn, Wo Wei Ge Kuang Zhi Xuan Lv Chong QiCrazy for the Song, Music Up!Peeden我是隻小小鳥我是学校唯一的人类我是王者我是哪吒2之英雄归来I Am a Wolf我是发明家Happy Panda 2: Panda Hero LegendHappy Panda我是不白吃我是缤果我是霸王龙我们的朋友熊小米小伴龙故事小鸡鲁比小鸡彩虹小鸡不好惹之咸蛋寺Chiken Stew小糊涂神小狐狸发明记Xiao Hu Li, Little Fox小黄鼬的故事小花仙剧场版 Special小花仙 第5季 四时花语 春夏Flower Angel 4Flower Angel 3Flower Angel 2Flower Fairy小虎墩大英雄小猴与白胖小红脸和小蓝脸Xiao Heshang: YoufangsengXiaohao Shou, The Little Trumpeter小狗皮皮小狗多比小公主艾薇拉与神秘王国2小公主艾薇拉与神秘王国Xiao Ge\\'r Lia, Two Little BrothersQ夫子之奇域大冒险小飞机卡卡小凡工作记小發明家Little Goose and Red House小钉子笑掉江湖Little Eggshell小刺猬蓝豆豆小厨神逗逗小虫三宝小虫乐事Brainy Bubbly Bug Buddies小超人队Little Straw Hat小仓鼠笛笛的吃播日常Little Tailor小布吉Xiaobing Zhangga小贝流浪记小伴龙细菌大作战小伴龙数学思维启蒙小伴龙昆虫百科小伴龙户外安全课小伴龙好习惯培养小伴龙海洋百科小伴龙爱探险The Little Eighth-Route SoldierXiao Baige, The White Dove小八戒仙子森林的美丽秘密向著明亮那方襄阳萌物语乡土童年红旗渠橡树餐厅橡皮泥小镇香菇特勤队之英雄归来香菇特勤队之逆袭香菇镇香菇特勤队之胡萝卜入侵香菇特勤队之果蔬小英雄香菇特勤队之钢铁星球的秘密香肠派对巷食传说向钱冲，向前冲象虎Is It an Elephant or Not?Immortal Reverence Dad, The Love Story of My Immortal Dad, Immortal Deity Dad咸鱼哥 特别篇咸鱼哥 第二季咸鱼哥Immortal TombFairy and Swordsman: Magic Mirror仙布传奇厦门之夏峡谷重案组 第二季夏小兜夏桥街Xiagu Zhong An Zu夏虫国喜乐会西游记之七十二变喜羊羊與灰太狼之原始世界歷險記喜羊羊與灰太狼之異國大營救喜羊羊與灰太狼之衣櫥大冒險Pleasant Goat and Big Big Wolf 2nd Season喜羊羊與灰太狼之羊羊小偵探喜羊羊與灰太狼之羊羊小心愿Pleasant Goat and Big Big Wolf 3rd SeasonXi Yangyang Yu Hui Tailang Recap喜羊羊與灰太狼之羊村守護者喜羊羊與灰太狼之嘻哈闖世界Around The World in 20 Days喜羊羊與灰太狼之深海歷險記喜羊羊與灰太狼之奇趣外星客喜羊羊與灰太狼之奇幻天空島小鼠和大象的创意小邑时空传Xiao Yan Zi, Little Swallows小羊多莉 第二季小羊多莉小鸭啾啾小鸭呷呷 (小鸭嘎嘎)Xiao Xiong Mao Xue Mu Jiang小熊买瓜小熊的旅行小星星花店小星猫魔幻乐章 第二季小星猫之魔幻乐章小星猫和闪闪小星的中国名著之旅Xiao Xi Liu, Little Stream小小聪明星小小智慧屋Xiaoxiao  Yingxiong, A Little Hero小小律师孝孝龙奇幻记小小机器人之战神突击小小机器人小小画家熊小米动物篇小小画家熊小米小小画家小小逗乐园小小大英雄毛毛王孝贤闵子小悟空Little Prince Potato小玩皮小兔侠之功夫学校第二季小兔侠之功夫学校小兔淘淘的故事·不怕冷的大衣小兔黛米小兔班弟之星际奇旅小兔班弟之海岛探险记小兔班弟之返航总动员小兔班弟2小兔班弟Xiao Tie Zhu, Little Iron Pillar the  Boy小天使与BOSS张小太極Xiao Ta Lixian Ji Zhi Jiyi SenlinLittle Squirrel Barber小宋当家小鼠乒乒之成语大典小鼠乒乒小鼠罗夫挑战记小狮子赛几 第2季小狮子赛几小师爷课堂之养生篇小师爷课堂之文明篇Xiao Shizhu, Little Stone Pillar the Boy小神仙和小仙女小瑞与大魔王之神奇的魔盘小瑞与大魔王之快乐擂台小瑞与大魔王之快乐家族小瑞与大魔王之家族使命小瑞与大魔王之大魔王的阴谋小瑞与大魔王小青天司徒公小普林变变变小破孩有内涵小破孩大状元小破孩Xiao Peng You Men (1958)Fatty Girl小牛向前冲小男生阳帆小明星小米酒大陆游历记小美人鱼之大海怪传说小美人鱼的奇幻冒险Star Ant: Global Adventure小猫汤米第二季小猫汤米Barkley The Cat小马过河小马虎小马菲莉之缤纷仙境 第2季小马菲莉之缤纷仙境小萝卜头小绿和小蓝 第五季小绿和小蓝 第四季小绿和小蓝 第三季Xiao Lin Ri Ji, Xiao Lin\\'s Dairy, Xiaolin\\'s DiaryXiao Lin GongfuLittle Hakka小凉帽2之魔法凉帽Xiao Li Yu Tiao Long Men (1958)The Koi Fish in love with the Cat Fairy小喇叭之探险奇遇小恐龙寻根历险记小精灵灰豆小濟公小戒别淘气Battle of the Chicken小鹿杏仁儿之暖萌小剧场心奇爆龙战车2之机甲战龙新木偶奇遇记新麦圈可可美食天下 第2季新麦圈可可美食天下 第1季新葫蘆兄弟New Minesweepers Warfare: Courageous Boy新地道战2之父子奇兵新地道战新的征程新大头儿子和小头爸爸之年的味道新大头儿子和小头爸爸之秘密计划新大头儿子和小头爸爸之梦幻乐园奇遇记新大头儿子和小头爸爸之马年新愿新大头儿子和小头爸爸之福鼠送吉新大头儿子和小头爸爸 除夕·白夜城新大头儿子和小头爸爸传奇兜兜新大头儿子和小头爸爸之超能爸爸The New Big Head Son and Small Head Dad: Grassland of AdventureNew Big Head Son and Little Head Dad 6th SeasonNew Big Head Son and Little Head Dad 5th SeasonNew Big Head Son and Little Head Dad 4th SeasonNew Big Head Son and Little Head Dad 3rd Season新大头儿子和小头爸爸3：俄罗斯奇遇记New Big Head Son and Little Head Dad 2nd Season新大头儿子和小头爸爸2一日成才New Big Head Son and Little Head Dad 1st SeasonAll New Jackie Chan AdventuresLegends of West Lake嘻哈游记Super Bear稀饭寓言稀饭十万个为什么谢谢小花猫侠义小青天下田去校园三剑客校园奇异事件簿逍遥游世界小熊优恩小熊尼奥之梦境小镇小熊尼奥之环球旅行小童猫之喵星来客消失的文明小强一家小品一家人之爆笑校园篇孝女曹娥Ming and King Cat小米的森林小梅的梦Xiao Mao Diao Yu, A Fishing Cat, Kitty Goes Fishing小鹿杏仁儿 第二季小鹿杏仁儿小龙万迪之欢乐校园小龙甜品工房小龙丘丘Xiaolong Da Gongfu Zhi Shenlong ZhanduiXiaolong Da Gongfu小龙阿布Xiaolan FriendsXiaokang Laile小康康小虎还乡小虎大管家Xiao Hu Ban BanXiaohe Li Bei WaXiaofang Cities小豆派派之文字王国历险记Xiaodou Pai Pai Zhi Qingshang Pei You小丑牛小不点小兵杨来西小兵的故事 第二季小兵的故事小包变形记小主人之正义联盟第二季Xiao Zhuren Zhi Zhengyi LianmengA Fairy Tales of Tibet, Xiao Zhuo Ma小猪歪歪Little Piggy Heng HengThe Adventures of Little Piglet Banna小猪班纳3小猪班纳2小猪班纳小智慧国学课堂之中华名人故事小鱼人莫叽姆斯一家小鱼人莫叽姆斯一家 第8季小鱼人莫叽姆斯一家第七季小鱼人莫叽姆斯一家第六季小鱼人莫叽姆斯一家 第5季小鱼人莫叽姆斯一家 第4季小鱼人莫叽姆斯一家 第3季小鱼人莫叽姆斯一家 第2季小鱼儿奇遇记Xiao Yingtao 4th SeasonXiao Yingtao 5th Season小樱桃 第三季小樱桃 第二季小樱桃小鹰晋级幸福小镇 第二季熊出没·逆转时空熊出没之年货熊出没·狂野大陆Boonie Bears or Bust, Boonie Bears: Bear Infested New YearSnow Daze of Boonie BearsBoonie Bears Movie 7Bonnie Bears Movie 5熊出没·伴我“熊芯”雄兵连Ⅲ雷霆万钧熊宝美食战队信心新年来啦之勇闯魔山新年来啦之一鸣惊人新年来啦之文字大劫难新年来啦之神奇武功新年来啦之神秘宝藏新年来啦之酷多啦新年来啦之巨门再现Xinnian is Coming: Uproar of Chuxi新年来啦之百草解药心灵之窗星原小宝2神勇V5队xBuddiesOrangutan Inspector星星牧场之星星的孩子星星牧场之幸福家园星星牧场之梦想的力量星星牧场之伴你成长星星梦星星狐的体验星系保卫战星系宝贝星球卫士Interstellar Tour星际小神探星际小蚂蚁之五行归来星际小蚂蚁之环球追梦星际小蚂蚁公益片星际小蚂蚁之公益大使星际特工队星际炮兵团之拯救色彩星际炮兵团之护花使者星际家族之安全少年团星际大逃亡星际飚车王星火传承To the Galaxies星光家族特别篇星光家族幸福在身边--当代雷锋郭明义的故事幸福小镇幸福路上星仔小厨神Rainbow Sea Movie 2Xing You Ji Zhi Feng Bao Fa Mi La, Xing You Ji Di Er Ji, Rainbow Sea: the Web Movies星学院3之潘朵拉秘境Star Academy II: Moon Spirit BandStar College星兽猎人星梦园星猫之西域迷踪星猫之孙子兵法篇星猫之大笑西游星猫侦探星猫寻宝记第二季星猫寻宝记星猫文化大讲堂-文化故事星猫文化大讲堂-民间传奇星猫文化大讲堂之名著故事星猫漫游记之三金村星猫漫游记星猫历险记之星空大冒险星猫历险记之书法篇星猫历险记之神话篇星猫历险记之美食篇星猫历险记之国画篇星猫历险记之古城大冒险星猫历险记之地球大冒险Star Cat Adventures星猫卡通天地 第二季星猫卡通天地星猫的秘密基地星猫大讲堂——诸子百家, Xing Mao Da Jiangtang: Zhu Zi Bai JiaXing Da Xing Animation Series: Spaceship星达兴动画系列之欢乐秀星达丘快乐学园星达动画系列之蔬果乐园新东方神娃新装的门铃新猪猪侠大电影·超级赛车新愚公移山新围棋少年新少年黄飞鸿新三字经New Qin\\'s Moon, Qin\\'s Moon Remastered, The Legend of Qin RemasteredDino Trainers心奇爆龙战车之暴龙出击心奇爆龙战车3陀螺战车西游新传2：真心话大冒险杨家将之战彭城杨家将之潘杨案杨家将之金沙滩屋根裏のラジャーYancharumon Cha, Yancharumoncha, Yancharumon TeaYanbo Ninbo Tonbo no Koutsuu AnzenYanbo, Ninbo and Tonbo, Yanbo Ninbo TonboYanase Takashi Maerchen Gekijouやめて！ライターあそび どうぶつ村の消ぼう隊 出どう山中貞雄に捧げる漫画映画『鼠小僧次郎吉』山川景子は振り向かないRhabdophis TigrinusやまのかみさまYama ni Kagayaku: Guide Inu Heiji GouMountainYakyubu Aruaru夜行性のいきもの焼肉店センゴクやけどとほしヤイヤイ森のコミーAlbert Ask\\'s鸭丫俱乐部许愿树寻找小天使寻宝记寻灵大冒险寻学问猫教汉字雪域少年血与火：新中国是这样炼成的The Snow King Has ArrivedSnow Lion雪狐雪孩子之拯救家园选美记旋风速度Wangzhe Wai Chuan 2nd Season, 王者歪传 第2季炫击勇者之炫击战卡炫斗战轮Lotus LanturnLotus Lantern西域传奇西游新传之青少年自我防护A New Journey To the West, 西游新传: 大电影稀有童话西游漫记西游记之三件宝贝Tales From Journey To The West西游超级粉Shura Sword Sovereign修容镇戏曲动漫戏曲动画集锦熊猫走天涯熊猫战士熊猫洋洋和小伙伴Panda RangXiongmao Shou Zha熊猫三宝之萌宠卫士 第二季熊猫三宝之萌宠卫士Panda Jing Jing熊猫家族The Little Mole and Panda, Panda and Mole, Krtek a PandaPanda and Rooster熊猫和开心球熊猫豆比Sternalia.Lin LegendDr. PandaXiongmao Baihuo Shangdian, The Panda\\'s Department Store熊仔之正义守护熊仔之寻绿战纪熊仔之雄心壮志熊仔之菲熊不可熊仔Bearabbit Beibei雄狮少年熊孩子·探险熊兵熊孩子三字经熊孩子弟子规熊孩子安全小讲堂Boonie Bears Movie 6熊熊乐园4熊出没之熊熊乐园3熊出没之熊熊乐园2熊出没之熊熊乐园熊出没之熊熊欢乐颂Sunsational Summer of Boonie Bears熊出没之小小世界熊出没之探险日记2熊出没之探险日记熊出没之怪兽计划2熊出没之怪兽计划Autumn Awesomeness of Boonie BearsBoonie Bears: Entangled Worlds亿唐剧场-水浒传Heibayou no Shiro, 兵馬俑の城Brave Adventure用一天的時間回憶我《咏春GalS》先导试映版よんでよばれてよもやま短編集夜廻り猫Yokohama Bakkuretai, Yokohama Bakkure TaiYojeong Pingkeu요괴메카드 왕마요괴메카드 스페셜요괴 메카드よだかYocchan no Bi-damaYlion and Callysia一世之尊The Doctor and the Emperor一千零一夜之拯救黄金城音乐奇侠Music Ship隱身探長隱匿的方寸空間英语过山车Wolf KingYingxiong Jiang Ge Er: Xunbao Ji英雄故事会英雄冯子材应天巡游记櫻時You Don’t Mess with Little BugsLighting DindinEagle印順導師傅隐世宗门掌教音迷饮茶之关爱生命饮茶S之功夫学园Yi Ke Da Bai Cai, A Big Chinese CabbageLittle Monk, Little Monk Yichan一半儿王国一只鞋一指城一夜富翁一雪亿唐小故事亿唐皮影戏杨家将亿唐皮影戏孙子兵法亿唐皮影戏 隋唐演义亿唐皮影戏成语故事亿唐剧场之三国演义亿唐格林童话故事Different World Medicine Shop 2nd Season一人之下·锈铁重现Yiren Jun Moxie一念永恒小剧场一毛所有Brinken: Finger Skate Generation异空战歌Yi Ge Xin Zu Qiu (1957)Chuang Tapestry, Chwang Tapestry一分钟小侦探翼飞冲天天际战骑野外的遭遇Yennal YetjeogeWild Animal Baby Explorers영심이Soul Frame Lazenca夜半怪声いーすとけん。夜車Yiban Er牙牙精灵战队やわらかめ♥Yawaraka Sensha Episode 9.5At Last! Turtle Detective Agencyやったぜ！なっとうボーイヤッちゃんと新入生ヤッちゃんと火星の子やさしいオオカミやさ村やさしのやさしい世界やさいのようせい クイズげきじょうやさいのようせい N.Y.SALAD 2ndシリーズやさいのようせい N.Y.SALADやさいのようせい N.Y.SALAD The Movie 3Dやさいのようせいスペシャルやっぱり海が好き妖怪森林妖树与松鼠燕尾侠BoBo&ToToヤンキーハムスター シーズン４ヤンキーハムスター シーズン３Delinquent Hamsters Second SeasonGender Equality阳光士兵阳光晒屁股Sunshine Cafe: New FriendshipsYuren Maixie, A Foolish Scholar Shopping For Shoes云中居三子：溺女婆云中居三子云奇飞行日记3云奇飞行日记2두리둥실 뭉게공항, Duri Dungsil Mungge Gonghang유미의 세포들ゆめある動く絵本夢、空高くAn Elephant Which Grants A Dream夢のつづきYume-miru Anime On-chan, Yume Miru Anime On-chan, Dreaming Anime On-chan夢充夜Entertainment General Mobilization娱乐双响炮愉快的食物们Snowmanテライユキinバーチャルハワイ雪ダルマンの冬道交通安全Project Show-A to Bゆかいなアニマルバス 2ndシーズンゆかいなアニマルバスYuhuwa Chingudeul 2nd Season유후와 친구들宇航鼠Yuugeshou, Yu Kesho, Evening Primroses月牙儿月亮镇的宝藏月亮街越笑越开心Getting louder and louderThe Moon Dust越策越开心ゆだって最高！リバイスアニメ湯けむりパラダイス A GO！GO！RoboSaviors, Variety Machine Beasts 4原来是这样缘之屋園園和機器人园园的奇怪旅行Yuanxing Bilu, Showing True Colors源神浩劫The Ape Story雨之歌御兽王者雨石鱼生Story of Yuu: Looking for Power禹神传之王者少年玉麒麟故事会之经典故事总动员玉骐麟之仙灵奇域Yu Liuli鱼老板の日常Yu Jian Tusiji, Let\\'s Tuzki Again魚YowamonCowardly Samurai Squad, Yowamushi Chinsengumi (1935)憂鬱鼻Yo Yo Neko no Tsumami, Yo Yo no Neko Matsumi, Yoyo no Neko Tsumami, Cat Yo-yoユーチューニャー 第2期犹太女孩在上海2：项链密码妖精てぃんてぃんYoung Alive! ~iPS細胞がひらく未来~幼苗Welcome! Ecology Islandようこそ認知症世界へ陽気な風景たち妖怪ウォッチ プラネタリウムは星と妖怪がいっぱい！妖怪ウォッチ♪ プラネタリウム コマさんからのＳＯＳ！ ブラックホールへレッツゴーだニャン♪妖怪ウォッチ♪ ジバニャンVSコマさん もんげー大決戦だニャン映画 妖怪ウォッチ♪ ケータとオレっちの出会い編だニャン♪ワ、ワタクシも〜♪♪Youjo Shachou 2nd Season, Cute Executive Officer 2nd Season游击神兵幽暗小徑的鬼有妖气夏日广告篇有药2有兽焉 第二季Juhua Xiao Dianzhi You Shen Me 2nd SeasonJuhua Xiao Dianzhi You Shen Me有求必应幼儿日常生活大全幼儿故事大王优贝早教总动员よっちゃんの不思議なクレヨンヨシモトムチッ子物語吉田勝子のヤバイわ! SDGs ~荒ぶる! トラブル! サステナブル!~予算政治夜になった雪のはなしYorozu Kotto YamakashiYoidon!世にも奇妙な漫☆画太郎勇者学院勇者動畫系列勇者闯魔城勇士永春白鹤拳之五色羽传奇Ray\\'s Fire StationReVdol! Second Season, Virtual Idols Next to You! Second Season, Fighting Singers! Second Season, Zhandouban Geji! Di Er Ji智慧之城智慧森林智慧密码智慧岛只好背叛地球了智多星吉木至善之道纸人国纸人捣乱记Taking Tiger Mountain by Strategy智取海底城纸朋友智多多之節日嘉年華Chi Dor Dor, Chi Dor Dor, Zhi Duo Duo Zhi Duo DuoChi Dor Dor Starry Sky Tour智斗烏鴉折纸总动员之纸堡奇兵争执正义小兔警Xing Mao Lixian Ji: Conglong Pian, 星猫历险记之恐龙篇拯救地球，麦圈可可在行动郑在讲故事之十二生肖郑义门郑和下西洋郑和1405:魔海寻踪郑成功珍宝档案真武巅峰 第三季真假森林王真假李逵甄海保卫战真功夫之奥运在我家Zhen Dao Ge Specials枕刀歌 第二季这个女生很普通这个年纪还能当大侠吗浙水千秋这是一首歌找小哥哥赵氏孤儿The Predictor Paul长大尾巴的兔子长白精灵Zhangzai Wuli De Zhusun, The Bamboo Shoot Growing in the House张小盒动画A mango with legs张飞审瓜Changfa Mei, The Girl With Long HairZhandou Ba Ge Ji!Zhandouban Geji! Di Ling Ji, ReVdol! Season ZeroReVdol!, Virtual Idols Next to You!, Fighting Singers!, Zhandouban Geji! Di Yi JiInfinity Nado 6战斗王之飓风战魂5合体番外篇King of Warrior 5, Infinity Nado 5战斗吧灵兽斩兽之刃Grandpa Danger Special絶体絶命でんぢゃらすじーさんExtinction Fear-shun.제트레인저全力ウサギ (2023)ゼンちゃんツーちゃんEiga Zannen na Ikimono Jitenざんねんないきもの事典 (2022)ざんねんないきもの事典 (2021)Encyclopedia of Pitiful Creatures (2019)藏羚王之雪域精灵ザイユウキFrom AfarYuzhou Xing Shen 10 Zhounian Zhong ZhibanYuzhou Huwei Dui 4宇宙护卫队：风暴力量宇宙护卫队3Yuzhou Huwei Dui Second Season宇宙护卫队玉玺传奇The Ringleader of the Sunset誘惑★オフィスLOVER2劇場版 ゆうとくんがいくゆうとくんがいくYuusha-Ou GaoGaiGar Episodes 14.5 and 43.2Yuusha Ou GaoGaiGar Picture Drama遊星高校 天文部幽霊屋敷勇気のお守りWhen the Flower of Courage Blooms: The Story of Takashi Yanase and AnpanmanCourageous Firefly and Unflyable FireflyJibun de Jibun wo Mamoru, Hitori no Toki ga Abunai!誘拐防止アニメーション映画 赤ずきんちゃん ちゃんとチェック友情のキックオフユラユラすいぞくかん云龙传奇之九龙战记The Cloud Baby云端的日子运动小福星云彩面包2云彩面包珠城漫游记Zizuozishou字圣传奇字宝宝乐园捉迷藏追鼠追梦者追梦少年追风少女主公在哪转战之超旋斗士转战超旋斗士超旋觉醒Zhuang Zi Shuo装在口袋里的爸爸庄臣反斗战车轉啊豬豬俠 終極決戰前夜篇GG Bond Movie 3GG Bond 03GG Bond Movie 2GG Bond Movie 4GG Bond 06GG Bond 02, GG Bond II Martial Arts 2008GG Bond 10猪猪侠之深海小英雄GG Bond 01GG Bond 12GG Bond 15猪猪侠之可乐吧GG Bond Movie 1GG Bond 16GG Bond 14GG Bond 05GG Bond 11GG Bond: Global Diary猪猪侠 番外篇 拼装特工队GG Bond 0GG Bond 13, GG Bond: Super Agent G猪猪侠·不可思议的世界GG Bond 08GG Bond 07, Monster Heroes, Kungfu HeroGG Bond 09猪猪吉利小财神猪仔羊妹寻鳞记诛仙 第二季侏罗纪大乐园猪迪克之梦想训练营猪迪克之蓝海奇缘猪迪克之古怪岛大冒险II猪迪克之古怪岛大冒险I猪迪克之彩虹姐姐讲故事Pigsy Eats Watermelon, Mr. Pig Eats Watermelon, Zhu Bajie Eats Watermelon周一周六州洲绿之梦 家园守护州洲绿之梦中原之星中外名人成长故事中山魂钟馗传奇之岁寒三友Liu Dai Zhongkui, Zhong KuiFantastic Adventure中华鲟历险记中华小岳云中华五千年中华美德故事·诚信篇中华美德中华励志录中华历史文化名人中华弟子规第二季中华弟子规中华德育故事中华大讲坛中华传统美德故事中国熊猫中国巧姑娘之黄道婆China Boy: Hong Zhanhui中国民俗故事中国惊奇先生中国绘本经典名著系列之手绘西游中国绘本经典名著系列之手绘水浒中国绘本经典名著系列之手绘三国中国好故事Chinese Choir钟点父子Planting TreesZhongshengxiang种梨知识老人智趣羊学堂之运动篇智趣羊学堂之羊羊游世界智趣羊学堂之羊羊趣冒险智趣羊学堂之羊羊来寻宝智趣羊学堂之奇幻成语书智趣羊学堂之动植物篇智趣羊学堂之地球嘉年华智谋家族指令宝贝智力数学大篷车智慧子弹车智慧庄园38-39°Cあいしてるよマクリー マクリーの交通安全aiseki MOGOL GIRLエアーズThe World of Aika-chan愛玩怪獣Yappy StoriesAi and Yuuto: Their First ErrandFor I\\'ve found Love And Love was YouMiracle of Love: Doctor Norman\\'s Story爱你直到世界尽头哀溺爱力巴巴之正能量之旅Ai Jingling Le Ji ErBaby Shark Ollie and WilliamBaby Shark Ollie Doo Doo DooZhong Chong Baobao, 钟虫宝宝あげおとティムStory of Afghanistan Paghman Village, Afghanistan Paghman Mura no Monogatari: Sekaiichi Utsukushii Boku no MuraStory of Afghanistan Paghman Village, Afghanistan Paghman Mura no Monogatari: Boku no Mura ni Circus ga Kitaaffordanceイソップ童話에어로버: 스페이스 드론의 귀환Aerover Second Seasonあいうえおうだん－どうろのただしいわたりかた仇討からすACCEPTアッカァくんのACCA講座阿布睡前故事About you아버지의방A Long He LiliYuuna & Akiko: Let\\'s Go AAA!阿七遨游记阿米萝之空中大陆阿米萝之歌海奇缘阿毛故事阿狸的童话日记阿福寻规记阿福漫游记之无锡人杰阿福漫游记A DRAWING FOR MOMアカペラ侍～ハモリ隊は江戸を救う～阿笨猫81号农场之疯狂的麦咭Farm House 81, Defending Wheat Card of Farm Number 81セブンデイズ マジック5つの指の庭5栋32号贺岁番5栋32号4・EYES Re-Mix 200526个秘密25分で分かる手形・小切手のはなし23:6023号牛乃糖21世紀はみんなが主役2015春节动漫大联欢12只蚊子和5个人Family Portrait of the Chinese Zodiac12生肖全家福網絡世界歷險11ぴきのねこ マラソン大会10周年だよ! ちびまる子ちゃんJuupiki no Kaeru１人ぼっちの狼と７ひきの子やぎ1ねんせいだいかつやくDVD みらいの しょうがっこう たんけんZero Man, Zero MenZero Hao Sushe（迷）留(ア・ロング・デイ・オブ)Mr.カルパッチョ#コンパスNumber OneStories From \"Geniuses Without Glory\"「あい」をたべる足球王者足球江湖左右脑智力开发ズモモとヌペペズッコケ三人組\\u3000ズッコケ時空冒険ズッコケ三人組 楠屋敷のグルグル様ズッコケ三人組のこうつうあんぜんッコケ三人組の自転車教室ズッコケ三人組の火あそび防止大作戦ズッコケ三人組のぼうさい教室頭上家族チャビリアーノMouth, Ears and Eyes最强蜗牛不速之客最可爱的人ぞう列車がやってきたゾウのかたちズーブルズ！좀비덤 3좀비덤 2JombideomZoku Zoku Mura no Obake-tachi続・象の背中 -バトンタッチ-Zoku Sayonara Zetsubou Sensei Specials, Zoku Sayonara Zetsubou Sensei: Zetsubou Sensei Weekly Reviewゾイドワイルド戦記自古英雄出少年艾米&咕噜凹凸学园 第二季凹凸学园Aotu Shijie Di Si Ji, AOTU World Season 4The Choice of a King, A.I., Before the FinaleAOTU World 3, AOTU Shijie Di San Ji蒼きウル OvertureAOKI & Himitsukessha Taka no Tsume, AOKI & Eagle Talon青い目の人形物語青い羽みつけた! -さがしてみよう 身近な鳥たち-青の洞門奥飞Q宠嗷嗷龙安全の指定席 チャイルドシートあんぜんかくにん ケンタとニャンタのこうつうあんぜんKids of AnyuanAnti Hero Generationsアンパンマンが生まれた日In the Other World, Ghost Groups Are Everything!Sayonara, Tyrano, さよなら, ティラノHello Jeon Woo-chi! The Battle of the Magic Robots안녕! 괴발개발Hi Totobi, Hello Totobi안녕 자두야: 서유기 어쩌다 영웅안녕 자두야: 진달래의 비밀Hello Jadoo Special, Hello Jadoo: The Little Mermaid안녕 자두야 스폐셜:효녀자두&엄지공주안녕 자두야 스페셜: 언더 더 씨Hello Jadoo Movie安宁暗黒家族 ワラビさんAnime Version Little Nickyアニメ 天狗のかくれ里Anime Roukyoku Kikou Shimizunojirochou Den, Anime Roukyoku Kikou Shimizu no Jirochou DenAnime Japanese Folktalesアニメ古典文学館アニメ ハチ公物語Road to Munich, Anime Document: Munchen e no Michi, Anime Document: Munich no MichiKotenkotenko, Kotenco and MatencoAnimax Gymnasticsアニメーションで伝える“ヒバクシャからの手紙”エンジェルがとんだ日暗房夜空あなたの肩ごし ちょっと上あなたが見えました穴ポコ安小豆与付小乐An introduction of human zoologyAN INSTANT俺的铁蛋俺的娃艾米咕噜第三季Ai Mi Gulu, 艾米&咕噜阿木狗和丁丁猫アミーゴ 友だちアメリカン・ラビットの冒険飴工場엠버와 함께하는 생활안전 이야기あまねにっきうぴょうぴょ! ダ〜イブツッコめ! アマゾンの世界!Love the Animals알쏭달쏭 캐치! 티니핑阿拉法的奇妙世界알렉스의 모험阿莉塔的睡前故事阿里巴巴与神灯Alibaba Three Blondes, Ali Baba Sangen Jinfa阿里巴巴大盗奇兵阿里巴巴：所罗门封印阿狸·信燕阿狸童话故事集阿狸梦之岛·我的云阿狸绘本系列阿狸·丢东西的娃娃阿狸布塔故事集アランくんの こうつうルールをまもろうね！Ai Lun Jiaoshou De Mofa Zhipaiアラジンと魔法のランプの交通安全Al Dente Tango悪役魔法少女ミドロThe Devil and the Princessアークエとガッチンポー てんこもり 幻のおまけエピソードA-kuei & Gatchinpo: TenkomoriA-Kuei and His Magic HammerA-kuei & Gatchinpo아깨비의 과학여행秋田県立いぶり学校中等部 WEB版おまけ秋田県立いぶり学校中等部アキンド星のリトル・ペソ空き缶のツナ赤ずきんちゃんと学ぼう！交通ルール赤いろうそくと人魚Genzo Performs a Ceremony with a Parting CupGeneral Manager of Baby 3rd SeasonGeneral Manager of Baby 2nd SeasonGeneral Manager of Baby艾可魔法少女Ajishin da Tsunami wa? Jibun no Inochi Waji Bun de MamoruSong of Hydrangea爱心密码爱斯基摩女孩Astroganger PilotUks Uks, One DoorAzur Lane Port DiaryAzur Lane Avengers!Azur Lane 5th Anniversary - The Best Gift from EnterpriseAzur Lane 4th Anniversary - A Day at the Port Ice Cream ShopAzur Lane 3rd Anniversary: Stars of the PortAzumi Mama MiaAZICON オープニングアニメアザラシ・タマちゃんの火の用心AYAKA ‐あやか‐ ミニアニメあはれ！名作くん ショート動画Ahare! Meisaku-kun Ryuuguuchuu-henあはれ！名作くん Ｑ＆Ａコーナーあはれ！名作くん 「ヒューマンアカデミー ロボット教室」Ahare! Meisaku-kunあわじしまの七福神Auto Mommyオーロラを見た恐竜たちAola Star, Ao La Xing: Jinji Sheng DianO-di-syeon阿U学科学第2季阿优学科学阿U之为成长加优阿U之兔智来了 第二部阿U之兔智来了阿优之童趣系列阿U之神奇萝卜第三季阿U之神奇萝卜第二季阿U之神奇萝卜阿优之神奇幻镜阿U之梦想系列阿U之开心童年阿U的日常阿优的烦恼第二季阿优的烦恼阿U之爆笑校园A.Uあつまれ！みんなのコンテ松さん！あつまれ！かっこいい1ねんせい パワー！コラショきゅうしゅつだいさくせんアトミックウォー 大腸篇Athlon Tobot 3rd SeasonAthlon Tobot 2nd SeasonAeseullon TtobosアテルイAtashinchi SP, Atashin\\'chi SPあたし天使あなた悪魔ASUKA -日本の歴史-The Man Who Has Changed the History: A Drainage of Lake Biwa아스타를 향해 차구차구遊んでおぼえる学習DVDあそぼトイちゃんLittle Bell and Ami\\'s Love Story阿衰 第九季阿衰 第八季阿衰 第七季阿衰 第六季阿衰 第五季阿衰 第四季阿衰 第三季阿衰 第二季阿衰Ashita Tenki ni Nare OmakeTomorrow\\'s Hope -Thank You, Sadness: The Story of Tsuneo Takaeあさある森のおはなし\\u3000るるるのるールある心の旅Artiswitch（アーティスウィッチ）Ruru\\'s Episodes of MemoriesRuru\\'s Costume CollectionNina\\'s Costume CollectionARTIST110阿特的奇幻之旅藝術學院로봇 알포A Nuo Gou Yu Kai Rui Maoアームズラリーa ri su byun ui ggoom na mooありんこヘポーふたりのひみつきちーCybozu Work Style AnimeThank You Kumanofuアリーズ -神話の星座宮-蟻と蛙The ant and the pigeon (1953)The Ant and the Pigeon, Ari to Hato (1918)The Life Of AntsGekijouban Argonavis: AxiaAr:pieL - 6 Fates, Ar:pieL - Yeoseosgaeui Unmyeong아쿠아 키즈Aepeulkaendigeolあっぱれ！桃太郎の交通安全아빠 어릴 적엔APO APOワールド ジャイアント馬場 90分1本勝負奥运趣闻【新春SP 】格瑞的新年凹凸学园 第三季Bai Gui Youeryuan Di Si Ji帮帮龙出动 第二季帮帮龙出动반도에 살어리랏다斑点熊与大笨贼Banye Jijiao, The Rooster Crows At Midnight半神之境바람의 모양巴啦啦小魔仙之星缘蝶启2巴啦啦小魔仙之星緣蝶啓1巴啦啦小魔仙之魔法星缘堡巴啦啦小魔仙之魔法海萤堡 第2季Balala Little Magic Fairy: Ocean Magic巴拉根仓传奇Ba La Bang映画 爆釣バーハンター 謎のバーコードトライアングル！爆釣れ！神海魚（しんかいぎょ）ポセイドン爆釣バーハンター爆球連発!!スーパービーダマンBakushishi Gasshin Ziguru Hazeru化け猫ダンスバカ昔ばなし~その弐~Baka Mukashi Banashi Gekijoubanバカ昔ばなし八九不离2白玉堂Baixue Gongzhu Zhi Shenmi Baba白雪公主之矮人力量Snow White and the Frog PrinceSnow White and the Three Pigs白線白头叶猴之嘉猴壮壮バイト先は「悪の組織」!?白蛇白色隧道白鹭和龟白露百花公主百越历险记之壮锦密码百妖譜 番外篇 梦回幽魂Manual of Hundred Demons, Bai Yao Pu Si Fu Pian, 百妖谱 司府篇白想这么多Bai Shou Zongdongyuan Konglong Yongshi Dang AnBai Shou Zongdongyuan百鸟朝凤百利熊之云雾山的秘密百利熊之神秘黑衣人百利熊之美丽的大森林BarrybearThe Metaverse, Bai Jia Jue: The Strange Stories of Jianghu百吉学堂百花苑里的故事Bai Gui Youeryuan Di San JiBird IslandGG Bond 04百变小加之小加向前冲百变校巴之超学先锋 第4季百变校巴之超学先锋 第3季百变校巴之超学先锋 第2季GoGoBus and TeamSteam百变校巴 第9季百变校巴 第8季百变校巴 第7季百变校巴 第6季百变校巴 第5季百变校巴 第4季百变校巴 第3季GoGoBus 2nd Season百变校巴 第12季百变校巴 第11季百变校巴 第10季GoGoBus百变马丁：怪兽大作战百变科小比百变机兽之洛洛历险记Magic Blocks Fifth SeasonMagic Blocks Fourth SeasonMagic Blocks Third SeasonMagic Blocks Second SeasonMagic Blocks百变宝贝뱀파이어소녀 달자Stars on the Sea: S.O.S.BAD MOODBABY-HAMITANGベビーガンバBa Bu Dou巴布熊猫成语系列BaboPanBaba Qu Na Er Donghua Pian 2nd SeasonBaba Qu Na Er Donghua Pian爸爸抱抱八尾猫拔念八闽精灵夺宝记The Enormous Turnip八颗牙齿晒太阳八戒之天蓬下界八臂哪吒城的传说八百鞭子Bラッパーズ ストリートFunny School벚꽃나무 코끼리 숲Bumper King Zapper버리는 섬便秘薬\\u3000コーラック弁慶と牛若丸Winter Memories笨狼和他的小伙伴笨狗熊笨笨与机灵之遗失星球新笨笨与机灵笨笨悠游记之麻辣夏令营笨笨悠游记之穿越华夏笨笨悠游记Egg Car笨笨的幸福生活之幸福花园笨笨的幸福生活之开心邻居北斗领航梦想贝瓦学中文 嗨 小动物贝肯熊：火星任务贝肯熊2:金牌特工贝贝熊历险记The Beanuts Brothers ShowBeads no Mori no Rabbi, Beads no Mori no RabyiBEACH빠샤메카드 S빠샤메카드Bazar de Gozarre, Bazaar de Gozaaru八仙与跳蚤八仙Overlord Mask巴图的奇妙旅程Bate La Er Chuanshuo巴特베스티언즈バリィさんの諸国漫遊記Bari-san no Imabari-ben Kouza따개비 루暴走撸啊撸 第三季暴走撸啊撸 第二季暴走撸啊撸暴走恐怖故事 第六季暴走恐怖故事 第五季暴走恐怖故事 第四季暴走恐怖故事 第三季暴走恐怖故事 第二季暴走恐怖故事Baozou Manhwa 3rd SeasonBaozou Manhwa 2nd SeasonBaozou Manhwa暴走编辑部的故事Baoxiao Gongfu爆笑哈哈镇保卫者传奇爆速合体保生大帝之奇儿夺宝Burst Speed 2, Opti-Morphs, Ji Jia Shou Shen Zhi Baolie Feiche 2nd SeasonBurst Speed 3, Opti-Morphs, Ji Jia Shou Shen Zhi Baolie Feiche 3rd Season宝贝咿家宝贝先锋宝贝女儿好妈妈之快乐的家庭宝贝女儿好妈妈之吃记忆的大雪球寶貝女兒好媽媽宝贝疙瘩丁呱呱宝宝乐学堂之智慧幸运星宝宝乐学堂之嘻哈冒险岛宝宝乐学堂之奇妙万花筒宝宝乐学堂之快乐童话城宝宝乐学堂之疯狂图书馆宝宝乐学堂之缤纷快乐号宝宝故事会宝宝巴士之熊猫奇奇宝宝巴士之奇妙数学大冒险宝宝巴士奇妙救援队宝宝巴士之奇妙好习惯宝宝巴士之奇妙汉字宝宝巴士之奇妙的节日爆兽猎人包强Baumu暴基枪手之t的日常暴基枪手之AK西游Boomguy爆蛋晶英爆冲火箭车之飞擎的召唤爆冲火箭车之车王之战抱抱我Sparkle Sparkle Catch! Teenieping반지의 비밀일기 극장판반지의 비밀일기半斤八两办公室那点事儿Baeng-geulseukul邦锦美朵棒棒与恰恰帮帮团向前冲棒棒趣味英语帮帮龙出动之传说中的龙王帮帮龙出动 第四季帮帮龙出动之恐龙探险队, Bang Bang Long Chudong: Konglong Tanxian Duiブラックチャンネルぼさにまる보리와 짜구Bumbawa Tumba布奇乐乐园系列之数学天地布奇乐乐园系列之好习惯故事BooBooBoyあたらしい夜の花見O\\'sumo-san, Osumo-san, Sumo WrestlerKunta, Kun Ta: Hezi ZongdongyuanBonobono: A Friend From Outer Space보름달 공장ぼくたちのピース・リバー僕たちのアメリカンフットボールを僕ら太陽を真ン中に僕らの明日～フリーターの現状に関する若者への周知・広報事業～僕らの雨いろプロトコル ミニアニメボクはすぐに逃げたんだ 東日本大震災から学んだことぼくは王さま (2013)ぼくは王さまぼくは子象の消防隊ぼくと、はなそう。ぼくとおねえちゃんのこうつうあんぜんボクとガク ～あの夏のものがたり～My All-Day All-Colorぼくのダイエット大作戦ぼくの青空ぼくがこわい黒いものぼくだって、きれいにしたいんだ보글보글 보물선Bodhi Yu Haoyou 4th Season, Bodhi and Friends: Super HerosBodhi Yu Haoyou 3rd SeasonBodhi Yu Haoyou 2nd SeasonBao Di Yu Haoyou波波熊猫吉吉虎波波历险记Bo Bi Lu, Bobby Deer博默館波噜噜问世界Botos Family 2nd SeasonBotos Family 1st Season Part 2Botos FamilyBotosBlue Eyes -in HARBOR TALE-BLOW UP 2Aikatsu Planet! Mirror In☆Lab: Bloomy*CafeBloomBLOODY ESCAPE -地獄の逃走劇-Blink in the DesertBlack Cat바이트초이카 하이퍼바이트 초이카ビット・ザ・キューピッドBiriken 2, Billy Inu Nandemo ShoukaiBilly InuビップとバップイオセンサーBaiokab Wingo-go冰雪之约冰雪冬奥村病態建築症候群冰火之晶빙그레 메2커 를 위하여빙그레 크리스마스 캐롤송饼干警长之乐园计划Mr. CookieBingshang Yuxian, Adventures on the Ice丙级超人快递侠 第二季Kuai D Man缤纷小镇缤纷宝宝바이클론즈ビックリマン ロココ＆マリア奇跡ビックリマン 無縁ゾーンの秘宝ビックリマンきらきら特別増刊号ビックリマン 第一次聖魔大戦ビックリマンキッズ\\u3000テーマファイターニャンダーThe Story in the Mural빅 피쉬Bie Re Liumang Tu Ma Xiu Third SeasonBie Re Liumang Tu Ma Xiu Second Season别惹流氓兔马修비둘기 합창BIBLIOMANIA编码学院编程猫之成长日记Babapigベイウォーリアーズ サイボーグ贝瓦启蒙 英文颜色Bei Wa Gushi브리스톨 탐험대브레드 이발소 3브레드 이발소 2브레드 이발소Separate Volume Kamen Rider Saber: Short Story Activity Manga Collectionベロ出しチョンマBunna Comes Down from the Tree, Bunna! Come Down from the Tree, Bunna yo Ki kara OritekoiThe Strawberry Fairyland草本家族Caoyuan Yingxiong Xiao Jiemei, Heroic Little Sisters of the Grassland草人草精灵Chao Chong Cen Xiang餐桌上的世说新语 第二季餐桌上的世说新语Cannibal AlienKaenimeol仓鼠乐园Cang Hai Sang Tian, An Unusually Lucky Person参娃与天池怪兽之瑞雪兆丰年参娃与天池怪兽参宝Calvin Klein x Hirotoshi IwasakiCalbeeひとくち劇場彩色豆园ケアンの首達彩虹熊之激战幻影怪彩虹仙子之快乐魔法派彩虹龟Cai Cai Tou财宝小狐狸彩云南财商宝典采蘑菇蔡六菜虫饭米粒Gonfu Tu Xilie 3: Cai Bao Gou Da Fanji财佰通카페 윙클카비온ベネチア大学映画先付C9回家Chisa YearningIf You Were Me: Anima Vision 2 (2008), Byeol byeol i-ya-gi 2Byeonsinjadongcha Ttobos별주부 해로별이 빛나는 밤에별을 담은 소년Buddhist Scriptures仏ゾーンPig MoundBURPバーニング・ビレッジぶっぷな毎日Bupiao: Xiao Tu Tao Tao De GushiBonomo笨笨バンブルビー初めての地球生活부루와 숲속 친구들부릉! 부릉! 브루미즈Ensembukubu Stars!Beogseubos Igeunisyeon벅스봇 GHoney the Bug Dance Megarom Girl 4622, Bug tte Honey: Megalom Shoujo Mai 4622巴菲特神秘俱乐部 第二部Bafeite Shenmi Julebu布丁小镇之趣味知识屋布丁小镇之成语剧场布丁小镇之百科常识课堂布丁小镇之安全常识课堂布袋小和尚布袋和尚云游记之抗洪风云Meals in a Bucket, Ginpei the Penguin部長ハシビロ耕作보글 쿡 원정대Beobeulbeobeul Malin보글보글 쿡 2기Bogeulbogeul Kugぶーばーがー不忠之愛不一样的兔子音乐篇不一样的兔子识字篇不一样的兔子记忆篇不一样的兔子绘画篇Bu Ya Duanpian Zhi Bajiu Buli Shi捕星司·源起Team Blocks不可能恋爱?布谷鸟叫迟了布非同学布耳朵的故事Bucha Ban Fenhao, Never Owing the People Half a Penny布布熊不白吃话山海经BT21 Universe 2 AnimationBT21 Universe Animation 2nd SeasonBT21 ORIGINAL STORYブルネット先生、ここにおいででしたか？BBBBRAVO东东ブラジャーねこ소년장수防災啓発動画博士蛙斗变色龙超变武兽キャラ丸くんとドク丸くんキャラとおたまじゃくし島チャップリンとクーガンCHAOTIC ORDER超女娃娃Chaoji Youyou, Super YoYo超级幼儿园超级英雄美猴王：齐天儿超级伊仔Chaoji Xiaoxiong Bu Mi超级球迷Chaoji Pi Pi Ke超级工程小分队超级飞侠看中国超级方程式 第二部超级方程式 第一季Chaoji Da Le Tou巢湖传说Incrediele Ant超限獵兵-凱能 第二季超限獵兵-凱能超蛙战士之星际家园AniMen II超蛙战士超兽武装之勇者无惧Ultra Beast Force, Chao Shou Shi Zhuang Zhi Ren Zhe Wu Di, Rev Evolution超石器星球历险记超时空大冒险超神ZSuper Gamer King, Super Game GodSuper Seminary Fourth SeasonSuper Seminary Third SeasonSuper Seminary First Season, Super Seminary Second Season, Lalala Demacia Fourth Season超能勇士超能星之时空英雄超能小英雄超能小星探Super Rabbit超能龙骑侠超迷你战士 第四季超迷你战士 第三季超迷你战士 第二季超迷你战士超迷你科学探险队超萌时空宝贝超甲虫战记 圣域传说超級肥皂超变战陀之爆甲战陀超变战陀CJ-7 The CartoonCJ7: Super Q Team창백한 얼굴들长剑风云 第二季Chang An禅医禅说阿宽Chanchiho Challenge Channelチャモリーゼ茶目坊新画帳 蚤夫婦仕返しの巻茶目坊空気銃の巻チャレンジ１年生\\u3000こうつうあんぜんチャレンジ1年生でかっこいい1年生にへんしん!DVDチョーク色のピープルChaechaepong Kimchipong查干湖小精灵Almost There茶啊二中泡面番茶啊二中男寝501茶啊二中 嘎嘎以嘎斯茶啊二中 爆笑小视频茶啊二中 叭叭叭茶啊二中茶啊二中 第四季茶啊二中 第3季茶啊二中 第2季Cemedine Bond and G17 Love 5 Operation: ThunderWallセメダインボンドとG-17号Seirei Gensouki Mini Anime 2, Celia-sensei\\'s Exciting Magical Classroom 2, Instructor Celia\\'s Exciting Magical Classroom 2Catterpillarキャッチーくんのナイスキャッチ!캐치! 티니핑Castle卡西龙之寻龙记캐리와 슈퍼콜라Deeky and Carina 2nd Season, Deeky & Carina 2nd SeasonDeeky & Carina, Deeky and CarinaAnime Tamago 2019, Captain Barカプセル侍Capsule Boy 2: Save the UniverseDan Dan Xiaoziキャップ革命 ボトルマンDX\\u3000サイドストーリー草原豆思之X囧特工草原豆思之危机迫近草原豆思之神秘国度草原豆思之豆思牛与鬼狐狸草莓乐园之幸福时光草莓乐园之快乐生活Song of the Plover宠物庄园急诊室之熊博士的阴谋宠物庄园急诊室宠物物语ちょん切れ蛇The Charge冲冲与龙龙冲出地球宠宠物语PondimoniumBug\\'s Plan虫虫초롱이의 옛날여행直感×アルゴリズム♪ 2nd Season直感×アルゴリズム♪貯金の勤Ultra-Transforming Magic Robot Ginguiser Specials最强战士迷你特工队之英雄的诞生, Zui Qiang Zhanshi Mini Tegong Dui: Yingxiong de Dansheng최강경찰 미니특공대최강！탑플레이트 下半部分ちょこさんじKobito Zukan, Chobitto Dukan赤松威龙チロリン村物語 トンクルピーのじしんようじんChiro and Friendsチロの木大きくなぁれ鎮西八郎為朝 (2021)珍遊記\\u3000～太郎とゆかいな仲間たち～珍説吉田御殿陳腐な男Chingo Muchabei치링치링 시크릿 쥬쥬Encounter with Earth地球はぐるぐるメリーゴーランド地球との約束地球SOS 地球が熱を出している地球SOSそれいけコロリンSecrets of the World地球にやさしいショッピング ミドリちゃんと リサイくるくるショッピング奇酷宝贝计划之大爱无疆ちこまる地下すぎアイドル あかえちゃんA Little Love Letter, A Little Love Letter: Mariko And The Children Of The Silk Tree小さな巨人 ミクロマン 大激戦! ミクロマンVS最強戦士ゴルゴンちぃちゃんとヒゲおじさんちいちゃんのかげおくりFoodiverse吃饭睡觉打豆豆 神经豆吃饭睡觉打豆豆 豆特么黑吃饭睡觉打豆豆チキップダンサーズ父と子父カエルChibinacs³ChibinacsチビナックスLittle Black Sambo and his Twin BrotherLittle Black Sambo versus the Tigerちびっこカムのぼうけんちびっこ怪獣ヤダモンチビハム・ジューシー・アンド・ミーTomcat\\'s Big Adventureちびねこチョビ／ちびねこコビとおともだちちびまる子ちゃん\\u3000地震を考えるちびまる子ちゃん\\u3000火の用心ちびまる子ちゃん パイロットフィルムちびまる子ちゃんの交通安全ちびまる子ちゃんのこんな乗りかたあぶないよちびあいりんのゆるやかな日常ちーすい丸Chi-Sui Maru 2, Chi-Sui Maru Second SeasonChi Jian Chuan Qi吃鸡大作战 第3季吃鸡大作战第2季吃鸡大作战Qi Qi De Mimi Riji 2nd SeasonQi Qi De Mimi RijiCherry Mahou Mini Theater, Cherry Magic! Mini Theaterチェリーブラッサムチェリー&ベリーIronMan 007The Story of Tan Kah Kee橙子故事成长这东西 第2季成长这东西Chinese Idiom Anime城市野战排城市记忆我们的节日城市幻想曲成长不烦恼The Steel Force, The King of IronThe Legend of Chawaチャーミーキティ차징 탑스피너Chuusotsu Roudousha kara Hajimeru Koukou Seikatsuころころコロニャコラルの探検こんびに戦記\\u3000プリンタイ聪明伦文叙聪明的顺溜之特殊任务聪明的顺溜 第二季Cong Ming De Shun Liu聪明宠物蛋之奇幻旅程聪明宠物蛋聪明宝宝学英语Jungle AdventureCongming De Yazi聪明的笨小猪从红月开始The Little Train Choo ChooKongzi, Kong Fuziこんぷれっくす×コンプレックスColumbus\\'s Great Adventures, Great Adventure of Columbus, Les Aventures de Christophe Columbe거신: 바람의 아이Colorful EverydayColoColo Animal FolktaleコロコロアニマルABC@きんてれColo Colo Animal 2, Korokoro Animal 2Coro Coro Animal, Colo Colo Animal, Koro Koro Animal, Korokoro AnimalCofun Gal no Coffy Movie 1Kofun Gal no Coffy: Juuninin to Ikareru Cofun-tachiCoffy Gal no Coffy Movie 3Kofun Gal no Coffy Campus Life, The Frogman Show, Tumulus Gal Coffy Campus LifeKofun Gal no Coffy Campus Life, The Frogman ShowThe Frogman Show, Tumulus Gal Coffy, Kofun Gal no CoffyThe Frogman Show Specials, Tumulus Gal Coffy Specials, Kofun Gal no Coffy SpecialsKofun Gal no Coffy, The Frogman ShowKofun Gal no CoffyKohi Ikaga Deshou, Would You Like Some Coffee?코드네임XReizou Kono Kuni no Cocomong 3, Cocomong 2015Reizou Kono Kuni no Cocomong 2, Cocomong 2011CoCO & NiCOKu Ba XiongClover 4.3클라이밍慈禧坐火车刺猬小子之天生我刺CiTY (도시)シナモンアニメだもんCinderella-hime Licca-chanThe Assassin: The Pre-SequelCiwei Bei Xigua, A Hedgehog Carries Watermelon瓷都传奇之牛牛和妞妞チュウキチは歸った中間戦士 Mr.中Chuu-gakuseiチュウチュウバンバンちゅうちゅうLittle Field Mouse in Spring春困春光灿烂猪八戒春分春芽宝贝春春成长记之青春期篇春春成长记之防止儿童意外篇출동! 슈퍼윙스7출동! 슈퍼윙스6출동! 슈퍼윙스5출동! 슈퍼윙스4출동! 슈퍼윙스3Chuldong! Lobos V, Go! Robot VLearn Dinosaurs with Tayo Strong Heavy VehiclesChuldong! Aenimeol Leseukyu, Go! Animal Rescue雏菊Chui Zhi Shi Jie, 垂直世界之DZH美少年吹鼓手Power Panda Posse추억의 검정고무신Anime Tamago 2019穿越云南三千年-云小志漫游记穿越侍魂的历练穿越火线：幽灵计划创意好少年Brave Rabbit 3: The Crazy Time MachineBrave Rabbit 2: Crazy CircusBrave Rabbit闯堂家族闯闯闯！我是闯堂兔！除夕的故事雏蜂小剧场 胜利十中八卦部！Before DepartureクリスマスキャロルThe Adventures of the Ugly Duckling町内新撰組 おたすけ組めざし隊の交通安全 交通ルールを守って めざせ！動物園！초음이의 풀잎학교ノーナ思い出記録19th-Century Boy Takamaru, Cho Bakumatsu Shonen Seiki Takamaru【柏のご当地ゆるアニメ】超普通都市カシワ伝説Chou Futsuu Toshi Kashiwa Densetsu UDC2-henLevel-5 15th Anniversary Gag Gaiden, A little Funny Gag Gaidenちょっと動く！？「フテネコ」コーラス大唐风云2蛋计划安全儿童系列故事蛋计划之欢乐星球蛋计划 大电影Egg Project檀ふみのおはなしチャンネル弹叮铛历险记丹道至尊Dan Dan Zongdongyuan蛋宝宝日记大明王朝Damens Walker - The Animation, Can\\'t Help Falling for LosersNo Good Dad, Family Planning, No Good Pop, No Good DaddyMaxinger X달빛궁궐Squirrel and Hedgehog大角牛梦工场大吉成长记Town Work x Taka no Tsume, Eagle Talon, The Frogman Show, Himitsukessha Taka no Tsume大好き！ねんどママSekai Meisaku Gekijou Kanketsu Ban: Daisougen no Chiisana Tenshi Bush Baby, World Masterpiece Theater Complete Edition: The Bush Baby大樹代号12348大福くん＠きんてれ 第2期大福くん＠きんてれDaichan, Daisuki.Daixiang De Gongjian, Arrows with Firecrackers呆萌外星人呆狸呆家家大话月牙船大话三国大红与小蓝大红鹰大海成长记之保卫家园打鬼将The Adventures of Jinbao답을 찾은 두 소년打，打个大西瓜大嘴巴嘟嘟大嘴兔说故事大中华寻宝记大侦探熊猫猪Sherlock Holmes and the Great Escape大宇宙时代大英雄狄青The Legend of PandasAll About Zodiacs大象林旺之一炮成名大侠山猫和吉咪 第二季大侠山猫和吉咪大唐风云The Great RecipeLittle Stories in the Big Forest大扫除大气球大闹西游Uproar in the Studio, Studio Scene大南南和小麒麟大梦王小书包大冒險鐵路Da Luobo, The Big RadishDa Luan——Zhou Enlai Tongnian Dushu De GushiDalu De Gu Shi, The Story of a Big Oar打獵記Jingdong x Da Li Si Rizhi Qixi Tebie Fan, Jingdong x White Cat Legend Qixi Special大京小怪大吉利车队Da Jiang Zhang, A Big Prize Medal大花和小花The Big Red Flower大黑小白大耳朵爷爷历险记大耳朵图图之图图智慧王国大耳朵图图 第五季大耳朵图图 第四季大耳朵图图 第三季大耳朵图图 第二季大耳朵圖圖Big Ear Tutu\\'s Gourmet Rhapsody, Da Er Duo Tutu Zhi Mei Shi Kuang Xiang QuDer Räuber HotzenplotzDa Chaoxun Zhi Ye, The Night of Tide FloodD5小队 第二季D5小队サイクルレースサイバードール FeiFeiCu Xin De Xiao Pang, A Careless BoyCurry no Kuni no Kobal丘比特大闹十二星座Crystal Fairy Z-Squad, Keuliseutal-yojeong Jiseukwodeu크리켓팡 시즌2크리켓팡クレヨンしんちゃん 宇宙からの来訪者 カスカベ大パニッククレヨンしんちゃん 嵐を呼ぶかすかべ防衛隊 宇宙クイズで勝負だゾ！クレヨンしんちゃん Specialsクレヨンしんちゃん プラネタリウム版 星空と学校の七不思議だゾ！クレヨンの星クレーターのなる木コヨーテの首飾りcountdown出番ですよ!オニギリズ丁老头和囧GG丁丁战猴王癲噹デジタル所さんデジガールPOP! 〜STRAWBERRY＆POP MIX FLAVOR〜부탁이니 죽어주라蝶双飞爹地宝贝之神奇哈酷迪迪帮帮总动员地道战之英雄出少年嘀嗒传奇笛卡特警队之生化危机笛卡特警队之机器帝国笛卡特警队之地心传奇Di Bi Gouぢべたぐらし あひるの生活 あひるのすむ島Diaoman Gongzhu Gang FumaDiao Long Ji电脑总动员电击小子 第三部电击小子 第二季电击小子点点狗ダイヤをさがせ！うそつきカラスと春の星座たち地灵曲 南疆迷雾地灵曲 楼兰完结篇Earthly SongResistance迪迪仔周記II迪迪仔周記デビルマン パイロットフィルムDestiny電脳戦士 土管くん チャンプ土管Fight Tension☆Depart燈塔Deng Ming Tian, Waiting For Tomorrowでんでんの電脳電車The Demon Queen Has a Death Wish, The Demon Queen Wants To Die, The Demon Lord Wants to Dieでこぼこフレンズ うたスペシャルでこぼこフレンズ 5でこぼこフレンズ 4でこぼこフレンズ 3でこぼこフレンズ 2Uneven FriendsできるかなDEDARIデコちあ☆Ｗｉｎ！Dead or ArriveDeDeDeDe, DDDD的笃小和尚Ttwittwippangppang Gujodae도티와 영원의 탑大志有话说大战人熊婆大战千年虫大雨DAYDREAMERorNiGHTTHiNKERDayan to Tama to Tobi Neko to: Mittsu no Neko no MonogatariDawn大王日记다윗과 골리앗Big Head Son and Little Head Dad大头闯天关Escape GasshaponDase! Ikebo Gakuen, Cheer up! Ikevo AcademyDaruma-chan to Tengu-chan, Daruma-chan to Kaminari-chan, Daruma-chan to Toranoko-chan, Daruma-chan to Usagi-chan, Daruma-chan to Daikoku-chan, Daruma-chan to Koutsuu AnzenDARK MIXERThe Valor of Qin大桥遗犬大奇和童话镇島影倒霉先生道德三百问之老子顶呱呱稻草记Inversion刀尖다오 배찌 붐힐 대소동당신을 초대하고 싶습니다Dango 3 Kyodai, Three Dango Brothers, Dango San Kyodai, Dango 3 Kyoudaiでんぢゃらすじーさん邪當 一個人当鲸鱼游上沙滩蛋蛋龙和他的小伙伴们団地ともお スペシャル～夏休みの宿題は終わったのかよ？ともお～BikemanDan Zhu Chuanshuo丹尼小课堂蛋计划探索发现儿童系列故事蛋计划之食蛋兽家族蛋计划社会交往儿童系列故事蛋计划逻辑思维儿童系列故事蛋计划之龙王彩蛋蛋计划之龙兽星球蛋计划儿童系列故事东北萌兽 第2季逗逗虎美食小当家逗逗虎快乐家园逗逗虎绘画小天地逗逗虎欢乐成长记逗逗虎汉字大学堂逗逗虎汉语真心话逗逗虎城堡之旅逗逗虎豆丁的快乐日记두돌스, Dooodolls逗比妹子传ドテラマンドタンバのマナーDot Bit Retro - ぼくだけのクソゲーどすこい! わんぱく土俵Dosukoi Sushi SumoDoronCoronReturned Hero Hong Gildongドラえもん 宇宙ふしぎ大探検 プラネタリウム 3 〜地球のふしぎ〜ドラえもん 宇宙ふしぎ大探検 プラネタリウム 2 〜太陽系のひみつ〜ドラえもん 宇宙ふしぎ大探検 プラネタリウム映画ドラえもん のび太の地球交響楽DOOPPEL!Doolie\\'s Backpacking, Dooly\\'s Backpacking, Dooly-ui Baenang\\'yeohaengDou Er Huan Dong Xilieドンキッコ冬至英豪宴东西南北东西茶馆动物行星大探险动物特工局动物狂欢节动物救援队动物合唱团どんぐりと山猫どんぐり森へ冬天里的小田鼠东南特卫队동화나라 포인포동화나라 ABC动画说唐诗东汉演义The Wolf of Zhongshan, Dōngguō xiānshēng (1955), Mr. Dongguo東方神娃 第二部東方神娃东方少年之击斗战车东方七色花Dongfang Ke Er Zhi Modeng Xue Yuan东北一家人东北萌兽东北花泽类之起幺蛾子Floraand Fauna\\'s War, Animal and plant WarsDonghai Xiao Shaobing, Little Sentinels of the East Sea冬冬和瓜瓜Donbe\\'s StoryDon\\'t you wish you were here?Dorufin OujiThe Voyages of Dr. Dolittle, The Voyages of Dr Dolittle独白するユニバーサル横メルカトル Egg Manど根性ガエルやねんDokkiri Doctor: Maidens\\' Secret Physical Examination!!, Dokkiri Doctor: Otome no Himitsu KenkouShindan!!ドッカン! ロボ天どんGamtu the ImpDokkaebi BangmangiDokgo Tak: Throw to the SunDokgotak 3土管くん何かの絵描き歌ドカチンDohyo no Oni Tachiドグラ・マグラDodo\\'s World도단이ドクターＸの自転車安全セミナーDoctor Mambo and Thief Jibako: From Space with Love, Doctor Mambo & Kaitou Jibako: Uchuu yori Ai o Komete!!どちゃもん じゅにあ 2どちゃもん じゅにあ逗逗迪迪美梦年年逗逗迪迪之美梦精灵逗逗迪迪之酷比小侦探逗逗迪迪之汉字小侦探逗逗迪迪爱探险逗逗迪迪爱唱歌DJN, YYY Vol.3 -CLUB EDITION -Dis COVERS地球上最后一个男人다이노스터: 공룡수호대다이노코어 시즌 3다이노코어 시즌 2다이노코어 에볼루션 파트2다이노코어 에볼루션다이노코어DINO!다이노파워즈 2다이노 파워즈Speckles the Tarbosaurus 2: The New Paradise, Konglong Wang, Dino King, 恐龙王丁丁猫成长乐园之智慧森林丁丁猫成长乐园之安全知多少嘟当曼职业体验嘟当曼 第4季嘟当曼 第3季嘟当曼 第2季嘟当曼Dreamfaireez Dance-Off!, Dreamfaireez - Encoreドラ馬チック脳内ドラゴン☆ハート たいせつな ともだち드래곤에그Doc Typhoonドクタースランプ んちゃ!アラレのおしおき!アイデア泥棒をやっつけちゃえ豆芽先生豆芽农场同和問題と人権―あなたはどう考えますか―どうしても干支にはいりたい2Battle Through the Heavens: Q Version Small Theater 2nd SeasonBattle Through the Heavens: Q Version Small Theater, Dou Po Cang Qiong: Q Ban Xiao Juchang斗罗大陆 导演剪辑版斗鸡Dao Ge de Donghua Shijie逗逗宇宙大冒险豆豆与夸克之神秘朋友兜兜都知道どうぶつ村のワールドカップ〜よい子のこうつうあんぜん〜動物村の消防士どうぶつむらのこどもたち動物村の地震用心\\u3000火の用心The Story of the Animal\\'s Village, Animal Village Stories, Dobutsu Mura MonogatariThe Animal Conference on the Environment動物大野球戦Dragon Warrior: Compass Of Astral Seal斗龙战士之爆射龙弹斗龙战士外传斗龙战士6斗龙战士5斗龙战士4双龙核斗龙战士3龙印之战斗龙战士2之星龙圣域斗龙战士Dou Hun Wei Zhi Xuan Yue Qi Yuan 5, The Dream of the Soul, Spirit Guardians 5th SeasonDou Hun Wei Zhi Xuan Yue Qiyuan 4th Season, The Dream of the Soul, Spirit Guardians 4th SeasonDou Hun Wei Zhi Xuan Yue Qi Yuan 3, The Dream of the Soul, Spirit Guardians 3rd SeasonDou Hun Wei Zhi Xuan Yue Qi Yuan 2, Spirit Guardians 2豆福传逗逗虎之幻书游逗逗虎智慧探险逗逗虎争食天下逗逗虎宇宙大冒险逗逗虎纹章之谜逗逗虎数学王国Earth Symphony法典之谜之海底淘法Extreme Hearts Side×Short×StoriesExile Generation Recap, Examurai Sengoku Episode 12.5Galaxy Fleet Jiguho응까 소나타Eto 1/3えとえとせとら儿童科学馆エロ◆ラバERASER WARS二兔大梦想二二二哈企二蛋投胎记Eoli Iyagi, 优瑞历险记엄마의 땅: 그리샤와 숲의 주인극장판 엄마 까투리: 도시로 간 까투리 가족Eomma KkatuliEomma Chaja Sammalliえんそくだったひあんさんぶるスターズ！！追憶セレクション「チェックメイトえのしまんず SPIN OFF 『クラゲの相談』えのしまんずえの素 The Animation炎上撲滅!魔法少女アイ子En En NikoriAsobou yo, Daijoubu Kashira, Tomodachi ga Kimashitaエリエール×紙兎ロペエレキング The AnimationHirake! Ponkikki: Ekubo Ouji, Hirake! Ponkikki: Ekubo-chan to Buba-chan, Hirake! Ponkikki: Ekubo Ouji/Ekubo-chan to Buba-chan, Hirake! Ponkikki: Ekubo to Buba英雄にはなれない僕らだから英雄教室 OVAHeroic Legend: Head On! Master Warriors, Transformers Headmasters Episode 38エイリは王さま!栄光へのシュプール 猪谷千春物語Expedition to Tanken Goblin Island映画の妖精 フィルとムーえほん寄席Jidan Roy, 鸡蛋roy, 에그로이EGG CAR エッグカー阿凡提之奇缘历险A Fan Ti Xin Chuan: Zhong Jin JiA Fan Ti Xin Chuan Zhi Bu Ting Hua De GouA Fan Ti De Gushi, Story of Effendi, Nasreddin Avantiエデュテイメントプラネタリウム ドラえもんとさがそう 宇宙のともだちThe Vaudeville Duo, Eddy & Emmy no Initial Ring wa 2-ri deエディ・ザ・ファーストブレイク越後の昔ばなし あったてんがのぉ越後幕府The War of the GirlEasy Cooking Animation: Youth\\'s Dining TableSam the Olympic Eagle鹅堡小战队鹅堡乐园ダイナミックヴィーナス独行月球都市喵奇谭多云时情夺标堕玄师 前情篇多纳情境英语多乐一家哆来咪俱乐部多宝一家人智慧论语多宝一家人夺宝幸运星大电影之金箍棒传奇2:沙僧的逆袭夺宝幸运星大电影之金箍棒传奇夺宝幸运星4夺宝幸运星3夺宝幸运星2夺宝幸运星多宝成长记ダンプとモンちゃんの小さなぼうけん더미 노 웨이 아웃두억시니가デュエル・マスターズ ハムカツとドギラゴンのカレーパン大冒険Duel Masters Zero Recap, Duel Masters Zero ep 25, Duel Masters Zero: Final Story - A Soul-Summoning Special!デュエル・マスターズ WIN 決闘学園（デュエル・ウォーズ）編デュエル・マスターズWINDUEL MASTERS キング!DUEL MASTERS キングMAX嘟嘟镇嘟嘟小日记두다다쿵 3기두다다쿵 2기두다다쿵두치와 뿌꾸独步万古 第二季段子狗日记断尾狗之螃蟹站住Dumuqiao嘟拉讲故事 童话故事Dukou, The Ferry独脚乐园嘟嘟小巴士之数学城堡嘟嘟小巴士之健康篇嘟嘟小巴士之汉字城堡嘟嘟小巴士之词语城堡嘟嘟小巴士之成长篇锋速战警风生水起之24节气的故事Legend of Chinese Titans封神传奇封神榜传奇风起洛阳之双子追凶风火战纪风花仙子外传丰丰农场之肥虫豆豆丰丰农场奋斗记奋斗吧!松鼠小贱粉墨宝贝Ryuugakusei tte Maji ssuka!?飞越五千年Flying Pigeon废物小说The Flying Monkid飞天少年The Flying Crab廢棄之城飞龙天降菲菲的行业非凡美人鱼非常小子马鸣加Fei Zhi Baike: Yuanlai Ni Shi Zheyang de Zhiwu飞向月球蜚闻记非人哉 春节特辑, 非人哉 龙年特辑非人哉 第二季Non-human 2nd Season, Fei Ren Zai Di Er Ji肥猫正传肥猫瘦狗精灵鼠飛來福飞狗MOCO之宠物店的小秘密飞狗MOCO废柴狐阿桔飞吧，霹雳Fly! Basketball: Prologue罚球线ファンタスティックワールドKetchupFangxue Yihou, After School方脸爷爷圆脸奶奶翻斗豆翻开这一页Fan Dou Tianting 2nd Season, Fan Dou Tianting: Tezhong Budui, 反斗天庭之特种部队反斗天庭反斗高比玩转圣诞城3D福五鼠之战国风云福五鼠之孙子兵法Five Lucky Mouse福娃娃开心游记福乐寻宝历险记福锅囍眉科学世界探险记福锅囍眉科普小园地from North FieldFRIEND.FRESH PEACHふりぃきぃ～はいすく～るFoxWood Monogatari, Foxwood Tales禽兽超人前传之否否正能量Go for It! Hidemaru, Go for It! Mario, Forza! Hidemaru, Forza! Mario, Forutsa! Mario, Forutsa! Hidemaruフォーム・オブ・ストレスフォレストリーForest and TreesFLOWFLOATFLICKER LOVE NO.1Fire Robo 119 vs. Kyonshii Kyonta파이널판타지14 특별 영상 - 서두르지 않아도 괜찮아fighting 32th olympicFight, Pyuta!FIFAFiction Mount ShigiBourbon: Fettuccine GummiShape of the Wind, The Continent of WindThe Shape of the Wind: Siam Era风云奇队风雨廊桥风行天下疯了！桂宝之三星夺宝Kwai Boo疯狂小糖 第6季疯狂小糖 第五季疯狂小糖 第4季疯狂小糖 第三季疯狂小糖 第二季Crazy Candy疯狂小世界疯狂玩具城疯狂时代2之敢问LU在何方Mad Times疯狂梦幻城疯狂斗牛场疯狂丑小鸭凤凰吉象与清明上河图风尘小游侠The Configurators 2搞笑的艾伦高铁侠高女人和矮丈夫Dragon Force Movie 2  So long, Ultraman, Dragon Force: Farewell Ultraman, Gang Tie Fei Long: Zai Jian Ao Te ManGangtie Feilong: Ao Te Man Jueqi钢铁飞龙3山海神兽录钢铁飞龙2之奥特曼力量钢铁飞龙2龙魂觉醒钢铁飞龙(電影)钢铁飞龙钢仔特攻队ギャングと踊り子钢甲小龙侠钢甲卡卡龙간첩잡는 똘이장군Gan Volley-bu Next!がんばれ！！タブチくん！！がんばれ!! タブチくん!!頑張れ!!納父さんGoodLuckYonpeyFight! Oden-kunがんばれ!盲導犬サーブがんばれ！ルルロロ\\u3000第３シリーズがんばれ！ルルロロ\\u3000第２シリーズがんばれ！ルルロロがんばれ！コボちゃん牛乳がんばれ！子象の交通安全パトロール隊がんばれ! 長州くんがんばれ！ぼくらのヒットエンドランがんばれスイミーCome On! Gonbe干霄之风起Gan and Gon, Gan & Gonがん がん がんこちゃん 第2期がん がん がんこちゃん甘布大冒险Gaelleogsi Kijeu学習アニメーション日本国憲法Gakuen Senki Muryou SpecialGakuen Senki Muryou Episode 14.5각시탈Gakkyuu Ou Yamazaki Episodes 21.5 and 46.5Gakken ka Nani ka no Mukashi no Video, Gakken or Some Kind of Old Videoがきたびっ！～青春お城編～Gakitabi! Akechi no Furusato-hen, A Kid Trip! Akechi\\'s HometownBrat Cop OVA, Big Brat OVA, Bratty Cop OVABrat Cop, Big Brat, Bratty CopGainatamagerギャグショートアニメーションThe Double Lottie, Tomboy AngelsG vs. GJipaiteoseu, Wudi Jiguang Xia, 无敌极光侠, Invincible Aurora Man冬休みだ。全員集合！Rainbow of Winter蜉蝣日记福星八戒之吉吉火猴年福星八戒之大年小怪伏羲传奇之五行灵玉Fluffy Hour: Pui Pui & Muu MuuFuwa and the five rings, 福娃五连环, Fuwa Wu LianhuanFuwa\\'s Olympic Journey, The Olympic Adventures of FuwaFuuta-kun Pilot風船少女テンプルちゃんFusen no Dorataro, Dorataro the BalloonTinny Ballon Dog: The Somewhat Mysterious Country of DinosaursBalloon Dog Tinny 2nd SeasonTinny the Balloon Dog, Balloon Dog Tinny風景の死滅FutureNova イメージ・アルバムFutsal Boys!!!!! SpecialsFutari wa Nakayoshi: Guu to Suu, Futari wa Nakayoshi: Guu to Sue, Futari wa Nakayoshi: Goo to SuuふたりのタロウMonchichi the Twins不祥事の未然防止・再発防止シリーズ負傷した線路と月Fushigiboshi no☆Futagohime RecapYappo Islandふしぎの国のアリスWonderlandふしぎなあのこはすてきなこのこEiga Fushigi Dagashiya: Zenitendou - Tsuri TaiyakiフニフニマシュマロFunassyi\\'s Amusing BrotherFunassyi\\'s Aimless Days, Funassyi no Funafunafuna HiyoriFunassyi to Q, FunaQ, FunaQ: Funassyi & QMail DeliveryFuku-chan\\'s Troops, Fuku-chan\\'s Production UnitFuku-chan\\'s SurpriseフクちゃんFuji Log Dai Ni Season, Fujilog Second SeasonOSAM 1-gou, Perfume VH import腐男子召喚〜異世界で神獣にハメられました〜 6th浮標拂晓传奇不安な体The Empty DrumGift Plus MinusJi Ji Dou Second SeasonJi Ji DouGe ZiShe Was Beautiful극장판 또봇 : 로봇군단의 습격극장판 검정고무신: 즐거운 나의 집ゲッターロボ メモリアルGET UP! GET LIVE! #ゲラゲラ ０話GET BACK ON THE HILLゲロタン검정 고무신 4기검정 고무신 3기검정 고무신 2기검정고무신검정 고무신  4검정 고무신거멍숲을 지켜라! 버디프렌즈지오메카 캡틴다이노Jiomeka Biseuteugadieon源吉じいさんと子ぎつねGenki Genki Non-tan: Sing! Christmasげんきげんきノンタン\\u3000スプーン たんたんたんげんきげんきノンタン\\u3000おばけむらめいろGenki Genki Non-tan: Deka Deka Thank YouGenki Genki Nontan, Genki! Genki! Nontan, Genki Genki Nontan 3Genki Genki Nontan, Genki! Genki! Nontan, Genki Genki Nontan 2Genki Genki Nontan, Genki! Genki! NontanGenki Bakuhatsu Ganbaruger Encyclopedia, Genki Bakuhatsu Ganbaruger OVAGENJI FANTASY\\u3000ネコが光源氏に恋をした耿村民间故事Bomb Dome StoryFormula 1Spicy Gag Theater: Tabasco ShowerGEISYA WARSGeisters: Fractions of the Earth Recap给我来个小狐狸给逗逗虎的信ゲゲゲの鬼太郎\\u3000妖怪ポストに聞いてみよう！～目玉おやじのなぜなぜ子供相談室～VR Tamashii no Okuribi, 3D Tamashii no Yukueゲゲゲの鬼太郎～河童のテラフォーミングゲゲゲの鬼太郎 〜コピー妖怪対鬼太郎〜 不正商品には気をつけろ！FANROAD Opening Animationギーツエクストラ ギーツあにめ あなざーぐらんぷり歌声飞出五指山3 Fairies Hold a Press Conference, 3 Faires go to the Moviesがそんし！！～エスパー少女と忍者の我孫子物語～Garon the GuardianGOTHICMADE -ゴティックメード 花の詩女-Gudu De Li Li, Lonely Lilyぐでたま～無法地帯で自由も不自由～ガディガルズ观照關於他的故事咣当历险记关东三宝记关东当铺Guan Hai Ce 2nd Season, Strategies of Sea Observation 2Freak Mountain怪物公寓之崭新生活怪物公寓之友情篇章怪物公寓之美好未来怪物公寓怪兽小馆怪兽家族怪兽厨房怪盗空空怪哉乖桃与闹瓜怪老头儿乖虎早教乐园之语文乖虎早教乐园之识字乖虎早教乐园之认知乖虎早教乐园 数学怪怪拼音历险记第二季怪怪拼音历险记怪城乖宝宝听故事Gu Xiong Pilot Episode, Gu Xiong Episode 0鼓鼓咚咕咚来了顾得白之盟友驾到古博士的新發現グリム童話アニメシリーズGrief Work.Green Sabre, Green Saber, Nalong 3: SOS! Animal Rescuers, Narongi Season 3GREEN・REDGreedy SteadyGreathuntGra-P & Rodeo SpecialGuraP & Rodeo 2nd Season, GraP & RodeO 2nd SeasonGuraP & Rodeo, GraP & RodeOご存知!かくざ父さん午前3時の仮面舞踏会고양이 입속으로 뛰어들다狗熊竞赛季ゴーちゃん。〜モコとちんじゅうの森の仲間たち〜狗狗熊熊乐翻天狗狗傷心誌ゴリパパ一家の農業はオモシロイGu Gu Ji Lixian JiLADYCC公主茜茜 校园篇LADYCC公主茜茜（礼仪篇）Ttori and the TyrannosaurusDinosaur Mecard公路Q车吧功夫兔与菜包狗 第二季功夫兔与菜包狗Gon的旱獭 第三季Gon的旱獭 第二季 SPGon的旱獭 第二季Gon的旱獭 第一季ごめんね, ミーちゃんごめんね チッチ五万匹ゴールデン★キッズご姉弟物語Gokuu no Daibouken Pilot Film, Adventures of the Monkey King PilotYakuza Bar-Room Denden: Yakuza Apocalypse Side-Story極夜ゴキブリちゃん五井先生と太郎ゴハンスキーRice Monster PapYoung Warriors of KoguryoThe War of Great MonstersゴジラVSガイガンレクスご案内します アナザーワールドへゴーちゃん. ~モコと氷の上の約束~ゴー！ゴ―！びーくるずーGo! Go! Bejitan, Go! Go! VejitanGo! Go! Tokyo MER: Kinkyuujitai to Tatakau Nakama-tachiGo!Go!家電男子 シーズン2GoGo虎エ門Gogosumanime, Go Go Suma Anime, Animal Friends, Sumamon, PePenguin, Rabbitleガラスの仮面ですが と ZGJ8man Recap, GJ8man SummaryGJ8マンGIRLS★BATTLE アロ恵ガールズジョッキーGalaxy Railways: Crossroads to Eternity - Sirius Platoon of My Heart, Galaxy Railways II: The Galaxy Railways of My Heart銀河鉄道999 〜消えた太陽系〜銀のろうそく立て기기괴괴Giga Trive, Tribe GB岐阜のたてかよこhadopelagicはむこ参る!ハムスターサムHami Coro, HamiCoroハルのふえHakusai Anime Specialハコフグとみなまたの海はっきりことわろう 誘拐されないぞ！はっけん たいけん だいすき! しまじろう博多バスターミナル吾郎はじめてのクリスマスはじめにおぼえる交通安全海洋小伙伴海星兄弟海豚帮帮号 第二季海豚帮帮号配信勇者海上丝路之南珠宝宝海螺湾Haier Brothers Cosmic Adventure海尔兄弟Octonauts: The Ring of Fire嗨！贝乐虎ハーイあっこです-みんなの交通安全-海之傳說－媽祖海力布 (猎人海力布)海角天涯海宝来了 第三部海宝来了 第2部海宝来了哈哈镜花缘哈哈！地球人哈哈西游行哈哈熊之时空探险哈哈熊童话世界之奇妙画室哈哈熊漫游世界哈哈熊剧场之智慧大讲堂哈哈熊剧场之海底世界哈哈熊剧场之地名故事哈哈熊幻想乐园母をたずねて三千里母うずら母として本物を。哈哈咪咪秀哈哈滑小稽哈哈 滑小稽The Adventure of Ha HaはげTurtle HeroAdventure Of Haedol黑客狙击手鉢かづき姫8 Tsuki 9 Nichi NagasakiThe Story of the Hummingbird羽ばたけピータン哈利心算口诀天天练逆異世界転生エージェントエーコさん귀여운 쪼꼬미愚図の底グーパ王子の交通安全守ろうお約束グッチョンパおもしろ話古书新说故事枕头古诗学堂故事小号手故事奶奶果蔬乐园过山车手罗力果然一町过年者联盟之寻龙记果冻三剑客果凍寶貝Passing the Bridge国魂過猴山果果骑侠传 (巴希酷超人)果果乐园果果别动队果宝特攻之水果大逃亡果宝特攻4之铠之魂果宝特攻3果宝特攻2果宝特攻ぐんまちゃん シーズン2咕噜先生Gulu Mermaid 2Gulu Mermaid咕力咕力愿望瓶咕力咕力好习惯咕力咕力之动物世界Gu Li Gu Li咕力动画逻辑思维启蒙龟兔再跑龟兔大作战鬼马小精灵之科学常识宝葫芦猴龟分树Gui bao zhi bao xiao chuang yu zhouググミちゃんLonely Little PigHarley Spiny헬로 카봇 쿵헬로 카봇×메카드볼헬로 카봇Heli-Octopus Puu-Chanヘレンと共に\\u3000アニー・サリバン-Heijokyo: Yasukerashi Miyako平安遷都嘿！星星狐 第二季嘿！星星狐黑熊奇遇記Mr. BlackBlack Cat Detective: Green Star, Hei Mao Jing Zhan 2015, Mr. Black黑脸大包公之忠肝义胆黑脸大包公之赤胆忠心黑脸大包公之无悔青天黑脸大包公黑黑与白白之奇山学校Black BoxBlack Rooster黑逗木仔奇遇记Heart Cocktail Colorful: Summer ChapterHeart Cocktail Colorful: Spring Chapterハートカクテル カラフル 冬編He Nü\\'er De Richang Third Season和女儿的日常 第二季 特辑He Nü\\'er De Richang Second SeasonDaily Life with a Daughter, He Nu Er De Richang何老师安全课堂鹤的传说ハゼドンはざまつりはやぶさ HAYABUSA - BACK TO THE EARTH - 帰還HAYABUSA - BACK TO THE EARTH -ハワイアン コヌはとよ\\u3000ひろしまの空を果ての一閃 EPISODE ZEROHatarakids Maiham Gumi, Hatara kids My ham Gumi, Master HamstersShinagawa Anime Sonosanハスの妖精 ぼにょぼにょHashire Jonはしのうえのおおかみ春空と秋空はるつげうおとふうらいぼうHaruba-Ke no Sanninme, Haruniwa Ie no Sanninme, The Third Child of Haruba Family, The Third Person of the Haruba Houseハルの虹の葬式春になったら こぐまのユーゴ物語Hari Maware! Koinuはれときどきぶた のりやすくんの交通安全はれときどきぶた のりやすくんの火の用心はれときどきぶたの交通安全はれときどきぶたの地震用心日記Happy Seven Chibi Character Theatre, Happy Seven: The TV Manga SpecialsHappy GeorgeHappy Father and Son and Water King KongHappy Father and Son: Super Bubble EggHa Pi Fuzi, Happy Father and SonHappening Star ☆ (ハプニングスター☆)好奇探长好朋友Hao mao mi mi浩昊文字国好孩子小课堂好呱呱汉字虎小侠汉字公主猫小美汉字大作战憨兔的奇幻之旅半島の鳥阪神淡路大震災に学ぶ 僕は、あの日を忘れない。Heart Sutra寒露한자왕 주몽ハニ太郎です.汉化日记 第四季ハンギョドンのパラレル大作戦 未来世界は大さわぎハンギョドンのパラレル大作戦 恐竜王国は大さわぎハンギョドンのパラレル大作戦 (花のお江戸は大さわぎ)ハンギョドンの００７／２ (ドクターサンデーあらわるの巻)航天宝贝憨八龟的故事 拯救王子The Stories of Hanbagui塙凹内かっぱまつりFlower Angel Ten-Tenはなまる交通安全はなかっぱスペシャル ぼくらの大冒険はなかっぱの交通安全\\u3000ケーキを求めて右・左・右Eiga Hanakappa: Hanasake! Pakka~n♪ Chou no Kuni no Daibouken花と少年花と風のファンタジー花さき山The Happy Section Chief, The Magnificient Chief ClerkHana Ichi Mon Me, Hanaichi MonmeMong Dong憨憨鹅与嘎嘎鸭히어로 인사이드ひとりぼっち一人しかいない自分翡翠Etty no MonogatariHis name is Pesu.ひろしまのエノキ広がる、せかいGekijouban Hiragana Danshi: Joヒノマル!日野日出志 東海道 四谷怪談Secret Society Eagle Talon WEB Specials, himitsukesshatakanotsume.jp Extra Episodes, himitsukesshatakanotsume.jp Bangai-henSecret Society Eagle Talon WEB秘密結社鷹の爪 THE PLANETARIUM: ブラブラ！ブラックホールの謎Secret Society Eagle Talon The Movie 4, Himitsukessha Taka no Tsume The Movie 4: The Man with KasperskyThe Frogman Show Specials, Eagle Talon Specials秘密結社 鷹の爪シックス 〜島根は奴らだ〜Secret Society Eagle Talon GTSecret Society Eagle Talon ExtremeSecret Society Eagle Talon Just Do ItHimitsu no Pompom-chan,Himitsu no Pomupomu-chanひまわりのようにHIMAWARIガールズ ミニアニメ彦一とんちばなしHikawa Maru Story光射す空へ光がさすときひぐまのおんがえしHiGH&LOW g-sword OVAHiGH&LOW THE LANDHigh & Low: G-Sword Manner MoviesHiganjima X Special火吹竹陽だまりの家Hai Bei Bei嗨，顾得白之暑期趣事嗨，顾得白之奇妙生活嗨，顾得白之快乐成长嗨，顾得白之爱最珍贵Hai, Gu De BaiHiyali火の鳥 絆編火の鳥 エデンの花火あそびは火事のもと ケンタとニャンタの火の用心My Little FoxThe Brothers of Hungboo and Nolboo, Heungbu and Nolbu흙꼭두장군ヒーローズ ~バトルディスク伝説~へろへろくんヒーローカンパニー히어로 써클 2히어로 써클Ha Pu Yijia合拍学生妹Heonggeuli Beseuteu 5へんたつ\\u3000大晦日特別版Hen na Ko chan変形作品第５番＜レンブラントの主題による変形解体と再構成＞哼哈百乐门狠西游 第2季Henxi You, Hen XiyouHelpless voidHa Lou! Pu Xingren Zhi Ji Xun TegongHa Lou Pu Xingrenハローキティ トゥインクル☆ムーンライト \\u3000～CUTErium with SANRIO characters～ハローキティと見よう日本むかしばなしハローキティと見よう イソップ物語ハローキティといっしょにお勉強ハローキティのサンタさんが二人いたハローキティのおかぜをひいたサンタさんハローキティのみんなの楽しい夏休み헬로 코코몽2헬로 코코몽극장판 헬로카봇: 수상한 마술단의 비밀극장판 헬로카봇: 옴파로스 섬의 비밀극장판 헬로카봇: 달나라를 구해줘!극장판 헬로카봇: 백악기 시대헬로카봇 스페셜 - 펜타스톰Hello Carbot: X Returns헬로 카봇 시즌8헬로카봇 스페셜 - 헬로 스피너블헬로 카봇 시즌7헬로카봇 스페셜 - 동물 구조대헬로 카봇 시즌6헬로카봇 스페셜 - 지구를 부탁해헬로 카봇 시즌5헬로 카봇 시즌4헬로카봇 스페셜 - 영웅의 등장헬로카봇 스페셜 시즌3헬로카봇 스페셜 시즌2Hello Carbot XHello Carbot: JemHello Carbot: Boom BarHello Carbot: SambaHello Carbot: Bang헬로 카봇 쿵 알카봇과 동물친구들The Red Cloud CliffIntroduction of Flower Fairies Happy AdventureFlower Elvesteam画江湖之侠岚Painting Jianghu: The Legend of Tiangang, Painting Rivers and Lakes: The Legend of Gangster大侠之路画江湖之换世门生 第二季Painting the Rails of Rivers and Lakes at NightPainting Rivers and Lakes 6, Hua Jiang Hu: Bu Liang Ren 6th Season花狐狸与捣蛋鸭The Legend of HuaguoshanHuyao Xiao Hongniang SpecialHu Wang Gui LaiHushang Gewu, Singing and Dancing on the Lake胡僧Huli Da Lieren, The Fox Hunts the Hunter虎虎小天地DVD乐园蝴蝶与百蔬仙子蝴蝶泉猴子捞月猴子钓鱼猴子点鞭炮逢仙花劇場版『放課後のプレアデス』\"マナームービー\"予告編After School Midnighters: Short Movies Season 2猴王传螢火の身ごもり蛍の舞う街で星空を見上げて【～365日の星日記～】ほしぞらの水族館星野君の二るい打Hoshi Shinichi\\'s Short Shorts SpecialHoshi Shinichi\\'s Short ShortsKittens of the Island of StarsHoshi no Ouji-sama: The Little PrinceHoshi no Ojisama Petit Prince, The Little Prince, Le Petit Prince星にかたる恐竜ホライズンブルーHopi and Chadol Bawi, Hopi and Quartz Rock, Hopiwa Chadol Bawi本当の私が見える？Honto ni Atta! Reibai Sensei Special炎の戦士\\u3000ファイアーガールThe Sweet Memory本能寺の変My Instinct本まぐろ トロ太郎Hongse Jiangshan Zhi Huangma Fenghuo红色传奇洪荒灵尊红豆伢红游记Hong Ying Yi Mai Zhi Yi Da Wenwu Beihou De Gushi紅尾巴Fanqie Jie Di, 番茄姐弟红石峰红色信号红气球虹猫蓝兔仗剑走天涯Hong Mao Lan Tu: Zhi Yongzhe Guilai虹猫蓝兔小幽默虹猫蓝兔水墨动画虹猫蓝兔七侠 外传Rainbow Cat & Blue Rabbit: Legend of the Seven Swords虹猫蓝兔你问我答虹猫蓝兔闹新春Hong Mao Lan Tu Meng Zhi Guo Lixian Ji虹猫蓝兔猫眼看宇宙虹猫蓝兔乐翻天虹猫蓝兔快乐识字虹猫蓝兔恐龙世界虹猫蓝兔开心一刻虹猫蓝兔火凤凰虹猫蓝兔海底历险记虹猫蓝兔光明剑虹猫蓝兔闯太空虹猫蓝兔奥悠国历险记虹猫蓝兔阿木星虹猫蓝兔MTVDream of the Red Chamber (ONA)Dream of the Red Chamber, HongloumengHonglingjin Yu WangxiaomingHong Lingjin, The Red ScarfHongjun Qiao, The \"Red Army\" BridgeAurora, R.E.D., Rescue Eternal DesertHong Haier: Dahua Huoyanshan, Fire Ball: Journey to the WestHong Hai Er Chuanqi红孩儿之趴趴蛙寻石记红孩儿与大学院General Hong GildongHong Gildong 2084红鼻子骨嚙みホリデイラブ 〜夫婦間恋愛〜ホリディPlanetary Robot Thunder AホッキョクグマすっごくひまInto Animation 6The Super Grandmother of the Hitotsuboshi Family一つの花蝴蝶夢：梁山伯與祝英台百姓貴族If You Have ¥1,000,000, 100-mannen attara, dousuru?100 Banme no Saru, The Hundredth Monkey, Hyaku Banme no Saru百々Volcanic WhaleGolden Arm, The Arm of Gold, Hwanggeum-ui PalFox Spirit Matchmaker 12th SeasonハードルAdventure at Flaming Mountains火星西路7号火星娃之古代大家故事火线传奇小剧场火线传奇 第三季火线传奇 第二季火线传奇Blazing Teens 7Blazing Teens 6Torch FestivalHuoyan Zhanshi火焰山火星娃宇宙钥匙火星娃勇闯魔晶岛火星娃英汉乐园之能量魔方火星娃之益智煲火星娃之野外大冒险Huo Xing Wa: Shi Hanzi火星娃冒险乐园火星娃健康成长Mars-child vs. Hello-monster火童火神之天启之子火鸡哥火火兔Huohong De Yanbiao, Fiery Slogans Engraved on the Cliff火凤重天浑元婚后日常葫芦兄弟Diamond Brother, Hulu Brothers 2, Calabash Brothers 2葫芦响叮当Hu Li Song Pu Tao狐狸列那狐狸分饼Furakappa ep 78, Hula Kappa ep 78, Hula Kappa Tokubetsu-banHula Kapper, FurakappaSouvenirCommon Crane回声——小兔淘淘的故事回家路上回到恐龙时代La Confiture de Papillons湖笔小子The Story of HuazhiHuayu Cheng Xing Third SeasonHuayu Cheng Xing Second Season花语程行 第一季欢笑满屋幻想家小美之成长的烦恼幻想家小美环球童话城之安徒生童话环球大冒险之中国篇幻梦山海谣欢乐之城欢乐镇的欢乐故事歡樂滷沙沙欢乐逗地主欢乐丛林之外星人大冒险欢乐北极星欢乐宝宝大电影欢乐宝宝Huanji 45\"黄山传奇Ⅱ黄山传奇Huangjin Wu Specials黄金屋黄帝史诗The Dream to Be an Emperor, The Emperor\\'s Dream皇帝的新装之圣诞大明星黄貔：天降财神猫Huangjin Meng, The Dream of GoldOnce Upon A Time In China黄逗菌特别版之《忘不了》Huang Dou Jun荒岛历险记之罗克和编程猫皇霸天下环保小卫士环保特攻队环保剑Happy Bar欢乐正前方欢乐大联盟环游地球八十天幻古云界之山海奇缘缓兵计Sweets Fairy, Magical Wizard Cake Fairy花花使者花千谷之花魂之路Hualang Yiye, One Night at the Art StudioFlower Beautyイン・ザ・フィルムJapanese, NihonjinJapan World Cupジャンケンマン 怪獣大決戦장미여관장독대Jam the House Snail, Jam the HousenailJAM POTJadoo\\'s Diary, Jaduui Ilgijangj-sportJリーグを100倍楽しく見る方法!!いずみのこえ이야기여행이야기 배달부 동개비Iyab! Seupeiseu Jeong-geul 2nd Season, 来自奇星的小伙伴Iyab! Seupeiseu Jeong-geul, 来自奇星的小伙伴Iwata Kunchi no Obaa-chanいってきます。いつもこころにほほえみをItsuka no Main: Kaminari Shounen Tenta Sanjou!, Itsuka no Main: Thunder Boy - Tenta Sanjou!Chippo the Mischievous AngelNaughty MailboxイタダキノサキIssun-boushi磯部磯兵衛物語〜浮世はつらいよ〜磯部磯兵衛物語 〜浮世はつらいよ〜The Story of Isobe Isobee磯部磯兵衛物語石山寺デジタル縁起絵巻石ノ森章太郎の歴史アドベンチャーThe Fabled Underground People, Kore ga Uwasa no Chiteijin Tonikaku Ue ga Waruin\\'ya!!, Chiteijin II Christmas wa EedoIshii Hisaichi no Daiseikai, The Big Political World石からIsewan Taifu Monogatari, Isewan Typhoon StoryIruka to Shonen, The Dolphin and the Boy, Zoom the White Dolphinいっぽう日本昔ばなしREACH x Inuyama Kamikoいぬわりさんイヌイさんッ！introspectionインセクトランドいのりの手いのち輝く灯稲むらの火稲森 明日人のサッカー教室いないいないばあばInagawa Junji\\'s Very Scary StoriesInazuma GO Gag Gaiden, Danball Senki W Gag Gaiden인앱In full bloomImokawa Mukuzou Goes Fishing, Chamebouzu Goes Fishing, Chamebouzu Uozuri no Maki, 茶目坊主魚釣の巻일지매Ikuze Gensanイルカから一休さん  大暴れやんちゃ姫Ikitemasu, Juugo-sai.生きている生きる壁生きぬけ！爆走！クソハムちゃん Episode 0生き抜け！爆走！クソハムちゃんDagon In The Lands Of Weedsいきものさん パイロット映像Ikemen Kyuugotai Nurse Angels異化した視覚Granny Mischief, Ijiwaru Baa-sanBullying Grandmother, Ijiwaru Baa-sanいじめっこ狼とナナちゃんいじめはゼッタイわるい!いじめストップ！\\u3000金太郎心のちからもちいじめ１４歳のＭｅｓｓａｇｅ異字元合体もじバケるZいいからいいからIii Icecrin 2iichiko storyIdol Land Hajimechaimashita!アイデアが捕まらない。이대로 괜찮은 걸까?Icon War1 Nen 1 KumiMachbaito一枚の絵てがみ九爺一助☆新畫帖一期一会～キミノコトバ～いちご飴いちばん近くに一眼国アイスくりたろうイブラヒム3周年記念アニメI.CINNAMOROLL AnimationI\\'m LateアイラブみーHu Duoduo, 虎多多ハイパーボジティブよごれモンHyper Earth Rescue Teamひょっこりひょうたん島Hybrid Keiji, Himitsukessha Taka no Tsume, Eagle Talon, The Frogman ShowDance With the Wind金螺号人KENまもる君とあゆみちゃん 世界をしあわせに金狐狸和粉凤凰Golden Earrings and Iron Hoe吉木智斗雷人鼠积木小战队积木五千年之积木春秋 第二部积木五千年之积木春秋 第一部积木鸡吉木故事会ジモトがジャパン鸡毛信机灵宠物车叽里咕噜讲故事Jiligulu Babamao, Ji Li Gulu He Baba Mao機甲英雄 機鬥勇者Hero of Robots MovieDangerous Jiisan지혜로운 방구석 생활Jigoku no Sobe, Jigoku no Sobee地獄めたもるBattlefield Baseball疾风劲射节庆守护者之年兽出没杰力豆 第四季杰力豆第3季杰力豆 第二季杰力豆杰杰熊与迪迪鸟Jidou Bungaku Anime急电小信使极地大反攻自分の胸に手を当てて自分で自分を守る机变英盟Jia Zi Jiu Lu加油宝贝加油吧！三二班 第二季加油吧!三二班家燕妈妈嫁人就嫁灰太狼交通奇兵胶囊计划 第二季胶囊计划娇娇与晶晶娇娇的奇遇Ven. Jian Zhen健康智多星姜子牙之尚湖传说江南Jiangjiu Ren Extra讲究人江海渔童之巨龟奇缘讲武青春犟驴小红军剪刀石头布AFK ArenaJian Yu Chuanqi 3剑仙在此 第2季剑网3·侠肝义胆沈剑心之长漂JX3: Chivalrous Hero Shen Jianxin 3rd Season Part 2JX3: Chivalrous Hero Shen Jianxin 3rd Season健体塑行之成长好习惯建木传奇贱萌三国剑骨尖儿魔术师家有男孩家有开心果家有酒神家有浆糊家有活宝家有儿女家有豆丁If I were Wu Song贾二卖杏字のないはがきJili Yu Gulu机甲旋风之星际海盗机甲旋风激战篇Opti-MorphsThe Mechnimals 2The MechnimalsJi Ji Zha ZhaJigong Zhi Xiang Long Jiang Shi济公斗蟋蟀Jigong Chuanqi, Jigong Chuanqi Donghua BanJigong积高侠与阿里巴巴Kyrgyzstan Gamesジュエルペット あたっくとらべる！Jeonsa LaianElectric Man 337Jeong-geul-eseo Sal-anamgi Maluui Eodeubencheo, Jungle Survival Maru\\'s Adventure점Juedi Shi RiJarujio AnimaruThe Hidden Past of Kotetsu and Antonio Jr., Jarinko Chie (TV) Episode 42.5锦绣神州之姓氏王国巨兵长城传Jipi He Ta de PengyouJourney to the 母性の目覚めKyuujitsu, Holidays, Yuki, Snow, Potage, Aitsu, Them, Asa, Morning, Hirune, Nap, Curtain Call조의선인High School Girl and the Magic Notebook좀지: 좀비 지방이城郭合体オシロボッツジョニーサイファージョディCandy Bugle Call of JM Bear, Jie Mi Xiong: Tianxin Jijie HaoWonderful Magic of JM Bear, Jie Mi Xiong: Shenqi MoshuMagic Circus of JM Bear, Jie Mi Xiong: Mohuan Maxi TuanAdventure of the magic Vase of JM Bear, Jie Mi Xiong: Mo Ping Da MaoxianJi Zhi De Shan Yang激战奇轮繼園臺七號Jiyi U Pan, Ji Yi U-pan, Ji Yi U Pan, Ji Yi Sui Pian吉祥猫可可吉祥宝宝之我是食神吉祥宝宝第四季吉祥宝宝第三季吉祥宝宝 第二季吉祥宝宝极限狂飙救援宝贝第二季救援宝贝九天星带你玩转戏曲九天奇缘九夜神传九天玄帝诀 第五季Nine-Nine Eighty-One, 9-9-81九华小和尚九藏喵窝 第二季九藏喵窝极速之星极速少年极速六孔球Mushi Mushi-mura no Bousai Kunren, Mushimushi-mura no Bousai Kunrenじしんだ!! ミーちゃんのぼうさいくんれん基石机器人学院机器人逗逗之欢乐逗逗记机器人逗逗之逗逗成长记机器人逗逗之逗逗童年志机器人逗逗之逗逗日志录炯乐汇Kim-hi锦衣神匠锦绣神州之奇游迹金星人愛情故事今天少主不在家今天·明天Re:STARS: Mirai e Tsunagu Futatsu no KiraboshiJintian Kaishi Zuo Mingxing 2nd Season, Jintian Wo Kaishi Zuo Mingxing 2, Start to be a star today 2, Re:STARS 2金丝猴神游属相王国金牌帮帮帮之家与希望金牌帮帮帮之爱与梦想金牌帮帮帮进击的机甲之圣戒飞陀精忠报国晶莹小子京味马聆曙金龟子警犬救护队Wizard CenturyJing Ling Nv Hai Xiao Zhuo MaYeloli: Fairy of Dreams, Ye Luoli, 精灵梦叶罗丽第一季, Jingling Meng Ye Luoli Season 1, Night Lolita, Yeloli, 叶罗丽, 叶罗丽精灵梦, 精灵梦叶罗丽系列,  精灵梦叶罗丽 第1季, 夜萝莉精灵萝卜娃精灵酷小贝精灵爱牙讲堂之口腔健康知识精灵爱牙讲堂Jingju Mao 2nd Season, Beijing Opera CatsJingju Mao 4th Season, Beijing Opera CatsJingju Mao 3rd Season, Beijing Opera CatsBeijing Opera CatsJingji Xue Yuanジンギスカンのジンくん仁義警车小治警车联盟Swirl FighterThe Transformers ShanMao惊喜萌宝精卫填海晶码战士晶灵启元京京来乐道 第二季京京来乐道Jinghua Yuan晶翠仙尊 下Jin Bi Guo You Ji今童王世界Jinse de Hailuo, The Golden Sea SnailJinse De Dayan, The Golden Wild Goose金苹果金木水火土Kage-e Grimm DowaHappy Heroes 3开心超人之时空营救开心超人之爆笑星星球开心超人联盟之英雄归来开心超人联盟之星之力Happy Friends 11开心超人联盟之星际联盟开心超人联盟之神奇实验室开心超人联盟之能源核守护者Happy Superman Alliance: Mystery City开心超人联盟之超时空保卫战开心超人2：启源星之战开心超人Happy Friends Season 8开心宝贝之开心星星球开心宝贝之开心联盟争霸战开心宝贝之开心大冒险开心宝贝之开心超人开心宝贝之开心超人大作战开心宝贝之古灵星历险记Happy HeroesPride the Master Thief, Mysterious Thief Plaid, Kaitou Plaid, Mysterious Thief Pride怪盗ガリーの日本人攻略法!海底国の交通安全Till a City Beneath the Sea is Built貝社員！農林水産省へ行く貝社員 vs クレジットカード課長～クレカのルール知ってる貝？～海戦Kaiketsu Zorori: Terrified Bridal Strategy, Kaiketsu Zorori PilotEiga Kaiketsu Zorori: ZZ no Himitsu, The Secret of Double Z映画かいけつゾロリ\\u3000ラララ♪スターたんじょうかいじゅうステップ ワンダバダかいじゅうステップ\\u3000SDGs大作戦かいじゅうせかいせいふくMonster Tavern Toast Specials开局一座山KAIJU DECODE 怪獣デコード蟹眼开店怪物くん카이: 거울 호수의 전설Free Power Real, Satisfaction Real, Kaido-Ryoku Real, Kaidohryoku REALFree Power, Satisfaction, Kaido-Ryoku, KaidohryokuKahey no Umi, Kahei\\'s OceanEternal Paradise, Limitless ParadiseYamahiko Who Lost His HookかげろうかーくんKage-e Mukashibanashi影絵アニメシリーズKagee Aesop\\'s Fables, Kage-e Aesop Monogatari, Kagee Aesop\\'s Fables影の子供輝け!友情のVサインカガリ ヒバナKagaku Nineko-tai GatchanyanDr. Slump Arale-chan Returns Special帰ってきてよぉ富山から蛙は蛙Frog Prince and Caterpillar Henry蛙の夢かえりみちConsumer Electronics John TV Show花鳥風月Kachikachi Yama (1934)カチカチ山の消防隊かちかち山Ltd. Zoo, Kabushiki Gaisha ZooMold RabbitPotomas the HippoKaba Enshou no Doubutsuen Nikki卡乐拉拉卡卡快乐成长十六地蔵物語 ―戦争の犠牲になった子どもたち―Miao Xing Shaonian Piaoliu JiJustice Runners巨神战击队之轨道先锋君临臣下ジャングルウォーズJunma Feiteng, Horses Galloping純がくれた命Jeom-bak-i: Han-ban-do-eui Gong-ryong 3D, Tarbosaurus 3D, Tarbosaurus: The Duel Begins, The Dino King聚精会神榜Sir Rabbit Fantasy Trip爵士兔Ⅱ 之永恒之曲绝对领域极战纪Juedui Lingyu Special绝对领域A.F.绝顶Judo Bu Monogatari菊叔5岁画鞠萍姐姐讲故事聚能仔巨龙山谷Ju Ko Hatagami: Kami Korin, BaryonJu Chong Gong Yuan紙兎ロペ×ROPÉ SISTERSCutta-kun Monogatari勝連おもろそうしケイト・アロー×！EXC\\u3000ポニーテール片翼のクロノスギア片腕KASHURA – Cardinal FunkKASHURA IIHousekeeper Ita火災予防かさぶたカルガモ親子の交通安全カルガモ親子の火の用心喀斯特神奇之旅Karrimor Mountain Club 2Karrimor Mountain Clubカルルとふしぎな塔かりあげクンKa Lun Lu Na Zhi Richang, Karen Luna\\'s Daily Life彼は現実の世界に…The Crow Does Not Choose the LordカラスのプータSchool for Thieves/Mr. Crow the Baker空の卵克拉和玛依历险记かっぱまきかっぱのすりばちカオルの大切なモノ靠岸かんすけさんとふしぎな自転車Kill Yourselfカンちゃん月の石をもらう観光大戦SAITAMA～サクヤの戦い～かんからさんしん抗日小英雄杨来西抗日小奇兵寒月一凍 悪霊斬り金子みすゞ やさしさの風景官兵衛くんがゆくかなかなかぞく看無風景看门的黑狗看个球砍柴姑娘Kamo Tori Gonbeeカミワザ・ワンダKamiusagi Rope 4紙兎ロペ × ワコール紙兎ロペ×東京ガス紙兎ロペ  TOHOシネマズ紙兎ロペ x Ricordi紙兎ロペ\\u3000つか、夏休みラスイチってマジっすか！？Paper Rabbit Rope: Global Warming, Kamiusagi Rope: Ondan-ka, Kamiusagi Rope: Job Hunting,  Kamiusagi Rope: ShuukatsuKamiusagi Rope, Feng Shui, Undou ShinkeiPaper Rabbit Rope 3Paper Rabbit Rope 2 Specials紙兎ロペ２紙兎ロペかみさまみならい ヒミツのここたま 特别篇Pikkaribee, Boy of the Thundersカミナリ坊やピカッ太君の交通安全カミナリ坊やピカッ太君の自転車教室紙の家Masked Warrior Lavithunder仮面ライダーセイバー＆仮面ライダーゼロワン、ショートアニメ劇場マナーMarionettes in Masks, The Marionettes of Mask, Kamen no Marionetto-tachiKame-abara卡拉乐队かくざ父さんKakugen! Kakuza Tousan, Kakuza Father核戦争核戦争\\u3000学習アニメーションかくれん坊革命犬 デカプー\\u3000誕生格言! かくざ 父さんKako Pad: Nagaoka Hanabi Monogatariカッくんカフェかっこいい 1ねんせい ゆきの ぼうけん「かっこいい 1ねんせい」になるためのだいぼうけんかっこいい 1ねんせい になるまでの ３つのやくそく咔咔历险记卡卡和他的朋友们カジラレ島のふたつの灯台火事と小馬火事のあくる日Pirate Prince开心仔乐翻天开心小镇开心私塾开心神探开心森林开心南瓜村开心连连看Happy Street开心汉字开心果的绿色家园之哈哈森林Happy Fruit/PistachioFrienZoo开心锤锤けろけろけろっぴのミツバチ大騒動King Kong / Tom Of Thumb, Tom of T.H.U.M.B., King Kong: 00 1/7 Tom ThumbKinkyuu-Kids Otasuke-tai金のまきばKim\\'s Cross, Kim\\'s Crucifixきもしば２きもしばきみならどうする？ゆうかい・いたずら\\u3000されないために君との正しい約束キミとの正しい約束君知ってる？首都炎上アニメ東京大空襲Ayu Mayu Theater PrologueKimezo BusinessmenKimezou no Kimarimonku Ja Kimaranee Dai 1 Seriesきまりのないくにきまぐれオレンジ☆ロード サマライズエディクションCapricious Conceptキキとララのヘンゼルとグレーテル危険信号ゴッデスきかんしゃやえもんTeacher Tank Engine, Locomotive TeacherKijeu CSI Gwahagsusadae, Kids CSI黄色い気球とばんの先生黄色い海洋気象台きいちゃん 私、生まれてきてよかった！消えさらぬ傷あと 火の海・大阪機動戦士ガンダム 鉄血のオルフェンズ ウルズハント機動戦士ガンダムさん ~劇場マナーCM~Gundam Double O Revealed Chronicleモビルスーツ学園「帰ってきたＧ-レコ甲子園」キックオフ２００２Kick & Slide SpecialKICK&SLIDE気分は形而上[うああ] 実在OL講座キ・ファイター テラン気をつけよう\\u3000道路は危険がいつぱい！木の中刺す魚の気科学探索之奇妙地理科学怪博士之神奇的太阳学院渴望藍天Ketsu-Inu, Butt DogTakuma, Ketatamashiku Ugoko Kumaケシっこケシカスくんケロロ軍曹 超立体版 星空をとりもどせ！太陽系大追跡であります!!けろけろけろっぴ はすのうえタウン危機一髪!けろけろけろっぴの友だちは魔法使いけろけろけろっぴの空とぶゆめの船けろけろけろっぴの空をとべたらけろけろけろっぴの三銃士けろけろけろっぴの恐竜がでたけろけろけろっぴのぼくらのお姫さまけろけろけろっぴのびっくり! おばけやしきKe Er Lixian Ji, Ker\\'s Adventure科普中国之小破孩禁毒系列科普中国之乐乐熊读科学ケンタとニャンタのクルマ大好き！けんさくとえんじんのHappy Birthdayけんさくとえんじんのクリスマスけんさくとえんじんの新しいともだち クエリ登場！けんさくとえんじんのABC Days県立海空高校野球部員山下たろーくん健幸宝船 SUKOYAKA 7The Cat\\'s Office, The Twin Stars, The Coat of a Glacier Mouseケンちゃんと防炎家族ケンとかいじゅう깨미탐험대깨미랑 부카채카깨미可乐狗結婚を祝う兎と虎Kekkeroke可可小爱可可泥的夏天可可可心一家人2可可可心一家人科科成长日记けいとのようせいニットとウール慶応遊撃隊活劇編ケイコワKe Rui Le MuchangGonjiro The Furball可乐山林之丰收的季节可乐山林之多彩的家园可爱的中国HairKazu and Yasu Hero Tanjou, Kazu & Yasu Hero Tanjo, Kazu and Yasu Hero Legend, Kazu to Yasu Hero DensetsuSekai Meisaku Gekijou Kanketsu Ban: Kazoku Robinson Hyouryuuki - Fushigi na Shima no FloneThe Deck Family, Family Deck風の旅人Wind Spiritかぜの日風かよこ桜の咲く日Kayochuカワウソラボ川凪ぐ火葬場Katsu Toba Se! Dreamers考拉开学啦恐龙学校恐龙危机之恐龙归来恐龙世界恐龙来了Crazy Racing恐龙宝贝之失落的文明恐龙宝贝之龙神勇士3恐龙宝贝之龙神勇士2恐龙宝贝之龙神勇士Konglong Baobei (Movie)恐龙宝宝漫游记之我爱我家恐龙宝宝漫游记之文明宝典Kongjwi and Patjwi, Kongjui & Patchui孔小如空天战队之星兽大战空天战队Essays on Insects, Insect TsurezuregusaChu! Insect StorySakyo Komatsu\\'s Animation Theaterこまねこショートムービー2021Tokyo Revolution of the Heart, Kokoro no Toukyou Kakumeiこころの交響楽心の花たば心のキャッチボール可可乐乐之童趣乐园KOKO国家を救へWageul-wageul KokomomIn Love!! Sea Cucumber-chan恋はエレベーターKouha Ginjirouこぎつねの消防隊Ko Gitsune no Okurimono, Ko Kitsune no Okurimonoこぎつねの交通安全こえだちゃん おはなしこえだちゃんKoe o KikaseteMy Boyhoodこちらたまご応答ねがいますLook This Way, MiikoKkobi KkobiKobo-chan Special: Matsuri ga Ippai!, Kobo-chan Special: Yakusoku no Magic Day, Kobo Nazo-jou no Nazo, Ameagari no Yakusoku, Bokutachi no Kekkonshiki, Heisei Mikoshi GassenKobo-chan Special: Aki ga Ippai!!, Kobo-chan Special: Yume Ippai!!コボちゃんの交通安全こびとすKobito to Aomushi, The Dwarf and the Green Caterpillar, The Gnome and the Green Caterpillar, The Child and the Green Caterpillarコバラサポート×紙兎ロペKoala\\'s Fire Brigadeコアラのボッチニャッキ！Tales of Greenery, The Family of Greenwood꾸러기 케라톱스 코리요King of Inventors, ManiacSophie Ruby Season 2, SofyRuby Season 2꿀벌의 친구꼬미마녀 라라 시즌2꼬미마녀 라라꼬마어사 똘이Tao: Little Wizard 2Tao: Little Wizard꼬마신랑 쿵도령Kkoma Nongbu Labi꼬마해녀 몽니와 해녀특공대Kkoma Gicha Chuchu꼬마버스 타요 (파일럿판)꼬마버스 타요 7꼬마버스 타요 6꼬마버스 타요 5끝날의 밤깨모의 모험Wandering Kkachi 2きずな\\u3000～にんげんの詩パート２～きずらだけのりんごKizudarake no Tenshitachi, Heartbreak AngelsKiyo NekoThe World of Kouhei Kiyasuキティとミミィの新しい傘キティとダニエルのすてきなクリスマスキティとダニエルのおどるサンタさんのひみつThe Ten Hole Story: Woodpecker, Kitsutsuki: The Ten Hole Animations, Ana: The Ten Hole AnimationsきつねとぶどうきつねのかんちがいThe Boy and the North WindOne second remaining until the kiss.キリンの行進Kirawaremono no Rasuきらめけ！VIVACIOUS DASH♡ アニメ版キラキラ小学生 セレブちゃんGlittering Elementary School Celeb-chan記憶の淵키오카金太郎の交通安全キンタマーニドッグキン肉マンの交通安全金色のクジラ金魚の一生きんぎょが\\u3000にげたKING OF PRISM -Shiny Seven Stars- IV ルヰxシンxUnknown酷杰的科学之旅乌头花开快乐心心快乐星猫之唐诗篇Happy Star Cat: Water Margin快乐星猫之名胜篇 第2季Happy Star Cat: Famous PlacesHappy Star Cat快乐小郑星快乐小勇士快乐小鸡快乐小方脸快乐小东西Kuaile Dongxi 6, Happy Stuff 6, 快乐东西第六部：快乐向前冲Kuaile Tuo Mo Ta Zhi Xiao Zhen Le FantianKuaile Tuo Mo Ta Zhi Chengyu Da CidianKuaile Tuo Mo Ta Zhi Baoxiao Cheng YuhuiToomtoo快乐是能量快乐捧茶茶之果茶村庄的秘密快乐捧茶茶快乐摩登之友爱生活快乐摩登之生活小百科快乐摩登之成长的乐趣快乐摩登Trouble Shooter, Kuaile Meng Duoduo快乐精灵快乐多多快乐嘟嘟Happy Stuff 7, Kuaile Dongxi 7: Kuaile Jijie Hao, 快乐东西第七部：快乐集结号快乐东西4快乐东西3快乐东西2快乐东西快乐的买买提快乐的艾罗卡快乐成长快乐奔跑快乐宝贝之兴趣魔方快乐宝贝之活力家庭快乐宝贝之欢乐假期快乐宝贝之多彩生活快乐宝贝哆米成长记快乐宝贝之成长日记快乐宝贝之百变字母快递侠外传快乐家庭Happy Stuff 5, Kuaile Dongxi 5快乐家家车快快乐乐城酷杰的科学之旅-自我保护酷杰的科学之旅-寻找中国龙酷杰的科学之旅-史前动物酷杰的科学之旅-森林探险酷杰的科学之旅-人体奥秘酷杰的科学之旅-流感病毒酷杰的科学之旅-恐龙大作战酷杰的科学之旅-海洋探秘酷杰的科学之旅-疯狂的植物酷杰的科学之旅-超侠小特工酷宝家族之小兔西欧酷宝方块ガスーKoutsuu Anzen Inu \"Signal\" no Oyako Nikki: Tobidashi ChuuiKoutsuu Anzen de Gozaru Ninja Hattori-kun Part IIこうたろう イン スペースワンダーランド口水渣玩口水良山Story of the Little RabbitGhost in the Shell: SAC_2045 Season 2 Movie工業哀歌バレーボーイズ口袋森林劇場版甲虫王者ムシキング グレイテストチャンピオンへの道コトリサンバKoto Nakare Hero Ginger-man, Kotonakare Hero Gingerman炬燵猫Koushisu! LiteKoushisu!ころがし屋のプンこれは、わたしの物語。コレがまさかのアレでした ～若者の消費者被害～Eiga Korasho no Kaitei Wakuwaku Daibouken!, Movie: Korasho\\'s Exciting Under-the-Sea Adventure!氷の国のミースケコヌとたのしいおともだちCompora Kid, Modern Kidsこの空の下でKono Shihai kara no Sotsugyou, Yutaka Ozakiこの星の上にKono Aozora ni Yakusoku wo SpecialsSekai Meisaku Gekijou Kanketsu Ban: Konnichiwa Anne: Before Green GablesNarihero www SpecialsこんなこいるかなこにぎりくんXiaodou ni Cheng Zhang Ji孔雀的焰火Kong Que Gong Zhu, Peacock PrincessAtmosphere Man恐龙战士猫小帅Black Cat Monroe朗哥兔与土哥狼之寻访桃花源朗哥兔与土哥狼Skyblue Club蓝皮鼠与大脸猫 第二季蓝皮鼠与大脸猫蓝猫幼儿英语300句蓝巨星和绿豆鲨蓝骨Lalalacoco Second SeasonLalala Cocoラララ ララちゃん~パタパタだいせんそう~Lalala Lala-chan Season 4Lalala Lala-chan Mini (wo Tegami Video)ラララ ララちゃん ★ウチュ～にムチュ～★ラララ ララちゃんLa La La De Ma Xiya Third Season, La La La Demacia Third SeasonLa La La De Ma Xiya Second Season, La La La Demacia Second SeasonLa La La De Ma Xiya, La La La DemaciaOtenba RuruLa nuit des illusions〜迷走の夜〜Rescue Warrior Nanosaver, Virtual Trilogy part 3The Killing Stone, The Fox with Nine Tailsきょうしつはおばけがいっぱい／ぼくはゆうしゃだぞ恐竜ピコラ教育映画祭受賞アニメシリーズTerrifying Kyou-chan今日もツノがある今日も今日とてテープは回るKyou kara Maou! Recapsキョロちゃんの交通安全キョロちゃんの 地震用心・火の用心キョンシーキョン太の交通安全巨人の星【特別篇】猛虎 花形満巨人の星 宿命の対決巨人の星 行け行け飛雄馬巨人の星 大リーグボール巨人の星 血ぞめの決勝戦巨人の星対鉄腕アトムNalong 2, Longman: The Little Big Hero, Kaiketsu: Longman Nalong九頭竜川と少年Kuwagata Tumami空想水族館クーニャンの交通安全「正しい自転車の乗り方」Eleves and the ShoemakerKutsushita ga Daru Daru ni Nacchau Wake: Imadoki Youkai ZukanクソハムちゃんHAPPY BIRTHDAY！奇魂侍くるねこくるみ割り人形 (2014)Kurokami The Animation SpecialsKURO暗やみは危険がいっぱいKUPU! Bean sesame!, Kupuu!! Mamegoma!昆塔·因为所以The Floating Planet邦ちゃんの一家ランランKung-ya Kung-ya, Koongya KoongyaGongfu Xing Mao, Kung Fun CatKungFu Little Rabbit功夫王之萌虎上山功夫王：快乐童年Gongfu Si Xia: Yong Chuang DigongKungfu Heroes, Gongfu Si Xia功夫龙之乐团团功夫龙学消防功夫龙 小戏班大智慧功夫家族之笨笨鼠쿵푸 공룡 수호대くもりのち晴れ雲の学校雲にのるクマーバクマさんのマイホームクマちゃんの交通安全Puutarou the BearKuma no Minakuro to Kouhei-jiisan, Kuma no Minakuro to Kouhei Jii-san, Kuma no Minakuro to Kouhei-Jii-sanEiga Kuma no Gakkou: Patissier Jackie to Ohisama no SweetsThe Bears\\' Schoolくまのがっこう～ジャッキーのおほしさま～酷酷小吉正传之钩钩岛くじらKuiba Yaoxia Zhuan库尔勒香梨くだも脳くだものKUBRICKKubire 3 SistersKUBBE kort animasjon(キュッパのアニメ)旷世奇侠狂丸战记哐哐日记 (哐哐哐)夸口的青蛙Kuai Le De Shu Zi快乐原始人快乐优贝快乐熊兜兜之文字的力量快乐熊兜兜之汉字宝宝快乐熊兜兜乐乐熊侦探团灵动蹦蹦兔Lingyun Daima零速争霸灵石茂险王灵觉小和尚灵草小战士零捌学糖之被吃掉的成语系列零捌学糖라인 레인저스린다의 신기한 여행 2Strong Girl Linda莉莉寻医Beongae AteomA Documentary of LifeLIFE OF THE DEAD SEASON 2LIFE OF THE DEAD の第７Lie Yang Tiandao 2, The Rule of Burning Sun IIThe Rule of Burning Sun Ⅰ猎车兽魂Licca-chan and the Magical World聯盟的勇士莲花公主两只小猪之勇闯神秘岛Two Little Peacocks两只老鼠的生活意见Liangzhang Bugao, Two Bulletins亮亮看海梁家妇女两个俏公主Pokémon: A Good Day for a DreamOne Hundred Thousand Layers of Body Refining连升三级Wee, White & Warm-Hearted, Still Small Tales李獻計歷險記Li Kezhang Qiao Nan Chuishi Ban, Chief Li Challenges the Cookhouse SquadLG gram 360 x 줄리아 류 : 심청전 Dive 편Skipper & SkeetoLevityルヴァンカップ×紙兎ロペParadiseLetchu, Getchu, Saru Getchu Introductionレッツゴーなかまたち！\\u3000―ぼくらと博士の防火の誓い―Sekai Meisaku Gekijou Kanketsu Ban: Les Misérables: Shoujo Cosetteレオナルド博士とキリン村のなかまたちレオナルド博士とキリン村のなかまでしょ ハロウィンパーティだよキリン村!レオナルド博士とキリン村のなかまでしょReina Reina乐乐熊米拉历险记乐乐熊生存大冒险乐乐熊奇幻追踪乐乐熊安全手册乐乐虎的家乐乐虎大世界Rolling RoarerHover Champs雷锋的故事Leifeng蕾比宝贝与哈派乐园乐儿和果果learn to love乐融龙Project LayereD邋遢大王奇遇记라바 펜던트라바 아일랜드 무비라바 인 마스라바 패밀리老子说老鹰抓小鸡之拯救美食城老鹰抓小鸡之魔王世界大冒险老鹰抓小鸡之城市护卫队Gold Beak老鹰抓小鸡之智斗富豪城老鼠抓猫36计老鼠笔记之行游天下老鼠笔记之探秘城市老鼠笔记之深海探险Lao Lang Qing Ke老虎装牙The Boss\\'s Women老猪选猫Lao Xiao A Fan Ti老鼠嫁女崂山道士Lao Popo De Zao Shu (1958)老凯的奇幻探险之旅老虎学艺Old Master Q Fantasy Zone Battle II老夫子魔界夢戰記 I, Old Master Q Fantasy Zone Battle I老夫子 (2011), Old Master Q (2011)老呆和小呆老爸特烦恼兰亭小精灵Dream for RimLan Hua Hua狼来了Lubian Xinshi, New Deeds on the Roadside窓ぎわのトットちゃんまどから★おくりものMabeobbeoseu Tayoマッキーとユッキーのミッドナイト・ギャラリ마카앤로니3마카앤로니2마카앤로니Phantom Mabo-chanMabeobsonyeo Deedee, Mabeobsonyeo DidiWizard, the Son of Kori마법달팽이 와우Magic Chunjamun마법천자문 시즌2마법천자문マー坊の少年航空兵마음의 소리 시즌 3Ma-eum-uisoli Second SeasonThe Sound of Heart: Season 1马小乐之玩具也疯狂Ma Lanhua (2009)Ma Lanhua (2006)Hornet\\'s NestThe Clever Racoon Dog, Yeongnihan NeoguriTravel! Frog in the Shallow Well鷺鷥河路上The Camel\\'s Dance洛克王国大冒险3：八大徽章萝卜兔爱发现罗成别传蘿蔔回來了洛宝贝听故事Luo Baobei Xilie: Qi Qu Baobei Aixin Xiao Juchang洛宝贝爱科学洛宝贝 第三季洛宝贝 第二季洛宝贝Luna\\'s Magic Encyclopediaルナたん～1万年のひみつ～露露and猪猪Jungle Master: the Candy World, Lu Lin Da Mao Xian Zhi Tang Guo Shi JieShou Hu Zhe Sen Lin绿豆蛙绿树林的故事Lu Shidai New Year\\'s ExtraLunu鹿和牛Ludang Xiao Yingxiong, Little Hero in Reed Marshes芦荡金箭鹿宝贝朗迪Lovely Movie: Lovely Muuuuuuuco! Specials, Lovely Muco! SpecialsLove Nights AxD!, Love Knights! A.DLOVE LETTERLost ButterflyDragon BallLobster龙脉传奇Wouldn\\'t it be Long? 2nd SeasonWouldn\\'t it be Long?龙骨山龙之谷Long Zai Nali?龙牙星Marrying into her Family, Longwang Dian, Fake IdentityFake Identity, Longwang Dian龙娃龙图战队龙太子之银河大冒险龙太子之炎热星球之谜龙太子X Epoch of Dragon龙神之子龙骑侠龙骑侍龙虎纪之忠义关云长龙归之龙行天下龙斗台球龙岛小侠龙宝闯天涯롤링 스타즈栗子狗和香蕉狐李元霸别传历险小奇兵禮物Liv and BellLegend of Liu Yi繁星点点, Fanxing Diandian瘤リトルワンダーズ \"Sneeze\"リトルビレッジピープルTiffel & Taffel, Tiffel and Taffel, Tiffel & Tuffel, Tiffel and Tuffel, How Our Summer Flew PastTiffel & Taffel, Tiffel and Taffel, Tiffel & Tuffel, Tiffel and Tuffelリトル・チャロ～東北編～リトル・チャロ4 英語で歩くニューヨークリトル・チャロ2立秋ライオン×紙兎ロペまめきちまめこニートの日常Universal Super Power of MomokingMomoking Universal Treasure HuntingAdventure of Momoking毛毛的故事毛驴小侦探猫之茗 第二季猫与鼠The Cat Moves First!毛球大牙奇趣之旅之最长的旅途毛球大牙奇趣之旅--脱线漂流记毛球大牙奇趣之旅之奔走大草原貓年海岸猫咪的胡子Cat Album, Maoling Xiangce猫公主苏菲帽儿山的鬼子兵Rhapsody in Cat\\'s Village猫マンザイ太閤記マヌ～ルのゆうべRikkun in the Middle, Mannaka no Rikkun@Kintere毎日がつらい気持ちわかりますか ゆるせない！ネットいじめ漫画天下Manga Nihonshi NHKManga History of Japanマンガ日本経済入門まんが日本絵巻Animated Stories to Understand Thingsまんがことわざ事典Manga Children\\'s LibraryIllustrated Stories of Great IndividualsManga Stories of Great Men, Manga of Great Personalitiesまんが花の係長Manga Furusato Mukashi BanashiMang Nu Yu Hu Li만담강호Ryouta\\'s Mandala Shop学の夏休み馒有趣Slow Slow Sloth Neul漫解国学系列-寓言故事漫解国学系列-成语故事漫虫记まみむめ★もがちょまめうしくんの交通安全まめうしくん豆しば ２ndシーズン媽媽請休息Mama Ohanashi wo Shikikasete, Mama Ohanashi o Shikikasete, Watch with MotherMommy DuckMaMaMalta no Bouken: Kamishibaiマルタの冒険\\u3000シーズン3マルタの冒険\\u3000シーズン２Malta\\'s Adventure马拉松王子麻辣小冤家麻辣父子まこちゃんのこうつうあんぜんMakkuro na Obento, Burnt Lunchbox, Burnt Rice, Charred Lunchbox, The Lunch BoxSekai Meisaku Gekijou Kanketsu Ban: Makiba no Shoujo Katri, World Masterpiece Theater Complete Edition: Katri, the Cow GirlFirewood, Kanta, and GrandpaMarx Shuo Jingjiweiji負けるな！千太～さよならいじめ虫～Makehen de! 3-nen 6-kumi no Hanshin Daishinsaiまじめにふまじめかいけつゾロリ\\u3000宇宙たんけん大さくせん\\u3000おうごんの星をさがせ編まじめにふまじめかいけつゾロリ\\u3000宇宙たんけん大さくせん\\u3000ちきゅうをめざせ編マジでわかる！ワッチャプリマジ学園Hon-maji-Ki, Honki!, For Real麦芽网儿童成长教育动画Luo Baobei: Maitian Shen Shu麦圈可可远古大冒险麦圈可可寻宝记麦圈可可漫游记麦圈可可宝岛奇遇记마일로의 대모험舞いあがる塩麦块三国Mahou Tsukai Sally 2 Special, Mahoutsukai Sally: Majo ni Natta Yoshiko-chan, Mahoutsukai Sally: Haha no Ai wa Towa ni! Aurora no Tani ni Kodamasuru Kanashimi no Majo no Sakebi!魔法使いハーレイのスピードストーリーMagical Girl Diana魔法食堂チャラポンタンMagical Fairy Persia Recap, Magical Fairy Perusha Recap, Mahou no Yousei Persia RecapMAHOROBAMagnerobo Ga-Keen Episode 0매지컬: 공주를 웃겨라マジカルプータの 火あそびはあぶないよまじかるマホ매지컬 팡매직 어드벤처-더 크리스탈 오브 다크MAFF × CHOBITTO DUKAN메밀꽃, 운수 좋은 날, 그리고 봄봄まえがみ太郎マッドトイチャッティMadou King Granzort Specialマドンナの誘惑Mebae no AsaMeng Hui Jin Sha Cheng梦回姑苏城之失落的地图萌果乐多多之水果勋章萌菜育宝爱口才萌菜驾到Mooboo Cops萌宝成长教育梦メンダコのめんめんメロディーめかくれ美影大乐园每一朵花儿Mei Tou Nao He Bu Gao Xing (TV)Mei Tou Nao He Bu Gao Xing, Mr Simple-Minded and Mr Unhappyめいたんてい ラスカルDetective Pork名探偵コナン 探偵たちの星月夜（スターリーナイト）美术馆之夜-近代中国美术篇美术馆之夜之近代国外美术篇美术馆之夜美食大冒险之英雄烩美食大冒险之文明之旅美食大冒险之火热之旅Kungfood, 美食大冒险 第一季：蒸盒号起航, Meishi Da Maoxian: Zheng He Hao QihangHirake! Ponkikki: Meisaku World/Mukashibanashi, Hirake! Ponkikki: Meisaku World, Hirake! Ponkikki: MukashibanashiMei Ren Yu Zhi Hai Dao Lai Xi美妙旅程美丽家园之拯救危机名曲と大作曲家物語Sekai Meisaku Gekijou Kanketsu Ban: Meiken Lassie, World Masterpiece Theater Complete Edition: LassieMei Jian Chi明治維新をつくりあげた人々美德花园没牙的老虎美少女大劈叉 第三季美少女大劈叉 第二季美少女大劈叉美麗的小金魚美猴王The Good-for-nothing Onmyouji Family 3メギド７２ 長き戦旅の傍らでメガトン級ムサシ パイロット版女神ちゃんと行く！ フラッグ大阪オフィスご案内ツアーメカ☆アフロくんRoboteugundangwa Meka3메카드볼 메가메카드볼芽吹きWake Up TIGGER!MomenMiaenmailobosMcDull Movie 4McDull: Kung Fu Ding Ding Dong, McDull Movie 3, Mak Dau Xiang Dang DangMcDull Movie 5Mai Tai Niu Hua ChenMcDull: Niu Hua Che Chinese New Year Special, McDull: Niu Hua Che Valentine SpecialMai Dou Kuai Le Di TanMak Dau, McDull Movie 6McDull and Chinese Culture麦兜与麦唛Gekijouban Soushuuhen Mazica PartyWiener Wuastまゆとろ THE TOONSまよなかのいぬごやレースAn Ant and an Elephant蚂蚁公主蚂蚁传奇之终极一战蚂蚁The Life of The Little DogIreesha, The Daughter of Elf-kingまついぬまつばらくん\\u3000「マッキーへの応援メッセージ」马头琴的故事马桶マチェーリカマタタビムービーラボ마스크 마스터즈MaseukeumaenMashin Folk Tale Theater魔神英雄伝ワタル 創界山英雄伝説魔神英雄伝ワタル 七魂の龍神丸 -再会-マリーベルの交通安全マリーベルの火の用心\\u3000グラッときたらどうするまるもふびよりまるまるマヌル丸出だめ夫해저탐험대 마린 Xマルコと銀河竜メイプルタウンの消防隊メイプルタウンの交通安全Maple Town Stories Movie, Maple Town Stories (1986)猫眼小子包达达冒险小王子茅山小道士猫咪小贝毛毛镇 第二季毛毛镇메탈카드봇みこすり半劇場巫女っちゃけん。Miki no Mikoto: Kizuna no MonogatariLords of Sacred SakeMai Ge Chuanqiミカンせいじん現わるMiserable Miracle, Émergences, Emergencesみーつけた！みいちゃんのてのひらHow to make Mietchi Cuisine Hachis Parmentier見えぬ目に感じた雲取山の朝日灭妖记Midoriyama Koko Koshien henMidoriyama Koukou Koushien henNice to meAt you☆, Midori-chan Side Story, Project Midoriみどりのマキバオー 終わらない挑戦!!みどりのくにのおともだち こえだちゃんMIDNIGHT ~ Eraser WARS spin off夢見Microphone Soul Spinners ～言霊少女～  振り返り動画Microphone Soul Spinners  ～言霊少女～Michiteru Kuru Toki no Mukou ni, Toward a Time of Troubleみっちりわんこ！あにめ～しょんミッちゃん喵喵如此妖娆喵星人妙先生之雁落大道妙先生之火泽睽笑人传Mr. MiaoMiaowu Shi Shui Jiaode, Who Meowed?Miao Qian Sui de Cheng Nian Li面具战士面具战神棉花糖和云朵妈妈 美梦成真棉花糖和云朵妈妈之福鼠送吉棉花糖和云朵妈妈·超级小米花棉花糖和云朵妈妈1宝贝芯计划棉花糖和云朵妈妈 “牛”转乾坤棉花糖和云朵妈妈面粉镇的节日米诺的中二青春米乐米可之神奇海豚岛 第二季米乐米可之神奇海豚岛眯乐和笨笨蜜蜂與蚯蚓米多的涂鸦日记秘宝传说-白橙明环游记めざせ！かっこいい 1ねんせい チャンピオンにちょうせんHe Jing Shaonianめしぬま。Merry Go Roundマーメイドリカちゃんミャウの星Taoist Mutul and DoMaeTaoist Mutul and 108 Specters머털도사Magic Boy Muttul, Tlaoist Mutul먹티와 잼잼먹다めんトリSleepwalking Dunhuang梦想总动员梦想之旅梦想召唤王第二季梦想召唤王梦想学园Dream Racers猛兽战警梦幻庄园梦幻镇梦幻西游之天命之战梦幻西游之雷怒危机Garena 2GarenaMenghuan Shuyuan 2nd Season梦幻书院之科学小记者梦幻书院之呼吸健康科普梦幻书院 第七季梦幻书院 第六季梦幻书院 第四季梦幻书院 第三季梦幻书院梦幻猫咪屋Menghuan BoBo Xing萌猪一家梦舟少年志之西汉公主梦舟少年志--天磬传奇梦舟少年志之上古传奇梦舟少年志--秦剑传奇梦娃萌鼠大冒险夢裡人孟姜女 (2018)Mengjiangnu萌鸡小队 第3季萌鸡小队 第2季萌鸡小队萌鸡小学堂Ton Ton Ton To, Ittadeshou, Tomodachi ga Imashita魔魔岛Momo莫麟传奇之远古神兽莫麟传奇魔镜奇缘3Magic Mirror 2Enchanted Mirror RomanceDraco Monster 5, Drago Monster 5Draco Monster 4, Drago Monster 4Draco Monster 3, Drago Monster 3Armored Adventure 2, Drago Monster 2, Draco Monster 2Drago Monster, Draco Monster魔角侦探2大三角计划魔角侦探魔盒与歌声漠风魔笛奇遇记魔弹王水木しげるの妖怪えほん 諸国漫遊編水木しげるの妖怪えほん寄席水木しげるの妖怪えほんTono Monogatari水辺の植物Water Dream, L\\'eau des rêves水の精・河童百図水の音미술탐험대MIRRORFuture People Go HomeFuture Firefighter KyuutaConsidering Disaster Prevention for the Future未来からのメッセージLetter to the Future: Midway Along the PathMirai e no Niji: Boku no Ojisan wa, Hansen\\'s DiseaseFuture Boy Kunta in Bermuda 5000Miracle Mimikaミラクル・サイキッカーセイザンHalf a Hero Special, Miracle Giants Dome-kun SpecialMi La He Bei Qi民話アニメシリーズ闽南谚语典故みんなうんちみんな友だちみんなのトニオちゃん FUCK THE WORLDみんなのたぁ坊こんにちはみんなのおかやま犬みんなの情報モラルみんなのどうとくみんないちばん！みんなが知ってる 心あたたまるなつかしいお話しシリーズみんなで跳んだ民间鬼术miniGAROマナームービー최강전사 미니특공대: 영웅의 탄생미니특공대 슈퍼공룡파워 파트 2迷你特工队之超级恐龙力量, Mini Tegong Dui: Chaoji Konglong Liliang최강전사 미니특공대 : 새로운 악당의 습격극장판 미니특공대: 햄버거괴물의 습격극장판 미니특공대: 공룡왕 디노미니특공대 슈퍼공룡파워 슈퍼다이노7미니특공대 X 파트 2미니특공대 X미니특공대 브이레인저스최강전사 미니특공대 파트 2미니특공대 애니멀트론Mini Force, miniteuggongdae, Choegang Jeonsa Mini Teuggongdae, Strongest Warriors Mini Commando Squad, Zui Qiang Zhanshi Mini Tegong Dui迷你世界之觉醒miniロペMinimoni ja Movie Okashi na Daibouken!ミニミニポッケの大きな庭でRinging Destiny名画神剪历险记明镜高悬茗记4：尘封追忆茗记3：取舍茗记2：初织恋Ming Ji: 2nd Life水無月を永遠に源頼朝と武士の世の中南の島の小さな飛行機 バーディーSekai Meisaku Gekijou Kanketsu Ban: Minami no Niji no Lucy, World Masterpiece Theater Complete Edition: Lucy-May of the Southern Rainbow南へ行ったミースケミナの村と森ミナの村と川ミナの村のごみ騒動ミナの笑顔ミナの防災村づくり民的1911みみずくとお月さまミミちゃんの手と手と手咪咪找妈妈蜜蜜计划MimumamumintoFinding The Milu King: The Magic Reel麋鹿传奇ミルキー☆ハイウェイミルクのケビン THE MOVIE桃太郎の火あそびやめよう！ 火の用心Phantom in the Twilight Recapsミスターシェイプとナンバーマンミスター・シャドウMr. Men Little Miss / ミスターメン リトルミスMoyashimon Returns Specials妄想科学シリーズ ワンダバスタイル みっくすJUICEの作り方Mouseman: The Bundle of LoveMausu Doubutsuen, Mouse ZooExtraordinary Ataro 2, Mooretsu Atarou (TV 2), Mooretsu Atarou 2, Moretsu Ataro 2, Furious Ataro 2Furious Ataroもーれつ50音太郎盲導犬クイールの一生もっと! まじめにふまじめ かいけつゾロリ 第3シリーズもっと! まじめにふまじめ かいけつゾロリ 第2シリーズもっと 知って ふくしま！もったいないばあさんMOTTAINAI もったいないマザー・テレサマザーグースえほんもしもし, てるみです.もし、銀行がなかったら? -魔法使いサリーの銀行入門-The End of Awakening: Origins, The Invasion of AwakeningThe Invasion of Awakeningモータルポータルラジオモリゾーとキッコロ森の野球団Bonolon: Fushigina Mori no IitsutaeMori no ReshioもりのおんがくたいThe Forest ConcertMusic Orchestra of the Forest森の薫り×紙兎ロペ森の人と小てんぐちゃんMo Ri Gen, Morigenmooooonムーンストラック\\u3000アルテミスムーンライトアドベンチャーモンストアニメ『マサムネ\\u3000- 使命の赤き刃 -』Monpiモノだらけ！モノのかみさま ここたまモンキーピークMonkart: Legend of Monster KartMonkSEISHINMonster Hunters Specials, MonHun Nikki Pokapoka Airu-muraMonchicchiizu, MonchicchiisuMon Chéri Coco桃太郎の交通安全教室ももりんとほしぞらであそぼう！ももんがぁモンMomon\\'s Sand Witch Specialmomoking微課Momoiro Sisters SpecialMagic Xingxing FoxMole Manor, Moer Zhuangyuan Zhou Bo JuMoer Zhuangyuan: Shiqian Ji摩尔庄园：冰世纪摩尔庄园Ⅱ：海妖宝藏摩尔庄园第三季摩尔庄园大电影3：魔幻列车大冒险摩尔庄园第二季Mole\\'s World, Mole ManorGo Go! Doll-chan, Project F莫叽姆斯山海漫游记もじゃとまじょ魔幻仙踪之妈妈去哪儿魔幻仙踪魔幻陀螺之聚能引擎魔幻陀螺之机甲战车魔幻陀螺II魔幻奇缘之宝石公主魔鬼芯片魔怪车小队Mofu☆Mofu Episode 6.5Moffuri Mofu☆Mofuもっふんといっしょ魔方大厦Magic Pig Liye, Mofa Zhu Li Ye魔法小葵花魔法鼠乐园魔法森林大冒险魔法妈妈讲故事Mofa Keke Zhi Shenmi Jingling Dao魔法传说Magic City摩登森林\\xad之生命之水Food War摩登森林之大地之歌摩登森林之丛林的呼吸Moji Moji Panda摩比传说魔装传说魔游纪默示墨生的地心世界魔能圣甲Muzhi Zongdongyuan Second Seasonナンちゃんの交通安全南郭先生Nanfang Shaonian, The Boy from Southなみだのそつえんスペシャル\\u3000ありがとうばあば纳米学院なめこ～せかいのともだち～Namakemono is Watching, Namakemono ga Miteita名前... それは燃えるいのちWeeping Dragon 1991中崎タツヤスーパー ギャグシアター II中崎タツヤスーパー ギャグシアター Iなかよしじてんしゃ中通りく アニメーション 非常用持ち出し袋を用意しよう泣いた赤おにRed Oni, Blue Oni, Don\\'t Cry Red OniPeppyながさきの子うま流れ星のおくりもの長野都市ガス×紙兎ロペCocomong 1, Reizou Kono Kuni no CocomongSpin Kicker내일은 언제나 푸름내친구 마카다내사랑 뚱 시즌2Nae Salang Ttung내 마음은 무지내 이름은 독고탁Hello Woobiboy내 친구 해치My Friend, HalfboyhalffishNaccio e Pomm, Natcho to Pomu, Nacho to Pomo, Nacho e Pomme, Naccio & Pomm나비의 모험那萨尔丁东游记Nasaerdin, Nasreddin那年那兔那些事儿 番外篇那年那兔那些事儿 第五季那年那兔那些事儿 第四季那年那兔那些事儿 第三季那年那兔那些事儿 第二季那年那兔那些事 第一季, 那年那兔的那些事, 小白兔的光荣往事, 那些年那些兔那些事, Year Hare Affair Season 1Miseuteliya 2nd SeasonMiseuteliyaMyGO!!!!!メンバーの日常Pinkfong and HogiMY SHELTERマイメロディのオオカミさんにきをつけてマイエクササイズMY CROSSROADMzmz18木子木鱼真心话Muzhi Zongdongyuan拇指熊康吉拇指鸡牧野传奇Moopon 2nd SeasonMooponムーミン谷の物語\\u3000星と花のセレナーデムーミン谷のオーロラムーミンとこうつうあんぜんムーミン パイロットフィルムWooden Girl, Mu Tou Gu Niang木头村之神奇绿色心木头村むすんでひらいてMushi Shinobu, Mushi Ninjaむしむし村の仲間たち\\u3000みんないいとこあるんだよ無責任艦長タイラー コンプリート・コレクション「ミュージック・クリップ」Musabi ExplosionMu-nyeo-do木木熊环球探索木木部落 第二季木木部落Mu Ma Yijiaむくはとじゅうの名犬物語無軌道な線たちむかしばなしのおへや\\u3000〜伝えたい日本昔話〜Yarisugi!!! Itazura-kunOld MountainMukashimukashi MomotarouMukashi Keibanashi Second SeasonJRA Anime, Horse Racing Folktalesムカムカパラダイス お母さんと学ぶ交通安全무지개 요정 통통Invincible Ironman Rambo木瓜木瓜Tank Knights Portriss, Mugen Senki Fortress無限の火無限∞15秒アニメーションPeony FairyMuyang Shaonian, A Shepherd BoyThe King of Tomb Ⅳ, The King Of Tomb: The Battle of You CityMutong Yu Gong Zhu, The Shepherd and the Princess木奇灵之绿影战灵木奇灵3奇灵之心木奇灵2之圣天灵种木木村的淘气虫虫Mu Ling Baobei: Chong Hui Fan Zhi GuMuji Banjia, The Hens\\' Relocation to a New HomeねじくれおじさんHeart of the Red Bird, Japanese Masterpiece Fairytale Series: Heart of the Red Bird逆光之颤ニジェール物語二度と通らない旅人Ni-biki no Neko to Genkina Kazoku黏土兄妹年画中的传奇Crazy NianNi Tian Jian Shen, Against the Sky Sword God逆天战纪你好！卟卟Ni Hao! Boobooto你好鸡智你的人生是我来迟了ＮＨＫスペシャル\\u3000恐竜ＶＳほ乳類\\u3000１億５千万年の戦いねずみくんのきもちねずみくんのチョッキ熱風海陸ブシロード「希望への道」ネポス・ナポス能力有限公司年中行事アニメーションシリーズ念仏物語Nemurenu no Chiisana Ohanashi, Small Stories for Sleepless Nights, Nemurenuyoru no Chiisana Ohanashi眠れない夜の月ねこざかなねころんでテレビ。ねころんで見てね。ねころんでIDネコべん猫は生きているCat and Mice, Cat and Mouseね子とま太猫の棲む島Neko no Robねこのまねこネコの国の憲法Dayan the Cat Goes to JapanDayan the Cat: Wonder TheaterDayan the Cat (2017)Dayan the CatMeow Meow Japanese History: Ryoma\\'s Crazy Time TravelMeow Meow Japanese Historyねこねこ日本史 第4期Nekoneko Gong Show, Kihara Yousuke x studio dwarfネコこのゴロCat Project猫ジョッキーPicture Diary of Cat Lover, Who Was Born into a Family of Cat Haters, Living With Cats, Nekokirai no Ie ni Umareta Nekosuki ga Neko to Kurashi Enikkiねぎぼうずのあさたろうねえ、ここに居る。Nazotokihime ha Meitanteiなぜ生きる─蓮如上人と吉崎炎上─너티너츠Let\\'s Redo Summerなっちゃんの赤いてぶくろFlying Pig - Pirate Mateo, The Great Pig Pirate MateoFly, Space Battleship GeobukseonFly, Wonder Woman, Run, Wonder Princess날아라 슈퍼보드Nara-shi Kankou PR, Barabara Rururu, Angel wa Senkyo-ken ga wo Suki, Naranara Naranara!Narudoma SpecialNarudoma Manner MovieNaporitan no Yoru, The Night of the Naporitan闹哄哄的绘画本ナンゾヤMy Four Mastersナヌムの家ナントカ天国菜の花Nami Shen Bing南極ペンギンカラーズ軟膏母さん난중일기I Like the NaniwabushiOsaka Tough Guys: Hot Blood!! A Blooming Hearty Laugh Chapterなにわ遊侠伝: 強烈!アナがあったら入れたい篇なにわ遊侠伝: 完結篇なにわ遊侠伝: 超極道!夜のバットはマン塁篇Osaka Tough Guys, Naniwa Spirit難波金融伝 ミナミの帝王何も見なくていいSouthern Country Boy Papuwa-kun OVA何度でも忘れようなんでも爆解！こよりチャンなんちゃって!なんぼのもんじゃい! ヤンキー愚連隊七罪プロジェクト-其の壹-Nezumi no Densha, Nezumi no Imo Hori, Nezumi no Sakanatsuri, Nanatsu no Nezumi Series七つのほしななにんのあやかし-ちみちみ魍魎!! 現代物語-ななみちゃん 第6シリーズななみちゃん 第5シリーズななみちゃん 第4シリーズナナメンタル菜菜子职场大作战梦月精灵Wei xiang-nuo ya dongwu zhensuo donghua xiao juchangニャニがニャンだー ニャンダーかめんの誘拐防止 ミーコちゃん ちゃんとチェック!!ニャニがニャンだー ニャンダーかめんの交通安全Nyanfu, NyanfullNu Sheng Su She Ri Chang 2nd SeasonGirls\\' Dormitory Life, Nu Sheng Su She Ri Chang我的灵异女友, Oh! Juyesuyeo, 오!주예수여女神的圣逗士눈치 없는 돌쇠ぬっこ。ぬいぐるパパぬいストーリー女孩，你的一分钟有多长女他女禍補天のってけエクスプレッツのろまな爺ノーマン・ザ・スノーマン〜流れ星のふる夜に〜ノーマン・ザ・スノーマン ~北の国のオーロラ~のりものまん モービルランドのカークンYahoo! Shinkansen, Kita! Kita! Tokkyuu!, Nani Tsun Deru no?, Sekai no Kuruma, Boku wa Jumbo no Pilot, Sora no OneesanNori Pi-chanNoratoriamuNora SukoNora Suko SpecialsNora Suko (TV)Norasco Baba Nuki-hen, Norasco Nukiuchi-hen, Manner CM, Jouei Mannerのらみみ2NorabittsuminittsuTtubattuba Nunboli, Tuba Tuba NoonboryNunbory, Noonbory and the Super Sevenぬーぼーノンティ難船ス物語 第二篇 海賊船Nu Nu Duo De ShujiaののちゃんシアターNuo Nuo Zu, No No ZuNuo Nuo SenlinDreamy Urashima农场故事野見宿禰Noman Pilot Film, NormanNOISE놓지마 정신줄野菊の墓のぶながくんの みんなで約束 火の用心のぶながくんの自転車のルールを守るのじゃ野ばら野花诺亚动物诊所病历记录簿のしばのしば노 모어 프린스Jikai Yokoku \"No Guns Life\"二わのことり牛冤牛郎织女逆天邪神 动态漫画 第2季, Against the Gods Dynamic Comics Season 2, 逆天邪神第二季Birth of Japan, Nihon Tanjou日本昔ばなし 三ねん寝太郎忍たま乱太郎 ~天狗のひみつと消えた太陽の段~忍たま乱太郎 さらば 忍術学園 の段忍たま乱太郎 忍術学園と謎の女 これは事件だよ〜！の段忍たま乱太郎 忍術学園入学案内の段忍たま乱太郎 ～星に誓った友情物語の段～忍たま乱太郎 ドクタケ温泉の段忍たま乱太郎 100％勇気！ドクタケ出城をやっつけろの段忍たま乱太郎の宇宙大冒険 with コズミックフロント☆NEXT忍たま乱太郎の消防隊忍たま乱太郎の交通安全忍たま乱太郎の自転車安全教室忍たま乱太郎の 地震用心 火の用心Kamui the NinjaManmaru the Ninja Penguin人気の焦点に立てる後藤新平The Fifty-Three Stations of the Toukaidou忍者玉丸\\u3000ルールを守って交通安全!!の巻忍者玉丸の火の用心忍者玉丸Ninja Box Side Stories, Ninja Box Season 3ニンジャボックス\\u3000シーズン2ニンジャボックス忍者ベアーthe Animation★Ningyo Hime人魚ノ唄にんげんの詩The Human Revolutionニクいよっ！カルビくん～煙が目にしみる～ニコニコ♪コニーちゃんNiko Niko Poon, Nico Nico Pun, Nico Nico Poon, Niconico Pun, Niko Niko PunTwelve Sets of Eyes, Twenty-Four Eyes虹いろの森にじいろのふしぎないし虹の少女隊プリズムナイツ虹のきずな虹のかけ橋Nippon Omoshiro Mukashi Banashi, Fun Japanese FolkloreYoi Ko no Anime-kan, Yoiko no Anime-kan日本のおばけ話おじさん改造講座Ao Ao Wu: Zhihui Baodianおおかみと７ひきのこやぎ狼少年ケン アラビアの怪人 魔の岩の決闘Ookami Shounen Ken (1963)Ooi! Adatchii!, Ooi! Adatchi!, Ooi! Adacchi!, Ooi! Adachi!, Ooi! Adachii!大江戸捕物帳 ねずみ小僧おんぷOnosaka Konishi no OTASUKE 2.5-jigen Animation 4th SeasonOnosaka Konishi no OTASUKE 2.5-jigen Animation 3rd SeasonOnosaka Konishi no OTASUKE 2.5-jigen Animation 2nd SeasonOnosaka Konishi no OTASUKE 2.5-jigen AnimationOnly You ビバ! キャバクラおにたのぼうし鬼丸 戦場に駆ける五つの青春おにぎりになりたい こぎみゅんOni Huskオニサラ鬼の花嫁は喰べられたい 前編Demon Inspector AnpanWorld Tavel Musicおねがい☆ツインズ 特別編 ~Relations~おねがい☆ティーチャー 特別編 ~Experience~おねがい！ウーパールーパーおねがい！ももじりぞくDear My Patron Episode 0OnepatoPiggyback Ghost女川中バスケ部 5人の夏on-chan Yume Power Dai-Boken, on-chan Yume Power DaibokenOn Time Off TimeおむすびころりんSou Nanda思い出をはこぶ歌オモヒデHappy Birthday JesusLeave it to Mamitasu, Omakase Mamitasuおまかせ スクラッパーズOlga\\'s Russian Language CourseOL Kaizo Koza, Survival in the Office, Office Ladies Remodelling LectureAngry JizouO Kore!! Non Kuro, Get mad!! NonkuroWeasel and Dormouseおかしのロケットでしゅっぱ~つ!お金は回る －くらしと金融－お母さん、なかないでおかあさんのやさしい手おかあさんの木Okaa-chan Gomen neOKThe Squid\\'s Regretおじいちゃんはボクのヒーローおじいちゃんのトマトおじいちゃんの花火おじいちゃんが残してくれたもの ～燃えても燃えない？燃えにくい！～おじゾウさんOjarumaru Specialおじゃる丸 まったりプラネタリウムPrince Mackaroo: Peril at the Full Moon Road -A \"Rare\" Adventure of Our Prince-おじゃる丸「ヘイアンチョウ鬼神決戦」おじゃる丸\\u3000ちっちゃいものの大きなちから映画 おじゃる丸 約束の夏 おじゃるとせみらおじゃる丸プラネタリウムスペシャル\\u3000銀河がマロを呼んでいる ～ふたりの願い星～おじゃる丸の交通安全Ojamajo Doremi#: Together with Hana-chanOjamajo Doremi Dokka~n: From Sharp to Dokkan! Hana-chan is Pumped Up美味しんぼパイロットおいしく作ろう！プチプチ・ダンスおいどんとお昼のショッカーさん THEムービィーお昼のショッカーさんおはよう! コケッコーさんお話でてこいOH!MYコンブオー！マイフレンズオー！ルーズボーイズブギー외계돼지 피피Dancer ClinoppeOdenkunオチビサン短編ムービーお茶犬〜「ほっ」とものがたり〜Elena Evoy Gwanchal Ilji, Elena Evoy Observation Diary, My Observational Diary of Elena Evoy憶えていてobjectおべとも学園Obatarian, ObattalionObake Zukan 2nd SeasonオバケのQ太郎 とびだせ! バケバケ大作戦オバケのQ太郎 進め! 1/100大作戦おばけ長屋Song of the Chimney Ghosts, O-bake Entotsu no UtaにゅうがくじゅんびDVD れんの ゆめと すてきな クリスマスプレゼントNyuru Nyuru!! Kakusen-kun 2-kiニャン太のおたんじょう日は火事さわぎ！にゃんぷくにゃるまニャンパラの仲間たち【にゃんかむちゅ〜】シーズン2にゃんかむちゅ～Otona no Ikkyuu-san Dai 2 Series, Otona no Ikkyuu-san Dai Ni Series泡芙小姐第二季泡芙小姐パンツぱんくろう팬티히어로Eigakan no Manner: Oshaberi wa Dame desu yo-hen, Game-ki wo Tatai Tari Yusuttari Shinai-hen, Medal wa wo Mise no Soto ni Mochidasanai-hen, Junban wo Mamotte Asobu-henPanpaka Pantsu W-O-New!Panpaka Pantsuパンパカパンツ おNEWさんEiga Panpaka Pantsu Bananan Okoku no HihoEiga Panpaka Pants Matsuri Purin Ara DomoPanpaka Panties, Panpaka UnderwearPani PoniA Plump Married Woman Goes Back to Her Mother\\'s Home胖熊和大虎パンダちゃんの交通安全パンダのたぷたぷ攀霞降魔记之拯救家园攀霞降魔记之守护家园Bread and My Momo盘瓠传奇パッコロリンKitten Dream派乐萌奇 第二季派乐萌奇The Pacalien, Alpaca Alien: PACALIENパカリアンパブー＆モジーズパ・リネズミくん！Paxiu De Huangying, The Shy Oriole, Coy Nighingaleオズの魔法使いの交通安全の旅オズのまほうつかいOyone and Mattsan Love Song: Barley Field - Hawaii Route of AdorationOyoneko Bunyan, Oyoneko Punyanおやゆびひめリカちゃんおやゆびひめ親子で学ぶ 火事の用心 地震の用心終わらない鎮魂歌を歌おう 青年のウタ終わらない鎮魂歌を歌おうOverman King Gainer 1-11 DigestThe King and the Nightingale, The Nightingale王様のしっぽOu-sama Monogatari, Little King\\'s Story逢魔ヶパレヱドOuch, Mother!おつかれおやすみ、ゆめ子。オトッペのウキウキオトペタリウム \\u3000－星座に音をつけようYO!－劇場版オトッペ\\u3000パパ・ドント・クライオトッペオトナの一休さん男樹男はつらいよ 寅次郎忘れな草男どアホウ! 甲子園Otogi no Sekai RyokoOtogibanashi: Bumbuku Chagama, Fairy-tale: Bunbuku kettle, Bunbuku Chagama (1917)お天気ポコ次郎Weather Boysおたのしみアニメ劇場OtakuchanzuOusu no Buu-chan, Ousu no Bu-chan, Osu no Bu-chanOsomatsu-san: The Start of the Beginningオシリスの天秤\\u3000-season2-おしゅしだよ映画おしりたんてい さらば愛しき相棒(おしり)よ映画おしりたんてい シリアーティButt Detective Movie 3: The Secret of Souffle Island映画おしりたんてい テントウムシいせきの なぞ映画 おしりたんてい カレーなる じけんButt Detectiveおしえて♡なみえ先生！教えて！土管くんTeach Me, Hokusai!The Man Traveling with the Brocade Portraitおしゃマニおしゃべりなちゅどんズ手塚治虫アカデミー大賞お先にどうぞ ありがとうオルシペスウォプOROKAHappy Smile ♡ Dream欧力牛和迪瑞羊Organic Circleおれたち, ともだち!おれたちイジワルケイ俺と一緒にトレーニングOre no IsshuukanORANGEBACK + HOO-D - Pilot Short Animation大家さんと僕ピーターパンと宇宙へGO！ －太陽系をぼうけんだ－プラネタリウム 紙兎ロペ おれらロケット飛ばすってマジっすか!?プラネタリウム はなかっぱ\\u3000花さけ！パッカ～ん 宇宙旅行プラネタリウム ハクション大魔王２０２０ 宇宙旅行に出発！の話プラネタリウム\\u3000ちびまる子ちゃん それでも地球はまわっているプラネタリウムちびまる子ちゃん\\u3000南十字星に魅せられてPJ Berri no Mogu Mogu Munya Munya Season 2PJ Berry no Mogu Mogu Munya MunyaPittarazu Tarazu no Maki, Pittarazu Pinnomakiぴったんこ!! ねこざかな (2020)ぴったんこ!! ねこざかなPittanko: The Sun Teacher and Pittankoぴったんこ! ねこざかなピテカント皮皮鲁安全特工队皮皮猪之地震求生记皮皮猪之丛林生活皮皮猪之丛林日记皮皮猪之丛林大冒险皮皮猪之成语列车Pipi とべないホタルThe Exciting Story of Pinkfong and Hogi핑크퐁 원더스타핑크퐁 시네마 콘서트: 우주대탐험핑크퐁 시네마 콘서트 2 : 원더스타 콘서트 대작전Pink Lady 34, Pink Lady 35, Pink Lady Monogatari: Eikou no Tenshi-tachi Recaps, Pink Lady Monogatari: Eikou no Tenshi-tachi Specials, Pink Lady Monogatari: Eikou no Tenshitachi Specials, Pink Lady Monogatari: Eikou no Tenshitachi Omnibus, Pink Lady Monogaピンク・レディー物語 栄光の天使たちPingpang XuanfengPinch & PunchRobovalor, Variety Machine Beasts 3Shiny Summer, Shining SummerPochitto Hatsumei: Pikachin-Kit刺痛我ピチ高野球部“USA編”ピチ高野球部ぴっちぴち♪しずくちゃんBijiasuo Yu GongniuUkulele Picnic, Ukulele Picnic in Hawaii漂移岛之天空历险记瓢虫贝贝之拯救古树镇Papa Mr. Ladybug瓢虫贝贝之神秘工厂披着狼皮的羊皮皮历险记Pipi\\'s storySecret × Heroine Phantomirage!, Girls x Heroine SeriesPhantom in the Twilight: Midokoro Soushuuhen -  Tauryu TowazugatariPhantasm쁘띠쁘띠 뮤즈ピーターくんの交通安全ピーター君の火の玉たいじStar Fantasia: Peter Pan to Neverland e Ikou!, スターファンタジア\\u2001ピーターパンとネバーランドへ行こう！ピーターパンのぼうけんPescadowol, Altale, Pesca DollSekai Meisaku Gekijou Kanketsu Ban: Perrine Monogatari, The Story of Perrineピリオド\\u3000オブ・ザ\\u3000マウスマンペレストロイカペンぺとピンピSeason２ペンぺとピンピペンギンの問題POWA Penguin\\'s Troubles Movieペンギンの問題 Maxペンギンの問題DX?ペンギンぼうやルルとキキ鹏鹏环游记朋朋的世界ペン＆マジックピッケとがーこPeeping Life: TV Asahi Jousei Announcer Collaboration, Peeping Life feat. tv asahiPeeping Life ‐The Perfect Extension‐Peeping Life: Tezuka Pro Tatsunoko Pro Wonderland Specials, Peeping Life: Tezuka Pro, Tatsunoko Pro Wonderland SpecialsSanyo Bussan, CRAsuper Umi Monogatari with Momotarou Densetsu「Peeping Life」×「キッズステーション」Peeping Lifex怪獣酒場 かいじゅうたちがいるところPeeping Life×IODATA「クイズ!!インプットアウトプット」Peeping Life -WE ARE THE HERO-ピーバンPEACH COMMAND 新桃太郎伝説パッタ ポッタ モン太Patchin shite! Obaa-chan, Pacchin shite! Obaa-chan, Pacchinshite oba-chanYa Boy Kongming!: Road to Summer SoniaParallaxPaper Cranes Story: Kenta & Maikoパパンがパンダ！爸爸妈妈小时候的故事Papa Mama Bye-bye파파독 시즌 2 2부파파독 시즌 2파파독泡泡鱼的美丽生活泡泡美人鱼第二季泡泡美人鱼泡泡马林Pao Fu Xiaojie 3rd Season泡芙小姐花漾季Pao Fu Xiaojie 6th SeasonThe Bright Eleven泡芙小姐 第七季泡芙小姐第五季泡芙小姐第四季Pao Pao Xiang Qian Chong齐齐苹苹 第二季齐齐苹苹奇奇漂游记Wonderful Music Star, Miao Le Xing奇奇和努娜骑牛难下戚继光英雄传Qijiguang七剑上天山奇积乐园Qihuan Ya Xian BaoWeird HandQiguai de Binghao, The Strange Patient企鹅部落奇博少年Q淘小咖秀Q版三国之三小强Q版三国Pyuu to Fuku! Jaguar Return Of Yaku Ichinen buriピューと吹く! ジャガー ～いま, 吹きにゆきます～Hana no Pyun Pyun MaruPuu-Neko Show Time, Poo-Neko, YuruaniPUSSYぷるるんっ! しずくちゃんあはっ☆ぷるるんっ！しずくちゃんぷるぽんぷっぷくびーつプップとパッパぷにるんずプックラポッタと森の時間Pagupagu, PagpagPro Yakyu o Jubai Tanoshiku Muru Hoho Part 2, The Racing Baseball 2Pro Yakyu o Jubai Tanoshiku Muru Hoho, The Racing Baseballプロゴルファー猿 スーパーGOLFワールドへの挑戦!!プロゴルファー猿 甲賀秘境! 影の忍法ゴルファー参上!プロゴルファー猿Sekai Meisaku Gekijou Kanketsu Ban: Princess Sara, Shoukoujo Sara Specials프린세스 아야プレゼントプレパレ뾰족뾰족 포크가족뿡뿡빵빵 부부맨빨간 자전거霹霹乐翻天ポッツィーPowerful Pro Baseball: Powerful Highschool ArcPower Battle Watchcar: The Counterattack of Watch MaskPower Battle Watch Car: Minicar Battle League - Spark of the FirePao Paobing포텐독 시즌2포텐독泼水节的传说潑水節Sekai Meisaku Gekijou Kanketsu Ban: Porphy no Nagai TabiPororo English Show뽀로로 극장판 슈퍼스타 대모험뽀로로 극장판: 눈요정 마을 대모험뽀로로 극장판 컴퓨터 왕국 대모험뽀로로 극장판 공룡섬 대모험뽀로로 극장판 보물섬 대모험Ppololo Donghwanala, Bedtime Story for Kids뽀롱뽀롱 뽀로로 8뽀롱뽀롱 뽀로로 7Poppaya-san: Carefree EngineerPoppaya-san, The Good-natured Station Master, Poppaya-san: Carefree Stationmaster, Poppaya-san no Nonki Ekichou, Poppaya-san Nonki EkichouPOPPING, MIXINGぽっぺん先生と帰らずの沼ぽぽりす＆フレンズpopo童话世界Pooky\\'sPoopoo Kidsポニーテールポンタくんのおてがらポンタと遠足Pont Qiao Booth Mini AnimePQBポン助の腕くらべポンコツクエスト～魔王と派遣の魔物たち～PonQuePonkotsu Quest x Monsters Tokubetsu-henvap tte naani?, Ponque Q Shoukai Dougaポンカンマンのアニメーションのできるまでぽんちゃんの１日폴리와 함께하는 교통안전 이야기劇場版 ポールプリンセス!!Pokopon no Yukaina Saiyuukiぽこぽんの里帰りPokopon\\'s Shape-Shifting Match In The Fox River Hot SpringsPokepeaceRascal in the Snag ForestPochitto Hatsumei: Pikachin-Kit Episode 0, Pochitto Hatsumei: Pikachin-Kit Special, Pikachin-Kit Episode 0PochiHanaHello Kitty and Friends: The Excitement at the Carrot Patch, Pochakko no Ninjin Hata wa OosawagiPokkoriesPlayHouseおじゃる丸 いん石小僧がふってきた!俏皮大嘴猫之重返城市啓示錄-霧霾之城七色戰記奇奇颗颗说恐龙奇奇颗颗历险记禽兽超人秦皇岛传奇Qinhan The Hero is Summoned清秀山莊The Adventure of Frog青蛙王子之蛙蛙探险队青蛙王子历险记Frog Prince青蛙王国之奇幻女王历险青蛙王国之极限运动Frog Kingdom: Sub Zero, The Frog Kingdom 2: Sub-zero MissionThe Frog Kingdom, Qing Wa Wang Guo轻松十分青青企鹅乐园情感动物园青春好时光青萍传说之道途Beanie\\'s Daily Extra Story: Don\\'t Forget MeBeanie\\'s Daily Season 0.5 ExtraQing Chi Hong Xiaodou Ba! Di 0.5 JiQing Chi Hong Xiaodou Ba! Di Si JiQing Chi Hong Xiaodou Ba! Di San JiQing Chi Hong Xiaodou Ba! Di Er Ji亲心小伙伴秦天龙王子 第一季秦时明月之笑闯江湖 第二季The Legend of Swordsman, The Legend of QinQin Shi Ming Yue: Cang Hai Heng Liu, Qin\\'s Moon 6, The Legend of Swordsman 6, The Legend of Qin: The High Waves of Canghai, 秦时明月陆沧海横, 秦时明月之始皇之死, 秦时明月陆沧海横流Qin Shi Mingyue: 2016 Chinese New Year Special亲亲小可Qin Han Ying Xiong Zhuan奇妙小世界奇妙王国之魔法奇缘奇妙梦境奇妙环游记麒麟先生奇幻之旅奇幻王国奇幻旅程之帽帽鼠来了奇幻龙宝Qi Guai De Qiu Sai, The Strange Hockey Game汽车小镇护卫队Qi Che Ren Zong Dong YuanQi Cai Shi Jie俏皮大嘴猫之悠长假期俏皮大嘴猫之萌宠天下俏皮大嘴猫之城市游侠Shimajirou Explores the Wonderful World 3rd SeasonShimajirou Explores the Wonderful World 2nd SeasonShimajirou Explores the Wonderful World巧虎奇幻舞台历险记巧在七中Pick up shoes under the bridge巧手鲁班QiaoqiaobanLegend of the White DragonQianjin, Tovarish强者上钩抢枕头The Picture on the Wall枪灵计划前方高能之神烦狗前方高能之辣稽前方高能之滑稽钱……千意快乐小百科前无古人千童星家族潜艇总动员：外星宝贝计划潜艇总动员：环游地球80天Qianting Zongdongyuan: Haidi Liang Wanli, Happy Little Submarine: 20000 Leagues under the Sea潜艇总动员8：地心游记潜艇总动员5：时光宝盒Happy Little Submarines 4: Adventures of OctopusHappy Little Submarine 3: Rainbow TreasureHappy Little Submarine 2Happy Little Submarine, Qianting Zongdongyuan千千问启鱼·成语故事—古物篇齐天大圣前传杞人忧天奇趣特工队 第2季奇趣特工队奇趣世界奇趣梦工坊奇趣工坊之折纸宝典奇趣工坊之手工宝典奇趣工坊之魔法气球宝典奇趣工坊之科技手工宝典奇趣工坊之剪纸宝典奇趣工坊之布艺手工宝典Magic MallLuo Baobei Xilie: Qi Qu Baodian Julebu旗旗号巡洋舰奇奇探险队A Priest and His MotherロックンおヨネROBOTTINGLobosteuleinRobot Taekwon V 2, Robot Taekwon V: Space MissionRobot Taekwon V vs Goldwing, Robot Taekwon V vs Golden Wings, Robot Taekwon V vs. Golden Wings ShowdownRobot Taekwon V 3, Robot Taekwon V 3! Underwater Commandos, Robot Taekwon V: Underwater RangersRobot Apartments, Robot ParutaRobot Child Beeton, Robokko Beaton, Robot Child Beaton, Beaton the Roboboy, Little Robot VitonRoboDz: Fuuun Hen, RoboDz Kazagumo Hen로보카폴리 쏭쏭뮤지엄로보카 폴리 시즌5Robocar Poli Season 4Robocar Poli Season 3ロビンソンクルーソー\\u3000無人島の冒険ロビンくんと100人のお友達シーズン2ロビンくんと100人のお友達Robikero日月潭Rita and Machin라이즈맨リングリングボーイリクはよわくない陸にあがった人魚のはなし PILOT瑞克和扣扣 第2季Rui Ke He Kou KouRich Police CashリボンちゃんラプソディRGB Adventure: Another AdventureRGBアドベンチャ热血小将热血三国之三国鼎立热血三国之三顾茅庐热血三国之乱世天下热血三国之官渡之战Lei Feng Man르브바하프 왕국 재건설기, Revbahaf Kingdom Rebuilding Story, The Legend of Prince Van, Revbahaf: The Story of Rebuilding the KingdomRETRO FUTURERestartRESCUE 타요レスキューQ太のかつやくレペゼン地球コラボアニメ忍者萌剑传人鱼小灯笼人鱼入侵Ren Wu Da ShiRen Shen Wa Wa, Ginseng Baby, The Spirit of GinsengGinseng KingdomThe Story of RennyoMuseum of Humanity人格教育动画热闹一家Reizouko no Tsuke no Suke!リフレイン熱帶複眼Red Balloonりさいくるずー まもれ!もくようびは資源ごみの日りさいくるずーリコラりばあす 有vsグレート-O-カーンReバース ちょこりばRemapped螺旋迷宮乱波燃烧的蔬菜之神奇大陆燃烧的蔬菜之家园保卫战燃烧的蔬菜Ranpo, Rampo, Rampoo让想象飞让梦想起飞Baozou Xiari欒来世 ユニコーンの首筋後ろのホクロになりたいRAINBOW・SCENE레인보우 루비2Caihong Baobao, 彩虹宝宝Rainbow no Anime Box레인보우 버블젬RailmentRABBYCC之卡罗的心灵世界RabbiTube miniQuwei Sanshiliu Ji趣味和尚クイズとき子さんクイズでまなぶ ピノキオのこうつうあんぜん缺乏名字的場所Quan Zhi Fa Shi: Q Ban Xiao Ju Chang 2nd SeasonQuan Zhi Fa Shi: Q Ban Xiao Ju Chang犬之茗曲苑荟萃Ququ, CricketQiyide Mengguma气象百问秋实球道球泡森林球嘎子Leonningmaen: LibenjyeoseuSeer Fifth SeasonSeer Fourth SeasonSeer Third SeasonSeer Second SeasonSeer Eleventh SeasonSeer Tenth SeasonSeer Movie 7: Crazy IntelligenceSeer Movie 6: Invincible PuniSeer Movie 5: Rise of ThunderSeer Movie 4: Trinity WarSeer Movie 3: Heroes AllianceSeer 2赛尔号 (2012)사파리 버스 타요새로 돌잔치생각보다 맑은생일왕국의 프린세스 프링Dessert Catch! Teenieping, Catch! Teenieping 4th SeasonSabu and Ichi\\'s Detective Tales Pilot Film, Sabu and Ichi\\'s Arrest Warrant Pilot Film錆びた館サバパラさぁ、けたたましき この日々に龍三と七人の子分たち×FROGMAN柳水華苑龍神カッペイりゅうの目のなみだ龍馬 30 Seconds良寛さん緑玉紳士 10 Short Stories緑玉紳士如意兔之开心农场Ruyi Tu: Hong Jing Shi 2nd Season如意兔之红晶石如意酷宝之小神羊如意酷宝之西欧兔如意酷宝之山寨鸡如意酷宝之沙奇马如意酷宝之奇异狗如意酷宝之七彩蛇如意酷宝之弥勒猴如意酷宝之怪粒鼠如意酷宝之菲力牛如意酷宝之冻豆虎如意酷宝之笨笨猪如意酷宝之保丽龙如意岛上的小精灵留守電アワー SODANブラザーズHouse-sittingRuriiro PrincessLeonningmaen: Pullulluui YeogseubRunningman The AnimationRunning Boy: Secrets Of Star SoldierRun=Dim Movie, Reondim: Naeseoseu-ui Banranルールマンの交通安全如果历史是一群喵 番外如果历史是一群喵 第九季If History is a Group of Meows 8th Season, History Cats 8th Season, When History Meows 8th SeasonHistory Cats 7th Season, When History Meows 7History Cats 6th Season, When History Meows 6History Cats 5th Season, When History Meows 5History Cats 4th Season, When History Meows 4History Cats 3rd Season, When History Meows 3History Cats 2nd Season, When History Meows 2如果历史是一群喵 宋辽金夏篇History Cats, When History Meows乐比悠悠之乐乐来了乐比悠悠大洋环游记乐比悠悠科普系列之动物自然乐比悠悠科普系列之安全教育乐比悠悠教育系列之快乐成长Le Bi Youyou 3, Lebi Yoyo 3Le Bi Youyou 2, Lebi Yoyo 2Le Bi Youyou, Lebi Youyou로이와 함께하는 소방안전 이야기Ladies\\' Comic Video Rouge, Lady\\'s Comic Video RougeLoteolipakeuローズオニール キューピーSix Broken Laws罗米熊与丹米兔Romi & Dami, Luo Mi Xiong Yu Dan Mi TuRomeo MVMRo-mang-eun Eobs-daRolypiロクローの大ぼうけんRocco-cyan, 6ko-chanロクの世界The Kingdom of Rock洛克王国武道会洛克王国光明凯旋洛克王国复活传说洛克王国大冒险之伢牙乐大显神威洛克王国大冒险2：恩佐日记洛克王国大冒险洛克王国4：出发！巨人谷洛克王国3：圣龙的守护洛克王国2：圣龙的心愿Lokesboiwa Toloロックンロール銭湯三只蝴蝶Saru! Get You, Ape Escape山賊ダイアリー三字经外传三字经里的故事三星堆荣耀觉醒サンタさんは大いそがしHello Kitty and Friends: Santa & His Reindeer Kuppi, Hello Kitty and Friends: Santa and His Reindeer Kuppiサンタの山 妖精の森三十六骑三三的生活果然有问题Sansan\\'s Prank Kitchenサンリオぽこあぽこ シナモンの おうちでチャレンジサンリオぽこあぽこ シナモンの みんなともだちサンリオぽこあぽこ シナモンの げんきにおでかけサンリオ・クリスマス・ファンタジア三千年人物智慧故事三七小福星之智斗三十六计三七小福星之许愿山庄三七小福星之许愿机三七小福星之小福星爱科学三七小福星之神奇的百果藤三七小福星之三七镇轶事三七小福星之榕城遗迹三七小福星之菌菌大乱斗三七小福星之海峡兄弟三七小福星之夺宝奇兵三七小福星之彩虹乐章三七小福星之变废为宝炉三七小福星之宝露先生三七小福星Arithmetic Girl三幸学園 医療秘書専門学校三国演义第三季三国演义 第二季 逐鹿中原Sanguo Yanyi 3D Donghua Ban三国志상자 속의 아이San Choume no Yuuhi, Sunset on Third Street三びきの子ぶたの交通安全三只小猪之魔法大冒险The Three Pigs and The LampThree Kung Fu Pigs Ⅱ三只小狐狸摘葡萄三只兔子 第2季Rabbits三只松鼠之中国行三只松鼠之松鼠小镇2三只松鼠之松鼠小镇三只松鼠Three Wolves散修之王Super Three三太郎 と かぐや姫 の 交通安全Sanshiliu Ji Qiyu Ji三十六个字三毛奇遇記三毛旅行記三毛歷險記三毛流浪记 (1984)Wanderings of San Mao, New Adventures of San Mao, Story of San Mao\\'s Vagrant Life, Tam Mao Phieu Luu Ky TaSanmao Liulang Ji, The Wandering Life of the Three-Haired BoyThree Swordsman: Half FaceThree Neighbors, San\\'ge Linju三寸人间Umbrella醒めよ有権者さまよう心臓サムちゃんのおばけなんか怖くない사랑이 오나 봄사랑은 오늘도 맑음Sela Yingyu Leyuan炸裂！あまびえ姫。 Season 3炸裂！あまびえ姫。 Season 2炸裂！あまびえ姫。さくらんBOY DTさくらとサクリンSakura Taisen: Kuwassarii to Yobareta Shoujo桜の温度SAKUHIN刹界エイトレイドSakigake!! Reiwa no Otokojuku酒井法子のよいこのおはなしひろばHandstand boy running!埼玉県在住、フジヤマオサム、33歳、無職(ニート)。～フジログ入門編～埼玉暴走最前線 フラッグ! 死にものぐるいの青春!!最響カミズモード！Recently Ponta, Lately Ponta, Bacteria Ponta最後の森 はじまりの人最後の空襲 KUMAGAYASAIGO赛贝成长记最強王図鑑 ～The Ultimate Battles～赛亚历险记赛尔号之寻找凤凰神兽Seer Ninth SeasonSeer Eight SeasonSeer Seventh SeasonSeer Sixth Season森林一族Gonfu Tu Xilie: Shaolin Tu Yu Wudang GouShaolin Haibao少林寺传奇Shao Nian A Fan Ti, Shao Nian Afanti, Young EffendiShanshen Yu Xiao ZaoShan Shan de Hong Xing: Hai Zi de Tian Kong山猫吉米之快乐篇山猫吉咪之一家亲山猫和吉咪之全家乐山猫和吉咪之拼图密码山猫和吉咪之魔幻拼图山猫和吉咪之快乐篇山猫和吉咪之嘉年华山猫和吉咪山口山战记之太阳井山口山战记之草裙娃娃山海奇谭Goodbye Monster山海际会山海宝贝 第二季山海宝贝闪光小纵队Shanghai Story上官海铃商圣范蠡山川壯麗Shanyang Huile Jia, The Goat Returns HomeThe Goat and the Wolf山伢仔善良的夏吾冬Shanhe Sheji Tu山海绝伦山高高山不在高シャンプー王子Buddha, Shakyamuni, Taisho Shakuso, Shaka, Life of Shaka, Great Saint ShakyamuniSha Jia Bang Xin ChuanSyaedou PaiteoSewing LoveConnection Useless선물공룡 디보Yukikaze Experimental Project戦隊ヒーロー スキヤキフォース -ぐんまの平和を願うシーズン え, また?-戦隊ヒーロー スキヤキフォース -ぐんまの平和を願うシーズン-せんすい艦に恋をしたクジラの話戦争－子どもたちの遺言戦争が終わった夏に 1945・樺太 [からふと]千年の約束森林, 小鸟和我Sen Lin Zhi Wang森林小镇森林里的金月亮森林里的故事森林好伙伴之快乐生活The Thousand Noble Musketeers: Contemporary Gun Group, Senjuushi Specials, Senjuushi Mini Anime仙術超攻殻オリオン戦国武将列伝 爆風童子ヒッサツマン1000 Pine Groves, One Thousand Pine Groves, A Lot of Pine Wood森巴幸福岛之我要回家森巴幸福岛せみしぐれSemi and the Magic Cube 2, Semi in the Magic Cube 2Semi and the Magic CubeSelection Project-chan Gekijou積層体The Battle of Sekigahara: The Warriors of Tarui Who Stood At the Crossroad世界の王者 キングコング大会Sekai no Hikari: Shinran SeijinMysteries of the World, Investigating World Mysteries世界名作ビデオ絵本Anime World Human Rights Declaration精造機生徒諸君! 心に緑のネッカチーフをYouth Anime Complete Collection, Sumitomo Seimei Seishun Anime Zenshuu, Sumitomo Life Insurance Youth Anime Complete Collection青春Seisho genso-fu: Adam to Eve世紀末伝説 ワンダフルタツノコランド性格変更スクールSeibu Railroad Worker: Tako-chan우리 베란다에서 만나요느린 장마シーサイド荘のアクアっ娘色啦Ookuninushi to Sukunabikona, オオクニヌシとスクナビコナ, MOON, Panteon no Tori, パンテオンの鳥Science Anime: Superconductor Story, Story of SuperconductorsScarecrowman The Animation, Scarecrow ManサザエさんバレンタインデースペシャルGoodbye Little HippoSayonara, Green Pond: Fly Glider!!さよならこいぬのマービン にゅうがく ちょくぜん スペシャルさとうきび畑さすらいくん사소한 냐냐사슴꽃サル太郎はとびださない！サル太郎 地震には負けないぞ！ ～地震への備え大作戦～サル太郎 ヘルメットはかぶってねさる・るるるThe Crab Gets Its Revenge on the Monkey神雕实验室神奇的宝石神奇大冒险神奇布袋小子The most amazing, yo stars神奇阿呦Yugo & Lala, Peculiar Kin 4, Yugo&Lala IV神秘世界历险记3神秘世界历险记2神秘世界历险记神秘的海岛神马与腰刀Star Guardian, Soul of the Planet, Variety Machine Beasts 2神龙星主神龙卫士Brave Indigo深海特攻队之超能晶石深海特攻队Tales of the Chinese Zodiac生肖传奇之十二生肖总动员生肖传奇之十二生肖快乐街生肖传奇之十二生肖闯江湖生肖宝贝生物王国奇幻之旅生死回放盛世骄阳故事寓言大全生日梦精灵生活百科之健康竞赛The WinnerSacred Ancestor圣石奇兵The Soccer Way圣光不好惹生ANIMAShen Zhi Yi Jiao神眼天狼神兽金刚之青龙再现神兽金刚5：超能晶甲神兽金刚4邦宝历险记神兽金刚3超变星甲神兽金刚2：天神地兽神兽金刚深深林历险记神犬勇闯机械城神脑聪仔神明之胄 第2季The Legend of ExcaliburShen Ji Bao Meili Second Season神鸡包美丽神鹤丹丹神弓传奇神笛神厨小福贵神藏神兵小将：电影版神兵小将2神兵小将The Magical Brush, Shen Bi MaliangThe Magical Pen, Shenbi谁是冠军谁怕谁SHE斜陽杀手古德샤샤 앤 마일로SHARK ONGAESHI~シャーク・恩返し~Share the WarmthShaonian Zhangjian少年岳飞传奇少年岳飞少年王阳明少年特警队Young Sima Guang少年师爷之忠义满乾坤少年师爷之知礼万事通少年师爷之智慧丝路少年师爷之智慧快乐侠少年师爷之勇者闯江南少年师爷之信义小侠客少年师爷之侠义欢乐行少年师爷之神秘大盗少年师爷之仁善行天下少年师爷之稽山阳明少年师爷之祭禹盛典少年师爷之公祭大禹少年师爷之断案传奇少年师爷之大禹宝藏少年師爺Shaoshan Youths: The Story of Chairman MaoThe Young Imperial Guards Prologue, The Young Imperial Guards Episode 0Shaonian Jinyiwei Di Er Ji Xuzhang, The Young Imperial Guards 2nd Season Prologue少年霍元甲少年华佗Shaonian Ge Xing 3rd Season, Great Journey of Teenagers 3rd Season, 少年歌行 第三季Kavalan Boy, Ka Va Lan少年狄仁杰少年陈景润少年曹操少年包青天Q版动画少年阿星'"
            ],
            "application/vnd.google.colaboratory.intrinsic+json": {
              "type": "string"
            }
          },
          "metadata": {},
          "execution_count": 274
        }
      ],
      "source": [
        "anidf['synonyms'].unique().sum()"
      ]
    },
    {
      "cell_type": "code",
      "execution_count": 275,
      "id": "67dbbfb9",
      "metadata": {
        "id": "67dbbfb9",
        "colab": {
          "base_uri": "https://localhost:8080/"
        },
        "outputId": "8367bdca-db36-463e-d374-2d844aa7552e"
      },
      "outputs": [
        {
          "output_type": "stream",
          "name": "stdout",
          "text": [
            "<class 'pandas.core.series.Series'>\n",
            "RangeIndex: 20923 entries, 0 to 20922\n",
            "Series name: synonyms\n",
            "Non-Null Count  Dtype \n",
            "--------------  ----- \n",
            "20923 non-null  object\n",
            "dtypes: object(1)\n",
            "memory usage: 163.6+ KB\n"
          ]
        }
      ],
      "source": [
        "anidf['synonyms'].info()"
      ]
    },
    {
      "cell_type": "code",
      "source": [
        "anidf['synonyms'].value_counts()"
      ],
      "metadata": {
        "id": "f-ebyPkStOZw",
        "colab": {
          "base_uri": "https://localhost:8080/",
          "height": 0
        },
        "outputId": "0a520615-7c2c-4861-dd67-d775dfbe511e"
      },
      "id": "f-ebyPkStOZw",
      "execution_count": 276,
      "outputs": [
        {
          "output_type": "execute_result",
          "data": {
            "text/plain": [
              "synonyms\n",
              "                                                                                                                                   32\n",
              "Butt Detective                                                                                                                      9\n",
              "Pokemon Fun Video                                                                                                                   7\n",
              "Sekai Meisaku Gekijou                                                                                                               6\n",
              "One Piece Recap, One Piece Special                                                                                                  6\n",
              "                                                                                                                                   ..\n",
              "Nanatsu no Taizai: Audio Drama - Confession of Sin Dennou Grimoir!, Sin: Nanatsu no Taizai - Tsumi no Kokuhaku Dennou Grimoire!     1\n",
              "日本沈没2020                                                                                                                            1\n",
              "Oneechan ga Kita Special, Onee-chan ga Kita Episode 13, My Sister Came Special                                                      1\n",
              "音響生命体ノイズマン                                                                                                                          1\n",
              "少年阿星                                                                                                                                1\n",
              "Name: count, Length: 20015, dtype: int64"
            ],
            "text/html": [
              "<div>\n",
              "<style scoped>\n",
              "    .dataframe tbody tr th:only-of-type {\n",
              "        vertical-align: middle;\n",
              "    }\n",
              "\n",
              "    .dataframe tbody tr th {\n",
              "        vertical-align: top;\n",
              "    }\n",
              "\n",
              "    .dataframe thead th {\n",
              "        text-align: right;\n",
              "    }\n",
              "</style>\n",
              "<table border=\"1\" class=\"dataframe\">\n",
              "  <thead>\n",
              "    <tr style=\"text-align: right;\">\n",
              "      <th></th>\n",
              "      <th>count</th>\n",
              "    </tr>\n",
              "    <tr>\n",
              "      <th>synonyms</th>\n",
              "      <th></th>\n",
              "    </tr>\n",
              "  </thead>\n",
              "  <tbody>\n",
              "    <tr>\n",
              "      <th></th>\n",
              "      <td>32</td>\n",
              "    </tr>\n",
              "    <tr>\n",
              "      <th>Butt Detective</th>\n",
              "      <td>9</td>\n",
              "    </tr>\n",
              "    <tr>\n",
              "      <th>Pokemon Fun Video</th>\n",
              "      <td>7</td>\n",
              "    </tr>\n",
              "    <tr>\n",
              "      <th>Sekai Meisaku Gekijou</th>\n",
              "      <td>6</td>\n",
              "    </tr>\n",
              "    <tr>\n",
              "      <th>One Piece Recap, One Piece Special</th>\n",
              "      <td>6</td>\n",
              "    </tr>\n",
              "    <tr>\n",
              "      <th>...</th>\n",
              "      <td>...</td>\n",
              "    </tr>\n",
              "    <tr>\n",
              "      <th>Nanatsu no Taizai: Audio Drama - Confession of Sin Dennou Grimoir!, Sin: Nanatsu no Taizai - Tsumi no Kokuhaku Dennou Grimoire!</th>\n",
              "      <td>1</td>\n",
              "    </tr>\n",
              "    <tr>\n",
              "      <th>日本沈没2020</th>\n",
              "      <td>1</td>\n",
              "    </tr>\n",
              "    <tr>\n",
              "      <th>Oneechan ga Kita Special, Onee-chan ga Kita Episode 13, My Sister Came Special</th>\n",
              "      <td>1</td>\n",
              "    </tr>\n",
              "    <tr>\n",
              "      <th>音響生命体ノイズマン</th>\n",
              "      <td>1</td>\n",
              "    </tr>\n",
              "    <tr>\n",
              "      <th>少年阿星</th>\n",
              "      <td>1</td>\n",
              "    </tr>\n",
              "  </tbody>\n",
              "</table>\n",
              "<p>20015 rows × 1 columns</p>\n",
              "</div><br><label><b>dtype:</b> int64</label>"
            ]
          },
          "metadata": {},
          "execution_count": 276
        }
      ]
    },
    {
      "cell_type": "code",
      "source": [
        "anidf['synonyms'] = anidf['synonyms'].apply(lambda x: x if x!='' else np.nan)"
      ],
      "metadata": {
        "id": "owCZP9bdtuLB"
      },
      "id": "owCZP9bdtuLB",
      "execution_count": 277,
      "outputs": []
    },
    {
      "cell_type": "code",
      "source": [
        "anidf['synonyms'].value_counts().sum()"
      ],
      "metadata": {
        "colab": {
          "base_uri": "https://localhost:8080/"
        },
        "id": "4ZskPgs9vmSH",
        "outputId": "42f05179-311a-4fb1-9e69-62e6069c44f9"
      },
      "id": "4ZskPgs9vmSH",
      "execution_count": 278,
      "outputs": [
        {
          "output_type": "execute_result",
          "data": {
            "text/plain": [
              "20891"
            ]
          },
          "metadata": {},
          "execution_count": 278
        }
      ]
    },
    {
      "cell_type": "code",
      "source": [
        "anidf['synonyms'] = anidf['synonyms'].fillna(anidf['name'])"
      ],
      "metadata": {
        "id": "nWBb3uGDvdia"
      },
      "id": "nWBb3uGDvdia",
      "execution_count": 279,
      "outputs": []
    },
    {
      "cell_type": "code",
      "source": [
        "anidf['synonyms'].value_counts().sum()"
      ],
      "metadata": {
        "colab": {
          "base_uri": "https://localhost:8080/"
        },
        "id": "KjaFvmgivr9V",
        "outputId": "c30f3a80-f5c8-4e04-e0f6-5f3cd762829d"
      },
      "id": "KjaFvmgivr9V",
      "execution_count": 280,
      "outputs": [
        {
          "output_type": "execute_result",
          "data": {
            "text/plain": [
              "20923"
            ]
          },
          "metadata": {},
          "execution_count": 280
        }
      ]
    },
    {
      "cell_type": "code",
      "source": [
        "anidf['synonyms'].info()"
      ],
      "metadata": {
        "colab": {
          "base_uri": "https://localhost:8080/"
        },
        "id": "ySRL-Z8wx8Mg",
        "outputId": "168774fb-9e03-486d-c30f-a7a3d1a1f1e8"
      },
      "id": "ySRL-Z8wx8Mg",
      "execution_count": 281,
      "outputs": [
        {
          "output_type": "stream",
          "name": "stdout",
          "text": [
            "<class 'pandas.core.series.Series'>\n",
            "RangeIndex: 20923 entries, 0 to 20922\n",
            "Series name: synonyms\n",
            "Non-Null Count  Dtype \n",
            "--------------  ----- \n",
            "20923 non-null  object\n",
            "dtypes: object(1)\n",
            "memory usage: 163.6+ KB\n"
          ]
        }
      ]
    },
    {
      "cell_type": "markdown",
      "source": [
        "## Type of"
      ],
      "metadata": {
        "id": "F697cM_gytNP"
      },
      "id": "F697cM_gytNP"
    },
    {
      "cell_type": "code",
      "source": [
        "anidf['type_of'].info()"
      ],
      "metadata": {
        "colab": {
          "base_uri": "https://localhost:8080/"
        },
        "id": "qDcTT6o8yv40",
        "outputId": "f8398328-af5b-42dc-9974-70d5667cbd99"
      },
      "id": "qDcTT6o8yv40",
      "execution_count": 282,
      "outputs": [
        {
          "output_type": "stream",
          "name": "stdout",
          "text": [
            "<class 'pandas.core.series.Series'>\n",
            "RangeIndex: 20923 entries, 0 to 20922\n",
            "Series name: type_of\n",
            "Non-Null Count  Dtype \n",
            "--------------  ----- \n",
            "20922 non-null  object\n",
            "dtypes: object(1)\n",
            "memory usage: 163.6+ KB\n"
          ]
        }
      ]
    },
    {
      "cell_type": "code",
      "source": [
        "anidf['type_of'].unique()"
      ],
      "metadata": {
        "colab": {
          "base_uri": "https://localhost:8080/"
        },
        "id": "DSlFswz0zAVd",
        "outputId": "f4509a7a-5682-418a-d3cf-4f9a52680438"
      },
      "id": "DSlFswz0zAVd",
      "execution_count": 283,
      "outputs": [
        {
          "output_type": "execute_result",
          "data": {
            "text/plain": [
              "array(['TV', 'Movie', 'TV Special', 'OVA', 'ONA', 'Special', None],\n",
              "      dtype=object)"
            ]
          },
          "metadata": {},
          "execution_count": 283
        }
      ]
    },
    {
      "cell_type": "code",
      "source": [
        "anidf['type_of'].value_counts()"
      ],
      "metadata": {
        "colab": {
          "base_uri": "https://localhost:8080/",
          "height": 0
        },
        "id": "HFEP7359zxsd",
        "outputId": "343bf6e7-d9a0-4d08-fafd-b490e505b6c7"
      },
      "id": "HFEP7359zxsd",
      "execution_count": 284,
      "outputs": [
        {
          "output_type": "execute_result",
          "data": {
            "text/plain": [
              "type_of\n",
              "TV            7827\n",
              "Movie         4506\n",
              "ONA           3457\n",
              "OVA           2691\n",
              "Special       1785\n",
              "TV Special     656\n",
              "Name: count, dtype: int64"
            ],
            "text/html": [
              "<div>\n",
              "<style scoped>\n",
              "    .dataframe tbody tr th:only-of-type {\n",
              "        vertical-align: middle;\n",
              "    }\n",
              "\n",
              "    .dataframe tbody tr th {\n",
              "        vertical-align: top;\n",
              "    }\n",
              "\n",
              "    .dataframe thead th {\n",
              "        text-align: right;\n",
              "    }\n",
              "</style>\n",
              "<table border=\"1\" class=\"dataframe\">\n",
              "  <thead>\n",
              "    <tr style=\"text-align: right;\">\n",
              "      <th></th>\n",
              "      <th>count</th>\n",
              "    </tr>\n",
              "    <tr>\n",
              "      <th>type_of</th>\n",
              "      <th></th>\n",
              "    </tr>\n",
              "  </thead>\n",
              "  <tbody>\n",
              "    <tr>\n",
              "      <th>TV</th>\n",
              "      <td>7827</td>\n",
              "    </tr>\n",
              "    <tr>\n",
              "      <th>Movie</th>\n",
              "      <td>4506</td>\n",
              "    </tr>\n",
              "    <tr>\n",
              "      <th>ONA</th>\n",
              "      <td>3457</td>\n",
              "    </tr>\n",
              "    <tr>\n",
              "      <th>OVA</th>\n",
              "      <td>2691</td>\n",
              "    </tr>\n",
              "    <tr>\n",
              "      <th>Special</th>\n",
              "      <td>1785</td>\n",
              "    </tr>\n",
              "    <tr>\n",
              "      <th>TV Special</th>\n",
              "      <td>656</td>\n",
              "    </tr>\n",
              "  </tbody>\n",
              "</table>\n",
              "</div><br><label><b>dtype:</b> int64</label>"
            ]
          },
          "metadata": {},
          "execution_count": 284
        }
      ]
    },
    {
      "cell_type": "code",
      "source": [
        "anidf['type_of'] = anidf['type_of'].fillna('TV')"
      ],
      "metadata": {
        "id": "NMi17mclz325"
      },
      "id": "NMi17mclz325",
      "execution_count": 285,
      "outputs": []
    },
    {
      "cell_type": "code",
      "source": [
        "anidf['type_of'].info()"
      ],
      "metadata": {
        "colab": {
          "base_uri": "https://localhost:8080/"
        },
        "id": "NGFs6rf52HiB",
        "outputId": "f09b1c6c-506f-40f9-a90f-211aff633425"
      },
      "id": "NGFs6rf52HiB",
      "execution_count": 286,
      "outputs": [
        {
          "output_type": "stream",
          "name": "stdout",
          "text": [
            "<class 'pandas.core.series.Series'>\n",
            "RangeIndex: 20923 entries, 0 to 20922\n",
            "Series name: type_of\n",
            "Non-Null Count  Dtype \n",
            "--------------  ----- \n",
            "20923 non-null  object\n",
            "dtypes: object(1)\n",
            "memory usage: 163.6+ KB\n"
          ]
        }
      ]
    },
    {
      "cell_type": "code",
      "source": [
        "type(anidf['type_of'][0])"
      ],
      "metadata": {
        "colab": {
          "base_uri": "https://localhost:8080/"
        },
        "id": "xlESJnXw6GHX",
        "outputId": "494a7cde-5b88-44d3-d7f1-1df83d0468d8"
      },
      "id": "xlESJnXw6GHX",
      "execution_count": 287,
      "outputs": [
        {
          "output_type": "execute_result",
          "data": {
            "text/plain": [
              "str"
            ]
          },
          "metadata": {},
          "execution_count": 287
        }
      ]
    },
    {
      "cell_type": "markdown",
      "source": [
        "## Total episodes"
      ],
      "metadata": {
        "id": "QccaQEW52ikM"
      },
      "id": "QccaQEW52ikM"
    },
    {
      "cell_type": "code",
      "source": [
        "anidf['total_episodes'].info()"
      ],
      "metadata": {
        "colab": {
          "base_uri": "https://localhost:8080/"
        },
        "id": "VU7s1g2j5YnJ",
        "outputId": "2c1872d0-99ed-4b1b-8dd2-7fdc3a77456e"
      },
      "id": "VU7s1g2j5YnJ",
      "execution_count": 288,
      "outputs": [
        {
          "output_type": "stream",
          "name": "stdout",
          "text": [
            "<class 'pandas.core.series.Series'>\n",
            "RangeIndex: 20923 entries, 0 to 20922\n",
            "Series name: total_episodes\n",
            "Non-Null Count  Dtype \n",
            "--------------  ----- \n",
            "20923 non-null  object\n",
            "dtypes: object(1)\n",
            "memory usage: 163.6+ KB\n"
          ]
        }
      ]
    },
    {
      "cell_type": "code",
      "source": [
        "anidf['total_episodes'].unique()"
      ],
      "metadata": {
        "colab": {
          "base_uri": "https://localhost:8080/"
        },
        "id": "ELj0tFmV5dPJ",
        "outputId": "26f3f238-ff02-4678-d774-96e239ba13bd"
      },
      "id": "ELj0tFmV5dPJ",
      "execution_count": 289,
      "outputs": [
        {
          "output_type": "execute_result",
          "data": {
            "text/plain": [
              "array(['47', '10', '26', '24', '11', '12', '75', '1', '13', '16', '23',\n",
              "       '7', '74', '14', '2', '25', '22', '201', '110', '51', '148', '64',\n",
              "       '28', '79', '50', '39', '33', '40', '17', '15', '6', '20', '8',\n",
              "       '4', '62', '120', '37', '27', '43', '112', 'Unknown', '99', '101',\n",
              "       '52', '78', '500', '3', '94', '170', '38', '291', '70', '96', '77',\n",
              "       '102', '63', '104', '203', '237', '220', '49', '103', '21', '5',\n",
              "       '45', '69', '54', '18', '366', '34', '109', '9', '153', '36',\n",
              "       '145', '373', '113', '35', '155', '76', '1787', '60', '178', '167',\n",
              "       '127', '114', '161', '100', '195', '30', '19', '97', '46', '61',\n",
              "       '31', '358', '42', '48', '142', '73', '182', '150', '136', '175',\n",
              "       '115', '53', '87', '86', '124', '140', '147', '29', '224', '131',\n",
              "       '154', '44', '58', '137', '276', '93', '67', '496', '105', '128',\n",
              "       '330', '41', '172', '72', '92', '91', '191', '160', '243', '180',\n",
              "       '65', '55', '56', '193', '66', '59', '156', '192', '380', '95',\n",
              "       '108', '296', '694', '68', '400', '32', '164', '146', '258', '331',\n",
              "       '130', '83', '139', '119', '117', '151', '526', '1471', '163',\n",
              "       '214', '88', '80', '143', '208', '510', '89', '84', '98', '530',\n",
              "       '200', '305', '260', '726', '263', '312', '122', '3057', '199',\n",
              "       '293', '300', '1306', '1428', '1274', '215', '1006', '773', '475',\n",
              "       '1565', '744', '1818', '227', '365', '230', '116', '420', '800',\n",
              "       '432', '162', '132', '57', '398', '624', '284', '177', '90', '125',\n",
              "       '144', '418', '126', '250', '82', '138', '118', '196', '81', '325',\n",
              "       '294', '85', '245', '360', '1664', '283', '240', '71', '121',\n",
              "       '212', '210', '390', '367', '234', '1000', '425', '152', '229',\n",
              "       '364', '340', '356', '299', '267', '225', '431', '302', '499',\n",
              "       '247', '217'], dtype=object)"
            ]
          },
          "metadata": {},
          "execution_count": 289
        }
      ]
    },
    {
      "cell_type": "code",
      "source": [
        "(anidf['total_episodes']==\"Unknown\").sum()"
      ],
      "metadata": {
        "colab": {
          "base_uri": "https://localhost:8080/"
        },
        "id": "4yF_bJAC5iFc",
        "outputId": "d2ec85a2-8fd9-4753-f68a-f4bcba5d4d6d"
      },
      "id": "4yF_bJAC5iFc",
      "execution_count": 290,
      "outputs": [
        {
          "output_type": "execute_result",
          "data": {
            "text/plain": [
              "191"
            ]
          },
          "metadata": {},
          "execution_count": 290
        }
      ]
    },
    {
      "cell_type": "code",
      "source": [
        "type(anidf['total_episodes'][0])"
      ],
      "metadata": {
        "colab": {
          "base_uri": "https://localhost:8080/"
        },
        "id": "DAeOKhDX6AgV",
        "outputId": "2bbd0bfe-983d-4a8e-c078-d7f6ba608b3f"
      },
      "id": "DAeOKhDX6AgV",
      "execution_count": 291,
      "outputs": [
        {
          "output_type": "execute_result",
          "data": {
            "text/plain": [
              "str"
            ]
          },
          "metadata": {},
          "execution_count": 291
        }
      ]
    },
    {
      "cell_type": "code",
      "source": [
        "anidf['total_episodes'] = anidf['total_episodes'].apply(lambda x: int(x) if x!= 'Unknown' else np.nan)"
      ],
      "metadata": {
        "id": "XjFOoX-_6OeY"
      },
      "id": "XjFOoX-_6OeY",
      "execution_count": 292,
      "outputs": []
    },
    {
      "cell_type": "code",
      "source": [
        "type(anidf['total_episodes'][0])"
      ],
      "metadata": {
        "colab": {
          "base_uri": "https://localhost:8080/"
        },
        "id": "H8lD0kAi6uKH",
        "outputId": "a53ef51e-c822-4f92-dd4e-f497bf746162"
      },
      "id": "H8lD0kAi6uKH",
      "execution_count": 293,
      "outputs": [
        {
          "output_type": "execute_result",
          "data": {
            "text/plain": [
              "numpy.float64"
            ]
          },
          "metadata": {},
          "execution_count": 293
        }
      ]
    },
    {
      "cell_type": "code",
      "source": [
        "anidf['total_episodes'].isna().sum()"
      ],
      "metadata": {
        "colab": {
          "base_uri": "https://localhost:8080/"
        },
        "id": "jOXAnnV79b2a",
        "outputId": "e9fd115f-20e4-4038-cf92-233f1ac63504"
      },
      "id": "jOXAnnV79b2a",
      "execution_count": 294,
      "outputs": [
        {
          "output_type": "execute_result",
          "data": {
            "text/plain": [
              "191"
            ]
          },
          "metadata": {},
          "execution_count": 294
        }
      ]
    },
    {
      "cell_type": "markdown",
      "source": [
        "## Premiered"
      ],
      "metadata": {
        "id": "ohfSggnX9f7S"
      },
      "id": "ohfSggnX9f7S"
    },
    {
      "cell_type": "code",
      "source": [
        "anidf['premiered'].info()"
      ],
      "metadata": {
        "colab": {
          "base_uri": "https://localhost:8080/"
        },
        "id": "Mz1c_JGJ_qr0",
        "outputId": "fd0fa52f-9e22-47b4-df94-b6dc0c7b3ecc"
      },
      "id": "Mz1c_JGJ_qr0",
      "execution_count": 295,
      "outputs": [
        {
          "output_type": "stream",
          "name": "stdout",
          "text": [
            "<class 'pandas.core.series.Series'>\n",
            "RangeIndex: 20923 entries, 0 to 20922\n",
            "Series name: premiered\n",
            "Non-Null Count  Dtype \n",
            "--------------  ----- \n",
            "5833 non-null   object\n",
            "dtypes: object(1)\n",
            "memory usage: 163.6+ KB\n"
          ]
        }
      ]
    },
    {
      "cell_type": "code",
      "source": [
        "anidf['premiered'].unique()"
      ],
      "metadata": {
        "colab": {
          "base_uri": "https://localhost:8080/"
        },
        "id": "IzkoNZgRAGbv",
        "outputId": "8c5e34a6-f4c2-44dd-eb74-599ead0347e9"
      },
      "id": "IzkoNZgRAGbv",
      "execution_count": 296,
      "outputs": [
        {
          "output_type": "execute_result",
          "data": {
            "text/plain": [
              "array(['Fall 1980', 'Fall 2014', 'Spring 2022', 'Summer 2019',\n",
              "       'Spring 1998', 'Summer 2013', 'Winter 2022', 'Fall 2000', None,\n",
              "       'Winter 2024', 'Fall 2016', 'Winter 2021', 'Winter 2019',\n",
              "       'Fall 2022', 'Winter 2018', 'Winter 2023', 'Spring 2020',\n",
              "       'Summer 2023', 'Spring 2004', 'Summer 2018', 'Spring 2008',\n",
              "       'Fall 2017', 'Fall 2023', 'Fall 2008', 'Spring 2006',\n",
              "       'Winter 2017', 'Spring 2021', 'Fall 2012', 'Spring 2011',\n",
              "       'Fall 2011', 'Spring 2019', 'Spring 2015', 'Spring 2009',\n",
              "       'Winter 2016', 'Spring 1970', 'Summer 2009', 'Summer 2006',\n",
              "       'Summer 2008', 'Winter 2009', 'Winter 2010', 'Spring 2010',\n",
              "       'Winter 1995', 'Summer 2020', 'Fall 1979', 'Summer 2021',\n",
              "       'Summer 2011', 'Fall 1995', 'Winter 2020', 'Summer 2007',\n",
              "       'Summer 2014', 'Winter 2011', 'Fall 2021', 'Fall 2018',\n",
              "       'Winter 2013', 'Fall 1999', 'Summer 2016', 'Fall 2002',\n",
              "       'Fall 2019', 'Winter 2015', 'Spring 2014', 'Fall 2020',\n",
              "       'Spring 2024', 'Fall 1997', 'Fall 2013', 'Spring 2017',\n",
              "       'Fall 2006', 'Fall 2015', 'Spring 2007', 'Winter 2012',\n",
              "       'Summer 2022', 'Summer 2017', 'Fall 2005', 'Spring 2023',\n",
              "       'Summer 1999', 'Fall 1992', 'Winter 2008', 'Spring 2012',\n",
              "       'Spring 2016', 'Winter 2004', 'Spring 2018', 'Spring 2013',\n",
              "       'Fall 1993', 'Winter 2007', 'Spring 1990', 'Fall 2003',\n",
              "       'Fall 2007', 'Winter 2014', 'Spring 2003', 'Fall 2004',\n",
              "       'Winter 1996', 'Summer 2002', 'Spring 1989', 'Summer 2015',\n",
              "       'Fall 2010', 'Winter 2006', 'Fall 2009', 'Spring 1986',\n",
              "       'Spring 1997', 'Spring 1996', 'Fall 2001', 'Spring 1988',\n",
              "       'Summer 1998', 'Spring 1978', 'Spring 2002', 'Spring 2005',\n",
              "       'Spring 1985', 'Summer 2003', 'Spring 1987', 'Summer 2005',\n",
              "       'Fall 1978', 'Fall 1984', 'Winter 1986', 'Fall 1982', 'Fall 1996',\n",
              "       'Spring 1994', 'Summer 2012', 'Winter 1993', 'Spring 1992',\n",
              "       'Winter 1979', 'Winter 2003', 'Summer 1996', 'Fall 1989',\n",
              "       'Fall 1977', 'Spring 1979', 'Spring 1999', 'Summer 2001',\n",
              "       'Spring 2001', 'Fall 1983', 'Winter 1997', 'Winter 2002',\n",
              "       'Winter 1998', 'Summer 1991', 'Summer 2010', 'Spring 1991',\n",
              "       'Spring 1982', 'Fall 1986', 'Spring 1993', 'Spring 1995',\n",
              "       'Fall 1981', 'Winter 1985', 'Spring 2000', 'Winter 1990',\n",
              "       'Spring 1983', 'Winter 1999', 'Summer 2004', 'Fall 1971',\n",
              "       'Winter 1991', 'Fall 1998', 'Fall 1990', 'Fall 1994', 'Fall 1974',\n",
              "       'Winter 2001', 'Winter 2000', 'Winter 1994', 'Fall 1991',\n",
              "       'Fall 1976', 'Fall 1975', 'Winter 1978', 'Fall 1985',\n",
              "       'Summer 1984', 'Summer 1980', 'Fall 1968', 'Summer 1977',\n",
              "       'Fall 1987', 'Winter 1992', 'Winter 1976', 'Winter 1988',\n",
              "       'Winter 2005', 'Summer 1983', 'Summer 1995', 'Winter 1974',\n",
              "       'Spring 1973', 'Winter 1987', 'Spring 1975', 'Winter 1975',\n",
              "       'Spring 1981', 'Fall 1969', 'Spring 1984', 'Summer 1997',\n",
              "       'Winter 1981', 'Spring 1968', 'Fall 1988', 'Winter 1973',\n",
              "       'Summer 1992', 'Winter 1980', 'Summer 1985', 'Summer 1978',\n",
              "       'Spring 1969', 'Summer 2000', 'Winter 1983', 'Summer 1988',\n",
              "       'Fall 1973', 'Spring 1980', 'Summer 1989', 'Winter 1963',\n",
              "       'Winter 1968', 'Winter 1982', 'Winter 1984', 'Summer 1990',\n",
              "       'Winter 1967', 'Winter 1970', 'Summer 1965', 'Summer 1982',\n",
              "       'Spring 1974', 'Fall 1972', 'Spring 1976', 'Winter 1969',\n",
              "       'Winter 1989', 'Winter 1977', 'Winter 1972', 'Summer 1994',\n",
              "       'Spring 1967', 'Fall 1966', 'Summer 1981', 'Fall 1965',\n",
              "       'Fall 1963', 'Fall 1970', 'Spring 1966', 'Summer 1972',\n",
              "       'Spring 1972', 'Summer 1964', 'Winter 1966', 'Summer 1987',\n",
              "       'Spring 1971', 'Summer 1986', 'Spring 1977', 'Summer 1979',\n",
              "       'Winter 1971', 'Summer 1975', 'Summer 1976', 'Fall 1967',\n",
              "       'Winter 1965', 'Spring 1961', 'Summer 1974', 'Summer 1962',\n",
              "       'Spring 1965', 'Winter 1964', 'Summer 1966', 'Summer 1993',\n",
              "       'Summer 1970', 'Summer 1967'], dtype=object)"
            ]
          },
          "metadata": {},
          "execution_count": 296
        }
      ]
    },
    {
      "cell_type": "code",
      "source": [
        "anidf['premiered'].isnull().sum()"
      ],
      "metadata": {
        "colab": {
          "base_uri": "https://localhost:8080/"
        },
        "id": "Hdq_6FSCAhP-",
        "outputId": "5d0ecc5f-099e-4dbf-97c8-c5ce973c64b8"
      },
      "id": "Hdq_6FSCAhP-",
      "execution_count": 297,
      "outputs": [
        {
          "output_type": "execute_result",
          "data": {
            "text/plain": [
              "15090"
            ]
          },
          "metadata": {},
          "execution_count": 297
        }
      ]
    },
    {
      "cell_type": "code",
      "source": [
        "anidf['premiered'] = anidf['premiered'].fillna('Unknown')"
      ],
      "metadata": {
        "id": "5kMkrGGDAo6Y"
      },
      "id": "5kMkrGGDAo6Y",
      "execution_count": 298,
      "outputs": []
    },
    {
      "cell_type": "code",
      "source": [
        "anidf['premiered'].isnull().sum()"
      ],
      "metadata": {
        "colab": {
          "base_uri": "https://localhost:8080/"
        },
        "id": "QGN-297MCPhB",
        "outputId": "9bed25d2-eafc-481e-8138-12a2a8142e44"
      },
      "id": "QGN-297MCPhB",
      "execution_count": 299,
      "outputs": [
        {
          "output_type": "execute_result",
          "data": {
            "text/plain": [
              "0"
            ]
          },
          "metadata": {},
          "execution_count": 299
        }
      ]
    },
    {
      "cell_type": "code",
      "source": [
        "(anidf['premiered']=='Unknown').sum()"
      ],
      "metadata": {
        "colab": {
          "base_uri": "https://localhost:8080/"
        },
        "id": "MW5RLV44CTVh",
        "outputId": "2f03302e-b2cc-4bc3-cdc2-d33479cdf658"
      },
      "id": "MW5RLV44CTVh",
      "execution_count": 300,
      "outputs": [
        {
          "output_type": "execute_result",
          "data": {
            "text/plain": [
              "15090"
            ]
          },
          "metadata": {},
          "execution_count": 300
        }
      ]
    },
    {
      "cell_type": "markdown",
      "source": [
        "## Studios"
      ],
      "metadata": {
        "id": "8jON728BCYzk"
      },
      "id": "8jON728BCYzk"
    },
    {
      "cell_type": "code",
      "source": [
        "anidf['studios'].info()"
      ],
      "metadata": {
        "colab": {
          "base_uri": "https://localhost:8080/"
        },
        "id": "xtXmqOuPChdV",
        "outputId": "5598bc65-528d-4523-edcb-42cf60ba71b8"
      },
      "id": "xtXmqOuPChdV",
      "execution_count": 301,
      "outputs": [
        {
          "output_type": "stream",
          "name": "stdout",
          "text": [
            "<class 'pandas.core.series.Series'>\n",
            "RangeIndex: 20923 entries, 0 to 20922\n",
            "Series name: studios\n",
            "Non-Null Count  Dtype \n",
            "--------------  ----- \n",
            "20923 non-null  object\n",
            "dtypes: object(1)\n",
            "memory usage: 163.6+ KB\n"
          ]
        }
      ]
    },
    {
      "cell_type": "code",
      "source": [
        "anidf['studios'].value_counts()"
      ],
      "metadata": {
        "colab": {
          "base_uri": "https://localhost:8080/",
          "height": 0
        },
        "id": "zJYGR5SgCpS3",
        "outputId": "d4c4b405-192d-4d2d-d51d-0a30800ecde7"
      },
      "id": "zJYGR5SgCpS3",
      "execution_count": 302,
      "outputs": [
        {
          "output_type": "execute_result",
          "data": {
            "text/plain": [
              "studios\n",
              "add some          7791\n",
              "Toei Animation     870\n",
              "Sunrise            547\n",
              "J.C.Staff          421\n",
              "Madhouse           360\n",
              "                  ... \n",
              "Frontier Works       1\n",
              "GRIZZLY              1\n",
              "Suspenders           1\n",
              "YURUPPE Inc.         1\n",
              "Studio Palette       1\n",
              "Name: count, Length: 810, dtype: int64"
            ],
            "text/html": [
              "<div>\n",
              "<style scoped>\n",
              "    .dataframe tbody tr th:only-of-type {\n",
              "        vertical-align: middle;\n",
              "    }\n",
              "\n",
              "    .dataframe tbody tr th {\n",
              "        vertical-align: top;\n",
              "    }\n",
              "\n",
              "    .dataframe thead th {\n",
              "        text-align: right;\n",
              "    }\n",
              "</style>\n",
              "<table border=\"1\" class=\"dataframe\">\n",
              "  <thead>\n",
              "    <tr style=\"text-align: right;\">\n",
              "      <th></th>\n",
              "      <th>count</th>\n",
              "    </tr>\n",
              "    <tr>\n",
              "      <th>studios</th>\n",
              "      <th></th>\n",
              "    </tr>\n",
              "  </thead>\n",
              "  <tbody>\n",
              "    <tr>\n",
              "      <th>add some</th>\n",
              "      <td>7791</td>\n",
              "    </tr>\n",
              "    <tr>\n",
              "      <th>Toei Animation</th>\n",
              "      <td>870</td>\n",
              "    </tr>\n",
              "    <tr>\n",
              "      <th>Sunrise</th>\n",
              "      <td>547</td>\n",
              "    </tr>\n",
              "    <tr>\n",
              "      <th>J.C.Staff</th>\n",
              "      <td>421</td>\n",
              "    </tr>\n",
              "    <tr>\n",
              "      <th>Madhouse</th>\n",
              "      <td>360</td>\n",
              "    </tr>\n",
              "    <tr>\n",
              "      <th>...</th>\n",
              "      <td>...</td>\n",
              "    </tr>\n",
              "    <tr>\n",
              "      <th>Frontier Works</th>\n",
              "      <td>1</td>\n",
              "    </tr>\n",
              "    <tr>\n",
              "      <th>GRIZZLY</th>\n",
              "      <td>1</td>\n",
              "    </tr>\n",
              "    <tr>\n",
              "      <th>Suspenders</th>\n",
              "      <td>1</td>\n",
              "    </tr>\n",
              "    <tr>\n",
              "      <th>YURUPPE Inc.</th>\n",
              "      <td>1</td>\n",
              "    </tr>\n",
              "    <tr>\n",
              "      <th>Studio Palette</th>\n",
              "      <td>1</td>\n",
              "    </tr>\n",
              "  </tbody>\n",
              "</table>\n",
              "<p>810 rows × 1 columns</p>\n",
              "</div><br><label><b>dtype:</b> int64</label>"
            ]
          },
          "metadata": {},
          "execution_count": 302
        }
      ]
    },
    {
      "cell_type": "markdown",
      "source": [
        "## Genre"
      ],
      "metadata": {
        "id": "1_TDrxc-IjPx"
      },
      "id": "1_TDrxc-IjPx"
    },
    {
      "cell_type": "code",
      "source": [
        "anidf['genres'].info()"
      ],
      "metadata": {
        "colab": {
          "base_uri": "https://localhost:8080/"
        },
        "id": "ldFi0_1jCmaE",
        "outputId": "7a09626f-dbe0-42ff-dbd3-b8bdee3b0ba7"
      },
      "id": "ldFi0_1jCmaE",
      "execution_count": 303,
      "outputs": [
        {
          "output_type": "stream",
          "name": "stdout",
          "text": [
            "<class 'pandas.core.series.Series'>\n",
            "RangeIndex: 20923 entries, 0 to 20922\n",
            "Series name: genres\n",
            "Non-Null Count  Dtype \n",
            "--------------  ----- \n",
            "20923 non-null  object\n",
            "dtypes: object(1)\n",
            "memory usage: 163.6+ KB\n"
          ]
        }
      ]
    },
    {
      "cell_type": "code",
      "source": [
        "anidf['genres'].value_counts()"
      ],
      "metadata": {
        "colab": {
          "base_uri": "https://localhost:8080/",
          "height": 0
        },
        "id": "HF6baW_UI2fE",
        "outputId": "abe3f378-b370-46de-f7ae-52b8e085fcd8"
      },
      "id": "HF6baW_UI2fE",
      "execution_count": 304,
      "outputs": [
        {
          "output_type": "execute_result",
          "data": {
            "text/plain": [
              "genres\n",
              "[]                                                        10021\n",
              "[Adventure, Fantasy]                                        542\n",
              "[Action, Sci-Fi]                                            523\n",
              "[Comedy, Fantasy]                                           497\n",
              "[Action, Adventure, Fantasy]                                471\n",
              "                                                          ...  \n",
              "[Action, Drama, Horror, Romance, Sci-Fi, Supernatural]        1\n",
              "[Adventure, Mystery, Romance, Sci-Fi]                         1\n",
              "[Adventure, Comedy, Horror]                                   1\n",
              "[Action, Drama, Horror, Romance, Sci-Fi]                      1\n",
              "[Fantasy, Romance, Slice of Life, Supernatural]               1\n",
              "Name: count, Length: 843, dtype: int64"
            ],
            "text/html": [
              "<div>\n",
              "<style scoped>\n",
              "    .dataframe tbody tr th:only-of-type {\n",
              "        vertical-align: middle;\n",
              "    }\n",
              "\n",
              "    .dataframe tbody tr th {\n",
              "        vertical-align: top;\n",
              "    }\n",
              "\n",
              "    .dataframe thead th {\n",
              "        text-align: right;\n",
              "    }\n",
              "</style>\n",
              "<table border=\"1\" class=\"dataframe\">\n",
              "  <thead>\n",
              "    <tr style=\"text-align: right;\">\n",
              "      <th></th>\n",
              "      <th>count</th>\n",
              "    </tr>\n",
              "    <tr>\n",
              "      <th>genres</th>\n",
              "      <th></th>\n",
              "    </tr>\n",
              "  </thead>\n",
              "  <tbody>\n",
              "    <tr>\n",
              "      <th>[]</th>\n",
              "      <td>10021</td>\n",
              "    </tr>\n",
              "    <tr>\n",
              "      <th>[Adventure, Fantasy]</th>\n",
              "      <td>542</td>\n",
              "    </tr>\n",
              "    <tr>\n",
              "      <th>[Action, Sci-Fi]</th>\n",
              "      <td>523</td>\n",
              "    </tr>\n",
              "    <tr>\n",
              "      <th>[Comedy, Fantasy]</th>\n",
              "      <td>497</td>\n",
              "    </tr>\n",
              "    <tr>\n",
              "      <th>[Action, Adventure, Fantasy]</th>\n",
              "      <td>471</td>\n",
              "    </tr>\n",
              "    <tr>\n",
              "      <th>...</th>\n",
              "      <td>...</td>\n",
              "    </tr>\n",
              "    <tr>\n",
              "      <th>[Action, Drama, Horror, Romance, Sci-Fi, Supernatural]</th>\n",
              "      <td>1</td>\n",
              "    </tr>\n",
              "    <tr>\n",
              "      <th>[Adventure, Mystery, Romance, Sci-Fi]</th>\n",
              "      <td>1</td>\n",
              "    </tr>\n",
              "    <tr>\n",
              "      <th>[Adventure, Comedy, Horror]</th>\n",
              "      <td>1</td>\n",
              "    </tr>\n",
              "    <tr>\n",
              "      <th>[Action, Drama, Horror, Romance, Sci-Fi]</th>\n",
              "      <td>1</td>\n",
              "    </tr>\n",
              "    <tr>\n",
              "      <th>[Fantasy, Romance, Slice of Life, Supernatural]</th>\n",
              "      <td>1</td>\n",
              "    </tr>\n",
              "  </tbody>\n",
              "</table>\n",
              "<p>843 rows × 1 columns</p>\n",
              "</div><br><label><b>dtype:</b> int64</label>"
            ]
          },
          "metadata": {},
          "execution_count": 304
        }
      ]
    },
    {
      "cell_type": "code",
      "source": [
        "anidf['genres'] = anidf['genres'].apply(lambda x: np.nan if len(x) == 0 else x)"
      ],
      "metadata": {
        "id": "UNPCBwZvY7EI"
      },
      "id": "UNPCBwZvY7EI",
      "execution_count": 305,
      "outputs": []
    },
    {
      "cell_type": "code",
      "source": [
        "anidf['genres'].isnull().sum()"
      ],
      "metadata": {
        "colab": {
          "base_uri": "https://localhost:8080/"
        },
        "id": "i6gklRYrI-bS",
        "outputId": "4dbf602d-8455-498b-81c6-3820b1c72a63"
      },
      "id": "i6gklRYrI-bS",
      "execution_count": 306,
      "outputs": [
        {
          "output_type": "execute_result",
          "data": {
            "text/plain": [
              "10021"
            ]
          },
          "metadata": {},
          "execution_count": 306
        }
      ]
    },
    {
      "cell_type": "code",
      "source": [
        "anidf[(anidf['genres'].apply(lambda x: x == np.nan))]"
      ],
      "metadata": {
        "colab": {
          "base_uri": "https://localhost:8080/",
          "height": 0
        },
        "id": "RqB9NcayZD44",
        "outputId": "2ff48d3b-041f-42ae-9916-f9b80942cbf9"
      },
      "id": "RqB9NcayZD44",
      "execution_count": 307,
      "outputs": [
        {
          "output_type": "execute_result",
          "data": {
            "text/plain": [
              "Empty DataFrame\n",
              "Columns: [name_english, name, score, ranked, popularity, members, synopsis, synonyms, type_of, total_episodes, premiered, studios, genres, demographic, duration_per_ep, rating, scored_by, favorites, aired, source, watching, completed, on_hold, dropped, plan_to_watch, total, scored_10_by, scored_9_by, scored_8_by, scored_7_by, scored_6_by, scored_5_by, scored_4_by, scored_3_by, scored_2_by, scored_1_by]\n",
              "Index: []\n",
              "\n",
              "[0 rows x 36 columns]"
            ],
            "text/html": [
              "\n",
              "  <div id=\"df-a9a3c730-6324-48d5-ac12-8b99cf107b22\" class=\"colab-df-container\">\n",
              "    <div>\n",
              "<style scoped>\n",
              "    .dataframe tbody tr th:only-of-type {\n",
              "        vertical-align: middle;\n",
              "    }\n",
              "\n",
              "    .dataframe tbody tr th {\n",
              "        vertical-align: top;\n",
              "    }\n",
              "\n",
              "    .dataframe thead th {\n",
              "        text-align: right;\n",
              "    }\n",
              "</style>\n",
              "<table border=\"1\" class=\"dataframe\">\n",
              "  <thead>\n",
              "    <tr style=\"text-align: right;\">\n",
              "      <th></th>\n",
              "      <th>name_english</th>\n",
              "      <th>name</th>\n",
              "      <th>score</th>\n",
              "      <th>ranked</th>\n",
              "      <th>popularity</th>\n",
              "      <th>members</th>\n",
              "      <th>synopsis</th>\n",
              "      <th>synonyms</th>\n",
              "      <th>type_of</th>\n",
              "      <th>total_episodes</th>\n",
              "      <th>...</th>\n",
              "      <th>scored_10_by</th>\n",
              "      <th>scored_9_by</th>\n",
              "      <th>scored_8_by</th>\n",
              "      <th>scored_7_by</th>\n",
              "      <th>scored_6_by</th>\n",
              "      <th>scored_5_by</th>\n",
              "      <th>scored_4_by</th>\n",
              "      <th>scored_3_by</th>\n",
              "      <th>scored_2_by</th>\n",
              "      <th>scored_1_by</th>\n",
              "    </tr>\n",
              "  </thead>\n",
              "  <tbody>\n",
              "  </tbody>\n",
              "</table>\n",
              "<p>0 rows × 36 columns</p>\n",
              "</div>\n",
              "    <div class=\"colab-df-buttons\">\n",
              "\n",
              "  <div class=\"colab-df-container\">\n",
              "    <button class=\"colab-df-convert\" onclick=\"convertToInteractive('df-a9a3c730-6324-48d5-ac12-8b99cf107b22')\"\n",
              "            title=\"Convert this dataframe to an interactive table.\"\n",
              "            style=\"display:none;\">\n",
              "\n",
              "  <svg xmlns=\"http://www.w3.org/2000/svg\" height=\"24px\" viewBox=\"0 -960 960 960\">\n",
              "    <path d=\"M120-120v-720h720v720H120Zm60-500h600v-160H180v160Zm220 220h160v-160H400v160Zm0 220h160v-160H400v160ZM180-400h160v-160H180v160Zm440 0h160v-160H620v160ZM180-180h160v-160H180v160Zm440 0h160v-160H620v160Z\"/>\n",
              "  </svg>\n",
              "    </button>\n",
              "\n",
              "  <style>\n",
              "    .colab-df-container {\n",
              "      display:flex;\n",
              "      gap: 12px;\n",
              "    }\n",
              "\n",
              "    .colab-df-convert {\n",
              "      background-color: #E8F0FE;\n",
              "      border: none;\n",
              "      border-radius: 50%;\n",
              "      cursor: pointer;\n",
              "      display: none;\n",
              "      fill: #1967D2;\n",
              "      height: 32px;\n",
              "      padding: 0 0 0 0;\n",
              "      width: 32px;\n",
              "    }\n",
              "\n",
              "    .colab-df-convert:hover {\n",
              "      background-color: #E2EBFA;\n",
              "      box-shadow: 0px 1px 2px rgba(60, 64, 67, 0.3), 0px 1px 3px 1px rgba(60, 64, 67, 0.15);\n",
              "      fill: #174EA6;\n",
              "    }\n",
              "\n",
              "    .colab-df-buttons div {\n",
              "      margin-bottom: 4px;\n",
              "    }\n",
              "\n",
              "    [theme=dark] .colab-df-convert {\n",
              "      background-color: #3B4455;\n",
              "      fill: #D2E3FC;\n",
              "    }\n",
              "\n",
              "    [theme=dark] .colab-df-convert:hover {\n",
              "      background-color: #434B5C;\n",
              "      box-shadow: 0px 1px 3px 1px rgba(0, 0, 0, 0.15);\n",
              "      filter: drop-shadow(0px 1px 2px rgba(0, 0, 0, 0.3));\n",
              "      fill: #FFFFFF;\n",
              "    }\n",
              "  </style>\n",
              "\n",
              "    <script>\n",
              "      const buttonEl =\n",
              "        document.querySelector('#df-a9a3c730-6324-48d5-ac12-8b99cf107b22 button.colab-df-convert');\n",
              "      buttonEl.style.display =\n",
              "        google.colab.kernel.accessAllowed ? 'block' : 'none';\n",
              "\n",
              "      async function convertToInteractive(key) {\n",
              "        const element = document.querySelector('#df-a9a3c730-6324-48d5-ac12-8b99cf107b22');\n",
              "        const dataTable =\n",
              "          await google.colab.kernel.invokeFunction('convertToInteractive',\n",
              "                                                    [key], {});\n",
              "        if (!dataTable) return;\n",
              "\n",
              "        const docLinkHtml = 'Like what you see? Visit the ' +\n",
              "          '<a target=\"_blank\" href=https://colab.research.google.com/notebooks/data_table.ipynb>data table notebook</a>'\n",
              "          + ' to learn more about interactive tables.';\n",
              "        element.innerHTML = '';\n",
              "        dataTable['output_type'] = 'display_data';\n",
              "        await google.colab.output.renderOutput(dataTable, element);\n",
              "        const docLink = document.createElement('div');\n",
              "        docLink.innerHTML = docLinkHtml;\n",
              "        element.appendChild(docLink);\n",
              "      }\n",
              "    </script>\n",
              "  </div>\n",
              "\n",
              "\n",
              "    </div>\n",
              "  </div>\n"
            ],
            "application/vnd.google.colaboratory.intrinsic+json": {
              "type": "dataframe"
            }
          },
          "metadata": {},
          "execution_count": 307
        }
      ]
    },
    {
      "cell_type": "code",
      "source": [
        "from nltk.tokenize import word_tokenize\n",
        "from nltk.corpus import stopwords\n",
        "from nltk.tag import pos_tag\n",
        "from nltk.stem import WordNetLemmatizer\n",
        "import re\n",
        "import nltk\n",
        "nltk.download('punkt')\n",
        "nltk.download('wordnet')\n",
        "nltk.download('stopwords')\n",
        "nltk.download('averaged_perceptron_tagger')"
      ],
      "metadata": {
        "colab": {
          "base_uri": "https://localhost:8080/"
        },
        "id": "0Htnst2ZO4UR",
        "outputId": "ccf73710-c973-4a67-f3ae-d7554813a870"
      },
      "id": "0Htnst2ZO4UR",
      "execution_count": 308,
      "outputs": [
        {
          "output_type": "stream",
          "name": "stderr",
          "text": [
            "[nltk_data] Downloading package punkt to /root/nltk_data...\n",
            "[nltk_data]   Package punkt is already up-to-date!\n",
            "[nltk_data] Downloading package wordnet to /root/nltk_data...\n",
            "[nltk_data]   Package wordnet is already up-to-date!\n",
            "[nltk_data] Downloading package stopwords to /root/nltk_data...\n",
            "[nltk_data]   Package stopwords is already up-to-date!\n",
            "[nltk_data] Downloading package averaged_perceptron_tagger to\n",
            "[nltk_data]     /root/nltk_data...\n",
            "[nltk_data]   Package averaged_perceptron_tagger is already up-to-\n",
            "[nltk_data]       date!\n"
          ]
        },
        {
          "output_type": "execute_result",
          "data": {
            "text/plain": [
              "True"
            ]
          },
          "metadata": {},
          "execution_count": 308
        }
      ]
    },
    {
      "cell_type": "code",
      "source": [
        "genre_rules = {\n",
        "    'Action': ['action', 'battle', 'fight', 'combat', 'hero', 'adventure', 'explosive', 'dungeon', 'hunters', 'skirmish', 'war', 'weapon', 'fighting spirit', 'clash', 'bravery', 'martial arts', 'superpowers', 'melee', 'showdown'],\n",
        "    'Adventure': ['adventure', 'journey', 'quest', 'explore', 'travel', 'discovery', 'epic', 'treasure', 'expedition', 'explorer', 'voyage', 'odyssey', 'thrilling', 'exciting', 'exploration', 'questing', 'quest for adventure', 'wanderlust'],\n",
        "    'Comedy': ['comedy', 'humor', 'funny', 'laugh', 'comical', 'satire', 'light-hearted', 'parody', 'wit', 'joke', 'hilarious', 'laughter', 'entertaining', 'comic relief', 'whimsical', 'absurd'],\n",
        "    'Drama': ['drama', 'emotion', 'relationship', 'heartfelt', 'dramatic', 'tearjerker', 'heart break', 'emotional', 'tension', 'touching', 'tragic', 'struggle', 'gripping'],\n",
        "    'Fantasy': ['fantasy', 'magic', 'mythical', 'magical', 'enchantment', 'fantastical', 'otherworldly', 'elves', 'sorcery', 'wizardry', 'enchanted', 'legend', 'fairy tale', 'mystical beings', 'epic fantasy', 'fantasy world', 'magic spells'],\n",
        "    'Science Fiction': ['science fiction', 'futuristic', 'space', 'alien', 'cyberpunk', 'dystopian', 'robots', 'future', 'extraterrestrial', 'spacecraft', 'sci-fi', 'interstellar', 'advanced', 'cyborgs', 'virtual reality', 'time travel'],\n",
        "    'Romance': ['romance', 'love', 'relationship', 'romantic', 'passion', 'heartwarming', 'love triangle', 'affection', 'chemistry', 'flirting', 'bittersweet', 'embrace', 'yearning', 'infatuation', 'soulmate', 'romantic tension', 'unrequited love'],\n",
        "    'Horror': ['horror', 'fear', 'terror', 'creepy', 'supernatural', 'haunting', 'nightmare', 'horrible', 'chilling', 'spooky', 'ghost', 'terrifying', 'macabre', 'eerie', 'psychological horror', 'gore', 'suspense', 'massacre'],\n",
        "    'Mystery': ['mystery', 'detective', 'investigation', 'suspense', 'mysterious', 'puzzle', 'cryptic', 'enigma', 'clue', 'secret', 'conspiracy', 'riddle', 'detective work', 'solve the mystery'],\n",
        "    'Thriller': ['thriller', 'suspenseful', 'intense', 'adrenaline', 'danger', 'action-packed', 'nail-biting', 'suspense', 'excitement', 'climax', 'tension', 'edge-of-your-seat', 'gripping', 'heart-pounding', 'conspiracy thriller', 'cat-and-mouse'],\n",
        "    'Slice of Life': ['slice of life', 'real-life', 'routine', 'mundane', 'daily life', 'slice-of-life', 'everyday life', 'laid-back', 'unremarkable', 'slice-of-life moments', 'simple pleasures', 'domestic'],\n",
        "    'Supernatural': ['supernatural', 'paranormal', 'occult', 'spiritual', 'mystical', 'otherworldly', 'magic', 'mysterious', 'witch', 'demon', 'sorcerer', 'haunted', 'spirit', 'specter', 'dark magic', 'occult ritual', 'ghostly'],\n",
        "    'Mecha': ['mecha', 'giant robot', 'pilot', 'mechanical', 'robotic', 'mecha battles', 'robots', 'mech', 'robot suit', 'mechanized', 'mechanism', 'mech pilot', 'robotic warfare', 'mechanical engineering', 'mecha anime', 'robotic uprising'],\n",
        "    'Shounen': ['shounen', 'young boy', 'teenage protagonist', 'fighting', 'friendship', 'action-packed', 'battle', 'heroic', 'training', 'chivalry', 'aspiring', 'determined', 'ambitious', 'shounen anime', 'young heroes', 'power-ups', 'epic battles', 'rivalry'],\n",
        "    'Shoujo': ['shoujo', 'young girl', 'teenage protagonist', 'romantic', 'friendship', 'heartwarming', 'romance', 'love', 'emotional', 'drama', 'cute', 'sensitive', 'dreamy', 'affectionate', 'shoujo anime', 'magical girl transformation', 'pure-hearted'],\n",
        "    'Seinen': ['seinen', 'adult', 'mature themes', 'dark', 'psychological', 'gritty', 'violent', 'brutal', 'hard-hitting', 'realistic', 'complex', 'suspenseful', 'grim', 'seinen anime', 'mature audience', 'adult themes', 'grimdark', 'existential'],\n",
        "    'Josei': ['josei', 'adult woman', 'mature themes', 'romantic', 'slice of life', 'emotional', 'deep', 'introspective', 'thought-provoking', 'sensual', 'nuanced', 'reflective', 'josei anime', 'mature audience', 'romantic drama', 'life struggles', 'mature romance'],\n",
        "    'Psychological': ['psychological', 'mind', 'psyche', 'mental', 'mind games', 'trauma', 'inner demons', 'psychological warfare', 'twisted', 'manipulation', 'mental illness', 'psychological thriller', 'psychological drama', 'paranoia', 'psychological horror', 'identity crisis'],\n",
        "    'Sports': ['sports', 'athletic', 'competition', 'team', 'individual', 'sportsmanship', 'athlete', 'sporting event', 'team spirit', 'training', 'coach', 'victory', 'dedication', 'struggle', 'sports anime', 'athleticism', 'champion', 'sports drama'],\n",
        "    'Historical': ['historical', 'period', 'era', 'retro', 'vintage', 'historic event', 'past', 'time period', 'historical figure', 'antique', 'classic', 'heritage', 'nostalgic', 'history', 'historical setting', 'period drama', 'historical accuracy', 'historical fiction'],\n",
        "    'Music': ['music', 'musical', 'band', 'concert', 'performing arts', 'melody', 'singing', 'rhythm', 'instrument', 'song', 'performance', 'harmony', 'musician', 'ensemble', 'music-themed anime', 'rock band', 'pop idol', 'musical journey'],\n",
        "    'School': ['school', 'high school', 'student', 'classmate', 'teacher', 'teenage', 'academy', 'school life', 'student life', 'classroom', 'school uniform', 'education', 'school setting', 'school club', 'student council', 'academic'],\n",
        "    'Ecchi': ['ecchi', 'sexual humor', 'fan service', 'provocative', 'sexy', 'lewd', 'perverted', 'erotic', 'adult content', 'teasing', 'stimulating', 'risqué', 'ecchi scenes', 'sexy girls', 'romantic tension', 'ecchi comedy', 'adult humor'],\n",
        "    'Harem': ['harem', 'multiple love interests', 'romantic rivalry', 'love triangle', 'romantic comedy', 'reverse harem', 'love polygon', 'flirtation', 'harem anime', 'amorous', 'passionate', 'harem fantasy', 'romantic harem', 'harem protagonist', 'harem comedy', 'harem romance'],\n",
        "    'Isekai': ['isekai', 'other world', 'transported', 'reincarnation', 'fantasy world', 'parallel universe', 'reincarnated', 'isekai anime', 'alternate world', 'isekai fantasy', 'isekai adventure', 'isekai protagonist', 'isekai reincarnation', 'isekai genre', 'isekai journey', 'isekai magic', 'trapped in another world', 'reincarnation'],\n",
        "    'Cyberpunk': ['cyberpunk', 'high tech', 'low life', 'cyberspace', 'neon lights', 'dystopian', 'cybernetic', 'cyber', 'cyberpunk anime', 'cyberpunk world', 'cybernetic implants', 'cybernetic enhancement', 'cyberpunk society', 'cyberpunk dystopia', 'cyberpunk aesthetic', 'cybernetic society'],\n",
        "    'Post-Apocalyptic': ['post-apocalyptic', 'apocalypse', 'wasteland', 'survival', 'dystopia', 'rebuilding', 'post-apocalyptic world', 'end of the world', 'nuclear fallout', 'survivor', 'apocalyptic landscape', 'apocalyptic fiction', 'post-apocalyptic society', 'post-apocalyptic anime', 'ruins'],\n",
        "    'Martial Arts': ['martial arts', 'combat', 'martial artist', 'dojo', 'tournament', 'training', 'fighting tournament', 'martial arts master', 'martial arts school', 'battle', 'martial arts tournament', 'kung fu', 'karate', 'fighting spirit', 'martial arts training', 'combat skills', 'martial arts action']\n",
        "}"
      ],
      "metadata": {
        "id": "22UoR0cHALpP"
      },
      "id": "22UoR0cHALpP",
      "execution_count": 309,
      "outputs": []
    },
    {
      "cell_type": "code",
      "source": [
        "lemmatizer = WordNetLemmatizer()\n",
        "\n",
        "def preprocess(text):\n",
        "    tokens = word_tokenize(text)\n",
        "    stop_words = set(stopwords.words('english'))\n",
        "    filtered_tokens = [lemmatizer.lemmatize(word.lower()) for word in tokens if word.lower() not in stop_words and re.match(r'\\w+', word)]\n",
        "    return filtered_tokens\n",
        "\n",
        "def infer_genres(synopsis, current_genre):\n",
        "    tokens = preprocess(synopsis)\n",
        "    tagged_tokens = pos_tag(tokens)\n",
        "    keywords = [word for word, tag in tagged_tokens if tag.startswith('NN') or tag.startswith('JJ')]\n",
        "\n",
        "    matched_genres = set()\n",
        "\n",
        "    for keyword in keywords:\n",
        "        for genre, rules in genre_rules.items():\n",
        "            if any(rule in keyword for rule in rules):\n",
        "                matched_genres.add(genre)\n",
        "\n",
        "    if isinstance(current_genre, str):\n",
        "        current_genre = [current_genre]\n",
        "    elif not isinstance(current_genre, list):\n",
        "        current_genre = []\n",
        "\n",
        "    current_genre_set = set(current_genre)\n",
        "    return list(matched_genres.union(current_genre_set))\n"
      ],
      "metadata": {
        "id": "z2mn9z6CBOQL"
      },
      "id": "z2mn9z6CBOQL",
      "execution_count": 310,
      "outputs": []
    },
    {
      "cell_type": "code",
      "source": [
        "anidf['genres'] = anidf.apply(lambda x: infer_genres(x['synopsis'], x['genres']), axis=1)"
      ],
      "metadata": {
        "id": "Zr3g-cEuA6jh"
      },
      "id": "Zr3g-cEuA6jh",
      "execution_count": 311,
      "outputs": []
    },
    {
      "cell_type": "code",
      "source": [
        "anidf"
      ],
      "metadata": {
        "id": "F-ryvxjkDrzQ",
        "colab": {
          "base_uri": "https://localhost:8080/",
          "height": 0
        },
        "outputId": "36d30431-b803-4762-dc56-13bd9e7a20d8"
      },
      "id": "F-ryvxjkDrzQ",
      "execution_count": 312,
      "outputs": [
        {
          "output_type": "execute_result",
          "data": {
            "text/plain": [
              "                         name_english                           name score  \\\n",
              "0                    Tomorrow's Joe 2                Ashita no Joe 2  8.73   \n",
              "1      Mushi-shi: Next Passage Part 2  Mushishi Zoku Shou 2nd Season  8.73   \n",
              "2                   Kingdom: Season 4             Kingdom 4th Season  8.74   \n",
              "3                        Vinland Saga                   Vinland Saga  8.75   \n",
              "4                        Cowboy Bebop                   Cowboy Bebop  8.75   \n",
              "...                               ...                            ...   ...   \n",
              "20918        Jueshi Tu: Qihuan Zhi Lu       Jueshi Tu: Qihuan Zhi Lu   N/A   \n",
              "20919   Jueshi Tu II: Yongheng Zhi Qu  Jueshi Tu II: Yongheng Zhi Qu   N/A   \n",
              "20920       Juedui Lingyu: Ji Zhan Ji      Juedui Lingyu: Ji Zhan Ji   N/A   \n",
              "20921       Juedui Lingyu Fanwai Pian      Juedui Lingyu Fanwai Pian   N/A   \n",
              "20922             Juedui Lingyu A. F.            Juedui Lingyu A. F.   N/A   \n",
              "\n",
              "       ranked  popularity  members  \\\n",
              "0          50        3041    51773   \n",
              "1          49         907   265728   \n",
              "2          48        2731    63418   \n",
              "3          47          77  1502303   \n",
              "4          46          43  1857971   \n",
              "...       ...         ...      ...   \n",
              "20918   20606       25809       58   \n",
              "20919   20605       26017       56   \n",
              "20920   20604       23841       80   \n",
              "20921   20603       24903       65   \n",
              "20922   20602       23438       86   \n",
              "\n",
              "                                                synopsis  \\\n",
              "0      Yabuki Joe is left downhearted and hopeless af...   \n",
              "1      Ghostly, primordial beings known as Mushi cont...   \n",
              "2      Following the conclusion of the large-scale co...   \n",
              "3      Young Thorfinn grew up listening to the storie...   \n",
              "4      Crime is timeless. By the year 2071, humanity ...   \n",
              "...                                                  ...   \n",
              "20918                                                nan   \n",
              "20919                                                nan   \n",
              "20920                                                nan   \n",
              "20921                                                nan   \n",
              "20922                                                nan   \n",
              "\n",
              "                            synonyms type_of  total_episodes  ...  \\\n",
              "0                        Rocky Joe 2      TV            47.0  ...   \n",
              "1      Mushishi Zoku Shou 2nd Season      TV            10.0  ...   \n",
              "2                       キングダム 第4シリーズ      TV            26.0  ...   \n",
              "3                          ヴィンランド・サガ      TV            24.0  ...   \n",
              "4                          カウボーイビバップ      TV            26.0  ...   \n",
              "...                              ...     ...             ...  ...   \n",
              "20918        Sir Rabbit Fantasy Trip      TV            52.0  ...   \n",
              "20919                     爵士兔Ⅱ 之永恒之曲      TV            52.0  ...   \n",
              "20920                        绝对领域极战纪     ONA            10.0  ...   \n",
              "20921          Juedui Lingyu Special     ONA             1.0  ...   \n",
              "20922                       绝对领域A.F.     ONA            10.0  ...   \n",
              "\n",
              "      scored_10_by scored_9_by scored_8_by scored_7_by scored_6_by  \\\n",
              "0           7721.0      4711.0      3690.0      1797.0       653.0   \n",
              "1          30834.0     34334.0     26218.0      9892.0      2672.0   \n",
              "2           7524.0      9439.0      6590.0      1916.0       461.0   \n",
              "3         228893.0    326376.0    209929.0     67519.0     17475.0   \n",
              "4         332862.0    271436.0    203324.0     96823.0     32270.0   \n",
              "...            ...         ...         ...         ...         ...   \n",
              "20918          7.0         1.0         1.0         3.0         1.0   \n",
              "20919          7.0         1.0         3.0         1.0         NaN   \n",
              "20920          6.0         2.0         3.0         2.0         1.0   \n",
              "20921          6.0         2.0         6.0         4.0         3.0   \n",
              "20922          6.0         1.0         1.0         3.0         2.0   \n",
              "\n",
              "      scored_5_by  scored_4_by  scored_3_by scored_2_by scored_1_by  \n",
              "0           297.0        120.0        137.0       182.0       893.0  \n",
              "1           974.0        283.0        134.0       183.0       673.0  \n",
              "2           163.0         68.0         52.0       139.0       281.0  \n",
              "3          6602.0       2908.0       1321.0      1030.0      1822.0  \n",
              "4         13593.0       4994.0       1997.0      1120.0      2280.0  \n",
              "...           ...          ...          ...         ...         ...  \n",
              "20918         NaN          NaN          NaN         NaN         NaN  \n",
              "20919         NaN          NaN          NaN         NaN         NaN  \n",
              "20920         3.0          NaN          NaN         NaN         NaN  \n",
              "20921         1.0          3.0          NaN         NaN         NaN  \n",
              "20922         1.0          3.0          NaN         NaN         NaN  \n",
              "\n",
              "[20923 rows x 36 columns]"
            ],
            "text/html": [
              "\n",
              "  <div id=\"df-b353e87a-b960-49e9-ad64-b78603f74e33\" class=\"colab-df-container\">\n",
              "    <div>\n",
              "<style scoped>\n",
              "    .dataframe tbody tr th:only-of-type {\n",
              "        vertical-align: middle;\n",
              "    }\n",
              "\n",
              "    .dataframe tbody tr th {\n",
              "        vertical-align: top;\n",
              "    }\n",
              "\n",
              "    .dataframe thead th {\n",
              "        text-align: right;\n",
              "    }\n",
              "</style>\n",
              "<table border=\"1\" class=\"dataframe\">\n",
              "  <thead>\n",
              "    <tr style=\"text-align: right;\">\n",
              "      <th></th>\n",
              "      <th>name_english</th>\n",
              "      <th>name</th>\n",
              "      <th>score</th>\n",
              "      <th>ranked</th>\n",
              "      <th>popularity</th>\n",
              "      <th>members</th>\n",
              "      <th>synopsis</th>\n",
              "      <th>synonyms</th>\n",
              "      <th>type_of</th>\n",
              "      <th>total_episodes</th>\n",
              "      <th>...</th>\n",
              "      <th>scored_10_by</th>\n",
              "      <th>scored_9_by</th>\n",
              "      <th>scored_8_by</th>\n",
              "      <th>scored_7_by</th>\n",
              "      <th>scored_6_by</th>\n",
              "      <th>scored_5_by</th>\n",
              "      <th>scored_4_by</th>\n",
              "      <th>scored_3_by</th>\n",
              "      <th>scored_2_by</th>\n",
              "      <th>scored_1_by</th>\n",
              "    </tr>\n",
              "  </thead>\n",
              "  <tbody>\n",
              "    <tr>\n",
              "      <th>0</th>\n",
              "      <td>Tomorrow's Joe 2</td>\n",
              "      <td>Ashita no Joe 2</td>\n",
              "      <td>8.73</td>\n",
              "      <td>50</td>\n",
              "      <td>3041</td>\n",
              "      <td>51773</td>\n",
              "      <td>Yabuki Joe is left downhearted and hopeless af...</td>\n",
              "      <td>Rocky Joe 2</td>\n",
              "      <td>TV</td>\n",
              "      <td>47.0</td>\n",
              "      <td>...</td>\n",
              "      <td>7721.0</td>\n",
              "      <td>4711.0</td>\n",
              "      <td>3690.0</td>\n",
              "      <td>1797.0</td>\n",
              "      <td>653.0</td>\n",
              "      <td>297.0</td>\n",
              "      <td>120.0</td>\n",
              "      <td>137.0</td>\n",
              "      <td>182.0</td>\n",
              "      <td>893.0</td>\n",
              "    </tr>\n",
              "    <tr>\n",
              "      <th>1</th>\n",
              "      <td>Mushi-shi: Next Passage Part 2</td>\n",
              "      <td>Mushishi Zoku Shou 2nd Season</td>\n",
              "      <td>8.73</td>\n",
              "      <td>49</td>\n",
              "      <td>907</td>\n",
              "      <td>265728</td>\n",
              "      <td>Ghostly, primordial beings known as Mushi cont...</td>\n",
              "      <td>Mushishi Zoku Shou 2nd Season</td>\n",
              "      <td>TV</td>\n",
              "      <td>10.0</td>\n",
              "      <td>...</td>\n",
              "      <td>30834.0</td>\n",
              "      <td>34334.0</td>\n",
              "      <td>26218.0</td>\n",
              "      <td>9892.0</td>\n",
              "      <td>2672.0</td>\n",
              "      <td>974.0</td>\n",
              "      <td>283.0</td>\n",
              "      <td>134.0</td>\n",
              "      <td>183.0</td>\n",
              "      <td>673.0</td>\n",
              "    </tr>\n",
              "    <tr>\n",
              "      <th>2</th>\n",
              "      <td>Kingdom: Season 4</td>\n",
              "      <td>Kingdom 4th Season</td>\n",
              "      <td>8.74</td>\n",
              "      <td>48</td>\n",
              "      <td>2731</td>\n",
              "      <td>63418</td>\n",
              "      <td>Following the conclusion of the large-scale co...</td>\n",
              "      <td>キングダム 第4シリーズ</td>\n",
              "      <td>TV</td>\n",
              "      <td>26.0</td>\n",
              "      <td>...</td>\n",
              "      <td>7524.0</td>\n",
              "      <td>9439.0</td>\n",
              "      <td>6590.0</td>\n",
              "      <td>1916.0</td>\n",
              "      <td>461.0</td>\n",
              "      <td>163.0</td>\n",
              "      <td>68.0</td>\n",
              "      <td>52.0</td>\n",
              "      <td>139.0</td>\n",
              "      <td>281.0</td>\n",
              "    </tr>\n",
              "    <tr>\n",
              "      <th>3</th>\n",
              "      <td>Vinland Saga</td>\n",
              "      <td>Vinland Saga</td>\n",
              "      <td>8.75</td>\n",
              "      <td>47</td>\n",
              "      <td>77</td>\n",
              "      <td>1502303</td>\n",
              "      <td>Young Thorfinn grew up listening to the storie...</td>\n",
              "      <td>ヴィンランド・サガ</td>\n",
              "      <td>TV</td>\n",
              "      <td>24.0</td>\n",
              "      <td>...</td>\n",
              "      <td>228893.0</td>\n",
              "      <td>326376.0</td>\n",
              "      <td>209929.0</td>\n",
              "      <td>67519.0</td>\n",
              "      <td>17475.0</td>\n",
              "      <td>6602.0</td>\n",
              "      <td>2908.0</td>\n",
              "      <td>1321.0</td>\n",
              "      <td>1030.0</td>\n",
              "      <td>1822.0</td>\n",
              "    </tr>\n",
              "    <tr>\n",
              "      <th>4</th>\n",
              "      <td>Cowboy Bebop</td>\n",
              "      <td>Cowboy Bebop</td>\n",
              "      <td>8.75</td>\n",
              "      <td>46</td>\n",
              "      <td>43</td>\n",
              "      <td>1857971</td>\n",
              "      <td>Crime is timeless. By the year 2071, humanity ...</td>\n",
              "      <td>カウボーイビバップ</td>\n",
              "      <td>TV</td>\n",
              "      <td>26.0</td>\n",
              "      <td>...</td>\n",
              "      <td>332862.0</td>\n",
              "      <td>271436.0</td>\n",
              "      <td>203324.0</td>\n",
              "      <td>96823.0</td>\n",
              "      <td>32270.0</td>\n",
              "      <td>13593.0</td>\n",
              "      <td>4994.0</td>\n",
              "      <td>1997.0</td>\n",
              "      <td>1120.0</td>\n",
              "      <td>2280.0</td>\n",
              "    </tr>\n",
              "    <tr>\n",
              "      <th>...</th>\n",
              "      <td>...</td>\n",
              "      <td>...</td>\n",
              "      <td>...</td>\n",
              "      <td>...</td>\n",
              "      <td>...</td>\n",
              "      <td>...</td>\n",
              "      <td>...</td>\n",
              "      <td>...</td>\n",
              "      <td>...</td>\n",
              "      <td>...</td>\n",
              "      <td>...</td>\n",
              "      <td>...</td>\n",
              "      <td>...</td>\n",
              "      <td>...</td>\n",
              "      <td>...</td>\n",
              "      <td>...</td>\n",
              "      <td>...</td>\n",
              "      <td>...</td>\n",
              "      <td>...</td>\n",
              "      <td>...</td>\n",
              "      <td>...</td>\n",
              "    </tr>\n",
              "    <tr>\n",
              "      <th>20918</th>\n",
              "      <td>Jueshi Tu: Qihuan Zhi Lu</td>\n",
              "      <td>Jueshi Tu: Qihuan Zhi Lu</td>\n",
              "      <td>N/A</td>\n",
              "      <td>20606</td>\n",
              "      <td>25809</td>\n",
              "      <td>58</td>\n",
              "      <td>nan</td>\n",
              "      <td>Sir Rabbit Fantasy Trip</td>\n",
              "      <td>TV</td>\n",
              "      <td>52.0</td>\n",
              "      <td>...</td>\n",
              "      <td>7.0</td>\n",
              "      <td>1.0</td>\n",
              "      <td>1.0</td>\n",
              "      <td>3.0</td>\n",
              "      <td>1.0</td>\n",
              "      <td>NaN</td>\n",
              "      <td>NaN</td>\n",
              "      <td>NaN</td>\n",
              "      <td>NaN</td>\n",
              "      <td>NaN</td>\n",
              "    </tr>\n",
              "    <tr>\n",
              "      <th>20919</th>\n",
              "      <td>Jueshi Tu II: Yongheng Zhi Qu</td>\n",
              "      <td>Jueshi Tu II: Yongheng Zhi Qu</td>\n",
              "      <td>N/A</td>\n",
              "      <td>20605</td>\n",
              "      <td>26017</td>\n",
              "      <td>56</td>\n",
              "      <td>nan</td>\n",
              "      <td>爵士兔Ⅱ 之永恒之曲</td>\n",
              "      <td>TV</td>\n",
              "      <td>52.0</td>\n",
              "      <td>...</td>\n",
              "      <td>7.0</td>\n",
              "      <td>1.0</td>\n",
              "      <td>3.0</td>\n",
              "      <td>1.0</td>\n",
              "      <td>NaN</td>\n",
              "      <td>NaN</td>\n",
              "      <td>NaN</td>\n",
              "      <td>NaN</td>\n",
              "      <td>NaN</td>\n",
              "      <td>NaN</td>\n",
              "    </tr>\n",
              "    <tr>\n",
              "      <th>20920</th>\n",
              "      <td>Juedui Lingyu: Ji Zhan Ji</td>\n",
              "      <td>Juedui Lingyu: Ji Zhan Ji</td>\n",
              "      <td>N/A</td>\n",
              "      <td>20604</td>\n",
              "      <td>23841</td>\n",
              "      <td>80</td>\n",
              "      <td>nan</td>\n",
              "      <td>绝对领域极战纪</td>\n",
              "      <td>ONA</td>\n",
              "      <td>10.0</td>\n",
              "      <td>...</td>\n",
              "      <td>6.0</td>\n",
              "      <td>2.0</td>\n",
              "      <td>3.0</td>\n",
              "      <td>2.0</td>\n",
              "      <td>1.0</td>\n",
              "      <td>3.0</td>\n",
              "      <td>NaN</td>\n",
              "      <td>NaN</td>\n",
              "      <td>NaN</td>\n",
              "      <td>NaN</td>\n",
              "    </tr>\n",
              "    <tr>\n",
              "      <th>20921</th>\n",
              "      <td>Juedui Lingyu Fanwai Pian</td>\n",
              "      <td>Juedui Lingyu Fanwai Pian</td>\n",
              "      <td>N/A</td>\n",
              "      <td>20603</td>\n",
              "      <td>24903</td>\n",
              "      <td>65</td>\n",
              "      <td>nan</td>\n",
              "      <td>Juedui Lingyu Special</td>\n",
              "      <td>ONA</td>\n",
              "      <td>1.0</td>\n",
              "      <td>...</td>\n",
              "      <td>6.0</td>\n",
              "      <td>2.0</td>\n",
              "      <td>6.0</td>\n",
              "      <td>4.0</td>\n",
              "      <td>3.0</td>\n",
              "      <td>1.0</td>\n",
              "      <td>3.0</td>\n",
              "      <td>NaN</td>\n",
              "      <td>NaN</td>\n",
              "      <td>NaN</td>\n",
              "    </tr>\n",
              "    <tr>\n",
              "      <th>20922</th>\n",
              "      <td>Juedui Lingyu A. F.</td>\n",
              "      <td>Juedui Lingyu A. F.</td>\n",
              "      <td>N/A</td>\n",
              "      <td>20602</td>\n",
              "      <td>23438</td>\n",
              "      <td>86</td>\n",
              "      <td>nan</td>\n",
              "      <td>绝对领域A.F.</td>\n",
              "      <td>ONA</td>\n",
              "      <td>10.0</td>\n",
              "      <td>...</td>\n",
              "      <td>6.0</td>\n",
              "      <td>1.0</td>\n",
              "      <td>1.0</td>\n",
              "      <td>3.0</td>\n",
              "      <td>2.0</td>\n",
              "      <td>1.0</td>\n",
              "      <td>3.0</td>\n",
              "      <td>NaN</td>\n",
              "      <td>NaN</td>\n",
              "      <td>NaN</td>\n",
              "    </tr>\n",
              "  </tbody>\n",
              "</table>\n",
              "<p>20923 rows × 36 columns</p>\n",
              "</div>\n",
              "    <div class=\"colab-df-buttons\">\n",
              "\n",
              "  <div class=\"colab-df-container\">\n",
              "    <button class=\"colab-df-convert\" onclick=\"convertToInteractive('df-b353e87a-b960-49e9-ad64-b78603f74e33')\"\n",
              "            title=\"Convert this dataframe to an interactive table.\"\n",
              "            style=\"display:none;\">\n",
              "\n",
              "  <svg xmlns=\"http://www.w3.org/2000/svg\" height=\"24px\" viewBox=\"0 -960 960 960\">\n",
              "    <path d=\"M120-120v-720h720v720H120Zm60-500h600v-160H180v160Zm220 220h160v-160H400v160Zm0 220h160v-160H400v160ZM180-400h160v-160H180v160Zm440 0h160v-160H620v160ZM180-180h160v-160H180v160Zm440 0h160v-160H620v160Z\"/>\n",
              "  </svg>\n",
              "    </button>\n",
              "\n",
              "  <style>\n",
              "    .colab-df-container {\n",
              "      display:flex;\n",
              "      gap: 12px;\n",
              "    }\n",
              "\n",
              "    .colab-df-convert {\n",
              "      background-color: #E8F0FE;\n",
              "      border: none;\n",
              "      border-radius: 50%;\n",
              "      cursor: pointer;\n",
              "      display: none;\n",
              "      fill: #1967D2;\n",
              "      height: 32px;\n",
              "      padding: 0 0 0 0;\n",
              "      width: 32px;\n",
              "    }\n",
              "\n",
              "    .colab-df-convert:hover {\n",
              "      background-color: #E2EBFA;\n",
              "      box-shadow: 0px 1px 2px rgba(60, 64, 67, 0.3), 0px 1px 3px 1px rgba(60, 64, 67, 0.15);\n",
              "      fill: #174EA6;\n",
              "    }\n",
              "\n",
              "    .colab-df-buttons div {\n",
              "      margin-bottom: 4px;\n",
              "    }\n",
              "\n",
              "    [theme=dark] .colab-df-convert {\n",
              "      background-color: #3B4455;\n",
              "      fill: #D2E3FC;\n",
              "    }\n",
              "\n",
              "    [theme=dark] .colab-df-convert:hover {\n",
              "      background-color: #434B5C;\n",
              "      box-shadow: 0px 1px 3px 1px rgba(0, 0, 0, 0.15);\n",
              "      filter: drop-shadow(0px 1px 2px rgba(0, 0, 0, 0.3));\n",
              "      fill: #FFFFFF;\n",
              "    }\n",
              "  </style>\n",
              "\n",
              "    <script>\n",
              "      const buttonEl =\n",
              "        document.querySelector('#df-b353e87a-b960-49e9-ad64-b78603f74e33 button.colab-df-convert');\n",
              "      buttonEl.style.display =\n",
              "        google.colab.kernel.accessAllowed ? 'block' : 'none';\n",
              "\n",
              "      async function convertToInteractive(key) {\n",
              "        const element = document.querySelector('#df-b353e87a-b960-49e9-ad64-b78603f74e33');\n",
              "        const dataTable =\n",
              "          await google.colab.kernel.invokeFunction('convertToInteractive',\n",
              "                                                    [key], {});\n",
              "        if (!dataTable) return;\n",
              "\n",
              "        const docLinkHtml = 'Like what you see? Visit the ' +\n",
              "          '<a target=\"_blank\" href=https://colab.research.google.com/notebooks/data_table.ipynb>data table notebook</a>'\n",
              "          + ' to learn more about interactive tables.';\n",
              "        element.innerHTML = '';\n",
              "        dataTable['output_type'] = 'display_data';\n",
              "        await google.colab.output.renderOutput(dataTable, element);\n",
              "        const docLink = document.createElement('div');\n",
              "        docLink.innerHTML = docLinkHtml;\n",
              "        element.appendChild(docLink);\n",
              "      }\n",
              "    </script>\n",
              "  </div>\n",
              "\n",
              "\n",
              "<div id=\"df-f90ebb81-1154-4f54-b4bd-4a4b99616ae8\">\n",
              "  <button class=\"colab-df-quickchart\" onclick=\"quickchart('df-f90ebb81-1154-4f54-b4bd-4a4b99616ae8')\"\n",
              "            title=\"Suggest charts\"\n",
              "            style=\"display:none;\">\n",
              "\n",
              "<svg xmlns=\"http://www.w3.org/2000/svg\" height=\"24px\"viewBox=\"0 0 24 24\"\n",
              "     width=\"24px\">\n",
              "    <g>\n",
              "        <path d=\"M19 3H5c-1.1 0-2 .9-2 2v14c0 1.1.9 2 2 2h14c1.1 0 2-.9 2-2V5c0-1.1-.9-2-2-2zM9 17H7v-7h2v7zm4 0h-2V7h2v10zm4 0h-2v-4h2v4z\"/>\n",
              "    </g>\n",
              "</svg>\n",
              "  </button>\n",
              "\n",
              "<style>\n",
              "  .colab-df-quickchart {\n",
              "      --bg-color: #E8F0FE;\n",
              "      --fill-color: #1967D2;\n",
              "      --hover-bg-color: #E2EBFA;\n",
              "      --hover-fill-color: #174EA6;\n",
              "      --disabled-fill-color: #AAA;\n",
              "      --disabled-bg-color: #DDD;\n",
              "  }\n",
              "\n",
              "  [theme=dark] .colab-df-quickchart {\n",
              "      --bg-color: #3B4455;\n",
              "      --fill-color: #D2E3FC;\n",
              "      --hover-bg-color: #434B5C;\n",
              "      --hover-fill-color: #FFFFFF;\n",
              "      --disabled-bg-color: #3B4455;\n",
              "      --disabled-fill-color: #666;\n",
              "  }\n",
              "\n",
              "  .colab-df-quickchart {\n",
              "    background-color: var(--bg-color);\n",
              "    border: none;\n",
              "    border-radius: 50%;\n",
              "    cursor: pointer;\n",
              "    display: none;\n",
              "    fill: var(--fill-color);\n",
              "    height: 32px;\n",
              "    padding: 0;\n",
              "    width: 32px;\n",
              "  }\n",
              "\n",
              "  .colab-df-quickchart:hover {\n",
              "    background-color: var(--hover-bg-color);\n",
              "    box-shadow: 0 1px 2px rgba(60, 64, 67, 0.3), 0 1px 3px 1px rgba(60, 64, 67, 0.15);\n",
              "    fill: var(--button-hover-fill-color);\n",
              "  }\n",
              "\n",
              "  .colab-df-quickchart-complete:disabled,\n",
              "  .colab-df-quickchart-complete:disabled:hover {\n",
              "    background-color: var(--disabled-bg-color);\n",
              "    fill: var(--disabled-fill-color);\n",
              "    box-shadow: none;\n",
              "  }\n",
              "\n",
              "  .colab-df-spinner {\n",
              "    border: 2px solid var(--fill-color);\n",
              "    border-color: transparent;\n",
              "    border-bottom-color: var(--fill-color);\n",
              "    animation:\n",
              "      spin 1s steps(1) infinite;\n",
              "  }\n",
              "\n",
              "  @keyframes spin {\n",
              "    0% {\n",
              "      border-color: transparent;\n",
              "      border-bottom-color: var(--fill-color);\n",
              "      border-left-color: var(--fill-color);\n",
              "    }\n",
              "    20% {\n",
              "      border-color: transparent;\n",
              "      border-left-color: var(--fill-color);\n",
              "      border-top-color: var(--fill-color);\n",
              "    }\n",
              "    30% {\n",
              "      border-color: transparent;\n",
              "      border-left-color: var(--fill-color);\n",
              "      border-top-color: var(--fill-color);\n",
              "      border-right-color: var(--fill-color);\n",
              "    }\n",
              "    40% {\n",
              "      border-color: transparent;\n",
              "      border-right-color: var(--fill-color);\n",
              "      border-top-color: var(--fill-color);\n",
              "    }\n",
              "    60% {\n",
              "      border-color: transparent;\n",
              "      border-right-color: var(--fill-color);\n",
              "    }\n",
              "    80% {\n",
              "      border-color: transparent;\n",
              "      border-right-color: var(--fill-color);\n",
              "      border-bottom-color: var(--fill-color);\n",
              "    }\n",
              "    90% {\n",
              "      border-color: transparent;\n",
              "      border-bottom-color: var(--fill-color);\n",
              "    }\n",
              "  }\n",
              "</style>\n",
              "\n",
              "  <script>\n",
              "    async function quickchart(key) {\n",
              "      const quickchartButtonEl =\n",
              "        document.querySelector('#' + key + ' button');\n",
              "      quickchartButtonEl.disabled = true;  // To prevent multiple clicks.\n",
              "      quickchartButtonEl.classList.add('colab-df-spinner');\n",
              "      try {\n",
              "        const charts = await google.colab.kernel.invokeFunction(\n",
              "            'suggestCharts', [key], {});\n",
              "      } catch (error) {\n",
              "        console.error('Error during call to suggestCharts:', error);\n",
              "      }\n",
              "      quickchartButtonEl.classList.remove('colab-df-spinner');\n",
              "      quickchartButtonEl.classList.add('colab-df-quickchart-complete');\n",
              "    }\n",
              "    (() => {\n",
              "      let quickchartButtonEl =\n",
              "        document.querySelector('#df-f90ebb81-1154-4f54-b4bd-4a4b99616ae8 button');\n",
              "      quickchartButtonEl.style.display =\n",
              "        google.colab.kernel.accessAllowed ? 'block' : 'none';\n",
              "    })();\n",
              "  </script>\n",
              "</div>\n",
              "\n",
              "  <div id=\"id_904dd2cb-6258-4724-b03c-3be76a1eca21\">\n",
              "    <style>\n",
              "      .colab-df-generate {\n",
              "        background-color: #E8F0FE;\n",
              "        border: none;\n",
              "        border-radius: 50%;\n",
              "        cursor: pointer;\n",
              "        display: none;\n",
              "        fill: #1967D2;\n",
              "        height: 32px;\n",
              "        padding: 0 0 0 0;\n",
              "        width: 32px;\n",
              "      }\n",
              "\n",
              "      .colab-df-generate:hover {\n",
              "        background-color: #E2EBFA;\n",
              "        box-shadow: 0px 1px 2px rgba(60, 64, 67, 0.3), 0px 1px 3px 1px rgba(60, 64, 67, 0.15);\n",
              "        fill: #174EA6;\n",
              "      }\n",
              "\n",
              "      [theme=dark] .colab-df-generate {\n",
              "        background-color: #3B4455;\n",
              "        fill: #D2E3FC;\n",
              "      }\n",
              "\n",
              "      [theme=dark] .colab-df-generate:hover {\n",
              "        background-color: #434B5C;\n",
              "        box-shadow: 0px 1px 3px 1px rgba(0, 0, 0, 0.15);\n",
              "        filter: drop-shadow(0px 1px 2px rgba(0, 0, 0, 0.3));\n",
              "        fill: #FFFFFF;\n",
              "      }\n",
              "    </style>\n",
              "    <button class=\"colab-df-generate\" onclick=\"generateWithVariable('anidf')\"\n",
              "            title=\"Generate code using this dataframe.\"\n",
              "            style=\"display:none;\">\n",
              "\n",
              "  <svg xmlns=\"http://www.w3.org/2000/svg\" height=\"24px\"viewBox=\"0 0 24 24\"\n",
              "       width=\"24px\">\n",
              "    <path d=\"M7,19H8.4L18.45,9,17,7.55,7,17.6ZM5,21V16.75L18.45,3.32a2,2,0,0,1,2.83,0l1.4,1.43a1.91,1.91,0,0,1,.58,1.4,1.91,1.91,0,0,1-.58,1.4L9.25,21ZM18.45,9,17,7.55Zm-12,3A5.31,5.31,0,0,0,4.9,8.1,5.31,5.31,0,0,0,1,6.5,5.31,5.31,0,0,0,4.9,4.9,5.31,5.31,0,0,0,6.5,1,5.31,5.31,0,0,0,8.1,4.9,5.31,5.31,0,0,0,12,6.5,5.46,5.46,0,0,0,6.5,12Z\"/>\n",
              "  </svg>\n",
              "    </button>\n",
              "    <script>\n",
              "      (() => {\n",
              "      const buttonEl =\n",
              "        document.querySelector('#id_904dd2cb-6258-4724-b03c-3be76a1eca21 button.colab-df-generate');\n",
              "      buttonEl.style.display =\n",
              "        google.colab.kernel.accessAllowed ? 'block' : 'none';\n",
              "\n",
              "      buttonEl.onclick = () => {\n",
              "        google.colab.notebook.generateWithVariable('anidf');\n",
              "      }\n",
              "      })();\n",
              "    </script>\n",
              "  </div>\n",
              "\n",
              "    </div>\n",
              "  </div>\n"
            ],
            "application/vnd.google.colaboratory.intrinsic+json": {
              "type": "dataframe",
              "variable_name": "anidf"
            }
          },
          "metadata": {},
          "execution_count": 312
        }
      ]
    },
    {
      "cell_type": "markdown",
      "source": [
        "## demographic"
      ],
      "metadata": {
        "id": "2SMt51gfATjL"
      },
      "id": "2SMt51gfATjL"
    },
    {
      "cell_type": "code",
      "source": [
        "anidf['demographic'].info()"
      ],
      "metadata": {
        "colab": {
          "base_uri": "https://localhost:8080/"
        },
        "id": "Le7mtZI8Aed7",
        "outputId": "9f400e38-a1ca-429e-ec5e-0e254defe945"
      },
      "id": "Le7mtZI8Aed7",
      "execution_count": 313,
      "outputs": [
        {
          "output_type": "stream",
          "name": "stdout",
          "text": [
            "<class 'pandas.core.series.Series'>\n",
            "RangeIndex: 20923 entries, 0 to 20922\n",
            "Series name: demographic\n",
            "Non-Null Count  Dtype \n",
            "--------------  ----- \n",
            "8901 non-null   object\n",
            "dtypes: object(1)\n",
            "memory usage: 163.6+ KB\n"
          ]
        }
      ]
    },
    {
      "cell_type": "code",
      "source": [
        "anidf['demographic'].unique()"
      ],
      "metadata": {
        "colab": {
          "base_uri": "https://localhost:8080/"
        },
        "id": "VlvC0pkxAjv2",
        "outputId": "4352385f-ca56-48b4-c407-a579dce8ca70"
      },
      "id": "VlvC0pkxAjv2",
      "execution_count": 314,
      "outputs": [
        {
          "output_type": "execute_result",
          "data": {
            "text/plain": [
              "array(['Shounen', 'Seinen', None, 'Shoujo', 'Josei', 'Kids'], dtype=object)"
            ]
          },
          "metadata": {},
          "execution_count": 314
        }
      ]
    },
    {
      "cell_type": "code",
      "source": [
        "anidf['demographic'].value_counts()"
      ],
      "metadata": {
        "colab": {
          "base_uri": "https://localhost:8080/",
          "height": 0
        },
        "id": "AvVUXdFbAniY",
        "outputId": "217418f8-bd34-4b47-cedf-5047fbb19e44"
      },
      "id": "AvVUXdFbAniY",
      "execution_count": 315,
      "outputs": [
        {
          "output_type": "execute_result",
          "data": {
            "text/plain": [
              "demographic\n",
              "Kids       5450\n",
              "Shounen    1850\n",
              "Seinen      982\n",
              "Shoujo      477\n",
              "Josei       142\n",
              "Name: count, dtype: int64"
            ],
            "text/html": [
              "<div>\n",
              "<style scoped>\n",
              "    .dataframe tbody tr th:only-of-type {\n",
              "        vertical-align: middle;\n",
              "    }\n",
              "\n",
              "    .dataframe tbody tr th {\n",
              "        vertical-align: top;\n",
              "    }\n",
              "\n",
              "    .dataframe thead th {\n",
              "        text-align: right;\n",
              "    }\n",
              "</style>\n",
              "<table border=\"1\" class=\"dataframe\">\n",
              "  <thead>\n",
              "    <tr style=\"text-align: right;\">\n",
              "      <th></th>\n",
              "      <th>count</th>\n",
              "    </tr>\n",
              "    <tr>\n",
              "      <th>demographic</th>\n",
              "      <th></th>\n",
              "    </tr>\n",
              "  </thead>\n",
              "  <tbody>\n",
              "    <tr>\n",
              "      <th>Kids</th>\n",
              "      <td>5450</td>\n",
              "    </tr>\n",
              "    <tr>\n",
              "      <th>Shounen</th>\n",
              "      <td>1850</td>\n",
              "    </tr>\n",
              "    <tr>\n",
              "      <th>Seinen</th>\n",
              "      <td>982</td>\n",
              "    </tr>\n",
              "    <tr>\n",
              "      <th>Shoujo</th>\n",
              "      <td>477</td>\n",
              "    </tr>\n",
              "    <tr>\n",
              "      <th>Josei</th>\n",
              "      <td>142</td>\n",
              "    </tr>\n",
              "  </tbody>\n",
              "</table>\n",
              "</div><br><label><b>dtype:</b> int64</label>"
            ]
          },
          "metadata": {},
          "execution_count": 315
        }
      ]
    },
    {
      "cell_type": "code",
      "source": [
        "anidf.demographic.isna().sum()"
      ],
      "metadata": {
        "colab": {
          "base_uri": "https://localhost:8080/"
        },
        "id": "NXfBLBBiAqjd",
        "outputId": "fa4341a0-487c-4202-fb35-ee88d43dbd97"
      },
      "id": "NXfBLBBiAqjd",
      "execution_count": 316,
      "outputs": [
        {
          "output_type": "execute_result",
          "data": {
            "text/plain": [
              "12022"
            ]
          },
          "metadata": {},
          "execution_count": 316
        }
      ]
    },
    {
      "cell_type": "markdown",
      "source": [
        "## duration"
      ],
      "metadata": {
        "id": "SqqLR-05B10u"
      },
      "id": "SqqLR-05B10u"
    },
    {
      "cell_type": "code",
      "source": [
        "anidf['duration_per_ep'].info()"
      ],
      "metadata": {
        "colab": {
          "base_uri": "https://localhost:8080/"
        },
        "id": "LhywnN2-Cnsr",
        "outputId": "2e4d4ae1-3d36-4c3c-9dad-e8370bd89565"
      },
      "id": "LhywnN2-Cnsr",
      "execution_count": 317,
      "outputs": [
        {
          "output_type": "stream",
          "name": "stdout",
          "text": [
            "<class 'pandas.core.series.Series'>\n",
            "RangeIndex: 20923 entries, 0 to 20922\n",
            "Series name: duration_per_ep\n",
            "Non-Null Count  Dtype \n",
            "--------------  ----- \n",
            "20923 non-null  object\n",
            "dtypes: object(1)\n",
            "memory usage: 163.6+ KB\n"
          ]
        }
      ]
    },
    {
      "cell_type": "code",
      "source": [
        "anidf.duration_per_ep.unique()"
      ],
      "metadata": {
        "colab": {
          "base_uri": "https://localhost:8080/"
        },
        "id": "QrgNBpCOC9AR",
        "outputId": "ca58386d-99b0-4410-d0ca-b2e89a944ab8"
      },
      "id": "QrgNBpCOC9AR",
      "execution_count": 318,
      "outputs": [
        {
          "output_type": "execute_result",
          "data": {
            "text/plain": [
              "array(['24 min. per ep.', '23 min. per ep.', '25 min. per ep.',\n",
              "       '26 min. per ep.', '2 hr. 4 min.', '1 hr. 23 min.',\n",
              "       '1 hr. 36 min.', '1 hr. 46 min.', '2 hr. 20 min.',\n",
              "       '22 min. per ep.', '1 hr. 50 min.', '1 hr. 12 min. per ep.',\n",
              "       '2 hr. 10 min.', '1 hr. 44 min.', '50 min. per ep.',\n",
              "       '21 min. per ep.', '2 hr. 1 min.', '51 min.', '22 min.',\n",
              "       '1 hr. 49 min.', '21 min.', '1 hr. 11 min. per ep.', '34 min.',\n",
              "       '49 min. per ep.', '10 min.', '1 hr. 57 min.', '2 hr. 15 min.',\n",
              "       '1 hr. 4 min.', '1 hr. 59 min.', '1 hr. 45 min.', '1 hr. 55 min.',\n",
              "       '1 hr. 38 min.', '1 hr. 54 min.', '30 min. per ep.',\n",
              "       '1 hr. 31 min.', '1 hr. 28 min.', '5 min. per ep.',\n",
              "       '27 min. per ep.', '2 hr.', '29 min. per ep.', '47 min.',\n",
              "       '1 hr. 30 min.', '1 hr. 36 min. per ep.', '28 min. per ep.',\n",
              "       '2 hr. 5 min.', '2 hr. 35 min.', '1 hr. 56 min.', '2 hr. 41 min.',\n",
              "       '2 hr. 13 min.', '2 hr. 2 min.', '24 min.', '1 hr. 13 min.',\n",
              "       '1 hr. 35 min.', '1 hr. 1 min. per ep.', '45 min.',\n",
              "       '1 hr. 21 min.', '1 hr. 48 min.', '1 hr. 26 min.', '1 hr. 22 min.',\n",
              "       '1 hr. 25 min. per ep.', '1 hr. 51 min.', '1 hr. 43 min.',\n",
              "       '2 hr. 11 min.', '2 hr. 48 min.', '38 min. per ep.',\n",
              "       '1 hr. 15 min.', '1 hr. 11 min.', '1 hr. 33 min.', '1 hr. 1 min.',\n",
              "       '1 hr. 40 min.', '54 min.', '11 min.', '1 hr.', '1 hr. 42 min.',\n",
              "       '1 hr. 32 min.', '1 hr. 52 min.', '1 hr. 47 min.',\n",
              "       '16 min. per ep.', '1 hr. 34 min.', '49 min.', '1 hr. 39 min.',\n",
              "       '1 hr. 29 min.', '12 min.', '48 min.', '25 min.', '1 min.',\n",
              "       '20 min. per ep.', '34 min. per ep.', '1 hr. 12 min.',\n",
              "       '1 hr. 41 min.', '2 hr. 17 min.', '55 min.', '43 min. per ep.',\n",
              "       '58 min. per ep.', '2 hr. 40 min.', '14 min.', '32 min.',\n",
              "       '32 min. per ep.', '23 min.', '1 hr. 2 min. per ep.',\n",
              "       '14 min. per ep.', '2 hr. 6 min.', '2 hr. 29 min.', '57 min.',\n",
              "       '1 hr. 5 min.', '59 min.', '1 hr. 53 min.', '15 min. per ep.',\n",
              "       '18 min. per ep.', '30 min.', '2 min. per ep.', '33 min. per ep.',\n",
              "       '28 min.', '1 hr. 10 min.', '19 min. per ep.', '18 min.',\n",
              "       '1 hr. 9 min.', '1 hr. 17 min.', '42 min. per ep.', '2 min.',\n",
              "       '1 hr. 37 min.', '11 min. per ep.', '39 min.', '29 min.',\n",
              "       '27 min.', '46 min.', '13 min. per ep.', '41 min.',\n",
              "       '4 min. per ep.', '51 min. per ep.', '42 min.', '26 min.',\n",
              "       '52 min.', '1 hr. 18 min.', '1 hr. 30 min. per ep.',\n",
              "       '1 hr. 58 min.', '46 min. per ep.', '1 hr. 2 min.',\n",
              "       '3 min. per ep.', '1 hr. 6 min.', '50 min.', '2 hr. 16 min.',\n",
              "       '1 hr. 3 min.', '58 min.', '53 min.', '39 min. per ep.',\n",
              "       '1 hr. 52 min. per ep.', '1 hr. 16 min.', '37 min.',\n",
              "       '1 hr. 7 min.', '37 min. per ep.', '2 hr. 7 min.', '1 hr. 27 min.',\n",
              "       '15 min.', '45 min. per ep.', '1 hr. 20 min.', '7 min. per ep.',\n",
              "       '31 min.', '12 min. per ep.', '8 min. per ep.', '20 min.',\n",
              "       '40 min.', '1 hr. 25 min.', '2 hr. 12 min.',\n",
              "       '1 hr. 20 min. per ep.', '54 min. per ep.', '16 min.', '8 min.',\n",
              "       '6 min. per ep.', '2 hr. 3 min.', '3 min.', '1 min. per ep.',\n",
              "       '1 hr. 39 min. per ep.', '2 hr. 8 min.', '1 hr. 24 min.',\n",
              "       '17 min. per ep.', '13 min.', '2 hr. 21 min.', '9 min.', '4 min.',\n",
              "       '53 min. per ep.', '56 min.', '1 hr. 5 min. per ep.',\n",
              "       '1 hr. 19 min.', '31 min. per ep.', '35 min. per ep.', '5 min.',\n",
              "       '1 hr. 38 min. per ep.', '10 min. per ep.', '2 hr. 24 min.',\n",
              "       '1 hr. 8 min.', '1 hr. per ep.', '44 min.', '40 sec. per ep.',\n",
              "       '6 min.', '41 min. per ep.', '33 min.', '43 min.',\n",
              "       '30 sec. per ep.', '35 min.', '1 hr. 35 min. per ep.',\n",
              "       '47 min. per ep.', '9 min. per ep.', '2 hr. 14 min.',\n",
              "       '1 hr. 14 min.', '36 min.', '2 hr. 16 min. per ep.',\n",
              "       '48 min. per ep.', '19 min.', '33 sec. per ep.', '2 hr. 32 min.',\n",
              "       '54 sec. per ep.', '7 min.', '2 hr. 33 min.', '38 min.', '17 min.',\n",
              "       '40 min. per ep.', '20 sec. per ep.', '2 hr. 43 min.', '20 sec.',\n",
              "       '36 min. per ep.', '1 hr. 17 min. per ep.', '2 hr. 9 min.',\n",
              "       '44 min. per ep.', '1 hr. 7 min. per ep.', '55 min. per ep.',\n",
              "       '56 sec. per ep.', 'Unknown', '2 hr. 31 min.', '57 sec. per ep.',\n",
              "       '2 hr. 28 min.', '50 sec. per ep.', '1 hr. 15 min. per ep.',\n",
              "       '34 sec. per ep.', '2 hr. 30 min.', '56 min. per ep.',\n",
              "       '39 sec. per ep.', '52 min. per ep.', '2 hr. 27 min.',\n",
              "       '1 hr. 23 min. per ep.', '59 sec.', '35 sec. per ep.',\n",
              "       '26 sec. per ep.', '30 sec.', '1 hr. 14 min. per ep.', '45 sec.',\n",
              "       '16 sec.', '31 sec.', '57 min. per ep.', '1 hr. 16 min. per ep.',\n",
              "       '53 sec. per ep.', '44 sec. per ep.', '45 sec. per ep.',\n",
              "       '55 sec. per ep.', '25 sec. per ep.', '32 sec.', '22 sec. per ep.',\n",
              "       '32 sec. per ep.', '35 sec.', '46 sec.', '1 hr. 27 min. per ep.',\n",
              "       '38 sec. per ep.', '55 sec.', '18 sec.', '46 sec. per ep.',\n",
              "       '41 sec. per ep.', '49 sec. per ep.', '37 sec.', '50 sec.',\n",
              "       '19 sec. per ep.', '15 sec.', '16 sec. per ep.', '48 sec. per ep.',\n",
              "       '51 sec. per ep.', '58 sec. per ep.', '23 sec.', '15 sec. per ep.',\n",
              "       '52 sec.', '56 sec.', '6 sec. per ep.', '3 sec.', '10 sec.',\n",
              "       '51 sec.', '27 sec.', '24 sec. per ep.', '57 sec.',\n",
              "       '28 sec. per ep.', '42 sec.', '36 sec.', '33 sec.', '54 sec.',\n",
              "       '40 sec.', '2 hr. 19 min.', '14 sec. per ep.', '44 sec.',\n",
              "       '47 sec.', '38 sec.', '12 sec.', '29 sec. per ep.', '58 sec.',\n",
              "       '49 sec.', '39 sec.', '23 sec. per ep.', '28 sec.', '22 sec.',\n",
              "       '37 sec. per ep.', '13 sec.', '43 sec.', '48 sec.', '29 sec.',\n",
              "       '21 sec. per ep.', '7 sec.', '2 hr. 47 min.', '52 sec. per ep.',\n",
              "       '31 sec. per ep.', '43 sec. per ep.', '24 sec.', '2 hr. per ep.',\n",
              "       '36 sec. per ep.', '7 sec. per ep.', '42 sec. per ep.', '41 sec.',\n",
              "       '53 sec.'], dtype=object)"
            ]
          },
          "metadata": {},
          "execution_count": 318
        }
      ]
    },
    {
      "cell_type": "code",
      "source": [
        "anidf[anidf['duration_per_ep']==\"Unknown\"].shape"
      ],
      "metadata": {
        "colab": {
          "base_uri": "https://localhost:8080/"
        },
        "id": "snJYsKE8DJU9",
        "outputId": "e883351d-3785-4b6a-fde4-2e9104d0d2eb"
      },
      "id": "snJYsKE8DJU9",
      "execution_count": 319,
      "outputs": [
        {
          "output_type": "execute_result",
          "data": {
            "text/plain": [
              "(192, 36)"
            ]
          },
          "metadata": {},
          "execution_count": 319
        }
      ]
    },
    {
      "cell_type": "markdown",
      "source": [
        "## rating"
      ],
      "metadata": {
        "id": "m-KNUnY-GbIb"
      },
      "id": "m-KNUnY-GbIb"
    },
    {
      "cell_type": "code",
      "source": [
        "anidf['rating'].info()"
      ],
      "metadata": {
        "colab": {
          "base_uri": "https://localhost:8080/"
        },
        "id": "3eBG6HVbGe2H",
        "outputId": "f80aeba6-c7b6-4d7d-ba81-cdb2e10dc47d"
      },
      "id": "3eBG6HVbGe2H",
      "execution_count": 320,
      "outputs": [
        {
          "output_type": "stream",
          "name": "stdout",
          "text": [
            "<class 'pandas.core.series.Series'>\n",
            "RangeIndex: 20923 entries, 0 to 20922\n",
            "Series name: rating\n",
            "Non-Null Count  Dtype \n",
            "--------------  ----- \n",
            "20923 non-null  object\n",
            "dtypes: object(1)\n",
            "memory usage: 163.6+ KB\n"
          ]
        }
      ]
    },
    {
      "cell_type": "code",
      "source": [
        "anidf['rating'].unique()"
      ],
      "metadata": {
        "colab": {
          "base_uri": "https://localhost:8080/"
        },
        "id": "bM8YGKRGGhUq",
        "outputId": "57aafe4c-cbf7-48f6-d29d-0493f6b6e004"
      },
      "id": "bM8YGKRGGhUq",
      "execution_count": 321,
      "outputs": [
        {
          "output_type": "execute_result",
          "data": {
            "text/plain": [
              "array(['PG-13 - Teens 13 or older', 'R - 17+ (violence & profanity)',\n",
              "       'PG - Children', 'R+ - Mild Nudity', 'G - All Ages', 'None',\n",
              "       'Rx - Hentai'], dtype=object)"
            ]
          },
          "metadata": {},
          "execution_count": 321
        }
      ]
    },
    {
      "cell_type": "code",
      "source": [
        "anidf['rating'].value_counts()"
      ],
      "metadata": {
        "colab": {
          "base_uri": "https://localhost:8080/",
          "height": 0
        },
        "id": "9Woa7eaNGnVA",
        "outputId": "0bd5cc8a-f438-4b78-f7ae-b3493916dbea"
      },
      "id": "9Woa7eaNGnVA",
      "execution_count": 322,
      "outputs": [
        {
          "output_type": "execute_result",
          "data": {
            "text/plain": [
              "rating\n",
              "PG-13 - Teens 13 or older         8173\n",
              "G - All Ages                      5724\n",
              "PG - Children                     4174\n",
              "R - 17+ (violence & profanity)    1439\n",
              "R+ - Mild Nudity                  1086\n",
              "None                               326\n",
              "Rx - Hentai                          1\n",
              "Name: count, dtype: int64"
            ],
            "text/html": [
              "<div>\n",
              "<style scoped>\n",
              "    .dataframe tbody tr th:only-of-type {\n",
              "        vertical-align: middle;\n",
              "    }\n",
              "\n",
              "    .dataframe tbody tr th {\n",
              "        vertical-align: top;\n",
              "    }\n",
              "\n",
              "    .dataframe thead th {\n",
              "        text-align: right;\n",
              "    }\n",
              "</style>\n",
              "<table border=\"1\" class=\"dataframe\">\n",
              "  <thead>\n",
              "    <tr style=\"text-align: right;\">\n",
              "      <th></th>\n",
              "      <th>count</th>\n",
              "    </tr>\n",
              "    <tr>\n",
              "      <th>rating</th>\n",
              "      <th></th>\n",
              "    </tr>\n",
              "  </thead>\n",
              "  <tbody>\n",
              "    <tr>\n",
              "      <th>PG-13 - Teens 13 or older</th>\n",
              "      <td>8173</td>\n",
              "    </tr>\n",
              "    <tr>\n",
              "      <th>G - All Ages</th>\n",
              "      <td>5724</td>\n",
              "    </tr>\n",
              "    <tr>\n",
              "      <th>PG - Children</th>\n",
              "      <td>4174</td>\n",
              "    </tr>\n",
              "    <tr>\n",
              "      <th>R - 17+ (violence &amp; profanity)</th>\n",
              "      <td>1439</td>\n",
              "    </tr>\n",
              "    <tr>\n",
              "      <th>R+ - Mild Nudity</th>\n",
              "      <td>1086</td>\n",
              "    </tr>\n",
              "    <tr>\n",
              "      <th>None</th>\n",
              "      <td>326</td>\n",
              "    </tr>\n",
              "    <tr>\n",
              "      <th>Rx - Hentai</th>\n",
              "      <td>1</td>\n",
              "    </tr>\n",
              "  </tbody>\n",
              "</table>\n",
              "</div><br><label><b>dtype:</b> int64</label>"
            ]
          },
          "metadata": {},
          "execution_count": 322
        }
      ]
    },
    {
      "cell_type": "markdown",
      "source": [
        "## Scored by"
      ],
      "metadata": {
        "id": "sRAX4tkNGqKD"
      },
      "id": "sRAX4tkNGqKD"
    },
    {
      "cell_type": "code",
      "source": [
        "anidf['scored_by'].info()"
      ],
      "metadata": {
        "colab": {
          "base_uri": "https://localhost:8080/"
        },
        "id": "oN7X9K-aG5k1",
        "outputId": "e63af8d8-2b06-46dc-83e1-85ebbc444808"
      },
      "id": "oN7X9K-aG5k1",
      "execution_count": 323,
      "outputs": [
        {
          "output_type": "stream",
          "name": "stdout",
          "text": [
            "<class 'pandas.core.series.Series'>\n",
            "RangeIndex: 20923 entries, 0 to 20922\n",
            "Series name: scored_by\n",
            "Non-Null Count  Dtype  \n",
            "--------------  -----  \n",
            "13607 non-null  float64\n",
            "dtypes: float64(1)\n",
            "memory usage: 163.6 KB\n"
          ]
        }
      ]
    },
    {
      "cell_type": "code",
      "source": [
        "anidf['scored_by'].isna().sum()"
      ],
      "metadata": {
        "colab": {
          "base_uri": "https://localhost:8080/"
        },
        "id": "PsK_u4V7G8Zy",
        "outputId": "bad9da66-cca4-486f-edc2-d26b03f18237"
      },
      "id": "PsK_u4V7G8Zy",
      "execution_count": 324,
      "outputs": [
        {
          "output_type": "execute_result",
          "data": {
            "text/plain": [
              "7316"
            ]
          },
          "metadata": {},
          "execution_count": 324
        }
      ]
    },
    {
      "cell_type": "markdown",
      "source": [
        "## favorites"
      ],
      "metadata": {
        "id": "byvQesBbG-0v"
      },
      "id": "byvQesBbG-0v"
    },
    {
      "cell_type": "code",
      "source": [
        "anidf['favorites'].info()"
      ],
      "metadata": {
        "colab": {
          "base_uri": "https://localhost:8080/"
        },
        "id": "QSG5_4HJHjHs",
        "outputId": "a5aa6fb3-566a-4d53-ba8f-a03bae1b4be8"
      },
      "id": "QSG5_4HJHjHs",
      "execution_count": 325,
      "outputs": [
        {
          "output_type": "stream",
          "name": "stdout",
          "text": [
            "<class 'pandas.core.series.Series'>\n",
            "RangeIndex: 20923 entries, 0 to 20922\n",
            "Series name: favorites\n",
            "Non-Null Count  Dtype\n",
            "--------------  -----\n",
            "20923 non-null  int64\n",
            "dtypes: int64(1)\n",
            "memory usage: 163.6 KB\n"
          ]
        }
      ]
    },
    {
      "cell_type": "code",
      "source": [
        "anidf['favorites'].value_counts()"
      ],
      "metadata": {
        "colab": {
          "base_uri": "https://localhost:8080/",
          "height": 0
        },
        "id": "NAkgdniMHpCk",
        "outputId": "9abba95c-e7d9-4071-ea88-f7063f4a766e"
      },
      "id": "NAkgdniMHpCk",
      "execution_count": 326,
      "outputs": [
        {
          "output_type": "execute_result",
          "data": {
            "text/plain": [
              "favorites\n",
              "0       8664\n",
              "1       1839\n",
              "2        976\n",
              "3        641\n",
              "4        447\n",
              "        ... \n",
              "536        1\n",
              "4579       1\n",
              "2140       1\n",
              "7777       1\n",
              "297        1\n",
              "Name: count, Length: 1879, dtype: int64"
            ],
            "text/html": [
              "<div>\n",
              "<style scoped>\n",
              "    .dataframe tbody tr th:only-of-type {\n",
              "        vertical-align: middle;\n",
              "    }\n",
              "\n",
              "    .dataframe tbody tr th {\n",
              "        vertical-align: top;\n",
              "    }\n",
              "\n",
              "    .dataframe thead th {\n",
              "        text-align: right;\n",
              "    }\n",
              "</style>\n",
              "<table border=\"1\" class=\"dataframe\">\n",
              "  <thead>\n",
              "    <tr style=\"text-align: right;\">\n",
              "      <th></th>\n",
              "      <th>count</th>\n",
              "    </tr>\n",
              "    <tr>\n",
              "      <th>favorites</th>\n",
              "      <th></th>\n",
              "    </tr>\n",
              "  </thead>\n",
              "  <tbody>\n",
              "    <tr>\n",
              "      <th>0</th>\n",
              "      <td>8664</td>\n",
              "    </tr>\n",
              "    <tr>\n",
              "      <th>1</th>\n",
              "      <td>1839</td>\n",
              "    </tr>\n",
              "    <tr>\n",
              "      <th>2</th>\n",
              "      <td>976</td>\n",
              "    </tr>\n",
              "    <tr>\n",
              "      <th>3</th>\n",
              "      <td>641</td>\n",
              "    </tr>\n",
              "    <tr>\n",
              "      <th>4</th>\n",
              "      <td>447</td>\n",
              "    </tr>\n",
              "    <tr>\n",
              "      <th>...</th>\n",
              "      <td>...</td>\n",
              "    </tr>\n",
              "    <tr>\n",
              "      <th>536</th>\n",
              "      <td>1</td>\n",
              "    </tr>\n",
              "    <tr>\n",
              "      <th>4579</th>\n",
              "      <td>1</td>\n",
              "    </tr>\n",
              "    <tr>\n",
              "      <th>2140</th>\n",
              "      <td>1</td>\n",
              "    </tr>\n",
              "    <tr>\n",
              "      <th>7777</th>\n",
              "      <td>1</td>\n",
              "    </tr>\n",
              "    <tr>\n",
              "      <th>297</th>\n",
              "      <td>1</td>\n",
              "    </tr>\n",
              "  </tbody>\n",
              "</table>\n",
              "<p>1879 rows × 1 columns</p>\n",
              "</div><br><label><b>dtype:</b> int64</label>"
            ]
          },
          "metadata": {},
          "execution_count": 326
        }
      ]
    },
    {
      "cell_type": "markdown",
      "source": [
        "## aired"
      ],
      "metadata": {
        "id": "r5jtvdv_HtNT"
      },
      "id": "r5jtvdv_HtNT"
    },
    {
      "cell_type": "code",
      "source": [
        "anidf['aired'].info()"
      ],
      "metadata": {
        "colab": {
          "base_uri": "https://localhost:8080/"
        },
        "id": "vX9Ks63AH5by",
        "outputId": "7caffad1-89a7-4a01-a982-555305470bdd"
      },
      "id": "vX9Ks63AH5by",
      "execution_count": 327,
      "outputs": [
        {
          "output_type": "stream",
          "name": "stdout",
          "text": [
            "<class 'pandas.core.series.Series'>\n",
            "RangeIndex: 20923 entries, 0 to 20922\n",
            "Series name: aired\n",
            "Non-Null Count  Dtype \n",
            "--------------  ----- \n",
            "20923 non-null  object\n",
            "dtypes: object(1)\n",
            "memory usage: 163.6+ KB\n"
          ]
        }
      ]
    },
    {
      "cell_type": "code",
      "source": [
        "anidf['aired'].unique()"
      ],
      "metadata": {
        "colab": {
          "base_uri": "https://localhost:8080/"
        },
        "id": "aANNMB1hH7WT",
        "outputId": "a3808fe4-0d01-40ce-ed92-b527f0cfbc3d"
      },
      "id": "aANNMB1hH7WT",
      "execution_count": 328,
      "outputs": [
        {
          "output_type": "execute_result",
          "data": {
            "text/plain": [
              "array(['Oct 13, 1980 to Aug 31, 1981', 'Oct 19, 2014 to Dec 21, 2014',\n",
              "       'Apr 10, 2022 to Oct 2, 2022', ..., 'Sep 28, 2017',\n",
              "       'Nov 2006 to 2007', 'Oct 25, 2023 to ?'], dtype=object)"
            ]
          },
          "metadata": {},
          "execution_count": 328
        }
      ]
    },
    {
      "cell_type": "markdown",
      "source": [
        "## source"
      ],
      "metadata": {
        "id": "GYADruCQIFuy"
      },
      "id": "GYADruCQIFuy"
    },
    {
      "cell_type": "code",
      "source": [
        "anidf['source'].info()"
      ],
      "metadata": {
        "colab": {
          "base_uri": "https://localhost:8080/"
        },
        "id": "q6FVc8juIKbc",
        "outputId": "91b2e15d-4fa2-42d2-b9d6-59eb9e8cf833"
      },
      "id": "q6FVc8juIKbc",
      "execution_count": 329,
      "outputs": [
        {
          "output_type": "stream",
          "name": "stdout",
          "text": [
            "<class 'pandas.core.series.Series'>\n",
            "RangeIndex: 20923 entries, 0 to 20922\n",
            "Series name: source\n",
            "Non-Null Count  Dtype \n",
            "--------------  ----- \n",
            "20923 non-null  object\n",
            "dtypes: object(1)\n",
            "memory usage: 163.6+ KB\n"
          ]
        }
      ]
    },
    {
      "cell_type": "code",
      "source": [
        "anidf['source'].unique()"
      ],
      "metadata": {
        "colab": {
          "base_uri": "https://localhost:8080/"
        },
        "id": "CFk_pAr1IMuk",
        "outputId": "0f8cf70e-726f-417f-acd4-99e17e5693bd"
      },
      "id": "CFk_pAr1IMuk",
      "execution_count": 330,
      "outputs": [
        {
          "output_type": "execute_result",
          "data": {
            "text/plain": [
              "array(['Manga', 'Original', 'Light novel', 'Web manga', '4-koma manga',\n",
              "       'Visual novel', 'Novel', 'Web novel', 'Game', 'Other', 'Unknown',\n",
              "       'Book', 'Mixed media', 'Music', 'Picture book', 'Card game',\n",
              "       'Radio'], dtype=object)"
            ]
          },
          "metadata": {},
          "execution_count": 330
        }
      ]
    },
    {
      "cell_type": "code",
      "source": [
        "anidf['source'].value_counts()"
      ],
      "metadata": {
        "colab": {
          "base_uri": "https://localhost:8080/",
          "height": 0
        },
        "id": "X8oTu-ZjIPKD",
        "outputId": "788e6827-9bdb-4305-a078-1cda8a2db8ae"
      },
      "id": "X8oTu-ZjIPKD",
      "execution_count": 331,
      "outputs": [
        {
          "output_type": "execute_result",
          "data": {
            "text/plain": [
              "source\n",
              "Original        7907\n",
              "Manga           4441\n",
              "Unknown         2770\n",
              "Game            1101\n",
              "Other            995\n",
              "Light novel      979\n",
              "Novel            731\n",
              "Web manga        449\n",
              "Visual novel     411\n",
              "4-koma manga     324\n",
              "Picture book     225\n",
              "Book             208\n",
              "Mixed media      146\n",
              "Web novel        109\n",
              "Card game         68\n",
              "Music             45\n",
              "Radio             14\n",
              "Name: count, dtype: int64"
            ],
            "text/html": [
              "<div>\n",
              "<style scoped>\n",
              "    .dataframe tbody tr th:only-of-type {\n",
              "        vertical-align: middle;\n",
              "    }\n",
              "\n",
              "    .dataframe tbody tr th {\n",
              "        vertical-align: top;\n",
              "    }\n",
              "\n",
              "    .dataframe thead th {\n",
              "        text-align: right;\n",
              "    }\n",
              "</style>\n",
              "<table border=\"1\" class=\"dataframe\">\n",
              "  <thead>\n",
              "    <tr style=\"text-align: right;\">\n",
              "      <th></th>\n",
              "      <th>count</th>\n",
              "    </tr>\n",
              "    <tr>\n",
              "      <th>source</th>\n",
              "      <th></th>\n",
              "    </tr>\n",
              "  </thead>\n",
              "  <tbody>\n",
              "    <tr>\n",
              "      <th>Original</th>\n",
              "      <td>7907</td>\n",
              "    </tr>\n",
              "    <tr>\n",
              "      <th>Manga</th>\n",
              "      <td>4441</td>\n",
              "    </tr>\n",
              "    <tr>\n",
              "      <th>Unknown</th>\n",
              "      <td>2770</td>\n",
              "    </tr>\n",
              "    <tr>\n",
              "      <th>Game</th>\n",
              "      <td>1101</td>\n",
              "    </tr>\n",
              "    <tr>\n",
              "      <th>Other</th>\n",
              "      <td>995</td>\n",
              "    </tr>\n",
              "    <tr>\n",
              "      <th>Light novel</th>\n",
              "      <td>979</td>\n",
              "    </tr>\n",
              "    <tr>\n",
              "      <th>Novel</th>\n",
              "      <td>731</td>\n",
              "    </tr>\n",
              "    <tr>\n",
              "      <th>Web manga</th>\n",
              "      <td>449</td>\n",
              "    </tr>\n",
              "    <tr>\n",
              "      <th>Visual novel</th>\n",
              "      <td>411</td>\n",
              "    </tr>\n",
              "    <tr>\n",
              "      <th>4-koma manga</th>\n",
              "      <td>324</td>\n",
              "    </tr>\n",
              "    <tr>\n",
              "      <th>Picture book</th>\n",
              "      <td>225</td>\n",
              "    </tr>\n",
              "    <tr>\n",
              "      <th>Book</th>\n",
              "      <td>208</td>\n",
              "    </tr>\n",
              "    <tr>\n",
              "      <th>Mixed media</th>\n",
              "      <td>146</td>\n",
              "    </tr>\n",
              "    <tr>\n",
              "      <th>Web novel</th>\n",
              "      <td>109</td>\n",
              "    </tr>\n",
              "    <tr>\n",
              "      <th>Card game</th>\n",
              "      <td>68</td>\n",
              "    </tr>\n",
              "    <tr>\n",
              "      <th>Music</th>\n",
              "      <td>45</td>\n",
              "    </tr>\n",
              "    <tr>\n",
              "      <th>Radio</th>\n",
              "      <td>14</td>\n",
              "    </tr>\n",
              "  </tbody>\n",
              "</table>\n",
              "</div><br><label><b>dtype:</b> int64</label>"
            ]
          },
          "metadata": {},
          "execution_count": 331
        }
      ]
    },
    {
      "cell_type": "code",
      "source": [
        "anidf[anidf['source']=='Music']"
      ],
      "metadata": {
        "colab": {
          "base_uri": "https://localhost:8080/",
          "height": 0
        },
        "id": "y-4NoSodIRI8",
        "outputId": "db6d76f3-9a36-4413-8472-6bf3f71443f1"
      },
      "id": "y-4NoSodIRI8",
      "execution_count": 332,
      "outputs": [
        {
          "output_type": "execute_result",
          "data": {
            "text/plain": [
              "                                            name_english  \\\n",
              "545    Interstella5555: The 5tory of The 5ecret 5tar ...   \n",
              "2042      Our love has always been 10 centimeters apart.   \n",
              "2154      Kono Sekai no Tanoshimikata: Secret Story Film   \n",
              "3220   Heroines Run the Show: The Unpopular Girl and ...   \n",
              "3628                               I've Always Liked You   \n",
              "3784      I've Always Liked You: A Friday's Good Morning   \n",
              "4367                         The Moment You Fall in Love   \n",
              "4489                                            UniteUp!   \n",
              "5113                             TSUKIUTA. The Animation   \n",
              "5185                                             Massara   \n",
              "5253                                Nana's Secret Garden   \n",
              "6164                           MARGINAL #4 the Animation   \n",
              "6267                           Tsukiuta. The Animation 2   \n",
              "7049                  Immemorial Love For You 2nd Season   \n",
              "8157                                             Airy Me   \n",
              "8426                            Actors: Songs Connection   \n",
              "8455                                  Ai Zai Xiyuan Qian   \n",
              "9103                    UniteUp! Let's Look Back & Unite   \n",
              "9327               Urashimasakatasen no Nichijou Special   \n",
              "9462                       Urashimasakatasen no Nichijou   \n",
              "9552                      Hajimete no Futarikkiri Ryokou   \n",
              "9589                                  Kinpatsu no Jeanie   \n",
              "10240       \"LIP×LIP\" Interview Report by Hiyori Suzumi!   \n",
              "10264                                      Santa Tell Me   \n",
              "10913                               The Epic Of ZektBach   \n",
              "10969  Heroines Run the Show: The Unpopular Girl and ...   \n",
              "11069                 How to Enjoy this World Mini Anime   \n",
              "11834                                              Tosca   \n",
              "12108                             Vazzrock the Animation   \n",
              "12438                             Dream of a Snowy Night   \n",
              "12458                                Bottom Biting Bug 2   \n",
              "12568                   The Baby Birds of Norman McLaren   \n",
              "12616                                            Scandal   \n",
              "12688                                Bottom Biting Bug 4   \n",
              "12786                                Bottom Biting Bug 3   \n",
              "13014                                  Bottom Biting Bug   \n",
              "13300                     Teienu Theater in Kobe Opening   \n",
              "13383                 Begone Bell Care; Begone Dull Care   \n",
              "13534                                      Calligraffiti   \n",
              "14193                Tokio Heidi: Mainichi no Kodomo Uta   \n",
              "15632                             Baby Shark's Big Show!   \n",
              "15633                    Baby Shark Brooklyn Doo Doo Doo   \n",
              "18281                      Kachikachi Yama no Shouboutai   \n",
              "19734                   Norimono Atsumare: Hit Song-shuu   \n",
              "20496                          Romeo: Music Video Making   \n",
              "\n",
              "                                                    name score  ranked  \\\n",
              "545    Interstella5555: The 5tory of The 5ecret 5tar ...  8.13     456   \n",
              "2042             Itsudatte Bokura no Koi wa 10 cm Datta.  7.46    2001   \n",
              "2154      Kono Sekai no Tanoshimikata: Secret Story Film  7.42    2138   \n",
              "3220   Heroine Tarumono! Kiraware Heroine to Naisho n...  7.28    2822   \n",
              "3628   Zutto Mae kara Suki deshita. Kokuhaku Jikkou I...  7.21    3214   \n",
              "3784   Zutto Mae kara Suki deshita. Kokuhaku Jikkou I...  7.17    3459   \n",
              "4367   Suki ni Naru Sono Shunkan wo. Kokuhaku Jikkou ...  7.04    4075   \n",
              "4489                                            UniteUp!  7.03    4153   \n",
              "5113                             Tsukiuta. The Animation  6.90    4728   \n",
              "5185                                             Massara  6.87    4857   \n",
              "5253                             Himitsu no Hana no Niwa  6.85    4989   \n",
              "6164              Marginal#4: Kiss kara Tsukuru Big Bang  6.67    5877   \n",
              "6267                           Tsukiuta. The Animation 2  6.66    5974   \n",
              "7049                       Ai Zai Xiyuan Qian 2nd Season  6.51    6791   \n",
              "8157                                             Airy Me  6.32    7883   \n",
              "8426                            Actors: Songs Connection  6.30    8013   \n",
              "8455                                  Ai Zai Xiyuan Qian  6.27    8188   \n",
              "9103                            UniteUp! Furikaeranai to  6.14    8836   \n",
              "9327               Urashimasakatasen no Nichijou Special  6.11    9012   \n",
              "9462                       Urashimasakatasen no Nichijou  6.10    9077   \n",
              "9552                      Hajimete no Futarikkiri Ryokou  6.08    9186   \n",
              "9589                                  Kinpatsu no Jeanie  6.05    9350   \n",
              "10240          Suzumi Hiyori no \"LIP×LIP\" Shuzai Report!  5.90    9996   \n",
              "10264                                      Santa Tell Me  5.91    9972   \n",
              "10913                               The Epic Of ZektBach  5.78   10522   \n",
              "10969  Heroine Tarumono! Kiraware Heroine to Naisho n...  5.75   10667   \n",
              "11069  HoneyWorks 10th Anniversary \"LIP×LIP FILM×LIVE...  5.72   10767   \n",
              "11834                                              Tosca  5.56   11401   \n",
              "12108                             Vazzrock The Animation  5.46   11727   \n",
              "12438                               Yuki no Yoru no Yume  5.28   12199   \n",
              "12458                Oshiri Kajiri Mushi (TV) 2nd Season  5.28   12179   \n",
              "12568                   The Baby Birds of Norman McLaren  5.24   12269   \n",
              "12616                                            Scandal  5.27   12220   \n",
              "12688                Oshiri Kajiri Mushi (TV) 4th Season  5.21   12348   \n",
              "12786                Oshiri Kajiri Mushi (TV) 3rd Season  5.14   12450   \n",
              "13014                           Oshiri Kajiri Mushi (TV)  5.02   12621   \n",
              "13300                     Teienu Theater in Kobe Opening  4.74   12918   \n",
              "13383                            Shousei Shikisai Gensou  4.35   13136   \n",
              "13534                                      Calligraffiti  4.12   13184   \n",
              "14193                Tokio Heidi: Mainichi no Kodomo Uta   N/A   13926   \n",
              "15632                        Agisang-eo Ollie wa William   N/A   15387   \n",
              "15633                        Agisang-eo Ollie Tululutulu   N/A   15386   \n",
              "18281                      Kachikachi Yama no Shouboutai   N/A   17934   \n",
              "19734                   Norimono Atsumare: Hit Song-shuu   N/A   19481   \n",
              "20496                          Romeo: Music Video Making   N/A   20118   \n",
              "\n",
              "       popularity  members                                           synopsis  \\\n",
              "545          2492    73959  This musical film is the visual realization of...   \n",
              "2042         1051   229989  Miou Aida and Haruki Serizawa might seem like ...   \n",
              "2154         8884     4321  An anime movie based on HoneyWorks' LIPxLIP vi...   \n",
              "3220         2641    67171  Freshly graduating middle school, energetic 15...   \n",
              "3628         1032   232749  Love is blooming at Sakuragaoka High School. N...   \n",
              "3784         4412    24904  A picture drama special bundled with the BD/DV...   \n",
              "4367         1850   116668  Following Natsuki Enomoto's confession rehears...   \n",
              "4489         6528     9457  Akira Kiyose, a high schooler who loves to sin...   \n",
              "5113         4202    27603  Tsukino Talent Productions is home to two up-a...   \n",
              "5185        10665     2396  is an original short inspired from the song of...   \n",
              "5253        13094     1083  The music film is a part of TOHO animation's 1...   \n",
              "6164         5204    16685  The freshly debuted idol group Marginal#4 drea...   \n",
              "6267         7061     7798  Six Gravity and Procellarum, Tsukino Talent Pr...   \n",
              "7049        11793     1637                                Second season of .    \n",
              "8157         8294     5244  A test subject is administered daily medicatio...   \n",
              "8426         5014    18458  Tensho School is located in the 7th Ward of Th...   \n",
              "8455        10625     2422  Some aliens come to the Earth and one of them,...   \n",
              "9103        14385      757                   Recap of the first 8 episodes of   \n",
              "9327        13696      920   Unaired episode of included in the DVD release.    \n",
              "9462         7855     5971  The anime centers on the members of the real-w...   \n",
              "9552        12698     1214  A short animation released with the limited ed...   \n",
              "9589        12506     1290  During the civil war a girl living in Virginia...   \n",
              "10240       16075      494  An animated short bundled with first limited e...   \n",
              "10264       20046      214  A collaboration between and Ariana Grande feat...   \n",
              "10913        8947     4230  The story begins when the kingdom of Noigllado...   \n",
              "10969       13132     1073  Mini anime for released on the official Twitter.    \n",
              "11069       15475      561  A mini anime to promote the HoneyWorks 10th An...   \n",
              "11834       18496      301  Based on an old Russian folk song. This short ...   \n",
              "12108        7454     6801  VAZZY and ROCK DOWN are the two units that mak...   \n",
              "12438       15236      596  A young girl wanders outside on a snowy night,...   \n",
              "12458       13998      850  Continuation of the gag comedy about Oshiri Ka...   \n",
              "12568       14737      676  Celebrating the 100th year of birth of Norman ...   \n",
              "12616       11256     1988  Twelve 1-minute fictional shorts about the rea...   \n",
              "12688       14947      640  A gag comedy about Oshiri Kajiri Mushi XVIII, ...   \n",
              "12786       14465      739  A gag comedy about Oshiri Kajiri Mushi XVIII, ...   \n",
              "13014       12039     1507  A gag comedy about Oshiri Kajiri Mushi XVIII, ...   \n",
              "13300       15172      605  The opening video for Nagao Takena's film scre...   \n",
              "13383       14475      734  A tribute to Norman McLaren's Begone Dull Care...   \n",
              "13534       13771      898  Short animation directed by an illustrator and...   \n",
              "14193       18621      291  A series of animated music videos and short vi...   \n",
              "15632       20929      163  Baby Shark's Big Show! follows Baby Shark and ...   \n",
              "15633       21245      148  A massive underwater earthquake sweeps the Sha...   \n",
              "18281       16078      492  A 7-minute short film (monochrome) produced by...   \n",
              "19734       20524      186  A compilation of six music videos that were co...   \n",
              "20496       17575      368  A short animation released with the limited ed...   \n",
              "\n",
              "                                                synonyms     type_of  \\\n",
              "545                                    Interstellar 5555       Movie   \n",
              "2042                                 いつだって僕らの恋は10センチだった。          TV   \n",
              "2154     HoneyWorks 10th Anniversary \"Lip×Lip Film×Live\"       Movie   \n",
              "3220                           To Become a Real Heroine!          TV   \n",
              "3628   HoneyWorks: I've Liked You Since Long Ago, I'v...       Movie   \n",
              "3784   I've Always Liked You Picture Drama Special, H...     Special   \n",
              "4367                  HoneyWorks: Kokuhaku Jikkou Iinkai       Movie   \n",
              "4489                                            UniteUp!          TV   \n",
              "5113                                           Tsukiani.          TV   \n",
              "5185                                                まっさら         ONA   \n",
              "5253                                             秘密のはなの庭         ONA   \n",
              "6164                        MARGINAL#4 KISSから創造るBig Bang          TV   \n",
              "6267   Tsukiuta. The Animation Second Season, Tsukian...          TV   \n",
              "7049                                           爱在西元前 第二季         ONA   \n",
              "8157                                             Airy Me       Movie   \n",
              "8426                           ACTORS -Songs Connection-          TV   \n",
              "8455                             Immemorial Love For You         ONA   \n",
              "9103                UniteUp! Recap, UniteUp! Episode 8.5  TV Special   \n",
              "9327   Urashimasakatasen no Nichijou Episode 13, Days...     Special   \n",
              "9462                           Days of Urashimasakatasen          TV   \n",
              "9552                                    First Trip Alone         OVA   \n",
              "9589   Kinpatsu no Jenny, Blonde Jeanie, Jeanie with ...          TV   \n",
              "10240                             涼海ひよりの『LIP×LIP』取材リポート！         OVA   \n",
              "10264                                          サンタ・テル・ミー         ONA   \n",
              "10913  The Epic Of ZektBach: Daiisshou: Shamshir no M...         OVA   \n",
              "10969                    ヒロインたるもの！〜嫌われヒロインと内緒のお仕事〜 ミニアニメ         ONA   \n",
              "11069  Kono Sekai no Tanoshimikata: Secret Story Film...         ONA   \n",
              "11834                                              Tosca       Movie   \n",
              "12108                             VAZZROCK THE ANIMATION          TV   \n",
              "12438                                              雪の夜の夢       Movie   \n",
              "12458                                     おしりかじり虫　第２シリーズ          TV   \n",
              "12568                   The Baby Birds of Norman McLaren       Movie   \n",
              "12616                                      Scandal anime         ONA   \n",
              "12688                                     おしりかじり虫　第４シリーズ          TV   \n",
              "12786                                     おしりかじり虫　第３シリーズ          TV   \n",
              "13014                                            おしりかじり虫          TV   \n",
              "13300                                ていえぬシアターin神戸 オープニング     Special   \n",
              "13383                                    Begon Bell Care       Movie   \n",
              "13534                                       Carigraffiti       Movie   \n",
              "14193                                        Tokyo Heidi         ONA   \n",
              "15632                       Baby Shark Ollie and William          TV   \n",
              "15633                       Baby Shark Ollie Doo Doo Doo          TV   \n",
              "18281                                          カチカチ山の消防隊       Movie   \n",
              "19734  Yahoo! Shinkansen, Kita! Kita! Tokkyuu!, Nani ...         OVA   \n",
              "20496                                          Romeo MVM         OVA   \n",
              "\n",
              "       total_episodes  ... scored_10_by scored_9_by scored_8_by scored_7_by  \\\n",
              "545               1.0  ...       9592.0      8978.0     11882.0      8059.0   \n",
              "2042              6.0  ...       8312.0     11979.0     25300.0     27425.0   \n",
              "2154              1.0  ...        133.0       106.0       146.0       185.0   \n",
              "3220             12.0  ...       1760.0      2447.0      5990.0      8155.0   \n",
              "3628              1.0  ...       7041.0     10053.0     23343.0     32500.0   \n",
              "3784              1.0  ...        855.0       802.0      1836.0      2952.0   \n",
              "4367              1.0  ...       3161.0      4063.0      9839.0     16168.0   \n",
              "4489             12.0  ...        294.0       257.0       529.0       746.0   \n",
              "5113             13.0  ...        812.0       758.0      1325.0      2133.0   \n",
              "5185              1.0  ...         66.0        94.0       209.0       436.0   \n",
              "5253              1.0  ...         30.0        59.0        91.0       148.0   \n",
              "6164             12.0  ...        464.0       373.0       730.0      1275.0   \n",
              "6267             13.0  ...        165.0       131.0       223.0       418.0   \n",
              "7049             16.0  ...         23.0        18.0        13.0        37.0   \n",
              "8157              1.0  ...        165.0       158.0       388.0       629.0   \n",
              "8426             12.0  ...        376.0       326.0       644.0      1187.0   \n",
              "8455             12.0  ...         28.0        18.0        29.0        65.0   \n",
              "9103              1.0  ...         23.0         4.0        15.0        41.0   \n",
              "9327              1.0  ...         33.0         8.0         9.0        36.0   \n",
              "9462             12.0  ...        215.0       140.0       242.0       502.0   \n",
              "9552              1.0  ...         10.0        10.0        33.0        34.0   \n",
              "9589             13.0  ...         23.0         8.0        28.0        49.0   \n",
              "10240             1.0  ...         18.0         2.0        10.0        16.0   \n",
              "10264             1.0  ...         15.0         2.0         1.0        16.0   \n",
              "10913             1.0  ...         55.0        66.0       168.0       456.0   \n",
              "10969             6.0  ...         24.0         8.0        10.0        39.0   \n",
              "11069             3.0  ...         25.0         3.0        11.0        16.0   \n",
              "11834             1.0  ...         13.0         2.0         3.0        23.0   \n",
              "12108            13.0  ...         68.0        30.0        53.0       126.0   \n",
              "12438             1.0  ...         14.0         2.0         8.0        20.0   \n",
              "12458            32.0  ...         18.0         5.0        22.0        51.0   \n",
              "12568             1.0  ...         16.0         6.0        13.0        30.0   \n",
              "12616            12.0  ...         47.0        23.0        40.0       104.0   \n",
              "12688            10.0  ...         20.0         7.0         8.0        20.0   \n",
              "12786            10.0  ...         17.0         1.0        16.0        32.0   \n",
              "13014            20.0  ...         25.0         4.0        26.0        81.0   \n",
              "13300             1.0  ...         11.0         2.0         8.0        17.0   \n",
              "13383             1.0  ...         19.0         1.0         5.0        12.0   \n",
              "13534             1.0  ...         20.0         2.0         1.0        11.0   \n",
              "14193             NaN  ...         11.0         2.0         5.0         8.0   \n",
              "15632            54.0  ...          9.0         1.0         4.0         3.0   \n",
              "15633            12.0  ...         10.0         1.0         5.0         5.0   \n",
              "18281             1.0  ...         19.0         1.0         2.0         5.0   \n",
              "19734             6.0  ...         13.0         1.0         2.0         4.0   \n",
              "20496             1.0  ...         23.0         5.0        13.0        19.0   \n",
              "\n",
              "      scored_6_by scored_5_by  scored_4_by  scored_3_by scored_2_by  \\\n",
              "545        3241.0      1316.0        353.0        130.0        77.0   \n",
              "2042      12050.0      5097.0       1556.0        676.0       265.0   \n",
              "2154        100.0        30.0         15.0          8.0         4.0   \n",
              "3220       3633.0      1546.0        585.0        181.0        86.0   \n",
              "3628      15102.0      6710.0       2130.0        959.0       451.0   \n",
              "3784       1683.0       686.0        162.0         77.0        27.0   \n",
              "4367       8401.0      3777.0       1339.0        564.0       297.0   \n",
              "4489        493.0       309.0        103.0         48.0        28.0   \n",
              "5113       1589.0      1008.0        378.0        214.0       118.0   \n",
              "5185        266.0       134.0         24.0          8.0         2.0   \n",
              "5253        119.0        42.0         10.0          7.0         3.0   \n",
              "6164       1015.0       714.0        373.0        160.0        92.0   \n",
              "6267        358.0       223.0         98.0         53.0        24.0   \n",
              "7049         23.0        15.0          5.0          5.0         6.0   \n",
              "8157        663.0       432.0        168.0         95.0        74.0   \n",
              "8426       1203.0       951.0        489.0        264.0       138.0   \n",
              "8455         53.0        35.0         15.0         11.0        11.0   \n",
              "9103         59.0        40.0         15.0          1.0         1.0   \n",
              "9327         62.0        44.0         16.0          2.0         9.0   \n",
              "9462        612.0       599.0        250.0        137.0        82.0   \n",
              "9552         21.0        11.0          2.0          1.0         1.0   \n",
              "9589         66.0        54.0         21.0          7.0         9.0   \n",
              "10240        40.0        27.0         10.0          7.0         3.0   \n",
              "10264        23.0        26.0         12.0          3.0         2.0   \n",
              "10913       553.0       392.0        218.0        121.0        68.0   \n",
              "10969        69.0        69.0         22.0         10.0        10.0   \n",
              "11069        37.0        45.0         13.0          9.0         6.0   \n",
              "11834        30.0        27.0         19.0         15.0         7.0   \n",
              "12108       153.0       214.0        162.0        143.0       101.0   \n",
              "12438        37.0        63.0         48.0         15.0        48.0   \n",
              "12458        52.0        70.0         34.0         31.0        33.0   \n",
              "12568        77.0        91.0         41.0         47.0        18.0   \n",
              "12616       175.0       213.0        102.0         82.0        61.0   \n",
              "12688        39.0        50.0         31.0         23.0        21.0   \n",
              "12786        39.0        62.0         36.0         30.0        26.0   \n",
              "13014        95.0       121.0         95.0         69.0        58.0   \n",
              "13300        35.0        89.0         61.0         31.0        38.0   \n",
              "13383        54.0        86.0         68.0         51.0        59.0   \n",
              "13534        34.0        75.0         95.0         76.0        56.0   \n",
              "14193         6.0         5.0          5.0          5.0         NaN   \n",
              "15632         2.0         1.0          4.0          NaN         NaN   \n",
              "15633         4.0         1.0          1.0          5.0         NaN   \n",
              "18281        13.0        20.0         12.0          2.0         4.0   \n",
              "19734         2.0         7.0          4.0          7.0         4.0   \n",
              "20496        11.0        11.0          5.0          1.0         1.0   \n",
              "\n",
              "      scored_1_by  \n",
              "545         107.0  \n",
              "2042        221.0  \n",
              "2154          9.0  \n",
              "3220        108.0  \n",
              "3628        340.0  \n",
              "3784         44.0  \n",
              "4367        202.0  \n",
              "4489         61.0  \n",
              "5113        137.0  \n",
              "5185          5.0  \n",
              "5253          4.0  \n",
              "6164        110.0  \n",
              "6267         43.0  \n",
              "7049          6.0  \n",
              "8157         61.0  \n",
              "8426        119.0  \n",
              "8455         12.0  \n",
              "9103          6.0  \n",
              "9327         16.0  \n",
              "9462        107.0  \n",
              "9552          NaN  \n",
              "9589         15.0  \n",
              "10240         4.0  \n",
              "10264         5.0  \n",
              "10913        50.0  \n",
              "10969        10.0  \n",
              "11069        10.0  \n",
              "11834        10.0  \n",
              "12108       121.0  \n",
              "12438        22.0  \n",
              "12458        23.0  \n",
              "12568        27.0  \n",
              "12616        63.0  \n",
              "12688        25.0  \n",
              "12786        26.0  \n",
              "13014        50.0  \n",
              "13300        51.0  \n",
              "13383        47.0  \n",
              "13534        83.0  \n",
              "14193         NaN  \n",
              "15632         NaN  \n",
              "15633         NaN  \n",
              "18281        16.0  \n",
              "19734         6.0  \n",
              "20496         NaN  \n",
              "\n",
              "[45 rows x 36 columns]"
            ],
            "text/html": [
              "\n",
              "  <div id=\"df-eb81cf50-fba1-4312-94f2-5d96dda20cc5\" class=\"colab-df-container\">\n",
              "    <div>\n",
              "<style scoped>\n",
              "    .dataframe tbody tr th:only-of-type {\n",
              "        vertical-align: middle;\n",
              "    }\n",
              "\n",
              "    .dataframe tbody tr th {\n",
              "        vertical-align: top;\n",
              "    }\n",
              "\n",
              "    .dataframe thead th {\n",
              "        text-align: right;\n",
              "    }\n",
              "</style>\n",
              "<table border=\"1\" class=\"dataframe\">\n",
              "  <thead>\n",
              "    <tr style=\"text-align: right;\">\n",
              "      <th></th>\n",
              "      <th>name_english</th>\n",
              "      <th>name</th>\n",
              "      <th>score</th>\n",
              "      <th>ranked</th>\n",
              "      <th>popularity</th>\n",
              "      <th>members</th>\n",
              "      <th>synopsis</th>\n",
              "      <th>synonyms</th>\n",
              "      <th>type_of</th>\n",
              "      <th>total_episodes</th>\n",
              "      <th>...</th>\n",
              "      <th>scored_10_by</th>\n",
              "      <th>scored_9_by</th>\n",
              "      <th>scored_8_by</th>\n",
              "      <th>scored_7_by</th>\n",
              "      <th>scored_6_by</th>\n",
              "      <th>scored_5_by</th>\n",
              "      <th>scored_4_by</th>\n",
              "      <th>scored_3_by</th>\n",
              "      <th>scored_2_by</th>\n",
              "      <th>scored_1_by</th>\n",
              "    </tr>\n",
              "  </thead>\n",
              "  <tbody>\n",
              "    <tr>\n",
              "      <th>545</th>\n",
              "      <td>Interstella5555: The 5tory of The 5ecret 5tar ...</td>\n",
              "      <td>Interstella5555: The 5tory of The 5ecret 5tar ...</td>\n",
              "      <td>8.13</td>\n",
              "      <td>456</td>\n",
              "      <td>2492</td>\n",
              "      <td>73959</td>\n",
              "      <td>This musical film is the visual realization of...</td>\n",
              "      <td>Interstellar 5555</td>\n",
              "      <td>Movie</td>\n",
              "      <td>1.0</td>\n",
              "      <td>...</td>\n",
              "      <td>9592.0</td>\n",
              "      <td>8978.0</td>\n",
              "      <td>11882.0</td>\n",
              "      <td>8059.0</td>\n",
              "      <td>3241.0</td>\n",
              "      <td>1316.0</td>\n",
              "      <td>353.0</td>\n",
              "      <td>130.0</td>\n",
              "      <td>77.0</td>\n",
              "      <td>107.0</td>\n",
              "    </tr>\n",
              "    <tr>\n",
              "      <th>2042</th>\n",
              "      <td>Our love has always been 10 centimeters apart.</td>\n",
              "      <td>Itsudatte Bokura no Koi wa 10 cm Datta.</td>\n",
              "      <td>7.46</td>\n",
              "      <td>2001</td>\n",
              "      <td>1051</td>\n",
              "      <td>229989</td>\n",
              "      <td>Miou Aida and Haruki Serizawa might seem like ...</td>\n",
              "      <td>いつだって僕らの恋は10センチだった。</td>\n",
              "      <td>TV</td>\n",
              "      <td>6.0</td>\n",
              "      <td>...</td>\n",
              "      <td>8312.0</td>\n",
              "      <td>11979.0</td>\n",
              "      <td>25300.0</td>\n",
              "      <td>27425.0</td>\n",
              "      <td>12050.0</td>\n",
              "      <td>5097.0</td>\n",
              "      <td>1556.0</td>\n",
              "      <td>676.0</td>\n",
              "      <td>265.0</td>\n",
              "      <td>221.0</td>\n",
              "    </tr>\n",
              "    <tr>\n",
              "      <th>2154</th>\n",
              "      <td>Kono Sekai no Tanoshimikata: Secret Story Film</td>\n",
              "      <td>Kono Sekai no Tanoshimikata: Secret Story Film</td>\n",
              "      <td>7.42</td>\n",
              "      <td>2138</td>\n",
              "      <td>8884</td>\n",
              "      <td>4321</td>\n",
              "      <td>An anime movie based on HoneyWorks' LIPxLIP vi...</td>\n",
              "      <td>HoneyWorks 10th Anniversary \"Lip×Lip Film×Live\"</td>\n",
              "      <td>Movie</td>\n",
              "      <td>1.0</td>\n",
              "      <td>...</td>\n",
              "      <td>133.0</td>\n",
              "      <td>106.0</td>\n",
              "      <td>146.0</td>\n",
              "      <td>185.0</td>\n",
              "      <td>100.0</td>\n",
              "      <td>30.0</td>\n",
              "      <td>15.0</td>\n",
              "      <td>8.0</td>\n",
              "      <td>4.0</td>\n",
              "      <td>9.0</td>\n",
              "    </tr>\n",
              "    <tr>\n",
              "      <th>3220</th>\n",
              "      <td>Heroines Run the Show: The Unpopular Girl and ...</td>\n",
              "      <td>Heroine Tarumono! Kiraware Heroine to Naisho n...</td>\n",
              "      <td>7.28</td>\n",
              "      <td>2822</td>\n",
              "      <td>2641</td>\n",
              "      <td>67171</td>\n",
              "      <td>Freshly graduating middle school, energetic 15...</td>\n",
              "      <td>To Become a Real Heroine!</td>\n",
              "      <td>TV</td>\n",
              "      <td>12.0</td>\n",
              "      <td>...</td>\n",
              "      <td>1760.0</td>\n",
              "      <td>2447.0</td>\n",
              "      <td>5990.0</td>\n",
              "      <td>8155.0</td>\n",
              "      <td>3633.0</td>\n",
              "      <td>1546.0</td>\n",
              "      <td>585.0</td>\n",
              "      <td>181.0</td>\n",
              "      <td>86.0</td>\n",
              "      <td>108.0</td>\n",
              "    </tr>\n",
              "    <tr>\n",
              "      <th>3628</th>\n",
              "      <td>I've Always Liked You</td>\n",
              "      <td>Zutto Mae kara Suki deshita. Kokuhaku Jikkou I...</td>\n",
              "      <td>7.21</td>\n",
              "      <td>3214</td>\n",
              "      <td>1032</td>\n",
              "      <td>232749</td>\n",
              "      <td>Love is blooming at Sakuragaoka High School. N...</td>\n",
              "      <td>HoneyWorks: I've Liked You Since Long Ago, I'v...</td>\n",
              "      <td>Movie</td>\n",
              "      <td>1.0</td>\n",
              "      <td>...</td>\n",
              "      <td>7041.0</td>\n",
              "      <td>10053.0</td>\n",
              "      <td>23343.0</td>\n",
              "      <td>32500.0</td>\n",
              "      <td>15102.0</td>\n",
              "      <td>6710.0</td>\n",
              "      <td>2130.0</td>\n",
              "      <td>959.0</td>\n",
              "      <td>451.0</td>\n",
              "      <td>340.0</td>\n",
              "    </tr>\n",
              "    <tr>\n",
              "      <th>3784</th>\n",
              "      <td>I've Always Liked You: A Friday's Good Morning</td>\n",
              "      <td>Zutto Mae kara Suki deshita. Kokuhaku Jikkou I...</td>\n",
              "      <td>7.17</td>\n",
              "      <td>3459</td>\n",
              "      <td>4412</td>\n",
              "      <td>24904</td>\n",
              "      <td>A picture drama special bundled with the BD/DV...</td>\n",
              "      <td>I've Always Liked You Picture Drama Special, H...</td>\n",
              "      <td>Special</td>\n",
              "      <td>1.0</td>\n",
              "      <td>...</td>\n",
              "      <td>855.0</td>\n",
              "      <td>802.0</td>\n",
              "      <td>1836.0</td>\n",
              "      <td>2952.0</td>\n",
              "      <td>1683.0</td>\n",
              "      <td>686.0</td>\n",
              "      <td>162.0</td>\n",
              "      <td>77.0</td>\n",
              "      <td>27.0</td>\n",
              "      <td>44.0</td>\n",
              "    </tr>\n",
              "    <tr>\n",
              "      <th>4367</th>\n",
              "      <td>The Moment You Fall in Love</td>\n",
              "      <td>Suki ni Naru Sono Shunkan wo. Kokuhaku Jikkou ...</td>\n",
              "      <td>7.04</td>\n",
              "      <td>4075</td>\n",
              "      <td>1850</td>\n",
              "      <td>116668</td>\n",
              "      <td>Following Natsuki Enomoto's confession rehears...</td>\n",
              "      <td>HoneyWorks: Kokuhaku Jikkou Iinkai</td>\n",
              "      <td>Movie</td>\n",
              "      <td>1.0</td>\n",
              "      <td>...</td>\n",
              "      <td>3161.0</td>\n",
              "      <td>4063.0</td>\n",
              "      <td>9839.0</td>\n",
              "      <td>16168.0</td>\n",
              "      <td>8401.0</td>\n",
              "      <td>3777.0</td>\n",
              "      <td>1339.0</td>\n",
              "      <td>564.0</td>\n",
              "      <td>297.0</td>\n",
              "      <td>202.0</td>\n",
              "    </tr>\n",
              "    <tr>\n",
              "      <th>4489</th>\n",
              "      <td>UniteUp!</td>\n",
              "      <td>UniteUp!</td>\n",
              "      <td>7.03</td>\n",
              "      <td>4153</td>\n",
              "      <td>6528</td>\n",
              "      <td>9457</td>\n",
              "      <td>Akira Kiyose, a high schooler who loves to sin...</td>\n",
              "      <td>UniteUp!</td>\n",
              "      <td>TV</td>\n",
              "      <td>12.0</td>\n",
              "      <td>...</td>\n",
              "      <td>294.0</td>\n",
              "      <td>257.0</td>\n",
              "      <td>529.0</td>\n",
              "      <td>746.0</td>\n",
              "      <td>493.0</td>\n",
              "      <td>309.0</td>\n",
              "      <td>103.0</td>\n",
              "      <td>48.0</td>\n",
              "      <td>28.0</td>\n",
              "      <td>61.0</td>\n",
              "    </tr>\n",
              "    <tr>\n",
              "      <th>5113</th>\n",
              "      <td>TSUKIUTA. The Animation</td>\n",
              "      <td>Tsukiuta. The Animation</td>\n",
              "      <td>6.90</td>\n",
              "      <td>4728</td>\n",
              "      <td>4202</td>\n",
              "      <td>27603</td>\n",
              "      <td>Tsukino Talent Productions is home to two up-a...</td>\n",
              "      <td>Tsukiani.</td>\n",
              "      <td>TV</td>\n",
              "      <td>13.0</td>\n",
              "      <td>...</td>\n",
              "      <td>812.0</td>\n",
              "      <td>758.0</td>\n",
              "      <td>1325.0</td>\n",
              "      <td>2133.0</td>\n",
              "      <td>1589.0</td>\n",
              "      <td>1008.0</td>\n",
              "      <td>378.0</td>\n",
              "      <td>214.0</td>\n",
              "      <td>118.0</td>\n",
              "      <td>137.0</td>\n",
              "    </tr>\n",
              "    <tr>\n",
              "      <th>5185</th>\n",
              "      <td>Massara</td>\n",
              "      <td>Massara</td>\n",
              "      <td>6.87</td>\n",
              "      <td>4857</td>\n",
              "      <td>10665</td>\n",
              "      <td>2396</td>\n",
              "      <td>is an original short inspired from the song of...</td>\n",
              "      <td>まっさら</td>\n",
              "      <td>ONA</td>\n",
              "      <td>1.0</td>\n",
              "      <td>...</td>\n",
              "      <td>66.0</td>\n",
              "      <td>94.0</td>\n",
              "      <td>209.0</td>\n",
              "      <td>436.0</td>\n",
              "      <td>266.0</td>\n",
              "      <td>134.0</td>\n",
              "      <td>24.0</td>\n",
              "      <td>8.0</td>\n",
              "      <td>2.0</td>\n",
              "      <td>5.0</td>\n",
              "    </tr>\n",
              "    <tr>\n",
              "      <th>5253</th>\n",
              "      <td>Nana's Secret Garden</td>\n",
              "      <td>Himitsu no Hana no Niwa</td>\n",
              "      <td>6.85</td>\n",
              "      <td>4989</td>\n",
              "      <td>13094</td>\n",
              "      <td>1083</td>\n",
              "      <td>The music film is a part of TOHO animation's 1...</td>\n",
              "      <td>秘密のはなの庭</td>\n",
              "      <td>ONA</td>\n",
              "      <td>1.0</td>\n",
              "      <td>...</td>\n",
              "      <td>30.0</td>\n",
              "      <td>59.0</td>\n",
              "      <td>91.0</td>\n",
              "      <td>148.0</td>\n",
              "      <td>119.0</td>\n",
              "      <td>42.0</td>\n",
              "      <td>10.0</td>\n",
              "      <td>7.0</td>\n",
              "      <td>3.0</td>\n",
              "      <td>4.0</td>\n",
              "    </tr>\n",
              "    <tr>\n",
              "      <th>6164</th>\n",
              "      <td>MARGINAL #4 the Animation</td>\n",
              "      <td>Marginal#4: Kiss kara Tsukuru Big Bang</td>\n",
              "      <td>6.67</td>\n",
              "      <td>5877</td>\n",
              "      <td>5204</td>\n",
              "      <td>16685</td>\n",
              "      <td>The freshly debuted idol group Marginal#4 drea...</td>\n",
              "      <td>MARGINAL#4 KISSから創造るBig Bang</td>\n",
              "      <td>TV</td>\n",
              "      <td>12.0</td>\n",
              "      <td>...</td>\n",
              "      <td>464.0</td>\n",
              "      <td>373.0</td>\n",
              "      <td>730.0</td>\n",
              "      <td>1275.0</td>\n",
              "      <td>1015.0</td>\n",
              "      <td>714.0</td>\n",
              "      <td>373.0</td>\n",
              "      <td>160.0</td>\n",
              "      <td>92.0</td>\n",
              "      <td>110.0</td>\n",
              "    </tr>\n",
              "    <tr>\n",
              "      <th>6267</th>\n",
              "      <td>Tsukiuta. The Animation 2</td>\n",
              "      <td>Tsukiuta. The Animation 2</td>\n",
              "      <td>6.66</td>\n",
              "      <td>5974</td>\n",
              "      <td>7061</td>\n",
              "      <td>7798</td>\n",
              "      <td>Six Gravity and Procellarum, Tsukino Talent Pr...</td>\n",
              "      <td>Tsukiuta. The Animation Second Season, Tsukian...</td>\n",
              "      <td>TV</td>\n",
              "      <td>13.0</td>\n",
              "      <td>...</td>\n",
              "      <td>165.0</td>\n",
              "      <td>131.0</td>\n",
              "      <td>223.0</td>\n",
              "      <td>418.0</td>\n",
              "      <td>358.0</td>\n",
              "      <td>223.0</td>\n",
              "      <td>98.0</td>\n",
              "      <td>53.0</td>\n",
              "      <td>24.0</td>\n",
              "      <td>43.0</td>\n",
              "    </tr>\n",
              "    <tr>\n",
              "      <th>7049</th>\n",
              "      <td>Immemorial Love For You 2nd Season</td>\n",
              "      <td>Ai Zai Xiyuan Qian 2nd Season</td>\n",
              "      <td>6.51</td>\n",
              "      <td>6791</td>\n",
              "      <td>11793</td>\n",
              "      <td>1637</td>\n",
              "      <td>Second season of .</td>\n",
              "      <td>爱在西元前 第二季</td>\n",
              "      <td>ONA</td>\n",
              "      <td>16.0</td>\n",
              "      <td>...</td>\n",
              "      <td>23.0</td>\n",
              "      <td>18.0</td>\n",
              "      <td>13.0</td>\n",
              "      <td>37.0</td>\n",
              "      <td>23.0</td>\n",
              "      <td>15.0</td>\n",
              "      <td>5.0</td>\n",
              "      <td>5.0</td>\n",
              "      <td>6.0</td>\n",
              "      <td>6.0</td>\n",
              "    </tr>\n",
              "    <tr>\n",
              "      <th>8157</th>\n",
              "      <td>Airy Me</td>\n",
              "      <td>Airy Me</td>\n",
              "      <td>6.32</td>\n",
              "      <td>7883</td>\n",
              "      <td>8294</td>\n",
              "      <td>5244</td>\n",
              "      <td>A test subject is administered daily medicatio...</td>\n",
              "      <td>Airy Me</td>\n",
              "      <td>Movie</td>\n",
              "      <td>1.0</td>\n",
              "      <td>...</td>\n",
              "      <td>165.0</td>\n",
              "      <td>158.0</td>\n",
              "      <td>388.0</td>\n",
              "      <td>629.0</td>\n",
              "      <td>663.0</td>\n",
              "      <td>432.0</td>\n",
              "      <td>168.0</td>\n",
              "      <td>95.0</td>\n",
              "      <td>74.0</td>\n",
              "      <td>61.0</td>\n",
              "    </tr>\n",
              "    <tr>\n",
              "      <th>8426</th>\n",
              "      <td>Actors: Songs Connection</td>\n",
              "      <td>Actors: Songs Connection</td>\n",
              "      <td>6.30</td>\n",
              "      <td>8013</td>\n",
              "      <td>5014</td>\n",
              "      <td>18458</td>\n",
              "      <td>Tensho School is located in the 7th Ward of Th...</td>\n",
              "      <td>ACTORS -Songs Connection-</td>\n",
              "      <td>TV</td>\n",
              "      <td>12.0</td>\n",
              "      <td>...</td>\n",
              "      <td>376.0</td>\n",
              "      <td>326.0</td>\n",
              "      <td>644.0</td>\n",
              "      <td>1187.0</td>\n",
              "      <td>1203.0</td>\n",
              "      <td>951.0</td>\n",
              "      <td>489.0</td>\n",
              "      <td>264.0</td>\n",
              "      <td>138.0</td>\n",
              "      <td>119.0</td>\n",
              "    </tr>\n",
              "    <tr>\n",
              "      <th>8455</th>\n",
              "      <td>Ai Zai Xiyuan Qian</td>\n",
              "      <td>Ai Zai Xiyuan Qian</td>\n",
              "      <td>6.27</td>\n",
              "      <td>8188</td>\n",
              "      <td>10625</td>\n",
              "      <td>2422</td>\n",
              "      <td>Some aliens come to the Earth and one of them,...</td>\n",
              "      <td>Immemorial Love For You</td>\n",
              "      <td>ONA</td>\n",
              "      <td>12.0</td>\n",
              "      <td>...</td>\n",
              "      <td>28.0</td>\n",
              "      <td>18.0</td>\n",
              "      <td>29.0</td>\n",
              "      <td>65.0</td>\n",
              "      <td>53.0</td>\n",
              "      <td>35.0</td>\n",
              "      <td>15.0</td>\n",
              "      <td>11.0</td>\n",
              "      <td>11.0</td>\n",
              "      <td>12.0</td>\n",
              "    </tr>\n",
              "    <tr>\n",
              "      <th>9103</th>\n",
              "      <td>UniteUp! Let's Look Back &amp; Unite</td>\n",
              "      <td>UniteUp! Furikaeranai to</td>\n",
              "      <td>6.14</td>\n",
              "      <td>8836</td>\n",
              "      <td>14385</td>\n",
              "      <td>757</td>\n",
              "      <td>Recap of the first 8 episodes of</td>\n",
              "      <td>UniteUp! Recap, UniteUp! Episode 8.5</td>\n",
              "      <td>TV Special</td>\n",
              "      <td>1.0</td>\n",
              "      <td>...</td>\n",
              "      <td>23.0</td>\n",
              "      <td>4.0</td>\n",
              "      <td>15.0</td>\n",
              "      <td>41.0</td>\n",
              "      <td>59.0</td>\n",
              "      <td>40.0</td>\n",
              "      <td>15.0</td>\n",
              "      <td>1.0</td>\n",
              "      <td>1.0</td>\n",
              "      <td>6.0</td>\n",
              "    </tr>\n",
              "    <tr>\n",
              "      <th>9327</th>\n",
              "      <td>Urashimasakatasen no Nichijou Special</td>\n",
              "      <td>Urashimasakatasen no Nichijou Special</td>\n",
              "      <td>6.11</td>\n",
              "      <td>9012</td>\n",
              "      <td>13696</td>\n",
              "      <td>920</td>\n",
              "      <td>Unaired episode of included in the DVD release.</td>\n",
              "      <td>Urashimasakatasen no Nichijou Episode 13, Days...</td>\n",
              "      <td>Special</td>\n",
              "      <td>1.0</td>\n",
              "      <td>...</td>\n",
              "      <td>33.0</td>\n",
              "      <td>8.0</td>\n",
              "      <td>9.0</td>\n",
              "      <td>36.0</td>\n",
              "      <td>62.0</td>\n",
              "      <td>44.0</td>\n",
              "      <td>16.0</td>\n",
              "      <td>2.0</td>\n",
              "      <td>9.0</td>\n",
              "      <td>16.0</td>\n",
              "    </tr>\n",
              "    <tr>\n",
              "      <th>9462</th>\n",
              "      <td>Urashimasakatasen no Nichijou</td>\n",
              "      <td>Urashimasakatasen no Nichijou</td>\n",
              "      <td>6.10</td>\n",
              "      <td>9077</td>\n",
              "      <td>7855</td>\n",
              "      <td>5971</td>\n",
              "      <td>The anime centers on the members of the real-w...</td>\n",
              "      <td>Days of Urashimasakatasen</td>\n",
              "      <td>TV</td>\n",
              "      <td>12.0</td>\n",
              "      <td>...</td>\n",
              "      <td>215.0</td>\n",
              "      <td>140.0</td>\n",
              "      <td>242.0</td>\n",
              "      <td>502.0</td>\n",
              "      <td>612.0</td>\n",
              "      <td>599.0</td>\n",
              "      <td>250.0</td>\n",
              "      <td>137.0</td>\n",
              "      <td>82.0</td>\n",
              "      <td>107.0</td>\n",
              "    </tr>\n",
              "    <tr>\n",
              "      <th>9552</th>\n",
              "      <td>Hajimete no Futarikkiri Ryokou</td>\n",
              "      <td>Hajimete no Futarikkiri Ryokou</td>\n",
              "      <td>6.08</td>\n",
              "      <td>9186</td>\n",
              "      <td>12698</td>\n",
              "      <td>1214</td>\n",
              "      <td>A short animation released with the limited ed...</td>\n",
              "      <td>First Trip Alone</td>\n",
              "      <td>OVA</td>\n",
              "      <td>1.0</td>\n",
              "      <td>...</td>\n",
              "      <td>10.0</td>\n",
              "      <td>10.0</td>\n",
              "      <td>33.0</td>\n",
              "      <td>34.0</td>\n",
              "      <td>21.0</td>\n",
              "      <td>11.0</td>\n",
              "      <td>2.0</td>\n",
              "      <td>1.0</td>\n",
              "      <td>1.0</td>\n",
              "      <td>NaN</td>\n",
              "    </tr>\n",
              "    <tr>\n",
              "      <th>9589</th>\n",
              "      <td>Kinpatsu no Jeanie</td>\n",
              "      <td>Kinpatsu no Jeanie</td>\n",
              "      <td>6.05</td>\n",
              "      <td>9350</td>\n",
              "      <td>12506</td>\n",
              "      <td>1290</td>\n",
              "      <td>During the civil war a girl living in Virginia...</td>\n",
              "      <td>Kinpatsu no Jenny, Blonde Jeanie, Jeanie with ...</td>\n",
              "      <td>TV</td>\n",
              "      <td>13.0</td>\n",
              "      <td>...</td>\n",
              "      <td>23.0</td>\n",
              "      <td>8.0</td>\n",
              "      <td>28.0</td>\n",
              "      <td>49.0</td>\n",
              "      <td>66.0</td>\n",
              "      <td>54.0</td>\n",
              "      <td>21.0</td>\n",
              "      <td>7.0</td>\n",
              "      <td>9.0</td>\n",
              "      <td>15.0</td>\n",
              "    </tr>\n",
              "    <tr>\n",
              "      <th>10240</th>\n",
              "      <td>\"LIP×LIP\" Interview Report by Hiyori Suzumi!</td>\n",
              "      <td>Suzumi Hiyori no \"LIP×LIP\" Shuzai Report!</td>\n",
              "      <td>5.90</td>\n",
              "      <td>9996</td>\n",
              "      <td>16075</td>\n",
              "      <td>494</td>\n",
              "      <td>An animated short bundled with first limited e...</td>\n",
              "      <td>涼海ひよりの『LIP×LIP』取材リポート！</td>\n",
              "      <td>OVA</td>\n",
              "      <td>1.0</td>\n",
              "      <td>...</td>\n",
              "      <td>18.0</td>\n",
              "      <td>2.0</td>\n",
              "      <td>10.0</td>\n",
              "      <td>16.0</td>\n",
              "      <td>40.0</td>\n",
              "      <td>27.0</td>\n",
              "      <td>10.0</td>\n",
              "      <td>7.0</td>\n",
              "      <td>3.0</td>\n",
              "      <td>4.0</td>\n",
              "    </tr>\n",
              "    <tr>\n",
              "      <th>10264</th>\n",
              "      <td>Santa Tell Me</td>\n",
              "      <td>Santa Tell Me</td>\n",
              "      <td>5.91</td>\n",
              "      <td>9972</td>\n",
              "      <td>20046</td>\n",
              "      <td>214</td>\n",
              "      <td>A collaboration between and Ariana Grande feat...</td>\n",
              "      <td>サンタ・テル・ミー</td>\n",
              "      <td>ONA</td>\n",
              "      <td>1.0</td>\n",
              "      <td>...</td>\n",
              "      <td>15.0</td>\n",
              "      <td>2.0</td>\n",
              "      <td>1.0</td>\n",
              "      <td>16.0</td>\n",
              "      <td>23.0</td>\n",
              "      <td>26.0</td>\n",
              "      <td>12.0</td>\n",
              "      <td>3.0</td>\n",
              "      <td>2.0</td>\n",
              "      <td>5.0</td>\n",
              "    </tr>\n",
              "    <tr>\n",
              "      <th>10913</th>\n",
              "      <td>The Epic Of ZektBach</td>\n",
              "      <td>The Epic Of ZektBach</td>\n",
              "      <td>5.78</td>\n",
              "      <td>10522</td>\n",
              "      <td>8947</td>\n",
              "      <td>4230</td>\n",
              "      <td>The story begins when the kingdom of Noigllado...</td>\n",
              "      <td>The Epic Of ZektBach: Daiisshou: Shamshir no M...</td>\n",
              "      <td>OVA</td>\n",
              "      <td>1.0</td>\n",
              "      <td>...</td>\n",
              "      <td>55.0</td>\n",
              "      <td>66.0</td>\n",
              "      <td>168.0</td>\n",
              "      <td>456.0</td>\n",
              "      <td>553.0</td>\n",
              "      <td>392.0</td>\n",
              "      <td>218.0</td>\n",
              "      <td>121.0</td>\n",
              "      <td>68.0</td>\n",
              "      <td>50.0</td>\n",
              "    </tr>\n",
              "    <tr>\n",
              "      <th>10969</th>\n",
              "      <td>Heroines Run the Show: The Unpopular Girl and ...</td>\n",
              "      <td>Heroine Tarumono! Kiraware Heroine to Naisho n...</td>\n",
              "      <td>5.75</td>\n",
              "      <td>10667</td>\n",
              "      <td>13132</td>\n",
              "      <td>1073</td>\n",
              "      <td>Mini anime for released on the official Twitter.</td>\n",
              "      <td>ヒロインたるもの！〜嫌われヒロインと内緒のお仕事〜 ミニアニメ</td>\n",
              "      <td>ONA</td>\n",
              "      <td>6.0</td>\n",
              "      <td>...</td>\n",
              "      <td>24.0</td>\n",
              "      <td>8.0</td>\n",
              "      <td>10.0</td>\n",
              "      <td>39.0</td>\n",
              "      <td>69.0</td>\n",
              "      <td>69.0</td>\n",
              "      <td>22.0</td>\n",
              "      <td>10.0</td>\n",
              "      <td>10.0</td>\n",
              "      <td>10.0</td>\n",
              "    </tr>\n",
              "    <tr>\n",
              "      <th>11069</th>\n",
              "      <td>How to Enjoy this World Mini Anime</td>\n",
              "      <td>HoneyWorks 10th Anniversary \"LIP×LIP FILM×LIVE...</td>\n",
              "      <td>5.72</td>\n",
              "      <td>10767</td>\n",
              "      <td>15475</td>\n",
              "      <td>561</td>\n",
              "      <td>A mini anime to promote the HoneyWorks 10th An...</td>\n",
              "      <td>Kono Sekai no Tanoshimikata: Secret Story Film...</td>\n",
              "      <td>ONA</td>\n",
              "      <td>3.0</td>\n",
              "      <td>...</td>\n",
              "      <td>25.0</td>\n",
              "      <td>3.0</td>\n",
              "      <td>11.0</td>\n",
              "      <td>16.0</td>\n",
              "      <td>37.0</td>\n",
              "      <td>45.0</td>\n",
              "      <td>13.0</td>\n",
              "      <td>9.0</td>\n",
              "      <td>6.0</td>\n",
              "      <td>10.0</td>\n",
              "    </tr>\n",
              "    <tr>\n",
              "      <th>11834</th>\n",
              "      <td>Tosca</td>\n",
              "      <td>Tosca</td>\n",
              "      <td>5.56</td>\n",
              "      <td>11401</td>\n",
              "      <td>18496</td>\n",
              "      <td>301</td>\n",
              "      <td>Based on an old Russian folk song. This short ...</td>\n",
              "      <td>Tosca</td>\n",
              "      <td>Movie</td>\n",
              "      <td>1.0</td>\n",
              "      <td>...</td>\n",
              "      <td>13.0</td>\n",
              "      <td>2.0</td>\n",
              "      <td>3.0</td>\n",
              "      <td>23.0</td>\n",
              "      <td>30.0</td>\n",
              "      <td>27.0</td>\n",
              "      <td>19.0</td>\n",
              "      <td>15.0</td>\n",
              "      <td>7.0</td>\n",
              "      <td>10.0</td>\n",
              "    </tr>\n",
              "    <tr>\n",
              "      <th>12108</th>\n",
              "      <td>Vazzrock the Animation</td>\n",
              "      <td>Vazzrock The Animation</td>\n",
              "      <td>5.46</td>\n",
              "      <td>11727</td>\n",
              "      <td>7454</td>\n",
              "      <td>6801</td>\n",
              "      <td>VAZZY and ROCK DOWN are the two units that mak...</td>\n",
              "      <td>VAZZROCK THE ANIMATION</td>\n",
              "      <td>TV</td>\n",
              "      <td>13.0</td>\n",
              "      <td>...</td>\n",
              "      <td>68.0</td>\n",
              "      <td>30.0</td>\n",
              "      <td>53.0</td>\n",
              "      <td>126.0</td>\n",
              "      <td>153.0</td>\n",
              "      <td>214.0</td>\n",
              "      <td>162.0</td>\n",
              "      <td>143.0</td>\n",
              "      <td>101.0</td>\n",
              "      <td>121.0</td>\n",
              "    </tr>\n",
              "    <tr>\n",
              "      <th>12438</th>\n",
              "      <td>Dream of a Snowy Night</td>\n",
              "      <td>Yuki no Yoru no Yume</td>\n",
              "      <td>5.28</td>\n",
              "      <td>12199</td>\n",
              "      <td>15236</td>\n",
              "      <td>596</td>\n",
              "      <td>A young girl wanders outside on a snowy night,...</td>\n",
              "      <td>雪の夜の夢</td>\n",
              "      <td>Movie</td>\n",
              "      <td>1.0</td>\n",
              "      <td>...</td>\n",
              "      <td>14.0</td>\n",
              "      <td>2.0</td>\n",
              "      <td>8.0</td>\n",
              "      <td>20.0</td>\n",
              "      <td>37.0</td>\n",
              "      <td>63.0</td>\n",
              "      <td>48.0</td>\n",
              "      <td>15.0</td>\n",
              "      <td>48.0</td>\n",
              "      <td>22.0</td>\n",
              "    </tr>\n",
              "    <tr>\n",
              "      <th>12458</th>\n",
              "      <td>Bottom Biting Bug 2</td>\n",
              "      <td>Oshiri Kajiri Mushi (TV) 2nd Season</td>\n",
              "      <td>5.28</td>\n",
              "      <td>12179</td>\n",
              "      <td>13998</td>\n",
              "      <td>850</td>\n",
              "      <td>Continuation of the gag comedy about Oshiri Ka...</td>\n",
              "      <td>おしりかじり虫　第２シリーズ</td>\n",
              "      <td>TV</td>\n",
              "      <td>32.0</td>\n",
              "      <td>...</td>\n",
              "      <td>18.0</td>\n",
              "      <td>5.0</td>\n",
              "      <td>22.0</td>\n",
              "      <td>51.0</td>\n",
              "      <td>52.0</td>\n",
              "      <td>70.0</td>\n",
              "      <td>34.0</td>\n",
              "      <td>31.0</td>\n",
              "      <td>33.0</td>\n",
              "      <td>23.0</td>\n",
              "    </tr>\n",
              "    <tr>\n",
              "      <th>12568</th>\n",
              "      <td>The Baby Birds of Norman McLaren</td>\n",
              "      <td>The Baby Birds of Norman McLaren</td>\n",
              "      <td>5.24</td>\n",
              "      <td>12269</td>\n",
              "      <td>14737</td>\n",
              "      <td>676</td>\n",
              "      <td>Celebrating the 100th year of birth of Norman ...</td>\n",
              "      <td>The Baby Birds of Norman McLaren</td>\n",
              "      <td>Movie</td>\n",
              "      <td>1.0</td>\n",
              "      <td>...</td>\n",
              "      <td>16.0</td>\n",
              "      <td>6.0</td>\n",
              "      <td>13.0</td>\n",
              "      <td>30.0</td>\n",
              "      <td>77.0</td>\n",
              "      <td>91.0</td>\n",
              "      <td>41.0</td>\n",
              "      <td>47.0</td>\n",
              "      <td>18.0</td>\n",
              "      <td>27.0</td>\n",
              "    </tr>\n",
              "    <tr>\n",
              "      <th>12616</th>\n",
              "      <td>Scandal</td>\n",
              "      <td>Scandal</td>\n",
              "      <td>5.27</td>\n",
              "      <td>12220</td>\n",
              "      <td>11256</td>\n",
              "      <td>1988</td>\n",
              "      <td>Twelve 1-minute fictional shorts about the rea...</td>\n",
              "      <td>Scandal anime</td>\n",
              "      <td>ONA</td>\n",
              "      <td>12.0</td>\n",
              "      <td>...</td>\n",
              "      <td>47.0</td>\n",
              "      <td>23.0</td>\n",
              "      <td>40.0</td>\n",
              "      <td>104.0</td>\n",
              "      <td>175.0</td>\n",
              "      <td>213.0</td>\n",
              "      <td>102.0</td>\n",
              "      <td>82.0</td>\n",
              "      <td>61.0</td>\n",
              "      <td>63.0</td>\n",
              "    </tr>\n",
              "    <tr>\n",
              "      <th>12688</th>\n",
              "      <td>Bottom Biting Bug 4</td>\n",
              "      <td>Oshiri Kajiri Mushi (TV) 4th Season</td>\n",
              "      <td>5.21</td>\n",
              "      <td>12348</td>\n",
              "      <td>14947</td>\n",
              "      <td>640</td>\n",
              "      <td>A gag comedy about Oshiri Kajiri Mushi XVIII, ...</td>\n",
              "      <td>おしりかじり虫　第４シリーズ</td>\n",
              "      <td>TV</td>\n",
              "      <td>10.0</td>\n",
              "      <td>...</td>\n",
              "      <td>20.0</td>\n",
              "      <td>7.0</td>\n",
              "      <td>8.0</td>\n",
              "      <td>20.0</td>\n",
              "      <td>39.0</td>\n",
              "      <td>50.0</td>\n",
              "      <td>31.0</td>\n",
              "      <td>23.0</td>\n",
              "      <td>21.0</td>\n",
              "      <td>25.0</td>\n",
              "    </tr>\n",
              "    <tr>\n",
              "      <th>12786</th>\n",
              "      <td>Bottom Biting Bug 3</td>\n",
              "      <td>Oshiri Kajiri Mushi (TV) 3rd Season</td>\n",
              "      <td>5.14</td>\n",
              "      <td>12450</td>\n",
              "      <td>14465</td>\n",
              "      <td>739</td>\n",
              "      <td>A gag comedy about Oshiri Kajiri Mushi XVIII, ...</td>\n",
              "      <td>おしりかじり虫　第３シリーズ</td>\n",
              "      <td>TV</td>\n",
              "      <td>10.0</td>\n",
              "      <td>...</td>\n",
              "      <td>17.0</td>\n",
              "      <td>1.0</td>\n",
              "      <td>16.0</td>\n",
              "      <td>32.0</td>\n",
              "      <td>39.0</td>\n",
              "      <td>62.0</td>\n",
              "      <td>36.0</td>\n",
              "      <td>30.0</td>\n",
              "      <td>26.0</td>\n",
              "      <td>26.0</td>\n",
              "    </tr>\n",
              "    <tr>\n",
              "      <th>13014</th>\n",
              "      <td>Bottom Biting Bug</td>\n",
              "      <td>Oshiri Kajiri Mushi (TV)</td>\n",
              "      <td>5.02</td>\n",
              "      <td>12621</td>\n",
              "      <td>12039</td>\n",
              "      <td>1507</td>\n",
              "      <td>A gag comedy about Oshiri Kajiri Mushi XVIII, ...</td>\n",
              "      <td>おしりかじり虫</td>\n",
              "      <td>TV</td>\n",
              "      <td>20.0</td>\n",
              "      <td>...</td>\n",
              "      <td>25.0</td>\n",
              "      <td>4.0</td>\n",
              "      <td>26.0</td>\n",
              "      <td>81.0</td>\n",
              "      <td>95.0</td>\n",
              "      <td>121.0</td>\n",
              "      <td>95.0</td>\n",
              "      <td>69.0</td>\n",
              "      <td>58.0</td>\n",
              "      <td>50.0</td>\n",
              "    </tr>\n",
              "    <tr>\n",
              "      <th>13300</th>\n",
              "      <td>Teienu Theater in Kobe Opening</td>\n",
              "      <td>Teienu Theater in Kobe Opening</td>\n",
              "      <td>4.74</td>\n",
              "      <td>12918</td>\n",
              "      <td>15172</td>\n",
              "      <td>605</td>\n",
              "      <td>The opening video for Nagao Takena's film scre...</td>\n",
              "      <td>ていえぬシアターin神戸 オープニング</td>\n",
              "      <td>Special</td>\n",
              "      <td>1.0</td>\n",
              "      <td>...</td>\n",
              "      <td>11.0</td>\n",
              "      <td>2.0</td>\n",
              "      <td>8.0</td>\n",
              "      <td>17.0</td>\n",
              "      <td>35.0</td>\n",
              "      <td>89.0</td>\n",
              "      <td>61.0</td>\n",
              "      <td>31.0</td>\n",
              "      <td>38.0</td>\n",
              "      <td>51.0</td>\n",
              "    </tr>\n",
              "    <tr>\n",
              "      <th>13383</th>\n",
              "      <td>Begone Bell Care; Begone Dull Care</td>\n",
              "      <td>Shousei Shikisai Gensou</td>\n",
              "      <td>4.35</td>\n",
              "      <td>13136</td>\n",
              "      <td>14475</td>\n",
              "      <td>734</td>\n",
              "      <td>A tribute to Norman McLaren's Begone Dull Care...</td>\n",
              "      <td>Begon Bell Care</td>\n",
              "      <td>Movie</td>\n",
              "      <td>1.0</td>\n",
              "      <td>...</td>\n",
              "      <td>19.0</td>\n",
              "      <td>1.0</td>\n",
              "      <td>5.0</td>\n",
              "      <td>12.0</td>\n",
              "      <td>54.0</td>\n",
              "      <td>86.0</td>\n",
              "      <td>68.0</td>\n",
              "      <td>51.0</td>\n",
              "      <td>59.0</td>\n",
              "      <td>47.0</td>\n",
              "    </tr>\n",
              "    <tr>\n",
              "      <th>13534</th>\n",
              "      <td>Calligraffiti</td>\n",
              "      <td>Calligraffiti</td>\n",
              "      <td>4.12</td>\n",
              "      <td>13184</td>\n",
              "      <td>13771</td>\n",
              "      <td>898</td>\n",
              "      <td>Short animation directed by an illustrator and...</td>\n",
              "      <td>Carigraffiti</td>\n",
              "      <td>Movie</td>\n",
              "      <td>1.0</td>\n",
              "      <td>...</td>\n",
              "      <td>20.0</td>\n",
              "      <td>2.0</td>\n",
              "      <td>1.0</td>\n",
              "      <td>11.0</td>\n",
              "      <td>34.0</td>\n",
              "      <td>75.0</td>\n",
              "      <td>95.0</td>\n",
              "      <td>76.0</td>\n",
              "      <td>56.0</td>\n",
              "      <td>83.0</td>\n",
              "    </tr>\n",
              "    <tr>\n",
              "      <th>14193</th>\n",
              "      <td>Tokio Heidi: Mainichi no Kodomo Uta</td>\n",
              "      <td>Tokio Heidi: Mainichi no Kodomo Uta</td>\n",
              "      <td>N/A</td>\n",
              "      <td>13926</td>\n",
              "      <td>18621</td>\n",
              "      <td>291</td>\n",
              "      <td>A series of animated music videos and short vi...</td>\n",
              "      <td>Tokyo Heidi</td>\n",
              "      <td>ONA</td>\n",
              "      <td>NaN</td>\n",
              "      <td>...</td>\n",
              "      <td>11.0</td>\n",
              "      <td>2.0</td>\n",
              "      <td>5.0</td>\n",
              "      <td>8.0</td>\n",
              "      <td>6.0</td>\n",
              "      <td>5.0</td>\n",
              "      <td>5.0</td>\n",
              "      <td>5.0</td>\n",
              "      <td>NaN</td>\n",
              "      <td>NaN</td>\n",
              "    </tr>\n",
              "    <tr>\n",
              "      <th>15632</th>\n",
              "      <td>Baby Shark's Big Show!</td>\n",
              "      <td>Agisang-eo Ollie wa William</td>\n",
              "      <td>N/A</td>\n",
              "      <td>15387</td>\n",
              "      <td>20929</td>\n",
              "      <td>163</td>\n",
              "      <td>Baby Shark's Big Show! follows Baby Shark and ...</td>\n",
              "      <td>Baby Shark Ollie and William</td>\n",
              "      <td>TV</td>\n",
              "      <td>54.0</td>\n",
              "      <td>...</td>\n",
              "      <td>9.0</td>\n",
              "      <td>1.0</td>\n",
              "      <td>4.0</td>\n",
              "      <td>3.0</td>\n",
              "      <td>2.0</td>\n",
              "      <td>1.0</td>\n",
              "      <td>4.0</td>\n",
              "      <td>NaN</td>\n",
              "      <td>NaN</td>\n",
              "      <td>NaN</td>\n",
              "    </tr>\n",
              "    <tr>\n",
              "      <th>15633</th>\n",
              "      <td>Baby Shark Brooklyn Doo Doo Doo</td>\n",
              "      <td>Agisang-eo Ollie Tululutulu</td>\n",
              "      <td>N/A</td>\n",
              "      <td>15386</td>\n",
              "      <td>21245</td>\n",
              "      <td>148</td>\n",
              "      <td>A massive underwater earthquake sweeps the Sha...</td>\n",
              "      <td>Baby Shark Ollie Doo Doo Doo</td>\n",
              "      <td>TV</td>\n",
              "      <td>12.0</td>\n",
              "      <td>...</td>\n",
              "      <td>10.0</td>\n",
              "      <td>1.0</td>\n",
              "      <td>5.0</td>\n",
              "      <td>5.0</td>\n",
              "      <td>4.0</td>\n",
              "      <td>1.0</td>\n",
              "      <td>1.0</td>\n",
              "      <td>5.0</td>\n",
              "      <td>NaN</td>\n",
              "      <td>NaN</td>\n",
              "    </tr>\n",
              "    <tr>\n",
              "      <th>18281</th>\n",
              "      <td>Kachikachi Yama no Shouboutai</td>\n",
              "      <td>Kachikachi Yama no Shouboutai</td>\n",
              "      <td>N/A</td>\n",
              "      <td>17934</td>\n",
              "      <td>16078</td>\n",
              "      <td>492</td>\n",
              "      <td>A 7-minute short film (monochrome) produced by...</td>\n",
              "      <td>カチカチ山の消防隊</td>\n",
              "      <td>Movie</td>\n",
              "      <td>1.0</td>\n",
              "      <td>...</td>\n",
              "      <td>19.0</td>\n",
              "      <td>1.0</td>\n",
              "      <td>2.0</td>\n",
              "      <td>5.0</td>\n",
              "      <td>13.0</td>\n",
              "      <td>20.0</td>\n",
              "      <td>12.0</td>\n",
              "      <td>2.0</td>\n",
              "      <td>4.0</td>\n",
              "      <td>16.0</td>\n",
              "    </tr>\n",
              "    <tr>\n",
              "      <th>19734</th>\n",
              "      <td>Norimono Atsumare: Hit Song-shuu</td>\n",
              "      <td>Norimono Atsumare: Hit Song-shuu</td>\n",
              "      <td>N/A</td>\n",
              "      <td>19481</td>\n",
              "      <td>20524</td>\n",
              "      <td>186</td>\n",
              "      <td>A compilation of six music videos that were co...</td>\n",
              "      <td>Yahoo! Shinkansen, Kita! Kita! Tokkyuu!, Nani ...</td>\n",
              "      <td>OVA</td>\n",
              "      <td>6.0</td>\n",
              "      <td>...</td>\n",
              "      <td>13.0</td>\n",
              "      <td>1.0</td>\n",
              "      <td>2.0</td>\n",
              "      <td>4.0</td>\n",
              "      <td>2.0</td>\n",
              "      <td>7.0</td>\n",
              "      <td>4.0</td>\n",
              "      <td>7.0</td>\n",
              "      <td>4.0</td>\n",
              "      <td>6.0</td>\n",
              "    </tr>\n",
              "    <tr>\n",
              "      <th>20496</th>\n",
              "      <td>Romeo: Music Video Making</td>\n",
              "      <td>Romeo: Music Video Making</td>\n",
              "      <td>N/A</td>\n",
              "      <td>20118</td>\n",
              "      <td>17575</td>\n",
              "      <td>368</td>\n",
              "      <td>A short animation released with the limited ed...</td>\n",
              "      <td>Romeo MVM</td>\n",
              "      <td>OVA</td>\n",
              "      <td>1.0</td>\n",
              "      <td>...</td>\n",
              "      <td>23.0</td>\n",
              "      <td>5.0</td>\n",
              "      <td>13.0</td>\n",
              "      <td>19.0</td>\n",
              "      <td>11.0</td>\n",
              "      <td>11.0</td>\n",
              "      <td>5.0</td>\n",
              "      <td>1.0</td>\n",
              "      <td>1.0</td>\n",
              "      <td>NaN</td>\n",
              "    </tr>\n",
              "  </tbody>\n",
              "</table>\n",
              "<p>45 rows × 36 columns</p>\n",
              "</div>\n",
              "    <div class=\"colab-df-buttons\">\n",
              "\n",
              "  <div class=\"colab-df-container\">\n",
              "    <button class=\"colab-df-convert\" onclick=\"convertToInteractive('df-eb81cf50-fba1-4312-94f2-5d96dda20cc5')\"\n",
              "            title=\"Convert this dataframe to an interactive table.\"\n",
              "            style=\"display:none;\">\n",
              "\n",
              "  <svg xmlns=\"http://www.w3.org/2000/svg\" height=\"24px\" viewBox=\"0 -960 960 960\">\n",
              "    <path d=\"M120-120v-720h720v720H120Zm60-500h600v-160H180v160Zm220 220h160v-160H400v160Zm0 220h160v-160H400v160ZM180-400h160v-160H180v160Zm440 0h160v-160H620v160ZM180-180h160v-160H180v160Zm440 0h160v-160H620v160Z\"/>\n",
              "  </svg>\n",
              "    </button>\n",
              "\n",
              "  <style>\n",
              "    .colab-df-container {\n",
              "      display:flex;\n",
              "      gap: 12px;\n",
              "    }\n",
              "\n",
              "    .colab-df-convert {\n",
              "      background-color: #E8F0FE;\n",
              "      border: none;\n",
              "      border-radius: 50%;\n",
              "      cursor: pointer;\n",
              "      display: none;\n",
              "      fill: #1967D2;\n",
              "      height: 32px;\n",
              "      padding: 0 0 0 0;\n",
              "      width: 32px;\n",
              "    }\n",
              "\n",
              "    .colab-df-convert:hover {\n",
              "      background-color: #E2EBFA;\n",
              "      box-shadow: 0px 1px 2px rgba(60, 64, 67, 0.3), 0px 1px 3px 1px rgba(60, 64, 67, 0.15);\n",
              "      fill: #174EA6;\n",
              "    }\n",
              "\n",
              "    .colab-df-buttons div {\n",
              "      margin-bottom: 4px;\n",
              "    }\n",
              "\n",
              "    [theme=dark] .colab-df-convert {\n",
              "      background-color: #3B4455;\n",
              "      fill: #D2E3FC;\n",
              "    }\n",
              "\n",
              "    [theme=dark] .colab-df-convert:hover {\n",
              "      background-color: #434B5C;\n",
              "      box-shadow: 0px 1px 3px 1px rgba(0, 0, 0, 0.15);\n",
              "      filter: drop-shadow(0px 1px 2px rgba(0, 0, 0, 0.3));\n",
              "      fill: #FFFFFF;\n",
              "    }\n",
              "  </style>\n",
              "\n",
              "    <script>\n",
              "      const buttonEl =\n",
              "        document.querySelector('#df-eb81cf50-fba1-4312-94f2-5d96dda20cc5 button.colab-df-convert');\n",
              "      buttonEl.style.display =\n",
              "        google.colab.kernel.accessAllowed ? 'block' : 'none';\n",
              "\n",
              "      async function convertToInteractive(key) {\n",
              "        const element = document.querySelector('#df-eb81cf50-fba1-4312-94f2-5d96dda20cc5');\n",
              "        const dataTable =\n",
              "          await google.colab.kernel.invokeFunction('convertToInteractive',\n",
              "                                                    [key], {});\n",
              "        if (!dataTable) return;\n",
              "\n",
              "        const docLinkHtml = 'Like what you see? Visit the ' +\n",
              "          '<a target=\"_blank\" href=https://colab.research.google.com/notebooks/data_table.ipynb>data table notebook</a>'\n",
              "          + ' to learn more about interactive tables.';\n",
              "        element.innerHTML = '';\n",
              "        dataTable['output_type'] = 'display_data';\n",
              "        await google.colab.output.renderOutput(dataTable, element);\n",
              "        const docLink = document.createElement('div');\n",
              "        docLink.innerHTML = docLinkHtml;\n",
              "        element.appendChild(docLink);\n",
              "      }\n",
              "    </script>\n",
              "  </div>\n",
              "\n",
              "\n",
              "<div id=\"df-b5c196a4-5636-47f1-a113-952d6474b51f\">\n",
              "  <button class=\"colab-df-quickchart\" onclick=\"quickchart('df-b5c196a4-5636-47f1-a113-952d6474b51f')\"\n",
              "            title=\"Suggest charts\"\n",
              "            style=\"display:none;\">\n",
              "\n",
              "<svg xmlns=\"http://www.w3.org/2000/svg\" height=\"24px\"viewBox=\"0 0 24 24\"\n",
              "     width=\"24px\">\n",
              "    <g>\n",
              "        <path d=\"M19 3H5c-1.1 0-2 .9-2 2v14c0 1.1.9 2 2 2h14c1.1 0 2-.9 2-2V5c0-1.1-.9-2-2-2zM9 17H7v-7h2v7zm4 0h-2V7h2v10zm4 0h-2v-4h2v4z\"/>\n",
              "    </g>\n",
              "</svg>\n",
              "  </button>\n",
              "\n",
              "<style>\n",
              "  .colab-df-quickchart {\n",
              "      --bg-color: #E8F0FE;\n",
              "      --fill-color: #1967D2;\n",
              "      --hover-bg-color: #E2EBFA;\n",
              "      --hover-fill-color: #174EA6;\n",
              "      --disabled-fill-color: #AAA;\n",
              "      --disabled-bg-color: #DDD;\n",
              "  }\n",
              "\n",
              "  [theme=dark] .colab-df-quickchart {\n",
              "      --bg-color: #3B4455;\n",
              "      --fill-color: #D2E3FC;\n",
              "      --hover-bg-color: #434B5C;\n",
              "      --hover-fill-color: #FFFFFF;\n",
              "      --disabled-bg-color: #3B4455;\n",
              "      --disabled-fill-color: #666;\n",
              "  }\n",
              "\n",
              "  .colab-df-quickchart {\n",
              "    background-color: var(--bg-color);\n",
              "    border: none;\n",
              "    border-radius: 50%;\n",
              "    cursor: pointer;\n",
              "    display: none;\n",
              "    fill: var(--fill-color);\n",
              "    height: 32px;\n",
              "    padding: 0;\n",
              "    width: 32px;\n",
              "  }\n",
              "\n",
              "  .colab-df-quickchart:hover {\n",
              "    background-color: var(--hover-bg-color);\n",
              "    box-shadow: 0 1px 2px rgba(60, 64, 67, 0.3), 0 1px 3px 1px rgba(60, 64, 67, 0.15);\n",
              "    fill: var(--button-hover-fill-color);\n",
              "  }\n",
              "\n",
              "  .colab-df-quickchart-complete:disabled,\n",
              "  .colab-df-quickchart-complete:disabled:hover {\n",
              "    background-color: var(--disabled-bg-color);\n",
              "    fill: var(--disabled-fill-color);\n",
              "    box-shadow: none;\n",
              "  }\n",
              "\n",
              "  .colab-df-spinner {\n",
              "    border: 2px solid var(--fill-color);\n",
              "    border-color: transparent;\n",
              "    border-bottom-color: var(--fill-color);\n",
              "    animation:\n",
              "      spin 1s steps(1) infinite;\n",
              "  }\n",
              "\n",
              "  @keyframes spin {\n",
              "    0% {\n",
              "      border-color: transparent;\n",
              "      border-bottom-color: var(--fill-color);\n",
              "      border-left-color: var(--fill-color);\n",
              "    }\n",
              "    20% {\n",
              "      border-color: transparent;\n",
              "      border-left-color: var(--fill-color);\n",
              "      border-top-color: var(--fill-color);\n",
              "    }\n",
              "    30% {\n",
              "      border-color: transparent;\n",
              "      border-left-color: var(--fill-color);\n",
              "      border-top-color: var(--fill-color);\n",
              "      border-right-color: var(--fill-color);\n",
              "    }\n",
              "    40% {\n",
              "      border-color: transparent;\n",
              "      border-right-color: var(--fill-color);\n",
              "      border-top-color: var(--fill-color);\n",
              "    }\n",
              "    60% {\n",
              "      border-color: transparent;\n",
              "      border-right-color: var(--fill-color);\n",
              "    }\n",
              "    80% {\n",
              "      border-color: transparent;\n",
              "      border-right-color: var(--fill-color);\n",
              "      border-bottom-color: var(--fill-color);\n",
              "    }\n",
              "    90% {\n",
              "      border-color: transparent;\n",
              "      border-bottom-color: var(--fill-color);\n",
              "    }\n",
              "  }\n",
              "</style>\n",
              "\n",
              "  <script>\n",
              "    async function quickchart(key) {\n",
              "      const quickchartButtonEl =\n",
              "        document.querySelector('#' + key + ' button');\n",
              "      quickchartButtonEl.disabled = true;  // To prevent multiple clicks.\n",
              "      quickchartButtonEl.classList.add('colab-df-spinner');\n",
              "      try {\n",
              "        const charts = await google.colab.kernel.invokeFunction(\n",
              "            'suggestCharts', [key], {});\n",
              "      } catch (error) {\n",
              "        console.error('Error during call to suggestCharts:', error);\n",
              "      }\n",
              "      quickchartButtonEl.classList.remove('colab-df-spinner');\n",
              "      quickchartButtonEl.classList.add('colab-df-quickchart-complete');\n",
              "    }\n",
              "    (() => {\n",
              "      let quickchartButtonEl =\n",
              "        document.querySelector('#df-b5c196a4-5636-47f1-a113-952d6474b51f button');\n",
              "      quickchartButtonEl.style.display =\n",
              "        google.colab.kernel.accessAllowed ? 'block' : 'none';\n",
              "    })();\n",
              "  </script>\n",
              "</div>\n",
              "\n",
              "    </div>\n",
              "  </div>\n"
            ],
            "application/vnd.google.colaboratory.intrinsic+json": {
              "type": "dataframe"
            }
          },
          "metadata": {},
          "execution_count": 332
        }
      ]
    },
    {
      "cell_type": "markdown",
      "source": [
        "## watching"
      ],
      "metadata": {
        "id": "6Lx4jjWSI21I"
      },
      "id": "6Lx4jjWSI21I"
    },
    {
      "cell_type": "code",
      "source": [
        "anidf['watching'].info()"
      ],
      "metadata": {
        "colab": {
          "base_uri": "https://localhost:8080/"
        },
        "id": "QdMppZk2JViy",
        "outputId": "a89a76a8-1c66-486e-e094-b187abb5424b"
      },
      "id": "QdMppZk2JViy",
      "execution_count": 333,
      "outputs": [
        {
          "output_type": "stream",
          "name": "stdout",
          "text": [
            "<class 'pandas.core.series.Series'>\n",
            "RangeIndex: 20923 entries, 0 to 20922\n",
            "Series name: watching\n",
            "Non-Null Count  Dtype \n",
            "--------------  ----- \n",
            "20921 non-null  object\n",
            "dtypes: object(1)\n",
            "memory usage: 163.6+ KB\n"
          ]
        }
      ]
    },
    {
      "cell_type": "code",
      "source": [
        "anidf['watching'].unique()"
      ],
      "metadata": {
        "colab": {
          "base_uri": "https://localhost:8080/"
        },
        "id": "qbbQ1iQpJXMQ",
        "outputId": "2e691f11-1a05-4ca6-a09e-6615ca878939"
      },
      "id": "qbbQ1iQpJXMQ",
      "execution_count": 334,
      "outputs": [
        {
          "output_type": "execute_result",
          "data": {
            "text/plain": [
              "array(['2,723', '14,438', '8,497', ..., '0', '1', None], dtype=object)"
            ]
          },
          "metadata": {},
          "execution_count": 334
        }
      ]
    },
    {
      "cell_type": "code",
      "source": [
        "anidf['watching'].value_counts()"
      ],
      "metadata": {
        "colab": {
          "base_uri": "https://localhost:8080/",
          "height": 489
        },
        "id": "P9uedVM1J5Jk",
        "outputId": "2e0fc59b-0361-4e3e-b7f7-3b2559eb06ce"
      },
      "id": "P9uedVM1J5Jk",
      "execution_count": 335,
      "outputs": [
        {
          "output_type": "execute_result",
          "data": {
            "text/plain": [
              "watching\n",
              "2         1125\n",
              "3         1088\n",
              "4          785\n",
              "5          516\n",
              "6          295\n",
              "          ... \n",
              "4,203        1\n",
              "38,011       1\n",
              "8,952        1\n",
              "40,896       1\n",
              "41,606       1\n",
              "Name: count, Length: 4581, dtype: int64"
            ],
            "text/html": [
              "<div>\n",
              "<style scoped>\n",
              "    .dataframe tbody tr th:only-of-type {\n",
              "        vertical-align: middle;\n",
              "    }\n",
              "\n",
              "    .dataframe tbody tr th {\n",
              "        vertical-align: top;\n",
              "    }\n",
              "\n",
              "    .dataframe thead th {\n",
              "        text-align: right;\n",
              "    }\n",
              "</style>\n",
              "<table border=\"1\" class=\"dataframe\">\n",
              "  <thead>\n",
              "    <tr style=\"text-align: right;\">\n",
              "      <th></th>\n",
              "      <th>count</th>\n",
              "    </tr>\n",
              "    <tr>\n",
              "      <th>watching</th>\n",
              "      <th></th>\n",
              "    </tr>\n",
              "  </thead>\n",
              "  <tbody>\n",
              "    <tr>\n",
              "      <th>2</th>\n",
              "      <td>1125</td>\n",
              "    </tr>\n",
              "    <tr>\n",
              "      <th>3</th>\n",
              "      <td>1088</td>\n",
              "    </tr>\n",
              "    <tr>\n",
              "      <th>4</th>\n",
              "      <td>785</td>\n",
              "    </tr>\n",
              "    <tr>\n",
              "      <th>5</th>\n",
              "      <td>516</td>\n",
              "    </tr>\n",
              "    <tr>\n",
              "      <th>6</th>\n",
              "      <td>295</td>\n",
              "    </tr>\n",
              "    <tr>\n",
              "      <th>...</th>\n",
              "      <td>...</td>\n",
              "    </tr>\n",
              "    <tr>\n",
              "      <th>4,203</th>\n",
              "      <td>1</td>\n",
              "    </tr>\n",
              "    <tr>\n",
              "      <th>38,011</th>\n",
              "      <td>1</td>\n",
              "    </tr>\n",
              "    <tr>\n",
              "      <th>8,952</th>\n",
              "      <td>1</td>\n",
              "    </tr>\n",
              "    <tr>\n",
              "      <th>40,896</th>\n",
              "      <td>1</td>\n",
              "    </tr>\n",
              "    <tr>\n",
              "      <th>41,606</th>\n",
              "      <td>1</td>\n",
              "    </tr>\n",
              "  </tbody>\n",
              "</table>\n",
              "<p>4581 rows × 1 columns</p>\n",
              "</div><br><label><b>dtype:</b> int64</label>"
            ]
          },
          "metadata": {},
          "execution_count": 335
        }
      ]
    },
    {
      "cell_type": "code",
      "source": [
        "anidf['watching'].isna().sum()"
      ],
      "metadata": {
        "colab": {
          "base_uri": "https://localhost:8080/"
        },
        "id": "Bht0PkPAKBB7",
        "outputId": "8f93a1e3-b4cf-4b81-c88d-f67b48098e88"
      },
      "id": "Bht0PkPAKBB7",
      "execution_count": 336,
      "outputs": [
        {
          "output_type": "execute_result",
          "data": {
            "text/plain": [
              "2"
            ]
          },
          "metadata": {},
          "execution_count": 336
        }
      ]
    },
    {
      "cell_type": "code",
      "source": [
        "anidf['watching'] = anidf['watching'].fillna('0')"
      ],
      "metadata": {
        "id": "RHIohP9ZLV3s"
      },
      "id": "RHIohP9ZLV3s",
      "execution_count": 337,
      "outputs": []
    },
    {
      "cell_type": "code",
      "source": [
        "anidf['watching'].isna().sum()"
      ],
      "metadata": {
        "colab": {
          "base_uri": "https://localhost:8080/"
        },
        "id": "iHmqNDmkLcP5",
        "outputId": "42cc21ab-ce64-449b-f65e-2c664cfe6ec6"
      },
      "id": "iHmqNDmkLcP5",
      "execution_count": 338,
      "outputs": [
        {
          "output_type": "execute_result",
          "data": {
            "text/plain": [
              "0"
            ]
          },
          "metadata": {},
          "execution_count": 338
        }
      ]
    },
    {
      "cell_type": "code",
      "source": [
        "anidf['watching'] = anidf['watching'].apply(lambda x: int(x.replace(',', '')) if len(x) > 0 else x)"
      ],
      "metadata": {
        "id": "e0n_vlohLeic"
      },
      "id": "e0n_vlohLeic",
      "execution_count": 339,
      "outputs": []
    },
    {
      "cell_type": "code",
      "source": [
        "anidf['watching'].unique()"
      ],
      "metadata": {
        "colab": {
          "base_uri": "https://localhost:8080/"
        },
        "id": "nu1rZdh3auSb",
        "outputId": "ba800477-0606-4a36-9cfc-776b957119fe"
      },
      "id": "nu1rZdh3auSb",
      "execution_count": 340,
      "outputs": [
        {
          "output_type": "execute_result",
          "data": {
            "text/plain": [
              "array([ 2723, 14438,  8497, ...,  5904,     0,     1])"
            ]
          },
          "metadata": {},
          "execution_count": 340
        }
      ]
    },
    {
      "cell_type": "code",
      "source": [
        "anidf['watching'].info()"
      ],
      "metadata": {
        "colab": {
          "base_uri": "https://localhost:8080/"
        },
        "id": "2DIzsCT_avzo",
        "outputId": "4a3a3e14-4bc7-4549-a2c9-79605dd573b9"
      },
      "id": "2DIzsCT_avzo",
      "execution_count": 341,
      "outputs": [
        {
          "output_type": "stream",
          "name": "stdout",
          "text": [
            "<class 'pandas.core.series.Series'>\n",
            "RangeIndex: 20923 entries, 0 to 20922\n",
            "Series name: watching\n",
            "Non-Null Count  Dtype\n",
            "--------------  -----\n",
            "20923 non-null  int64\n",
            "dtypes: int64(1)\n",
            "memory usage: 163.6 KB\n"
          ]
        }
      ]
    },
    {
      "cell_type": "markdown",
      "source": [
        "## completed"
      ],
      "metadata": {
        "id": "k5CCNmtzc6lp"
      },
      "id": "k5CCNmtzc6lp"
    },
    {
      "cell_type": "code",
      "source": [
        "anidf['completed'].info()"
      ],
      "metadata": {
        "colab": {
          "base_uri": "https://localhost:8080/"
        },
        "id": "l4aq47Zlc8qL",
        "outputId": "50ef8baf-e38a-4ceb-cd03-e95feb4f853d"
      },
      "id": "l4aq47Zlc8qL",
      "execution_count": 342,
      "outputs": [
        {
          "output_type": "stream",
          "name": "stdout",
          "text": [
            "<class 'pandas.core.series.Series'>\n",
            "RangeIndex: 20923 entries, 0 to 20922\n",
            "Series name: completed\n",
            "Non-Null Count  Dtype \n",
            "--------------  ----- \n",
            "20921 non-null  object\n",
            "dtypes: object(1)\n",
            "memory usage: 163.6+ KB\n"
          ]
        }
      ]
    },
    {
      "cell_type": "code",
      "source": [
        "anidf['completed'].isna().sum()"
      ],
      "metadata": {
        "colab": {
          "base_uri": "https://localhost:8080/"
        },
        "id": "x1Tzr2noc-Ve",
        "outputId": "822014dd-06b6-4ac5-ceef-debbfd772e04"
      },
      "id": "x1Tzr2noc-Ve",
      "execution_count": 343,
      "outputs": [
        {
          "output_type": "execute_result",
          "data": {
            "text/plain": [
              "2"
            ]
          },
          "metadata": {},
          "execution_count": 343
        }
      ]
    },
    {
      "cell_type": "code",
      "source": [
        "anidf['completed'] = anidf['completed'].fillna('0')"
      ],
      "metadata": {
        "id": "V1VnhGCmdGl4"
      },
      "id": "V1VnhGCmdGl4",
      "execution_count": 344,
      "outputs": []
    },
    {
      "cell_type": "code",
      "source": [
        "anidf['completed'] = anidf['completed'].apply(lambda x: int(x.replace(',', '')) if len(x) > 0 else x)"
      ],
      "metadata": {
        "id": "Majxbzf_dLhu"
      },
      "id": "Majxbzf_dLhu",
      "execution_count": 345,
      "outputs": []
    },
    {
      "cell_type": "code",
      "source": [
        "anidf['completed'].unique()"
      ],
      "metadata": {
        "colab": {
          "base_uri": "https://localhost:8080/"
        },
        "id": "g5__wtCIdRHI",
        "outputId": "c800ca9b-ebe7-4ee5-987c-998e03b0ad65"
      },
      "id": "g5__wtCIdRHI",
      "execution_count": 346,
      "outputs": [
        {
          "output_type": "execute_result",
          "data": {
            "text/plain": [
              "array([ 23933, 133486,  29630, ...,     14,     12,     10])"
            ]
          },
          "metadata": {},
          "execution_count": 346
        }
      ]
    },
    {
      "cell_type": "code",
      "source": [
        "anidf['completed'].info()"
      ],
      "metadata": {
        "colab": {
          "base_uri": "https://localhost:8080/"
        },
        "id": "UjnQUNbgdU4t",
        "outputId": "644faeb0-bdd8-41b0-8ba9-c876f7d71ebe"
      },
      "id": "UjnQUNbgdU4t",
      "execution_count": 347,
      "outputs": [
        {
          "output_type": "stream",
          "name": "stdout",
          "text": [
            "<class 'pandas.core.series.Series'>\n",
            "RangeIndex: 20923 entries, 0 to 20922\n",
            "Series name: completed\n",
            "Non-Null Count  Dtype\n",
            "--------------  -----\n",
            "20923 non-null  int64\n",
            "dtypes: int64(1)\n",
            "memory usage: 163.6 KB\n"
          ]
        }
      ]
    },
    {
      "cell_type": "markdown",
      "source": [
        "## onHold"
      ],
      "metadata": {
        "id": "LIpu4jitdYrI"
      },
      "id": "LIpu4jitdYrI"
    },
    {
      "cell_type": "code",
      "source": [
        "anidf['on_hold'].info()"
      ],
      "metadata": {
        "colab": {
          "base_uri": "https://localhost:8080/"
        },
        "id": "_EIuAibedfUu",
        "outputId": "0ac5a7cf-6790-4b01-db9a-9324ca95ef61"
      },
      "id": "_EIuAibedfUu",
      "execution_count": 348,
      "outputs": [
        {
          "output_type": "stream",
          "name": "stdout",
          "text": [
            "<class 'pandas.core.series.Series'>\n",
            "RangeIndex: 20923 entries, 0 to 20922\n",
            "Series name: on_hold\n",
            "Non-Null Count  Dtype \n",
            "--------------  ----- \n",
            "20921 non-null  object\n",
            "dtypes: object(1)\n",
            "memory usage: 163.6+ KB\n"
          ]
        }
      ]
    },
    {
      "cell_type": "code",
      "source": [
        "anidf['on_hold'].isna().sum()"
      ],
      "metadata": {
        "colab": {
          "base_uri": "https://localhost:8080/"
        },
        "id": "TFDMhmKydlbA",
        "outputId": "05be2ca8-edf0-4e07-9dca-30f1f391a5b5"
      },
      "id": "TFDMhmKydlbA",
      "execution_count": 349,
      "outputs": [
        {
          "output_type": "execute_result",
          "data": {
            "text/plain": [
              "2"
            ]
          },
          "metadata": {},
          "execution_count": 349
        }
      ]
    },
    {
      "cell_type": "code",
      "source": [
        "anidf['on_hold'] = anidf['on_hold'].fillna('0')"
      ],
      "metadata": {
        "id": "YKdPrD6zdpu0"
      },
      "id": "YKdPrD6zdpu0",
      "execution_count": 350,
      "outputs": []
    },
    {
      "cell_type": "code",
      "source": [
        "anidf['on_hold'] = anidf['on_hold'].apply(lambda x: int(x.replace(',', '')) if len(x) > 0 else x)"
      ],
      "metadata": {
        "id": "10zgCEe7drTK"
      },
      "id": "10zgCEe7drTK",
      "execution_count": 351,
      "outputs": []
    },
    {
      "cell_type": "code",
      "source": [
        "anidf['on_hold'].info()"
      ],
      "metadata": {
        "colab": {
          "base_uri": "https://localhost:8080/"
        },
        "id": "7FPuoUHIdsym",
        "outputId": "9fad41ff-8f43-4205-917c-54892d9cddf5"
      },
      "id": "7FPuoUHIdsym",
      "execution_count": 352,
      "outputs": [
        {
          "output_type": "stream",
          "name": "stdout",
          "text": [
            "<class 'pandas.core.series.Series'>\n",
            "RangeIndex: 20923 entries, 0 to 20922\n",
            "Series name: on_hold\n",
            "Non-Null Count  Dtype\n",
            "--------------  -----\n",
            "20923 non-null  int64\n",
            "dtypes: int64(1)\n",
            "memory usage: 163.6 KB\n"
          ]
        }
      ]
    },
    {
      "cell_type": "markdown",
      "source": [
        "## plan_to_watch"
      ],
      "metadata": {
        "id": "_RIWnKhbdv3V"
      },
      "id": "_RIWnKhbdv3V"
    },
    {
      "cell_type": "code",
      "source": [
        "anidf['plan_to_watch'].info()"
      ],
      "metadata": {
        "colab": {
          "base_uri": "https://localhost:8080/"
        },
        "id": "o8EBaXX6eWpc",
        "outputId": "2ec9292f-f8cc-468c-92ce-1234e0dafcb3"
      },
      "id": "o8EBaXX6eWpc",
      "execution_count": 353,
      "outputs": [
        {
          "output_type": "stream",
          "name": "stdout",
          "text": [
            "<class 'pandas.core.series.Series'>\n",
            "RangeIndex: 20923 entries, 0 to 20922\n",
            "Series name: plan_to_watch\n",
            "Non-Null Count  Dtype \n",
            "--------------  ----- \n",
            "20921 non-null  object\n",
            "dtypes: object(1)\n",
            "memory usage: 163.6+ KB\n"
          ]
        }
      ]
    },
    {
      "cell_type": "code",
      "source": [
        "anidf['plan_to_watch'].isna().sum()"
      ],
      "metadata": {
        "colab": {
          "base_uri": "https://localhost:8080/"
        },
        "id": "ZCGoZ7-CeYMe",
        "outputId": "bf96ae24-33e1-4ba6-91ac-fabcbd8665bd"
      },
      "id": "ZCGoZ7-CeYMe",
      "execution_count": 354,
      "outputs": [
        {
          "output_type": "execute_result",
          "data": {
            "text/plain": [
              "2"
            ]
          },
          "metadata": {},
          "execution_count": 354
        }
      ]
    },
    {
      "cell_type": "code",
      "source": [
        "anidf['plan_to_watch'] = anidf['plan_to_watch'].fillna('0')"
      ],
      "metadata": {
        "id": "S8cWykj3eZ3A"
      },
      "id": "S8cWykj3eZ3A",
      "execution_count": 355,
      "outputs": []
    },
    {
      "cell_type": "code",
      "source": [
        "anidf['plan_to_watch'] = anidf['plan_to_watch'].apply(lambda x: int(x.replace(',', '')) if len(x) > 0 else x)"
      ],
      "metadata": {
        "id": "DbovuUkNedxx"
      },
      "id": "DbovuUkNedxx",
      "execution_count": 356,
      "outputs": []
    },
    {
      "cell_type": "code",
      "source": [
        "anidf['plan_to_watch'].info()"
      ],
      "metadata": {
        "colab": {
          "base_uri": "https://localhost:8080/"
        },
        "id": "SQLmPUYYehIw",
        "outputId": "7eca7258-a5df-4856-9e89-4151501aeb53"
      },
      "id": "SQLmPUYYehIw",
      "execution_count": 358,
      "outputs": [
        {
          "output_type": "stream",
          "name": "stdout",
          "text": [
            "<class 'pandas.core.series.Series'>\n",
            "RangeIndex: 20923 entries, 0 to 20922\n",
            "Series name: plan_to_watch\n",
            "Non-Null Count  Dtype\n",
            "--------------  -----\n",
            "20923 non-null  int64\n",
            "dtypes: int64(1)\n",
            "memory usage: 163.6 KB\n"
          ]
        }
      ]
    },
    {
      "cell_type": "markdown",
      "source": [
        "## total"
      ],
      "metadata": {
        "id": "nc0l7pm4epp9"
      },
      "id": "nc0l7pm4epp9"
    },
    {
      "cell_type": "code",
      "source": [
        "anidf['total'].info()"
      ],
      "metadata": {
        "colab": {
          "base_uri": "https://localhost:8080/"
        },
        "id": "rktE9yzPewz0",
        "outputId": "4cf3516d-db6b-4274-8d99-5a661e97f543"
      },
      "id": "rktE9yzPewz0",
      "execution_count": 359,
      "outputs": [
        {
          "output_type": "stream",
          "name": "stdout",
          "text": [
            "<class 'pandas.core.series.Series'>\n",
            "RangeIndex: 20923 entries, 0 to 20922\n",
            "Series name: total\n",
            "Non-Null Count  Dtype \n",
            "--------------  ----- \n",
            "20921 non-null  object\n",
            "dtypes: object(1)\n",
            "memory usage: 163.6+ KB\n"
          ]
        }
      ]
    },
    {
      "cell_type": "code",
      "source": [
        "anidf['total'].isna().sum()"
      ],
      "metadata": {
        "colab": {
          "base_uri": "https://localhost:8080/"
        },
        "id": "G16ZSqYeeyVx",
        "outputId": "dc1f0a21-ab86-4194-f971-2a455f620b08"
      },
      "id": "G16ZSqYeeyVx",
      "execution_count": 360,
      "outputs": [
        {
          "output_type": "execute_result",
          "data": {
            "text/plain": [
              "2"
            ]
          },
          "metadata": {},
          "execution_count": 360
        }
      ]
    },
    {
      "cell_type": "code",
      "source": [
        "anidf['total'] = anidf['total'].fillna('0')"
      ],
      "metadata": {
        "id": "rsT4BrvGezvg"
      },
      "id": "rsT4BrvGezvg",
      "execution_count": 361,
      "outputs": []
    },
    {
      "cell_type": "code",
      "source": [
        "anidf['total'] = anidf['total'].apply(lambda x: int(x.replace(',', '')) if len(x) > 0 else x)"
      ],
      "metadata": {
        "id": "2Bb3lG-fe1io"
      },
      "id": "2Bb3lG-fe1io",
      "execution_count": 362,
      "outputs": []
    },
    {
      "cell_type": "code",
      "source": [
        "anidf['total'].info()"
      ],
      "metadata": {
        "colab": {
          "base_uri": "https://localhost:8080/"
        },
        "id": "pB32lQWne32i",
        "outputId": "66119c2b-c074-4fcd-f337-0356d9aff727"
      },
      "id": "pB32lQWne32i",
      "execution_count": 363,
      "outputs": [
        {
          "output_type": "stream",
          "name": "stdout",
          "text": [
            "<class 'pandas.core.series.Series'>\n",
            "RangeIndex: 20923 entries, 0 to 20922\n",
            "Series name: total\n",
            "Non-Null Count  Dtype\n",
            "--------------  -----\n",
            "20923 non-null  int64\n",
            "dtypes: int64(1)\n",
            "memory usage: 163.6 KB\n"
          ]
        }
      ]
    },
    {
      "cell_type": "markdown",
      "source": [
        "## scoredby 1-10"
      ],
      "metadata": {
        "id": "rKO6i_tge5NP"
      },
      "id": "rKO6i_tge5NP"
    },
    {
      "cell_type": "code",
      "source": [
        "for i in range(1,11):\n",
        "    score = f\"scored_{i}_by\"\n",
        "    anidf[score] = anidf[score].fillna(0)"
      ],
      "metadata": {
        "id": "pohX3tncfAh9"
      },
      "id": "pohX3tncfAh9",
      "execution_count": 364,
      "outputs": []
    },
    {
      "cell_type": "code",
      "source": [
        "anidf.info()"
      ],
      "metadata": {
        "colab": {
          "base_uri": "https://localhost:8080/"
        },
        "id": "zREc_51IgcZZ",
        "outputId": "a9e6e7aa-2232-42c4-f4ec-d5dae9366b8f"
      },
      "id": "zREc_51IgcZZ",
      "execution_count": 365,
      "outputs": [
        {
          "output_type": "stream",
          "name": "stdout",
          "text": [
            "<class 'pandas.core.frame.DataFrame'>\n",
            "RangeIndex: 20923 entries, 0 to 20922\n",
            "Data columns (total 36 columns):\n",
            " #   Column           Non-Null Count  Dtype  \n",
            "---  ------           --------------  -----  \n",
            " 0   name_english     20923 non-null  object \n",
            " 1   name             20923 non-null  object \n",
            " 2   score            20923 non-null  object \n",
            " 3   ranked           20923 non-null  int64  \n",
            " 4   popularity       20923 non-null  int64  \n",
            " 5   members          20923 non-null  int64  \n",
            " 6   synopsis         20923 non-null  object \n",
            " 7   synonyms         20923 non-null  object \n",
            " 8   type_of          20923 non-null  object \n",
            " 9   total_episodes   20732 non-null  float64\n",
            " 10  premiered        20923 non-null  object \n",
            " 11  studios          20923 non-null  object \n",
            " 12  genres           20923 non-null  object \n",
            " 13  demographic      8901 non-null   object \n",
            " 14  duration_per_ep  20923 non-null  object \n",
            " 15  rating           20923 non-null  object \n",
            " 16  scored_by        13607 non-null  float64\n",
            " 17  favorites        20923 non-null  int64  \n",
            " 18  aired            20923 non-null  object \n",
            " 19  source           20923 non-null  object \n",
            " 20  watching         20923 non-null  int64  \n",
            " 21  completed        20923 non-null  int64  \n",
            " 22  on_hold          20923 non-null  int64  \n",
            " 23  dropped          20921 non-null  object \n",
            " 24  plan_to_watch    20923 non-null  int64  \n",
            " 25  total            20923 non-null  int64  \n",
            " 26  scored_10_by     20923 non-null  float64\n",
            " 27  scored_9_by      20923 non-null  float64\n",
            " 28  scored_8_by      20923 non-null  float64\n",
            " 29  scored_7_by      20923 non-null  float64\n",
            " 30  scored_6_by      20923 non-null  float64\n",
            " 31  scored_5_by      20923 non-null  float64\n",
            " 32  scored_4_by      20923 non-null  float64\n",
            " 33  scored_3_by      20923 non-null  float64\n",
            " 34  scored_2_by      20923 non-null  float64\n",
            " 35  scored_1_by      20923 non-null  float64\n",
            "dtypes: float64(12), int64(9), object(15)\n",
            "memory usage: 5.7+ MB\n"
          ]
        }
      ]
    },
    {
      "cell_type": "code",
      "source": [],
      "metadata": {
        "id": "y4xMdcgtgfPN"
      },
      "id": "y4xMdcgtgfPN",
      "execution_count": null,
      "outputs": []
    }
  ],
  "metadata": {
    "kernelspec": {
      "display_name": "Python 3 (ipykernel)",
      "language": "python",
      "name": "python3"
    },
    "language_info": {
      "codemirror_mode": {
        "name": "ipython",
        "version": 3
      },
      "file_extension": ".py",
      "mimetype": "text/x-python",
      "name": "python",
      "nbconvert_exporter": "python",
      "pygments_lexer": "ipython3",
      "version": "3.9.13"
    },
    "colab": {
      "provenance": []
    }
  },
  "nbformat": 4,
  "nbformat_minor": 5
}