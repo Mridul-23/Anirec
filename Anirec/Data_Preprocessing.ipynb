{
 "cells": [
  {
   "cell_type": "code",
   "execution_count": 1,
   "id": "09e5cb46",
   "metadata": {
    "id": "09e5cb46"
   },
   "outputs": [],
   "source": [
    "import numpy as np\n",
    "import pandas as pd"
   ]
  },
  {
   "cell_type": "code",
   "execution_count": 2,
   "id": "3ae5093e",
   "metadata": {
    "id": "3ae5093e"
   },
   "outputs": [],
   "source": [
    "anidf = pd.read_json(r\"C:\\Users\\HP\\Desktop\\Anirec\\Anirec\\data\\ani_data.json\")"
   ]
  },
  {
   "cell_type": "markdown",
   "id": "94bdc1b1",
   "metadata": {
    "id": "94bdc1b1"
   },
   "source": [
    "# Basic Inspection\n"
   ]
  },
  {
   "cell_type": "code",
   "execution_count": 3,
   "id": "318c86f2",
   "metadata": {
    "colab": {
     "base_uri": "https://localhost:8080/",
     "height": 0
    },
    "id": "318c86f2",
    "outputId": "e3fe7573-a265-4ca3-a4ba-d20ab0439e85"
   },
   "outputs": [
    {
     "data": {
      "text/html": [
       "<div>\n",
       "<style scoped>\n",
       "    .dataframe tbody tr th:only-of-type {\n",
       "        vertical-align: middle;\n",
       "    }\n",
       "\n",
       "    .dataframe tbody tr th {\n",
       "        vertical-align: top;\n",
       "    }\n",
       "\n",
       "    .dataframe thead th {\n",
       "        text-align: right;\n",
       "    }\n",
       "</style>\n",
       "<table border=\"1\" class=\"dataframe\">\n",
       "  <thead>\n",
       "    <tr style=\"text-align: right;\">\n",
       "      <th></th>\n",
       "      <th>name_english</th>\n",
       "      <th>name</th>\n",
       "      <th>score</th>\n",
       "      <th>ranked</th>\n",
       "      <th>popularity</th>\n",
       "      <th>members</th>\n",
       "      <th>synopsis</th>\n",
       "      <th>synonyms</th>\n",
       "      <th>type_of</th>\n",
       "      <th>total_episodes</th>\n",
       "      <th>...</th>\n",
       "      <th>scored_10_by</th>\n",
       "      <th>scored_9_by</th>\n",
       "      <th>scored_8_by</th>\n",
       "      <th>scored_7_by</th>\n",
       "      <th>scored_6_by</th>\n",
       "      <th>scored_5_by</th>\n",
       "      <th>scored_4_by</th>\n",
       "      <th>scored_3_by</th>\n",
       "      <th>scored_2_by</th>\n",
       "      <th>scored_1_by</th>\n",
       "    </tr>\n",
       "  </thead>\n",
       "  <tbody>\n",
       "    <tr>\n",
       "      <th>0</th>\n",
       "      <td>Tomorrow's Joe 2</td>\n",
       "      <td>Ashita no Joe 2</td>\n",
       "      <td>8.73</td>\n",
       "      <td>50</td>\n",
       "      <td>3041</td>\n",
       "      <td>51773</td>\n",
       "      <td>Yabuki Joe is left downhearted and hopeless af...</td>\n",
       "      <td>Rocky Joe 2</td>\n",
       "      <td>TV</td>\n",
       "      <td>47</td>\n",
       "      <td>...</td>\n",
       "      <td>7721.0</td>\n",
       "      <td>4711.0</td>\n",
       "      <td>3690.0</td>\n",
       "      <td>1797.0</td>\n",
       "      <td>653.0</td>\n",
       "      <td>297.0</td>\n",
       "      <td>120.0</td>\n",
       "      <td>137.0</td>\n",
       "      <td>182.0</td>\n",
       "      <td>893.0</td>\n",
       "    </tr>\n",
       "  </tbody>\n",
       "</table>\n",
       "<p>1 rows × 36 columns</p>\n",
       "</div>"
      ],
      "text/plain": [
       "       name_english             name score  ranked  popularity  members  \\\n",
       "0  Tomorrow's Joe 2  Ashita no Joe 2  8.73      50        3041    51773   \n",
       "\n",
       "                                            synopsis     synonyms type_of  \\\n",
       "0  Yabuki Joe is left downhearted and hopeless af...  Rocky Joe 2      TV   \n",
       "\n",
       "  total_episodes  ... scored_10_by scored_9_by scored_8_by scored_7_by  \\\n",
       "0             47  ...       7721.0      4711.0      3690.0      1797.0   \n",
       "\n",
       "  scored_6_by scored_5_by  scored_4_by  scored_3_by scored_2_by scored_1_by  \n",
       "0       653.0       297.0        120.0        137.0       182.0       893.0  \n",
       "\n",
       "[1 rows x 36 columns]"
      ]
     },
     "execution_count": 3,
     "metadata": {},
     "output_type": "execute_result"
    }
   ],
   "source": [
    "anidf.head(1)"
   ]
  },
  {
   "cell_type": "code",
   "execution_count": 4,
   "id": "58be362f",
   "metadata": {
    "colab": {
     "base_uri": "https://localhost:8080/"
    },
    "id": "58be362f",
    "outputId": "8346af97-d7f7-4030-8123-d489017e8f54"
   },
   "outputs": [
    {
     "data": {
      "text/plain": [
       "(20923, 36)"
      ]
     },
     "execution_count": 4,
     "metadata": {},
     "output_type": "execute_result"
    }
   ],
   "source": [
    "anidf.shape"
   ]
  },
  {
   "cell_type": "code",
   "execution_count": 5,
   "id": "d3c527e5",
   "metadata": {
    "colab": {
     "base_uri": "https://localhost:8080/"
    },
    "id": "d3c527e5",
    "outputId": "ecd1d29d-60e7-45d1-b2d7-a1d391f4e750"
   },
   "outputs": [
    {
     "name": "stdout",
     "output_type": "stream",
     "text": [
      "<class 'pandas.core.frame.DataFrame'>\n",
      "RangeIndex: 20923 entries, 0 to 20922\n",
      "Data columns (total 36 columns):\n",
      " #   Column           Non-Null Count  Dtype  \n",
      "---  ------           --------------  -----  \n",
      " 0   name_english     9670 non-null   object \n",
      " 1   name             20923 non-null  object \n",
      " 2   score            20923 non-null  object \n",
      " 3   ranked           20923 non-null  int64  \n",
      " 4   popularity       20923 non-null  int64  \n",
      " 5   members          20923 non-null  int64  \n",
      " 6   synopsis         20923 non-null  object \n",
      " 7   synonyms         20923 non-null  object \n",
      " 8   type_of          20922 non-null  object \n",
      " 9   total_episodes   20923 non-null  object \n",
      " 10  premiered        5833 non-null   object \n",
      " 11  studios          20923 non-null  object \n",
      " 12  genres           20923 non-null  object \n",
      " 13  demographic      8901 non-null   object \n",
      " 14  duration_per_ep  20923 non-null  object \n",
      " 15  rating           20923 non-null  object \n",
      " 16  scored_by        13607 non-null  float64\n",
      " 17  favorites        20923 non-null  int64  \n",
      " 18  aired            20923 non-null  object \n",
      " 19  source           20923 non-null  object \n",
      " 20  watching         20921 non-null  object \n",
      " 21  completed        20921 non-null  object \n",
      " 22  on_hold          20921 non-null  object \n",
      " 23  dropped          20921 non-null  object \n",
      " 24  plan_to_watch    20921 non-null  object \n",
      " 25  total            20921 non-null  object \n",
      " 26  scored_10_by     20918 non-null  float64\n",
      " 27  scored_9_by      20915 non-null  float64\n",
      " 28  scored_8_by      20910 non-null  float64\n",
      " 29  scored_7_by      20882 non-null  float64\n",
      " 30  scored_6_by      19631 non-null  float64\n",
      " 31  scored_5_by      18437 non-null  float64\n",
      " 32  scored_4_by      17657 non-null  float64\n",
      " 33  scored_3_by      16901 non-null  float64\n",
      " 34  scored_2_by      15903 non-null  float64\n",
      " 35  scored_1_by      14318 non-null  float64\n",
      "dtypes: float64(11), int64(4), object(21)\n",
      "memory usage: 5.7+ MB\n"
     ]
    }
   ],
   "source": [
    "anidf.info()"
   ]
  },
  {
   "cell_type": "markdown",
   "id": "f360c1b4",
   "metadata": {
    "id": "f360c1b4"
   },
   "source": [
    "# Processing Fields\n"
   ]
  },
  {
   "cell_type": "markdown",
   "id": "24f0812d",
   "metadata": {
    "id": "24f0812d"
   },
   "source": [
    "## Name English\n"
   ]
  },
  {
   "cell_type": "code",
   "execution_count": 6,
   "id": "1857ef73",
   "metadata": {
    "colab": {
     "base_uri": "https://localhost:8080/"
    },
    "id": "1857ef73",
    "outputId": "53dc3385-443f-4ba9-da70-f7b918323c66"
   },
   "outputs": [
    {
     "data": {
      "text/plain": [
       "11253"
      ]
     },
     "execution_count": 6,
     "metadata": {},
     "output_type": "execute_result"
    }
   ],
   "source": [
    "anidf[\"name_english\"].isnull().sum()"
   ]
  },
  {
   "cell_type": "code",
   "execution_count": 7,
   "id": "9fcb5896",
   "metadata": {
    "id": "9fcb5896"
   },
   "outputs": [],
   "source": [
    "anidf[\"name_english\"] = anidf[\"name_english\"].fillna(anidf[\"name\"])"
   ]
  },
  {
   "cell_type": "code",
   "execution_count": 8,
   "id": "fb22df79",
   "metadata": {
    "colab": {
     "base_uri": "https://localhost:8080/"
    },
    "id": "fb22df79",
    "outputId": "9d355db9-5f77-4552-fe76-5cdde9fd664b"
   },
   "outputs": [
    {
     "data": {
      "text/plain": [
       "0"
      ]
     },
     "execution_count": 8,
     "metadata": {},
     "output_type": "execute_result"
    }
   ],
   "source": [
    "anidf[\"name_english\"].isna().sum()"
   ]
  },
  {
   "cell_type": "markdown",
   "id": "05eceac2",
   "metadata": {
    "id": "05eceac2"
   },
   "source": [
    "## Names\n"
   ]
  },
  {
   "cell_type": "code",
   "execution_count": 9,
   "id": "8d24445a",
   "metadata": {
    "colab": {
     "base_uri": "https://localhost:8080/"
    },
    "id": "8d24445a",
    "outputId": "5cfefc66-ab83-447f-c488-8fc97e5efcbf"
   },
   "outputs": [
    {
     "data": {
      "text/plain": [
       "0"
      ]
     },
     "execution_count": 9,
     "metadata": {},
     "output_type": "execute_result"
    }
   ],
   "source": [
    "anidf[\"name\"].isnull().sum()"
   ]
  },
  {
   "cell_type": "code",
   "execution_count": 10,
   "id": "068bcf5d",
   "metadata": {
    "colab": {
     "base_uri": "https://localhost:8080/",
     "height": 0
    },
    "id": "068bcf5d",
    "outputId": "b93af78a-0407-45a0-d832-07c15fbb1d08"
   },
   "outputs": [
    {
     "data": {
      "text/plain": [
       "0                      Ashita no Joe 2\n",
       "1        Mushishi Zoku Shou 2nd Season\n",
       "2                   Kingdom 4th Season\n",
       "3                         Vinland Saga\n",
       "4                         Cowboy Bebop\n",
       "                     ...              \n",
       "20918         Jueshi Tu: Qihuan Zhi Lu\n",
       "20919    Jueshi Tu II: Yongheng Zhi Qu\n",
       "20920        Juedui Lingyu: Ji Zhan Ji\n",
       "20921        Juedui Lingyu Fanwai Pian\n",
       "20922              Juedui Lingyu A. F.\n",
       "Name: name, Length: 20923, dtype: object"
      ]
     },
     "execution_count": 10,
     "metadata": {},
     "output_type": "execute_result"
    }
   ],
   "source": [
    "anidf[\"name\"]"
   ]
  },
  {
   "cell_type": "markdown",
   "id": "6b5bba3a",
   "metadata": {
    "id": "6b5bba3a"
   },
   "source": [
    "## Score\n"
   ]
  },
  {
   "cell_type": "code",
   "execution_count": 11,
   "id": "04e0ea85",
   "metadata": {
    "colab": {
     "base_uri": "https://localhost:8080/",
     "height": 0
    },
    "id": "04e0ea85",
    "outputId": "f4af18b5-8dbd-438a-eb18-9ed91ddf0940"
   },
   "outputs": [
    {
     "data": {
      "text/plain": [
       "0        8.73\n",
       "1        8.73\n",
       "2        8.74\n",
       "3        8.75\n",
       "4        8.75\n",
       "         ... \n",
       "20918     N/A\n",
       "20919     N/A\n",
       "20920     N/A\n",
       "20921     N/A\n",
       "20922     N/A\n",
       "Name: score, Length: 20923, dtype: object"
      ]
     },
     "execution_count": 11,
     "metadata": {},
     "output_type": "execute_result"
    }
   ],
   "source": [
    "anidf[\"score\"]"
   ]
  },
  {
   "cell_type": "code",
   "execution_count": 12,
   "id": "4943e3f5",
   "metadata": {
    "colab": {
     "base_uri": "https://localhost:8080/"
    },
    "id": "4943e3f5",
    "outputId": "a5c63e67-6b6f-4a89-911c-7a62f1fc80cc"
   },
   "outputs": [
    {
     "data": {
      "text/plain": [
       "0"
      ]
     },
     "execution_count": 12,
     "metadata": {},
     "output_type": "execute_result"
    }
   ],
   "source": [
    "anidf[\"score\"].isna().sum()"
   ]
  },
  {
   "cell_type": "code",
   "execution_count": 13,
   "id": "561de0ad",
   "metadata": {
    "colab": {
     "base_uri": "https://localhost:8080/",
     "height": 0
    },
    "id": "561de0ad",
    "outputId": "9fbffc3d-80da-42ed-f307-bf62c5ec4fd4"
   },
   "outputs": [
    {
     "data": {
      "text/plain": [
       "score\n",
       "N/A     7316\n",
       "7.33     108\n",
       "7.32      97\n",
       "7.35      97\n",
       "7.34      91\n",
       "        ... \n",
       "4.05       1\n",
       "9.39       1\n",
       "3.96       1\n",
       "3.92       1\n",
       "3.48       1\n",
       "Name: count, Length: 557, dtype: int64"
      ]
     },
     "execution_count": 13,
     "metadata": {},
     "output_type": "execute_result"
    }
   ],
   "source": [
    "anidf[\"score\"].value_counts()"
   ]
  },
  {
   "cell_type": "markdown",
   "id": "2b8e4675",
   "metadata": {
    "id": "2b8e4675"
   },
   "source": [
    "## Ranked\n"
   ]
  },
  {
   "cell_type": "code",
   "execution_count": 14,
   "id": "6d651060",
   "metadata": {
    "colab": {
     "base_uri": "https://localhost:8080/"
    },
    "id": "6d651060",
    "outputId": "4c456e3d-bca2-46bc-aaad-73cf2e26b151"
   },
   "outputs": [
    {
     "data": {
      "text/plain": [
       "0"
      ]
     },
     "execution_count": 14,
     "metadata": {},
     "output_type": "execute_result"
    }
   ],
   "source": [
    "anidf[\"ranked\"].isnull().sum()"
   ]
  },
  {
   "cell_type": "code",
   "execution_count": 15,
   "id": "a4157a7c",
   "metadata": {
    "colab": {
     "base_uri": "https://localhost:8080/"
    },
    "id": "a4157a7c",
    "outputId": "66a9b965-937a-4d4f-d15e-9fde71e598f0"
   },
   "outputs": [
    {
     "data": {
      "text/plain": [
       "array([   50,    49,    48, ..., 20604, 20603, 20602], dtype=int64)"
      ]
     },
     "execution_count": 15,
     "metadata": {},
     "output_type": "execute_result"
    }
   ],
   "source": [
    "anidf[\"ranked\"].unique()"
   ]
  },
  {
   "cell_type": "markdown",
   "id": "cfe366c0",
   "metadata": {
    "id": "cfe366c0"
   },
   "source": [
    "## Popularity\n"
   ]
  },
  {
   "cell_type": "code",
   "execution_count": 16,
   "id": "82634d9d",
   "metadata": {
    "colab": {
     "base_uri": "https://localhost:8080/"
    },
    "id": "82634d9d",
    "outputId": "0826e6d9-417b-4322-f9eb-7eed401ad393"
   },
   "outputs": [
    {
     "data": {
      "text/plain": [
       "0"
      ]
     },
     "execution_count": 16,
     "metadata": {},
     "output_type": "execute_result"
    }
   ],
   "source": [
    "anidf[\"popularity\"].isnull().sum()"
   ]
  },
  {
   "cell_type": "code",
   "execution_count": 17,
   "id": "7ad455fc",
   "metadata": {
    "colab": {
     "base_uri": "https://localhost:8080/",
     "height": 0
    },
    "id": "7ad455fc",
    "outputId": "56ec7503-c4c5-46e6-b0e7-efd2b0e13b3e"
   },
   "outputs": [
    {
     "data": {
      "text/plain": [
       "popularity\n",
       "16156    4\n",
       "6953     4\n",
       "2933     4\n",
       "17366    4\n",
       "13771    4\n",
       "        ..\n",
       "13222    1\n",
       "2557     1\n",
       "10806    1\n",
       "8902     1\n",
       "23438    1\n",
       "Name: count, Length: 17574, dtype: int64"
      ]
     },
     "execution_count": 17,
     "metadata": {},
     "output_type": "execute_result"
    }
   ],
   "source": [
    "anidf[\"popularity\"].value_counts()"
   ]
  },
  {
   "cell_type": "markdown",
   "id": "a0eb3144",
   "metadata": {
    "id": "a0eb3144"
   },
   "source": [
    "## Members\n"
   ]
  },
  {
   "cell_type": "code",
   "execution_count": 18,
   "id": "eb1cd759",
   "metadata": {
    "colab": {
     "base_uri": "https://localhost:8080/"
    },
    "id": "eb1cd759",
    "outputId": "c424d433-ee3e-464e-c98e-1427de19dd98"
   },
   "outputs": [
    {
     "data": {
      "text/plain": [
       "0"
      ]
     },
     "execution_count": 18,
     "metadata": {},
     "output_type": "execute_result"
    }
   ],
   "source": [
    "anidf[\"members\"].isnull().sum()"
   ]
  },
  {
   "cell_type": "code",
   "execution_count": 19,
   "id": "554b6234",
   "metadata": {
    "colab": {
     "base_uri": "https://localhost:8080/",
     "height": 0
    },
    "id": "554b6234",
    "outputId": "fab5f756-9e8f-4d11-b810-7777cbd6d8a3"
   },
   "outputs": [
    {
     "data": {
      "text/plain": [
       "members\n",
       "60        133\n",
       "61        123\n",
       "59        119\n",
       "62        117\n",
       "57        115\n",
       "         ... \n",
       "83131       1\n",
       "263827      1\n",
       "19573       1\n",
       "87013       1\n",
       "1258        1\n",
       "Name: count, Length: 10369, dtype: int64"
      ]
     },
     "execution_count": 19,
     "metadata": {},
     "output_type": "execute_result"
    }
   ],
   "source": [
    "anidf[\"members\"].value_counts()"
   ]
  },
  {
   "cell_type": "markdown",
   "id": "8842af77",
   "metadata": {
    "id": "8842af77"
   },
   "source": [
    "## Synopsis\n"
   ]
  },
  {
   "cell_type": "code",
   "execution_count": 20,
   "id": "6c1436ef",
   "metadata": {},
   "outputs": [
    {
     "name": "stdout",
     "output_type": "stream",
     "text": [
      "<class 'pandas.core.series.Series'>\n",
      "RangeIndex: 20923 entries, 0 to 20922\n",
      "Series name: synopsis\n",
      "Non-Null Count  Dtype \n",
      "--------------  ----- \n",
      "20923 non-null  object\n",
      "dtypes: object(1)\n",
      "memory usage: 163.6+ KB\n"
     ]
    }
   ],
   "source": [
    "anidf[\"synopsis\"].info()"
   ]
  },
  {
   "cell_type": "code",
   "execution_count": 21,
   "id": "53dd96a9",
   "metadata": {
    "colab": {
     "base_uri": "https://localhost:8080/"
    },
    "id": "53dd96a9",
    "outputId": "b0e29b7e-c091-495f-c88d-718e5d2da438"
   },
   "outputs": [
    {
     "data": {
      "text/plain": [
       "0"
      ]
     },
     "execution_count": 21,
     "metadata": {},
     "output_type": "execute_result"
    }
   ],
   "source": [
    "anidf[\"synopsis\"].isnull().sum()"
   ]
  },
  {
   "cell_type": "code",
   "execution_count": 22,
   "id": "f2c4f128",
   "metadata": {
    "colab": {
     "base_uri": "https://localhost:8080/",
     "height": 0
    },
    "id": "f2c4f128",
    "outputId": "9098b99c-d534-4e3f-cdd3-9465e1094e16"
   },
   "outputs": [
    {
     "data": {
      "text/plain": [
       "synopsis\n",
       "No synopsis information has been added to this title. Help improve our database by adding a synopsis .                                                                                                                                                                                                                                                                                                                                                                                                                                                                                                                                                                                                                                                                                                                                                                                                                                                                                                                                                                                                                                                                                                                                                                                                                           4353\n",
       "Second season of .                                                                                                                                                                                                                                                                                                                                                                                                                                                                                                                                                                                                                                                                                                                                                                                                                                                                                                                                                                                                                                                                                                                                                                                                                                                                                                                124\n",
       "The second season of .                                                                                                                                                                                                                                                                                                                                                                                                                                                                                                                                                                                                                                                                                                                                                                                                                                                                                                                                                                                                                                                                                                                                                                                                                                                                                                             57\n",
       "Third season of .                                                                                                                                                                                                                                                                                                                                                                                                                                                                                                                                                                                                                                                                                                                                                                                                                                                                                                                                                                                                                                                                                                                                                                                                                                                                                                                  53\n",
       "The third season of .                                                                                                                                                                                                                                                                                                                                                                                                                                                                                                                                                                                                                                                                                                                                                                                                                                                                                                                                                                                                                                                                                                                                                                                                                                                                                                              29\n",
       "                                                                                                                                                                                                                                                                                                                                                                                                                                                                                                                                                                                                                                                                                                                                                                                                                                                                                                                                                                                                                                                                                                                                                                                                                                                                                                                                 ... \n",
       "Hatsunejima abounds in mysteries—one of which is the town's unwithering cherry trees that are said to grant the most genuine wishes. There are also rumors of people possessing supernatural powers, like Junichi Asakura, who can see other people's dreams and create sweets out of nothing. Alongside his sister Nemu, he enjoys living in peace with his friends at Kazami Academy but chooses to shroud his identity in secrecy. His tranquil school life comes to a halt when he finds out that his childhood friend Sakura Yoshino has returned from America after six years. She is there for one purpose: to fulfill the promises she made long ago with Junichi. Little does anyone know, however, that Sakura's appearance is bound to change everyone's lives—for better or worse. [Written by MAL Rewrite]                                                                                                                                                                                                                                                                                                                                                                                                                                                                                                             1\n",
       "Fifteen years ago, a hyperspace gate appeared in the middle of the Pacific Ocean, connecting Earth to a strange world filled with fairies and monsters. The city of San-Teresa became a home for over two million of these otherworldly visitors. Unfortunately, the population boom also brought its fair share of problems—drugs, prostitution, and trafficking. To combat the rampant crime lurking in the city's shadows, a new department was established in the San-Teresa Metropolitan Police. Former JSDF soldier Kei Matoba is one of the best cops that the department has to offer, despite his inclination to occasionally bend the rules. After a fairy trafficking case goes wrong, Kei loses Rick Fury, his friend and partner of four years, setting him on a quest for vengeance. To help him with the case, the department pairs him with Tilarna Exedilika, a noble of the Farbani Kingdom. As one of the Knights of Mirvor, her duty is to rescue the noble fairy that Kei encountered during his last case. Despite his distaste for non-humans, he accepts the arrangement at the request of his superiors. Now, the unlikely duo must come together and overcome their differences in order to return the missing fairy to her country and avenge the death of Kei's partner. [Written by MAL Rewrite]       1\n",
       "Although cheerful and delicate, Sakura Sakurakouji is a skilled martial artist with a sense of fairness that never falters—no matter the situation. Upon witnessing people burning in blue flames while on a bus ride home, she calls the police to bring their murderer to justice only to find that no evidence remains. However, all her doubts about what she saw vanish when the next day, the new transfer student Rei Oogami joins her class; he is the very boy she watched commit murder in cold blood. Rei is kind, sweet, and quickly becomes popular, contradicting Sakura's accusations. Soon enough, she learns his true nature: a Code Breaker, or one who does not exist. To Sakura's shock, Rei—armed with mysterious powers—seeks to exact justice according to the principle of an eye for an eye. Determined to bring Rei to the right path, Sakura keeps close to him in the hopes of redeeming him from his ways before others are hurt. [Written by MAL Rewrite]                                                                                                                                                                                                                                                                                                                                             1\n",
       "Hasegawa Kodaka has transferred schools, and he's having a hard time making friends. It doesn't help that his blond hair tends to make people think he's a delinquent. One day, he runs into his bad-tempered solitary classmate Yozora while she's talking animatedly to her imaginary friend Tomo. Realizing that neither of them have any actual friends, they decide that the best way to alter this situation is to form a club and start recruiting. That is how Rinjinbu, The Neighbours' Club, was formed, a club specifically designed for people who don't have very many friends. As other lonely classmates slowly join their little club, they'll try to learn how to build friendships through cooking together, playing games, and other group activities. But will this group of relationship-challenged misfits really be able to get along? (Source: MU)                                                                                                                                                                                                                                                                                                                                                                                                                                                          1\n",
       "Prologue of .                                                                                                                                                                                                                                                                                                                                                                                                                                                                                                                                                                                                                                                                                                                                                                                                                                                                                                                                                                                                                                                                                                                                                                                                                                                                                                                       1\n",
       "Name: count, Length: 15434, dtype: int64"
      ]
     },
     "execution_count": 22,
     "metadata": {},
     "output_type": "execute_result"
    }
   ],
   "source": [
    "anidf[\"synopsis\"].value_counts()"
   ]
  },
  {
   "cell_type": "code",
   "execution_count": 23,
   "id": "8ad0dc4e",
   "metadata": {
    "id": "8ad0dc4e"
   },
   "outputs": [],
   "source": [
    "import re\n",
    "pattern = '[\\[\\(][^\\[\\(]*[\\]\\)]$'\n",
    "\n",
    "def cleaner(x):\n",
    "\n",
    "    if x == '':\n",
    "        return x\n",
    "    elif x[-1] in [']', ')']:\n",
    "        x = re.sub(pattern, '', x)\n",
    "\n",
    "    else:\n",
    "\n",
    "        if x == \"No synopsis information has been added to this title. Help improve our database by adding a synopsis .\":\n",
    "            x = \"\" \n",
    "\n",
    "        elif len(x) <= 50:\n",
    "            x = \"\"\n",
    "            \n",
    "    return x"
   ]
  },
  {
   "cell_type": "code",
   "execution_count": 24,
   "id": "9e3f0e86",
   "metadata": {
    "id": "9e3f0e86"
   },
   "outputs": [],
   "source": [
    "anidf[\"synopsis\"] = anidf[\"synopsis\"].apply(cleaner)"
   ]
  },
  {
   "cell_type": "code",
   "execution_count": 25,
   "id": "b8d8a36b",
   "metadata": {
    "colab": {
     "base_uri": "https://localhost:8080/",
     "height": 0
    },
    "id": "b8d8a36b",
    "outputId": "b64cd50c-49a4-4bb5-a542-d1f53992a9c5",
    "scrolled": true
   },
   "outputs": [
    {
     "data": {
      "text/html": [
       "<div>\n",
       "<style scoped>\n",
       "    .dataframe tbody tr th:only-of-type {\n",
       "        vertical-align: middle;\n",
       "    }\n",
       "\n",
       "    .dataframe tbody tr th {\n",
       "        vertical-align: top;\n",
       "    }\n",
       "\n",
       "    .dataframe thead th {\n",
       "        text-align: right;\n",
       "    }\n",
       "</style>\n",
       "<table border=\"1\" class=\"dataframe\">\n",
       "  <thead>\n",
       "    <tr style=\"text-align: right;\">\n",
       "      <th></th>\n",
       "      <th>name_english</th>\n",
       "      <th>name</th>\n",
       "      <th>score</th>\n",
       "      <th>ranked</th>\n",
       "      <th>popularity</th>\n",
       "      <th>members</th>\n",
       "      <th>synopsis</th>\n",
       "      <th>synonyms</th>\n",
       "      <th>type_of</th>\n",
       "      <th>total_episodes</th>\n",
       "      <th>...</th>\n",
       "      <th>scored_10_by</th>\n",
       "      <th>scored_9_by</th>\n",
       "      <th>scored_8_by</th>\n",
       "      <th>scored_7_by</th>\n",
       "      <th>scored_6_by</th>\n",
       "      <th>scored_5_by</th>\n",
       "      <th>scored_4_by</th>\n",
       "      <th>scored_3_by</th>\n",
       "      <th>scored_2_by</th>\n",
       "      <th>scored_1_by</th>\n",
       "    </tr>\n",
       "  </thead>\n",
       "  <tbody>\n",
       "  </tbody>\n",
       "</table>\n",
       "<p>0 rows × 36 columns</p>\n",
       "</div>"
      ],
      "text/plain": [
       "Empty DataFrame\n",
       "Columns: [name_english, name, score, ranked, popularity, members, synopsis, synonyms, type_of, total_episodes, premiered, studios, genres, demographic, duration_per_ep, rating, scored_by, favorites, aired, source, watching, completed, on_hold, dropped, plan_to_watch, total, scored_10_by, scored_9_by, scored_8_by, scored_7_by, scored_6_by, scored_5_by, scored_4_by, scored_3_by, scored_2_by, scored_1_by]\n",
       "Index: []\n",
       "\n",
       "[0 rows x 36 columns]"
      ]
     },
     "execution_count": 25,
     "metadata": {},
     "output_type": "execute_result"
    }
   ],
   "source": [
    "anidf[anidf[\"synopsis\"].isin([\"nan\"]) == True]"
   ]
  },
  {
   "cell_type": "code",
   "execution_count": 26,
   "id": "7f7fb514",
   "metadata": {},
   "outputs": [],
   "source": [
    "anidf.drop(anidf[anidf['synopsis'] == ''].index, inplace=True)"
   ]
  },
  {
   "cell_type": "code",
   "execution_count": 27,
   "id": "1c2b465c",
   "metadata": {},
   "outputs": [],
   "source": [
    "anidf.reset_index(drop=True, inplace=True)"
   ]
  },
  {
   "cell_type": "code",
   "execution_count": 28,
   "id": "86450349",
   "metadata": {
    "colab": {
     "base_uri": "https://localhost:8080/",
     "height": 0
    },
    "id": "86450349",
    "outputId": "7dd88c28-b90c-45fc-9327-5f26db13ae09"
   },
   "outputs": [
    {
     "name": "stdout",
     "output_type": "stream",
     "text": [
      "<class 'pandas.core.series.Series'>\n",
      "RangeIndex: 14740 entries, 0 to 14739\n",
      "Series name: synopsis\n",
      "Non-Null Count  Dtype \n",
      "--------------  ----- \n",
      "14740 non-null  object\n",
      "dtypes: object(1)\n",
      "memory usage: 115.3+ KB\n"
     ]
    }
   ],
   "source": [
    "anidf[\"synopsis\"].info()"
   ]
  },
  {
   "cell_type": "markdown",
   "id": "a1c33170",
   "metadata": {
    "id": "a1c33170"
   },
   "source": [
    "## Synonyms\n"
   ]
  },
  {
   "cell_type": "code",
   "execution_count": 29,
   "id": "296e6618",
   "metadata": {
    "colab": {
     "base_uri": "https://localhost:8080/",
     "height": 0
    },
    "id": "296e6618",
    "outputId": "3d7adce7-b56e-441a-ed9e-6a202c07062e"
   },
   "outputs": [
    {
     "data": {
      "text/plain": [
       "0                      Rocky Joe 2\n",
       "1    Mushishi Zoku Shou 2nd Season\n",
       "2                     キングダム 第4シリーズ\n",
       "3                        ヴィンランド・サガ\n",
       "4                        カウボーイビバップ\n",
       "Name: synonyms, dtype: object"
      ]
     },
     "execution_count": 29,
     "metadata": {},
     "output_type": "execute_result"
    }
   ],
   "source": [
    "anidf[\"synonyms\"].head()"
   ]
  },
  {
   "cell_type": "code",
   "execution_count": 30,
   "id": "9ee91d2e",
   "metadata": {
    "colab": {
     "base_uri": "https://localhost:8080/"
    },
    "id": "9ee91d2e",
    "outputId": "84507fe7-515c-4b3a-cad3-7271bfb1cb44"
   },
   "outputs": [
    {
     "data": {
      "text/plain": [
       "0"
      ]
     },
     "execution_count": 30,
     "metadata": {},
     "output_type": "execute_result"
    }
   ],
   "source": [
    "anidf[\"synonyms\"].isnull().sum()"
   ]
  },
  {
   "cell_type": "code",
   "execution_count": 31,
   "id": "500966a7",
   "metadata": {
    "colab": {
     "base_uri": "https://localhost:8080/",
     "height": 0
    },
    "id": "500966a7",
    "outputId": "3ef11815-b40b-40a6-f5e8-3aaf60266d18"
   },
   "outputs": [
    {
     "data": {
      "text/plain": [
       "'Rocky Joe 2Mushishi Zoku Shou 2nd Seasonキングダム 第4シリーズヴィンランド・サガカウボーイビバップNekomonogatari: Shiro, Kabukimonogatari, Otorimonogatari, Onimonogatari, Koimonogatari鬼滅の刃 遊郭編Shingeki no Kyojin Season 4, Attack on Titan Season 4The First Step, Hajime no Ippo: The FightingSen and Chihiro\\'s Spiriting AwayKoyomi Vampかぐや様は告らせたい -ファーストキッスは終わらない-Haikyuu!! Third Season, Haikyuu!! Karasuno High VS Shiratorizawa AcademyTHE FIRST SLAM DUNKMob Psycho 100 2nd Season, Mob Psycho Hyaku, Mob Psycho One Hundredぼっち・ざ・ろっく！銀魂. 銀ノ魂篇ヴィンランド・サガ SEASON2キングダム 第3シリーズ君の名は。Jujutsu Kaisen: Kaigyoku Gyokusetsu, Jujutsu Kaisen: Shibuya Jihen, Sorcery Fight, JJKGekijouban Violet EvergardenEnd Story 2nd SeasonモンスターGintama.: Silver Soul Arc 2Gintama: The Final Chapter - Be Forever Yorozuya, Gintama Movie 2Shingeki no Kyojin: The Final Season Part 3, Shingeki no Kyojin Season 4, Attack on Titan Season 4Code Geass: Hangyaku no Lelouch 2nd Season, Code Geass: Hangyaku no Lelouch Second SeasonBokuyabaSangatsu no Lion Second SeasonThe Pharmacist\\'s Monologue, Drugstore SoliloquyThe Shape of VoiceCLANNAD〜AFTER STORY〜 クラナド アフターストーリーGin Tama, Silver Soul, Yorinuki Gintama-sanGintama (2017)Fruits Basket 3rd Season, Fruits Basket (2019) 3rd Season, FurubaKaguya-sama wa Kokurasetai: Tensai-tachi no Renai Zunousen 3rd Season, Kaguya-sama: Love is War Season 3rd SeasonGintama\\' (2012), Gintama\\' Overdrive, KintamaLoGH, LotGH, Gin\\'eiden, GinEiDen, Heldensagen Vom KosmosinselBleach: Thousand-Year Blood War ArcGintama (2011)HxH (2011)銀魂 THE FINAL進撃の巨人 Season3 Part.2Gintama\\' (2015)STEINS;GATEHagane no Renkinjutsushi: Fullmetal Alchemist, Fullmetal Alchemist (2009), FMA, FMABFrieren at the FuneralShowa and Genroku Era Lover\\'s Suicide Through Rakugo文豪ストレイドッグスThe Legend of the Galactic Heroes: The New Thesis 3rd Season, LotGH, Legend of the Galactic Heroes: Die Neue These - ClashRocky Joe, Champion JoeOokami to Koushinryou 2nd Season, Spice and Wolf 2nd SeasonWelcome to the NHKNatsume Yujincho, Natsume Yujin-choKemono no Soujya Erin, Kemono no Sou-ja ErinKingdom Hisho Hen, Kingdom: Dai 2 SeriesSword StorySuzume\\'s Door-Locking宇宙戦艦ヤマト2199ギヴンFate/stay night (2015), Fate - Stay NightNatsume Yuujinchou Go: Hitoyo Sakazuki, Natsume Yuujinchou Go: Yuugi no Utage, Natsume Yuujinchou Go: One Night Sake Cup, Natsume Yuujinchou Go: Party of Fun & GamesMajor 6th SeasonSekai Meisaku Gekijou, Romeo\\'s Blue Skies, Romio no Aoi SoraRe: Life in a different world from zero 2nd Season, ReZero 2nd Season, Re:Zero - Starting Life in Another World 2PsychopathONE OUTS Nobody wins, but I!Natsume Yuujinchou OVA, Natsume Yujincho OVA, Natsume\\'s Book of Friends OVA, Natsume on One Snowy Day名探偵コナン 黒鉄の魚影 (サブマリン)Parasite, Parasitic Beasts, ParasyteBerusaiyu no BaraTGCF Special, Tian Guan Ci Fu SpecialTensura 2アイドリッシュセブンGhostory, MonstoryIDバクマン。2ndシーズンDr. Stone 3rd Season Part 2機動戦士ガンダムTHE ORIGINViolet Evergarden Extra Episode, Violet Evergarden Episode 14, Violet Evergarden Special, The day you understand \"I love you\" will surely comeUsagi DropTGCF, Tian Guan Ci FuYahari Ore no Seishun Love Comedy wa Machigatteiru. 3rd Season, My Teen Romantic Comedy SNAFU 3, Oregairu 3, My youth romantic comedy is wrong as I expected 3NGE, Evangelion (1995)HELLSING OVAGintama: Jump Anime Tour 2008 SpecialTo You, the ImmortalNausicaa of the Valley of the Wind, Kaze no Tani no Nausicaa, Warriors of the WindNa Honjaman Level Up, 나 혼자만 레벨업, I Level Up AloneEiga K-On!, Keion MovieRamayana: Rama Ouji Densetsu, The Warrior PrinceHaikyuu!! (2020), Haikyuu!! Fourth Season, Haikyuu!! 4th Seasonバッカーノ！クロスゲームBLUE GIANTBarakamonNon Non Biyori 3rd Season, Non Non Biyori Third SeasonJobless Reincarnation: I Will Seriously Try If I Go To Another WorldGrandmaster of Demonic Cultivation 2, The Founder of Diabolism 2, Mo Dao Zu Shi 2nd Season, The Founder of Diabolism: The RebornMahou Shoujo Madoka Magika Movie 2, Magical Girl Madoka Magica Movie 2Mahou Shoujo Madoka Magika, Magical Girl Madoka MagicaMade in Abyss Movie 2: Wandering TwilightKimetsu no Yaiba Movie: Mugen Ressha-hen (TV)Kaze ga Tsuyoku Fuite Iru, KazetsuyoKara no Kyoukai: The Garden of Sinners Movie 7, Borderline of Emptiness: Murder Speculation (Part 2), The Garden of Sinners: ...not nothing heartShadow Garden 2nd SeasonCowboy Bebop: Knockin\\' on Heaven\\'s DoorChihayafull 2Sangatsu no Lionジョゼと虎と魚たちCountry of JewelsGintama° OVALet\\'s Decorate the Promised Flowers in the Morning of Farewells, SayoAsa神様はじめました～過去編～夏目友人帳 陸 特別編Modao Zushi, Grandmaster of Demonic Cultivation, The Founder of Diabolism, Mo Dao Zu Shi: Qianchen Pian, 魔道祖师 前尘篇, Madou SoshiMajor 5th SeasonVivy -Fluorite Eye\\'s Song- (ヴィヴィ -フローライトアイズソング-)Violet Evergarden Side Story: Eternity and the Auto Memory DollHxHKyouko to Katsuya no Monogatari, The Story of Kyoko and KatsuyaSaiki Kusuo no Psi Nan, Saiki Kusuo no SainanSkilled Teaser Takagi-san 3rd Season, Karakai Jouzu no Takagi-san Third SeasonKaguya Wants to be Confessed To: The Geniuses\\' War of Love and BrainsSaiki Kusuo no Psi Nan 2Saenai Heroine no Sodatekata Movie, Saekano: How to Raise a Boring Girlfriend MovieGekijouban Natsume Yuujinchou, Natsume Yujin-cho the Movie: Ephemeral Bondモノノ怪Ghost in the Shell SAC, Ghost in the Shell: Stand Alone ComplexKono Oto Tomare! 2nd Season, Stop This Sound! 2nd SeasonShingeki no Kyojin: Birth of LeviEiga Yuru CampMushishi Zoku Shou Special, Mushi-shi Zoku Shou: Odoro no Michi, Mushishi Zoku Shou Episode 11 and 12, Mushishi Next Passage: Path of ThornsKonoSuba Movie, Eiga Kono Subarashii Sekai ni Shukufuku wo!ぐらんぶるShinsengumi Douran Hen, Kabuki Chou Shitennou Hen, Kabuki-chou Devas Hen, Gintama: The Best of Gintama on Theater 2DJoJo\\'s Bizarre Adventure Part 3, JoJo\\'s Bizarre Adventure: Stardust Crusaders - Egypt ArcHigh Kyuu!!, HQ!!ゴールデンカムイ続・終物語Steins Gate MovieGekijouban Jujutsu Kaisen 0, JJK 0The Wolf Children Ame and YukiNatsume Yuujinchou Three, Natsume Yuujinchou 3, Natsume Yujincho 3Natsume Yuujinchou Season 5, Natsume\\'s Book of Friends FiveKoyomi Vamp, Kizumonogatari Part 2ジョジョの奇妙な冒険 ストーンオーシャンJoJo\\'s Bizarre Adventure Part 5: Golden Wind, JoJo no Kimyou na Bouken Part 5: Ougon no Kaze, Le Bizzarre Avventure Di GioGio Parte 5: Vento AureoBerserk: The Chronicles of Wind Blades, Sword-Wind Chronicle BerserkTengen Toppa Gurren Lagann Movie 2Evangelion: 4.0, Rebuild of Evangelion, Shin Evangelion Gekijouban: ||, Rebuild of Evangelion: FinalMushishi Tokubetsu-hen: Suzu no Shizuku, Mushishi: The Next Chapter - Drops of Bells青春ブタ野郎はゆめみる少女の夢を見ないGekijouban Kimetsu no Yaiba: Mugen Ressha-hen, Kimetsu no Yaiba: Infinity Train, Demon Slayer Movie: Infinity TrainFighting Spirit: Rising, Hajime no Ippo 3サイバーパンク エッジランナーズThe Vanishment of Haruhi Suzumiya, Suzumiya Haruhi no Syoshitsu, Haruhi MovieGekijouban Made in Abyss: Fukaki Tamashii no Reimei, Made in Abyss: Dawn of the Deep SoulSorcery Fight, JJK進撃の巨人 Season3PPTANatsume Yuujinchou Season 6, Natsume\\'s Book of Friends SixDNHaikyuu!! Second SeasonTengen Toppa Gurren-Lagann, Making Break-Through Gurren Lagann, Heavenly Breakthrough Gurren Lagann, TTGL, Gurren LagganKaguya Wants to be Confessed To: The Geniuses\\' War of Love and Brains 2nd Season, Kaguya-sama wa Kokurasetai: Tensai-tachi no Renai Zunousen 2nd Season, Kaguya-sama: Love is War 2nd SeasonKimiusoNatsume Yuujinchou Four, Natsume Yuujinchou 4, Natsume Yujincho 4メイドインアビス 烈日の黄金郷メイドインアビス蟲師Mononoke Himeハウルの動く城Fate/stay night Movie: Heaven\\'s Feel 3Hajime no Ippo New Series, Hajime no Ippo Season II, Hajime no Ippo 2オッドタクシー無職転生 ～異世界行ったら本気だす～ 第2クールヴァイオレット・エヴァーガーデンTian Guan Cifu 2nd Season, Tian Guan Ci FuMy Star時光代理人, Jikou Dairinin, Shi Guang Dai Li RenMushi-shi Zoku Shou, Mushishi: The Next ChapterGTO, GTO - The AnimationBleach: Thousand-Year Blood War Arc Part 2コードギアス 反逆のルルーシュRurouni Kenshin: Tsuiokuhen, Rurouni Kenshin: Reminiscence86―エイティシックス―Mob Psycho 100 3rd Season, Mob Psycho Hyaku, Mob Psycho One HundredEnd StoryEverydayYu Yu Hakusho, Ghost Fighter, Poltergeist Report, YuYu HakushoOPChihayafull 3銀魂 THE SEMI-FINALBANANA FISHRainbow: Criminal Seven of Compound Two Cell SixGrandmaster of Demonic Cultivation 3, The Founder of Diabolism 3, Mo Dao Zu Shi 3rd Season, Mo Dao Zu Shi Final ArcBlade of Demon Destructionからかい上手の高木さんMahou Shoujo Madoka Magika Movie 3, Magical Girl Madoka Magica Movie 3Aria Season 3Ansatsu Kyoushitsu Season 2, Ansatsu Kyoushitsu Final SeasonFate/stay night Movie: Heaven\\'s Feel 2Mob Psycho Hyaku, Mob Psycho One HundredUchuu Kyodaiサマータイムレンダ約束のネバーランドJoJo no Kimyou na Bouken Part 4: Diamond wa Kudakenai, Diamond is not CrashLink Click 2nd Season, 時光代理人 -LINK CLICK- IIOne Punch-Man, One-Punch Man, OPMSAMURAI CHAMPLOOKing Ranking進撃の巨人 Season2Shouwa Genroku Rakugo Shinjuu 2nd Season, Showa and Genroku Era Lover\\'s Suicide Through Rakugo 2nd SeasonチェンソーマンTombstone for Fireflies銀魂。ポロリ編Gintama: Benizakura Arc - A New Retelling, Gintama Movie: Crimson Sakura Chapter New Edition, Gintama: Shin-yaku Benizakura-henプルートウGhost In The Shell S.A.C. 2nd GIGKara no Kyoukai: The Garden of Sinners Movie 5, Borderline of Emptiness: Paradox Spiral, The Garden of Sinners: Paradox ParadigmYuru Camp 2nd Season, YurukyanUchuu yori mo Tooi Basho, A Story That Leads to the Antarctica, YorimoiSteins,Gate ZeroBakuman Season 3Mushi-shi Tokubetsu-hen: Hihamu Kage, Mushishi Special: HihamukageパーフェクトブルーNatsume Yuujinchou Two, Natsume Yuujinchou 2, Natsume Yujincho 2SPY×FAMILY劇場版 少女☆歌劇 レヴュースタァライトAoT, SnKFruits Basket (2019) 2nd Season, Furuba, Fruits Basket (Kouhen)Haikyu!! TO THE TOP 2nd-cour, Haikyu!! TO THE TOP Part 2Fate/Zero Second SeasonNANA [ナナ]KimiSui, Let Me Eat Your PancreasスラムダンクShinseiki Evangelion Gekijouban: The End of Evangelion, EoEYojo-Han Shinwa Taikei, Yojou-Han Shinwa Taikei, Yojohan Shinwa TaikeiDaiya no Ace: Act IIDoraemon: Nobita and the New Steel Troops - Angel WingsCard Captors Sakura The Movie 2, Card Captor Sakura: Enchanted Cards文豪ストレイドッグス 第3期IDOLiSH7 3rd Season, Idolish Seven 3rd SeasonHigh Kyuu!! Movie 4: Haikyuu!! Movie 4: Battle of Concepts, Haikyuu!!: Karasuno Koukou VS Shiratorizawa Gakuen Koukou Recap, Haikyuu!! Recap 4SasamiyaOokami to KoushinryouIf You Listen Carefully, Ghibli Movie 10Major 3rd Season, Major 3, m3Witch\\'s Express DeliveryMahou Shoujo Madoka Magika Movie 1, Magical Girl Madoka Magica Movie 1To All the Corners of the WorldKamisama Hajimemashita 2nd Season, Kami-sama Hajimemashita 2nd Season, Kamisama Kiss 2nd Seasonトライガン天国大魔境Gekijouban Youjo Senki男子高校生の日常青春ブタ野郎はランドセルガールの夢を見ないAoButaRe: Life in a different world from zero, ReZeroNodame Cantabile Third Season, Nodame Cantabile Season 3G-Tekketsu 2nd Season劇場版 のんのんびより ばけーしょん名探偵コナン エピソードONE 小さくなった名探偵Mumins, Delightful Moomin Family, Fun Family Moomin, The Moomins, Tales From Moominvalleyはじめの一歩 間柴vs木村 死刑執行Golden Kamuy Second SeasonChild of a BeastHunter x Hunter: G I Final, Hunter x Hunter OVA 3Gyakkyou Burai Kaiji S2, The Suffering Pariah Kaiji: Backslide ArcDororo to HyakkimaruChiyoko Millennial Actress劇場版 黒執事 Book of the Atlantic鬼滅の刃 刀鍛冶の里編My Neighbour TotoroSteins Gate: Episode 23 (β), Open the Missing LinkSPY×FAMILY CODE: WhiteワールドトリガーTenkuu no Shiro Rapyutaストレンヂア -無皇刃譚-Space☆Dandy Second SeasonThe First Step - Champion RoadThe Legend of the Galactic Heroes: The New Thesis - Stellar War Part 3, Ginga Eiyuu Densetsu: Die Neue These 2nd SeasonΠΛΑΝΗΤΕΣのだめカンタービレGive Blessings to This Wonderful World! 2Kobayashi-san Chi no Maid Dragon 2nd Season, Miss Kobayashi\\'s Dragon Maid 2nd SeasonSpice and WolfNaruto Hurricane ChroniclesGhost in the ShellYurukyanTsubasa Reservoir Chronicle OVA, Tsubasa Reservoir Chronicle: Tokyo RevelationsWhite BoxShin Sekai YoriHibike! Euphonium Third SeasonTobaku Mokushiroku Kaiji, The Suffering Pariah Kaiji銀の匙フェイト/ゼロブルーロックThe Light of a Firefly ForestGintama: Shinyaku Benizakura-hen OVA, Gintama: Benizakura Arc - A New Retelling Special, Gintama Movie: Crimson Sakura Chapter New Edition, Gintama: Shin-yaku Benizakura-henドクターストーン同級生Red lineJobless Reincarnation: I Will Seriously Try If I Go To Another World, Mushoku Tensei: Isekai Ittara Honki Dasu 2nd Seasonメジャー ワールドシリーズ編Kino\\'s Travels: The Beautiful WorldMoriarty\\'s Patriotism Part 2, Moriarty the Patriot 2ゆびさきと恋々東京ゴッドファーザーズ天気の子Steins Gate Special, Steins Gate Episode 25, Steins Gate OVA頭文字 D Final StageBECKバンドリ！It\\'s MyGO!!!!!Eighty SixSamurai X, Wandering Kenshin: Romantic Tales from the Meiji EraKuroko no Basuke 3rd Season, The Basketball Which Kuroko PlaysShadow GardenSakamichi no Aporon, Apollo on the SlopeDetective Conan Movie 06: The Phantom of Baker StreetKiller Seven 3, Scissor Seven 3, 伍六七第三季Legend of the Galactic Heroes: Die Neue These, Ginga Eiyuu Densetsu: Die Neue These Fourth Season, Ginga Eiyuu Densetsu: Die Neue These 4th SeasonEvangelion Shin Gekijouban: Ha, Rebuild of Evangelion: 2.0 You Can (Not) Advance, Evangelion 2.22Daiya no Ace: Second Season, Ace of the Diamond: 2nd SeasonMy Hero Academia 6The Town Where Only I am Missing, BokuMachiAnoHana, We Still Don\\'t Know the Name of the Flower We Saw That Day.Hunter x Hunter OVA, Hunter x Hunter: Yorkshin City Kanketsu-henHibike! Euphonium Second SeasonNGNL Zero, NGNL the MovieGinga Eiyuu Densetsu Gaiden: Senoku no Hoshi, Senoku no Hikari, Legend of the Galactic Heroes Gaiden: A Hundred Billion Stars, A Hundred Billion Lights, LoGH GaidenThe King of the CavernHands off the Motion Pictures Club!映画大好きポンポさんBuddy DaddiesIDOLiSH7 2, Idolish Seven 2Given OVA, Given OADブラッククローバーKiller Seven 2, Scissor Seven, Wu Liuqi`s Strongest Hair StylistWorking!!! Episode 14TenSuraShokugeki no Soma, Food Wars: Shokugeki no SomaプリンセスチュチュParty People KoumeiNon Non Biyori Nonstop Episode 13, Non Non Biyori Nonstop OVAImpostoryMajor OVAMobile Suit Gundam: The Origin (TV)カイバノラガミ ARAGOTO夏目友人帳 石起こしと怪しき来訪者Rupan SanseiBeyond the Boundary Movie, Kyokai no Kanata MovieDr. Stone 3rd Seasonデス・パレードHigh Kyuu!! Movie 3, Haikyuu!! Movie 3: Genius and Sense, Haikyuu!! Second Season Recap, Haikyuu!! Recap 3Ginga Eiyuu Densetsu: Die Neue These 2nd Season劇場版「Fate/stay night [Heaven\\'s Feel] Ⅰ.presage flower」Dr. Stone 2nd Season, Dr. Stone Second SeasonAKIRA（アキラ）Ohran Koko Host Club, Ouran Koukou Hosutobu, Ouran Koukou Host Bu, OHSHCMade in Abyss Movie 1: Journey\\'s Dawn神様はじめました「神様、幸せになる」Toaru Kagaku no Railgun 3, Toaru Kagaku no Choudenjihou 3, A Certain Scientific Railgun 3Gekijouban Tengen Toppa Gurren Lagann: Guren-hen, Tengen Toppa Gurren Lagann the MovieMoriarty\\'s Patriotism頭文字〈イニシャル〉D SECOND STAGEInitial D 4th StageHigurashi no Naku Koro ni 2, Higurashi no Naku Koro ni 2nd Series, Higurashi no Nakukoro ni 2nd Season, The Moment the Cicadas Cry 2『ガールズ＆パンツァー 最終章』第3話DBZ, Dragonball Zドラゴンボール超（スーパー） ブロリーCCS, Cardcaptors, Card Captor SakuraBlack Lagoon 2nd Season, Black Lagoon Second SeasonAria 2Detective Conan Movie 20: Pitch Black NightmareDetective ConanLycoRecoKeion 2, K-On!! 2nd SeasonNon Non Biyori 2nd Season, Non Non Biyori Second SeasonMajor 4th Season, Major 4, m4LB!: Refrain夜は短し歩けよ乙女Stand By Me Doraemon 2Hunter X Hunter OVA 2Horogura, HoloGraGirls & Panzer GekijoubanFate/stay night (2014), Fate - Stay NightDr.STONE 龍水デジモンアドベンチャー LAST EVOLUTION 絆ChihayafullボールルームへようこそBakuman Season 1Honey and Clover 2, Honey & Clover IIあそびあそばせアオアシ戦姫絶唱シンフォギアXVOne Piece SpecialNOMAD メガロボクス2メジャー  (第2シリーズ)Kotaro Lives By Himself四畳半タイムマシンブルースxxxHOLiC Rou: AdayumeOregairu 2, My Teen Romantic Comedy SNAFU 2, Yahari Ore no Seishun Love Comedy wa Machigatteiru. Second Season, Yahari Ore no Seishun Love Comedy wa Machigatteiru. 2nd SeasonVanitas no Shuki 2nd Season, Memoir of Vanitas 2nd Season, Vanitas no Carte 2nd SeasonSono Kisekae Ningyou wa Koi wo Suru, KiseKoiInu Yasha: Kanketsu-henホリミヤ -piece-Hori-san and Miyamura-kunBerserk Movie, Berserk Saga, Berserk: Golden Age Arc III - DescentSaiki Kusuo no Psi Nan 3ReLIFE 完結編Pretty Cure All Stars Movie FIkkoku HouseGekijouban Hibike! Euphonium: Mizore to Nozomi no Monogatari, Hibike! Euphonium: The Story of Mizore and Nozomi, Hibike! Euphonium Movie: Mizore to Nozomi no Monogatari劇場版『ONE PIECE STAMPEDE』（スタンピード）名探偵コナン漆黒の追跡者(チェイサー)メジャー （第1シリーズ）Magi: The Labyrinth of Magic 2, Magi Season 2Kuroko no Basuke 2nd Season, The Basketball Which Kuroko PlaysKaguyahime no Monogatari, Princess Kaguya StoryxxxHOLiC: Tsugi, xxxHOLiC TV 2, xxxHOLiC New Series, xxxHOLiC Second Season, xxxHOLiC 2nd SeriesスケットダンスThe End Girl TripShoujo Kakumei UtenaFuruba, Fruits Basket (Zenpen)Fate/strange Fake -Whispers of Dawn-Gintama: Jump Festa 2014 Special, Gintama OAD, Gintama OVANGNL名探偵コナン 銀翼の奇術師[マジシャン]Kyou Kara Ore Ha!!, From Today I\\'ll, From Today on I am, From Today, It\\'s My Turn!!黒執事 Book of MurderThe Magician\\'s Bride, MahoyomeKuroshitsuji Circus Hen, Kuroshitsuji Shin Series, Black Butler 3, Kuroshitsuji IIIKuroko no Basuke, KuroBas, The Basketball Which Kuroko PlaysHigh Kyuu!! Movie 2, Haikyuu!! Recap 2Legend of the Galactic Heroes Gaiden: Spiral Labyrinth, LoGH Gaiden: Spiral LabyrinthAngel Beats!（エンジェルビーツ!）Tiger X DragonSPY×FAMILY Season 2Sakurasou no Pet na KanojoOne Piece Movie 10名探偵コナン\\u3000異次元の狙撃手（スナイパー）攻殻機動隊 Stand Alone Complex - The Laughing ManChild\\'s ToyHyou-ka, Hyouka: You can\\'t escape, Hyou-ka: You can\\'t escape, HyokaAscendance of a Bookworm 3rd SeasonHikaru\\'s Go『ガールズ＆パンツァー 最終章』第2話Gintama Harumatsuri 2010Battle Through the Heavens: Three Year Agreementシティーハンター2銀魂〜何事も最初が肝心なので多少背伸びするくらいが丁度良い〜LoGH: Overture to a New War, Ginga Eiyu Densetsu Aratanaru Tatakai no Jokyoku, Legend of the Galactic Heroes MOVIE (1993)To Your Eternity 2nd Season, To You, the Immortal 2nd Season沧元图动画, Azure Legacy, Cang Yuantu, Chang Yuan Tu, Cang Yuan Tu僕のヒーローアカデミア暗殺教室Brave King GaoGaiGar Final, King of Braves GaoGaiGar Final, Yuusha Ou GaoGaiGar Final, Yuusha-Oh GaoGaiGar FinalUchoten Kazoku 2スキップ・ビート！Shokugeki no Souma 2nd Season, Shokugeki no Soma 2, Food Wars: Shokugeki no Soma 2, Shokugeki no Soma: The Second Plateオーバーロード IVGekijouban Kuroko no Basuke: Last Game, The Basketball Which Kuroko PlaysKimisomuKidou Senshi Gundam 00 2nd Season, Mobile Suit Gundam 00 2nd Season, Gundam 00 S2Astra Lost in Spaceシリアルエクスペリメンツレイン聖闘士星矢 THE LOST CANVAS 冥王神話 2ひだまりスケッチ 沙英ヒロ 卒業編Hajime no Ippo Episode 76, The First Step Special, Hajime no Ippo: The Fighting Special, Hajime no Ippo SpecialBaccano! OVATerror in Tokyo, Terror of ResonanceUmamusume: Pretty Derby Season 2Tsukimonogatari: Yotsugi Doll, Monogatari Final SeasonTsubasa Reservoir Chronicle OVA, Tsubasa Reservoir Chronicle: Spring ThunderTsurune 2nd SeasonToki wo Kakeru Shojo, TokiKake, Toki o Kakeru Shojo, The Girl Who Cut Time, The Little Girl Who Conquered TimeStand By Me DoraemonShangri-La Frontier: Crappy Game Hunter Challenges God-Tier Game, ShanfroKuroko no Basket Episode 75.5GitS SAC SSS, GitS: SAC 3, gits sac3, gitssac3, sac3, sss, Ghost in the Shell S.A.C. Solid State SocietyGive Blessings to This Wonderful World!Mobile Suit Gundam UC神様はじめましたDai San Bu Kuujou Joutarou: Mirai e no Isan, JoJo\\'s Bizarre Adventure Part 3頭文字 D Fifth StageAscendance of a Bookworm 2nd SeasonGintama: Jump Festa 2015 SpecialDhurarara!!, Dyurarara!!, Dulalala!!, Dullalala!!, DRRR!!DMCEiga Chuunibyou demo Koi ga Shitai! Take On MeYona: The girl standing in the blush of dawn, Akatsuki no Yona: Sono Se ni wa, Akatsuki no Yona: Zeno-henParadition, HeavenhellHagane no Renkinjutsushi, FMA, Full Metal AlchemistDaiya no Ace, Ace of the Diamond, Dia no AClassroom of the Elite 2nd Season, You-jitsu 2nd Season, You-zitsu 2nd SeasonThe Disastrous Life of Saiki K. Restart Arc, Saiki Kusuo no Ψ-nan: Saishidou-hen, Saiki Kusuo no Sainan: Saishidou-henThe Boy in FutureKuragehime名探偵コナン 天空の難破船Gundam Double OKaze TachinuQuanzhi Gaoshou (2018), Quan Zhi Gao Shou, Full-Time Expert, Master of Skills, Quanzhi Gaoshou: Tebie PianOne Piece Special, Episode of Nami: Tears of a Navigator and the Bonds of FriendsOne Piece Movie 12Detective Conan Movie 05: Countdown to Heaven魔法少女リリカルなのは The MOVIE 2nd A\\'sKateikyoushi Hitman Reborn!, Home Tutor Hitman Reborn!スキップとローファーGuardian of the Sacred SpiritNodame Cantabile Paris Chapter, Nodame Cantabile Pari-henLupin III: Part V, Lupin Sansei Part V, Lupin Sansei: Adventure in FranceJoJo\\'s Bizarre Adventure Part 6: Stone OceanInterstellar 5555Hina FestivalGridman×DynazenonEiga GivenAzumanga DaiouARIA The BENEDIZIONE本好きの下剋上 ～司書になるためには手段を選んでいられません～HachiKuro, Honey & CloverThe Unrivaled Tang Sect, Combat Continent II, Soul Land 2: Peerless Tang Sect, 斗罗大陆2绝世唐门CLANNAD五等分の花嫁∽Yuki Yuna Is A Hero: Washio Sumi Chapter 3 - Promiseウルフズ・レインShokugeki no Soma 3rd Season, Shokugeki no Soma 3NARUTOGhost in the Shell: SAC 2nd GIG MovieKimi ni Todoke: From Me to You 2nd Season, Reaching You 2nd Season機動戦士ガンダム 0080 ポケットの中の戦争Kami nomi zo Shiru Sekai III, Kami nomi zo Shiru Sekai 3, Kaminomi III, Kaminomi 3, The World God Only Knows III, The World God Only Knows 3機動警察パトレイバー2 the MovieKara no Kyoukai: the Garden of sinners/recalled out summer, the Garden of sinners -recalled out summer-Class President is a Maid!Hugtto Precure, Hug! Pretty CureHyougemonoMoumoku no Renkinjutsushi, The Blind Alchemist, Shinpuru na Hitobito, Simple People, The Tale of Teacher, Tales of the Master, Yet Another Man\\'s Battlefield, FMAEve\\'s TimeEvangelion Shin Gekijouban: Jo, Rebuild of Evangelion: 1.0 You Are (Not) Alone, Evangelion: 1.01 You Are (Not) Alone, Evangelion: 1.11 You Are (Not) Aloneef: A Tale of Memories Second Season, ef: A Tale of Memories 2nd SeasonARIA The OVA ~ARIETTA~ (アリア ジ オーブイエー ~アリエッタ~)Zombieland Saga Second SeasonOregairu, My youth romantic comedy is wrong as I expected.タッチThe House of Small Cubes東京マグニチュード8.0Toaru Kagaku no Railgun 2, Toaru Kagaku no Choudenjihou 2, A Certain Scientific Railgun 2シャドーハウス 2nd Seasonロマンティック・キラーPUI PUI モルカーOmae Umasou da na, You Are Umasou名探偵コナン 沈黙の15分Magi Season 1Reaching YouKidou Senshi Gundam: Dai 08 MS Shotai響け！ユーフォニアムDungeon FoodD. Gray-man, D. Grey-manBaby Steps Second SeasonHigh Kyuu!! Movie 1, Haikyuu!! RecapGinga: Nagareboshi Gin, Silverfang, The small hero. Birth of GinFull Metal Panic Fumoffu, Fullmetal Panic? FumoffuBlack Lagoon 3サマーウォーズスレイヤーズNEXTSK Eight, Skate神印王座 第二季Saiunmono, Saimono, Saiunkoku Monogatari Dai 2 SeriesThe Legend of LuoxiaoheiKonoSuba: God\\'s Blessing on This Wonderful World! Second Season OVA, Kono Subarashii Sekai ni Shukufuku wo! 2 OVAKara no Kyoukai: The Garden of Sinners Movie 3, Borderline of Emptiness: Remaining Sense of Pain, The Garden of Sinners: ever cry, never life12 Kingdoms, Juuni KokkiDetective Conan Movie 10: Requiem of the DetectivesDetective Conan Movie 04: Captured in Her EyesLove★Com, Love ComKLK, Dressed to KillFooly Cooly, Furi KuriCyber Coil, Coil - A Circle of Children, Denno CoilBLACK LAGOONBlack Clover: Mahoutei no KenBanG Dream!（バンドリ！）第3期Oregairu 2 OVA, Yahari Ore no Seishun Love Comedy wa Machigatteiru. Zoku: Kitto, Onnanoko wa Osatou to Spice to Suteki na Nanika de DekiteiruYona: The girl standing in the blush of dawnCike Wuliuqi 4th Season, Ci Ke Wu Liu Qi 4th Season, Assassin Seven 4th Season, Killer Seven 4th SeasonxxxHOLiC OVATonikaku Kawaii OVA, Tonikawa, Tonikaku Kawaii Episode 13Skilled Teaser Takagi-san 2nd Season, Karakai Jouzu no Takagi-san Second SeasonGOSICK -ゴシック-Hanada Shonen-ShiゴールデンボーイFate/stay night (2014) Episode 00ガラスの仮面 (2005)Durarara!!x2 KetsuドロヘドロDTBGotoubun no Hanayome 2nd Season, The Five Wedded Brides 2nd Season, 5-toubun no Hanayome 2nd Season, The Quintessential Quintuplets 2nd SeasonThe Moon is Beautiful, As the Moon, So BeautifulHistory\\'s Strongest Disciple KenichiSaint Seiya Hades, Saint Seiya: The Hades Sanctuary ChapterPsalms of Planets Eureka SevenG-TekketsuKami-sama Hajimemashita OVAKomi-san wa, Communication Shougai desu. 2Welcome to Demon School! Iruma-kun 2nd SeasonDetective Conan Movie 03: The Last Wizard of the CenturyPERSONA3 THE MOVIE —#4 Winter of Rebirth—名探偵コナン ハロウィンの花嫁パプリカ思い出のマーニーTekkon Kinkreet (2006), Black & White, Tekkon Kinkurito, Tekkon Kin CreatシティーハンターYuru Yuri 3rd Season, Yuru Yuri Third Season, Yuru Yuri-san High!: YuruYuri S3Freshly Baked!! Ja-pan!Tamako Market MovieTrigun the MovieMahjong Legend Akagi: The Genius Who Descended Into the Darkness, The Legend of Mahjong: AkagiオーバーロードⅢNekomonogatari Black: Tsubasa FamilyGekijouban Love Live!, Love Live! School Idol Project MovieKokoro Connect Episodes 14, 15, 16, and 17, Kokoroco: Michi RandomYou and Me. Second Season, Kimi to Boku. 2nd SeasonMonogatari Series: Second Season +αGochuumon wa Usagi desu ka? 3, GochiUsa 3幻想万華鏡 ~The Memories Of Phantasm~Full Metal Panic! TSR文豪ストレイドッグス DEAD APPLEBanG Dream! FILM LIVE 2nd StageHidamari Sketch x Hanikamu, Hidamari Sketch Dai Yon Ki, Hidamari Sketch Fourth Series, Hidamari Sketch 4th SeasonPonyo on the Cliff by the SeaFate/kaleid liner Prisma☆Illya Movie: Oath Under SnowClannad OVAGekijouban Bang Dream! Poppin\\' Dream!YowapedaGekijouban Horikku - Manatsu no Yoru no Yume, X-zobanHOLIC: Manatsu no Yo no Yume, xxxHolic - The Movie - A Midsummer\\'s Night DreamIt\\'s Difficult to Love an OtakuVampire Hunter D (2001), Vampire Hunter D Movieうさぎドロップ東京リベンジャーズPhantom 〜Requiem for the Phantom〜おそ松さんワンピース\\u3000フィルム\\u3000ストロングワールド\\u3000エピソードゼロStop This Sound!Kaleido Star: New WingsNurarihyon no Mago 2, The Grandson of Nurarihyon 2, Grandchild of Nurarihyon 2のんのんびより輪るピングドラムClash of the Bionoids, Gekijouban Choujikuu Yousai Macross: Ai, Oboete Imasu ka, Macross in Clash Of The Bionoids, Super Dimensional Fortress Macross The Movie: Do You Remember Love?, Choujikuu Yousai Macross: Ai Oboete Imasukaラブライブ！スーパースター!!The maid dragon of Kobayashi-sanLes Enquetes de Kindaichi, Young Kindaichi\\'s Casebook, Kindaichi Case Files機動戦士ガンダム 水星の魔女機動戦士ガンダム サンダーボルト DECEMBER SKY機動戦士ガンダム サンダーボルトHikaru no Go: Journey to the North Star CupFull Moon o SagashiteFate/Grand Order -絶対魔獣戦線バビロニア-BLEACH - ブリーチ -Wotaku ni Koi wa Muzukashii: Youth, It\\'s Difficult to Love an Otaku OVA, Wotakoi: Love is Hard for Otaku OVA宝島テニスの王子様 Original Video Animation 全国大会編 FinalShokugeki no Soma 4th Season, Food Wars! The Third Plate 2nd cour, Shokugeki no Souma: San no Sara (2018)Sakasama no PatemaノラガミThe Scarlet Pigこばと。Kanon Remake, Kanon 2006『ガールズ＆パンツァー 最終章』第1話My Hero Academia the Movie 2: Heroes:RisingPretty Soldier Sailor Moon: Sailor StarsAria the Origination Special, Aria the Origination: In That Secret Little Place..., Aria the Origination Episode 5.5Idolish Seven, IDOLiSH7: YouTube OriginalsSeikimatsu Kyuseishu Densetsu: Hokuto no Ken, HNKHigh Score Girl OVAHigh Score Girl 2Heartcatch Pretty Cure!The Military Chronicles of a Little GirlWorking!! 3rd Season, Working!! Third SeasonWIND BREAKER盾の勇者の成り上がりOofuri, Big Windup! 2, Swing Big! 2, Ookiku Furikabutte 2, Ookiku Furikabutte The Summer Tournament ChapterNagi no Asukara, NagiasuMahou Shoujo Lyrical Nanoha A\\'s, Nanoha Season 2Major: Yuujou no Ikkyuu, Gekijouban Major, Major: Yuujou no Winning Shot, Major: Yujo no Winning Shot, Major: Yuujou no Winning Shot, Major: The Ball of FriendshipRurouni Kenshin: Seisouhen, Rurouni Kenshin OVA 2Re LIFESleeping in Devil\\'s CastleQuan Zhi Gao Shou Movie, Full-Time Expert Movie, Master of Skills Movie, The King\\'s Avatar MovieGitS 2.0, Ghost in the Shell 2.0Charcoal Feather FederationEve\\'s Time, Eve no Jikan 1st Season Complete Edition, Gekijouban Eve no JikanDurarara!!x2 TenDragonball, DBCode Geass: Lelouch of the Rebellion - Emperor新しい上司はど天然Akagami no Shirayukihime 2nd SeasonYuri!!! on ICE SpecialよふかしのうたSAO Progressive Movie, Aria in the Starless Night, Hoshinaki Yoru no AriaYorukura×××HOLiC（ホリック）スクールランブル 二学期聖闘士星矢 THE LOST CANVAS 冥王神話贄姫と獣の王Hidden Things, Kakushigoto: My Dad\\'s Secret AmbitionDurarara!! 2nd Season, DRRR!! 2nd Season, Durararax2 1st ArcBattle Through the Heavens 4th SeasonBunsuto Wan!YagaKimi, Eventually, I Will Become Youアンデッドガール・マーダーファルスProject CommonスクールランブルSakigake!! Cromartie KoukouNatsutonマクロスF（フロンティア）Choujikuu Yousai Macross, Cho Jiku Yosai Macross, Super Dimension Fortress Macross, SDF Macross, Robotech (U.S.)Les Miserables: Shoujo CosetteKarigurashi no Arrietti, The Borrower Arriettyヨルムンガンド PERFECT ORDERDrifters: Battle in a Brand-new World Warベルセルク 黄金時代篇\\u3000MEMORIAL EDITIONARIA The AVVENIREIe Naki Ko Rémi, Ie Naki Ko Remy, Sekai Meisaku Gekijou, Homeless Child Remi, Remi, Nobody\\'s GirlHidamari Sketch x Hoshi Mittsu, Hidamari Sketch 3rd Season花咲くいろは学園ベビーシッターズFinal Fantasy 7: Advent Children Completeエルゴプラクシー伝説巨神イデオン 発動篇Date A Live: Encore, Date A Live II Episode 11, Date A Live 2 Episode 11Pretty Soldier Sailor Moon SZetsuen no Tempest: The Civilization Blaster柚木さんちの四兄弟。ユーリ!!! on ICEVanitas no Shuki, Memoir of Vanitas, Vanitas no CarteSKET Dance OVAPolar Bear Café, Shirokuma CaféOre Monogatari!!, My Story!!MIGNON 민용Lupin III: Part IV, Lupin III: L\\'avventura italiana, Lupin Sansei (2015), Lupin III (2015)機動戦士ガンダムSEED FREEDOMPROMARE（プロメア）PlamemoオーバーロードOjamajo Doremi Naisho名探偵コナン～10年後の異邦人[ストレンジャー]～Mashle 2nd Seasonログ・ホライズンKuchu Buranko, Trapeze, Flying TrapezeキングダムKidou Senshi Z Gundam, Mobile Suit Z Gundam頭文字〈イニシャル〉D THIRD STAGERai: Galactic Civil War Chronicle, Thunder Jet, Ginga Sengoku Gun Yuuden RaiEyeshield21Code Geass: Lelouch of the ResurrectionCike Wuliuqi, Ci Ke Wu Liu Qi, Assassin Seven, Killer Sevenキャロル&チューズデイLoGH: My Conquest Is the Sea of Stars, Legend of the Galactic Heroes MOVIE (1988)Combat Continent, Soul LandEiga Crayon Shin-chan: Arashi wo Yobu Mouretsu! Otona Teikoku Gyakushuu, Crayon Shin-chan: The Storm Called: The Adult Empire Strikes Backクールドジ男子Carnival PhantasmBerserk Movie, Berserk SagaZan Sayonara Zetsubo Sensei, Sayonara Zetsubou Sensei 3, ZSZSウマ娘 プリティーダービー Road to the TopGenerally Cute, Fly Me to the MoonTerra e... (2007), Terra he..., Chikyuu he, Towards the Terra...Quan Zhi Gao Shou, Full-Time Expert, Expert of All ClassesEiga no Osomatsu-san, Osomatsu-san the MovieShin Gekijouban Initial D: Legend 3 - Mugen無責任艦長タイラー魔法少女リリカルなのは The MOVIE 1stKomi-san wa, Communication Shougai desu.機動戦士ガンダム 水星の魔女 PROLOGUEKami nomi zo Shiru Sekai 2, Kaminomi II, The World God Only Knows 2History\\'s Strongest Disciple Kenichi OVA, Shijou Saikyou no Deshi Kenichi: Yami no ShuugekiThe Tale of Saiun Country, Story of the Land of Many-Colored Clouds, Kokumono, Saimono, ColourCloud PalaceQuan Zhi Gao Shou 2nd Season, Full-Time Expert 2nd Season, Master of Skills 2nd SeasonOofuri, Ohkiku Furikabutte, Swing Big!One Piece Movie 13Detective Conan Movie 02: The Fourteenth Target, Meitantei Conan Movie 02: Jyuuyonbanme no Targetメガロボクス魔法使いの嫁 SEASON2 第2クールKoto no Ha no Niwa, The Garden of KotonohaG-WitchJoJo no Kimyou na Bouken (2012), Battle Tendency, Phantom Blood, Sentou Chouryuu, JoJo\\'s Bizarre Adventure The AnimationHell Girl 2, Hell Girl Futakomori, Hell Girl Second Cage, Hell Girl: The Two Prisoners, Jigoku Shoujo: FutagomoriHoozuki no Reitetsu 2nd Season: First Cour, Cool-headed HoozukiWhen the Cicadas Cry, The Moment the Cicadas CryFree! Eternal Summer Special, Free! Iwatobi Swim Club 2 Special, Free! 2nd Season Specialef - a tale of memories.Wakate Animator Ikusei Project, 2012 Young Animator Training Project, Anime Mirai 2012Code Geass: Lelouch of the Rebellion - Awakening吞噬星空Prince of Tennis OVA 2, Prince of Tennis OVA SemifinalPoT OVA, Tennis no Ouji-sama: Zenkoku Taikai hen, Prince of Tennis: The National Tournament映画スター☆トゥインクルプリキュア 星のうたに想いをこめてスペース☆ダンディAttack on Titan Season 2 Movie: The Roar of AwakeningDarker than Black: Ryuusei no Gemini Specials, Darker than BLACK 2 OVA, DTB, Darker than Black: Ryuusei no Gemini Episode 12Shingeki no Kyojin: Ilse no Techou, Attack on Titan: Ilse\\'s Journal, 進撃の巨人 「イルゼの手帳」Sayonara Zetsubo Sensei 2, Sayonara Zetsubo Sensei 2nd Season, Sayonara Zetsubou Sensei Dai Ni Ki, So Long Mr. Despair 2nd, ZSZSLupin the Third: Jigen Daisuke no Bohyou, Lupin the Third: Daisuke Jigen\\'s Gravestone, Lupin the 3rd: Jigen\\'s Grave MarkerMy Blissful Marriage, WatakonLAST EXILE（ラストエグザイル）衛宮さんちの今日のごはんDigimon: Our War Game!, Digimon: Children\\'s War Game!クレヨンしんちゃんSekai Meisaku Gekijou, Red haired Anne, Anne the RedheadYuki Yuna Is A Hero: Washio Sumi Chapter 2 - SpiritTokyo Kushu, Toukyou Kushu, Toukyou GhoulNaruto Movie 10: Naruto the Movie: The Last,Naruto: Shippuuden Movie 7 - The LastTaishou Maiden FairytaleSonny Boy (サニーボーイ)Wolf Rainトモちゃんは女の子！シャドーハウスNodame Cantabile Third Season Special, Nodame Cantabile Season 3 Special, Nodame Cantabile Finale Episode 00, Mine to Kiyora no Saikai名探偵コナン 迷宮の十字路(クロスロード)MariMite OVA, La Vierge Marie Vous Regarde, The Virgin Mary is Watching You魔法陣グルグルMagi: Adventure of Sinbad OVALucky Star OVAWakate Animator Ikusei Project, 2012 Young Animator Training Project, Anime Mirai 2012, LWAKuroko no Basket Special, Kuroko no Basket Episode 22.5Kochikame, This is the Police Station in Front of Kameari Park in Katsushika Ward, Kochira Katsushikaku Kameari Kouenmae Hashutsujo (1996)Miss Kobayashi\\'s Dragon Maid S SpecialヨルムンガンドIsekai Uncle, Ojisan in Another WorldInu Yasha: Tenka Hadou no Ken, InuYasha: The Sword of the World Conquest, The Sword That Rules Over the Empires犬王ひろがるスカイ！プリキュアGinga Tetsudo 999, GE999フランダースの犬 (1997)シティーハンター3ブルーピリオドBaby StepsAggretsuko 3rd SeasonHidamari Sketch x ☆☆☆ Tokubetsu-hen, Hidamari Sketch x Hoshi Mittsu『響け！ユーフォニアム』アンサンブルコンテスト編Enen no Shouboutai 2nd Season, Fire Force 2nd Season英國戀物語エマ ～メルダース編～Literary Stray Dogs, BSDAka-chan to BokuLoving Yamada at Lv999Wushan Wuxing, Fog Hill of the Five Elements, Five Elements in the Misty Mountainアンデッドアンラックスレイヤーズ TRYShin Gekijouban Initial D: Legend 2 - TousouDetective Conan Movie 08: Promo Special, Detective Conan Movie 08: Magician of the Silver Sky Special, Detective Conan Movie 08 Pre-Release SpecialWelcome to Demon School! Iruma-kun 3rd SeasonAttack on Titan: ChroniclePrincess Connect! Re:Dive 2nd Season, Priconne 2nd SeasonミギとダリKaito Kid, Majikku Kaito, Kaitou Kid, Magic Kaitou, Detective Conan Special: Secret Birth of Kaito Kid, Kaitou Kid Tanjou no HimitsuLupin the Third: The Woman Called Fujiko Mine, Lupin III, Lupin III~Mine Fujiko to Iu Onna~Rupan Sansei: Part II, Shin Lupin III, Lupin III: Greatest CapersFirst Gundam, Mobile Suit Gundam: 0079, MSGKara no Kyoukai: The Garden of Sinners Movie 2, Borderline of Emptiness: Murder Speculation, The Garden of Sinners: A Study in Murder, The Garden of Sinners: …and nothing heart.Cool-headed Hoozukiひだまりスケッチ×SPHaikyuu!! Jump Festa 2015 Special, Haikyuu!! OVA, Haikyuu!! vs. Failing GradeGen of HiroshimaGochuumon wa Usagi desu ka? 2, GochiUsa 2Gekijouban Free! The Final Stroke Kouhen名探偵コナン 江戸川コナン失踪事件～史上最悪の二日間～Date A Live 4, Date A Live Fourth Season, DAL 4JinrouKoukaku Kidoutai 2: Innocence劇場版アイドリッシュセブン LIVE 4bit BEYOND THE PERiOD平家物語ご注文はうさぎですか??～Dear My Sister～The Legend of the Galactic Heroes: The New Thesis - Encounter, LotGHジャイアントロボ THE ANIMATION 地球が静止する日Dragon Ball Z: Resist Despair!! The Surviving Fighters - Gohan and TrunksDigimon Adventure 01Coquelicot-zaka kara, Kokuriko-saka kara, Kokuriko-zaka kara, Coquelicot Saka kara, Kokurikozaka karaClannad: After Story OVA, Clannad ~After Story~: Another World, Kyou ChapterBEASTARS 2期ARIA The CREPUSCOLO仙逆Mobile Suit Gundam Turn AShin Kidou Senki Gundam W: Endless Waltz Tokubetsu-henSaiyuki GaidenMindgameMeitantei Conan: Senritsu no Gakufu [Full Score]Macross Frontier the Movie, Gekijouban Macross F: Itsuwari no UtahimeBloodline Battlefront & BeyondJungle wa Itsumo Haré nochi Guu Deluxe, Jungle wa Itsumo Hale Nochi Guu Deluxe, Hare+Guu DeluxeBattle Flag of the Stars IISaint☆Onii-san (Movie), Saint Onii-san (Movie)PSYCHO-PASS サイコパス 3 FIRST INSPECTORShin Gekijouban Initial D: Legend 1 - Kakusei名探偵コナン\\u3000水平線上の陰謀Lupin Sansei: The FirstリトルウィッチアカデミアKokosakeJungle wa Itsumo Hale Nochi Guu, Hare+Guu神印王座Seto no Hanayome Jin, Seto no Hanayome GiGekijouban Seitokai YakuindomoOwarimonogatari Episode 0.5, Owari ni Mukau Monogatari, Owarimonogatari Episode 4.5, Araragi Koyomi no Monogatariお隣の天使様にいつの間にか駄目人間にされていた件Kuroko\\'s Basketball Movie 3: Winter Cup Highlights - Crossing the DoorHyakkano機動戦士ガンダム 閃光のハサウェイKara no Kyoukai: The Garden of Sinners Movie 4, Borderline of Emptiness: The Hollow Shrine, The Garden of Sinners: garan-no-douIga no Kabamaru, Ninja BoyHaikyuu!! Puppet Animation, Haikyuu!! Stop-motion Animation, Haikyuu!!: Ningyou AnimeガングレイヴGekkan Shoujo Nozaki-kunBEASTARSAoki Hagane no Arpeggio: Ars Nova Cadenza, Arpeggio of Blue Steel: Ars Nova Movie 2, Gekijouban Aoki Hagane no ArpeggioYuru Yuri S2Working!! 2Cool-headed Hoozuki OVA, Hozuki no Reitetsu OVAHanasaku Iroha: Home Sweet Homeダークギャザリングダンス・ダンス・ダンスールAnoHana Movie, We Still Don\\'t Know the Name of the Flower We Saw That Day. MovieGaoGaiGar, GaoGaiGar TV, Yuusha Ou GaoGaiGar, Brave King GaoGaiGar, Yuusha-Oh GaoGaiGar万圣街2Tasogare Otome x Amnesia田中くんはいつもけだるげソマリと森の神様進撃の巨人 LOST GIRLS一念永恒Uchoten KazokuSuzumiya Haruhi no YuuutsuSekai-ichi Hatsukoi 2, Sekai\\'ichi Hatsukoi 2planetarian～星の人～One Piece Movie 15Useless Witch Doremi Kaboom!Mushoku Tensei: Jobless Reincarnation Special, Mushoku Tensei: Isekai Ittara Honki Dasu SpecialMichiko e Hatchin, Michiko to HacchinKonoSuba OVA, A Blessing to this Wonderful Choker!ID:INVADED イド:インヴェイデッドHidamari Sketch 2nd SeasonGekijouban Hibike! Euphonium: Todoketai MelodyHaikyuu!! Jump Festa 2020 Special, Haikyuu!! OVA, Haikyuu!!: Land vs Sky, Haikyuu!!: The Volleyball Way, Haikyuu!!: Ball no MichiLe Labyrinthe de la Grisaiaドラえもんカペタ91DaysYumeiro Patissiere, YumePati, Dream-Colored Pastry Chef, Yumeiro Pâtissière1031 Wan Sheng Jie, Bansei Gai, 万圣街TRIGUN STAMPEDEソウルイーターFuture Hero Next Generation Outlaw Star, Starward Warrior Knight Outlaw Starマギ シンドバッドの冒険Kaleido Star: Layla Hamilton StoryK-On! OVA, Keion OVA, K-On! Episode 14, Keion OVAEiga Sekaiichi Hatsukoi, Sekai-ichi Hatsukoi MovieSeitokai Yakuindomo 2 OVA, Seitokai Yakuindomo* OAD, Seitokai Yakuindomo 2 OAD, SYD* OVA, SYD 2 OVASayonara Zetsubo Sensei, Goodbye Teacher Despair, SZSOnii-sama e, To My Brother...One Piece Special 15th AnniversaryNoragami Aragoto OADRupan Sansei vs. Meitantei Conan: The Movie, Rupan Sansei vs Meitantei Conan (Movie)Keion 2 Special, K-On!! 2nd Season Special, K-On!! Episode 27Durarara!! Episode 12.5, Durarara!! Episode 25, Dhurarara!!, Dyurarara!!, Dulalala!!, Dullalala!!, DRRR!! OVAべるぜバブGotoubun no Hanayome, The Five Wedded Brides, The Quintessential QuintupletsBucket List of The Dead, Zombie 100: 100 Things I Want to do Before I Become a ZombieYuru Yuri OVA, YuruYuri Nachuyachumi!, Yuru Yuri Summer Vacation!うる星やつら2 ビューティフル・ドリーマーL\\'étranger du plage, L\\'étranger de la plage, The Stranger by the Beach東京リベンジャーズ 天竺編Tiger and Bunny, TaibaniTeniPuri, PoTWelcome to the Classroom of the Elite, You-jitsuTop wo Nerae!, Aim for the Top!Sekaiichi Hatsukoi Episode 0, Sekai-ichi Hatsukoi: Onodera Ritsu no Baai, Sekaiichi Hatsukoi Episode 12.5, Sekaiichi Hatsukoi: Yoshino Chiaki no Baai, Sekai\\'ichi HatsukoiParaKissOokami to Koushinryou 2 OVA Episode 0, Spice and Wolf 2 OVA Episode 0, Spice and Wolf II OVA Episode 0, Spice and Wolf II: The Wolf and the Amber Melancholyワンピース エピソードオブ東の海[イーストブルー] ~ルフィと4人の仲間の大冒険~Non Non Biyori Repeat OVA劇場版 名探偵コナン 紺青の拳（フィスト）Detective Conan Movie 22: Zero\\'s ExecutionerDetective Conan Movie 01: The Timed SkyscraperMagic Kaito 2014Lupin the Third: Goemon Ishikawa\\'s Spray of BloodKeion, K-ON! Season 1Inu YashaRémi the Nobody\\'s Boy, Remi and his AdventuresFree! Movie, High☆Speed!: Free! Starting Days地縛少年花子くんGo! プリンセスプリキュアGakuen Babysitters Episode 13Tokubetsuban Free! Take Your MarksNoragami OADマクロスプラスKuroko no Basket NG-shuuKobayashi-san Chi no Maid Dragon Episode 14JoshimudaイナズマイレブンHaikyuu!!: Jump Festa 2014 Special, Haikyuu!! OVA, Haikyuu!! The Arrival of Haiba LevDeath Note Director\\'s Cut: The Complete Ending Edition Special, Death Note Special, Genshisuru Kami, Visions of a God, L o Tsugu Mono, L\\'s SuccessorsFire Brigade of FlamesDaicon, Daikon, Daicon films, Daicon III, Daicon IVBerserk Movie, Berserk Saga, Berserk: Golden Age Arc I - Egg of the Supreme Ruler, The Golden Age Arc I: The High King\\'s EggArakawa Under the Bridge*2, Arakawa Under the Bridge x2, Arakawa Under the Bridge 2nd seasonJoJo\\'s Bizarre Adventure: Phantom BloodAkagami no Shirayuki-hime OVA, Akagami no Shirayukihime OVAJintaiGirls und Panzer OVA, Girls & Panzer: This is the true battle of Anzio!Gate: Jieitai Kanochi nite, Kaku Tatakaeri 2nd Season, Gate: Thus the JSDF Fought There! Fire Dragon Arc, Gate: Jieitai Kanochi nite, Kaku Tatakaeri - Enryuu-henFinal Fantasy 7: Advent ChildrenSailor Moon R Movie: Dangerous Flowersアイの歌声を聴かせてWaSuYu夢のクレヨン王国Yamato Nadeshiko Shichi Henge, Perfect Girl Evolution, The Seven Metamorphoses of Yamato NadeshikoKayoko\\'s Diary, Ushiro no Shomen Daare, Ushiro no Shomen Dareうえきの法則Friends GameTegami Bachi 2, Letter Bee 2Knights of Sidonia: War of the Ninth Planet, Sidonia no Kishi: Dai-kyuu Wakusei SenekiCorpse DemonRozen Maiden: OuverturePsycho-Pass SS Case 3: Onshuu no Kanata ni, Psycho-Pass SS Case 3: Vengeance\\'s HorizonThe Cat\\'s RepaymentMagnetic Rose, Stink Bomb, Cannon FodderMahoako, Looking up to Magical Girls, I Admire Magical Girls, and...Beyond the HorizonGundam Wing Endless Waltz OVARanma 1/2 OVAPocket Monsters: The Origin, Pokémon: The OriginPanSto, PSGDetective Conan Movie 19: The Hellfire SunflowersKyou Kara Maou! Dai San Series, Kyou Kara Maoh! Third Series, Kyou Kara Maoh! Season 3, Maruma Third SeriesGitS Another Dimension, GitS 3D, Kokaku Kidotai S.A.C. Solid State Society 3DThe Curtain Rises, Opera Girl!DEVILMAN crybabyColourfulCity Hunter 4Charlotte（シャーロット）Shin Getter Robo: The Last Day, Change!! Getter Robo: The Final Days of the World, Shin Getter Robo: Sekai Saigo no HiGaogao-chan to Aoi Sora떳다 그녀!!Tonikaku Kawaii: High School DaysEsteban, Child of the SunCorpse Demon SpecialsシャーマンキングSeitokai Yakuindomo (2011), Seitokai Yakuindomo (2012), Seitokai Yakuindomo OAD, SYD OVA, SYD OADSaiyuki Reload: BurialKnights of the Zodiac, Zodiac KnightsPocket Monsters XY&Z, Pokémon XY&ZMariMite 4, La Vierge Marie Vous Regarde, The Virgin Mary is Watching Over YouThe Ancient Magus Bride 2, Mahoutsukai no Yome 2, MahoyomeLWA 2, Little Witch Academia 2黒子のバスケ LAST GAME NG集Kuroko\\'s Basketball Movie 2: Winter Cup Highlights - Beyond the TearsZaregoto Series, The Headless Cycle, The Beheading Cycle: The Blue Savant and the Nonsense BearerKidou Senshi Gundam III: Meguriai Uchuu Hen, Mobile Suit Gundam Movie 3世界一初恋～バレンタイン編～青春ブタ野郎はおでかけシスターの夢を見ないSarai-ya Goyou聖闘士星矢 冥王ハーデス冥界編Saenai Heroine no Sodatekata FlatRanma 1/2, Ranma ½ Nettou HenオーバーロードⅡワンピース オマツリ男爵と秘密の島名探偵コナン ～KID in TRAP ISLAND～名探偵コナン 緋色の弾丸Lupin Sansei vs Meitantei Conanラブライブ! School idol project 2期組長娘と世話係ハイスコアガールGekijouban Hibike! Euphonium: Chikai no Finale, Sound! Euphonium: Oath\\'s FinaleFate/Grand Order -終局特異点 冠位時間神殿ソロモン-Fate/Grand Carnival: Dai-1 Tokuien Eirei Genkai Taisai Olympiaカードキャプターさくら クリアカード編 プロローグ さくらとふたつのくまBishoujo Senshi Sailor Moon Crystal: Death Busters-hen, Pretty Guardian Sailor Moon Crystal: Death BustersAkagami no ShirayukihimeTechnolyze憂国のモリアーティYuru Yuri Nachuyachumi! Plus, Yuru Yuri Summer Vacation!+ISM, Isekai no Seikishi MonogatariHataraku Maou-sama!Dragon Quest: Dai\\'s Great AdventureBattle Through the Heavens 3rd SeasonMy roommate is sometimes on my knees, sometimes on my head, HizaueRen Zha Fanpai Zijiu Xitong, The Scum Villain\\'s Self-Saving System, Scumbag VillainPretty Soldier Sailor Moon RGekijouban Bang Dream! Episode of RoseliaBanG Dream! Garupa Pico: Oomori, BanG Dream! Girls Band Party!☆PICO: Oomoriバンドリ！ ガールズバンドパーティ！ 5th Anniversary Animation -CiRCLE THANKS PARTY！-Please Take My Brother Away 2, Kuai Ba Wo Ge Dai Zou 2Aggretsuko 2nd SeasonLibrary War the Movie, Gekijouban Toshokan Sensou, Library War: The Wings of RevolutionDetective Academy QThe Slayers, Slayers TVBang Brave Bang BravernLamu, Lum, Those Obnoxious AliensAstro Fighter SunredShokugeki no Soma 4th SeasonUninhabited Planet Survive, Survivants, Survive! - Uninhabited Planet, Uninhabited Planet SURVIVE, Uninhabited Planet Survival魔道祖師Qマスターキートン魔入りました！入間くんLucky StarKuroko\\'s Basketball Movie 1: Winter Cup Highlights - Shadow and LightKokorocoKino no Tabi: the Beautiful World - Life Goes On, Kino\\'s Journey MovieKidou Senshi Gundam SEEDInu Yasha Special, Black Tessaiga, Black Tetsusaiga, Kuroi Tetsusaiga, It\\'s a Rumic World: InuYashaEiga Hugtto! Precure x Futari wa PrecureガンダムビルドファイターズゴールデンタイムGhosts at School, School Ghost StoriesGekijouban Free! The Final Stroke ZenpenDanMachi 4th Season, Is It Wrong That I Want to Meet You in a Dungeon 4th SeasonDragonball Kai, DBK, DB Kai, DBZ Kaiクレイモア僕の心のヤバイやつ ツイヤバBlack Jack OVA, Black Jack FinalGekijouban Bishoujo Senshi Sailor Moon Eternal 2, Pretty Guardians Sailor Moon Eternal The Movie 2Pretty Soldier Sailor MoonBanG Dream! Garupa Pico, BanG Dream! Girls Band Party!☆PICOHigashi no EdenLe Eden de la GrisaiaGochuumon wa Usagi desu ka? OVA, GochiUsa OVAゴーストハントGendai Shikaku Bunka Kenkyuukai 2Dragonball Kai, DBK, DB Kai, DBZ Kai,Mousou Dairinin名探偵コナン 絶海の探偵黒子のバスケ3期 NG集Macross Frontier: Close Encounter - Deculture EditionKino\\'s Journey: The Beautiful World - The Land of Sickness: For You, Land of Illness, Land of DiseaseKidou Senshi Gundam: Gyakushuu no Char彼女と彼女の猫 -Everything Flows-Kaminomi: Tenri-henInu Yasha: Kagami no Naka no MugenjouIchigo Marshmallow OVAIchigo Mashimaro OVA 2, Ichigo Marshmallow EncoreChii\\'s Sweet Home, ChiizuBinbou Gami ga!, Binboukami ga!, Binbogami ga!, Binbou Kami ga!, The God Of Poverty is!Baka to Test to Shoukanjuu 2, The Idiot, the Tests, and the Summoned Creatures 2, Baka and Test - Summon the Beasts, Baka to Test to Shokanju 2, BakaTest 23D Girlfriend 2nd Seasonツルネ ―風舞高校弓道部―Regarding the Display of an Outrageous Skill Which Has Incredible Powers, TonsukiSukaSuka, What are you doing at the end? Are you busy? Can you save me?東京リベンジャーズ 聖夜決戦編Girls\\'☆Opera Revue StarlightスペースコブラShin Mazinger Shogeki! Z-hen, True Mazinger, Z MazingerNew Mobile Report Gundam WingSeitokai Yakuindomo 2, SYD*Sekai Meisaku Gekijou, Princess Sara, Little Princess Sarah, Shoukoujo Saraプリンセス・プリンシパルOnimai, Onii-chan is Done For劇場版 ソードアート・オンライン -プログレッシブ- 冥き夕闇のスケルツォ劇場版『名探偵コナン から紅の恋歌』Love Live! Nijigasaki High School Idol Club 2nd SeasonNaruto Movie 9Kill la Kill Tokubetsu-hen, Sayonara wo Mou Ichido, Kill la Kill Digest: Naked Memories, KILL la KILL Digest –Naked Memories by Aikuro Mikisugi–Hidden Things MovieGate: Thus the JSDF Fought There!ドラえもん (2005)異世界食堂 2Da!Da!Da!, UFO BabyARIA The ANIMATIONLee Du-Na!, 이두나!, Shita no Kai ni wa Mio ga Iru, 下の階には澪がいる明日ちゃんのセーラー服The Transient SonTiny Little Life in the Woods花咲ける青少年Furubaディー・グレイマン ハローBishoujo Senshi Sailor Moon S: The Movie, Bishoujo Senshi Sailor Moon S: Kaguya Hime no Koibito, Sailor Moon S: Snowprincess KaguyaPlease Take My Brother Away 3, Kuai Ba Wo Ge Dai Zou 3アイカツスターズ！Yahari Ore no Seishun Love Comedy wa Machigatteiru. Kan OVA, My Teen Romantic Comedy SNAFU 3 OVA, Oregairu 3 OVA, My youth romantic comedy is wrong as I expected 3 OVAYuruYuri,, Yuru Yuri TenSekai Meisaku Gekijou, Daddy-Long-LegsSkilled Teaser Takagi-sanJunjyou Romantica OAD, Junjou Egoist, Junjou Terrorist, Junjou MistakePsychopath MovieポケモンコンシェルジュOne Punch Man OVA, One Punch-Man OVA, One-Punch Man OVAワンパンマンぬらりひょんの孫New Game! Second Season劇場版\\u3000名探偵コナン\\u300011人目のストライカー魔法科高校の劣等生 追憶編マクロスプラス\\u3000ＭＯＶＩＥ\\u3000ＥＤＩＴＩＯＮKyousogiga (TV)Sergeant FrogIdolish Seven, AinanaDAKAICHI -I\\'m being harassed by the sexiest man of the year- Movie, Dakaretai Otoko Ichii ni Odosarete Imasu. MovieChu-2 Byo demo Koi ga Shitai!, Regardless of My Adolescent Delusions of Grandeur, I Want a Date!Chii\\'s Sweet Home 2, Chi\\'s Sweet Home: A New HomeBanG Dream! ガルパ☆ピコ ふぃーばー！Morning Glory and Kase-san結城友奈は勇者である -勇者の章-うらみちお兄さんHarlock TV, Albator 78Tiger and Bunny Movie 2, Taibani Movie 2Soko Kihei VotomsUchuu Senkan Yamato 2199: Hoshi-Meguru Hakobune, Space Battleship Yamato 2199: Odyssey of the Celestial ArkMoon-led Journey Across Another Worldアイドルマスター シンデレラガールズ U149Tetsuwan Birdy Decode 2nd SeasonSchool Rumble OVA, School Rumble: First Extra Termプリンセス・プリンシパル Crown Handler 第2章ワンピース\\u3000エピソード オブ サボ\\u3000～３兄弟の絆\\u3000奇跡の再会と受け継がれる意志～Dig Delight Direct Drive DJCard Captor Sakura, Cardcaptors: The MovieBreaker Blade, Break Blade 1: The Time of AwakeningBishoujo Senshi Sailor Moon Super S, Pretty Guardian Sailor Moon SuperSAKB0048 2nd Season, AKB0048 Second SeasonMartial Universeシュガーアップル・フェアリーテイルSidonia no KishiSexy Commando Side Story: Amazing! MasaruSekai-ichi Hatsukoi, Sekai\\'ichi Hatsukoi, World\\'s Greatest First LoveBattle Flag of the Stars III星界の紋章Ranma ½ Super OVA, Ranma 1/2 Super劇場版 PSYCHO-PASS サイコパス PROVIDENCEプリンセス・プリンシパル Crown Handler 第3章The Virgin Mary is Watching You: Spring, MariMite: Haru, La Vierge Marie Vous RegardeNanoha Season 3Rupan Sansei, Lupin the Third, Lupin III Part I, Lupin the Third Part I, Lupin III Part 1, Lupin the Third Part 1ラブライブ！サンシャイン!!The School Idol Movie Over the RainbowProfessor Layton and the Eternal Songstress, Professor Layton: The First MovieBeyond the Horizon: DaybreakKimagure Orange Road: Ano Hi ni Kaeritai, Kimagure Orange Road MovieK (Movie), K-Project Movie, K-Project Sequel鹿楓堂よついろ日和ポヨポヨ観察日記Non Non Biyori OVAねじ巻き精霊戦記 天鏡のアルデラミン七つの大罪Mob Psycho 100 II: The First Spirits and Such Company Trip ~A Journey that Mends the Heart and Heals the Soul~Minamike, The Minami FamilyDetective Conan Movie 10: Promo Special, Meitantei Conan: Tantei-tachi no Requiem Recap Special, The Private Eyes\\' Requiem SpecialStreet Corner DemonMobile Suit Gundam UC RE:0096いぬやしきHeartcatch Precure! Hana no To de Fashion Show... desuka!?Honey & Clover SpecialsNeighborhood Story, GokiMonoCampus Alice, Alice AcademyDigimon: Digital Monsters 03Bonen no Xamdou, Bonen no Zamudo, Bounen no Zamudo, Bounen no ZamnedThe Kawai Complex Guide to Manors and Hostel Behavior: First Time, Bokura wa Minna Kawaisou SpecialAoharaidoアグレッシブ烈子Yowamushi Pedal 3rd Season, Yowapeda 3rd Seasonヤマノススメ Next SummitWorking!!TenSura, That Time I Got Reincarnated as a Slime Movieスター☆トゥインクルプリキュアSlam Dunk Movie 4, Roar Basketman\\'s Soul: Hanamichi and Rukawa\\'s Burning Summer, Slam Dunk: Hoero Basketman Tamashii!! Hanamichi to Rukawa no Nekki NatsuFishing BallRevolutionary Girl Utena: Adolescence ApocalypseGekijouban Pocket Monsters: Mewtwo Strikes Back, Pokémon Movie 1, Pokémon: The Origin of Mewtwo, Pokémon: The First Movie Kanzenban, Pokémon: The First Movie Complete VersionパンドラハーツNyanko-sensei & the First Errand, Natsume Yuujinchou LaLa Special, Natsume Yujincho LaLa Special, Natsume\\'s Book of Friends LaLa SpecialMinami-ke 4th SeasonKuroko no Basket NG Collection, Kuroko no Basket SpecialsKimi to Boku.Kaminomi頭文字〈イニシャル〉D BATTLE STAGE 2Grimgal of Ashes and Fantasies, Hai to Gensou no GrimgalThe Commanding Officer\\'s Rather Quiet Day, Full Metal Panic! The Second Raid Special, Full Metal Panic! The Second Raid OVA劇場版 Free!-Timeless Medley- 約束Fairy Tail Season 2Evangelion Shin Gekijouban: Kyuu, Rebuild of Evangelion: 3.0, Evangelion: 3.0 Q Quickening, Evangelion 3.33Code Geass: Lelouch of the Rebellion - Rebellionアルスラーン戦記In the Night of the Storm, On A Stormy Night, Stormy NightGotoubun no Hanayome, The Five Wedded BridesHaifuri MovieHayate the Combat Butler Season 2The Boy Fascinating the Fighting GodGiovanni no ShimaDurarara!!x2 Shou OVA, Durarara!!x2 Shou Special, Durarara!!x2 Shou Episode 4.5DekinekoPetite Maruko-chan, Little Miss MarukoCardcaptor Sakura: Clear Card-henBungou Stray Dogs OVA, Bungou Stray Dogs 2nd Season Episode 13, Bungou Stray Dogs Episode 25僕らはみんな河合荘暗殺教室\\u3000課外授業編ACCA: 13th Territory Inspection Department, ACCA: 13th Ward Observation Department, ACCA Jusanku Kansatsuka30歳まで童貞だと魔法使いになれるらしいToaru Kagaku no ChoudenjihouTenkuu no EscaflowneWhite Box MovieThe Inland Sea BrideBattle Flag of the Stars, Crest of the StarsリラックマとカオルさんKuro Shitsuji, KuroshitsuziKindaichi Shounen no Jikenbo R 2, Kindaichi Case Files Returns, Kindaichi Case Files R 2, The File of Young Kindaichi Returns 2nd SeasonQian Qiu冥王ハーデス十二宮編\\u3000よみがえりし黄金聖闘士たちの神話Rurouni Kenshin DVD-BOX Zenshu KenshindenFushigi Yugi, Curious PlayNobita\\'s New Adventure into the Magic Planet, Doraemon: Nobita\\'s New Great Adventure into the Underworld - The Seven Magic UsersMajo Minarai wo Sagashite, Magical DoReMi Movie, Useless Witchgirl Doremi MoviePrivate Evil-Eye Nougami Neuro, Demon Detective Nougami NeuroLove Live! School Idol Project: Sunshine!!かぐや様は告らせたい？ ～天才たちの恋愛頭脳戦～ OVA地獄先生ぬ～べ～頭文字〈イニシャル〉D BATTLE STAGEGekijouban Hibike! Euphonium: Kitauji Koukou Suisougaku-bu e YoukosoGarei: ZeroFairy Tail Season 3, Fairy Tail (2018)My Hero Academia the Movie 3Black Jack 2004バーテンダー 神のグラスAo no Exorcist Gekijouban, Ao no Futsumashi Movie, Blue Exorcist MovieYumeiro Patissiere SP Professional, YumePati Pro, Yume-iro Pâtissière 2, Dream-Colored Pastry Chef, Yumeiro Pâtissière SP Professional完美世界Uchuu Kyoudai: Nanba Zeroたまゆら ～もあぐれっしぶ～Sword Art Online: Alicization 2nd Season, Sword Art Online III 2nd Season, SAO Alicization 2nd Season, Sword Art Online 3 2nd Season, SAO 3 2nd Season, SAO III 2nd SeasonStrike Witches Gekijouban死神坊ちゃんと黒メイドOregairu OVA, My youth romantic comedy is wrong as I expected. OVA, Yahari Ore no Seishun Love Comedy wa Machigatteiru.: Kochira Toshite mo Karera Kanojora no Yukusue ni Sachiookaran Koto wo Negawazaru wo Enai.ワンダーエッグ・プライオリティトニカクカワイイ転スラ日記 転生したらスライムだった件Still world is Beautiful通灵妃Saiseisan Soushuuhen Shoujo☆Kageki Revue StarlightNew Prince of Tennis OVA vs. Genius10, Shin Tennis no Ouji-sama OVA, New Prince of Tennis OVA vs Genius10SAND LAND: THE SERIES名探偵コナン コナンvsキッド SHARK & JEWELKuroko no Basket: 41.5Q, Kuroko no Basket Special, Kuroko\\'s Basketball: Can we do that one more timeきんぎょ注意報！Mobile Fighter G-GundamBarrier MasterBloodline BattlefrontKare Kano, KarekanoHourou Musuko Episode 10, Hourou Musuko Episode 11, The Transient Son Specials星合の空Hirano and KagiuraBoys Over Flowers, HYDHakuouki Hekketsuroku OVAMore than a Couple, Less than Lovers., Fuukoi劇場版 Free!-Timeless Medley- 絆ドラゴンボールZ 復活のフュージョン!!悟空とベジータDaiya no Ace OVA, Ace of the Diamond OVACooking Master BoyPlease Take My Brother Away 4, Kuai Ba Wo Ge Dai Zou 4アクダマドライブIma, Soko ni Iru BokuアイドルランドプリパラHime-chan\\'s RibbonHellsing I OVA: Digest for FleaksHakuoki Movie 1, Hakuouki Shinsengumi Kitan Movie 1, Hakuoki: Wild Dance of KyotoFMP, Fullmetal Panic!Free! 3rd Season劇場版Fate/Grand Order -神聖円卓領域キャメロット- Paladin; AgateramDoraemon: Nobita and the Platoon of Iron MenDigimon Adventure MovieBokurano: OursBIRDIE WING -Golf Girls’ Story- Season 2BanG Dream!（バンドリ！）第2期明日のナージャEncouragement of Climb Third Season, Yama no Susume 3White Album2, WA2To Aru Hikuushi e no Tsuioku, Recollection of a Certain Airship PilotYoung Master the Grim Reaper and the Black MaidShingeki no Kyojin: Chimi Chara Gekijou \"Tondeke! Shinsei Levi Han\", Attack on Titan Season 3 SpecialsRe:Zero kara Hajimeru Isekai Seikatsu OVA 2Kangoku GakuenPERSONA3 THE MOVIE —#3 Falling Down—劇場版マクロスΔ 絶対LIVE!!!!!!キノの旅 -the Beautiful World- the Animated SeriesHow Do You Live?Symphogear AxisSasaki to Miyano OVA, Sasaki and Miyano: A Little Story Before I Realized Love.るろうに剣心 -明治剣客浪漫譚-P3MThe Grandson of Nurarihyon, Grandchild of NurarihyonThe Three-Eyed OneDetective Conan Movie 09: Promo Special, Detective Conan Movie 09: Strategy Above the Depths SpecialLearning with Manga! FGOAnne of Green Gables Prequel, Akage no Anne Prequelきみと、波にのれたらWind Ninja Chronicles, Juubei NinpuchoJunjou Romantica Third SeasonJungle wa Itsumo Haré nochi Guu Final, Jungle wa Itsumo Hale Nochi Guu Final, Haré+Guu Final, Hare+Guu FinalHell Girl 3, Jigoku Shoujo 3Jigoku Shojo八犬伝 -東方八犬異聞- 2舟を編む英國戀物語エマDigimon tri. 3Chrono Crusade: Mary MagdaleneBlood PlusAkiba Maid SensouSpace Battleship Yamato, Space Cruiser YamatoSekai Meisaku GekijouAim for the Top! 2, DieBusterThe Idolmaster転生したらスライムだった件 コリウスの夢天地無用！魎皇鬼テガミバチThe One Being Sung宇宙戦艦ヤマト2202 愛の戦士たちThe Idolmaster Movie: Beyond the Brilliant Future, The iDOLM@STER Movie: To the Other Side of the Light!Tenchi Muyou! Ryououki (1994)神撃のバハムート GENESISサーバント×サービスRozen Maiden 2ROD OVA, Read or Die OVAThe Perfect World of Kai, Forest of PianoOwari no Seraph 2nd Season, Seraph of the End 2nd Seasonorange（オレンジ）Master Keaton: Blood and Bulletsマッシュル-MASHLE-Kyo Kara Maoh!, Maruma, God? Save Our King, King from now on!Calendar StoryRohan Kishibe Does Not MoveK Seven Stories メモリー・オブ・レッド ~BURN~The Society for the Study of Modern Visual Culture OVAGakkou Gurashi!ガヴリールドロップアウトOVAFree! - Iwatobi Swim Club 2, Free! 2nd SeasonダイヤのA[エース]～Second Season OAD～Bleach: The Hell ChapterBanG Dream! MorfonicationIchigo MarshmallowIdaten Deities in the Peaceful GenerationThe Society for the Study of Modern Visual CultureフリップフラッパーズGetBackers: Dakkan\\'yaTaiho Shichauzo (1996), YUAThe Young Spirit Master, Teenager Onmyoji, Shonen OnmyoujiNew Prince of Tennisプリンセス・プリンシパル Crown Handlerパタパタ飛行船の冒険Shura no Toki - Age of Chaos, Shura no TokiMore! Useless Witch DoremiKindaichi Shounen no Jikenbo R, Kindaichi Case Files Returns, Kindaichi Case Files RMobile Suit Gundam 00 Special Edition I: Celestial Being, Mobile Suit Gundam 00 Special Edition II: End of World, Mobile Suit Gundam 00 Special Edition III: Return of WorldThe Garden of Sinners: Gate of Seventh Heavenかくりよの宿飯Shakugan no Shana 2SYDSakamoto desu ga?Rurouni Kenshin: Ishinshishi e no Requiem, Kenshin - Samurai X, Rurouni Kenshin Movie, Rurouni Kenshin - Requiem for the Restoration Royalists, Rurouni Kenshin: Meiji Kenkaku Romantan - Ishinshishi e no RequiemRe:CREATORS 〈レクリエイターズ〉ペンギン・ハイウェイOjamajo Doremi #, Useless Witch Doremi SharpNodame Cantabile Finale: Episode 12The Daughter of Twenty Faces, Chiko, Heiress of the Phantom ThiefNezha Zhi Motong Jiangshi, Nezha: The Devil\\'s BirthMoyasimon, Tales of Agricultureみなみけ おかえりMahou Sensei Negima! OVA Mahou SekaiKabaneri of the Iron Fortress Recap 1: Gathering Light金色のガッシュベル!!Kiratto Pri☆chan 2nd Season劇場版きんいろモザイク Thank you!!けものフレンズSin-ui Tap, 신의 탑The Solitary Castle in the MirrorK-Project Sequel, K 2nd SeasonJujutsu Kaisen Season 2 + Movie RecapInu Yasha: Guren no Houraijimaハングリーハート Wild Strikerはたらく細胞GuguKokuGinga Tetsudo 999, Galaxy Express 999 (Movie), Galaxy Express 999 MovieGekijouban Fairy Tail: Dragon CryDurarara!!x2 Ketsu OVA, Durarara!!x2 Ketsu Special, Durarara!!x2 Ketsu Episode 19.5Chuunibyou demo Koi ga Shitai! 2, Chu-2 Byo demo Koi ga Shitai! RenBishoujo Senshi Sailor Moon SuperS: The Movie, Bishoujo Senshi Sailor Moon Super S - Sailor 9 Senshi Shuuketsu! Black-Dream-Hole no Kiseki, Sailor Moon Super S: Journey to the Land of DreamsBaki (2020)Angel Beats!: Stairway to Heaven, Angel Beats!: Hell\\'s KitchenXingchen Bian 4th Season, Legend of Immortals 4th Season, Stellar Transformation 4th SeasonWataten! An Angel Flew Down to MeSekai Meisaku Gekijou, Ai no Wakakusa Monogatari II, Little MenThe One Being Sung Specials, Utawarerumono Q&A, Utawarerumono Questions Answered, Utawarerumono: Naze Nani Utawarerumono, Utawarerumono Omake徒然チルドレンForeign Girl将国のアルタイルLaid-Back Camp, Yurukyan, Yuru Camp△: Heya Camp Episode 0Gekijouban Yowamushi PedalYama no Susume 2nd Season, Encouragement of Climb 2nd Seasonテイルズ オブ ヴェスペリアGekijouban Sword Art Online終末のワルキューレII 後編Battlefield Valkyria: Gallian ChroniclesGekijouban Sengoku Basara: The Last Party最弱テイマーはゴミ拾いの旅を始めました。Smile at the RunwayPocket Monsters, Pokemon 2019, Pokémonplanetarian～ちいさなほしのゆめ～Ore wo Suki nano wa Omae dake ka yo Kanketsu-hen, Ore wo Suki nano wa Omae dake ka yo Episode 13, Oresuki OVANumber Six, Number 6, No. SixNisekoiNEW GAME!魔女の旅々The Ancient Magus\\' Bride OVA, Mahoutsukai no Yome OVA, Mahoutsuaki no Yome OAD, MahoyomeRupan Sansei Episode: 0 \\'First Contact\\'Log Horizon Second Season, Log Horizon Dai 2 SeriesKubo-san wa Boku wo Yurusanai, Kubo-san Doesn\\'t Leave Me Be (a Mob)Kabaneri of the Iron Fortress Recap 2: Burning LifeKino no Tabi: Tower Country/Free Lance, Kino\\'s Travels, Kino no Tabi Episode 00Patlabor 2Kidou Keisatsu Patlabor Gekijouban, Patlabor 1: The Movie, Patlabor: The Mobile Police, Mobile Police Patlabor: The Movie怪盗セイント・テール異世界のんびり農家Inu Yasha: Toki wo Koeru Omoi, InuYasha: Love That Transcends TimeShin Kyuuseishu Densetsu Hokuto no Ken Raou-den Gekitou no Shou東のエデン 総集編 Air CommunicationHigashi no Eden: Gekijouban II Paradise LostRoom Camp: Sauna, Rice, and a Three-Wheeled MotorcycleFree! Dive to the Future SpecialHakuouki 2, Hakuoki 2, Hakuouki Shinsengumi Kitan HekketsurokuDBZ: A Final Solitary Battle! The Z Warrior Son Goku\\'s Father Challenges Furiza, Dragon Ball Z Special 1: Tatta Hitori no Saishuu Kessen - Freezer ni Idonda Z Senshi Son Gokuu no ChichiDragon Ball Super Movie 2: SuperheroBattle Through the Heavens 2nd Season Specials: Song of DesertであいもんGekijouban Bishoujo Senshi Sailor Moon Eternal, Pretty Guardians Sailor Moon Eternal The MovieBaka to Test to Shoukanjuu OVA, Baka to Test to Shokanju OVA, The Idiot, the Tests, and the Summoned Creatures OVA, Baka and Test: Summon the Beasts OVA荒川アンダー ザ ブリッジ赤ずきんチャチャAh! My Goddess: Tatakau TsubasaInitial D: Project D to the Next Stage - Speculations on Project DHNK IIHakumei and Mikochi: Screws, Beds, Fireplaces, and Gambling極主夫道Full Metal Panic! IVFukigen na Mononokean 2nd SeasonFAIRY TAIL（フェアリーテイル）Dragon Quest: Dai\\'s Great Adventure, Dragon Quest: Adventure of DaiBattle Through the Heavens SpecialsBattle Through the Heavens 2nd Season映画 ドラえもん のび太の恐竜2006Date A Live Fragment: Date A BulletCOLORsCode Geass: Lelouch of the Rebellion Special Edition Black Rebellion治癒魔法の間違った使い方キャンディ・キャンディFive Centimeters Per Second, Byousoku 5 Centimeter - a chain of short stories about their distance, 5 Centimetres Per Second, 5 cm per secondAo Haru Ride: Unwritten, Ao Haru Ride: PAGE.13, Ao Haru Ride Episode 13, Ao Haru Ride Prologue, Ao Haru Ride OVA, Aoharaido OVAAjin 2nd Season,Air Gear OVAYRYR, Yuruyuriよんでますよ、アザゼルさん。Ushio and ToraAtlas UFO Robot, UFO Robot Goldrake, UFO Robo Grandizer, UFO Robot GoldorakTsubasa Chronicles - Second Season, Tsubasa: RESERVoir CHRoNiCLEトワノクオン 第６章 永久の久遠Tada Doesn\\'t Fall in Love, TadaKoiSword Art Online III, SAO Alicization, Sword Art Online 3, SAO 3昭和元禄落語心中 与太郎放浪篇Shiguang Dailiren Episode 5.5Saint Seiya: The Hades Elysion ChapterRe: Life in a different world from zero, ReZero, Re:Zero kara Hajimeru Isekai Seikatsu OVAラディアン 第2シリーズプリティーリズム・レインボーライブPokemon: Aim to Be a Pokemon MasterSekai Meisaku Gekijou, The Story of Perrineワンピース エピソードオブルフィ 〜ハンドアイランドの冒険〜Noein: Toward Another You逆天邪神3D, Nitian Xie Shen (2023), Nitian Xie ShenNaruto: Shippuuden - Jump Festa 2013 Special, Naruto: Shippuuden - Jump Super Anime Tour 2013 SpecialSeven Deadly Sins Season 2The Melody of Two People that He PlaysMFゴーストMeitantei Conan Episode 490.1, Case Closed: Black HistoryMagical Taruruto-kun两不疑Kara no Kyoukai: The Garden of Sinners Movie 1, Borderline of Emptiness: Overlooking View, The Garden of Sinners: Thanatos先輩がうざい後輩の話RomeoxJulietRanma ½ Special: Yomigaeru Kiokuラグナクリムゾン音楽Momo e no TegamiShin Megami Tensei: Persona 3, P3Mオーバーテイク！Nobunaga Concierto, Nobunaga KyousoukyokuNetojuu no Susume, Recommendation of the Wonderful Virtual LifeMitsudomoe SpecialましろのおとMagical Girl Lyrical Nanoha: DetonationKuroko no Basket OVA, Kuroko no Basket OAD, Kuroko\\'s Basketball: A Monkey Can\\'t Win!Kokyu no KarasuKatekyou Hitman Reborn! SpecialKimagure Orange Road TV, Capricious Orange RoadI hate being in pain, so I think I\\'ll make a full defense build., I Hate Getting Hurt, So I Put All My Skill Points Into DefenseHigh School Funny-face ClubInu x Boku SS Special, Youko x Boku SS SpecialPocket Monsters: Hakumei no TsubasaHaikyuu!!: Karasuno Koukou VS Shiratorizawa Gakuen Koukou OVA, Haikyuu!! OVAジャイアントキリングDrifters: Battle in a Brand-new World War, Drifters Second Season, Drifters 2nd SeasonDragon Ball Kai Episode 98, Dragon Ball Z Kai Episode 98Doraemon: Nobita no Himitsu Dougu HakubutsukanAjin-chan wa KataritaiBJ21甘々と稲妻Sumo of the Rising Sun, Sumo Wrestler Hinomaru, Hinomaru ZumouHigashi no Eden: Gekijouban I The King of EdenThe Way of the House Husband 2, The Way of the Househusband 2, Gokushufudou 2ガールズバンドクライGensou Maden Saiyuki劇場版 牙狼〈GARO〉‐DIVINE FLAME‐ファンタジックチルドレンDanMachi, Is It Wrong That I Want to Meet You in a Dungeon第一序列Darker than Black Episode 26, DTB, Darker than Black: Kuro no Keiyakusha SpecialPrincess CometMy Hero Academia the Movie: The Two HeroesBasilisk: Koga Nimpo Cho, Basilisk: The Kouga Ninja ScrollsGekijouban Aikatsu! Idol Katsudou!, Aikatsu! Idol Katsudou! MovieAh! My Goddess: Sorezore no TsubasaGekijouban Aa! Megamisama, Aa! Megami-sama!: The MovieYamada-kun to Nananin no Majo, Yamada-kun and the 7 Witches, YamajoSiúil, a Rún OVA, Totsukuni no Shoujo OADTo LOVEる -とらぶる- ダークネス2ndGekijouban Sora no Otoshimono: Tokeijikake no Angeloid, Sora no Otoshimono: The Movie, Lost Property of the Sky Movie, Misplaced by HeavenSo-Ra-No-Wo-To, Soranowoto, Sora no Woto, Sora no OtoSlam Dunk Movie 3, Slam Dunk OVA 3, Slam Dunk Shouhoku Kaidai no Kiki! Moeru Sakuragi Hanamichi, Slam Dunk: Shouhoku\\'s Greatest Danger! Sakuragi HanamichiHello!! Kiniro Mosaic SpecialGeunyeoga Gongjagjeolo Gaya Haessdeon Sajeong, 그녀가 공작저로 가야 했던 사정Saki Achiga-hen: Episode of Side-A Episodes 13, 14, 15, and 16Read or Die TV, Read or Die, ROD, Read or Die: the TV, Read or Dream, R.O.D. TVPretty Cure All Stars DX3: Reach the Future! The Rainbow Flower that Connects the World, Eiga Precure All Stars DX3: Mirai ni Todoke! Sekai wo Tsunagu Nijiiro no HanaポプテピピックOverDriveOne Punch-Man 2, One-Punch Man 2, OPM 2ワンピース デッドエンドの冒険Mushoku Tensei Ⅱ: Isekai Ittara Honki Dasu Episode 0Three Way StruggleOsamu Tezuka\\'s Metropolis, Robotic AngelMagical Fairy Persia, Magical Fairy PerushaThe Villainess Wants to Enjoy a Carefree Married Life in a Former Enemy Country in Her Seventh Loop!, The Villainess of 7th Time Loop Enjoys Free-Spirited Bride Life in the Former Hostile CountryKuroshitsuji SpecialSkilled Teaser Takagi-san OVA, Karakai Jouzu no Takagi-san: Water SliderThe Clueless Transfer Student Is Assertive.一週間フレンズ。色づく世界の明日からHello! Lady Lin, Gwendoline season 2はたらく細胞BLACKゴルゴ13Garupan, Girls und PanzerForza Sugar, Genki The Boy Champ, Go For It! Genkiふしぎの海のナディア富豪刑事 Balance:UNLIMITEDFinal Fantasy 7: Advent Children Special EditionDurarara!!x2 Ten OVA, Durarara!!x2 Ten Special映画 ドラえもん のび太の新恐竜BIRDIE WING -Golf Girls\\' Story-Asobi Asobase OVAAikatsu! Idol Katsudou! Idol ga Tsudou!, Aidoru ga Tsudou!, Aikatsu! 2, Idol ga Tsudou! 2Yawara! A Fashionable Judo GirlThe iDOLM@STER Series Concept Movie 2021Tsubasa: RESERVoir CHRoNiCLEトワノクオン 第４章 紅蓮の焦心Toaru Majutsu no Index 2, Toaru Majutsu no Kinsho Mokuroku 2To LOVE-Ru Trouble Darkness 2nd OVASo-Ra-No-Wo-To Specials, Soranowoto Specials, Sora no Woto Specials, Sora no Oto SpecialsWo Shixiong Shizai Tai Wenjian LeUN-GO episode:0 Inga-ron宇宙パトロールルル子My Neighbor SekiTo LOVE-Ru Trouble Darkness OVA, To-Love-Ru Darkness OVA, ToLoveRu Darkness OVABig O Roger, Big OI became the sword by transmigrating, TenKenLegendary Gambler TetsuyaシャインポストPuri Para, Pri Para, PuriPara, Prism Paradiseレディ ジュエルペットKappa no Coo to Natsuyasumiハロー・ワールドRound Vernian Vifam, Galactic Drifter Vifam, Space Castaways VifamふらいんぐうぃっちDawang RaomingD-Frag!, D-Fragmentsシティーハンタースペシャル グッド・バイ・マイ・スイート・ハートFade to Black: Call Out Your Nameアルスラーン戦記  風塵乱舞Sugar Princess, Anmitsu-himeAa! Megami-sama! Episodes 12.5, 25 and 26, Oh! My Goddess SpecialsGo! Ina Junior High Ping-Pong Clubハイブリッド チャイルド黄金庭院：冬日里的新年愿望Children who Chase Lost Voices from Deep Below, Journey to AgarthaCool-headed Hoozuki 2nd Season OVA, Hozuki no Reitetsu 2nd Season OVAヒロイック・エイジHayate no Gotoku!Gekijyouban Hagane no Renkinjutsushi - Shanbara wo Yuku Mono, Fullmetal Alchemist the Movie: Conqueror of Shamballa, FMA MovieA Record of a Mortal\\'s Journey to Immortality, Fanren Xiu Xian Chuan: Fanren Feng Qi Tian NanCloudy Laugh Gaiden, Laughing Under the Clouds GaidenDenYuDen, DenYuuDen, Densetsu no Yusha no Densetsu, LOLHキャシャーン SINSバクテン!!The Idiot, the Tests, and the Summoned Creatures, Baka to Test to Shokanju, BakaTestゾンビランドサガYu-Gi-Oh!: The Dark Side of Dimensions, YugiohYondemasu yo, Azazel-san. (2011)Martial God Asura映画 若おかみは小学生！Utawarerumono 3Toriko (2011), Toriko (TV), Toriko x One Piece Collabo SpecialSlam Dunk Movie 2Shuumatsu no Walküre 2nd Season, Record of Ragnarok 2nd Season, Shuumatsu no Valkyrie, Valkyrie of the EndAquatope of White SandShion no OhShakugan no Shana Third, Shakugan no Shana 3Re:ゼロから始める異世界生活 Memory Snow マナームービーWakate Animator Ikusei Project, 2010 Young Animator Training Project, Anime Mirai 2010, Ojii-san no Lamp, Grandfather\\'s Lamp, Project AOban Star RacersNieR:Automata Ver1.1aP4AMahou Kishi Rayearth IISasukeあんさんぶるスターズ！！追憶セレクション 『エレメント』Elfen Song, Elfic Song, Elf Song映画 ドラえもん のび太の南極カチコチ大冒険Da Hai, Big Fish & Chinese Flowering CrabappleCho Denji Machine Voltes V, Super Electromagnetic Machine Voltes V, Super Electron Machine Voltes V, Ultra Electromagnetic Machine Voltes V, Vultus V, Voltes 5My Hero Academia Movie 2: Heroes Rising Epilogue Plus, Boku no Hero Academia the Movie 2 Picture DramaHyoujin: Blades of the Guardians, ヒョウ人, Blades of the GuardiansアナザーAngel LegendAkame ga Kiru!あっちこっちHitoribocchi no ○○ Seikatsu, Hitori Bocchi\\'s ○○ Lifestyle響け！ユーフォニアム 番外編 かけだすモナカGekijouban Haikara-san ga Tooru Zenpen, Smart-san, Mademoiselle Anne, There Goes the Modern Girl, Here Comes a DandyCyber Formula: Shinseiki-GPX, Shinseiki GPX Cyber FormulaProof of UsDoraemon the Future 2008, Doraemon the Movie 2008, Doraemon: Nobita to Midori no KyojindenCloudy LaughDemi-chan wa Kataritai Episode 13To All of You That I LovedBe-Bop-High School, Be-Bop High SchoolPlease Take My Brother Away, Kuai Ba Wo Ge Dai Zouエア・ギアジパングRequiem StreetLaid-back Camp Season 2湾岸ミッドナイトSpace Battleship Yamato 2, Star Blazers 2, Space Cruiser Yamato 2, Uchu Senkan Yamato 2トワノクオン 第５章 双絶の来復Time Trouble Tondekeman!Tenten Kakumei, MagiRevoTanoshii Moomin Ikka Bouken Nikki, Delightful Moomin Family: Adventure DiaryThe Person Who Knows How Blue the Sky IsBomber Bikers of Shonan, Shounan Bakusouzoku 2 - 1/5 Lonely Night, 10 Ounce Bonds, Hurricane Rider, GT380 History, Tenacity Mud Special, Legendary Red Star, From SamanthaShingeki no Kyojin Season 4 Specials, Attack on Titan Season 4 Specials, Attack on Titan: The Final Season SpecialsShinchou Yuusha: Kono Yuusha ga Ore Tsueee Kuse ni Shinchou SugiruSekai\\'ichi Hatsukoi 2: Propose HenさらざんまいSaenai Kanojo no Sodate-kata名探偵コナンMAGIC FILE 4 ～大阪お好み焼きオデッセイ～LB!レディレディ！！Ghost in the Shell: Arise - Border:2 Ghost WhispersKore wa Zombie Desu ka? 2, Koreha Zombie Desu ka? Jigokuhen, Kore ha Zombie Desu ka? Jigokuhen, Kore wa Zombie Desu ka? Jigokuhen, Kore wa Zombie Desuka? of the Deadこの素晴らしい世界に爆焔を！Koi wa Amaagari no You ni, Love is Like after the Rain, KoiAmeKaicho wa Maid-sama! Special, Kaicho wa Maidsama! Special, Kaichou wa Meido Sama Special, Class President is a Maid! SpecialJunjyou Romantica, Junjou Romantica: Pure RomanceRanma ½: Okumu! Shunmin Kou, Ranma ½: Nightmare! Incense of Spring Sleep, It\\'s a Rumic World: Ranma ½Seraph of the Endワンピース ～ハートオブ ゴールド～ナンバカ 2期Nanatsu no Taizai: Ban no Bangai-hen, The Seven Deadly Sins: Ban\\'s Side Story, The Seven Deadly Sins: Bandit Ban OVA 1Minami-ke OVA, Minami-ke OAD名探偵コナン: コナンとキッドとクリスタルマザーMaho Girls PreCure! the Movie: The Miraculous Transformation! Cure Mofurun!Horizon on the Middle of Nowhere II, Kyoukai Senjou no Horizon 2このはな綺譚Kidou Senkan Nadeshiko, Mobile Battleship NadesicoKankore Movie, Gekijouban Kantai CollectionDon\\'t Toy with Me, Miss Nagatoro 2nd Season, Ijiranaide, Nagatoro-san 2nd SeasonHeppoko Jikken Animation Excel♥SagaHellsing [ヘルシング]Kiniro Mosaic 2nd Season, KINMOZA! 2nd Season, Kinmosa 2nd Season, Golden Mosaic 2nd SeasonBaki the Grappler II, Grappler Baki Second Season, Baki The Grappler - The Ultimate Tournament, Grappler Baki Maximum TournamentGochiUsaPrisma Illya 3rei!!The Radio Wave-Like GirlfriendChuunibyou demo Koi ga Shitai! Episode 13, Chu-2 Byo demo Koi ga Shitai! Episode 13Charlotte Special, Strong PeopleBoboboobo Boobobo, Bo-Bobo, Boboboubo BouboboArea 88 OVAAo no FutsumashiAh! My Goddess: Sorezore no Tsubasa SpecialsYugioh, Yu-Gi-Oh!, Yu-Gi-Oh!: Duel Monsters, Yugioh: Duel Monsters, Yu-Gi-Oh! Duel MonstersArcadia of My Youth, Harlock Movie 2, My Youth in Arcadia, Albator 84TenSura OVA, That Time I Got Reincarnated as a Slime OVA, Tensei shitara Slime Datta Ken Gaiden, That Time I Got Reincarnated as a Slime ExtraDusk Maiden of Amnesia: Exorcism Maiden, Tasogare Otome x Amnesia SpecialSword Art Online: Alicization 3rd Season, Sword Art Online III 3rd Season, SAO Alicization 3rd Season, Sword Art Online 3 3rd Season, SAO 3 3rd Season, SAO III 3rd Season, Sword Art Online: Alicization - War of Underworld - The Last SeasonNew Prince of Tennis SpecialsSpace Battleship Yamato 2205: A New Journey - Prior Chapter: Take Off, Uchuu Senkan Yamato 2205: Aratanaru Tabidachi - Zenshou - Take Off, Uchuu Senkan Yamato 2205: Aratanaru Tabidachi - Koushou - Stashaトロピカル～ジュ！プリキュアFly! IsamiChocola et Vanilla - Sugar Sugar Rune, Sugar² RuneS.A., Special A ClassSengoku Basara Two, Sengoku Basara 2Ryuusobaもも子、かえるの歌がきこえるよ。Detective Conan Movie 12 Side-Story OVA: Kudou Shinichi - The Case of the Mysterious Wall and the Black LabI, the Demon Lord, Took a Slave Elf as My Wife, but How Do I Love Her?, Madomeマクロス ゼロラブライブ! 虹ヶ咲学園スクールアイドル同好会Lord El-Melloi II\\'s Case Files: Rail Zeppelin Grace Note - Special EpisodeひだまりスケッチDanMachi Movie, Is It Wrong That I Want to Meet You in a Dungeon Movie継つぐももLibrary War, Toshokan Kakumei, Library Revolution, Library Rebellion, Library CrisisToradora! Special, Toradora!: The True Meaning of BentoToradora! Portable, Toradora! OVATo LOVE-Ru Trouble Darkness 2ndTiger and Bunny 2, Taibani 2Prince of Tennis: Atobe\\'s Giftテガミバチ 光と青の幻想夜話Taishou Era Baseball Daughters, Taishou Era Baseball GirlsSSSS.DYNAZENON神撃のバハムート VIRGIN SOULYong Sheng 2nd SeasonUrusei Yatsura Movie 5: The Final ChapterTonari no Seki-kun: The Master of Killing Time SpecialsToaru Kagaku no Railgun OVA, Toaru Kagaku no Choudenjihou OVA, A Certain Scientific Railgun OVATales of Symphonia 2, Tales of Symphonia The Animation: Tethe\\'alla ChapterスーパーカブSora no Otoshimono: f, Lost Property of the Sky 2, Misplaced by Heaven 2, Heaven\\'s Lost Property 2Shimuun, Simoonシドニアの騎士 あいつむぐほしSamurai SevenPSYCHO-PASS サイコパス 3ＯＮＥ ＰＩＥＣＥ（ワンピース） エピソードオブチョッパー＋冬に咲く、奇跡の桜Omohide Poro Poro, Omoide Poro-poro, Memories Like Falling Rain Drops, Memories Like Falling Teardrops, Memories of Teardrops, Memories of Yesterday望まぬ不死の冒険者Mama is a 4th Grader, Mama wa Shougaku YonenseiKin-iro no Corda: Primo Passo - A Summer Encore, The Golden Chord, La Corda D\\'Oro: Primo Passo Episode 26ケンガンアシュラKami-chu!: Kami-sama wa ChuugakuseiK: Seven Stories - Lost Small World - To the Other Side of the CageHetalia World Series Extra Episodes, Hetalia=Fantasiaヘタリア Ｗorld SeriesRe:Construction the Elfrieden Kingdom Tales of Realistic Brave, A Realist Hero\\'s Kingdom Restoration ChronicleMurasaki Shikibu Genji Monogatari, Story from Genji AgedamaガヴリールドロップアウトShinseiki-GPX Cyber Formula ZeroDragon Ball Chou, DB Super, DBSDigimon tri. 2DAYS東院学園戦！Chuunibyou demo Koi ga Shitai! Ren: Saisei no... Jaou Shingan Mokushiroku, Love, Chunibyo & Other Delusions: Heart Throb - The Rikka Warsエンジェルビーツ! アナザーエピローグAishiteru ze Baby, Love You Baby, Babe, My Love, I Love You, BabyRakugo GirlsShin Kyuuseishu Densetsu Hokuto no Ken Raou-den Junai no Shouヘタリア The Beautiful WorldMysterious Magic Fun Fun PharmacyFresh Pretty Cure!Eiga Crayon Shin-chan: Chou Jikuu! Arashi wo Yobu Ora no Hanayome, Crayon Shin-chan: Super-Dimmension! The Storm Called My Brideコードギアス 亡国のアキト 第２章「引き裂かれし翼竜」ちおちゃんの通学路Captain Tsubasa (2001), Road to World Cup 2002, Road to DreamYuu Gi Ou: Duel Monsters 5DS, Yugioh 5 D\\'s夜桜四重奏 ツキニナク夜桜四重奏 ～ハナノウタ～幼女戦記 砂漠のパスタ大作戦Star Field Forty Thousand Years, Xing Yu Si Wan Nian, Xiu Zhen Si Wan Nian, XingyusiwannianVinland Saga Season 2 Episode 6.5Spaceship Sagittarius, The Space Sagittariusとっても！ラッキーマンThe Idolmaster Special, The iDOLM@STER ep 26, The Idolmaster ep 26Fang of the Sun Dagram, Fang of the Sun DougramSuzumiya Haruhi-chan no YuutsuSuisei no GalgantiaSoreMachiBurning-Eyed Shana戦姫絶唱シンフォギアGXorange －未来－大奥Mini Dragon EX, Mini Dragon SP魔法少女リリカルなのは Reflection蜘蛛ですが、なにか？Kishukugakkou no JulietKara no Kyoukai: The Garden of Sinners Movie 6, Borderline of Emptiness: Oblivion Recording, The Garden of Sinners: Fairy TaleRon Kamonohashi: Deranged Detective12 Senshi Bakuretsu Eto RangerShigofumi: Stories of Last Letter戦姫絶唱シンフォギアGSayonara Zetsubou Sensei BD Box OVA, SZS Blu-ray Box Special咲-Saki-Petite Pri Yuushi, Puchi Puri YuushiOushitsu Kyoushi HaineHamefura, I Reincarnated into an Otome Game as a Villainess With Only Destruction Flags…, Destruction Flag OtomeGaiken Shijou Shugi, 外見至上主義, Oemo Jisang JuuiNaruto Movie 8, Gekijouban Naruto: Blood PrisonGekijouban Mahouka Koukou no Rettousei魔法のプリンセス\\u3000ミンキーモモ（夢を抱きしめて）Mahou Kishi RayearthSpirit Pact: Yomi no Chigiri, Spirit Pact: Bond of the UnderworldKara no Kyoukai: the Garden of sinners/recalled out summer - extra chorus, the Garden of sinners -recalled out summer- extra chorusKaleido Star: New Wings - The Amazing Princess Without a Smileいつだって僕らの恋は10センチだった。HantsukiSekai Meisaku Gekijou, 3000 Leagues in Search of Mother, Marco, From the Appenines to the Andesグラップラー刃牙Shinseki-GPX Cyber Formula SinExogenesis: Symphony Part 3 (Redemption)Fairy Tail: Youkoso Fairy Hills!, Yousei Gakuen: Yankee-kun to Yankee-chanDanMachi 3rd Season, Is It Wrong That I Want to Meet You in a Dungeon 3rd SeasonDIY!!Eiga Crayon Shin-chan: Arashi wo Yobu Appare! Sengoku Dai Kassen, Crayon Shin-chan: The Storm Called: The Battle of the Warring States劇場版シティーハンター <新宿PRIVATE EYES>Carnival Phantasm OVAAmaburiAcchi Kocchi Special, Acchi Kocchi Episode 13The Unlimited Hyobu Kyosuke弱虫ペダル SPARE BIKETekkaman Blade, Star Knight Tekkaman BladeTaiho ShichauzoShokugeki no Souma: San no Sara OVA, Shokugeki no Souma: San no Sara - Erina no Shin Seikatsu, Food Wars! The Third Plate OVA, Shokugeki no Souma 3rd Season OVAShokugeki no Souma: Ni no Sara - Jump Festa 2016 Special, Shokugeki no Soma: Ni no Sara OVA, Food Wars! The Second Plate OVA, Shokugeki no Souma 2nd Season OVATonari no Kaibutsukun, The Monster Next Door, My Neighbor Monster-kunTomoyo Video Diary 1, Memorial Video 1, Cardcaptor Sakura Specials, Cardcaptor Sakura Video DiaryShinseiki Evangelion Gekijouban: Shi to Shinsei, Neon Genesis Evangelion - Death and RebirthThe Invader Comes From the Bottom of the Sea!, Shinryaku! Ika Musume 2Shinryaku! Ika Musume OAD, The Invader Comes From the Bottom of the Sea! OVA, Shinryaku! Ika Musume OVA, Squid Girl OVASaint☆Onii-san, Saint Onii-sanPsycho-Pass SS Case 2: First GuardianPocket Monsters GenerationsWing of Royal Space Troop Honneamise, Star QuestHow to keep a mummyメジャーセカンドIt\\'s the Only NEET Thing to Do, Kami-sama no Memo-chou, Kami-sama no Memo-chou, God\\'s Notebook, Notebook of GodPhantom Thief Jeanne, Divine Wind Thief JeanneJoJo\\'s Bizarre Adventure OVA 1Jewelpet Twinkle Star, Jewelpet 2, Jewelpet TinkleFalse God My Dropkick 2nd Season, Dropkick on My Devil!! 2nd SeasonGekijouban Isekai Quartet: Another World異世界居酒屋～古都アイテーリアの居酒屋のぶ～INITIAL D BATTLE STAGE 3Ascendance of a Bookworm: Side Story One, Ascendance of a Bookworm: Side Story TwoShin Kyuuseishu Densetsu Hokuto no Ken Zero Kenshirou-denHigh School DxD Dai 2-ki, High School DxD 2nd Season, High School DxD Second Season, Highschool DxD 2ガンダムビルドダイバーズRe:RISELe Fruit de la GrisaiaFushigi-boshi no Futago-hime, Fushigi Boshi no Futago Hime, Twin Princesses of the Wonder Planet, Twin Princesses of the Mysterious Star, Twin Princess of the Mysterious PlanetFate/stay night [Unlimited Blade Works] 新作映像「sunny day」Be A Man! Samurai School咲-Saki-全国編Higurashi no Naku Koro ni 3rd Season, Higurashi no Naku Koro ni Dai San KiGUILTY CROWNごくせんGANGSTA. ギャングスタギャラリーフェイクDoraemon: New Nobita\\'s Great Demon - Peko and the Exploration Party of FiveD4DJ All MixEiga Crayon Shin-chan: Gachinko! Gyakushuu no Robo To-chanYoseatsume Blues, Cowboy Bebop Session XX, Cowboy Bebop Episode 27 Session XX, Cowboy Bebop Session XX: Mish-Mash Bluesブレイブ・ストーリーあの夏で待ってるGekijouban Aikatsu Stars!Ikoku Meiro no Croisee The Animation, La croisée dans un labyrinthe étranger SpecialIe Naki Ko Rémi Specials, Ienaki Ko Remy Specials, Homeless Child Remi, Remi, Nobody\\'s GirlIDOLY PRIDEHigh School DxD BorN OVA, High School DxD BorN Episode 13, High School DxD Born OVA: The Pheoenix Doesn\\'t ReviveHigh School DxD Third Season, High School DxD 3rd Season, Highschool DxD BorNGrimm\\'s Fairy Tales, Grimm Masterpiece TheaterGokudo-kun Manyuki, Jester the AdventurerゴブリンスレイヤーThe Society for the Study of Modern Visual Culture, Genshiken Second Generation不機嫌なモノノケ庵エデンズ ゼロシティーハンタースペシャル ザ・シークレット・サービスキャプテン翼劇場版 BLEACH The DiamondDust Rebellion もう一つの氷輪丸便利屋斎藤さん、異世界に行く白蛇：缘起Yuusha Ou GaoGaiGar Final Grand Glorious Gathering, Yuusha-Oh GaoGaiGar Final Grand Glorious Gathering勇者警察ジェイデッカーYKK, Yokohama Shopping Log, Yokohama Shopping Trip東京レイヴンズGekijouban Toaru Majutsu no Kinsho MokurokuTo LOVE-Ru Trouble Darkness, To-Love-Ru Darkness, ToLoveRu DarknessTian Bao Fu Yao LuTetsuwan Birdy (2008), Birdy the Mighty TV天使な小生意気Gekijouban Tennis no Ouji-sama: Eikokushiki Teikyuu Shiro Kessen!, Prince of Tennis: Eikokushiki Teikyuu Shiro Kessen!Tenchi Universe TV, Tenchi Muyo!Steins;Gate 聡明叡智のコグニティブ・コンピューティングShugo Chara Ninenme, Shugo Chara! Second YearShounan Junai Gumi, Shounan Jun\\'ai-gumi!, Shonan Junai-gumi!, Pure Love Gang of Shounanサラリーマン金太郎A Corpse is Buried Under Sakurako\\'s Feet.Ranma 1/2: Nihao My ConcubineSeijo no Maryoku wa Bannou desu 2nd Season, The power of the saint is all around Season 2映画プリキュアミラクルリープ みんなとの不思議な1日Pokemon XY: Saikyou Mega Shinka, Pokemon XY Special Episode: The Strongest Mega Evolution - Act I, Pokemon XY Special Episode: The Strongest Mega Evolution - Act II, Pokemon Monsters XY Tokubetsu-henぱにぽにだっしゅ！Nodame Cantabile OADNaruto Movie 7, Gekijouban Naruto Shippuuden: The Lost Tower無限のリヴァイアス無限の住人-IMMORTAL-Mardock Scramble: Asshukuレジェンズ 甦る竜王伝説HoneyWorks 10th Anniversary \"Lip×Lip Film×Live\"Kin\\'iro no Chord, Kiniro no Chord, Kin-iro no Corda: Primo Passo, The Golden ChordK-Project 7 StoriesA Chivalry of the Failed Knight, Rakudai Kishi no Eiyuutan, A Tale of Worst Oneプリティーリズム オーロラドリームPokémon Evolutionsピアノの森 第2シリーズGirl Demon ZakuroOshiBudouLittle Shark\\'s Outings, Outgoing Baby Shark, Little Shark\\'s Day Out問題児たちが異世界から来るそうですよ?Meitantei Conan: Konpeki no Hitsugi [Jolly Roger]ママレード・ボーイBeyond the Clouds, The Promised PlaceGhost in the Shell (2015)Ghost in the Shell: Arise - Border:4 Ghost Stands AloneGhost in the Shell: Arise - Border:1 Ghost PainKore wa Zombie Desu ka? of the Dead Episode 11, Is This a Zombie? Of the Dead: Yes, This Suits Me Just Fine, Is this A Zombie? of the Dead OVAK-Project, K -eine weitere Geschichte-純情ロマンチカGekijouban Inazuma Eleven GO: Kyuukyoku no Kizuna Gryphon, Inuzuma Eleven Go Movie, Inazuma Eleven Go: Kyuukyoku no Kizuna GriffonHokago Teibo Nisshi, Afterschool Embankment JournalHakuouki 3, Hakuoki 3, Hakuouki Shinsengumi Kitan Reimeiroku這いよれ！ニャル子さんFDoraemon: Nobita\\'s Fantastical Three MusketeersDigimon tri. 1グッバイ、ドン・グリーズ！Utakoi.Darker than BLACK 2nd Season, Darker than BLACK Second Season, DTB2My Hero Academia: World Heroes\\' Mission白蛇Ⅱ: 青蛇劫起劇場版 BLEACH MEMORIES OF NOBODY蒼き伝説\\u3000シュート！Assassination Classroom, Ansatsu Kyoushitsu Episode 0: Deai no Jikan, Ansatsu Kyoushitsu: Jump Festa 2014 Special亜人\\u3000第１部「衝動」Zero no Tsukaima Final Series, Zero\\'s Familiar Final Series, Zero no Tsukaima S4Yowapeda Re:ROADNight World, Night CountryドラゴンボールZ 神と神Danganronpa 3: The End of Hope\\'s Peak Academy - Hope VolumeCrayon Shin-chan: Nazo Meki! Hana no Tenkasu GakuenちょびっツBokurema诛仙Zero\\'s Familiar 2nd Series, Zero no Tsukaima S2, The Familiar of Zero: The Rider of the Twin MoonsYuu Yuu Hakusho, YuYu Hakusho, Yuu☆Yuu☆Hakusho SpecialsYamada-kun to Nananin no Majo OVA, Yamada-kun and the Seven Witches OVA, Yamada-kun and the 7 Witches OVAたまこまーけっとTaiho Shichauzo The Movieスケッチブック ～full color\\'s～Guardian Character!Yuki Yuna is a Hero: The Great Full Blossom ChapterXing Chen Bian, Legend of ImmortalsWWW.WORKING!!Those Obnoxious Aliens,The Return of Lum, Lum, the Invader Girlトワノクオン 第３章 夢幻の連座Gunbuster vs. Diebuster, Top wo Nerae! Gekijouban, Diebuster Movie (2006), DieBuster Movie, Gunbuster Movie, Top wo Nerae!, Gunbuster 2 Movie, Top wo Nerae! 2 MovieTenchi Muyo Movie 1: Tenchi in Love, Tenchi Muyo! in LoveTales of Symphonia The Animation: United World EpisodeSuki-tte Ii na yo., SukinayoThe Invader Comes From the Bottom of the Sea!Shinreigari: Ghost HoundSenyu. 2Sayonara Zetsubou Sensei - Preface -Zetsubou Girls Collection-ローゼンメイデンYuki Hodokishi FutaaiPokémon: Liko to Roy no Tabidachi, Pocket Monsters: Liko to Roy no Tabidachi, Pokémon: Terapagos no Kagayaki, Pocket Monsters: Terapagos no Kagayaki, Pokemon Horizons: Liko and Roy\\'s Departure, Pokemon Horizons: Terapagos\\' Gleam新劇場版 頭文字[イニシャル]D BATTLE DIGESTNew Game! OVA: My First Time on a Company Vacation..., New Game Episode 13Sekai Meisaku Gekijou, Tico and Nanami三ツ星カラーズMy PrincessMahou Shoujo Lyrical Nanohaラブライブ! School idol projectレベルECiel in Wonderland, Welcome to the Phantomhive FamilyKoisekaMuscleman, MusculmanTo the Only Me Who Loved YouJashin-chan Dropkick 3rd Season, Dropkick On My Devil!! 3rd SeasonNaughty Kiss, Teasing Kiss, Mischievous Kiss, Itazurana Kiss, It Started With A KissAZAjinYowamushi Pedal 5th Season, Yowapeda 5th SeasonSong of Lu who Informs the DawnYama no Susume OVAXian Wang de Richang Shenghuo Er, 仙王的日常生活 贰X the TV Series, X/1999, Ekksu, X (2001)ホイッスル！Albator 84, Arcadia of My Youth: Infinite Course SSX, Harlock 84, My Youth in Arcadia: Endless Road SSXヴァンドレッド the second stage劇場版ツルネ －はじまりの一射－天才王子の赤字国家再生術Taiho Shichauzo: Second Season, Taiho Shichau zo 2nd Season, You\\'re Under Arrest: Second Season超GALS! 寿蘭Shark\\'dPocket Monsters, Indigo League, Adventures on the Orange Islands, The Johto Journeys, Johto League Champions, Master QuestOsomatsu-san Episode 3.5, Mr. Osomatsu Specialみなみけ おまたせCase Closed: The Scarlet AlibiMedaka Box 2マルドゥック・スクランブル 第3部 排気魔法科高校の劣等生LUPIN ZEROKINGSGLAIVE FINAL FANTASY XV金の国水の国Chou Gekijouban Keroro Gunso 3: Keroro Tai Keroro - Tenkuu Daikessen de Arimasu!, Keroro Gunso the Super Movie 3: Keroro vs. Keroro Great Sky Duel de arimasu!Sayonara Zetsubo Sensei Jo: Zoku Zetsubo Shojo Senshu, Zoku Sayonara Zetsubou Sensei - Preface -Zetsubou Girls Collection-Psycho-Pass Second Season, Psychopath 2nd SeasonPocket Monsters XY, Pokémon XYJumaruナースエンジェルりりかＳＯＳNichijou Episode 0, Nichijou OVA, EverydayMirai Nikki, Mirai Nikki (2011)見える子ちゃん名探偵コナン ～ロンドンからの㊙指令 (ロンドンからのマル秘指令)Magister Negi Magi: Ala Alba, Magical Teacher Negima! ~The White Wing~Majimoji Rurumo OVA, Majimoji Rurumo OAD, Magimoji Rurumo OVA, Magimoji Rurumo OADKyou Kara Maou! OVA, Kyou Kara Maoh! R, Maruma OVA異世界食堂Initial D: Extra Stage 2: Tabidachi no GreenHorimiyaHakuoki OVA, Hakuouki Shinsengumi Kitan OVAGantz Movieアルプスの少女ハイジSousou no Frieren: Marumaru no MahouFafner in the Azure: Dead Aggressor - ExodusSlayers 5th Season, Slayers fifth SeriesHurricane! Iron LeaguerShingeki no Kyojin Episode 13.5Gundam Wing: Odd & Even Numbers, Gundam Wing: Operation Meteor, New Mobile Report Gundam Wing: Operation Meteor, Shin Kidou Senki Gundam Wing: Operation MeteorShin Getter Robo (2004)Haiki OujoサクラクエストセイバーマリオネットJラーゼフォンNoblesse Episode 0Knight Lamune & 40, NG Kishi Ramune & 40Mob Psycho 100: Reigen - The Miracle Psychic that Nobody Knowsミラクル☆ガールズFamous Detective Holmesロード・エルメロイⅡ世の事件簿 -魔眼蒐集列車 Grace note-Monster Incidents異世界かるてっとGekijouban Inazuma Eleven: Saikyou Gundan Ogre Shuurai, Inazuma Eleven the MovieHonoo no Toukyuuji Dojji Danpei, Fighting Dodgeball Boy Dodge DanpeiShin Kyuuseishu Densetsu Hokuto no Ken Toki-den銀河鉄道の夜ふたつのスピカFull Metal Panic! The Second Raid Pre-festival: Night of the Light NovelドッとKONIちゃん映画 ドラえもん 新・のび太の日本誕生Doraemon (1973)Eiga Crayon Shin-chan: Ankoku Tamatama Daitsuiseki, Crayon Shin-chan: Pursuit of the Balls of DarknessCity Hunter: A Magnum of Love\\'s Destination, City Hunter: Magnum of Love and Destiny, City Hunter: Magnum of Love and Fateキャプテン翼シーズン2 ジュニアユース編Bishoujo Senshi Sailor Moon Super S SpecialLotte x Bump of Chicken, ShinsekaiAyakashi - Samurai Horror TalesAmagami SS Dai Ni Ki, Amagami SS Second Season, Amagami SS 2nd SeasonHan Hua Ri Ji 2nd SeasonHaruHakkenden: Touhou Hakken IbunGunslinger GirlsGekijouban Fate/Stay Night: Unlimited Blade Works, Fate/stay night Movie, Fate/stay night UBWクロスアンジュ 天使と竜の輪舞〈ロンド〉サイダーのように言葉が湧き上がるGekijouban Naruto (2015)美少女戦士セーラームーン メモリアルAoki Hagane no Arpeggio: Ars Nova DC, Arpeggio of Blue Steel: Ars Nova Movie 1, Gekijouban Aoki Hagane no ArpeggioSuite Pretty Cure♪Fafner in the Azure: Dead Aggressor - Right of LeftSenryuu GirlSaiyuki Reload Gunlock, SRGSaiyuki Reloaded, Saiyuki 2, Saiyuki RSaenai Heroine no Sodatekata ♭ Special, Flat Episode 0Ebichu Minds the House, Anime Ai no Awa Awa Hour, Anime Lovers\\' Awa Awa Hour, Anime Lovers\\' Bubble Bubble Hour, Modern Love\\'s SillinessUseless Witchgirl DoremiOda Nobuna no Yabouみなみけ 夏やすみ未確認で進行形Witchy PreCure!Incantevole Creamy, Creamy Mami, the Magic AngelKore wa Zombie desu ka? Episode 13, Koreha Zombie desuka? OVA, Kore ha Zombie desu ka? OVA, Kore wa Zombie Desu ka? of the Dead Episode 0, Ee, Kore ga Saishuukai sesuka?, Hai, Encore Arigatou Gozaimasuキズナイーバーきまぐれオレンジ☆ロードGSD: Episode 51, Gundam SEED Destiny 2Kekkai Sensen OVACrow, Raven, Karas: The Prophecy, Karas: The RevelationKami-chu!: Kami-sama wa Chuugakusei, The Goddess is a Middle School StudentYouko x Boku SSGekijouban Hiyoko no Basket: Last Game 0401, Kuroko\\'s Basketball April Fools\\' DayCells at Work!!博多豚骨ラーメンズガンスミス キャッツGamba\\'s Adventure, Ganba no Bouken, The Adventures of GanbaShinseki-GPX Cyber Formula SagaShinseiki-GPX Cyber Formula 11, Shinseiki GPX Cyber Formula Double OneFREEDOMSekai Meisaku Gekijou, A Dog of FlandersGekijouban Fairy Tail: Houou no Miko, Priestess of the Phoenix, Fairy Tail: The Phoenix PriestessDoraemon: Nobita\\'s Wannyan Space-Time LegendDakaretai Otoko Ichii ni Odosarete Imasu., Dakaretai Otoko No.1 ni Odosareteimasu.こみっくがーるず小さなペンギンロロの冒険My Hero Academia 5Zoids Classic, Zoids: Chaotic Century, Zoids: Guardian ForcesTouhou Unofficial Doujin Anime: A Summer Day\\'s DreamSunabozuFafner in the Azure: Dead Aggressor - Heaven and EarthWhite Saint and Black PastorYuki Yuna wa Yusha de Aru, Yuuki Yuuna is a Hero, YuYuYu夜桜四重奏 ～ホシノウミ～Hitori no Shita: The Outcast 2nd Season, hitorinoshita - The OutcastMartial Master, Wu Shen Zhu ZaiUniversal Love Grocery, Wan Neng Lian Ai Za Huo Dian小鳥遊六花・改 ～劇場版 中二病でも恋がしたい！～Brand New AnimalGekijouban Trinity Seven 2, Trinity Seven Movie 2: Tenkuu Toshokan to Shinku no MaouLibrary War, Toshokan Sensou: Situation Love Handicap, Library Revolution SpecialTiger Mask IIタイガーマスクTetsujin 28-go (2004)Strike Witches 3Slayers Special OVASekai Meisaku Gekijou, Little Prince CedieYuyu-shikiAoki Hagane no Arpeggio: Ars NovaBlue Exorcist: Kyoto Impure King Arc劇場版 暗殺教室 365日の時間AKB0048: First Stage異世界かるてっと2Cells at Work! 2nd Season, Hataraku Saibou 2nd SeasonYowamushi Pedal OVAI\\'m in Love with the Villainess, WataOshiUta no Prince-sama Movie Maji Love Kingdom, UtaPri MovieToaru Majutsu no Kinsho MokurokuTengen Toppa Gurren Lagann Episode 6, Tengen Toppa Gurren Lagann Special, TTGL SpecialSuisei no Gargantia OVA, Gargantia on the Verdurous Planet OVA, Suisei no Galgantia OVAselector spread WIXOSSThe world\\'s best assassin, To reincarnate in a different world aristocrat, Ansatsu KizokuRikeKoiHamatora The Animation 2nd Season, Reply HamatoraRanma 1/2: Movie 3, Ranma 1/2: Decisive Batte! Team Ranma vs. The Legendary Phoenix, Ranma ½: One Flew Over the Kuno\\'s NestQuanzhi Fashi 3rd Season, Quan Zhi Fa Shi 3, Full-Time Magister 3Oushitsu Kyoushi Haine MovieおねがいマイメロディNodame and Chiaki Summer Tales, Nodame Cantabile SpecialNisekoi 2nd SeasonNami yo Kiite KureMinidoraDetective Conan Magic File 6: Fantasista FlowerWitch and the BeastG-DoanThe Beast ClawKaichou wa Maid-sama LaLa Special, Kaicho wa Maidsama LaLa Special, Kaichou wa Meido Sama LaLa Special, Class President is a Maid! LaLa SpecialかぎなどアイドルタイムプリパラHyouka Episode 11.5, Hyouka OVA, Hyou-ka OVA, Hyouka: You can\\'t escape OVA, Hyou-ka: You can\\'t escape OVA, Hyoka OVAHikaru no Go Special, Match of Justice! The Ancient Flower Blooms!!, Jump Festa 2002Modern Dog Tales Bow Wowはんだくんはだしのゲン\\u3000２Glass MaskGaro ProjectドラゴンボールZ 龍拳爆発!!悟空がやらねば誰がやるDoraemon: Nobita and the Strange Wind Rider, Doraemon and the Wind People, Doraemon: Nobita and the Wind Wizard, Doraemon Movie 2003Doraemon: Nobita and the Legend of the Sun KingFlash KickerAll Might: Rising - The Animation, Boku no Hero Academia Picture Drama, My Hero Academia: All Might RisingHakuoki,Hakuouki: Shinsengumi KitanGosenzosama Banbanzai!Danganronpa 3: The End of Hope\\'s Peak Academy - Despair VolumeデカダンスCity Hunter - Live on Stage, City Hunter: Death of the Vicious Criminal Saeba Ryo, City Hunter - Death of Evil Ryo SaebaAlfred Jodocus Kwak, Little Duck\\'s Big Love Story, The Adventures of Alfred J. Quack, Alfred J. Quack, Ahiru no Quack, Ahiru no KwakkuBokutachi wa Benkyou ga Dekinai! OVA, We Never Learn! OVAAtashinchiAmanchu! OVA, Amanchu Episode 13アフロサムライ弱虫ペダル Re:RIDEよみがえる空 -Rescue Wings-ワールドダイスターうる星やつらStellvia of the UniverseTiger and Bunny Movie 1, Taibani Movie 1Tennis no Ouji-sama, Prince of Tennis: Jump Festa 2002 - A Day of the Survival Mountainテイルズ オブ ゼスティリア ～導師の夜明け～Sora no Otoshimono OVA, Sora no Otoshimono Special, Lost Property of the Sky OVA, Misplaced by Heaven OVANew Kimagure Orange Road: And Then, The Beginning of That Summer, New Kimagure Orange Road: Summer\\'s BeginningCrazy for DeathScryed龍の歯医者リーマンズクラブPrison School OVA, Kangoku Gakuen OVAKawamo wo Suberu Kaze, A Wind Skimming the River\\'s Surface, Dokoka Dewanai Koko, Yuuge, Jinsei Best 10NARUTO×UT名探偵コナン 消えたダイヤを追え! コナン・平次vsキッド!The Misfit of Demon King Academy: History\\'s Strongest Demon King Reincarnates and Goes to School with His DescendantsMajocco Shimai no Yoyo to NeneMagical Angel Sweet Mint罗小黑战记Love Stage!! OVAIn/Spectre 2nd Season, Kyokou Suiri 2nd SeasonAfter War Gundam X, Mobile New Century Gundam XMobile Suit Gundam Mini SEED, Gundam SEED Character TheaterNingyou Zoushi Ayatsuri Sakon, Puppet Master Sakon, Tales of Puppetmaster SakonGekijouban Shakugan no ShanaMartial Universe, Martial Movement Upheaval, Earth-Shattering Martial ArtsNambaka, Numbaka, The NumbersHalf a Hero, Miracle Giants Dome-kunMinamike: OkawariMeng Qi Shi Shen 2nd Season, Adorable Food Goddess, Cinderella ChefMagic King, Madouou Grandzort, Mado Ou GranzortLeafie, A Hen into the WildRupan Sansei: Walusa P38 - In Gedenken an die Walther P38, Lupin III: In Memory of the Walther P38Rupan Sansei, Lupin III: Die! NostradamusCrimsonMobile Suit Gundam Movie 2Kateikyoushi Hitman Reborn!: Mr. Rebokku no Ciao Ciao Interview, Home Tutor Hitman Reborn!神澜奇域无双珠生徒会の一存 Lv.2サクラダリセットSurvival Game Club!Recca no HonooThe Power of One, Gekijouban Pocket Monsters: Revelation Lugia, Pokémon Movie 2Otomege Sekai wa Mob ni Kibishii Sekai desu, Mobseka, MobusekaOofuri, Ookiku Furikabutte: Natsu no Taikai Hen OVA, Ookiku Furikabutte: Natsu no Taikai Hen Episode 12.5, Ookiku Furikabutte 2 Special, Big Windup! 2 Special, Swing Big! 2 SpecialNogizaka Haruka no Himitsu 3, Haruka Nogizaka\\'s Secret 3Net-juu no Susume Episode 11, Recommendation of Real Life, Moriko\\'s Log-in to Fruits de Mer, Riajuu no Susume, Moriko no Fruits de Mer ni Log-in ShimashitaNakinekoもののがたり 第二章マジンカイザーMai-Otome Zero, My-Otome ZeroRecord of Lodoss War OVAGhost in the Shell: Arise - Border:3 Ghost TearsKoreha Zombie Desuka?, Kore ha Zombie Desu ka?, Kore wa Zombie Desuka?Kaze no Shojo Emily, Emily of the New MoonMysterious Joker 4ジャーニー 太古アラビア半島での奇跡と戦いの物語Jibaku-kun: Twelve World Story, Bucky: Searching for world 0, Buckyへやキャン△Gatchaman Crowds Special, Gatchaman Crowds Episode 13, Gatchaman Crowds Episode 12 Director\\'s CutManabi Straight!Eiga Crayon Shin-chan: Arashi wo Yobu Jungle, Crayon Shin-chan: The Storm Called The Jungleコードギアス 亡国のアキト 第１章「翼竜は舞い降りた」シティーハンター ベイシティウォーズBokuBen, We Can\\'t Study, Bokutachi wa Benkyou ga Dekinai 2nd SeasonRomance of the Three Kingdomsアフロサムライ ResurrectionTrinity Seven (2015)Harlock Space PirateBubblegum Crisis 2032, Bubblegum Crisis 2033The Day Naruto Became Hokageブラックキャット美少女戦士セーラームーンSuperS 外伝 亜美ちゃんの初恋Aria the Natural Special, That Miracle In Which We May Meet Again..., Aria the Natural Promo, Aria the Natural Episode 0Maidens of the Savage SeasonAh! My Goddess! (TV)Ikoku Meiro no Croisée The Animation Special, Ikoku Meiro no Croisee The Animation Special, Ikoku Meiro no Croisée Episode 4.5Highschool DxDヒーラー・ガールThe Concierge at Arctic Department StoreGenki Bakuhatsu Ganbarugar, Eldran series #2銀河機攻隊 マジェスティックプリンスフリー！Fairy Tail: Houou no Miko PrologueCarnival Phantasm (2013), Carnival Phantasm Special Seasonブラック･ジャック 劇場版Beelzebub: Hashire! Beel-bo Keiji!!, Beelzebub: Kaiketsu!! Beel-bo Meitantei Suiri, Beelzebub: Sakigake!! Beel to Shinsengumiバーテンダーアニマル横町Please Take My Brother Away 5, Kuai Ba Wo Ge Dai Zou 5,  快把我哥带走 5Alison and Lilia, Arison to Riria, Allison and LilliaAh! My Goddess (2011), Oh! My Goddess (2011), Aa! Megami-sama!: Itsumo Futari de, Aa! Megami-sama! OADBook Girl, Literature GirlYAT Anshin! Luxury Space Tours 2YAT Anshin! Luxury Space Tours, Yamamoto Anshin TravelXian Wang de Ri Chang Sheng HuoUN-GO アン ゴTouhou Unofficial Doujin Anime: A Summer Day\\'s Dream Episode 2.5Prince of Tennis: The Two Samurai - The First Gameたまゆら～hitotose～映画 スマイルプリキュア! 絵本の中はみんなチグハグ!Shokugeki no Souma: Jump Festa 2015 Special, Food Wars! Shokugeki no Soma OVAShakugan no Shana OVA 2戦国BASARASaki Achiga-hen: Episode of Side-Aサカサマのパテマ Beginning of the Dayローゼンメイデン (2013)Pretty Cure All Stars New Stage Eien no Tomodachi, Eiga Precure All Stars New Stage 3: Eien no Tomodachi, Pretty Cure All Stars New Stage 3: Friends ForeverPop Team Epic (2019)Papakiki OVA, Listen to Me, Girls, I\\'m Your Father! OVA, Listen to Me, Girls. I Am Your Father! OVAMy Little Sister Can\\'t Be This Cute SpecialsOne Piece Special: Romance Dawn StoryNaruto Shippuuden: Gekijouban Naruto Shippuuden: Hi no Ishi o Tsugu Mono, Naruto Shippuuden Movie 3, Naruto Movie 6, Naruto Shippuuden 3: Inheritors of Will of FireEiga Yes! Pretty Cure 5: Kagami no Kuni no Miracle Daibouken!, Yes! Pretty Cure 5 Movie: Great Miraculous Adventure of the Mirror Country!Milmo de Pon!, Mirmo!, Wagamama Fairy Milmo De Pon!, Selfish fairy: Mirumo de Pon!, Selfish Fairy Mirumo de Pon!, Wagamama Fairy Mirumo de Pon! Golden, Wagamama Fairy Mirumo de Pon! Wonderful, Wagamama Fairy Mirumo de Pon! CharmingKnights of Ramune & 40 Fire, \\tVS Knight Ramune & 40 FireMoon, Laika, and the Bloodsucking Princessトワノクオン 第２章 混沌の乱舞The Third: The Girl with the Blue Eye天地無用！魎皇鬼 SPECIAL お祭り前日の夜！ストライクウィッチーズ Operation Victory ArrowスチームボーイSlayers Movie 3Zoids New Century/Zero, Zoids: New Century ZeroZero no Tsukaima: Princess no Rondo, Rondo of the Princesses, Zero\\'s Familiar 3rd Series, Zero no Tsukaima S3Xiaolu He Xiaolan, Xiao Lv He Xiao Lan, Xiaolv He Xiaolan, Green and Blue, Lil\\' Green and Lil\\' Blueウマ娘 プリティーダービーアイドルマスターシンデレラガールズ U149Slam Dunk Movie 1Shokugeki no Soma 5th SeasonGekijouban Pocket Monsters Advanced Generation: Myuu to Hadou no Yuusha Lucario, Pokemon Movie 8Meddlesome Kitsune Senko-sanねこぢる草名探偵コナン 16人の容疑者!?Japan Animator Expo, The Dragon Dentist, Hill Climb Girl, Me!Me!Me!, Carnage, Nishi-Ogikubo, Until You Come to Me, Tomorrow From ThereGoddess Café Terraceマルドゥック・スクランブル 燃焼μ\\'s Final Love Live Special AnimeLittle Busters!: Sekai no Saitou ha Ore ga Mamoru!氷属性男子とクールな同僚女子Sekai Meisaku Gekijou, Robinson Family Lost at Sea: Flone of the Marvelous Island, Swiss Family Robinson (TV)Sensual PhraseHimouto! Umaru-chan 2nd Season, My Two-Faced Little Sister RIt\\'s Time for \"Interrogation\", Princess!, Hime-sama \"Goumon\" no Jikan desuハナヤマタ風都探偵DRIFTERS OVAドラゴンボールZ 燃えつきろ!!熱戦・烈戦・超激戦Date A Live OVA, Date A Live Episode 13Gekijouban Date A LiveD-Frag! OVA, D-Frag!: Water!!Eiga Crayon Shin-chan: Henderland no Daibouken, Crayon Shin-chan: Adventure in HenderlandCity Hunter: Hyakuman Doru no Inbou, City Hunter: $1,000,000 Conspiracy, City Hunter: Plot of $1,000,000シンデレラ物語Maruko-chanCardcaptor Sakura: Leave it to Kero-chan, Cardcaptor Sakura: Kero\\'s CornerほのぼのログMission of Yozakura familyわんだふるぷりきゅあ!Fushigi-boshi no Futago-hime Gyu!, Fushigi Boshi no Futago Hime Gyu!ドラえもん おばあちゃんの思い出鬼平Star of the GiantsKowarekake no Orgol, Half-Broken Music BoxGekijouban Kidou Senshi Gundam 00: A Wakening of the Trailblazer, Gundam Double O MovieK: Seven Stories - Side:Blue - Like SiriusGrimm Masterpiece Theater II, New Grimm Masterpiece Theatre, Grimm\\'s Fairy Tales IIロボティクス・ノーツリストランテパラディーゾScience Fell in Love, So I Tried to Prove It 2nd Season, Rikekoi, Rikei ga Koi ni Ochita no de Shoumei shitemita. r=1-sinθQuanzhi Fashi 4th Season, Quan Zhi Fa Shi 4, Full-Time Magister 4Pokétoon, Zuruggu to Mimikkyu - Chase the Beans, Hero ni Naritai Yanchamu, Yume no Tsubomi, Mattete ne! Koiking, Gengar ni Nacchatta!?, Pokapoka Magumaggu HousePiano Forest, The Perfect World of Kai俺を好きなのはお前だけかよOne Piece TV Special 3, One Piece Special: Protect! The Last Great Performance, Mamore! Saigo no Oobutai劇場版ワンピース エピソードオブアラバスタ 砂漠の王女と海賊たちTranZor Z, Mazinga ZRupan Sansei: Part III, Lupin Sansei: Part IIIRenai Labラブひなクリスマススペシャル ～サイレント・イヴ～Kimi ni Todoke 2nd Season: Minitodo Gekijou, Kimi ni Todoke: From Me to You 2nd Season Specials, Reaching You 2nd Season Specials頭文字〈イニシャル〉D EXTRA STAGEKenji\\'s Spring韋駄天翔(ジャンプ)銀盤カレイドスコープGensoumaden Saiyuki: Requiem - For the One Not Chosen, Gensoumaden Saiyuuki: RequiemGalaxy Angel AA映画ドラえもん のび太と空の理想郷映画 ドラえもん のび太の月面探査記Doraemon: Nobita in Dorabian NightsだれかのまなざしDanna ga Nani wo Itteiru ka Wakaranai Ken 2nd Season, I Can\\'t Understand What My Husband Is Saying Second SeasonCyborg 009 (TV 2)バキAppleseed 2, Appleseed 2007終末トレインどこへいく？Roleplay Densetsu HepoiKirakira☆Precure À La Modeホッタラケの島\\u3000～遥と魔法の鏡～Haifuriサイボーグ009 THE CYBORG SOLDIERChibikko Kaijuu Yadamon私に天使が舞い降りた！true tearsトワノクオン 第1章 泡沫の花弁Himitsu: Top Secret - The RevelationTARI TARI田中くんは今日もけだるげKoukou Hoshi Kageki 2nd Season, High School Star Musical 2nd Season, StarmuAbsolutely Lovely Children, ZKCゼーガペインXie Wang Zhui Qi Zhi Yishi Qingcheng, Xie Wang Zhui Qi 2nd Season, The Demonic King Who Chases His Wife 2nd SeasonUchu Show e Youkosoトリニティ・ブラッドDeep Imagination, Dan Petory Kyoushu no Yuutsu, Professor Dan Petry\\'s Blues, End of the World, Kigeki, Comedy, Higan, Beyond, Garakuta no Machi, Junk Townストライクウィッチーズ 2SoltyReiShen Diao Xia Lu寫眞館Seitokai no Ichizon Lv.2 OVAスクールランブル三学期Saezuru Tori wa Habatakanai OVA, Twittering Birds Never Fly OVAノワールNitaboh: Tsugaru Shamisen Shiso GaibunNekketsu Saikyou Gosaurer, Hot-Blooded Strongest Go-Saurer, Matchless Passion Gozaurer, Eldran series #3Naruto Shippuden Movie, Naruto Movie 4, Gekijouban Naruto Shippuudenムシブギョー 蟲奉行Mirai Nikki OVA,Mengqi Shishen, Adorable Food Goddess名探偵コナン 灰原哀物語～黒鉄（くろがね）のミステリートレイン～Mei to Konekobasu, Mei and the Kitten Busママレード・ボーイ (1995)MariMite, La Vierge Marie Vous Regarde, The Virgin Mary is Watching Youまほらば ~Heartful days~LUPIN THE IIIRD 峰不二子の嘘休日のわるものさんクラウ ファントムメモリーAlternate World PharmacyMy Very Own HeroHisone & Masotan, Hisone and Maso-tan, HisoMasoGood Job-buガイコツ書店員本田さんLast Order Final Fantasy VIIFate/Grand Order: Fujimaru Ritsuka Doesn\\'t Get Itドラゴンリーグデトロイト・メタル・シティ 魔王生誕盤BoRe, BuRe, Arms AlchemyBosco DaiboukenBeelzebub Jump Super Anime Tour Special, Beelzebub: Jump Festa 2010 SpecialAir in Summer Special, Air Summer SpecialAharen Is IndecipherableAh! My Goddess (OVA)秘封活動記録 The Sealed Esoteric Historyヘタリア The Beautiful World 僕がヒロインに囲まれ過ぎて世（ｒｙ平成狸合戦ぽんぽこHayate the Combat Butler!! Episode 0, Hayate no Gotoku!! OVAGirls und Panzer der Film: Arisu War!, Girls und Panzer: Fushou Akiyama Yukari no Sensha KouzaPretty Cure Splash StarFUSE: Memoirs of the Hunter GirlState Alchemists vs Seven Homunculi, Enkai-hen, Chibi Party, Kodomo-hen, Kids, FMA映画 ドラえもん のび太の宝島DOGS, Dogs: Bullets and Carnage, Dogs: Stray Dogs Howling in the Darkデッドマウント・デスプレイChi\\'s Sweet Home OVA, Chii\\'s Sweet Home, Chi\\'s Sweet Home: Chi to Kocchi, Deau.バンブーブレードAura: Maryuinkoga Saigo no Tatakai, Aura: Maryuin Kouga Saigo no TatakaiArtiswitch（アーティスウィッチ）雨を告げる漂流団地Wu Geng Ji 2nd Season, Wu Geng Ji: Tian Qi, Wu Geng Ji II, Feng Shen Ji, The Legend and the Hero, Chronicles of the God\\'s OrderTsubasa Chronicle the Movie: The Princess of the Country of Birdcages, Tsubasa Chronicle: Princess of the Country of the Birdcages東京喰種 トーキョーグール【JACK】Beyond, Detective Story, Matriculated, Program, The Second Renaissance, Final Flight of the Osiris, World Record, Kid\\'s StoryスピードグラファーSpace Pirate Captain Herlock: The Endless Odyssey双星の陰陽師Slayers Movie 2Slayers Movie 4Slayers Excellent OVAShinrei Tantei YakumoSeitokai no Ichizon: Hekiyou Gakuen Seitokai Gijiroku, It\\'s Student Council\\'s JudgmentThe power of the saint is all around.Rurouni Kenshin Episode 95: End of Wanderings, Rurouni Kenshin: Meiji Kenkaku Romantan Special, Rurou no Saihate - Hi to Ruri no Kizuna wa Shiosai no Naka niRe:ZERO ~Starting Break Time From Zero~ 2nd Season, Re:Zero kara Hajimeru Kyuukei Jikan 2楽園追放 -Expelled from Paradise-Pretty Cure All Stars DX, Eiga Precure All Stars DX: Minna Tomodachi - Kiseki no Zenin Daishuugou!Gekijouban Pocket Monsters Diamond and Pearl: Dialga vs. Palkia vs. Darkrai, Pokemon Diamond & Pearl: Dialga vs. Palkia vs. DarkraiPeacemaker Kurogane, PMKRanking of Kings: Treasure Chest of CourageSenyu.Highschool DxD SpecialsHigh School DxD Episodes 13 and 14, Highschool DxD OVAHigh School DxD New OVA, High School DxD New Episode 13Han Hua Ri Ji, Man\\'s Diaryef - a tale of memories. ~Recollections~Doraemon: Nobita and the Miracle Island - Animal Adventureコードギアス 亡国のアキト 第３章「輝くもの天より堕つ」Bokutachi wa Benkyou ga Dekinai OVA, We Never Learn OVABokuBen, We Can\\'t StudyBoku no Hero Academia Recap, Boku no Hero Academia 13.5Baka to Test to Shoukanjuu: Private Footage (Produced by Muttsuri Company), Mikoukai Eizou (Seisaku: Muttsuri Shoukai), The Idiot, the Tests, and the Summoned Creatures Specialsあひるの空Act! Addict! Actors! Season Autumn & WinterYu Yu Hakusho: Eizou Hakusho II: Yuusuke, Kurama, Hiei, Kuwabara, Image Hakusho IIYes! プリキュア5 GoGo!Watatenスカイ・クロラThe iDOLM@STER Cinderella Girls Special, The iDOLM@STER Cinderella Girls Episode 26Tenchi Muyo! Ryo-Ohki 3rd Seasonテイルズ オブ ジ アビスストロベリー・パニックBoy MaidSekirei 2Sei Juushi BismarkRokka no YushaRecBoku Pataliro!, Boku, Patariro, I Pataliro!, PatarilloAoi TamagoOchamegami Monogatari: Korokoro Poron, Ochamegami Monogatari Kolokolo Polon, The Story of Little Goddess Roly-Poly Pollon, Little PollenNijiiro DaysNatsu no Arashi! 2, Natsu no Arashi! Akinai-chuuMotto To-Love-Ru, More Trouble, More ToLoveRuMoeru! Onii-sanLEGEND OF BASARAKyuuShiキョロちゃんKuroko no Basket Special, Kuroko\\'s Basketball: Let\\'s Chat OVA甲鉄城のカバネリKokaku no RegiosKimi-kiss pure rougeKidou Senshi Gundam SEED Special Edition, Mobile Suit Gundam SEED: Movie, Kokuu no Senjou, The Empty Battlefield, Harukanaru Akatsuki, The Far-Away Dawn, Meidou no Sora, The Rumbling UniversePatlabor The Mobile Police: The Original Series, Kido Keisatsu Patlabor: Early Days, Mobile Police PatlaborChou Gekijouban Keroro Gunso 4, Chou Gekijouban Keroro Gunso: Gekishin Dragon Warriors de Arimasu!Wind-borne Moon-lit Ran, The Samurai GirlKanojo to Kanojo no NekoかんなぎShin AtashinchiさんかれあセイバーマリオネットJ to XQuanzhi Fashi 5th Season, Full-Time Magister 5ぽてまよPPTP, Poptepipic劇場版ポケットモンスター ココPocket Monsters: Diamond & Pearl, Diamond and Pearl, DP: Battle Dimension, DP: Galactic Battles, DP: Sinnoh League VictorsOnegai Sensei OVA謎の彼女X 謎の夏祭りNaruto Movie 5, Naruto Shippuuden Movie 2, Naruto Shippuuden: Bonds六三四の剣Mirai of the FutureMai Oto-Hime, Mai-OtoHiME, Dancing MaidenMahouka Koukou no Rettousei 2nd Season, The Irregular at Magic High School Season 2マクロスΔ（デルタ）Lupin III: The Fuma Conspiracy, Rupan Sansei: Fuma Ichizoku no Imboo, Lupin III: The Plot of the Fuma Clan炼气十万年Kuma Kuma Kuma Bear 2nd Season, The Bears Bear a Bare Kuma 2nd SeasonFangThe Sunday Without God, Kami-Nai, Kami-sama no Inai NichiyoubiKami nomi zo Shiru Sekai: Yonin to Idol, Kaminomi OVA, Kami Nomi zo Shiru Sekai OVA, The World God Only Knows: Four People and an IdolGekijouban Hunter x HunterGekijouban Hunter x Hunter: Hiiro no Genei, HxH Movieヒカルの碁 お正月スペシャルI Shaved. Then I Brought a High School Girl Home., HigehiroHetalia: The World Twinkle - Surprise Halloween!To Become a Real Heroine!ヘルクGS（ゴーストスイーパー）美神ガッチャマン クラウズFate - Stay NightA Sloven Elf Who Have Been from the Edo Period, Shut-In ElfEDENS ZERODoraemon: 2112 - The Birth of DoraemonDoraemon: The New Record of Nobita - Spaceblazer, Doraemon The Hero 2009Digimon tri. 4Denpa Onna to Seishun Otoko Episode 13, Electromagnetic Wave Woman and Adolescent Man SpecialDanna ga Nani wo Itteiru ka Wakaranai Kenキャプテン翼Ｊバディ・コンプレックス 完結編 ―あの空に還る未来で―BTOOOM!Boku wa Tomodachi ga Sukunai 2nd SeasonAoyama Goushou Tanpen-shuuAo no Exorcist Special, Ao no Futsumashi: Kuro no IedeアマガミSSAIRDemon Gods, Tales of Demons and Godsライドバック名探偵コナン 阿笠からの挑戦状! 阿笠vsコナン&少年探偵団Marchen Awakens Romance, Märchen Awakens Romance, MAR-Heaven, MÄR Heaven魔探偵ロキ RAGNAROKStar Magician Magical Emi, Magic Star Magical EmiRupan Sansei, Lupin III: Memories of the Flame - Tokyo Crisisラブライブ！スクールアイドルフェスティバルALL STARSDragon Nest Movie 2: Throne of Elves靠你啦！战神系统Kakumeiki Valvrave Second Season, Valvrave the Liberator Second Season邪神ちゃんドロップキック’千歳編IGPX -Immortal Grand Prix-ヘヴィーオブジェクトHana & Alice: The Murder Caseハマトラ THE ANIMATIONKyoshin Gorg, Kyojin GorgRe:Construction the Elfrieden Kingdom Tales of Realistic Brave, A Realist Hero\\'s Kingdom Restoration Chronicle, GenkokuWinter Ballad, Winter Love StoryBeng Huai: Xing Qiong Tiedao - Fei Guang, Honkai: Star Rail - A FlashBokuraga Ita, We were thereブラッドラッドあしたのジョー２Appare Ranman!亜人 第3部「衝戟」Aikatsu! Aiming for the Magical Aikatsu Cardアイカツフレンズ！Book Girl: Memoire, Literature Girl: MemoireXing Chen Bian 3rd Season, Xingchen Bian 3rd Season, Legend of Immortals 3rd Season, Stellar Transformation 3rd SeasonUzaki-chan wa Asobitai! 2nd Season, Uzaki-chan wa Asobitai! ω, Uzaki-chan Wants to Hang Out! 2nd Season, Uzaki-chan Wants to Hang Out! ωTsurune: Kazemai Koukou Kyuudou-bu Special, Tsurune: Kazemai Koukou Kyuudou-bu Episode 14To-LOVE-Ru OVA, Trouble OVA, To Love You OVATetsuwan Birdy Decode OVA, Birdy the Mighty Decode OVAスローループSlayers 4th Season, Slayers 4th Series, Slayers (TV 2008)First DragonYes! プリキュア5New Seal God: Nezha Reborn, New Seal God: Rebirth of NezhaUtawarerumono: The False MaskTsukigakirei Special, The Moon is Beautiful Special, As the Moon, So Beautiful SpecialMashumaro Taimusu, The Raspberry TimesFafner in the Azure: Dead AggressorSlayers Perfect, Gekijouban Slayers, Slayers Movie 1Shinpi no Sekai Eru Hazaado,Shikabane Hime Second SeasonValkyria Chronicles: Unrecorded Chronicles OVASeleproSabagebu: Soshite Dareka Inakunatta, Sabagebu! OVA Special MissionPhi Brain: Kami no Puzzle Dai 2 Series, Phi Φ Brain: Kami no Puzzle Second Season, Phi Brain: Kami no Puzzle 2nd SeasonP4A: The Factor of HopeHamefura X, I Reincarnated into an Otome Game as a Villainess With Only Destruction Flags…, Destruction Flag OtomeLove, Be Loved, Leave, Be Left, FurifuraHello Spank!, Ohayo! SpankOroshitate Musical Nerima Daikon Brothers, Dress-up Musical Nerima Daikon BrothersA Summer Snow Rendezvous七つの大罪  黙示録の四騎士More! Useless Witch Doremi - Secret of the Frog Stone, Mo~tto! Ojamajo Doremi Kaeru Seki no Himitsu, Mo~tto! Ojamajo Doremi movieAqua Age, Blue Green Yearsメアリと魔女の花The Virgin Mary is Watching You: Spring, MariMite: Haru, La Vierge Marie Vous Regarde, Maria-sama ni wa Naisho, Don\\'t tell the Virgin MaryMaria-sama ni wa Naisho, Don\\'t tell the Virgin MaryMagical Princess Princess Minky Momo, Fairy Princess Momo, Magical Princess Gigi, Gigi and the Fountain of YouthDino Adventure Jurassic Tripper, Kyoryu Bokenki Jura TripperThe Diary of a Crazed FamilyKowarekake no Orgol (Movie), Half-Broken Music Box (Movie)This Boy Picked Up A MermanGash Bell Movie 1, Zatch Bell Movie 1機動天使エンジェリックレイヤーChou Gekijouban Keroro Gunso 2: Shinkai no Princess de Arimasu!, Sergeant Keroro Movie 2: The Deep Sea Princess Let it be so!Mysterious Joker Second SeasonイナズマイレブンGO クロノ・ストーンIt\\'d be Good if Only Little Sister Was HerePlease don\\'t bully me, Nagatoroヘタリア Axis PowersHatsukoi Gentei.はなまる幼稚園Here Comes Ms. Modern, Mademoiselle Anne, Haikara-san Passes, Comes Miss High-Collar, Haikara-san ga ToruGun vs Swordゴブリンスレイヤー -GOBLIN\\'S CROWN-GEAR Senshi Dendoh, Guard Earth and Advanced Reconnaissance Fighter Dendo, GEAR Senshi DendouFullmetal Alchemist: Milos no Seinaru Hoshi, Fullmetal Alchemist Movie 2, Hagane no Renkinjutsushi Movie 2, FMA Movie 2Dororo and HyakkimaruDoraemon: Nobita\\'s South Sea AdventureDoraemon: Nobita to Ginga Choutokkyuu, Doraemon: Nobita\\'s Galactic ExpressDigimon Adventure 02: Return of Diablomon, Digimon Adventure 02: Diablomon Strikes BackRegardless of My Adolescent Delusions of Grandeur, I Want a Date! Lite, Chu-2 Byo demo Koi ga Shitai! Lite, Love, Chunibyo & Other Delusions LiteBrigadoon Marin and Melan, MariMeraBoku dake ga Inai Machi Episode 6.5, Boku dake ga Inai Machi Episode 11.5ブレンド・SAnother 00, Another: The Other -Inga-, Another OAD, Another OVAエンジェル・ハートAir Gear Episode 21.5Legend of Deification今際の国のアリスひよ恋ブレイク ブレイドOokiku Furikabutte - The Basics of Basics, Oofuri, Ohkiku Furikabutte, Swing Big!MGXNanatsu no Taizai: Imashime no Fukkatsu 00未来警察ウラシマンScarlet Road, White Road, Indigo Road, Lemon Road, Ore no Michi名探偵コナン 標的は小五郎!!少年探偵団マル秘調査名探偵コナン: コナンvsキッドvsヤイバ 宝刀争奪大決戦!!Maoyu Maou YushaThe Bears Bear a Bare KumaKoukaku Kidoutai: Arise (TV)Gundam 0083Just Because!Dog Gods!犬と猫どっちも飼ってると毎日たのしいヒャッコ干物妹！うまるちゃん OVAＨ２[エイチ・ツー]GJ-bu Guruguru, GJ-bu Special, GJ Club Special, Good Job-bu Special, GJ-bu 2, GJ-bu OVAGalaxy Angel 4th, Galaxy Angel XFigure 17 - Tsubasa and HikaruEl Cazador, The Witch HunterDoraemon: Nobita\\'s Winged HeroesDigimon Adventure Zero Two, Digimon: Digital Monsters 02Damekko Dobutsu, Useless AnimalsThe Grand Lord, Da Zhuzai, Grand Master 3D, The Great Ruler3DEiga Crayon Shin-chan: Arashi wo Yobu Eikou no Yakiniku Road, Crayon Shin-chan: The Storm Called: Yakiniku Road of HonorGekijouban ClannadBoku no Hero Academia Jump Festa 2016 Specialベルゼブブ嬢のお気に召すまま。Ace wo Nerae! OVA 1, Aim for the Ace! 2Abenobashi Magic Shopping District, Abenobashi Mahoh Shotengai, Magical Shopping Street Abenobashi, Magical Shopping Arcade AbenobashiHaifuri OVAHigh School DxD Season 4I\\'m Addicted to You.漁港の肉子ちゃんGolden Kamuy OAD: Showdown in Barato, Golden Kamuy OVA: Barato no Youjinbou, 茨戸の用心棒The Way of the House Husband, Yakuza goes HousemanSpooky KitaroGatchaman Crowds 2nd Season, Gatchaman Crowds Second SeasonGanba Fly High, Persistor! Shun, Fly High, Shun the Gymnast, Gambalist! Shun風人物語Fushigi Yugi OVA 2, Fushigi Yuugi OVA 2Hagane no Renkinjutsushi: Tabi no Hajimari, FMA: ReflectionsErementar GeradeDanMachi 2nd Season, Is It Wrong That I Want to Meet You in a Dungeon 2nd SeasonHow Many Kilograms are the Dumbbells You Lift?キューティクル探偵因幡バブルアスラクライン 2あまんちゅ！Alice and Therese\\'s Illusion Factory, The Illusion Factory of Alice and ThereseAggretsuko: We Wish You a Metal ChristmasZero no Tsukaima: Princess no Rondo OVA, Zero no Tsukaima: Princesses no Rondo Special,Zero no Tsukaima: Seductive Beach,Zero no Tsukaima: Episode 6.5WHRGekijouban Trinity Seven, Trinity Seven Movie: Yuukyuu Toshokan to Rekinjutsu ShoujoGenerał Daimos, Fighting General Daimos, Fighting King Daimos, Daimos, Starbirds, Battle Commander DaimosTearmoon Empire StoryTaiso SamuraiEverything Becomes F: The Perfect InsiderSteins,Gate Zero, Steins,Gate 0 SpecialLost Property of the Sky, Misplaced by Heaven劇場版「シドニアの騎士」Ranma 1/2 Movie 1POPEE the ぱフォーマーplanetarian ~雪圏球[スノーグローブ]~Phi Brain: Kami no Puzzle Dai 3, Phi Brain: Kami no Puzzle Third Season, Phi Brain: Kami no Puzzle 3rd Season, Phi Brain: Puzzle of God - Nemesis! Raetsel-henPet Shop of Horrors (ペットショップ・オブ・ホラーズ)Noblesse: The Beginning of Destruction夏のあらし！Muteki Choujin Zambot 3, Zambot 3, Zanbot 3, Invincible Superman Zambot 3Born to CookMi Yu Xing Zhe迷宮ブラックカンパニー政宗くんのリベンジRMy Otome ZweiSomeday\\'s Dreamers: Summer Skies魔法のステージ・ファンシーララDai Pinch! Sei Freya-go Special JikenRupan Sansei, Lupin III: Blood Seal - Eternal MermaidLMDA, Layton Mystery Detective Agency: Kat\\'s Mystery-Solving FilesKidou Senshi Gundam I Gekijouban, Mobile Suit Gundam Movie 1Kakegurui: Compulsive Gambler, Gambling SchoolThe Legend of Zorro, The Amazing ZorroThriller RestaurantHistory\\'s Strongest Disciple Kenichi SpecialsGekijouban Servamp: Alice in the GardenSayonara Ginga Tetsudo 999: Andromeda ShuuchakuekiPocket Monsters: Harukanaru Aoi SoraPapakiki, Listen to Me, Girls, I\\'m Your Father!王ドロボウ JING in Seventh HeavenOjamajo Doremi # Movie, Useless Witch Doremi Sharp, Bothersome Witch Doremi Sharp, Ojamjo Doremi #: Pop and the Queen\\'s Cursed RoseNabari no Oh, King of NabariもののがたりMnemosyne: Daughters of MnemosyneG-Reco Movie 4, Gekijouban Gundam G no Reconguista 4selector infected WIXOSSSaiunkoku Monogatari Soushuuhen, Saiunkoku Picture Scroll, Saiunkoku Emaki聖闘士星矢 天界編 序奏 ~overture~聖闘士星矢 真紅の少年伝説Mata Mata Saber Marionette JOi! Ryoma, Oi, Ryuoma, Oi, Ryoma, Hey! Ryoma, O~i! Ryouma, O~i! RyomaMoyashimon Returns: Tales of Agriculture, Moyasimon ReturnsMojackoMai Mai Shinko and the Millennium-Old MagicM7ラブ ひな AgainKiratto Pri-chanKara no Kyoukai: Epilogue, The Garden of Sinners Epilogue, The Garden of Sinners: the Garden of SinnersShimoseka最遊記RELOAD BLASTPygmalion, PigumarioPriPara Movie: Minna no Akogare♪ Let\\'s Go☆Prix Paris, Puri Para, Pri Para, PuriPara, Prism Paradiseプリンセスナイン 如月女子高野球部Ookami Shoujo to Kuro Ouji OVA, Ookami Shoujo to Kuroouji OVA, Wolf Girl and Black Prince OVAニードレスDrift off to Blue Orchid Island, Casted Away - Airan IslandMIX MEISEI STORYMy Days With Midoriマーメイドメロディーぴちぴちピッチピュア名探偵コナン コナンvsキッド 漆黒の狙撃者(スナイパー)まよチキ!Sasuke TVManga MitokomonMainichi Kaa-san, Every Day MomLupin III: Part IV - Specials, Lupin Sansei (2015) Specials, Venice of the Dead, Nonstop RendezvousMokoto no Sentaku Koikaken, Love Hina: Motoko\\'s Choice, Love or the Sword - Don\\'t CrySpirit Cage: IncarnationGuyver: The Bio-boosted ArmorKuroko\\'s Basketball: Would You Like To Chat OVAKinmosa, Golden Mosaic, Kin-iro MosaicKudakareta Sekai, The Broken World, Sorezore no Ken, Respective Swords, Sadame no Goka, The Hell Fire of Destiny, Jiyuu no Daishou, The Cost of FreedomChou Gekijouban Keroro Gunsou, Keroro Gunsou the MovieJuushin Riger, Jushin Lyger, Beast God LigerJoJo\\'s Bizarre Adventure (2000)インフェルノコップHokuto no Ken (1986)Hitsugi Hime no ChaikaHengentaimayakou Karuramau! Sendaikokeshienka, Karura MauHataraku Saibou Special, Hataraku Saibou: Cold SyndromeWakate Animator Ikusei Project, 2014 Young Animator Training Project, Anime Mirai 2014繰繰れ！コックリさんグランクレスト戦記Ginga Legend WeedFairies\\' Penalty Game, Natsu vs. Mavis, Fairies\\' Christmasドラゴンボール 超 スーパー ブロリー 超天空塔Dr. Slump & Arale-chan, Dr. Slump 1Battle Through the HeavensDoraemon: Nobita & Robot Kingdom, Doraemon: Nobita\\'s Robot KingdomダーウィンズゲームBibliotheca Mystica de Dantalian, Dantalian\\'s BookshelfDanganronpa 3: The End of Hope\\'s Peak Academy - Future VolumeThe Bush Baby僕のヒーローアカデミア トレーニング・オブ・ザ・デッドBlack Jack Special: The 4 Miracles of Life, Black Jack: The 4 Miracles of LifeSindbad the Sailor, The Arabian Nights: Adventures of SinbadAkulas亜人\\u3000第２部「衝突」Gekijouban AirZero\\'s Familiarヤング ブラック・ジャック永生Xing Chen Bian 2nd Season, Xingchen Bian Season 2nd Season, Legend of Immortals 2nd Season, Stellar Transformation 2nd SeasonThe Legend and the Hero, Feng Shen Ji, Chronicles of the God\\'s OrderTibetan Dog StoryReincarnated as an Aristocrat with an Appraisal SkillTenchi Souzou Design-bu Special, Tenchisozo Design Bu Special, [Ten-De-Bu] What a strange animal! Special, Tendebu SpecialSuzumiya Haruhi no Yuutsu (2009), Endless Eight, The Sigh of Haruhi Suzumiyaスパイラル -推理の絆-Game King, Yugioh, King of Games, Yu-Gi-Oh! First Series, Yu-Gi-Oh! Serie Zero, Yugi-Oh, Yuugiou, Yu-Gi-Oh Season 0Eiga Yes! Pretty Cure 5 GoGo!: Okashi no Kuni no Happy Birthday, Eiga Yes! Pretty Cure 5 GoGo!: Happy Birthday in the Sweets KingdomBeng Huai: Xing Qiong Tiedao - Xuanhuang, Honkai: Star Rail - Ichor of Two DragonsTsunliseAstro Boy, AstroboyTengen Toppa Gurren Lagann Gekijouban Zenyasai Special: Viral\\'s Sweet DreamIronfist ChinmiTales of Zestiria the X Episode 00Tales of Zestiria the XSuki-tte Ii na yo. OVA, Sukinayo OVAStrike the Blood OVAThe Form that Love Takes, Ai no Katachi, The Form that Sadness Takes, Kanashimi no Katachi, The Form that Friendship Takes, Yujo no Katach, Documents of the Shaman Fightロボット・カーニバルJuuousei, Jyu Oh Sei천년여우 여우비Bento, Ben-TouアルテAmagami SS: Imouto, Amagami SS Special, Amagami SS Tachibana Miya Arc, Amagami SS Tachibana Miya Chapter, Amagami SS Episode 26Amagami SS Dai Ni Ki Specials, Amagami SS Second Season Specials, Amagami SS 2nd Season Specials07 Ghost, Seven Ghost, 7 Ghosts, The Seven GhostsXueying Lingzhu, Lord Xue Ying, Snow Eagle LordWagaya no OinarisamaDen\\'ei Shoujo Video Girl AITokyo Majin Gakuen Kenpucho: Tou Kenbu Hen, Tokyo Majin Gakuen Kenpucho: Tou 2nd ActThe Idolmaster Shiny FestaThe Cockpit: Kamikaze Stories, Seisouken Kiryuu, Slipstream, Onsoku Raigekitai, Sonic Boom Squadron, Tetsu no Ryuukihei, Knight of the Iron DragonPrince of Tennis: Peapuri, Prince of Tennis Picture Drama, Prince of Tennis: PairpuriTenchi Muyo! Ryo-Ohki 3rd Season Plus 1, Tenchi Muyo! Ryo Ohki: Final ConfrontationsTatakau Shisho, Tatakau Shisho to Koisuru Bakudan, Fighting Librarians映画中二病でも恋がしたい!LiteTaiho Shichauzo: Full Throttle, Taiho Shichau zo (2007)タクティクスSuisei no Gargantia Episode 14, Suisei no Gargantia Episode 15STAR DRIVER: Shining TakutoYu Yu Hakusho: Eizou Hakusho: Ankoku Bujutsukai no Shou - Joukan & Gekan, Yu Yu Hakusho: Image Hakusho: Dark Tournament Chapter - First & Second VolumesYu-Gi-Oh! GX, Yugioh GX, Yu-Gi-Oh! Genex, Yugioh Genex, Yu-Gi-Oh!: Duel Monsters GX, Yugioh: Duel Monsters GX, Yu-Gi-Oh!: Duel Monsters Genex, Yugioh: Duel Monsters Genex, Game King of Duel Monsters GXHora, Mimi ga Mieteru yo!, Hey, Your Ears Are Showing!Uraboku東京喰種 トーキョーグール【PINTO】Tenchi Muyo Movie 3: Tenchi Forever!, Tenchi Muyo in Love 2 - Distant Memoriesスーパー・クルックスArmored Trooper Votoms: Red Shoulder Document - Yabo no Roots, Armored Trooper Votoms: The Red Shoulder Document - Roots of AmbitionAttack! Titan Junior HighBattle Fairy Yukikaze, Yukikaze Operation, Fairy Air Force劇場版 selector destructed WIXOSSSankarea Special, Sankarea Episode 13Sankarea Episodes 00 & 14Saiyuki Gaiden: Tokubetsu-hen - Kouga no Shou, Saiyuki Gaiden: Fragment ChapterレッドバロンRE-MAIN（リメイン）ワンピース 大海原にひらけ! でっかいでっカイ父の夢!One Piece Film: Gold Episode 0Ohedo Rocket, Ooedo RocketNogizaka Haruka no HimitsuMondaiji-tachi ga Isekai kara Kuru Sou desu yo? OVAGhost in the Shell: Stand Alone Complex - Tachikoma na Hibi SpecialsKindaichi Shounen no Jikenbo: Kyuuketsuki Densetsu Satsujin Jiken, Kindaichi Case Files: The Case of the Vampire Legend Murder, Operaza Kan Saigo no Satsujin, The Third Opera House MurdersKami-chama Karin, Little Goddess KarinCompulsive Gambler TwinMysterious Joker Third SeasonThe Sea Monster\\'s Children宝石商リチャード氏の謎鑑定ひぐらしのなく頃に拡〜アウトブレイク〜When They Cry, Higurashi: When They Cry - New, Higurashi no Naku Koro ni (2020), When the Cicadas Cry, The Moment the Cicadas Cryヘタリア The World TwinkleHakushaku to Yosei, Count and Fairyガンダムビルドファイターズトライ恶魔法则Digimon tri. 6デッド\\u3000リーブスダーリン・イン・ザ・フランキスDangan Ronpa: The Animationバスカッシュ！The Racing Brothers, Lets and Go WGP, Bakusou Kyoudai Let\\'s & Go WGPAnymal Tantei Kiruminzoo, Animal Tantei Kiruminzoo, Animal Detectives Kiruminzoo, Anyamaru Tantei Kiruminzoo, Anyamaru Tantei KiruminzuuOjiisan to Obaasan ga Wakagaetta Hanashi, A Story About a Grandpa and Grandma Who Returned Back to Their YouthBOFURI: I Don\\'t Want to Get Hurt, so I\\'ll Max Out My Defense 2nd Season, I hate being in pain, so I think I\\'ll make a full defense build 2, I Hate Getting Hurt, So I Put All My Skill Points Into Defense 2ハンターxハンターHaiyore! Nyaruko-san 2, Haiyoru! Nyaruko-san 2, Nyarko-san: Another Crawling Chaos WGroove Adventure Rave銀河へキックオフ!!Oegwauisa Elise, 외과의사 엘리제, Surgeon Elise, Doctor Elise: Queen with a ScalpelPrisma Illya 2wei!, Prisma☆Illya 2nd Seasonドラゴンボール エピソード オブ バーダックDr. Stone: Stone Wars Episode Zero, Dr. Stone Recap, Dr. Stone Special FeatureダーティペアDashing Kappeiコードギアス 亡国のアキト 第４章「憎しみの記憶から」Choujigen Game Neptune: The Animation Episode 13Cats Eye428: Fuusa Sareta Shibuya de Tokubetsu-hen, 428: Fuusasareta Shibuya de Special Chapter, 428 the animationAmagi Brilliant Park Episode 14, Amagi Brilliant Park Tokubetsu-henアイカツフレンズ！～かがやきのジュエル～Accelerated WorldHoneyWorks: I\\'ve Liked You Since Long Ago, I\\'ve liked you for a long time.: Confession Committee, I\\'ve had feelings for you since a long time ago.: Executive Confession CommitteeウィッチブレイドWanjie Xianzong, Wonderland, The Wonderland of Ten ThousandsThe God of All RealmsUta no☆Prince-sama♪: Maji Love 2000% Episode 14, Uta no Prince-sama: Maji Love 1000% 2 Special, UtaPri 2 SpecialMemoru in the Pointed Hat, Tongari Boushi no Memoru, Wee WendyTo Aru Majutsu no Index Gaiden, Toaru Kagaku no Ippou TsuukouS.A.O, SAOSuper Robot Taisen Original Generation: The Inspector, SRWOGSoten KoroArmored Trooper Votoms: Pailsen Files進撃の巨人 IN THE DOME -兵士たちの星空-Dragon Nest: Rise of the Black Dragon亜人Ace o NeraeHinotori, Bird of Fireヘタリア Axis Powers ファンディスクGreat Sky Demon Dragon Gaiking, Gaiking: Legend of Daikuu-Maryuuドルアーガの塔 ～the Sword of URUK～Doraemon: Nobita\\'s Great Mermaid Naval BattleDimension WDate A Live 2D.C.II S.S.: Da Capo II 2nd SeasonChuunibyou demo Koi ga Shitai! 2 Lite, Chu-2 Byo demo Koi ga Shitai! Ren Lite, Love, Chunibyo & Other Delusions: Heart Throb LiteBleach: Jump Festa 2004, ブリーチ Memories in the Rain妖しのセレスAoharu x Machinegun Special, Aoharu x Machine Gun Special, Aoharu x Machine Gun: Battlefield of BeastsAnsatsu Kyoushitsu Jump Super Anime Tour Special, Assassination Classroom, Ansatsu Kyoushitsu: Jump Festa 2013 Specialゾイド ジェネシスYuu Yuu Hakusho Movie 2, YuYu Hakusho, Yu Yu Hakusho: Fight for the Netherworld妖怪アパートの幽雅な日常Wake Up, Girls!: Seven IdolsWake Up, Girls! Zoku Movie, Wake Up, Girls! 2, WUG! Zoku-hen, WUG! 2, Wake Up, Girls! Shadow of YouthUtawareru Mono OVA, The One Being Sung OVAUta no Prince-sama Maji Love 1000% 2, UtaPri 2Yuukyuu Holder, Eternal HolderTsurikichi Sampei, Fishing Otaku SanpeiHeaven Wars Shuratoただいま、おかえり旅するぬいぐるみ ~Traveling Daru~ストリートファイターII MOVIESkyThe Queen of a Thousand Years, 1000-Year Queen, Shin Taketori Monogatari: Sennen JoouShakugan no Shana-tan Begins, Shakugan no Shana-tan & Yoshida: Fumina Konoe Strikes Back!, Shakugan no Shana-tan RevengeRewrite: Moon-hen / Terra-hen人偶学园Quan Zhi Fa ShiPuchimas!!: Petit Petit IdolmasterGekijouban Pocket Monster: Minna no Monogatari, Pokémon the Movie: Everyone\\'s StoryOwari no Seraph: Jump Festa 2015 Special, Owari no Seraph: Vampire Shahar, Owari no Seraph OVAアウトブレイク・カンパニーKing of Bandit JingONE PIECE エピソードオブ空島劇場版ワンピース エピソードオブアラバスタ無能なナナMirai Nikki OVAMikan\\'s Picture Diary, Mikan\\'s Illustrated Diaryマーメイドメロディー ぴちぴちピッチ名探偵コナン: コナンと平次と消えた少年Love Hina Spring Specialリトル・ニモシュヴァリエ Le Chevalier D\\'EonJoaninhaIkenaikyoA Town Where You Live OVAKidou Senshi Gundam SEED DESTINYGundam 00 Recapキディ・グレイドShikabane Hime AkaSekirei: Pure Engagement Episode 0, Sekirei 2 Special, Kanwanidai (Sekirei Shindan/Sekirei Yoka)Theater Edition Rockman EXE: Program of Light and Dark, Rockman EXE MOVIE, Rockman EXE ~ Hikari to Yami no Program ~七侯笔录Pretty Cure All Stars New Stage Mirai no Tomodachi, Eiga Precure All Stars New Stage Mirai no Tomodachi, Precure All Stars New Stage Future FriendsPretty Cure All Stars DX2: Light of Hope - Protect the Rainbow Jewel!, Eiga Precure All Stars DX2: Kibou no Hikari - Rainbow Jewel wo Mamore!+tic Nee-san, +tic Elder Sister, Plustic Neesan, Plastic Nee-san, Purasu Chikku Neesan, Plastic Elder SisterOne Piece Special: The Detective Memoirs of Chief Straw Hat LuffyOne Piece The Movie: Karakurijou no Mecha Kyohei, One Piece: Karakuri Shiro no Mecha Kyohei, Karakuri Castle\\'s Mecha Giant Soldier無責任艦長タイラー OVA名探偵コナン 女子高生探偵\\u3000鈴木園子の事件簿Mahou Sensei Negima! OVA Mahou Sekai Extra: Magical Girl Yue, Mahou Sensei Negima!: Mou Hitotsu no Sekai Episode 5Lv1魔王とワンルーム勇者Lupin III: Part VI, Lupin Sansei Part VISoul Contract, Spirit Contract, Spirit PactKyou no Go no Ni (TV), Today in Class 5-2 (2008), Kyo no GononiKyo no Gononi, Kyou no Go no NiTanaka no Narration de Kurikaeru Zenhan Digest, Tanaka no Naration de Kurikaeru Kuroshituji Digest, Kuroshitsuji Episode 13.5, Kuro Shitsuji Recap Episode, Black Butler Recap, Kuroshitsuji Special黒子のバスケ お喋りしようかKinnikuman: Kinnikusei Oui Soudatsuhen, Kinnikuman: Scramble For The ThroneKakegurui 2nd Season, Kakegurui: Compulsive Gambler 2nd Season, Gambling School 2nd Season,K Seven Stories Circle Vision ~Nameless Song~记忆管理局Inari, Konkon, ABCs of LoveHoshiteleThe Shut-In Vampire Princess\\' WorriesGOD EATERGalaxy Angel 2Fate/kaleid liner Prisma☆Illya Movie: Licht Namae no Nai ShoujoFate/ApocryphaLegendary Brave da Garn, Brave Fighter of Legend da-GarnDenki Machi no Honya-san, Denkigai no Honya-sanDate A Live 3, Date A Live 3rd Season, DAL 3サイバーシックスCYBER CITY OEDO 808 (サイバーシティ オーエド ハチマルハチ)Chibi Maruko-chan: My Favorite Song涼風Magical Soldier LouieKotoura-sanKaze no Seikon, Stigma of the Wind城下町のダンデライオンClose Combat MageEnmusubi no Youko-chan, Huyao Xiao Hongniang: Xia ShaHitsugi no Chaika 2nd Season, Hitsugi no Chaika Second SeasonHiiro no Kakera: Dai Ni Shou, Hiiro no Kakera 2nd Season, Scarlet Fragment 2Fire Rain, Rain of FireG-Reco Movie 5, Gekijouban Gundam G no Reconguista 5グイン・サーガグレートマジンガーSilver FoxSkeleton Knight going out to the parallel universePrisma Illya 2wei! HerzDoraemon: Nobita at the Birth of JapanDigimon Season FourDigimon tri. 5デビルマン 誕生編DAYSEiga Crayon Shin-chan: Arashi o Yobu! Yuhi no Kasukabe Boys, Crayon Shin-chan: The Storm Called: The Kasukabe Boys of the Evening SunDai-Guard, Daiguardキャプテンフューチャー[C] The Money of Soul and Possibility ControlBoogiepop Never Laughs, Boogiepop Doesn\\'t Laugh僕のヒーローアカデミア 生き残れ！決死のサバイバル訓練Blood-C Movie, Gekijouban Blood-CB: The BeginningZutto Neko ShoshinshaYawara! Atlanta SpecialVandread Stage One, Vandread First StageウルトラマニアックTo LOVE-Ru (2017), To Loveru: Trouble - Multiplication, From the Front, from BehindThe Idolmaster Cinderella GirlsMighty AtomTenchisozo Design Bu, [Ten-De-Bu] What a strange animal!, TendebuSlayers Movie 5Shin Shirayuki-hime Densetsu PretearI\\'ve Always Liked You Picture Drama Special, HoneyWorks: Kinyoubi no Ohayou赘婿Yowamushi Pedal Summary연애하루전Heart-Thumping Tonightテルマエ・ロマエ ノヴァエたまゆらSpy Room 2真･女神転生Ｄチルドレン ライト＆ダーク神八剣伝New Captain Tsubasa生命の科学ミクロパトロール百日紅～Miss HOKUSAI～Pretty Cure All Stars New Stage Kokoro no Tomodachi, Eiga Precure All Stars New Stage 2: Kokoro no Tomodachi, Pretty Cure All Stars New Stage 2: Friends of the Heartぷれぷれぷれあです × かげじつ！Phi Φ Brain: Kami no PuzzlePapakiki Special, Listen to Me, Girls, I\\'m Your Father! Special, Listen to Me, Girls. I Am Your Father!: Warm Fuzziesワンピース ルフィ落下!秘境・海のヘソの大冒険Obey Me!Nogizaka Haruka no Himitsu 2, Haruka Nogizaka\\'s Secret Purity炎の中忍試験! ナルトvs木ノ葉丸!!ナルトSD ロック・リーの青春フルパワー忍伝Muteki Kojin Daitarn 3, Invincible Steel Man Daitarn 3Gyagu Manga Biyori, Masuda Kousuke\\'s Theater: A Perfect Day for Gag-MangaLOVE STAGE!!Kyuuketsuki Miyu TV, Vampire Princess Miyu (1997)Kuru NekoWhale Calves Sing on the Sand, Tales of the Wales CalvesKonobiKimi ni Todoke 2nd Season Episode 00, Unrequited Love, Kimi ni Todoke RecapThe Eternity You Wish For, KimiNozoTragedy of BelladonnaFalse God My Dropkick Episode 12Irregular Hunter X, MegaMan Maverick Hunter X: The Day of SigmaHIGH CARD映画ハピネスチャージプリキュア！人形の国のバレリーナハコヅメ～交番女子の逆襲～Phoenix Wright: Ace Attorney Season 2Musashi the Great RVGenius Party 2, Gala, Moondrive, Wanwa the Puppy, Tojin Kit, Dimension BombDoraemon: Nobita no Kekkon ZenyaDoraemon the Movie 2021: Nobita\\'s Space War, Doraemon the Movie 2021: Nobita no Uchuu Shou SensouDoraemon: Nobita\\'s Great Adventure in the World of MagicDN Angel, DNAngelサイボーグクロちゃん映画クレヨンしんちゃん バカうまっ! B級グルメサバイバル!!Middle Manager TonegawaチェブラーシカBaka to Test to Shoukanjuu Ni! Specials, The Idiot, the Tests, and the Summoned Creatures Specials, Baka and Test: Summon the Beasts SpecialsFrom Common Job Class to the Strongest in the World 2nd Seasonエリアの騎士傲世九重天仙武传 第二季NARUTO Shippu Konoha Gakuen Den Special, Konoha HighマイリトルゴートMouretsu Uchuu Kaizoku, Miniskirt Pirates, Moretsu Uchuu KaizokuGyagu Manga Biyori 2Maison Ikkoku: Kanketsuhen, Maison Ikkoku: Final Chapter魔法少女まどか★マギカ コンセプトムービーまほろまてぃっくLevius -レビウス-Kuroshitsuji 2, Black Butler 2Ghost in the Shell: Stand Alone Complex 2nd GIG - Tachikoma SpecialsGorgeous Tango: The Mars Daybreak, Kenran Butoh Sai: The Mars Daybreakジュエルペット ハッピネスHigurashi no Naku Koro ni - Cat Killing ChapterHayate no Gotoku! (2011)Cackling Kitarou, Spooky KitarouGA: ADCFate/Grand Order: Zettai Majuu Sensen Babylonia Episode 0Fabiniku, Isekai Bishoujo Juniku OjisanFAIRYTAIL×RAVEあんさんぶるスターズ!! -Road to Show!!-Doraemon: Nobita\\'s Animal PlanetDEADMAN WONDERLANDBibliotheca Mystica de Dantalian: Ibarahime, Dantalian\\'s Bookshelf: Ibarahime映画クレヨンしんちゃん 爆睡! ユメミーワールド大突撃Eiga Crayon Shin-chan: Dengeki! Buta no Hizume Daisakusen, Crayon Shin-chan: Blitzkrieg! Pig\\'s Hoof\\'s Secret MissionChikyu Boei KazokuCencorollCardfight!! Vanguard Third Season, Cardfight!! Vanguard 3rd SeasonAku no HanaHenNekoGundam Build Fighters: GM\\'s CounterattackGenshiken Nidaime OAD, The Society for the Study of Modern Visual Culture OVA映画 ドラえもん のび太と雲の王国Doraemon: Nobita no Kyoryuuデート・ア・ライブ超次元ゲイム ネプテューヌ THE ANIMATIONChibiribe, Chibi Ribe苍兰诀I Don\\'t Have Many Friendsブラック・ジャック ふたりの黒い医者Battlespirits: Brave, Battle Spirits Season 3Arifureta: From Commonplace to World\\'s Strongest Season OVA, Phantom Adventure and Miraculous Encounter, Arifureta Shokugyou de Sekai Saikyou 2nd Season OVAAoharu x Machine GunThe Blue OrchestraACCA: 13-Territory Inspection Dept. Regards, ACCA: 13th Territory Inspection Department, ACCA: 13th Ward Observation Department - Regards, ACCA Jusanku Kansatsuka RegardsFour People and Their Respective Lies, Yonin wa Sorezore Uso wo Tsuku新神榜：杨戬Supreme God EmperorUshio & ToraUnico Movie 1Uma Musume: Pretty Derby SpecialsLove Song of a Certain PilotTenchi Muyou, Tenchi Muyo! GXPティアーズ・トゥ・ティアラ劇場版 探偵オペラ ミルキィホームズ〜逆襲のミルキィホームズ〜takt op.Destiny天体のメソッド もうひとつの願いSHOW BY ROCK!! STARS!!Shakugan no Shana OVA, Shakugan no Shana Tokubetsu Hen Koi to Onsen no Kougai Gakushuu!, Shakugan no Shana SP: Love and Outdoor Hot Spring Tutorial!戦闘員、派遣します！Blue Gale Xabungle, Combat Mecha XabungleSengoku Basara OVA, Sengoku Basara Episode 13, Sengoku Basara SpecialThe Reincarnation of the Strongest Onmyouji in Another WorldSaiki Kusuo no Psi NanRust-Eater BiscoPsycho-Pass SS Case 1: Tsumi to Batsuプラネット・ウィズNouCome OVAOne Piece Special: Glorious Island女武神的餐桌 新春SP信長の忍び~伊勢・金ヶ崎篇~Mumin, MoominMade in Abyss: Retsujitsu no Ougonkyou - Papa to IsshoLove Hina Episode 28境界のRINNEInside Tsubaki Kunoichi\\'s Heart剣勇伝説ＹＡＩＢＡケムリクサBodyguard of the Wind, Kaze no Youjimboからくりサーカス怪病医ラムネK: Seven Stories - Side:Green - The Overwritten WorldSeikai no Senki Movie, Battle Flag of the Stars Special Edition, Seikai no Senki TokubetsuhenRurouni Kenshin: Meiji Kenkaku Romantan - Special TechniquesPumpSciGekijouban Pocket Monsters: Mizu no Miyako Mamorigami Latias to Latios, Pokemon Movie 5The Ideal Man Boy\\'s Gang LeaderOokami-san to Shichinin no Nakamatachi, Okamisan and Seven CompanionsNils HolgerssonBurning Wind Ocean Earth Samurai Lord, Bushilord, Bushiroad, Neppu Kairiku Bushi RoadMoryo no Hako, Box of Goblinsもういっぽん！Kidou Senshi Gundam SEED C.E. 73: StargazerClever Sarutobi, Chubby NinjaArrivederci Space Cruiser Yamato: Soldiers Of Love, Farewell Space Battleship Yamato: Warriors of LoveRyuugajou Nanana no MaizoukinRurouni Kenshin: Shin Kyoto HenRokujouma no Shinryakusha!?リルリルフェアリル～妖精のドア～Re: Cutey Honeyらんま１／２\\u3000熱闘歌合戦Ranma 1/2 Special Video: Battle ga Ippai 29-nin no Korinai YatsuraPuchimas!: Petit IdolmasterGekijouban PriPara: Minna de Kagayake! Kirarin Star Live!, Puri Para, Pri Para, PuriPara, Prism ParadisePocket Monsters: Advanced Generation, Advanced Challenge, Advanced Battle, Battle FrontierGeeks\\' Videoワンピース呪われた聖剣Naruto: Daikatsugeki! Yukihime Ninpocho Dattebayo!, Naruto: It\\'s the Snow Princess\\' Ninja Art Book!ミュークルドリーミーRupan Sansei: Dead or AliveRupan Sansei, Lupin III: $1 Money WarsRecord of Lodoss War TVLHJC, Rekka Gyoushuuクズの本懐Ghost in the Shell: Stand Alone Complex - Tachikoma SpecialsKonjiki no Gashbell!! Mecabarukan no raishuu, Konjiki no Gash Bell!!: Attack of the Mechavulcan, Gash Bell Movie 2Child\\'s Toy OVA, Kodocha OVAKakumeiki ValvraveSaint Seiya: Soshuhen, Saint Seiya: The Hades Chapter Sanctuary Episode 0, Special ProjectionRokuAkaPokemon Movie 20Best of Ookiku Furikabutte: Natsu no Score-book, Ookiku Furikabutte Recap OVA, Oofuri, Swing Big!Onmyou Tai SenkiPlease! Psammea-don, Sablotinワンピース ジャンゴのダンスカーニバルOne Piece Recap OVANyankoiGekijouban Nanatsu no Taizai Hikari ni Norowareshi Mono-tachi, The Seven Deadly Sins the Movie: Cursed by Lightムーンライトマイル 1stシーズン -Lift off-Mikakunin de Shinkoukei OVA, Engaged to the Unidentified OVADon\\'t tell the Virgin Mary, Maria-sama ni wa Naisho, Don\\'t tell the Virgin MaryMahoromatic 2龙族 / 龍族 -The Blazing Dawn-Kyousougiga (2012), Kyousogiga (2012)Black Corpse, Black RelicKurokami, Kurogami, Kuro Kami, Dark GodEureka Seven Movie, Psalms of Planets Eureka Seven: Pocket Full of Rainbows甲虫王者ムシキング ～森の民の伝説～Insect Story: Honey Bee Hutch, HutchiIt\\'s Too Sick to Call this LoveArmor Hunter Mellowlink, Leechers Army Merowlink, MellowlinkIxion Saga: Dimensional TransferHabitat Ground Jewdo, Heat Guy Jay, HeatGuy-JGekijouban Haruka Naru Toki no Naka de: Maihitoyo, Gekijo Ban Harukanaru Toki no Nakade -Mai Hitoyo-, GekijouBan Harukanaru Toki no Naka de: MaiHitoyo, Beyond the Stream of Time: A Dance in the MoonlightGekijouban Ginga Kikoutai Majestic PrinceShanghai Dragon, Deathtic 4, Doorbell, Limit Cycle, Happy Machine, Baby Blue牙狼〈GARO〉-VANISHING LINE-We Are Pretty CureFushigi Yugi OVA 1FLAG（フラッグ）Elfen Lied Special, Elfen Lied OVADruaga no Tou: The Aegis of Urukドラゴンボール 最強への道『DOUBLE DECKER! ダグ＆キリル』EXTRADoraemon: Nobita to Buriki no Meikyun, Doraemon: Nobita\\'s Tin-Plate LabyrinthCrayon Shin-chan Movie 28: Crash! Rakuga Kingdom and Almost Four HeroesChuunibyou demo Koi ga Shitai! 2 Specials, Chu-2 Byo demo Koi ga Shitai! Ren SpecialsBURN THE WITCHBokura wa Minna Kawaisou: Shiro-san to Ore, The Kawai Complex Guide to Manors and Hostel Behavior: Shino-san and IManual of Hundred Demons悪役令嬢レベル99 ～私は裏ボスですが魔王ではありません～Yumeiro Patissiere: Mune Kyun Tropical Island!, Yumeiro Pâtissière: Heart-Racing Tropical Island!, Yumeiro Pâtissière: Mune Kyun Tropical Island!Yugioh, Yu-Gi-Oh! The Movie: Ultra Fusion! Bonds Over Time and Space, Yu-Gi-Oh! 10th Anniversary Special, 10th Anniversary Gekijouban, Yu-Gi-Oh! The Movie: Super Fusion! Bonds That Transcend Time, Yu-Gi-Oh! Bonds Beyond Timeヴァンパイア・イン・ザ・ガーデンRumic Theater, Rumiko Takahashi Theater, Rumic World TVスーパーダンガンロンパ2.5 狛枝凪斗と世界の破壊者Koukou Hoshi Kageki OVA, High School Star Musical OVA, StarmuSSSS.GRIDMANShounen Maid Special, Boy Maid OVA, Shounen Maid Episode 8.5, Boy Maid Special: Women Should Be Brave, & Men Should Be Winsome?神曲奏界ポリフォニカcrimsonSAbsolutely Lovely Children, Zettai Karen Children OAD, ZKC OVAYKK: Quiet Country Cafe, Yokohama Shopping Journal: Quiet Country CafeXie Wang Zhui Qi 3rd Season, The Demonic King Who Chases His Wife 3rd SeasonUta no☆Prince-sama♪ Maji Love Fourth Season, UtaPri 4とんかつDJアゲ太郎Zenryoku Shounen, Matta AimashouThe Idolmaster Side MTales of Symphonia The Animation: Sylvarant ChapterSukimega深海SaiKano, Saishuuheiki Kanojo: The Last Love Song on This Little PlanetRockman EXE Axess『RabbiTube』クリエイターにチャレンジ！プリマドールおとなりに銀河My Mental Multiple-Choice Power Is Completely Ruining My School Romantic Comedy, NouCome, NouKomeOffside (2001)Junketsu no Maria: Sorcière de gré, pucelle de forceYookasu Come Here, Junkers Come HomeほしのこえTen no Haou: Hokuto no Ken Raou GaidenMy Two-Faced Little SisterHatenkou Yugi, DazzleHakuouki: Reimeiroku Tokuten DiscHaiyore! Nyaruko-san OVA, Haiyore! Nyaruko-san: Easy Way to Kill EnemiesGuilty Crown Tokubetsuhen: Reassortment, Guilty Crown Special: Reassortmentゲゲゲの鬼太郎Dorohedoro OVADigimon Adventure 02: Digimon Hurricane Jouriku!! / Kouhen Chouzetsu Shinka!! Ougon no DigimentalCollector YuiTiny Snow Fairy Sugar, Chiccha na Yukitsukai SugarBug-tte Honey, Honey The Bug, Honeybee in Toycomland, Bugtte HoneyBishounen SeriesBanG Dream! SpecialBlue Exorcist: Kyoto Impure King Arc OVAアリスと蔵六Bluer Than IndigoAdashimaYusha Tokkyu Might Gaine, The Brave Express Might GaineTsuide ni Tonchinkan, Regarding TonchinkanTonari no Kaibutsu-kun OVA, The Monster Next Door OVA, My Little Monster OVA東京ミュウミュウTenchi Muyou! Midsummer\\'s Eve, Tenchi Muyo! Manatsu no Eveスター・ウォーズ：ビジョンズ装甲騎兵ボトムズ\\u3000ザ・ラストレッドショルダーTwins Spirit Investigators, Tsuin Seishin Tantei遮天夢戦士ウイングマンA Day Before Us (Season 0)ワッチャプリマジ！バーチャファイターThe Fantastic Adventure of Unico 2, Unico Movie 2, Unico: To the Magic IslandHouhokekyo Tonari no Yamada-kun, Hoohokekyo Tonari no Yamada-kunTennis no Ouji-sama OVA Another Story II: Ano Toki no Bokura OVA BonusShakugan no Shana-tan Gekijoubanロビンフッドの大冒険PreCure All Stars - Singing with Everyone♪ Miraculous Magic!, Precure All-Stars the Movie - Everybody Sing! Miraculous Magic!, Pretty Cureポコニャン！マイセルフ; ユアセルフMonMusu OVAMadan no Ou to Senki, The King of the Magic Bullet and VanadisLord El-Melloi II\\'s Case Files: Rail Zeppelin Grace Note - Episode 0龙蛇演义Kin\\'iro no Corda: Secondo Passo, Kin\\'iro no Chord: Secondo Passo, The Golden String: Second StepKenkou Zenra-kei Suiei-bu Umishou, Kenkoo Zenra-kei Suiei-bu Umishou, Umisho High School Naked Swimming Club, UmishoChibi Vampire KarinThe Most Heretical Last Boss Queen Who Will Become the Source of Tragedy Will Devote Herself for the Sake of the People, LastameHakuouki Hekketsuroku Episode 0, Hakuouki Recap, Hakuoki SummarySpirit Wind EleganceドラゴンボールZ 銀河ギリギリ!!ぶっちぎりの凄い奴Mahoujin Guruguru II, Mahoujin Guru Guru: Doki Doki LegendOriginal Dirty Pair, Dirty Pair (1987)Bell of Chirinブラッドラッド 我輩は猫ではないResident Evil: DamnationB\\'tX Neo: B\\'t X Neo, BTX NeoAnoHana Picture Drama, We Still Don\\'t Know the Name of the Flower We Saw That Day.: Letter to MenmaAnime Sanjushi: Aramis no Daiboken, Three Musketeers, Animated Three Musketeers, Anime San JushiDevil BoyAiyou\\'s Secret RoomBluer Than Indigo: FateAct! Addict! Actors! Season Spring & SummerLove Live! School Idol Project 2nd Season RecapJakusha Character Tomozaki-kun, The Low Tier Character \"Tomozaki-kun\"はいぱーぽりすひなまつりA Tree in a Sunny PlaceSalad Bowl of Eccentrics, HensaraHellsing: The Dawn - A supplementary of HELLSING, Hellsing OVA Specials, Hellsing Ultimate Specials, DriftersProject ItohGunslinger Girl 2nd Season, Gunslinger Girl SecondPretty Cure Max Heart: Friends of the Snow-Laden Sky, Pretty Cure Movie 2, Eiga Futari wa Precure: Max Heart 2 - Yukizora no TomodachiElectromagnetic Wave Woman and Adolescent ManDa Capo If, D.C. ifクレヨンしんちゃん オラの引越し物語～サボテン大襲撃～コードギアス 亡国のアキト 最終章 「愛シキモノタチへ」バディ・コンプレックスPretty Soldier Sailor Moon (2014), Sailor Moon Remake, Bishoujo Senshi Sailor Moon (2014), Sailor Moon Crystalアンゴルモア 元寇合戦記.hack//QuantumYugioh, Yu-Gi-Oh!, Yu-Gi-Oh!: Duel Monsters, Yugioh: Duel Monsters Battle City Special, Yu-Gi-Oh! Duel Monsters Battle City Henうらら迷路帖Tate no Yuusha no Nariagari 3rd Season, The Rising of the Shield Hero 3rd SeasonBrave Hero of the Sun, Firebird, Burning Brave Hero Firebird, Sun Brave Fyvard, The Brave Fighter of Sun Fighbird, Sun GuardRage of Bahamut: Genesis - Short Story肆式青春, Si Shi Qing ChunSeikai no Monshou Movie, Crest of the Stars Special EditionUchi no Musume no Tame naraba, Ore wa Moshikashitara Maou mo Taoseru kamo Shirenai., UchiMusumeLostorage conflated WIXOSSHundred Stories, 100 Stories, Natsuhiko Kyougoku\\'s Worldly Horror StoriesThe Berserker Rises to Greatness.Gwihwanja-ui Mabeop-eun Teukbyeol-haeya Hamnida, 귀환자의 마법은 특별해야 합니다機動戦士Zガンダム -星を継ぐ者-Karneval (2013)Firebird: Space Chapter, Phoenix: UniverseGanmu, Tsutsu Yume: Gunnm, Battle Angel, Hyper Future Vision: GunnmGosick Recap, Haru Kitaru Gosick Special: Utsukushiki Kaibutsu wa Kondon no Saki wo Miruグッド・ナイト・ワールドフォーチュン·クエストLDual! Parare Runrun Monogatari, Dual Parallel! Trouble AdventuresTower of Druaga: The Aegis of Uruk Alternate First Episode, Tower of Druaga: The Aegis of Uruk SpecialDiGi Charat NyoEiga Crayon Shin-chan: Buriburi Oukoku no Hihou, Crayon Shin-chan: The Secret Treasure of Buri Buri Kingdom超魔神英雄伝ワタルBubblegum Crisis 2040Bokutama, PSMEブラック・ブレット\\u3000BLACK BULLET\\u3000［黒の銃弾］Astroboy, Astro Boy (2003)あしたのジョー (1980)Arknights: Prelude to DawnアクエリオンEVOLアナザー・ワールドイ・リ・ア ゼイラム The Animation真救世主伝説 北斗の拳 ユリア伝Hayate the Combat Butler OVA, Hayate no Gotoku! (2014)Hana no Ko Runrun, Lili, Lulu, Lun Lun the Flower Child, LunlunGu Gu Ganmoデンゼルを中心としたオリジナルアニメDoraemon: Nobita\\'s Version of SaiyukiDoraemon: Nobita no Uchuu Shou Sensou, Doraemon: Nobita\\'s Little Star WarsDoraemon: Nobita\\'s Great DemonDigimon Crosswars, Digimon Xros Wars: The Evil Death Generals and the Seven Kingdoms, Digimon Xros Wars: Aku no Death General to Shichinin no OukokuデルトラクエストChibi Maruko Chan Movie (1990)BRS OVAブラック・ブラッド・ブラザーズ幕末機関説 いろはにほへとAoihana, Blue FlowerThe Animated Secret Garden, Secret Flower Garden, The Secret Garden, Himitsu no HanazonoAccel World OVA, Accel World: Reverberation, Accel World: Ginyoku no Kakusei, Accel World: Kasoku no ChoutenA-Channel OVAYuuna of Yuragi Manor, Yuuna and the Haunted Hot SpringsYoake Mae yori Ruri Iro na: Crescent Love, YoakenaUchuu Taitei Goddo Shiguma, God Sigma Empire of Space, Space Combination God SigmaHang in There, Tsuyoshi, Get a Grip, Tsuyoshiとなりの吸血鬼さんMunto Movie, Munto Finale, Last War of Heavenloids and Akutoloids, Sora wo Miageru Shoujo no Hitomi ni Utsuru Sekai MovieCobra Gekijouban, Cobra Space AdventureSHOW BY ROCK!!ましゅまいれっしゅ!!真・女神転生 デビチルTrue Getter Robo vs. Neo Getter Robo시맨틱 에러 스페셜Farewell, My Dear Cramer Movie: First Touch, Sayonara FootballSAND LANDRD 潜脳調査室ワンルーム、日当たり普通、天使つき。One Piece: Soccer King of DreamsOne Piece: The MovieMuvLuv Alternative Total Eclipse, MLA TENoodle Fighter MikiＭＩＮＫＹ\\u3000ＭＯＭＯ\\u3000ｉｎ\\u3000夢にかける橋メダロットMazinkaiser: OVA 8Mangaka-san to Assistant-san to, ManAshiBio-Booster Armor Guyver, The Guyver, Гайвер, Guyver: The Bio-boosted ArmorCat Ninden TeyandeeKoi wo Shita no wa, Speed of YouthKochikame Movie 1Kindaichi Case Files Returns: The File of Inspector AkechiかいけつゾロリMs. Corporate Slave Wants to be Healed by a Loli Spirit, ShachisaretaiThe Great Cleric: A Salaryman\\'s Path to Surviving Another World三者三葉Rec Special, Rec Episode 7.5, Rec: The Unforgivenrain townOnegai SenseiOne Piece: Nejimakijima no Bouken, One Piece: Nejimaki Shima no Bouken信長の忍びNinja Boy Rantaro, Rakudaii Nintama RantarouThe Seven Deadly Sins: Prisoners of the SkyMouretsu Pirates Movie, Mouretsu Pirates: Akuu no Shinen, Gekijouban Mouretsu PiratesThe Incredible Race HorseラブひなKotetsu Jeeg, Steel Jeeg, ZiegKimiaruArmored Genesis Mospeada, Robotech: The New Generation機動戦士ガンダム 第08MS小隊 三次元との戦いKami-sama KazokuJungle King Taa-chan, Jungle no Ohja Ta-chanUsavich 3Tropical Rouge! Precure Snow Princess and The Miracle Ring!となりの妖怪さんTales of Symphonia The Animation: Tethe\\'alla Chapter - Mata Aeta ne: Shougeki no Judgement!スターシップ・オペレーターズSHOW BY ROCK!! ＃Shakugan no Shana Specials, Shakugan no Shana-tan Returns, Itadaki no Hecate-tan, Banjou no Carmel-sanSpirit ChroniclesSasamekikoto, Sasame KikotoSaishuuheiki Kanojo OVA, Saikano OVAPERSONA5 the Animation -THE DAY BREAKERS-A Penguin\\'s MemoriesOne Piece RecapObey Me! Special Anime: Devildom Family Trip!Mahou Sensei Negima! OVA HaruマイホームヒーローManie Manie The Labyrinth Tales, Labyrinth Labyrinthos, Hashiru Otoko, The Order to Stop Construction, Construction Cancellation Order, Running Man, Meikyu MonogatariMagical Witch SallyKuroshitsuji: Sono Shitsuji, Kyousou -Akai Valentine-鬼太郎誕生 ゲゲゲの謎Kido Senshi Z Gundam III - Hoshi no Kodo wa AiChou Gekijou-ban Keroro Gunsou: Tanjou! Kyuukyoku Keroro, Kiseki no Jikuu-jima, de arimasu!!Kanon (2002)New Maple Town StoriesShadow Skill (1998), Shadow Skill TVRomances of Sealed Gods, Soul Hunter: Battle of the ImmortalsSanzoku no Musume Ronia, Ronja RövardotterSaint Seiya: Ougon Tamashiiロケットガールライディング・ビーンポポロクロイス物語Pocket Monsters: Myuutsu! I Exist HereFairy Musketeer Akazukin TV, Otogi-Juushi AkazukinもっけLog Horizon 3rd Season, Log Horizon Third Seasonラストエグザイル-銀翼のファム-空想科学世界ガリバーボーイナイツ&マジックきらりん☆レボリューションThe Cases of Young Kindaichi, The Case Files of Young Kindaichi Movie, Kindaichi Shounen no Jikenbo: Operazakan - Aratanaru SatsujinKanokari海賊王女放課後のブレスGakuen Mokushiroku: Highschool of the Dead, HOTD, HSOTDHIDARI (Pilot Film)5-tou ni Naritai.銀河鉄道物語Pretty Cure Max Heart, We Are Pretty Cure: Max HeartDanmachi Sword OratoriaDoraemon: Nobita no Uchuu Eiyuuki, Doraemon: Nobita\\'s Space Heroesダーティペア the Movieデリシャスパーティ♡プリキュアCobra The Animation: Rokunin no Yuushiメイクアップ！ セーラー戦士ベイブレードバースト 神〈ゴッド〉アイカツオンパレード!.hack//G.U. TrilogyYes, No, or Maybe Half?Toaru Majutsu no Index: Endymion no Kiseki OmakeGat Obeu Hai Seukul, 갓 오브 하이스쿨, GOHS鉄腕バーディーStreet Fighter 2 V新テニスの王子様 氷帝 vs 立海 Game of FutureEldran series #1Armor Legend Samurai Troopers, Samurai Warriors, Ronin Warriors雾山五行Vampire Kishi 2, Vampire Knight 2, Vampire Kishi GuiltyUtaPri Movie 2, Uta no Prince-sama Maji Love Starish Tours Movie宇宙伝説ユリシーズ31Tennis no Ouji-sama OVA Another Story: Messages From Past and Future, Oshitari on a Certain Day, Aru Hi no OshitariSumikko Gurashi The Movie - The Pop-up Book and the Secret ChildGenesis of Aquarion, Holy Genesis AquarionMunto TV灼熱の卓球娘Saenai Heroine no Sodatekata Special: Episode 0, Saekano: How to Raise a Boring Girlfriend: PrologueRyusei no Rockman, Rockman of the Shooting Star, Rockman of the MeteorポケットモンスターXY&ZPokémon: Spell Of The Unown, Gekijouban Pocket Monsters: Lord of the UNKNOWN Tower ENTEI, Pokémon Movie 3Obey Me! 2nd Seasonノー・ガンズ・ライフMahou Sensei Negima! OVA NatsuNasu 2, Nasu: Migratory Bird\\'s SuitcaseM★F★K★ZMashin Eiyuden Wataru, Spirit Hero Wataru, Keith Courage, Adrien le sauveur du mondeTales of MagicSorcerer Stabber Orphen, Sorcerous Stabber Orphen魔法使いTai!Mahoromatic Summer 2003 TV Special, Mahoromatic: Natsu no TV SpecialThe Laid-back Life in Another World of the Ex-Hero Candidate Who Turned out to be a Cheat from Level 2, Chillin Different World Life of the Ex-Brave Candidate was Cheat from Lv2忍者戦士飛影Kanokano眷思量False God My DropkickHaou Daikei Ryuu KnightギャラクシーエンジェルLocodol OVAEf: The First TaleDoraemon: Nobita\\'s Genesis Diaryデビルマン 妖鳥シレーヌ編I Love You! BuBu ChaChaShoujo Changumu no Yume, Janggeum\\'s Dream, Changumu no Yume - Dae Jang Geum, 장금이의 꿈コードギアス 亡国のアキト 第2章 引き裂かれし翼竜 ピクチャードラマBing Huo Mo ChuAzumanga Daiou: The Very Short MovieMila Superstar, Attack Number OneThe Diary of Tortov Roddleオールアウト!!赤ずきんチャチャ (1995)Yuri Bear Storm, Love Bullet: Yurikuma ArashiUrusei Yatsura: Za Shougaibutsu Suiei Taikai, Urusei Yatsura: The Obstacle Course Swim Meet, It\\'s a Rumic World: Urusei YatsuraWhen They Cry 3, When the Seagulls Cry, When They Cry: SeagullsつぐももEverything Above the Skies, Everything Under the Skies The Past ChapterHoneyWorks: Kokuhaku Jikkou IinkaiGenesis of Aquarion OVA, Sousei no Aquarion: Uragiri no Tsubasa, Sousei no Aquarion: Taiyou no TsubasaThat is a Voice Actor!Machine Robo Rescue, Sortie!薬師寺涼子の怪奇事件簿I and Myself: The Two Lottes, The Parent TrapUsavich 2うる星やつら オンリーユートリニティセブン東京魔人學園剣風帖\\u3000龖（トウ）Toaru Kagaku no Railgun MMR III, Toaru Kagaku no Railgun MMR IV Specials, Motto Marutto Railgun, A Certain Scientific Railgun S Specials天使になるもんっ！Taiho Shichauzo Special, Taiho Shichau zo TV SpecialsChuu no ManimaniSB69シャングリ・ラHoly Warrior Dunbine, DunbineSeikai no Danshou: Birth, Passage of the Stars: Birth, Seikai no Danshou: Tanjyou, Lost Chapter of the Stars: BirthRockman EXE StreamOsake wa Fuufu ni Natte kara Special, Love is Like a Cocktail Episode 14Orient Part 2Ochame-na Futago, Mischevious Twins: Story of Clare Academy, The Twins at St. Clare\\'s, Hanni & Nanniニセコイ: OADN.T.Z.ZももくりMikakunin de Shinkoukei Special, Engaged to the Unidentified SpecialMahou Shoujo-tai Alice, Mahou Shoujotai, Magic-Girl Squad: Alice, Magical Girl Squad ArusuRupan Sansei: Alcatraz ConnectionKaze no Naka no Shoujo Kinpatsu no Jenii, Fiocchi di cotone per Jeanie, Jeanie With The Light Brown Hair, Girl in the Wind: Jeanie with the Light Brown Hair, JeannieKannagi - Crazy Shrine Maidens Special, Kannagi - Episode 14, Kannagi Specialジャングル大帝\\u3000劇場版Chie the Brat, Jarinko Chie (Movie)InoBato, Inou-Battle in the Usually Daze., Inou Battle Within Everyday Life放課後少年花子くんHimechan! Otogitic Idol Lil\\'PriGinmaku Hetalia: Axis Powers - Paint it, White (Shiroku Nure!)ハッピーバースデー 命かがやく瞬間ぐでたまGin-iro no Kami no Agito, Silver-Haired AgitoDanMachi OVA, Is It Wrong to Try to Pick Up Girls in a Dungeon? OVA, Dungeon ni Deai wo Motomeru no wa Machigatteiru Darou ka: Dungeon ni Onsen wo Motomeru no wa Machigatteiru Darou kaDr. Dokkiriダーティペア ラブリーエンジェルより愛をこめてDigimon Tamers: The Runaway Digimon Express, Digimon Tamers: Reckless Driving - Digimon Super-ExpressArmitage III Poly-Matrix, Armitage III the Movie: Poly-Matrix, Armitage III: Poly MatrixAo no Exorcist Specials, Ao no Exorcist: Ura Eku, Ao no Futsumashi, Blue Exorcist Specials, Ao no Exorcist OmakeCupid\\'s Chocolates 2nd Season, Aishen Qiaokeli Jinxingshi 2nd Season.hack//Beyond the WorldThe CureArknights: Holy Knight LightHige PiyoSandy Bell, Sandy Jonquille, Hello SandybellGakuen Utopia Manabi Straight! Episode 6.5, Gakuen Utopia Manabi Straight! OVAGA: Geijutsuka Art Design Class OVA, GA: ADC OVAEscaflowne: The MovieドラゴンボールZ とびっきりの最強対最強Animal Crossing, Animal ForestDigital Monster X-evolution, Digimon X, Digital Monster X-Evolution: 13 Royal KnightsIdeon, Legendary Giant-God Ideon, Great God Legend IdeonMini 4WDCode Geass: Hangyaku no Lelouch R2 Specials百炼成神Appleseed (2004)ゼロから始める魔法の書勇午 ～交渉人～W3, Wonder Three, Amazing Three, Wondering ThreeVersailles no Bara Special, Versailles no Bara episode 41, Versailles no Bara to Onna-tachi, The Rose and Women of VersaillesUchuu Senkan Yamato 3, Space Cruiser Yamato 3, Space Battleship Yamato 3, Star Blazers 3Rupan Sansei: Moeyo Zantetsuken, Lupin III: Burn, Zantetsuken!Koikaze, Love WindA Town Where You Live, Uchi ga Kita Machi, The Town Where I CameJUNK HEADJourney to Bloomジュエルペット マジカルチェンジMy Two-Faced Little Sister S, Himouto Umaruchan S, Himouto! Umaru-chan SHayate no Gotoku! (2013)Gera Gera Booth Monogatari, Geragera Bus Monogatari, Chuckling Bus Story of Boes, Funny Farm Madness, Ollie Ollie Oxen, Story of the Geragera BusGantz *uncut*, Gantz - Second Stage, Gantz 2nd stage学園戦記ムリョウFMPFate/kaleid liner プリズマ☆イリヤEiga Crayon Shin-chan: Action Kamen vs. Haigure Maou, Crayon Shin-chan: Action Kamen vs. Haigure DevilCode Geass: Lelouch of the Rebellion Episode 8.5 and Episode 17.5, Code Geass: Hangyaku no Lelouch SpecialsChihayafull 2 OVAChiccha na Yukitsukai Sugar Special, Chiccha na Yukitsukai Sugar Tokubetsu Henカードファイト!! ヴァンガードBLUE GENDERSatou: ZeroJungle Book: Boy Mowgliジョーカー・ゲームJahy-sama Won\\'t Be Discouraged!アイドル伝説えり子Strawberry Marshmallow Prologue, Ichigo Mashimaro - S1, Ichigo Marshmallow Episode 0Hayate no Gotoku (2012), Hayate the Combat Butler! Can\\'t Take My Eyes Off YouThe Eden of Grisaia Specials, Le Eden de la Grisaia Specialsふしぎ遊戯スペシャル 心宿しっかりしなさい！エルフを狩るモノたち IIドラゴンボールZ 復活の「F」Dosanko Gyaru Is Mega CuteドッグシグナルDanbooru Senki WI Don\\'t Have Many Friends: Add-on Disc, Boku wa Tomodachi ga Sukunai: Add-on DiscBlame!: The Ancient Terminal City, Blame!: Tanmatsu Ikou ToshiHideyoshi Hideyoshi Magic SpecialB\\'tX, B\\'t X, btxA Direction of the Day After Tomorrow, Towards the Day After Tomorrowアイカツ！ミュージックアワード\\u3000みんなで賞をもらっちゃいまSHOW！They Were 11, Juuichinin Iru!Wakate Animator Ikusei Project, 2011 Young Animator Training Project, Anime Mirai 2011万界独尊WUG!UniteUp!ウマ娘 プリティーダービー 1st Anniversary Special AnimationUFO Princess Valkyrie - December\\'s Nocturne, UFO Princess Walküre 2ときめきメモリアル Only LoveＴｈｅかぼちゃワインTales of Symphonia The Animation: United World Episode SpecialsEiga Suite Pretty Cure♪: Torimodose! Kokoro ga Tsunagu Kiseki no Merodi♪, Suite Precure The Movie: Take it back! The Miraculous Melody that Connects HeartsSutoBuraEven so, Ayumu draws closer to the endgame, Even So, Ayumu Approaches, SoreayuSF Saiyuki Starzinger, Science Fiction Saiyuki Starzinger, Science Fiction Journey to the West StarzingerSenhime Zesshou SymphogearWagtailSpirit Blade Mountain: Feast of the Stardust, Congqian Youzuo LingjianshanGekijouban Pocket Monsters Diamond and Pearl: To the Conquering of Space-Time, Pokemon Diamond & Pearl: Arceus Choukoku no Jikuu e오세암大雪海のカイナ ほしのけんじゃValkyrie no Shokutaku, 戦乙女の食卓Kamui the Ninja: Stories Other Than the Legend, Kamui the NinjaMM! Group, Emu Emu!Mamoru-kun was Blessed by a Goddess!マドラックスRupan Sansei, Lupin III: Lupin vs The Human Cloneロスト・ユニバースKyoukai Senjou no HorizonKyou no Go no Ni OVA 2, Kyou no Go no Ni (2008) OVA, Today in Class 5-2 (2008) OVA, Today\\'s 5-2 - OAD - Treasure Chest, Kyo no GononiKoro Teacher Quest 2016Kodomo no Jikan: Anata ga Watashi ni Kureta Mono, Kuro-chan to Shiro-chan, Kodomo no Natsu Jikan, Nymphet, Kojika, Kodomo no Jikan Second Term Special, Kodomo no Jikan OAD解雇された暗黒兵士（30代）のスローなセカンドライフKaibutsu Ohjo, Monster Princess, Princess Resurrection (OVA)Sekirei OVA, Sekirei SpecialSekai Seifuku: Bouryaku no ZvezdaZaidanhoujin Occult Designer Gakuin, Seikimatsu Occult AcademyOld Man ZRockman EXE BeastRGPriconneオーバーマン キングゲイナーOokami to Koushinryou 2 Specials, Spice and Wolf 2 SpecialsNinkuNatsuiro Kiseki明治東亰恋伽Mazinkaizer SKL, Mazinkaiser SkullThe caterer at the Maiko ManorMahoromatic: Tadaima◇OkaeriMachine Girl wa Kizutsukanai, Kikou Shoujo wa Kizutsukanai鬼公子\\u3000炎魔機甲戦記ドラグナーEiga Crayon Shin-chan: Unkokusai no Yabou, Crayon Shin-chan: Unkokusai\\'s AmbitionA Dog of Flanders: My Friend Patrascheエルフを狩るモノたちEmma: A Victorian Romance - IntermissionDanbooru Senki, Cardboard War ChroniclesブルーシードAo no 6-go, Ao no Rokugou, Ao no RokugoYamishibai: Japanese Ghost StoriesWo Shi Jiang Xiao BaiViVid Strike!吸血鬼〈バンパイア〉ハンターDTo Be Hero 2Sky Girls TV, Sky Girls (2007)Shakugan no Shana-tan: Final DestructionGensomaden Saiyuki OVA, Gensomaden Saiyuki Premium, Saiyuki PremiumレンタルマギカRahXephon: Harmonic ConvergenceONI 神々山のオナリOnegai Twins OVAMetal Fight Beyblade: Explosion, Metal Fight Beyblade 2, Beyblade: Metal Fusion 2Maria+Holic, MariaHolicMarco ~Haha wo Tazunete Sanzen Ri~, Marco the Movie - 3000 Leagues in Search of Mother, From the Apennines to the Andes: The Movie, Marco Movie: Haha eo Tazunete Sanzenri牧場の少女カトリカーニヴァルKami-sama DollsKamigami no Asobi: Ludere deorum, KamiasoKaibutsu-kun 2戦国妖狐 世直し姉弟編西洋骨董洋菓子店 ~アンティーク~Ranma 1/2: Best MemoriesNichijou Specials, Everyday SpecialsNekopara OVA ExtraJoujuu Senjin!! Mushibugyou OVAめだかボックスMakai Ouji: Devils and RealistMaji-Kyun! RenaissanceRupan Sansei: Nusumareta Rupan, Lupin III: Stolen Lupin - Copycat Summer Butterfliesいぬかみっ! THE MOVIE 特命霊的捜査官・仮名史郎っ!Hiatari Ryoukou火の鳥・ヤマト編Firebird: Karma ChapterFate/Zero Remix I, Fate/Zero Remix IIDragon Quest: Legend of the Hero Abel, Dragon Quest - Abel Yuusha DensetsuDoraemon: Nobita Gets Lost in SpaceDoraemon: Nobita\\'s Monstrous Underwater Castle, Doraemon: Nobita\\'s Undersea FortressDanbooru Senki WarsBinan Koukou Chikyuu Bouei-bu LOVE! 2nd Season, Cute High Earth Defense Club LOVE! 2nd SeasonBanG Dream!（バンドリ！）Azur Lane 4-koma: Slow Ahead!Megane-chan to 7-nin no Majo, Megane-chan to Nananin no Majo仙武帝尊, King of Martial Arts, Xianwu Dizun, Xianwu EmperorUta no☆Prince-sama♪ Maji Love 3, UtaPri 3Tottoko Hamtaro Dechu, Tottoko HamutaroMermaid Forest TV, Ningyo no Mori TV, Rumic Theater: Mermaid ForestTaiho Shichauzo Special, Taiho Shichau zo Special, You\\'re Under Arrest Episode 52SAO Alternative Gun Gale Online奏光のストレインSoltyRei Special, Solty Rei Episodee 9.5, Solty Rei OVA, Solty Rei: Opportunities Missed, Love SharedスロウスタートYuuyame結城友奈は勇者である 総集編「ひだまり」Descent into Darkness, The Darker DescendantUta no Prince-sama Maji Love 1000%, UtaPriUFO Ultramaiden Valkyrie 3, UFO Princess Walküre 3, UFO Princess Valkyrie Season 3 - Bride of the Stellar Season, UFO Princess Valkyrie: Bride of Star Spirit Seasonつるピカハゲ丸くんTokyo Ghoul Root A, Tokyo Ghoul 2nd Season, Tokyo Ghoul Second SeasonUltimate Fight第12話 スーパー仙狐さんタイムストップ！！ひばりくん！Sora o Kakeru Shoujo, Sora Kake GirlSHUFFLE! (シャッフル!)灼熱カバディSecond Season - Shogakusei wa Saiko daze!Qin\\'s Moon 4, Qin Shi Ming Yue 4: The Great WallPROMARE（プロメア）リオ編フォトンOgon Yusha Gorudoran, Golden Brave GoldranOtome wa Onee-sama ni Koi Shiteru, The Maiden is Falling in Love With the Elder Sister, The Maiden is Falling in Love With MeOshiete! Gyaruko-chanOokami Shoujo to Kuroouji, Wolf Girl & Black PrinceSeven-Colored Drops, Nanatsu-iro Drops: First Love That Encompasses You, Nanatsuiro★DropsMetal Fight Beyblade 3Mekaku City Actors, Kagerou Project本庁の刑事恋物語～結婚前夜～名探偵コナン\\u3000えくすかりばあの奇跡Gyagu Manga Biyori 3Mashiro-iro Symphony: Love Is Pure White, Mashiroiro Symphony: The Color of Lovers, Pure White SymphonyMaple Town StoriesYokai Watch Movie, Eiga Youkai Watch, Youkai Watch the Movie: The Secret of Birth, Nyan!ストライク・ザ・ブラッドⅡ新・エースをねらえ!Flower declaration of your heart 2, Lag-Rin 2PuriPuri, PriPriPoulette no Isu, Pollet no Isu, Poretto no IsuHattori the Ninja, Hattori, the Little Ninja, Ninja HattoriマーダープリンセスLupin III: An Angel\\'s Tactics - Fragments of a Dream Are the Scent of MurderLegend of Zenki, Demon Prince ZenkiI Want to Deliver Your VoiceKill Me Baby OVAKachou Ouji: Hard Rock Save the SpaceSenyuu. Episode 1.1, Senyu. SpecialsSakura Wars: The Radiant Gorgeous Blooming Cherry Blossoms, Sakura Wars OVA 2Magipoka, Renkin Sankyu Magical? Pokan, Renkin 3-kyuu Magical? PokanSong of Raiyantsuuri, Song of Liang Chu Liポケモン３Ｄアドベンチャー\\u3000ミュウを探せ！ワンピース めざせ！海賊野球王The GourmetO-Hoshisama no Rail, Ohoshi-sama no RailNiji-iro Hotaru: Eien no Natsuyasumi, Rainbow-colored Firefly: Never Ending Summer Vacation, Niji-Iro Hotaru ~Eien no Natsu Yasumi~, Rainbow-Colored Fireflies: The Eternal Summer Vacationネオアンジェリーク Abyss -Second Age-Nana Episode 11.5, Episode 21.5, and Episode 36.5, Nana Specials豆しばマギアレコード 魔法少女まどか☆マギカ外伝 2nd SEASON -覚醒前夜-Lupin III: Sweet Lost Night - Magic Lamp\\'s Nightmare PremonitionBio-Booster Armor Guyver, The Guyver, Kyoushoku Soukou Guyver, The Guyver Act II, Guyver: The Bio-boosted Armor IIKuru Neko 2nd Season刻刻KoichocoKinnikuman Nisei: Ultimate Muscle 2機動戦士ガンダムSEED 星のはざまでThe man picked up by the gods, Kamihiro, Kamitachi ni Hirowareta OtokoKaibutsu Ohjo, Monster PrincessHalo Anime, Halo AnimationNyarko-san: Another Crawling Chaos, Haiyoru! Nyaruko-sanGatchaman Crowds 2nd Season: Episode 0, Gatchaman Crowds Second Season: Episode 0, Gatchaman Crowds Insight: #0 InboundGANTZFe-Renzai: Kamisama no Nichijou, Shenme Gui, 神么鬼, 非人哉Dr. Slump 2, Doctor Slumpダンスインザヴァンパイアバンドコンクリート・レボルティオ～超人幻想～THE LAST SONGチェインクロニクル〜ヘクセイタスの閃（ひかり）〜 第２章Bleach: Jump Festa 2005アミテージ・ザ・サード원더풀 데이즈Toraburu, Love TroubleTight Rope, Tightrope蒼穹のファフナーDead Aggressor EXODUSZombie-Loan OVA勇者指令ダグオンYuuna of Yuragi ManorWitchcraft WorksWatashi ga Motenai no wa Dou Kangaete mo Omaera ga Warui!, It\\'s Not My Fault That I\\'m Not Popular!, WataMoteUzaki-chan Wants to Play!TERRA FORMARS [テラフォーマーズ]Musashi the Great, Grander MusashiStrike the Blood Third神墓The Two Sides of Voice Actor RadioProject Arms 2, ARMS2陰陽師茄子 アンダルシアの夏名探偵コナン 特別編 「謹賀新年 毛利小五郎」Mashin Eiyuden Wataru 2, Rainbow Fantasia 2, Keith Courage 2The Richest Man In Gameキラキラハッピー★ひらけ! ここたまI\\'d like to Borrow a Girlfriend, Kanokari仮面のメイドガイJewelpet Twinkle: A Rainbow of Smiles Doki Doki!, Jewelpet Twinkle Special, Jewelpet Tinkle SpecialInazuma Eleven: Reloaded - Reformation of Soccerイナズマイレブン GoHitsugi no Chaika OVAH2O ~FOOTPRINTS IN THE SAND~Academy Battle City AsteriskGakkou no Kaidan Special, Gakkou no Kaidan Ep 20, Ghost Stories Special, Ghost Stories Ep 20, Gakkou no Kaidan: Kubi Nashi Rider!! Shi no NoroiDog Days 2Croquette!, Corokke!チェインクロニクル〜ヘクセイタスの閃（ひかり）〜 第３章チェインクロニクル〜ヘクセイタスの閃（ひかり）〜 第１章Brave Witches Episode 13AshuraAru Nihon no Egaki ShounenThe Heroic Legend of Arslan,Arslan Senki (TV) OVAArea 88 (2004)ヒーリングっど♥プリキュアWorking ManHaruToki, Haruka 8, Haruka naru Toki no Naka de TV, Harukanaru Toki no Nakade - Hachiyosho -, In a Distant TimeG-Reco Movie 3, Gekijouban Gundam G no Reconguista 3Girls und Panzer: Akiyama Yukari\\'s Tank Course, Girls und Panzer: Akiyama Yukari\\'s Tank Corner激闘! クラッシュギアTURBOGekijouban Pocket Monsters Advanced Generation: The Visitor of the Space Fissure! Deoxys, Pokemon Movie 7My Little Sister Can\\'t Be This CuteムカムカパラダイスMonMusuMaria+Holic 2, Maria Holic 2, MariaHolic 2Maison Ikkoku: Four Seasons Through the Passing Seasons, Maison Ikkoku: Through the Passing of the SeasonsLove Live!: Kokuritsu Otonokizaka Gakuin AnnaiWorld of LeadaleAirborne Dragons駒田蒸留所へようこそKinnikuman Nisei: Ultimate Muscle金田一少年の事件簿 殺戮のディープブルーKidou Senshi Z Gundam Ⅱ: KoibitotachiCleanliness Boy! Aoyama-kunEnstarsEpic of Divinity LightDigimon Tamers: The Adventurers\\' BattleBattle Spirits Season 2青いブリンクUnhappy Go Lucky!AirmasterSekai Meisaku Gekijou, Story of Pollyanna, Girl of Love, Ai Shoujo Pollyanna Monogatari.hack//SIGNThe Gargoyle of the Yoshinagas私がモテてどうすんだUMISEASpace Battleship Yamato: Rebirth Chapter, Space Battleship Yamato Resurrection, Space Battleship Yamato: RevivalOsamu Tezuka\\'s Buddha Movie 1: The Red Desert! It\\'s BeautifulストライクウィッチーズKoukou Hoshi Kageki 3rd Season, High School Star Musical 3rd Season, StarmuSKET Dance: Demystifying SpecialWatashi ga Motenai no wa Dou Kangaetemo Omaera ga Warui! Episode 13, Watamote OVA, Watamote Episode 13The Case Study of Vanitas Recap, Vanitas no Karte Special Tokuban, Vanitas no Karte Recap, Vanitas no Carte RecapトライブクルクルToriko: Jump Festa 2009 SpecialTu Bian Ying Xiong Baba, 凸变英雄 BABATHE iDOLM@STER MILLION LIVE!You\\'re Under Arrest Full Throttle Episode 0スーパーナチュラル・ザ・アニメーションTenrouShin Koihime Musou 2nd SeasonNana 7 of 7, Nana Seven of SevenSymphogear AXZ SpecialsAngel of Massacre, Angel of SlaughterOverlord Specialsお酒は夫婦になってからI am TsushimaGekijouban Naruto Soyokazeden: Naruto to Mashin to Mitsu no Onegai Dattebayo!!, Naruto: Gentle Breeze Chronicles the Film: Naruto, the Genie, and the Three Wishes Dattebayo!!七つの大罪 聖戦の予兆Mirai Shounen Conan (1979), The Boy in Future (1979)Gyagu Manga Biyori +MahouIkuマクロス7アンコールKyuuketsu Hime Miyu, Kyuuketsuki MiyuクドわふたーMysterious JokerLittle Monster, Little KaibutsuChie the BratHappinessCharge Precure!Gunslinger Girl OVA, Gunslinger Girl: Il Teatrino Episodes 14 and 15, Phantasma, Light of Venice, Darkness of the Heart, Venezia no Hikari, Kokoro no YamiGo! SaitamaThat Summer覆面系ノイズPrisma Illya 2wei! OVA, Fate/kaleid liner Prisma☆Illya 2wei! OVADoraemon: Nobita and the Dragon Riderデジモンセイバーズクラスルーム☆クライシスBlack Jack: Lost EpisodesBinchotan別冊オリンピア・キュクロスBeyblade Revolution, Beyblade GRevolutionBakuso Kyodai Let\\'s & Go, The Racing Brothersバクマン。Back Street Girls: Washira Idol Hajimemashita., GokudolsKikaider, Artificial Humanoid Kikaider, Jinzo Ningen Kikaider, Android Kikaider, Humanoid Kikaiderイナズマイレブン 超次元ドリームマッチThe Day I Cropped a Star, The Day I Harvested a Star, The Day I Harvested a PlanetGokujo Seitokaiグレイプニルfriends -フレンズ- もののけ島のナキCyborg 009 (1968)Chobits Special, Chobits: Chibits - Sumomo & Kotoko Todokeru【ブルアカ】「beautiful day dreamer」バイオハザード ヴェンデッタBaja\\'s StudioBlue Meteor SPT Layzner, Layzner, SPT Layzner, Aoki Ryusei SPT Layzner, Layzner Super Powered TracerAce o Nerae: Theatrical Version, Aim for the Ace! Movie, Aim for the Best!, Jump High Hiromi!Yuki no Jo-OhWord of HonorSlime 300The Beast Tamer Who Got Kicked Out From His Party Meets a Cat Girl From the Superior RaceYu-Gi-Oh! 5D\\'s: Evolving Duel! Stardust vs. Red Daemon\\'sワールド・デストラクション ～世界撲滅の六人～うる星やつら リメンバー・マイ・ラヴアンダーニンジャ月詠 −MOON PHASE−Thermæ Romæ探偵オペラ ミルキィホームズ サマー・スペシャル探偵オペラ ミルキィホームズ少女☆歌劇 レヴュー・スタァライト未放送エピソードShinpi no Sekai El-Hazard, El-Hazard: The Magnificent World (TV)新・北斗の拳Shikabane Hime: Kuro SpecialRyusei no Rockman Tribe, Shooting Star Rockman Tribe, Mega Man Shooting Star TribeRou-Kyuu-Bu! OVA, Rou-Kyu-Bu! OVA, Ro-Kyu-Bu ~ Fast Break! OVALedeu Syujeu, LedeusyujeuPocket Monsters: Diamond & Pearl Tokubetsu-hen, Pocket Monsters: Diamond & Pearl Specials, Pokemon: Battle Dimension, Pokémon Diamond & Pearl: Battle Dimension, Pokémon Diamond, Pearl & Platinum, Pokémon: Diamond and Pearl PlatinumPIKMIN Short Movies (ピクミン\\u3000ショートムービー)Petit Seca, Puchi Seka, Project Sekai Mini Anime, Petit SekaiピーチガールOverlord OVANeko Para OVAマシュランボーCome Together! to the Seton Academyモノクローム･ファクターMagister Negi MagiEncore Animation 0209Ver.Kinnikuman Nisei, Kinnikuman Second Generations, Ultimate Muscle: The Kinnikuman LegacyKimi-kiss pure rouge, KimiKiss Pure Rouge SpecialShikimori\\'s Not Just a Cutie, Miss Shikimori is not just cute, That Girl Is Not Just CuteHoshi no Kirby, Kirby of the StarsGatekeepersあんさんぶるスターズ！！追憶セレクション「クロスロード」Devils Line OVAEiga Crayon Shin-chan: Arashi wo Yobu Ougon no Spy Daisakusenバディ・コンプレックス 特別編集版「―誰も知らない明日へ―」Adventure King BeetBomberman JetterzBatman Animeアルプスの少女ハイジ (1979)Ace O Nerae! OVA 2, Aim for the Ace: Final StageGekijouban Inazuma Eleven Go vs Danball Senki WAscendance of a Bookworm Recap, Ascendance of a Bookworm Episode 26.5Hi! I\\'m Akko, Hi, This Is AkkoDoraemon: Nobita\\'s Space StoryDevil May Cry: The Animated Series, DmCWebdiverD.C.S.G., Da Capo 2nd Season, Da Capo Second Graduation, Da Capo Second Story, dc2Resident Evil: Degenerationバカとテストと召喚獣 ～祭～ 選択肢以降のみArifureta Shokugyou de Sekai Saikyou 2nd Season SpecialProject Alpha, Appleseed αWakate Animator Ikusei Project, 2015 Young Animator Training Project, Anime Mirai 2015A-Channel: The AnimationUchuu no Kishi Tekkaman Blade - S1 Twin BloodSpace Pirate Captain Harlock: The Mystery of Arcadia, Harlock Movie 1うちタマ?!~うちのタマ知りませんか?~スーキャットKoukou Hoshi Kageki, High School Star Musical, Starmu, Starmyu OVA (2018)Banished from the Hero\\'s Party, I Decided to Live a Quiet Life in the Countryside, I Was Kicked out of the Hero\\'s Party Because I Wasn\\'t a True Companion so I Decided to Have a Slow Life at the Frontier新みなしごハッチ瀬戸の花嫁センチメンタルジャーニーRoukinRELEASE THE SPYCEPitatenOrefuroNegima RemakeNana the Super GirlPuss-in-Boots, Puss in the Boots, The Wonderful World of Puss \\'n BootsMUNTO 時の壁を越えて逃亡者・毛利小五郎Mahou Shoujo Pretty Sammy (TV), Tenchi Muyo: Magical Project Pretty SammyRupan Sansei: Rupan Ansatsu Shirei, Lupin III: Orders To Assassinate Lupinこの男子、魔法がお仕事です。Kasumin 1st SeriesG-Force, Scientific Ninja Team Gatchaman, Kagaku Ninjatai Gatchaman, Battle of the PlanetsBou Bou, The New Adventures of Kimba the White Lion, Jungle Emperor (1989)Symphogear GX Specials桜Trick流星機ガクセイバーPorufi no Nagai Tabi, The Long Journey of Porfyi, Porfy\\'s Long Journeyおれは鉄兵マスク男子は恋したくないのにDanMachi III OVACome Home Doraemon映画 ドキドキ! プリキュア マナ結婚!!? 未来につなぐ希望のドレス大空魔竜ガイキングBROTHERHOOD FINAL FANTASY XVBeauty and the Beast, La Belle et la BêteBPSアニメーション制作進行くろみちゃん藍より青し～縁～ Miyuki91 Days Episode 13, 91 Days SpecialEighty Six Special Edition, Coquelicots Blooming Across the Battlefieldイリヤの空、UFOの夏Mister Ikkyu, The Cunning MonkHellsing DVD Special, Hellsing Teaser, Hellsing Episode 00Run Melos! (1992)グラビテーションGalaxy Angel Z: Kasure of Gunpowder & Tobacco Smoke, Galaxy Angel 2 Special, Galaxy Angel Z: Shouen to Shien no Kasure特別版 Free!-Take Your Marks- キャラクター舞台挨拶Fantastic Children Extended Ending, Fantastic Children Alternate Ending「映画 中二病でも恋がしたい！ -Take On Me-」ミニドラマ『公開直前の・・・回顧劇場』Kami Jigen Game Neptune V, Hyperdimension Neptunia VictorySuper Inventor KanipanちみもBLADE RUNNER BLACK OUT 2022Aldnoah.Zero 2nd SeasonShin 3x3 Eyes, Sazan Eyes: Seima DensetsuZOE: Dolores, I, Z.O.E Dolores, IZero no Tsukaima: Princesses no Rondo DVD Specials, Trysting Theater of Love, Trysting Ai no GekijouSaiyuukiMy Company\\'s Small Senpai, Story of a Small Senior in My CompanyOsamu Tezuka\\'s Buddha Movie 2: Endless Trip她不当女主很多年Sola OVAShinmai Maou no Testament OVA, The Testament of Sister New Devil OVASERVAMP-サーヴァンプ- オリジナルビデオアニメーション「Sleepy Life of SERVAMP」世界名作童話 白鳥の湖Rockman EXE, MegaMan: NT WarriorPocket Monsters Sun & Moon, Pokémon Sun & MoonDam Keeper no Nakama-tachiお伽草子Ore no Kanojo to Osananajimi ga Shuraba SugiruMy Little Sister Can\\'t Be This Cute 2, Ore no Imouto ga Konna ni Kawaii Wake ga Nai 2Ojamajo Doremi: VHS Exclusive, Ojamajo Doremi Traffic Safety, Ojamajo Doremi Bicycle Sagety Classroom, Ojamajo Doremi Let\\'s!! Cooking, Ojamajo Doremi no Koutsuu Anzen, Ojamajo Doremi no Jidensha Anzen Kyoushitsu波打際のむろみさんMacross 7: The MovieThe Magician\\'s Academy, MA Project我才不是恶毒女配Lupin III: The Secret of Twilight Gemini, Rupan Sansei: Twilight Gemini no Himitsu, Lupin III Special Part 8, Lupin III: The Legend of Twilight GeminiRupan Sansei - The Last JobLupin III: The Pursuit of Harimao\\'s Treasure, Rupan Sansei: Harimao no Zaiho wo oe!!, Lupin III Special Part 7LOST SONGSpirit Sword Sovereign 2nd SeasonKyousougiga, Kyousogiga殺し愛ARMSプリキュアオールスターズDX the DANCE LIVE♥ ～ミラクルダンスステージへようこそ～Persona 5 the Animation: Proof of Justice, Persona 5 the Animation: A Magical Valentine\\'s DayOne Piece 3D: Strawhat Chase, One Piece Movie 11NightWalker: Eternal DarknessNaruto Movie Volume 3, Naruto: Gekijouban Naruto: Dai Koufun! Mikazuki-jima no Animal Panic Datte ba yo!Nanbaka SpecialDetective Conan: Zero no Tea Time, Meitantei Conan: Zero no Nichijou, Zero\\'s Daily LifeMaou Gakuin no Futekigousha: Shijou Saikyou no Maou no Shiso, Tensei shite Shison-tachi no Gakkou e Kayou 2nd Season, The Misfit of Demon King Academy 2nd SeasonLupin Sansei: Prison of the Past虚構推理競女!!!!!!!!Floral Magician Mary Bell, Hana no Mahou Tsukai Maribell, Floral Elf Mary Bell, Flower Witch MarybellGuil Cro 4-koma Gekijou, Guilty Crown 4-koma Gekijou: Girutei Kura-un, Guilty Crown SpecialsGudaguda Fairies 2, Rambling Fairies 2Hometown Rebuilding: Folktales from JapanフラクタルEndoro~!Deadman Wonderland OVADaimahou Touge映画クレヨンしんちゃん\\u3000襲来!! 宇宙人シリリCode Geass: Hangyaku no Lelouch SpecialsCampione!: Matsurowanu Kamigami to Kamigoroshi no Maouバトルアスリーテス大運動会アニメーション制作進行くろみちゃん 216bitセンセーション ANOTHER LAYER左手上篮The era of the world正经少主的幸福生活Super Radical Gag FamilyタイガーマスクWSumeba Miyako no Cosmos-sou Suttoko Taisen Dokkoida, Sumeba Miyako no Cosmos-sou Suttoko Taisen DokkoiderStrike the Blood Special OVAGekijouban Haikara-san ga Tooru Kouhen, Smart-san, Mademoiselle Anne, There Goes the Modern Girl, Here Comes Miss Modern, Here Comes a DandyPretty Cure All Stars GoGo Dream Live!Pokemon Housoukyoku, Shuukan Pokemon Housoukyoku, Pokemon Hoso, Pocket Monsters HousoukyokuMr. OsomatsuNieA_7Naruto THE Movie vol.2, Naruto Movie 2, Gekijouban Narutoミヨリの森The Traveller of Many Dreams, Mimu, Miimu Iro Iro Yume no Tabi, Discoveries UnlimitedMy-HiME, My PrincessSpirit Sword SovereignLi Lin Ke De Xiao Guan ErKotetsu Shin Jeeg, Steel Jeeg (2007), Kotetsushin JeegHigh School Exciting Story: ToughKoisuru ShouwakuseiWorking with Voice!Eiga Kirakira Precure A La Mode: Paris to! Omoide no Mille-Feuille!Keroro Gunsou TV 2, Keroro Gunsou (2014)Light of the River, River\\'s Light十兵衛ちゃん2 ～シベリア柳生の逆襲～鹿の王 ユナと約束の旅Shao Nian Ge Xing少年白马醉春风SHAMAN KINGSAMURAI DEEPER KYORosario + Vampire Season 2, Rosario and Vampire Capu2Flower declaration of your heart, Lag-RinGekijouban Pocket Monsters Diamond and Pearl: Giratina and the Sky\\'s Bouquet: Shaymin, Pokemon Diamond & Pearl: Giratina to Sora no Hanataba SheimiThe Foolish Angel Dances with Demons, KanatenOccultic9, Occultic Nine노블레스2x2=Shinobuden, 2x2 Shinobuden, 2 X 2 = The Legend of Shinobu, Ninin ga Shinobuden: The Nonsense Kunoichi Fiction, Nin x Nin = ShinobudenTokusou Sensha-tai Dominion, Tokusou Senshatai Dominionねらわれた学園Mudadumo Naki Kaikaku, Mudatsumo, Reform without Wasted Drawsメタルファイト ベイブレードGekijouban Mazinger Z: InfinityLupin III: The Hemingway Paper Mystery, Rupan Sansei: Hemmingway Paper no Nazo, Lupin III: Mystery of the Hemingway PapersLove Live! Sunshine!! TV Anime 2 Ki Housou Chokuzen Tokuban: Watashitachi, Kagayakitai!!, Love Live! Sunshine!! Pre-Season 2 Special: We Want to Shine!!Kimi ga Nozomu Eien OVA, Kimi ga Nozomu Eien: Haruka Route, The Eternity You Wish For OVAClockwork Fighters: Hiwou\\'s Wari, Hiwou\\'s Windup Dolls Military CommentariesKaminomi: Flag 0Sherlock of Kabukicho, Kabukicho Sherlockジュエルペットきら☆デコッ!邪神ちゃんドロップキック【世紀末編】Rumic World, Sunday CM Theater, Shonen Sunday Special Opening, It\\'s a Rumic World: 50th Anniversary Weekly★Shounen Sundayイナズマイレブン オリオンの刻印Chibi☆Devil! Chibi Devi!Cat Shit One: The Animated Series, Apocalypse MeowCardfight!! Vanguard: overDress Season 3, Cardfight!! Vanguard: Over DressShort PeaceAsura KurainArite Hime, The Adventure of Princess Arete, Arete-himeYu-Gi-Oh! The Movie, YuGiOh, Yuu Gi Ou, Yuugiou, Yu-Gi-Oh! (1999)Gekijouban Youjo Senki Manner Eizouわかば＊ガールNew Tetsujin 28-go, Tetsujin 28-go (1980), Tetsujin 28-go TV 2, New Gigantor, New Iron Man No.28, Tetsujin 28: Follower of the SunSonic OVAShinigami no Ballad.: Momo the Girl God of Death, Shinigami\\'s BalladYumekui MerryYugioh, Yu-Gi-Oh! Zexal 2nd, Yuu Gi Ou! Zexal Second, Yuu Gi Ou! Zexal II, Yu-Gi-Oh! Zexal SecondThe Hero\\'s Return, Yingxiong? Wo Zao Jiu Bu Dang Le, 英雄？我早就不当了Wakaba*Girl Special, Wakaba*Girl Episode 14Vexille: 2077 Nippon Sakoku, Vexille: 2077 Japan National IsolationVanitas no Karte Episode 12.5, Vanitas no Karte Recap, Memoir of Vanitas Recap, Vanitas no Shuki RecapTsukiani.神魂合体ゴーダンナー!! SECOND SEASONSymphogear XV SpecialsFuture Hero Next Generation Outlaw Star PilotShagaihi ReLIFE Kenkyuusho Support-ka, ReLIFE Kanketsu-hen Special Smartphone Anime, Confidential Relife Institute Support DepartmentPunchlinePuriSutoGekijouban Pocket Monsters: Serebii Toki wo Koeta Deai, Celebi: A Timeless Encounter, Pokémon Movie 4, Celebi: Voice of the ForestPersona 5 the Animation (2018), Persona 5 the Animation: Stars and Ours, Persona 5 the Animation: Dark Sun...Witch Girl Meg, Witch Girl Megu, Majokko Meg-chan, Little Meg the Witch Girlマジック・ツリーハウス鉄のラインバレルKoi Suru Tenshi Angelique, Angelique (2007), Beloved Angel Angelique: Radiant Tomorrow, Koi Suru Tenshi Angelique: Kagayaki no Asuキテレツ大百科KEY THE METAL IDOLCuckoo\\'s FianceeJintian Wo Kaishi Zuo Mingxing, Start to be a star today, Super StarHeatGuy J: Captive - Angel, Habitat Ground Jewdo Special, Heat Guy Jay Special, HeatGuy-J SpecialLord of Lords Adeu\\'s Legend OVA, Haou Daikei Ryuu Knight: Adeu Legend墓場鬼太郎Folktales, Fairy Talesグリザイア：ファントムトリガー THE ANIMATION スターゲイザーグリザイア：ファントムトリガー THE ANIMATION幻日のヨハネ -SUNSHINE in the MIRROR-Ibara no OhDoraemon: Nobita no Nejimaki Toshi Boukenki, Doraemon: Nobita\\'s Adventure in Clockwork CityDominion Tank PoliceDog Days 3He Is an Ultimate TeacherD.C.II ～ダ・カーポII～クラッシャージョウCrayon Shin-chan: Burst Serving! Kung Fu Boys - Ramen RebellionEiga Crayon Shin-chan: Chou Arashi wo Yobu Kinpoko no Yuusha, Crayon Shin-chan: The Storm Called: The Hero of KinpokoCho Denji Robo Combattler V, Choudenji Robo Combattler V, Chou Denji Robo Com Battler V, Super Electromagnetic Robo Combattler V, Ultra Electromagnetic Robot Combattler VPoor Sisters StoryA Channel +Smile Extra OVA, Alexandrite In The Pot.hack//Roots真武巅峰Absolute Boy, Zettai ShonenYomigaeru Sora: Rescue Wings Special, Yomigaeru Sora: Rescue Wings OVA, Yomigaeru Sora: Rescue Wings Episode 13 - A Last JobYama no Susume 2nd Season Episode 6.5 and Episode 25, Encouragement of Climb 2nd Season, Yama no Susume 2nd Season SpecialsVinland Saga Season 2 Episode 18.5Vampire KishiI Was Reincarnated as the 7th Prince, so I Will Perfect My Magic as I PleaseスイッチスプリガンソウルイーターレイトショーイエスタデイをうたってウサビッチFinal Yamato, Uchu Senkan Yamato Kanketsu HenUchi no Maid ga Uzasugiru! OVAうちのメイドがウザすぎる！Heaven and Earth, Tenjo TengeKoukou Hoshi Kageki, High School Star Musical, StarmuOld-Lady Spoon, Spoon Oba-sanSoko Kihei Votoms: Koei FutatabiCelestial Method: A Girl\\'s Day OffSmile Pretty Cure!New Tenchi MuyoSenhime Zesshou Symphogear Gs-CRY-ed Alteration I: Tao, Scryed Alteration I: TaoPopolocrois Monogatari - Hajimari no BoukenNaka no Hito Genome [Jikkyouchuu]Princess of the BibliophileMoshi Koukou Yakyuu no Joshi Manager ga Drucker no Management wo Yondara, What If a Female Manager of a High School Baseball Team Read Drucker\\'s, Drucker in the Dug-OutまっさらGhost in the Shell: Stand Alone Complex - Solid State Society - Uchikoma na Hibi, Koukaku Kidoutai Stand Alone Complex: Solid State Society - Uchikoma na Hibi, GitS SAC SSS - Uchikoma na Hibi, GitS: SAC 3 - Uchikoma na Hibiコミックスカバー裏コメントThe Peerless Proud Twins, Twin Heroes, Handsome Siblingsジュエルペット サンシャインIWGPIblard TimeInventor Boy Kanipan, Gadget Boy KanipanGREAT PRETENDER razbliutoジェネレイターガウルTimeless Medley - Kizuna: Photo Session独步万古Serohiki no Goshu, Gorsch the CellistBomberman Bedaman Bakugaiden, Bomberman Bidaman Bakugaiden, Bomber Man & Marbleman\\'s Explosive Side StoryBLOOD THE LAST VAMPIRE (ブラッド ザ ラスト ヴァンパイア)The Little Mermaidあまつきアガサ・クリスティーの名探偵ポワロとマープルItsuka Tenma no Kuro Usagi OVA, Itsuka Tenma no Kuro Usagi Episode 13, Itsuka Tenma no Kuro-Usagi OVA, A Dark Rabbit has Seven Lives OVA, Itsuten, Itsu-tenRain in the SunshineAkko\\'s Secret, The Magic MirrorHigh School Mystery: School of Seven Mysteries, High School Mystery: School of Seven Wondersギルティクラウン ロストクリスマス an episode of port townGlass no Kamen OVAGensou Maden Saiyuuki: Kibou no Zaika, Gensoumaden Saiyuuki OVALocodol Special, Futsuu no Joshikousei ga [Locodol] Yattemita. Special, Futsuu no Joshikousei ga [Locodol] Yattemita. Episode 13Futsuu no Joshikousei ga [Local Idol] Yattemita., Futsuu no Joshikousei ga [Rokodoru] Yattemita.Fate/kaleid liner プリズマ☆イリヤ ツヴァイ ヘルツ！ショートアニメ劇場版Fate/Grand Order -神聖円卓領域キャメロット- Wandering; AgateramChuubyou Gekihatsu Boy Episode 12, Outburst Dreamer Boys Episode 12, Chuubyou Gekihatsu Boy Special武装少女マキャヴェリズムBLASSREITER -genetic-アズールレーン Queen\\'s Ordersアニマエール！Oh! My Goddess: Being Small is Convenient, Ah! My Goddess!: Chichaitte Koto wa Benri da ne夢が覚めるまでXi Xing Ji 2nd Season, Journey to the West, Westbound, Westbound DisciplineWo Shi Jiang Xiaobai: Shijie Shang de Ling Yige WoCharlotte of the Young Grass, Charlotte the Young ShootVandread Intense Fighting Volume, Vandread TurbulenceUta Kata Special OVA, Uta∽Kata, Shotou no Futanatsu, Twin Summers of the First Winterすもももももも ～地上最強のヨメ～Armored Trooper Votoms: The Defrost, Armored Trooper Votoms: The Heretic Saint, The Brilliant Heretic, Armored Trooper Votoms: Shining Heresy, Armored Trooper Votoms - Kakueki taru ItanSERVAMP（サーヴァンプ）SamumencoセイントオクトーバーラディアンQín Shí Míng Yuè 3, The Legend of Swordsman 3, Qin\\'s Moon 3, Qin Shi Ming Yue 3: Hundred Schools of ThoughtMusaigen no Phantom World画江湖之风语咒, Hua Jianghu Zhi Feng Yu Zhou, A Portrait of Jianghu: The Wind GuardiansDual! Parallel Trouble Adventures Special, Dual Parallel! Trouble Adventures - Final Frontier, Dual! Parallel Lunlun Monogatari SpecialEiga Crayon Shin-chan: Otakebe! Kasukabe Yasei Oukoku, Crayon Shin-chan: Roar! Kasukabe Animal KingdomCLAMP学園探偵団Ponoc Tanpen Gekijou, Ponoc Short Films TheatreB型H系Anime Hachijuunichikan Sekai Isshuu, Around the World in Eighty DaysIS〈インフィニット・ストラトス〉2\\u3000ワールド・パージ編Hyakujuu Ou Golion, Hundred-Beast King Go Lion, Lion Force Voltron, Voltran, Voltron (U.S.)秘密のはなの庭ヘタリア World★StarsGokukoku no BrynhildrBryger, J9, Cosmo Runner, Galaxy Whirlwind BraigerGenji Monogatari Sennenki Genji, The Tale of GenjiFutakoi 2ドラゴンハーフDog Days大図書館の羊飼いちいかわ残次品·放逐星空Anhe Zhuan, Legend Of Assassin, Tales of The Killers Organization Called Dark River, Shao Nian Ge Xing Wai Chuan: An He Chuan, Shaonian Gexing Wai Chuan: Anhe Chuan, An He Chuan, 少年歌行外传, 暗河传3D GirlfriendBungaku Shoujo OVA, Book Girl OVA, Literature Girl OVAZOE: IdoloEiga Youkai Watch: Shadow Side - Oni Ou no FukkatsuThe Star of CottonlandSmiling SalesmanUFO Princess Walküre 4, UFO Princess Walküre: Toki to Yume to Ginga no Utage, UFO Princess Warukyure: Toki to Yume to Ginga no UtageToaru Kagaku no Railgun MMR, Motto Marutto Railgun Specials, A Certain Scientific Railgun SpecialsToHeart2 OVATenpouibun Ayakashiayashi, Strange Story of Tempou Era: Ayakashiayashiテニスの王子様ステラのまほうそれいけ!アンパンマン 夢猫の国のニャニイShowa Monogatari TV, TV Manga Shouwa MonogatariShi Yi Chang An: Ming Yue Ji Shi YouYang Yao The Spirit Catcher戦国BASARA Judge EndSasaki to P-chanGekijouban Soushuuhen Overlord Manner Movie, Overlord Theater MannersOne Piece: Chinjou Shima no Chopper OukokuMitchiriNeko, Micchiri NekoDetective Conan: Hannin no Hanzawa-san, Detective Conan: Hanzawa the CriminalGhost in the Shell: Stand Alone Complex 2045 2nd Season, Koukaku Kidoutai: SAC_2045 2nd SeasonKodomo no Jikan: Rin\\'s Classroom Diary (Special Compilation), Kodomo no Jikan: Rin no Gakkyuu Nisshi (Tokubetsu-hen), OVA 2キミとボクThe Song of the Wind and the Trees, Kaze To Ki No Uta: Sei Ni Naru Ka Na, KazeKi重戦機エルガイムShakugan no Shana-tan G, Shakugan no Shana-tan Dos, Shakugan no Shana-tan Tri, Shakugan no Shana-tan FrontierSakura Taisen TVSaint Seiya: Movie 2Paladin of the End, Ultimate PaladinReikenzan: Hoshikuzu-tachi no Utage 2nd SeasonRayearth OVA, Magic Knight Rayearth OVARanma 1/2: Tendou-ke no Oyobidenai Yatsura!, Ranma 1/2 Nabiki Special怎么办! 我穿越成了最弱小野怪, Zenmeban! Wo Chuanyue Cheng Le Zui Ruoxiao Ye Guai, What Do I Do?! I Have Transmigrated Into the Weakest Little MonsterプロジェクトＡ子Gekijouban Pocket Monsters Diamond and Pearl: Phantom Ruler Zoroark, Pokemon Diamond & Pearl: Genei no Hasha ZoroarkParadox Live THE ANIMATIONパン種とタマゴ姫Hamefura OVA, I Reincarnated into an Otome Game as a Villainess With Only Destruction Flags…, Destruction Flag OtomeGekijouban Naruto: Dai Katsugeki! Yuki Hime Ninpouchou Datte ba yo! - S1 Konoha Annual Sports Festival, Konoha no Sato no Daiun DoukaiChoujikuu Yousai Macross - Flash Back 2012, Super Dimensional Fortress Macross Flash Back 2012ラブライブ! School idol project OVAKyou no Go no Ni Special, Kyou no Go no Ni Tokuten, Kyou no Go no Ni Special Class: Water Splash, Kyou no Go no Ni Extra lesson: Water Splash, Today in Class 5-2 SpecialBlack TombKowarekake no Orgol Extra, Half-Broken Music Box Extra episodeBaby, Please Kill Me.Katteni KaizouKami-sama no Inai Nichiyoubi Special, Kamisama no Inai Nichiyoubi Special, The Sunday Without God Episode 13, Kami-Nai Episode 13IS: Infinite Stratos 2 Long Vacation Edition - The Memories of One Summer아이언 키드Inari, Konkon, Koi Iroha. Episode 11Prince of After School, Prince of Afterschool, The Prince of Tennis Tribute, Houkago no Ouji-samaほとり～たださいわいを希うHells Angels, Hell\\'s AngelsGiri-giri Warukunai WatameDie KickersFortune Arterial: Akai Yakusoku OVATasuke, the Samurai Cop, Edokko Boi Gatten Tasuke, Edokko Boy: Gatten TaroBoku no Hero Academia HLA, Heroes League Baseball, Boku no Hero Academia: Warae! Jigoku no You ni美男高校地球防衛部LOVE!Akkun and His GirlfriendZOMBIE-LOAN ゾンビローン一人之下 THE OUTCASTWeiss Kreuz OVA, Weiss Kreuz: Verbrechen und Strafe, White Cross언빌리버블 스페이스 러브刀剣乱舞-花丸-Touch: Crossroad - Kaze no YukueToaru Majutsu no Index 3, Toaru Majutsu no Kinsho Mokuroku 3Soreike! Anpanman, Go! Anpanman, Anpanman TVリラックマと遊園地Pretty Rhythm: Aurora Dream SpecialsMighty Cat Masked Niyanderにじよんあにめーしょん無限の住人マスターモスキートン\\'99Lalabel the Magic Girl, LalabelleKurokami Special, Kurokami OVAKoi Suru Tenshi Angelique, Angelique: When the Heart Awakens, Angelique (2006)こばと。 はじめてのこばと。Kimi no Iru MachiKeroro Gunso Episode 0カワイスギクライシスKankoreJyuushin Enbu, Jushin EnbuShin Angyou Onshi, Shin Amen Osa, Shin Angyou Onsi, Phantom Master: Dark Hero from the Ruined Empire閃光のナイトレイドりゅうおうのおしごと！クィーン・エメラルダスPocket Monsters Crystal: Raikou - Legend of Thunderオーバーロード\\u3000ぷれぷれぷれあです2Protective Charm Himari, OmaHimaNaka no Hito Genome [Jikkyouchuu] OVA, The Ones Within OVAMokke - ToorikazeSlave of the Magic Capital\\'s Elite Troops, MabotaiまじもじるるもMaison Ikkoku: Deserted Island, Maison Ikkoku Bangai-hen: Ikkokujima Nanpa Shimatsu Ki, Maison Ikkoku: Ikkoku-tou Nanpa Shimatsu kiMacross 7 DynamiteKiddy Grade 2Kekkai Sensen 10.5Jitsuwata, The Truth Is I Am..., I am...Napping Princess: The Story of the Unknown Me, Ancien and the Magic Tablet破壊魔定光Ginga Tansa Nisenhyakunen: Border Planet, 24 Hour TV SpecialsDRAGONBALL オッス!帰ってきた孫悟空と仲間たち!ドラゴンボールZ 極限バトル!!三大超サイヤ人Digimon Frontier: Kodai Digimon Fukkatsu!!, Digimon Frontier: Revival of the Ancient DigimonデビルズラインDS2A, Shin Megami Tensei: Devil Survivor 2Dalisi Rizhi, The Journal of Dali TempleCOBRA THE ANIMATION タイム・ドライブCobra the Space Pirate, Space Adventure Cobra OVA, Cobra The Animation: The PsychogunExtraterrestrial Boys and GirlsCaptain Tsubasa MOVIE (1986 Summer), Captain Tsubasa Movie 4, Captain Tsubasa Movie 03: The great world competition! The Junior World CupCaptain Tsubasa: Europa Daikessen, Captain Tsubasa: Soccer Boys Europe Finals, Captain Tsubasa: Europe Dai Kessen, Captain Tsubasa Movie (1985 Summer), Captain Tsubasa Movie 1ベイブレードエックスAzur Lane: Bisoku Zenshin Special, Azur Lane: Bisoku Zenshin Episode 13, Azur Lane: Bisoku Zenshin Supplementary EpisodeKiss Me, Licia, Ai Shite Knight, Love Me Night, Love in Rock\\'n Roll, Lucile, Aishite NightZi Chuan, Zichuan幽☆遊☆白書: オープニング エンディング大百科ヤマノススメYakunara Mug Cup mo 2nd Season, Let\\'s Make a Mug Too: Second KilnToaru Kagaku no Railgun MMR V,Toaru Kagaku no Railgun MMR VI,ザ・ファブルゼットマン有兽焉Xing Wu Shen Jue, Star Martial God TechniqueThe Rose of Versailles: I\\'ll Love You As Long As I Live, Versailles no Bara: Seimei Aru Kagiri Aishite, Rose of Versailles MovieToHeart 2: Another Days, To Heart 2: Another Days, ToHeart2adSumomomo Momomo: The World\\'s Strongest Bride蒼穹のファフナー Dead Aggressor BEHIND THE LINESHIROBAKO 劇中劇アニメーションPokemon 4D: Pikachu no Kaiyou AdventureOverlord Movie Specials, Overlord: Ple Ple Pleiades Theatrical VersionMoo no Hakugeiモンタナ・ジョーンズThe Abandoned House by the CapeThe Kotobuki Squadron in the WildernessChi\\'s Sweet Home (2016)かなめも格闘美神 武龍[ウーロン] REBIRTH地獄先生ぬ～べ～\\u3000午前0時ぬ～べ～死す！！Jewel PetThe Otherworldly Demon King and the Summoner Girls\\' Slave Magicいちご１００％\\u3000オリジナルDVDアニメーションHibike! Euphonium SpecialsThe Badminton play of Ayano Hanesaki!I\\'ll Be Number 1!Kamen no Maid Guy OVAG-Reco Movie 2, Gekijouban Gundam G no Reconguista 2, Gundam: G no Reconguista Movie 2 - Bellri Advances銀魂オンシアター2D バラガキ篇Precure Movie, Eiga Futari wa Pretty Cure: Max HeartFushigi Yuugi OVA 3Fantascope Tylostomaドラゴンクエスト\\u3000ユア・ストーリーThe Family Circumstances of the Mismatched WitchesChroNoiR Episode.0Buzzer Beater (2007), Buzzer Beater Part 2第502統合戦闘航空団 ブレイブウィッチーズMe and Roboco, Roboco and I劇場版BEM 〜BECOME HUMAN〜Bakuso Kyodai Let\\'s & Go!! MAX, Bakusou Kyoudai Lets & Go Max, Bakusou Kyoudai Let\\'s & Go!! MAXアタッカーＹＯＵ！Armitage: Dual-Matrix, Amiteeji the Third Gekijouban, Armitage III: Dual MatrixCupid\\'s Chocolates, Aishen Qiaokeli JinxingshiI\\'m standing on 1,000,000 lives. Season 2Yāoguài MíngdānUFO Ultramaiden Valkyrie OVA Special: Bridal Training, UFO Princess Walkyure, UFO Princess Walküre, Bride Training Boot CampRibon Festa 2014, Ribbon Festa 2014, Tsubasa and Hotaru太陽の黙示録 A Spirit of the SunSYNDUALITY Noir新妹魔王の契約者 BURSTYu-sibu, Yusibu, YuushibuDon\\'t Play by Rules, I Determine My Own DestinyTobidasu PriPara: Minna de Mezase! Idol☆Grand Prix, Puri Para, Pri Para, PuriPara, Prism ParadiseTennis no Ouji-sama: S1, Prince of Tennis: New Year\\'s SpecialTaimadou Gakuen Sanjuugo Shiken Shoutaiストラトス・フォー アドヴァンス 完結編ストレイト・ジャケットSilent Moebius, Silent MobiusTsukihime - Lunar Legend, Lunar Legend Moon Princess, Moon Princess, True Lunar Chronicle Tsukihime, Lunar LegendsSakamoto desu ga? OVA, Haven\\'t You Heard? I\\'m Sakamoto Episode 13, Haven\\'t You Heard? I was Sakamoto, Sakamoto Desu ga? SpecialPocket Monsters: Pikachu no Natsuyasumi, Pikachu Short 1オーバーロード\\u3000ぷれぷれぷれあです3Onegai☆Twinsおジャ魔女どれみ ほのぼの劇場Nitian Xieshen, Against the Gods Dynamic Comics Season 1, 逆天邪神 动态漫画 第1季, 逆天邪神轻动画, Against the Gods Dynamic ComicLupin Sansei (2019)Rupan Sansei: Bye Bye Liberty - Kiki Ippatsu!, Lupin III: Bye Bye Liberty CrisisKissxsis金装のヴェルメイユ ～崖っぷち魔術師は最強の厄災と魔法世界を突き進む～Kingdom Hearts Unchained Key Backcover, Kingdom Hearts Unchained X BackcoverKidou Senshi Victory GundamOne Week Friends Recap, Isshuukan Friends. Recapイナズマイレブン アウターコードIchigo 100%: Jump Festa 2004 Specialいちご100%Hypmic火鳳燎原Hoshizora e Kakaru Hashi OVA, A Bridge to the Starry Skies OVAMirage of Blaze OVAヒーローマンGrappler Baki: The Ultimate Fighter, Baki the Grappler: The Ultimate FighterBangai-hen, Event Shutchou-hen, Girls und Panzer Heartful Tank Disk: Fushou Akiyama Yukari no Sensha Kouzaガーリッシュ ナンバーGudaguda Fairies, Rambling FairiesPrisma Illya 2wei!: First Bra - Illya-hen, Prisma☆Illya 2nd Season: First Bra - Illya-hen, Fate/kaleid liner Prisma☆Illya 2wei!: First Bra - Illya-henEngage KissOne Step Toward FreedomDOUBLE DECKER! ダグ＆キリルDiGi CharatKimetsu Academy: Kimetsu no Utage Special Edition, Kimetsu Gakuen Monogatari: Demon\\'s Banquet Special ArcTransformers Legend of MicronTimpuiCaptain Tsubasa - Holland Youth, Captain Tsubasa Holland youth team, Captain Tsubasa: European Challenge, Captain Tsubasa Movie 05: Saikyu no Tenki! Hollanda Youth忘却バッテリーBRS (TV)美男高校地球防衛部LOVE! LOVE! LOVE!アトム ザ・ビギニングLegend of the Angel of Love - Wedding PeachACCA: 13-Territory Inspection Dept., ACCA: 13th Territory Inspection Department, ACCA: 13th Ward Observation Department, ACCA Jusanku KansatsukaIS: Infinite Stratos Encore - Koi ni Kogareru SextetI\\'\\'s OVA, Aizu Pure, I\"s PureGedo Senki, Tales of Ged, Ged\\'s War ChroniclesGalaxy Angel: Fallen Angel Dark Space Chazuke, Galaxy Angel: Five Sukiyaki Lunch BoxesHagane no Renkinjutsushi: Milos no Seinaru Hoshi PV, FMA Movie 2 PVドラゴンボール 摩訶不思議大冒険Frog With Guts!, Dokonjo Gaeru, The Gutsy FrogEiga Crayon Shin-chan: Arashi wo Yobu Utau Ketsu dake Bakudan!, Crayon Shin-chan: The Storm Called: The Singing Buttocks Bombコードギアス 反逆のルルーシュ キセキの誕生日[バースデー]Zuo Ri Qing KongI Have Refined Qi For 3000 Years!, Lianqi Lianle 3000 Nian狂気山脈 ネイキッド・ピークWakate Animator Ikusei Project, 2014 Young Animator Training Project, Anime Mirai 2014, Kuro no Sumika: ChronusKoukou Butouden Crows 2Jigoku Sensei NubeI\\'m Doing My Best to Make Myself at Home in Another World, Mofunadeイノセント・ヴィーナスIjigen no Sekai El HazardひなこのーとゴールFH (フィールド・ハンター)Getta Robo, Space RobotAsk Dr. RinDearS: A Ball Of Gold, DearS Specialディア・ボーイズEiga Crayon Shin-chan: Densetsu wo Yobu Odore! Amigo!, Crayon Shin-chan: The Legend Called: Dance! Amigo!クレヨンしんちゃん外伝 家族連れ狼Earth Maiden Arjuna, Earth Girl ArjunaGekijouban Cardfight!! Vanguard: Neon MessiahS-Rank MusumeCat Girl Nuku Nuku, Catgirl Nuku Nuku OVA, Bannou Bunka Nekomusume, Super Cat Girl Nuku Nuku, Nuku NukuBakuretsu TenshiHoshi no Ojisama Petit Prince, The Little Prince, Le Petit Prince, The Prince of the Stars: Le Petit Prince光と水のダフネHidan no AriaFirebird 2772: Cosmos Zone of Love, Phoenix 2772, Space Firebird 2772, Phoenix 2772 - Space Firebird, Hinotori MOVIE, Hinotori 2772 Ai no Cosmo Zone, Space FirebirdGolgo 13: The ProfessionalフリージングTimeless Medley - Yakusoku: Photo SessionEto TamashiiTHE IDOLM@STER CINDERELLA GIRLS 10th Anniversary Celebration Animation ETERNITY MEMORIESEro Manga Sensei: Imouto to Akazu no Ma OVADragonaut: The Resonance OVA, Dragonaut: The Resonance SpecialドラゴンボールZ 激突!!100億パワーの戦士たちCUE!Eiga Crayon Shin-chan: Arashi wo Yobu! Ora to Uchuu no PrincessEiga Crayon Shin-chan: Bakuhatsu! Onsen Wakuwaku Daikessen, Crayon Shin-chan: Explosion! The Hot Spring\\'s Feel Good Final Battle/Kureshin Paradise! Made in SaitamaLe Portrait de Petite CossetteChisana Kyoujin Mikuroman, The Small Giant Microman, Microman MagnePowersChibichiara: Nagai Go Sekai, Chibi WorldCardfight!! Vanguard: Asia Circuit ChapterBusou Shoujo Machiavellianism Episode 13BEATLESS Final StageSousaku no, Ima!!: BajaAi to Yuki no Piggu Garu Tonde Burin, Boorin, Super Boink, Tonde Buurin - Pig Girl of Love and Courage30th GUNDAM PERFECT MISSIONNanabun no Nijyuuni, Nanabun no NijuuniYu Yu Hakusho Movie 1, Yuu Yuu Hakusho (1993), YuYu Hakusho: The Golden SealYozakura Shijuusou, Quartet of Cherry Blossoms in the NightEverlasting Immortal FirmamentUFO Princess WalkyureTitania, TaitaniaSword User Shrine Maiden, The Shrine Maiden SwordwieldersThe Doraemons: Kaitou Dorapin Nazo no Chousenjou!Tari Tari Special, Tari Tari: Being Cloudy, Shining, Singing Again Someday「ソードアート・オンライン -フルダイブ-」オープニング映像Super Robot Wars OG: Divine Wars, SRWOGSUPER LOVERS（スーパーラヴァーズ）ストラトス・フォー神曲奏界ポリフォニカShin Koihime Musou: Otome Ryouran Sangokushi Engi神武天尊Saint Seiya: The Battle with Eris, Saint Seiya: Movie 1, Saint Seiya: The Legend of the Golden ApplePupipoo!PriPara Movie: Minna Atsumare! Prism☆Tours, Puri Para, Pri Para, PuriPara, Prism Paradiseノーゲーム・ノーライフ ゼロ マナー映像ネオアンジェリーク Abyss長靴をはいた猫 80日間世界一周モンスターファームSekai Meisaku Gekijou, Famous Dog Lassie, Great Dog Lassie, Lassie Come-HomeMayonaka no Occult Koumuin OVAMacross 7 Special, Macross 7 P*L*U*SラムネLightspeed ElectroGod Albegas, Voltron II, Voltron of the Middle Universe, Light-Speed Electro-God Albegusここはグリーン・ウッドApo Mekhanes Theos Gigantic Formula, Mechanical Divine War Gigantic Formula, War Gods Battle: Gigantic Formula神様になった日The man picked up by the gods 2nd Season, Kamihiro 2nd Season, Kamitachi ni Hirowareta Otoko 2nd SeasonOsomatsu-san Movie Prologue, Osomatsu-san Movie: Zensetsu GekijouONE PIECE 3D 激走! トラップコースターNobunaga no Shinobi Episode 0無彩限のファントム・ワールド 水玉の奇跡Mirai Robo Daltanius, DaltaniousMarie to Gali, Marie and GaliPuella Magi Madoka Magica Side Story: Magia RecordMacross Delta MovieLupin III: Record of Observations of the East - Another PageKyoryu Senso Aizenborg, Dinosaur War Aizenborg, Dinosaur War Izenborg, Attack of the Super-Monsters, Dinosaur Wars EisenborgKure-nai OAD, Kurenai OVAHappy Cooking GraffitiKono Danshi, Sekka ni Nayandemasu.Kemono no Soja Erin Soushuuhen, The Beast Player Erin - CompilationKannaduki no Miko, Priestesses of the Godless Monthダーティペア\\u3000謀略の００５便すのはら荘の管理人さんTransformable Shinkansen Robot ShinkalionSeton\\'s Animal TalesGekko Kamen, Moon Mask Rider, The Man Who Loves Justice Moonlight MaskSaint Seiya: Saishuu Seisen no Senshi TachiRou-Kyuu-Bu!, Rou-Kyu-Bu!, Ro-Kyu-Bu: Fast BreakQuanzhi Fashi 2nd Season, Quan Zhi Fa Shi 2, Full-Time Magister 2Pocket Monsters XY: Sora no Hahen, Pokémon XY: Fragments of the HeavensHamefura Movie, I Reincarnated into an Otome Game as a Villainess With Only Destruction Flags…, Destruction Flag OtomeNGNL SpecialsネットゴーストPIPOPABattle at Hidden Falls. I am the Hero!, Naruto OVA 2, Naruto: Jump Festa 2004Mankatsuみつあみの神様メカウデマスターモスキートンSorcerous Stabber Orphen RevengeGekijouban Negima, Negima the MovieKami nomi zo Shiru Sekai: Kanon OVA, Magical Star Kanon 100%雲のように風のようにCrow Demon Kabuto, Raven Goblin KabutoValkyria Chronicles Specials, Senjou No Valkyria: Gallian Chronicles SpecialsSeiken Tsukai no Kinshuu Eishou, WarubureRobotika*RobotikusuFlower declaration of your heart: Kamogawa Days, Lag-Rin: Kamogawa DaysPikachu Short 25おこしやす、ちとせちゃんNijiyon Animation Episodes 13-15Natsuiro Kiseki OVA名探偵コナン 灼熱の銀河鉄道Jolie the Great Dog, Belle et SebastienMegazone 23 Part II, Megazone 23 Part III, Robotech: The Untold Story (U.S.)Marulk\\'s Everyday, Marulk\\'s Daily Lifeまじめにふまじめ\\u3000かいけつゾロリMagical Girl Lyrical Nanoha ViVidマギアレコード\\u3000魔法少女まどか☆マギカ外伝 Final SEASON -浅き夢の暁-Rupan Sansei, Lupin III: Da Capo of Love - Fujiko\\'s Unlucky Days, Lupin III: Fujiko\\'s Unlucky DaysこげぱんKochikame帰宅部活動記録Kamisama Minarai: Himitsu no KokotamaLog Horizon Recap, Log Horizon Episode 6.5, Log Horizon Special響け！ユーフォニアム2White Sugar Garden, Black Salt CageGirls und Panzer: Saishuushou Part 1 - Fushou Akiyama Yukari no Sensha KouzaHere Comes Hanako, Scary Stories Of Your School: Here Comes Hanako, Phantom Of The Toiletガイコツ書店員本田さん OVADigimon Adventure 02 Movieシティーハンター 新作アニメ「りょうのプロポーズ」Bakutou Sengen Daigander, Bakutoh Sengen Daigunder爆転シュート\\u3000ベイブレードAΠHENTO ΣOMASekai Meisaku Gekijou, Alps Stories: My AnnetteYusibu OVA, Yu-sibu OVA, Yuushibu OVA, I Couldn\\'t Become a Hero, So I Reluctantly Decided to Get a Job. OVA, Yuusha ni Narenakatta Ore wa Shibushibu Shuushoku wo Ketsui Shimashita.: Yuusha ni Narenakatta Ore no Imouto ga Joukyou Shite Kimashita.劇場版『遊☆戯☆王』公開直前SP 永遠の好敵手(ライバル)\\u3000遊戯と海馬！Yoroshiku Mecha-Docワーキング!!ヴィナス戦記Vassalord. (ヴァッサロード)Vandread Integral, Vandread The Movement Stageうる星やつら いつだって・マイ・ダーリンとつぜん！猫の国\\u3000バニパルウィット龍の子太郎高野交差点ストラトス・フォー アドヴァンス天体のメソッドWay of Choices, Fighter of the DestinyX - Yochou, X OVA: Episode 0, X - An OmenWitchcraft Works, Witch Craft Works OVAWanwan SanjuushiToaru Beach no Tokuten Eizo, Toaru Kagaku no Railgun: Episode 13\\' - Being a Photo Shoot Model Under the Hot Sun Isn\\'t Easy, Is It?That Time I got Reincarnated as a Slime Episode 24.9, Tensei shitara Slime Datta Ken Recap, Tensura Recapテイルズ オブ ファンタジア THE ANIMATIONShuumatsu no Valkyrie, Valkyrie of the End, Valkyrie ApocalypseShokei Shoujo no Ikiru Michi神秘の世界 エルハザード 第2期Rockman EXE Beast PlusRanma 1/2: DoCo Music VideoGekijouban Pocket Monsters Advanced Generation: The Pokemon Ranger and Prince of the Sea: Manaphy, Pokemon 2006, Pokemon Advanced Generation: Pokemon Ranger to Umi no Ouji ManaphySekai Meisaku Gekijou, Peter Pan no Boken, Adventures of Peter PanOtome wa Boku ni Koishiteru 2, Otoboku 2, Otome wa Onee-sama ni Koishiteru, The Maiden is Falling in Love With the Elder SisterOchiFuruNaruto\\'s 10th AnniversaryNaruto Narutimate Hero 3 OVABarakamon SpecialsThe Pickle of HappinessLupin III: Elusiveness of the Fog, Rupan Sansei: Kiri no ElusiveからめるハニーBeautiful JoeThermæ Romæ Specials天体観測Tensei shitara Slime Datta Ken RecapTenchi Muyo! Mihoshi Special, Tenchi Muyo! Bangaihen: Galaxy Police Mihoshi\\'s Space Adventure, Tenchi Muyou! Bangaihen: Uchuu Keiji Mihoshi Ginga DaiboukenWakate Animator Ikusei Project, 2010 Young Animator Training Project, Anime Mirai 2010, Wardrobe Dwellers, Project AIzetta, Die Letzte Hexe新妹魔王の契約者 DEPARTURES 万理亜の秘蔵映像Shinmai Maou no Testament Burst OVA, The Testament of Sister New Devil: Burst OVASeaton Animal Chronicles: Bearcub Jackie, Bouba, Monarch, The Big Bear of Tallac, Kiddy Bear Jacky, Seton Animal Chronicles: Jacky the Bear CubSabu & Ichi\\'s Arrest Noteリボンの騎士レーカン！ポケットモンスター オメガルビー・アルファサファイア』 メガスペシャルアニメーションおそ松くんOne Piece: Long Ring Long Land Arc - A One Night Abridged Special, One Piece: Long Ring Long Land-hen - Ichiya Kagiri no Tokubetsu Henshuu-banAgriculture and ForestryNijiiro Days OVANezha Chuan QiMUNTO [ムント]政宗くんのリベンジMy Stepsister is My Ex-Girlfriend, TsurekanoLupin III: Princess of the Breeze - Hidden City in the Sky鋼鉄天使くるみ機動戦士ガンダム 第08MS小隊 ミラーズ・リポートKimizeroKasimasi: Girl Meets Girl, Kashimashi: Girl Meets Girl OVAIchidai the Karate Fool, The Fanatical Karate GenerationKami Kuzu IdolPeerless Martial Spirit, A Paragon of Wu hun, Jueshi Wuhun, Jue Shi Wu ShenAi Mai Mi! Strawberry EggAlpenrose of Fire Judy and Randy, Flower of the Mountain, Flaming Alpen Rose: Jeudi & Lundi, Hono no Alpenrose Jeudi & Lundi, Hono no Alpenrose Judy & Landy, Blazing Alpenrose: Judy & RandyAnime no Tane 2021Hidan no Aria SpecialGundam Build Fighters Try OVAゲーマーズ！ファイアボール チャーミング惡果ドージンワークTo SoraCode:Realize - Sousei no Himegimi: Chapter 13, Code:Realize ~Guardian of Rebirth~ OVAChuunibyou demo Koi ga Shitai! Specials, Chu-2 Byo demo Koi ga Shitai! Specials, Regardless of My Adolescent Delusions of Grandeur, I Want a Date! SpecialsChokotto SisterChirorin Village StoryCandy Boy EX1, Candy Boy EX01, Forecast of the FutureAonagi College Sports Festival Aviation Club, Blue Thermal: Aonagi Daigaku Taiiku-kai Koukuu-buブルーシード おまけBlood-C: Tokubetsu Henshuu VersionBakuretsu Tenshi OVA, Burst Angel: Tenchi Sairin, Burst Angel: The Angel\\'s Second Coming, Burst Angel OVABaka to Test to Shoukanjuu: Matsuri Special, Baka to Test to Shoukanjuu OVA Special, The Idiot, the Tests, and the Summoned Creatures OVA Special, Baka and Test: Summon the Beasts OVA SpecialLa Storia Della Arcana Famiglia悪魔くんSennen Joou, Queen Millennia MovieLovely Muco!, Itoshi no MuucoInazuma Eleven Go: Tokubetsu-hen, Inazuma Eleven Go Special - Ideyo! Keshin Daizukan, Inazuma Eleven Go: Izude yo! Keshin Daizukan!!, Inazuma Eleven Go: Sakuretsu! Hissatsuwaza Daizukan!!, Inazuma Eleven Go RecapsHyakka Ryouran: Samurai GirlsひとひらHappy Lesson: The FinalHappy Lesson: AdvanceHanaukyo Maid Team: La Veriteガンダムビルドファイターズ バトローグVirtual Trilogy part 2Garo: Honoo no Kokuin Special, Garo: Honoo no Kokuin Episode 25ふぉうちゅんドッグすドラゴンボールZ 危険なふたり!超戦士はねむれないドラゴンボール 神龍の伝説Dea5, Battle in 5 seconds after meeting.Juubyou Gekikatsu Boy, Young Disease Outburst BoyCaptain Tsubasa: Ayaushi! Zen Nippon Jr., Captain Tsubasa Movie 2, Captain Tsubasa MOVIE (1985 Winter), Captain Tsubasa Movie 02 - Attention! The Japanese Junior SelectionCandy Boy Episode 0CBブラック・ラグーン オマケばなにゃ蒼き流星SPTレイズナー有药邪王追妻Da Shen XianWhite Album Second Season, White Album the Latter HalfNoukinVideo Senshi LaserionVampire Knight Special, Vampire Kishi Special, Portrait of Passionate LoveTenpou Ibun Ayakashi Ayashi: InfernoTengen Toppa Gurren Lagann Episode 5.5, Tengen Toppa Gurren Lagann OVA, TTGL DS OVA, Tengen Toppa Gurren Lagann My Gurren is Sparkling!!Sachi Tookaraji Gojitsudan Specials, Here Comes Jurai Part 2, Tenchi Muyou! Ryouohki 2nd Season Picture Drama新巨人の星JX3: Chivalrous Hero Shen Jianxinガンパレード・マーチ -新たなる行軍歌-Fate/Grand Order -First Order-エスパー魔美ドラゴンボール 魔神城のねむり姫カードファイト!! ヴァンガード レギオンメイト編暴食のベルセルクBio Sekai Meisaku Gekijou: Fushigi no Mura no LeonAsobi ni Ikuyo! OVA, Let\\'s Go Play! OVA, Asobi ni Ikuyo: Bombshells from the Sky OVA, Cat Planet Cuties OVAFrom Common Job Class to the Strongest in the WorldAo no Exorcist Gekijou Special, Ao no Futsumashi Movie Special, Blue Exorcist Movie SpecialAikatsu on Parade!: Dream StoryAhogaru: Clueless Girl, Dummy GirlYama no Susume Episode 13, Encouragement of Climb SpecialUtawarerumono: Imperial Princess Tusukuru\\'s Splendid Daysうちの師匠はしっぽがない探偵オペラ ミルキィホームズ サイコの挨拶Sora no Otoshimono Final: Eien no Watashi no Torikago, Sora no Otoshimono 3シャイ新妹魔王の契約者〈テスタメント〉新テニスの王子様 U-17 WORLD CUPShadowverse F正解するカドZui Qiang Wujiang Chuan · Sanguo YanyiRPG不動産Recorder and Randsell, Recorder and Backpack, Recorder and Satchel, Recorder to RanselQín Shí Míng Yuè 5, The Legend of Swordsman 5, Qin\\'s Moon 5,パンダ・コパンダFantomas, Ogon Bat, Phantaman, Fantamannumber24 ナンバー・トゥーフォーGekijouban Anime Nintama Rantarou Ninjutsu Gakuen Zenin Shutsudou! no DanRumic World 5NIGHT HEAD GENESIS (ナイト ヘッド ジェネシス)Neko ParaThe Vanishing of Nagato Yuki-chanNagagutsu o Haita Neko no Boken, Adventures of Puss-in-Boots, Fantasy Adventure: Adventures of Puss \\'n BootsみにゆりまぶらほLove Live! μ\\'s →NEXT LoveLive! 2014: Endless Parade - Interlude Drama, Love Live! μ\\'s →NEXT LoveLive! 2014: Endless Parade - Intermission Dramaキボウノチカラ～オトナプリキュア\\'23～Kamikatsu, What God Does in a World Without GodsOsamu Tezuka\\'s Marine Express, 24 Hour TV SpecialsJungle Emperor Remake, Kimba the White Lion新ドン・チャック物語Yowai 5000-nen no Soushoku Dragon, Iwarenaki Jaryuu Nintei, A Gentle Dragon of 5000 Years Old, It Was Recognized as an Evil Dragon Without Any Cause., 食草老龙被冠以恶龙之名シュヴァルツェスマーケンさんかく窓の外側は夜Rosario and VampireプリティーオールフレンズセレクションGekijouban Pocket Monsters Advanced Generation: Nana-Yo no Negai Boshi Jiraachi, Pokemon Advanced Generation: Nanayo no Negaiboshi JirachiOz no Mahoutsukai, The Wizard of OzMoyashimon: Microbe Theatre Deluxe, Moyasimon, Tales of Agricultureモンスターファーム～伝説[レジェンド]への道～真夜中のオカルト公務員LLHolmes at Kyoto Teramachi SanjoTetsu Komyunikeishon, Iron Communication, kc, kurocomm攻殻機動隊 S.A.C. 2nd GIG Individual Eleven タチコマな日々Konodan, Kono Danshi, Uchujin to Tatakaemasu., This Boy Can Fight With Aliens.キカイダー０１\\u3000THE ANIMATION活撃／刀剣乱舞怪人開発部の黒井津さんIkkitosen Season 2Hyakko OVAAfterschool Pleiades, Hokago no PleiadesLegend of Light, The Story of Hikariグランブルーファンタジー The Animation Season2Go! Princess Precure: Go! Go!! Grand 3-Part Movie!!!, Pumpkin Oukoku no Takaramono, The Pumpkin Kingdom\\'s Treasure, Precure to Refi no Wonder Night!, Precure and Refi\\'s Wonder Night!, Cure Flora to Itazura Kagami, Cure Flora and the Vain MirrorGatekeepers 21Pretty Cure Splash Star Tic-Tac Crisis Hanging by a Thin Thread!Formula-1 - Engines On The Track, Motori in PistaDoki Doki! Precure, Doki Doki! Pretty CureデジモンゴーストゲームBrave10, Brave Tenバビロンアルゴナビス from BanG Dream!アンネの日記Alien NineAi Yori Aoshi: Dream Story,Brave Exkaiser无限世界Wellber no Monogatari, Sisters of Wellber Second Season, Sisters of Wellber Dai ni Maku, Sisters of Wellber TV2Wanjie Shenzhu, Lord of the UniverseUta-Kata, Uta~Kata,One~Song, Poem~Piece, Poem FragmentToHeart2 adnextMagic of StellaUshinawareta Mirai wo Motomete Special, Ushinawareta Mirai wo Motomete Episode 13, In Search of the Lost Future Specialムヒョとロージーの魔法律相談事務所淫らな青ちゃんは勉強ができないThe Pine\\'s BranchesNetherworld Battle Chronicle: DisgaeaMachine Girl wa Kizutsukanai Special, Machine-Doll wa Kizutsukanai Special恋姫†無双機動戦士ガンダム MS IGLOO -黙示録0079-家庭教師ヒットマンREBORN!×エルドライブ【ēlDLIVE】』SPコラボミニアニメ[24H]Kaleido Star: It\\'s Good! Goood!!Jigoku Sensei Nube (1996)How Not to Summon a Demon Lord 2nd Season, Isekai Maou to Shoukan Shoujo no Dorei Majutsu 2nd Season, The Otherworldly Demon King and the Summoner Girls\\' Slave Magic 2nd Season, Isekai Maou to Shoukan Shoujo no Dorei Majutsu Omega一騎当千: Great GuardiansBubblegum Crisis: Hurricane Live! (1988 version)Houkago Saikoro KurabuHighlander: Vengeanceひびけ! 和だいこGinga Tetsudo 999: Eien no Tabibito EmeraldasMatchless Emperorフューチャーカード バディファイトふるさとJAPANFresh Pretty Cure! Movie: The Kingdom of Toys has Lots of Secrets!?Freezing Season 2Eyeshield 21: Jump Super Anime Tour 2005 SpecialFallen Mystic Master, Duoxuanshi, Fallen Taoist Master, The Fallen Spirit Master, 堕玄师动画, 堕玄师之觉醒D.C.～ダ・カーポ～COP CRAFT [コップクラフト]Code BreakerBoku wa Tomodachi ga Sukunai Episode 0, Boku wa Tomodachi ga Sukunai OVA, Haganai OVA, I Don\\'t Have Many Friends OVA, Boku ha Tomodachi ga Sukunai OVAAzumanga Web Diaoh, Azumanga Daioh - Web Daioh, Azumanga Diaoh - Web DiaohGekijouban Aquarion: Ippatsu Gyakuten HenAoki Densetsu Shoot! (1994), Blue Legend Shoot! (1994)Sazan Eyes, 3x3 Eyes: ImmortalsYugioh, Yuu Gi Ou! Arc-V, Yu-Gi-Oh! Arc Five, Yu-Gi-Oh! Arc-VJourney to the West: The Reincarnation Demon King, Monkey King RebornヴィジュアルプリズンTokyo Ravens SpecialsToHeart 2: Another Days Plus, To Heart 2: Another Days Plus, ToHeart2adplusてっぺんっ!!!!!!!!!!!!!!!TayutamaPhantom Bullet, SAO II, Sword Art Online 2, SAO 2SSB, Super Seishun Brothers装神少女まとい装甲騎兵ボトムズ 幻影篇Ushinawareta Mirai o Motomete, À la recherche du futur perdu, Waremeteうる星やつら ラム・ザ・フォーエバーTottoko Hamutarou Hai!, Tottoko Hamutarou: Norisuta Haai!てんぷるPandi-Panda, Tao Tao Ehonkan, Taotao Picturebook Mansion探偵オペラミルキィホームズ アルセーヌ 華麗なる欲望Sousei no Aquarion Love, Genesis of Aquarion EVOLTenchi in Tokyo SpecialsSHELTERDolls\\' Frontline, Shao Nu Qian Xian, Dollfro: Iyashi-hen, Dollfro: Kyouran-henSekai Seifuku: Bouryaku no Zvezda Episode 13, Sekai Seifuku: Bouryaku no Zvezda SpecialTwelve Months, The Forest is AliveStar PitcherOkusama ga Seitokaichou! OVANeedless Specials, Needless: The Secret of Saint Lily Academyミニ戦国BASARA弐\\u3000月夜の片倉くんプレリュードめぞん一刻 プレリュード めぐる春の桜のように...Longriders!Kidou Senshi Gundam Double Zeta, Mobile Suit Gundam Double ZetaNadesico Movie歌舞伎町シャーロックJubei-chan - Secret of the Lovely Eyepatch九辰风云录Ikkitousen XX, Ikki Tousen Extreme ExecutorIchiban Ushiro no Dai MaoGon, the Stone Age BoyHagure Yuusha no EsteticaGrimm Fairy Tale: The Golden Bird, Grimm\\'s Fairy Tales: The Golden BirdAdventures of Goku, Goku\\'s Great AdventuresOnce Upon a Time... Space, Once Upon a Time Was the Space学園ハンサムDragon Ball Z Gaiden: Saiya-jin Zetsumetsu Keikaku, Dragon Ball Z: Plan to Destroy the SaiyajinCutey Honey FlashDancougar - Super Beast Machine Godカードファイト!! ヴァンガード (2018)Canvas2 ～虹色のスケッチ～Candy Boy Extra Episode, Candy Boy Episode 8, Candy Boy EX02, Theory of Happiness SharingぼのぼのBlack Jack: The Child Who Came from the SkyBeyblade 2002あずきちゃんAtchi Kotchi, Here and ThereSong of Baseball EnthusiastsBuBu ChaChaNet Game no Yome wa Onna no Ko ja Nai to Omotta?, NetoYomeFuture Boy Conan: The Giant Robot\\'s Resurrectionめ組の大吾 救国のオレンジYU-NO: A girl who chants love at the bound of this world SpecialNymphet, A Child\\'s Time, KojikaShinigami Hospital MurderKanon Wind FlowerThe Success Of Empyrean Xuan Emperor, The Nine Heaven of the Mistic Emperor緋色の欠片 突撃! 隣のイケメンズHentai Ouji to Warawanai Neko. SpecialsIn a Distant Time 3: Crimson Moon, Haruka Naru Toki no Naka de 3: Kurenai no TsukiHAND MAID メイGrenadier: The Smiling Senshiフューチャーカード バディファイト100Battle Fighters Garou Densetsu 2ドラゴンドライブDragon Ball Z: The Decisive Battle for the Entire EarthDoraemon Crayon Shin-chan Haru da! Eiga da! 3-Jikan Anime Matsuri 2クレヨンしんちゃん外伝 エイリアン vs. しんのすけKimetsu Gakuen: Valentine-henBlue Drop: Tenshitachi no GikyokuBastard!! Destroyer of Darkness, Ankoku no Hakai KamiNuku Nuku, Bannou Bunka NekomusumeB-Project 2nd SeasonAshita no Yoichi!Slap Up Party Arad Senki, Dungeon & Fighter - The Animation, Dungeon & Fighter - Arad SenkiAni*Cre15, Ani Kuri 15, Ani-Kuri 15, Anikuri 15, Neko no ShuukaiThe Low Tier Character \"Tomozaki-kun\" OVA, Bottom-Tier Character Tomozaki OVA, Jaku-Chara Tomozaki-kun OVAInazuma Eleven: Balance of Aresヒューマンバグ大学Scarlet Fragment, Hiiro no Kakera: Tamayori Hime KitanHAUNTED じゃんくしょん半妖の夜叉姫 -戦国御伽草子-Full Moon wo Sagashite: Cute Cute Big Adventure, Searching for the Full Moon: Cute Cute Adventure, Full Moon wo Sagashite: Cute Cute AdventureDungeon ni Deai wo Motomeru no wa Machigatteiru Darou ka IV: Play BackDragon Ball: Goku no Koutsuuanzen, Dragon Ball: Goku\\'s Traffic Safety, Dragon Ball: Goku no Shouboutai, Dragon Ball: Goku\\'s Fire BrigadeDorami & Doraemons: Robot Gakkou NanafushigiクッキングパパCode Breaker OVA, Code:Breaker: code:extra 1,2,3 & Plus 1, Code:Breaker: code:100 & extra HANAMI & Plus 2, Code:Breaker: code:4koma Special TheaterThe Super Dimension Century Orguss 02C³ Special, C3 Special, C Cube Special, C^3, C³ Episode 13Cardfight!! Vanguard: Over DressCyber Team in Akihabara: The Movie, Akihabara Cyber Team 2011, Akihabara Denno Gumi 2011 Nen no NatsuyasumiAnne of Green Gables: Road to Green GablesSchwestern in Liebe!, WatayuriWan Wan Celepoo Sore Yuke! Tetsunoshinつくもがみ貸しますTSUKIPRO THE ANIMATIONトリコ３Ｄ 開幕グルメアドベンチャー！！Tesagure! Bukatsu-monoSky-High Survival, Sky ViolationTales of Symphonia The Animation: Sylvarant-hen Special, Tales of Symphonia The Animation: Sylvarant Chapter - Professor Kratos\\' Private LessonTales of Symphonia The Animation: Sylvarant-hen Special 2, Tales of Symphonia The Animation: Sylvarant Chapter - The Return of Professor Kratos\\' Private LessonテイルエンダーズSuper Robot Taisen Original Generation: Divine Wars Special, SRWOG, Episode 26 DVD Special, Sorezore no MichiKoukou Hoshi Kageki 2nd Season Special, High School Star Musical 2nd Season Special, Starmuスパイダーライダーズ ～よみがえる太陽～装甲騎兵ボトムズ\\u3000ビッグバトルLegend of SiriusShirayukihime, Legend of Princess Snow White, Shirayuki-hime no Densetsu新造人間キャシャーンShinmai Maou no Keiyakushaセラフィムコールプリティーリズム ディアマイフューチャーPenguin GirlOnegai Teacher Specials, Onegai Teacher: Marie Love Theaterワンピース 倒せ！海賊ギャンザックTreat of ReincarnationMermaid Forest OVA, Rumic World 4Namiuchigiwa no Muromi-san OVANagato Yuki-chan no Shoushitsu OVA, The Vanishing of Nagato Yuki-chan OVAL\\'École des champions水のコトバMini Vanguardミニ戦国BASARA\\u3000長曾我部君と毛利君Makai Senki Disgaea: Makai e no Shoutaijou, Makai Senki Disgaea Trailer魔法遣いに大切なことMahou Shoujo-tai: Alice Adventure, Arusu Adventure, Tweeny Witches: The Adventureこの醜くも美しい世界Leo the Lion, New Jungle Emperor, Go Ahead Leo!, Jungle Emperor, Onward Leo!Demon God of the War Torn Land Goshogun, GoshogunSasami: Mahou Shojo Club Season 2恋愛フロップスPyu to Fuku! JaguarピチューとピカチュウPapuwa 2Ribbon x Oha Suta Specials, Ribon x Oha Suta SpecialsGalaxy ForceChronicles of an Aristocrat Reborn in Another World: The Apostle of the Gods Who Know No Self-Restraint戦え! 超ロボット生命体トランスフォーマーV[ビクトリー]探検ドリランド蒼天の拳シェンムーYouth Anime Complete CollectionREVENGER (リベンジャー)Re:Zero kara Hajimeru Break Time 2Jjajang Sonyeo PpukkaPocket Monsters: Best Wishes! 2 - Episode NPaaman (1983), Paman (1983), Super Boy Perman (1983), Paa man (1983), P-man (1983), Paaman TV 2 (1983)PEACE MAKER 鐵 前編～想道〈オモウミチ〉～Story in Which I Was Kidnapped by a Young Lady\\'s School to be a \"Sample of the Common People\", Ore ga Ojou-sama Gakkou ni \"Shomin Sample\" Toshite Rachirareta Ken日本沈没2020 劇場編集版\\u3000シズマヌキボウモンスターストライク The Animationミカグラ学園組曲名門！第三野球部Meiji Tokyo Renka: Gengetsu no Sayokyoku, MeikoiMARGINAL#4 KISSから創造るBig BangJapanese Folklore Tales 2Rage of Bahamut: Manaria Friends, Shingeki no Bahamut: Manaria Friends魔法科高校の優等生Lupin Sansei: Russia Yori Ai o Komete, Lupin III: From Russia With LoveRupan Sansei: Lupin Ikka Seizoroi, Lupin Family Lineup, Lupin III Master FileLostorage incited WIXOSSGhost in the Shell: Stand Alone Complex - The Laughing Man - Tachikoma na HibiThe Last Battlefield Between You and I, or Perhaps the Beginning of the World\\'s Holy War, KimisenKakegurui: Compulsive Gambler Picture DramaSeirei Tsukai no Kenbu, Bladedance of Elementalersサンリオ男子Sakura Wars: The Gorgeous Blooming Cherry Blossoms, Sakura Taisen OVA, Sakura Wars OVAQin\\'s Moon: Nine Songs of the Moving Heavens, The Legend of Qin: Nine Songs of the SkySerendipity Monogatari: Pyuatou no NakamatachiPrincess Lover!Story of Princess Thumbelina, Thumbelina, Thumb Princess Story, Oyayubihime Monogatariオーバーロード\\u3000ぷれぷれぷれあです4大雪海のカイナNishi no Yoki MajoMach Go Go GoLu\\'s Time 2nd SeasonGhost in the Shell: Nyuumon Arise, Ghost in the Shell Arise IntroductionケロケロちゃいむRed ShadowNoble FarmerHoshizora e Kakaru HashiRuin Explorers: Quest for the Ultimate PowerFirst Human Gatorus, First Human Gattles, First Human Giatrus, Giatrus, The Dawn of MankindHaikyuu!! Quest Drama DVD, Haikyu Quest Picture DramaGirls und Panzer Recaps, Girls und Panzer Episode 5.5, Girls und Panzer Episode 10.5, Girls und Panzer: Introductions!Gift: Eternal Rainbow Special, Gift Eternal Rainbow: Another Gift! - Crisis at the Konosaka Inn!!Inspector Fabre, Fabre Sensei wa MeitanteiDigimon Cross WarsDiGi Charat Ohanami SpecialChou Kuseninarisou映画ちびまる子ちゃん イタリアから来た少年Adventure King Beet ExcellionBLACKFOXBattle Spirits 2015, Battle Spirits Season 8Arifureta Shokugyou de Sekai Saikyou Episode 0アンドロイド・アナ\\u3000MAICO ２０１０Andes Shonen Pepero no BokenWedding Peach DeluxeYuu Gi Ou!, Yugioh約束の七夜祭りXing Hai Qi ShiBrainless Witchヴァイパーズ・クリードULTRAMAN宇宙戦艦ヤマトSpace Symphony Maetel, Uchuu Koukyoushi Maetel: Ginga Tetsudo 999 GaidenTokyo Babylon 2Yattaman, YattaamanSword Art Online II Episode 14.5, Sword Art Online II Recap, SAO 2 RecapWarring States Of A MilleniaYo-kai Watch: ShadowsideWeiss Kreuz, White Cross宇宙戦艦ヤマト 新たなる旅立ちTona-gura!東京ミュウミュウ にゅ～♡ストライクウィッチーズ 劇場版 501部隊発進しますっ!Shengshi ZhuangniangAllied Air Force Magical Idols Luminous Witches, Idol Witches, Ongakutai WitchesRe:ステージ! ドリームデイズ♪Di Gi Charat Panyo Panyo, DiGi Charat Panyo PanyoMedabots Damashii, Medabots Spirits, Medabots II7 Days War, Our Seven-Day Warバイオハザード：デスアイランドBeyblade Burst Super KingSpell Wars: Sorcerer Hunters Revengeアニメ店長x東方ProjectAmagi Brilliant Park Specials, Amaburi Specials, Waku Waku Mini-Theater, Exciting Mini Theaterあいうら4주 애인There\\'s a Pit in My Senior Martial Brother\\'s Brain, Our Big Brother\\'s Mind Has A ProblemTomorrow\\'s LeavesTOKYO TRIBE 2Tokimeki Memorial 17.5: The Excitement of Heroism, Tokimeki Memorial 25.5, Tokimeki no Yuuki, Tokimeki no SentakuTerra e... (2007), Chikyuu he, Towards the Terra... Pilot, Towards the Terra... Epilogueスーパードール リカちゃんStarColleStarship Girl Yamamoto Yohko (TV)Shugo Chara!!! Dokki Doki, Shugo Chara! Third, Shugo Chara! Pucchi PuchiMyth of the AncientsViVid Strike! OVATsukiuta. The Animation Second Season, Tsukiani. 2Touch: Ace Without A Number On His BackLovely Detective Labyrinth, Great Detective Labyrinthストラトス・フォー OVAスターシップ・トゥルーパーズ インベイジョンそれいけ! アンパンマン いのちの星のドーリィSHUFFLE! (シャッフル!) Prologueシャーマニックプリンセスシートン動物記\\u3000りすのバナSasami-san at Ganbaranai, Sasami-san@UnmotivatedSamurai X: Review SpecialPokémon Mystery Dungeon: Explorers of the SkyPocket Monsters: Arceus Who is Called a God, Pocket Monsters: The Hallowed God, ArceusNobunaganThe Scales of Nil Admirari ~The Mysterious Story of Teito~Night Wizard The Animation7O3X, Nanamaru Sanbatsuみゆき名探偵コナン VS. 怪盗キッドLove Me, Seriously!!ティグルくんとヴァナディーちゅラピスリライツ鋼鉄天使くるみ 25-28話Mobile Suit Gundam 0083: The Last Blitz of ZeonKaze o Mita ShonenJuubee Ninpuuchou: Ryuuhougyoku Hen, Jubei Ninpucho - Ryuhougyokuhen, Jubei Ninpucho: Ryuhogyoku-Hen, Wind Ninja Chronicles [Dragon Stone Chapter], Ninja Scroll - The Seriesジャングル大帝Kafka Inaka Isha, Ein LandarztHataraku Petit Quiz, Macrophage no Oheya, Killer T Saibou no Kunren, Shireikan no Yuuutsu, Hataraku Oshigoto, Cells at Work! SpecialsThe Devil is a Part-Timer! 3rd Season, Hataraku Maou-sama 3The Devil is a Part-Timer! 2nd Season, The Devil is a Part-Timer!!, Hataraku Maou-sama 2はぴねす! 渡良瀬準の華麗なる一日Tawawa on Monday 2 SpecialFate/kaleid liner Prisma☆Illya OVAドリフェス！Don-Don Domel to Ron, Dondon Domel to Don, DommelDome x Kano, DomekanoCode:Realize ～創世の姫君～Captain Tsubasa: Ashita ni Mukatte Hashire!, Captain Tsubasa Movie (1986 Spring), Captain Tsubasa Movie 3, Captain Tsubasa: Run Toward Tomorrowぶっちぎり?!Animation Kapibara-sanアルプスの少女ハイジ ハイジとクララ編.HACK//G.U. RETURNERJoker Game Specials, Adventure of Black Cat YoruJet MarsグランベルムFORTUNE ARTERIAL 赤い約束エクスドライバーイートマン `98Dao Mu Bi Ji: Qin Ling Shen ShuDansai Bunri no Crime EdgeEiga Crayon Shin-chan: Densetsu wo Yobu Buriburi 3-punpokkiri Daishingeki, Crayon Shin-chan: The Legend Called Buri Buri 3 Minutes Chargeクレヨンしんちゃん外伝 おもちゃウォーズVicky the Little Viking, Viking, Wickieチア男子!!僕のヒーローアカデミア 雄英ヒーローズ・バトルバクマン。『ラッコ11号』Patlabor the Movie 3, Mobile Police Patlabor: WXIIIワイルドアームズ トワイライトヴェノムSpace Family Carlvinson魔法のアイドル パステルユーミぼくの地球を守って～亜梨子から、輪くんへ～BAYONETTA BLOODYFATEばなにゃ ふしぎななかまたち22/7, Nanabun no Nijuuni異修羅Hyakka Ryouran OVAひなろじ～from Luck & Logic～ハーロック・サーガ ニーベルングの指環ガドガードDNA Squared, Dokokade Nakushita Aitsuno Aitsu, DNA2, DNA^2コンドームバトラー ゴローCOCOLORS（コカラス）Club-To-Death Angel Dokuro-chan 2BokuhakaBeyblade - The Movie, Beyblade the Movie: Fierce BattleOn a Stormy Night: Secret Friends, One Stormy NightAokanaAmaenaideyo!! 2, Amaenaideyo!! KatsuYusha Reideen, Brave Raideen, Reideen the BraveYamato to Eternity, Yamato yo Eien ni若おかみは小学生！裏世界ピクニックHamtaro the Movie, Hamutarou特務戦隊シャインズマンTerra Formars 2nd Season, Terraformars 2Super PhoenixGod and Spirit Combination Godannar!!Saiyuuki Reload: Even a Worm ArcRe:Zero kara Hajimeru Kyuukei JikanGekijouban Pretty Rhythm, Pretty Rhythm The Movie, Pretty Rhythm MovieMewtwo: Kakusei he no Prologueプランダラぷれぷれぷれあです ～クレマンティーヌ逃亡編～ノブナガ・ザ・フールNew Dream Hunter Rem: Dream Knightsモンスター EXTRAマイアミ☆ガンズMeitantei Conan Episode 1076.5Gankyou na Kanojo, Glasses Girlfriendsまもって守護月天！Everyday seems Sunday, Everyday is Sunday, Every Day is SundayThe Dancing GirlMai-HiME Bluray Special, Mai-HiME: The Black Dance/The Last SupperThe Ancient Magus\\' Bride, The Magician\\'s Bride, Magic Bride, Maho YomeMagical Girl Meルパン三世GREENvsREDKuromajyo-san ga Toru!!K.O. BeastsKimi ni Magic★Kyun!, Magic Kyun! RenaissanceKidou Senshi Gundam AGE: Memory of EdenKiddy Grade 2 PilotNight Song of Splendor, Starlight Nocturne, Gasei YakyokuShin Koihime†Musou OVADoki Doki School HoursGoshogun: The Time EtrangerSeiken no KatanakajiリライトR-15 OVAPaaman, Paman, SuperkidPa-dak Pa-dakOOS押忍!!空手部Oretsuba, We Don\\'t Have Wings, Ore-tachi ni Tsubasa wa Naiおねがい☆ティーチャー ReminiscenceディスクTransforming Boy Starzan-Sにゃんぱいあ The AnimationNurse Witch KomugiMezzo Danger Service Agency, Mezzo Forte TV, Mezzo TV Danger Service Agency迷い猫オーバーラン!キティズパラダイスKinkyu Hasshin Saver KidsKimagure Orange☆Road RecapKidou Senshi Gundam Unicorn: Episode EX - Hyakunen no KodokuSteam Detective, Kaiketsu Shoki TanteidanイナズマイレブンＧＯ ギャラクシーアイドル天使ようこそようこDaphne in the Brilliant Blue Specialsヘボット!Hatsukoi Limited. Specials, Hatsukoi Limited.: Girl Limited, Hatsukoi Limited.: Shoujo Limited, First Love Limited: Limited GirlはるかなレシーブHanaukyo Maids, Maid in HanaukyoGoshusho-sama Ninomiya-kun, Gosyushosama Ninomiyakun, My Condolences, Ninomiya-kun, My Heartfelt Sympathy, Ninomiya-kunゴジラ S.P ＜シンギュラポイント＞Garasu no Hana to Kowasu Sekai, D.backup, Vitreous Flower Destroy the WorldThe Galaxy Railways: Planet of Forgotten TimeFLAG Director\\'s Edition 一千万のクフラの記録Fate/Zero Specials, Please! Einzbern Consultation RoomEureka Seven Astral OceanDa Capo: D.C. I & II P.S.P. OVAConRevoChosoku Spinner, Super Sonic Spinners, Super Speed SpinnerTouch 2: The Farewell GiftDagger of Kamui, Blade of Kamui, Revenge of the Ninja Warriorカクレンボ伊藤潤二『マニアック』ISIchigo 100%光の女神High School of the Dead OVA, Gakuen Mokushiroku: Highschool of the Dead, HOTD, HSOTD, Drifters of the DeadGS美神 極楽大作戦!!GRANBLUE FANTASY The AnimationGods Eater Burst Prologue, Promotion Videoギルガメッシュ24 Hour TV Specialsファイアボールパチスロ エウレカセブンAO Final Episode : One More Time －ロード・ドント・スロー・ミー・ダウンーDragon Crisis!ドカベンDimension W Specialコヨーテ ラグタイムショーカードファイト!! ヴァンガード 新右衛門編Baribari Densetsu (1987), Bari-Den (1987), Motorcycle Legend (1987), Legend of Rolling Wheels (1987)Baki OVABakéGyamon, Gekifu BakegyamonBaka to Test to Shoukanjuu: Christmas SpecialAmaenaide yo!! Specialアクセル・ワールド INFINITE∞BURST（インフィニット・バースト）Sanjuu-sai no Hoken TaiikuSan Choume no Tama Uchi no Tama Shirimasenka?, Tama & Friends, Teo and Friends, Sanchome no Tama: Uchi no Tama Shirimasenka?21-emon, 21emon.hack//SIGN Episode 28The Hero Is Dead!Yokai WatchUrusei Yatsura Special: It\\'s Spring! Take Off!Toriko: Jump Super Anime Tour 2010 Special, Toriko: Jump Festa 2010 SpecialTojitomoToHeartT. P Bon, TP Time Patrol Bonスタードライバー THE MOVIE夢見る男子は現実主義者Eiga Youkai Watch: Forever FriendsSing \"Yesterday\" for MeMaxbotXi Xing Ji, Journey to the West, Westbound, Westbound DisciplineWakako SakeTokimeki Fushigi Diary: Ultra ManiacTransformers Chojin Master Force, Transformers MasterforceTouch 3: After You Passed ByIron Man 28, Tetsujin 28-goテニスの王子様 BEST GAMES!!Telepathy Shojo Ran, The Telepathy Girl RanSukisyo, I like what I like, so there!それいけ! アンパンマン シャボン玉のプルンWeekly! Story Land, Shuukan! Story LandShin Cutey Honey, New Cutey Honey, New Cutey Honey Dark Group, Shin Cutey Honey Yami no Gundan-HenValiantly Forge Ahead!! Men\\'s Cram School (1988)Captain Kuppa Desert PirateRecorder and Backpack Do, Recorder and Satchel Do, Recorder and Randsell Do, Recorder and Ransel Do, Recorder to Randsell Do, Recorder to Ransel DoPukapuka Dudu, Wakate Animator Ikusei Project, 2011 Young Animator Training Project, Anime Mirai 2011, Dudu the Floater, Dudu the FloatiePokémon the Movie XY&ZGekijouban Pocket Monsters Best Wishes: Victini to Kuroki Eiyuu Zekrom, Pokemon Best Wishes!: Victini to Kuroki Eiyuu Zekrom, Victini and the Black Hero: ZekromHey! Tonbo, Oi! Tonboおんたま!One Piece Recap, One Piece SpecialNekogami Yaoyorozu OVA, Cat God OVAPapuwa (1992), Papuwa of the South Seas, Southern Country Boy Papuwa-kunMiss Morita is Taciturn (TV) 2Kujira no Kora wa Sajou ni Utau SpecialsANEMONE／交響詩篇エウレカセブン ハイエボリューションKasimasi: Girl Meets GirlJian Yu ChuanqiThe Magic Mirror, Akko\\'s Secret火の鳥 エデンの宙Hai Step Jun, Yes Step Jun, Haai Step KunGou-Q-Chouji IkkimanMeine Liebe Wieder月曜日のたわわ2ガサラキFate/PrototypeDragon Ball Z: Return My Gohan!!Gekijouban Di Gi Charat: Hoshi no Tabi, DiGi Charat Movie: A Trip To The Planet, DiGi Charat Hoshi no TabiDiGi Charat Natsuyasumi SpecialダンドーDakara boku wa H ga Dekinai. Episode 13, Dakara Boku wa, H ga Dekinai. OVACoo of the Far Seas, Coo: Come From a Distant Ocean CooSuper Robo GalattGravion ZweiChocchan\\'s Storyキャプテン∀ Gundam II: Gekkou ChouNegima!: Magister Negi Magi Introductin FilmGigi and the Fountain of YouthGhost in the Shell: Stand Alone Complex 2045Polar Bear in Loveきこちゃんすまいる爵跡Joshi Kousei: Girl\\'s HighBubblegum Crisis: Hurricane Live!Violin in the Starry SkyHoero BunBun, Bark! Bun Bun, Tchaou et Grodo旗揚! けものみちガンダムvsハローキティGIRLSブラボー second seasonガールズ＆パンツァー ハートフル タンク ディスクGinga Tetsudo 999: Diamond Ring no Kanata eGinga Shippu Sasuraiger, Wonder SixGinga Reppu Baxinger, Cosmo RangerGetta Robo G, Starvengersフミコの告白The King of the PigsデビルマンレディーOyuki Yama no Yuusha Haou, Daisetsuzan no Yuusha KibaouDagashikashiBakumatsu no Supashiibo8月のシンフォニー ―渋谷 2002～2003Hell Girl 4, Jigoku Shoujo 4The Funny Judo Champion, The Young Countryman LeaderNobody\\'s Boy: Remi, Nobody\\'s Boy: RémiHappy Lessonグレゴリーホラーショー - The Second GuestGranblue Fantasy The Animation Episode 14, Granblue Fantasy The Animation: Jack O\\'LanternGirls und Panzer: Fushou Akiyama Yukari no Sensha Kouza - Extra, Akiyama Yukari\\'s Tank Course ExtraGirls und Panzer der Film Cinematic Concert: Unlucky Yukari Akiyama\\'s Tank Courseファイト一発！充電ちゃん！！Fate/Grand Order: Fujimaru Ritsuka wa Wakaranai Episode 0, Fate/Grand Order: Fujimaru Ritsuka Doesn\\'t Get ItEyeshield 21 Jump Fest 2004代紋(エンブレム) TAKE2EDENsBOwYシナモン the MoviePrince HerculeBASTARD!! -暗黒の破壊神-The Dark Red Eleven, The Red-Blooded ElevenYishi Zhi ZunWonder Beat Scrumble, Micronauts, Wonderbeat ScrumbleUmimonogatari Anata ga Itekuretakoto, Sea StoryOnii-sama, Yurayura Kirakira Donburako Korette, Naan Da?, Up and Down, in the Sun, Floating Away? What Is It?Tenshi no Three Piece!Prince of Tennis OVA Fan Disc: Message in a Bottleストライクウィッチーズ 501部隊発進しますっ！新米錬金術師の店舗経営Shingeki no Kyojin: Chimi Kyara Gekijou - Tondeke! Kunren Heidan, Attack on Titan Picture Drama神医九小姐Seirei Tsukai no Blade Dance Mini OVASangokushi [2] Choukou Moyu!Put it All in the Ring 1: Japan vs USA Battle Story, Ring ni Kakero S2恋愛暴君オリエントNankai Kio Neoranga, Strange World of the South Seas - NeorangaMetal Fight Beyblade Movie, Gekijouban Metal Fight Beyblade vs Taiyou: Shakunetsu no Shinryakusha Sol BlazeMazinger Z vs. Ankoku Daishogun, Mazinger Z tai General Dark, Mazinger-Z vs General of Darknessまもって！ロリポップ魔女っ娘つくねちゃんRupan Sansei: Napoleon no Jisho wo Ubae, Lupin III: Steal Napoleon\\'s Dictionary, Lupin III: Napoleon\\'s DictionaryKoihime†Musou OVA機動戦士ガンダムＦ91かたすみの鱗カブキブ！Sacred Seven Recap Special, Sacred 7: Night Edition, Sacred Seven: Night Edition, Knight Edition青莲剑仙传Gekijouban Pocket Monsters Best Wishes: Victini to Shiroki Eiyuu Reshiram, Pokemon Best Wishes!: Victini to Shiroki Eiyuu Reshiram, Victini and the White Hero: ReshiramPocket Monsters: Best Wishes Season 2 Special, Dent and Takeshi! Gyarados\\'s Outrage!!P4GAOtome wa Onee-sama ni Koi Shiteru, The Maiden Is Falling In Love With The Elder Sister, Otoboku, Otome wa Boku ni Koi Shiteru: Ookina Shounen Shoujo no Sekai Meisaku no Mori - TsunderellaにゃんこデイズNew Dream Hunter Rem: Massacre in the Phantasmic LabyrinthCat GodTriZenon, Invincible Champion Tri-Zenon, Muteki Ou Tri-Zenon, Mutekioh Tri-ZenonMonster Strike Summer SpecialMAZE☆爆熱時空マジンボーンMahoutsukai Sally, Sally the WitchKyoryu Wakusei, Dino-Planet, Virtual Trilogy part 1MadogatariKoi Suru Tenshi Angelique, Koi Suru Tenshi Angelique: Kagayaki no Ashita OVAKinnikuman II: Muscle-Man Competition! Great War, Kinnikuman Second Generations: Muscle-Man Competition! Great War, Massuru Ninjin Soudatsu! Choujin Dai Sensou, Muscle Ginseng Competition! The Great Choujin War, Ultimate Muscle, Kinnikuman NiseiPhilosopher\\'s Grandson, Magi\\'s GrandsonKasumin 3rd Seriesエスアザーワイズドラゴノーツ-ザ・レソナンス-AppmonDiGi Charat Christmas SpecialDaishizen no Majyu Bagi, Daishizen no Majuu Bagi, Taishizen no Makemono BagiBleach Jump Festa Anime Tour 2008, Bleach Colorful!: Gotei Juusan Yatai Daisakusen!ASTRO BOY 鉄腕アトム〜月面基地・消えたロボットの謎〜Akuma no RiddleAkihabara Cyber Team, Cyber Team in Akihabara, kihabara Dennou GumiRed Photon ZillionSchool of Love: Heart\\'s Story, The Tale of CuoreAge 12., Juuni-sai.Hack OVAZinba MonstersYugioh, Yu-Gi-Oh!, Yu-Gi-Oh!: Duel Monsters, Yugioh: Duel Monsters, Yu-Gi-Oh!: Pyramid of LightYs II, Ancient Books of Ys IIXiyouji zhi Dasheng Guilai, CUG: King of Heroes我开动物园那些年Tottoko Hamutarou: Hamu Hamu Hamuuja! Maboroshi no Princess東京アンダーグラウンドタイドライン・ブルーSuper Robot Taisen Original Generation - The Animation, Super Robot Wars OG: The Animation, SRWOGスターオーシャンEXスカイガールズModern Magic for Dummies, Properly Learned Modern MagicWellber Story: Sisters of WellberWakakusa Monogatari Yori Wakakusa no Yon Shimai, Young Grass Story: Four Sisters of Young Grass鉄拳 BLOOD VENGEANCEソウナンですか?The SkullmanSasami: Maho Shojo ClubRay Project, Ray: The AnimationRanma 1/2: 1994 Music CalendarプッカProject BLUE 地球SOSパワーストーンPokemon Diamond & Pearl Get Together! Pokémon Planet Centerニンジャスレイヤー フロムアニメイシヨンNanaka Juu-nanabun no RokuThe Bells of NagasakiMM! Hidden Cam, MM! SS!, MM! Group, Emu Emu!TALES OF CRESTORIA-咎我ヲ背負いて彼は発つ-Ikki Tousen in Kyotoアイ★チュウ HALFWAY THROUGH THE IDOL谎颜Grancrest Senki Episode 11.5, Grancrest Senki Recapギフト～ eternal rainbowエクスドライバー the MovieDirty Pair Flash 2 OVADirty Pair Flash OVAChu-zumo, Chuu-ZumouSuper Dimensional Cavalry Southern Cross, Super Dimension Cavalry Southern Cross, Southern CrossLiming Zhi Jian, Changye Kaituozhe, Changye Kaita ZheC3, C Cube, C^3Burn Up! X, Burn Up! Excess, Burn-Up Excessベイブレードバーストベターマンベルセルクべあべあべあくまー！Baribari Densetsu, Bari-Den, Motorcycle Legend, Legend of Rolling WheelsAsobi ni Ikuyo!, Let\\'s Go Play!, Asobi ni Ikuyo: Bombshells from the SkyArslan Senki Episode 13.5Happy☆Lesson Episode 11.5 Nice and Warm! All Alone with Kanna, Happy Lesson: Hoka Hoka Kanna to Futari KiriHanaukyou Maids, Maid in Hanaukyo, Hanoukyo Maid Tai, Hanaukyo Maid TeamHakugei: Legend of the Moby Dick, Legend of the White WhaleGrimgar of Fantasy and Ash Special, Grimgal of Ashes and Illusion Special, Grimgal of Ashes and Fantasies Special, Hai to Gensou no Grimgal Special, Grimgar of Fantasy and Ash Episode 2.5, Grimgal of Ashes and Illusion Episode 2.5グリーンレジェンド乱Girls und Panzer Movie: Understanding Girls und Panzer in 3 Minutes!!, Girls und Panzer der Film Intro, San-pun Chotto de Wakaru!! Girls und PanzerElementhunters, Element HunterDragon Ball Z: Plan to Eradicate Super Saiyans OVA RemakeドラゴンボールZ この世で一番強いヤツこみっくパーティー不死不灭Beyblade Burst Super ZB-PROJECT～鼓動＊アンビシャス～Asobotto Senki Goku, Anbot Senki Gokyuu, Association Robot Gokuアルプスの少女ハイジ アルムの山編Little Girl PresidentWith All Our HeartsSuddenly, Egyptian GodsHamtaro, Hamutarou, Tottoko HamutaroThe Great Tongari Island Treasure Hunting Adventure, Treasure Hunting: Tongari Shima no DaiboukenTHE 八犬伝SAO Special, S.A.O Specialソニック X四格勇者Shiguang Dailiren Xiao Juchang, 时光代理人小剧场, Link Click Mini TheaterFriagne and Marianne\\'s Why, What, Shana! Ask Anything Question Box咲-Saki-阿知賀編 episode of side-A ショートオリジナルアニメ「玄の誕生日」My Recently Hired Maid is SuspiciousSacred 7Rokumon Tengai Monkore KnightRoad to You: The Road That Goes on to You, Road to You: Promise of the Starry Hill, Road to You: The Snow That Dances in Memories, Road to You: Kimi e to Tsuzuku Michi, Road to You: Hoshifuru Oka no Yakusoku, Road to You: Kioku ni Mau Konayuki乱歩奇譚 Game of LaplaceOda Shinamon NobunagaNanatsu no Taizai: Fundo no ShinpanNanatsumaShooting Star Lens, Ribon Festa 2012, Ribbon Festa 2012Shin Muumin, New MoominModel Suit Gunpla Builders Beginning G今日のあすかショーGlassy OceanEureka Seven Episode 51Deep Blue Fleet, Kompeki no KantaiKokoro LibraryA linchpinProtect from the Shadows!Shiawase Apartment\\'s Okojo-san, Happy OkojoSaikyou Robo Daioja, Robot King Daioja, Ultimate Robo DaihojaThe Fakeローリング☆ガールズPokémon the Movie XY 2015, Pokémon the Movie XY: The Archdjinni of Rings - Hoopa, Pokémon Movie 18ノケモノたちの夜Mouryou no Hako - Hako no Yuurei no Koto, The Case Files of Atsuko Chuzenji: \\'The Case of the Spirits in the Boxes\\', Chuzenji Atsuko no Jikenbo \\'Hako no Yuurei no Koto\\'MARS REDNatsu Da! Mizugi Da! Gasshuku Da!, It\\'s Summer! It\\'s Swimsuits! It\\'s Training Camp!, Takeru Nyotaika!? Minami no Shima de Supoon, Maken-ki! Two: Takeru Nyotaika!? Minami no Shima de SupoonGhost in the Shell: Stand Alone Complex - Solid State Society 3D - Tachikoma na Hibi, Kokaku Kidotai S.A.C. Solid State Society 3D - Tachikoma na HibiYunoZatch Bell!: Run Gash! Umagon has been stolen from us!Kiss x Sis (2010), KissxsisBlazing Transfer StudentHappy Lesson OVA薄桜鬼～御伽草子～グレゴリーホラーショーGokukoku no Brynhildr Special, Gokukoku no Brynhildr Episode 11.5Garasu no Usagi劇場版 ゲゲゲの鬼太郎 日本爆裂!!Five Star MonogatariFINAL FANTASY XV EPISODE ARDYN - PROLOGUEWake Up, Girls! Shin ShoAmaenaide yo!! Katsu!!: Don\\'t be Fooled!!, Amaenaide yo!! Katsu!! Special애프터눈 클래스Seven SeedsBandar Book: 1 Milion Year Earth Jorney, Bandar Book: Hyakumannen Chikyuu no Tabi, 24 Hour TV Specials小魔头暴露啦！上野さんは不器用Transformable Shinkansen Robot Shinkalion MovieZui Hou De Zhao Huan ShiHitori no Shita: The Outcast - Fanwai Pian, Yi Ren Zhi Xia: Tianshi Xia Shan, The Outcast OVA, The Outcast: Extra Story, The Outcast: Taoist Master Goes Down The MountainJourney to the West, Westbound, Westbound DisciplineX 1999, X (1996)Wangu Jian ShenVampire Hunter: The Animated Series宇宙の騎士テッカマンブレードThundersub, Anti-Space Ship, Uchu Kubo Blue NoahHamutarou no OtanjobiTide-Line Blue Special, Tide-Line Blue Episode 13, Tide-Line Blue: BrotherTenshi no Shippo 2, Tail of Angels Chu!, Angel Tales 2Sword Art Online Alternative: Gun Gale Online Recap, Sword Art Online Alternative: Gun Gale Online Episode 5.5Spider Riders: The Heroes of OracleSoukou Kihei Votoms: Pailsen Files - Gekijouban, Armored Trooper Votoms: Pailsen Files the MovieSora Tobu Yuurei Sen, The Flying Ghost Ship, Sora Tobu Yureisen新巨人の星IISengoku Musou Special: Sanada\\'s Chapter, Samurai Warriors Special: Sanada\\'s ChapterPut It All in The Ring 1 Episode: Shadow Road, Ring ni Kakero 1: Shadow, Ring ni Kakero 1: Shadow-henSubete no Nazo wo Tokiakase! Pocket Monster XY & Z Kanzen Master Special!!Leave it to Piyoko!, DiGi Charat - Leave It To Piyoko pyo!, Piyoko Can Help You pyo!, Di Gi Charat - Leave It To Piyoko pyoOmishi Magical Theater Risky SafetyMy Wife is the Student Council President 2nd Season, Oku-sama ga Seito Kaichou! 2nd Season, Okusama ga Seitokaichou! PlusOji-san to MarshmallowNG Knight Lamune & 40 DXNaruto: Find the Crimson Four Leaf Clover!, Naruto: Jump Festa 2003ななか６／１７MushiutaAdventures of Maya the HoneybeeMinami Kamakura High School Girls Cycling Club: Here We Come, Taiwan!MamaPoyoM3: Sono Kuroki Tetsu, M3 The Dark Metal, Mortal Metal MemoriesStar of the SeineWillie Boy, Willy Boy, Shounen Isamu, The Rough and Ready Cowboy, Isamu the Wilderness Boy.KoharubiyoriLittle Lulu and Her Little FriendsAkko-chan\\'s Secret 3, Secrets of Akko-chan (1998)えんとつ町のプペルDragon Ball GT: 100 Years After - TV SpecialDigimon Savers Special: Agumon! Gaomon! Lalamon! Explosion! The Last Battle Off-screenDigimon Savers the Movie: Ultimate Power! Activate Burst Mode!!ディアーズD.C.S.G. Omake, Da Capo 2nd Season OmakeCross Fight BedamanThe iDOLM@STER Cinderella Girls Gekijou, The Idolmaster Cinderella Girls Gekijou, Cingekiチェインクロニクル～ヘクセイタスの閃〈ひかり〉～爆丸バトルブローラーズ  New VestroiaアストロノオトAru Machikado no Monogatari, Story of a Street Corner, Tale of a Street CornerArea 88 GekijoubanAnime de Wakaru Shinryou NaikaAIの遺電子Businessman in Africa (TV), African Office Worker (TV).hack//Udeden, .hack//Legend of the Twilight Bracelet, .hack//DUSKゼノンザード THE ANIMATIONDiGi Charat: Winter GardenTsuyokiss Cool x SweetTianmei De Yaohen天荒战神Tezuka Osamu\\'s Tales from the Old TestamentTekyuu, Te-kyuTaiyi Jian Xian ChuanS.A.O: Extra Edition, SAO: Extra Edition救われるラミリスMatoi the Sacred Slayer Episode 13Chuu no Manimani SpecialsShan shui qing, Feeling from Mountain and Water, Feelings of Mountains and Waters戦国乙女～桃色パラドックス～World Children\\'s Classics: The Prince of the Swansラーメン大好き小泉さんQín Shí Míng Yuè 2, The Legend of Swordsman 2, Qin\\'s Moon 2, Qin Shi Ming Yue 2: Night Ends - DaybreakPocket Monsters: Pikachu TankentaiPokémon Mystery Dungeon: Time Expedition & Darkness ExpeditionPataliro! Stardust ProgramArbre de Palmem鬼武者Norn 9 Norun+Nonet, Norn 9 Norun+Nonettoねこ・ねこ・幻想曲Sherlock Hound Movie 02, Meitantei Holmes Movie 02魔王様、リトライ！ルパン三世 VS キャッツ・アイLadies vs. Butlers!, Redi x Batoきょうかいのかなた アイドル裁判！～迷いながらも君を裁く民～キリングバイツ機動戦士ガンダム\\u3000ＭＳ ＩＧＬＯＯ ２\\u3000重力戦線格闘美神 武龍K-On!! Specials, Uraon!!, Keion Specials 2Shadow Skill OVA, Shadow Skill 2Sensei no Ojikan: Dokidoki School Hours Episodes 14-20Sangokushi [3] Harukanaru TaichiCoral Reef Legend: Elfie of the Blue SeaSMガールズ セイバーマリオネットRRDG오스카의 오아시스Oku-sama ga Seito Kaichou!Little NorakuroOccult Investigator\\'s Strange RecordSherlock Hound Movie 01, Meitantei Holmes Movie 01Masamune-kun no Revenge OVASpiritual Domain Second Season, Spiritual Field 2Kuragehime Heroes☆, Kuragehime SpecialsNorthward: Diamond Dust Dropsかぐや姫ジョジョの奇妙な冒険 ファントム ブラッドChobin the Star Child祝! (ハピ☆ラキ)ビックリマンゴルゴ１３\\u3000ＱＵＥＥＮ\\u3000ＢＥＥWinter PresentGuild of DepravityStory of War: Futatsu no Kurumi, Two Walnuts, Sensou Douwa 6Hajikechau! Dokidoki Trouble FreezingFrag Time, Flagtime, Flag TimeFate/kaleid liner Prisma☆Illya: Prisma☆Phantasm OVAGarou Densetsu: The Motion PictureEikyuu ShounenKing Arthur, King Arthur and the Knights of the Round Table, Prinz Arthus英雄王、武を極めるため転生す ～そして、世界最強の見習い騎士♀～Dragon Quest Dai no DaibokenChouju Kishin Dancouga: God Bless Dancougaキャンディ・キャンディ 春の呼び声One Day A Letter Arrives from the Dog Kingdomアニメ交響詩 ジャングル大帝それいけ! アンパンマン とばせ! 希望のハンカチ12 Taisen, 12 WarsIkkitousen XX Yume RokkeiIe Naki Ko Rémi Specials (2001), Sekai Meisaku Gekijou Kanketsu Ban: Ie Naki Ko Remi, World Masterpiece Theater Complete Edition: Homeless Child Remy, Nobody\\'s Girl Remi, Remi the Homeless GirlChou Hidamatsuri in Nippon Budokan, August 26: Super Hidamari FestivalIn a Distant Time 3: Neverending Destiny, Haruka Naru Toki no Naka de 3: Owarinaki UnmeiHarisu no Senpou, Harisu no TsumujikazeViolinist of Hameln (1997), Hamelin no Violin Hiki (1997)薄暮Phoenix Wright Ace Attorney: Spirit of Justice PrologueGundam Build Divers Series: BattlogueGranblue Fantasy The Animation Season 2: Djeeta-hen, Granblue Fantasy The Animation Season 2 SpecialsGODZILLA 決戦機動増殖都市銀河鉄道９９９ エターナルファンタジージオブリーダーズ２ 魍魎遊撃隊Dance in the Vampire Bund Recap, Dance in the Vampire Bund Episode 7.5武装神姫 Moon AngelブラッドシーChikashitsu kara no Fushigi na Tabi, The Wonderland百炼飞升录Eiga Atashinchiアップル・シードアイカツプラネット！アクションヒロイン チアフルーツAICO22/7 Special, Nanabun no Nijyuuni Episode 13幽幻怪社Ronin Warriors OAVWeiss Kreuz Gluehen, Weiss Kreuz Gluhen, White Cross GlowingI Can Hear the Seaトランスフォーマー・カーロボットTOKKÔ[特公]時季（とき）は巡る～TOKYO STATION～Tenchi Muyo! Ryo-Ohki 4th Seasonテクノロイド OVERMINDシャッフル！メモリーズI\\'m Quitting Heroing: Don\\'t Lose Sight of Why We Took This Research TripYakumoWooser no Sono Higurashi Third Season, Wooser no Sono Higurashi 3, Project Wooser 3東京ESP신비아파트 : 고스트볼의 비밀Shi Fang Shen Wang, 十方神王Sangokushi [1] Eiyuutachi no YoakeRudolph and IppaiattenaロビハチPuchimas!!: Petit Petit iDOLM@STER OVA, Puchimas!!: Petit Petit Idolmaster OVAPoukinぺとぺとさんぱすてるらいふパラサイトドールズパパと踊ろうおにぱん！MWZEngage Planet Kiss DumKidou Senshi Gundam MS IGLOO: Ichinen Sensou HiwaCaterpillar of RagsThe Unknown Girlfriend, Kemeko DXIkki Tousen: Extravaganza EpochCool CoupleA Portrait of Jianghu: Spirit Master, Painted Jianghu 2劇場版ごん ‒ GON, THE LITTLE FOX-Extreme Hearts（エクストリームハーツ）Kyokugen Batoru!! San Dai Sūpā Saiya-jin\\u3000Supesharu, Kyokugen Batoru! ! San Dai Chō Saiyahito Supesharu, Extreme Battle!! The Three Great Super Saiyans – Special, Dragon Ball Z: Movie Overview SpecialDragon Ball Z: Super Saiya People Gokuドラミちゃん ミニドラSOS!!!Densetsu no Yuusha no Densetsu Recap, Densetsu no Yuusha no Densetsu Episode 15.5, Legend of the Lengendary Heroes Episode 15.5Dakara boku-ha H ga Dekinai., Dakara Boku wa, Ecchi ga Dekinai.バブルガムクラッシュClub-To-Death Angel Dokuro-chanBlue Dragon: Tenkuu no Nana Ryuu, Blue Dragon: The Seven Dragons of HeavenBleach: Jump Festa 2004Battle Spirits Season 5Astarotte no Omocha! OVA, Lotte no Omocha! OVA, Lotte no Omocha! EXArpeggio of the Blue Steel: Ars Nova - KirikumasKawaguchi Kaiji\\'s 9 Love StoriesAachi & SsipakTracing the Gray SummerIkkitousen: Great Guardians OVAPocket Monsters: Best Wishes Season 2 Special 2, Iris vs. Clair! The Road to Become a Dragon Master!!Da Hu Fa, Da Hufa, Da Hufa Zhi Hei HuangshengChrno Crusade: Az no Hoshuu Jugyouカードファイト!! ヴァンガードG文豪とアルケミスト 〜審判ノ歯車〜BLEACH 祝！ルキア奪還！輝け！死神十番勝負！見たい死神ドーンと見せますスペシャルArcBlue Sky Girl Squadron, The Blue Sky Girls Squad, Aozora ShoujotaiI\\'m standing on 1,000,000 lives.InuHasa, Dog and Scissors妹さえいればいい。幻界王YuruaniガンフロンティアGarakan, Garasu no Kantai, Glass FleetGalactic Drifter Vifam 13, Round Vernian Vifam 13Do Your Best, Douki-chan, Senpai is Mine腐男子高校生活Fate/Extra: Last Encore - Irusterias Ptolemaic TheoryDi Gi Charat サマースペシャル2000The Monkey King, Sun Ukun: Uproar in Heaven, Sun Wukong: Havoc in HeavenCosmowarrior ZeroCho Jiku Seiki Orguss, Super Dimensional Century OrgussJarinko Chie: Chie-chan Funsenki, Chie-chan Funsenki Jarinko ChieChaos Child: Silent Sky, Chaos Child Episode 13, Chaos Child Episode 14BUZZER BEATER.hack//Another Story, .hack//SIGN Episode 27YamiBou, Traveller of Darkness, Hat and Book Traveler, Traveller Yami, Hat and BookSpace Brothers, Planetarium Uchuu KyoudaiMon PeToaru Kagaku no Accelerator SpecialToHeart2KOF XVTate no Yuusha no Nariagari 2nd Seasonたまごっち!Tales of the Heroes: Twin Brave SpecialsStella Jogakuin Koutouka C3-bu, Stella Jogakuin Koutou-ka C3-bu, Stella Women\\'s Academy, High School Division Class C3それいけ！アンパンマン よみがえれ バナナ島Sonic Night of the Werehog, Sonikku & Chippu Kyofu no Yakata, Sonic & Chip House of Terror戦国無双ぷにぷに☆ぽえみぃPuchimas! Wakku Waku!!, Puchimas!: Petit Idolmaster Dai 0 Wa, PUCHIM@S Episode 0Puchimas!: Petit Idolmaster Special, PUCHIM@S Specialピングー in ザ・シティPaul no Miracle Dai Sakusen, Paul\\'s Miracle War, Paul\\'s Miraculous Adventures, Paul\\'s Miracle Strategy PlanPa-Pa-Pa ザ★ムービー パーマン タコDEポン! アシHAポン!大家さんは思春期！Ｏｈ！ファミリーSummer BeginsNarue\\'s worldAlmost Daily __! Sort of Live Video, Monster Musume WEB Shorts宮河家の空腹魔法少女サイトラブオールプレーLee Tantei Jimusho, リー探偵事務所レモン エンジェル プロジェクトKoro\\'s big walkThat\\'s My MasterGorgeous Butterfly: Young NobunagaPanzer World Galient, Kikoukai Garian武者ケロ\\u3000お披露目！戦国ラン星大バトル！！Jungle Emperor Leo Movie, Jungle Taitei Gekijouban, Jungle Emperor Leo: The Movie, Jungle Taitei (1966)咲日和 AnimationJump Festa 2016 Theater MannersSaijaku Muhai no BahamutRing ni Kakero 1: World Tournament ChapterReideen (2007), RaideenQueen\\'s Blade OVA, Utsukushiki Toshi-tachi, Utsukushiki Toushi-tachi, Queen\\'s Blade: Beautiful FightersQueen\\'s Blade 2, Queen\\'s Blade: Gyokuza wo Tsugumono, Queen\\'s Blade: The Successor of the Throne, Queen\\'s Blade and the Evil EyePokemon XY: The Minidjinni of the Word \"Appear!\" - FuupaBlack Clover Specials, Clover Clips: SupersizedAngel\\'s Tail, Fairy Tale Angel Tail, Angel TailsOne Piece New Year Special: Special Report - Secret of the Straw Hat Pirates!, One Piece RecapNils no Fushigi na Tabi, Nirusu no Fushigi na Tabi, The Wonderful Adventures of Nils: The Film, Wonderful Adventures of Nils (Movie)マブラヴ オルタネイティヴ無敵ロボトライダーG7Miss Morita is TaciturnThe doctor for monster girls.水グモもんもんThe Temptation of a Cat Demonラブライブ！μ\\'s Go→Go! LoveLive! 2015 ~Dream Sensation!~Lostorage conflated WIXOSS -missing link-Girl meets Bear SpecialsKuiba 3: Mars Rising, God of War Rising, Ares RiseThe YearlingRoar of the Machine God Demonbane, Kishin Houkou Demonbane (2006)Kanokon R, Kanokon OVAカビゴンとカラカラその花びらにくちづけを 玲緒麻衣だいありぃPokémon XY: Cocoon of Destruction and Diancie, Pocket Monsters XY: Hakai no Mayu to Diancie, Pokémon XY: Hakai no Mayu to DiancieNankokoSpiritual Domain Third Season, Spiritual Field 3, Spirit Realm 3, Ling Yu: Di San JiクラユカバEUREKA／交響詩篇エウレカセブン ハイエボリューション紅殻のパンドラNakaImo, One of Them is My Younger Sister!, Who is Imouto?Kodai Oja Kyoryu King: Yokuryu Densetsu, Dinosaur King D-KidsWakate Animator Ikusei Project, 2010 Young Animator Training Project, Anime Mirai 2010, Project AKimagure Orange Road PilotArslan Senki ONAMasked Rider Den-O: Imagin Anime 2Princess Resurrection: Kerberotte Specials, Princess Resurrection (OVA) SpecialsGatchaman Fighter, Science Ninja Team Gatchaman Fighter, Science Ninja Team Gatchaman F, Kagaku Ninjatai Gatchaman Fighter九州缥缈录実は俺、最強でした?Inner Destructive Fist Polymar, Hurricane Polimar, Hurricane Polymer炎の蜃気楼 [ミラージュ]Hero Mask Part 2Hentai Seiri Seminar, Hen Zemi, Abnormal Physiology SeminarFrom the Apennines to the Andes: The Movie, MarcoShirogane no Guardian, The Silver Guardian,  Gin no Guardian 2nd SeasonFAKEF-Zero: The Legend of FalconZenbu Misemasu Toshi Wasure Doragon Boru Zetto!Dirty Pair Flash 3 OVADi Gi Charat Other SpecialsDebirumanDa Capo 3THE IDOLM@STER CINDERELLA GIRLS Theater: Tuesday Cinderella Theater 2nd Season, Idolmaster Cinderella Girls Theater: Tuesday Cinderella Theater 2nd Season, Cingeki (Web) 2nd SeasonBite Me! ChameleonCardfight!! Vanguard Extra StoryBROTHERS CONFLICT OVABremen Four, Brehmen 4: Angels in Hell, Bremen 4: Angels in Hell, 24 Hour TV SpecialsAnime San Juushi: Aramis no Dai Boken, Three MusketeersAkuma no Riddle Special, Riddle Story of Devil Special, Akuma no Riddle Episode 13中国奇谭Yu Yu Hakusho Picture Drama, YuYu Hakusho夜ノヤッターマンFairy Planting ManualTriage X Episode 11, Triage X OAD, Triage X OVA桃華月憚殿といっしょとびだせ！ならせ！ PUI PUI モルカーTenchi Muyo! Ryo-Ohki 5th Season, Tenchi Muyou! Ryououki Dai Go-kiテイルズ オブ ジ アビス スペシャルファンディスクSofuteni, Soft TennisYu Yu Hakusho: Mu Mu Hakusho, Yu Yu Hakusho: Eizou Hakusho III, Yuu Yuu Hakusho: Eizou Hakusho IIIYozakura Quartet: Hana no Uta SpecialsYamishibai: Japanese Ghost Stories Second Season, Theater of Darkness 2nd SeasonトラブルチョコレートTravaRescuemanGenius BakabonストリートファイターZERO THE ANIMATIONSpirit of Wonder: Scientific Boys ClubSky Blue Utilityスナックバス江Love Jeans, Love Kayumi, Love KeitaiShin Koihime Musou: Otome Ryouran Sangokushi Engi - Live RevolutionZaidanhoujin Occult Designer Gakuin Specials, Seikimatsu Occult Academy SpecialsHela superdziewczynaSacks&Guns!!, Sakugan Labyrinth Marker, Project ANIMA, 削岩ラビリンスマーカーりぜるまいんファンタシースターオンライン2 エピソード・オラクルペルソナ 〜トリニティ・ソウル〜Persona 4 The Golden Animation: Another EndOne Piece Special, One Piece RecapNIGHT HEAD 2041你在星光深处Tsubomi\\'s SecretsMetal Fightersメルクストーリア -無気力少年と瓶の中の少女-女神寮の寮母くん。Massugu ni Ikou. (2004), Go forward, Let\\'s Go Straight Ahead!, Let\\'s Walk StraightKyousougiga (TV) Recaps, Kyousou Giga (TV) SpecialsKUROMI’S PRETTY JOURNEYKobo, the Li\\'l RascalKinnikuman: New York Close Call!Kidou Senshi Gundam NarrativeI Was Reborn as a Vending Machine, Wandering in the Dungeon, I Reincarnated Into a Vending Machine, OrejihankiItsuTen伊藤潤二「コレクション」犬神さんと猫山さんIGPX: Immortal Grand PrixID-0Phoenix Wright: Ace AttorneyGundam Build Fighters: SD Kishi Fighters, Gundam Build Fighters: 6 Years LaterGalaxy Express 999: Glass no Clair, Ginga Tetsudo 999: Glass no Clair風夏φなる・あぷろーちアサルトリリィ Bouquet想いのかけらモルダイバーミス・モノクローム -The Animation- 2名探偵コナン～星影の魔術師～Kochikame Special 23: Seton Tankentai! Sumidagawa no Chikai - Omoide no Shiroi Kujira wo Sagase!Kinnikuman 2nd Generation, Kinnikuman Nisei: Second GenerationsKinnikuman (1984), Kinnikuman: Stolen Championship Belt, Kinnikuman: Ubawareta Championship Belt機動戦士ガンダムAGE血液型くん！Would you love a pervert as long as she\\'s cute?Kanokon R Specials, Kanokon OVA SpecialsK (Movie) Manner Movie, K-Project Movie Manner Movie, K-Project Sequel Manner MovieJoshi Kousei: Girl\\'s High SpecialsJe t\\'aimeHang On! Climbing GirlsHigh School! Funny-face Club MovieWeird VolunteersHentai Seiri Seminar, Hen Semi, Abnormal Physiology Seminar, Hen Zemi OVAはれときどきぶたGyoten Ningen Batsealer, Gyoten Ningen Batseelor, Gyouten Ningen Batseelor, Gyoten Ningen Batoshiiraaゲゲゲの鬼太郎 最強妖怪軍団！日本陸!!Dragon Quest: Dai no Daiboken Tachiagare! Aban no Shito, Stand up!! Disciples of AvanDD北斗の拳The Great RulerComic Party: Revolution, Comic Party Revolution TV, Comic Party Revolution (2005)BusGamerBreak Blade Special, Broken Blade Virgins WarLotte no Omocha!Amon: The Apocalypse of DevilmanJoou-heika no Petit AngieSega Hard Girls, Hi-sCool! Seha GirlsMobile Suit Gundam EvolveGen\\'ei wo Kakeru Taiyou, Il Sole Penetra le Illusioni, The Sun Penetrates the Illusions学校の怪談Winter Sonata Episode 0, Fuyu no Sonata Episode 0, Winter Love Story Episode 0Fushigi no Umi no Nadia SpecialsFLCL 3, Fooly Cooly Alternative, Furi Kuri Alternative风起洛阳之神机少年エスタブライフ グレイトエスケープSilverman-Gym Devilish Training Course, Dumbbell Nan Kilo Moteru? SpecialsDragonball GT, DBGTDokokade Nakushita Aitsuno Aitsu (1995)だんちがいダメプリ ANIME CARAVANCluster Edge (OVA), Cluster Edge: Secret Episodeばくおん!!AKIBA\\'S TRIP THE ANIMATIONTales of Windaria, Windaria: Legend of Fabulous Battle, Douwa Meita Senshi WindariaW.A.Umimonogatari Anata ga Itekuretakoto OVA, Umi Monogatari: Anata ga Ite Kureta Koto OVA, Believing Hearts, Umi Monogatari Episode 13UFO Robo Grandizer vs. Great MazingerTistou of the Green Fingers, Tistou of the Green ThumbsMariWaka探偵オペラ ミルキィホームズ AlternativeTreasure Island MemorialHols: Prince of the Sun, The Little Norse Prince, Little Norse Prince ValiantStarship Troopers: Kasei no UragirimonoSohryuuden: Legend of the Four Kings, SohryudenTime and SpaceSenran Kagura Estival Versus: Festival Eve Full of Swimsuitsせいぜいがんばれ！魔法少女くるみPocket Monsters: Senritsu no Mirage PokemonPocket Monsters: Pikachu no Dokidoki KakurenboPokemon: Pichu Bros. Wild Adventure, Pocket Monsters: Boku-tachi Pichu Brothers - Party wa Oosawagi! no MakiPocket Monsters Advanced Generation - S3 Pokémon Mystery Dungeon: Team Go-Getters Out of the Gate!Mr. Osomatsu: The Hipipo Tribe and the Glistening Fruit鬼神伝想い雲Nyoron Churuya-san, Nyoron! Churuya-San, Nyoroon Churuya-sanAnimal Girls Hot Water ReportMiss Morita is Taciturn (TV)魔法の天使クリィミーマミ\\u3000ロング・グッドバイMagical Angel Creamy Mami OVA, Magical Angel Creamy Mami: Forever Once MoreLove Get Chu - Miracle Seiyuu Hakusho, Rabugetsu Chuレディレディ!! (1988)Ghost in the Shell: Arise - Another MissionKomaneko: the Stop-motion Movie, Komadori Eiga: Komaneko恋と嘘Kochira Katsushikaku Kameari Kouenmae Hashutsujo Special 27, Kochira Katsushika-ku Kamearikouen-mae Hashutsujo, Kochikame, This is the Police Station in Front of Kameari Park in Katsushika WardGoldfish Warning! The MovieShadow Skill 1, Shadow Skill: Epilogue世界の終わりに柴犬とSakura Wars: School of Paris, Sakura Wars: Ecole de Paris, Sakura Wars OVA 3Cojicoji, Koji-koji, Sakura Momoko Theatre: Kojikoji뿌까(2018년)プリティーリズム・オールスターセレクションぽんのみちPocket Monsters: Pikapika Hoshizora CampPocket Monsters: Pikachu no Fuyuyasumi, Let\\'s Play on Christmas!, Christmas Night, Let\\'s Play in the Snow!, Kanga GamesSupreme Sword GodAce CensorateThe Legendary Monster EmperorToshi Gordian, Champion of Gordian, Gardian, Champion Gordian, Fighter GordianHamtaro, HamutarouLet\\'s go! Anpanman: Shine! Kurun and the Star of Life, Sore Ike! Anpanman Movie 30Showa Monogatari囀る動物はやるしかない！Rozen Maiden: Detective Kun-Kun, Rozen Maiden: S1 Detective Kunkun - Duell Walzerクオリディア・コードOne Piece: Banpresto\\'s \"Cry Heart\" Short, Fuyujima ni Furu Sakura, Children\\'s Dream, Ace no SaigoMouse Story: The Adventures of George and Gerald七つの大罪 神々の逆鱗むぎゅっと！ブラッククローバーMiracle☆Train: Ooedo-sen e YoukosoLoveless: Ohayou Loveless-kunLast Exile: Ginyoku no Fam Episode 9.5 and Episode 15.5, Last Exile: Ginyoku no Fam RecapsKoi to Uso OVA, Love and Lies OVAKinnikuman: Justice Superman vs. Soldier SupermanScience Ninja Team Gatchaman II, Kagaku Ninjatai Gatchaman IIAnime Sekai no Douwa Series, Merhen Okoku, Meruhen Ookoku, Animated Children\\'s Stories of the World, Sekai Meisaku Douwa Series: Wow! Marchen Oukoku상실의 집RGZRo-Kyu-Bu! SS 6.5, Ro-Kyu-Bu! SS Episode 6.5, Ro-Kyu-Bu! SS SpecialレポーターブルースQin\\'s Moon Special: Birdsong in Hollow ValleyGekijouban Pocket Monsters Best Wishes 2: Kyurem vs. Seikenshi, Pocket Monsters Best Wishes! 2 the Movie: Kyurem vs. Seikenshi, Pokemon Best Wishes!: Kyurem vs. the Sacred Swordsman Keldeo, Pokemon Best Wishes! Season 2: Kyurem vs. Seikenshiファントム THE ANIMATIONOre no Imouto ga Konnani Kawaii Wake ga Nai. Short Anime Specials, OreImo Season 2 Short Anime SpecialsMyriad Colors Phantom World: Limitless Phantom World, Musaigen no Phantom World Picture Drama SpecialsMirai Nikki: Ura Mirai Nikki, Mirai Nikki Specials, Mirai Nikki (2011) SpecialsRupan Sansei: Babylon no Ougon DensetsuWhat If the Ultimately Evolved Full Dive RPG was a Crappier Game than RealityKyoshiro to Towa no Sora Specials, Kyoshiro and the Eternal Sky Specials, Shattered Angels SpecialsThe Lord of Rogue DevilKING OF PRISM -Shiny Seven Stars-Armored Police Metal JackThe Clockwork Onesからくり剣豪伝ムサシロード神在月のこどもMasked Rider Den-O: Imagin AnimeIdol Master Xenoglossia, Idolmaster Xenoglossiaひまわりっ！！Grenadier: The Beautiful Warrior Specials, Grenadier: The Smiling Senshi SpecialsGokinjyo Monogatari (1996)ジオブリーダーズ\\u3000File-X\\u3000ちびねこ奪還Original Genius Bakabon, Original Bakabon the Genius Fool, The Genius BakabonNeo Getter Robo vs. Shin Getter Robo Specials, Shin Getter Robo Tai Neo Getter Robo Specials, True Getter Robo vs. Neo Getter Robo Specials, Dynamic Super Robots Grand BattleDanMachi II OVADororon Enma-kun Me-ra Mera, Dororon Enma-kun MerameraDonguri House, Home of Acornsクロスファイト ビーダマン eSコッペリオンブレイブビーツAnime x ParasportYuuki Yuuna is a Hero Club Member, Washio Sumi wa Yuusha de AruI Picked Up An Attribute, Attribute CollectionThe iDOLM@STER SideM Special, The Idolmaster Side M SpecialThe Idolmaster Cinderella Girls Episode 7.5Street Fighter Zero 2Shukufuku no Campanella Episode 13, La Campanella Della Benedizione OVA, The Blessing of La Campanella OVASHOW BY ROCK!! しょ～と!!Girls\\' Weekend ClassShining Tears Ex, Shining Tears Cross WindZillions of Enemy X IgnitionSamurai Troopers OVA 2Looking for a HomeUltra B: Dictator B.B. from the Black Hole∀ Gundam I: Earth LightTime Fighters in the Land of FantasyYou\\'re Under Arrest in America, Taiho Shichauzo in America, Taiho Shichau zo: No Mercy!!高校星歌劇[スタミュ] 第3期 特別編 アンコールShonen Hollywood 2Hakugin no Ishi: Argevollen, Silver Will ArgevollenMagic IdolBattle Spirits Season 7PazuDora CrossプロジェクトA子2 大徳寺財閥の陰謀Patalliro Saiyuki!Eto Tamashii Specialsスケットダンス SDキャラフラッシュアニメYume da Maya Kidan, Yumedamaya: The Strange Tale of the Dreamball Dealer, The Strange Story of a Dream Sphere Dealer, The Strange Tale of a Dream Sphere Dealer妖怪ウォッチ!Yakitori: Soldiers of MisfortuneVatican Kiseki Chousakan Specialうぽって!!T7Sトゥハート ~remember my memories~Tantei Opera Milky Holmes TDSpy x Family Movie: Code: White Eizou Manner Kouza, Spy x Family Movie: Code: White Movie Etiquette CourseSore Ike! Anpanman: Kirakiraboshi no Namidaスローステップスケートリーディング☆スターズSigururiParallel World SamuraiThe Three-Body ProblemRockman OVARAGNARÖK THE ANIMATIONOzanari DungeonShomin Sample Specials音響生命体ノイズマンOneechan ga Kita Special, Onee-chan ga Kita Episode 13, My Sister Came Special日本沈没2020虫籠のカガステル百千さん家のあやかし王子もえたんMIDNIGHT EYE\\u3000ゴクウChappy, Chappy the Magic User今日、恋をはじめますこねこのチー ポンポンらー大旅行Zenki: Anki KitanBeast Rotation Battle Monsuno, Monsuno: Combat Chaos.Hallelujah BoyHangyakusei Million Arthur Special, Operation Han-Gyaku-Sei Million Arthur SpecialGalactic Drifter Vifam: Memory of Ms. Kate, Round Vernian Vifam: Memory of Ms. KateGekiganger 3: Nekketsu Daikessen, Nadesico OVAGal and Dinosaur, My Roomie Is a Dino, Gyaru to Kyouryuu震えちゃう❤フリージング ヴァイブレーションOVAエクセプションDigimon Adventure (2020), Digimon Adventure RebootDiwang Gonglue伝心\\u3000まもって守護月天！デスマーチからはじまる異世界狂想曲Kamen Rider Den-O 26.5, Den-O vs Shin-O, Shin-Chan vs Den-O, Kamen Rider Den-O vs Crayon Shin-Chin, Crayon Shin-chan Midsummer Night: I Have Arrived! The Storm is Called Den-O vs. Shin-O 60 Minute Special!!, Crayon Shin-chan and Kamen Rider: Den-O vs. Shiクレヨンしんちゃん外伝\\u3000お・お・お・のしんのすけComputer Revolution: The Birth of the Most Powerful and Fastest Brainsコードギアス 反逆のルルーシュ ナナリーinワンダーランドコードギアス 亡国のアキト 第5章 映像特典 「劇場予告」クロックワーク・プラネットTetsujin 28-go FX, Super Electric Robot Iron Man #28 FXちえりとチェリーBrothers Conflict Special, BroCon Special, BroCon Episode 12.5, Brothers Conflict Episode 12.5ぼくの地球を守って \\t～金色の時 流されて～Battle Athletes OVA爆丸バトルブローラーズAstro Boy: Mighty Atom - Visitor of 100,000 Light Years, IGZA, Astro Boy vs IGZAArtiswitch Picture DramaアカシックリコードジャンピングLifeJiku Tantei Genshi-kun, Flint HammerheadHuckleberry Finn StoryHitori Kurashi no Shougakusei, Grade Schooler Living AloneHajimete no Gyaru, Hajimete no Gal OVA, Hajimete no Gal Episode 11ガンダムビルドダイバーズ プロローグGalaxy Express 999 for PlanetariumBoy\\'s Love ScrambleFushigiboshi no☆Futagohime Gyu! Special: Gururi☆Fushigiboshi Meguri, The Twin Princesses of the Mysterious Star Gyu!: A Tour of the Mysterious Star『デジモンサヴァイブ』プロローグムービーPPGZChou Soku Henkei Gyrozetter, Hyper Speed Transforming GyrozetterBalatack, Baratak, Superman Task Force Baratack, Chojin Sentai Baratack, Superhuman Combat Team Baratack, Choujin Sentai Barattack地球が動いた日Cheat Pharmacist\\'s Slow Life: Making a Drugstore in Another WorldBlack Jack: Internet-han美男高校地球防衛部HAPPY KISS!ビッグXベイベーばあちゃんFree Kick Toward TomorrowArrow Emblem: Hawk of the Grand PrixBuck, Call of the Wild: Howl, Buck,Kouya no Yobigoe: Hoero BuckRedbreast Suzunosukeワールドウィッチーズ発進しますっ！Hoshi of Girls\\' Garden, Hoshi of the Garden of Girls, The Star of Girls\\' GardenドッグデイズCorpse Party: Tortured Souls - Bougyakusareta Tamashii no Jukyouチェブラーシカ あれれ？べあべあべあくまーぱーんち！！大運動会編アラタカンガタリ～革神語～雨宮さんオルタード・カーボン: リスリーブドAishen Qiaokeli-ing Recap009 RE:CYBORGZhen Dao Ge: Qian li bu Liu Xing, 枕刀歌: 千里不留行Yugioh, Yuu Gi Ou! Zexal, Yu-Gi-Oh! Zeal, Yu-Gi-Oh! ZexalUmeboshi-denka天才王子の赤字国家再生術 ショートドラマ新幹線変形ロボ シンカリオンZ THE ANIMATIONSharedol PilotSalad Juyushi TomatomanSakura Wars: The New Paris, Sakura Wars OVA 4ライザのアトリエ ~常闇の女王と秘密の隠れ家~Rokudou no Akujo-tachiPsycho Armor Govarian, Psycho Armor Gobarianプリズム・アークWorld of PokemonPocket Monsters: Best Wishes!, Black & White, BW: Rival DestiniesPingu in the City 2nd SeasonP5A, Persona 5 the AnimeOre, Twin tails ni Narimasu.As Long as There\\'s Love, It Doesn\\'t Matter If He Is My Brother, Right?鬼平~その男, 長谷川平蔵~Prinz Arthus, King Arthur: Prince on White HorseMISSION-E猫之茗Lovely Muco!紅三四郎喧嘩番長 乙女 -GIRL BEATS BOYS-New Cooking Master BoyPocket Monsters: Odoru Pokemon Himitsu KichiPikachu Short 23, Pocket Monsters: Meloetta\\'s Sparkling Recital, Pokemon: Meloetta\\'s Glittery RecitalPocket Monsters: Best Wishes! 2, Black & White 2Pocket Monsters Planetarium: The Message from the Aurora, Pokemon (2019): PlanetariumペットNurarihyon no Mago: Gekitou Dai Futtosaru Taikai! Nuragumi W Cup!!, Nurarihyon no Mago: Jump Festa 2010 SpecialNiNoKuniCat Soup TheaterHourglass of Summer Colours, Natsuiro no SunadokeiMisutenaide DaisyMiru Tights Special劇場版 明治東亰恋伽 〜花鏡の幻想曲〜Mashiro-iro Symphony: The Color of Lovers Special, Mashiro-iro Symphony: Love Is Pure White Picture Drama, Mashiro-iro Symphony: The Color of Lovers Picture Drama, Pure White Symphony Picture Drama微睡みのヴェヴァラルパン三世 イタリアン・ゲームKuiba, Kuiba: The UrgentYoung Kiitarou and His Youkai Picture DiaryKampfer: Fur die Liebe, Kämpfer episode 13, Kämpfer episode 14Kaijuu Girls BlackIn Another World With My Smartphone 2nd Season, In a Different World with a Smartphone.インコカラーズ The animationJBHLグレンダイザー・ゲッターロボＧ・グレートマジンガー 決戦！大海獣GOD EATER 3みさきクロニクル 〜ダイバージェンス・イヴ〜シトラスThe iDOLM@STER Cinderella Girls Gekijou: Kayou Cinderella Theater, The Idolmaster Cinderella Girls Gekijou: Kayou Cinderella Theater, THE IDOLM@STER CINDERELLA GIRLS Theater: Tuesday Cinderella Theater, Cingeki (Web)Triangle SessionBomberman Bedaman Bakuretsu Gaiden V, Bomber Man & Bidaman Bakugaiden V, B Bidaman Bakugaiden V, B-Daman Bakugaiden VictoryBinzume Yousei: Bottle FairyGanso Bakuretsu HuntersBakukyu Renpatsu!! Super Bedaman, Bakukyuu Renpatsu!! Super B-Daman, Blast Ball Rapid Fire!! Super B-Daman白鸟谷あやかしトライアングルAYAKA ‐あやか‐Amaenaideyo!!Demon Beast City, Supernatural Beast City, Yoju ToshiModern Magic for Dummies, Properly Learned Modern Magic, Manageable Modern Magic, Modern Magic Made Simple武映三千道Wo de Tian Jie Nuyou, Wo de Tian Jie Nu youビビッドレッド・オペレーションSea of Triton宇宙戦士 バルディオスTokyo Kushu:re, Toukyou Kuushu:reザ・ワールド・オブ・ゴールデン・エッグスTekken: BloodlineTamako Market: Dera\\'s BAR, Tamako Market: Oh Choco Choi-chanDare ga Tame no Alchemistすーぱーふらっと・ものぐらむKinnikuman: Showdown! The Seven Justice Supermen vs. The Space SamuraisTawawa on MondayGegege no Kitaro: Obake NighterDigimon Cross Wars, Digimon Xros Wars: Toki wo Kakeru Shounen Huntertachi, Digimon Xros Wars: The Hunting Boys Running Through Time, Digimon Xros Wars: The Young Hunters Who Leapt Through TimeCutey HoneyChouja Reideen, Choja Raideen, Reideen the SuperiorTransformers: Beast Wars NeoAI Football GGOBlack Clover: JSAF2018 Special Anime - All Mahou Kishi KanshasaiAnemoneKouryaku Wanted!: Isekai Sukuimasu!?, 攻略うぉんてっど！～異世界救います!?～バチカン奇跡調査官Toradora! SOS! Hooray for FoodiesLast Miracle 20th Century, Tezuka Osamu\\'s Strangest Case in the 20th CenturyHeaven Wars Shurato OVA, Tenku Senki Shurato: Sosei he no AntoTactical Rawrスーパーヅガンスケバン刑事Go! Anpanman: Nanda and Runda of the Toy StarDream UsersAncient Books of YsYosei Florence, Fairy FlorenceThe Nighthawk\\'s StarわたしのトーチカUmayon New Short AnimeTSUKIPRO THE ANIMATION 2Memoru in the Pointed Hat: Marielle\\'s Jewelbox, Tongari Boushi no Memoru: Marielle no Housekibako, Wee WendyDolbuk, DolbuckThe Missing 8Terra he... (Movie)たくのみ。Sensou Douwa 2, A Mother Who Became a KiteSP, sispri神级龙卫閃乱カグラLittle Nellサクラ大戦 活動写真Put it all in the RingR-15Project A-Ko: Kanketsuron, Project A-Ko: Love and RobotsPocket Monsters: Pikachu no Fuyuyasumi (2000), Let\\'s Play on the Ice!, Winter Games, Stantler\\'s Little Helpersファントム イン ザ トワイライトBewitched Agnes, Bewitched BridePrince Nezha\\'s Triumph Against Dragon King, Nazha Naohai, Nezha no Ooabareみるタイツ未来少年コナンII\\u3000タイガアドベンチャールガーコード 1951Age of League, Lu\\'s TimeTroublesome Old Man, Komatta Jii-sanキラキラきらり☆かいけつゾロリだ・だ・だ・だいぼうけん!Jinrui wa Suitai Shimashita Recap, Jintai Recap, Humanity Has Declined Recap, Humanity Has Declined: Human\\'s Fairy Memo, Humanity Has Declined: The Human\\'s Fairy NotesDogtato-kunInfini-T Force (インフィニティ フォース)Calabash Brothers, Bottle Gourd Brothers, Hulu Brothers, Seven Brothers, Hyoutan Douji働くお兄さん！の2！Happy CloverGo Wapper 5 Go Dam, Gowappa 5 GodamMeine Liebe, My LoveGifuu Doudou!! Naoe Kanetsugu Maeda Keiji Sakegatari, Kanetsugu & KeijiがんばれゴエモンGanbare Douki-chan Episode 13, Ganbare Douki-chan SpecialGalilei Donna: the story of three sisters in the search of a mystery学校のｺﾜｲうわさ 新・花子さんがきた!!Alice\\'s Adventures In WonderlandDragon\\'s House-Hunting, DoraIeDr.SLUMP “ほよよ!”宇宙大冒険Danchigai SpecialCryingフリーマンクラシカロイドCentaur\\'s WorriesCannon BustersBurn Up! WarriorBAD BOYSあかねさす少女Red Threadアブソリュート・デュオA Hot Springs Trip with Nekoyama-sanHitomi no Naka no Shounen: 15 Shounen HyouryuukiGODZILLA -怪獣惑星-Let\\'s Go QuintupletsGinga Kikoutai Majestic Prince Episode 25, Ginga Kikoutai Majestic Prince SpecialGenshi Shonen RyuKagaku Ninja-Tai Gatchaman 1994ガッ活!双恋Fate/Apocrypha Recap, Fate/Apocrypha Episode 12.5, Fate/Apocrypha Episode 19.5エスカ&ロジーのアトリエ ～黄昏の空の錬金術士～英雄伝説 空の軌跡 THE ANIMATIONDREAM HUNTER 麗夢Dragon Ball Z: Atsumare! Goku\\'s World, Dragon Ball Z OVADoraemon: What Am I for MomotarouDog Days 3 Specialトランスフォーマー ザ☆ヘッドマスターズMinky Momo: Tabidachi no Eki, The Station of Your Memories, Station of Embarkation, Minky Momo OVA3Mahou Tsukai Reimeiki魔法のスターマジカルエミ 雲光るChrome Shelled Regios: Legend of Regios, Koukaku no Regios: Legend of RegiosKyoshiro to Towa no Sora, Kyoshiro and the Eternal SkyThe Instructor of Aerial Combat Wizard Candidates OVAKodai Oja Kyoryu King D-Kids Adventure, Ancient Ruler Dinosaur KingDairugger XV, Armored Fleet/Armada Dairugger XV, Vehicle Force Voltron, Dairugger 15, Voltron of The Near Universe映画 かみさまみならい ヒミツのここたま 奇跡をおこせ♪テップルとドキドキここたま界映画 かいけつゾロリ まもるぜ! きょうりゅうのたまご銀河鉄道999 赤い星ベテルギウス ～いのちの輝き～Galaxy Fraulein Yuna OVA 2: Shinen no FairyThe Tale of Genji, Murasaki Shikibu\\'s Tale of GenjiGAMERA -Rebirth-ガルフォースSchool of Monsters! Wolf Girl Won\\'t Give UpFREEDOM previsitedエデンDrifters: The Black King ShowClassroom☆Crisis Special, Classroom Crisis Episode 5.5Build Divide: #000000ブルー・ドラゴンBeast Wars II Chou Seimeitai Transformers, Super Robot Life Form Transformers: Beast Wars Secondバルドフォース\\u3000エグゼ\\u3000レソリューション爆走兄弟レッツ&ゴー!! WGP 暴走ミニ四駆大追跡!Baby Princess 2D Paradise LoveB-Legend! Battle Bedaman: Fire Spirits, Bedaman: Fire SpiritsLittle Asari, Super Gal AsariRain BoyHello Hedgehog: Domain of MurderIn a Distant Time OVA 2, Haruka Naru Toki no Naka de 2: Shiroki Ryuu no MikoGa-Ra-Ku-Ta: Mr. Stain on Junk Alley, Garakuta-dori no SuteinRumic World 1エクスドライバー Nina&Rei Danger ZoneComic Party OVACODE-EThe Daichis: Earth Defence Family Special, Chikyu Boei Kazoku, Chikyu Boei Kazoku alternative ep 11, Chikyu Boei Kazoku ep 11.5キャプテン・アースボーイズ・ビーBlue Seed 2: Operation Mitama, Blue Seed OVA悪魔島のプリンス 三つ目がとおる劇場版アイカツプラネット！Yuru Yuri SpecialLaughing Salesman Specials, Smiling Salesman SpecialsワンサくんBird\\'s PoemCalendar Man, Calendarman高宮なすのです！〜てーきゅうスピンオフ〜The other world doesn\\'t stand a chance against the power of instant deathPhantasy Star Online 2 ComicOre-tachi ni Tsubasa wa Nai OVA, Oretachi ni Tsubasa wa Nai OVAOre no Imouto ga Konnani Kawaii Wake ga Nai. Gal Game Animationわんおふ -one off-蓝漠的花L/R -Licensed by Royal-Konjiki no Gash Bell!!: 00F - The Man With the Golden Tits, Zatch Bell!: 00F - The Man With the Golden TitsKochikame Special 25: Washi to Ore!? - Bokura wa Asakusa Shounen Tanteidan!To the Abandoned Sacred BeastsSeikoku no RyuukishiWandering Sun, Nathalie Sasurai no Taiyo六花の勇者\\u3000ピクチャードラマPuripuri Chii-chan!!, Puri PuriPa-Pa-Pa the ★ Movie: PaamanMiss Morita is Taciturn (TV) SpecialsMashin Eiyuuden Wataru: The Never-Ending Tale of TimeMako the MermaidメーテルレジェンドＬＩＮＥ ＯＦＦＬＩＮＥ サラリーマンKuiba 2: Battle of Yuan Yang WorldKochikame Special 24: Ryou-san no Sushi Kui Nee! - Choujou Maguro Taiketsu!!Kori no KoeKinnikuman: Hour-of-Triumph! Justice Superman, Hour of Triumph! Seigi ChojinKiniro no Chord Blue♪Sky, La Corda D\\'Oro Blue♪Sky, Kin-iro no Corda 3, Kin\\'iro no Chord 3KICK-HEARTKara no Kyoukai Specials, Kara no Kyoukai: The Garden of Sinners Specials仮面ライダーゼロワン ショートアニメ EVERYONE’S DAILY LIFE影鰐-KAGEWANI-承Jigoku Shoujo Episode 14.5, Hell Girl Recap极道龙神平成イヌ物語バウHappy 7薄桜鬼 真改 風ノ章 - 限定版Gravity RushGolden Kamuy Short Anime: Golden Douga GekijouAkane-iro ni Somaru Saka OVA, Akaneiro ni Somaru Saka OVA, Akasaka OVALadies vs. Butlers!, Redei x Bato家族のはなしかのこん影鰐-KAGEWANI-K-On! Specials, Uraon!, Keion SpecialsFriagne and Marianne\\'s Why What Shana! Ask Anything Question BoxSakura Wars: Sumire Kanzaki Retirement Show - Su Mi Re, Sakura Wars: SumirePrincess Princess OmakeピカチュウのわんぱくアイランドPanty & Stocking with Garterbelt Special, Panty and Stocking with Garterbelt In Sanitary Boxおじゃる丸Obake no Q-Taro (1965), Q-Taro the Ghost名探偵コナン インターネット謎のメール事件名探偵コナン  シークレット安室コールGo forward, Let\\'s Go Straight Ahead!, Let\\'s Walk StraightTenchi Muyo: Magical Girl Pretty SamySpiritual Domain, Spiritual Field, Spirit Realm, The World of Fantasy国松さまのお通りだいKinnikuman: Justice Superman vs. Ancient Superman機動戦士ガンダム 光る命 Chronicle U.C.Ketsuekigata-kun! Second SeasonHeavy Metal L-Gaim OVA, Heavy Metal L-Gaim III: Full Metal SoldierインタールードDes dizaines de NordsIkki-Tosen: Legendary Fighter, Battle Vixensひめゆり走り続けてよかったって。Cinderella Nine Special, Hachigatsu no Cinderella Nine Episode 13グラゼニI Like How You Hate Me but Can\\'t Get Rid of Me, Jiu Xihuan Ni Kanbuguan Wo You Gan Bu Diao Wo De YangziCrush Gear Turbo The MovieGanbare! Kickers ep 24, Ganbare! Kickers ep 26, Ganbare! Kickers ep 25, Die Kickersフューチャーカード 神バディファイトTo Shoot Without Shooting, Archer without a Bow, Bu She Zhi SheBattle Fighters Garou DensetsuEto Tamashii 2, Etotama: Eto Tamashii - Nyan Kyaku BanraiAlchemy Master, Grandmaster Of AlchemyCyborg 009: The Cyborg Soldier Finale, Cyborg 009: The Cyborg Soldier ep 51Choujin Locke: Majo no Millennium, Space WarriorsChironuppu no KitsuneBlue Seed Ver. 1.5 [Premium]Black Magic M66, Black Magic Mario 66バトルスピリッツ 赫盟のガレットAkasaka, The Hill Dyed Rose Madder, Akane-Iro ni Somaru SakaIchi Pound no Fukuinゾイド・フューザーズZettai Karen Children Recap, ZKC, Zettai Karen Children Episode 39.5, Zettai Karen Children Special妖怪ウォッチ♪喜羊羊与灰太狼Vampire Danshiryou, A Vampire Lives in the DormitoryFighting Devil Divinity Oni, The Legend of the Fierce Fighting God OniThe Tale of Osamu Tezuka: I\\'m Son GokuTetsujin 28-go: Hakuchuu no Zangetsu, Tetsujin 28: The Lingering Moon of Midday, Tetsujin #28: The Daytime Moon, Tetsujin28: Morning Moon of Mid-day装甲騎兵ボトムズ Case;IRVINELesbian Citizen Naoko-san, Yurian Naoko-san我靠充值当武帝Wo De Nitian ShenqiWei Qi Shao Nian, Go PlayerBoy\\'s Detective Team殿といっしょ 眼帯の野望A Certain Middle-Aged Man\\'s VRMMO Activity Logテンカイナイト手品先輩TanmoshiSpy RoomChina-san no Yutsu ~ The Spirit of Wonder, Spirit of Wonder: Miss China\\'s Ring, Spirit of Wonder: Miss China\\'s Melancholyそれいけ! アンパンマン ルビーの願いChief Soul Manipulator, Chief Soul MasterWhite Fang StoryRecently, My Little Sister is Unusual OVA, ImoCho, ImoCyoRoku Shin Gattai God Mars, Hexademonic Symbiote Godmars, Six God Union Godmarz, Six Gods Unit, Six God Combination Godmars人间最得意RAIL WARS! [レールウォーズ]Phantasy Star Online 2 Comic: OkawariPocket Monsters: Pikachu no Fuyuyasumi (2001), Delibird\\'s Present, Delibird\\'s Dilemma, White Story, Snorlax Snowman, We are the Pichu Brothers - Balloon Disturbance, Trouble in Big TownGolden Warrior Gold LightanNurse Witch Komugi-chan Episode 2.5, Return to Subject Special - Premonition of a Returning Festival! Heave Ho!ぬるぺたKokoro wo Chikara ni, Owaranai Chikyuu, Shinzo, Shizo Recap, Mushrambo (OVA), Mushrambo RecapsMonster Strike Winter Specialモンスターストライクあした世界が終わるとしてもTales of ExorcismControl Bear [WONDER GARDEN] Short Animation FilmHamtaro OVA 2, Tottoko Hamutarou: Hamuchanzu no Takara Sagashi Daisaku Hamuha! Sutekina Umi NonatsuyasumiUtawarerumono: The Story So Far, Utawarerumono SpecialsTekkaman Blade 2, Space Knight Tekkaman Blade 2, Space Knight Tekkaman Blade OVA, Uchu no Kishi Tekkaman Blade OVA私立荒磯高等学校生徒会執行部プロジェクトA子3 シンデレララプソディPokémon Ranger: Tracks of Light, Pokémon Ranger: Locus of Light, Pokémon Ranger: Path of LightPokemon Advanced Generation Planetarium: Challenge from the SkyオチビサンNozomi x Kimio, Nozomi to Kimio, Nozomi and Kimio, NozoKimiEiga Nintama RantarouMori no Densetsu PART-1, Legend of the Forest PART-1Monster Strike 3, MonSt Anime: The Fading Cosmos, Monsuto AnimeKaiketsu Zorori (Movie)Machine Robo: Revenge of Chronosラブライブ！紅白スペシャルアニメAtashi Dake wo Miteラストピリオド -終わりなき螺旋の物語-Summer With KuroThis Healer\\'s a Handful動戦士ガンダムUC: ONE OF SEVENTY TWOKampfer, KaempferGaworare冰剣の魔術師が世界を統べるHikaru no Go: Digest火狩りの王Tobacco Ippon no Story: Heart CocktailHacker Doll The Animation踏切時間エスカクロンEatmanMock and SweetLittle Battlers eXperience Wars SpecialDefenders of The VortexSuper Human High Schoolers Are in Another World, But Seem to be Living in Comfort!不灭神王Black Jack: Tezuka World MovieNuku Nuku Special, Nuku Nuku hourou!? Akemashite Suteraremashita, Nuku Nuku Abandoned? Happy New Year, I\\'ve Been Thrown Out, Nuku Nuku Special, Koisuru Nuku Nuku! Valentine wa dare n tame n, Nuku Nuku Falls in Love! Who\\'s the Valentine for?あした元気にな～れ!～半分のさつまいも～Ode to Judo, Juudou SankaJoJo\\'s Bizarre Adventure: The Real 4-DI\\'\\'s OVA Bonus, I\\'\\'s Pure Bonusハイスピード・ジェシー働くお兄さん!Earl and Fairy DVD ExtraGIRLSブラボー first seasonフレームアームズ・ガールWind and Cloud DuelFASTENING DAYSEikyuu Shounen Next StageCerebrumデトネイター・オーガンTHE IDOLM@STER CINDERELLA GIRLS Theater: Tuesday Cinderella Theater 3rd Season, Idolmaster Cinderella Girls Theater: Tuesday Cinderella Theater 3rd Season, Cingeki (Web) 3nd SeasonImmortals of the Godless, Chun Qiu Feng ShenGravionちばペダル ~弱虫ペダルと学ぶ自転車交通安全~Boken Gabotenjima, Bouken Gaboten Shima薔薇王の葬列Attack No.1 Movie 1Gekijouban 3D Atashin\\'chi Jounetsu no Chou Chounouryoku Haha Dai BousouAtama-yamaAssault Lily Mini AnimeSmash凹凸世界アニメガタリズYurumeitsu 3D+, Yurumate3Dei, Yurumates3Dei PlusA Chinese Ghost Story: The Tsui Hark Animation, Little PrettyUmi no Triton (Movie)宇宙戦艦ティラミストムとジェリーストレンジ・ドーンShingeki no Kyojin: Attack on Skytree, Attack on Titan尸兄Seikon no Qwaser OVA, The Qwaser Of Stigmata, Seikon no QuasarサンクチュアリHenbe, Parasol Henbeeお父さんは愛の人NG Knight Ramune & 40 EXミス・モノクローム -The Animation-まんがはじめて面白塾The Legend of Luoxiaohei SpecialsLove Live! Theater Manner Commercial Movieエロマンガ先生Dr. Slump and Arale-chan: The Great Round-the-World RaceどーもくんDirty Pair no Daishoubu: Nolandia no Nazo, WWWA Dirty Pair no Ooshoubu: Nolandia no NazoHello Kitty, Love! Hello Kitty打火机与公主裙D.C.III～ダ・カーポIII～CYBORG009 CALL OF JUSTICE 3Cooking Idol小さな便り、大きな便り。赤焰锦衣卫CJ7 Loves the Earth, Changjiang Qi HaoブレーカーズArgento Soma OVA, Argento Soma Episode 24.5, Argento Soma SpecialCatch up in 10 minutes! Anime \"Attack on Titan\" Season 1-2 DigestZeno: Unlimited Love夢で逢えたらYamishibai: Japanese Ghost Stories Third Season, Theater of Darkness 3rd Season, Japanese Ghost Stories 3五行战神Wo Shi Jiang Xiao Bai Di Er Ji, I\\'m Joybo: Words From My Heart, 我是江小白：有话对你说Venus vs. VirusUma Yon宇宙戦士バルディオスSpace Battleship TiramisuSekai Meisaku Gekijou Kanketsu Ban: Trapp Ikka Monogatari, World Masterpiece Theater Complete Edition: The Trapp Family StoryRolling Star, Dashing Warrior MutekingTokyo Twenty Fourth Ward甜心格格The Song of Tentomushi, Tentou Mushi no Uta太陽の船\\u3000ソルビアンカThanatos Rising, Medusa\\'s Revenge, Palutena\\'s Revolting DinnerRecorder to Randoseru Mi☆ Episode 13Anime Tamago 2020Wakate Animator Ikusei Project, 2014 Young Animator Training Project, Anime Mirai 2014, Oukii Ichinensei to Chiisana NinenseiおんぼろフィルムOira Uchu no TankofuReversal Dimension: The Rise of AINami Hexin 3rd Season, Nami Hexin: HuanghunPilot CandidateGhost in the Shell: Stand Alone Complex - Tachikoma Fan Disc SpecialsWakate Animator Ikusei Project, 2016 Young Animator Training Project, Anime Tamago劇場版 戦国BASARA ４コマ劇場 -Another Last Party-RWBY 氷雪帝国Ji Jia Dashi, 机甲大师Qing Chi Hong Xiao Dou Ba!, Please Eat Little Red Bean!, Little Red Bean\\'s Working Life, 红小豆的工作日常Gekijouban Pocket Monsters Best Wishes 2: Shinsoku no Genosect, ExtremeSpeed Genesect: Mewtwo AwakensPokemon RecapPlanetarium Chibi Maruko-chan, Wish Upon a Starおジャ魔女どれみ お笑い劇場南鎌倉高校女子自転車部Mikan Enikki Episode 31, Mikan Enikki: Mikan no Koutsuu Anzen明治撃剣－1874－ルパン三世 Pilot Filmリリとカエルと(弟)离离枯荣Gekijouban Last Exile: Ginyoku no Fam - Over the Wishesキラ☆キラ 5th Anniversary Live Anime KICK START GENERATIONSaban\\'s Adventures of PinocchioMirage Queen Aime CirqueIselevePainting Rivers and LakesHime-sama Goyojin, Hime-sama Goyoujin, Princess, Be Careful!変好き▽Karura Dance, Hengentai Mayakou Karura Mau! Nara Onryou Emaki, Hengentaimayakou Karuramau! Naraon\\'ryouemakiHarukanaru Toki no Naka de: Character Endings, In a Distant Time: Character Endingsはぴねす！Jinzou Ningen Kikaida vs. InazumanギブリーズLeda the War of the DreamsDICE, DNA Integrated Cybernetic Enterprises, DINOBREAKERCard Ou Mix MasterMy Girlfriend is a Faithful Virgin Bitch, Boku no Kanojo ga Majimesugiru Shojo Bitch na Ken, My Girlfriend is Shobitch OVABattle Spirits: Shonen Toppa Bashin, Battle Spirits Season 1Gonyeoseog Masnagessda 2: Hamkkelaseo Haengboghae, You Are Umasou 2, Tasty 2: Happy Together, 고녀석 맛나겠다2: 함께라서 행복해Catch up in 15 minutes! Anime \"Attack on Titan\" DigestゆるめいつYume de Aetara (1999), Yume de Aetara OAVIjou Seibutsu Kenbunroku, The Record of Unusual Creatures, Fantastic Creatures\\' Travelogue, Abnormal Creature Memoirsやさしいマーチ-The Tender March-Futari HFate/Grand Order -MOONLIGHT/LOSTROOM-どうぶつ宝島Upchuck Bazooka, DiGi Charat Special: A Rocket from the Mouth, Di Gi Charat Special: A Rocket from the MouthCowboy Bebop Special, Ein\\'s Summer HolidayTHE IDOLM@STER CINDERELLA GIRLS Theater 2nd Season Specialsキャシャーンキャプテン翼の交通安全Beyond CreationBabil JuniorThe Story of the Blue-Eyed Girl, Sensou Douwa 7Anpanman to Hajimeyou! Iro, Kazu, Katachi - Wakaru ka na Iro, KatachiAMNESIAAmanchu! Specials, Upyo Upyo! Dive Tsukkome! Umi no Sekai!Ajimu: Beach StoryAiry MeActive Raid: Special Public Security Fifth Division Third Mobile Assault Eighth Unit 2ndKing of Warrior: Jufeng Zhan HunRyofuko-chanYamishibai: Japanese Ghost Stories Fifth Season, Theater of Darkness 5th Season, Japanese Ghost Stories 5Little Door Gods, Door GuardiansエックスメントリアージX2001 Ya Monogatari, Tooo, To - A Space Fantasy, T.O. 2001 Nights, Elliptical Orbit, Symbiotic PlanetTensei Kenjya no Isekai LifeTe-kyu 4 specialsTayutama SpecialsToushou!! RamenmanSore Ike! Anpanman: Yuureisen o yattsukero!!, Soreike! Anpanman: Let\\'s Defeat the Haunted Ship!絶滅危愚少女 Amazing Twinsゼノサーガ THE ANIMATIONThe Wicked Prince\\'s Hunt of the Big SnakeTelevi Yarou Nanana, TV Yarou Nana-naThe SoulTaker～魂狩～Last Dungeon Boonies KidスーパーストリートファイターIVSister Princess Repure昭和アホ草紙あかぬけ一番！The girls who aim for the wildlands OVA, Shoujo-tachi wa Kouya wo Mezasu OVANew Spirit Hero Wataru, True Spirit Hero WataruExtra Special New Year\\'s Question? 7 x 7 = 49 Nanas?, Nana 7 of 7: Oshougatsu da yo! 7 x 7 = 49-nin no Nana?シャコタン★ブギ聖痕のクェイサーRobot Girls Z+陸上防衛隊まおちゃんPikachu, What Kind of Key is This?, Pikachu, Kore Nanno Kagi?Pokemon Diamond & Pearl Get Together! Pokemon Star FestivalPERSONA5 the Animation TVアニメ総集編Fairy Musketeers Little Red Riding HoodOrigami Fightersにゃんぼー!Apparently, Disillusioned Adventurers Will Save the WorldMOS Burger Tsukimi Focaccia, MOS Burger × Midnight Grand Orchestra魔法少女特殊戦あすかKendeshiWild Knights Gulkeeva, Jusenshi Gulkeevaジュラしっく！ジャックと豆の木Itou Junji: Collection Specials, Itou Junji Episodes 13 and 14一期一会 恋バナ友バナハローキティのスタンプヴィレッジ黑门ハルチカ ～ハルタとチカは青春する～Hana yori Dango (1997), Hana Yori Dango: The Movie, Boys Over Flowers MovieShinseiki-GPX Cyber Formula EARYLDAYS RENEWAL非人学院Fate/Grand Order氷室の天地～7人の最強の偉人編～Dragon Quest: Dai no Daibouken Buchiya Gare!! Shinsei 6 DaishougunCYBORG009 CALL OF JUSTICE 2The iDOLM@STER Cinderella Girls Gekijou Specials, The Idolmaster Cinderella Girls Gekijou Specials超音戦士ボーグマンCARDFIGHT!! Vanguard 続・高校生編bal-gwang-ha-neun hyeon-dae-sa, Shining Modern History爆丸バトルブローラーズ Gundalian Invadersバック・アロウAttack No.1 Movie 2Aria the Avvenire Picture Drama異世界ワンターンキル姉さん ～姉同伴の異世界生活はじめました～Ikki Tousen: Western Wolvesホロライブ・サマー2022華ヤカ哉, 我ガ一族 キネトグラフViolinist of HamelnGokujo!! Mecha Mote IinchoGalaxy Express 999: The Starlit Sky is a Time Machine, Galaxy Express 999: The Starlit Sky is a Time Machine - Solar System/Extinction of the Dinosaursガルフォース2 ディストラクションFuma no Kojiro: Fuma Hanran hen, Kojiro of the Fuma: Fuma Rebellion ChapterShinseiki GPX Cyber Formula GraffitiFLCL 2, Fooly Cooly Progressive, Furi Kuri ProgressiveマジカノGetter Robo GouWakate Animator Ikusei Project, 2017 Young Animator Training Project, Anime TamagoGegege no Kitaro: Gekitotsu!! Ijigen Yokai no DaihanranGegege no Kitarou: The Great Sea Beast, Gegege no Kitarou Dai Kaijuu, Gegege no Kitaro: Daikaiju, GeGeGe no Kitaro movie #7: The Giant Sea MonsterFinal FantasyRun Hany沈黙の艦隊Chaos ChildPlusters, Journey of Adventure: PLUSTERWORLDCat Girl Nuku Nuku Dash!, Bannou Bunka Nekomusume Dash!, Cat Girl Nuku Nuku DASH!, All Purpose Cultural Cat Girl Nuku Nuku DASH!, Nuku Nuku DashBaiye LinglongBedaman, Battle B\\'DamanアヤカシThe Diary of Tortov Roddle SpecialsWarrior of Love RainbowmanゾイドワイルドZettai Boei Leviatan银河之心Hitori no Shita: The Outcast Recap, Raten Taishou Hen: Housou Chokuzen Special, Hitori No Shita: Raten Taishou Arc Pre-Broadcast SpecialUsavish Episode 02.5: Time For Work. Another Point of ViewトワイライトQRibon x Oha Suta Specials, Tsubasa and Hotaru (2015)とっとこハム太郎のとっとこ大切!! 交通ルール太極千字文Laura The Prairie GirlSoreyuke! Uchuu Senkan Yamamoto Yooko IISoreike! Anpanman: Baikinman\\'s CounterattackThe girls who aim for the wildlands, Girls beyond the youth KOYA, ShokomezaJikken-hin Kazoku: Creatures Family Days, Jikkenhin Kazokuセブンナイツ レボリューション -英雄の継承者-Senran Kagura 2nd SeasonSenkou no Night Raid: Prophecy, Senkou no Night Raid SpecialHello Kitty\\'s Animation TheaterSekai Meisaku Gekijou Kanketsu Ban: Romeo no Aoi Sora, World Masterpiece Theater Complete Edition: Romeo and the Black BrothersロボタンRobot Girls Z Episodes 3.5, 6.5, 9.5レッドガーデン デッドガールズQueen\\'s Blade OVA, Queen\\'s Blade: Rebellion OVAプリンセス・プリンシパル ピクチャードラマJRA x Poputepipikku, JRA x Pop Team EpicGuzura, Gozula, Hey, I\\'m Guzura!Mizuiro OVA 2ミニパトMaken-Ki! Battling VenusMagical Witchland, Mahou Yuugi: Tobidasu!! Hanamaru DaiboukenMadou Kiden Pandalian, Legend of the Magical Beans Pandalian, Pandarian, PandaMoniumRupan Sansei Secret Files, Lupin Sansei Pilot Film, Lupin III - Pilot Film, Lupin III: Secret File旭日の艦隊The Instructor of Aerial Combat Wizard CandidatesくまみこThe Magnificent Kotobuki Side Story: The Harukaze Squadron of the Great Sky, The Kotobuki Squadron in the Wilderness Side Story: The Harukaze Squadron of the Great Sky, The Harukaze Squadron of the Great SkyKoi☆Cent, KoisentoKaze no Namae wa Amunejia, The Name of the Wind is AmnesiaScientific Adventure Team Tansar 5獣兵衛忍風帖BURST新メイプルタウン物語 パームタウン編 こんにちは! 新しい町戦争のつくりかたSeikimatsu Darling, End of Century - Darlingポケットモンスター サン＆ムーン\\u3000プラネタリウムPokemon Best Wishes!: Celestial Globe of Light and Shadowピノキオより ピコリーノの冒険Pica-don, Picadon, Pikadon, Pika-donPianoManMy Little Sister Can\\'t Be This Cute 2 Specials, Ore no Imouto ga Konna ni Kawaii Wake ga Nai 2 SpecialsMy Sister Came, Onee-chanBewitching NozomiLittl\\' Bits, Lutinette et Lutinou, Belfy and Lillibit, Belfi and Lillibit, Berufi To Rirubitto, Belfy and Lillabit, Belfy & Lillibitモンスターストライク THE MOVIE ソラノカナタ宮本武蔵 ―双剣に馳せる夢―Microsupermanマリンスノーの伝説マッド★ブル34Ruy, the Little Cidライアー・ライアー境界戦機Koutetsu Sangokushi Episode 26A Polar Bear in Love, Hyouheki Don, Koi Suru Shirokuma, Ai no Omosa機動戦士ガンダムSEED MSV ASTRAYKanColle: Someday in that Sea, KanColle 2nd Season, Fleet Girls CollectionUnit Pandoraジャンケンマン一番近くて遠い星HimawariHelen Keller逆転世界ノ電池少女Moonlight Mask, The Familiar Moonlight Mask-kun, Little Moonlight Riderガルフォース3 スターダスト・ウォーValkyrie Romanze, Walkure Romance, WalromaKOFKanojo, Okarishimasu CallSD Riders, SD Kamen Rider, Masked Rider SD, Masked Rider Super-DeformedA Portrait of Jianghu: Reincarnated Disciple, The Gate of Fate, The Degenerate Drawing - Double LifeHoshineko, Star Cat Fullhouse.ヒーローマスクGusukobudori no Denki, Biography of Gusuko BudoriGetsumen Usagi Heiki Miina, Lunar Bunny Weapon Mina, Getsumen to Heiki Miina学園ハンサム The AnimationFuma no Kojiro: Seiken Sensou hen, Kojiro of the Fuma: Sacred Sword War ChapterFate/EXTRA Last EncoreBritish Family, Eat JapanＤＴエイトロンDance with Devils -Fortuna-A Good Librarian Like a Good Shepherd Picture Drama, Daitoshokan no Hitsujikai ZenyasaiSaibotto Robocchi, Cybot Robotchiぶっとび!!CPU武装神姫Azur LaneAppleseed (2011)エンシェンと魔法のタブレット～もうひとつのひるね姫～Sekai Meisaku Gekijou Kanketsu Ban: Ai no Wakakusa Monogatari, Tales of Little Women1001 NightsYurumeitsu 3DYokai Ningen Bem, Demon-man BemよつのはGargoyle of Yoshinaga House Specials, The Gargoyle of the Yoshinagas: Fushigi no Kuni no Kazumi, Kazumi in WonderlandLion Book Series 4Uraneko, When They Cry 3 SpecialsUltraman Kids\\' Proverb Stories月がのぼるまでにRibon x Oha Suta Specialsとむとじぇりーすすめ, カロリーナ.So-jjoong-han Nam-eui GgoomシンドバッドBouton d\\'Or, Prinzessin Erdbeer, Button Nose我在仙界挣积分Wake Up, Girls! 出逢いの記録 ～A Brief Recording～True Tears SpecialsSOL BIANCA (ソル·ビアンカ)Shana and Yuuji\\'s Why What Shana! Ask Anything Question BoxMy Bride Is a Mermaid Picture Drama, Picture Drama Gokudou no Onna Kejime聖痕のクェイサー IIセイント・ビースト～光陰叙事詩天使譚～Pocket Monsters: Pikachu Koori no DaiboukenPocket Monsters: Best Wishes Season 2 - Decolora Adventure Da!PSO2 The AnimationOtome Yokai Zakuro Picture Drama, Girl Demon Zakuro Picture DramaWolfed AwayOku-sama wa Joshi Kousei, Oku-sama wa JoshikoseiHuman Scramble魔法のスターマジカルエミ 蝉時雨Macross FB7: Ginga Rukon, Ozma Meets Fire Bomber Macross FB7恐竜少女ガウ子シーズン2Ghost in the Shell: Ghost Chaser時間の支配者Hikaru no Go: Special Character DVD - MemoriesBaeku, Pure Heart Baekgu, White Dog with White Heart, My Dog Bakgu, White Heart BaekguジーンシャフトLensman: Power of the LensCanal Aqua Panorama × Original Story of Evangelion: HakataEbiten: Kouritsu Ebi Sugawa Koukou Tenmonbu OADコードギアス 反逆のルルーシュ キセキのアニバーサリーCLUSTER EDGE（クラスターエッジ）シンデレラボーイ超スーパーカー ガッタイガーChaoS,HEAdHeat the Pig Liver: The Story of a Man Turned Into a Pig, ButaLiverBats & Terry, Bats and TerryAstro GangaACTORS -Songs Connection-.hack//Quantum SpecialsISLANDIkoku Meiro no Croisée The Animation: Yune & Alice, Ikoku Meiro no Croisee The Animation: Yune & AliceIkkyu-san, Highschool Baseball NinjaハンドレッドHoney Honey no Suteki na Boken, Honey Honey, PollenガンダムビルドダイバーズGiant Robo 40th AnniversarySuki na Mono wa Suki Dakara Shou ga Nai!! Episode 13,I like what I like, so there!: Let\\'s Go to a Hot Spring!あんさんぶるスターズ！ピクチャードラマえいがでとーじょー！ たまごっち ドキドキ！うちゅーのまいごっち！？Dr. Slump & Arale-chan HoYoYo! The Treasure of Nanaba Castle, Dr. Slump: Arale-chan Hoyoyo! Nanabajou no HihouThe Little Judge from Hellサイボーグ009VSデビルマンCatman 3rd Season, Catman series III (Fuji Version)僕はロボットごしの君に恋をするBLADE RUNNER – BLACK LOTUSBeyblade Burst Dynamite Battleアベンジャーズ コンフィデンシャル: ブラックウィドウとパニッシャーAttack No.1 Movie 3アンクレットと蒼い海Angelique OVA 4Hans Christian Andersen Stories, Anderson StoriesImmemorial Love For YouI\\'m Standing on a Million Lives RecapINGRESS THE ANIMATIONIkkyu-san and the Mischievous Princess, The Cunning Monk and the Mischievous Princess, Mister Ikkyu and the Mischievous Princess, Ikkyu the Little Monk and the Mischievous PrincessハートカクテルアゲインHajimete no GyaruHaiyore! Nyaruko-san, Haiyoru! Nyarl-aniGegege no Kitarou: Youkai Taisen Arasou,ファイアーエムブレム ヒーローズ - Book Ⅲ Movie：Cohort of the DeadWhen I Woke Up I Became a Bagel Girl, He Woke Up as a Bagel GirlDr. Slump & Arale-chan Hello! Strange Islandドンチャック物語Da Wang Bu Gao XingCode Geass: Lelouch of the Rebellion R2 Picture Drama Turn 12.06, Code Geass: Lelouch of the Rebellion R2 Picture Drama 10THE IDOLM@STER CINDERELLA GIRLS Theater: Tuesday Cinderella Theater 4th Season, Idolmaster Cinderella Girls Theater: Tuesday Cinderella Theater 4th Season, Cingeki (Web) 4th Season忘却の旋律Metal Angel MarieB-Project 3rd SeasonGekijou Remix Han Appleseed XIII 2, Appleseed XIII Gekijou Remix-ban 2: Yogen, Appleseed XIII: Tartaros & OuranosLove Live! Sunshine!! Recap, Love Live! Sunshine!! 2nd Season RecapZero Zero Nine One Special, 009-1 Special, 009-1: Extra Mission - R&B, 009-1: Episode 9.5.hack//Versus OVA, .hack//Versus SpecialZoo: Hidamari no UtaMahouka for DummiesSekai Meisaku Gekijou Kanketsu Ban: Watashi no Ashinaga Ojisan, World Masterpiece Theater Complete Edition: Watashi no Ashinaga Oji-sanSmiling Salesman New, Laughing Salesman NewUchu Kaizoku Mito no Daiboken, Stellar Buster Mito, Space Pirate Mito\\'s Great AdventureTomoko Adventure, L\\'Oiseau Bonheurソードアート・オンライン\\u3000フェイタル・バレット -The Third Episode-それいけ! アンパンマン ハピーの大冒険The Young Imperial Guards 2nd SeasonセイレンBB SenshiSaint Seiya ΩRahXephon Interlude: Her and Herself - Thatness and Thereness, RahXephon OVAプラオレ！～PRIDE OF ORANGE～Pocket Monsters: Pikachu no Kirakira DaisousakuPersona 2: Innocent Sin, Persona 2: Eternal Punishmentおしんオレ様キングダムおじゃまんが山田くんRoman Gekijou: Nobara no Julie, Famous Roman Music Theater: Julie of the Grass, Kirin Famous Songs Theater: Julie the Wild Rose人魚Oruorane the Cat PlayerSekai Meisaku Gekijou Kanketsu Ban: Nanatsu no Umi no Tico, World Masterpiece Theater Complete Edition: Tico & FriendsMonsuto AnimeMcDull Movie 2, McDull: The Prince of the Pineapple Bun with Butter, Mak Dau BoloYao WongZiMagical Girl Tickle, Majokko Chikkuru, Magic TikkleMagne Robo Gakeen, Gakeen Magnetic Robot, Robotman Gakeen, Magnetic Robot Ga Keen, Magnos RobotMachine Robo: The Running Battlehackers恐竜少女ガウ子黒いきこりと白いきこりKoutetsu Tenshi Kurumi 2 shikiAlien Defender Geo-Armor - Kishin Corps, Machine-God Corps, Panzer Robot血液型くん！3The Greatest Maou is Reborned to Get FriendsShangri-La Frontier: Kusoge Hunter, Kamige ni Idoman to su RecapSenran KaguraSakura Wars: New York, Sakura Taisen: New York NY, Sakura Wars OVA 5Flower declaration of your heart Episode 00, Lag-Rin Episode 00七界第一仙Pocket Monsters: Pikachu\\'s Really Mysterious AdventureEiga no Osomatsu-san: Gekijou Koukai Kinen - Original Tanpen Gekijou, Mr. Osomatsu the Movie: Gekijou Koukai Kinen - Original Tanpen GekijouSpecial training in the Secret Dungeon映画 ODD TAXI イン・ザ・ウッズMai-Otome Picture DramaMagical Girl Magical Destroyers, MagiDesマクロスΔ「でるた小劇場」Choujikuu Yousai Macross II - Lovers Again, Macross II The Movie, Super Dimension Fortress Macross II: Lovers, Again鋼鉄三国志Kochikame: Mezase! Kameari Superstar!! Ryoutsu-shiki Idol e no Michi!希灵纪元ピーチボーイリバーサイドねこねこ日本史Muv-Luv Alternative: Total Eclipse Soushuuhen, Muv-Luv Alternative: Total Eclipse Episode 19.5メガネの魔法My Beautiful Girl MariJapanese Folklore TalesLoups-Garous, Loups=Garous Kihi Subeki Ookamiクダン琴浦さん 春香の部屋木の葉化石の夏子猫の配達員うーにゃん小森さんは断れない！A Girl in a Lower GradePo-Po-Tan, Popo-tanPoppin Q, file(N):project PQPocket Monsters: Pikachu Tanken KurabuPokémon Masters Animated TrailerPaRappa the RapperTea-dog, Tea DogsAn Encore and Continuance宮西達也劇場 おまえうまそうだなDemon Hunter Youko, Mamono Hunter YohkoDash Machine Hayabusaライブオン CARDLIVER 翔Kitakubu Katsudou Kiroku: Chibi Theater, Kitakubu Katsudou Kiroku Specials十年分の私へHomerun KantaイナズマデリバリーGusukobudori no Denki, Biography of Gusuko Budori, The Life of Guskou BudoriGon, the Little FoxGokujo!! Mecha Mote Iincho Second CollectionGhost TaleGalaxy Ange-lune, Galaxy Angel II, Galaxy Angerune, Galaxy Ange-RuneFortune Quest OVAMaking of FireballZhang Jian Fengyun달려라 고양이Break of DawnArcana Famiglia: La Storia Della Arcana FamigliaCatch up in 20 minutes! Anime \"Attack on Titan\" DigestYugioh, Yu-Gi-Oh! Zexal II Episode 8.5, Episode 81.5, Yu-Gi-Oh! Zexal 2nd Recap, Yuu Gi Ou!八十亀ちゃんかんさつにっきTWIN SIGNAL~ファミリーゲーム~Trickster Episode 00天使禁猟区Syupeo SikeulisStreet Fighter IV, Street Fighter IV: Arata naru KizunaSpace Fantasia 2001 Yoru Monogatari, Space Fantasia Nisenichi Ya Monogatari, 2001 Ya Monogatari, Nisenichi Ya Monogatari, 2001 Nightsサッカーフィーバー少女☆寸劇(コント) オールスタァライトWild 7: Biker KnightsThe Emperor of Myriad Realms, Myriad Realm Supremeウルトラ BUchi no 3Shimai, Uchi no San ShimaiTime Kyoshitsu: Tondera House no Daiboken, Time Classroom, Adventures of Tondera [Flying] House短編ユニコ 黒い雲と白い羽ストラトス・フォー LOG BOOKそれいけ!アンパンマン 妖精リンリンのひみつLa Campanella Della BenedizioneThe Strongest Male Protagonist of All TimeWakate Animator Ikusei Project, 2011 Young Animator Training Project, Anime Mirai 2011, Minding My Own BusinessNew Bikkuriman輪廻のラグランジェ season 2 ピクチャードラマPetit GargantiaPocket Monsters: Pikachu no Obake CarnivalPocket Monsters: Pikachu no Natsu MatsuriOniichan no Koto nanka Zenzen Suki Janain Dakara ne!! Special, Little Sister\\'s Diary of Brother\\'s Perverted Habitsモンスターハンターストーリーズ RIDE ONメガトン級ムサシMass Effect Animation, Mass Effect: Ushinawareta ParagonGhost in the Shell Arise Episode: [.jp]Convenience Store BoyfriendsKoala Boy KockyJun: Shotaro no Fantasy World, A City That Changes, A City That Can Change, Ishinomaki feat. Jun革命の若き空Kagaku Kyujotai Techno Voyager, TechnoBoyger Scientific Rescue Team Techno Voyager, Scientific Rescue Team TechnoVoyager, Thunder Birds镜·双城 风起篇フラ・フラダンスひだまりスケッチ x ☆☆☆Heibai Wushang Di Er Ji, Black and White Warriors 2nd Season, Black and White Warriors Season 2Pandaneko Gymnastic, Hanamaru Kindergarten: Panda Cat GymnasticsHachinan tte, Sore wa Nai deshou!Galactic Drifter Vifam: 12 Fade Away, Round Vernian Vifam: 12 Fade AwayLoGH Gaiden: Golden Wings, Legend of the Galactic Heroes MOVIE (1992)Precure Splash Star 3D Short Movie, Pretty Cure Splash Star Magic Doki 3D Theater MovieGekijouban Infini-T Force, Infini-T Force: Farewell Gatchaman My FriendSekai Meisaku Gekijou Kanketsu Ban: Akage no Anne, World Masterpiece Theater Complete Edition: Anne of Green GablesAdachigaharaProject A-Ko: VsJuuni-sai.ゼロテスターCosmo Warrior Zero Specials, Young Harlock o Oe! Cosmowarrior Zero GaidenHamtaro OVA 4, Tottoko Hamutarou: Hamuchanzu no Mezase! Hamuhamu Kin MedalWorld Masterpiece Theater Complete Edition: The Adventures of Tom Sawyer, Sekai Meisaku Gekijou Kanketsu Ban: Tom Sawyer no Bouken, World Masterpiece TheaterBlood of the Reprimanded DogてなもんやボイジャーズIczer-One, Fight! Iczer-OneTakarajima GekijoubanTreasure HuntRocky Chuck the Mountain Rat, Rocky Chuck the Woodchuck, Peter Conttontail in The Green Forest, Peter Cottontail and FriendsChronicles of Everlasting Wind and Sword Rain, Song of Taoists and FairiesTekkaman, the Space KnightCharge! Pappara Team, The X-treme Teamザ☆ドラえもんズ ゴール！ゴール！ゴール！！Fun Willow TownFist of the Blue Skyサイレントメビウス／THE MOTION PICTURESilent Mobius: The Motion Picture 2Sagami Robot Sangyou TokkuRe Re Re no Tensai Bakabon, Rerere\\'s Genius BakabonQín Shí Míng Yuè, The Legend of Swordsman, Qin\\'s Moon, Qin Shi Ming Yue乙女ゲームの破滅フラグしかない悪役令嬢に転生してしまった… ボイスドラマOhayo! Spank (Movie)MY LIFEGreat King of the Grave: Secrets of the QilinMegumi no Daigo, Me-gumi no DaigoGlasses ClubCandidate for Goddess OVAMao Yu Taohua Yuan, Mao Yu TaohuayuanMantou Diaryまかせてイルか！Macross Frontier: Choujikuu Gekijouレベル1だけどユニークスキルで最強ですクラメルカガリThe Sad and Fat CatJungle wa Itsumo Haré nochi Guu: Eizou Tokuten - Maboroshi no Pilot Film, Jungle wa Itsumo Hare nochi Guu PilotIsuca OVA, Isuka OVA, Isuca ep 11Haiyore! Nyaruko-san, Haiyoru! Nyarl-ani: Remember My Love(craft-sensei)ゴッドマジンガーTemple the Balloon Girl, Fusen Shojo Temple-chanFudanshi Koukou Seikatsu Episode 13デュエル・マスターズ クロスKarimeroArata naru Sekai: Mirai-hen, Arata-naru Sekai, Aratanaru Sekai, The World of Arata, Arata-naru Sekai: World\\'s/Start/Load/EndGekijou Remix Han Appleseed XIII 1, Appleseed XIII Gekijou Remix-ban 1: YuigonWolf Daddyアパッチ野球軍Wedding Peach Specials, Wedding Peach Omake, Wedding Peach Episode 10,526A.D. Police時空冒険記\\u3000ゼントリックスイケメン戦国◆時をかけるが恋ははじまらないThe Adventures of Huckleberry FinnはめつのおうこくGroyzer-Xグレゴリーホラーショー - The Last TrainGen\\'ei wo Kakeru Taiyou Episode 14, The Sun Penetrates the Illusions Episode 14Gyagu Manga Biyori: Jump Festa 2002 SpecialFuma no Kojiro: Yasha hen, Kojiro of the Fuma: Yasha ChapterEureka Seven AO: Jungfrau no Hanabanatachi, Eureka Seven AO: The Flowers of Jungfrau, Eureka Seven AO OVAChocolate no Mahou, Shokora no Mahouブブキ・ブランキ『Boogiepop and Others』 Promotional TrailerBlassreiter NavigatorResident Evil: Infinite DarknessBarbapappaAsobi ni Iku yo! Owari, Let\\'s Go Play! Special, Let\\'s Go Play! Owari, Cat Planet Cuties Special, Cat Planet Cuties Owariありふれた職業で世界最強 ピクチャードラマAir Episode 13, Air Soushuuhen, Air MemoriesMaxbot: After WarWarau Salesman Tokubetsu Bangumi, Warau Salesman SpecialsUNDER THE DOG EPISODE 0TRICKSTER -江戸川乱歩「少年探偵団」より-Toi Sekaiトビウオのぼうや は びょうきですToHeart2 Dungeon TravelersTetsuko\\'s Travels, Tetsuko\\'s Trip潜水艦スーパー99Shin Obake no Q-taro, Obake no Q-taro (1971)石膏ボーイズクイーンズブレイド リベリオンDiancie, Princess of the Ore CountryPokémon Mystery Dungeon: Magnagate and the Infinite Labyrinthぷれぷれぷれあです特別編The Strongest Sage of Disqualified Crest, Shikkakumon no SaikyokenjaGod of Deception, Liar GodRomance of the Three Kingdoms, Sangokushi I, Sangokushi (special)Saiyuki, Journey to the West, The Magic Land of AlakazamPia Carrot 2 DXミッドナイトホラースクールメタリックルージュMcDull Movie 1, Mak Dau Goo SiShame of Teacher Machiko, Maicchingu Machiko Sensei, Maitchingu Machiko SenseiMahou Shoujo Site DigestMaeterlinck\\'s Blue Bird, Tyltyl and Mytyl\\'s Adventurous JourneyMacross 25th Anniversary Special Eizou: All That VF Macross F Versionリトル・チャロLinetown, raintaunJellyfish Restaurant, Jellyfish DinerKujian, Kujibiki♥Unbalance (2006), Kujibiki♥Unbalance (TV)Ghost in the Shell: Arise - Logicoma BeatKompeki no Kantai Special Episode: Development of the Sorai, Konpeki no Kantai Tokubetsu Hen: Sourai Kaihatsu MonogatariKITE LIBERATOR (カイト リベレイター)Kita e: Diamond Dust Drops OVAKidou Senshi SD Gundam血液型くん！4Kami wa Yuugi ni Ueteiru., The Ultimate Game-Battles of a Boy and the Gods, Kami wa Game ni Ueteiru.: Kamigami ni Idomu Shounen no Kyuukyoku Zunousenジュノー剑仙在此GODZILLA 星を喰う者銀河の魚~URSA minor BLUE~The Adventure of Gamba and the Otter福来町、トンネル路地の男Eight Man After, Eitoman After, 8man AfterDomo-kun TVDian Qi Shao Nu, Electrical Girl, Electric Girlコードギアス 双貌のオズ ピクチャードマラA Well-Ordered Restaurant, The Restaurant of Many OrdersCaptain Tsubasa no Shoubou SakusenBrain PoweredJump Special Anime Festa 2020Christopher Columbus: The Commemorative Series, Boukensha: The Man Was from SpainBeyblade Burst GT爆丸バトルブローラーズ Mechtanium SurgeAkai Kiba, Red Fang Blue SonnetDragon Quest: Dai no Daibouken (2020) Recap, Dragon Quest: Dai\\'s Great Adventure Recap, Dragon Quest: Adventure of Dai RecapYurumates ha?, Yurumeitsu ha?, Yurumeitsu wa?Yugioh, Yuu Gi Ou! Zexal Special, Yu-Gi-Oh! Zexal Special, Yu☆Gi☆Oh! Zexal: Uchimura Kouhei Senshu mo Deru yo SpecialYawara! Go Get \\'Em, Wimpy Kids!!仙武苍穹Yarn Yoshi Shorts, Poochy & Yoshi’s Woolly World ShortsPlanetary Robo Dangard A, Planet Robot Dangard AceトリガーちゃんHamtaro OVA 3, Tottoko Hamutarou: Hamuchanzu to Niji no Kuni no OujisamaThe Sound of Tiger & BunnyTenkuu Senki Shurato Episode 39 and Episode 32.5物語を君へ探偵チームＫＺ（カッズ）事件ノートToETakoyaki Mantoman, Takoyaki MantmanA Kiss For The Petals: Risa x Miya Theaterシンドバッド 空とぶ姫と秘密の島The Evolution Fruit: Conquering Life UnknowinglyOnmyouji: Heian Monogatari万古剑神Ushio & Tora: Comically Deformed TheaterDesert Rose, Desert Rose: Yuki no MokushirokuKuroyuki Hime to Motemote Baikinman新・同棲時代 HAWAIIAN BREEZERyusei Sentai Musumet, Shooting Starlets Musumet, Meteor Team MusumetFlower declaration of your heart Specials, Lag-Rin SpecialsOverlord Picture Dramaお兄ちゃんだけど愛さえあれば関係ないよねっNingyo-hime Marina no Bouken, Mermaid Princess: Marina\\'s AdventureNanocore: Season 2Elves of the ForestMiss Monochrome: Supporterまんがはじめて物語Lee\\'s Detective Agency: A Day in Lungmen Pilot恐竜探検隊ボーンフリーくるみ割り人形KING OF PRISM by PrettyRhythmKING OF PRISM ALL STARS -プリズムショー☆ベストテン-I\\'ll / Crazy KOUZU Basketball Club, Generation basketPolon the Star Child炎のらびりんすGin no HakamoriAM DriverPuyo Puyo: Madou MonogatariドラゴンズヘブンDr. Slump and Arale-chan: N-cha! Love Comes From Penguin VillageDr. Slump: Arale-chan - Ncha! Penguin Mura wa Hare Nochi HareDennou Coil Soufukushuu, Dennou Coil Episode 22.5, Dennou Coil Comprehensive RecapブレイドBEATLESS婆ちゃの金魚アキカン! カン一発!?温泉パニックあきちあそび PlaygroundAh Harima-nada, Aah HarimanadaZero Zero Nine OneBlazing Alpenrose, Dramatic Memory Honoo no AlpenroseHidan no Aria Double A防御全开SUPER HXEROS OVACYBORG009 CALL OF JUSTICE 第1章Dancouga: Ushinawareta Mono Tachi e no ChinkonkaChaos,Child Episode 0My Girlfriend is a Faithful Virgin Bitch, Boku no Kanojo ga Majimesugiru Shojo Bitch na KenWakate Animator Ikusei Project, 2012 Young Animator Training Project, Anime Mirai 2012, Aruvu Rezuru, Aruvu Rezuru: Kikai Jikake no Yousei-tachi, Aruvu Rezuru: Mechanized Fairies, Arve Rezzle: Mechanized Fairies, Arve Rezzle: Kikaijikake no YoseitachiMission Outer Space Srungle, Aku Dai-Sakusen Srunglea piece of PHANTASMAGORIA (ア・ピース・オブ ファンタスマゴリア)New Attacker You!, Mila & ShiroEiga Youkai Watch 3, Youkai Watch: the Movie: The Flying Whale and the Grand Adventure of the Double Worlds, Meow!薄墨桜 -GARO-年をとった鰐Tabi Machi Late Show: Awaiting My JourneySubmarine 707 Revolutionセイント・ビースト～幾千の昼と夜 編～秦侠Pocket Monsters: Pikachu to Pokemon Ongakutai, Pikachu and the Pokemon Musicians, Pocket Monsters XY Movie 2 Short鬼切丸One Piece Episode 1004.5, One Piece Episode 1015.5, One Piece Episode 1073.5, One Piece Episode 1078.5, One Piece Special Episodes: Barto\\'s Secret RoomHolly the GhostNekomachiMuumuMIDNIGHT EYE\\u3000ゴクウIIMelty Lancer: The AnimationLupin III CG PilotKidou Senshi Gundam Senki: Avant TitleKicking Demon, Sawamura, Kickboxing DemonFoto Kano, Photograph GirlfriendGO! GO! ACKMAN, ゴーゴーアックマンGalaxy Fraulein Yuna OVA 1, Galaxy Fraulein Yuna: Siren\\'s Sadness, Ginga Ojou-sama Densetsu Yuna, Sorrowful SalineGakkyuuou Yamazaki, Gakkyu-oh Yamazaki, King of Classroom, Yamazaファイナルファンタジー：アンリミテッドFASTENING DAYS 2Dr. Slump and Arale-chan: N-cha!! Trembling Heart of the Summerどろろんぱっ！ドラえもんアニバーサリー25ブルバスターMy Parents are Otakus, Otaku\\'s Offspringアニメ 親子劇場<Infinite Dendrogram>-インフィニット・デンドログラム-Blazing Teens 3: Sequel, Huoli Shaonian Wang 3: Di 2 Ji放課後ミッドナイターズ808 Chou hyouri no Kewaishi, 108 Ward Inside and Out: Make-Up ArtistGreen Green Specialsでたらめな世界のメロドラマ劇場版 DEEMO サクラノオト -あなたの奏でた音が, 今も響く-Drill for PrincessＢ・Ｂ BURNING BLOODI\\'m My Little Sister\\'s Secret, I\\'m in Love With My Little SisterAzuki-chan: White Valentine ♥ Koi no Chance ga Yatte Kita!!Anne Frank Monogatari: Anne no Nikki to Douwa YoriAnimentary: The DecisionYamishibai: Japanese Ghost Stories Sixth Season, Theater of Darkness 6th Season, Yamishibai: Japanese Ghost Stories 6Kemono Friends x JRA Collaboration, Horse Friendsとっとこハム太郎のとっとこ大事だ!!\\u3000防災訓練Toppo JijoThe Idolmaster Live For You!天地無用！GXP パラダイス始動編台風のノルダGenesis Survivor Gaiarth新 カリメロしましまとらのしまじろうOne Hundred Thousand Bad Jokes Season 1, Shi Wan Ge Leng Xiaohua Di Yii JiSenkou no Night Raid Picture DramaSengoku Night Blood Episode 7.5 SpecialRecently, My Little Sister is Unusual, ImoCho, ImoCyoレア・ガルフォースPsychic Academy Aura Banshouプリンセスラバー!忍者ハットリくん ニンニン忍法絵日記の巻なつきクライシスDetective Conan: Bouhan Guide, Case Closed: Anti-Crime Guide魔乳秘剣帖LET\\'S\\u3000ぬぷぬぷっKyukyoku Chojin R, Kyuukyoku Choujin A~ru, Kyukyoku Choujin R, R The Ultimate Esper魁拔之殊途交響詩篇エウレカセブン ハイエボリューション 1Love and Producerきつね憑きKikuchan to Okami, Kiku and the Wolf, Sensou Douwa 8風の大陸Sanpei the KappaUndersea Boy MarineJungle Taitei (2000)Rhapsody of Flowers and FlamesMagic Sword Master of Holy Sword SchoolSaint Seiya (2014), Saint Seiya (Movie)Ren Shen Guo, Ginseng Fruit, Sun Ukun: Fruits of Genshen,The Monkey King and the Fruit of ImmortalityUtae Meloetta: Rinka no Mi o Sagase!Medaka\\'s SchoolMajutsushi Orphen Hagure Tabi 2nd Season, Sorcerous Stabber Orphen 2nd Season, Sorcerous Stabber Orphen: Kimluck Arc強殖装甲ガイバーKuruneko Season 2 Specials功夫料理娘Kidou Senshi SD Gundam no Gyakushuu: Arashi o Yobu Gakuensai, Mobile Suit SD Gundam\\'s Counterattack: The Storm-Calling School Festival, The Tale of the SD Warring States: The Chapter of the Violent Final Sky Castle, Kidou Senshi SD Gundam no Gyakushuu: SDMasked Rider Den-O: Imagin Anime 3Dangerous Girl, Miss Critical Moment, Ippatsu Kikimusume「ひだまりスケッチ×365」総集編火の鳥 ~羽衣編~Giniro no Olynsis: Tokito, Gin\\'iro no Olynssis: Tokito, Giniro no Olynssis: TokitoThe Celestial RailroadGaro: Crimson Moon OVA, Garo: Crimson Moon Special, Garo: Crimson Moon ep 24, Garo: Guren no Tsuki ep 24,  Garo: Crimson Moon ep 25, Garo: Guren no Tsuki ep 25学園BASARAExile Generationエスパー魔美スペシャル マイエンジェル魔美ちゃんWilds of Eldraine Official Anime Trailer - Magic: The Gatheringダンス・ウィズ・デビルスChuu Bra!!, Chubra!!, Chuubra!!ちとせげっちゅ!!BLUE GENDER THE WARRIORB: The Beginning 2nd SeasonBattle Spirits: Haou, Battlespirits Heroes, Battle Spirits Season 4Neko Raamen猫がくれたまぁるいしあわせSeven Cities Story: Arctic FrontMushroom Family村正Monster Strike Golden Week Special, MSonic! 00, Mon-Soni: D\\'Artagnan no Idol Sengen 00Mini Vanguard SpecialクロカンJosephine the Whale, Adios, Josefinaこの青空に約束を― ～ようこそつぐみ寮へ～小林が可愛すぎてツライっ!!Kinnikuman: Counterattack! Hidden Space SupermanAyu Mayu Theater, Ayu Mayu GekijouYoung Kiitarou and His Youkai Picture Diary, Kiitaro\\'s yokai picture diary, Kiitarou Shounen no Youkai Enikki ep 13Valvrave the Liberator Special Edition - Edited, Valvrave the Liberator Specials, Valvrave the Liberator Recapsちびちび演義 真・恋姫ふらっしゅ～張飛、孫尚香、袁術、三国志するのこと～OsuPocket Monsters: Pikachu\\'s Summer Bridge StoryPlayballパンドラとアクビNuwa Chengchang Riji, Nuwa\\'s DiaryMei Chu Xi de Yin Yang Shi Yi Jia, The Good-for-nothing Onmyouji FamilyMaken-ki!: Doki Doki! Maken-ki! Himitsu no KunrenMonster City Shinjukuリトル・ニモ パイロットKabuki-bu!: Oogiri Chiyokoreito Kassen銃皇無尽のファフニール绝命响应Hoero! Bun Bun Special, Bark! Bun Bun Special, Yap! Bun Bun, Piesek BUM BUMヒロシマに一番電車が走ったハローキティ りんごの森とパラレルタウンハロウィン・パジャマThe Genie FamilyGetter Robo Āḥ, Getter Robo Ah, Getter Robo ArkFASTENING DAYS 4ファンタジスタドールえびてん 公立海老栖川高校天悶部ドラゴンコレクション클로저스 : SIDE BLACKLAMBSCatman, Catman 2nd SeasonOha-Suta, Ribon x Oha Suta Specials, Ribbon x Oha Suta Specialsブラック・ジャック Dr. ピノコの森の冒険Pattenrai!! Minami no Shima no Mizu MonogatariBalala the Fairies Season 3, Balala, Little Magic Fairy: The Dream MelodyThe Bakuon!! ClubhouseAzusa Helps!, Azusa, Otetsudaishimasu!Devil Boy, Akuma-kun (1989)\"Inazuma Eleven Ares\\' Balance\" special omnibus in 15 minutes(OO)Yuu Gi Ou!ウィザード・バリスターズ～弁魔士セシルWanpaku Omukashi Kumu Kumu, Naughty Prehistoric Kum Kum海に落ちた月の話楳図かずおの呪いアイドルマスター シンデレラガールズ Spin-off!Tekyuu 5 Specials, Teekyu 5 SpecialsTALES OF LUMINARIA The Fateful CrossroadA Wonderful Present, Sutekina Okurimono雪渡りProject WooserワイルドアダプターUtsunomiko OAV, Utsu no Miko 2UFO Warrior Dai Apolon, Shadow World月の珊瑚トゥハート おまけ鉄腕アトム 宇宙の勇者Gargantia on the Verdurous Planet Recap, Suisei no Gargantia: Li\\'l Recapantia, Petit Recap, Suisei no Gargantia RecapThe Haunted House: The Secret of the Ghost Ball 2シンドバッド 魔法のランプと動く島Short Peace Opening Animationライフル・イズ・ビューティフルOnegai My Melody: Friend & LoveOishinbo: Utimate vs. Supremacy, Oishinbo Ultimate vs. SupremeのらくろNontan to Issho七つの大罪 怨嗟のエジンバラななみちゃん 第2シリーズみのりスクランブル!Maou-jou de Oyasumi Mini Anime, Sleepy Princess in the Demon Castle Mini AnimeAlways! Reinforced Urayasu Family, Always! Super Radical Gag FamilyMahou Shoujo Neko Taruto, MNNTKappa no Kai-kata, How to Raise a Water ImpLes Miserables, Story of Jean Valjean弱酸性ミリオンアーサーIn a Distant Time OVA, Haruka Naru Toki no Naka de: Ajisai YumegatariLament of the Lamb, Song Of Ram, Song of Sheep, Song of the Sheep, Sheep\\'s Song炎炎ノ消防隊 ミニアニメChoujuu Kishin Dancougar OVAHikarian: Great Railroad ProtectorCho Kosoku GalvionBurn-Up Scramble, Burn Up! Scrambleベイビィ☆LOVE蒼い記憶 満蒙開拓と少年たち阿莉塔的试炼Akahori Gedou Hour Love Game, Zettai Seigi Love Pheromone, Soreyuke! Gedou Otometai, Absolute Justice Love PheromoneTenchi Muyo! Love2.43 清陰高校男子バレー部Wind -a breath of heart-W 〜ウィッシュ〜UFO Ultramaiden Valkyrie Recap, UFO Princess Walkyure, UFO Princess Walküre時空[とき]の旅人 Time StrangerCrossing of Timeタヌキとキツネ探検ドリランド-1000年の真宝（まほう）-Sanshiro the JudoistIt\\'s a Wonderful World, This Wonderful World, Subarashiki Konosekai, Subaseka, TWEWYStitch! 2スペース☆ダンディ ピクチャードラマWind -a breath of heart- OVA万域封神Ultraman Kids: Haha o Tazunete 3000 Man KonenUchu no SenshiMobile Emergency PoliceTiger and Bunny Pilot, Taibani PilotI\\'m Not an AngelGalactic Piratesたまゆら ～もあぐれっしぶ～ ピクチャードラマ『来年の夏、汐入で会おうね、なので』시타를 위하여ちびちび演義 真・恋姫ふらっしゅ～報われない組、報われんとするのこと～Science Fiction New Century Lensman, Lensman Movie戦刻ナイトブラッドPocket Monsters: Slowking no IchinichiHattori and the War of the Little Ninja Villages, Hattori: The Little Ninja: the Chapter of the Great Clash in his Native CountryMousou Kagaku Series Wandaba Style, Scientific Wild Fancy Series Wandabastyle, Wacky Science Fiction Series Wandaba StyleMihousou Episode: Yume, Mini Toji episode 11Mahou CananKidou Senshi Gundam Unicorn Perfectibility風を抜け!Science Ninja Team Gatchaman (movie)HimikodenRun! White Wolf, Flight of the White Wolf, Hashire Shiroi Okamiはれときどきぶた (1988)GokujyoFASTENING DAYS 3Koshi-den, Koushi Den, The Life of ConfuciusDr. Slump and Arale-chan: Hoyoyo! Dream Metropolitan Mecha PoliceDengeki Bunko 2007 Movie Festival - Special Opening Animationでーじミーツガール団地ともおPretty Soldier Sailor Moon S: Responding Moon Call!アッセンブル・インサートNeo Heroic Fantasia ArionDaniel Arsham × Pokémon, Toki no HamonJim BotanEiga Jewelpet Sweets Dance Princessアイアンマン：ライズ・オブ・テクノヴォアHYPERSONIC music clubHello Kitty and Friends: Alice in WonderlandBlack and White WarriorsHaiyoru! Nyaruani: Remember My Love(craft-sensei) Episode 12, Haiyore! Nyaruko-san, Haiyoru! Nyarl-ani: Remember My Love(craft-sensei) Episode 120087: Green Divers, Green Diversガンダムブレイカー バトローグガルフォース地球章Twin Hawks, A Full ThrottlePokemon: Eevee and Colorful Friendsデュエル・マスターズ\\u3000チャージDorami-chan: Arara Shounen SanzokudanDevilman: Crybaby RecapGekijouban Chocolate Underground, Chocolate Underground the Movieクロッシイ・アバンLittle Women (1980)うちゅう人田中太郎True Tears Special: The Story of Raigomaru and Jibeta, True Tears: Picture BookTono to Issho TVトーイGraduation: GraduationAladdin and the Magic Lamp咲-Saki- ピクチャードラマRyouma! The Prince of Tennis Shinsei Gekijouban Tennis no Ouji-samaGekijouban Pocket Monsters: Mewtwo no Gyakushuu EvolutionObotchama-kunNora Mimiスターフォックス ゼロ ザ・バトル・ビギンズ兵主奇魂Precious Lotus LampBakukyuu Hit! Crash B-DamanAnimation Kikou Marco Polo, Animated Travels: Marco Polo\\'s Adventures.Empty Can!２１エモン\\u3000宇宙へいらっしゃい！집Itsuka Tenma no Kuro-Usagi Picture Drama, Itsuten Picture Drama, Itsu-ten Picture DramaIn a Different World with a Smartphone.イジらないで、長瀞さん 2nd Attack ミニアニメHaruka Naru Toki no Naka de: Hachiyou Shou Recap, Haruka: Beyond the Stream of Time Recapハナビちゃんは遅れがち八月のシンデレラナインGegege no Kitarou: Yokai Express! The Phantom Train, GeGeGe no Kitaro movie #9: Yokai Express! The Phantom TrainGegege no Kitaro Movie 3: Youkai Gundanデュエル・マスターズ クロスショックDr. Slump: Arale\\'s Amazing-man電信柱エレミの恋クリスタル ブレイズChao You ShijieBronze: Cathexis Koji NanjoBoken Shonen ShadarBotchan, Bot-chan, The Young Master,Baoh, Baoh CallerBakumatsu Gijin-den RomanThe 500 Million Yen Button18 IfChinese Mystery Man禅 グローグーとマックロクロスケRanger Wars, The Chronicles of the RangerよいこRumic World 3Wanjie Chunqiu, Wan Jie ChunqiuThe Messenger from the SeaHani Hani: Operation Sanctuary, The Moon is East, The Sun is West: Operation Sanctuary東北東, 十七の空Free Whale Peek, Peek the Baby Whale, The Boy and the White Whale Calf, Fly Peek!Astro Boy Tetsuwan Atom: Ivan\\'s Planet, Tetsuwan Atom: Ivan\\'s Planet, Astro Boy Tetsuwan Atom Tokubetsu Hen: Ivan no Wakusei - Robot to Ningen no YuujouTenshi no Shippo Chu!: Omnibus Tenshi no Utagoe, The Angel\\'s Singing Voice, Tenshi no Shippo Chu Special, Angel Tales Chu Special, Angel Tales Chu! Special, Tenshi no Shippo 2 Special, Tail of Angels Chu! SpecialTekyuu 7 Specials, Teekyu 7 Specials, Teekyuu 7 OVAたまごっち！～みらくるフレンズ～Taishou Baseball Girls, Kon-ya no Watashi wa Romantic StrikeSUPER SHIRO (スーパーシロ)Stand My Heroes OVAShining Hearts: Bread of Happiness神明之胄Why? What? Shana!サザエさんQueen\\'s Blade, Sentou Kyoukain Alainクイーンズブレイド グリムワールSuper Milk Chan Special, Milk\\'s Story of No Mercy! Infidelity is a Culture!Nonoko未来から来た少年 スーパージェッターメモリーMOFF3.5Memories Off 2nd (メモリーズオフ 2nd)MAGICA QUARTET x NISIOISINMacross 25th Anniversary Special Eizou: All That VF Macross Zero VersionLittleforestmello, Littleforestmelo, Mello, Melo, Mellow, Sanrio, My MelodyLicensed by Royalty Special, Licensed by Royalty ep 4, Licensed by Royal ep 4, Licensed by Royalty ep 3.5Kyoukaisenjou no Horizon SpecialsKiss Dum R Episode 26Kenzen Robo Daimidaler OVA, Kenzen Mini OVADaimidaler the Sound Robot, MidaraKagi Hime Monogatari: Eikyuu Alice Rinbukyoku, Kagihime Monogatari: Eikyuu Alice Rondo, Key Princess Story: Eternal Alice RondoサイファイハリーSakura MailQin Shi Ming Yue 3D Dianying Longteng Wanli, Qin\\'s Moon: Soaring Dragon猫神やおよろず猫ピッチャーNandaka Veronica, Kind of VelonicaMaken-Ki! Dai 2-ki, Maken-Ki! 2, Maken-Ki! Second Season, Maken-Ki! 2nd SeasonMajutsushi Orphen Hagure Tabi 3rd Season, Sorcerous Stabber Orphen 3rd Seasonらぶドル～Lovely Idol～Lime Iro Senkitan Nankoku Yume Roman, Raimuiro Senkitan: The South Island Dream Romantic Adventure (OAV), Southern Romance StoryKujira ToriMisha the Bearcubきらり輝くカゲロウデイズ-in a day\\'s-Always the Sun in My Soul, Remember the Sun in the HeartHey! Bunbuu, Bumpty Boo群青のファンファーレGreen Green TV, Guri Guriガーリー・エアフォース現代畸聞録\\u3000怪異物語时间囚徒Sengoku Musou SpecialsHoopa\\'s Appearance! Operations, Pocket Monsters XY Movie 18 TV Special: Fuupa no Odemashi Daisakusen, Pocket Monsters XY: Fuupa no Odemashi Daisakusen!!Plastic Little: The Adventures of Captain TitaKen the Wolf BoyNinku The MovieNINETEEN 19みにとじ名探偵コナン vs WoooRobot boy DotakonLeina Stol in Wolf Sword Legend, Leina Kenrou Densetsu鲤氏侦探事务所 两小时假期恋する小惑星 「KiraKira増刊号」Mobile Suit Gundam: More Information on the Universal Century結婚指輪物語Hell Hall-Spirit World CommunicationIzumo: Flash of a Brave Sword, Izumo: Takeki Ken no Hirameki, Izumo2, Izumo TTnSSega Hard Girls OVA, SeHa Girls Episode 14, Dai-54-Kai Hanpa Jano! Zenryoku de Guu! Yūshō Suru no wa Only You! Subete no Gakkou Gyouji o Kako ni Suru! SeHaGaga Gakuen TaiikusaiHiatari Ryoko! Yume no Naka ni Kimi ga Ita (Movie)ぐるぐるタウン\\u3000はなまるくんMagmel of the Sea BlueGalaxy Express 999: Jikuu wo Koeta Energy no TabiファイナルファンタジーKakyuusei: Elf VersionHani 2nd SeasonBlocker Gundan 4 Machine Blaster, Astrorobot, Blocker Army IV Machine Blaster, Blocker Corps IV: Machine BlasterMaidens of Morning Mist, Priestesses of the Morning MistAr Tonelico: The Girl Who Sings at the End of the WorldSanjuu-sai no Hoken Taiiku Specials.hack//DUSK Special, .hack//Tasogare no Udewa Densetsu SpecialYankee HamstersWat Bo, Legend of Watt Poe忘れたフリをしてWUG Zoo!トランスフォーマー スーパーリンクTokimemo OVA展覧会の絵Space Dandy Picture DramaTo be Near YouYoung Ashibe: Go! Go! Goma-chanCrayon Shin-chan: Shin-MenI Annoyed Millions of CultivatorsPocket Monsters Indigo League Recap, Pocket Monsters OVA SummaryトトイGuardian Fairy Michel, Michel: The Little Guardian, Shouhu Jingling世界名作童話스캔2고Phantom of the Kill: Zero\\'s Rebellion親子は続くよ俺の空 刑事篇鬼斬娘 再戦The Ballad Drama of Okon, The Magic Ballad, The Magic Fox, OkonjoururiOishinbo: Nichibei Kome SensoナインMini Vanguard 2nd Season, Saturday Vanguard 1030峰岸さんは大津くんに食べさせたいA Miko\\'s Job!Masou Gakuen Hybrid x HeartMashiroiro Symphony: Airi ga Anata no Kanojo ni!?Bell on a Deer, The Deer\\'s Bellリトルポーラベア しろくまくん, どこへ?Raidbackers空想の空飛ぶ機械達Armed Dragon Fantasy VillgustKitsutsuki Tantei-Dokoroきらめき☆プロジェクト機動新撰組 萌えよ剣 TVKidou Senshi SD Gundam Mk-IIDemetan Croaker, The Boy Frog, The Brave Frog, The Brave Frog\\'s Greatest Adventure県立地球防衛軍ジャングル黒べえJinki:Extend Episode 13, Jinki:Extend OVAインスタントヒストリーHello Kitty and Friends: Heidi母のサポーターGanbare Goemon: Chikyu Kyushutsu DaisakusenGakkou no Kaidan: New Year\\'s SpecialFushigi na Merumo, Marvelous MelmoSekai Meisaku Gekijou Kanketsu Ban: Flanders no Inu, Flanders no Inu RecapThe Fishing Pond in My Room, Doraemon (1979) PilotChicken Takkun, Chicken Tak-kun, Chikkun Tak-kun, Chik-kun Tak-kunちびケロ ケロボールの秘密!?BORUTOジャンプフェスタ 2016Our Rainy ProtocolAnju to Zushiou Maru, Anju and Zushiomaru, The Littlest Warrior, The Orphan BrotherA Sea Turtle and a Boy, Sensou Douwa 1TwinbeeTottoko Hamutaro: Anime Dechu!Fate/Grand Order Farewell to 2016 - Guda Guda Order, Fate/Grand Order Toshiwasure Guda Guda Order 2016Aim for the Top! Science Lesson, Gunbuster! Science Course, Top wo Nerae! KagakukouzaDon Draculaテラフォーマーズ アース編スタ☆スカSoul LinkOne Thousand and One Arabian Nights, 1001 NightsGood-bye, Cramerぷちます! -PETIT IDOLM@STER-Panda Zeto, Robonimal Panda-Z: The Robonimationノラゲキ！The Ninja BoyGirls in Summer Dresses, Natsufuku no Shoujo-tachi: Hiroshima, Shouwa 20-nen 8-gatsu 6-kaYume Jigen Hunter FandoraTales of Agriculture CGI Anime魔法亞媽Maze☆Bakunetsu Jikuu Special, Maze Megaburst Space SpecialMalice DollMaguma Taishi魔法騎士（マジックナイト）レイアース  パイロットフィルムKarl Marx The AnimationKaitou Tenshi Twin Angel (TV)ユンカース・カム・ヒア パイロットフィルムジンキ・エクステンドSun Ukun: The Monkey King Conquers the DemonSleeping Beauty, Šípková Růženka aneb Spící krasavice姫ギャル♥パラダイスHijikata Toshizo: Shiru no Kiseki, Hijikata Toshizo Shiro no Kiseki, Hijikata Toshizo: The White Trail, Toshizo Hijikata: Cornerstone of UnderstandingThe White Snake Enchantress, The Great White Snake, Legend of the White Serpent, Legend of the White SnakeDangaioh, Dangaio, Dangaioh: Hyper Combat Unit, Haja Taisei DangaioGu-Gu Ganmo (1985)Garasu no Kantai Special, Fleet of Glass Specials, Glass no Kantai 16.5, Garasu no Kantai 16.5, DVD Extra Episode - Episode 20.5기기괴괴-성형수Kikou Soseiki Mospeada: Love, Live, Aliveチョコレート・アンダーグラウンドBonkoi, Bonjour: Koiaji PatisserieBokurano Recap, Bokurano Episode 15.5, Bokurano SpecialAnnyeong Jaduya.hack//GIFT擾乱 THE PRINCESS OF SNOW AND BLOODLovely Muco! OVAHimitsu no Akko-chan (1989), Secret Little Akko平成天才バカボンGOD EATER RESONANT OPS銀河鉄道９９９ 虹の道標The One And Only Step Up Love StoryBrinky and Printy, Blinky the Wonderful KoalaCode Geass: Hangyaku no Lelouch Picture Drama Stage 0.97, Code Geass: Lelouch of the Rebillion Picture Drama 10Choegang Tabpeulleiteu, Ultimate Top Plate, Top Plates誓いエルドライブ 【ēlDLIVE】Agents in OtherworldアリスＳＯＳKing of Warrior 3Rescue Angel, Yomigaeru SoraSensou Douwa 5, Burning, Candy TreeSekai Meisaku Gekijou Kanketsu Ban: Wakakusa Monogatari: Nan to Jo-sensei, World Masterpiece Theater Complete Edition: Little Women II - Jo\\'s BoysDays of UrashimasakatasenFireworks, Should We See It from the Side or the Bottom?とらいあんぐるハート -Sweet Songs Forever-Teizoku Rei Daydream, Vulgar Ghost DaydreamSlide (2015)シンカリオン チェンジ ザ ワールド七星のスバルサムライスピリッツ2 アスラ斬魔伝The Strongest Tank\\'s Labyrinth Raids: A Tank with a Rare 9999 Resistance Skill Got Kicked from the Hero\\'s PartyMeiou Project Zeorymer, Uranus Project, MoPZオサムとムサシにじいろ☆プリズムガールマイブリッジの糸Pink SistersMazinger Z vs. Devilman, Mazinger Z versus DevilmanマーズMaho Yome Extra Episodes蓝猫淘气3000问Invented Divinationこまねこ のクリスマス\\u3000―迷子になったプレゼント―劇場版 空の境界 未来福音 劇場用マナーCMNamuamida Butsu! Rendai Utena超獣伝説ゲシュタルトChoujin Locke: Lordleon, Space WarriorsAdventures With Iczer 3BEMTransformers: Beast Wars II: The Movie (special), Beast Wars Second: LioConvoy in Imminent Danger!, Movie Edition Beast Wars Special, Beast Wars: Super Lifeform Transformers Special, Beast Wars II: Lio Convoy\\'s Close Call!Animal One悪右衛門Sekai Meisaku Gekijou Kanketsu Ban: Ai Shoujo Pollyanna Monogatari, Ai Shoujo Pollyanna Monogatari RecapsSeason 2019: A New Journey | League of LegendsCurse of the Undead Yomaようこそロードス島へ！野球狂の詩 北の狼南の虎ToHeart Remember my memories: Heart FightersTiger & Bunny: Special Edition - Side Bunny, Tiger & Bunny: Special Edition - Side Tiger『天才王子の赤字国家再生術』ショートドラマたまごっち! ゆめキラドリームストリートファイター IV忍の一時聖伝落下生Paaman: Copy World no Nazo, Perman: Copy World no Nazo, Perman All Hyakka, Bird Sei e no MichiThe Romcom Where The Childhood Friend Won\\'t Lose!, Osamakeンダホ結婚おめでとう！！Nagagutsu Sanjyuushi, The Three Musketeers in BootsManga Doshite Monogatari, Animated Stories to Understand ThingsAnimated Aesop\\'s Fables, Manga Aesop\\'s Fables, Manga Aesop Monogatari (1983)マドンナまちカドまぞく みに巨人の星Kitten\\'s StudioKidou Senshi Gundam G40Special Crime Investigation Unit - Special 7 OVA, Special Crime Investigation Unit - Special 7 Episode 0.5Kanojo, Okarishimasu 2nd Season SpecialsTamagon the Counselor, Eggzavier the EggasaurusSacred Seven Recap Special Picture Drama, Sacred 7: Night Edition Picture Drama, Sacred Seven: Night Edition Picture Drama, Sacred Seven: Knight Edition Picture Drama令和のデ・ジ・キャラットRainbow Battle Team Robin, Rainbow Squadron Robin, Robin in the Rainbow TroopsQueen\\'s Blade Rebellion: Genkai Toppa de Miechau no!?, Queen\\'s Blade Rebellion: What Will It Look Like When It Smashes Through Restrictions!?OzumaOniichan no Koto nanka Zenzen Suki Janain Dakara ne!!, Onisuki, Because I Don\\'t Like My Big Brother at All!!のたり松太郎ニンジャバットマンShooting Star Lens Specials, Ribon x Oha Suta Specials桃色のクレヨンDetective Pikachu: Splendid Morning RoutineMajutsushi Orphen Hagure Tabi Episode 14, Sorcerous Stabber Orphen Episode 14, Majutsushi Orphen Hagure Tabi Special, Sorcerous Stabber Orphen SpecialMagic School Lunar: Secret of the Blue DragonLunn Flies into the WindLicca: the Mystery Tale of Mysterious Yuniaくじびきアンバランス警視庁 特務部 特殊凶悪犯対策室 第七課 -トクナナ-画江湖之杯莫停First Trip AloneSekai Meisaku Gekijou Kanketsu Ban: Haha wo Tazunete Sanzenri, Sekai Meisaku Gekijou Kanketsu Ban: Haha o Tazunete Sanzenri, World Masterpiece Theater Complete Edition: Marco - From the Apennines to the AndesGunslinger Stratos The Animation Episode 12.5Gatapin, Pesuke Gatapishi Monogatari腐女子の品格Eight Man, Eitoman, 8man, Tobor the Eighth Manドラえもん のび太と未来ノートDIVE!!Closure\\'s Secret FilesBurn UpMy Son Gokuブレイブルー オルターメモリーTenchu Girls CM, Black Bullet SpecialResident Evil 4: IncubateAttack No.1 Movie 4アルスの巨獣Baby Dinosaur DoolyゆとりちゃんYurumates (2012), Yurumates 3D Plus OVA, Yurumates 3D: Ushinawareta GenjitsuゆめりあWake Up, Girls! Please Let Us Promote Miyagi!TV Yarou Nanaana Season 2, Televi Yarou Nanana, TV Yarou Nana-naTRIBE NINE（トライブナイン）タトゥーン・マスターMr. Super Bearそにアニ -SUPER SONICO THE ANIMATION-コンセントYurumates 3D Plus OVA, Yurumates (2012)Super Seminary Fifth Season, Transcend the Gods: The Black Troop, Chao Shen Xue Yuan: Xiong Bing Lian, 超神学院之雄兵连Mobile Suit Gundam Wing: Frozen Teardrop Picture Drama - Aratanaru Tatakai, Mobile Suit Gundam Wing: Frozen Teardrop Picture Drama - A New BattleKinpatsu no Jenny, Blonde Jeanie, Jeanie with the Light Brown Hair火宅快盗天使ツインエンジェルKaiketsu Zorori: Mahou Tsukai no Deshi, Kaiketsu Zorori Movie (1993)Hello Kitty and Friends: Snow WhiteWandering Clouds, Drifting Cloudsガンスリンガー ストラトス -THE ANIMATION-GREY デジタル・ターゲットグッドモーニング・コールドラマティカル マーダー OVA「Data_xx_Transitory」DMMdMr. dMatsu, Osomatsu-san 2nd Season Side StoriesDD北斗之拳Cyborg 009: The Cyborg Soldier Recap, Cyborg 009: The Cyborg Soldier ep 47.5Little Ghosts, There, Here, and Where, Acchi, Kocchi, Socchi小さな恋のものがたり チッチとサリー初恋の四季アサティール 未来の昔ばなしSekai Meisaku Gekijou Kanketsu Ban: Alps Monogatari Watashi no Annette, Alps Monogatari: Watashi no Annette Recaps11eyes -Tsumi to Batsu to Aganai no Shoujo-Sky of Connection, Yosuga no Sora: In Solitude, Where We Are Least Alone.Yankee Gale Squad寻剑My Journey To Another WorldボトムズファインダーUrban Square: Chasing AmberUltra Nyan: Extraordinary Cat who Descended from the Starry Sky, Ultra Meow터닝메카드Do You Like Your Mom? Her Normal Attack is Two Attacks at Full Power OVA, Okaasan online OVA, Tsuujou Kougeki ga Zentai Kougeki de Ni-kai Kougeki no Okaasan wa Suki Desu ka? episode 13とっとこハム太郎 はむはむぱらだいちゅ! かず・かたち・ちえTetsuwan Atom: The Glorious Earth, Astro Boy: Kagayakeru Chikyuu, Astro Boy: The Glorious EarthSpace Cruiser Yoko Yamamoto, Yamamoto YookoShonen Hollywood正义红师Onmyouji: Heian Monogatari Season 2, Onmyouji: Heian Monogatari 2nd SeasonThe Carp Jumps Over the Dragon Gate, Liyu Tiao LongmenNanchatte VAMPIYAN, Vampire KidsUkkari Penelope, Pénélope tête en l\\'air, Carelessly Penelope, Absent-minded Penelope, Head in the Air PenelopeJack of All Trades타이밍Astro Boy: The Secret of Atom\\'s BirthSuper Deformed Double FeatureFleeting Dreamテイルズ オブ クレストリア オフショットムービーYuna & Stitch双月之城The New Submarine Battleship스피드왕 번개プリキュアからみんなへの応援ムービーSnow HareOH! スーパーミルクチャンHospitalization Erection Story: Get Well Soon!You Are A GeniusMetal Fight Beyblade Zero G OAD, Metal Fight Beyblade Zero G OVA망치Majutsushi Orphen Hagure Tabi 4th Season, Sorcerous Stabber Orphen 4th Season鋼鉄天使くるみ零孤独のグルメThe Town You Live InPanzer World Galient OVA, Kikou Kai Garian OVA景山民夫のダブルファンタジーIkkyuu-san: It\\'s Spring! Mischievous Princess星に願いを COLD BODY + WARM HEARTグリックの冒険Class Room✿For Heroes, Hero ClassroomCyborg 009 Kaishuu SensouCutey Honey F: The Movie, Cutey Honey Flash, Cutey Honey F (1997)Seirei Gensouki Mini Anime, Celia-sensei\\'s Exciting Magical Classroom, Instructor Celia\\'s Exciting Magical ClassroomCaptain Gekijoubanぼく、オタリーマン。My Air Raid Shelter, My Bomb Shelter, Sensou Douwa 4アクエリアンエイジ Sign for EvolutionAngelique: From the Sanctuary with Love, Angelique OVA2Roughneck Sumo Wrestler!! MatsutarouBincho-Tan OVA, Binchou-tan Jishu Seisaku Movie: Aozora ni Wasure Monoじゃんたま PONG☆Hakuouki: Otogisoushi Episode 11.5Guilty Gear X: By Your Sideゴールデン道画劇場Ginga e Kickoff!! Special幻影闘士バストフレモンFlying Witch Puchiドラゴンエイジ -ブラッドメイジの聖戦-ダブル・ハードDorami-chan: Hello, Dynosis Kids!!Document Fang of the Sun Dagram, Document Fang of the Sun DougramCyborg 009 (Movie)Dreaming Topo Gigio, Yumemiru Toppo JijoゆきYosei Hime Ren, Fairy Princess RenYatterman Episode 12.5 and 25.5WONDER継つぐももミニアニメTime Bokan OVASuper Doll Liccachan: Rika-chan\\'s Desperate Situation! The Doll Knights\\' MiracleShinran-sama: His Wish and Light, Nenbutsu Monogatari: Shinran-sama - Negai, Soshite HikariThumbelina沙羅曼蛇Graduation: Sailor Victoryプラチナエンドおじさんとマシュマロ 13個目 日下さんと夢マシュマロNihon-ichi no Otoko no Tamashii, Most Spirited Man in Japanメタルファイト ベイブレード ZEROGMasou Kishin Psybuster, Psybusterまめねこ魔女っこ姉妹のヨヨとネネ「初恋」Kyokugen Dasshutsu ADV: Zennin Shibou Death, Kyokugen Dasshutsu ADV: Zennin Shibou Desu Promotion Anime, Extreme Escape Adventure: Good People Die Prologue, Zero Escape: Virtue\\'s Last Reward Special OVAKocho-sensei to Kujira, Man and Whale, Man & Whaleキングスレイド 意志を継ぐものたち快盗天使ツインエンジェル キュンキュン☆ときめきパラダイス!! OVA怪物くん デーモンの剣Shao Nian Jin Yi WeiDemon God of the War Torn Land Goshogun, Goshogun, Macron 1サザエさん\\u3000ドーンと一家でハワイ旅行Fuyu no Chikai, Natsu no Matsuri: Takeo no Ookusu, Yakusoku no Utsuwa: Arita no Hatsuko, Takeoshi no Dai-KusunokiQMAQueen\\'s Blade OVA Specials, Queen\\'s Blade: Rebellion OVA SpecialsThe DemonNiji no Senki IrisuDays of van Meowogh, Meowogh the Cat: Mes Misérables, NiaghoMinna Atsumare! Falcom Gakuen Second SeasonMaze Bakunetsu Jikuu MovieAlien X from A Zoneマギアレコード 魔法少女まどか☆マギカ外伝 1st SEASON 総集編Luck and LogicKoihime FlashKIRARASHOW BY ROCK!! Gonna be a music millionaire!Kokoro yaXue Mo Ren池袋PRアニメGekijouban Heart no Kuni no Alice: Wonderful Wonder World, Alice in the Country of HeartsゴリラーマンGirlfriend (Onpu)Game Centre Arashi플라워링하트Fire Emblem Heroes: Part 2 - Mini Chara Theater, Fire Emblem Heroes: Book II - Chibi Playhouse, Fire Emblem Heroes - Holiday - Chibi PlayhouseFate/Zero CaféI Really Want to Join the Zodiac, EtonekoDoujouji Temple, Dojojiダイバージェンス・イヴダークサイド・ブルースBORUTO -NARUTO NEXT GENERATIONS-Eureka Seven AO Original Short AnimeAppleland Monogatari, Applefield MonogatariSister\\'s Log: Moyako\\'s Never-ending Monologue赤い肖像\\u3000～シャア、そしてフロンタルへ～11eyes Episode 13, 11eyes OVA, 11eyes -Tsumi to Batsu to Aganai no Shoujo- Episode 13結城友奈は勇者である ちゅるっと！Yamishibai: Japanese Ghost Stories Seventh Season, Theater of Darkness 7th Season, Japanese Ghost Stories 7Weiss SurviveKnights of RamuneTokimeki Tonight Specials, Heart-Thumping Tonight Recaps, Heart-Thumping Tonight SpecialsTobira o Akete, Open the DoorA Time Slip of 10000 Years: Prime Rose, 24 Hour TV SpecialsTama and Friendsテイルズ オブ ザ レイズ エバーラスティング デスティニーStitch! 3ゼロテスター 地球を守れ!Constructor Rabbit勇者指令ダグオン 水晶の瞳の少年You0 DECOYume Minoe万国志Uchuu Majin Daikengo, Uchuu Mazin Daikengo, Daikengo, The Guardian of Spaceターニングガールズ5thライブツアーマナー映像Homeroom Affairs, Human Relationsストレイシープ ポーのちっちゃな大冒険스피어즈Tenguri, Boy of the PlainsWhite OceanSengoku Kidan Youtouden, Yotoden OVAリボンの騎士 (1999)Entrance of the DoctorPrism Ark: Pri ArkThe Panda\\'s Great Adventureななみちゃん 第三期Maze☆Bakunetsu Jikuu OVAAesop\\'s Fables Movie, Manga: Aesop\\'s TaleMagia Record: Puella Magi Madoka Magica Side Story Season 2 - The Eve of Awakening RecapHuang Li Shi, Chinese Almanac Master, Secret Archives of Unscientific Materialism, 不科学唯物主义秘密档案, 黄历师Koutsuu Anzen da yo Doraemon Part IIKosukesama Rikimarusama: Konpeito no Ryu, Kosuke and Rikimaru: Dragon of Konpei Island木ノ花ノ咲クヤ森Bistro Recipe, Bistro Recipe - Fighting Chef Zen, Legend of Grapple Cooking Bistro RecipeKaifeng Strange Tales: This Lord Bao is Not That GreatHoi Hoi-san, Ichigeki Satchu Hoi Hoi San, One-Shot Bug Killer!! Interceptor Doll HoiHoi-san, Interceptor Doll HoiHoi-sanFloral Magician Mary Bell: The Phoenix Keyハクション大魔王2020ファイトリーグ ギア・ガジェット・ジェネレーターズThe Cost of Smilesドクタースランプ ロボット対決! 宿敵ドクターマシリト登場 / キーンで優勝!? ペンギン・グランプリDr.スランプ アラレちゃん ほよよ!!助けたサメに連れられて...伝説巨神イデオン 接触篇幕末Rock 湯煙推理劇[ミステリー]! 温泉怪事件ぜよ!!幕末RockIronman火力少年王之传奇再现Eagle Talon NEOThe Frogman ShowG.R.M.: The Record Of Garm WarFukuyama Treater: Summer Show, Fukuyama Theater: Summer SecretHorizon Warriors vs. Dash Warriors, Dash! Yonkurou SpecialCMFU Academy: King of BilliardsScrolls of Cartoons of Birds, Animals, and People, Choujuu-Jinbutsu-Giga Emaki, Scrolls of Frolicking Animals and HumansBLOOD-C The Last Dark SpecialBlade and Soul朝まで授業chu!アニメ店長Digimon Savers 3D: A Close Call for the Digital WorldXuese CangqiongQueen\\'s BladeRevelation Online Animated Series大切な家族を包む、その手。Sugar Bunnies 2书灵记少女ノスフェラトゥシャイニング・ハーツ 〜幸せのパン〜Saishuu Shiken Kujira OVA, Final Examination Kujira ProgressivePIANOおそ松さん 春の全国大センバツ上映祭 銭湯クイズ2おらぁグズラだど音楽少女Noragami: NoranekoMoeru! Onii-san (OVA), Moeru! Onii-san (1989), The Burning Wild Man (OVA)MahoYome Episode 0, The Ancient Magus\\' Bride, The Magician\\'s Bride, Magic Bride, #0 Aisatsu, #0 Greeting, Maho YomeLove Position, Legend of the HalleyLarva 5th SeasonYoukoso! Kirara Fantasia: New Game!-hen, Youkoso! Kirara Fantasia: Kiniro Mosaic-hen, Youkoso! Kirara Fantasia: Yuyushiki-hen, Youkoso! Kirara Fantasia: Stella no Mahou-hen, Youkoso! Kirara Fantasia: Gakkougurashi!-henArtificial Insect KABUTO BORG Victory by VictoryHello Kitty and Friends: The Magic Apple叛逆性ミリオンアーサーHajimaru no Bokensha-tachi Crystania no Densetsu, Legend of Crystania MovieGeGeGe no Kitaro movie #2: The Geomancer\\'s Eyeがんばれゴエモン 次元城の悪夢Gekijouban Dr. Slump: Dr. Mashirito Abale-chanでたとこプリンセスTHE IDOLM@STER CINDERELLA GIRLS Theater: Climax Season SpecialsButchgiriブッチギレ!Balala the Fairies: Flying Over Fort Crescent, Balala, Little Magic Fairy: Over the Rainbow, Balala the Fairies Season 4Deluxe ArielInferno Cop Sequel左のオクロック!!How to Steal 55 Kisses,  Bringing Back Home Mr. Perfect, Taking Everybody\\'s Husband HomeGin-iro no Kami no Agito Pilot, Silver-Haired Agito Pilot, Gin-iro no Kami no Agito Eizou Tokuten - Shoki Pilot FilmFuture War 198X年[엘소드] 아인의 기억 애니메이션アーシアンドラえもん英語敎室Planet Busters, World of the Talismanあなたのフランスは どんなところ？Juuippiki no NekoChinese Kids英雄别闹Yakumo TatsuウルヴァリンWAVE!!～サーフィンやっぺ!!～Mito no Daiboken: Futari no Jou-sama, Mito\\'s Great Adventure: The Two Queens, Stellar Buster Mito 2, Uchuu Kaizoku Mito no Daibouken 2, Aoi & Mutsuki: A Pair of Queens, Aoi and MutsukiKaitou Tenshi Twin Angelとっとこハム太郎 「あ」から「ん」まで ひらがなあそびThe iDOLM@STER SideM: Wake Atte Mini! OVATHE FIVE KILLERSFar East of Eden, Tengai Makyo JiraiyaTALES OF パペットすすめ！ゴジランドスペースバグSore Ike! Anpanman: Kaiketsu Naganegiman to Yakisoba PanmanShuumatsu no Valkyrie, Valkyrie of the EndSalmon-chanシーキャットRokushin Gattai GodMars Gekijouban, Six God Combination God Mars MovieRing ni Kakero Pilot FilmおとぎマンガカレンダーNinja Hattori-kun + Perman: Chounouryoku Wars, Ninja Hattori-kun Plus Perman: ESP Wars, Ninja Hattori-kun + Paman ESP Wars, Ninja Hattori-kun Plus Paaman: Chounouryoku Wars宮子めもりいMahou no Tenshi Creamy Mami Picture DramaThe Demon Girl Next Door 2 Mini AnimeLovedol Episode 13, Lovely Idol Special, Love dol: Lovely Idol, Lovedol: Onsen desuka?Xuan-Yuan Sword: Lights of the BleakLiving with CareSaru! Get You: On Airrevisions リヴィジョンズ秦时明月特别篇《帝子降兮》Superbook: Bible Storiesナースウィッチ小麦ちゃんR魍魎戦記 MADARA[摩陀羅]Mou Hitotsu no Mirai o.みにヴぁん ら～じMärchen Mädchen Episodes 11 and 12Machikado no Meruhen, Radio City Fantasy: Machikado no Märchen乙姫CONNECTION電脳戦隊ヴギィ\\'ズ★エンジェル FOREVER AND EVERCIRCLET PRINCESS（サークレット・プリンセス）Chu Feng: SOE, Chu Feng: Son of EdenChoujin Locke: Shin Sekai SentaiCatman Series 1, Catman Series I, Catman Season Oneブラックジャック Karte NG集Aru Hibi no CLAMP Gakuen Tantei, One Day With The CLAMP Detectivesある日の午後My Name is Red-Haired AnneAnata ga Koko ni Itehoshii星に願いを Fantastic CatHipira: The Little VampireHappy World!Monster Strike the Animation: Halleujah, Monsuto Anime: Hallelujah, Hareruyaガンスリンガー ストラトスGiant Robo: Gin-Rei Special, GinRei: The Animationファイアーエムブレム ヒーローズ - Book V Ending MovieDarosu, Battle for Moon Station Dallos劇場版 Collar×Malice -deep cover-Chou Kadou Girl 1/6キャットブルー：ダイナマイトBakuhatsu Goro, Goro the TerribleMikasa Dai-senpai to Manabu: Anime \"Azur Lane\"Angelique OVA 3亜人戦士Master of Star OriginRainbow Sea Season 1Shi Xiong Season 2, I am Bai Xiaofeiホワッツマイケル?バーチャファイター Costomize Clipとっとこハム太郎ひらがなたんけんタマラ 2010 ア パンク キャット イン スペースStreet Fighter II: Return to the Fujiwara Capitalそれいけ! アンパンマン はしれ! わくわく アンパンマングランプリLet\\'s Go! Anpanman: Anpanman and His Fun FriendsLate Night! Genius BakabonNew Legend of the Heroes of the Warring Nations - The Ten Sanada Brave Soldiers Sanada 10 TVManagement of Novice Alchemist Mini Anime戦国☆パラダイス-極-（きわみ）Rio: Rainbow Gate! OVANinja Hattori-kun Plus Paaman: Ninja Kaijuu Jippou Tai Miracle Tamago, Ninja Hattori-kun Plus Parman: Ninja Kaijuu Jippou Tai Miracle Tamago, Ninja Hattori-kun + Perman: Ninja Kaijuu Jippou Tai Miracle Tamago, Ninja Hattori-kun + Perman: Ninja Kaijuu VS MMonster Strike 2 Episode 0, Monsuto Anime: Katsubou no Hate no RisoukyouMemories Off #5, Memories Off #5 The Broken Off FilmNO MORE映画泥棒×名探偵コナン 業火の向日葵Lesson XXKyou Kara Maou:! Daizensyuu Sono 1 - Maou Tanjou-henRotten Teachers EquationKiki and Lala\\'s Blue BirdK×Drop!!風のように怪獣娘～ウルトラ怪獣擬人化計画～ 第2期Sakura Capsule聖闘士星矢 黄金聖闘士 DATA FILEなるたる ～骸なる星・珠たる子～MØUSEみツわのAcrobunch, Demon Regions Legend Acrobunch, Askadis, AcrobanchMushiking 2Demonbane OVAKabba Totto, Tic Tac ToonsHello Kitty and Friends: Mom Loves Me After AllHello Kitty and Friends: Santa\\'s Missing Hat春を彩るふしぎ駄菓子屋 銭天堂Elmer no Boken: My Father\\'s DragonクラッシュギアNitro小さな庭園The Caligula EffectThanks for the Courage, Bomberman, Thanks For The Courage, Bomberman: I Will Hear바다의 전설 장보고エンゼルコップアンジュ・ヴィエルジュ唯我独神Sonic Soldier Borgman: The Final Battle, Chouon Senshi Borgman: Last BattleSin: Nanatsu no Taizai - Records of Confessions, Sin: Nanatsu no Taizai Zangeroku新幹線変形ロボ シンカリオン夢かける高原 清里の父 ポール・ラッシュバーナード嬢曰く。世紀末リーダー外伝たけし！オレカバトル農民関連のスキルばっか上げてたら何故か強くなった。Ninku: Knife no BohyouPassionate Human Face Dog: Life Is MovieMr.ペンペンモンハン日記 ぎりぎりアイルー村GEveryone Assemble! Falcom Academyみにくいあひるの子Raimuiro Senkitan, Lime-Colored History of War, Lime-iro Senkitan: Meiji Nippon, Otome Sakimorisu.Lily CatThe Capricious RobotKashou no Tsuki, Hiyoi no Tsuki, Moon of The Fiery NightKamigaminokiしばいたろかレガリア The Three Sacred StarsPop Team Epic Specials, Poputepipikku Eizou TokutenWing of Royal Space Troop Honneamise Pilot, Royal Space Force: The Wings of Honneamise - The Short Filmオンエアできない!NekoYon, Neko Nanka Yonde mo Konai8bitGATARiNanoha Picture Drama 02: Nurse Girl Medical Shamal - Prelude, Nanoha Picture Drama 03: Magical Family Wolken - PreludeMahosenAerial Battleship Atlantis, Atlantis the Aerial WarshipMobile Suit Gundam 00 Specials, Mobile Suit Gundam 00 Flash-like Short CB Characters怪獣娘[かいじゅうがーるず] ~ウルトラ怪獣擬人化計画~怪物くん 怪物ランドへの招待iiiあいすくりんハッスルパンチハローキティ りんごの森のファンタジーハローキティの幸せのチューリップガンスリンガー ストラトス -THE ANIMATION- 帰還／風の行方Green GreenGenso Jodan EliciaKasei Ryodan Danasaito 999.9, Fire Force DNA Sights 999.9, Danasite 999.9, Kasei Ryodan Dnasights Four-Nineダイナ荘びよりCorpse Party OVASensou Douwa 3, The Story of a Whale That is Too Big to Fall in Love With a Small Submarine长安幻街Kentou Ankokuden Cestv, Cestus: The Legend of Boxing in the Dark Agesブラック★★ロックシューター DAWN FALLAzur Lane Valentine Special Missionゾイドワイルド ZEROゼロ デュエル・マスターズ映画 妖怪ウォッチ 妖怪学園Ｙ 猫はHEROになれるかCore SenseTorajima no Mime, Mii the Tabby, Miime the TabbyHello Kitty 愛漫遊Teekyuu 8 OVA, Teekyu 8 OVAStrange PlusThe Book of a Dead Person, A Book of a Dead PersonSOS! Tokyo Metro Explorers: The NextWeak InsectYakushiji Ryouko no Kaiki Jikenbo Recap熊出没之雪岭熊风Warau Salesman PrologueNanchatte Vampiyan PilotTrue Love Story Summer Days, and yet...ザ・サムライテイルズ オブ クレストリア『スロウスタート』Web予告ムービーNew Legend of the Heroes of the Warring Nations - The Ten Sanada Brave Soldiers Sanada 10, Sanada10, Shinshaku Sanada JuuyuushiSengoku Kidan Youtouden Gekijouban, Legend of the Enchanted Swords, Yotoden Movieセイント・ビースト～聖獣降臨編～Riki-Ou: Toukatsu Jigoku, Story of Ricky: The Wall of Hellぷち！東京ミュウミュウ にゅ～♡Ribon Festa 2015, Ribbon Festa 2015纳米核心ナジカ電撃作戦Mori Shuguang, 2013, 二零一三緑子METROID short animationDante the Satan魔法使いサリーまほうつかいじじぃLOVE♥LOVE?Kemono Soukikou Dancouga Nova, Juusoukikou Dancougar NovaIsukaヒロシマへの旅Hatsukoi Monster OVAFlying Witch Puchi Special, Flying Witch Petit - BD & DVD Vol. 1 Launch SpecialドントクライKemocha, Chatting with CreaturesI\\'ve Had Enough of Being a Magical GirlLegend of Crystania: The Chaos Ring, Legend of Crystania OVA, Crystania no Densetsuキキとララのママってすてき!Jugo Shonen Hyoryuki, Fifteen Boys Adrift, Two Years\\' Vacation人力戦艦！？汐風澤風Wanted, Love is Protein, Watashi no Coffee Samurai: Jihanki Teki na Kareshi, My Coffee Samurai: A Vending Machine Boyfriend, A Coffee Vending Machine and Its SwordGlacier Warrior Gaislugger, Guyslagger, GuysluggerFist of The North Star: Legend of Heroes (CGI)ハローキティ りんごの森のミステリーHello Kitty\\'s Animation Theater 3aHana wa Saku: Tohoku ni Saku, Hana ha Saku: Touhoku ni SakuGetsumen to Heiki Mina DVD Episodes, Getsumen to Heiki Miina EX, Getsumen to Heiki Mina OVAガルフォース THE REVOLUTIONGakko no Yurei, School Ghostsふつうってなんだろう？Big Fish & BegoniaSaga-ken Kamimine-chou Short Movie Anime, Kamimine Town, Saga Prefecture Short Movie Animeチェインクロニクル ~ショートアニメ~The Adventurers Gamba and his Seven Friendsバーバパパ\\u3000世界をまわる魅力アサシンズプライドYagami\\'s Family Affairs, Yagami-kun\\'s Family AffairsWA2 Picture DramaGeinin Anime KantokuSamurai Kid書家Zuo Ri Qing Kong Pilot宇宙少年ソランStraight into the Universe트랙시티The Adventures of Space Oz, The Galaxy Adventures of OzSeihou Tenshi Angel Rinks, Stellar Angel Angel LinksサムライガンPatalliro Saiyuuki! Episode 27パチスロ貴族 銀Mobile Suit Gundam 0083: Stardust Memory Cima Specialけろけろけろっぴの大冒険 ふしぎな豆の木Kanojo, Okarishimasu Puchi, Rent-a-Girlfriend Chibi, Kanojo, Okarishimasu Mini AnimeHow Not to Summon a Demon Lord Ω: Mini AnimeThe Adventures of Huckleberry Finn Movie, Huckleberry no Bouken (1991)ハローキティのみんなの森をまもれ!ハンドメイドマイG-RecoグリムノーツGoulart Kishidan: Evoked the Beginning WhiteElite Jack!! Ciao Ciao OVA, Elite Jack!! OVADoreiku: Boku to Nijuusannin no Dorei, Dorei-ku: Boku to 23-nin no Dorei, 23 Slaves and MeCMFU学院：绅士击击剑Cinderella Girls Gekijou: 5th Anniversary Short, The iDOLM@STER Cinderella Girls Cinderella Girls Gekijou: 5 Shuunen Kinen Short Anime, Cinderella Girls Gekijou: Go Shuunen Kinen Short Anime超音戦士ボーグマン\\u3000MADNIGHT☆GIGS!BiohunterWakate Animator Ikusei Project, 2010 Young Animator Training Project, Anime Mirai 2010, Super Veggie Torracman, Project ACombustible Campus Guardress, Bursting Campus Guardlessアニメ版 東海道・四谷怪談Atang Qiyu, Atang Qi Yu, Tea PetsIdol Master Xenoglossia Specials, Idolmaster Xenoglossia SpecialsI Wanna Be Your FriendMorinaga Caramel 100th Anniversary ShortHito Toki Kiryuu Ashikagaヒーローバンクgdgd妖精s 第2期 #0(ゼロ)Pervyi Otryad, Первый ОтрядD-1 デバステイターBobby\\'s Girl, Bobby\\'s In DeepＡＩＫａJuuippiki no Neko to AhoudoriThe Day I DepartDifferent World Medicine Shop, The Pharmacy of the Other WorldShunmao Monogatari Taotao, The Story of Panda Taotao, Story of Panda Tao TaoSupreme Galaxy, Supreme Lord of GalaxyChinese Chess Master, Xiangqi King, Xiangqi Masterうさるさんタウンワーカーズタカネの自転車シュガーバニーズ水脑袋Mr. Osomatsu Valentine\\'s Day ShortsVallove, Ikusa x Koiウルトラマン超闘士激伝 彗星戦神ツイフォン登場つる姫じゃ～っ！トマトコンフィ涼海ひよりの『LIP×LIP』取材リポート！The Super Milk Show, Vintage Milk-ChanSugar Bunnies 3, SugarbunniesLet\\'s Go! Anpanman: Sushi-roll Maki-chan and Gold KamameshidonSoriton no AkumaZEPHYR [ゼファー]夢王国と眠れる100人の王子様Man LanVicky the VictimTouken Ranbu: Hanamaru - Makuai Kaisouroku - Kanshou no YodoTomica Bond Combination Earth Granner, Tomika Kizuna GattaiTime Bokan 24 2nd SeasonRumic World 2, Supergal, The Choujo天使な小生意気DVDスペシャルCapital Story太鼓の達人Suzy DongwuyuanI Love You, Suzuki-kun!!, I Like You, Suzuki-kun!!Shonen Ashibe, Young AshibeShining Hearts: Shiawase no Pan \"Kokoro ga Todoita\",Shen Mue, Shenmuuサンタ・テル・ミーPupaＮｉｎｊａ者目玉焼きの黄身 いつつぶす？力拔山河兮子唐The Platelets Go to the Movie TheaterKami-sama Dolls Specials仮面ライダーフォーゼ×クレオンしんちゃんJack And The Beanstalk, Jack to Mame no Ki (1989)The Mischievous Witch and the City That Never SleepsFrom I\\'\\'s, I\\'\\'s OVA, Aizu, From I\"sKirby of the Stars Special Episode: Take it Down! The Crustacean Monster Lobzilla,Kirby of the Stars: Beat the Crustaceous Demon Beast Lobzilla!, Kirby Right Back at Ya HD Episode 101 Kirby 3D (3DS Special)Holy Knight (ホーリーナイト)Glass Mask desu ga to ZElsword: El Ladyアーリーレインズちょこっとアニメ けものフレンズ３최강 합체 믹스마스터カリーノ・コニA.D. Police, AD Police, Advanced PoliceZero-sen HayatoThe Nine Colored Deer, A Deer of Nine ColorsKitty no Fushigi na MizuumiHe~sei Policemen!!, Heesei Policeman!!, Hesei Policemen!!GF Kari, Girlfriend Beta, Girlfriend Kakko Kari二人の王子さまデュエル・マスターズ ゼロHokuto no Ken: Ichigo AjiDa Shijie, Dashijie, Hao Ji Le, Haojile, 好极了カラフルCode Geass: Lelouch of the Rebellion - Masked Confession CompetitionMr. Osomatsu White Day ShortsBroConSekai Meisaku Gekijou Kanketsu Ban: Araiguma Rascal, World Masterpiece Theater Complete Edition: Raccoon RascalあかねちゃんLullaby for Wednesday\\'s CinderellaSamurai Troopers OVA 3Wind: A Breath of Heart (2004), windtvManxmouseGo for it, Ippatsuman!, Time Machine Series Ippatsuman the AntiheroSword Art Online Fatal Bullet -The Third Episode- ＜パイロット版＞Sasuke, the Young Sarutobi, Magic BoyしゃばけSAMURAI GIRL\\u3000リアルバウトハイスクールSei Luminous JogakuinSoukou Kyuujo Butai RESTOL, Restol, The Special Rescue Squad, RESTOL SRSポロクロイス物語 パイロットフィルムパーマン バードマンがやって来た!!It\\'s the New Year! Pocket Monsters Special!ななみちゃん간 전문의 새로구미Kyofu ShinbunUnder Luosheng TangPocket Monsters Anime Super Ultimate Pokémon Gold and Silver Guidebook Super SelectHello Kitty and Friends: Exciting Birthday, Keroppi and Friends: Exciting BirthdayPhantasy Star Online 2: Episode Oracle Episode 12.5, Phantasy Star Online 2: Episode Oracle RecapOBSOLETEAndou of the Forest, Ando of the WoodsMonster Hunters, MonHun Nikki Pokapoka Airu-mura, MonHun Diary Felyne Village in Danger: Felynes in a PinchめぐみこぎみゅんChibikko Rémi to Meiken Kapi, Little Rémi and Capi, Little Remi and Famous Dog KapiAt the Bus StopAdventure of KorobokkuruBalala the Fairies Season 1, Balala, Little Magic Fairy: Rainbow Heart StoneSeize Your Heart From That DayAIKa R-16:VIRGIN MISSION嫌な顔されながらおパンツ見せてもらいたい 2異能のアイシス ESP & HIGH SCHOOL DETECTIVEThe Symphony of LoveSecret Princess HimegotoハーバーテイルGaro 2nd Seasonフレームアームズ・ガール ～きゃっきゃうふふなワンダーランド～MozaikaGekijouban Duel Masters: Honoo no Kizuna XX, Duel Masters: Honou no Kizuna Double X, Duel Masters: Blazing Bonds XXDREAMLANDDream사이퍼즈Chokotan!, Choco-tan!, Ribon Festa 2013, Ribbon Festa 2013Otona ni Naru tte Nandarou?セロひきのゴーシュBLAME (ブラム!)Bernard Bear, My Friend BernardHello Kitty: Let\\'s Play, Hello Kitty & FriendsBusinessman in AfricaAd Lib Anime Laboratory, Ad Lib Anime KenkyuushoAsteroid Mask, Planetary Mask望古神话之天选者Ultra Nyan 2: Happy Daisakusen, Ultra Meow 2Ddoli and Zeta Gundam, Ddoli wa Zeta Robotタイムボカンシリーズ\\u3000イタダキマン好きな子がめがねを忘れた ショートアニメ搜玄录之宸灵纪スカイヤーズ5The Battling Days of the \"Shitamachi\" Virgins新宝島Overwatch 2: Kiriko Short Animation \"Protector\"ピカイア！Wakate Animator Ikusei Project, 2014 Young Animator Training Project, Anime Mirai 2014, Paro no Mirai Shimaぬいぬい日昇三兄弟The Straw Millionaire贄姫と獣の王 ミニアニメThe Door Into Summer, Opening to Summer, Natsu he no Tobira, Door to SummerHoney & Honey DropsMaster of Epic ~The Animation Age~魔王様、“プチ”リトライ！リトルポーラベア しろくまくん, ふねにのるLicca-chan: FMR, Licca-chan and Her Amazing Magic RingPandora in the Crimson Shell Specials, Koukaku no Pandora Specials機動戦士SDガンダムまつりKantoku Fuyukitodokiselector infected WIXOSS 『緑子さんとピルルクたん』サクラ革命 ～華咲く乙女たち～God Mars: The Legend of 17 Years, Six God Combination God Mars: Seventeen Year Old LegendRokumon Tengai Monkore Knight Movie: Densetsu no Firedragon, Densetsu no Fire Dragon, Monkore Naito Densentsu no Fire DragonProject Scard: Scar on the PraeterNinajala Episode 0モンキーマジックメタルスキンパニックMADOX-01名探偵コナン 縄文体験やってみよう!You are Beyond, KimiKanaKidou Senshi SD Gundam Mk-IVIchirinshaはいすくーる仁義Hello Kitty and Friends: The Prince in His Dream Castleガンダム Gのレコンギスタ FROM THE PAST TO THE FUTUREがぁーでぃあんHeartsFairy蘭丸~あなたの心お助けします~Mami the ESPer: Dancing Dolls in a Starry SkyWestward Juvenile Journey, Dahua: Shaonian Youガーデン・インディゴの車窓からシーバス１-２-３CHILDRENCandy.zipHappy Science Movie 5Bonobono the MovieBalala the Fairies Season 2White BirdBackkom Filler Animation, Tightly, Backkom Library, Bernard, Backkom Song!!, Backkom Separate Garbage Animation, Super Backkom, Backkom Feature Trailer, Backkom\\'s Friendsアタゴオルは猫の森Red Photon Zillion Recaps, Emi Penguin\\'s Diary, J.J. vs. Ricks: Predestined Confrontation, Champ & Apple: Fantastic MemoriesZoo Without an ElephantEncyclopedia of Pitiful CreaturesOre dake Haireru Kakushi Dungeon Mini AnimeCho Denei-ban SD Gundam Sangokuden Brave Battle Warriors, SD Gundam Sangoku Den Brave Battle Warriors, BB Senshi綾音ちゃんハイキック!アヴェンジャーあした・きらりんAne Log Flash OVA, Sister\\'s Log: Moyako\\'s Never-ending Monologue OVAAIKa: ZERO高宮なすのです！〜てーきゅうスピンオフ〜\\u3000ＴＶ未放送オリジナルエピソードアニメ蜀山奇仙录神州魑魅変Scripta volantOtome Nadeshiko Love DiaryGonna be the Twin-Tail!! Recapおカマ白書Tekken x Customs: Mamoru Hikitsugu Watashitachi no Kurashiまじかるすいーとプリズム・ナナKobu-tori, His Snatched Off Lump, The Stolen Lump (1929)Old Master Q and San-T, Old Master Cute Part 3, Shan T Lao FuziSekai Dowa Anime Zenshuポケットモンスター スカーレット・バイオレットパラダイスFemale Soldiers Efe and Jeila: Crest of Gude, Jun and Sarah, Onna Senshi Efe & Jira: Guude no Monshouネコと和解せななつなぐ!Mugen no Ryvius: Light - Fan Disc, Mugen no Ryvius Picture Dramas, Mugen no Ryvius Light Avant-TitleMorimori Shima no Mougu to Peroruマジカパーティきょーふ！ゾンビ猫Hello Kitty and Friends: The Frog\\'s Secret House, Keroppi and Friends: The Frog\\'s Secret HouseけんけつTentai Senshi Sunred: Kawasaki Frontale, Kawasaki Frontale x Astro Fighter Sunred快刀乱麻 THE ANIMATIONThe Incredible Gyoukai Video Junk Boy火力少年王3Hello Kitty and Friends: The Dream ThiefMekanda RoboFutari Kurashi, Futari Gurashiどーにゃつ宮沢賢治作品集 どんぐりと山猫ドールズフロントラインバーバパパ (1977)爆TECH！爆丸あの地An Ling and Stitch\"Heroes\" DismissedZettai Bouei Leviathan Campfire ShortWorld Fool News (2014)Watanuki\\'s HouseVitamin X OVA失われた朝食Ultraman M78 Theater Love and Peace, M78 Love and PeaceSEN!Sindbad: The Flying Princess and the Secret Island Pilot Video, Sinbad: Soratobu Hime to Himitsu no Shima Pilot Eizou新 鬼武者 DAWN OF DREAMS THE STORYYuyake Dandan妖怪伝 猫目小僧Youkai Ningen Bemu, Yokai Ningen Bem, Humanoid Monster Bem (TV 2)Utsunomiko: Earth Chapter, Utsu no MikoURVANUmimonogatari Anata ga Itekuretakoto, Sea Story, Kanon to Iku AmamikoshimaTime Bokan Series: ZendamanGenesis of Aquarion Special, Holy Genesis Aquarion Special, Sousei no Aquarion SpecialTVアニメ｢ちび☆ローリング☆ガールズ｣コロコロ劇場Hyperdoll: Mew & Mica the Easy Fighter, Rakusho! Hyper Doll, Hyper DollsPororo the Little Penguinピアシェ～私のイタリアン～A Penguin\\'s TroublesNani Iro no Nani無邪気の楽園Moshidora Futatabi Soushuuhenミラクル☆トレイン〜中央線へようこそ〜虚構推理 ミニアニメ Season2Hello Kitty to Mimmy no Happy BirthdaySmiling Restaurant, Nikoyaka ShokudouWatashi no Santa, Always My SantaIdol Defense Force Hummingbird, Idol Boueitai HummingbirdHaitai Nana FaゴンGanbare! Kakurease Project, Do Your Best! Hidden Sweat Project, Kao Bioreくじらの湯KK7, Koikoi7, Koi Koi 7, Koikoi Seven, Koi Koi Seven, DVD Omake, DVD Extra 2KINGSGLAIVE FFXV ファン感謝特別ムービーLong Distance Call, Business Commando Yamazakiけものフレンズ2シキザクラLala MajiPorong Porong Pororo, Pororo\\'s AdventurePia Carrot: The MovieアウトランダーズHot Springs Fairy Hakone-Chanおはようハクション大魔王Popsicle of Sorrow, Mourning Ice PopMomo\\'s Harem Plan Secret FileMarginal Prince: Gekkeijyu no Oujitachi Episode 14魔術士オーフェンはぐれ旅Licca the Movie: Licca-chan to Yamaneko Hoshi no TabiPeacock KingKiki & Lala in The Princess of the Cygnus ConstellationKeifukusanかたのあとFragments晶翠仙尊Horsagaハローキティの小公女ガンダムビルドメタバースDuel Masters 2.0超獣機神ダンクーガ 白熱の終章Bosco Adventure PilotBLUE REFLECTION RAY/澪ARKYamishibai: Japanese Ghost Stories Eighth Season, Yamishibai: Japanese Ghost Stories 8Boonie Bears IIIWAVE!!〜サーフィンやっぺ!!〜The King of Ten Thousand Domains, The King of All Realms, Lord of All Realms, Wan Yu Zhi Wang, The King of Ten Thousand Domain, King Of All RealmsぶらどらぶVisions of Frank: Short Films by Japan\\'s Most Audacious AnimatorsUmi-Yami桃花源记Shukufuku no Campanella: Isshoni Bath TimeShin Seikimatsu Yatsuto no Sogu, End of the New Century: Encounters with that Kind, New End of Century Encounter with that Guy, Encounter with the GuyRagnarök Mobile, Ragnarök Online DreamUchu Ace, Uchuu Eesu, Uchu EsuUrban Legend Story HikikoAstro Boy: Volume of the Blue Knight天地無用! 魎皇鬼 謹製びでお絵本 平安無用!Taiman Blues: Ladies Chapter - MayumiShachibato The AnimationSEX～Prologue～ROBBER\\'S COMPANYRio - Rainbow GateNagoya Railway Special MovieMUTEKING THE Dancing HEROMiracle Girl Limit-chan, CybernellaMangirl! Special, Mangirl! Episode 14魔法のプリンセスミンキーモモvs魔法の天使クリィーミーマミRupan Sansei: Ikiteita Majutsushi, Lupin III: Return of the Magician, Lupin III: ~ The Living Magician ~ Return of PycalIron Vendetta, Koutetsu no Vandetta拡張少女系トライナリーSen-shoujo Iczelion, Iczer Gal Iczelionほかほか家族Together with Hello Kitty, Parenting Animation With Hello Kitty, Shitsuke Anime Hello Kitty to IsshoヘヴィガッデムGhost Messenger GeugjangpanG-on らいだーすFire Emblem Heroes - Book VI Ending MovieReborn to Master the Blade Mini Anime, Eiyuuou, Bu wo Kiwameru Tame Tenseisu: Soshite, Sekai Saikyou no Minarai Kishi♀ Mini Anime (2022)Hinabachi: BEE, Young BeeThe Bunbuku Teapot, Bunbuku Chagama (1928)バンブー・ベアーズActive Raid: Special Public Security Fifth Division Third Mobile Assault Eighth Unit石田とあさくらぐんまちゃんMagical Somera-chan【FEH】アスク王国 定点カメラ（エイルの1日）ファイアーエムブレム ヒーローズ - Book IV Ending MovieEternal FamilyDr. Slump: Penguin Village SOS, Dr. Slump: Game by Heart, Episode 24.5, Heart de Shoubu! - Nandemo OK Orcha-kun - Penguin Mura SOS!!Cop Craft Episode 9.5, Cop Craft Recap, Tokubetsu-hen: Utsukushiki Onna Kishi! Toraware no Yousei wo Oe!Cleopatra DCABC Weather News x TECARATタイムボカン24Thermae Romae: Ancient Roman Goes to Spaceザ・フライング・ルナクリッパーSoul Link Tokubetsu Kaisou-hen: Cellaria / Nanami, Soul Link Episode 10.5SHOW BY ROCK!! Gonna be a music millionaire!, Plasmagica AfternoonSpirit Warrior: Peacock KingNew Battle Vixens, Dragon Girls, Ikki TousenロボットガールズＺ「復活の地下帝国！？ロボットガールズＺ ｖｓ なぞの三大主役ロボ！」りばあすクイーンズブレイドUNLIMITED파워배틀 와치카The Heisei Era of Pocket Monsters: From Tuesday to Thursday to Sunday, Pocket Monsters - The Heisei Era (New Year Special), Pokemon Sun & Moon: New Year SpecialArk of Awakening, Waking ArkメロディMarginal Prince: Gekkeijyu no Oujitachi, Marginal Prince: Gekkeiju no Ohji Tachiマイの魔法と家庭の日Mahou Shoujo Lyrical Nanoha A\\'s: Picture Drama - Iryou Shoujo Medical Shamal Second Cour, Nanoha Picture Drama 03, Medical Shamal Second Cour魔法の天使 クリィミーマミ パーフェクトメモリーまえせつ!Larva 4th Season組長娘と世話係 ピクチャードラマKoi Suru Tenshi Angelique, Angelique Chibi OmakeキキとララのパパとママにあいたいConfidence, ConvictionKakkou no Iinazuke Mini AnimeKagami no Gen\\'on, Mirror\\'s Fundamental ToneJyoshi Kauseiホシガリ姫の冒険Harukana Receive next episode previewsH.P. Lovecraft no Dunwich Horror Sonota no MonogatariGO!GO!アトムエンドレスヴィーデDr.スランプアラレちゃん あやや!?ペンギン村でテレビジャックDongguo Xiaojie: KarmaDekobou\\'s New Picture Book: Failure of a Great PlanCUE! ショートアニメChou Jikuu Robo Meguru, Hyperdimension Robo MeguruAi Mai Mi, I My Me爆TECH!爆丸ガチBabel II OVA, Babel II OAVAloha! Youkai Watch: Rakuen Hawaii de Geragerapo~!!, Hawaii Tourism Boardアリス・ギア・アイギス ExpansionI\\'m the Villainess, So I\\'m Taming the Final Boss MiniKami no Tou Recap女子高生信長ちゃん!!アイドルプロジェクトFlying BabiesHokkyoku no Mushka Mishka, Mushka and Mishka, The Polar Cubs an Adventure of the North Pole, Mooshka and Meeshka of the North Pole, Die PolarbärenHello Kitty and Friends: The Day the Big Clock StoppedGPOぐーぐりぃ ぐーぐりぃゴキブリたちの黄昏Guda MenGekijouban Duel Masters Lunatic God Saga, Black Moon God Emperor, Emperor of the Black Moon, The Evil Moon EmperorsCynical Hysterie Hour: Through the Nightコメット・ルシファーLemon Cocktail LOVE 30S, Lemon Cocktail: Love 30 S, Chu-high Lemon LOVE 30S출동! 슈퍼윙스Ultra-Transforming Magic Robot Ginguiserべあべあべあくまーぱーんち！Battle Spirits Season 9あさりちゃん 愛のメルヘン少女La Grenadière吉宗The Truth of Grimm Brothers\\' Fairy Tale, Otona no Douwa, Otona no Dowa, Otono no Douwa, Otono no Dowa, Adult Fairytales, Adult Fairy TalesTransformers Super Link Special, Transformers Energon Special, A must see! The Greatest Dream Match, DistributionThe Lamp Man天神T.P. Sakura ~Time Paladin Sakura~ Jikuuju BoueisenNew Sakura Wars the AnimationSengoku Wildlife CaricaturesSecret of Moldiver! Confidential Encyclopedia!Three Monks竜世紀Good-For-Nothing Blues 1992, Rokudenashi Blues \\'92PazuDoraPokemon Recap, Pocket Monsters, Fall Special!Persona 4\\'s Mr. Experiment ShortsPeeping Life: Tezuka Pro Tatsunoko Pro Wonderland ONA, Peeping Life: Tezuka Pro, Tatsunoko Pro Wonderland ONAMAKE MY DAYDemon Warrior Luna VargaMahou Shoujo Lyrical Nanoha: Picture Drama - Mahou Shoujo Lyrical IF, Nanoha Picture Drama 01立体悲剧リカちゃんの日曜日虚構推理 ミニアニメPeeping Life -World History-Creator\\'s World Project 4Kaichu!Non-Human Creature\\'s WifeNo Longer HumanHighschool Aurabuster: Birth of the LightHello Kitty no Mahou no Mori no Ohime-sama, Hello Kitty and Friends: The Sleeping PrincessOver The Edgeグレゴリーホラーショー - The Bloody KarteGlass no Chikyuu o Sukue Unico Tokubetsu HenジェノサイバーふたりはミルキィホームズFairy gone フェアリーゴーンDou Hun Wei Zhi Xuan Yue Qi Yuan, The Dream of the Soulだいたい3分でわかる.hackヒストリーBig YamatoWe\\'re Manga Artist: Tokiwa Villa Story, We Are Manga Artists: The Tokiwa Apartments Storyアニメ落語館Crown Knightsひみつのアッコちゃん 海だ! おばけだ!! 夏祭りHello Kitty\\'s Animation Theater 8aガンパレード・オーケストラEunsil-iDr. Slump: Arale-chan Traffic Education Film, Dr. Slump & Arale-chan: Let\\'s Learn Traffic Safety, Dr.スランプ アラレちゃん 交通ルールをまもろうよドン 極道水滸伝출동! 슈퍼윙스2Car & Tue, Carole & Tuesday Mini SeriesAnime-gatariZ/X Code ReunionKindergarten Warriors: Hanamaru Girls横浜名物：男片山組！ウィザードリィCursed Dress, Uchida Shungiku no Noroi no OnepieceZa Gakuen Choujotai, School Super Girl TeamThe closet球詠支配者の黄昏ろぼっとアトムAllied Air Force Magical Idols Luminous Witches Episode 6.5Magical TravelersMunou na Nana Mini Anime: Yaminabe PartyThe Cowboy\\'s Flute, The Cowherd\\'s Flute, The Buffalo Boy and his Fluteミスター・ボンドまんがーる!奇鋼仙女ロウランHello Kitty and Friends: The Christmas Eve Gift, Keroppi and Friends: The Christmas Eve GiftHappy Carbonara StoryShadow Skill: Kuruda-ryu Kousatsu-hou no Himitsu, Shadow Skill: Secret of the Kurudan Style, Shadow Skill 3Holy Warrior Dunbine Recaps, Dunbine Recaps, Aura Battler Dunbine Recaps, Aura Battler Dunbine MemorialSchool DaysCalico Cat Holmes and the Lord of the Haunted CastleまゆみFlash and DashShigoto Shoukai, Arubaito, Job Introduction, Part-time Jobこわれかけのオルゴール マナームービー古事記 日向篇機動戦士ガンダムUC A Phantom WorldIdiot Boyfriend: My Boyfriend is an IdiotHontou ni Atta Gakkou KaidanHeroes花の翳Gunbare! The Game Paradise 2, The Game Paradise 2 MovieGuardian Hearts OVA seres 2Giant Robo Prologue-hen, GR: Giant Robot Pilot고스트 메신저エクスパー ゼノンDCTM, ToromeraToushinki G\\'s Frame, 闘神機ジーズフレームコズミックブレイクBlack Jack: Futari no Kuroi Isha - A Reminder, Black Jack: A ReminderBattle Girl ProjectALL THAT GUNDAMYokai Ningen Bem Part II, Demon-man Bem Part IIYamishibai: Japanese Ghost Stories Fourth Season, Theater of Darkness 4th Season, Japanese Ghost Stories 4約束ホワッツマイケル? 2刻の大地 ～花の王国の魔女～食べちゃったっていいのにな!咲う アルスノトリア すんっ！True Tears Episodes 1-10 DigestKyouei Tankou-sho, Kyoei Forging Works, Kyouei Forging Worksイソップ・ワールド47 Todoufuken 2012 Natsu, 47 Todoufuken 2012 Summer, 47 Todoufuken Spring Special, 47 Todoufuken Summer Special23時の佐賀飯アニメいきものさんHuan You Lie Ren, Fantasy Hunter, Fantasy x Hunter, Phantom HunterElf SeventeenドラゴンボールZ 超戦士撃破!!勝のはオレだドクタースランプ ほよよ！アラレの秘密大公開だよ！！Dororo (Pilot Film)Dies Irae Tokubetsu Soushuuhen: Marie\\'s Memory \"Michi ni Tsuuzu Kiseki\", Day of Wrath, Dies Irae RecapCinnamoroll\\'s Parade, Cinnamoroll 10th Anniversary, Cinnamon\\'s ParadeMini Oyaji, Little Old Manちちぶでぶちちバックステージ・アイドル・ストーリーATOMIC WORLDARP Backstage Pass Episode 11Alexander Senki Gekijouban0-sen Hayato: Kishuu, Zero-sen Hayato Pilot, Zero-sen Hayato: Kishuu, 0-sen Hayato Episode 0, Zero-sen Hayato Episode 0Zannen Jokanbu Black General-san指を盗んだ女よなよなペンギンTake the X TrainURAHARAOoleebyeol ilhowa eollugsoGregory Horror Show SpecialsByururu to Mahou no Straw Theater, Byururu to Fushigi no MoriSeikima 2 Humane Society: Jinrui Ai ni Michita ShakaiI Give My All, I\\'ll Do it With Anyone, I\\'m All YoursMarie and Gali Episode Zero, Marie and Gali Episode 0, Marie to Gali Episode Zero, Marie to Gali Episode 0MAPS (1994)カミエラビ GOD.app七ヶ浜でみつけたSDガンダムワールド ヒーローズされど罪人は竜と踊るOne Room 2nd Season Episode 0, One Room 2nd Season: Hanasaka Yui no Prologue纳米核心 - NG镜头 - 纳米的日Nana\\'s Revolution, Rainbow Revolution, Ribbon x Oha Suta Specials, Nana-iro Kakumei, Ribon x Oha Suta SpecialsMemories Off (メモリーズオフ)Mahou Shoujo Sonico Magika, \\tMahou Shoujo Madoka★Magica April Fools\\'Kimi no Matsu Mirai e, Kimi no Matsu Basho eKidou Senshi SD Gundam SD Sengokuden下級生２ ～瞳の中の少女たち～K Seven Stories ザ・アイドルK剣王朝Gulliver\\'s Space Travels: Beyond the Moon, Gulliver BoyガイストクラッシャーLixiang JinquエコエコアザラクDownload: Song in Loving Homage to Amida BuddhaこすぷれCOMPLEXBlade and Soul Specials安達としまむら ミニアニメ11月うまれの男の子のために。Zegapain AdaptationNice DemonYAMATO2520 [ヤマトニーゴーニーゼロ]Pleasant Goat and Big Big Wolf Movie 7: Amazing Pleasant GoatPleasant Goat and Big Big Wolf Movie 1: The Super Snail Adventureわたしの名はオオタフクコ～小さな幸せを、地球の幸せに。～WasimoUltraviolet:Code044The Epic Of ZektBach: Daiisshou: Shamshir no Mai, The Epic Of ZektBach: Chapter 1: Shamshir Dance探偵はもう、死んでいる。Sugar Soldier, Sugar * Soldier, Ribbon x Oha Suta Specials, Ribon x Oha Suta Specialsスタンドマイヒーローズ PIECE OF TRUTH装甲娘戦機Mainichi 2-bun: Issho ni #GodAsk! - \"Tsuno-Tsuno Taisou\" (FEH)豆富小僧東京ふたごアスレチックスティッチ! パーフェクト・メモリーSchool Days LxH, School Days: Valentine DaysプリズムシーズンLegend of the Last Labyrinth, Princess Rouge: Legend of the Last Labyrinth뽀롱뽀롱 뽀로로 6オシリスの天秤にゃ～めん 天界第一女子高校文化祭 特別映像Mon-Soni! D\\'Artagnan no Idol Sengen未来へのかけ橋～Bridge for future～Miritari!ディスク・ウォーズ：アベンジャーズMahjong God, MashenAngelique: White Wing Memoirs, Angelique OVA 1Akubi-chanYamakoshi-mura no Mari to Sanbiki no Koinu, Yamakoshi Mura no Mari to San-biki no KoinuStar Blazers Pilot Film, Space Cruiser Yamato Pilot Film, Space Battleship Yamato Pilot FilmTransformers: Choujin Master Force Recaps, Fight! Super Ginrai!!, Begin the Bomber Project! The Creation of God Ginrai, The Secret of Godbomber!, Great Turn-Around! Autobot Warriors!Tetsuwan Atom: Chikyuu Saigo no Nichi, Tetsuwan Atom: Doomsday, Astro Boy: DoomsdayTetsujin 28-gou: The Birthタブー・タトゥーソードガイ The AnimationRed Coloured Elegy, Red Colored Elegyぷぎゅる뽀롱뽀롱 뽀로로 2Monoshiri University: Tomorrow\\'s Calendarマイティ・オーボッツKotatsuneko, Kotatsu CatThe Great Adventures of Kikansha Yaemon D51Heavy Metal L-Gaim II: Farewell My Lovely + Pentagona Dolls, Heavy Metal L-Gaim OVAシャドウバースロボットガールズNEOSekai Meisaku Gekijou Kanketsu Ban: Peter Pan no Bouken, World Masterpiece Theater Complete Edition: Peter Pan & Wendyオシャレ魔女 ラブ and ベリー しあわせのまほうモフモフィクションJigglypuff\\'s Mini Concert with Dittoまほうのルミティア小鉄の大冒険Kaitei 3-man Mile, 30,000 Miles Under the Sea, Thirty Thousand Miles Under the SeaJeremii no Ki, Jeremy\\'s TreesFudanshi Summoning: I Got Laid by a Divine Beast on an Alternate World, Fudanshi Shoukan Mini Animeドラゴンズドグマド級編隊エグゼロスでででんChikara to Onna no Yononaka, Within the World of Power and Women, The World of Power and Womenバッドばつ丸のオレのポチは世界一Aquarian Age: Saga 2Rain, the Little Girl, and My LetterアマナツAlexander\\'s Campaign, Alexander Record of WarLittle Women in Love, Anime Ai no Awa Awa Hour, Anime Lovers\\' Awa Awa Hour, Anime Lovers\\' Bubble Bubble Hour, Modern Love\\'s SillinessGrandpa DangerZettai Yareru Gresia Shinwa, Zettai Yareru Girisha Shinwa, Greek MythologyYukan Club, Yuukan Kurabu, The Leisure ClubYuu Gi Ou: Go Rush!!Pleasant Goat and Big Big Wolf Movie 6: Meet The PegasusWACHA WACHA THE MOVIEうさかめアイドルマスター シンデレラガールズ スターライトステージ 新春！ハッピーニューイヤーキャンペーンTekyuu 6 Specials, Teekyu 6 Specials, Teekyuu 6 OVAA Country Between the WorldShi Ling Yanwuぜんぶわかってる雪解けをきいてYASUKE －ヤスケ－The Star of Cottonland Pilot Film, Fantasy of a Kitten Pilot Film, Wata no Kuni Hoshi Pilot FilmDoggie MarchOpen the DoorSweet Valeriansストラトス・4.1 ~DUTCH ROLL~SekaTsuyoRadio Wave诡水疑云プラトニックチェーン 暗殺実行中Peeping Life: Tezuka Pro Tatsunoko Pro Wonderland, Peeping Life: Tezuka Pro, Tatsunoko Pro WonderlandペコラOz no MahoutsukaiOVALxOVEROpus.COLORs (オーパスカラーズ)Mikonote Episode 0Sorry I Love You: Between of One YearA Christmas Carol, The Number One Miser of the Cityラティナの日記Koumechan ga Iku!!, Anime Ai no Awa Awa Hour, Anime Lovers\\' Awa Awa Hour, Anime Lovers\\' Bubble Bubble Hour, Modern Love\\'s SillinessKitten\\'s Scribbling, Kitty\\'s GraffitiKoikoi7, Koikoi 7Hello Kitty and Friends: Let\\'s Be Friends, Keroppi and Friends: Let\\'s Be Friendsケンタウロスの伝説Kanojo, Okarishimasu Puchi 2, Rent-a-Girlfriend Chibi 2, Kanojo, Okarishimasu Mini Anime 2神田川JET GIRLSOPT Recruiting AnimationCondition Green, Inferious Interplanetary War Chronicle Condition GreenHello Kitty and Friends: The Wonderful Sistersハローキティのロンドンにおりた宇宙人Rinshi!! Ekoda Chang, Rinshi!! Ekoda-chan, Yuruaniファンタジスタ ステラデュエル・マスターズ ビクトリーVその気にさせてよ myマイ舞Everything.mp3, Space Shower TV Station IDRefrain Blue (リフレインブルー)HAL Tokyo, HAL Osaka, HAL Nagoya,PONY METAL U-GAIM PROMOTION FILMNINJA & SOLDIERMonster High: Scary Cool GirlsNari Hero www (TV), Narihero www (TV)Fitness Boxing, Fit BoxingHello Kitty and Friends: The Adventures of the Coward Prince, Keroppi and Friends: The Adventures of the Coward PrinceKatarina\\'s Brain ConferenceKidou Senshi SD Gundam Gaiden, SD Gundam Sidestoryスクールガールストライカーズ Animation Channel大井の帝王おばけずかんNinjala Animated SeriesKung Fu MulanMarin and Yamato: Mysterious SundayLime-iro Ryuukitan X Cross: Koi, Oshiete Kudasai., Lime Iro Ryuukitan X CROSS - Koi, Limeiro Ryuukitan X, Raimuiro Ryuukitan XExpunged Chronicle of MirokuKoi Suru Tenshi Angelique, Angelique Chibi Omake 2瘤取りTentai Senshi Sunred: Kawasaki Frontale 2, Kawasaki Frontale x Astro Fighter Sunred 2Kamigami no Ki: Christmas SpecialDugaeui samIyaPanAmuri in Star OceanKono Sekai no Tanoshimikata: Secret Story Film Mini Animeヒトの来た遠く長い道花子Phantom & Lee\\'s Detective AgencyジブリがいっぱいSPECIAL ショート ショートG-九Cyclops Shoujo Saipu, Cyclops Girl CypuChii-Sui MaruビッグオーダーThe Kodama\\'s Lazy LifeGemini PropheciesA Crocodile Who Lived For 100 DaysZombie-ttal澱みの騒ぎ熊出没之环球大冒险Transformers - Scramble City: Hatsudou-hen, Scramble City: MobilizationTHE PEAKサンタ・カンパニーSamurai Gun Episode 8.5MiniminiRang Women Shao Ba, Let Us BurnPeeping Life（ピーピング・ライフ）‐The Perfect Extension‐ピーチボーイリバーサイド ミニアニメWho is Nanjyamo\\'s Partner!? (Donna Monja TV)Musha Kishi Commando SD Gundam Kinkyuu Shutsugeki, Dawn of PapalHans Christian Andersen\\'s Little Match GirlDemon Beast Phalanx, Magical Beast Front, Beast Wars魔法少女大戦꼬마버스 타요 1Katarina\\'s Brain Conference X夏恋戦機イマノワタシニデキルコト…ハローキティの 郵便屋さんありがとうHello Kitty and Friends: The Circus Comes to TownKachua Kara no Tayori, A Letter From Katue, Atsumatta 13-nin, 13 Meet AgainGekko no Piasu, The Cursed Earring, The Earring of MoonlightDuel Masters VersusGekijouban Duel Masters: Yami no Shiro no Maryuuou [Curse of the Deathphoenix], Duel Masters Movie 1 - Rule the DuelPop Team Epic, Bob Team Epic, Poputepipikku, Bobunemimimmi CollectionBenard Bear, Bernard Bear, Backkom 3Kimi ga Nozomu Eien Gaiden, The Eternity You Desire GaidenイロドリミドリDragon Pilot: Hisone and Masotan Digestハローキティのはじめてのクリスマスケーキデュエル・マスターズ ビクトリーAge of the Great DinosaursチルリThe WindowThe Hard: Bounty HunterBoku no Imouto wa \"Oosaka Okan\"Junai Cosmetic Comic: Bihada Ichizoku, Pure Love Cosmetic Comic: Bihada FamilyAnime-Gataris: The Passing Year, The Coming Year, Animegataris OmakeKiss me on the Apple of my Eye, Kiss wa me ni shite直球表題 ロボットアニメ-STRAIGHT TITLE-Bernard Mission ImpossibleRed Photon Zillion: Burning Nightアイ・シティ絶望の怪物ズドラーストヴィチェ!雪国の王子さまYuki Terai: Secrets, Yuki Terai: Secret Films, Yuki Terai: Secret Live420 Renpai Girl, Yon-hyaku-nijuu Renpai Girl熊出沒Labyrinth of the Cloud World: Zeguy, Zeguy: Cloudworld Labyrinthとなりの801ちゃんRTHE GIFTすばらしい仕事Shuten Doji, Star DemonShinsengumiぜんまいざむらいTwilight Gekijou, Baku Yumemakura\\'s Twilight TheatreYs IV: The Dawn of Ys Promotional VideoHobberdy Dick, Yosei Dikku吉野の姫制Dark Night\\'\\'s Period-Drama, Dark Night\\'s DramaToukiden:The Age of Demons, ToukidenSoukou Kyoshin Z-Knight舌先から恋Shin Strange Plus Special, Sin Strange Plus Special, Sin Strange+ Special, Strange Plus Second Season SpecialShibainuko-san石影妖漫画譚SDガンダムワールド 三国創傑伝SCARLET NEXUSLa / Radio Noise * Planetプリンセスラバー! マジカル騎士マリアちゃん特別予告Pokemon x ASMRましろウィッチ政宗ダテニクルMan with a Mission The Animation Episode 0Mahou Shoujo Lyrical Nanoha A\\'s: Picture Drama - Midchilda Gakuen e Youkoso!, Nanoha Picture Drama 05, Welcome to Midchilda AcademyLemon Angel (YJ Ban), Lemon Angel [YJ Ban], YJ Ban Lemon Angel, Lemon Angel Young Jump EditionKou kouHeart Library: Communication ClipsMatasaburo the Wind BoyInzai Aruaruアイドル事変Pokémon stop motion animationヒーローベータあんさんぶるガールズ！！デュエル・マスターズ ビクトリーV3DIABOLIK LOVERS OADコンドームバトラー ゴロー Reviveボ～イ フレンドぶるりふ・れいっ！Bloody Bunny: Don\\'t Be My Enemy美術教育Babel 2-seiChitose Get You!! OVA (2013)Dark Side Cat, Darkness Catあひるの子Transforming Girls, Henkei Girls黑貓警長God Eater Reso Nantoka Gekijou: Episode 00源氏The Ant and the Grasshopperエリートバナナ バナ夫A Duck\\'s LifeCode Geass: Hangyaku no Lelouch R2 Omake Flash - Kaette Kita Baba Gekijou超音戦士ボーグマン LOVERS RAINバッテリーRenai Bakumatsu Kareshi Gaiden, Bakumatsu Second Season, Bakumatsu 2nd SeasonRenai Bakumatsu Kareshi爆丸エボリューションズアクエリオンロゴスAni Summer, Animelo Summer Live, Kemono Friends x Anisama 2017, Kemono Friends Animelo Summer Live IntroductionAnimation! Tomoyoshi Joko & Hiroco Ichinose Film Works 2009, Mr. Cloud and Mr. Rain, Buildings, Lizard Planet, Kanagawa Dog, annihilation, The last breakfast, Ushi Nichi, ha-P, COSMIC! (pilot film), YOKOHA-MAMAN, morning (pilot film), Buil-BunAhjangdatkeomMobile Suit Gundam: Zeonic Front Special Movie, Kidou Senshi Gundam: Zeonic Front - Indignation of Zeon.Spaceship Sagittarius Pilot, The Space Sagittarius PilotTransformers Z東京コスモスティッチと砂の惑星ソウタイセカイWhite Elephant白い砂のアクアトープ みにMagical Girl Lalabel: the Sea Calls for a Summer Vacation, Mahou Shoujo Lalabel (1980)まじかるハットBeaten by Black Rain, Struck by Black RainKandagawa Jet Girls OVAジャスティーンIzumo (1991)IsenidoKingdom of Light in the Himalayasはだしねこガル学. ~聖ガールズスクエア学院~Go For It, Tabuchi: Violent Pennant ContestGall Force: Shin Seiki HenFushigina ElevatorThe King of Heroes reincarnates to polish his skill to the limit and becomes the strongest knight in training in the world♀The Telegraph Pole Motherシニカル・ヒステリー・アワー うたかたのうたCanvas: Motif Of SepiaCandy Cariesアンデルセン物語Little Dino Dooly Movie (Movie)91 DazeIT\\'S MY LIFEI Think You\\'re a Little ConfusedGudetama Special風雲維新ダイ☆ショーグンディメンション ダブリュー Wの扉 ONLINE ~ロゼのお悩み相談室Voogie\\'s Angel OVA, Susume! Super Angels!, Dash! Super Angels!地図のない冒険Rose Flower and Joe, Bara no Hana & JoeAoi Sekai no Chushin deFisherboyForest Frenzy of Boonie BearsSpring into Action of Boonie BearsI Am a CatツナガルAbandoned Cat Little ToraStitch! Best Friends Forever Special, Stitch!: Zutto Saikou no Tomodachi Episode 30, Ace\\'s BackStitch! Special, Challenge from Piko, Stitch! Episode 26Shijin no Shogai, The Life of a PoetMugen Shinshi BKH, Mugen Shinshi DDGWander! UnderworldDon\\'t Lose, Makendo!, Makeru na! MakendoキズナSora no Kagerou 2MAFFRaven Tengu Kabuto: The Golden-Eyed BeastKamiusagi Rope: Surround Headphone-henSeoulyeokSenjuushi OVASekaTsuyo Specials琉球タイムライン -未来少女と古の王-RErideD－刻越えのデリダ－Pokemon Fun VideoPelikan Road Club Culture, Pelican Road: Club CarouchaOgaki-shi, Ogaki Shi, Ougaki-shi, Ougaki ShiNew Year\\'s Card BondsTheNightGame ネコのさくせんNakedyouthMomon\\'s Sandwitchまつばらくんましろのおと ミニマーベル フューチャー・アベンジャーズThe Desolate Era, Age of Desolation, Records of Barbarian Ji of the Primeval EraMagic User\\'s Club! vs. Shamanic PrincessKoiken!: Watashitachi Anime ni Nacchatta!Kiki & Lala in: \"I Want To Be A Princess!\"Kidou Senshi Gundam-san: Because I\\'m a Boy, Mobile Suit Gundam-san: Bouya Dakara saKasajizouSenior ClassJeh-bool-chal-shee e-ya-gee, je bul chal ssi i ya giHyakuren no Haou to Seiyaku no Ikusa Otome星空キセキハローキティのパパなんて大きらいハローキティのハッピー!仮装大会Hacker Doll, Hackadollグランマルシェの迷宮FEEDHipira-kun Episode 13Hikari: A Story Connected with Kariya東アジア文化都市2019豊島Guystars: Fractions of the EarthMiyuki-chan In MirrorlandStation Memories!, Station Memo!, Eki MemoButlers~千年百年物語~Basket Army밥묵자Umi no Triton PilotUmi Hiko Yama Hiko, The Sea Boy and the Mountain BoyUmi no Mizu Hanaze KaraiUltraman: The Adventure BeginsShenqi Huanqitan, Shen Qi, Shenqiさわって！ぐでたま 〜3どめのしょうじき〜リンカイ!Pororo-wa Nolaehaeyo뽀롱뽀롱 뽀로로 5Peace Through Bread!Ninja Gaiden, Ninja Ryukenden, Tale of Ninja Ryuuken, Ninja Ryu: The Dragon Sword StoryThe King of Burning Desert Gandalla, Supreme Ruler of the Hot Sands Gandahara, Netsusa no Hano Gandahara [Gandalla]「MY HOME」マイホームSTOP! Kaizokuban: Keroro Gunsou x No More Eiga DorobouHello Kitty and Friends: The Adventures of Gulliver, Keroppi and Friends: The Adventures of Gulliver川越ボーイズ・シング怪物学抄World System, World GreatnessThe Instructive Trip Around the WorldSeason\\'s Greetings from dwarfSuperior Defender Gundam Forceセントエルモ・光の来訪者Paris no Isabel, Isabelle of Paris, Isabell de Paris「俺、つしま」×「名もなきねずみ」コラボ動画おかしな転生 ミニアニメお嬢と番犬くんモンスターストライク The Animation 第0話「モンストの危機」Kumo to Chuurippuキクマナ機動新撰組\\u3000萌えよ剣Hello Kitty and Friends: Let\\'s Play Baseball, Keroppi and Friends: Let\\'s Play Baseball鴨が好き怪獣酒場カンパーイ!HunterひもてはうすHello Kitty\\'s Animation Theater 4aHana no Ko Lunlun Movie, Hana no Ko Runrun, Hello Cherry Garden: Lun Lun the Flower ChildH’or CafeGoulart Kishidan: Evoked the Beginning Black강아지똥ETERNITYAkuma no Hanayome: Ran no Kumikyoku, Bride of Deimos: The Orchid SuiteBorgman II, Borgman 2058チャンネル5.5Boku no Imouto wa \"Osaka Okan\" Episode 1.5축생일Where He Can Relaxアクビガール100%パスカル先生 (TV)妖世紀水滸伝UG Ultimate Girls, Ultra Girl, UG*Ultimate Girls逃走中 グレートミッション東京ガンボEiyuu Densetsu: Sen no KisekiSuzy\\'s Zoo: Daisuki! Witzy SpecialスーパーショートコミックスSouten no Ken 2, Fist of the Blue Sky: RegenesisSoul Worker: Your Destiny AwaitsAt That Time, She.雪の女王Wonder Gravity Opening MovieSiam Neko: First MissionそれだけがネックソラとウミのアイダSlime-tachi no Itobata Kaigi: YokokuShoko Nakagawa Prism Tour 2010 (中川翔子 Prism Tour 2010)新ど根性ガエル ど根性・夢枕Sagashi monoSaa Ikoo! Tamagotchi, Let\\'s Go! TamagotchiRight Places その時, ぼくの居るべき場所Pororo Hangug-e Wass-eoyo, Ppololoui Hangugdaemoheomプラトニック・チェーンPeeping Life（ピーピングライフ）TV シーズン1 ??One Room 2nd Season ExtraHadaka no Ookami水のたねStarlight Scramble Ren\\'ai KouhoseiスケッチShin Karate Jigokuhen, Shin Karate Jigoku Hen精霊使いPatisserie no Monster, Patisserie MonsterPunkzkissIs it a Crime if You\\'re Threatened by Your Student?俺が好きなのは妹だけど妹じゃない俺が好きなのは妹だけど妹じゃない新規短編アニメーションオニズシNidoto Mezamenu Komori Uta, Lullaby to the Big Sleep, Lullaby Not Awake Two Times無能なナナ やみなべぱーてぃーMankatsu SpecialMETROPOLISLast Exile: Saturday MorningKoroshiya Ichi The Animation: Episode 0キンバリー魔法学校のゆかいな日常Hello Kitty and Friends: The Big Adventure, Keroppi and Friends: The Big Adventure, Kerokeroppi: The Big Adventure Mystery of the BellybuttonLet\\'s Learn With Katarinaかいぶつが、うまれた日。Aim for the Top! Gunbuster Science Lesson Returns, Gunbuster New Science Lessons, Science Course Return聖闘士星矢 セインティア翔뽀롱뽀롱 뽀로로 3Pink: Water Bandit Rain Bandit, Akira Toriyama the WorldOTMGirlsのよきよきチャンネルおかしなさばくのスナとマヌにゅるにゅる!!KAKUSENくん虹に向ってマネーウォーズ 狙われたウォーターフロント計画Weeping Dragon流星幻剑機動戦士SDガンダム Mk-VHeavy Metal L-Gaim I: Pentagona Window + Lady GavletMy Dread is School!, School is Dreadful! Kanako Inuki Shout Collectionゴ～！ゴ～！ご～しちご～Platinumhugen Ordian, Silver Armor Knight Audian, Attack Armor Audian, Ginsokiko OrdianガデュリンFire Emblem: Monshou no Nazo, Fire Emblem: Mystery of the EmblemCongming de Ikkyuu Zhi Fan Dou Gongzhu, Soumei-teki Ikkyuu, Princess Yulan, Naughty Princess and Ikkyuu-san, Naughty Princess and Ikkyu-sanちるらん にぶんの壱3 Iron MusketeersCake Sushi: Halloween-hen, Cake Sushi: Christmas-henaroundLow Fuel Cost Girl HeidiたまぽんずSnipe Clam Grapple, The Fight Between the Snipe and the ClamThe Snow ChildPleasant Goat and Big Big Wolf Movie 5: The Mythical Ark - Adventures in Love & HappinessTwo Car: Racing SidecarStudio Khara vs. CyberConnect2 Compete! Animation Showdown!Brother of the UniverseNew Story of AURA BATTLER Dunbine, Aura Battler Dunbine OVARyuki Denshou로보카 폴리PS3 no Tsukai Kata feat. Peeping LifeOut of My Mindお向かいさんなぜなにデンドログラムThe Giant Gods and the Ice Flower CastleことわざハウスKentoshiThe Sparrow in the Empty Pumpkin惑星のさみだれガン×ソードさんNanatsu no Taizai Mini Animeディズニー ツムツムクレヨンしんちゃん×パンパカパンツ\\u3000イオンシネママナームービーコラボコスモス\\u3000ピンクショックSaving Soldier Cashman, Savings Warrior Cashman小さなジャンボCalifornia Crisis: Tsuigeki no Juka, California Crisis: Tsuigeki no Juuka [Hibana]Hello Kitty\\'s Animation Theater 1bAnime Tenchou GekijoubanHello Kitty and Friends: Find the Secret Treasure47都道府犬RImokawa Mukuzo: Somersault, The Somersault of Mukuzo ImokawaHimote House Episode 10.5, Himote House OVAEagle Talon, The Frogman ShowWhite Bread Mimi愛をこめてDon Chisciotte, Don Quijote y los Cuentos De La ManchaWIXOSS DIVA(A)LIVE（ウィクロス ディーヴァアライブ）Wagahai wa Inu de Aru: Don Matsugoro no Seikatsu, Wagahai wa Inu de Aru: Don Matsugoro no Monogatari, Wagahai wa Inu de Aru: Don Matsugorou no Monogatari, I Am A Dog: The Story of Don Matsugoro, I Am A Dog: The Story of Don MatsugorouつままれるコマDropShin Kabukichou Story Hana no Asuka-gumi!Shaman King (2021) Mini Anime仙人部落琉球タイムライン2 -てだこのまち探訪-Ｒ２０ 銀河空港Private eye dol [プライベート・アイ・ドル]おとなの防具屋さんOhayou Ninjatai Gatchaman, Ohayou Nijna Force Gatchaman, Ninja-tai Gatchaman ZIP!내일은 평범해질거야TDK 名探偵コナンと解決 ビデオヘッドクリーナーVHS/S-VHS用Maps: Legendary Space Wanderers, MAPS (1987)Magical Witchland, 3D Magical Play京都アニメーション公式Twitter いつも ありがとうさばくの宝の城Psycho Diver Masei RakuryuPororo Geukjangpan Super Sseolmae DaemoheomPonyutaun, Ponyu TownNarudomaNanmu Ichibyou Sokusai, Namu IchibyousokusaiDemonbane: Ouroboros RondoSpace Shower TV Station IDKaito Reina, Phantom Thief ReinyaWakate Animator Ikusei Project, 2018 Young Animator Training Project, Anime TamagoEternal Filena, Eien no Filerna, FilenaChoboraunyopomi Gekijou Dai Ni Maku Ai Mai Mii: Mousou Catastrophe Special「エイジ」K-Swiss All White Projectトラちゃんと花嫁Slime Adventures - Yay, the Sea!, Slime Adventures - Yeah! The Sea!Channel 5.5Dream Car, The Dream Car, Yume no JidoshaWORMYWIND動絵狐狸達引The Great Battle of the Flying Saucers, The Great War of the Flying SaucersTuzki: LOVE ASSASSINManami & Nami Spriteリーンの翼Pipopapo Patrol-kun, Pipo Papo Patrol-kunおがみ松吾郎Peter of Placid Forestムーム はじまりの物語LoV3 Special Anime Movie新橋劇場 新橋の一番長い一日Frankensteins Monster, Horror Legend - Bizarre! Frankenstein, Kyofu Densetsu Kaiki! FrankensteinThe Running Heroes, Parkour Heroキリンものしり館Delicious Mask, Splendid Mask, Kekko KamenJuuza Engi: Engetsu Sangokuden OVAGOD EATER レゾなんとか劇場Round Vernian Vifam: Chicago Super Police 13デュエル・マスターズ (2017)Dragon Quest X: The Miracles of the Adventurersシニカル・ヒステリー・アワー トリップ・コースターCurly（カーリー）地下城の魔物Gauche the CellistTristia of the Deep Blue Sea一寸法師Now, The Pair\\'s PathsHoshi no Kirby, Kirby of the Stars, Hoshi no KaabiiHong GildongヒストリカルHandsome na KanojoHakyuu Houshin Engi SpecialG-On Riders OVA, Andro White Paper, G-On Riders Episode 14地球物語 テレパス2500Red Dragon WarBreakageあの山に登ろうよアレクサンドロスの決断Agent Aika Special, Agent Aika Episode 4.5, Agent Aika Moving OutHello Kitty and Friends: Aladdin and His Magic LampDangard Ace Movie: The Great Space WarApple Colored Water, Dragonfly\\'s Dream, Ash Time, The Hunter\\'s Forest, Deep Breath, Yuubinyasan, Utakata No Hibi, Street of MillimeterTama-Sichi, Tama Schichi!Tachibanakan To Lie AngleSword Gai 3DCG Promotional Movieすーぱーふらっと・ファーストラブSuper Mario Brothers: Peach-hime Kyuushutsu Dai Sakusen忘れられた人形Ramenman (Movie), Fight!! Ramenman: Light the Darkness!!Eagle Talon, Himitsukessha Taka no Tsume, The Frogman Show, Taka no Tsumedan ga \"Sengoku Taiga\" de Tenka Touitsu Mezashite Mita!Seishun Fufu Monogatari Koiko no Mainichi, Koiko\\'s Daily Lifeレリック・アーマー レガシアムWakate Animator Ikusei Project, 2017 Young Animator Training Project, Anime Tamago, Red Ash: MagicicadaPlatonic Chain SpecialOtome wa Boku ni Koishiteru: 3-tsu no Kiraboshi, Otoboku 3One Room (ワンルーム)おはなしの花ニュ～東京音頭魔法使い黎明期 ミニアニメKaidoumaru, Kaidomaruravex in Tezuka WorldChina National Day Special Edition, Qin Shi Ming Yue Zhi: Episode 15.5プロメディカスポールプリンセス‼［プラネットワルキューレ］ピコ太郎のララバイラーラバイぱんくんちおわんこモモキュンソードルパン8世Ziriziri Moyou no Ryuuryuu Tenten, Zarizari mo you no Ruru Tenten, People in a Strange PatternホタルかがやくハローキティのきえたサンタさんのおくりものGreek & Roman Mythology: Olympus Guardianゲーム天国 The Game Paradise!『学戦都市アスタリスク』シリーズ完結記念ミニドラマ電脳戦隊ヴギィ\\'ズ★エンジェルIf You Were Me: Anima Vision (2005)ビックリメンClamployeeKirin悪魔のメムメムちゃんA-Girl [エー・ガール]40周年だよ!! コロコロオールスター小学校ザブングルグラフィティ宇宙キャンパー/チッチHani Hani: Operation Sanctuary OVA, The Moon is East, The Sun is West: Operation Sanctuary OVAソード オブ ファンタジアぜんまいじかけのトリュフ犹太女孩在上海요리공주 루피Pleasant Goat and Big Big Wolf Movie 4: Mission Incredible - Adventures on the Dragon\\'s TrailPleasant Goat and Big Big Wolf Movie 2: The Tiger Prowessホワッツ\\u3000マイケル？Dangard Ace tai Konchuu Robot Gundan, Planetary Robot Danguard Ace vs. the Army of Insect RobotsI\\'m Home, Chibi GodzillaMizu wa Karma 2, Water Ring Karma 2少年とさくらＳＦ西遊記 スタージンガーSeisen Cerberus: Ryuukoku no FatalitePokémon Fun VideoTHE PLANET ZEROMarriage of a Mouse, Mouse\\'s Weddingななし怪談Monster ni Natta Domerika, Creator\\'s World Project 1桃太郎秘宝之国Code Zero Daily ReportMAN WITH A MISSION THE ANIMATIONDemon Hunter Makaryuudo, Makaryudo, Demon Hunter軽井沢シンドローム彼女、お借りします デートムービーイド：インディードHang On! Marine KidGakuen Handsome 12.5I Tried Asking In DogezaDies Irae Picture Drama, Dies Irae Radio DramaLelouch\\'s Britannia History Course, Sayoko\\'s Diary, Sayoko no Nikkichou, Code Geass Secret Note, Code Geass Best Phrase Award超光速グランドールSpectre, Hosai Sengoku Shi Spectre/Requiem, Hosai Sengoku Shi Spectre, Hosai Sengoku Shi Requiem, Racing Civil War Chronicle Spectre/Requiem, Racing Civil War Chronicle Spectre, Racing Civil War Chronicle Requiem, Bousou Sengokushi: Spectre TanjouビーストサーガShin MajindenAni Tore! XXKuro no Shishi, Jigen Sengoku Shi Kuro no Shishi Jinnai Hen彼岸島XGO! SAMURAIJoe vs. JoeエンドライドDimensional Loop, Mix Juice: Jigen Loop - SOS Rescue VersionDeep Insanity THE LOST CHILDべあべあべあくまー! クマダム編爆丸ジオガンライジングBakugan: Small Brawl StoriesAzure Striker GunvoltDo You Like Your Mom? Her Normal Attack is Two Attacks at Full Power, Okaa-san OnlineBikini Warriors Episodes 14, 15, 16, 17, 18 and 19バジリスク ～桜花忍法帖～Introduction for Japan Media Arts Festival 2019Tales of Yajikita CollegeマクロスfufonfiaLegend of Lemnear 極黒の翼 バルキサスこどもの形而上学機動戦士ガンダムZZ: GUNDAM FRAG.Hello Kitty and Friends: Find the Pink Mushroom, Keroppi and Friends: Find the Pink MushroomHello Kitty and Friends: Our Treasure, Keroppi and Friends: Our Treasure彼女, お借りします ぷちMeifon\\'s Special Information Corner, Kaisetsu Corner, Seihou Tenshi Angel SpecialSchool Days ～マジカルハート☆こころちゃん～サムライダー 謎の転校生さばくの国の王女さまPokemon stop motion animationPES: Peace Eco Smileにゃ〜めん年賀状２０２１（無限正月）Kino Tsukuru Kitto: Tsukurikata, Kino Tokyo no Ki to Yama no wo HanashiA Girl in a Lower Grade, Kakyuusei (1999) Episode 14in the sea and near a girl.ShironaPink Noise映像研ミニアニメDC Super Heroes vs 鷹の爪団バベルの本バトンARP Backstage Pass战龙四驱予言者育成学園 Fortune Tellers Academy私たち、らくろじ部! 2Through the WindowsAngel: The Place Where We Wereシルバニアファミリー真・進化の実劇場Underbar Summer熊出没之夺宝熊兵Pleasant Goat and Big Big Wolf Movie 3: Moon Castle - The Space AdventureUsagichan, It\\'s my rabbit and it\\'s Cue!宇宙ネコ マードックの冒険Du ZiqunSURPRISE 4 U.砂の灯Deep - Sea Legend Meremanoid魚のいうことを聞くFeel the moment, now or never!Project Piplup, Project Pochama, Piplup Sweetsオイさんと40の物語Madame Butterfly, Fantasy of Madame Butterfly, Madama ButterflyRinging in the ears緑の猫龍刀奇緣キキとララのはばたけ!ペガサスいつも心にホッHuman OrchestraGETUP! GETLIVE! #げらげらFunny Pets Plusドラゴンスレイヤー英雄伝説 王子の旅立ちコルボッコロGigant Shooter TsukasaBamboo Blade Specials青空アンダーガールズ！Takegami: Guardian of Darkness, Ankoku Shinden Takegami, Ankokushin Denshou Bushinアリス・ギア・アイギス ～ドキッ！アクトレスだらけのマーメイドグランプリ♥～犬と少年平成のシンデレラ 紀子さま物語GAIKAN CHIBAフジログフィールドにそよぐ風あしながおじさんHello Kitty\\'s Animation Theater 9b, The Duck\\'s DrakestailWWF 100% Renewable EnergyOsaka Tough Guys 2, Osaka Tough Guys TwoYuurei-senapril12, Minna de OtsukaiDark Night\\'\\'s Period-Drama OVA, Dark Night\\'s Drama OVA聖刻 －BEYOND－Violence Jack: Evil Town, Violence Jack Jigoku Gai, Violence Jack 2, Violence Jack: Jigoku Gai Hen, Violence Jack: Jigoku Gai Arcヴァリアブル・ジオUraroji DiamondToscaサイボーグ009 The ReopeningThe Red FalconARIEL (エリアル) VISUALはがねオーケストラGAZA changing the worldCircuit Angel: Resolving Starting Gridキャップ革命ボトルマンバケツの中の かかZIGGY それゆけ!R&R BANDSoft AtomバーチャルさんはみているTHE MARGINAL SERVICEミッキーとオリバーのエージェント養成講座天体譜スポGOMI ワールドカップエキシビジョンマッチ編Shinjuku Shin-chan: Traffic Safety for Good KidsNinja Bugeicho, Ninja bugei-cho, Ninja Bugeichou, Band of Ninja那由他菜々子解体診書MOTHER 最後の少女イヴApocalypsis, Mutabloop, oktometempsychosisKatana Maidens: Mini Toji, Mini Toji Episode 0Eagle Talon, The Frogman Show, Taka no TsumeMakyo Gaiden Le Deus, Demon Frontier Legend Le Deus, Demon Legend Le Deus, Radius, Makyou Gaiden LeDeusLIFE NO COLOR黒い猫こぐまのコロちゃんKansatsu! Pokemon Book: Oddish, Kansatsu! Pokemon Book: One PachiKami-Usagi Ropeおにくだいすき! ゼウシくんニンジャラなんじゃもんじゃおばけ七つの美徳Mikan Seijin, Alien from the Planet Tangerine, OrangemanルパンしゃんしぇいLet You, Get You, Saru Get You, Ape Escape: Let Me Get YouAkira Toriyama the WorldKanagatari. Kanabakari.時空転抄ナスカHIGH SCORE [ハイスコア]Gamba: Gamba and CompanionsFune wo Amu next episode previewsフルーティー侍大草原と白馬爆丸バトルプラネットAn Tu! An Tu!Ali Baba to Yonju-hiki no Touzoku, Alibaba and the Forty Thieves, Alibaba\\'s Revenge, Ali Baba to Yonjuppiki no TouzokuJuuichiji Hachibuうごいてハミだせ！まちカドまぞくTWD EXPRESS ローリングテイクオフ討鬼伝 極ウィズ海の唄Comet Freyline: Prologue, Comet Fraulein: Prologue, Suisei no Fraulein: PrologueShinjuku Shin-chan Patrol: Be Careful of Bad AdultsスクールデイズNear Death!! Ekoda-chanプリンセス ミネルバポケモンで学び、遊ぶプランゼットFart Gorouムーンレイカーズ꼬마버스 타요의 에이스 구출작전The Frogman Show, Eagle TalonHayo no Ken, Hayou no Tsurugi: Shikkoku no Mashou花ともぐらゲキドルデュエル・マスターズVSRFPrehistoric Warriors, Dinozaurs: The SeriesDiabolik Lovers 2nd Season, Diabolik Lovers Second Season, Diabolik Lovers: More BloodChain Chronican Black ShortsColorful Pastrale: From Bermuda Triangle, Bermuda△: Colorful PastraleBackkom Travel Mug, Backkom Mug TravelANISAVAHashiru Shiki-hen, Digest-hen, Ohai Alii: Kagayaku Hi no Tame ni, Iwaki Meisei UniversityThinking and Drawing: Nihon no Shinseiki Art Animation, Thinking and Drawing: Japanese Art Animation of the New Millennium害怕被碰觸的女孩GUNDAM Mission to the Riseごきチャ!!ディバゲデスティニーチャイルドコードギアス 反逆のルルーシュ キセキの誕生日[バースデー] おまけFLASH地下鉄に乗るっChibi Gojiraバウンティドッグ~月面のイブ~碧の舞台に思いを寄せてA brightening lifeIsekai Cheat Majutsushi劇場版IDOL舞SHOWBreak Todoroki Kiba, Break Go! Ga!Shikong Shitu, Space Time PrisonerBe-Boy Kidnapping IdolBaku Tech! Bakugan Gachi ep 40ベイビーフィリックスアンティーク ハートあいたたぼっちあいまい! 萌えCanちぇんじ!Loosening and TighteningVIRUS -VIRUS BUSTER SERGE-討鬼伝2誕生!!KKT21Wonder \"Samma\" Landサクラノチカイ～まろに☆え～る 東の飛鳥下野市をえーる！～「RUNNINGMAN」ランニングマン>プライドThe Marvelous Adventures of NoelEnjoy Record of Lodoss War: Is it Delicious?, MeshiloChain Chronicle CMsKASHIKOKIMONO (かしこきもの)Why She Loves KanjiシカとカンタSmile Down the Runway Mini Anime親子クラブAbout Girls, Ribbon x Oha Suta Specials, Ribon x Oha Suta SpecialsOne Room Episode 13ミニ四ソルジャーRin!拡散性ミリオンアーサーKakko-Kawaii Sengen!, KakoKawa印ストールGrandeek Gaiden, Grandeek Sidestory, Grandeek: The Alternative合体ロボット アトランジャーFrying Pan Jii-san, Fry Pan Jiisan, Fry Pan Jii-sanFIRESTORM\\u3000ファイアーストームドクター秩父山Bernard Bear冒険してもいい頃Baka MiserablesAshita no Eleventachi, Tomorrow\\'s Eleven青い海と少年Mami, Emi, Pelsia: Adesugata Mahou no Sannin Musume, Charming Figures of the Magical Girl Trio, Adesugata Mahou no Mami Persia EmiエクスメイデンWaiterViolence Jack 3, Violence Jack: Hell\\'s Wind, Violence Jack: Hell\\'s Wind Hen, Violence Jack: Hell\\'s Wind ArcSpace Ghost!A Story in Summertime, Tanglang Bu ChanStrange Plus Episode 13, Strange+ Episode 13SHOW BY ROCK!!×JOYSOUNDShin Seiki Den Mars, Mars, New Century Legend Mars, Mars the TerminatorYuugen Kaisha Special, Phantom Quest Corp.: Incident File 00 - Mysterious Yet Gorgeous PrologueThe Kindly Lion, The Gentle Lionトゥインクルハート 銀河系までとどかないDiebuster Science Course, Top wo Nerae 2! Diebuster! Science LessonTOKYOファンタジアTeo: Another Earth, Fin Fin on Teo, the Magic Planet, Teo: The Magic Planet PilotNight of TaneyamagaharaWater Lily Person消滅都市Shinken Zemi Koukou KouzaUndersea Fleet Submarine 707Fシークエンス聖剣伝説 Legend of Mana -The Teardrop Crystal-漁オバケのどくろうネオ・ファウストNeeko wa Tsurai yoNamakura Katana, Hanawa Hekonai Meitou no Maki, The Fine Sword, An Obtuse SwordマジンガーZIP!迷家-マヨイガ-Magical Fairy Persia: Hodge Podge Dream WorldLance and Masks, LN\\'MFearsome Bio Human: The Last Teacher, Kyofun no Bio-Ningen, Kyofu no Bio Ningen Saishu Kyoshi交響性ミリオンアーサーMatsumoto FragmentTOHO Cinemas Ueno弱酸性ミリオンアーサー 配信決定記念CMSmash Hit!LaduréeGOD EATER レゾなんとか劇場 #EXFussa City PR Anime, Tokyo SAKE Brewery, Walking through the town with a film director, Eiga Kantoku to Burari! Machi Arukiどっちにする？Controller of Controller超人ロック～ミラーリング～The Starland Trio, Space Three Musketeers, Byeolnara Samchongsa, Space of 3 Musketeersナコルル ~あのひとからのおくりもの~Shinka no Mi 2nd SeasonプレイヤーズPocket Monsters Head-to-Head BattlePuchi Eva, Eva-School, EAS, EOS, Neon Genesis Evangelion @ SchoolMoekan Company OVALoups=Garous Picture Drama, Loups=Garous Pilotランドロック恐怖新聞 (2014)Go, Go! Momon-chan황금철인Great Dangaioh, Dangaioh G, Haja-Kyosei G Dangaioh, G DangaiohUmi no Hi Kodomo SpecialデッドヒートCynical Hysterie Hour: Ch Ch Ch ChangeAfter School Series: Tinker Bell, Tinkerbell After SchoolGraffiti SketchbookCutey Honey Universeアモン・サーガAlice or Alice: Compilation, Alice or Alice Soushuu-henエビシー修業日記ゆめくりYawaraka Tank, Soft Tank, Squishy Tank, Tender Tankやんやんマチコワールド フールニュースWatashitachi Rakuroji-bu!Eagle Talon, Himitsukessha Taka no Tsume, The Frogman Show스페이스 간담브이神羅万象～天地神明の章～驢馬Ramen ChainyanPeeping Life -The Perfect Explosion-Patty and Jimmy no Kimikoso Superstar, Hello Kitty and Friends: You\\'re a Superstar!オズマフィア 13Sleepless Oedo, Edo Never SleepsMugen no Ryvius Picture Drama迷走王 ボーダーSHIDENさよなら私のクラマー ミニアニメHello Kitty\\'s Animation Theater 8bMochi Mochi no Ki女郎 [めろう]Not in the Textbook!Time Stranger Kyoko: Leave it to Chocola, Time Stranger Kyoko: Chocola ni Omakase!走れメロスHappy KappiGundou Musashi, MUSASHI -GUN-, Musashi-GUNDOH, Musashi: The Way of the Gunグッドモーニング・アルテアAnimal Olympic GamesDaburu Jei, YuruaniKEIKAKU, Chicken\\'s Insurance, Tsukiyo no Ban ni, TOJIN KIT, In the Evening of a Moonlit Night, Table and Fishman, The Saloon in the Airダロス SpecialChain Chronicle Gakuenバトルブレイクあぐかる PLAY WITH IBARAKI編The Mountain Where Old Women Are Abandoned, UbasuteTHE DAWN OF APEShiritsu Tantei Toki Shozo no Trouble Note - Hard & Loose, Hard & Loose, Hard and LooseI\\'m Reiko ShiratoriVAZZROCK THE ANIMATIONOrder Designer Episode 10.5RS計画 -Rebirth Storage-뽀롱뽀롱 뽀로로 4オズマフィアモンスターファーム5\\u3000サーカスキャラバン オリジナルアニメーション 「結成!!オルコロサーカス」Million Doll Otaku Language Lesson: SpecialKumo no Mori MarcusMr. Hitmanキングダム・オブ・カオス 〜ボーン・トゥー・キル〜ケンダマスター拳I\\'m hereBackkom, BernardハイスクールAGENT, (ハイスクールAGENT II  Uボートを追え!)初恋モンスターフットサルボーイズ!!!!!ふしぎな太鼓Francesca: Girls Be Ambitiousクレオパトラカプリコンぶるたぶちゃんアラビアンナイト\\u3000シンドバッドの冒険Shukuten no Chorale悪偶 ‐天才人形‐Scary Lessons: Hide-And-Seek Ogre, Zekkyou Gakkyuu: Kakurenbo Oni, Screaming Lessons: Hide-And-Seek Ogre, Ribon x Oha Suta SpecialLegend of a RabbitTemplexThe Robots are The... TechnopoliceTamala 2010 OVA, Tamala 2010 - A Punk Cat In Space (2007), Tamala on Parade, Tamala\\'s Wild partyDeparture: Ami, the Final Chapter, Departure: Ami, Final Chapter, Departure: Ami, Last Chapter, Departure: Ami\\'s Final Chapter, Departure: Ami\\'s Last Chapter, Cream Lemon: Ami\\'s Journey, Ami\\'s JourneySuzaki NishiWhite Cat Project, Rune StoryUneasiness and triangleTaro-san no Kisha, Tarosan no Kisha, Taro\\'s TrainTravel, The TripStrawsaurus NEOSarumasamunePianoMan TrailerTV Asahi Josei Announcer Collab KikakuSeduced in the Sleepless City: Hirose Ryouichi - Memorial DateFairy Tale Girls豆しば学園キュッパのおんがくかいBody Search, Re/memberHopscotchCorporate Strategy Research Institute, Keiei Senryaku Kenkyuujo, Medical Management Consultantはてな☆イリュージョンCOSMO POLICE ジャスティクリオネの灯りBIOHAZARD 4D-EXECUTERApartment!Ani Tore! EXアムリタの饗宴セロラちゃん15 Children Space Adventure, Fifteen Children Space AdventureThe Conceited General, The Proud GeneralアイドルメモリーズグローランサーIV ~Wayfarer of the time~Glass Mask desu gaふぁんたじあDuel Masters Versus Revolution, Duel Masters VS RevolutionDual-frequency Precipitation Radar Special MovieThe Restaurant of Many Orders, A Well-Ordered Restaurantチャンネル5.5 Season4Our Road of no ReturnArcha Lyra, Aru Kararu no IsanIchigatsu ni wa ChristmasThe Curlydog Story創世記The Sprites of ShiroishiSenjou no Valkyria Fake Movie PromoSam and Chip\\'s Great Messy RaceRAIN―MEMORY OF CLOUD. 1ONEDMoegaku*5, Moe Gaku 5MATTER魔法少女? なりあ☆がーるず生でアニメをつくるさまかっぱ川太郎Kaite Daisenso: Ai no Nisen Miles, Undersea Encounter, The Great Navy Battle: 20,000 Miles of Loveキュートランスフォーマー 帰ってきたコンボイの謎Lord of Vermilion 4, Lord of Vermilion Fourくもの糸Kampfer Special, KaempferKamiusagi Rope: Tomokomi-hen, Kamiusagi Rope: Wifi...?-hen, Kamiusagi Rope: Smaho de!?-hen色を喰うアクマガンドレスグラスリップ月刊モー想科学超神姫ダンガイザー3ビッグ・ウォーズ 神撃つ朱き荒野にアーヤと魔女ありさ☆Good Luckアレイの鏡 ~ Way to the Virgin Spaceエンジェルズフェザー Angel\\'s FeatherHello Kitty and Friends: The Great Swimming RaceYuki\\'s Sun PilotYouseiouWhere\\'s Mama, Little Tadpoles Looking for Mama, Tadpoles Looking For Their MamaWish Me Mell: Miracle Circus, Wish Me Mell: Maimai no Humming Concert슈퍼빼꼼SUGIO~森林で恋をして~Otona no Douwa, Otona no Dowa, Otono no Douwa, Otono no Dowa, Adult Fairytales, Adult Fairy TalesTRANSFORMERS ROBOT MASTERS (トランスフォーマー ロボットマスターズ)スパロウズホテルI-FanSamurai Showdown, Samurai Showdown: The Motion Picture100-Second Cinema Robo to Shoujo (Kari), 100 Byou Cinema: Robo to Shoujo (Kari), BomaheadThe Sign of Otaku, An Adventure in the Otaku GalaxyYUMIKO KIRITA in VenusMarriage ～結婚～ロード オブ ヴァーミリオン\\u3000紅蓮の王Don\\'t Say Kusoge!, Kusoge-tte Iuna! AnimationクレムリンかってにシロクマIdol Ace Teaser, Idol AHoshi no Samidare RecapChao You Bing: Zhi Yongzhe Chuanshuo, Chao Youbingブライト: サムライソウルBirthdayBig OrderAPR Backstage Pass Episode 6.5, ARP Backstage Pass Short Stories安部譲二かっとび青春記 渋谷ホンキィトンク100%パスカル先生豚平と猿吉Igeos-eun Beulluga AnidaSWIMMING食パンミミーPlanet Boy Popi, Yuusei Shonen Papi, Yusei Shonen Papii양성평등 2浦和の調ちゃんSamurai Gold, Tooyama Sakura Uchuu Chou: Yatsu no Na wa GoldMale Graduation, Graduation M, Graduation M: Our Carnival, Sotsugyou M: Ore-tachi no Carnivalサンゴの海と王子Saiyuki, Journey to the West: Songoku\\'s StoryRobot-chan Cubix, Robots for Everyone, Lobojjang KyubigseuManual of Ninja Martial Arts Pilot Film, Band of Ninja Pilot FilmAlice the WildGreat Detective Hangyodon: Lucius the Phantom Thief Appears豆しば THE DVD グリーンピーしばの屈辱まことちゃんKY系JCクウキちゃん気ままにアイドルKomori, Koumoriインフェルノコップ ファクトファイルWakate Animator Ikusei Project, 2015 Young Animator Training Project, Anime Mirai 2015, Happy★ComeComeアキバちゃん女生徒Mode Gakuen 2018, Suki na Koto dake wa, Shindemo Hanasu na★Hana-oriDay of WrathCircuit no Ookami II: Modena no Tsurugi千雪のファッションチェックZuobi Yishuぼくらの裁判員物語Bikini Warriors Episode 13ベビしばあれはだれ?47都道府犬11eyes 映像特典厄災仔寵 [やくさいこちょう]First Marvelous Dream In Wonder-Boy\\'s Space Trip, Space Journey - The First Dream of Wonder-kunワガママハイスペックUFOにつかまった子供たちTobacco and Ashes, Cigarettes and Ashes, Tabako to HaiSyupeo Taegwon VSOS TV Warupurgis Night FeverSpring / Summer / Fall / WinterUHA Mikakutou x Inoue Ryou Collab KikakuPeeping Life（ピーピング・ライフ） -The Perfect Evolution-オズOpetteお庭の外LISTENERS リスナーズPowerdolls: Detachment of Limited Line Services, Women Of Mass Destructionポンコツクエスト×ガッチャマン 特別編PAC-MAN and the Ghostly AdventuresOh! Kuyuujuuroku-kku, Oh! ClockNoratotoMegami TengokuKakinoki MokkyiCreator\\'s World Project 3Ice Gekijouban, ICE: The Last Generation Movie, Project Ice Movie覇穹 封神演義Dou ni ka Naru HibiDevil Idol!こぴはんC団地愛と死麻雀バトルスクランブル 混乱的戦斗麻雀 (スーパーリアル麻雀／麻雀バトルスクランブル)Tera, Galaxy Legend TeraUchu Kyodai: Apo\\'s DreamTHE THIRD EYEMr. Nobunaga\\'s Young Brideモフ☆モフMaple Story Special, MapleStory Episode 26KuronyagoKoi wa Ichinichi ni Shite NarazuKani Manji EngiRINGING CITY銃娘 [ガンガール]パルサー(PULSAR)Peeping Life Gekijou Original Han, Peeping Life Gekijou Original Ban, Peeping Life: Gekijou Original Han王様になった狐Eizou Big Creator: Ryuji Akiyama no Douga Shin JidaiDemon Cutter, Demon Slayer捏造トラップ―NTR―Apprentice Diva結核豫防Kamiusagi Rope Pierce-henかまくらJungre de Ikou!, Let\\'s Go Jungle!, Let\\'s Go to the Jungle!劇場版 放課後のプレアデス   マナームービーHome-Pato the Movie花平バズーカギョ風雅の技法Futago no Mahoutsukai Lico and Gli, Futago no Mahoutsukai Lico & GliEien no Aseria: The Spirit of Eternity SwordCHANNELER볼로기 이야기The Misfortune of a Certain Zombie Girl, Calamity of a Zombie Girl紅いハヤテXanadu, Dragon Slayer LegendWakusei Dai Kaiju Negadon瓜子姫とあまのじゃくHappy Science Movie 9, Laws of the Universe: The Age of ElohimSaiyuki: Tessen Koushu no Maki, Princess Iron FanスーパードラゴンボールヒーローズMost Dangerous GeistUnderbar Summer SpecialsZOUNDSMagistrate of Darkness: Judge, Yami no Shihosha Judge, Ankoku no Judge, Judgment Day PackUlysses: Jeanne d\\'Arc to Renkin no KishiThe Sea\\'s Aurora, Umi no AuroraPeeping Life（ピーピング・ライフ）-The Perfect Emotion-お洒落小僧は花マルッヌルちゃんとぼく卖猪マッハガールThe Little Red Hen, Sleeping Buu-chanChristmas advent 1209ほこり犬のはなしhis LipstickHAPPY FORESTGalerians: Rion (2003)Over Her Curtainefficus この想いを君に...Del Power XAGE OF OBSCURE 茫漠時代The Frogman Show, IODATA x Himitsukessha Taka no Tsume百年後の或る日Paradise Without Stars, Stardust ParadiseハマネコGensei Shugoshin Peehyoro Ikkaふりだしディア ホライゾンくりぃむレモン レモンエンジェルCosmic Fantasy: Ginga Me Hyou no WanaChoro Q DougramビジネスフィッシュBLAME! (2007)AWOL: Absent Without LeaveあららAlice or Alice: Siscon Niisan to Futago no ImoutoAgriculture Angel Baraki Prologue, Agukaru Dai 0-waたんさくえすと！Tachigui - The Amazing Lives of the Fast Food GriftersTrue Goddess Reborn: Tokyo Revelationペーパーマンおしり前マンOira no Yakyuネクスト戦記エーアガイツMomotaros\\'s Summer Vacation, Momo NatsuMODERN No.2Mamerry Christmas-hen, 5-Shuunen Party-hen, Sakamichi Korokoro-hen, Kansatsu-hen, Mameshiba Extra EditionLaLaLa, BROTHERSVENUS PROJECT（ヴィーナス プロジェクト）－CLIMAX－東映ロボットガールズ雪の夜の夢よしまほManga Geki Yoshichirou no KeireiYahabeeYanaka Nezu Sengagiトウキョウ・バイステク助物語SPINSpace Travelers The MovieSOS TV Warupurgis Night Fever Episode 0SINGLESShimanchu MiRiKa Special聖獣機サイガードHeart-coloured Killer Ticketサンタ・カンパニー ～真夏のメリークリスマス～サラダランドうずらおしりかじり虫\\u3000第２シリーズThe Magic Pen蜘蛛の糸Little Monkey on a Swing絆のアリルFriday Evening, Abe Reiji: The Extraordinary Daily Life of an Ordinary SalarymanギルスティンEXPLORER WOMAN RAY (エクスプローラーウーマン・レイ)コルネリスOriginal Card ToujouSuper Hyperspace Bulwark Cheese NapolitanBattle Skipper School, Lightning Attacker Exstars Battle SkipperBackkom: China Diapers, Bernardアリチャンアーケードゲーマーふぶきあなたが振り返るときFushigi no Umi no Nadia Gekijou you Original Han, Nadia: The Secret of Blue Water - The Secret of FuzzyPrepare to be DeletedアニマギアAngelic White Magical Girls, Absolute Whiteness: Magical GirlWake up!! TAMALAThe Impression of First GUNDAMThe King Of Iron Fist Tournament The Movie, Tekken MovieTATAMPスイートスポットSand PlayPost Pet MomobinNotation of Rotating Earthサクラより愛をのせてCavity ExpressMakeru na!! Aku no Gundan!マジでオタクなイングリッシュ! りぼんちゃん ~英語で戦う魔法少女~ the TVKangaroo no TanjobiFancy Lala OVA, Harbour Light Story: Fashion Lala yori背徳ピストルズの緊急会議?Dengeki Oshoki Musume Gotaman R, Dengeki Oshioki Musume Gootaman R: Ai to Kanashimi no Final Battle!!, Butt Attack Punisher Girl Gautaman R: The Final Battle Between Love & Tragedy!believe in itAmi\\'s impersonation 150 barrageThe Abashiri FamilyYoukosobokudesu, Fancy Shirts, Antenna Chon-Mage, The Tea Time, Strange GeniusWorku: From Behind, Stranger In ParadigmNakaseru Sora ni Aitai: Toyama, Miwaku no Muttsu no Monogatari, Longing for a Tear Bringing Sky: Lovers in Tateyama, Longing for a Tear Bringing Cuisine: Grandpa in Goayama, Longing for a Tear Bringing Sea: A Friendship on the Beach, Longing for a TearVirtually Real - Virtual Starsスペースネコシアター少年ジャックと魔法使い小学生の誘拐防止\\u3000ユミちゃんあぶないよEagle Talon, Himitsukessha Taka no Tsume, The Frogman Show, Yazukaピロッポねむれ思い子 空のしとねにミニキャラマクロスHellhound Liner 0011 Transform!Maju Sensen The Apocalypse, Demon Beast Battle Front The Apocalypse, Demon Beast Phalanx TVマクロスXXLINEこぶとりキップリングJr.Go, Go! Momon-chan SpecialsHuanxiang SanguozhiドアマイガーDHealth With Little Red Riding Hood2.43: Seiin High School Boys Volleyball Team Mini Anime180秒で君の耳を幸せにできるか?Satie\\'s \"Parade\"犬になったら好きな人に拾われた。OVAアフロ犬YANS! GANS!10 Tokyo Warriors (2001)テレビスター・ウォーズ／フォースの覚醒Netrunmon The Movie, NetRunnerNakano Harada Marriage ConcertoMutant Turtles: Superman Legend, Teenage Mutant Ninja Turtles: Legend of the Supermutants, TMNTNinja Resurrection: The Revenge of Jubei, Makai Tensho兄弟こぐま로보트킹お月さまと王女Passionate Detective AgencyMini Moni ja TV幕かなかなかぞくボイスドラマ「リカ イン ワンダーランド」フライングベイビーズ改め ステイングベイビーズ蛾鑑Demon of Steel: Battle of the Great Demon Beasts, Steel DevilCode Geass: Lelouch of the Rebellion DVD Magazine: Extra Flash - Baba TheaterウルフガイTIMINGThe Baby Birds of Norman McLarenてんとう虫のおとむらい死灵编码：世界操纵者正社員サイボーグ003サイキック フォースDelinquent in DragNippon Mukashibanashi: Sarukani, Monkey and Crab, The Monkey and the Crab: A Japanese TaleNam-ui BL Manhwa, NBM, Someone Else\\'s BL Comic Animationミルクハウス・ドリーミング 愛の四季マジでオタクなイングリッシュ! りぼんちゃん ~英語で戦う魔法少女~キリン 氷結® あたらしくいこう アニメーションムービーKanzen Shouri Daiteioh, Eldran series #4かなかなかぞく「ストップ風しん」ICE: The Last Generation, Project IceThe Honest Woodcutter, The Golden AxeハンドシェイカーThe Legend of Super normal Pref. CHIBABenkei vs UshiwakaMarina the Manga Artist Goes to Camelotあふれこ! ARTime and Space Adventures Nuumamonjaaいたずらぐまのグル～ミ～ホークのお悩み相談室 SpecialGararin and GororinCONNECTED…あさってDanceAne Log Flash OVA Specials, Sister\\'s Log: Moyako\\'s Never-ending Monologue SpecialsYOH Shomei Museum LINEBury and Bye-ByePrincess of the Moon PalaceToshindenTokyo Jushoden, Ten Warriors of Tokyo, 10 Tokyo WarriorsTaiko: Drum Master, Taiko no Tatsujin: Juugo Shuunenkinen Short Animationシュート! Goal to the Futureスカーレッドライダーゼクスお前はまだグンマを知らないMeitou \"Isekai no Yu\" Kaitakuki: Arafoo 40 Onsen Mania no Tensei Saki wa, Nonbiri Onsen Tengoku deshita, Isekai Onsen ParadiseKUBBE GACHAPIN MUKKUMovingSento Yosei Shojo Tasukete! Mave-chan, Battle Fairy Girl Help! Mave-chan, Fighting Fairy Girl Rescue Me Mave-chan狭狂しい家Scandal anime「ポンコツクエスト」×「デジモンストーリー サイバースルゥース ハッカーズメモリー」PakushiNoratoto, Nora, Princess, and Stray Catライトニングトラップ レイナ＆ライカChain Chronicle Girlsキミだけにモテたいんだ。The Story of the Concierge Mukuzo Imokawa, Imokawa Mukozo the Doorman擬人化でまなぼ!出来損ないと呼ばれた元英雄は、実家から追放されたので好き勝手に生きることにしたUsed Video Shop\\'s Female Shop Clerk XCho no SainanWindows Tablet SongTough Guys!Mameshiba Mofu☆Mofu Collaboration AnimationOver the Rainbow: Story of Girl DianaZombie Kurei Anime, Zombie Clay Animation: Life of the Deadキリン・ザ・ヌープGoichi-jiisanG-Best －G-tasteベストセレクション－The Legend of Super Normal City KashiwaAmakage music clipAGAINSTwena wristFishy ManagerTENSAI BANPAKU -GENIUS EXPO-Super Mario World: Mario & Yoshi\\'s Adventure LandYELLOW FISHXiao Ye YouWannabesViolence Jack: Harem Bomber, Violence Jack: Slum King, Violence Jack: Harem Bomber Hen, Violence Jack: Harem Bomber ArcSupataromuShounen Keniya, Jungle BoyThree Musketeers: Time Machine 001, Samchongsa: Taimmeosin 001Riki-Ou 2: Horobi no KoNeon The Animation愛しのベティ 魔物語Single Appartment DokudamisouDiaLoverバディ スピリッツアスナル金山2.43ミニアニメ inside storyOrpheus of the Stars, MetamorphosesCrocotires Traction AAA663114「2.43\\u3000清陰高校男子バレー部」ミニアニメ\\u3000バレーボール講座編Welcome, Aliensヨーデルの女With You ~みつめていたい~The Hare and The Tortoise, The Tortoise and the Hare, Kyouiku Otogi Manga Usagi to Kame月夜＆オパールトラちゃんのカンカン虫The Tales of Rien Village #1: Nature is calling!食べる人たちファントム勇者伝説Maple Story猿蟹合戰Pikotaro Lullaby Lu-llabyおしりかじり虫\\u3000第４シリーズおどるモワイくんNeo Satomi Hakkenden: Satomi-chanchi no 8 Danshi熱血宇宙人miniGAROかがみ一発必中!! デバンダー五匹の子猿たち超・少年探偵団NEOチャンダ号Happy Science Movie 8Tatami-chan the Guest Room SpiritEagle Talon, Himitsukessha Taka no Tsume, The Frogman Show, Yoshida no Time Slip FumaikouWild 7 Swirling CanalThere Goes Tomoe!, Go, Tomoe!, Tomoe Will Go!, Tomoe\\'s Run!タプリカード×怪獣酒場 カンパーイ\\u3000〜カネゴンの主張〜Odin: Photon Space Sailer Starlight奈良鹿物語Magical ChocolateこわぼんCell Phone GirlKARA THE ANIMATIONHwanggeumnyeonpilgwa Gaegujangi Oegyesonyeonがんばれ！メメ子ちゃんGaia Getter Aa-kun, GG A-kunフィンたん永遠の８３１ドキドキ学園\\u3000決戦！！妖奇大魔城カリキュラマシーンAware! Meisaku-kun: Ito-Yokado no Randoseru, Aware! Meisaku-kun: Itou-Youkadou no Randsell, Aware! Meisaku-kun: Ito-Yokado no Randsell48x61 (Rintaro x Katsuhiro Otomo)100%J0kerハヤシフサイThe Last ArkIse-Shima Mie Japanおす松田家カレーバトルことわざ辞典 へたな鉄砲も数うちゃあたる！きグルみっく☆V3Manga Ookami wa Ookami daおい等のスキーNaikaku Kenryoku Hanzai Kyosei Torishimarikan Zaizen JotaroKi*Me*RaキッズキャッスルInvaders From CyberspaceCHAINSAW BUNNY病毒の伝播バトルアスリーテス 大運動会ReSTART!Master of Martial Hearts Picture Dramaザ・リフレクションスーパーリアル麻雀 ミキ・カスミ・ショーコのはじめまして (スーパーリアル麻雀／かすみ・ミキ・ショー子のはじめまして)Wonder Egg Priority Tokubetsu-hen., Wonder Egg Priority episode 13, Wonder Egg Priority SpecialSki Jumping Pairs, Ski Jumping Large-hill Pairs时光诡域おまけNougyou Musume!: Episode 0, Agriculture Girls!GeleeSatsujin水尻自子のよりぬき自子さん目玉おやじのエイプリルフールThe Fox And The CircusFlagliaFairy Gone Recaps, Fairy Gone Specials, Fairy Gone Commentary Video超次元革命アニメ Dimensionハイスクール知力丸ブレイブファイヤーS0・9愛はKAT-TUN辺土ガーデンHantsu x Torasshu, Hunts x TrashGraphillion: 数え上げおねえさんを救ヘコヒョン7Doubutsu Tonari-gumi, Dobutsu Tonari-gumiDigital Devil Monogatari Megami Tenseiチェーンソー・メイドBe Rockin\\'アニマSpring has come!シシドジャーニーピーピング・ライフぱすてるメモリーズおしりかじり虫\\u3000第３シリーズMomotaro\\'s Divine Sea Warriors, Momotarou: Divine Soldiers of the SeaKomachi and DangorouMold Rabbit, Hikouki-hen, Game Center-hen, Kaichuu-hen参乗合体 トランスフォーマーGo!POPS語りべ少女ほのかFlanders no Inu, Chou Zenmai Robo Patrushスターリーテイルズ ～星座は時をこえて～Haru no Gensou, Cherry Blossom: Spring Fantasy魚の國リング\\u3000オブ\\u3000ガンダムレスキューYoYoMaitetsuオーガニック新潟の枝豆王しばNameless Flipbook暗闇三太きたかぜとたいようギャラガ HYPER-PSYCHIC-GEO GARAGAHanasaki Ku-han no Romantan, Hanasaki Kurodino Romantan電信 電鈴 電話Butt Attack Punisher Girl Gotamanカラーサイクリングあぐかる2.43ミニアニメ 福井弁講座Street FighterGhenma Wars, Great War with GenmaMysterious Counting, \"The Art of 10^64 -Understanding Vastness-\" Time with class! Let\\'s count!アリスインデッドリースクール【ゾンミちゃん】 - ミートパイ オブ ザ デッド -ゾゾゾ ゾンビーくんTOKYO ART MONTH雀のお宿聖闘士星矢: Knights of the ZodiacEvil Dragon War Chronicles, Maryu Senki, Maryuu Hensei, Maryuu Shinken, Pink NoiseMahoutsukai nara Miso wo Kue!, Eat miso if you are sorcerer!, If You\\'re a Wizard, Eat Miso!Litchi☆Hikari Club, Raichi Hikari Club聖少女艦隊バージンフリートNansensu Monogatari Daiichi-hen: Sarugashima, Nonsense Story, Vol.1:Monkey IslandThe Fly Band!Shin Saru Kani Gassen (1939)ZAP CATKousoku Shakai to Ningen, Man and a High Speed Society猿蟹合戦（予告）プリズム☆ま～じカル PRISM Generations!ポン助の春Lightning Doodle Project \"PiKA PiKA\"Private 2nd Class Norakuro: The Training, Norakuro Nitouhei Part 2, Private Norakuro in TrainingA Story of TobaccoいぬまるだしっAfter School in the Teacher\\'s LoungeMysterious World Atagoul StoryEuro BoysGirl X超機動街区 KASHIWA-NO-HAChainsaw Maid Gaiden Episode 0アラーニェの虫籠The Lie EaterJudgment! XX Angel Rabbie, Divine Punishment: Angel Rabbie OVA, XX Angel Rabbie OVAOne: To a Shining SeasonEnclosed WorldOu-sama GameOshiruko ~The Summertime Mischief~Oatari Sora no En-takuKujakuoh: Sengoku Tensei, Spirit Warrior: Sengoku TenseiThe Midnight ParasitesJoint布団Chinkoro Heihei Tamatebako, Chinkoro Heibei TametabakoDefeat the Evil One!! Salaryman ManUSABANDSora no Momotaro, Momotaro of the Sky, Ariel Momotaro, Momotaro in the Skyトーキョー・ループThe Ending ChronicleOrigami of landscapeMILPOM★犬鳴村 x 鷹の爪団Gulliver FuntokiFurudera no Obake-sodoHappy Science Movie 4InuhiroIdolls!: Idol SurvivalGolden Wings 123博多明太！ぴりからこちゃんAWAKEあおおに ～じ・あにめぇしょん～1/100 TRAIN StationYanesen marching songワカメビルディングスペランカー先生Shigeo is Handsome漫画レビュー 春Will PowerKangoku JikkenPeeping Life 『新婚ちゃん関西にいらっしゃい』結婚式の鳥ムービーぶんぶくちゃがまSpace Shower TV Station ID, BIGHITS!Ahiru Riku Sentai, The Quack Infantry Troop112 Sabsections Of SkylineEiga \"Kinako\" x MameshibaやせるやぎHappy Science Movie 7スクーパーズピンキーモンキーの生まれた日Mameshiba x Kyary Pamyu Pamyu, Mameshi-Pamyupayu居酒屋の一夜Highway JennyOni to Neko to o-Cha to ka.ホークのお悩み相談室Do Your Best, Chibi GodzillaRyounin Samurai Homare KawakiボーニンゲンweekendBEAN BANDITOrb Panic Adventure Returns!An empty story that does not serve any purposeMTV Japan Station ID 1, MTV Japan Station ID 2The Whale (1952)Old Man Hanasaka, The Grandfather Who Makes The Flowers, Hanasaka JiisanGenma Taisen, Genma Wars: Eve of Mythology, Ghenma Wars, Great War of the Demon of Illusions: The Chapter of the Previous Night of the MythFujinkoron-sempaiBruce Lee in Animation: Chinese Gods, Pang Shen Feng, Fengshen Yanyi, The Creation of the Gods, The Investiture of the Gods池田屋騒動BAR 嫌われ野菜Space Shower TV Station ID, CANVAS 1.6.1 AnimatopeMeat or Die Pilot, Meat or Die Prototype, The Last PredetorすしFinal Examination Kujiraおいらの非常時Private 2nd Class Norakuro: The Drill, Norakuro Nitouhei Part 1, Private Norakuro in Boot CampBlack Dragon King and Asylum BalusterTerada Mokei: Genki\\'s New Year at Tokyo StationDobutsu-mura no DaisodoコーヒータダイクKiro no HitoEagle Talon, The Frogman Show, HimitsukesshaThor: Ragnarokくんち禁男女子鴉10 Little Indians花のずんだ丸 じゃんくAum Shinrikyou no AnimeIssun-boushi Chibisuke Monogatari, Issunboshi: Chibi Jo Monogatariいなばの国の兎さんファニーペッツFeathers Gazing into the Darkness, Feathers Staring into the Darkness, Thinking and Drawing: Nihon no Shinseiki Art Animation, Thinking and Drawing: Japanese Art Animation of the New Millennium裡児のママとお母さんtumbled catマッツとヤンマとモブリさん ―七つの秘宝と空飛ぶお城―Sheep in the IslandEiga Ensetsu \"Seiji no Rinrika\" Gotou Shinpei 1926Puri Gorota: The movie, Puri Gorota: Uchuu no Yuujou Daibouken猫も、オンダケなならき~Seven Lucky Gods~マッツとヤンマとモブリさん2 ―水軍お宝と謎解きの島々―かわわわわわだit’s MAREY o’clock now!Hong Lang続 夏目友人帳 3Ｄニャンコ先生劇場トリック・オア・アリスTenka Hyakken: Welcome to Meiji Hall!掬いあげてくれないかウルトラソニコHappy Science Movie 2, The Laws of the Sun: The Road to El CantareSarukani Gassen, The Monkey and the CrabNorakuro GochoナガハマラジャMabo no Kinoshita Tokichiroじょうぶなタイヤ!Choujin Gakuen Gowkaiser, Superhuman Academy Gowcaizer, Voltage Fighter Gowcaizer: The Movie个乃ち七允ムく七 (Abstract) feat. Alkama磯部磯兵衛 with 中田ヤスタカで候変360° Fin-tan Sauna ExperienceMD Geist 2, Most Dangerous Geist 2, Most Dangerous Geist 2: Death Force, Most Dangerous Geist II, Most Dangerous Geist II: Death Force, Soukihei MD Geist 2出荷夫婦おしりかじり虫Two Pikes (1968), Two Fishes (1968), Deux poissons grillés, Two Grilled FishShiobara TasukeRainy Day, Rainy Daysさぬき映画祭オープニング映像Infinite Spaceミニモニ。やるのだぴょんMarimo\\'s blossom: The Legend of the Strongest Elementary School Fighter Student, Ribon Festa 2012, Ribbon Festa 2012筋肉番付 金剛くんの大冒険!Kana Kana Kazoku New Year\\'s Greetingいじめ 〜いけにえの教室〜My Life After I Became a Dummy Head Mic One Morning, Aru Asa Dummy Head Mike ni Natteita Ore-kun no JinseiアークIXRabbit, Lost Memories: The Art & Music of Silent Hil鳥tokyoSOSSanbiki no Koguma-sanMomotarou\\'s Sea EaglesLEGEND OF DUOくちゃおカロとピヨブプト-おうち泳げや泳げOjou-sama Sousamou, Ojousama Sousamoマスター・オブ・トルクexperimentコーヒーブレイクAme-iro Cocoa 5th Season, Ameiro Cocoa, Rainy Cocoa, Ame-iro Cocoa 5Hal and Bonsフレームアーム A violent struggleCLOCK超機動伝説ダイナギガ1/100 RICE PlantingYuméPromised TownThe One I Love Is a Little Sister, but She\\'s Not My Little Sister機動戦士ガンダム Twilight AXIS紙芝居 金太郎の卷Kaede NewtownSolar Adventure, Robot King Sun Shark, Roboteuwang Sseon SharkMaster of Torque 3rd SeasonカルマThe Flower and the Butterfly幻影都市ファーストＫｉｓｓ☆物語The Fearless Hyena, Xiao Quan Guai Zhaoアジール・セッションEagle Talon NEO Announcement MovieMuramatsuri Omatsuri, Jidou Shouka Eiga: MuramatsuriMODERNFarce anthropo-cyniqueCreator\\'s World Project 2超時空ロマネスク\\u3000サミー\\u3000ＭＩＳＳＩＮＧ・９９The Dance of the ChagamasBOY\\'s LOVE Nitro+CHiRALAshiaraiyashiki no Junin-tachi, Ashiaraiyashiki no Juunin TachiAfter SchoolHappy Science Movie 1Carol: A Day In A Girl\\'s Lifeビューティフル・ネーム\\'84 태권VMakera PilotBirth: Debut千銃士SheepWolfThe Apple and the Girlむきだしの光子Makyu Senjoはなれ砦のヨナディアホライゾン（被）Sore tte♡Dakara ne!, AGC38, That\\'s The Way I Love It!やきもち狂想曲うんこさん ツイてる人にしか見えない妖精Mt. Kachikachiセカイが滅びる前にキミに会いたいThe Battle of the Monkey and the Crab緑野原迷宮 〜Sparkling Phantom〜minamo熊に喰われぬ男Bag, Sack, Art of Silent HillStorm Rider: Wild Winds, Raging Clouds超変身コス∞プレイヤージャパンダBavi Stock II: The Revenge of Eyesman - Ai no Kodou no Kanata ni, Bavi Stock I: Hateshi Naki HyoutekiIbaraki Toyopet, Saitama Toyopet, Okayama Toyopet, Eagle Talon, Himitsukessha Taka no Tsume, The Frogman Show00:08夜間学校の裏先生YADOKARI将棋アワーぷりんせすARMY - ウェディング★COMBAT -Happy Science Movie 3MTV Top 20「マスターオブトルク」エピローグKitsune no Homerun OuKinoko, Art of Silent HillゲキドライヴBaghdadjou no Touzoku, Baghdad-jou no Touzoku, Bagudajou no TouzokuTeana: 10000 Years Later水棲STARTPLAYGROUNDStoneRecapture Ourin Gakuen, Footsteps of SpringHanasaka Jii-sanShinteriya-jyo no Hanamuko, Shinteriya-jou no HanamukoBLENDビートショット!!Ameiro Cocoa Series: Amecon!!, Rainy Cocoa Ame-con!!, Ame-iro Cocoa 4Ame-iro Cocoa 3Two Pikes, Two FishesMaster of Torque 2nd SeasonKoryu no Mimi, Ear of the Yellow Dragon, Ear of the Golden DragonミリオンドールKJ FILE (KJファイル)Invisible Boy Detective AkiraTOTO GREEN CHALLENGEFairground in the Stars, Amusement Park in the StarsHiGH&LOW g-swordハコダテミュージカルSPACE SHOWER TV Canvas 2.0.0DEVA ZANクール・クール・バイAmeiro Cocoa: Rainy Color e Youkoso!, Ame-iro Cocoa 2時間Isshoni Training 026: Bathtime with Hinako & Hiyoko, Stretch Time, Isshoni Training Ofuro: Bathtime with Hinako & Hiyoko元禄恋模様 三吉とおさよMario OVAManga no Rekkoku RikugunNorakuro Shoi: Nichiyobi no Kaijiken見世物見物USAWALTZ進め！ガチムチ３兄弟ハンドソープTerada Mokei: Genki\\'s Christmas at Tokyo StationPinky Monkey Series, Pinky\\'s Exciting Journey Stroll協力防空戦The National AnthemGhost Story, Thinking and Drawing: Nihon no Shinseiki Art Animation, Thinking and Drawing: Japanese Art Animation of the New Millennium『ルドルフとイッパイアッテナ』×ゴジラ×TOHOシネマズムービングロゴ映像Nyankosu覚悟のススメShort Animation of Shintaro Kagoスシニンジャ一撃殺虫!! ホイホイさんLEGACYFuku-chan\\'s SubmarineダブルサークルBattle Angel Alita 3D SpecialFight!! Spirit of the SwordSuper Transformation CosprayersBrutes, Mighty Orbots PilotBattle Spirits: Dragon Tiger Fist, Battle Spirits: Ryoko no Kenあいおい会い追いREINBOUナゾトキネMy Steady Is a WitchDappiesCollapse ZenグリードFour Seasons: Fuuka and Nanami -Master of Torque- Spin-off Episodeおさかなはあみの中Stamp Fantasia, Stamp Fantasy, Fantasia of StampsKiekaketa Monogataritachi no Tame niSuperfluidDragonflyホクロ兄弟 フルスロットル!!!!A day of ChamekoAlice in Dream Land潜水艦カシオペア世界の闇図鑑SUSHI POLICE（スシポリス）ありす ALICE in CyberlandStar Wars: The Last Jedi, SW Cast Zenin BB-8 Mitai na Form ni Nattara Kawaii!, Star Wars: The Force Awakens, Star Wars: Force no Kakusei人工の楽園アノン戦隊レンジャー5aliceMittsu no Kumo, 3tsu no Kumo, Trilogy about CloudsGakuen Toshi Valanoir, School City Valanoir江口寿史のNANTOKA NARUDESHO!Kotobuki Goro ShowCommercial War劇場版「超変身コス∞プレイヤー VS暗黒宇宙将軍」零花～raycaOmochabako Series Dai San Wa: Ehon Senkyuuhyakusanjuuroku-nen, Toy Box Series Episode 3: Picture Book 1936Mayo Elle Otoko no KoVIE DURANTVampire SensoUmi no Momotaro, Momotarou\\'s Underwater Adventure, Momotaro under the SeaKeisatsu Sensha Tai TANK S.W.A.T. 01, Keisatsu Sensha Tai TANK SWAT 01そういう眼鏡Blue Flames, Aoi Honoo로보트 태권 Vカナブンの行進LOST UTOPIACnM, Cherry no MamaArcade Gamer Fubuki Special Story, Arcade Gamer Fubuki Extra３ねんＤぐみガラスの仮面Osamu Tezuka\\'s Self-PortraitHinomaru Taro: Musha Shugyou no Maki, Hinomaru Taro: Musha Shugyo no MakiHinomaru Hatanosuke: Bakemono-Yashiki no Maki, Hinomaru Hatanosuke: Bakemono Yashiki no MakiYouTube Space Tokyo, studiobinzob x J-toys Channel, Studio Binzo x J-toys ChannelKetsuekigata-kun! Special, Ketsuekigata-kun! Episode 13浦島太郎凍京ぐらし！Dairiki Tarou no Mucha Shuugyou, Dairiki Taro no Mucha ShugyouMasters of the Future, Mazinga 7, Super Mazinga映画『R100』×「豆しば」オリジナルマナKihachiro Kawamoto\\'s Self-PortraitS＝13Orb Panic Adventure!Night Lamp, Night Lightsテスラノート『DCスーパーヒーローズ vs 鷹の爪団』プロモーション映像ハン・ソロ／スター・ウォーズ・ストーリーBishoujo Yuugi Unit Crane Gale: Crane Game Girls 2Ameiro CocoaR=DなカなおりLiltGokiburi Taisou, Cockroach Calisthenics, Into Animation 7, Zettai 15-byou Anime!鶴下絵和歌巻sin in the rain修羅之介斬魔劍 死鎌紋の男The Promised Neverland Recap, Yakusoku no Neverland Recap, Yakusoku no Neverland 2nd Season Episode 5.5, Yakusoku no Neverland 2nd Season SpecialTWO TEA TWORaiders of Galaxy, Mazinger 3Isshoni Training: Training with HinakoBrave Frontier x Taka no Tsume, Eagle Talon, Himitsukessha Taka no Tsume77 Group\\'s Secret, Secret of 77 DanThree Tales, Mittsu no Hanashi, 3-tsu no Hanashi Atarashii Douga, Atarashii Douga: Mittsu no HanashiRoom Mate: One Room Side MKama Sutra Kyuukyoku no Sex Adventure, Kyukioku no Sex Adventure Kamasutra, Kama Sutra: The Ultimate Sex AdventureShachou-hen, Boshi-henていえぬシアターin神戸 オープニング大正メビウスライン ちっちゃいさん鼻の日Computer Nuclear Warship Bombing OperationMaiden Camellia, Mr. Arashi\\'s Amazing Freak Show悪魔の回路図雲雀の宿替アニマルダンス１＋２＝パラダイスNAVIA DRATPこれがＵＦＯだ！ 空飛ぶ円盤こがねの花スター・ダストYumeutsutsuトライナイツThe Guy Next Door, L\\'homme prochaine porteHell KindergartenTetsu no Shojo Jun, Tetsu no Otome JunFELIXノ迷探偵Deep Sea TentacleカナリアROLLPinky:stMabo no DaikyosoNamakura Gatana: Kunoichi Chapter劇場版 巨蟲列島禁断の黙示録 クリスタルトライアングルCONCEPTION（コンセプション）Zettai Shogeki殺人狂時代メカノHELL TARGET [ヘルターゲット]「FLY」フライDYNAMIC CHORDSousei Seiki DevadasyＪＫめし！Charge Man Ken!, Cha-Ken!SAMUROID ZEROOsaru no Sankichi: Totsugeki Tai, Osaru no Sankichi: TotsugekitaiLingerie Soldier Papillon RoseKAWAII COOK SANHey Pitan!蠕虫舞手わからないブタUnder the Dog Short AnimationTRIP TREK [トリップトレック]Cigarettes are LameTIME ON THE PLANET日の丸旗之助～稲妻組討伐の巻～Mikansen, Mikanbunラブ米 -WE LOVE RICE-ANNA Voleuse技の旅人usa Weather ShowJuunigatsu no Utaザ・チョコレートパニック・ピクチャーショーEiken: From Eiken With LoveBoken Dankichi: Hyoryu no Maki快楽の園ノーラ係Idol Fight Suchie-Pai, Idol Janshi Suchi-Pai, Suchi Paiああ／良いPeeping Life ユーチューバ―くんOhisama to Kaeru, O hi sama to KaeruBegon Bell CareSix AngelsA WOMAN IN A FASHION BUILDINGPantsu no Ana, Holey Pants: Desire on a Strollなんとかして アルガードOfficial Residence, The Inspection Station機兵戦記レガシーズMameshiba花Bishoujo Yuugi Unit Crane Gale: Crane Game Girls巨蟲列島Tadanori Yokoo: 3 Animation Films, 1964-65, Yokoo Film Anthology \\'64-\\'65, KISS KISS KISS, Kachi Kachi Yama, Tokuten Eizou Anthology NO. 1Usagui, Thinking and Drawing: Nihon no Shinseiki Art Animation, Thinking and Drawing: Japanese Art Animation of the New MillenniumLove Sky Tree 21, Ai Sukai Tsurii 21Kaitei no Bokun覚めろIsshoni Training: Sleeping with Hinako, Isshoni Sleeping: Sleeping with Hinakoダイレクト・アニメーションAnomaliesUSALULLABYUrda: Third ReichShinsatsu Shitsu, Thinking and Drawing: Nihon no Shinseiki Art Animation, Thinking and Drawing: Japanese Art Animation of the New MillenniumPillow BoysハルヲGureto Rabitto, Gureeto RabittoBlue Butterfly FishA Log Day of Timbreしろのカンガ\"ルー\"のうたBUGGY MAP -Exhibition Ver.-あめやたぬきCIPHER THE VIDEOブルーリメインRHYTHM(リズム)Genshiken 2 Special, Ramen Tenshi Pretty Menma Picture Drama, Ramen Angel Pretty Menma, The Two Ramen Angels - Delivery EditionPapillon Rose: New Season超普通都市カシワ伝説RベールガA sea doesn\\'t tell muchKaikaおにゃんこポンGirl Detective ClubOsaru no Sankichi: BokusenPhoenix-bot Phoenix King, Ronin Mecha 2: Defenders of SpaceARMORED CORE -FORT TOWER SONG-【ゾンミちゃん】ハロウィン☆スペシャルムービー！Can\\'t Stop DreamingUrashima TaroTimbre A-ZIkamaturi, MetempsychosisKobe and Ai, Kobe and Iカタリベ\\u3000人工知能がつぶやく呪いの予言ぴすとっ☆Mole\\'s AdventureTekkon Kinkurito Pilot, Treasure Townファッションのはじまりお猿の艦隊ニヤゴダンスC.L.A.Y.4 EyesDEAD GIRL Trailer（デッド・ガール トレーラー）Red-Colored Bridgeよ！大統領トラップくんSpace Black Knight, Johnny Destiny Space NinjaスペクトラルフォースGeneration of Chaos III: Time of the Seal, Generation of Chaos III: Seal of TimeNO LITTERINGAosuGood-bye Marilynクレイジー・クレイ・レスリングケンネル所沢Study of the Virgin in School Uniform Stripped Bare by Her BachelorsCRAYON ANGELねんどのたたかい優しい金曜日Tomb of Dracula, Emperor of Darkness - Vampire DraculaポップDog Soldier: Shadows of the Past忍者コレクションDREAMSCircle, ○Petting a DogジビエートRules of the Night, The Rules of DreamsMicro Teukgongdae Daiyateuron 5, Space Transformer, Micro Commando Diatron 5, Space Transformers, Ronin Mecha 3: Space Transformer아마게돈錆色のアーマ-黎明-MILPOM★ (みるぽん)The Room魔法少女? なりあ☆がーるずYuki Doke, Thinking and Drawing: Nihon no Shinseiki Art Animation, Thinking and Drawing: Japanese Art Animation of the New Millenniumatelier petros上空劇場 ～洗濯島の洗濯鳥～無責任ギャラクシー☆タイラー夏のゲロは冬の肴Chimidoro no YoruHyougenusatalkNinjutsu Hinotama Kozo: Edo no MakiMasaka no KintarouembahDekobo no Jidosha Ryoko, Dekobou\\'s Automobile Journey青鬼 THE ANIMATIONこのマヨネーズはゆるすぎる子供の廻転の事Two Lovely Maid, Dotchi mo Meido, Two Lovely MaidsCountdownTales of Byston WellコチンPa！傷追い人ゴンドラCarigraffitiA Small Experiment笛ハッスル!! とき玉くんOnara Gorou Episode 0MAID OF THE DEADAkai Kutsu! Onnanoko!, Into Animation 5ファッションRoots Search: Life Devourer Xザ・バスルームThe Dark Myth愛Archetypes ForcesQuestion MarkプッシーキャットChainsaw Bunny Specialかっぽやさしい笛、鳥、石ジュリエットえーんChimidoro Date, Bloody RomanceグラマラスヒーローズドラゴンフィストラグナストライクエンジェルズGeomeunbyeolgwa Hwanggeumbakjwi샤이닝스타: 새로운 루나퀸의 탄생!Young AshibeSekai Meisaku Gekijou Kanketsu Ban: Shoukoushi Cedie, World Masterpiece Theater Complete Edition: Little Lord Fauntleroy, Little Prince Cedie消火ロボゼウレス\\u3000ファイアドラゴンを倒せ！少女のいと魔法のいとGirls Fight, Shoujo Fight: Nora Inu-tachi no Odekake手机里的浣熊小镇守护联萌ROY6之森林里的迷你你笑劇 新選組翔ちゃん空をとぶThe Quiet Don, The Quietened DonTongue-Cut SparrowPrince ShisukonAnessa, FWB市制刷新シロとたけし白い本Liyon Private AcademyShiritori KingdomShirayuki-hime Licca-chanThe Unknown \"Tale of Momowarou\"The Girl with the White Flagしっぱい・いっぱい・もいっかいShiogaritouge, Shiogari Touge親鸞聖人と王舎城の悲劇忍ばない! クリプトニンジャ咲耶新米新型Jii (5代目) LT-AM-3501Shine Time!しんちゃんのさんりんしゃ新ちゃんがないた！新・やらないかShin Skyer 5 Specials新スカイヤーズ5New Pro Golfer SaruNew Golden Bat, Golden Bat 2000天空断罪スケルターヘブンUtsu-musume Sayuri破滅のマルスコクハク秋のパズルABUNAI SISTERS -KOKO & MIKA-LOVE BITESLoveShitcomEX-ARMエクスアームSuperkid, Super Kidトゥインクル NORA(ノーラ) ロック・ミー!Good-bye Elvis and USALady SportsThe Generation of Chaos: Prologue OVA, Generation of Chaos Prologue捜獣戦士サイキック・ウォーズBORN BY MYSELFねんどのたたかい２ダークキャットパンツァードラグーンPupa (ピューパ)肛門的重苦 Ketsujiru JukeVAMPIRE HOLMESジェネレーション オブ カオス ネクスト～誓いのペンダント～天使のどろっぷHANOKA～葉ノ香～001Mori no Yousei: Kinoko no MusumePINKY（ピンキー）WITHIN THE BLOODY WOODSTen Nights of Dreams, 10 Nights DreamsワンダーモモSilk Road Shounen Yuuto Omnibus, Silk Road Shounen Yuuto Recap, Silk Road Boy Yuto Soushuuhen, Silk Road Shounen Yuto Omnibus, Silk Road Shounen Yuto Recap, Silk Road Shounen Yuto: Toki wo Kakeru Shounen Yuto no Hyouryuu NikkiSilk Road Boy Yuto시한폭탄Sisomiしゅわわん!終末のワルキューレカウントダウンミニアニメRecord of Ragnarok Mini Anime (Cartoon Network Nite)Yuruani, Weekly Shimakou, Shuukan Shimakou Daikaijuu Shima Kosaku no Makiシャッターチャンス叔叔不行鳥2叔叔不行鳥修羅がゆく就活狂想曲水中的女孩Shouta\\'s SushiWinning PitcherYoung Tokugawa IeyasuShonen Santa no Daiboken, The Great Adventures of Young Santa, The Adventures of Young Santa Claus少年忍者風のフジ丸 謎のアラビヤ人形少年むくはとじゅう物語A Boy Called HYoung Ashibe: Goma-chan\\'s Traffic Safety, Shounen Ashibe: Goma-chan no Koutsuu Anzen, Shounen Ashibe: Goma-chan no Dai Pinchその先の旅路搜神记The Melancholy of the Legged TankDoubutsu Kaigi, Animal Conferenceそれしか ないわけ ないでしょうそれいけ! ズッコケ三人組それいけ! サブイボマスクそれいけ！アンパンマン たのしくてあそび ママになったコキンちゃん!?みんなでてあそび アンパンマンといたずらオバケそれいけ!アンパンマン コキンちゃんとあおいなみだLet\\'s go! Anpanman: Sparkle! Princess Vanilla of the Land of Ice CreamSore Ike! Anpanman: Fuwa Fuwa Fuwari to Kumo no Kuni, Anpanman Movie 32Soreike! Anpanman: Christmas da! Minna Atsumare, Sore Ike! Anpanman: Uta to Ohanashi - Suteki na Christmas, それいけ！アンパンマン うたとおはなしすてきなクリスマスそれいけ！アンパンマン ブルブルの宝探し大冒険！それいけ!アンパンマン アンパンマンとハッピーおたんじょう日それいけ!アンパンマンのひらがなあそび はじめてのあいうえおえいがそれいけ! アンパンマン ロボリィとぽかぽかプレゼント空とぶうさぎの誘拐防止 ぼく いやだよ!空色花色その時君は？ －良太とピカリの地震防災学－孫悟空シルクロードをとぶ！！孫悟空の交通ルール修行中孫悟空の火の用心染井家の火の用心 防火のてびき 家庭編Sol-lo-tal-chul-gwi, SollotalchulgwiSock PuppetSock Monkey wa Kimi ga Suki, Sock Monkey likes youそばかすプッチーDokan-kun소나기スナッフフィルムSNSポリスSnowy Land스네일 맨SMAPコンサート アニメSLIPPY DANDYスカイヤーズ5 EXシッタカマン！SiroMovieSiNKSim-gyeong隋唐英雄传Takehito Koyasu The AnimationSylvanian Families: Mini Episodes - Peony, Sylvanian Families: Mini Story 4th SeasonSylvanian Families: Mini Episodes - Clover, Sylvanian Families: Mini Story 3rd SeasonSylvanian Families: Mini EpisodesSylvanian Families: Freya\\'s Happy Diaryシルバニアファミリー フレアのゴー・フォー・ドリーム！シルバニアファミリー ミニ劇場～思いがけないお客様～SWEET TOUCH OF LOVESuzu Santarouすてき！さくらママFight Tension☆SchoolSushi Police Gekijou Koukai-banSurfside High School, Surf Side HighschoolSuper MoonRonin Mecha 4: Wonder of FrontierSuper Three Musketeersスーパー マリオの交通安全すのこタン。プロモーションアニメ孫行者傳SUMMER TIMEスミ子 (2014)すみっこのこすみっコぐらし そらいろのまいにちすこやかな歪みスッキリ!!×映画ひみつのアッコちゃんSukekiyo × The Zemeckises Collaboration CMThe Fourth of the Narcissus MonthSuijun-gentenスーサイド・スクワッド×鷹の爪Sugar Bunnies ep 27Sugar Bunnies Fleur ep 27, Sugar Bunnies Fleur Recap, Sugar Bunnies Fleur Tokubetsu-henSugar Bunnies Chocolate! ep 27, Sugar Bunnies Chocolate! Recap, Sugar Bunnies Chocolate! Tokubetsu-hen菅井君と家族石 THE MOVIEWonderful World Travel, Computopia: A Tale of the Year 2000 A.D.Subarashii Sekai Ryoko: Alaska no Tabi: Oaigo Hyogaki, Wonderful World Travel: Alaskan Journey: Fifth Ice Age宿身小人ストレイシープ ポーStory of Krishna스톤에이지: 전설의 펫을 찾아서STEAMOStar Ocean: Anamnesis - Twin Eclipse, Star Ocean: Anamnesis - The Leash CodeSTAND BY ME ドラえもん쓰레기의 섬スパイペンギンSpy Destructionスプリンパン 前へすすもう!スプーンひめのスイングキッチン스푸키즈 극장판 : 비밀과외스푸키즈スポGOMI まちの絆づくり編辣糖甜心, La Tang TianxinスペアイFloating World창조적 진화, Changjojeog JinhwaSoya Monogatari草太の誓い－差別に負けない力－総務部総務課\\u3000山口六平太\\u3000裁判員プロジェクトはじめますThe Frogman Show, Eagle Talon, Himitsukessha Taka no Tsume, Town Work x Taka no Tsume「タヌキとキツネ」コミックス第5巻発売記念アニメーションRaccoon Dog and Fox Specials探偵少年カゲマンThe Seasons, Eaten Up Planet, Insane IceFun Arithmetic楽しい学校生活たのしいえかきうた歎異抄をひらくIf Winter comes, can Spring be far behind?七夕ものがたりたまごっち！スペシャルDVD マクドナルドハッピーセットTamagotchi EigaたまごっちホントのはなしTama & Friends: Search for It! The Magic Puni-Puni StoneタルピーたこるTVたこる・ザ・ムービーLottery x Rope, Kamiusagi Rope 5 ONA, Kamisusagi Rope Takarakuji Collaboration鷹の爪団、富山鷹の爪団の 行け！ＯＤＡマン鷹の爪 吉田くんの×（バッテン）ファイル～夏休みミステリー・アドベンチャー～Taka no Tsume x Megane Super Prologue, Taka no Tsume x Megane Super Prologue, Megane Super x Taka no Tsume - Eyecare Samurai vs Mononoke DX Fighter Saishuu Kessen! - Fukkatsu no ATaka no Tsume x Johnson, Tatakae! JokinTaka no Tsume GO: Yoshida, Himitsukessha Yamerutteyo.TAIYO KIKAKU’s 49th Anniversary Movie太陽留住我Taiman Blues: Shimizu Naoto ChapterSpace Adventures, Star Field War Record Astro Plan, Xingyuan ZhanjiRainbow Across the Pacific Ocean太古星神诀たいふう14号タイバン!太乙仙魔录之灵飞纪Tai LvTangoo & UllashongTaekwon Boy Maruchi Arachi, Maruchi and ArachiTaeko\\'s Everyday LifeTaeilたちゅまる劇場旅立ちの日にTabi Hani足袋の季節たべたのだあれMinna no Taai no Ryuuguusei Dai Tanken, Minna no Taai no Ryuuguusei Daitanken, Taabou no Ryugu Hoshi Dai TankenTii SenseiT-レックス天才？Dr.ハマックス甜心格格 第2季天书奇谭Tianqi Riディス イズ マイ ハウススッキリ!!・クロラThe Snack World Short Movie 2スナックワールド (TV)The Snack World Eiga, The Snack World Movie古惑香蕉頭Mad Max: Fury Road Parody FilmTHE・MOBThe Midnight AnimalsHuainan Zi ChuanqiTHE IDOLM@STER SideM Wakeatte Mini!Azur Lane The Happy Dormフルムーン伝説 インドラ잊혀진 황녀는 평화롭게 살고 싶어75回広告電通賞のArari Syo, Surviving in Korea, Arirang, Homey Korean더 앵글러That\\'s Hanakappa Musical - Bread or Rices, which one is it!?手塚治虫の宇宙 W3（ワンダースリー）〜銀河連盟の使者〜手塚治虫物語Osamu Tezuka Tribute鉄腕アトムの交通安全Beyond the Train Tracks鉄人28号ガオ!Kanahiru The Iron BoyTesagure! Bukatsumono Spin-off Purupurun Sharumu to Asobou Picture Drama Specials테라리움 어드벤처Ginnagashi: Strange Tales of Terajima Districtてっぺん転生前の竜馬と田淵Tensai Eri-chan Kingyo o TabetaてんまのとらやんThe Transfer Student is a Certified Public Accountant!天気になあれTenka wo Mezashita 3-ri no BushouTenka Touitsu Koi no Ran: Shutsujin! Sanka Yoninshuu天に焼かれる ～絵による証言～텔레몬스터手品師テイコウペンギン手紙ティーチ特功明星tayutaumKkoma Bus Tayo Ace Guchuljakjeon 2: Tayo-ui Jangnangam EodeubencheoTayo Dino Kingdom, Tayo-ui Gonglyong Eodeubencheoタツノコプロ×Peeping Life戦え! オスパーTatakae! Chou Robot Seimeitai Transformers Victory Recaps獭獭突然想到たっちゃん・ももちゃんのふしぎなたいけんたすけあいの歴史 ─生命保険のはじまり─トンボになったヤッちゃんとなりのトコロLittle Tamageta, the Neighborトモヤ!Hoshi ni Negai woとも子ちゃんとわたしともだちみーつけたHirake! Ponkikki: Tomodachi de Iyou neともだち8にんMobile Emergency Police MovieOpening Ceremony,Hellmarathon Women,Brancer,Baka Modern Tetrathlon,Homeathlon,Watakkyu,Doping Freestyle,Locker Room,Independence Men,Ironball Throwing Men,Samurai Call,Humanism Men,Giant Sumo,The Race for Love,Animal Lifting,1000 Characters SMSingtokyo未完成東京大空襲 あおよかえってこいTokyo 7th Sisters: Bokura wa Aozora ni Naru: Manner MoviesJ. Walter Thompson Japan LLCGekidou no Powered Armor, Powered Armor vs. Micro Burtharker, Endless Summer, Hoshizora no Illusion徳川家光と江戸幕府とこちゃんちょっきんTokyo Heidiときめきに死んだ恋人よShuiro no Youma, Shuri Iro no Youma, Scarlet DemonToki Doki토닥 토닥 꼬모とびだすな！ パンダちゃん3D Picture Bookとびだしはあぶないぞ！\\u3000むしむし村の交通安全とびだせ!!バディくんJump Out! Machine Hiryu, Jump, Dragon Car, Take Flight! Machine Hiryu, Tobidase! Machine HiryuDejisuta TeensJump Out! Batchiri翔べ! ペガサス 心のゴールにシュート烟草雲Titipo and Friends, Titipo & Friends, Titipo-wa Chingudeul Titipo TitipoTaiya Kanタイムスリップ1923\\u3000守のミラクル地震体験タイムマシンタイガーマスク パイロットフィルムSea of the Ticonderoga, Ticonderonga no Iru UmiTick and Tack, Tic and Tac, Tic & Tac, Chikkun Takku, Chikkun TakkunTianzhen Yu Gongfu waThe Tale From The OrientMoonlit Night and GlassesTsukiuta. The Animation 2 OmakeCommuter Great War月とあざらしDoutoku Meisaku SeriesTsuji Tsuji Sensha対の羽つぶやき隊トゥルーノースTRIP!-TRAP!トレジャーガウスト劇場版 トレインヒーロートレインヒーロー 本日もスピン・アウト！ インドネシア編トレインヒーロー 本日もスピン・アウト！トレインヒーローとうさんまいごHe Is Always The Hot Topic, He Owns The Headlines, The Headlines Are All About HimToruru\\'s AdventureトラとミケPeak Games殿さまの茶わんとんがり頭のごん太~2つの名前を生きた福島被災犬の物語~トントン・ユウユウの交通安全トントン・ユウユウの火の用心うどんとホタルUda Uda Yatteru Hima wa Ne!宇宙人ピピSpace Patrol Hopper: Space Boy Jun, Uchuu Patrol Hopper Uchuukko JunUchuu no Kishi Tekkaman Blade II Special, Uchuu no Kishi Tekkaman Blade II Recap宇宙なんちゃらこてつくん宇宙防衛隊たあ坊の時の止まった星宇宙防衛隊たあ坊のしんきろう星を救え!宇宙エースうちのウッチョパスEiga Uchi no 3 ShimaiUtchare GoshogawaraU.F.OMake a U-turn While You Are Young!ツーちゃんといっしょに見ようTwo RoomsAlways Two of UsNishi Manrui, Two Out, Bases LoadedNalong: Fly to the SkyTurquoise Blue HoneymoonTurning Mecards W: Secret of Vandyne터닝메카드 W 반다인의 비밀터닝메카드 R튜브 엔젤团子们的使命Tu Xia: Qing Li ChuanshuoGeneral Ttoli: 3rd Tunnel, General Ttoli: Third TunnelWandering Kkachiつづきを考える物語Tsuyu no Hito Shizuku: Ueda Shouji no Shashin Sekai wo SamayouTsushimamaru: Goodbye, OkinawaNesting Cranes, Cranes in their NestsFishing Fool Diary, Diary of a Fishing FoolAnimal Leadつむりん\\u3000ころころやまのだいぼうけんTsumurin: A Story About Going to Give a Gift to Master Funkoro筑紫の磐井RattenjaegerWallsZombieWelcome to Convenience Store!Waku Waku Koma-chan若者・現代・公害我が家の交通安全 父との約束Wa Wa Wa Wappi-chan Dai 2 Series, Wa-Wa-Wa Wappi-chan Dai 2 Series, Wa-Wa-Wa Wappi-chan 2nd SeasonWa-Wa-Wa Wappi-chanW ProfessorsビジターSekai no OtogibanashiVicky & Johnny, Vicky wa Johnny, Bikiwa JoniThe Rose of Versailles: Portrait of a Burning RoseVampiyan Kids Episodes 22, 23, 24, 25 and 26, Nanchatte VAMPIYAN, Vampire KidsVampiyan Kids Extraうわの空からかえってくるうわばきクックのテキトー占い!うわばきクックUtsurundesu.美しい地球をよごさないで歌うサッカーパンダ ミファンダうしわかまるうしろのせきのオチアイくん心霊恐怖レポート うしろの百太郎ウサハナ 夢見るバレリーナうさぎと亀の交通安全うさぎのマシューUrikupen\\'s Rescue Patrol, Uriqpen Kyudota, Uriqpen Kyuujotai, Urikupen Kyuujo Tai, Uriqpen: Animal Rescue League, Jungle TalesuranofウラコンIII オープニングアニメーションウラコンII オープニングアニメーション雲梯うんたろう たびものがたりShit Naive Schoolunion unionUni Mini PetユニコーンのキュピMusculoskeletal Screening Manual Corresponding GymnasticsEondeodog, The Underdogアンダー・ザ・サン움직임의 사전うみうし姉妹劇場～七夕編～海のコウモリ海の事件事故は118番ウルトラマンカンパニーUkkari Penelope OVA, Carelessly Penelope OVA, Absent-minded Penelope OVA, Head in the Air Penelope, Pénélope\\'s Christmas Party, Pénélope no Christmas PartySpree Violin, Merry ViolinSpaceBoy CacheSpace Soldier Hong GildongKyoto Animation × Murasaki Shikibu Yukari no Machi Uji PR DougaＵＦＯ国の交通安全わすれるもんか！Wo Jiao MT: Gui Lai, My Name is MT: The ReturnMe and the Magnet and A Dead FriendMy Three Body Chapter Beihai Biography我从诸天万界归来White FireworksWei Qi Shao Nian 2Shikijou Sagashi ni Iku-pa!, Let\\'s Go Looking For a Wedding Venue!-paHanhwa Eaglesわざぐぅ!VSでんぢゃらすじーさん邪 抱腹絶倒!アニメクイズ私たちの未来Civil Engineering and Our Lives, Watashi-tachi no Kurashi to Doboku Series私の沼Notre Chambreわれしょ!～我ら!小動物愛護委員会～われらサラリーマン党笑う月ワオっち！ショートアニメワオくんのはねわんわんわんコインわんわん火事だわん完美之城：最勇敢的小孩完美之城：妈妈Wanhua Mirror万古狂帝Empress Chung魍神之夜喜羊羊与灰太狼之筐出未来Xi Bai Po: Wang Er Xiaoゼビウス屋檐下Why Is the Crow Black-Coated, Wu Ya Wei Shen Mo Shi Hei DeWu Xian Shao Nu 48: Infinite, INFINITE SNH48無瑕Monkey King vs. Er Lang ShenWrestler Corps Commander Holy Warrior Robin Jr., Wrestler Gundan Ginga-hen, Holy Warrior Robin Jr., Gundan Seisenshi Robin JrワールドヒーローズワーキングボーシーズウーとワーLittle Bebil in WonderlandおんなWolfgang the Sonic ShowWo Zhi DaoWo Zhen de Mei Yong Mie?Crazy for the Song, Music Up!Flower Fairy小仓鼠笛笛的吃播日常Immortal Reverence Dad, The Love Story of My Immortal Dad, Immortal Deity Dad咸鱼哥 第二季咸鱼哥Immortal Tomb西游记之七十二变Xiao Xiong Mao Xue Mu JiangXiao Peng You Men (1958)Barkley The CatThe Koi Fish in love with the Cat FairyA Fairy Tales of Tibet, Xiao Zhuo Ma熊出没之年货熊出没·狂野大陆Boonie Bears or Bust, Boonie Bears: Bear Infested New YearBoonie Bears Movie 7Bonnie Bears Movie 5星际飚车王幸福路上Rainbow Sea Movie 2屋根裏のラジャーYancharumon Cha, Yancharumoncha, Yancharumon TeaYanbo Ninbo Tonbo no Koutsuu AnzenYanbo, Ninbo and Tonbo, Yanbo Ninbo TonboYanase Takashi Maerchen Gekijouやめて！ライターあそび どうぶつ村の消ぼう隊 出どう山中貞雄に捧げる漫画映画『鼠小僧次郎吉』山川景子は振り向かないRhabdophis TigrinusMountainYakyubu AruaruPromise焼肉店センゴクヤイヤイ森のコミーThe Snow King Has ArrivedLotus LanturnLotus LanternShura Sword Sovereign修容镇The Little Mole and Panda, Panda and Mole, Krtek a Panda雄狮少年Boonie Bears Movie 6熊出没之熊熊乐园熊出没之探险日记Boonie Bears: Entangled WorldsHeibayou no Shiro, 兵馬俑の城Brave Adventure用一天的時間回憶我よんでよばれてよもやま短編集夜廻り猫Yokohama Bakkuretai, Yokohama Bakkure TaiよだかYlion and Callysia一世之尊隱匿的方寸空間櫻時印順導師傅一毛所有Brinken: Finger Skate Generation异空战歌Chuang Tapestry, Chwang Tapestry野外的遭遇Soul Frame Lazencaいーすとけん。夜車やわらかめ♥At Last! Turtle Detective Agencyヤッちゃんと新入生ヤッちゃんと火星の子やさしいオオカミやさ村やさしのやさしい世界やさいのようせい N.Y.SALAD 2ndシリーズやさいのようせい N.Y.SALADGender Equality阳光晒屁股ゆめある動く絵本夢、空高くAn Elephant Which Grants A Dream夢のつづきYume-miru Anime On-chan, Yume Miru Anime On-chan, Dreaming Anime On-chanSnowmanテライユキinバーチャルハワイ雪ダルマンの冬道交通安全Project Show-A to B유후와 친구들Yuugeshou, Yu Kesho, Evening Primrosesゆだって最高！リバイスアニメ湯けむりパラダイス A GO！GO！源神浩劫鱼生YowamonCowardly Samurai Squad, Yowamushi Chinsengumi (1935)憂鬱鼻Yo Yo Neko no Tsumami, Yo Yo no Neko Matsumi, Yoyo no Neko Tsumami, Cat Yo-yo犹太女孩在上海2：项链密码Young Alive! ~iPS細胞がひらく未来~Welcome! Ecology Islandようこそ認知症世界へ陽気な風景たち妖怪ウォッチ♪ ジバニャンVSコマさん もんげー大決戦だニャン映画 妖怪ウォッチ♪ ケータとオレっちの出会い編だニャン♪ワ、ワタクシも〜♪♪幽暗小徑的鬼有妖气夏日广告篇有药2よっちゃんの不思議なクレヨンヨシモトムチッ子物語吉田勝子のヤバイわ! SDGs ~荒ぶる! トラブル! サステナブル!~夜になった雪のはなしYoidon!勇者動畫系列勇士只好背叛地球了智多多之節日嘉年華Chi Dor Dor, Chi Dor Dor, Zhi Duo Duo Zhi Duo DuoChi Dor Dor Starry Sky Tour真假李逵这个年纪还能当大侠吗长大尾巴的兔子ReVdol!, Virtual Idols Next to You!, Fighting Singers!, Zhandouban Geji! Di Yi JiInfinity Nado 6Grandpa Danger SpecialExtinction Fear-shun.제트레인저ゼンちゃんツーちゃんEiga Zannen na Ikimono JitenザイユウキThe Ringleader of the Sunset誘惑★オフィスLOVER2Yuusha-Ou GaoGaiGar Episodes 14.5 and 43.2幽霊屋敷When the Flower of Courage Blooms: The Story of Takashi Yanase and AnpanmanCourageous Firefly and Unflyable FireflyJibun de Jibun wo Mamoru, Hitori no Toki ga Abunai!誘拐防止アニメーション映画 赤ずきんちゃん ちゃんとチェック友情のキックオフ轉啊豬豬俠 終極決戰前夜篇GG Bond Movie 3GG Bond 03GG Bond Movie 2GG Bond Movie 4GG Bond 06GG Bond 02, GG Bond II Martial Arts 2008GG Bond 10GG Bond 01GG Bond 12GG Bond 15GG Bond Movie 1GG Bond 16GG Bond 14GG Bond 05GG Bond 11GG Bond: Global Diary猪猪侠 番外篇 拼装特工队GG Bond 0GG Bond 13, GG Bond: Super Agent G猪猪侠·不可思议的世界GG Bond 08GG Bond 07, Monster Heroes, Kungfu HeroGG Bond 09中山魂38-39°Cあいしてるよマクリー マクリーの交通安全aiseki MOGOL GIRLエアーズThe World of Aika-chan愛玩怪獣Ai and Yuuto: Their First ErrandFor I\\'ve found Love And Love was YouBaby Shark Ollie and WilliamBaby Shark Ollie Doo Doo DooあげおとティムStory of Afghanistan Paghman Village, Afghanistan Paghman Mura no Monogatari: Sekaiichi Utsukushii Boku no MuraStory of Afghanistan Paghman Village, Afghanistan Paghman Mura no Monogatari: Boku no Mura ni Circus ga Kitaaffordance에어로버: 스페이스 드론의 귀환あいうえおうだん－どうろのただしいわたりかたアッカァくんのACCA講座About you아버지의방A DRAWING FOR MOMFarm House 81, Defending Wheat Card of Farm Number 815つの指の庭25分で分かる手形・小切手のはなし21世紀はみんなが主役Juupiki no KaeruZero Man, Zero Men（迷）留(ア・ロング・デイ・オブ)Mr.カルパッチョ#コンパスStories From \"Geniuses Without Glory\"「あい」をたべるズモモとヌペペズッコケ三人組\\u3000ズッコケ時空冒険ズッコケ三人組のこうつうあんぜんッコケ三人組の自転車教室ズッコケ三人組の火あそび防止大作戦ズッコケ三人組のぼうさい教室頭上家族チャビリアーノ最可爱的人ぞう列車がやってきたゾウのかたちズーブルズ！Zoku Zoku Mura no Obake-tachiゾイドワイルド戦記蒼きウル OvertureAOKI & Himitsukessha Taka no Tsume, AOKI & Eagle Talon青い目の人形物語青い羽みつけた! -さがしてみよう 身近な鳥たち-青の洞門安全の指定席 チャイルドシートあんぜんかくにん ケンタとニャンタのこうつうあんぜんIn the Other World, Ghost Groups Are Everything!Sayonara, Tyrano, さよなら, ティラノHello Jeon Woo-chi! The Battle of the Magic Robots暗黒家族 ワラビさんAnime Version Little Nickyアニメ 天狗のかくれ里Anime Roukyoku Kikou Shimizunojirochou Den, Anime Roukyoku Kikou Shimizu no Jirochou Denアニメ ハチ公物語Road to Munich, Anime Document: Munchen e no Michi, Anime Document: Munich no Michiアニメーションで伝える“ヒバクシャからの手紙”エンジェルがとんだ日暗房夜空あなたの肩ごし ちょっと上あなたが見えました穴ポコAN INSTANTアミーゴ 友だちアメリカン・ラビットの冒険飴工場あまねにっきうぴょうぴょ! ダ〜イブツッコめ! アマゾンの世界!알쏭달쏭 캐치! 티니핑阿莉塔的睡前故事アランくんの こうつうルールをまもろうね！アラジンと魔法のランプの交通安全Al Dente Tango悪役魔法少女ミドロThe Devil and the PrincessA-kuei & Gatchinpo秋田県立いぶり学校中等部 WEB版おまけ秋田県立いぶり学校中等部赤ずきんちゃんと学ぼう！交通ルール赤いろうそくと人魚General Manager of Baby艾可魔法少女Ajishin da Tsunami wa? Jibun no Inochi Waji Bun de MamoruSong of HydrangeaUks Uks, One DoorAzur Lane Port DiaryAzur Lane 5th Anniversary - The Best Gift from EnterpriseAzur Lane 4th Anniversary - A Day at the Port Ice Cream ShopAzur Lane 3rd Anniversary: Stars of the PortAzumi Mama Miaアザラシ・タマちゃんの火の用心あはれ！名作くん ショート動画あはれ！名作くん Ｑ＆Ａコーナーあはれ！名作くん 「ヒューマンアカデミー ロボット教室」Ahare! Meisaku-kunあわじしまの七福神Auto Mommyオーロラを見た恐竜たちO-di-syeonAthlon Tobot 3rd SeasonAthlon Tobot 2nd SeasonAeseullon TtobosアテルイThe Man Who Has Changed the History: A Drainage of Lake Biwa遊んでおぼえる学習DVDTomorrow\\'s Hope -Thank You, Sadness: The Story of Tsuneo Takaeあさある森のおはなし\\u3000るるるのるールArtiswitch（アーティスウィッチ）Ruru\\'s Episodes of MemoriesRuru\\'s Costume CollectionNina\\'s Costume CollectionARTIST110藝術學院アームズラリーa ri su byun ui ggoom na mooありんこヘポーふたりのひみつきちーCybozu Work Style AnimeThe Life Of AntsAr:pieL - 6 Fates, Ar:pieL - Yeoseosgaeui Unmyeong아쿠아 키즈あっぱれ！桃太郎の交通安全APO APOワールド ジャイアント馬場 90分1本勝負반도에 살어리랏다바람의 모양巴啦啦小魔仙之星緣蝶啓1巴啦啦小魔仙之魔法星缘堡Balala Little Magic Fairy: Ocean Magic爆釣バーハンター爆球連発!!スーパービーダマンBakushishi Gasshin Ziguru HazeruBaka Mukashi Banashi Gekijoubanバカ昔ばなし白線バイト先は「悪の組織」!?白色隧道白露The Metaverse, Bai Jia Jue: The Strange Stories of JianghuGG Bond 04Stars on the Sea: S.O.S.BAD MOODBABY-HAMITANGThe Enormous TurnipBラッパーズ ストリート벚꽃나무 코끼리 숲Bumper King Zapper버리는 섬便秘薬\\u3000コーラック弁慶と牛若丸Winter Memories贝肯熊2:金牌特工The Beanuts Brothers ShowBeads no Mori no Rabbi, Beads no Mori no RabyiBEACHBazar de Gozarre, Bazaar de Gozaaru巴特베스티언즈バリィさんの諸国漫遊記따개비 루BaumuSparkle Sparkle Catch! Teenieping반지의 비밀일기ブラックチャンネルぼさにまるBooBooBoyあたらしい夜の花見O\\'sumo-san, Osumo-san, Sumo WrestlerKunta, Kun Ta: Hezi ZongdongyuanBonobono: A Friend From Outer Spaceぼくたちのピース・リバー僕たちのアメリカンフットボールを僕らの明日～フリーターの現状に関する若者への周知・広報事業～ボクはすぐに逃げたんだ 東日本大震災から学んだことぼくは王さま (2013)ぼくは王さまぼくは子象の消防隊ぼくとおねえちゃんのこうつうあんぜんボクとガク ～あの夏のものがたり～My All-Day All-Colorぼくのダイエット大作戦ぼくの青空ぼくがこわい黒いものぼくだって、きれいにしたいんだ보글보글 보물선博默館Botos FamilyBotosBlue Eyes -in HARBOR TALE-BloomBLOODY ESCAPE -地獄の逃走劇-Blink in the DesertBlack Cat바이트 초이카ビット・ザ・キューピッドビップとバップイオセンサー冰雪之约病態建築症候群빙그레 크리스마스 캐롤송ビックリマン ロココ＆マリア奇跡ビックリマン 無縁ゾーンの秘宝ビックリマンきらきら特別増刊号ビックリマンキッズ\\u3000テーマファイターニャンダー빅 피쉬ベイウォーリアーズ サイボーグSeparate Volume Kamen Rider Saber: Short Story Activity Manga Collectionベロ出しチョンマBunna Comes Down from the Tree, Bunna! Come Down from the Tree, Bunna yo Ki kara OritekoiCannibal AlienCang Hai Sang Tian, An Unusually Lucky PersonCalvin Klein x Hirotoshi IwasakiCalbeeひとくち劇場ケアンの首達采蘑菇카페 윙클ベネチア大学映画先付Chisa YearningIf You Were Me: Anima Vision 2 (2008), Byeol byeol i-ya-gi 2Byeonsinjadongcha Ttobos별이 빛나는 밤에Buddhist Scriptures仏ゾーンPig Moundバーニング・ビレッジぶっぷな毎日バンブルビー初めての地球生活Ensembukubu Stars!Meals in a Bucket, Ginpei the Penguinぶーばーがー不忠之愛Bu Ya Duanpian Zhi Bajiu Buli ShiBT21 Universe 2 AnimationBT21 Universe Animation 2nd SeasonBT21 ORIGINAL STORYブルネット先生、ここにおいででしたか？BBB소년장수防災啓発動画博士蛙斗变色龙キャラ丸くんとドク丸くんキャラとおたまじゃくし島チャップリンとクーガンAniMen IIUltra Beast Force, Chao Shou Shi Zhuang Zhi Ren Zhe Wu Di, Rev EvolutionSuper Gamer King, Super Game God창백한 얼굴들Chang AnChanchiho Challenge Channelチョーク色のピープルChaechaepong KimchipongCemedine Bond and G17 Love 5 Operation: ThunderWallセメダインボンドとG-17号Seirei Gensouki Mini Anime 2, Celia-sensei\\'s Exciting Magical Classroom 2, Instructor Celia\\'s Exciting Magical Classroom 2Catterpillar캐치! 티니핑CastleDeeky & Carina, Deeky and Carinaカプセル侍Capsule Boy 2: Save the UniverseDan Dan Xiaoziキャップ革命 ボトルマンDX\\u3000サイドストーリーSong of the Plover直感×アルゴリズム♪貯金の勤ちょこさんじKobito Zukan, Chobitto Dukanチロリン村物語 トンクルピーのじしんようじんChiro and Friendsチロの木大きくなぁれ鎮西八郎為朝 (2021)珍遊記\\u3000～太郎とゆかいな仲間たち～陳腐な男Chingo MuchabeiEncounter with Earth地球との約束地球SOS 地球が熱を出している地球SOSそれいけコロリンSecrets of the World地球にやさしいショッピング ミドリちゃんと リサイくるくるショッピング地下すぎアイドル あかえちゃんA Little Love Letter, A Little Love Letter: Mariko And The Children Of The Silk TreeちぃちゃんとヒゲおじさんちいちゃんのかげおくりFoodiverseチキップダンサーズ父と子父カエルChibinacsチビナックスLittle Black Sambo versus the Tigerちびっこ怪獣ヤダモンチビハム・ジューシー・アンド・ミーTomcat\\'s Big Adventureちびねこチョビ／ちびねこコビとおともだちちびまる子ちゃん\\u3000火の用心ちびまる子ちゃんのこんな乗りかたあぶないよちびあいりんのゆるやかな日常ちーすい丸Chi-Sui Maru 2, Chi-Sui Maru Second SeasonQi Qi De Mimi RijiチェリーブラッサムチャーミーキティChuusotsu Roudousha kara Hajimeru Koukou Seikatsuころころコロニャコラルの探検从红月开始こんぷれっくす×コンプレックスColumbus\\'s Great Adventures, Great Adventure of Columbus, Les Aventures de Christophe ColumbeColorful EverydayColo Colo Animal 2, Korokoro Animal 2Cofun Gal no Coffy Movie 1Kofun Gal no Coffy: Juuninin to Ikareru Cofun-tachiCoffy Gal no Coffy Movie 3Kofun Gal no Coffy Campus Life, The Frogman Show, Tumulus Gal Coffy Campus LifeEagle Talon 2, The Frogman ShowKofun Gal no Coffy Campus Life, The Frogman ShowThe Frogman Show, Tumulus Gal Coffy, Kofun Gal no CoffyThe Frogman Show Specials, Tumulus Gal Coffy Specials, Kofun Gal no Coffy SpecialsKofun Gal no Coffy, The Frogman ShowKofun Gal no CoffyKohi Ikaga Deshou, Would You Like Some Coffee?CoCO & NiCOClover 4.3클라이밍CiTY (도시)Cinderella-hime Licca-chanChuu-gakuseiちゅうちゅう春困春分雏菊Anime Tamago 2019町内新撰組 おたすけ組めざし隊の交通安全 交通ルールを守って めざせ！動物園！ノーナ思い出記録【柏のご当地ゆるアニメ】超普通都市カシワ伝説Chou Futsuu Toshi Kashiwa Densetsu UDC2-henLevel-5 15th Anniversary Gag Gaiden, A little Funny Gag Gaidenちょっと動く！？「フテネコ」コーラス檀ふみのおはなしチャンネル丹道至尊Damens Walker - The Animation, Can\\'t Help Falling for LosersNo Good Dad, Family Planning, No Good Pop, No Good Daddy달빛궁궐Squirrel and HedgehogTown Work x Taka no Tsume, Eagle Talon, The Frogman Show, Himitsukessha Taka no Tsume大好き！ねんどママSekai Meisaku Gekijou Kanketsu Ban: Daisougen no Chiisana Tenshi Bush Baby, World Masterpiece Theater Complete Edition: The Bush Baby大樹Daichan, Daisuki.大红与小蓝The Adventures of Jinbao답을 찾은 두 소년打，打个大西瓜大嘴巴嘟嘟大闹西游大冒險鐵路Jingdong x Da Li Si Rizhi Qixi Tebie Fan, Jingdong x White Cat Legend Qixi SpecialBig Ear Tutu\\'s Gourmet Rhapsody, Da Er Duo Tutu Zhi Mei Shi Kuang Xiang Quサイバードール FeiFeiCurry no Kuni no Kobalクレヨンの星クレーターのなる木コヨーテの首飾りcountdown出番ですよ!オニギリズ癲噹デジタル所さんデジガールPOP! 〜STRAWBERRY＆POP MIX FLAVOR〜부탁이니 죽어주라ぢべたぐらし あひるの生活 あひるのすむ島Earthly Song迪迪仔周記デビルマン パイロットフィルムDestiny電脳戦士 土管くん チャンプ土管Fight Tension☆Depart燈塔でんでんの電脳電車The Demon Queen Has a Death Wish, The Demon Queen Wants To Die, The Demon Lord Wants to DieUneven FriendsできるかなDEDARIDeDeDeDe, DDDDDAYDREAMERorNiGHTTHiNKERDayan to Tama to Tobi Neko to: Mittsu no Neko no Monogatari다윗과 골리앗Escape GasshaponDase! Ikebo Gakuen, Cheer up! Ikevo AcademyDaruma-chan to Tengu-chan, Daruma-chan to Kaminari-chan, Daruma-chan to Toranoko-chan, Daruma-chan to Usagi-chan, Daruma-chan to Daikoku-chan, Daruma-chan to Koutsuu AnzenDARK MIXER大桥遗犬島影稻草记Inversion당신을 초대하고 싶습니다Dango 3 Kyodai, Three Dango Brothers, Dango San Kyodai, Dango 3 Kyoudaiでんぢゃらすじーさん邪當 一個人当鲸鱼游上沙滩Dan Zhu Chuanshuoドテラマンドタンバのマナーどすこい! わんぱく土俵DoronCoronDoolie\\'s Backpacking, Dooly\\'s Backpacking, Dooly-ui Baenang\\'yeohaengドンキッコ冬至英豪宴どんぐりと山猫The Wolf of Zhongshan, Dōngguō xiānshēng (1955), Mr. DongguoDonbe\\'s StoryDon\\'t you wish you were here?Dorufin OujiThe Voyages of Dr. Dolittle, The Voyages of Dr Dolittle独白するユニバーサル横メルカトル Egg ManGamtu the ImpDokkaebi BangmangiDokgo Tak: Throw to the SunDokgotak 3ドカチンDohyo no Oni Tachiドグラ・マグラドクターＸの自転車安全セミナーDoctor Mambo and Thief Jibako: From Space with Love, Doctor Mambo & Kaitou Jibako: Uchuu yori Ai o Komete!!どちゃもん じゅにあDJN, YYY Vol.3 -CLUB EDITION -Dis COVERS地球上最后一个男人DINO!Speckles the Tarbosaurus 2: The New Paradise, Konglong Wang, Dino King, 恐龙王드래곤에그Doc Typhoonドクタースランプ んちゃ!アラレのおしおき!アイデア泥棒をやっつけちゃえ同和問題と人権―あなたはどう考えますか―斗罗大陆 导演剪辑版どうぶつ村のワールドカップ〜よい子のこうつうあんぜん〜動物村の消防士どうぶつむらのこどもたち動物村の地震用心\\u3000火の用心The Story of the Animal\\'s Village, Animal Village Stories, Dobutsu Mura MonogatariThe Animal Conference on the Environment動物大野球戦Earth SymphonyExtreme Hearts Side×Short×StoriesExile Generation Recap, Examurai Sengoku Episode 12.5Galaxy Fleet JiguhoEto 1/3えとえとせとらエロ◆ラバERASER WARSEomma Chaja Sammalliえんそくだったひあんさんぶるスターズ！！追憶セレクション「チェックメイトえのしまんず SPIN OFF 『クラゲの相談』えのしまんずえの素 The AnimationEn En NikoriAsobou yo, Daijoubu Kashira, Tomodachi ga Kimashitaエリエール×紙兎ロペエレキング The AnimationHirake! Ponkikki: Ekubo Ouji, Hirake! Ponkikki: Ekubo-chan to Buba-chan, Hirake! Ponkikki: Ekubo Ouji/Ekubo-chan to Buba-chan, Hirake! Ponkikki: Ekubo to Buba英雄にはなれない僕らだからHeroic Legend: Head On! Master Warriors, Transformers Headmasters Episode 38栄光へのシュプール 猪谷千春物語映画の妖精 フィルとムーえほん寄席Jidan Roy, 鸡蛋roy, 에그로이阿凡提之奇缘历险The Vaudeville Duo, Eddy & Emmy no Initial Ring wa 2-ri deエディ・ザ・ファーストブレイク越後の昔ばなし あったてんがのぉ越後幕府Easy Cooking Animation: Youth\\'s Dining TableSam the Olympic Eagleダイナミックヴィーナス都市喵奇谭多云时情ダンプとモンちゃんの小さなぼうけん두억시니가デュエル・マスターズ ハムカツとドギラゴンのカレーパン大冒険Duel Masters Zero Recap, Duel Masters Zero ep 25, Duel Masters Zero: Final Story - A Soul-Summoning Special!DUEL MASTERS キングMAX锋速战警Ryuugakusei tte Maji ssuka!?廢棄之城ファンタスティックワールドfrom North FieldFRESH PEACHふりぃきぃ～はいすく～るFoxWood Monogatari, Foxwood TalesGo for It! Hidemaru, Go for It! Mario, Forza! Hidemaru, Forza! Mario, Forutsa! Mario, Forutsa! Hidemaruフォーム・オブ・ストレスフォレストリーForest and TreesFLOWFLOATFLICKER LOVE NO.1Fire Robo 119 vs. Kyonshii Kyontafighting 32th olympicFight, Pyuta!FIFAFiction Mount ShigiBourbon: Fettuccine GummiShape of the Wind, The Continent of Wind风雨廊桥がんばれ！！タブチくん！！がんばれ!! タブチくん!!頑張れ!!納父さんGoodLuckYonpeyFight! Oden-kunがんばれ!盲導犬サーブがんばれ！ルルロロ\\u3000第３シリーズがんばれ！ルルロロ\\u3000第２シリーズがんばれ！ルルロロがんばれ！コボちゃん牛乳がんばれ！子象の交通安全パトロール隊がんばれ! 長州くんがんばれ！ぼくらのヒットエンドランがんばれスイミーCome On! Gonbeがん がん がんこちゃん学習アニメーション日本国憲法Gakuen Senki Muryou SpecialGakuen Senki Muryou Episode 14.5Gakken ka Nani ka no Mukashi no Video, Gakken or Some Kind of Old Videoがきたびっ！～青春お城編～Gakitabi! Akechi no Furusato-hen, A Kid Trip! Akechi\\'s HometownBrat Cop OVA, Big Brat OVA, Bratty Cop OVABrat Cop, Big Brat, Bratty CopThe Double Lottie, Tomboy AngelsG vs. GJipaiteoseu, Wudi Jiguang Xia, 无敌极光侠, Invincible Aurora Man冬休みだ。全員集合！Rainbow of Winter蜉蝣日记Fluffy Hour: Pui Pui & Muu MuuFuwa and the five rings, 福娃五连环, Fuwa Wu LianhuanFuwa\\'s Olympic Journey, The Olympic Adventures of FuwaFuuta-kun PilotFusen no Dorataro, Dorataro the BalloonTinny Ballon Dog: The Somewhat Mysterious Country of DinosaursBalloon Dog Tinny 2nd SeasonTinny the Balloon Dog, Balloon Dog Tinny風景の死滅FutureNova イメージ・アルバムFutsal Boys!!!!! SpecialsFutari wa Nakayoshi: Guu to Suu, Futari wa Nakayoshi: Guu to Sue, Futari wa Nakayoshi: Goo to SuuふたりのタロウMonchichi the Twins不祥事の未然防止・再発防止シリーズ負傷した線路と月Fushigiboshi no☆Futagohime RecapYappo IslandWonderlandふしぎなあのこはすてきなこのこEiga Fushigi Dagashiya: Zenitendou - Tsuri TaiyakiフリテンくんフニフニマシュマロFunassyi\\'s Aimless Days, Funassyi no Funafunafuna HiyoriFunassyi to Q, FunaQ, FunaQ: Funassyi & QMail DeliveryFuku-chan\\'s Troops, Fuku-chan\\'s Production UnitFuku-chan\\'s SurpriseフクちゃんFuji Log Dai Ni Season, Fujilog Second SeasonOSAM 1-gou, Perfume VH import浮標不安な体The Empty DrumGift Plus MinusShe Was BeautifulGET BACK ON THE HILLゲロタンGenki Genki Non-tan: Sing! Christmasげんきげんきノンタン\\u3000スプーン たんたんたんげんきげんきノンタン\\u3000おばけむらめいろGenki Genki Non-tan: Deka Deka Thank YouGenki Genki Nontan, Genki! Genki! Nontan, Genki Genki Nontan 3Genki Genki Nontan, Genki! Genki! Nontan, Genki Genki Nontan 2Genki Genki Nontan, Genki! Genki! NontanGenki Bakuhatsu Ganbaruger Encyclopedia, Genki Bakuhatsu Ganbaruger OVAGENJI FANTASY\\u3000ネコが光源氏に恋をしたBomb Dome StoryFormula 1GEISYA WARSVR Tamashii no Okuribi, 3D Tamashii no Yukueギーツエクストラ ギーツあにめ あなざーぐらんぷり3 Fairies Hold a Press Conference, 3 Faires go to the MoviesGaron the GuardianGOTHICMADE -ゴティックメード 花の詩女-Gudu De Li Li, Lonely Lilyぐでたま～無法地帯で自由も不自由～ガディガルズ观照關於他的故事怪兽小馆グリム童話アニメシリーズGreen Sabre, Green Saber, Nalong 3: SOS! Animal Rescuers, Narongi Season 3GREEN・REDGreathuntGra-P & Rodeo SpecialGuraP & Rodeo, GraP & RodeO午前3時の仮面舞踏会고양이 입속으로 뛰어들다ゴーちゃん。〜モコとちんじゅうの森の仲間たち〜狗狗傷心誌ゴリパパ一家の農業はオモシロイTtori and the TyrannosaurusDinosaur Mecard功夫兔与菜包狗Gon的旱獭 第二季 SPごめんね, ミーちゃんごめんね チッチ五万匹ゴールデン★キッズご姉弟物語Gokuu no Daibouken Pilot Film, Adventures of the Monkey King PilotYakuza Bar-Room Denden: Yakuza Apocalypse Side-Story極夜ゴキブリちゃん五井先生と太郎ゴハンスキーRice Monster PapゴジラVSガイガンレクスご案内します アナザーワールドへゴー！ゴ―！びーくるずーGo! Go! Bejitan, Go! Go! VejitanGo! Go! Tokyo MER: Kinkyuujitai to Tatakau Nakama-tachiGogosumanime, Go Go Suma Anime, Animal Friends, Sumamon, PePenguin, Rabbitleガラスの仮面ですが と ZGJ8man Recap, GJ8man SummaryGJ8マンGIRLS★BATTLE アロ恵銀のろうそく立てGiga Trive, Tribe GB岐阜のたてかよこはむこ参る!ハムスターサムHami Coro, HamiCoroハルのふえハコフグとみなまたの海はっきりことわろう 誘拐されないぞ！はっけん たいけん だいすき! しまじろう博多バスターミナル吾郎はじめにおぼえる交通安全配信勇者海之傳說－媽祖海角天涯母うずらはげ鉢かづき姫8 Tsuki 9 Nichi NagasakiThe Story of the Hummingbird逆異世界転生エージェントエーコさん愚図の底グッチョンパおもしろ話ぐんまちゃん シーズン2Gui bao zhi bao xiao chuang yu zhouググミちゃんHarley Spinyヘレンと共に\\u3000アニー・サリバン-Heijokyo: Yasukerashi MiyakoBlack Cat Detective: Green Star, Hei Mao Jing Zhan 2015, Mr. BlackBlack BoxDaily Life with a Daughter, He Nu Er De Richangハゼドンはざまつりはやぶさ HAYABUSA - BACK TO THE EARTH - 帰還HAYABUSA - BACK TO THE EARTH -はとよ\\u3000ひろしまの空を果ての一閃 EPISODE ZEROHatarakids Maiham Gumi, Hatara kids My ham Gumi, Master HamstersShinagawa Anime Sonosanハスの妖精 ぼにょぼにょHashire JonはしのうえのおおかみはるつげうおとふうらいぼうHaruba-Ke no Sanninme, Haruniwa Ie no Sanninme, The Third Child of Haruba Family, The Third Person of the Haruba House春になったら こぐまのユーゴ物語Hari Maware! Koinuはれときどきぶた のりやすくんの交通安全はれときどきぶた のりやすくんの火の用心はれときどきぶたの交通安全はれときどきぶたの地震用心日記Happy Seven Chibi Character Theatre, Happy Seven: The TV Manga SpecialsHappy GeorgeHappening Star ☆ (ハプニングスター☆)好朋友半島の鳥阪神淡路大震災に学ぶ 僕は、あの日を忘れない。寒露ハニ太郎です.ハンギョドンのパラレル大作戦 未来世界は大さわぎハンギョドンのパラレル大作戦 恐竜王国は大さわぎハンギョドンのパラレル大作戦 (花のお江戸は大さわぎ)Flower Angel Ten-Tenはなまる交通安全はなかっぱスペシャル ぼくらの大冒険はなかっぱの交通安全\\u3000ケーキを求めて右・左・右Eiga Hanakappa: Hanasake! Pakka~n♪ Chou no Kuni no Daibouken花と少年花と風のファンタジー花さき山The Happy Section Chief, The Magnificient Chief ClerkHana Ichi Mon Me, Hanaichi Monme히어로 인사이드一人しかいない自分翡翠ひろしまのエノキ広がる、せかいGekijouban Hiragana Danshi: Jo日野日出志 東海道 四谷怪談Secret Society Eagle Talon WEB Specials, himitsukesshatakanotsume.jp Extra Episodes, himitsukesshatakanotsume.jp Bangai-henSecret Society Eagle Talon WEB秘密結社鷹の爪 THE PLANETARIUM: ブラブラ！ブラックホールの謎Secret Society Eagle Talon The Movie 4, Himitsukessha Taka no Tsume The Movie 4: The Man with KasperskyThe Frogman Show Specials, Eagle Talon SpecialsSecret Society Eagle Talon GTSecret Society Eagle Talon ExtremeSecret Society Eagle Talon Just Do ItHimitsu no Pompom-chan,Himitsu no Pomupomu-chanひまわりのように彦一とんちばなしHikawa Maru Story光射す空へひぐまのおんがえしHiGH&LOW g-sword OVAHiGH&LOW THE LANDHigh & Low: G-Sword Manner Movies陽だまりの家火の鳥 絆編火あそびは火事のもと ケンタとニャンタの火の用心My Little FoxThe Brothers of Hungboo and Nolboo, Heungbu and NolbuヒーローカンパニーHeonggeuli Beseuteu 5へんたつ\\u3000大晦日特別版Hen na Ko chan変形作品第５番＜レンブラントの主題による変形解体と再構成＞Henxi You, Hen XiyouHelpless voidHa Lou Pu Xingrenハローキティのサンタさんが二人いたハローキティのおかぜをひいたサンタさんハローキティのみんなの楽しい夏休み헬로 코코몽The Red Cloud CliffPainting the Rails of Rivers and Lakes at Night逢仙花螢火の身ごもり蛍の舞う街で星野君の二るい打Hoshi Shinichi\\'s Short Shorts SpecialHoshi Shinichi\\'s Short ShortsKittens of the Island of StarsHoshi no Ouji-sama: The Little Prince本当の私が見える？炎の戦士\\u3000ファイアーガールThe Sweet Memory洪荒灵尊Hong Haier: Dahua Huoyanshan, Fire Ball: Journey to the WestHong Gildong 2084骨嚙みホリデイラブ 〜夫婦間恋愛〜Planetary Robot Thunder AホッキョクグマすっごくひまInto Animation 6一つの花蝴蝶夢：梁山伯與祝英台百姓貴族If You Have ¥1,000,000, 100-mannen attara, dousuru?100 Banme no Saru, The Hundredth Monkey, Hyaku Banme no Saru百々Volcanic WhaleGolden Arm, The Arm of Gold, Hwanggeum-ui Palハードル火星西路7号Blazing Teens 7Blazing Teens 6葫芦兄弟狐狸列那Furakappa ep 78, Hula Kappa ep 78, Hula Kappa Tokubetsu-banHula Kapper, Furakappa回家路上La Confiture de Papillons幻梦山海谣歡樂滷沙沙The Dream to Be an Emperor, The Emperor\\'s DreamSweets Fairy, Magical Wizard Cake FairyFlower Beautyイン・ザ・フィルムJapanese, Nihonjin장미여관Jam the House Snail, Jam the HousenailJAM POTj-sportいずみのこえIwata Kunchi no Obaa-chanいってきます。いつもこころにほほえみをItsuka no Main: Kaminari Shounen Tenta Sanjou!, Itsuka no Main: Thunder Boy - Tenta Sanjou!Chippo the Mischievous AngelイタダキノサキIssun-boushi磯部磯兵衛物語 〜浮世はつらいよ〜The Story of Isobe Isobee磯部磯兵衛物語石山寺デジタル縁起絵巻石ノ森章太郎の歴史アドベンチャーThe Fabled Underground People, Kore ga Uwasa no Chiteijin Tonikaku Ue ga Waruin\\'ya!!, Chiteijin II Christmas wa Eedo石からIsewan Taifu Monogatari, Isewan Typhoon StoryIruka to Shonen, The Dolphin and the Boy, Zoom the White DolphinREACH x Inuyama Kamikoいぬわりさんイヌイさんッ！introspectionインセクトランドいのち輝く灯稲むらの火稲森 明日人のサッカー教室いないいないばあばInagawa Junji\\'s Very Scary StoriesInazuma GO Gag Gaiden, Danball Senki W Gag Gaiden인앱In full bloomImokawa Mukuzou Goes Fishing, Chamebouzu Goes Fishing, Chamebouzu Uozuri no Maki, 茶目坊主魚釣の巻Ikuze Gensanイルカから一休さん  大暴れやんちゃ姫Ikitemasu, Juugo-sai.生きている生きる壁生き抜け！爆走！クソハムちゃんDagon In The Lands Of Weedsいきものさん パイロット映像Ikemen Kyuugotai Nurse AngelsGranny Mischief, Ijiwaru Baa-sanBullying Grandmother, Ijiwaru Baa-sanいじめっこ狼とナナちゃんいじめはゼッタイわるい!いじめストップ！\\u3000金太郎心のちからもちいじめ１４歳のＭｅｓｓａｇｅ異字元合体もじバケるZiichiko storyIdol Land Hajimechaimashita!アイデアが捕まらない。Icon War1 Nen 1 KumiMachbaito一枚の絵てがみ九爺一助☆新畫帖一期一会～キミノコトバ～いちご飴いちばん近くにアイスくりたろうイブラヒム3周年記念アニメI.CINNAMOROLL AnimationI\\'m LateアイラブみーハイパーボジティブよごれモンHyper Earth Rescue Teamひょっこりひょうたん島Hybrid Keiji, Himitsukessha Taka no Tsume, Eagle Talon, The Frogman Show人KENまもる君とあゆみちゃん 世界をしあわせにジモトがジャパンDangerous JiisanJigoku no Sobe, Jigoku no Sobee地獄めたもるJidou Bungaku Anime自分で自分を守るVen. Jian Zhen江南AFK ArenaOpti-MorphsJigong Zhi Xiang Long Jiang Shiジュエルペット あたっくとらべる！Electric Man 337Jeong-geul-eseo Sal-anamgi Maluui Eodeubencheo, Jungle Survival Maru\\'s Adventure점Jarujio AnimaruThe Hidden Past of Kotetsu and Antonio Jr., Jarinko Chie (TV) Episode 42.5巨兵长城传Journey to the 母性の目覚めKyuujitsu, Holidays, Yuki, Snow, Potage, Aitsu, Them, Asa, Morning, Hirune, Nap, Curtain CallHigh School Girl and the Magic Notebook城郭合体オシロボッツジョニーサイファーJi Zhi De Shan Yang繼園臺七號Mushi Mushi-mura no Bousai Kunren, Mushimushi-mura no Bousai Kunrenじしんだ!! ミーちゃんのぼうさいくんれん基石Kim-hi锦绣神州之奇游迹金星人愛情故事金龟子Jing Ling Nv Hai Xiao Zhuo MaYeloli: Fairy of Dreams, Ye Luoli, 精灵梦叶罗丽第一季, Jingling Meng Ye Luoli Season 1, Night Lolita, Yeloli, 叶罗丽, 叶罗丽精灵梦, 精灵梦叶罗丽系列,  精灵梦叶罗丽 第1季, 夜萝莉Beijing Opera CatsジンギスカンのジンくんKage-e Grimm DowaPride the Master Thief, Mysterious Thief Plaid, Kaitou Plaid, Mysterious Thief Pride怪盗ガリーの日本人攻略法!海底国の交通安全貝社員！農林水産省へ行く貝社員 vs クレジットカード課長～クレカのルール知ってる貝？～Kaiketsu Zorori: Terrified Bridal Strategy, Kaiketsu Zorori PilotEiga Kaiketsu Zorori: ZZ no Himitsu, The Secret of Double Zかいじゅうステップ ワンダバダかいじゅうステップ\\u3000SDGs大作戦かいじゅうせかいせいふくMonster Tavern Toast SpecialsKAIJU DECODE 怪獣デコード蟹眼怪物くん카이: 거울 호수의 전설Free Power Real, Satisfaction Real, Kaido-Ryoku Real, Kaidohryoku REALFree Power, Satisfaction, Kaido-Ryoku, KaidohryokuEternal Paradise, Limitless ParadiseYamahiko Who Lost His HookかげろうかーくんKage-e Mukashibanashi影絵アニメシリーズKagee Aesop\\'s Fables, Kage-e Aesop Monogatari, Kagee Aesop\\'s Fables影の子供カガリ ヒバナKagaku Nineko-tai GatchanyanDr. Slump Arale-chan Returns Special帰ってきてよぉ富山からFrog Prince and Caterpillar HenryかえりみちKachikachi Yama (1934)カチカチ山の消防隊かちかち山カチカチ山Mold RabbitPotomas the HippoKaba Enshou no Doubutsuen Nikki十六地蔵物語 ―戦争の犠牲になった子どもたち―Miao Xing Shaonian Piaoliu JiJustice Runners君临臣下ジャングルウォーズ純がくれた命Jeom-bak-i: Han-ban-do-eui Gong-ryong 3D, Tarbosaurus 3D, Tarbosaurus: The Duel Begins, The Dino King绝顶Ju Ko Hatagami: Kami Korin, Baryon紙兎ロペ×ROPÉ SISTERSCutta-kun Monogatariケイト・アロー×！EXC\\u3000ポニーテール片翼のクロノスギア片腕Housekeeper Ita火災予防カルガモ親子の交通安全カルガモ親子の火の用心Karrimor Mountain Club 2Karrimor Mountain Clubカルルとふしぎな塔かりあげクンThe Crow Does Not Choose the LordカラスのプータSchool for Thieves/Mr. Crow the Baker空の卵かっぱまきかっぱのすりばち靠岸Kill Yourself観光大戦SAITAMA～サクヤの戦い～かんからさんしん金子みすゞ やさしさの風景官兵衛くんがゆくかなかなかぞく看無風景Kamo Tori Gonbeeカミワザ・ワンダKamiusagi Rope 4紙兎ロペ × ワコール紙兎ロペ×東京ガス紙兎ロペ  TOHOシネマズ紙兎ロペ x Ricordi紙兎ロペ\\u3000つか、夏休みラスイチってマジっすか！？Paper Rabbit Rope: Global Warming, Kamiusagi Rope: Ondan-ka, Kamiusagi Rope: Job Hunting,  Kamiusagi Rope: ShuukatsuKamiusagi Rope, Feng Shui, Undou ShinkeiPaper Rabbit Rope 2 Specials紙兎ロペ２紙兎ロペかみさまみならい ヒミツのここたま 特别篇Pikkaribee, Boy of the Thunders紙の家Masked Warrior LavithunderMarionettes in Masks, The Marionettes of Mask, Kamen no Marionetto-tachiKame-abaraかくざ父さんKakugen! Kakuza Tousan, Kakuza Father核戦争かくれん坊Kako Pad: Nagaoka Hanabi Monogatariカッくんカフェカジラレ島のふたつの灯台火事と小馬火事のあくる日Pirate PrinceKing Kong / Tom Of Thumb, Tom of T.H.U.M.B., King Kong: 00 1/7 Tom ThumbKinkyuu-Kids Otasuke-tai金のまきばきもしばきみならどうする？ゆうかい・いたずら\\u3000されないために君との正しい約束キミとの正しい約束君知ってる？首都炎上アニメ東京大空襲Ayu Mayu Theater PrologueKimezo BusinessmenKimezou no Kimarimonku Ja Kimaranee Dai 1 SeriesきまりのないくにキキとララのヘンゼルとグレーテルきかんしゃやえもんTeacher Tank Engine, Locomotive Teacher黄色い気球とばんの先生きいちゃん 私、生まれてきてよかった！消えさらぬ傷あと 火の海・大阪機動戦士ガンダム 鉄血のオルフェンズ ウルズハント機動戦士ガンダムさん ~劇場マナーCM~Gundam Double O Revealed Chronicleモビルスーツ学園「帰ってきたＧ-レコ甲子園」キックオフ２００２KICK&SLIDE気分は形而上[うああ] 実在OL講座キ・ファイター テラン気をつけよう\\u3000道路は危険がいつぱい！Ketsu-Inu, Butt DogTakuma, Ketatamashiku Ugoko Kumaケシっこケシカスくんけろけろけろっぴの友だちは魔法使いけろけろけろっぴの空とぶゆめの船けろけろけろっぴの空をとべたらけろけろけろっぴの恐竜がでたけろけろけろっぴのぼくらのお姫さまけろけろけろっぴのびっくり! おばけやしきケンタとニャンタのクルマ大好き！けんさくとえんじんのHappy Birthdayけんさくとえんじんの新しいともだち クエリ登場！けんさくとえんじんのABC Days県立海空高校野球部員山下たろーくん健幸宝船 SUKOYAKA 7The Cat\\'s Office, The Twin Stars, The Coat of a Glacier Mouseケンちゃんと防炎家族ケンとかいじゅう깨미탐험대깨미랑 부카채카깨미結婚を祝う兎と虎Kekkerokeけいとのようせいニットとウール慶応遊撃隊活劇編Gonjiro The FurballKazu and Yasu Hero Tanjou, Kazu & Yasu Hero Tanjo, Kazu and Yasu Hero Legend, Kazu to Yasu Hero DensetsuSekai Meisaku Gekijou Kanketsu Ban: Kazoku Robinson Hyouryuuki - Fushigi na Shima no FloneThe Deck Family, Family Deck風の旅人Wind Spiritかぜの日かよこ桜の咲く日KayochuKongjwi and Patjwi, Kongjui & PatchuiEssays on Insects, Insect TsurezuregusaChu! Insect StorySakyo Komatsu\\'s Animation Theaterこまねこショートムービー2021Tokyo Revolution of the Heart, Kokoro no Toukyou Kakumei心の花たば心のキャッチボールWageul-wageul KokomomIn Love!! Sea Cucumber-chan恋はエレベーターKouha Ginjirouこぎつねの消防隊Ko Gitsune no Okurimono, Ko Kitsune no Okurimonoこぎつねの交通安全こえだちゃん おはなしこえだちゃんKoe o KikaseteMy Boyhoodこちらたまご応答ねがいますLook This Way, MiikoKobo-chan Special: Matsuri ga Ippai!, Kobo-chan Special: Yakusoku no Magic Day, Kobo Nazo-jou no Nazo, Ameagari no Yakusoku, Bokutachi no Kekkonshiki, Heisei Mikoshi GassenKobo-chan Special: Aki ga Ippai!!, Kobo-chan Special: Yume Ippai!!コボちゃんの交通安全Kobito to Aomushi, The Dwarf and the Green Caterpillar, The Gnome and the Green Caterpillar, The Child and the Green Caterpillarコバラサポート×紙兎ロペKoala\\'s Fire Brigadeニャッキ！Tales of Greenery, The Family of Greenwood꼬미마녀 라라Tao: Little Wizard끝날의 밤깨모의 모험きずな\\u3000～にんげんの詩パート２～きずらだけのりんごKizudarake no Tenshitachi, Heartbreak Angelsキティとミミィの新しい傘キティとダニエルのすてきなクリスマスキティとダニエルのおどるサンタさんのひみつきつねとぶどうきつねのかんちがいThe Boy and the North WindOne second remaining until the kiss.キリンの行進Kirawaremono no Rasuキラキラ小学生 セレブちゃんGlittering Elementary School Celeb-chan記憶の淵金太郎の交通安全キン肉マンの交通安全金魚の一生きんぎょが\\u3000にげたHappy Star CatガスーKoutsuu Anzen Inu \"Signal\" no Oyako Nikki: Tobidashi ChuuiStory of the Little Rabbit工業哀歌バレーボーイズ劇場版甲虫王者ムシキング グレイテストチャンピオンへの道コトリサンバKoto Nakare Hero Ginger-man, Kotonakare Hero GingermanKotenkotenko, Kotenco and Matenco炬燵猫Koushisu! LiteKoushisu!ころがし屋のプンこれは、わたしの物語。コレがまさかのアレでした ～若者の消費者被害～Eiga Korasho no Kaitei Wakuwaku Daibouken!, Movie: Korasho\\'s Exciting Under-the-Sea Adventure!氷の国のミースケCompora Kid, Modern Kidsこの空の下でKono Shihai kara no Sotsugyou, Yutaka OzakiKono Aozora ni Yakusoku wo SpecialsSekai Meisaku Gekijou Kanketsu Ban: Konnichiwa Anne: Before Green GablesこんなこいるかなこにぎりくんBlack Cat MonroeLalala Cocoラララ ララちゃん~パタパタだいせんそう~Lalala Lala-chan Mini (wo Tegami Video)ラララ ララちゃん ★ウチュ～にムチュ～★ラララ ララちゃんOtenba RuruRescue Warrior Nanosaver, Virtual Trilogy part 3The Killing Stone, The Fox with Nine Tailsきょうしつはおばけがいっぱい／ぼくはゆうしゃだぞ恐竜ピコラ教育映画祭受賞アニメシリーズTerrifying Kyou-chan今日もツノがある今日も今日とてテープは回るキョロちゃんの 地震用心・火の用心キョンシーキョン太の交通安全巨人の星【特別篇】猛虎 花形満巨人の星対鉄腕アトムNalong 2, Longman: The Little Big Hero, Kaiketsu: Longman Nalong九頭竜川と少年Kuwagata Tumami空想水族館Eleves and the ShoemakerKutsushita ga Daru Daru ni Nacchau Wake: Imadoki Youkai ZukanクソハムちゃんHAPPY BIRTHDAY！奇魂侍くるねこくるみ割り人形 (2014)KURO暗やみは危険がいっぱいKUPU! Bean sesame!, Kupuu!! Mamegoma!Kung-ya Kung-ya, Koongya Koongya쿵푸 공룡 수호대くもりのち晴れ雲の学校雲にのるクマーバクマさんのマイホームクマちゃんの交通安全Puutarou the BearKuma no Minakuro to Kouhei-jiisan, Kuma no Minakuro to Kouhei Jii-san, Kuma no Minakuro to Kouhei-Jii-sanThe Bears\\' Schoolくまのがっこう～ジャッキーのおほしさま～くじらKuiba Yaoxia ZhuanくだものKubire 3 SistersKUBBE kort animasjon(キュッパのアニメ)夸口的青蛙Lingyun Daima라인 레인저스Beongae AteomA Documentary of LifeLIFE OF THE DEAD の第７Licca-chan and the Magical WorldPokémon: A Good Day for a DreamOne Hundred Thousand Layers of Body RefiningWee, White & Warm-Hearted, Still Small Tales李獻計歷險記ルヴァンカップ×紙兎ロペレッツゴーなかまたち！\\u3000―ぼくらと博士の防火の誓い―Sekai Meisaku Gekijou Kanketsu Ban: Les Misérables: Shoujo Cosetteレオナルド博士とキリン村のなかまたちレオナルド博士とキリン村のなかまでしょ ハロウィンパーティだよキリン村!レオナルド博士とキリン村のなかまでしょReina ReinaHover Champslearn to loveProject LayereD라바 펜던트라바 아일랜드 무비라바 패밀리Lao Lang Qing Ke老虎学艺Old Master Q Fantasy Zone Battle II老夫子魔界夢戰記 I, Old Master Q Fantasy Zone Battle I老夫子 (2011), Old Master Q (2011)窓ぎわのトットちゃんまどから★おくりものMabeobbeoseu TayoPhantom Mabo-chan마법천자문 시즌2마법천자문The Sound of Heart: Season 1The Clever Racoon Dog, Yeongnihan Neoguri鷺鷥河路上The Camel\\'s Dance洛宝贝ルナたん～1万年のひみつ～Jungle Master: the Candy World, Lu Lin Da Mao Xian Zhi Tang Guo Shi JieShou Hu Zhe Sen LinLovely Movie: Lovely Muuuuuuuco! Specials, Lovely Muco! SpecialsLove Nights AxD!, Love Knights! A.DLOVE LETTERLost ButterflyLong Zai Nali?Fake Identity, Longwang Dian禮物Liv and Bell瘤リトルワンダーズ \"Sneeze\"リトルビレッジピープルTiffel & Taffel, Tiffel and Taffel, Tiffel & Tuffel, Tiffel and Tuffel, How Our Summer Flew PastTiffel & Taffel, Tiffel and Taffel, Tiffel & Tuffel, Tiffel and Tuffelリトル・チャロ～東北編～リトル・チャロ2ライオン×紙兎ロペまめきちまめこニートの日常貓年海岸マヌ～ルのゆうべRikkun in the Middle, Mannaka no Rikkun@Kintere毎日がつらい気持ちわかりますか ゆるせない！ネットいじめマンガ日本経済入門まんが日本絵巻Animated Stories to Understand Thingsまんがことわざ事典Manga Children\\'s LibraryIllustrated Stories of Great IndividualsManga Stories of Great Men, Manga of Great PersonalitiesManga Furusato Mukashi BanashiMang Nu Yu Hu Li学の夏休みまみむめ★もがちょまめうしくんの交通安全まめうしくんMama Ohanashi wo Shikikasete, Mama Ohanashi o Shikikasete, Watch with MotherMaMaMalta no Bouken: Kamishibaiマルタの冒険\\u3000シーズン3マルタの冒険\\u3000シーズン２Makkuro na Obento, Burnt Lunchbox, Burnt Rice, Charred Lunchbox, The Lunch BoxSekai Meisaku Gekijou Kanketsu Ban: Makiba no Shoujo Katri, World Masterpiece Theater Complete Edition: Katri, the Cow GirlFirewood, Kanta, and Grandpa負けるな！千太～さよならいじめ虫～Makehen de! 3-nen 6-kumi no Hanshin Daishinsaiマジでわかる！ワッチャプリマジ学園Hon-maji-Ki, Honki!, For Real魔法使いハーレイのスピードストーリーMagical Girl DianaMagical Fairy Persia Recap, Magical Fairy Perusha Recap, Mahou no Yousei Persia Recapマジカルプータの 火あそびはあぶないよまじかるマホMAFF × CHOBITTO DUKAN메밀꽃, 운수 좋은 날, 그리고 봄봄まえがみ太郎Madou King Granzort SpecialMebae no AsaMeng Hui Jin Sha Chengめかくれ美影大乐园Mei Tou Nao He Bu Gao Xing, Mr Simple-Minded and Mr Unhappyめいたんてい ラスカル美食大冒险之英雄烩Hirake! Ponkikki: Meisaku World/Mukashibanashi, Hirake! Ponkikki: Meisaku World, Hirake! Ponkikki: MukashibanashiMei Ren Yu Zhi Hai Dao Lai Xi名曲と大作曲家物語Sekai Meisaku Gekijou Kanketsu Ban: Meiken Lassie, World Masterpiece Theater Complete Edition: Lassie明治維新をつくりあげた人々女神ちゃんと行く！ フラッグ大阪オフィスご案内ツアーメカ☆アフロくんRoboteugundangwa Meka3芽吹きWake Up TIGGER!McDull Movie 4McDull: Kung Fu Ding Ding Dong, McDull Movie 3, Mak Dau Xiang Dang DangMcDull Movie 5Mai Dou Kuai Le Di TanMak Dau, McDull Movie 6McDull and Chinese CultureWiener Wuastまゆとろ THE TOONSIreesha, The Daughter of Elf-kingまつばらくん\\u3000「マッキーへの応援メッセージ」マチェーリカマタタビムービーラボ마스크 마스터즈Mashin Folk Tale Theaterマリーベルの交通安全マリーベルの火の用心\\u3000グラッときたらどうするまるもふびよりまるまるマヌル丸出だめ夫해저탐험대 마린 Xマルコと銀河竜みこすり半劇場Miki no Mikoto: Kizuna no MonogatariLords of Sacred Sakeミカンせいじん現わるMiserable Miracle, Émergences, Emergencesみーつけた！How to make Mietchi Cuisine Hachis Parmentier見えぬ目に感じた雲取山の朝日Midoriyama Koukou Koushien henNice to meAt you☆, Midori-chan Side Story, Project Midoriみどりのマキバオー 終わらない挑戦!!夢見Microphone Soul Spinners ～言霊少女～  振り返り動画Microphone Soul Spinners  ～言霊少女～Michiteru Kuru Toki no Mukou ni, Toward a Time of TroubleミッちゃんMr. MiaoMiao Qian Sui de Cheng Nian Liめざせ！かっこいい 1ねんせい チャンピオンにちょうせんマーメイドリカちゃんMagic Boy Muttul, Tlaoist Mutul먹다めんトリSleepwalking DunhuangGarenaTon Ton Ton To, Ittadeshou, Tomodachi ga ImashitaDraco Monster 3, Drago Monster 3Armored Adventure 2, Drago Monster 2, Draco Monster 2Drago Monster, Draco Monster魔角侦探Tono MonogatariWater Dream, L\\'eau des rêves水の精・河童百図MIRRORFuture People Go HomeFuture Firefighter KyuutaConsidering Disaster Prevention for the Future未来からのメッセージLetter to the Future: Midway Along the PathMirai e no Niji: Boku no Ojisan wa, Hansen\\'s DiseaseFuture Boy Kunta in Bermuda 5000Miracle MimikaHalf a Hero Special, Miracle Giants Dome-kun Specialみんなうんちみんな友だちみんなのトニオちゃん FUCK THE WORLDみんなのおかやま犬みんなの情報モラルみんなのどうとくみんないちばん！みんなが知ってる 心あたたまるなつかしいお話しシリーズみんなで跳んだminiGAROマナームービーMini Force, miniteuggongdae, Choegang Jeonsa Mini Teuggongdae, Strongest Warriors Mini Commando Squad, Zui Qiang Zhanshi Mini Tegong DuiminiロペMinimoni ja Movie Okashi na Daibouken!ミニミニポッケの大きな庭でRinging Destiny明镜高悬源頼朝と武士の世の中南の島の小さな飛行機 バーディーSekai Meisaku Gekijou Kanketsu Ban: Minami no Niji no Lucy, World Masterpiece Theater Complete Edition: Lucy-May of the Southern Rainbow南へ行ったミースケミナの村と森ミナの村と川ミナの村のごみ騒動ミナの笑顔ミナの防災村づくりミミちゃんの手と手と手Mimumamumintoミルキー☆ハイウェイミルクのケビン THE MOVIE桃太郎の火あそびやめよう！ 火の用心ミスターシェイプとナンバーマンMr. Men Little Miss / ミスターメン リトルミスMoyashimon Returns Specials妄想科学シリーズ ワンダバスタイル みっくすJUICEの作り方Mausu Doubutsuen, Mouse ZooExtraordinary Ataro 2, Mooretsu Atarou (TV 2), Mooretsu Atarou 2, Moretsu Ataro 2, Furious Ataro 2Furious Ataroもーれつ50音太郎盲導犬クイールの一生もっと 知って ふくしま！もったいないばあさんMOTTAINAI もったいないもしもし, てるみです.もし、銀行がなかったら? -魔法使いサリーの銀行入門-モータルポータルラジオモリゾーとキッコロBonolon: Fushigina Mori no IitsutaeMori no ReshioもりのおんがくたいThe Forest Concert森の薫り×紙兎ロペ森の人と小てんぐちゃんMo Ri Gen, Morigenムーンストラック\\u3000アルテミスMonpiモンキーピークMonkart: Legend of Monster KartMonkSEISHINMonster Hunters Specials, MonHun Nikki Pokapoka Airu-muraMonchicchiizu, MonchicchiisuMon Chéri CocoももんがぁモンGo Go! Doll-chan, Project Fもじゃとまじょ魔幻仙踪之妈妈去哪儿魔幻仙踪Mofu☆Mofu Episode 6.5もっふんといっしょMoji Moji Pandaナンちゃんの交通安全なめこ～せかいのともだち～Namakemono is Watching, Namakemono ga Miteita名前... それは燃えるいのちWeeping Dragon 1991中崎タツヤスーパー ギャグシアター II中崎タツヤスーパー ギャグシアター Iなかよしじてんしゃ中通りく アニメーション 非常用持ち出し袋を用意しよう泣いた赤おにRed Oni, Blue Oni, Don\\'t Cry Red OniPeppyながさきの子うま長野都市ガス×紙兎ロペCocomong 1, Reizou Kono Kuni no CocomongNaccio e Pomm, Natcho to Pomu, Nacho to Pomo, Nacho e Pomme, Naccio & PommNasaerdin, NasreddinMyGO!!!!!メンバーの日常Pinkfong and HogiMY SHELTERマイエクササイズMY CROSSROADムーミンとこうつうあんぜんムーミン パイロットフィルムWooden Girl, Mu Tou Gu NiangむすんでひらいてMushi Shinobu, Mushi Ninjaむしむし村の仲間たち\\u3000みんないいとこあるんだよ無責任艦長タイラー コンプリート・コレクション「ミュージック・クリップ」Musabi ExplosionMu-nyeo-doむくはとじゅうの名犬物語無軌道な線たちYarisugi!!! Itazura-kunOld MountainMukashimukashi MomotarouJRA Anime, Horse Racing FolktalesTank Knights Portriss, Mugen Senki Fortress無限の火無限∞15秒アニメーションThe King of Tomb Ⅳ, The King Of Tomb: The Battle of You CityねじくれおじさんHeart of the Red Bird, Japanese Masterpiece Fairytale Series: Heart of the Red Bird二度と通らない旅人Ni-biki no Neko to Genkina KazokuCrazy NianNi Tian Jian Shen, Against the Sky Sword God你的人生是我来迟了ねずみくんのきもちねずみくんのチョッキネポス・ナポス年中行事アニメーションシリーズ念仏物語Nemurenu no Chiisana Ohanashi, Small Stories for Sleepless Nights, Nemurenuyoru no Chiisana Ohanashi眠れない夜の月ねころんで見てね。ねころんでID猫は生きているCat and Mice, Cat and Mouseね子とま太猫の棲む島Neko no Robねこのまねこネコの国の憲法Dayan the Cat Goes to JapanDayan the Cat: Wonder TheaterDayan the CatNekoneko Gong Show, Kihara Yousuke x studio dwarfCat ProjectPicture Diary of Cat Lover, Who Was Born into a Family of Cat Haters, Living With Cats, Nekokirai no Ie ni Umareta Nekosuki ga Neko to Kurashi EnikkiねぎぼうずのあさたろうNazotokihime ha Meitanteiなぜ生きる─蓮如上人と吉崎炎上─Let\\'s Redo Summerなっちゃんの赤いてぶくろFlying Pig - Pirate Mateo, The Great Pig Pirate MateoFly, Space Battleship Geobukseon날아라 슈퍼보드Nara-shi Kankou PR, Barabara Rururu, Angel wa Senkyo-ken ga wo Suki, Naranara Naranara!Narudoma SpecialNarudoma Manner Movieナンゾヤナヌムの家ナントカ天国菜の花Nami Shen Bing南極ペンギンカラーズ軟膏母さんI Like the NaniwabushiOsaka Tough Guys: Hot Blood!! A Blooming Hearty Laugh ChapterOsaka Tough Guys, Naniwa Spirit難波金融伝 ミナミの帝王何も見なくていい何度でも忘れようなんでも爆解！こよりチャンなんぼのもんじゃい! ヤンキー愚連隊七罪プロジェクト-其の壹-Nezumi no Densha, Nezumi no Imo Hori, Nezumi no Sakanatsuri, Nanatsu no Nezumi Series七つのほしななにんのあやかし-ちみちみ魍魎!! 現代物語-梦月精灵Nyanfu, NyanfullGirls\\' Dormitory Life, Nu Sheng Su She Ri Chang我的灵异女友, Oh! Juyesuyeo, 오!주예수여눈치 없는 돌쇠ぬっこ。女他のろまな爺ノーマン・ザ・スノーマン〜流れ星のふる夜に〜ノーマン・ザ・スノーマン ~北の国のオーロラ~のりものまん モービルランドのカークンYahoo! Shinkansen, Kita! Kita! Tokkyuu!, Nani Tsun Deru no?, Sekai no Kuruma, Boku wa Jumbo no Pilot, Sora no OneesanNori Pi-chanNoratoriamuNora SukoNora Suko SpecialsNora Suko (TV)Norasco Baba Nuki-hen, Norasco Nukiuchi-hen, Manner CM, Jouei MannerNorabittsuminittsuNunbory, Noonbory and the Super SevenDreamy Urashima野見宿禰Noman Pilot Film, NormanNOISE野菊の墓のぶながくんの みんなで約束 火の用心のぶながくんの自転車のルールを守るのじゃ노 모어 프린스二わのことりBirth of Japan, Nihon Tanjou日本昔ばなし 三ねん寝太郎忍たま乱太郎 さらば 忍術学園 の段忍たま乱太郎 忍術学園と謎の女 これは事件だよ〜！の段忍たま乱太郎 忍術学園入学案内の段忍たま乱太郎 ドクタケ温泉の段忍たま乱太郎 100％勇気！ドクタケ出城をやっつけろの段忍たま乱太郎の宇宙大冒険 with コズミックフロント☆NEXT忍たま乱太郎の消防隊忍たま乱太郎の 地震用心 火の用心Manmaru the Ninja Penguin忍者玉丸Ninja Box Side Stories, Ninja Box Season 3ニンジャボックス忍者ベアーthe Animation★Ningyo Hime人魚ノ唄にんげんの詩The Human Revolutionニクいよっ！カルビくん～煙が目にしみる～ニコニコ♪コニーちゃんNiko Niko Poon, Nico Nico Pun, Nico Nico Poon, Niconico Pun, Niko Niko PunTwelve Sets of Eyes, Twenty-Four Eyes虹いろの森にじいろのふしぎないし虹のきずな虹のかけ橋Nippon Omoshiro Mukashi Banashi, Fun Japanese FolkloreYoi Ko no Anime-kan, Yoiko no Anime-kanおじさん改造講座おおかみと７ひきのこやぎOoi! Adatchii!, Ooi! Adatchi!, Ooi! Adacchi!, Ooi! Adachi!, Ooi! Adachii!大江戸捕物帳 ねずみ小僧Onosaka Konishi no OTASUKE 2.5-jigen AnimationOnly You ビバ! キャバクラおにたのぼうし鬼丸 戦場に駆ける五つの青春おにぎりになりたい こぎみゅんOni Husk鬼の花嫁は喰べられたい 前編Demon Inspector AnpanWorld Tavel MusicOnepato女川中バスケ部 5人の夏on-chan Yume Power Dai-Boken, on-chan Yume Power DaibokenOn Time Off TimeおむすびころりんSou NandaオモヒデHappy Birthday JesusLeave it to Mamitasu, Omakase MamitasuOlga\\'s Russian Language CourseOL Kaizo Koza, Survival in the Office, Office Ladies Remodelling LectureAngry JizouWeasel and Dormouseお金は回る －くらしと金融－おかあさんのやさしい手おかあさんの木Okaa-chan Gomen neおじいちゃんのトマトおじいちゃんの花火おじゃる丸\\u3000ちっちゃいものの大きなちから映画 おじゃる丸 約束の夏 おじゃるとせみらOjamajo Doremi#: Together with Hana-chanOjamajo Doremi Dokka~n: From Sharp to Dokkan! Hana-chan is Pumped Up美味しんぼパイロットおいしく作ろう！プチプチ・ダンスおいどんとお昼のショッカーさんおはよう! コケッコーさんお話でてこいOH!MYコンブDancer ClinoppeOdenkunオチビサン短編ムービーお茶犬〜「ほっ」とものがたり〜Elena Evoy Gwanchal Ilji, Elena Evoy Observation Diary, My Observational Diary of Elena Evoy憶えていてobjectおべとも学園Obatarian, ObattalionオバケのQ太郎 とびだせ! バケバケ大作戦オバケのQ太郎 進め! 1/100大作戦Song of the Chimney Ghosts, O-bake Entotsu no UtaNyuru Nyuru!! Kakusen-kun 2-kiニャン太のおたんじょう日は火事さわぎ！にゃんぷくにゃるまニャンパラの仲間たちパンツぱんくろうEigakan no Manner: Oshaberi wa Dame desu yo-hen, Game-ki wo Tatai Tari Yusuttari Shinai-hen, Medal wa wo Mise no Soto ni Mochidasanai-hen, Junban wo Mamotte Asobu-henPanpaka Pantsu W-O-New!Panpaka PantsuPani PoniA Plump Married Woman Goes Back to Her Mother\\'s Homeパンダちゃんの交通安全パンダのたぷたぷBread and My MomoパッコロリンThe Pacalien, Alpaca Alien: PACALIENパカリアンパブー＆モジーズパ・リネズミくん！Paxiu De Huangying, The Shy Oriole, Coy Nighingaleオズの魔法使いの交通安全の旅Oyone and Mattsan Love Song: Barley Field - Hawaii Route of AdorationOyoneko Bunyan, Oyoneko Punyanおやゆびひめリカちゃんおやゆびひめ親子で学ぶ 火事の用心 地震の用心終わらない鎮魂歌を歌おう 青年のウタ終わらない鎮魂歌を歌おうOverman King Gainer 1-11 DigestThe King and the Nightingale, The NightingaleOu-sama Monogatari, Little King\\'s Story逢魔ヶパレヱドオトッペオトナの一休さん男樹男はつらいよ 寅次郎忘れな草男どアホウ! 甲子園Otogi no Sekai RyokoOtogibanashi: Bumbuku Chagama, Fairy-tale: Bunbuku kettle, Bunbuku Chagama (1917)Weather BoysOtakuchanzuOusu no Buu-chan, Ousu no Bu-chan, Osu no Bu-chanOsomatsu-san: The Start of the Beginning映画おしりたんてい さらば愛しき相棒(おしり)よButt Detective Movie 3: The Secret of Souffle IslandButt Detectiveおしえて♡なみえ先生！Teach Me, Hokusai!The Man Traveling with the Brocade Portraitおしゃマニお先にどうぞ ありがとうオルシペスウォプOROKAHappy Smile ♡ DreamOrganic Circleおれたち, ともだち!俺と一緒にトレーニングORANGEBACK + HOO-D - Pilot Short Animationプラネタリウム 紙兎ロペ おれらロケット飛ばすってマジっすか!?PJ Berri no Mogu Mogu Munya Munya Season 2PJ Berry no Mogu Mogu Munya MunyaPittarazu Tarazu no Maki, Pittarazu PinnomakiPittanko: The Sun Teacher and Pittankoぴったんこ! ねこざかな皮皮鲁安全特工队Pipi とべないホタルThe Exciting Story of Pinkfong and Hogi핑크퐁 원더스타핑크퐁 시네마 콘서트: 우주대탐험핑크퐁 시네마 콘서트 2 : 원더스타 콘서트 대작전Pink Lady 34, Pink Lady 35, Pink Lady Monogatari: Eikou no Tenshi-tachi Recaps, Pink Lady Monogatari: Eikou no Tenshi-tachi Specials, Pink Lady Monogatari: Eikou no Tenshitachi Specials, Pink Lady Monogatari: Eikou no Tenshitachi Omnibus, Pink Lady Monogaピンク・レディー物語 栄光の天使たちPinch & PunchPochitto Hatsumei: Pikachin-Kit刺痛我Ukulele Picnic, Ukulele Picnic in Hawaii披着狼皮的羊Secret × Heroine Phantomirage!, Girls x Heroine Series쁘띠쁘띠 뮤즈ピーターくんの交通安全ピーター君の火の玉たいじSekai Meisaku Gekijou Kanketsu Ban: Perrine Monogatari, The Story of Perrineピリオド\\u3000オブ・ザ\\u3000マウスマンペレストロイカペンギンぼうやルルとキキペン＆マジックPeeping Life: TV Asahi Jousei Announcer Collaboration, Peeping Life feat. tv asahiPeeping Life ‐The Perfect Extension‐Peeping Life: Tezuka Pro Tatsunoko Pro Wonderland Specials, Peeping Life: Tezuka Pro, Tatsunoko Pro Wonderland SpecialsSanyo Bussan, CRAsuper Umi Monogatari with Momotarou Densetsu「Peeping Life」×「キッズステーション」Peeping Lifex怪獣酒場 かいじゅうたちがいるところPeeping Life×IODATA「クイズ!!インプットアウトプット」ピーバンパッタ ポッタ モン太Patchin shite! Obaa-chan, Pacchin shite! Obaa-chan, Pacchinshite oba-chanPaper Cranes Story: Kenta & Maikoパパンがパンダ！Papa Mama Bye-byeWonderful Music Star, Miao Le XingPyuu to Fuku! Jaguar Return Of Yaku Ichinen buriピューと吹く! ジャガー ～いま, 吹きにゆきます～Hana no Pyun Pyun MaruPUSSYぷるるんっ！しずくちゃんぷるぽんプップとパッパぷにるんずプックラポッタと森の時間Pagupagu, PagpagPro Yakyu o Jubai Tanoshiku Muru Hoho, The Racing Baseballプロゴルファー猿Sekai Meisaku Gekijou Kanketsu Ban: Princess Sara, Shoukoujo Sara Specials프린세스 아야プレゼントプレパレ뾰족뾰족 포크가족빨간 자전거ポッツィーPowerful Pro Baseball: Powerful Highschool ArcPower Battle Watchcar: The Counterattack of Watch MaskPower Battle Watch Car: Minicar Battle League - Spark of the FireSekai Meisaku Gekijou Kanketsu Ban: Porphy no Nagai TabiPororo English ShowPoppaya-san: Carefree EngineerPoppaya-san, The Good-natured Station Master, Poppaya-san: Carefree Stationmaster, Poppaya-san no Nonki Ekichou, Poppaya-san Nonki Ekichouぽっぺん先生と帰らずの沼Pooky\\'sポンタくんのおてがらポンタと遠足PQBPonkotsu Quest x Monsters Tokubetsu-henvap tte naani?, Ponque Q Shoukai DougaポンカンマンのアニメーションのできるまでPokopon\\'s Shape-Shifting Match In The Fox River Hot SpringsPokepeaceRascal in the Snag ForestPochitto Hatsumei: Pikachin-Kit Episode 0, Pochitto Hatsumei: Pikachin-Kit Special, Pikachin-Kit Episode 0PochiHanaHello Kitty and Friends: The Excitement at the Carrot Patch, Pochakko no Ninjin Hata wa OosawagiPokkoriesPlayHouse啓示錄-霧霾之城七色戰記清秀山莊Frog Kingdom: Sub Zero, The Frog Kingdom 2: Sub-zero MissionThe Frog Kingdom, Qing Wa Wang GuoQing Chi Hong Xiaodou Ba! Di Er JiThe Legend of Swordsman, The Legend of QinQin Shi Mingyue: 2016 Chinese New Year Special奇幻龙宝Qianjin, Tovarish前无古人潜艇总动员：外星宝贝计划Qianting Zongdongyuan: Haidi Liang Wanli, Happy Little Submarine: 20000 Leagues under the Sea潜艇总动员5：时光宝盒Happy Little Submarines 4: Adventures of OctopusHappy Little Submarine 3: Rainbow TreasureA Priest and His MotherロックンおヨネROBOTTINGLobosteuleinRobot Taekwon V 2, Robot Taekwon V: Space MissionRobot Taekwon V vs Goldwing, Robot Taekwon V vs Golden Wings, Robot Taekwon V vs. Golden Wings ShowdownRobot Taekwon V 3, Robot Taekwon V 3! Underwater Commandos, Robot Taekwon V: Underwater RangersRobot Apartments, Robot ParutaRobot Child Beeton, Robokko Beaton, Robot Child Beaton, Beaton the Roboboy, Little Robot VitonRoboDz: Fuuun Hen, RoboDz Kazagumo HenRobocar Poli Season 4Robocar Poli Season 3ロビンくんと100人のお友達シーズン2ロビンくんと100人のお友達RobikeroRita and MachinリクはよわくないRich Police CashリボンちゃんRGBアドベンチャ르브바하프 왕국 재건설기, Revbahaf Kingdom Rebuilding Story, The Legend of Prince Van, Revbahaf: The Story of Rebuilding the KingdomRestartレスキューQ太のかつやくレペゼン地球コラボアニメRen Wu Da ShiThe Story of RennyoMuseum of HumanityReizouko no Tsuke no Suke!リフレイン熱帶複眼Red Balloonリコラりばあす 有vsグレート-O-カーンReバース ちょこりばRemappedRanpo, Rampo, Rampoo来世 ユニコーンの首筋後ろのホクロになりたいRAINBOW・SCENECaihong Baobao, 彩虹宝宝Rainbow no Anime BoxRailmentRabbiTube miniクイズとき子さん缺乏名字的場所사파리 버스 타요생각보다 맑은Dessert Catch! Teenieping, Catch! Teenieping 4th Season錆びた館さぁ、けたたましき この日々に柳水華苑龍神カッペイPiggyback Ghostりゅうの目のなみだ良寛さん緑玉紳士 10 Short Stories緑玉紳士House-sittingRuriiro PrincessRunningman The AnimationRunning Boy: Secrets Of Star SoldierRun=Dim Movie, Reondim: Naeseoseu-ui Banranルールマンの交通安全If History is a Group of Meows 8th Season, History Cats 8th Season, When History Meows 8th SeasonHistory Cats, When History MeowsLadies\\' Comic Video Rouge, Lady\\'s Comic Video Rougeローズオニール キューピーSix Broken LawsRomeo MVMRo-mang-eun Eobs-daロクローの大ぼうけんRocco-cyan, 6ko-chanロクの世界Saru! Get You, Ape Escape山賊ダイアリーサンタさんは大いそがしHello Kitty and Friends: Santa & His Reindeer Kuppi, Hello Kitty and Friends: Santa and His Reindeer Kuppiサンタの山 妖精の森Sansan\\'s Prank Kitchenサンリオ・クリスマス・ファンタジアArithmetic Girl三幸学園 医療秘書専門学校상자 속의 아이San Choume no Yuuhi, Sunset on Third Street三びきの子ぶたの交通安全Three Wolves三太郎 と かぐや姫 の 交通安全Wanderings of San Mao, New Adventures of San Mao, Story of San Mao\\'s Vagrant Life, Tam Mao Phieu Luu Ky TaThree Swordsman: Half Face三寸人间さまよう心臓サムちゃんのおばけなんか怖くないさくらんBOY DTさくらとサクリンSakura Taisen: Kuwassarii to Yobareta Shoujo桜の温度刹界エイトレイド酒井法子のよいこのおはなしひろばHandstand boy running!埼玉県在住、フジヤマオサム、33歳、無職(ニート)。～フジログ入門編～埼玉暴走最前線 フラッグ! 死にものぐるいの青春!!最響カミズモード！Recently Ponta, Lately Ponta, Bacteria Ponta最後の森 はじまりの人最後の空襲 KUMAGAYASAIGOShanshen Yu Xiao ZaoShan Shan de Hong Xing: Hai Zi de Tian Kong山海际会Shanghai Story山川壯麗Shanhe Sheji Tu山高高シャンプー王子Buddha, Shakyamuni, Taisho Shakuso, Shaka, Life of Shaka, Great Saint ShakyamuniSewing LoveConnection Useless선물공룡 디보Yukikaze Experimental Project戦隊ヒーロー スキヤキフォース -ぐんまの平和を願うシーズン-戦争－子どもたちの遺言千年の約束森林里的金月亮The Thousand Noble Musketeers: Contemporary Gun Group, Senjuushi Specials, Senjuushi Mini Anime仙術超攻殻オリオン1000 Pine Groves, One Thousand Pine Groves, A Lot of Pine WoodSemi and the Magic CubeSelection Project-chan Gekijou積層体The Battle of Sekigahara: The Warriors of Tarui Who Stood At the CrossroadSekai no Hikari: Shinran SeijinMysteries of the World, Investigating World MysteriesAnime World Human Rights Declaration精造機生徒諸君! 心に緑のネッカチーフをYouth Anime Complete Collection, Sumitomo Seimei Seishun Anime Zenshuu, Sumitomo Life Insurance Youth Anime Complete Collection青春世紀末伝説 ワンダフルタツノコランド性格変更スクールSeibu Railroad Worker: Tako-chan느린 장마シーサイド荘のアクアっ娘Ookuninushi to Sukunabikona, オオクニヌシとスクナビコナ, MOON, Panteon no Tori, パンテオンの鳥Science Anime: Superconductor Story, Story of SuperconductorsScarecrowman The Animation, Scarecrow ManGoodbye Little Hippoさとうきび畑사소한 냐냐사슴꽃サル太郎はとびださない！サル太郎 地震には負けないぞ！ ～地震への備え大作戦～サル太郎 ヘルメットはかぶってねさる・るるるThe Crab Gets Its Revenge on the Monkey神秘世界历险记3神秘世界历险记2神秘世界历险记生死回放Sacred AncestorShen Zhi Yi Jiao神兽金刚神藏The Magical Brush, Shen Bi Maliang샤샤 앤 마일로Share the Warmth'"
      ]
     },
     "execution_count": 31,
     "metadata": {},
     "output_type": "execute_result"
    }
   ],
   "source": [
    "anidf[\"synonyms\"].unique().sum()"
   ]
  },
  {
   "cell_type": "code",
   "execution_count": 32,
   "id": "67dbbfb9",
   "metadata": {
    "colab": {
     "base_uri": "https://localhost:8080/"
    },
    "id": "67dbbfb9",
    "outputId": "8367bdca-db36-463e-d374-2d844aa7552e"
   },
   "outputs": [
    {
     "name": "stdout",
     "output_type": "stream",
     "text": [
      "<class 'pandas.core.series.Series'>\n",
      "RangeIndex: 14740 entries, 0 to 14739\n",
      "Series name: synonyms\n",
      "Non-Null Count  Dtype \n",
      "--------------  ----- \n",
      "14740 non-null  object\n",
      "dtypes: object(1)\n",
      "memory usage: 115.3+ KB\n"
     ]
    }
   ],
   "source": [
    "anidf[\"synonyms\"].info()"
   ]
  },
  {
   "cell_type": "code",
   "execution_count": 33,
   "id": "f-ebyPkStOZw",
   "metadata": {
    "colab": {
     "base_uri": "https://localhost:8080/",
     "height": 0
    },
    "id": "f-ebyPkStOZw",
    "outputId": "0a520615-7c2c-4861-dd67-d775dfbe511e"
   },
   "outputs": [
    {
     "data": {
      "text/plain": [
       "synonyms\n",
       "                                                                                                                                                               22\n",
       "Pokemon Fun Video                                                                                                                                               7\n",
       "Sekai Meisaku Gekijou                                                                                                                                           6\n",
       "Eagle Talon, Himitsukessha Taka no Tsume, The Frogman Show                                                                                                      5\n",
       "Space Shower TV Station ID                                                                                                                                      5\n",
       "                                                                                                                                                               ..\n",
       "Chuunibyou demo Koi ga Shitai! Specials, Chu-2 Byo demo Koi ga Shitai! Specials, Regardless of My Adolescent Delusions of Grandeur, I Want a Date! Specials     1\n",
       "Chokotto Sister                                                                                                                                                 1\n",
       "Chirorin Village Story                                                                                                                                          1\n",
       "Candy Boy EX1, Candy Boy EX01, Forecast of the Future                                                                                                           1\n",
       "Share the Warmth                                                                                                                                                1\n",
       "Name: count, Length: 14093, dtype: int64"
      ]
     },
     "execution_count": 33,
     "metadata": {},
     "output_type": "execute_result"
    }
   ],
   "source": [
    "anidf[\"synonyms\"].value_counts()"
   ]
  },
  {
   "cell_type": "code",
   "execution_count": 34,
   "id": "owCZP9bdtuLB",
   "metadata": {
    "id": "owCZP9bdtuLB"
   },
   "outputs": [],
   "source": [
    "anidf[\"synonyms\"] = anidf[\"synonyms\"].apply(lambda x: x if x != \"\" else np.nan)"
   ]
  },
  {
   "cell_type": "code",
   "execution_count": 35,
   "id": "4ZskPgs9vmSH",
   "metadata": {
    "colab": {
     "base_uri": "https://localhost:8080/"
    },
    "id": "4ZskPgs9vmSH",
    "outputId": "42f05179-311a-4fb1-9e69-62e6069c44f9"
   },
   "outputs": [
    {
     "data": {
      "text/plain": [
       "14718"
      ]
     },
     "execution_count": 35,
     "metadata": {},
     "output_type": "execute_result"
    }
   ],
   "source": [
    "anidf[\"synonyms\"].value_counts().sum()"
   ]
  },
  {
   "cell_type": "code",
   "execution_count": 36,
   "id": "nWBb3uGDvdia",
   "metadata": {
    "id": "nWBb3uGDvdia"
   },
   "outputs": [],
   "source": [
    "anidf[\"synonyms\"] = anidf[\"synonyms\"].fillna(anidf[\"name\"])"
   ]
  },
  {
   "cell_type": "code",
   "execution_count": 37,
   "id": "KjaFvmgivr9V",
   "metadata": {
    "colab": {
     "base_uri": "https://localhost:8080/"
    },
    "id": "KjaFvmgivr9V",
    "outputId": "c30f3a80-f5c8-4e04-e0f6-5f3cd762829d"
   },
   "outputs": [
    {
     "data": {
      "text/plain": [
       "14740"
      ]
     },
     "execution_count": 37,
     "metadata": {},
     "output_type": "execute_result"
    }
   ],
   "source": [
    "anidf[\"synonyms\"].value_counts().sum()"
   ]
  },
  {
   "cell_type": "code",
   "execution_count": 38,
   "id": "ySRL-Z8wx8Mg",
   "metadata": {
    "colab": {
     "base_uri": "https://localhost:8080/"
    },
    "id": "ySRL-Z8wx8Mg",
    "outputId": "168774fb-9e03-486d-c30f-a7a3d1a1f1e8"
   },
   "outputs": [
    {
     "name": "stdout",
     "output_type": "stream",
     "text": [
      "<class 'pandas.core.series.Series'>\n",
      "RangeIndex: 14740 entries, 0 to 14739\n",
      "Series name: synonyms\n",
      "Non-Null Count  Dtype \n",
      "--------------  ----- \n",
      "14740 non-null  object\n",
      "dtypes: object(1)\n",
      "memory usage: 115.3+ KB\n"
     ]
    }
   ],
   "source": [
    "anidf[\"synonyms\"].info()"
   ]
  },
  {
   "cell_type": "markdown",
   "id": "F697cM_gytNP",
   "metadata": {
    "id": "F697cM_gytNP"
   },
   "source": [
    "## Type of\n"
   ]
  },
  {
   "cell_type": "code",
   "execution_count": 39,
   "id": "qDcTT6o8yv40",
   "metadata": {
    "colab": {
     "base_uri": "https://localhost:8080/"
    },
    "id": "qDcTT6o8yv40",
    "outputId": "f8398328-af5b-42dc-9974-70d5667cbd99"
   },
   "outputs": [
    {
     "name": "stdout",
     "output_type": "stream",
     "text": [
      "<class 'pandas.core.series.Series'>\n",
      "RangeIndex: 14740 entries, 0 to 14739\n",
      "Series name: type_of\n",
      "Non-Null Count  Dtype \n",
      "--------------  ----- \n",
      "14739 non-null  object\n",
      "dtypes: object(1)\n",
      "memory usage: 115.3+ KB\n"
     ]
    }
   ],
   "source": [
    "anidf[\"type_of\"].info()"
   ]
  },
  {
   "cell_type": "code",
   "execution_count": 40,
   "id": "DSlFswz0zAVd",
   "metadata": {
    "colab": {
     "base_uri": "https://localhost:8080/"
    },
    "id": "DSlFswz0zAVd",
    "outputId": "f4509a7a-5682-418a-d3cf-4f9a52680438"
   },
   "outputs": [
    {
     "data": {
      "text/plain": [
       "array(['TV', 'Movie', 'TV Special', 'OVA', 'Special', 'ONA', None],\n",
       "      dtype=object)"
      ]
     },
     "execution_count": 40,
     "metadata": {},
     "output_type": "execute_result"
    }
   ],
   "source": [
    "anidf[\"type_of\"].unique()"
   ]
  },
  {
   "cell_type": "code",
   "execution_count": 41,
   "id": "HFEP7359zxsd",
   "metadata": {
    "colab": {
     "base_uri": "https://localhost:8080/",
     "height": 0
    },
    "id": "HFEP7359zxsd",
    "outputId": "343bf6e7-d9a0-4d08-fafd-b490e505b6c7"
   },
   "outputs": [
    {
     "data": {
      "text/plain": [
       "type_of\n",
       "TV            5226\n",
       "Movie         3176\n",
       "OVA           2406\n",
       "ONA           2090\n",
       "Special       1346\n",
       "TV Special     495\n",
       "Name: count, dtype: int64"
      ]
     },
     "execution_count": 41,
     "metadata": {},
     "output_type": "execute_result"
    }
   ],
   "source": [
    "anidf[\"type_of\"].value_counts()"
   ]
  },
  {
   "cell_type": "code",
   "execution_count": 42,
   "id": "NMi17mclz325",
   "metadata": {
    "id": "NMi17mclz325"
   },
   "outputs": [],
   "source": [
    "anidf[\"type_of\"] = anidf[\"type_of\"].fillna(\"TV\")"
   ]
  },
  {
   "cell_type": "code",
   "execution_count": 43,
   "id": "NGFs6rf52HiB",
   "metadata": {
    "colab": {
     "base_uri": "https://localhost:8080/"
    },
    "id": "NGFs6rf52HiB",
    "outputId": "f09b1c6c-506f-40f9-a90f-211aff633425"
   },
   "outputs": [
    {
     "name": "stdout",
     "output_type": "stream",
     "text": [
      "<class 'pandas.core.series.Series'>\n",
      "RangeIndex: 14740 entries, 0 to 14739\n",
      "Series name: type_of\n",
      "Non-Null Count  Dtype \n",
      "--------------  ----- \n",
      "14740 non-null  object\n",
      "dtypes: object(1)\n",
      "memory usage: 115.3+ KB\n"
     ]
    }
   ],
   "source": [
    "anidf[\"type_of\"].info()"
   ]
  },
  {
   "cell_type": "code",
   "execution_count": 44,
   "id": "xlESJnXw6GHX",
   "metadata": {
    "colab": {
     "base_uri": "https://localhost:8080/"
    },
    "id": "xlESJnXw6GHX",
    "outputId": "494a7cde-5b88-44d3-d7f1-1df83d0468d8"
   },
   "outputs": [
    {
     "data": {
      "text/plain": [
       "str"
      ]
     },
     "execution_count": 44,
     "metadata": {},
     "output_type": "execute_result"
    }
   ],
   "source": [
    "type(anidf[\"type_of\"][0])"
   ]
  },
  {
   "cell_type": "markdown",
   "id": "QccaQEW52ikM",
   "metadata": {
    "id": "QccaQEW52ikM"
   },
   "source": [
    "## Total episodes\n"
   ]
  },
  {
   "cell_type": "code",
   "execution_count": 45,
   "id": "VU7s1g2j5YnJ",
   "metadata": {
    "colab": {
     "base_uri": "https://localhost:8080/"
    },
    "id": "VU7s1g2j5YnJ",
    "outputId": "2c1872d0-99ed-4b1b-8dd2-7fdc3a77456e"
   },
   "outputs": [
    {
     "name": "stdout",
     "output_type": "stream",
     "text": [
      "<class 'pandas.core.series.Series'>\n",
      "RangeIndex: 14740 entries, 0 to 14739\n",
      "Series name: total_episodes\n",
      "Non-Null Count  Dtype \n",
      "--------------  ----- \n",
      "14740 non-null  object\n",
      "dtypes: object(1)\n",
      "memory usage: 115.3+ KB\n"
     ]
    }
   ],
   "source": [
    "anidf[\"total_episodes\"].info()"
   ]
  },
  {
   "cell_type": "code",
   "execution_count": 46,
   "id": "ELj0tFmV5dPJ",
   "metadata": {
    "colab": {
     "base_uri": "https://localhost:8080/"
    },
    "id": "ELj0tFmV5dPJ",
    "outputId": "26f3f238-ff02-4678-d774-96e239ba13bd"
   },
   "outputs": [
    {
     "data": {
      "text/plain": [
       "array(['47', '10', '26', '24', '11', '12', '75', '1', '16', '13', '23',\n",
       "       '7', '74', '14', '2', '25', '22', '201', '110', '51', '148', '64',\n",
       "       '28', '79', '50', '39', '33', '40', '17', '15', '6', '20', '8',\n",
       "       '4', '62', '120', '37', '27', '43', '112', 'Unknown', '99', '101',\n",
       "       '52', '78', '500', '3', '94', '170', '38', '291', '70', '96', '77',\n",
       "       '102', '63', '203', '220', '49', '103', '21', '5', '45', '69',\n",
       "       '18', '366', '34', '109', '9', '153', '36', '145', '373', '113',\n",
       "       '35', '155', '54', '76', '1787', '60', '178', '167', '127', '114',\n",
       "       '161', '100', '195', '30', '19', '97', '46', '61', '104', '31',\n",
       "       '358', '42', '48', '142', '73', '182', '150', '136', '175', '115',\n",
       "       '53', '87', '86', '124', '140', '147', '29', '224', '131', '154',\n",
       "       '44', '58', '137', '276', '93', '67', '496', '105', '128', '330',\n",
       "       '41', '172', '72', '92', '91', '191', '160', '243', '180', '65',\n",
       "       '56', '193', '66', '59', '156', '192', '55', '380', '95', '108',\n",
       "       '296', '694', '68', '32', '164', '146', '258', '331', '130', '83',\n",
       "       '139', '119', '117', '151', '526', '1471', '163', '214', '88',\n",
       "       '80', '143', '89', '84', '98', '530', '200', '305', '260', '726',\n",
       "       '263', '312', '122', '3057', '199', '293', '300', '237', '1428',\n",
       "       '1274', '215', '1006', '773', '475', '1565', '744', '1818', '227',\n",
       "       '162', '398', '132', '125', '126', '230', '245', '283', '71',\n",
       "       '240', '234', '425', '208', '365', '225', '82', '90', '85', '431',\n",
       "       '302'], dtype=object)"
      ]
     },
     "execution_count": 46,
     "metadata": {},
     "output_type": "execute_result"
    }
   ],
   "source": [
    "anidf[\"total_episodes\"].unique()"
   ]
  },
  {
   "cell_type": "code",
   "execution_count": 47,
   "id": "4yF_bJAC5iFc",
   "metadata": {
    "colab": {
     "base_uri": "https://localhost:8080/"
    },
    "id": "4yF_bJAC5iFc",
    "outputId": "d2ec85a2-8fd9-4753-f68a-f4bcba5d4d6d"
   },
   "outputs": [
    {
     "data": {
      "text/plain": [
       "127"
      ]
     },
     "execution_count": 47,
     "metadata": {},
     "output_type": "execute_result"
    }
   ],
   "source": [
    "(anidf[\"total_episodes\"] == \"Unknown\").sum()"
   ]
  },
  {
   "cell_type": "code",
   "execution_count": 48,
   "id": "DAeOKhDX6AgV",
   "metadata": {
    "colab": {
     "base_uri": "https://localhost:8080/"
    },
    "id": "DAeOKhDX6AgV",
    "outputId": "2bbd0bfe-983d-4a8e-c078-d7f6ba608b3f"
   },
   "outputs": [
    {
     "data": {
      "text/plain": [
       "str"
      ]
     },
     "execution_count": 48,
     "metadata": {},
     "output_type": "execute_result"
    }
   ],
   "source": [
    "type(anidf[\"total_episodes\"][0])"
   ]
  },
  {
   "cell_type": "code",
   "execution_count": 49,
   "id": "XjFOoX-_6OeY",
   "metadata": {
    "id": "XjFOoX-_6OeY"
   },
   "outputs": [],
   "source": [
    "anidf[\"total_episodes\"] = anidf[\"total_episodes\"].apply(\n",
    "    lambda x: int(x) if x != \"Unknown\" else np.nan\n",
    ")"
   ]
  },
  {
   "cell_type": "code",
   "execution_count": 50,
   "id": "H8lD0kAi6uKH",
   "metadata": {
    "colab": {
     "base_uri": "https://localhost:8080/"
    },
    "id": "H8lD0kAi6uKH",
    "outputId": "a53ef51e-c822-4f92-dd4e-f497bf746162"
   },
   "outputs": [
    {
     "data": {
      "text/plain": [
       "numpy.float64"
      ]
     },
     "execution_count": 50,
     "metadata": {},
     "output_type": "execute_result"
    }
   ],
   "source": [
    "type(anidf[\"total_episodes\"][0])"
   ]
  },
  {
   "cell_type": "code",
   "execution_count": 51,
   "id": "jOXAnnV79b2a",
   "metadata": {
    "colab": {
     "base_uri": "https://localhost:8080/"
    },
    "id": "jOXAnnV79b2a",
    "outputId": "e9fd115f-20e4-4038-cf92-233f1ac63504"
   },
   "outputs": [
    {
     "data": {
      "text/plain": [
       "127"
      ]
     },
     "execution_count": 51,
     "metadata": {},
     "output_type": "execute_result"
    }
   ],
   "source": [
    "anidf[\"total_episodes\"].isna().sum()"
   ]
  },
  {
   "cell_type": "markdown",
   "id": "ohfSggnX9f7S",
   "metadata": {
    "id": "ohfSggnX9f7S"
   },
   "source": [
    "## Premiered\n"
   ]
  },
  {
   "cell_type": "code",
   "execution_count": 52,
   "id": "Mz1c_JGJ_qr0",
   "metadata": {
    "colab": {
     "base_uri": "https://localhost:8080/"
    },
    "id": "Mz1c_JGJ_qr0",
    "outputId": "fd0fa52f-9e22-47b4-df94-b6dc0c7b3ecc"
   },
   "outputs": [
    {
     "name": "stdout",
     "output_type": "stream",
     "text": [
      "<class 'pandas.core.series.Series'>\n",
      "RangeIndex: 14740 entries, 0 to 14739\n",
      "Series name: premiered\n",
      "Non-Null Count  Dtype \n",
      "--------------  ----- \n",
      "5104 non-null   object\n",
      "dtypes: object(1)\n",
      "memory usage: 115.3+ KB\n"
     ]
    }
   ],
   "source": [
    "anidf[\"premiered\"].info()"
   ]
  },
  {
   "cell_type": "code",
   "execution_count": 53,
   "id": "IzkoNZgRAGbv",
   "metadata": {
    "colab": {
     "base_uri": "https://localhost:8080/"
    },
    "id": "IzkoNZgRAGbv",
    "outputId": "8c5e34a6-f4c2-44dd-eb74-599ead0347e9"
   },
   "outputs": [
    {
     "data": {
      "text/plain": [
       "array(['Fall 1980', 'Fall 2014', 'Spring 2022', 'Summer 2019',\n",
       "       'Spring 1998', 'Summer 2013', 'Winter 2022', 'Fall 2000', None,\n",
       "       'Fall 2016', 'Winter 2021', 'Winter 2019', 'Fall 2022',\n",
       "       'Winter 2018', 'Winter 2023', 'Spring 2020', 'Summer 2023',\n",
       "       'Spring 2004', 'Summer 2018', 'Spring 2008', 'Winter 2024',\n",
       "       'Fall 2017', 'Fall 2023', 'Fall 2008', 'Spring 2006',\n",
       "       'Winter 2017', 'Spring 2021', 'Fall 2012', 'Spring 2011',\n",
       "       'Fall 2011', 'Spring 2019', 'Spring 2015', 'Spring 2009',\n",
       "       'Winter 2016', 'Spring 1970', 'Summer 2009', 'Summer 2006',\n",
       "       'Summer 2008', 'Winter 2009', 'Winter 2010', 'Spring 2010',\n",
       "       'Winter 1995', 'Summer 2020', 'Fall 1979', 'Summer 2021',\n",
       "       'Summer 2011', 'Fall 1995', 'Winter 2020', 'Summer 2007',\n",
       "       'Summer 2014', 'Winter 2011', 'Fall 2021', 'Fall 2018',\n",
       "       'Winter 2013', 'Fall 1999', 'Summer 2016', 'Fall 2002',\n",
       "       'Fall 2019', 'Winter 2015', 'Spring 2014', 'Fall 2020',\n",
       "       'Fall 1997', 'Fall 2013', 'Spring 2017', 'Fall 2006', 'Fall 2015',\n",
       "       'Spring 2007', 'Winter 2012', 'Summer 2022', 'Summer 2017',\n",
       "       'Fall 2005', 'Spring 2023', 'Summer 1999', 'Fall 1992',\n",
       "       'Winter 2008', 'Spring 2012', 'Spring 2016', 'Winter 2004',\n",
       "       'Spring 2018', 'Spring 2013', 'Fall 1993', 'Winter 2007',\n",
       "       'Spring 1990', 'Fall 2003', 'Spring 2024', 'Fall 2007',\n",
       "       'Winter 2014', 'Spring 2003', 'Fall 2004', 'Winter 1996',\n",
       "       'Summer 2002', 'Spring 1989', 'Summer 2015', 'Fall 2010',\n",
       "       'Winter 2006', 'Fall 2009', 'Spring 1986', 'Spring 1997',\n",
       "       'Spring 1996', 'Fall 2001', 'Spring 1988', 'Summer 1998',\n",
       "       'Spring 1978', 'Spring 2002', 'Spring 2005', 'Spring 1985',\n",
       "       'Summer 2003', 'Spring 1987', 'Summer 2005', 'Fall 1978',\n",
       "       'Fall 1984', 'Winter 1986', 'Fall 1982', 'Fall 1996',\n",
       "       'Spring 1994', 'Summer 2012', 'Winter 1993', 'Spring 1992',\n",
       "       'Winter 1979', 'Winter 2003', 'Summer 1996', 'Fall 1989',\n",
       "       'Fall 1977', 'Spring 1979', 'Spring 1999', 'Summer 2001',\n",
       "       'Spring 2001', 'Fall 1983', 'Winter 1997', 'Winter 2002',\n",
       "       'Winter 1998', 'Summer 1991', 'Summer 2010', 'Spring 1991',\n",
       "       'Spring 1982', 'Fall 1986', 'Spring 1993', 'Spring 1995',\n",
       "       'Fall 1981', 'Winter 1985', 'Spring 2000', 'Winter 1990',\n",
       "       'Spring 1983', 'Winter 1999', 'Summer 2004', 'Fall 1971',\n",
       "       'Winter 1991', 'Fall 1998', 'Fall 1990', 'Fall 1994', 'Fall 1974',\n",
       "       'Winter 2001', 'Winter 2000', 'Winter 1994', 'Fall 1991',\n",
       "       'Fall 1976', 'Fall 1975', 'Winter 1978', 'Fall 1985',\n",
       "       'Summer 1984', 'Summer 1980', 'Fall 1968', 'Summer 1977',\n",
       "       'Fall 1987', 'Winter 1992', 'Winter 1976', 'Winter 1988',\n",
       "       'Winter 2005', 'Summer 1983', 'Summer 1995', 'Winter 1974',\n",
       "       'Spring 1973', 'Winter 1987', 'Spring 1975', 'Winter 1975',\n",
       "       'Spring 1981', 'Fall 1969', 'Spring 1984', 'Summer 1997',\n",
       "       'Winter 1981', 'Spring 1968', 'Fall 1988', 'Winter 1973',\n",
       "       'Summer 1992', 'Winter 1980', 'Summer 1985', 'Summer 1978',\n",
       "       'Spring 1969', 'Summer 2000', 'Winter 1983', 'Summer 1988',\n",
       "       'Fall 1973', 'Spring 1980', 'Winter 1963', 'Winter 1968',\n",
       "       'Winter 1982', 'Winter 1984', 'Summer 1990', 'Winter 1967',\n",
       "       'Winter 1970', 'Summer 1965', 'Summer 1982', 'Spring 1974',\n",
       "       'Fall 1972', 'Spring 1976', 'Winter 1969', 'Winter 1989',\n",
       "       'Winter 1977', 'Winter 1972', 'Summer 1994', 'Spring 1967',\n",
       "       'Fall 1966', 'Summer 1981', 'Fall 1965', 'Fall 1963', 'Fall 1970',\n",
       "       'Spring 1966', 'Summer 1972', 'Spring 1972', 'Summer 1964',\n",
       "       'Winter 1966', 'Summer 1987', 'Spring 1971', 'Summer 1986',\n",
       "       'Spring 1977', 'Summer 1979', 'Winter 1971', 'Summer 1975',\n",
       "       'Summer 1976', 'Fall 1967', 'Winter 1965', 'Spring 1961',\n",
       "       'Summer 1974', 'Summer 1962', 'Spring 1965', 'Winter 1964',\n",
       "       'Summer 1966', 'Summer 1989', 'Summer 1970', 'Summer 1967'],\n",
       "      dtype=object)"
      ]
     },
     "execution_count": 53,
     "metadata": {},
     "output_type": "execute_result"
    }
   ],
   "source": [
    "anidf[\"premiered\"].unique()"
   ]
  },
  {
   "cell_type": "code",
   "execution_count": 54,
   "id": "Hdq_6FSCAhP-",
   "metadata": {
    "colab": {
     "base_uri": "https://localhost:8080/"
    },
    "id": "Hdq_6FSCAhP-",
    "outputId": "5d0ecc5f-099e-4dbf-97c8-c5ce973c64b8"
   },
   "outputs": [
    {
     "data": {
      "text/plain": [
       "9636"
      ]
     },
     "execution_count": 54,
     "metadata": {},
     "output_type": "execute_result"
    }
   ],
   "source": [
    "anidf[\"premiered\"].isnull().sum()"
   ]
  },
  {
   "cell_type": "code",
   "execution_count": 55,
   "id": "5kMkrGGDAo6Y",
   "metadata": {
    "id": "5kMkrGGDAo6Y"
   },
   "outputs": [],
   "source": [
    "anidf[\"premiered\"] = anidf[\"premiered\"].fillna(\"Unknown\")"
   ]
  },
  {
   "cell_type": "code",
   "execution_count": 56,
   "id": "QGN-297MCPhB",
   "metadata": {
    "colab": {
     "base_uri": "https://localhost:8080/"
    },
    "id": "QGN-297MCPhB",
    "outputId": "9bed25d2-eafc-481e-8138-12a2a8142e44"
   },
   "outputs": [
    {
     "data": {
      "text/plain": [
       "0"
      ]
     },
     "execution_count": 56,
     "metadata": {},
     "output_type": "execute_result"
    }
   ],
   "source": [
    "anidf[\"premiered\"].isnull().sum()"
   ]
  },
  {
   "cell_type": "code",
   "execution_count": 57,
   "id": "MW5RLV44CTVh",
   "metadata": {
    "colab": {
     "base_uri": "https://localhost:8080/"
    },
    "id": "MW5RLV44CTVh",
    "outputId": "2f03302e-b2cc-4bc3-cdc2-d33479cdf658"
   },
   "outputs": [
    {
     "data": {
      "text/plain": [
       "9636"
      ]
     },
     "execution_count": 57,
     "metadata": {},
     "output_type": "execute_result"
    }
   ],
   "source": [
    "(anidf[\"premiered\"] == \"Unknown\").sum()"
   ]
  },
  {
   "cell_type": "markdown",
   "id": "8jON728BCYzk",
   "metadata": {
    "id": "8jON728BCYzk"
   },
   "source": [
    "## Studios\n"
   ]
  },
  {
   "cell_type": "code",
   "execution_count": 58,
   "id": "xtXmqOuPChdV",
   "metadata": {
    "colab": {
     "base_uri": "https://localhost:8080/"
    },
    "id": "xtXmqOuPChdV",
    "outputId": "5598bc65-528d-4523-edcb-42cf60ba71b8"
   },
   "outputs": [
    {
     "name": "stdout",
     "output_type": "stream",
     "text": [
      "<class 'pandas.core.series.Series'>\n",
      "RangeIndex: 14740 entries, 0 to 14739\n",
      "Series name: studios\n",
      "Non-Null Count  Dtype \n",
      "--------------  ----- \n",
      "14740 non-null  object\n",
      "dtypes: object(1)\n",
      "memory usage: 115.3+ KB\n"
     ]
    }
   ],
   "source": [
    "anidf[\"studios\"].info()"
   ]
  },
  {
   "cell_type": "code",
   "execution_count": 59,
   "id": "zJYGR5SgCpS3",
   "metadata": {
    "colab": {
     "base_uri": "https://localhost:8080/",
     "height": 0
    },
    "id": "zJYGR5SgCpS3",
    "outputId": "d4c4b405-192d-4d2d-d51d-0a30800ecde7"
   },
   "outputs": [
    {
     "data": {
      "text/plain": [
       "studios\n",
       "add some          3573\n",
       "Toei Animation     769\n",
       "Sunrise            500\n",
       "J.C.Staff          387\n",
       "Madhouse           343\n",
       "                  ... \n",
       "Movic                1\n",
       "Namu Animation       1\n",
       "helo.inc             1\n",
       "Unend                1\n",
       "Durufix              1\n",
       "Name: count, Length: 768, dtype: int64"
      ]
     },
     "execution_count": 59,
     "metadata": {},
     "output_type": "execute_result"
    }
   ],
   "source": [
    "anidf[\"studios\"].value_counts()"
   ]
  },
  {
   "cell_type": "markdown",
   "id": "1_TDrxc-IjPx",
   "metadata": {
    "id": "1_TDrxc-IjPx"
   },
   "source": [
    "## Genre\n"
   ]
  },
  {
   "cell_type": "code",
   "execution_count": 60,
   "id": "ldFi0_1jCmaE",
   "metadata": {
    "colab": {
     "base_uri": "https://localhost:8080/"
    },
    "id": "ldFi0_1jCmaE",
    "outputId": "7a09626f-dbe0-42ff-dbd3-b8bdee3b0ba7"
   },
   "outputs": [
    {
     "name": "stdout",
     "output_type": "stream",
     "text": [
      "<class 'pandas.core.series.Series'>\n",
      "RangeIndex: 14740 entries, 0 to 14739\n",
      "Series name: genres\n",
      "Non-Null Count  Dtype \n",
      "--------------  ----- \n",
      "14740 non-null  object\n",
      "dtypes: object(1)\n",
      "memory usage: 115.3+ KB\n"
     ]
    }
   ],
   "source": [
    "anidf[\"genres\"].info()"
   ]
  },
  {
   "cell_type": "code",
   "execution_count": 61,
   "id": "HF6baW_UI2fE",
   "metadata": {
    "colab": {
     "base_uri": "https://localhost:8080/",
     "height": 0
    },
    "id": "HF6baW_UI2fE",
    "outputId": "abe3f378-b370-46de-f7ae-52b8e085fcd8"
   },
   "outputs": [
    {
     "data": {
      "text/plain": [
       "genres\n",
       "[]                                                               5819\n",
       "[Action, Sci-Fi]                                                  423\n",
       "[Action, Adventure, Fantasy]                                      370\n",
       "[Comedy, Slice of Life]                                           323\n",
       "[Action, Fantasy]                                                 316\n",
       "                                                                 ... \n",
       "[Avant Garde, Drama, Horror, Mystery, Supernatural, Suspense]       1\n",
       "[Action, Horror, Supernatural, Suspense, Ecchi]                     1\n",
       "[Adventure, Fantasy, Horror, Sci-Fi, Supernatural]                  1\n",
       "[Action, Horror, Mystery]                                           1\n",
       "[Fantasy, Romance, Slice of Life, Supernatural]                     1\n",
       "Name: count, Length: 832, dtype: int64"
      ]
     },
     "execution_count": 61,
     "metadata": {},
     "output_type": "execute_result"
    }
   ],
   "source": [
    "anidf[\"genres\"].value_counts()"
   ]
  },
  {
   "cell_type": "code",
   "execution_count": 62,
   "id": "UNPCBwZvY7EI",
   "metadata": {
    "id": "UNPCBwZvY7EI"
   },
   "outputs": [],
   "source": [
    "anidf[\"genres\"] = anidf[\"genres\"].apply(lambda x: np.nan if len(x) == 0 else x)"
   ]
  },
  {
   "cell_type": "code",
   "execution_count": 63,
   "id": "i6gklRYrI-bS",
   "metadata": {
    "colab": {
     "base_uri": "https://localhost:8080/"
    },
    "id": "i6gklRYrI-bS",
    "outputId": "4dbf602d-8455-498b-81c6-3820b1c72a63"
   },
   "outputs": [
    {
     "data": {
      "text/plain": [
       "5819"
      ]
     },
     "execution_count": 63,
     "metadata": {},
     "output_type": "execute_result"
    }
   ],
   "source": [
    "anidf[\"genres\"].isnull().sum()"
   ]
  },
  {
   "cell_type": "code",
   "execution_count": 64,
   "id": "RqB9NcayZD44",
   "metadata": {
    "colab": {
     "base_uri": "https://localhost:8080/",
     "height": 0
    },
    "id": "RqB9NcayZD44",
    "outputId": "2ff48d3b-041f-42ae-9916-f9b80942cbf9"
   },
   "outputs": [
    {
     "data": {
      "text/html": [
       "<div>\n",
       "<style scoped>\n",
       "    .dataframe tbody tr th:only-of-type {\n",
       "        vertical-align: middle;\n",
       "    }\n",
       "\n",
       "    .dataframe tbody tr th {\n",
       "        vertical-align: top;\n",
       "    }\n",
       "\n",
       "    .dataframe thead th {\n",
       "        text-align: right;\n",
       "    }\n",
       "</style>\n",
       "<table border=\"1\" class=\"dataframe\">\n",
       "  <thead>\n",
       "    <tr style=\"text-align: right;\">\n",
       "      <th></th>\n",
       "      <th>name_english</th>\n",
       "      <th>name</th>\n",
       "      <th>score</th>\n",
       "      <th>ranked</th>\n",
       "      <th>popularity</th>\n",
       "      <th>members</th>\n",
       "      <th>synopsis</th>\n",
       "      <th>synonyms</th>\n",
       "      <th>type_of</th>\n",
       "      <th>total_episodes</th>\n",
       "      <th>...</th>\n",
       "      <th>scored_10_by</th>\n",
       "      <th>scored_9_by</th>\n",
       "      <th>scored_8_by</th>\n",
       "      <th>scored_7_by</th>\n",
       "      <th>scored_6_by</th>\n",
       "      <th>scored_5_by</th>\n",
       "      <th>scored_4_by</th>\n",
       "      <th>scored_3_by</th>\n",
       "      <th>scored_2_by</th>\n",
       "      <th>scored_1_by</th>\n",
       "    </tr>\n",
       "  </thead>\n",
       "  <tbody>\n",
       "  </tbody>\n",
       "</table>\n",
       "<p>0 rows × 36 columns</p>\n",
       "</div>"
      ],
      "text/plain": [
       "Empty DataFrame\n",
       "Columns: [name_english, name, score, ranked, popularity, members, synopsis, synonyms, type_of, total_episodes, premiered, studios, genres, demographic, duration_per_ep, rating, scored_by, favorites, aired, source, watching, completed, on_hold, dropped, plan_to_watch, total, scored_10_by, scored_9_by, scored_8_by, scored_7_by, scored_6_by, scored_5_by, scored_4_by, scored_3_by, scored_2_by, scored_1_by]\n",
       "Index: []\n",
       "\n",
       "[0 rows x 36 columns]"
      ]
     },
     "execution_count": 64,
     "metadata": {},
     "output_type": "execute_result"
    }
   ],
   "source": [
    "anidf[(anidf[\"genres\"].apply(lambda x: x == np.nan))]"
   ]
  },
  {
   "cell_type": "code",
   "execution_count": 65,
   "id": "0Htnst2ZO4UR",
   "metadata": {
    "colab": {
     "base_uri": "https://localhost:8080/"
    },
    "id": "0Htnst2ZO4UR",
    "outputId": "ccf73710-c973-4a67-f3ae-d7554813a870"
   },
   "outputs": [
    {
     "name": "stderr",
     "output_type": "stream",
     "text": [
      "[nltk_data] Downloading package punkt to\n",
      "[nltk_data]     C:\\Users\\HP\\AppData\\Roaming\\nltk_data...\n",
      "[nltk_data]   Package punkt is already up-to-date!\n",
      "[nltk_data] Downloading package wordnet to\n",
      "[nltk_data]     C:\\Users\\HP\\AppData\\Roaming\\nltk_data...\n",
      "[nltk_data]   Package wordnet is already up-to-date!\n",
      "[nltk_data] Downloading package stopwords to\n",
      "[nltk_data]     C:\\Users\\HP\\AppData\\Roaming\\nltk_data...\n",
      "[nltk_data]   Package stopwords is already up-to-date!\n",
      "[nltk_data] Downloading package averaged_perceptron_tagger to\n",
      "[nltk_data]     C:\\Users\\HP\\AppData\\Roaming\\nltk_data...\n",
      "[nltk_data]   Package averaged_perceptron_tagger is already up-to-\n",
      "[nltk_data]       date!\n"
     ]
    },
    {
     "data": {
      "text/plain": [
       "True"
      ]
     },
     "execution_count": 65,
     "metadata": {},
     "output_type": "execute_result"
    }
   ],
   "source": [
    "from nltk.tokenize import word_tokenize\n",
    "from nltk.corpus import stopwords\n",
    "from nltk.tag import pos_tag\n",
    "from nltk.stem import WordNetLemmatizer\n",
    "import re\n",
    "import nltk\n",
    "\n",
    "nltk.download(\"punkt\")\n",
    "nltk.download(\"wordnet\")\n",
    "nltk.download(\"stopwords\")\n",
    "nltk.download(\"averaged_perceptron_tagger\")"
   ]
  },
  {
   "cell_type": "code",
   "execution_count": 66,
   "id": "22UoR0cHALpP",
   "metadata": {
    "id": "22UoR0cHALpP"
   },
   "outputs": [],
   "source": [
    "genre_rules = {\n",
    "    'Action': ['action', 'battle', 'fight', 'combat', 'hero', 'adventure', 'explosive', 'dungeon', 'hunters', 'skirmish', 'war', 'weapon', 'fighting spirit', 'clash', 'bravery', 'martial arts', 'superpowers', 'melee', 'showdown'],\n",
    "    'Adventure': ['adventure', 'journey', 'quest', 'explore', 'travel', 'discovery', 'epic', 'treasure', 'expedition', 'explorer', 'voyage', 'odyssey', 'thrilling', 'exciting', 'exploration', 'questing', 'quest for adventure', 'wanderlust'],\n",
    "    'Comedy': ['comedy', 'humor', 'funny', 'laugh', 'comical', 'satire', 'light-hearted', 'parody', 'wit', 'joke', 'hilarious', 'laughter', 'entertaining', 'comic relief', 'whimsical', 'absurd'],\n",
    "    'Drama': ['drama', 'emotion', 'relationship', 'heartfelt', 'dramatic', 'tearjerker', 'heart break', 'emotional', 'tension', 'touching', 'tragic', 'struggle', 'gripping'],\n",
    "    'Fantasy': ['fantasy', 'magic', 'mythical', 'magical', 'enchantment', 'fantastical', 'otherworldly', 'elves', 'sorcery', 'wizardry', 'enchanted', 'legend', 'fairy tale', 'mystical beings', 'epic fantasy', 'fantasy world', 'magic spells'],\n",
    "    'Science Fiction': ['science fiction', 'futuristic', 'space', 'alien', 'cyberpunk', 'dystopian', 'robots', 'future', 'extraterrestrial', 'spacecraft', 'sci-fi', 'interstellar', 'advanced', 'cyborgs', 'virtual reality', 'time travel'],\n",
    "    'Romance': ['romance', 'love', 'relationship', 'romantic', 'passion', 'heartwarming', 'love triangle', 'affection', 'chemistry', 'flirting', 'bittersweet', 'embrace', 'yearning', 'infatuation', 'soulmate', 'romantic tension', 'unrequited love'],\n",
    "    'Horror': ['horror', 'fear', 'terror', 'creepy', 'supernatural', 'haunting', 'nightmare', 'horrible', 'chilling', 'spooky', 'ghost', 'terrifying', 'macabre', 'eerie', 'psychological horror', 'gore', 'suspense', 'massacre'],\n",
    "    'Mystery': ['mystery', 'detective', 'investigation', 'suspense', 'mysterious', 'puzzle', 'cryptic', 'enigma', 'clue', 'secret', 'conspiracy', 'riddle', 'detective work', 'solve the mystery'],\n",
    "    'Thriller': ['thriller', 'suspenseful', 'intense', 'adrenaline', 'danger', 'action-packed', 'nail-biting', 'suspense', 'excitement', 'climax', 'tension', 'edge-of-your-seat', 'gripping', 'heart-pounding', 'conspiracy thriller', 'cat-and-mouse'],\n",
    "    'Slice of Life': ['slice of life', 'real-life', 'routine', 'mundane', 'daily life', 'slice-of-life', 'everyday life', 'laid-back', 'unremarkable', 'slice-of-life moments', 'simple pleasures', 'domestic'],\n",
    "    'Supernatural': ['supernatural', 'paranormal', 'occult', 'spiritual', 'mystical', 'otherworldly', 'magic', 'mysterious', 'witch', 'demon', 'sorcerer', 'haunted', 'spirit', 'specter', 'dark magic', 'occult ritual', 'ghostly'],\n",
    "    'Mecha': ['mecha', 'giant robot', 'pilot', 'mechanical', 'robotic', 'mecha battles', 'robots', 'mech', 'robot suit', 'mechanized', 'mechanism', 'mech pilot', 'robotic warfare', 'mechanical engineering', 'mecha anime', 'robotic uprising'],\n",
    "    'Shounen': ['shounen', 'young boy', 'teenage protagonist', 'fighting', 'friendship', 'action-packed', 'battle', 'heroic', 'training', 'chivalry', 'aspiring', 'determined', 'ambitious', 'shounen anime', 'young heroes', 'power-ups', 'epic battles', 'rivalry'],\n",
    "    'Shoujo': ['shoujo', 'young girl', 'teenage protagonist', 'romantic', 'friendship', 'heartwarming', 'romance', 'love', 'emotional', 'drama', 'cute', 'sensitive', 'dreamy', 'affectionate', 'shoujo anime', 'magical girl transformation', 'pure-hearted'],\n",
    "    'Seinen': ['seinen', 'adult', 'mature themes', 'dark', 'psychological', 'gritty', 'violent', 'brutal', 'hard-hitting', 'realistic', 'complex', 'suspenseful', 'grim', 'seinen anime', 'mature audience', 'adult themes', 'grimdark', 'existential'],\n",
    "    'Josei': ['josei', 'adult woman', 'mature themes', 'romantic', 'slice of life', 'emotional', 'deep', 'introspective', 'thought-provoking', 'sensual', 'nuanced', 'reflective', 'josei anime', 'mature audience', 'romantic drama', 'life struggles', 'mature romance'],\n",
    "    'Psychological': ['psychological', 'mind', 'psyche', 'mental', 'mind games', 'trauma', 'inner demons', 'psychological warfare', 'twisted', 'manipulation', 'mental illness', 'psychological thriller', 'psychological drama', 'paranoia', 'psychological horror', 'identity crisis'],\n",
    "    'Sports': ['sports', 'athletic', 'competition', 'team', 'individual', 'sportsmanship', 'athlete', 'sporting event', 'team spirit', 'training', 'coach', 'victory', 'dedication', 'struggle', 'sports anime', 'athleticism', 'champion', 'sports drama'],\n",
    "    'Historical': ['historical', 'period', 'era', 'retro', 'vintage', 'historic event', 'past', 'time period', 'historical figure', 'antique', 'classic', 'heritage', 'nostalgic', 'history', 'historical setting', 'period drama', 'historical accuracy', 'historical fiction'],\n",
    "    'Music': ['music', 'musical', 'band', 'concert', 'performing arts', 'melody', 'singing', 'rhythm', 'instrument', 'song', 'performance', 'harmony', 'musician', 'ensemble', 'music-themed anime', 'rock band', 'pop idol', 'musical journey'],\n",
    "    'School': ['school', 'high school', 'student', 'classmate', 'teacher', 'teenage', 'academy', 'school life', 'student life', 'classroom', 'school uniform', 'education', 'school setting', 'school club', 'student council', 'academic'],\n",
    "    'Ecchi': ['ecchi', 'sexual humor', 'fan service', 'provocative', 'sexy', 'lewd', 'perverted', 'erotic', 'adult content', 'teasing', 'stimulating', 'risqué', 'ecchi scenes', 'sexy girls', 'romantic tension', 'ecchi comedy', 'adult humor'],\n",
    "    'Harem': ['harem', 'multiple love interests', 'romantic rivalry', 'love triangle', 'romantic comedy', 'reverse harem', 'love polygon', 'flirtation', 'harem anime', 'amorous', 'passionate', 'harem fantasy', 'romantic harem', 'harem protagonist', 'harem comedy', 'harem romance'],\n",
    "    'Isekai': ['isekai', 'other world', 'transported', 'reincarnation', 'fantasy world', 'parallel universe', 'reincarnated', 'isekai anime', 'alternate world', 'isekai fantasy', 'isekai adventure', 'isekai protagonist', 'isekai reincarnation', 'isekai genre', 'isekai journey', 'isekai magic', 'trapped in another world', 'reincarnation'],\n",
    "    'Cyberpunk': ['cyberpunk', 'high tech', 'low life', 'cyberspace', 'neon lights', 'dystopian', 'cybernetic', 'cyber', 'cyberpunk anime', 'cyberpunk world', 'cybernetic implants', 'cybernetic enhancement', 'cyberpunk society', 'cyberpunk dystopia', 'cyberpunk aesthetic', 'cybernetic society'],\n",
    "    'Post-Apocalyptic': ['post-apocalyptic', 'apocalypse', 'wasteland', 'survival', 'dystopia', 'rebuilding', 'post-apocalyptic world', 'end of the world', 'nuclear fallout', 'survivor', 'apocalyptic landscape', 'apocalyptic fiction', 'post-apocalyptic society', 'post-apocalyptic anime', 'ruins'],\n",
    "    'Martial Arts': ['martial arts', 'combat', 'martial artist', 'dojo', 'tournament', 'training', 'fighting tournament', 'martial arts master', 'martial arts school', 'battle', 'martial arts tournament', 'kung fu', 'karate', 'fighting spirit', 'martial arts training', 'combat skills', 'martial arts action']\n",
    "}"
   ]
  },
  {
   "cell_type": "code",
   "execution_count": 67,
   "id": "z2mn9z6CBOQL",
   "metadata": {
    "id": "z2mn9z6CBOQL"
   },
   "outputs": [],
   "source": [
    "lemmatizer = WordNetLemmatizer()\n",
    "\n",
    "\n",
    "def preprocess(text):\n",
    "    tokens = word_tokenize(text)\n",
    "    stop_words = set(stopwords.words(\"english\"))\n",
    "    filtered_tokens = [\n",
    "        lemmatizer.lemmatize(word.lower())\n",
    "        for word in tokens\n",
    "        if word.lower() not in stop_words and re.match(r\"\\w+\", word)\n",
    "    ]\n",
    "    return filtered_tokens\n",
    "\n",
    "\n",
    "def infer_genres(synopsis, current_genre):\n",
    "    tokens = preprocess(synopsis)\n",
    "    tagged_tokens = pos_tag(tokens)\n",
    "    keywords = [\n",
    "        word\n",
    "        for word, tag in tagged_tokens\n",
    "        if tag.startswith(\"NN\") or tag.startswith(\"JJ\")\n",
    "    ]\n",
    "\n",
    "    matched_genres = set()\n",
    "\n",
    "    for keyword in keywords:\n",
    "        for genre, rules in genre_rules.items():\n",
    "            if any(rule in keyword for rule in rules):\n",
    "                matched_genres.add(genre)\n",
    "\n",
    "    if isinstance(current_genre, str):\n",
    "        current_genre = [current_genre]\n",
    "    elif not isinstance(current_genre, list):\n",
    "        current_genre = []\n",
    "\n",
    "    current_genre_set = set(current_genre)\n",
    "    return list(matched_genres.union(current_genre_set))"
   ]
  },
  {
   "cell_type": "code",
   "execution_count": 68,
   "id": "Zr3g-cEuA6jh",
   "metadata": {
    "id": "Zr3g-cEuA6jh"
   },
   "outputs": [],
   "source": [
    "anidf[\"genres\"] = anidf.apply(\n",
    "    lambda x: infer_genres(x[\"synopsis\"], x[\"genres\"]), axis=1\n",
    ")"
   ]
  },
  {
   "cell_type": "code",
   "execution_count": 69,
   "id": "F-ryvxjkDrzQ",
   "metadata": {
    "colab": {
     "base_uri": "https://localhost:8080/",
     "height": 0
    },
    "id": "F-ryvxjkDrzQ",
    "outputId": "36d30431-b803-4762-dc56-13bd9e7a20d8"
   },
   "outputs": [
    {
     "data": {
      "text/html": [
       "<div>\n",
       "<style scoped>\n",
       "    .dataframe tbody tr th:only-of-type {\n",
       "        vertical-align: middle;\n",
       "    }\n",
       "\n",
       "    .dataframe tbody tr th {\n",
       "        vertical-align: top;\n",
       "    }\n",
       "\n",
       "    .dataframe thead th {\n",
       "        text-align: right;\n",
       "    }\n",
       "</style>\n",
       "<table border=\"1\" class=\"dataframe\">\n",
       "  <thead>\n",
       "    <tr style=\"text-align: right;\">\n",
       "      <th></th>\n",
       "      <th>name_english</th>\n",
       "      <th>name</th>\n",
       "      <th>score</th>\n",
       "      <th>ranked</th>\n",
       "      <th>popularity</th>\n",
       "      <th>members</th>\n",
       "      <th>synopsis</th>\n",
       "      <th>synonyms</th>\n",
       "      <th>type_of</th>\n",
       "      <th>total_episodes</th>\n",
       "      <th>...</th>\n",
       "      <th>scored_10_by</th>\n",
       "      <th>scored_9_by</th>\n",
       "      <th>scored_8_by</th>\n",
       "      <th>scored_7_by</th>\n",
       "      <th>scored_6_by</th>\n",
       "      <th>scored_5_by</th>\n",
       "      <th>scored_4_by</th>\n",
       "      <th>scored_3_by</th>\n",
       "      <th>scored_2_by</th>\n",
       "      <th>scored_1_by</th>\n",
       "    </tr>\n",
       "  </thead>\n",
       "  <tbody>\n",
       "    <tr>\n",
       "      <th>0</th>\n",
       "      <td>Tomorrow's Joe 2</td>\n",
       "      <td>Ashita no Joe 2</td>\n",
       "      <td>8.73</td>\n",
       "      <td>50</td>\n",
       "      <td>3041</td>\n",
       "      <td>51773</td>\n",
       "      <td>Yabuki Joe is left downhearted and hopeless af...</td>\n",
       "      <td>Rocky Joe 2</td>\n",
       "      <td>TV</td>\n",
       "      <td>47.0</td>\n",
       "      <td>...</td>\n",
       "      <td>7721.0</td>\n",
       "      <td>4711.0</td>\n",
       "      <td>3690.0</td>\n",
       "      <td>1797.0</td>\n",
       "      <td>653.0</td>\n",
       "      <td>297.0</td>\n",
       "      <td>120.0</td>\n",
       "      <td>137.0</td>\n",
       "      <td>182.0</td>\n",
       "      <td>893.0</td>\n",
       "    </tr>\n",
       "    <tr>\n",
       "      <th>1</th>\n",
       "      <td>Mushi-shi: Next Passage Part 2</td>\n",
       "      <td>Mushishi Zoku Shou 2nd Season</td>\n",
       "      <td>8.73</td>\n",
       "      <td>49</td>\n",
       "      <td>907</td>\n",
       "      <td>265728</td>\n",
       "      <td>Ghostly, primordial beings known as Mushi cont...</td>\n",
       "      <td>Mushishi Zoku Shou 2nd Season</td>\n",
       "      <td>TV</td>\n",
       "      <td>10.0</td>\n",
       "      <td>...</td>\n",
       "      <td>30834.0</td>\n",
       "      <td>34334.0</td>\n",
       "      <td>26218.0</td>\n",
       "      <td>9892.0</td>\n",
       "      <td>2672.0</td>\n",
       "      <td>974.0</td>\n",
       "      <td>283.0</td>\n",
       "      <td>134.0</td>\n",
       "      <td>183.0</td>\n",
       "      <td>673.0</td>\n",
       "    </tr>\n",
       "    <tr>\n",
       "      <th>2</th>\n",
       "      <td>Kingdom: Season 4</td>\n",
       "      <td>Kingdom 4th Season</td>\n",
       "      <td>8.74</td>\n",
       "      <td>48</td>\n",
       "      <td>2731</td>\n",
       "      <td>63418</td>\n",
       "      <td>Following the conclusion of the large-scale co...</td>\n",
       "      <td>キングダム 第4シリーズ</td>\n",
       "      <td>TV</td>\n",
       "      <td>26.0</td>\n",
       "      <td>...</td>\n",
       "      <td>7524.0</td>\n",
       "      <td>9439.0</td>\n",
       "      <td>6590.0</td>\n",
       "      <td>1916.0</td>\n",
       "      <td>461.0</td>\n",
       "      <td>163.0</td>\n",
       "      <td>68.0</td>\n",
       "      <td>52.0</td>\n",
       "      <td>139.0</td>\n",
       "      <td>281.0</td>\n",
       "    </tr>\n",
       "    <tr>\n",
       "      <th>3</th>\n",
       "      <td>Vinland Saga</td>\n",
       "      <td>Vinland Saga</td>\n",
       "      <td>8.75</td>\n",
       "      <td>47</td>\n",
       "      <td>77</td>\n",
       "      <td>1502303</td>\n",
       "      <td>Young Thorfinn grew up listening to the storie...</td>\n",
       "      <td>ヴィンランド・サガ</td>\n",
       "      <td>TV</td>\n",
       "      <td>24.0</td>\n",
       "      <td>...</td>\n",
       "      <td>228893.0</td>\n",
       "      <td>326376.0</td>\n",
       "      <td>209929.0</td>\n",
       "      <td>67519.0</td>\n",
       "      <td>17475.0</td>\n",
       "      <td>6602.0</td>\n",
       "      <td>2908.0</td>\n",
       "      <td>1321.0</td>\n",
       "      <td>1030.0</td>\n",
       "      <td>1822.0</td>\n",
       "    </tr>\n",
       "    <tr>\n",
       "      <th>4</th>\n",
       "      <td>Cowboy Bebop</td>\n",
       "      <td>Cowboy Bebop</td>\n",
       "      <td>8.75</td>\n",
       "      <td>46</td>\n",
       "      <td>43</td>\n",
       "      <td>1857971</td>\n",
       "      <td>Crime is timeless. By the year 2071, humanity ...</td>\n",
       "      <td>カウボーイビバップ</td>\n",
       "      <td>TV</td>\n",
       "      <td>26.0</td>\n",
       "      <td>...</td>\n",
       "      <td>332862.0</td>\n",
       "      <td>271436.0</td>\n",
       "      <td>203324.0</td>\n",
       "      <td>96823.0</td>\n",
       "      <td>32270.0</td>\n",
       "      <td>13593.0</td>\n",
       "      <td>4994.0</td>\n",
       "      <td>1997.0</td>\n",
       "      <td>1120.0</td>\n",
       "      <td>2280.0</td>\n",
       "    </tr>\n",
       "    <tr>\n",
       "      <th>...</th>\n",
       "      <td>...</td>\n",
       "      <td>...</td>\n",
       "      <td>...</td>\n",
       "      <td>...</td>\n",
       "      <td>...</td>\n",
       "      <td>...</td>\n",
       "      <td>...</td>\n",
       "      <td>...</td>\n",
       "      <td>...</td>\n",
       "      <td>...</td>\n",
       "      <td>...</td>\n",
       "      <td>...</td>\n",
       "      <td>...</td>\n",
       "      <td>...</td>\n",
       "      <td>...</td>\n",
       "      <td>...</td>\n",
       "      <td>...</td>\n",
       "      <td>...</td>\n",
       "      <td>...</td>\n",
       "      <td>...</td>\n",
       "      <td>...</td>\n",
       "    </tr>\n",
       "    <tr>\n",
       "      <th>14735</th>\n",
       "      <td>The Guardians of Carcosa</td>\n",
       "      <td>Jingling Meng Ye Luoli</td>\n",
       "      <td>N/A</td>\n",
       "      <td>20523</td>\n",
       "      <td>23917</td>\n",
       "      <td>79</td>\n",
       "      <td>Queen Mandora ruled Carcosa Wonderland, becaus...</td>\n",
       "      <td>Yeloli: Fairy of Dreams, Ye Luoli, 精灵梦叶罗丽第一季, ...</td>\n",
       "      <td>TV</td>\n",
       "      <td>234.0</td>\n",
       "      <td>...</td>\n",
       "      <td>8.0</td>\n",
       "      <td>2.0</td>\n",
       "      <td>1.0</td>\n",
       "      <td>2.0</td>\n",
       "      <td>2.0</td>\n",
       "      <td>1.0</td>\n",
       "      <td>NaN</td>\n",
       "      <td>NaN</td>\n",
       "      <td>NaN</td>\n",
       "      <td>NaN</td>\n",
       "    </tr>\n",
       "    <tr>\n",
       "      <th>14736</th>\n",
       "      <td>Jing-Ju Cats</td>\n",
       "      <td>Jingju Mao</td>\n",
       "      <td>N/A</td>\n",
       "      <td>20515</td>\n",
       "      <td>19886</td>\n",
       "      <td>223</td>\n",
       "      <td>Jing-Ju Cats is a series filled with comedy, m...</td>\n",
       "      <td>Beijing Opera Cats</td>\n",
       "      <td>TV</td>\n",
       "      <td>60.0</td>\n",
       "      <td>...</td>\n",
       "      <td>11.0</td>\n",
       "      <td>3.0</td>\n",
       "      <td>3.0</td>\n",
       "      <td>6.0</td>\n",
       "      <td>2.0</td>\n",
       "      <td>8.0</td>\n",
       "      <td>6.0</td>\n",
       "      <td>5.0</td>\n",
       "      <td>3.0</td>\n",
       "      <td>8.0</td>\n",
       "    </tr>\n",
       "    <tr>\n",
       "      <th>14737</th>\n",
       "      <td>Jingisukan no Jin-kun</td>\n",
       "      <td>Jingisukan no Jin-kun</td>\n",
       "      <td>N/A</td>\n",
       "      <td>20513</td>\n",
       "      <td>18559</td>\n",
       "      <td>297</td>\n",
       "      <td>The main character is a little sheep-looking m...</td>\n",
       "      <td>ジンギスカンのジンくん</td>\n",
       "      <td>ONA</td>\n",
       "      <td>10.0</td>\n",
       "      <td>...</td>\n",
       "      <td>9.0</td>\n",
       "      <td>2.0</td>\n",
       "      <td>2.0</td>\n",
       "      <td>4.0</td>\n",
       "      <td>11.0</td>\n",
       "      <td>6.0</td>\n",
       "      <td>2.0</td>\n",
       "      <td>14.0</td>\n",
       "      <td>NaN</td>\n",
       "      <td>NaN</td>\n",
       "    </tr>\n",
       "    <tr>\n",
       "      <th>14738</th>\n",
       "      <td>Jun ga Kureta Inochi</td>\n",
       "      <td>Jun ga Kureta Inochi</td>\n",
       "      <td>N/A</td>\n",
       "      <td>20609</td>\n",
       "      <td>21284</td>\n",
       "      <td>147</td>\n",
       "      <td>Kenichi is a 1st year middle school student wh...</td>\n",
       "      <td>純がくれた命</td>\n",
       "      <td>OVA</td>\n",
       "      <td>1.0</td>\n",
       "      <td>...</td>\n",
       "      <td>9.0</td>\n",
       "      <td>5.0</td>\n",
       "      <td>2.0</td>\n",
       "      <td>3.0</td>\n",
       "      <td>2.0</td>\n",
       "      <td>3.0</td>\n",
       "      <td>1.0</td>\n",
       "      <td>1.0</td>\n",
       "      <td>NaN</td>\n",
       "      <td>NaN</td>\n",
       "    </tr>\n",
       "    <tr>\n",
       "      <th>14739</th>\n",
       "      <td>Speckles the Tarbosaurus</td>\n",
       "      <td>Jumbagi: Hanbandoui gongryong 3D</td>\n",
       "      <td>N/A</td>\n",
       "      <td>20608</td>\n",
       "      <td>19143</td>\n",
       "      <td>263</td>\n",
       "      <td>70 million years ago dinosaurs ruled the Korea...</td>\n",
       "      <td>Jeom-bak-i: Han-ban-do-eui Gong-ryong 3D, Tarb...</td>\n",
       "      <td>Movie</td>\n",
       "      <td>1.0</td>\n",
       "      <td>...</td>\n",
       "      <td>10.0</td>\n",
       "      <td>11.0</td>\n",
       "      <td>16.0</td>\n",
       "      <td>19.0</td>\n",
       "      <td>7.0</td>\n",
       "      <td>6.0</td>\n",
       "      <td>7.0</td>\n",
       "      <td>1.0</td>\n",
       "      <td>6.0</td>\n",
       "      <td>NaN</td>\n",
       "    </tr>\n",
       "  </tbody>\n",
       "</table>\n",
       "<p>14740 rows × 36 columns</p>\n",
       "</div>"
      ],
      "text/plain": [
       "                         name_english                              name score  \\\n",
       "0                    Tomorrow's Joe 2                   Ashita no Joe 2  8.73   \n",
       "1      Mushi-shi: Next Passage Part 2     Mushishi Zoku Shou 2nd Season  8.73   \n",
       "2                   Kingdom: Season 4                Kingdom 4th Season  8.74   \n",
       "3                        Vinland Saga                      Vinland Saga  8.75   \n",
       "4                        Cowboy Bebop                      Cowboy Bebop  8.75   \n",
       "...                               ...                               ...   ...   \n",
       "14735        The Guardians of Carcosa            Jingling Meng Ye Luoli   N/A   \n",
       "14736                    Jing-Ju Cats                        Jingju Mao   N/A   \n",
       "14737           Jingisukan no Jin-kun             Jingisukan no Jin-kun   N/A   \n",
       "14738            Jun ga Kureta Inochi              Jun ga Kureta Inochi   N/A   \n",
       "14739        Speckles the Tarbosaurus  Jumbagi: Hanbandoui gongryong 3D   N/A   \n",
       "\n",
       "       ranked  popularity  members  \\\n",
       "0          50        3041    51773   \n",
       "1          49         907   265728   \n",
       "2          48        2731    63418   \n",
       "3          47          77  1502303   \n",
       "4          46          43  1857971   \n",
       "...       ...         ...      ...   \n",
       "14735   20523       23917       79   \n",
       "14736   20515       19886      223   \n",
       "14737   20513       18559      297   \n",
       "14738   20609       21284      147   \n",
       "14739   20608       19143      263   \n",
       "\n",
       "                                                synopsis  \\\n",
       "0      Yabuki Joe is left downhearted and hopeless af...   \n",
       "1      Ghostly, primordial beings known as Mushi cont...   \n",
       "2      Following the conclusion of the large-scale co...   \n",
       "3      Young Thorfinn grew up listening to the storie...   \n",
       "4      Crime is timeless. By the year 2071, humanity ...   \n",
       "...                                                  ...   \n",
       "14735  Queen Mandora ruled Carcosa Wonderland, becaus...   \n",
       "14736  Jing-Ju Cats is a series filled with comedy, m...   \n",
       "14737  The main character is a little sheep-looking m...   \n",
       "14738  Kenichi is a 1st year middle school student wh...   \n",
       "14739  70 million years ago dinosaurs ruled the Korea...   \n",
       "\n",
       "                                                synonyms type_of  \\\n",
       "0                                            Rocky Joe 2      TV   \n",
       "1                          Mushishi Zoku Shou 2nd Season      TV   \n",
       "2                                           キングダム 第4シリーズ      TV   \n",
       "3                                              ヴィンランド・サガ      TV   \n",
       "4                                              カウボーイビバップ      TV   \n",
       "...                                                  ...     ...   \n",
       "14735  Yeloli: Fairy of Dreams, Ye Luoli, 精灵梦叶罗丽第一季, ...      TV   \n",
       "14736                                 Beijing Opera Cats      TV   \n",
       "14737                                        ジンギスカンのジンくん     ONA   \n",
       "14738                                             純がくれた命     OVA   \n",
       "14739  Jeom-bak-i: Han-ban-do-eui Gong-ryong 3D, Tarb...   Movie   \n",
       "\n",
       "       total_episodes  ... scored_10_by scored_9_by scored_8_by scored_7_by  \\\n",
       "0                47.0  ...       7721.0      4711.0      3690.0      1797.0   \n",
       "1                10.0  ...      30834.0     34334.0     26218.0      9892.0   \n",
       "2                26.0  ...       7524.0      9439.0      6590.0      1916.0   \n",
       "3                24.0  ...     228893.0    326376.0    209929.0     67519.0   \n",
       "4                26.0  ...     332862.0    271436.0    203324.0     96823.0   \n",
       "...               ...  ...          ...         ...         ...         ...   \n",
       "14735           234.0  ...          8.0         2.0         1.0         2.0   \n",
       "14736            60.0  ...         11.0         3.0         3.0         6.0   \n",
       "14737            10.0  ...          9.0         2.0         2.0         4.0   \n",
       "14738             1.0  ...          9.0         5.0         2.0         3.0   \n",
       "14739             1.0  ...         10.0        11.0        16.0        19.0   \n",
       "\n",
       "      scored_6_by scored_5_by  scored_4_by  scored_3_by scored_2_by  \\\n",
       "0           653.0       297.0        120.0        137.0       182.0   \n",
       "1          2672.0       974.0        283.0        134.0       183.0   \n",
       "2           461.0       163.0         68.0         52.0       139.0   \n",
       "3         17475.0      6602.0       2908.0       1321.0      1030.0   \n",
       "4         32270.0     13593.0       4994.0       1997.0      1120.0   \n",
       "...           ...         ...          ...          ...         ...   \n",
       "14735         2.0         1.0          NaN          NaN         NaN   \n",
       "14736         2.0         8.0          6.0          5.0         3.0   \n",
       "14737        11.0         6.0          2.0         14.0         NaN   \n",
       "14738         2.0         3.0          1.0          1.0         NaN   \n",
       "14739         7.0         6.0          7.0          1.0         6.0   \n",
       "\n",
       "      scored_1_by  \n",
       "0           893.0  \n",
       "1           673.0  \n",
       "2           281.0  \n",
       "3          1822.0  \n",
       "4          2280.0  \n",
       "...           ...  \n",
       "14735         NaN  \n",
       "14736         8.0  \n",
       "14737         NaN  \n",
       "14738         NaN  \n",
       "14739         NaN  \n",
       "\n",
       "[14740 rows x 36 columns]"
      ]
     },
     "execution_count": 69,
     "metadata": {},
     "output_type": "execute_result"
    }
   ],
   "source": [
    "anidf"
   ]
  },
  {
   "cell_type": "markdown",
   "id": "2SMt51gfATjL",
   "metadata": {
    "id": "2SMt51gfATjL"
   },
   "source": [
    "## demographic\n"
   ]
  },
  {
   "cell_type": "code",
   "execution_count": 70,
   "id": "Le7mtZI8Aed7",
   "metadata": {
    "colab": {
     "base_uri": "https://localhost:8080/"
    },
    "id": "Le7mtZI8Aed7",
    "outputId": "9f400e38-a1ca-429e-ec5e-0e254defe945"
   },
   "outputs": [
    {
     "name": "stdout",
     "output_type": "stream",
     "text": [
      "<class 'pandas.core.series.Series'>\n",
      "RangeIndex: 14740 entries, 0 to 14739\n",
      "Series name: demographic\n",
      "Non-Null Count  Dtype \n",
      "--------------  ----- \n",
      "5115 non-null   object\n",
      "dtypes: object(1)\n",
      "memory usage: 115.3+ KB\n"
     ]
    }
   ],
   "source": [
    "anidf[\"demographic\"].info()"
   ]
  },
  {
   "cell_type": "code",
   "execution_count": 71,
   "id": "VlvC0pkxAjv2",
   "metadata": {
    "colab": {
     "base_uri": "https://localhost:8080/"
    },
    "id": "VlvC0pkxAjv2",
    "outputId": "4352385f-ca56-48b4-c407-a579dce8ca70"
   },
   "outputs": [
    {
     "data": {
      "text/plain": [
       "array(['Shounen', 'Seinen', None, 'Shoujo', 'Josei', 'Kids'], dtype=object)"
      ]
     },
     "execution_count": 71,
     "metadata": {},
     "output_type": "execute_result"
    }
   ],
   "source": [
    "anidf[\"demographic\"].unique()"
   ]
  },
  {
   "cell_type": "code",
   "execution_count": 72,
   "id": "AvVUXdFbAniY",
   "metadata": {
    "colab": {
     "base_uri": "https://localhost:8080/",
     "height": 0
    },
    "id": "AvVUXdFbAniY",
    "outputId": "217418f8-bd34-4b47-cedf-5047fbb19e44"
   },
   "outputs": [
    {
     "data": {
      "text/plain": [
       "demographic\n",
       "Kids       1946\n",
       "Shounen    1691\n",
       "Seinen      895\n",
       "Shoujo      453\n",
       "Josei       130\n",
       "Name: count, dtype: int64"
      ]
     },
     "execution_count": 72,
     "metadata": {},
     "output_type": "execute_result"
    }
   ],
   "source": [
    "anidf[\"demographic\"].value_counts()"
   ]
  },
  {
   "cell_type": "code",
   "execution_count": 73,
   "id": "NXfBLBBiAqjd",
   "metadata": {
    "colab": {
     "base_uri": "https://localhost:8080/"
    },
    "id": "NXfBLBBiAqjd",
    "outputId": "fa4341a0-487c-4202-fb35-ee88d43dbd97"
   },
   "outputs": [
    {
     "data": {
      "text/plain": [
       "9625"
      ]
     },
     "execution_count": 73,
     "metadata": {},
     "output_type": "execute_result"
    }
   ],
   "source": [
    "anidf.demographic.isna().sum()"
   ]
  },
  {
   "cell_type": "markdown",
   "id": "SqqLR-05B10u",
   "metadata": {
    "id": "SqqLR-05B10u"
   },
   "source": [
    "## duration\n"
   ]
  },
  {
   "cell_type": "code",
   "execution_count": 74,
   "id": "LhywnN2-Cnsr",
   "metadata": {
    "colab": {
     "base_uri": "https://localhost:8080/"
    },
    "id": "LhywnN2-Cnsr",
    "outputId": "2e4d4ae1-3d36-4c3c-9dad-e8370bd89565"
   },
   "outputs": [
    {
     "name": "stdout",
     "output_type": "stream",
     "text": [
      "<class 'pandas.core.series.Series'>\n",
      "RangeIndex: 14740 entries, 0 to 14739\n",
      "Series name: duration_per_ep\n",
      "Non-Null Count  Dtype \n",
      "--------------  ----- \n",
      "14740 non-null  object\n",
      "dtypes: object(1)\n",
      "memory usage: 115.3+ KB\n"
     ]
    }
   ],
   "source": [
    "anidf[\"duration_per_ep\"].info()"
   ]
  },
  {
   "cell_type": "code",
   "execution_count": 75,
   "id": "QrgNBpCOC9AR",
   "metadata": {
    "colab": {
     "base_uri": "https://localhost:8080/"
    },
    "id": "QrgNBpCOC9AR",
    "outputId": "ca58386d-99b0-4410-d0ca-b2e89a944ab8"
   },
   "outputs": [
    {
     "data": {
      "text/plain": [
       "array(['24 min. per ep.', '23 min. per ep.', '25 min. per ep.',\n",
       "       '26 min. per ep.', '2 hr. 4 min.', '1 hr. 23 min.',\n",
       "       '1 hr. 36 min.', '1 hr. 46 min.', '2 hr. 20 min.',\n",
       "       '22 min. per ep.', '1 hr. 50 min.', '1 hr. 12 min. per ep.',\n",
       "       '2 hr. 10 min.', '1 hr. 44 min.', '50 min. per ep.',\n",
       "       '2 hr. 1 min.', '22 min.', '1 hr. 49 min.', '21 min.',\n",
       "       '1 hr. 11 min. per ep.', '34 min.', '49 min. per ep.', '10 min.',\n",
       "       '1 hr. 57 min.', '2 hr. 15 min.', '1 hr. 4 min.', '1 hr. 59 min.',\n",
       "       '1 hr. 45 min.', '1 hr. 55 min.', '1 hr. 38 min.', '1 hr. 54 min.',\n",
       "       '30 min. per ep.', '1 hr. 31 min.', '1 hr. 28 min.',\n",
       "       '5 min. per ep.', '27 min. per ep.', '2 hr.', '29 min. per ep.',\n",
       "       '47 min.', '1 hr. 30 min.', '1 hr. 36 min. per ep.',\n",
       "       '28 min. per ep.', '2 hr. 5 min.', '2 hr. 35 min.',\n",
       "       '1 hr. 56 min.', '2 hr. 41 min.', '2 hr. 13 min.', '2 hr. 2 min.',\n",
       "       '24 min.', '1 hr. 13 min.', '1 hr. 35 min.',\n",
       "       '1 hr. 1 min. per ep.', '45 min.', '1 hr. 21 min.',\n",
       "       '1 hr. 48 min.', '1 hr. 26 min.', '1 hr. 22 min.', '1 hr. 51 min.',\n",
       "       '1 hr. 43 min.', '2 hr. 11 min.', '2 hr. 48 min.', '1 hr. 15 min.',\n",
       "       '1 hr. 11 min.', '1 hr. 33 min.', '1 hr. 1 min.', '1 hr. 40 min.',\n",
       "       '11 min.', '1 hr.', '1 hr. 42 min.', '1 hr. 32 min.',\n",
       "       '1 hr. 52 min.', '1 hr. 47 min.', '16 min. per ep.',\n",
       "       '1 hr. 34 min.', '49 min.', '51 min.', '1 hr. 39 min.',\n",
       "       '1 hr. 29 min.', '12 min.', '48 min.', '25 min.', '1 min.',\n",
       "       '54 min.', '20 min. per ep.', '34 min. per ep.', '1 hr. 12 min.',\n",
       "       '1 hr. 41 min.', '2 hr. 17 min.', '55 min.', '43 min. per ep.',\n",
       "       '58 min. per ep.', '2 hr. 40 min.', '14 min.', '32 min.',\n",
       "       '32 min. per ep.', '23 min.', '1 hr. 2 min. per ep.',\n",
       "       '14 min. per ep.', '2 hr. 6 min.', '2 hr. 29 min.', '1 hr. 5 min.',\n",
       "       '59 min.', '1 hr. 53 min.', '15 min. per ep.', '18 min. per ep.',\n",
       "       '30 min.', '2 min. per ep.', '33 min. per ep.', '28 min.',\n",
       "       '1 hr. 10 min.', '18 min.', '1 hr. 9 min.', '1 hr. 17 min.',\n",
       "       '42 min. per ep.', '2 min.', '1 hr. 37 min.', '11 min. per ep.',\n",
       "       '39 min.', '21 min. per ep.', '29 min.', '27 min.', '46 min.',\n",
       "       '13 min. per ep.', '41 min.', '51 min. per ep.', '42 min.',\n",
       "       '26 min.', '57 min.', '1 hr. 30 min. per ep.', '46 min. per ep.',\n",
       "       '1 hr. 2 min.', '3 min. per ep.', '1 hr. 6 min.', '4 min. per ep.',\n",
       "       '19 min. per ep.', '50 min.', '2 hr. 16 min.', '1 hr. 3 min.',\n",
       "       '58 min.', '53 min.', '39 min. per ep.', '1 hr. 52 min. per ep.',\n",
       "       '1 hr. 16 min.', '37 min.', '1 hr. 7 min.', '37 min. per ep.',\n",
       "       '2 hr. 7 min.', '1 hr. 27 min.', '15 min.', '45 min. per ep.',\n",
       "       '1 hr. 20 min.', '7 min. per ep.', '1 hr. 18 min.', '31 min.',\n",
       "       '12 min. per ep.', '8 min. per ep.', '20 min.', '40 min.',\n",
       "       '1 hr. 25 min.', '2 hr. 12 min.', '54 min. per ep.', '52 min.',\n",
       "       '16 min.', '8 min.', '6 min. per ep.', '2 hr. 3 min.',\n",
       "       '1 min. per ep.', '1 hr. 39 min. per ep.', '1 hr. 58 min.',\n",
       "       '2 hr. 8 min.', '1 hr. 24 min.', '17 min. per ep.', '3 min.',\n",
       "       '13 min.', '2 hr. 21 min.', '9 min.', '4 min.', '53 min. per ep.',\n",
       "       '56 min.', '1 hr. 5 min. per ep.', '1 hr. 19 min.',\n",
       "       '31 min. per ep.', '35 min. per ep.', '5 min.',\n",
       "       '1 hr. 38 min. per ep.', '10 min. per ep.', '1 hr. 8 min.',\n",
       "       '1 hr. per ep.', '44 min.', '6 min.', '41 min. per ep.', '33 min.',\n",
       "       '43 min.', '30 sec. per ep.', '35 min.', '1 hr. 35 min. per ep.',\n",
       "       '47 min. per ep.', '2 hr. 14 min.', '1 hr. 14 min.', '36 min.',\n",
       "       '48 min. per ep.', '19 min.', '9 min. per ep.', '2 hr. 32 min.',\n",
       "       '54 sec. per ep.', '40 sec. per ep.', '7 min.', '2 hr. 33 min.',\n",
       "       '38 min.', '17 min.', '40 min. per ep.', '20 sec. per ep.',\n",
       "       '38 min. per ep.', '2 hr. 43 min.', '20 sec.', '36 min. per ep.',\n",
       "       '1 hr. 17 min. per ep.', '44 min. per ep.', '1 hr. 7 min. per ep.',\n",
       "       '55 min. per ep.', '56 sec. per ep.', '2 hr. 31 min.',\n",
       "       '57 sec. per ep.', '2 hr. 28 min.', '50 sec. per ep.',\n",
       "       '1 hr. 15 min. per ep.', '2 hr. 30 min.', '56 min. per ep.',\n",
       "       '39 sec. per ep.', 'Unknown', '52 min. per ep.', '2 hr. 27 min.',\n",
       "       '34 sec. per ep.', '59 sec.', '35 sec. per ep.', '26 sec. per ep.',\n",
       "       '30 sec.', '2 hr. 9 min.', '1 hr. 14 min. per ep.', '45 sec.',\n",
       "       '16 sec.', '31 sec.', '57 min. per ep.', '1 hr. 16 min. per ep.',\n",
       "       '53 sec. per ep.', '44 sec. per ep.', '45 sec. per ep.',\n",
       "       '55 sec. per ep.', '25 sec. per ep.', '32 sec.', '32 sec. per ep.',\n",
       "       '35 sec.', '46 sec.', '1 hr. 27 min. per ep.', '38 sec. per ep.',\n",
       "       '55 sec.', '33 sec. per ep.', '18 sec.', '46 sec. per ep.',\n",
       "       '41 sec. per ep.', '49 sec. per ep.', '37 sec.', '50 sec.',\n",
       "       '19 sec. per ep.', '15 sec.', '16 sec. per ep.', '48 sec. per ep.',\n",
       "       '51 sec. per ep.', '23 sec.', '15 sec. per ep.', '52 sec.',\n",
       "       '6 sec. per ep.', '22 sec. per ep.', '3 sec.', '10 sec.',\n",
       "       '27 sec.', '24 sec. per ep.', '57 sec.', '28 sec. per ep.',\n",
       "       '42 sec.', '33 sec.', '54 sec.', '40 sec.', '2 hr. 19 min.',\n",
       "       '14 sec. per ep.', '44 sec.', '47 sec.', '38 sec.', '12 sec.',\n",
       "       '29 sec. per ep.', '39 sec.', '58 sec.', '23 sec. per ep.',\n",
       "       '22 sec.', '49 sec.', '13 sec.', '43 sec.', '48 sec.', '29 sec.',\n",
       "       '36 sec.', '21 sec. per ep.', '7 sec.', '2 hr. 47 min.',\n",
       "       '52 sec. per ep.', '51 sec.', '43 sec. per ep.', '24 sec.',\n",
       "       '2 hr. per ep.', '36 sec. per ep.', '7 sec. per ep.',\n",
       "       '42 sec. per ep.', '41 sec.', '31 sec. per ep.', '53 sec.',\n",
       "       '56 sec.'], dtype=object)"
      ]
     },
     "execution_count": 75,
     "metadata": {},
     "output_type": "execute_result"
    }
   ],
   "source": [
    "anidf.duration_per_ep.unique()"
   ]
  },
  {
   "cell_type": "code",
   "execution_count": 76,
   "id": "snJYsKE8DJU9",
   "metadata": {
    "colab": {
     "base_uri": "https://localhost:8080/"
    },
    "id": "snJYsKE8DJU9",
    "outputId": "e883351d-3785-4b6a-fde4-2e9104d0d2eb"
   },
   "outputs": [
    {
     "data": {
      "text/plain": [
       "(62, 36)"
      ]
     },
     "execution_count": 76,
     "metadata": {},
     "output_type": "execute_result"
    }
   ],
   "source": [
    "anidf[anidf[\"duration_per_ep\"] == \"Unknown\"].shape"
   ]
  },
  {
   "cell_type": "markdown",
   "id": "m-KNUnY-GbIb",
   "metadata": {
    "id": "m-KNUnY-GbIb"
   },
   "source": [
    "## rating\n"
   ]
  },
  {
   "cell_type": "code",
   "execution_count": 77,
   "id": "3eBG6HVbGe2H",
   "metadata": {
    "colab": {
     "base_uri": "https://localhost:8080/"
    },
    "id": "3eBG6HVbGe2H",
    "outputId": "f80aeba6-c7b6-4d7d-ba81-cdb2e10dc47d"
   },
   "outputs": [
    {
     "name": "stdout",
     "output_type": "stream",
     "text": [
      "<class 'pandas.core.series.Series'>\n",
      "RangeIndex: 14740 entries, 0 to 14739\n",
      "Series name: rating\n",
      "Non-Null Count  Dtype \n",
      "--------------  ----- \n",
      "14740 non-null  object\n",
      "dtypes: object(1)\n",
      "memory usage: 115.3+ KB\n"
     ]
    }
   ],
   "source": [
    "anidf[\"rating\"].info()"
   ]
  },
  {
   "cell_type": "code",
   "execution_count": 78,
   "id": "bM8YGKRGGhUq",
   "metadata": {
    "colab": {
     "base_uri": "https://localhost:8080/"
    },
    "id": "bM8YGKRGGhUq",
    "outputId": "57aafe4c-cbf7-48f6-d29d-0493f6b6e004"
   },
   "outputs": [
    {
     "data": {
      "text/plain": [
       "array(['PG-13 - Teens 13 or older', 'R - 17+ (violence & profanity)',\n",
       "       'PG - Children', 'R+ - Mild Nudity', 'G - All Ages', 'None',\n",
       "       'Rx - Hentai'], dtype=object)"
      ]
     },
     "execution_count": 78,
     "metadata": {},
     "output_type": "execute_result"
    }
   ],
   "source": [
    "anidf[\"rating\"].unique()"
   ]
  },
  {
   "cell_type": "code",
   "execution_count": 79,
   "id": "9Woa7eaNGnVA",
   "metadata": {
    "colab": {
     "base_uri": "https://localhost:8080/",
     "height": 0
    },
    "id": "9Woa7eaNGnVA",
    "outputId": "0bd5cc8a-f438-4b78-f7ae-b3493916dbea"
   },
   "outputs": [
    {
     "data": {
      "text/plain": [
       "rating\n",
       "PG-13 - Teens 13 or older         6847\n",
       "G - All Ages                      4148\n",
       "PG - Children                     1287\n",
       "R - 17+ (violence & profanity)    1276\n",
       "R+ - Mild Nudity                   973\n",
       "None                               208\n",
       "Rx - Hentai                          1\n",
       "Name: count, dtype: int64"
      ]
     },
     "execution_count": 79,
     "metadata": {},
     "output_type": "execute_result"
    }
   ],
   "source": [
    "anidf[\"rating\"].value_counts()"
   ]
  },
  {
   "cell_type": "markdown",
   "id": "sRAX4tkNGqKD",
   "metadata": {
    "id": "sRAX4tkNGqKD"
   },
   "source": [
    "## Scored by\n"
   ]
  },
  {
   "cell_type": "code",
   "execution_count": 80,
   "id": "oN7X9K-aG5k1",
   "metadata": {
    "colab": {
     "base_uri": "https://localhost:8080/"
    },
    "id": "oN7X9K-aG5k1",
    "outputId": "e63af8d8-2b06-46dc-83e1-85ebbc444808"
   },
   "outputs": [
    {
     "name": "stdout",
     "output_type": "stream",
     "text": [
      "<class 'pandas.core.series.Series'>\n",
      "RangeIndex: 14740 entries, 0 to 14739\n",
      "Series name: scored_by\n",
      "Non-Null Count  Dtype  \n",
      "--------------  -----  \n",
      "12046 non-null  float64\n",
      "dtypes: float64(1)\n",
      "memory usage: 115.3 KB\n"
     ]
    }
   ],
   "source": [
    "anidf[\"scored_by\"].info()"
   ]
  },
  {
   "cell_type": "code",
   "execution_count": 81,
   "id": "PsK_u4V7G8Zy",
   "metadata": {
    "colab": {
     "base_uri": "https://localhost:8080/"
    },
    "id": "PsK_u4V7G8Zy",
    "outputId": "bad9da66-cca4-486f-edc2-d26b03f18237"
   },
   "outputs": [
    {
     "data": {
      "text/plain": [
       "2694"
      ]
     },
     "execution_count": 81,
     "metadata": {},
     "output_type": "execute_result"
    }
   ],
   "source": [
    "anidf[\"scored_by\"].isna().sum()"
   ]
  },
  {
   "cell_type": "markdown",
   "id": "byvQesBbG-0v",
   "metadata": {
    "id": "byvQesBbG-0v"
   },
   "source": [
    "## favorites\n"
   ]
  },
  {
   "cell_type": "code",
   "execution_count": 82,
   "id": "QSG5_4HJHjHs",
   "metadata": {
    "colab": {
     "base_uri": "https://localhost:8080/"
    },
    "id": "QSG5_4HJHjHs",
    "outputId": "a5aa6fb3-566a-4d53-ba8f-a03bae1b4be8"
   },
   "outputs": [
    {
     "name": "stdout",
     "output_type": "stream",
     "text": [
      "<class 'pandas.core.series.Series'>\n",
      "RangeIndex: 14740 entries, 0 to 14739\n",
      "Series name: favorites\n",
      "Non-Null Count  Dtype\n",
      "--------------  -----\n",
      "14740 non-null  int64\n",
      "dtypes: int64(1)\n",
      "memory usage: 115.3 KB\n"
     ]
    }
   ],
   "source": [
    "anidf[\"favorites\"].info()"
   ]
  },
  {
   "cell_type": "code",
   "execution_count": 83,
   "id": "NAkgdniMHpCk",
   "metadata": {
    "colab": {
     "base_uri": "https://localhost:8080/",
     "height": 0
    },
    "id": "NAkgdniMHpCk",
    "outputId": "9abba95c-e7d9-4071-ea88-f7063f4a766e"
   },
   "outputs": [
    {
     "data": {
      "text/plain": [
       "favorites\n",
       "0       3891\n",
       "1       1394\n",
       "2        805\n",
       "3        540\n",
       "4        382\n",
       "        ... \n",
       "908        1\n",
       "739        1\n",
       "6354       1\n",
       "1119       1\n",
       "297        1\n",
       "Name: count, Length: 1871, dtype: int64"
      ]
     },
     "execution_count": 83,
     "metadata": {},
     "output_type": "execute_result"
    }
   ],
   "source": [
    "anidf[\"favorites\"].value_counts()"
   ]
  },
  {
   "cell_type": "markdown",
   "id": "r5jtvdv_HtNT",
   "metadata": {
    "id": "r5jtvdv_HtNT"
   },
   "source": [
    "## aired\n"
   ]
  },
  {
   "cell_type": "code",
   "execution_count": 84,
   "id": "vX9Ks63AH5by",
   "metadata": {
    "colab": {
     "base_uri": "https://localhost:8080/"
    },
    "id": "vX9Ks63AH5by",
    "outputId": "7caffad1-89a7-4a01-a982-555305470bdd"
   },
   "outputs": [
    {
     "name": "stdout",
     "output_type": "stream",
     "text": [
      "<class 'pandas.core.series.Series'>\n",
      "RangeIndex: 14740 entries, 0 to 14739\n",
      "Series name: aired\n",
      "Non-Null Count  Dtype \n",
      "--------------  ----- \n",
      "14740 non-null  object\n",
      "dtypes: object(1)\n",
      "memory usage: 115.3+ KB\n"
     ]
    }
   ],
   "source": [
    "anidf[\"aired\"].info()"
   ]
  },
  {
   "cell_type": "code",
   "execution_count": 85,
   "id": "aANNMB1hH7WT",
   "metadata": {
    "colab": {
     "base_uri": "https://localhost:8080/"
    },
    "id": "aANNMB1hH7WT",
    "outputId": "a3808fe4-0d01-40ce-ed92-b527f0cfbc3d"
   },
   "outputs": [
    {
     "data": {
      "text/plain": [
       "array(['Oct 13, 1980 to Aug 31, 1981', 'Oct 19, 2014 to Dec 21, 2014',\n",
       "       'Apr 10, 2022 to Oct 2, 2022', ..., 'Jan 15, 2009 to Dec 31, 2010',\n",
       "       'Nov 7, 2023 to Jan 16, 2024', 'Nov 3, 2023 to Jan 26, 2024'],\n",
       "      dtype=object)"
      ]
     },
     "execution_count": 85,
     "metadata": {},
     "output_type": "execute_result"
    }
   ],
   "source": [
    "anidf[\"aired\"].unique()"
   ]
  },
  {
   "cell_type": "markdown",
   "id": "GYADruCQIFuy",
   "metadata": {
    "id": "GYADruCQIFuy"
   },
   "source": [
    "## source\n"
   ]
  },
  {
   "cell_type": "code",
   "execution_count": 86,
   "id": "q6FVc8juIKbc",
   "metadata": {
    "colab": {
     "base_uri": "https://localhost:8080/"
    },
    "id": "q6FVc8juIKbc",
    "outputId": "91b2e15d-4fa2-42d2-b9d6-59eb9e8cf833"
   },
   "outputs": [
    {
     "name": "stdout",
     "output_type": "stream",
     "text": [
      "<class 'pandas.core.series.Series'>\n",
      "RangeIndex: 14740 entries, 0 to 14739\n",
      "Series name: source\n",
      "Non-Null Count  Dtype \n",
      "--------------  ----- \n",
      "14740 non-null  object\n",
      "dtypes: object(1)\n",
      "memory usage: 115.3+ KB\n"
     ]
    }
   ],
   "source": [
    "anidf[\"source\"].info()"
   ]
  },
  {
   "cell_type": "code",
   "execution_count": 87,
   "id": "CFk_pAr1IMuk",
   "metadata": {
    "colab": {
     "base_uri": "https://localhost:8080/"
    },
    "id": "CFk_pAr1IMuk",
    "outputId": "0f8cf70e-726f-417f-acd4-99e17e5693bd"
   },
   "outputs": [
    {
     "data": {
      "text/plain": [
       "array(['Manga', 'Original', 'Light novel', 'Web manga', '4-koma manga',\n",
       "       'Visual novel', 'Novel', 'Web novel', 'Game', 'Other', 'Unknown',\n",
       "       'Book', 'Mixed media', 'Music', 'Picture book', 'Card game',\n",
       "       'Radio'], dtype=object)"
      ]
     },
     "execution_count": 87,
     "metadata": {},
     "output_type": "execute_result"
    }
   ],
   "source": [
    "anidf[\"source\"].unique()"
   ]
  },
  {
   "cell_type": "code",
   "execution_count": 88,
   "id": "X8oTu-ZjIPKD",
   "metadata": {
    "colab": {
     "base_uri": "https://localhost:8080/",
     "height": 0
    },
    "id": "X8oTu-ZjIPKD",
    "outputId": "788e6827-9bdb-4305-a078-1cda8a2db8ae"
   },
   "outputs": [
    {
     "data": {
      "text/plain": [
       "source\n",
       "Original        4571\n",
       "Manga           3928\n",
       "Unknown         1636\n",
       "Game             889\n",
       "Light novel      882\n",
       "Other            679\n",
       "Novel            573\n",
       "Visual novel     381\n",
       "Web manga        347\n",
       "4-koma manga     269\n",
       "Picture book     153\n",
       "Book             142\n",
       "Mixed media      108\n",
       "Web novel         75\n",
       "Card game         52\n",
       "Music             41\n",
       "Radio             14\n",
       "Name: count, dtype: int64"
      ]
     },
     "execution_count": 88,
     "metadata": {},
     "output_type": "execute_result"
    }
   ],
   "source": [
    "anidf[\"source\"].value_counts()"
   ]
  },
  {
   "cell_type": "code",
   "execution_count": 89,
   "id": "y-4NoSodIRI8",
   "metadata": {
    "colab": {
     "base_uri": "https://localhost:8080/",
     "height": 0
    },
    "id": "y-4NoSodIRI8",
    "outputId": "db6d76f3-9a36-4413-8472-6bf3f71443f1"
   },
   "outputs": [
    {
     "data": {
      "text/html": [
       "<div>\n",
       "<style scoped>\n",
       "    .dataframe tbody tr th:only-of-type {\n",
       "        vertical-align: middle;\n",
       "    }\n",
       "\n",
       "    .dataframe tbody tr th {\n",
       "        vertical-align: top;\n",
       "    }\n",
       "\n",
       "    .dataframe thead th {\n",
       "        text-align: right;\n",
       "    }\n",
       "</style>\n",
       "<table border=\"1\" class=\"dataframe\">\n",
       "  <thead>\n",
       "    <tr style=\"text-align: right;\">\n",
       "      <th></th>\n",
       "      <th>name_english</th>\n",
       "      <th>name</th>\n",
       "      <th>score</th>\n",
       "      <th>ranked</th>\n",
       "      <th>popularity</th>\n",
       "      <th>members</th>\n",
       "      <th>synopsis</th>\n",
       "      <th>synonyms</th>\n",
       "      <th>type_of</th>\n",
       "      <th>total_episodes</th>\n",
       "      <th>...</th>\n",
       "      <th>scored_10_by</th>\n",
       "      <th>scored_9_by</th>\n",
       "      <th>scored_8_by</th>\n",
       "      <th>scored_7_by</th>\n",
       "      <th>scored_6_by</th>\n",
       "      <th>scored_5_by</th>\n",
       "      <th>scored_4_by</th>\n",
       "      <th>scored_3_by</th>\n",
       "      <th>scored_2_by</th>\n",
       "      <th>scored_1_by</th>\n",
       "    </tr>\n",
       "  </thead>\n",
       "  <tbody>\n",
       "    <tr>\n",
       "      <th>529</th>\n",
       "      <td>Interstella5555: The 5tory of The 5ecret 5tar ...</td>\n",
       "      <td>Interstella5555: The 5tory of The 5ecret 5tar ...</td>\n",
       "      <td>8.13</td>\n",
       "      <td>456</td>\n",
       "      <td>2492</td>\n",
       "      <td>73959</td>\n",
       "      <td>This musical film is the visual realization of...</td>\n",
       "      <td>Interstellar 5555</td>\n",
       "      <td>Movie</td>\n",
       "      <td>1.0</td>\n",
       "      <td>...</td>\n",
       "      <td>9592.0</td>\n",
       "      <td>8978.0</td>\n",
       "      <td>11882.0</td>\n",
       "      <td>8059.0</td>\n",
       "      <td>3241.0</td>\n",
       "      <td>1316.0</td>\n",
       "      <td>353.0</td>\n",
       "      <td>130.0</td>\n",
       "      <td>77.0</td>\n",
       "      <td>107.0</td>\n",
       "    </tr>\n",
       "    <tr>\n",
       "      <th>1936</th>\n",
       "      <td>Our love has always been 10 centimeters apart.</td>\n",
       "      <td>Itsudatte Bokura no Koi wa 10 cm Datta.</td>\n",
       "      <td>7.46</td>\n",
       "      <td>2001</td>\n",
       "      <td>1051</td>\n",
       "      <td>229989</td>\n",
       "      <td>Miou Aida and Haruki Serizawa might seem like ...</td>\n",
       "      <td>いつだって僕らの恋は10センチだった。</td>\n",
       "      <td>TV</td>\n",
       "      <td>6.0</td>\n",
       "      <td>...</td>\n",
       "      <td>8312.0</td>\n",
       "      <td>11979.0</td>\n",
       "      <td>25300.0</td>\n",
       "      <td>27425.0</td>\n",
       "      <td>12050.0</td>\n",
       "      <td>5097.0</td>\n",
       "      <td>1556.0</td>\n",
       "      <td>676.0</td>\n",
       "      <td>265.0</td>\n",
       "      <td>221.0</td>\n",
       "    </tr>\n",
       "    <tr>\n",
       "      <th>2041</th>\n",
       "      <td>Kono Sekai no Tanoshimikata: Secret Story Film</td>\n",
       "      <td>Kono Sekai no Tanoshimikata: Secret Story Film</td>\n",
       "      <td>7.42</td>\n",
       "      <td>2138</td>\n",
       "      <td>8884</td>\n",
       "      <td>4321</td>\n",
       "      <td>An anime movie based on HoneyWorks' LIPxLIP vi...</td>\n",
       "      <td>HoneyWorks 10th Anniversary \"Lip×Lip Film×Live\"</td>\n",
       "      <td>Movie</td>\n",
       "      <td>1.0</td>\n",
       "      <td>...</td>\n",
       "      <td>133.0</td>\n",
       "      <td>106.0</td>\n",
       "      <td>146.0</td>\n",
       "      <td>185.0</td>\n",
       "      <td>100.0</td>\n",
       "      <td>30.0</td>\n",
       "      <td>15.0</td>\n",
       "      <td>8.0</td>\n",
       "      <td>4.0</td>\n",
       "      <td>9.0</td>\n",
       "    </tr>\n",
       "    <tr>\n",
       "      <th>3020</th>\n",
       "      <td>Heroines Run the Show: The Unpopular Girl and ...</td>\n",
       "      <td>Heroine Tarumono! Kiraware Heroine to Naisho n...</td>\n",
       "      <td>7.28</td>\n",
       "      <td>2822</td>\n",
       "      <td>2641</td>\n",
       "      <td>67171</td>\n",
       "      <td>Freshly graduating middle school, energetic 15...</td>\n",
       "      <td>To Become a Real Heroine!</td>\n",
       "      <td>TV</td>\n",
       "      <td>12.0</td>\n",
       "      <td>...</td>\n",
       "      <td>1760.0</td>\n",
       "      <td>2447.0</td>\n",
       "      <td>5990.0</td>\n",
       "      <td>8155.0</td>\n",
       "      <td>3633.0</td>\n",
       "      <td>1546.0</td>\n",
       "      <td>585.0</td>\n",
       "      <td>181.0</td>\n",
       "      <td>86.0</td>\n",
       "      <td>108.0</td>\n",
       "    </tr>\n",
       "    <tr>\n",
       "      <th>3402</th>\n",
       "      <td>I've Always Liked You</td>\n",
       "      <td>Zutto Mae kara Suki deshita. Kokuhaku Jikkou I...</td>\n",
       "      <td>7.21</td>\n",
       "      <td>3214</td>\n",
       "      <td>1032</td>\n",
       "      <td>232749</td>\n",
       "      <td>Love is blooming at Sakuragaoka High School. N...</td>\n",
       "      <td>HoneyWorks: I've Liked You Since Long Ago, I'v...</td>\n",
       "      <td>Movie</td>\n",
       "      <td>1.0</td>\n",
       "      <td>...</td>\n",
       "      <td>7041.0</td>\n",
       "      <td>10053.0</td>\n",
       "      <td>23343.0</td>\n",
       "      <td>32500.0</td>\n",
       "      <td>15102.0</td>\n",
       "      <td>6710.0</td>\n",
       "      <td>2130.0</td>\n",
       "      <td>959.0</td>\n",
       "      <td>451.0</td>\n",
       "      <td>340.0</td>\n",
       "    </tr>\n",
       "    <tr>\n",
       "      <th>3546</th>\n",
       "      <td>I've Always Liked You: A Friday's Good Morning</td>\n",
       "      <td>Zutto Mae kara Suki deshita. Kokuhaku Jikkou I...</td>\n",
       "      <td>7.17</td>\n",
       "      <td>3459</td>\n",
       "      <td>4412</td>\n",
       "      <td>24904</td>\n",
       "      <td>A picture drama special bundled with the BD/DV...</td>\n",
       "      <td>I've Always Liked You Picture Drama Special, H...</td>\n",
       "      <td>Special</td>\n",
       "      <td>1.0</td>\n",
       "      <td>...</td>\n",
       "      <td>855.0</td>\n",
       "      <td>802.0</td>\n",
       "      <td>1836.0</td>\n",
       "      <td>2952.0</td>\n",
       "      <td>1683.0</td>\n",
       "      <td>686.0</td>\n",
       "      <td>162.0</td>\n",
       "      <td>77.0</td>\n",
       "      <td>27.0</td>\n",
       "      <td>44.0</td>\n",
       "    </tr>\n",
       "    <tr>\n",
       "      <th>4088</th>\n",
       "      <td>The Moment You Fall in Love</td>\n",
       "      <td>Suki ni Naru Sono Shunkan wo. Kokuhaku Jikkou ...</td>\n",
       "      <td>7.04</td>\n",
       "      <td>4075</td>\n",
       "      <td>1850</td>\n",
       "      <td>116668</td>\n",
       "      <td>Following Natsuki Enomoto's confession rehears...</td>\n",
       "      <td>HoneyWorks: Kokuhaku Jikkou Iinkai</td>\n",
       "      <td>Movie</td>\n",
       "      <td>1.0</td>\n",
       "      <td>...</td>\n",
       "      <td>3161.0</td>\n",
       "      <td>4063.0</td>\n",
       "      <td>9839.0</td>\n",
       "      <td>16168.0</td>\n",
       "      <td>8401.0</td>\n",
       "      <td>3777.0</td>\n",
       "      <td>1339.0</td>\n",
       "      <td>564.0</td>\n",
       "      <td>297.0</td>\n",
       "      <td>202.0</td>\n",
       "    </tr>\n",
       "    <tr>\n",
       "      <th>4199</th>\n",
       "      <td>UniteUp!</td>\n",
       "      <td>UniteUp!</td>\n",
       "      <td>7.03</td>\n",
       "      <td>4153</td>\n",
       "      <td>6528</td>\n",
       "      <td>9457</td>\n",
       "      <td>Akira Kiyose, a high schooler who loves to sin...</td>\n",
       "      <td>UniteUp!</td>\n",
       "      <td>TV</td>\n",
       "      <td>12.0</td>\n",
       "      <td>...</td>\n",
       "      <td>294.0</td>\n",
       "      <td>257.0</td>\n",
       "      <td>529.0</td>\n",
       "      <td>746.0</td>\n",
       "      <td>493.0</td>\n",
       "      <td>309.0</td>\n",
       "      <td>103.0</td>\n",
       "      <td>48.0</td>\n",
       "      <td>28.0</td>\n",
       "      <td>61.0</td>\n",
       "    </tr>\n",
       "    <tr>\n",
       "      <th>4766</th>\n",
       "      <td>TSUKIUTA. The Animation</td>\n",
       "      <td>Tsukiuta. The Animation</td>\n",
       "      <td>6.90</td>\n",
       "      <td>4728</td>\n",
       "      <td>4202</td>\n",
       "      <td>27603</td>\n",
       "      <td>Tsukino Talent Productions is home to two up-a...</td>\n",
       "      <td>Tsukiani.</td>\n",
       "      <td>TV</td>\n",
       "      <td>13.0</td>\n",
       "      <td>...</td>\n",
       "      <td>812.0</td>\n",
       "      <td>758.0</td>\n",
       "      <td>1325.0</td>\n",
       "      <td>2133.0</td>\n",
       "      <td>1589.0</td>\n",
       "      <td>1008.0</td>\n",
       "      <td>378.0</td>\n",
       "      <td>214.0</td>\n",
       "      <td>118.0</td>\n",
       "      <td>137.0</td>\n",
       "    </tr>\n",
       "    <tr>\n",
       "      <th>4831</th>\n",
       "      <td>Massara</td>\n",
       "      <td>Massara</td>\n",
       "      <td>6.87</td>\n",
       "      <td>4857</td>\n",
       "      <td>10665</td>\n",
       "      <td>2396</td>\n",
       "      <td>is an original short inspired from the song of...</td>\n",
       "      <td>まっさら</td>\n",
       "      <td>ONA</td>\n",
       "      <td>1.0</td>\n",
       "      <td>...</td>\n",
       "      <td>66.0</td>\n",
       "      <td>94.0</td>\n",
       "      <td>209.0</td>\n",
       "      <td>436.0</td>\n",
       "      <td>266.0</td>\n",
       "      <td>134.0</td>\n",
       "      <td>24.0</td>\n",
       "      <td>8.0</td>\n",
       "      <td>2.0</td>\n",
       "      <td>5.0</td>\n",
       "    </tr>\n",
       "    <tr>\n",
       "      <th>4889</th>\n",
       "      <td>Nana's Secret Garden</td>\n",
       "      <td>Himitsu no Hana no Niwa</td>\n",
       "      <td>6.85</td>\n",
       "      <td>4989</td>\n",
       "      <td>13094</td>\n",
       "      <td>1083</td>\n",
       "      <td>The music film is a part of TOHO animation's 1...</td>\n",
       "      <td>秘密のはなの庭</td>\n",
       "      <td>ONA</td>\n",
       "      <td>1.0</td>\n",
       "      <td>...</td>\n",
       "      <td>30.0</td>\n",
       "      <td>59.0</td>\n",
       "      <td>91.0</td>\n",
       "      <td>148.0</td>\n",
       "      <td>119.0</td>\n",
       "      <td>42.0</td>\n",
       "      <td>10.0</td>\n",
       "      <td>7.0</td>\n",
       "      <td>3.0</td>\n",
       "      <td>4.0</td>\n",
       "    </tr>\n",
       "    <tr>\n",
       "      <th>5696</th>\n",
       "      <td>MARGINAL #4 the Animation</td>\n",
       "      <td>Marginal#4: Kiss kara Tsukuru Big Bang</td>\n",
       "      <td>6.67</td>\n",
       "      <td>5877</td>\n",
       "      <td>5204</td>\n",
       "      <td>16685</td>\n",
       "      <td>The freshly debuted idol group Marginal#4 drea...</td>\n",
       "      <td>MARGINAL#4 KISSから創造るBig Bang</td>\n",
       "      <td>TV</td>\n",
       "      <td>12.0</td>\n",
       "      <td>...</td>\n",
       "      <td>464.0</td>\n",
       "      <td>373.0</td>\n",
       "      <td>730.0</td>\n",
       "      <td>1275.0</td>\n",
       "      <td>1015.0</td>\n",
       "      <td>714.0</td>\n",
       "      <td>373.0</td>\n",
       "      <td>160.0</td>\n",
       "      <td>92.0</td>\n",
       "      <td>110.0</td>\n",
       "    </tr>\n",
       "    <tr>\n",
       "      <th>5783</th>\n",
       "      <td>Tsukiuta. The Animation 2</td>\n",
       "      <td>Tsukiuta. The Animation 2</td>\n",
       "      <td>6.66</td>\n",
       "      <td>5974</td>\n",
       "      <td>7061</td>\n",
       "      <td>7798</td>\n",
       "      <td>Six Gravity and Procellarum, Tsukino Talent Pr...</td>\n",
       "      <td>Tsukiuta. The Animation Second Season, Tsukian...</td>\n",
       "      <td>TV</td>\n",
       "      <td>13.0</td>\n",
       "      <td>...</td>\n",
       "      <td>165.0</td>\n",
       "      <td>131.0</td>\n",
       "      <td>223.0</td>\n",
       "      <td>418.0</td>\n",
       "      <td>358.0</td>\n",
       "      <td>223.0</td>\n",
       "      <td>98.0</td>\n",
       "      <td>53.0</td>\n",
       "      <td>24.0</td>\n",
       "      <td>43.0</td>\n",
       "    </tr>\n",
       "    <tr>\n",
       "      <th>7433</th>\n",
       "      <td>Airy Me</td>\n",
       "      <td>Airy Me</td>\n",
       "      <td>6.32</td>\n",
       "      <td>7883</td>\n",
       "      <td>8294</td>\n",
       "      <td>5244</td>\n",
       "      <td>A test subject is administered daily medicatio...</td>\n",
       "      <td>Airy Me</td>\n",
       "      <td>Movie</td>\n",
       "      <td>1.0</td>\n",
       "      <td>...</td>\n",
       "      <td>165.0</td>\n",
       "      <td>158.0</td>\n",
       "      <td>388.0</td>\n",
       "      <td>629.0</td>\n",
       "      <td>663.0</td>\n",
       "      <td>432.0</td>\n",
       "      <td>168.0</td>\n",
       "      <td>95.0</td>\n",
       "      <td>74.0</td>\n",
       "      <td>61.0</td>\n",
       "    </tr>\n",
       "    <tr>\n",
       "      <th>7668</th>\n",
       "      <td>Actors: Songs Connection</td>\n",
       "      <td>Actors: Songs Connection</td>\n",
       "      <td>6.30</td>\n",
       "      <td>8013</td>\n",
       "      <td>5014</td>\n",
       "      <td>18458</td>\n",
       "      <td>Tensho School is located in the 7th Ward of Th...</td>\n",
       "      <td>ACTORS -Songs Connection-</td>\n",
       "      <td>TV</td>\n",
       "      <td>12.0</td>\n",
       "      <td>...</td>\n",
       "      <td>376.0</td>\n",
       "      <td>326.0</td>\n",
       "      <td>644.0</td>\n",
       "      <td>1187.0</td>\n",
       "      <td>1203.0</td>\n",
       "      <td>951.0</td>\n",
       "      <td>489.0</td>\n",
       "      <td>264.0</td>\n",
       "      <td>138.0</td>\n",
       "      <td>119.0</td>\n",
       "    </tr>\n",
       "    <tr>\n",
       "      <th>7693</th>\n",
       "      <td>Ai Zai Xiyuan Qian</td>\n",
       "      <td>Ai Zai Xiyuan Qian</td>\n",
       "      <td>6.27</td>\n",
       "      <td>8188</td>\n",
       "      <td>10625</td>\n",
       "      <td>2422</td>\n",
       "      <td>Some aliens come to the Earth and one of them,...</td>\n",
       "      <td>Immemorial Love For You</td>\n",
       "      <td>ONA</td>\n",
       "      <td>12.0</td>\n",
       "      <td>...</td>\n",
       "      <td>28.0</td>\n",
       "      <td>18.0</td>\n",
       "      <td>29.0</td>\n",
       "      <td>65.0</td>\n",
       "      <td>53.0</td>\n",
       "      <td>35.0</td>\n",
       "      <td>15.0</td>\n",
       "      <td>11.0</td>\n",
       "      <td>11.0</td>\n",
       "      <td>12.0</td>\n",
       "    </tr>\n",
       "    <tr>\n",
       "      <th>8567</th>\n",
       "      <td>Urashimasakatasen no Nichijou</td>\n",
       "      <td>Urashimasakatasen no Nichijou</td>\n",
       "      <td>6.10</td>\n",
       "      <td>9077</td>\n",
       "      <td>7855</td>\n",
       "      <td>5971</td>\n",
       "      <td>The anime centers on the members of the real-w...</td>\n",
       "      <td>Days of Urashimasakatasen</td>\n",
       "      <td>TV</td>\n",
       "      <td>12.0</td>\n",
       "      <td>...</td>\n",
       "      <td>215.0</td>\n",
       "      <td>140.0</td>\n",
       "      <td>242.0</td>\n",
       "      <td>502.0</td>\n",
       "      <td>612.0</td>\n",
       "      <td>599.0</td>\n",
       "      <td>250.0</td>\n",
       "      <td>137.0</td>\n",
       "      <td>82.0</td>\n",
       "      <td>107.0</td>\n",
       "    </tr>\n",
       "    <tr>\n",
       "      <th>8642</th>\n",
       "      <td>Hajimete no Futarikkiri Ryokou</td>\n",
       "      <td>Hajimete no Futarikkiri Ryokou</td>\n",
       "      <td>6.08</td>\n",
       "      <td>9186</td>\n",
       "      <td>12698</td>\n",
       "      <td>1214</td>\n",
       "      <td>A short animation released with the limited ed...</td>\n",
       "      <td>First Trip Alone</td>\n",
       "      <td>OVA</td>\n",
       "      <td>1.0</td>\n",
       "      <td>...</td>\n",
       "      <td>10.0</td>\n",
       "      <td>10.0</td>\n",
       "      <td>33.0</td>\n",
       "      <td>34.0</td>\n",
       "      <td>21.0</td>\n",
       "      <td>11.0</td>\n",
       "      <td>2.0</td>\n",
       "      <td>1.0</td>\n",
       "      <td>1.0</td>\n",
       "      <td>NaN</td>\n",
       "    </tr>\n",
       "    <tr>\n",
       "      <th>8672</th>\n",
       "      <td>Kinpatsu no Jeanie</td>\n",
       "      <td>Kinpatsu no Jeanie</td>\n",
       "      <td>6.05</td>\n",
       "      <td>9350</td>\n",
       "      <td>12506</td>\n",
       "      <td>1290</td>\n",
       "      <td>During the civil war a girl living in Virginia...</td>\n",
       "      <td>Kinpatsu no Jenny, Blonde Jeanie, Jeanie with ...</td>\n",
       "      <td>TV</td>\n",
       "      <td>13.0</td>\n",
       "      <td>...</td>\n",
       "      <td>23.0</td>\n",
       "      <td>8.0</td>\n",
       "      <td>28.0</td>\n",
       "      <td>49.0</td>\n",
       "      <td>66.0</td>\n",
       "      <td>54.0</td>\n",
       "      <td>21.0</td>\n",
       "      <td>7.0</td>\n",
       "      <td>9.0</td>\n",
       "      <td>15.0</td>\n",
       "    </tr>\n",
       "    <tr>\n",
       "      <th>9218</th>\n",
       "      <td>\"LIP×LIP\" Interview Report by Hiyori Suzumi!</td>\n",
       "      <td>Suzumi Hiyori no \"LIP×LIP\" Shuzai Report!</td>\n",
       "      <td>5.90</td>\n",
       "      <td>9996</td>\n",
       "      <td>16075</td>\n",
       "      <td>494</td>\n",
       "      <td>An animated short bundled with first limited e...</td>\n",
       "      <td>涼海ひよりの『LIP×LIP』取材リポート！</td>\n",
       "      <td>OVA</td>\n",
       "      <td>1.0</td>\n",
       "      <td>...</td>\n",
       "      <td>18.0</td>\n",
       "      <td>2.0</td>\n",
       "      <td>10.0</td>\n",
       "      <td>16.0</td>\n",
       "      <td>40.0</td>\n",
       "      <td>27.0</td>\n",
       "      <td>10.0</td>\n",
       "      <td>7.0</td>\n",
       "      <td>3.0</td>\n",
       "      <td>4.0</td>\n",
       "    </tr>\n",
       "    <tr>\n",
       "      <th>9240</th>\n",
       "      <td>Santa Tell Me</td>\n",
       "      <td>Santa Tell Me</td>\n",
       "      <td>5.91</td>\n",
       "      <td>9972</td>\n",
       "      <td>20046</td>\n",
       "      <td>214</td>\n",
       "      <td>A collaboration between and Ariana Grande feat...</td>\n",
       "      <td>サンタ・テル・ミー</td>\n",
       "      <td>ONA</td>\n",
       "      <td>1.0</td>\n",
       "      <td>...</td>\n",
       "      <td>15.0</td>\n",
       "      <td>2.0</td>\n",
       "      <td>1.0</td>\n",
       "      <td>16.0</td>\n",
       "      <td>23.0</td>\n",
       "      <td>26.0</td>\n",
       "      <td>12.0</td>\n",
       "      <td>3.0</td>\n",
       "      <td>2.0</td>\n",
       "      <td>5.0</td>\n",
       "    </tr>\n",
       "    <tr>\n",
       "      <th>9786</th>\n",
       "      <td>The Epic Of ZektBach</td>\n",
       "      <td>The Epic Of ZektBach</td>\n",
       "      <td>5.78</td>\n",
       "      <td>10522</td>\n",
       "      <td>8947</td>\n",
       "      <td>4230</td>\n",
       "      <td>The story begins when the kingdom of Noigllado...</td>\n",
       "      <td>The Epic Of ZektBach: Daiisshou: Shamshir no M...</td>\n",
       "      <td>OVA</td>\n",
       "      <td>1.0</td>\n",
       "      <td>...</td>\n",
       "      <td>55.0</td>\n",
       "      <td>66.0</td>\n",
       "      <td>168.0</td>\n",
       "      <td>456.0</td>\n",
       "      <td>553.0</td>\n",
       "      <td>392.0</td>\n",
       "      <td>218.0</td>\n",
       "      <td>121.0</td>\n",
       "      <td>68.0</td>\n",
       "      <td>50.0</td>\n",
       "    </tr>\n",
       "    <tr>\n",
       "      <th>9917</th>\n",
       "      <td>How to Enjoy this World Mini Anime</td>\n",
       "      <td>HoneyWorks 10th Anniversary \"LIP×LIP FILM×LIVE...</td>\n",
       "      <td>5.72</td>\n",
       "      <td>10767</td>\n",
       "      <td>15475</td>\n",
       "      <td>561</td>\n",
       "      <td>A mini anime to promote the HoneyWorks 10th An...</td>\n",
       "      <td>Kono Sekai no Tanoshimikata: Secret Story Film...</td>\n",
       "      <td>ONA</td>\n",
       "      <td>3.0</td>\n",
       "      <td>...</td>\n",
       "      <td>25.0</td>\n",
       "      <td>3.0</td>\n",
       "      <td>11.0</td>\n",
       "      <td>16.0</td>\n",
       "      <td>37.0</td>\n",
       "      <td>45.0</td>\n",
       "      <td>13.0</td>\n",
       "      <td>9.0</td>\n",
       "      <td>6.0</td>\n",
       "      <td>10.0</td>\n",
       "    </tr>\n",
       "    <tr>\n",
       "      <th>10561</th>\n",
       "      <td>Tosca</td>\n",
       "      <td>Tosca</td>\n",
       "      <td>5.56</td>\n",
       "      <td>11401</td>\n",
       "      <td>18496</td>\n",
       "      <td>301</td>\n",
       "      <td>Based on an old Russian folk song. This short ...</td>\n",
       "      <td>Tosca</td>\n",
       "      <td>Movie</td>\n",
       "      <td>1.0</td>\n",
       "      <td>...</td>\n",
       "      <td>13.0</td>\n",
       "      <td>2.0</td>\n",
       "      <td>3.0</td>\n",
       "      <td>23.0</td>\n",
       "      <td>30.0</td>\n",
       "      <td>27.0</td>\n",
       "      <td>19.0</td>\n",
       "      <td>15.0</td>\n",
       "      <td>7.0</td>\n",
       "      <td>10.0</td>\n",
       "    </tr>\n",
       "    <tr>\n",
       "      <th>10804</th>\n",
       "      <td>Vazzrock the Animation</td>\n",
       "      <td>Vazzrock The Animation</td>\n",
       "      <td>5.46</td>\n",
       "      <td>11727</td>\n",
       "      <td>7454</td>\n",
       "      <td>6801</td>\n",
       "      <td>VAZZY and ROCK DOWN are the two units that mak...</td>\n",
       "      <td>VAZZROCK THE ANIMATION</td>\n",
       "      <td>TV</td>\n",
       "      <td>13.0</td>\n",
       "      <td>...</td>\n",
       "      <td>68.0</td>\n",
       "      <td>30.0</td>\n",
       "      <td>53.0</td>\n",
       "      <td>126.0</td>\n",
       "      <td>153.0</td>\n",
       "      <td>214.0</td>\n",
       "      <td>162.0</td>\n",
       "      <td>143.0</td>\n",
       "      <td>101.0</td>\n",
       "      <td>121.0</td>\n",
       "    </tr>\n",
       "    <tr>\n",
       "      <th>11089</th>\n",
       "      <td>Dream of a Snowy Night</td>\n",
       "      <td>Yuki no Yoru no Yume</td>\n",
       "      <td>5.28</td>\n",
       "      <td>12199</td>\n",
       "      <td>15236</td>\n",
       "      <td>596</td>\n",
       "      <td>A young girl wanders outside on a snowy night,...</td>\n",
       "      <td>雪の夜の夢</td>\n",
       "      <td>Movie</td>\n",
       "      <td>1.0</td>\n",
       "      <td>...</td>\n",
       "      <td>14.0</td>\n",
       "      <td>2.0</td>\n",
       "      <td>8.0</td>\n",
       "      <td>20.0</td>\n",
       "      <td>37.0</td>\n",
       "      <td>63.0</td>\n",
       "      <td>48.0</td>\n",
       "      <td>15.0</td>\n",
       "      <td>48.0</td>\n",
       "      <td>22.0</td>\n",
       "    </tr>\n",
       "    <tr>\n",
       "      <th>11107</th>\n",
       "      <td>Bottom Biting Bug 2</td>\n",
       "      <td>Oshiri Kajiri Mushi (TV) 2nd Season</td>\n",
       "      <td>5.28</td>\n",
       "      <td>12179</td>\n",
       "      <td>13998</td>\n",
       "      <td>850</td>\n",
       "      <td>Continuation of the gag comedy about Oshiri Ka...</td>\n",
       "      <td>おしりかじり虫　第２シリーズ</td>\n",
       "      <td>TV</td>\n",
       "      <td>32.0</td>\n",
       "      <td>...</td>\n",
       "      <td>18.0</td>\n",
       "      <td>5.0</td>\n",
       "      <td>22.0</td>\n",
       "      <td>51.0</td>\n",
       "      <td>52.0</td>\n",
       "      <td>70.0</td>\n",
       "      <td>34.0</td>\n",
       "      <td>31.0</td>\n",
       "      <td>33.0</td>\n",
       "      <td>23.0</td>\n",
       "    </tr>\n",
       "    <tr>\n",
       "      <th>11200</th>\n",
       "      <td>The Baby Birds of Norman McLaren</td>\n",
       "      <td>The Baby Birds of Norman McLaren</td>\n",
       "      <td>5.24</td>\n",
       "      <td>12269</td>\n",
       "      <td>14737</td>\n",
       "      <td>676</td>\n",
       "      <td>Celebrating the 100th year of birth of Norman ...</td>\n",
       "      <td>The Baby Birds of Norman McLaren</td>\n",
       "      <td>Movie</td>\n",
       "      <td>1.0</td>\n",
       "      <td>...</td>\n",
       "      <td>16.0</td>\n",
       "      <td>6.0</td>\n",
       "      <td>13.0</td>\n",
       "      <td>30.0</td>\n",
       "      <td>77.0</td>\n",
       "      <td>91.0</td>\n",
       "      <td>41.0</td>\n",
       "      <td>47.0</td>\n",
       "      <td>18.0</td>\n",
       "      <td>27.0</td>\n",
       "    </tr>\n",
       "    <tr>\n",
       "      <th>11242</th>\n",
       "      <td>Scandal</td>\n",
       "      <td>Scandal</td>\n",
       "      <td>5.27</td>\n",
       "      <td>12220</td>\n",
       "      <td>11256</td>\n",
       "      <td>1988</td>\n",
       "      <td>Twelve 1-minute fictional shorts about the rea...</td>\n",
       "      <td>Scandal anime</td>\n",
       "      <td>ONA</td>\n",
       "      <td>12.0</td>\n",
       "      <td>...</td>\n",
       "      <td>47.0</td>\n",
       "      <td>23.0</td>\n",
       "      <td>40.0</td>\n",
       "      <td>104.0</td>\n",
       "      <td>175.0</td>\n",
       "      <td>213.0</td>\n",
       "      <td>102.0</td>\n",
       "      <td>82.0</td>\n",
       "      <td>61.0</td>\n",
       "      <td>63.0</td>\n",
       "    </tr>\n",
       "    <tr>\n",
       "      <th>11305</th>\n",
       "      <td>Bottom Biting Bug 4</td>\n",
       "      <td>Oshiri Kajiri Mushi (TV) 4th Season</td>\n",
       "      <td>5.21</td>\n",
       "      <td>12348</td>\n",
       "      <td>14947</td>\n",
       "      <td>640</td>\n",
       "      <td>A gag comedy about Oshiri Kajiri Mushi XVIII, ...</td>\n",
       "      <td>おしりかじり虫　第４シリーズ</td>\n",
       "      <td>TV</td>\n",
       "      <td>10.0</td>\n",
       "      <td>...</td>\n",
       "      <td>20.0</td>\n",
       "      <td>7.0</td>\n",
       "      <td>8.0</td>\n",
       "      <td>20.0</td>\n",
       "      <td>39.0</td>\n",
       "      <td>50.0</td>\n",
       "      <td>31.0</td>\n",
       "      <td>23.0</td>\n",
       "      <td>21.0</td>\n",
       "      <td>25.0</td>\n",
       "    </tr>\n",
       "    <tr>\n",
       "      <th>11388</th>\n",
       "      <td>Bottom Biting Bug 3</td>\n",
       "      <td>Oshiri Kajiri Mushi (TV) 3rd Season</td>\n",
       "      <td>5.14</td>\n",
       "      <td>12450</td>\n",
       "      <td>14465</td>\n",
       "      <td>739</td>\n",
       "      <td>A gag comedy about Oshiri Kajiri Mushi XVIII, ...</td>\n",
       "      <td>おしりかじり虫　第３シリーズ</td>\n",
       "      <td>TV</td>\n",
       "      <td>10.0</td>\n",
       "      <td>...</td>\n",
       "      <td>17.0</td>\n",
       "      <td>1.0</td>\n",
       "      <td>16.0</td>\n",
       "      <td>32.0</td>\n",
       "      <td>39.0</td>\n",
       "      <td>62.0</td>\n",
       "      <td>36.0</td>\n",
       "      <td>30.0</td>\n",
       "      <td>26.0</td>\n",
       "      <td>26.0</td>\n",
       "    </tr>\n",
       "    <tr>\n",
       "      <th>11571</th>\n",
       "      <td>Bottom Biting Bug</td>\n",
       "      <td>Oshiri Kajiri Mushi (TV)</td>\n",
       "      <td>5.02</td>\n",
       "      <td>12621</td>\n",
       "      <td>12039</td>\n",
       "      <td>1507</td>\n",
       "      <td>A gag comedy about Oshiri Kajiri Mushi XVIII, ...</td>\n",
       "      <td>おしりかじり虫</td>\n",
       "      <td>TV</td>\n",
       "      <td>20.0</td>\n",
       "      <td>...</td>\n",
       "      <td>25.0</td>\n",
       "      <td>4.0</td>\n",
       "      <td>26.0</td>\n",
       "      <td>81.0</td>\n",
       "      <td>95.0</td>\n",
       "      <td>121.0</td>\n",
       "      <td>95.0</td>\n",
       "      <td>69.0</td>\n",
       "      <td>58.0</td>\n",
       "      <td>50.0</td>\n",
       "    </tr>\n",
       "    <tr>\n",
       "      <th>11809</th>\n",
       "      <td>Teienu Theater in Kobe Opening</td>\n",
       "      <td>Teienu Theater in Kobe Opening</td>\n",
       "      <td>4.74</td>\n",
       "      <td>12918</td>\n",
       "      <td>15172</td>\n",
       "      <td>605</td>\n",
       "      <td>The opening video for Nagao Takena's film scre...</td>\n",
       "      <td>ていえぬシアターin神戸 オープニング</td>\n",
       "      <td>Special</td>\n",
       "      <td>1.0</td>\n",
       "      <td>...</td>\n",
       "      <td>11.0</td>\n",
       "      <td>2.0</td>\n",
       "      <td>8.0</td>\n",
       "      <td>17.0</td>\n",
       "      <td>35.0</td>\n",
       "      <td>89.0</td>\n",
       "      <td>61.0</td>\n",
       "      <td>31.0</td>\n",
       "      <td>38.0</td>\n",
       "      <td>51.0</td>\n",
       "    </tr>\n",
       "    <tr>\n",
       "      <th>11875</th>\n",
       "      <td>Begone Bell Care; Begone Dull Care</td>\n",
       "      <td>Shousei Shikisai Gensou</td>\n",
       "      <td>4.35</td>\n",
       "      <td>13136</td>\n",
       "      <td>14475</td>\n",
       "      <td>734</td>\n",
       "      <td>A tribute to Norman McLaren's Begone Dull Care...</td>\n",
       "      <td>Begon Bell Care</td>\n",
       "      <td>Movie</td>\n",
       "      <td>1.0</td>\n",
       "      <td>...</td>\n",
       "      <td>19.0</td>\n",
       "      <td>1.0</td>\n",
       "      <td>5.0</td>\n",
       "      <td>12.0</td>\n",
       "      <td>54.0</td>\n",
       "      <td>86.0</td>\n",
       "      <td>68.0</td>\n",
       "      <td>51.0</td>\n",
       "      <td>59.0</td>\n",
       "      <td>47.0</td>\n",
       "    </tr>\n",
       "    <tr>\n",
       "      <th>11987</th>\n",
       "      <td>Calligraffiti</td>\n",
       "      <td>Calligraffiti</td>\n",
       "      <td>4.12</td>\n",
       "      <td>13184</td>\n",
       "      <td>13771</td>\n",
       "      <td>898</td>\n",
       "      <td>Short animation directed by an illustrator and...</td>\n",
       "      <td>Carigraffiti</td>\n",
       "      <td>Movie</td>\n",
       "      <td>1.0</td>\n",
       "      <td>...</td>\n",
       "      <td>20.0</td>\n",
       "      <td>2.0</td>\n",
       "      <td>1.0</td>\n",
       "      <td>11.0</td>\n",
       "      <td>34.0</td>\n",
       "      <td>75.0</td>\n",
       "      <td>95.0</td>\n",
       "      <td>76.0</td>\n",
       "      <td>56.0</td>\n",
       "      <td>83.0</td>\n",
       "    </tr>\n",
       "    <tr>\n",
       "      <th>12334</th>\n",
       "      <td>Tokio Heidi: Mainichi no Kodomo Uta</td>\n",
       "      <td>Tokio Heidi: Mainichi no Kodomo Uta</td>\n",
       "      <td>N/A</td>\n",
       "      <td>13926</td>\n",
       "      <td>18621</td>\n",
       "      <td>291</td>\n",
       "      <td>A series of animated music videos and short vi...</td>\n",
       "      <td>Tokyo Heidi</td>\n",
       "      <td>ONA</td>\n",
       "      <td>NaN</td>\n",
       "      <td>...</td>\n",
       "      <td>11.0</td>\n",
       "      <td>2.0</td>\n",
       "      <td>5.0</td>\n",
       "      <td>8.0</td>\n",
       "      <td>6.0</td>\n",
       "      <td>5.0</td>\n",
       "      <td>5.0</td>\n",
       "      <td>5.0</td>\n",
       "      <td>NaN</td>\n",
       "      <td>NaN</td>\n",
       "    </tr>\n",
       "    <tr>\n",
       "      <th>12700</th>\n",
       "      <td>Baby Shark's Big Show!</td>\n",
       "      <td>Agisang-eo Ollie wa William</td>\n",
       "      <td>N/A</td>\n",
       "      <td>15387</td>\n",
       "      <td>20929</td>\n",
       "      <td>163</td>\n",
       "      <td>Baby Shark's Big Show! follows Baby Shark and ...</td>\n",
       "      <td>Baby Shark Ollie and William</td>\n",
       "      <td>TV</td>\n",
       "      <td>54.0</td>\n",
       "      <td>...</td>\n",
       "      <td>9.0</td>\n",
       "      <td>1.0</td>\n",
       "      <td>4.0</td>\n",
       "      <td>3.0</td>\n",
       "      <td>2.0</td>\n",
       "      <td>1.0</td>\n",
       "      <td>4.0</td>\n",
       "      <td>NaN</td>\n",
       "      <td>NaN</td>\n",
       "      <td>NaN</td>\n",
       "    </tr>\n",
       "    <tr>\n",
       "      <th>12701</th>\n",
       "      <td>Baby Shark Brooklyn Doo Doo Doo</td>\n",
       "      <td>Agisang-eo Ollie Tululutulu</td>\n",
       "      <td>N/A</td>\n",
       "      <td>15386</td>\n",
       "      <td>21245</td>\n",
       "      <td>148</td>\n",
       "      <td>A massive underwater earthquake sweeps the Sha...</td>\n",
       "      <td>Baby Shark Ollie Doo Doo Doo</td>\n",
       "      <td>TV</td>\n",
       "      <td>12.0</td>\n",
       "      <td>...</td>\n",
       "      <td>10.0</td>\n",
       "      <td>1.0</td>\n",
       "      <td>5.0</td>\n",
       "      <td>5.0</td>\n",
       "      <td>4.0</td>\n",
       "      <td>1.0</td>\n",
       "      <td>1.0</td>\n",
       "      <td>5.0</td>\n",
       "      <td>NaN</td>\n",
       "      <td>NaN</td>\n",
       "    </tr>\n",
       "    <tr>\n",
       "      <th>13655</th>\n",
       "      <td>Kachikachi Yama no Shouboutai</td>\n",
       "      <td>Kachikachi Yama no Shouboutai</td>\n",
       "      <td>N/A</td>\n",
       "      <td>17934</td>\n",
       "      <td>16078</td>\n",
       "      <td>492</td>\n",
       "      <td>A 7-minute short film (monochrome) produced by...</td>\n",
       "      <td>カチカチ山の消防隊</td>\n",
       "      <td>Movie</td>\n",
       "      <td>1.0</td>\n",
       "      <td>...</td>\n",
       "      <td>19.0</td>\n",
       "      <td>1.0</td>\n",
       "      <td>2.0</td>\n",
       "      <td>5.0</td>\n",
       "      <td>13.0</td>\n",
       "      <td>20.0</td>\n",
       "      <td>12.0</td>\n",
       "      <td>2.0</td>\n",
       "      <td>4.0</td>\n",
       "      <td>16.0</td>\n",
       "    </tr>\n",
       "    <tr>\n",
       "      <th>14282</th>\n",
       "      <td>Norimono Atsumare: Hit Song-shuu</td>\n",
       "      <td>Norimono Atsumare: Hit Song-shuu</td>\n",
       "      <td>N/A</td>\n",
       "      <td>19481</td>\n",
       "      <td>20524</td>\n",
       "      <td>186</td>\n",
       "      <td>A compilation of six music videos that were co...</td>\n",
       "      <td>Yahoo! Shinkansen, Kita! Kita! Tokkyuu!, Nani ...</td>\n",
       "      <td>OVA</td>\n",
       "      <td>6.0</td>\n",
       "      <td>...</td>\n",
       "      <td>13.0</td>\n",
       "      <td>1.0</td>\n",
       "      <td>2.0</td>\n",
       "      <td>4.0</td>\n",
       "      <td>2.0</td>\n",
       "      <td>7.0</td>\n",
       "      <td>4.0</td>\n",
       "      <td>7.0</td>\n",
       "      <td>4.0</td>\n",
       "      <td>6.0</td>\n",
       "    </tr>\n",
       "    <tr>\n",
       "      <th>14618</th>\n",
       "      <td>Romeo: Music Video Making</td>\n",
       "      <td>Romeo: Music Video Making</td>\n",
       "      <td>N/A</td>\n",
       "      <td>20118</td>\n",
       "      <td>17575</td>\n",
       "      <td>368</td>\n",
       "      <td>A short animation released with the limited ed...</td>\n",
       "      <td>Romeo MVM</td>\n",
       "      <td>OVA</td>\n",
       "      <td>1.0</td>\n",
       "      <td>...</td>\n",
       "      <td>23.0</td>\n",
       "      <td>5.0</td>\n",
       "      <td>13.0</td>\n",
       "      <td>19.0</td>\n",
       "      <td>11.0</td>\n",
       "      <td>11.0</td>\n",
       "      <td>5.0</td>\n",
       "      <td>1.0</td>\n",
       "      <td>1.0</td>\n",
       "      <td>NaN</td>\n",
       "    </tr>\n",
       "  </tbody>\n",
       "</table>\n",
       "<p>41 rows × 36 columns</p>\n",
       "</div>"
      ],
      "text/plain": [
       "                                            name_english  \\\n",
       "529    Interstella5555: The 5tory of The 5ecret 5tar ...   \n",
       "1936      Our love has always been 10 centimeters apart.   \n",
       "2041      Kono Sekai no Tanoshimikata: Secret Story Film   \n",
       "3020   Heroines Run the Show: The Unpopular Girl and ...   \n",
       "3402                               I've Always Liked You   \n",
       "3546      I've Always Liked You: A Friday's Good Morning   \n",
       "4088                         The Moment You Fall in Love   \n",
       "4199                                            UniteUp!   \n",
       "4766                             TSUKIUTA. The Animation   \n",
       "4831                                             Massara   \n",
       "4889                                Nana's Secret Garden   \n",
       "5696                           MARGINAL #4 the Animation   \n",
       "5783                           Tsukiuta. The Animation 2   \n",
       "7433                                             Airy Me   \n",
       "7668                            Actors: Songs Connection   \n",
       "7693                                  Ai Zai Xiyuan Qian   \n",
       "8567                       Urashimasakatasen no Nichijou   \n",
       "8642                      Hajimete no Futarikkiri Ryokou   \n",
       "8672                                  Kinpatsu no Jeanie   \n",
       "9218        \"LIP×LIP\" Interview Report by Hiyori Suzumi!   \n",
       "9240                                       Santa Tell Me   \n",
       "9786                                The Epic Of ZektBach   \n",
       "9917                  How to Enjoy this World Mini Anime   \n",
       "10561                                              Tosca   \n",
       "10804                             Vazzrock the Animation   \n",
       "11089                             Dream of a Snowy Night   \n",
       "11107                                Bottom Biting Bug 2   \n",
       "11200                   The Baby Birds of Norman McLaren   \n",
       "11242                                            Scandal   \n",
       "11305                                Bottom Biting Bug 4   \n",
       "11388                                Bottom Biting Bug 3   \n",
       "11571                                  Bottom Biting Bug   \n",
       "11809                     Teienu Theater in Kobe Opening   \n",
       "11875                 Begone Bell Care; Begone Dull Care   \n",
       "11987                                      Calligraffiti   \n",
       "12334                Tokio Heidi: Mainichi no Kodomo Uta   \n",
       "12700                             Baby Shark's Big Show!   \n",
       "12701                    Baby Shark Brooklyn Doo Doo Doo   \n",
       "13655                      Kachikachi Yama no Shouboutai   \n",
       "14282                   Norimono Atsumare: Hit Song-shuu   \n",
       "14618                          Romeo: Music Video Making   \n",
       "\n",
       "                                                    name score  ranked  \\\n",
       "529    Interstella5555: The 5tory of The 5ecret 5tar ...  8.13     456   \n",
       "1936             Itsudatte Bokura no Koi wa 10 cm Datta.  7.46    2001   \n",
       "2041      Kono Sekai no Tanoshimikata: Secret Story Film  7.42    2138   \n",
       "3020   Heroine Tarumono! Kiraware Heroine to Naisho n...  7.28    2822   \n",
       "3402   Zutto Mae kara Suki deshita. Kokuhaku Jikkou I...  7.21    3214   \n",
       "3546   Zutto Mae kara Suki deshita. Kokuhaku Jikkou I...  7.17    3459   \n",
       "4088   Suki ni Naru Sono Shunkan wo. Kokuhaku Jikkou ...  7.04    4075   \n",
       "4199                                            UniteUp!  7.03    4153   \n",
       "4766                             Tsukiuta. The Animation  6.90    4728   \n",
       "4831                                             Massara  6.87    4857   \n",
       "4889                             Himitsu no Hana no Niwa  6.85    4989   \n",
       "5696              Marginal#4: Kiss kara Tsukuru Big Bang  6.67    5877   \n",
       "5783                           Tsukiuta. The Animation 2  6.66    5974   \n",
       "7433                                             Airy Me  6.32    7883   \n",
       "7668                            Actors: Songs Connection  6.30    8013   \n",
       "7693                                  Ai Zai Xiyuan Qian  6.27    8188   \n",
       "8567                       Urashimasakatasen no Nichijou  6.10    9077   \n",
       "8642                      Hajimete no Futarikkiri Ryokou  6.08    9186   \n",
       "8672                                  Kinpatsu no Jeanie  6.05    9350   \n",
       "9218           Suzumi Hiyori no \"LIP×LIP\" Shuzai Report!  5.90    9996   \n",
       "9240                                       Santa Tell Me  5.91    9972   \n",
       "9786                                The Epic Of ZektBach  5.78   10522   \n",
       "9917   HoneyWorks 10th Anniversary \"LIP×LIP FILM×LIVE...  5.72   10767   \n",
       "10561                                              Tosca  5.56   11401   \n",
       "10804                             Vazzrock The Animation  5.46   11727   \n",
       "11089                               Yuki no Yoru no Yume  5.28   12199   \n",
       "11107                Oshiri Kajiri Mushi (TV) 2nd Season  5.28   12179   \n",
       "11200                   The Baby Birds of Norman McLaren  5.24   12269   \n",
       "11242                                            Scandal  5.27   12220   \n",
       "11305                Oshiri Kajiri Mushi (TV) 4th Season  5.21   12348   \n",
       "11388                Oshiri Kajiri Mushi (TV) 3rd Season  5.14   12450   \n",
       "11571                           Oshiri Kajiri Mushi (TV)  5.02   12621   \n",
       "11809                     Teienu Theater in Kobe Opening  4.74   12918   \n",
       "11875                            Shousei Shikisai Gensou  4.35   13136   \n",
       "11987                                      Calligraffiti  4.12   13184   \n",
       "12334                Tokio Heidi: Mainichi no Kodomo Uta   N/A   13926   \n",
       "12700                        Agisang-eo Ollie wa William   N/A   15387   \n",
       "12701                        Agisang-eo Ollie Tululutulu   N/A   15386   \n",
       "13655                      Kachikachi Yama no Shouboutai   N/A   17934   \n",
       "14282                   Norimono Atsumare: Hit Song-shuu   N/A   19481   \n",
       "14618                          Romeo: Music Video Making   N/A   20118   \n",
       "\n",
       "       popularity  members                                           synopsis  \\\n",
       "529          2492    73959  This musical film is the visual realization of...   \n",
       "1936         1051   229989  Miou Aida and Haruki Serizawa might seem like ...   \n",
       "2041         8884     4321  An anime movie based on HoneyWorks' LIPxLIP vi...   \n",
       "3020         2641    67171  Freshly graduating middle school, energetic 15...   \n",
       "3402         1032   232749  Love is blooming at Sakuragaoka High School. N...   \n",
       "3546         4412    24904  A picture drama special bundled with the BD/DV...   \n",
       "4088         1850   116668  Following Natsuki Enomoto's confession rehears...   \n",
       "4199         6528     9457  Akira Kiyose, a high schooler who loves to sin...   \n",
       "4766         4202    27603  Tsukino Talent Productions is home to two up-a...   \n",
       "4831        10665     2396  is an original short inspired from the song of...   \n",
       "4889        13094     1083  The music film is a part of TOHO animation's 1...   \n",
       "5696         5204    16685  The freshly debuted idol group Marginal#4 drea...   \n",
       "5783         7061     7798  Six Gravity and Procellarum, Tsukino Talent Pr...   \n",
       "7433         8294     5244  A test subject is administered daily medicatio...   \n",
       "7668         5014    18458  Tensho School is located in the 7th Ward of Th...   \n",
       "7693        10625     2422  Some aliens come to the Earth and one of them,...   \n",
       "8567         7855     5971  The anime centers on the members of the real-w...   \n",
       "8642        12698     1214  A short animation released with the limited ed...   \n",
       "8672        12506     1290  During the civil war a girl living in Virginia...   \n",
       "9218        16075      494  An animated short bundled with first limited e...   \n",
       "9240        20046      214  A collaboration between and Ariana Grande feat...   \n",
       "9786         8947     4230  The story begins when the kingdom of Noigllado...   \n",
       "9917        15475      561  A mini anime to promote the HoneyWorks 10th An...   \n",
       "10561       18496      301  Based on an old Russian folk song. This short ...   \n",
       "10804        7454     6801  VAZZY and ROCK DOWN are the two units that mak...   \n",
       "11089       15236      596  A young girl wanders outside on a snowy night,...   \n",
       "11107       13998      850  Continuation of the gag comedy about Oshiri Ka...   \n",
       "11200       14737      676  Celebrating the 100th year of birth of Norman ...   \n",
       "11242       11256     1988  Twelve 1-minute fictional shorts about the rea...   \n",
       "11305       14947      640  A gag comedy about Oshiri Kajiri Mushi XVIII, ...   \n",
       "11388       14465      739  A gag comedy about Oshiri Kajiri Mushi XVIII, ...   \n",
       "11571       12039     1507  A gag comedy about Oshiri Kajiri Mushi XVIII, ...   \n",
       "11809       15172      605  The opening video for Nagao Takena's film scre...   \n",
       "11875       14475      734  A tribute to Norman McLaren's Begone Dull Care...   \n",
       "11987       13771      898  Short animation directed by an illustrator and...   \n",
       "12334       18621      291  A series of animated music videos and short vi...   \n",
       "12700       20929      163  Baby Shark's Big Show! follows Baby Shark and ...   \n",
       "12701       21245      148  A massive underwater earthquake sweeps the Sha...   \n",
       "13655       16078      492  A 7-minute short film (monochrome) produced by...   \n",
       "14282       20524      186  A compilation of six music videos that were co...   \n",
       "14618       17575      368  A short animation released with the limited ed...   \n",
       "\n",
       "                                                synonyms  type_of  \\\n",
       "529                                    Interstellar 5555    Movie   \n",
       "1936                                 いつだって僕らの恋は10センチだった。       TV   \n",
       "2041     HoneyWorks 10th Anniversary \"Lip×Lip Film×Live\"    Movie   \n",
       "3020                           To Become a Real Heroine!       TV   \n",
       "3402   HoneyWorks: I've Liked You Since Long Ago, I'v...    Movie   \n",
       "3546   I've Always Liked You Picture Drama Special, H...  Special   \n",
       "4088                  HoneyWorks: Kokuhaku Jikkou Iinkai    Movie   \n",
       "4199                                            UniteUp!       TV   \n",
       "4766                                           Tsukiani.       TV   \n",
       "4831                                                まっさら      ONA   \n",
       "4889                                             秘密のはなの庭      ONA   \n",
       "5696                        MARGINAL#4 KISSから創造るBig Bang       TV   \n",
       "5783   Tsukiuta. The Animation Second Season, Tsukian...       TV   \n",
       "7433                                             Airy Me    Movie   \n",
       "7668                           ACTORS -Songs Connection-       TV   \n",
       "7693                             Immemorial Love For You      ONA   \n",
       "8567                           Days of Urashimasakatasen       TV   \n",
       "8642                                    First Trip Alone      OVA   \n",
       "8672   Kinpatsu no Jenny, Blonde Jeanie, Jeanie with ...       TV   \n",
       "9218                              涼海ひよりの『LIP×LIP』取材リポート！      OVA   \n",
       "9240                                           サンタ・テル・ミー      ONA   \n",
       "9786   The Epic Of ZektBach: Daiisshou: Shamshir no M...      OVA   \n",
       "9917   Kono Sekai no Tanoshimikata: Secret Story Film...      ONA   \n",
       "10561                                              Tosca    Movie   \n",
       "10804                             VAZZROCK THE ANIMATION       TV   \n",
       "11089                                              雪の夜の夢    Movie   \n",
       "11107                                     おしりかじり虫　第２シリーズ       TV   \n",
       "11200                   The Baby Birds of Norman McLaren    Movie   \n",
       "11242                                      Scandal anime      ONA   \n",
       "11305                                     おしりかじり虫　第４シリーズ       TV   \n",
       "11388                                     おしりかじり虫　第３シリーズ       TV   \n",
       "11571                                            おしりかじり虫       TV   \n",
       "11809                                ていえぬシアターin神戸 オープニング  Special   \n",
       "11875                                    Begon Bell Care    Movie   \n",
       "11987                                       Carigraffiti    Movie   \n",
       "12334                                        Tokyo Heidi      ONA   \n",
       "12700                       Baby Shark Ollie and William       TV   \n",
       "12701                       Baby Shark Ollie Doo Doo Doo       TV   \n",
       "13655                                          カチカチ山の消防隊    Movie   \n",
       "14282  Yahoo! Shinkansen, Kita! Kita! Tokkyuu!, Nani ...      OVA   \n",
       "14618                                          Romeo MVM      OVA   \n",
       "\n",
       "       total_episodes  ... scored_10_by scored_9_by scored_8_by scored_7_by  \\\n",
       "529               1.0  ...       9592.0      8978.0     11882.0      8059.0   \n",
       "1936              6.0  ...       8312.0     11979.0     25300.0     27425.0   \n",
       "2041              1.0  ...        133.0       106.0       146.0       185.0   \n",
       "3020             12.0  ...       1760.0      2447.0      5990.0      8155.0   \n",
       "3402              1.0  ...       7041.0     10053.0     23343.0     32500.0   \n",
       "3546              1.0  ...        855.0       802.0      1836.0      2952.0   \n",
       "4088              1.0  ...       3161.0      4063.0      9839.0     16168.0   \n",
       "4199             12.0  ...        294.0       257.0       529.0       746.0   \n",
       "4766             13.0  ...        812.0       758.0      1325.0      2133.0   \n",
       "4831              1.0  ...         66.0        94.0       209.0       436.0   \n",
       "4889              1.0  ...         30.0        59.0        91.0       148.0   \n",
       "5696             12.0  ...        464.0       373.0       730.0      1275.0   \n",
       "5783             13.0  ...        165.0       131.0       223.0       418.0   \n",
       "7433              1.0  ...        165.0       158.0       388.0       629.0   \n",
       "7668             12.0  ...        376.0       326.0       644.0      1187.0   \n",
       "7693             12.0  ...         28.0        18.0        29.0        65.0   \n",
       "8567             12.0  ...        215.0       140.0       242.0       502.0   \n",
       "8642              1.0  ...         10.0        10.0        33.0        34.0   \n",
       "8672             13.0  ...         23.0         8.0        28.0        49.0   \n",
       "9218              1.0  ...         18.0         2.0        10.0        16.0   \n",
       "9240              1.0  ...         15.0         2.0         1.0        16.0   \n",
       "9786              1.0  ...         55.0        66.0       168.0       456.0   \n",
       "9917              3.0  ...         25.0         3.0        11.0        16.0   \n",
       "10561             1.0  ...         13.0         2.0         3.0        23.0   \n",
       "10804            13.0  ...         68.0        30.0        53.0       126.0   \n",
       "11089             1.0  ...         14.0         2.0         8.0        20.0   \n",
       "11107            32.0  ...         18.0         5.0        22.0        51.0   \n",
       "11200             1.0  ...         16.0         6.0        13.0        30.0   \n",
       "11242            12.0  ...         47.0        23.0        40.0       104.0   \n",
       "11305            10.0  ...         20.0         7.0         8.0        20.0   \n",
       "11388            10.0  ...         17.0         1.0        16.0        32.0   \n",
       "11571            20.0  ...         25.0         4.0        26.0        81.0   \n",
       "11809             1.0  ...         11.0         2.0         8.0        17.0   \n",
       "11875             1.0  ...         19.0         1.0         5.0        12.0   \n",
       "11987             1.0  ...         20.0         2.0         1.0        11.0   \n",
       "12334             NaN  ...         11.0         2.0         5.0         8.0   \n",
       "12700            54.0  ...          9.0         1.0         4.0         3.0   \n",
       "12701            12.0  ...         10.0         1.0         5.0         5.0   \n",
       "13655             1.0  ...         19.0         1.0         2.0         5.0   \n",
       "14282             6.0  ...         13.0         1.0         2.0         4.0   \n",
       "14618             1.0  ...         23.0         5.0        13.0        19.0   \n",
       "\n",
       "      scored_6_by scored_5_by  scored_4_by  scored_3_by scored_2_by  \\\n",
       "529        3241.0      1316.0        353.0        130.0        77.0   \n",
       "1936      12050.0      5097.0       1556.0        676.0       265.0   \n",
       "2041        100.0        30.0         15.0          8.0         4.0   \n",
       "3020       3633.0      1546.0        585.0        181.0        86.0   \n",
       "3402      15102.0      6710.0       2130.0        959.0       451.0   \n",
       "3546       1683.0       686.0        162.0         77.0        27.0   \n",
       "4088       8401.0      3777.0       1339.0        564.0       297.0   \n",
       "4199        493.0       309.0        103.0         48.0        28.0   \n",
       "4766       1589.0      1008.0        378.0        214.0       118.0   \n",
       "4831        266.0       134.0         24.0          8.0         2.0   \n",
       "4889        119.0        42.0         10.0          7.0         3.0   \n",
       "5696       1015.0       714.0        373.0        160.0        92.0   \n",
       "5783        358.0       223.0         98.0         53.0        24.0   \n",
       "7433        663.0       432.0        168.0         95.0        74.0   \n",
       "7668       1203.0       951.0        489.0        264.0       138.0   \n",
       "7693         53.0        35.0         15.0         11.0        11.0   \n",
       "8567        612.0       599.0        250.0        137.0        82.0   \n",
       "8642         21.0        11.0          2.0          1.0         1.0   \n",
       "8672         66.0        54.0         21.0          7.0         9.0   \n",
       "9218         40.0        27.0         10.0          7.0         3.0   \n",
       "9240         23.0        26.0         12.0          3.0         2.0   \n",
       "9786        553.0       392.0        218.0        121.0        68.0   \n",
       "9917         37.0        45.0         13.0          9.0         6.0   \n",
       "10561        30.0        27.0         19.0         15.0         7.0   \n",
       "10804       153.0       214.0        162.0        143.0       101.0   \n",
       "11089        37.0        63.0         48.0         15.0        48.0   \n",
       "11107        52.0        70.0         34.0         31.0        33.0   \n",
       "11200        77.0        91.0         41.0         47.0        18.0   \n",
       "11242       175.0       213.0        102.0         82.0        61.0   \n",
       "11305        39.0        50.0         31.0         23.0        21.0   \n",
       "11388        39.0        62.0         36.0         30.0        26.0   \n",
       "11571        95.0       121.0         95.0         69.0        58.0   \n",
       "11809        35.0        89.0         61.0         31.0        38.0   \n",
       "11875        54.0        86.0         68.0         51.0        59.0   \n",
       "11987        34.0        75.0         95.0         76.0        56.0   \n",
       "12334         6.0         5.0          5.0          5.0         NaN   \n",
       "12700         2.0         1.0          4.0          NaN         NaN   \n",
       "12701         4.0         1.0          1.0          5.0         NaN   \n",
       "13655        13.0        20.0         12.0          2.0         4.0   \n",
       "14282         2.0         7.0          4.0          7.0         4.0   \n",
       "14618        11.0        11.0          5.0          1.0         1.0   \n",
       "\n",
       "      scored_1_by  \n",
       "529         107.0  \n",
       "1936        221.0  \n",
       "2041          9.0  \n",
       "3020        108.0  \n",
       "3402        340.0  \n",
       "3546         44.0  \n",
       "4088        202.0  \n",
       "4199         61.0  \n",
       "4766        137.0  \n",
       "4831          5.0  \n",
       "4889          4.0  \n",
       "5696        110.0  \n",
       "5783         43.0  \n",
       "7433         61.0  \n",
       "7668        119.0  \n",
       "7693         12.0  \n",
       "8567        107.0  \n",
       "8642          NaN  \n",
       "8672         15.0  \n",
       "9218          4.0  \n",
       "9240          5.0  \n",
       "9786         50.0  \n",
       "9917         10.0  \n",
       "10561        10.0  \n",
       "10804       121.0  \n",
       "11089        22.0  \n",
       "11107        23.0  \n",
       "11200        27.0  \n",
       "11242        63.0  \n",
       "11305        25.0  \n",
       "11388        26.0  \n",
       "11571        50.0  \n",
       "11809        51.0  \n",
       "11875        47.0  \n",
       "11987        83.0  \n",
       "12334         NaN  \n",
       "12700         NaN  \n",
       "12701         NaN  \n",
       "13655        16.0  \n",
       "14282         6.0  \n",
       "14618         NaN  \n",
       "\n",
       "[41 rows x 36 columns]"
      ]
     },
     "execution_count": 89,
     "metadata": {},
     "output_type": "execute_result"
    }
   ],
   "source": [
    "anidf[anidf[\"source\"] == \"Music\"]"
   ]
  },
  {
   "cell_type": "markdown",
   "id": "6Lx4jjWSI21I",
   "metadata": {
    "id": "6Lx4jjWSI21I"
   },
   "source": [
    "## watching\n"
   ]
  },
  {
   "cell_type": "code",
   "execution_count": 90,
   "id": "QdMppZk2JViy",
   "metadata": {
    "colab": {
     "base_uri": "https://localhost:8080/"
    },
    "id": "QdMppZk2JViy",
    "outputId": "a89a76a8-1c66-486e-e094-b187abb5424b"
   },
   "outputs": [
    {
     "name": "stdout",
     "output_type": "stream",
     "text": [
      "<class 'pandas.core.series.Series'>\n",
      "RangeIndex: 14740 entries, 0 to 14739\n",
      "Series name: watching\n",
      "Non-Null Count  Dtype \n",
      "--------------  ----- \n",
      "14738 non-null  object\n",
      "dtypes: object(1)\n",
      "memory usage: 115.3+ KB\n"
     ]
    }
   ],
   "source": [
    "anidf[\"watching\"].info()"
   ]
  },
  {
   "cell_type": "code",
   "execution_count": 91,
   "id": "qbbQ1iQpJXMQ",
   "metadata": {
    "colab": {
     "base_uri": "https://localhost:8080/"
    },
    "id": "qbbQ1iQpJXMQ",
    "outputId": "2e691f11-1a05-4ca6-a09e-6615ca878939"
   },
   "outputs": [
    {
     "data": {
      "text/plain": [
       "array(['2,723', '14,438', '8,497', ..., '3', '1', None], dtype=object)"
      ]
     },
     "execution_count": 91,
     "metadata": {},
     "output_type": "execute_result"
    }
   ],
   "source": [
    "anidf[\"watching\"].unique()"
   ]
  },
  {
   "cell_type": "code",
   "execution_count": 92,
   "id": "P9uedVM1J5Jk",
   "metadata": {
    "colab": {
     "base_uri": "https://localhost:8080/",
     "height": 489
    },
    "id": "P9uedVM1J5Jk",
    "outputId": "2e0fc59b-0361-4e3e-b7f7-3b2559eb06ce"
   },
   "outputs": [
    {
     "data": {
      "text/plain": [
       "watching\n",
       "16        187\n",
       "15        171\n",
       "14        170\n",
       "13        157\n",
       "18        148\n",
       "         ... \n",
       "4,157       1\n",
       "3,996       1\n",
       "13,332      1\n",
       "1,232       1\n",
       "24,486      1\n",
       "Name: count, Length: 4481, dtype: int64"
      ]
     },
     "execution_count": 92,
     "metadata": {},
     "output_type": "execute_result"
    }
   ],
   "source": [
    "anidf[\"watching\"].value_counts()"
   ]
  },
  {
   "cell_type": "code",
   "execution_count": 93,
   "id": "Bht0PkPAKBB7",
   "metadata": {
    "colab": {
     "base_uri": "https://localhost:8080/"
    },
    "id": "Bht0PkPAKBB7",
    "outputId": "8f93a1e3-b4cf-4b81-c88d-f67b48098e88"
   },
   "outputs": [
    {
     "data": {
      "text/plain": [
       "2"
      ]
     },
     "execution_count": 93,
     "metadata": {},
     "output_type": "execute_result"
    }
   ],
   "source": [
    "anidf[\"watching\"].isna().sum()"
   ]
  },
  {
   "cell_type": "code",
   "execution_count": 94,
   "id": "RHIohP9ZLV3s",
   "metadata": {
    "id": "RHIohP9ZLV3s"
   },
   "outputs": [],
   "source": [
    "anidf[\"watching\"] = anidf[\"watching\"].fillna(\"0\")"
   ]
  },
  {
   "cell_type": "code",
   "execution_count": 95,
   "id": "iHmqNDmkLcP5",
   "metadata": {
    "colab": {
     "base_uri": "https://localhost:8080/"
    },
    "id": "iHmqNDmkLcP5",
    "outputId": "42cc21ab-ce64-449b-f65e-2c664cfe6ec6"
   },
   "outputs": [
    {
     "data": {
      "text/plain": [
       "0"
      ]
     },
     "execution_count": 95,
     "metadata": {},
     "output_type": "execute_result"
    }
   ],
   "source": [
    "anidf[\"watching\"].isna().sum()"
   ]
  },
  {
   "cell_type": "code",
   "execution_count": 96,
   "id": "e0n_vlohLeic",
   "metadata": {
    "id": "e0n_vlohLeic"
   },
   "outputs": [],
   "source": [
    "anidf[\"watching\"] = anidf[\"watching\"].apply(\n",
    "    lambda x: int(x.replace(\",\", \"\")) if len(x) > 0 else x\n",
    ")"
   ]
  },
  {
   "cell_type": "code",
   "execution_count": 97,
   "id": "nu1rZdh3auSb",
   "metadata": {
    "colab": {
     "base_uri": "https://localhost:8080/"
    },
    "id": "nu1rZdh3auSb",
    "outputId": "ba800477-0606-4a36-9cfc-776b957119fe"
   },
   "outputs": [
    {
     "data": {
      "text/plain": [
       "array([ 2723, 14438,  8497, ...,     0,     3,     1], dtype=int64)"
      ]
     },
     "execution_count": 97,
     "metadata": {},
     "output_type": "execute_result"
    }
   ],
   "source": [
    "anidf[\"watching\"].unique()"
   ]
  },
  {
   "cell_type": "code",
   "execution_count": 98,
   "id": "2DIzsCT_avzo",
   "metadata": {
    "colab": {
     "base_uri": "https://localhost:8080/"
    },
    "id": "2DIzsCT_avzo",
    "outputId": "4a3a3e14-4bc7-4549-a2c9-79605dd573b9"
   },
   "outputs": [
    {
     "name": "stdout",
     "output_type": "stream",
     "text": [
      "<class 'pandas.core.series.Series'>\n",
      "RangeIndex: 14740 entries, 0 to 14739\n",
      "Series name: watching\n",
      "Non-Null Count  Dtype\n",
      "--------------  -----\n",
      "14740 non-null  int64\n",
      "dtypes: int64(1)\n",
      "memory usage: 115.3 KB\n"
     ]
    }
   ],
   "source": [
    "anidf[\"watching\"].info()"
   ]
  },
  {
   "cell_type": "markdown",
   "id": "k5CCNmtzc6lp",
   "metadata": {
    "id": "k5CCNmtzc6lp"
   },
   "source": [
    "## completed\n"
   ]
  },
  {
   "cell_type": "code",
   "execution_count": 99,
   "id": "l4aq47Zlc8qL",
   "metadata": {
    "colab": {
     "base_uri": "https://localhost:8080/"
    },
    "id": "l4aq47Zlc8qL",
    "outputId": "50ef8baf-e38a-4ceb-cd03-e95feb4f853d"
   },
   "outputs": [
    {
     "name": "stdout",
     "output_type": "stream",
     "text": [
      "<class 'pandas.core.series.Series'>\n",
      "RangeIndex: 14740 entries, 0 to 14739\n",
      "Series name: completed\n",
      "Non-Null Count  Dtype \n",
      "--------------  ----- \n",
      "14738 non-null  object\n",
      "dtypes: object(1)\n",
      "memory usage: 115.3+ KB\n"
     ]
    }
   ],
   "source": [
    "anidf[\"completed\"].info()"
   ]
  },
  {
   "cell_type": "code",
   "execution_count": 100,
   "id": "x1Tzr2noc-Ve",
   "metadata": {
    "colab": {
     "base_uri": "https://localhost:8080/"
    },
    "id": "x1Tzr2noc-Ve",
    "outputId": "822014dd-06b6-4ac5-ceef-debbfd772e04"
   },
   "outputs": [
    {
     "data": {
      "text/plain": [
       "2"
      ]
     },
     "execution_count": 100,
     "metadata": {},
     "output_type": "execute_result"
    }
   ],
   "source": [
    "anidf[\"completed\"].isna().sum()"
   ]
  },
  {
   "cell_type": "code",
   "execution_count": 101,
   "id": "V1VnhGCmdGl4",
   "metadata": {
    "id": "V1VnhGCmdGl4"
   },
   "outputs": [],
   "source": [
    "anidf[\"completed\"] = anidf[\"completed\"].fillna(\"0\")"
   ]
  },
  {
   "cell_type": "code",
   "execution_count": 102,
   "id": "Majxbzf_dLhu",
   "metadata": {
    "id": "Majxbzf_dLhu"
   },
   "outputs": [],
   "source": [
    "anidf[\"completed\"] = anidf[\"completed\"].apply(\n",
    "    lambda x: int(x.replace(\",\", \"\")) if len(x) > 0 else x\n",
    ")"
   ]
  },
  {
   "cell_type": "code",
   "execution_count": 103,
   "id": "g5__wtCIdRHI",
   "metadata": {
    "colab": {
     "base_uri": "https://localhost:8080/"
    },
    "id": "g5__wtCIdRHI",
    "outputId": "c800ca9b-ebe7-4ee5-987c-998e03b0ad65"
   },
   "outputs": [
    {
     "data": {
      "text/plain": [
       "array([ 23933, 133486,  29630, ...,     23,     19,     14], dtype=int64)"
      ]
     },
     "execution_count": 103,
     "metadata": {},
     "output_type": "execute_result"
    }
   ],
   "source": [
    "anidf[\"completed\"].unique()"
   ]
  },
  {
   "cell_type": "code",
   "execution_count": 104,
   "id": "UjnQUNbgdU4t",
   "metadata": {
    "colab": {
     "base_uri": "https://localhost:8080/"
    },
    "id": "UjnQUNbgdU4t",
    "outputId": "644faeb0-bdd8-41b0-8ba9-c876f7d71ebe"
   },
   "outputs": [
    {
     "name": "stdout",
     "output_type": "stream",
     "text": [
      "<class 'pandas.core.series.Series'>\n",
      "RangeIndex: 14740 entries, 0 to 14739\n",
      "Series name: completed\n",
      "Non-Null Count  Dtype\n",
      "--------------  -----\n",
      "14740 non-null  int64\n",
      "dtypes: int64(1)\n",
      "memory usage: 115.3 KB\n"
     ]
    }
   ],
   "source": [
    "anidf[\"completed\"].info()"
   ]
  },
  {
   "cell_type": "markdown",
   "id": "LIpu4jitdYrI",
   "metadata": {
    "id": "LIpu4jitdYrI"
   },
   "source": [
    "## onHold\n"
   ]
  },
  {
   "cell_type": "code",
   "execution_count": 105,
   "id": "_EIuAibedfUu",
   "metadata": {
    "colab": {
     "base_uri": "https://localhost:8080/"
    },
    "id": "_EIuAibedfUu",
    "outputId": "0ac5a7cf-6790-4b01-db9a-9324ca95ef61"
   },
   "outputs": [
    {
     "name": "stdout",
     "output_type": "stream",
     "text": [
      "<class 'pandas.core.series.Series'>\n",
      "RangeIndex: 14740 entries, 0 to 14739\n",
      "Series name: on_hold\n",
      "Non-Null Count  Dtype \n",
      "--------------  ----- \n",
      "14738 non-null  object\n",
      "dtypes: object(1)\n",
      "memory usage: 115.3+ KB\n"
     ]
    }
   ],
   "source": [
    "anidf[\"on_hold\"].info()"
   ]
  },
  {
   "cell_type": "code",
   "execution_count": 106,
   "id": "TFDMhmKydlbA",
   "metadata": {
    "colab": {
     "base_uri": "https://localhost:8080/"
    },
    "id": "TFDMhmKydlbA",
    "outputId": "05be2ca8-edf0-4e07-9dca-30f1f391a5b5"
   },
   "outputs": [
    {
     "data": {
      "text/plain": [
       "2"
      ]
     },
     "execution_count": 106,
     "metadata": {},
     "output_type": "execute_result"
    }
   ],
   "source": [
    "anidf[\"on_hold\"].isna().sum()"
   ]
  },
  {
   "cell_type": "code",
   "execution_count": 107,
   "id": "YKdPrD6zdpu0",
   "metadata": {
    "id": "YKdPrD6zdpu0"
   },
   "outputs": [],
   "source": [
    "anidf[\"on_hold\"] = anidf[\"on_hold\"].fillna(\"0\")"
   ]
  },
  {
   "cell_type": "code",
   "execution_count": 108,
   "id": "10zgCEe7drTK",
   "metadata": {
    "id": "10zgCEe7drTK"
   },
   "outputs": [],
   "source": [
    "anidf[\"on_hold\"] = anidf[\"on_hold\"].apply(\n",
    "    lambda x: int(x.replace(\",\", \"\")) if len(x) > 0 else x\n",
    ")"
   ]
  },
  {
   "cell_type": "code",
   "execution_count": 109,
   "id": "7FPuoUHIdsym",
   "metadata": {
    "colab": {
     "base_uri": "https://localhost:8080/"
    },
    "id": "7FPuoUHIdsym",
    "outputId": "9fad41ff-8f43-4205-917c-54892d9cddf5"
   },
   "outputs": [
    {
     "name": "stdout",
     "output_type": "stream",
     "text": [
      "<class 'pandas.core.series.Series'>\n",
      "RangeIndex: 14740 entries, 0 to 14739\n",
      "Series name: on_hold\n",
      "Non-Null Count  Dtype\n",
      "--------------  -----\n",
      "14740 non-null  int64\n",
      "dtypes: int64(1)\n",
      "memory usage: 115.3 KB\n"
     ]
    }
   ],
   "source": [
    "anidf[\"on_hold\"].info()"
   ]
  },
  {
   "cell_type": "markdown",
   "id": "_RIWnKhbdv3V",
   "metadata": {
    "id": "_RIWnKhbdv3V"
   },
   "source": [
    "## plan_to_watch\n"
   ]
  },
  {
   "cell_type": "code",
   "execution_count": 110,
   "id": "o8EBaXX6eWpc",
   "metadata": {
    "colab": {
     "base_uri": "https://localhost:8080/"
    },
    "id": "o8EBaXX6eWpc",
    "outputId": "2ec9292f-f8cc-468c-92ce-1234e0dafcb3"
   },
   "outputs": [
    {
     "name": "stdout",
     "output_type": "stream",
     "text": [
      "<class 'pandas.core.series.Series'>\n",
      "RangeIndex: 14740 entries, 0 to 14739\n",
      "Series name: plan_to_watch\n",
      "Non-Null Count  Dtype \n",
      "--------------  ----- \n",
      "14738 non-null  object\n",
      "dtypes: object(1)\n",
      "memory usage: 115.3+ KB\n"
     ]
    }
   ],
   "source": [
    "anidf[\"plan_to_watch\"].info()"
   ]
  },
  {
   "cell_type": "code",
   "execution_count": 111,
   "id": "ZCGoZ7-CeYMe",
   "metadata": {
    "colab": {
     "base_uri": "https://localhost:8080/"
    },
    "id": "ZCGoZ7-CeYMe",
    "outputId": "bf96ae24-33e1-4ba6-91ac-fabcbd8665bd"
   },
   "outputs": [
    {
     "data": {
      "text/plain": [
       "2"
      ]
     },
     "execution_count": 111,
     "metadata": {},
     "output_type": "execute_result"
    }
   ],
   "source": [
    "anidf[\"plan_to_watch\"].isna().sum()"
   ]
  },
  {
   "cell_type": "code",
   "execution_count": 112,
   "id": "S8cWykj3eZ3A",
   "metadata": {
    "id": "S8cWykj3eZ3A"
   },
   "outputs": [],
   "source": [
    "anidf[\"plan_to_watch\"] = anidf[\"plan_to_watch\"].fillna(\"0\")"
   ]
  },
  {
   "cell_type": "code",
   "execution_count": 113,
   "id": "DbovuUkNedxx",
   "metadata": {
    "id": "DbovuUkNedxx"
   },
   "outputs": [],
   "source": [
    "anidf[\"plan_to_watch\"] = anidf[\"plan_to_watch\"].apply(\n",
    "    lambda x: int(x.replace(\",\", \"\")) if len(x) > 0 else x\n",
    ")"
   ]
  },
  {
   "cell_type": "code",
   "execution_count": 114,
   "id": "SQLmPUYYehIw",
   "metadata": {
    "colab": {
     "base_uri": "https://localhost:8080/"
    },
    "id": "SQLmPUYYehIw",
    "outputId": "7eca7258-a5df-4856-9e89-4151501aeb53"
   },
   "outputs": [
    {
     "name": "stdout",
     "output_type": "stream",
     "text": [
      "<class 'pandas.core.series.Series'>\n",
      "RangeIndex: 14740 entries, 0 to 14739\n",
      "Series name: plan_to_watch\n",
      "Non-Null Count  Dtype\n",
      "--------------  -----\n",
      "14740 non-null  int64\n",
      "dtypes: int64(1)\n",
      "memory usage: 115.3 KB\n"
     ]
    }
   ],
   "source": [
    "anidf[\"plan_to_watch\"].info()"
   ]
  },
  {
   "cell_type": "markdown",
   "id": "nc0l7pm4epp9",
   "metadata": {
    "id": "nc0l7pm4epp9"
   },
   "source": [
    "## total\n"
   ]
  },
  {
   "cell_type": "code",
   "execution_count": 115,
   "id": "rktE9yzPewz0",
   "metadata": {
    "colab": {
     "base_uri": "https://localhost:8080/"
    },
    "id": "rktE9yzPewz0",
    "outputId": "4cf3516d-db6b-4274-8d99-5a661e97f543"
   },
   "outputs": [
    {
     "name": "stdout",
     "output_type": "stream",
     "text": [
      "<class 'pandas.core.series.Series'>\n",
      "RangeIndex: 14740 entries, 0 to 14739\n",
      "Series name: total\n",
      "Non-Null Count  Dtype \n",
      "--------------  ----- \n",
      "14738 non-null  object\n",
      "dtypes: object(1)\n",
      "memory usage: 115.3+ KB\n"
     ]
    }
   ],
   "source": [
    "anidf[\"total\"].info()"
   ]
  },
  {
   "cell_type": "code",
   "execution_count": 116,
   "id": "G16ZSqYeeyVx",
   "metadata": {
    "colab": {
     "base_uri": "https://localhost:8080/"
    },
    "id": "G16ZSqYeeyVx",
    "outputId": "dc1f0a21-ab86-4194-f971-2a455f620b08"
   },
   "outputs": [
    {
     "data": {
      "text/plain": [
       "2"
      ]
     },
     "execution_count": 116,
     "metadata": {},
     "output_type": "execute_result"
    }
   ],
   "source": [
    "anidf[\"total\"].isna().sum()"
   ]
  },
  {
   "cell_type": "code",
   "execution_count": 117,
   "id": "rsT4BrvGezvg",
   "metadata": {
    "id": "rsT4BrvGezvg"
   },
   "outputs": [],
   "source": [
    "anidf[\"total\"] = anidf[\"total\"].fillna(\"0\")"
   ]
  },
  {
   "cell_type": "code",
   "execution_count": 118,
   "id": "2Bb3lG-fe1io",
   "metadata": {
    "id": "2Bb3lG-fe1io"
   },
   "outputs": [],
   "source": [
    "anidf[\"total\"] = anidf[\"total\"].apply(\n",
    "    lambda x: int(x.replace(\",\", \"\")) if len(x) > 0 else x\n",
    ")"
   ]
  },
  {
   "cell_type": "code",
   "execution_count": 119,
   "id": "pB32lQWne32i",
   "metadata": {
    "colab": {
     "base_uri": "https://localhost:8080/"
    },
    "id": "pB32lQWne32i",
    "outputId": "66119c2b-c074-4fcd-f337-0356d9aff727"
   },
   "outputs": [
    {
     "name": "stdout",
     "output_type": "stream",
     "text": [
      "<class 'pandas.core.series.Series'>\n",
      "RangeIndex: 14740 entries, 0 to 14739\n",
      "Series name: total\n",
      "Non-Null Count  Dtype\n",
      "--------------  -----\n",
      "14740 non-null  int64\n",
      "dtypes: int64(1)\n",
      "memory usage: 115.3 KB\n"
     ]
    }
   ],
   "source": [
    "anidf[\"total\"].info()"
   ]
  },
  {
   "cell_type": "markdown",
   "id": "rKO6i_tge5NP",
   "metadata": {
    "id": "rKO6i_tge5NP"
   },
   "source": [
    "## scoredby 1-10\n"
   ]
  },
  {
   "cell_type": "code",
   "execution_count": 120,
   "id": "pohX3tncfAh9",
   "metadata": {
    "id": "pohX3tncfAh9"
   },
   "outputs": [],
   "source": [
    "for i in range(1, 11):\n",
    "    score = f\"scored_{i}_by\"\n",
    "    anidf[score] = anidf[score].fillna(0)"
   ]
  },
  {
   "cell_type": "code",
   "execution_count": 121,
   "id": "zREc_51IgcZZ",
   "metadata": {
    "colab": {
     "base_uri": "https://localhost:8080/"
    },
    "id": "zREc_51IgcZZ",
    "outputId": "a9e6e7aa-2232-42c4-f4ec-d5dae9366b8f"
   },
   "outputs": [
    {
     "name": "stdout",
     "output_type": "stream",
     "text": [
      "<class 'pandas.core.frame.DataFrame'>\n",
      "RangeIndex: 14740 entries, 0 to 14739\n",
      "Data columns (total 36 columns):\n",
      " #   Column           Non-Null Count  Dtype  \n",
      "---  ------           --------------  -----  \n",
      " 0   name_english     14740 non-null  object \n",
      " 1   name             14740 non-null  object \n",
      " 2   score            14740 non-null  object \n",
      " 3   ranked           14740 non-null  int64  \n",
      " 4   popularity       14740 non-null  int64  \n",
      " 5   members          14740 non-null  int64  \n",
      " 6   synopsis         14740 non-null  object \n",
      " 7   synonyms         14740 non-null  object \n",
      " 8   type_of          14740 non-null  object \n",
      " 9   total_episodes   14613 non-null  float64\n",
      " 10  premiered        14740 non-null  object \n",
      " 11  studios          14740 non-null  object \n",
      " 12  genres           14740 non-null  object \n",
      " 13  demographic      5115 non-null   object \n",
      " 14  duration_per_ep  14740 non-null  object \n",
      " 15  rating           14740 non-null  object \n",
      " 16  scored_by        12046 non-null  float64\n",
      " 17  favorites        14740 non-null  int64  \n",
      " 18  aired            14740 non-null  object \n",
      " 19  source           14740 non-null  object \n",
      " 20  watching         14740 non-null  int64  \n",
      " 21  completed        14740 non-null  int64  \n",
      " 22  on_hold          14740 non-null  int64  \n",
      " 23  dropped          14738 non-null  object \n",
      " 24  plan_to_watch    14740 non-null  int64  \n",
      " 25  total            14740 non-null  int64  \n",
      " 26  scored_10_by     14740 non-null  float64\n",
      " 27  scored_9_by      14740 non-null  float64\n",
      " 28  scored_8_by      14740 non-null  float64\n",
      " 29  scored_7_by      14740 non-null  float64\n",
      " 30  scored_6_by      14740 non-null  float64\n",
      " 31  scored_5_by      14740 non-null  float64\n",
      " 32  scored_4_by      14740 non-null  float64\n",
      " 33  scored_3_by      14740 non-null  float64\n",
      " 34  scored_2_by      14740 non-null  float64\n",
      " 35  scored_1_by      14740 non-null  float64\n",
      "dtypes: float64(12), int64(9), object(15)\n",
      "memory usage: 4.0+ MB\n"
     ]
    }
   ],
   "source": [
    "anidf.info()"
   ]
  },
  {
   "cell_type": "code",
   "execution_count": 123,
   "id": "y4xMdcgtgfPN",
   "metadata": {
    "id": "y4xMdcgtgfPN"
   },
   "outputs": [],
   "source": [
    "anidf.to_csv(\n",
    "    r\"C:\\Users\\HP\\Desktop\\Anirec\\Anirec\\data\\preprocessed_ani_data.csv\", index=True\n",
    ")"
   ]
  },
  {
   "cell_type": "code",
   "execution_count": null,
   "id": "12c776e6",
   "metadata": {},
   "outputs": [],
   "source": []
  }
 ],
 "metadata": {
  "colab": {
   "provenance": []
  },
  "kernelspec": {
   "display_name": "Python 3 (ipykernel)",
   "language": "python",
   "name": "python3"
  },
  "language_info": {
   "codemirror_mode": {
    "name": "ipython",
    "version": 3
   },
   "file_extension": ".py",
   "mimetype": "text/x-python",
   "name": "python",
   "nbconvert_exporter": "python",
   "pygments_lexer": "ipython3",
   "version": "3.11.5"
  }
 },
 "nbformat": 4,
 "nbformat_minor": 5
}
