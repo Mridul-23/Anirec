{
 "cells": [
  {
   "cell_type": "markdown",
   "metadata": {},
   "source": [
    "# This is the notebook where w2v model will be trained :)"
   ]
  },
  {
   "cell_type": "markdown",
   "metadata": {},
   "source": [
    "### importing modules"
   ]
  },
  {
   "cell_type": "code",
   "execution_count": 120,
   "metadata": {},
   "outputs": [],
   "source": [
    "import re\n",
    "import ast\n",
    "import nltk\n",
    "import gensim\n",
    "import numpy as np\n",
    "import pandas as pd\n",
    "from nltk.corpus import stopwords\n",
    "from nltk.tokenize import word_tokenize\n",
    "from gensim.models import Word2Vec\n",
    "from gensim.utils import simple_preprocess"
   ]
  },
  {
   "cell_type": "code",
   "execution_count": 121,
   "metadata": {},
   "outputs": [
    {
     "name": "stderr",
     "output_type": "stream",
     "text": [
      "[nltk_data] Downloading package stopwords to\n",
      "[nltk_data]     C:\\Users\\HP\\AppData\\Roaming\\nltk_data...\n",
      "[nltk_data]   Package stopwords is already up-to-date!\n",
      "[nltk_data] Downloading package punkt to\n",
      "[nltk_data]     C:\\Users\\HP\\AppData\\Roaming\\nltk_data...\n",
      "[nltk_data]   Package punkt is already up-to-date!\n"
     ]
    },
    {
     "data": {
      "text/plain": [
       "True"
      ]
     },
     "execution_count": 121,
     "metadata": {},
     "output_type": "execute_result"
    }
   ],
   "source": [
    "nltk.download('stopwords')\n",
    "nltk.download('punkt')"
   ]
  },
  {
   "cell_type": "markdown",
   "metadata": {},
   "source": [
    "### loading and preparing data"
   ]
  },
  {
   "cell_type": "code",
   "execution_count": 122,
   "metadata": {},
   "outputs": [],
   "source": [
    "anidf = pd.read_csv(r\"C:\\Users\\HP\\Desktop\\Anirec\\Anirec\\data\\preprocessed_ani_data.csv\")"
   ]
  },
  {
   "cell_type": "code",
   "execution_count": 123,
   "metadata": {},
   "outputs": [
    {
     "name": "stdout",
     "output_type": "stream",
     "text": [
      "<class 'pandas.core.frame.DataFrame'>\n",
      "RangeIndex: 14740 entries, 0 to 14739\n",
      "Data columns (total 3 columns):\n",
      " #   Column       Non-Null Count  Dtype \n",
      "---  ------       --------------  ----- \n",
      " 0   synopsis     14740 non-null  object\n",
      " 1   genres       14740 non-null  object\n",
      " 2   demographic  5115 non-null   object\n",
      "dtypes: object(3)\n",
      "memory usage: 345.6+ KB\n"
     ]
    }
   ],
   "source": [
    "anidf[['synopsis', 'genres', 'demographic']].info()"
   ]
  },
  {
   "cell_type": "code",
   "execution_count": 124,
   "metadata": {},
   "outputs": [
    {
     "data": {
      "text/html": [
       "<div>\n",
       "<style scoped>\n",
       "    .dataframe tbody tr th:only-of-type {\n",
       "        vertical-align: middle;\n",
       "    }\n",
       "\n",
       "    .dataframe tbody tr th {\n",
       "        vertical-align: top;\n",
       "    }\n",
       "\n",
       "    .dataframe thead th {\n",
       "        text-align: right;\n",
       "    }\n",
       "</style>\n",
       "<table border=\"1\" class=\"dataframe\">\n",
       "  <thead>\n",
       "    <tr style=\"text-align: right;\">\n",
       "      <th></th>\n",
       "      <th>synopsis</th>\n",
       "      <th>genres</th>\n",
       "      <th>demographic</th>\n",
       "    </tr>\n",
       "  </thead>\n",
       "  <tbody>\n",
       "    <tr>\n",
       "      <th>0</th>\n",
       "      <td>Yabuki Joe is left downhearted and hopeless af...</td>\n",
       "      <td>['Historical', 'Sports', 'Josei', 'Drama', 'Ad...</td>\n",
       "      <td>Shounen</td>\n",
       "    </tr>\n",
       "    <tr>\n",
       "      <th>1</th>\n",
       "      <td>Ghostly, primordial beings known as Mushi cont...</td>\n",
       "      <td>['Supernatural', 'Slice of Life', 'Action', 'A...</td>\n",
       "      <td>Seinen</td>\n",
       "    </tr>\n",
       "    <tr>\n",
       "      <th>2</th>\n",
       "      <td>Following the conclusion of the large-scale co...</td>\n",
       "      <td>['Historical', 'Sports', 'Action', 'Drama', 'S...</td>\n",
       "      <td>Seinen</td>\n",
       "    </tr>\n",
       "    <tr>\n",
       "      <th>3</th>\n",
       "      <td>Young Thorfinn grew up listening to the storie...</td>\n",
       "      <td>['Fantasy', 'Historical', 'Adventure', 'Action...</td>\n",
       "      <td>Seinen</td>\n",
       "    </tr>\n",
       "    <tr>\n",
       "      <th>4</th>\n",
       "      <td>Crime is timeless. By the year 2071, humanity ...</td>\n",
       "      <td>['Seinen', 'Action', 'Award Winning', 'Science...</td>\n",
       "      <td>NaN</td>\n",
       "    </tr>\n",
       "  </tbody>\n",
       "</table>\n",
       "</div>"
      ],
      "text/plain": [
       "                                            synopsis  \\\n",
       "0  Yabuki Joe is left downhearted and hopeless af...   \n",
       "1  Ghostly, primordial beings known as Mushi cont...   \n",
       "2  Following the conclusion of the large-scale co...   \n",
       "3  Young Thorfinn grew up listening to the storie...   \n",
       "4  Crime is timeless. By the year 2071, humanity ...   \n",
       "\n",
       "                                              genres demographic  \n",
       "0  ['Historical', 'Sports', 'Josei', 'Drama', 'Ad...     Shounen  \n",
       "1  ['Supernatural', 'Slice of Life', 'Action', 'A...      Seinen  \n",
       "2  ['Historical', 'Sports', 'Action', 'Drama', 'S...      Seinen  \n",
       "3  ['Fantasy', 'Historical', 'Adventure', 'Action...      Seinen  \n",
       "4  ['Seinen', 'Action', 'Award Winning', 'Science...         NaN  "
      ]
     },
     "execution_count": 124,
     "metadata": {},
     "output_type": "execute_result"
    }
   ],
   "source": [
    "anidf[['synopsis', 'genres', 'demographic']].head()"
   ]
  },
  {
   "cell_type": "code",
   "execution_count": 125,
   "metadata": {},
   "outputs": [],
   "source": [
    "def convert_to_listg(x):\n",
    "    try:\n",
    "        return ', '.join(ast.literal_eval(x))\n",
    "    except (ValueError, SyntaxError, TypeError):\n",
    "        return np.nan\n",
    "\n",
    "anidf['genres'] = anidf['genres'].apply(convert_to_listg)"
   ]
  },
  {
   "cell_type": "code",
   "execution_count": 126,
   "metadata": {},
   "outputs": [],
   "source": [
    "def convert_to_list_d(x):\n",
    "    if type(x) != float:\n",
    "        return ', ' + ''.join(x)\n",
    "    else:\n",
    "        return ' '\n",
    "    \n",
    "anidf['demographic'] = anidf['demographic'].apply(convert_to_list_d)"
   ]
  },
  {
   "cell_type": "code",
   "execution_count": 127,
   "metadata": {},
   "outputs": [],
   "source": [
    "anidf['demographic'] = anidf['demographic'].fillna(' ').astype(str)"
   ]
  },
  {
   "cell_type": "code",
   "execution_count": 128,
   "metadata": {},
   "outputs": [
    {
     "name": "stdout",
     "output_type": "stream",
     "text": [
      "<class 'pandas.core.frame.DataFrame'>\n",
      "RangeIndex: 14740 entries, 0 to 14739\n",
      "Data columns (total 2 columns):\n",
      " #   Column       Non-Null Count  Dtype \n",
      "---  ------       --------------  ----- \n",
      " 0   genres       14740 non-null  object\n",
      " 1   demographic  14740 non-null  object\n",
      "dtypes: object(2)\n",
      "memory usage: 230.4+ KB\n"
     ]
    }
   ],
   "source": [
    "anidf[['genres', 'demographic']].info()"
   ]
  },
  {
   "cell_type": "code",
   "execution_count": 129,
   "metadata": {},
   "outputs": [
    {
     "data": {
      "text/html": [
       "<div>\n",
       "<style scoped>\n",
       "    .dataframe tbody tr th:only-of-type {\n",
       "        vertical-align: middle;\n",
       "    }\n",
       "\n",
       "    .dataframe tbody tr th {\n",
       "        vertical-align: top;\n",
       "    }\n",
       "\n",
       "    .dataframe thead th {\n",
       "        text-align: right;\n",
       "    }\n",
       "</style>\n",
       "<table border=\"1\" class=\"dataframe\">\n",
       "  <thead>\n",
       "    <tr style=\"text-align: right;\">\n",
       "      <th></th>\n",
       "      <th>genres</th>\n",
       "      <th>demographic</th>\n",
       "      <th>synopsis</th>\n",
       "    </tr>\n",
       "  </thead>\n",
       "  <tbody>\n",
       "    <tr>\n",
       "      <th>0</th>\n",
       "      <td>Historical, Sports, Josei, Drama, Adventure</td>\n",
       "      <td>, Shounen</td>\n",
       "      <td>Yabuki Joe is left downhearted and hopeless af...</td>\n",
       "    </tr>\n",
       "    <tr>\n",
       "      <th>1</th>\n",
       "      <td>Supernatural, Slice of Life, Action, Adventure...</td>\n",
       "      <td>, Seinen</td>\n",
       "      <td>Ghostly, primordial beings known as Mushi cont...</td>\n",
       "    </tr>\n",
       "    <tr>\n",
       "      <th>2</th>\n",
       "      <td>Historical, Sports, Action, Drama, Shounen, Ma...</td>\n",
       "      <td>, Seinen</td>\n",
       "      <td>Following the conclusion of the large-scale co...</td>\n",
       "    </tr>\n",
       "    <tr>\n",
       "      <th>3</th>\n",
       "      <td>Fantasy, Historical, Adventure, Action, Drama,...</td>\n",
       "      <td>, Seinen</td>\n",
       "      <td>Young Thorfinn grew up listening to the storie...</td>\n",
       "    </tr>\n",
       "    <tr>\n",
       "      <th>4</th>\n",
       "      <td>Seinen, Action, Award Winning, Science Fiction...</td>\n",
       "      <td></td>\n",
       "      <td>Crime is timeless. By the year 2071, humanity ...</td>\n",
       "    </tr>\n",
       "  </tbody>\n",
       "</table>\n",
       "</div>"
      ],
      "text/plain": [
       "                                              genres demographic  \\\n",
       "0        Historical, Sports, Josei, Drama, Adventure   , Shounen   \n",
       "1  Supernatural, Slice of Life, Action, Adventure...    , Seinen   \n",
       "2  Historical, Sports, Action, Drama, Shounen, Ma...    , Seinen   \n",
       "3  Fantasy, Historical, Adventure, Action, Drama,...    , Seinen   \n",
       "4  Seinen, Action, Award Winning, Science Fiction...               \n",
       "\n",
       "                                            synopsis  \n",
       "0  Yabuki Joe is left downhearted and hopeless af...  \n",
       "1  Ghostly, primordial beings known as Mushi cont...  \n",
       "2  Following the conclusion of the large-scale co...  \n",
       "3  Young Thorfinn grew up listening to the storie...  \n",
       "4  Crime is timeless. By the year 2071, humanity ...  "
      ]
     },
     "execution_count": 129,
     "metadata": {},
     "output_type": "execute_result"
    }
   ],
   "source": [
    "anidf[['genres', 'demographic', 'synopsis']].head()"
   ]
  },
  {
   "cell_type": "code",
   "execution_count": 130,
   "metadata": {},
   "outputs": [],
   "source": [
    "def combine_text(row):\n",
    "    synopsis = row['synopsis'] if pd.notna(row['synopsis']) else ''\n",
    "    genres = row['genres'] if pd.notna(row['genres']) else ''\n",
    "    demographic = row['demographic'] if pd.notna(row['demographic']) else ''\n",
    "    return f\"{synopsis} {genres} {demographic}.\""
   ]
  },
  {
   "cell_type": "code",
   "execution_count": 131,
   "metadata": {},
   "outputs": [],
   "source": [
    "anidf['combined_text'] = anidf.apply(combine_text, axis=1)"
   ]
  },
  {
   "cell_type": "code",
   "execution_count": 132,
   "metadata": {},
   "outputs": [
    {
     "data": {
      "text/plain": [
       "0        Yabuki Joe is left downhearted and hopeless af...\n",
       "1        Ghostly, primordial beings known as Mushi cont...\n",
       "2        Following the conclusion of the large-scale co...\n",
       "3        Young Thorfinn grew up listening to the storie...\n",
       "4        Crime is timeless. By the year 2071, humanity ...\n",
       "                               ...                        \n",
       "14735    Queen Mandora ruled Carcosa Wonderland, becaus...\n",
       "14736    Jing-Ju Cats is a series filled with comedy, m...\n",
       "14737    The main character is a little sheep-looking m...\n",
       "14738    Kenichi is a 1st year middle school student wh...\n",
       "14739    70 million years ago dinosaurs ruled the Korea...\n",
       "Name: combined_text, Length: 14740, dtype: object"
      ]
     },
     "execution_count": 132,
     "metadata": {},
     "output_type": "execute_result"
    }
   ],
   "source": [
    "anidf['combined_text']"
   ]
  },
  {
   "cell_type": "code",
   "execution_count": 133,
   "metadata": {},
   "outputs": [],
   "source": [
    "anidf = anidf['combined_text']"
   ]
  },
  {
   "cell_type": "code",
   "execution_count": 134,
   "metadata": {},
   "outputs": [
    {
     "data": {
      "text/plain": [
       "14667    Short stories with no excitement, no punchline...\n",
       "9707     Hiroshi Zenno is an average high school studen...\n",
       "12637    An educational film about teamwork in Japan. I...\n",
       "2967     Nagisa Aoi begins her new school life as a tra...\n",
       "2295     Despite having seemingly quelled the war betwe...\n",
       "Name: combined_text, dtype: object"
      ]
     },
     "execution_count": 134,
     "metadata": {},
     "output_type": "execute_result"
    }
   ],
   "source": [
    "anidf.sample(5)"
   ]
  },
  {
   "cell_type": "code",
   "execution_count": 135,
   "metadata": {},
   "outputs": [],
   "source": [
    "def preprocess_text(text):\n",
    "    # Convert text to lowercase\n",
    "    text = text.lower()\n",
    "    \n",
    "    # Remove numbers\n",
    "    text = re.sub('\\d+', '', text)\n",
    "    \n",
    "    # Remove punctuation\n",
    "    text = re.sub('[^\\w\\s]', '', text)\n",
    "    \n",
    "    # Tokenize the text into words\n",
    "    words = word_tokenize(text)\n",
    "    \n",
    "    # Remove stopwords\n",
    "    words = [word for word in words if word not in stopwords.words('english')]\n",
    "    \n",
    "    return words"
   ]
  },
  {
   "cell_type": "code",
   "execution_count": 136,
   "metadata": {},
   "outputs": [],
   "source": [
    "corpus = anidf.apply(preprocess_text).tolist()"
   ]
  },
  {
   "cell_type": "markdown",
   "metadata": {},
   "source": [
    "### builiding and training the word2vec embedding model"
   ]
  },
  {
   "cell_type": "code",
   "execution_count": 137,
   "metadata": {},
   "outputs": [],
   "source": [
    "model = Word2Vec(\n",
    "    window=6,\n",
    "    workers=8,\n",
    "    vector_size=150,\n",
    "    min_count=2,\n",
    "    sg=1,\n",
    "    sample=0.004\n",
    ")"
   ]
  },
  {
   "cell_type": "code",
   "execution_count": 138,
   "metadata": {},
   "outputs": [],
   "source": [
    "model.build_vocab(corpus, progress_per=1000)"
   ]
  },
  {
   "cell_type": "code",
   "execution_count": 139,
   "metadata": {},
   "outputs": [
    {
     "data": {
      "text/plain": [
       "(6998980, 7246340)"
      ]
     },
     "execution_count": 139,
     "metadata": {},
     "output_type": "execute_result"
    }
   ],
   "source": [
    "model.train(corpus, total_examples=len(corpus), epochs=10)"
   ]
  },
  {
   "cell_type": "markdown",
   "metadata": {},
   "source": [
    "**Mannually Testing the model**"
   ]
  },
  {
   "cell_type": "code",
   "execution_count": 140,
   "metadata": {},
   "outputs": [
    {
     "data": {
      "text/plain": [
       "[('zeraora', 0.7912029027938843),\n",
       " ('pikachu', 0.7626437544822693),\n",
       " ('meowth', 0.7567713856697083),\n",
       " ('piplup', 0.7548236846923828),\n",
       " ('pichu', 0.7404292225837708),\n",
       " ('poké', 0.7351683974266052),\n",
       " ('pokémon', 0.7280144691467285),\n",
       " ('wobbuffet', 0.7261454463005066),\n",
       " ('trainers', 0.7220701575279236),\n",
       " ('anpanman', 0.7193007469177246)]"
      ]
     },
     "execution_count": 140,
     "metadata": {},
     "output_type": "execute_result"
    }
   ],
   "source": [
    "model.wv.most_similar('pokemon')"
   ]
  },
  {
   "cell_type": "code",
   "execution_count": 141,
   "metadata": {},
   "outputs": [
    {
     "data": {
      "text/plain": [
       "[('luffy', 0.7926630973815918),\n",
       " ('pirates', 0.7568743228912354),\n",
       " ('usopp', 0.7533671259880066),\n",
       " ('hat', 0.7481371164321899),\n",
       " ('sanji', 0.7412232756614685),\n",
       " ('arlong', 0.7410892844200134),\n",
       " ('nami', 0.7227644324302673),\n",
       " ('zoro', 0.7186127305030823),\n",
       " ('sunken', 0.705796480178833),\n",
       " ('voyage', 0.7039783000946045)]"
      ]
     },
     "execution_count": 141,
     "metadata": {},
     "output_type": "execute_result"
    }
   ],
   "source": [
    "model.wv.most_similar(positive=['pirate', 'straw', 'hats'], negative=['girl'])"
   ]
  },
  {
   "cell_type": "code",
   "execution_count": 142,
   "metadata": {},
   "outputs": [
    {
     "data": {
      "text/plain": [
       "'bowl'"
      ]
     },
     "execution_count": 142,
     "metadata": {},
     "output_type": "execute_result"
    }
   ],
   "source": [
    "model.wv.doesnt_match(['flame', 'magic', 'bowl', 'book', 'mana'])"
   ]
  },
  {
   "cell_type": "code",
   "execution_count": 143,
   "metadata": {},
   "outputs": [],
   "source": [
    "model.wv.save_word2vec_format(r\"C:\\Users\\HP\\Desktop\\Anirec\\Anirec\\data\\word2vec_model.bin\", binary=True)"
   ]
  },
  {
   "cell_type": "code",
   "execution_count": null,
   "metadata": {},
   "outputs": [],
   "source": []
  }
 ],
 "metadata": {
  "kernelspec": {
   "display_name": "Python 3 (ipykernel)",
   "language": "python",
   "name": "python3"
  },
  "language_info": {
   "codemirror_mode": {
    "name": "ipython",
    "version": 3
   },
   "file_extension": ".py",
   "mimetype": "text/x-python",
   "name": "python",
   "nbconvert_exporter": "python",
   "pygments_lexer": "ipython3",
   "version": "3.11.5"
  }
 },
 "nbformat": 4,
 "nbformat_minor": 2
}
